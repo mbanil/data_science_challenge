{
 "cells": [
  {
   "cell_type": "markdown",
   "metadata": {},
   "source": [
    "# Importing Required Libraries"
   ]
  },
  {
   "cell_type": "code",
   "execution_count": 1,
   "metadata": {},
   "outputs": [],
   "source": [
    "import pandas as pd\n",
    "import pandas_profiling as pp\n",
    "import plotly.express as px\n",
    "import numpy as np\n",
    "\n",
    "from sklearn.model_selection import train_test_split\n",
    "\n",
    "from sklearn.tree import DecisionTreeClassifier\n",
    "from sklearn.model_selection import GridSearchCV\n",
    "from sklearn.ensemble import RandomForestClassifier\n",
    "from imblearn.ensemble import BalancedRandomForestClassifier\n",
    "from sklearn.neighbors import KNeighborsClassifier\n",
    "from catboost import CatBoostClassifier\n",
    "from xgboost import XGBClassifier\n",
    "\n",
    "from sklearn.metrics import accuracy_score\n",
    "from sklearn.metrics import classification_report\n",
    "from sklearn.metrics import confusion_matrix\n",
    "from sklearn.ensemble import RandomForestClassifier"
   ]
  },
  {
   "cell_type": "markdown",
   "metadata": {},
   "source": [
    "# Load and view dataset"
   ]
  },
  {
   "cell_type": "code",
   "execution_count": 2,
   "metadata": {},
   "outputs": [],
   "source": [
    "def data_extraction(file_name):\n",
    "    if os.path.isfile(file_name):\n",
    "        df = pd.read_csv(file_name)\n",
    "        return df\n",
    "    raise FileNotFoundError(errno.ENOENT, os.strerror(errno.ENOENT), file_name)"
   ]
  },
  {
   "cell_type": "code",
   "execution_count": 3,
   "metadata": {},
   "outputs": [
    {
     "data": {
      "text/html": [
       "<div>\n",
       "<style scoped>\n",
       "    .dataframe tbody tr th:only-of-type {\n",
       "        vertical-align: middle;\n",
       "    }\n",
       "\n",
       "    .dataframe tbody tr th {\n",
       "        vertical-align: top;\n",
       "    }\n",
       "\n",
       "    .dataframe thead th {\n",
       "        text-align: right;\n",
       "    }\n",
       "</style>\n",
       "<table border=\"1\" class=\"dataframe\">\n",
       "  <thead>\n",
       "    <tr style=\"text-align: right;\">\n",
       "      <th></th>\n",
       "      <th>months_as_customer</th>\n",
       "      <th>age</th>\n",
       "      <th>policy_number</th>\n",
       "      <th>policy_bind_date</th>\n",
       "      <th>policy_state</th>\n",
       "      <th>policy_csl</th>\n",
       "      <th>policy_deductable</th>\n",
       "      <th>policy_annual_premium</th>\n",
       "      <th>umbrella_limit</th>\n",
       "      <th>insured_zip</th>\n",
       "      <th>...</th>\n",
       "      <th>witnesses</th>\n",
       "      <th>police_report_available</th>\n",
       "      <th>total_claim_amount</th>\n",
       "      <th>injury_claim</th>\n",
       "      <th>property_claim</th>\n",
       "      <th>vehicle_claim</th>\n",
       "      <th>auto_make</th>\n",
       "      <th>auto_model</th>\n",
       "      <th>auto_year</th>\n",
       "      <th>fraud_reported</th>\n",
       "    </tr>\n",
       "  </thead>\n",
       "  <tbody>\n",
       "    <tr>\n",
       "      <th>0</th>\n",
       "      <td>328</td>\n",
       "      <td>48</td>\n",
       "      <td>521585</td>\n",
       "      <td>17-10-2014</td>\n",
       "      <td>OH</td>\n",
       "      <td>250/500</td>\n",
       "      <td>1000</td>\n",
       "      <td>1406.91</td>\n",
       "      <td>0</td>\n",
       "      <td>466132</td>\n",
       "      <td>...</td>\n",
       "      <td>2</td>\n",
       "      <td>YES</td>\n",
       "      <td>71610</td>\n",
       "      <td>6510</td>\n",
       "      <td>13020</td>\n",
       "      <td>52080</td>\n",
       "      <td>Saab</td>\n",
       "      <td>92x</td>\n",
       "      <td>2004</td>\n",
       "      <td>Y</td>\n",
       "    </tr>\n",
       "    <tr>\n",
       "      <th>1</th>\n",
       "      <td>228</td>\n",
       "      <td>42</td>\n",
       "      <td>342868</td>\n",
       "      <td>27-06-2006</td>\n",
       "      <td>IN</td>\n",
       "      <td>250/500</td>\n",
       "      <td>2000</td>\n",
       "      <td>1197.22</td>\n",
       "      <td>5000000</td>\n",
       "      <td>468176</td>\n",
       "      <td>...</td>\n",
       "      <td>0</td>\n",
       "      <td>?</td>\n",
       "      <td>5070</td>\n",
       "      <td>780</td>\n",
       "      <td>780</td>\n",
       "      <td>3510</td>\n",
       "      <td>Mercedes</td>\n",
       "      <td>E400</td>\n",
       "      <td>2007</td>\n",
       "      <td>Y</td>\n",
       "    </tr>\n",
       "    <tr>\n",
       "      <th>2</th>\n",
       "      <td>134</td>\n",
       "      <td>29</td>\n",
       "      <td>687698</td>\n",
       "      <td>06-09-2000</td>\n",
       "      <td>OH</td>\n",
       "      <td>100/300</td>\n",
       "      <td>2000</td>\n",
       "      <td>1413.14</td>\n",
       "      <td>5000000</td>\n",
       "      <td>430632</td>\n",
       "      <td>...</td>\n",
       "      <td>3</td>\n",
       "      <td>NO</td>\n",
       "      <td>34650</td>\n",
       "      <td>7700</td>\n",
       "      <td>3850</td>\n",
       "      <td>23100</td>\n",
       "      <td>Dodge</td>\n",
       "      <td>RAM</td>\n",
       "      <td>2007</td>\n",
       "      <td>N</td>\n",
       "    </tr>\n",
       "    <tr>\n",
       "      <th>3</th>\n",
       "      <td>256</td>\n",
       "      <td>41</td>\n",
       "      <td>227811</td>\n",
       "      <td>25-05-1990</td>\n",
       "      <td>IL</td>\n",
       "      <td>250/500</td>\n",
       "      <td>2000</td>\n",
       "      <td>1415.74</td>\n",
       "      <td>6000000</td>\n",
       "      <td>608117</td>\n",
       "      <td>...</td>\n",
       "      <td>2</td>\n",
       "      <td>NO</td>\n",
       "      <td>63400</td>\n",
       "      <td>6340</td>\n",
       "      <td>6340</td>\n",
       "      <td>50720</td>\n",
       "      <td>Chevrolet</td>\n",
       "      <td>Tahoe</td>\n",
       "      <td>2014</td>\n",
       "      <td>Y</td>\n",
       "    </tr>\n",
       "    <tr>\n",
       "      <th>4</th>\n",
       "      <td>228</td>\n",
       "      <td>44</td>\n",
       "      <td>367455</td>\n",
       "      <td>06-06-2014</td>\n",
       "      <td>IL</td>\n",
       "      <td>500/1000</td>\n",
       "      <td>1000</td>\n",
       "      <td>1583.91</td>\n",
       "      <td>6000000</td>\n",
       "      <td>610706</td>\n",
       "      <td>...</td>\n",
       "      <td>1</td>\n",
       "      <td>NO</td>\n",
       "      <td>6500</td>\n",
       "      <td>1300</td>\n",
       "      <td>650</td>\n",
       "      <td>4550</td>\n",
       "      <td>Accura</td>\n",
       "      <td>RSX</td>\n",
       "      <td>2009</td>\n",
       "      <td>N</td>\n",
       "    </tr>\n",
       "  </tbody>\n",
       "</table>\n",
       "<p>5 rows × 39 columns</p>\n",
       "</div>"
      ],
      "text/plain": [
       "   months_as_customer  age  policy_number policy_bind_date policy_state  \\\n",
       "0                 328   48         521585       17-10-2014           OH   \n",
       "1                 228   42         342868       27-06-2006           IN   \n",
       "2                 134   29         687698       06-09-2000           OH   \n",
       "3                 256   41         227811       25-05-1990           IL   \n",
       "4                 228   44         367455       06-06-2014           IL   \n",
       "\n",
       "  policy_csl  policy_deductable  policy_annual_premium  umbrella_limit  \\\n",
       "0    250/500               1000                1406.91               0   \n",
       "1    250/500               2000                1197.22         5000000   \n",
       "2    100/300               2000                1413.14         5000000   \n",
       "3    250/500               2000                1415.74         6000000   \n",
       "4   500/1000               1000                1583.91         6000000   \n",
       "\n",
       "   insured_zip  ... witnesses police_report_available total_claim_amount  \\\n",
       "0       466132  ...         2                     YES              71610   \n",
       "1       468176  ...         0                       ?               5070   \n",
       "2       430632  ...         3                      NO              34650   \n",
       "3       608117  ...         2                      NO              63400   \n",
       "4       610706  ...         1                      NO               6500   \n",
       "\n",
       "  injury_claim property_claim  vehicle_claim  auto_make auto_model auto_year  \\\n",
       "0         6510          13020          52080       Saab        92x      2004   \n",
       "1          780            780           3510   Mercedes       E400      2007   \n",
       "2         7700           3850          23100      Dodge        RAM      2007   \n",
       "3         6340           6340          50720  Chevrolet      Tahoe      2014   \n",
       "4         1300            650           4550     Accura        RSX      2009   \n",
       "\n",
       "  fraud_reported  \n",
       "0              Y  \n",
       "1              Y  \n",
       "2              N  \n",
       "3              Y  \n",
       "4              N  \n",
       "\n",
       "[5 rows x 39 columns]"
      ]
     },
     "execution_count": 3,
     "metadata": {},
     "output_type": "execute_result"
    }
   ],
   "source": [
    "df = data_extraction('./../src/data_repo/data/insurance_claims.csv')\n",
    "df.head()"
   ]
  },
  {
   "cell_type": "code",
   "execution_count": 4,
   "metadata": {},
   "outputs": [
    {
     "data": {
      "text/plain": [
       "(990, 39)"
      ]
     },
     "execution_count": 4,
     "metadata": {},
     "output_type": "execute_result"
    }
   ],
   "source": [
    "df.shape"
   ]
  },
  {
   "cell_type": "code",
   "execution_count": 5,
   "metadata": {},
   "outputs": [
    {
     "data": {
      "text/plain": [
       "months_as_customer               int64\n",
       "age                              int64\n",
       "policy_number                    int64\n",
       "policy_bind_date                object\n",
       "policy_state                    object\n",
       "policy_csl                      object\n",
       "policy_deductable                int64\n",
       "policy_annual_premium          float64\n",
       "umbrella_limit                   int64\n",
       "insured_zip                      int64\n",
       "insured_sex                     object\n",
       "insured_education_level         object\n",
       "insured_occupation              object\n",
       "insured_hobbies                 object\n",
       "insured_relationship            object\n",
       "capital-gains                    int64\n",
       "capital-loss                     int64\n",
       "incident_date                   object\n",
       "incident_type                   object\n",
       "collision_type                  object\n",
       "incident_severity               object\n",
       "authorities_contacted           object\n",
       "incident_state                  object\n",
       "incident_city                   object\n",
       "incident_location               object\n",
       "incident_hour_of_the_day         int64\n",
       "number_of_vehicles_involved      int64\n",
       "property_damage                 object\n",
       "bodily_injuries                  int64\n",
       "witnesses                        int64\n",
       "police_report_available         object\n",
       "total_claim_amount               int64\n",
       "injury_claim                     int64\n",
       "property_claim                   int64\n",
       "vehicle_claim                    int64\n",
       "auto_make                       object\n",
       "auto_model                      object\n",
       "auto_year                        int64\n",
       "fraud_reported                  object\n",
       "dtype: object"
      ]
     },
     "execution_count": 5,
     "metadata": {},
     "output_type": "execute_result"
    }
   ],
   "source": [
    "df.dtypes"
   ]
  },
  {
   "cell_type": "code",
   "execution_count": 7,
   "metadata": {},
   "outputs": [
    {
     "data": {
      "text/plain": [
       "Index(['months_as_customer', 'age', 'policy_number', 'policy_bind_date',\n",
       "       'policy_state', 'policy_csl', 'policy_deductable',\n",
       "       'policy_annual_premium', 'umbrella_limit', 'insured_zip', 'insured_sex',\n",
       "       'insured_education_level', 'insured_occupation', 'insured_hobbies',\n",
       "       'insured_relationship', 'capital-gains', 'capital-loss',\n",
       "       'incident_date', 'incident_type', 'collision_type', 'incident_severity',\n",
       "       'authorities_contacted', 'incident_state', 'incident_city',\n",
       "       'incident_location', 'incident_hour_of_the_day',\n",
       "       'number_of_vehicles_involved', 'property_damage', 'bodily_injuries',\n",
       "       'witnesses', 'police_report_available', 'total_claim_amount',\n",
       "       'injury_claim', 'property_claim', 'vehicle_claim', 'auto_make',\n",
       "       'auto_model', 'auto_year', 'fraud_reported'],\n",
       "      dtype='object')"
      ]
     },
     "execution_count": 7,
     "metadata": {},
     "output_type": "execute_result"
    }
   ],
   "source": [
    "df.columns"
   ]
  },
  {
   "cell_type": "code",
   "execution_count": 8,
   "metadata": {},
   "outputs": [
    {
     "data": {
      "text/plain": [
       "incident_location          1000\n",
       "policy_bind_date            951\n",
       "incident_date                60\n",
       "auto_model                   39\n",
       "insured_hobbies              20\n",
       "auto_make                    14\n",
       "insured_occupation           14\n",
       "insured_education_level       7\n",
       "incident_city                 7\n",
       "incident_state                7\n",
       "insured_relationship          6\n",
       "authorities_contacted         5\n",
       "collision_type                4\n",
       "incident_severity             4\n",
       "incident_type                 4\n",
       "policy_state                  3\n",
       "property_damage               3\n",
       "police_report_available       3\n",
       "policy_csl                    3\n",
       "insured_sex                   2\n",
       "fraud_reported                2\n",
       "dtype: int64"
      ]
     },
     "execution_count": 8,
     "metadata": {},
     "output_type": "execute_result"
    }
   ],
   "source": [
    "# Viewing categorical columns\n",
    "\n",
    "cat_cols = [col for col in df.columns if col not in df.describe().columns]\n",
    "\n",
    "df[cat_cols].nunique().sort_values(ascending=False)\n"
   ]
  },
  {
   "cell_type": "markdown",
   "metadata": {},
   "source": [
    "# Data Visualization"
   ]
  },
  {
   "cell_type": "markdown",
   "metadata": {},
   "source": [
    "### Pandas profiling to analyze and visualize the dataset"
   ]
  },
  {
   "cell_type": "code",
   "execution_count": 195,
   "metadata": {},
   "outputs": [
    {
     "name": "stderr",
     "output_type": "stream",
     "text": [
      "Summarize dataset: 100%|██████████| 248/248 [00:41<00:00,  6.01it/s, Completed]                                                 \n",
      "Generate report structure: 100%|██████████| 1/1 [00:17<00:00, 17.79s/it]\n",
      "Render HTML: 100%|██████████| 1/1 [00:19<00:00, 19.47s/it]\n",
      "Export report to file: 100%|██████████| 1/1 [00:00<00:00,  7.48it/s]\n"
     ]
    }
   ],
   "source": [
    "prof = pp.ProfileReport(df, title=\"Pandas Profiling Report\")\n",
    "prof.to_file('profile_report.html')\n"
   ]
  },
  {
   "cell_type": "code",
   "execution_count": 196,
   "metadata": {},
   "outputs": [
    {
     "data": {
      "text/plain": [
       "N    753\n",
       "Y    247\n",
       "Name: fraud_reported, dtype: int64"
      ]
     },
     "execution_count": 196,
     "metadata": {},
     "output_type": "execute_result"
    }
   ],
   "source": [
    "df['fraud_reported'].value_counts()"
   ]
  },
  {
   "cell_type": "markdown",
   "metadata": {},
   "source": [
    "### Visualizing the corelation between different numeric variables"
   ]
  },
  {
   "cell_type": "code",
   "execution_count": 197,
   "metadata": {},
   "outputs": [
    {
     "data": {
      "application/vnd.plotly.v1+json": {
       "config": {
        "plotlyServerURL": "https://plot.ly"
       },
       "data": [
        {
         "coloraxis": "coloraxis",
         "hovertemplate": "x: %{x}<br>y: %{y}<br>color: %{z}<extra></extra>",
         "name": "0",
         "texttemplate": "%{z}",
         "type": "heatmap",
         "x": [
          "months_as_customer",
          "age",
          "policy_number",
          "policy_deductable",
          "policy_annual_premium",
          "umbrella_limit",
          "insured_zip",
          "capital-gains",
          "capital-loss",
          "incident_hour_of_the_day",
          "number_of_vehicles_involved",
          "bodily_injuries",
          "witnesses",
          "total_claim_amount",
          "injury_claim",
          "property_claim",
          "vehicle_claim",
          "auto_year"
         ],
         "xaxis": "x",
         "y": [
          "months_as_customer",
          "age",
          "policy_number",
          "policy_deductable",
          "policy_annual_premium",
          "umbrella_limit",
          "insured_zip",
          "capital-gains",
          "capital-loss",
          "incident_hour_of_the_day",
          "number_of_vehicles_involved",
          "bodily_injuries",
          "witnesses",
          "total_claim_amount",
          "injury_claim",
          "property_claim",
          "vehicle_claim",
          "auto_year"
         ],
         "yaxis": "y",
         "z": [
          [
           1,
           0.9220983225789804,
           0.05755503298764638,
           0.02680740256492644,
           0.005017684448634771,
           0.01549843971620093,
           0.01789476100522017,
           0.006399318706054636,
           0.020209212437198525,
           0.07063925305066998,
           0.014735895488254467,
           -0.010161564419988944,
           0.05838278739006184,
           0.06210799657596277,
           0.06532878550954267,
           0.03493981037217865,
           0.06101287878576936,
           -0.00029236541533493186
          ],
          [
           0.9220983225789804,
           1,
           0.05941347834135288,
           0.029187621920511574,
           0.014403733198297861,
           0.018126265491994257,
           0.025604175773753384,
           -0.007075077548562903,
           0.007367735506389647,
           0.08716147803802227,
           0.022102111689942458,
           -0.015679086795352157,
           0.05235872140228032,
           0.06986262577609959,
           0.07552225887201743,
           0.06089752629982788,
           0.06258764198000882,
           0.001353608059067652
          ],
          [
           0.05755503298764638,
           0.05941347834135288,
           1,
           -0.006737531771920814,
           0.02256567609246526,
           0.008967542636962152,
           0.007083205914392949,
           0.009802475318884032,
           -0.005669096583837333,
           0.00011266294229905233,
           0.01343180045743804,
           -0.004558466822736902,
           -0.012661444423098819,
           -0.018009441683099595,
           -0.008761632000269071,
           -0.010678058694566558,
           -0.02018362568894633,
           -0.00018299186471662114
          ],
          [
           0.02680740256492644,
           0.029187621920511574,
           -0.006737531771920814,
           1,
           -0.0032454463760997385,
           0.01086950147235817,
           0.004544834139489226,
           0.03521171886594883,
           -0.023544075563802874,
           0.060935086661888266,
           0.05121441060019419,
           -0.022764582228023855,
           0.0666385202692962,
           0.02283931723945643,
           0.03910677219707252,
           0.06479153061791916,
           0.0052690878676787695,
           0.026104560848340248
          ],
          [
           0.005017684448634771,
           0.014403733198297861,
           0.02256567609246526,
           -0.0032454463760997385,
           1,
           -0.006246803029813733,
           0.032354162695725726,
           -0.013738395122285783,
           0.023546759242612524,
           -0.0015783548688129384,
           -0.045991249650810875,
           0.026779859283615565,
           0.0023316136235754566,
           0.009093729149528005,
           -0.017632685994798523,
           -0.011653879679118656,
           0.020246444007758654,
           -0.04922587585015118
          ],
          [
           0.01549843971620093,
           0.018126265491994257,
           0.008967542636962152,
           0.01086950147235817,
           -0.006246803029813733,
           1,
           0.01967136716201709,
           -0.04726824463685171,
           -0.02405564178860637,
           -0.02325688110831098,
           -0.02127014846610767,
           0.022742613719330767,
           -0.006738319975039304,
           -0.04034408921760288,
           -0.045411623240228294,
           -0.02379030666991932,
           -0.03858426298870231,
           0.00989327378661103
          ],
          [
           0.01789476100522017,
           0.025604175773753384,
           0.007083205914392949,
           0.004544834139489226,
           0.032354162695725726,
           0.01967136716201709,
           1,
           0.006302848314510392,
           0.04937189842504385,
           0.008274120992348491,
           0.027448058257177423,
           0.028695457404241252,
           0.0198052940345807,
           -0.03387335772186119,
           -0.017494816666049528,
           -0.006840626169814875,
           -0.04108348419110516,
           -0.03273570131321153
          ],
          [
           0.006399318706054636,
           -0.007075077548562903,
           0.009802475318884032,
           0.03521171886594883,
           -0.013738395122285783,
           -0.04726824463685171,
           0.006302848314510392,
           1,
           -0.04690444654009023,
           -0.016405612704074396,
           0.06164259934237781,
           0.055829194474678545,
           -0.017651375847817792,
           0.015980468068589083,
           0.025933696371508736,
           -0.0007790445414113306,
           0.015836196466461252,
           0.03139806185259973
          ],
          [
           0.020209212437198525,
           0.007367735506389647,
           -0.005669096583837333,
           -0.023544075563802874,
           0.023546759242612524,
           -0.02405564178860637,
           0.04937189842504385,
           -0.04690444654009023,
           1,
           -0.0250537480514206,
           -0.014894936765822082,
           -0.024418153824373706,
           -0.04132987270040405,
           -0.03606030389185209,
           -0.04605990630975065,
           -0.022863440817917042,
           -0.0326650970430251,
           -0.0566150226554259
          ],
          [
           0.07063925305066998,
           0.08716147803802227,
           0.00011266294229905233,
           0.060935086661888266,
           -0.0015783548688129384,
           -0.02325688110831098,
           0.008274120992348491,
           -0.016405612704074396,
           -0.0250537480514206,
           1,
           0.12079426662323124,
           -0.03456318209998997,
           0.006526916000822264,
           0.2177023870325214,
           0.16576791045002612,
           0.17953586162350574,
           0.2156256330226426,
           0.021367617906016212
          ],
          [
           0.014735895488254467,
           0.022102111689942458,
           0.01343180045743804,
           0.05121441060019419,
           -0.045991249650810875,
           -0.02127014846610767,
           0.027448058257177423,
           0.06164259934237781,
           -0.014894936765822082,
           0.12079426662323124,
           1,
           0.014030113641081456,
           -0.014668684044923516,
           0.27427768265936986,
           0.22464992102091874,
           0.2190841119718898,
           0.2693930380014259,
           0.034553681456766024
          ],
          [
           -0.010161564419988944,
           -0.015679086795352157,
           -0.004558466822736902,
           -0.022764582228023855,
           0.026779859283615565,
           0.022742613719330767,
           0.028695457404241252,
           0.055829194474678545,
           -0.024418153824373706,
           -0.03456318209998997,
           0.014030113641081456,
           1,
           -0.005605558277451288,
           0.047092935143762206,
           0.04731868943801604,
           0.03974936846720905,
           0.04344883187399806,
           -0.020527356530740146
          ],
          [
           0.05838278739006184,
           0.05235872140228032,
           -0.012661444423098819,
           0.0666385202692962,
           0.0023316136235754566,
           -0.006738319975039304,
           0.0198052940345807,
           -0.017651375847817792,
           -0.04132987270040405,
           0.006526916000822264,
           -0.014668684044923516,
           -0.005605558277451288,
           1,
           -0.011114187757315158,
           -0.024843475493272663,
           0.05264034683856342,
           -0.022563874954604178,
           0.04579146108177324
          ],
          [
           0.06210799657596277,
           0.06986262577609959,
           -0.018009441683099595,
           0.02283931723945643,
           0.009093729149528005,
           -0.04034408921760288,
           -0.03387335772186119,
           0.015980468068589083,
           -0.03606030389185209,
           0.2177023870325214,
           0.27427768265936986,
           0.047092935143762206,
           -0.011114187757315158,
           1,
           0.8050253630561807,
           0.810686495122973,
           0.9827731790805576,
           -0.03578093686270485
          ],
          [
           0.06532878550954267,
           0.07552225887201743,
           -0.008761632000269071,
           0.03910677219707252,
           -0.017632685994798523,
           -0.045411623240228294,
           -0.017494816666049528,
           0.025933696371508736,
           -0.04605990630975065,
           0.16576791045002612,
           0.22464992102091874,
           0.04731868943801604,
           -0.024843475493272663,
           0.8050253630561807,
           1,
           0.5638659408577098,
           0.722877814857129,
           -0.013718057474875705
          ],
          [
           0.03493981037217865,
           0.06089752629982788,
           -0.010678058694566558,
           0.06479153061791916,
           -0.011653879679118656,
           -0.02379030666991932,
           -0.006840626169814875,
           -0.0007790445414113306,
           -0.022863440817917042,
           0.17953586162350574,
           0.2190841119718898,
           0.03974936846720905,
           0.05264034683856342,
           0.810686495122973,
           0.5638659408577098,
           1,
           0.7320900444571772,
           -0.014507787063594763
          ],
          [
           0.06101287878576936,
           0.06258764198000882,
           -0.02018362568894633,
           0.0052690878676787695,
           0.020246444007758654,
           -0.03858426298870231,
           -0.04108348419110516,
           0.015836196466461252,
           -0.0326650970430251,
           0.2156256330226426,
           0.2693930380014259,
           0.04344883187399806,
           -0.022563874954604178,
           0.9827731790805576,
           0.722877814857129,
           0.7320900444571772,
           1,
           -0.04276752612754668
          ],
          [
           -0.00029236541533493186,
           0.001353608059067652,
           -0.00018299186471662114,
           0.026104560848340248,
           -0.04922587585015118,
           0.00989327378661103,
           -0.03273570131321153,
           0.03139806185259973,
           -0.0566150226554259,
           0.021367617906016212,
           0.034553681456766024,
           -0.020527356530740146,
           0.04579146108177324,
           -0.03578093686270485,
           -0.013718057474875705,
           -0.014507787063594763,
           -0.04276752612754668,
           1
          ]
         ]
        }
       ],
       "layout": {
        "coloraxis": {
         "colorscale": [
          [
           0,
           "#0d0887"
          ],
          [
           0.1111111111111111,
           "#46039f"
          ],
          [
           0.2222222222222222,
           "#7201a8"
          ],
          [
           0.3333333333333333,
           "#9c179e"
          ],
          [
           0.4444444444444444,
           "#bd3786"
          ],
          [
           0.5555555555555556,
           "#d8576b"
          ],
          [
           0.6666666666666666,
           "#ed7953"
          ],
          [
           0.7777777777777778,
           "#fb9f3a"
          ],
          [
           0.8888888888888888,
           "#fdca26"
          ],
          [
           1,
           "#f0f921"
          ]
         ]
        },
        "margin": {
         "t": 60
        },
        "template": {
         "data": {
          "bar": [
           {
            "error_x": {
             "color": "#2a3f5f"
            },
            "error_y": {
             "color": "#2a3f5f"
            },
            "marker": {
             "line": {
              "color": "#E5ECF6",
              "width": 0.5
             },
             "pattern": {
              "fillmode": "overlay",
              "size": 10,
              "solidity": 0.2
             }
            },
            "type": "bar"
           }
          ],
          "barpolar": [
           {
            "marker": {
             "line": {
              "color": "#E5ECF6",
              "width": 0.5
             },
             "pattern": {
              "fillmode": "overlay",
              "size": 10,
              "solidity": 0.2
             }
            },
            "type": "barpolar"
           }
          ],
          "carpet": [
           {
            "aaxis": {
             "endlinecolor": "#2a3f5f",
             "gridcolor": "white",
             "linecolor": "white",
             "minorgridcolor": "white",
             "startlinecolor": "#2a3f5f"
            },
            "baxis": {
             "endlinecolor": "#2a3f5f",
             "gridcolor": "white",
             "linecolor": "white",
             "minorgridcolor": "white",
             "startlinecolor": "#2a3f5f"
            },
            "type": "carpet"
           }
          ],
          "choropleth": [
           {
            "colorbar": {
             "outlinewidth": 0,
             "ticks": ""
            },
            "type": "choropleth"
           }
          ],
          "contour": [
           {
            "colorbar": {
             "outlinewidth": 0,
             "ticks": ""
            },
            "colorscale": [
             [
              0,
              "#0d0887"
             ],
             [
              0.1111111111111111,
              "#46039f"
             ],
             [
              0.2222222222222222,
              "#7201a8"
             ],
             [
              0.3333333333333333,
              "#9c179e"
             ],
             [
              0.4444444444444444,
              "#bd3786"
             ],
             [
              0.5555555555555556,
              "#d8576b"
             ],
             [
              0.6666666666666666,
              "#ed7953"
             ],
             [
              0.7777777777777778,
              "#fb9f3a"
             ],
             [
              0.8888888888888888,
              "#fdca26"
             ],
             [
              1,
              "#f0f921"
             ]
            ],
            "type": "contour"
           }
          ],
          "contourcarpet": [
           {
            "colorbar": {
             "outlinewidth": 0,
             "ticks": ""
            },
            "type": "contourcarpet"
           }
          ],
          "heatmap": [
           {
            "colorbar": {
             "outlinewidth": 0,
             "ticks": ""
            },
            "colorscale": [
             [
              0,
              "#0d0887"
             ],
             [
              0.1111111111111111,
              "#46039f"
             ],
             [
              0.2222222222222222,
              "#7201a8"
             ],
             [
              0.3333333333333333,
              "#9c179e"
             ],
             [
              0.4444444444444444,
              "#bd3786"
             ],
             [
              0.5555555555555556,
              "#d8576b"
             ],
             [
              0.6666666666666666,
              "#ed7953"
             ],
             [
              0.7777777777777778,
              "#fb9f3a"
             ],
             [
              0.8888888888888888,
              "#fdca26"
             ],
             [
              1,
              "#f0f921"
             ]
            ],
            "type": "heatmap"
           }
          ],
          "heatmapgl": [
           {
            "colorbar": {
             "outlinewidth": 0,
             "ticks": ""
            },
            "colorscale": [
             [
              0,
              "#0d0887"
             ],
             [
              0.1111111111111111,
              "#46039f"
             ],
             [
              0.2222222222222222,
              "#7201a8"
             ],
             [
              0.3333333333333333,
              "#9c179e"
             ],
             [
              0.4444444444444444,
              "#bd3786"
             ],
             [
              0.5555555555555556,
              "#d8576b"
             ],
             [
              0.6666666666666666,
              "#ed7953"
             ],
             [
              0.7777777777777778,
              "#fb9f3a"
             ],
             [
              0.8888888888888888,
              "#fdca26"
             ],
             [
              1,
              "#f0f921"
             ]
            ],
            "type": "heatmapgl"
           }
          ],
          "histogram": [
           {
            "marker": {
             "pattern": {
              "fillmode": "overlay",
              "size": 10,
              "solidity": 0.2
             }
            },
            "type": "histogram"
           }
          ],
          "histogram2d": [
           {
            "colorbar": {
             "outlinewidth": 0,
             "ticks": ""
            },
            "colorscale": [
             [
              0,
              "#0d0887"
             ],
             [
              0.1111111111111111,
              "#46039f"
             ],
             [
              0.2222222222222222,
              "#7201a8"
             ],
             [
              0.3333333333333333,
              "#9c179e"
             ],
             [
              0.4444444444444444,
              "#bd3786"
             ],
             [
              0.5555555555555556,
              "#d8576b"
             ],
             [
              0.6666666666666666,
              "#ed7953"
             ],
             [
              0.7777777777777778,
              "#fb9f3a"
             ],
             [
              0.8888888888888888,
              "#fdca26"
             ],
             [
              1,
              "#f0f921"
             ]
            ],
            "type": "histogram2d"
           }
          ],
          "histogram2dcontour": [
           {
            "colorbar": {
             "outlinewidth": 0,
             "ticks": ""
            },
            "colorscale": [
             [
              0,
              "#0d0887"
             ],
             [
              0.1111111111111111,
              "#46039f"
             ],
             [
              0.2222222222222222,
              "#7201a8"
             ],
             [
              0.3333333333333333,
              "#9c179e"
             ],
             [
              0.4444444444444444,
              "#bd3786"
             ],
             [
              0.5555555555555556,
              "#d8576b"
             ],
             [
              0.6666666666666666,
              "#ed7953"
             ],
             [
              0.7777777777777778,
              "#fb9f3a"
             ],
             [
              0.8888888888888888,
              "#fdca26"
             ],
             [
              1,
              "#f0f921"
             ]
            ],
            "type": "histogram2dcontour"
           }
          ],
          "mesh3d": [
           {
            "colorbar": {
             "outlinewidth": 0,
             "ticks": ""
            },
            "type": "mesh3d"
           }
          ],
          "parcoords": [
           {
            "line": {
             "colorbar": {
              "outlinewidth": 0,
              "ticks": ""
             }
            },
            "type": "parcoords"
           }
          ],
          "pie": [
           {
            "automargin": true,
            "type": "pie"
           }
          ],
          "scatter": [
           {
            "marker": {
             "colorbar": {
              "outlinewidth": 0,
              "ticks": ""
             }
            },
            "type": "scatter"
           }
          ],
          "scatter3d": [
           {
            "line": {
             "colorbar": {
              "outlinewidth": 0,
              "ticks": ""
             }
            },
            "marker": {
             "colorbar": {
              "outlinewidth": 0,
              "ticks": ""
             }
            },
            "type": "scatter3d"
           }
          ],
          "scattercarpet": [
           {
            "marker": {
             "colorbar": {
              "outlinewidth": 0,
              "ticks": ""
             }
            },
            "type": "scattercarpet"
           }
          ],
          "scattergeo": [
           {
            "marker": {
             "colorbar": {
              "outlinewidth": 0,
              "ticks": ""
             }
            },
            "type": "scattergeo"
           }
          ],
          "scattergl": [
           {
            "marker": {
             "colorbar": {
              "outlinewidth": 0,
              "ticks": ""
             }
            },
            "type": "scattergl"
           }
          ],
          "scattermapbox": [
           {
            "marker": {
             "colorbar": {
              "outlinewidth": 0,
              "ticks": ""
             }
            },
            "type": "scattermapbox"
           }
          ],
          "scatterpolar": [
           {
            "marker": {
             "colorbar": {
              "outlinewidth": 0,
              "ticks": ""
             }
            },
            "type": "scatterpolar"
           }
          ],
          "scatterpolargl": [
           {
            "marker": {
             "colorbar": {
              "outlinewidth": 0,
              "ticks": ""
             }
            },
            "type": "scatterpolargl"
           }
          ],
          "scatterternary": [
           {
            "marker": {
             "colorbar": {
              "outlinewidth": 0,
              "ticks": ""
             }
            },
            "type": "scatterternary"
           }
          ],
          "surface": [
           {
            "colorbar": {
             "outlinewidth": 0,
             "ticks": ""
            },
            "colorscale": [
             [
              0,
              "#0d0887"
             ],
             [
              0.1111111111111111,
              "#46039f"
             ],
             [
              0.2222222222222222,
              "#7201a8"
             ],
             [
              0.3333333333333333,
              "#9c179e"
             ],
             [
              0.4444444444444444,
              "#bd3786"
             ],
             [
              0.5555555555555556,
              "#d8576b"
             ],
             [
              0.6666666666666666,
              "#ed7953"
             ],
             [
              0.7777777777777778,
              "#fb9f3a"
             ],
             [
              0.8888888888888888,
              "#fdca26"
             ],
             [
              1,
              "#f0f921"
             ]
            ],
            "type": "surface"
           }
          ],
          "table": [
           {
            "cells": {
             "fill": {
              "color": "#EBF0F8"
             },
             "line": {
              "color": "white"
             }
            },
            "header": {
             "fill": {
              "color": "#C8D4E3"
             },
             "line": {
              "color": "white"
             }
            },
            "type": "table"
           }
          ]
         },
         "layout": {
          "annotationdefaults": {
           "arrowcolor": "#2a3f5f",
           "arrowhead": 0,
           "arrowwidth": 1
          },
          "autotypenumbers": "strict",
          "coloraxis": {
           "colorbar": {
            "outlinewidth": 0,
            "ticks": ""
           }
          },
          "colorscale": {
           "diverging": [
            [
             0,
             "#8e0152"
            ],
            [
             0.1,
             "#c51b7d"
            ],
            [
             0.2,
             "#de77ae"
            ],
            [
             0.3,
             "#f1b6da"
            ],
            [
             0.4,
             "#fde0ef"
            ],
            [
             0.5,
             "#f7f7f7"
            ],
            [
             0.6,
             "#e6f5d0"
            ],
            [
             0.7,
             "#b8e186"
            ],
            [
             0.8,
             "#7fbc41"
            ],
            [
             0.9,
             "#4d9221"
            ],
            [
             1,
             "#276419"
            ]
           ],
           "sequential": [
            [
             0,
             "#0d0887"
            ],
            [
             0.1111111111111111,
             "#46039f"
            ],
            [
             0.2222222222222222,
             "#7201a8"
            ],
            [
             0.3333333333333333,
             "#9c179e"
            ],
            [
             0.4444444444444444,
             "#bd3786"
            ],
            [
             0.5555555555555556,
             "#d8576b"
            ],
            [
             0.6666666666666666,
             "#ed7953"
            ],
            [
             0.7777777777777778,
             "#fb9f3a"
            ],
            [
             0.8888888888888888,
             "#fdca26"
            ],
            [
             1,
             "#f0f921"
            ]
           ],
           "sequentialminus": [
            [
             0,
             "#0d0887"
            ],
            [
             0.1111111111111111,
             "#46039f"
            ],
            [
             0.2222222222222222,
             "#7201a8"
            ],
            [
             0.3333333333333333,
             "#9c179e"
            ],
            [
             0.4444444444444444,
             "#bd3786"
            ],
            [
             0.5555555555555556,
             "#d8576b"
            ],
            [
             0.6666666666666666,
             "#ed7953"
            ],
            [
             0.7777777777777778,
             "#fb9f3a"
            ],
            [
             0.8888888888888888,
             "#fdca26"
            ],
            [
             1,
             "#f0f921"
            ]
           ]
          },
          "colorway": [
           "#636efa",
           "#EF553B",
           "#00cc96",
           "#ab63fa",
           "#FFA15A",
           "#19d3f3",
           "#FF6692",
           "#B6E880",
           "#FF97FF",
           "#FECB52"
          ],
          "font": {
           "color": "#2a3f5f"
          },
          "geo": {
           "bgcolor": "white",
           "lakecolor": "white",
           "landcolor": "#E5ECF6",
           "showlakes": true,
           "showland": true,
           "subunitcolor": "white"
          },
          "hoverlabel": {
           "align": "left"
          },
          "hovermode": "closest",
          "mapbox": {
           "style": "light"
          },
          "paper_bgcolor": "white",
          "plot_bgcolor": "#E5ECF6",
          "polar": {
           "angularaxis": {
            "gridcolor": "white",
            "linecolor": "white",
            "ticks": ""
           },
           "bgcolor": "#E5ECF6",
           "radialaxis": {
            "gridcolor": "white",
            "linecolor": "white",
            "ticks": ""
           }
          },
          "scene": {
           "xaxis": {
            "backgroundcolor": "#E5ECF6",
            "gridcolor": "white",
            "gridwidth": 2,
            "linecolor": "white",
            "showbackground": true,
            "ticks": "",
            "zerolinecolor": "white"
           },
           "yaxis": {
            "backgroundcolor": "#E5ECF6",
            "gridcolor": "white",
            "gridwidth": 2,
            "linecolor": "white",
            "showbackground": true,
            "ticks": "",
            "zerolinecolor": "white"
           },
           "zaxis": {
            "backgroundcolor": "#E5ECF6",
            "gridcolor": "white",
            "gridwidth": 2,
            "linecolor": "white",
            "showbackground": true,
            "ticks": "",
            "zerolinecolor": "white"
           }
          },
          "shapedefaults": {
           "line": {
            "color": "#2a3f5f"
           }
          },
          "ternary": {
           "aaxis": {
            "gridcolor": "white",
            "linecolor": "white",
            "ticks": ""
           },
           "baxis": {
            "gridcolor": "white",
            "linecolor": "white",
            "ticks": ""
           },
           "bgcolor": "#E5ECF6",
           "caxis": {
            "gridcolor": "white",
            "linecolor": "white",
            "ticks": ""
           }
          },
          "title": {
           "x": 0.05
          },
          "xaxis": {
           "automargin": true,
           "gridcolor": "white",
           "linecolor": "white",
           "ticks": "",
           "title": {
            "standoff": 15
           },
           "zerolinecolor": "white",
           "zerolinewidth": 2
          },
          "yaxis": {
           "automargin": true,
           "gridcolor": "white",
           "linecolor": "white",
           "ticks": "",
           "title": {
            "standoff": 15
           },
           "zerolinecolor": "white",
           "zerolinewidth": 2
          }
         }
        },
        "xaxis": {
         "anchor": "y",
         "domain": [
          0,
          1
         ]
        },
        "yaxis": {
         "anchor": "x",
         "autorange": "reversed",
         "domain": [
          0,
          1
         ]
        }
       }
      }
     },
     "metadata": {},
     "output_type": "display_data"
    }
   ],
   "source": [
    "px.imshow(df.corr(),text_auto=True, aspect=\"auto\")"
   ]
  },
  {
   "cell_type": "markdown",
   "metadata": {},
   "source": [
    "### Description of the numeric variables"
   ]
  },
  {
   "cell_type": "code",
   "execution_count": 198,
   "metadata": {},
   "outputs": [
    {
     "data": {
      "text/html": [
       "<div>\n",
       "<style scoped>\n",
       "    .dataframe tbody tr th:only-of-type {\n",
       "        vertical-align: middle;\n",
       "    }\n",
       "\n",
       "    .dataframe tbody tr th {\n",
       "        vertical-align: top;\n",
       "    }\n",
       "\n",
       "    .dataframe thead th {\n",
       "        text-align: right;\n",
       "    }\n",
       "</style>\n",
       "<table border=\"1\" class=\"dataframe\">\n",
       "  <thead>\n",
       "    <tr style=\"text-align: right;\">\n",
       "      <th></th>\n",
       "      <th>count</th>\n",
       "      <th>mean</th>\n",
       "      <th>std</th>\n",
       "      <th>min</th>\n",
       "      <th>25%</th>\n",
       "      <th>50%</th>\n",
       "      <th>75%</th>\n",
       "      <th>max</th>\n",
       "    </tr>\n",
       "  </thead>\n",
       "  <tbody>\n",
       "    <tr>\n",
       "      <th>months_as_customer</th>\n",
       "      <td>1000.0</td>\n",
       "      <td>2.039540e+02</td>\n",
       "      <td>1.151132e+02</td>\n",
       "      <td>0.00</td>\n",
       "      <td>115.7500</td>\n",
       "      <td>199.5</td>\n",
       "      <td>276.250</td>\n",
       "      <td>479.00</td>\n",
       "    </tr>\n",
       "    <tr>\n",
       "      <th>age</th>\n",
       "      <td>1000.0</td>\n",
       "      <td>3.894800e+01</td>\n",
       "      <td>9.140287e+00</td>\n",
       "      <td>19.00</td>\n",
       "      <td>32.0000</td>\n",
       "      <td>38.0</td>\n",
       "      <td>44.000</td>\n",
       "      <td>64.00</td>\n",
       "    </tr>\n",
       "    <tr>\n",
       "      <th>policy_number</th>\n",
       "      <td>1000.0</td>\n",
       "      <td>5.462386e+05</td>\n",
       "      <td>2.570630e+05</td>\n",
       "      <td>100804.00</td>\n",
       "      <td>335980.2500</td>\n",
       "      <td>533135.0</td>\n",
       "      <td>759099.750</td>\n",
       "      <td>999435.00</td>\n",
       "    </tr>\n",
       "    <tr>\n",
       "      <th>policy_deductable</th>\n",
       "      <td>1000.0</td>\n",
       "      <td>1.136000e+03</td>\n",
       "      <td>6.118647e+02</td>\n",
       "      <td>500.00</td>\n",
       "      <td>500.0000</td>\n",
       "      <td>1000.0</td>\n",
       "      <td>2000.000</td>\n",
       "      <td>2000.00</td>\n",
       "    </tr>\n",
       "    <tr>\n",
       "      <th>policy_annual_premium</th>\n",
       "      <td>1000.0</td>\n",
       "      <td>1.256406e+03</td>\n",
       "      <td>2.441674e+02</td>\n",
       "      <td>433.33</td>\n",
       "      <td>1089.6075</td>\n",
       "      <td>1257.2</td>\n",
       "      <td>1415.695</td>\n",
       "      <td>2047.59</td>\n",
       "    </tr>\n",
       "    <tr>\n",
       "      <th>umbrella_limit</th>\n",
       "      <td>1000.0</td>\n",
       "      <td>1.101000e+06</td>\n",
       "      <td>2.297407e+06</td>\n",
       "      <td>-1000000.00</td>\n",
       "      <td>0.0000</td>\n",
       "      <td>0.0</td>\n",
       "      <td>0.000</td>\n",
       "      <td>10000000.00</td>\n",
       "    </tr>\n",
       "    <tr>\n",
       "      <th>insured_zip</th>\n",
       "      <td>1000.0</td>\n",
       "      <td>5.012145e+05</td>\n",
       "      <td>7.170161e+04</td>\n",
       "      <td>430104.00</td>\n",
       "      <td>448404.5000</td>\n",
       "      <td>466445.5</td>\n",
       "      <td>603251.000</td>\n",
       "      <td>620962.00</td>\n",
       "    </tr>\n",
       "    <tr>\n",
       "      <th>capital-gains</th>\n",
       "      <td>1000.0</td>\n",
       "      <td>2.512610e+04</td>\n",
       "      <td>2.787219e+04</td>\n",
       "      <td>0.00</td>\n",
       "      <td>0.0000</td>\n",
       "      <td>0.0</td>\n",
       "      <td>51025.000</td>\n",
       "      <td>100500.00</td>\n",
       "    </tr>\n",
       "    <tr>\n",
       "      <th>capital-loss</th>\n",
       "      <td>1000.0</td>\n",
       "      <td>-2.679370e+04</td>\n",
       "      <td>2.810410e+04</td>\n",
       "      <td>-111100.00</td>\n",
       "      <td>-51500.0000</td>\n",
       "      <td>-23250.0</td>\n",
       "      <td>0.000</td>\n",
       "      <td>0.00</td>\n",
       "    </tr>\n",
       "    <tr>\n",
       "      <th>incident_hour_of_the_day</th>\n",
       "      <td>1000.0</td>\n",
       "      <td>1.164400e+01</td>\n",
       "      <td>6.951373e+00</td>\n",
       "      <td>0.00</td>\n",
       "      <td>6.0000</td>\n",
       "      <td>12.0</td>\n",
       "      <td>17.000</td>\n",
       "      <td>23.00</td>\n",
       "    </tr>\n",
       "    <tr>\n",
       "      <th>number_of_vehicles_involved</th>\n",
       "      <td>1000.0</td>\n",
       "      <td>1.839000e+00</td>\n",
       "      <td>1.018880e+00</td>\n",
       "      <td>1.00</td>\n",
       "      <td>1.0000</td>\n",
       "      <td>1.0</td>\n",
       "      <td>3.000</td>\n",
       "      <td>4.00</td>\n",
       "    </tr>\n",
       "    <tr>\n",
       "      <th>bodily_injuries</th>\n",
       "      <td>1000.0</td>\n",
       "      <td>9.920000e-01</td>\n",
       "      <td>8.201272e-01</td>\n",
       "      <td>0.00</td>\n",
       "      <td>0.0000</td>\n",
       "      <td>1.0</td>\n",
       "      <td>2.000</td>\n",
       "      <td>2.00</td>\n",
       "    </tr>\n",
       "    <tr>\n",
       "      <th>witnesses</th>\n",
       "      <td>1000.0</td>\n",
       "      <td>1.487000e+00</td>\n",
       "      <td>1.111335e+00</td>\n",
       "      <td>0.00</td>\n",
       "      <td>1.0000</td>\n",
       "      <td>1.0</td>\n",
       "      <td>2.000</td>\n",
       "      <td>3.00</td>\n",
       "    </tr>\n",
       "    <tr>\n",
       "      <th>total_claim_amount</th>\n",
       "      <td>1000.0</td>\n",
       "      <td>5.276194e+04</td>\n",
       "      <td>2.640153e+04</td>\n",
       "      <td>100.00</td>\n",
       "      <td>41812.5000</td>\n",
       "      <td>58055.0</td>\n",
       "      <td>70592.500</td>\n",
       "      <td>114920.00</td>\n",
       "    </tr>\n",
       "    <tr>\n",
       "      <th>injury_claim</th>\n",
       "      <td>1000.0</td>\n",
       "      <td>7.433420e+03</td>\n",
       "      <td>4.880952e+03</td>\n",
       "      <td>0.00</td>\n",
       "      <td>4295.0000</td>\n",
       "      <td>6775.0</td>\n",
       "      <td>11305.000</td>\n",
       "      <td>21450.00</td>\n",
       "    </tr>\n",
       "    <tr>\n",
       "      <th>property_claim</th>\n",
       "      <td>1000.0</td>\n",
       "      <td>7.399570e+03</td>\n",
       "      <td>4.824726e+03</td>\n",
       "      <td>0.00</td>\n",
       "      <td>4445.0000</td>\n",
       "      <td>6750.0</td>\n",
       "      <td>10885.000</td>\n",
       "      <td>23670.00</td>\n",
       "    </tr>\n",
       "    <tr>\n",
       "      <th>vehicle_claim</th>\n",
       "      <td>1000.0</td>\n",
       "      <td>3.792895e+04</td>\n",
       "      <td>1.888625e+04</td>\n",
       "      <td>70.00</td>\n",
       "      <td>30292.5000</td>\n",
       "      <td>42100.0</td>\n",
       "      <td>50822.500</td>\n",
       "      <td>79560.00</td>\n",
       "    </tr>\n",
       "    <tr>\n",
       "      <th>auto_year</th>\n",
       "      <td>1000.0</td>\n",
       "      <td>2.005103e+03</td>\n",
       "      <td>6.015861e+00</td>\n",
       "      <td>1995.00</td>\n",
       "      <td>2000.0000</td>\n",
       "      <td>2005.0</td>\n",
       "      <td>2010.000</td>\n",
       "      <td>2015.00</td>\n",
       "    </tr>\n",
       "  </tbody>\n",
       "</table>\n",
       "</div>"
      ],
      "text/plain": [
       "                              count          mean           std         min  \\\n",
       "months_as_customer           1000.0  2.039540e+02  1.151132e+02        0.00   \n",
       "age                          1000.0  3.894800e+01  9.140287e+00       19.00   \n",
       "policy_number                1000.0  5.462386e+05  2.570630e+05   100804.00   \n",
       "policy_deductable            1000.0  1.136000e+03  6.118647e+02      500.00   \n",
       "policy_annual_premium        1000.0  1.256406e+03  2.441674e+02      433.33   \n",
       "umbrella_limit               1000.0  1.101000e+06  2.297407e+06 -1000000.00   \n",
       "insured_zip                  1000.0  5.012145e+05  7.170161e+04   430104.00   \n",
       "capital-gains                1000.0  2.512610e+04  2.787219e+04        0.00   \n",
       "capital-loss                 1000.0 -2.679370e+04  2.810410e+04  -111100.00   \n",
       "incident_hour_of_the_day     1000.0  1.164400e+01  6.951373e+00        0.00   \n",
       "number_of_vehicles_involved  1000.0  1.839000e+00  1.018880e+00        1.00   \n",
       "bodily_injuries              1000.0  9.920000e-01  8.201272e-01        0.00   \n",
       "witnesses                    1000.0  1.487000e+00  1.111335e+00        0.00   \n",
       "total_claim_amount           1000.0  5.276194e+04  2.640153e+04      100.00   \n",
       "injury_claim                 1000.0  7.433420e+03  4.880952e+03        0.00   \n",
       "property_claim               1000.0  7.399570e+03  4.824726e+03        0.00   \n",
       "vehicle_claim                1000.0  3.792895e+04  1.888625e+04       70.00   \n",
       "auto_year                    1000.0  2.005103e+03  6.015861e+00     1995.00   \n",
       "\n",
       "                                     25%       50%         75%          max  \n",
       "months_as_customer              115.7500     199.5     276.250       479.00  \n",
       "age                              32.0000      38.0      44.000        64.00  \n",
       "policy_number                335980.2500  533135.0  759099.750    999435.00  \n",
       "policy_deductable               500.0000    1000.0    2000.000      2000.00  \n",
       "policy_annual_premium          1089.6075    1257.2    1415.695      2047.59  \n",
       "umbrella_limit                    0.0000       0.0       0.000  10000000.00  \n",
       "insured_zip                  448404.5000  466445.5  603251.000    620962.00  \n",
       "capital-gains                     0.0000       0.0   51025.000    100500.00  \n",
       "capital-loss                 -51500.0000  -23250.0       0.000         0.00  \n",
       "incident_hour_of_the_day          6.0000      12.0      17.000        23.00  \n",
       "number_of_vehicles_involved       1.0000       1.0       3.000         4.00  \n",
       "bodily_injuries                   0.0000       1.0       2.000         2.00  \n",
       "witnesses                         1.0000       1.0       2.000         3.00  \n",
       "total_claim_amount            41812.5000   58055.0   70592.500    114920.00  \n",
       "injury_claim                   4295.0000    6775.0   11305.000     21450.00  \n",
       "property_claim                 4445.0000    6750.0   10885.000     23670.00  \n",
       "vehicle_claim                 30292.5000   42100.0   50822.500     79560.00  \n",
       "auto_year                      2000.0000    2005.0    2010.000      2015.00  "
      ]
     },
     "execution_count": 198,
     "metadata": {},
     "output_type": "execute_result"
    }
   ],
   "source": [
    "df.describe().transpose()"
   ]
  },
  {
   "cell_type": "markdown",
   "metadata": {},
   "source": [
    "### Visualization of different categorical variables"
   ]
  },
  {
   "cell_type": "markdown",
   "metadata": {},
   "source": [
    "##### Histograms of each variable v/s their count w.r.t the ouput are visualized "
   ]
  },
  {
   "cell_type": "code",
   "execution_count": 199,
   "metadata": {},
   "outputs": [
    {
     "data": {
      "application/vnd.plotly.v1+json": {
       "config": {
        "plotlyServerURL": "https://plot.ly"
       },
       "data": [
        {
         "alignmentgroup": "True",
         "bingroup": "x",
         "hovertemplate": "fraud_reported=Y<br>policy_state=%{x}<br>count=%{y}<extra></extra>",
         "legendgroup": "Y",
         "marker": {
          "color": "#636efa",
          "pattern": {
           "shape": ""
          }
         },
         "name": "Y",
         "offsetgroup": "Y",
         "orientation": "v",
         "showlegend": true,
         "type": "histogram",
         "x": [
          "OH",
          "IN",
          "IL",
          "OH",
          "OH",
          "IN",
          "IL",
          "IN",
          "OH",
          "IN",
          "IL",
          "OH",
          "IL",
          "IN",
          "IN",
          "OH",
          "IN",
          "OH",
          "OH",
          "IN",
          "IN",
          "OH",
          "OH",
          "OH",
          "IN",
          "IN",
          "IL",
          "IN",
          "IL",
          "OH",
          "IL",
          "IN",
          "IN",
          "IN",
          "OH",
          "IL",
          "IL",
          "OH",
          "IL",
          "IN",
          "IN",
          "OH",
          "IL",
          "IL",
          "OH",
          "IN",
          "OH",
          "OH",
          "OH",
          "OH",
          "OH",
          "OH",
          "OH",
          "IN",
          "IN",
          "OH",
          "OH",
          "IN",
          "OH",
          "IL",
          "OH",
          "IL",
          "IN",
          "IL",
          "IL",
          "IN",
          "OH",
          "OH",
          "OH",
          "OH",
          "OH",
          "OH",
          "OH",
          "IL",
          "OH",
          "IL",
          "IL",
          "OH",
          "IL",
          "IN",
          "OH",
          "IN",
          "IL",
          "IN",
          "OH",
          "IL",
          "IN",
          "OH",
          "IN",
          "IN",
          "IL",
          "IN",
          "IN",
          "IL",
          "IL",
          "IL",
          "IN",
          "IL",
          "IL",
          "IL",
          "IN",
          "IN",
          "OH",
          "OH",
          "IN",
          "IN",
          "OH",
          "OH",
          "OH",
          "IL",
          "IN",
          "IN",
          "OH",
          "IN",
          "OH",
          "IL",
          "OH",
          "OH",
          "IN",
          "IN",
          "IL",
          "OH",
          "IL",
          "OH",
          "IL",
          "IL",
          "OH",
          "IL",
          "IN",
          "IN",
          "OH",
          "OH",
          "IL",
          "OH",
          "IL",
          "IL",
          "IN",
          "OH",
          "IL",
          "IN",
          "OH",
          "IL",
          "IL",
          "IL",
          "OH",
          "IN",
          "OH",
          "OH",
          "OH",
          "OH",
          "IL",
          "IL",
          "IN",
          "IL",
          "OH",
          "IL",
          "IN",
          "OH",
          "IL",
          "IN",
          "IL",
          "OH",
          "OH",
          "OH",
          "IL",
          "IL",
          "IL",
          "OH",
          "IL",
          "OH",
          "IL",
          "OH",
          "IN",
          "IL",
          "OH",
          "IL",
          "OH",
          "IL",
          "IL",
          "IN",
          "OH",
          "OH",
          "OH",
          "IN",
          "OH",
          "OH",
          "IN",
          "OH",
          "IN",
          "IL",
          "IN",
          "IN",
          "IN",
          "IN",
          "IL",
          "IL",
          "IL",
          "IN",
          "IL",
          "IN",
          "IL",
          "IL",
          "IN",
          "IN",
          "IN",
          "IN",
          "IN",
          "OH",
          "OH",
          "IL",
          "IL",
          "OH",
          "IL",
          "IN",
          "IN",
          "OH",
          "IL",
          "IL",
          "OH",
          "OH",
          "IL",
          "OH",
          "IN",
          "OH",
          "OH",
          "IL",
          "IN",
          "OH",
          "OH",
          "IL",
          "IN",
          "IL",
          "IN",
          "IN",
          "OH",
          "IN",
          "IN",
          "IL",
          "IN",
          "OH",
          "OH",
          "IL",
          "IN",
          "IN",
          "IN",
          "IN",
          "IL"
         ],
         "xaxis": "x",
         "yaxis": "y"
        },
        {
         "alignmentgroup": "True",
         "bingroup": "x",
         "hovertemplate": "fraud_reported=N<br>policy_state=%{x}<br>count=%{y}<extra></extra>",
         "legendgroup": "N",
         "marker": {
          "color": "#EF553B",
          "pattern": {
           "shape": ""
          }
         },
         "name": "N",
         "offsetgroup": "N",
         "orientation": "v",
         "showlegend": true,
         "type": "histogram",
         "x": [
          "OH",
          "IL",
          "IN",
          "IL",
          "IL",
          "IL",
          "OH",
          "OH",
          "OH",
          "OH",
          "OH",
          "IN",
          "OH",
          "IN",
          "IN",
          "IL",
          "IN",
          "IN",
          "OH",
          "IL",
          "IL",
          "IL",
          "IL",
          "IL",
          "IL",
          "IN",
          "IL",
          "IL",
          "OH",
          "IL",
          "IL",
          "IN",
          "IN",
          "IL",
          "OH",
          "IL",
          "IN",
          "IN",
          "OH",
          "OH",
          "IN",
          "IN",
          "IL",
          "OH",
          "IL",
          "IL",
          "OH",
          "OH",
          "IN",
          "OH",
          "IN",
          "IL",
          "OH",
          "OH",
          "IN",
          "OH",
          "OH",
          "OH",
          "IL",
          "IN",
          "OH",
          "IL",
          "IL",
          "IL",
          "OH",
          "IL",
          "IN",
          "IL",
          "IL",
          "OH",
          "IL",
          "IN",
          "IL",
          "IL",
          "OH",
          "OH",
          "IL",
          "IN",
          "OH",
          "IL",
          "IN",
          "OH",
          "IL",
          "IL",
          "OH",
          "IL",
          "OH",
          "IL",
          "IN",
          "IL",
          "IN",
          "IN",
          "IN",
          "OH",
          "IL",
          "OH",
          "IL",
          "IL",
          "IL",
          "IL",
          "OH",
          "IL",
          "IN",
          "IL",
          "OH",
          "OH",
          "IL",
          "OH",
          "OH",
          "IN",
          "IN",
          "OH",
          "IN",
          "IN",
          "OH",
          "IL",
          "IN",
          "IL",
          "IL",
          "IN",
          "IL",
          "IL",
          "IN",
          "IL",
          "IN",
          "IN",
          "IL",
          "IN",
          "IL",
          "OH",
          "IL",
          "IN",
          "OH",
          "IL",
          "IN",
          "OH",
          "OH",
          "IN",
          "OH",
          "OH",
          "IL",
          "IL",
          "OH",
          "IL",
          "OH",
          "IL",
          "OH",
          "IN",
          "IL",
          "IL",
          "OH",
          "OH",
          "IN",
          "IN",
          "OH",
          "IN",
          "OH",
          "IL",
          "OH",
          "OH",
          "OH",
          "IL",
          "IL",
          "IN",
          "IN",
          "IL",
          "IL",
          "IL",
          "OH",
          "OH",
          "IN",
          "IL",
          "IN",
          "IN",
          "OH",
          "IN",
          "IL",
          "OH",
          "IL",
          "OH",
          "IL",
          "IL",
          "IN",
          "OH",
          "IL",
          "IL",
          "IL",
          "OH",
          "IN",
          "IL",
          "IL",
          "IN",
          "OH",
          "IN",
          "OH",
          "IL",
          "OH",
          "IL",
          "IN",
          "IN",
          "IL",
          "OH",
          "OH",
          "OH",
          "IL",
          "IN",
          "OH",
          "IN",
          "OH",
          "IL",
          "IL",
          "IN",
          "IL",
          "IL",
          "IL",
          "IN",
          "IL",
          "IL",
          "IL",
          "IL",
          "IN",
          "OH",
          "IL",
          "OH",
          "OH",
          "IL",
          "IL",
          "OH",
          "IN",
          "IL",
          "IL",
          "IN",
          "IL",
          "OH",
          "IL",
          "IL",
          "IN",
          "OH",
          "IN",
          "IL",
          "OH",
          "IL",
          "OH",
          "IL",
          "IN",
          "IN",
          "OH",
          "IL",
          "IN",
          "OH",
          "IN",
          "IL",
          "OH",
          "IN",
          "OH",
          "IN",
          "OH",
          "IL",
          "OH",
          "OH",
          "IN",
          "IL",
          "OH",
          "IL",
          "IN",
          "OH",
          "IL",
          "IL",
          "IL",
          "OH",
          "OH",
          "IN",
          "IN",
          "IL",
          "IL",
          "OH",
          "OH",
          "IN",
          "OH",
          "OH",
          "IL",
          "IN",
          "OH",
          "OH",
          "OH",
          "IN",
          "IN",
          "OH",
          "IN",
          "OH",
          "IL",
          "IN",
          "IN",
          "OH",
          "IN",
          "OH",
          "OH",
          "IN",
          "OH",
          "OH",
          "IL",
          "OH",
          "OH",
          "OH",
          "OH",
          "IN",
          "IL",
          "IN",
          "IN",
          "IN",
          "IN",
          "IL",
          "IN",
          "IN",
          "IN",
          "OH",
          "IL",
          "OH",
          "OH",
          "IL",
          "IL",
          "IN",
          "IN",
          "OH",
          "IN",
          "IN",
          "IN",
          "IL",
          "OH",
          "IL",
          "OH",
          "IN",
          "IL",
          "IL",
          "IL",
          "IL",
          "IN",
          "OH",
          "IN",
          "IL",
          "IL",
          "OH",
          "IL",
          "IN",
          "IL",
          "OH",
          "IL",
          "IL",
          "IL",
          "IL",
          "OH",
          "IL",
          "OH",
          "IL",
          "OH",
          "IN",
          "OH",
          "IN",
          "IL",
          "OH",
          "IL",
          "OH",
          "IN",
          "IN",
          "IL",
          "OH",
          "IN",
          "OH",
          "IN",
          "IL",
          "IL",
          "IL",
          "IL",
          "IL",
          "IN",
          "IL",
          "OH",
          "OH",
          "IL",
          "IL",
          "OH",
          "IN",
          "IL",
          "IL",
          "IN",
          "IL",
          "IN",
          "OH",
          "OH",
          "IL",
          "IL",
          "IN",
          "IL",
          "IL",
          "IN",
          "IL",
          "IN",
          "OH",
          "IL",
          "IL",
          "IN",
          "OH",
          "OH",
          "IL",
          "OH",
          "IN",
          "IN",
          "IN",
          "OH",
          "IN",
          "OH",
          "IL",
          "IL",
          "IN",
          "IL",
          "IN",
          "IN",
          "IN",
          "IN",
          "IN",
          "OH",
          "IN",
          "IN",
          "IL",
          "OH",
          "OH",
          "OH",
          "IN",
          "OH",
          "IN",
          "IL",
          "IL",
          "OH",
          "OH",
          "IL",
          "IL",
          "IN",
          "IN",
          "IL",
          "OH",
          "IN",
          "OH",
          "IN",
          "IL",
          "IL",
          "OH",
          "IN",
          "IN",
          "OH",
          "OH",
          "OH",
          "IN",
          "OH",
          "IL",
          "IN",
          "IL",
          "IL",
          "IN",
          "IL",
          "IL",
          "IL",
          "OH",
          "IL",
          "OH",
          "OH",
          "OH",
          "IN",
          "IL",
          "IN",
          "IN",
          "OH",
          "OH",
          "IL",
          "OH",
          "IL",
          "IL",
          "OH",
          "OH",
          "IL",
          "IL",
          "OH",
          "IN",
          "IL",
          "OH",
          "IN",
          "OH",
          "IN",
          "OH",
          "OH",
          "OH",
          "IL",
          "IN",
          "OH",
          "OH",
          "IL",
          "OH",
          "OH",
          "IN",
          "OH",
          "IN",
          "IL",
          "IN",
          "IL",
          "OH",
          "IL",
          "OH",
          "IN",
          "IL",
          "OH",
          "IN",
          "IL",
          "OH",
          "OH",
          "IN",
          "IL",
          "IN",
          "OH",
          "IL",
          "IN",
          "OH",
          "OH",
          "OH",
          "OH",
          "OH",
          "IN",
          "IL",
          "IN",
          "IL",
          "IL",
          "OH",
          "OH",
          "OH",
          "IN",
          "IN",
          "OH",
          "OH",
          "IL",
          "OH",
          "OH",
          "IN",
          "IN",
          "OH",
          "IN",
          "IN",
          "IL",
          "OH",
          "IL",
          "OH",
          "IN",
          "IN",
          "OH",
          "OH",
          "IL",
          "IL",
          "IL",
          "OH",
          "IL",
          "IL",
          "IN",
          "IN",
          "IL",
          "IL",
          "OH",
          "IN",
          "OH",
          "OH",
          "IN",
          "OH",
          "IL",
          "IL",
          "IL",
          "IL",
          "IL",
          "IN",
          "OH",
          "IN",
          "IL",
          "IN",
          "IN",
          "IN",
          "IL",
          "IN",
          "IN",
          "IN",
          "OH",
          "IL",
          "IL",
          "IN",
          "IN",
          "OH",
          "OH",
          "IN",
          "IL",
          "IN",
          "OH",
          "OH",
          "IN",
          "IL",
          "IN",
          "IN",
          "OH",
          "IN",
          "IN",
          "IN",
          "IL",
          "IL",
          "OH",
          "OH",
          "IL",
          "IN",
          "IL",
          "IL",
          "IN",
          "IL",
          "IN",
          "OH",
          "IN",
          "IL",
          "OH",
          "OH",
          "OH",
          "IL",
          "IN",
          "IN",
          "OH",
          "IN",
          "IN",
          "OH",
          "OH",
          "OH",
          "IN",
          "OH",
          "IN",
          "OH",
          "IL",
          "IN",
          "OH",
          "OH",
          "IN",
          "IN",
          "OH",
          "OH",
          "OH",
          "IL",
          "IN",
          "IL",
          "OH",
          "IL",
          "IL",
          "IN",
          "OH",
          "IN",
          "IN",
          "IL",
          "IN",
          "IN",
          "IN",
          "IL",
          "IL",
          "IL",
          "IL",
          "IL",
          "IN",
          "OH",
          "IL",
          "IN",
          "IL",
          "IL",
          "OH",
          "IN",
          "IN",
          "IL",
          "OH",
          "OH",
          "OH",
          "IN",
          "IL",
          "IN",
          "OH",
          "OH",
          "OH",
          "OH",
          "IN",
          "IL",
          "IN",
          "IL",
          "OH",
          "OH",
          "OH",
          "IL",
          "OH",
          "IL",
          "IL",
          "OH",
          "IN",
          "IL",
          "IN",
          "OH",
          "IL",
          "IL",
          "OH",
          "OH",
          "IN",
          "OH",
          "IL",
          "IN",
          "IN",
          "IL",
          "IL",
          "IL",
          "OH",
          "OH",
          "IL",
          "IN",
          "IN",
          "IN",
          "IN",
          "OH",
          "IN",
          "IL",
          "OH",
          "OH",
          "IL",
          "IN",
          "OH",
          "OH",
          "IL",
          "OH",
          "OH",
          "OH",
          "OH",
          "OH",
          "IN",
          "OH",
          "IN",
          "IN",
          "IL",
          "OH",
          "IL",
          "IN",
          "OH",
          "IN",
          "IN",
          "IL",
          "OH",
          "IN",
          "OH",
          "IN",
          "OH",
          "IL",
          "OH",
          "IL",
          "OH"
         ],
         "xaxis": "x",
         "yaxis": "y"
        }
       ],
       "layout": {
        "barmode": "relative",
        "legend": {
         "title": {
          "text": "fraud_reported"
         },
         "tracegroupgap": 0
        },
        "margin": {
         "t": 60
        },
        "template": {
         "data": {
          "bar": [
           {
            "error_x": {
             "color": "#2a3f5f"
            },
            "error_y": {
             "color": "#2a3f5f"
            },
            "marker": {
             "line": {
              "color": "#E5ECF6",
              "width": 0.5
             },
             "pattern": {
              "fillmode": "overlay",
              "size": 10,
              "solidity": 0.2
             }
            },
            "type": "bar"
           }
          ],
          "barpolar": [
           {
            "marker": {
             "line": {
              "color": "#E5ECF6",
              "width": 0.5
             },
             "pattern": {
              "fillmode": "overlay",
              "size": 10,
              "solidity": 0.2
             }
            },
            "type": "barpolar"
           }
          ],
          "carpet": [
           {
            "aaxis": {
             "endlinecolor": "#2a3f5f",
             "gridcolor": "white",
             "linecolor": "white",
             "minorgridcolor": "white",
             "startlinecolor": "#2a3f5f"
            },
            "baxis": {
             "endlinecolor": "#2a3f5f",
             "gridcolor": "white",
             "linecolor": "white",
             "minorgridcolor": "white",
             "startlinecolor": "#2a3f5f"
            },
            "type": "carpet"
           }
          ],
          "choropleth": [
           {
            "colorbar": {
             "outlinewidth": 0,
             "ticks": ""
            },
            "type": "choropleth"
           }
          ],
          "contour": [
           {
            "colorbar": {
             "outlinewidth": 0,
             "ticks": ""
            },
            "colorscale": [
             [
              0,
              "#0d0887"
             ],
             [
              0.1111111111111111,
              "#46039f"
             ],
             [
              0.2222222222222222,
              "#7201a8"
             ],
             [
              0.3333333333333333,
              "#9c179e"
             ],
             [
              0.4444444444444444,
              "#bd3786"
             ],
             [
              0.5555555555555556,
              "#d8576b"
             ],
             [
              0.6666666666666666,
              "#ed7953"
             ],
             [
              0.7777777777777778,
              "#fb9f3a"
             ],
             [
              0.8888888888888888,
              "#fdca26"
             ],
             [
              1,
              "#f0f921"
             ]
            ],
            "type": "contour"
           }
          ],
          "contourcarpet": [
           {
            "colorbar": {
             "outlinewidth": 0,
             "ticks": ""
            },
            "type": "contourcarpet"
           }
          ],
          "heatmap": [
           {
            "colorbar": {
             "outlinewidth": 0,
             "ticks": ""
            },
            "colorscale": [
             [
              0,
              "#0d0887"
             ],
             [
              0.1111111111111111,
              "#46039f"
             ],
             [
              0.2222222222222222,
              "#7201a8"
             ],
             [
              0.3333333333333333,
              "#9c179e"
             ],
             [
              0.4444444444444444,
              "#bd3786"
             ],
             [
              0.5555555555555556,
              "#d8576b"
             ],
             [
              0.6666666666666666,
              "#ed7953"
             ],
             [
              0.7777777777777778,
              "#fb9f3a"
             ],
             [
              0.8888888888888888,
              "#fdca26"
             ],
             [
              1,
              "#f0f921"
             ]
            ],
            "type": "heatmap"
           }
          ],
          "heatmapgl": [
           {
            "colorbar": {
             "outlinewidth": 0,
             "ticks": ""
            },
            "colorscale": [
             [
              0,
              "#0d0887"
             ],
             [
              0.1111111111111111,
              "#46039f"
             ],
             [
              0.2222222222222222,
              "#7201a8"
             ],
             [
              0.3333333333333333,
              "#9c179e"
             ],
             [
              0.4444444444444444,
              "#bd3786"
             ],
             [
              0.5555555555555556,
              "#d8576b"
             ],
             [
              0.6666666666666666,
              "#ed7953"
             ],
             [
              0.7777777777777778,
              "#fb9f3a"
             ],
             [
              0.8888888888888888,
              "#fdca26"
             ],
             [
              1,
              "#f0f921"
             ]
            ],
            "type": "heatmapgl"
           }
          ],
          "histogram": [
           {
            "marker": {
             "pattern": {
              "fillmode": "overlay",
              "size": 10,
              "solidity": 0.2
             }
            },
            "type": "histogram"
           }
          ],
          "histogram2d": [
           {
            "colorbar": {
             "outlinewidth": 0,
             "ticks": ""
            },
            "colorscale": [
             [
              0,
              "#0d0887"
             ],
             [
              0.1111111111111111,
              "#46039f"
             ],
             [
              0.2222222222222222,
              "#7201a8"
             ],
             [
              0.3333333333333333,
              "#9c179e"
             ],
             [
              0.4444444444444444,
              "#bd3786"
             ],
             [
              0.5555555555555556,
              "#d8576b"
             ],
             [
              0.6666666666666666,
              "#ed7953"
             ],
             [
              0.7777777777777778,
              "#fb9f3a"
             ],
             [
              0.8888888888888888,
              "#fdca26"
             ],
             [
              1,
              "#f0f921"
             ]
            ],
            "type": "histogram2d"
           }
          ],
          "histogram2dcontour": [
           {
            "colorbar": {
             "outlinewidth": 0,
             "ticks": ""
            },
            "colorscale": [
             [
              0,
              "#0d0887"
             ],
             [
              0.1111111111111111,
              "#46039f"
             ],
             [
              0.2222222222222222,
              "#7201a8"
             ],
             [
              0.3333333333333333,
              "#9c179e"
             ],
             [
              0.4444444444444444,
              "#bd3786"
             ],
             [
              0.5555555555555556,
              "#d8576b"
             ],
             [
              0.6666666666666666,
              "#ed7953"
             ],
             [
              0.7777777777777778,
              "#fb9f3a"
             ],
             [
              0.8888888888888888,
              "#fdca26"
             ],
             [
              1,
              "#f0f921"
             ]
            ],
            "type": "histogram2dcontour"
           }
          ],
          "mesh3d": [
           {
            "colorbar": {
             "outlinewidth": 0,
             "ticks": ""
            },
            "type": "mesh3d"
           }
          ],
          "parcoords": [
           {
            "line": {
             "colorbar": {
              "outlinewidth": 0,
              "ticks": ""
             }
            },
            "type": "parcoords"
           }
          ],
          "pie": [
           {
            "automargin": true,
            "type": "pie"
           }
          ],
          "scatter": [
           {
            "marker": {
             "colorbar": {
              "outlinewidth": 0,
              "ticks": ""
             }
            },
            "type": "scatter"
           }
          ],
          "scatter3d": [
           {
            "line": {
             "colorbar": {
              "outlinewidth": 0,
              "ticks": ""
             }
            },
            "marker": {
             "colorbar": {
              "outlinewidth": 0,
              "ticks": ""
             }
            },
            "type": "scatter3d"
           }
          ],
          "scattercarpet": [
           {
            "marker": {
             "colorbar": {
              "outlinewidth": 0,
              "ticks": ""
             }
            },
            "type": "scattercarpet"
           }
          ],
          "scattergeo": [
           {
            "marker": {
             "colorbar": {
              "outlinewidth": 0,
              "ticks": ""
             }
            },
            "type": "scattergeo"
           }
          ],
          "scattergl": [
           {
            "marker": {
             "colorbar": {
              "outlinewidth": 0,
              "ticks": ""
             }
            },
            "type": "scattergl"
           }
          ],
          "scattermapbox": [
           {
            "marker": {
             "colorbar": {
              "outlinewidth": 0,
              "ticks": ""
             }
            },
            "type": "scattermapbox"
           }
          ],
          "scatterpolar": [
           {
            "marker": {
             "colorbar": {
              "outlinewidth": 0,
              "ticks": ""
             }
            },
            "type": "scatterpolar"
           }
          ],
          "scatterpolargl": [
           {
            "marker": {
             "colorbar": {
              "outlinewidth": 0,
              "ticks": ""
             }
            },
            "type": "scatterpolargl"
           }
          ],
          "scatterternary": [
           {
            "marker": {
             "colorbar": {
              "outlinewidth": 0,
              "ticks": ""
             }
            },
            "type": "scatterternary"
           }
          ],
          "surface": [
           {
            "colorbar": {
             "outlinewidth": 0,
             "ticks": ""
            },
            "colorscale": [
             [
              0,
              "#0d0887"
             ],
             [
              0.1111111111111111,
              "#46039f"
             ],
             [
              0.2222222222222222,
              "#7201a8"
             ],
             [
              0.3333333333333333,
              "#9c179e"
             ],
             [
              0.4444444444444444,
              "#bd3786"
             ],
             [
              0.5555555555555556,
              "#d8576b"
             ],
             [
              0.6666666666666666,
              "#ed7953"
             ],
             [
              0.7777777777777778,
              "#fb9f3a"
             ],
             [
              0.8888888888888888,
              "#fdca26"
             ],
             [
              1,
              "#f0f921"
             ]
            ],
            "type": "surface"
           }
          ],
          "table": [
           {
            "cells": {
             "fill": {
              "color": "#EBF0F8"
             },
             "line": {
              "color": "white"
             }
            },
            "header": {
             "fill": {
              "color": "#C8D4E3"
             },
             "line": {
              "color": "white"
             }
            },
            "type": "table"
           }
          ]
         },
         "layout": {
          "annotationdefaults": {
           "arrowcolor": "#2a3f5f",
           "arrowhead": 0,
           "arrowwidth": 1
          },
          "autotypenumbers": "strict",
          "coloraxis": {
           "colorbar": {
            "outlinewidth": 0,
            "ticks": ""
           }
          },
          "colorscale": {
           "diverging": [
            [
             0,
             "#8e0152"
            ],
            [
             0.1,
             "#c51b7d"
            ],
            [
             0.2,
             "#de77ae"
            ],
            [
             0.3,
             "#f1b6da"
            ],
            [
             0.4,
             "#fde0ef"
            ],
            [
             0.5,
             "#f7f7f7"
            ],
            [
             0.6,
             "#e6f5d0"
            ],
            [
             0.7,
             "#b8e186"
            ],
            [
             0.8,
             "#7fbc41"
            ],
            [
             0.9,
             "#4d9221"
            ],
            [
             1,
             "#276419"
            ]
           ],
           "sequential": [
            [
             0,
             "#0d0887"
            ],
            [
             0.1111111111111111,
             "#46039f"
            ],
            [
             0.2222222222222222,
             "#7201a8"
            ],
            [
             0.3333333333333333,
             "#9c179e"
            ],
            [
             0.4444444444444444,
             "#bd3786"
            ],
            [
             0.5555555555555556,
             "#d8576b"
            ],
            [
             0.6666666666666666,
             "#ed7953"
            ],
            [
             0.7777777777777778,
             "#fb9f3a"
            ],
            [
             0.8888888888888888,
             "#fdca26"
            ],
            [
             1,
             "#f0f921"
            ]
           ],
           "sequentialminus": [
            [
             0,
             "#0d0887"
            ],
            [
             0.1111111111111111,
             "#46039f"
            ],
            [
             0.2222222222222222,
             "#7201a8"
            ],
            [
             0.3333333333333333,
             "#9c179e"
            ],
            [
             0.4444444444444444,
             "#bd3786"
            ],
            [
             0.5555555555555556,
             "#d8576b"
            ],
            [
             0.6666666666666666,
             "#ed7953"
            ],
            [
             0.7777777777777778,
             "#fb9f3a"
            ],
            [
             0.8888888888888888,
             "#fdca26"
            ],
            [
             1,
             "#f0f921"
            ]
           ]
          },
          "colorway": [
           "#636efa",
           "#EF553B",
           "#00cc96",
           "#ab63fa",
           "#FFA15A",
           "#19d3f3",
           "#FF6692",
           "#B6E880",
           "#FF97FF",
           "#FECB52"
          ],
          "font": {
           "color": "#2a3f5f"
          },
          "geo": {
           "bgcolor": "white",
           "lakecolor": "white",
           "landcolor": "#E5ECF6",
           "showlakes": true,
           "showland": true,
           "subunitcolor": "white"
          },
          "hoverlabel": {
           "align": "left"
          },
          "hovermode": "closest",
          "mapbox": {
           "style": "light"
          },
          "paper_bgcolor": "white",
          "plot_bgcolor": "#E5ECF6",
          "polar": {
           "angularaxis": {
            "gridcolor": "white",
            "linecolor": "white",
            "ticks": ""
           },
           "bgcolor": "#E5ECF6",
           "radialaxis": {
            "gridcolor": "white",
            "linecolor": "white",
            "ticks": ""
           }
          },
          "scene": {
           "xaxis": {
            "backgroundcolor": "#E5ECF6",
            "gridcolor": "white",
            "gridwidth": 2,
            "linecolor": "white",
            "showbackground": true,
            "ticks": "",
            "zerolinecolor": "white"
           },
           "yaxis": {
            "backgroundcolor": "#E5ECF6",
            "gridcolor": "white",
            "gridwidth": 2,
            "linecolor": "white",
            "showbackground": true,
            "ticks": "",
            "zerolinecolor": "white"
           },
           "zaxis": {
            "backgroundcolor": "#E5ECF6",
            "gridcolor": "white",
            "gridwidth": 2,
            "linecolor": "white",
            "showbackground": true,
            "ticks": "",
            "zerolinecolor": "white"
           }
          },
          "shapedefaults": {
           "line": {
            "color": "#2a3f5f"
           }
          },
          "ternary": {
           "aaxis": {
            "gridcolor": "white",
            "linecolor": "white",
            "ticks": ""
           },
           "baxis": {
            "gridcolor": "white",
            "linecolor": "white",
            "ticks": ""
           },
           "bgcolor": "#E5ECF6",
           "caxis": {
            "gridcolor": "white",
            "linecolor": "white",
            "ticks": ""
           }
          },
          "title": {
           "x": 0.05
          },
          "xaxis": {
           "automargin": true,
           "gridcolor": "white",
           "linecolor": "white",
           "ticks": "",
           "title": {
            "standoff": 15
           },
           "zerolinecolor": "white",
           "zerolinewidth": 2
          },
          "yaxis": {
           "automargin": true,
           "gridcolor": "white",
           "linecolor": "white",
           "ticks": "",
           "title": {
            "standoff": 15
           },
           "zerolinecolor": "white",
           "zerolinewidth": 2
          }
         }
        },
        "xaxis": {
         "anchor": "y",
         "domain": [
          0,
          1
         ],
         "title": {
          "text": "policy_state"
         }
        },
        "yaxis": {
         "anchor": "x",
         "domain": [
          0,
          1
         ],
         "title": {
          "text": "count"
         }
        }
       }
      }
     },
     "metadata": {},
     "output_type": "display_data"
    }
   ],
   "source": [
    "fig = px.histogram(df, x=\"policy_state\", color=\"fraud_reported\")\n",
    "fig.show()"
   ]
  },
  {
   "cell_type": "code",
   "execution_count": 200,
   "metadata": {},
   "outputs": [
    {
     "data": {
      "application/vnd.plotly.v1+json": {
       "config": {
        "plotlyServerURL": "https://plot.ly"
       },
       "data": [
        {
         "alignmentgroup": "True",
         "bingroup": "x",
         "hovertemplate": "fraud_reported=Y<br>policy_csl=%{x}<br>count=%{y}<extra></extra>",
         "legendgroup": "Y",
         "marker": {
          "color": "#636efa",
          "pattern": {
           "shape": ""
          }
         },
         "name": "Y",
         "offsetgroup": "Y",
         "orientation": "v",
         "showlegend": true,
         "type": "histogram",
         "x": [
          "250/500",
          "250/500",
          "250/500",
          "250/500",
          "250/500",
          "100/300",
          "100/300",
          "100/300",
          "100/300",
          "100/300",
          "100/300",
          "100/300",
          "100/300",
          "250/500",
          "250/500",
          "500/1000",
          "100/300",
          "500/1000",
          "250/500",
          "100/300",
          "250/500",
          "100/300",
          "100/300",
          "500/1000",
          "500/1000",
          "100/300",
          "250/500",
          "500/1000",
          "250/500",
          "500/1000",
          "500/1000",
          "500/1000",
          "100/300",
          "100/300",
          "500/1000",
          "500/1000",
          "250/500",
          "100/300",
          "250/500",
          "250/500",
          "250/500",
          "100/300",
          "500/1000",
          "100/300",
          "250/500",
          "250/500",
          "100/300",
          "100/300",
          "500/1000",
          "250/500",
          "250/500",
          "100/300",
          "500/1000",
          "100/300",
          "250/500",
          "100/300",
          "500/1000",
          "100/300",
          "100/300",
          "500/1000",
          "250/500",
          "500/1000",
          "100/300",
          "500/1000",
          "100/300",
          "500/1000",
          "100/300",
          "250/500",
          "250/500",
          "250/500",
          "500/1000",
          "500/1000",
          "250/500",
          "100/300",
          "250/500",
          "250/500",
          "100/300",
          "100/300",
          "100/300",
          "100/300",
          "250/500",
          "250/500",
          "250/500",
          "250/500",
          "100/300",
          "250/500",
          "250/500",
          "100/300",
          "100/300",
          "500/1000",
          "250/500",
          "250/500",
          "250/500",
          "500/1000",
          "100/300",
          "250/500",
          "100/300",
          "100/300",
          "500/1000",
          "100/300",
          "250/500",
          "100/300",
          "100/300",
          "500/1000",
          "100/300",
          "250/500",
          "250/500",
          "100/300",
          "250/500",
          "250/500",
          "500/1000",
          "100/300",
          "500/1000",
          "500/1000",
          "500/1000",
          "100/300",
          "100/300",
          "500/1000",
          "250/500",
          "500/1000",
          "100/300",
          "250/500",
          "100/300",
          "100/300",
          "500/1000",
          "250/500",
          "100/300",
          "500/1000",
          "250/500",
          "500/1000",
          "250/500",
          "250/500",
          "250/500",
          "100/300",
          "250/500",
          "250/500",
          "250/500",
          "250/500",
          "250/500",
          "100/300",
          "100/300",
          "500/1000",
          "100/300",
          "100/300",
          "250/500",
          "100/300",
          "250/500",
          "100/300",
          "500/1000",
          "500/1000",
          "250/500",
          "500/1000",
          "500/1000",
          "100/300",
          "250/500",
          "250/500",
          "500/1000",
          "500/1000",
          "500/1000",
          "250/500",
          "100/300",
          "100/300",
          "100/300",
          "500/1000",
          "250/500",
          "100/300",
          "100/300",
          "500/1000",
          "500/1000",
          "500/1000",
          "100/300",
          "250/500",
          "250/500",
          "250/500",
          "250/500",
          "250/500",
          "250/500",
          "250/500",
          "500/1000",
          "250/500",
          "100/300",
          "100/300",
          "100/300",
          "500/1000",
          "250/500",
          "500/1000",
          "250/500",
          "100/300",
          "500/1000",
          "250/500",
          "100/300",
          "250/500",
          "500/1000",
          "250/500",
          "100/300",
          "100/300",
          "100/300",
          "500/1000",
          "500/1000",
          "100/300",
          "250/500",
          "500/1000",
          "100/300",
          "250/500",
          "250/500",
          "250/500",
          "100/300",
          "500/1000",
          "250/500",
          "250/500",
          "100/300",
          "250/500",
          "500/1000",
          "500/1000",
          "100/300",
          "250/500",
          "250/500",
          "500/1000",
          "500/1000",
          "100/300",
          "100/300",
          "250/500",
          "500/1000",
          "250/500",
          "500/1000",
          "100/300",
          "100/300",
          "500/1000",
          "250/500",
          "250/500",
          "250/500",
          "250/500",
          "100/300",
          "100/300",
          "100/300",
          "250/500",
          "250/500",
          "100/300",
          "500/1000",
          "100/300",
          "250/500",
          "500/1000",
          "100/300",
          "100/300",
          "500/1000",
          "100/300",
          "500/1000"
         ],
         "xaxis": "x",
         "yaxis": "y"
        },
        {
         "alignmentgroup": "True",
         "bingroup": "x",
         "hovertemplate": "fraud_reported=N<br>policy_csl=%{x}<br>count=%{y}<extra></extra>",
         "legendgroup": "N",
         "marker": {
          "color": "#EF553B",
          "pattern": {
           "shape": ""
          }
         },
         "name": "N",
         "offsetgroup": "N",
         "orientation": "v",
         "showlegend": true,
         "type": "histogram",
         "x": [
          "100/300",
          "500/1000",
          "250/500",
          "100/300",
          "100/300",
          "100/300",
          "100/300",
          "100/300",
          "500/1000",
          "100/300",
          "500/1000",
          "500/1000",
          "500/1000",
          "500/1000",
          "250/500",
          "500/1000",
          "100/300",
          "100/300",
          "100/300",
          "500/1000",
          "250/500",
          "500/1000",
          "100/300",
          "500/1000",
          "500/1000",
          "500/1000",
          "100/300",
          "500/1000",
          "250/500",
          "100/300",
          "250/500",
          "100/300",
          "500/1000",
          "100/300",
          "250/500",
          "100/300",
          "100/300",
          "100/300",
          "250/500",
          "100/300",
          "250/500",
          "500/1000",
          "250/500",
          "250/500",
          "500/1000",
          "500/1000",
          "250/500",
          "100/300",
          "500/1000",
          "250/500",
          "100/300",
          "100/300",
          "100/300",
          "500/1000",
          "250/500",
          "500/1000",
          "250/500",
          "500/1000",
          "250/500",
          "250/500",
          "100/300",
          "500/1000",
          "500/1000",
          "500/1000",
          "250/500",
          "250/500",
          "100/300",
          "100/300",
          "100/300",
          "250/500",
          "100/300",
          "100/300",
          "100/300",
          "250/500",
          "100/300",
          "500/1000",
          "100/300",
          "500/1000",
          "250/500",
          "500/1000",
          "100/300",
          "250/500",
          "500/1000",
          "250/500",
          "250/500",
          "500/1000",
          "250/500",
          "100/300",
          "250/500",
          "100/300",
          "500/1000",
          "250/500",
          "250/500",
          "100/300",
          "500/1000",
          "250/500",
          "100/300",
          "250/500",
          "500/1000",
          "250/500",
          "100/300",
          "500/1000",
          "250/500",
          "500/1000",
          "100/300",
          "100/300",
          "100/300",
          "100/300",
          "100/300",
          "250/500",
          "100/300",
          "100/300",
          "500/1000",
          "500/1000",
          "500/1000",
          "250/500",
          "500/1000",
          "500/1000",
          "250/500",
          "250/500",
          "250/500",
          "250/500",
          "250/500",
          "100/300",
          "100/300",
          "100/300",
          "250/500",
          "500/1000",
          "100/300",
          "500/1000",
          "500/1000",
          "250/500",
          "100/300",
          "100/300",
          "250/500",
          "500/1000",
          "250/500",
          "250/500",
          "100/300",
          "500/1000",
          "250/500",
          "500/1000",
          "250/500",
          "250/500",
          "100/300",
          "250/500",
          "250/500",
          "250/500",
          "100/300",
          "250/500",
          "500/1000",
          "500/1000",
          "250/500",
          "250/500",
          "250/500",
          "500/1000",
          "100/300",
          "100/300",
          "250/500",
          "100/300",
          "250/500",
          "500/1000",
          "250/500",
          "100/300",
          "500/1000",
          "250/500",
          "100/300",
          "250/500",
          "100/300",
          "500/1000",
          "250/500",
          "100/300",
          "100/300",
          "100/300",
          "500/1000",
          "500/1000",
          "250/500",
          "500/1000",
          "100/300",
          "250/500",
          "250/500",
          "250/500",
          "250/500",
          "100/300",
          "100/300",
          "250/500",
          "100/300",
          "250/500",
          "500/1000",
          "500/1000",
          "250/500",
          "500/1000",
          "100/300",
          "100/300",
          "250/500",
          "100/300",
          "100/300",
          "500/1000",
          "500/1000",
          "250/500",
          "100/300",
          "250/500",
          "250/500",
          "250/500",
          "500/1000",
          "100/300",
          "100/300",
          "500/1000",
          "100/300",
          "250/500",
          "500/1000",
          "250/500",
          "250/500",
          "100/300",
          "500/1000",
          "250/500",
          "100/300",
          "100/300",
          "100/300",
          "250/500",
          "250/500",
          "500/1000",
          "250/500",
          "100/300",
          "500/1000",
          "250/500",
          "500/1000",
          "500/1000",
          "500/1000",
          "250/500",
          "100/300",
          "250/500",
          "250/500",
          "500/1000",
          "500/1000",
          "100/300",
          "100/300",
          "500/1000",
          "250/500",
          "500/1000",
          "100/300",
          "500/1000",
          "250/500",
          "500/1000",
          "250/500",
          "500/1000",
          "100/300",
          "500/1000",
          "100/300",
          "250/500",
          "500/1000",
          "100/300",
          "500/1000",
          "100/300",
          "100/300",
          "500/1000",
          "100/300",
          "250/500",
          "250/500",
          "500/1000",
          "100/300",
          "250/500",
          "500/1000",
          "500/1000",
          "100/300",
          "500/1000",
          "500/1000",
          "500/1000",
          "250/500",
          "500/1000",
          "100/300",
          "100/300",
          "250/500",
          "500/1000",
          "250/500",
          "500/1000",
          "250/500",
          "500/1000",
          "100/300",
          "500/1000",
          "100/300",
          "250/500",
          "100/300",
          "250/500",
          "250/500",
          "100/300",
          "100/300",
          "250/500",
          "100/300",
          "250/500",
          "500/1000",
          "100/300",
          "100/300",
          "500/1000",
          "500/1000",
          "250/500",
          "250/500",
          "100/300",
          "250/500",
          "250/500",
          "100/300",
          "500/1000",
          "500/1000",
          "500/1000",
          "250/500",
          "500/1000",
          "250/500",
          "100/300",
          "250/500",
          "500/1000",
          "100/300",
          "500/1000",
          "100/300",
          "500/1000",
          "250/500",
          "500/1000",
          "100/300",
          "100/300",
          "250/500",
          "100/300",
          "500/1000",
          "250/500",
          "500/1000",
          "100/300",
          "500/1000",
          "500/1000",
          "250/500",
          "250/500",
          "100/300",
          "100/300",
          "100/300",
          "100/300",
          "500/1000",
          "250/500",
          "250/500",
          "500/1000",
          "100/300",
          "500/1000",
          "500/1000",
          "100/300",
          "100/300",
          "500/1000",
          "500/1000",
          "100/300",
          "250/500",
          "100/300",
          "100/300",
          "500/1000",
          "250/500",
          "100/300",
          "500/1000",
          "100/300",
          "250/500",
          "100/300",
          "100/300",
          "100/300",
          "500/1000",
          "500/1000",
          "100/300",
          "500/1000",
          "100/300",
          "250/500",
          "100/300",
          "100/300",
          "500/1000",
          "500/1000",
          "100/300",
          "500/1000",
          "250/500",
          "100/300",
          "500/1000",
          "100/300",
          "500/1000",
          "100/300",
          "500/1000",
          "500/1000",
          "250/500",
          "500/1000",
          "250/500",
          "100/300",
          "250/500",
          "100/300",
          "250/500",
          "500/1000",
          "100/300",
          "250/500",
          "100/300",
          "100/300",
          "250/500",
          "100/300",
          "100/300",
          "100/300",
          "100/300",
          "500/1000",
          "100/300",
          "100/300",
          "500/1000",
          "100/300",
          "250/500",
          "250/500",
          "250/500",
          "500/1000",
          "250/500",
          "100/300",
          "100/300",
          "250/500",
          "100/300",
          "250/500",
          "250/500",
          "500/1000",
          "100/300",
          "100/300",
          "100/300",
          "500/1000",
          "500/1000",
          "100/300",
          "500/1000",
          "100/300",
          "500/1000",
          "500/1000",
          "100/300",
          "100/300",
          "250/500",
          "250/500",
          "100/300",
          "250/500",
          "500/1000",
          "100/300",
          "100/300",
          "250/500",
          "500/1000",
          "250/500",
          "500/1000",
          "250/500",
          "100/300",
          "500/1000",
          "100/300",
          "250/500",
          "500/1000",
          "100/300",
          "100/300",
          "250/500",
          "100/300",
          "100/300",
          "250/500",
          "250/500",
          "100/300",
          "250/500",
          "100/300",
          "100/300",
          "500/1000",
          "250/500",
          "100/300",
          "250/500",
          "100/300",
          "250/500",
          "250/500",
          "250/500",
          "100/300",
          "250/500",
          "100/300",
          "100/300",
          "100/300",
          "100/300",
          "500/1000",
          "500/1000",
          "100/300",
          "100/300",
          "100/300",
          "500/1000",
          "500/1000",
          "500/1000",
          "500/1000",
          "100/300",
          "500/1000",
          "250/500",
          "500/1000",
          "100/300",
          "500/1000",
          "250/500",
          "100/300",
          "250/500",
          "500/1000",
          "500/1000",
          "100/300",
          "100/300",
          "500/1000",
          "250/500",
          "100/300",
          "500/1000",
          "250/500",
          "100/300",
          "250/500",
          "250/500",
          "100/300",
          "100/300",
          "250/500",
          "500/1000",
          "500/1000",
          "100/300",
          "500/1000",
          "100/300",
          "500/1000",
          "250/500",
          "250/500",
          "100/300",
          "500/1000",
          "500/1000",
          "100/300",
          "100/300",
          "250/500",
          "500/1000",
          "500/1000",
          "250/500",
          "250/500",
          "250/500",
          "100/300",
          "250/500",
          "250/500",
          "250/500",
          "100/300",
          "250/500",
          "250/500",
          "250/500",
          "500/1000",
          "500/1000",
          "500/1000",
          "250/500",
          "500/1000",
          "100/300",
          "500/1000",
          "250/500",
          "250/500",
          "500/1000",
          "100/300",
          "500/1000",
          "250/500",
          "250/500",
          "250/500",
          "250/500",
          "100/300",
          "250/500",
          "250/500",
          "250/500",
          "100/300",
          "100/300",
          "500/1000",
          "500/1000",
          "100/300",
          "250/500",
          "250/500",
          "250/500",
          "500/1000",
          "100/300",
          "100/300",
          "500/1000",
          "100/300",
          "250/500",
          "100/300",
          "100/300",
          "100/300",
          "500/1000",
          "250/500",
          "250/500",
          "250/500",
          "250/500",
          "500/1000",
          "100/300",
          "500/1000",
          "100/300",
          "100/300",
          "100/300",
          "250/500",
          "100/300",
          "500/1000",
          "250/500",
          "250/500",
          "100/300",
          "100/300",
          "100/300",
          "100/300",
          "500/1000",
          "250/500",
          "100/300",
          "500/1000",
          "250/500",
          "500/1000",
          "500/1000",
          "100/300",
          "250/500",
          "100/300",
          "100/300",
          "250/500",
          "250/500",
          "250/500",
          "250/500",
          "500/1000",
          "250/500",
          "250/500",
          "250/500",
          "250/500",
          "500/1000",
          "250/500",
          "250/500",
          "250/500",
          "500/1000",
          "250/500",
          "500/1000",
          "500/1000",
          "250/500",
          "100/300",
          "250/500",
          "250/500",
          "250/500",
          "500/1000",
          "250/500",
          "250/500",
          "100/300",
          "500/1000",
          "250/500",
          "250/500",
          "500/1000",
          "250/500",
          "250/500",
          "250/500",
          "500/1000",
          "100/300",
          "250/500",
          "100/300",
          "500/1000",
          "500/1000",
          "500/1000",
          "100/300",
          "500/1000",
          "250/500",
          "100/300",
          "500/1000",
          "100/300",
          "500/1000",
          "250/500",
          "500/1000",
          "100/300",
          "250/500",
          "500/1000",
          "100/300",
          "500/1000",
          "500/1000",
          "250/500",
          "100/300",
          "100/300",
          "100/300",
          "100/300",
          "500/1000",
          "250/500",
          "500/1000",
          "100/300",
          "500/1000",
          "500/1000",
          "100/300",
          "250/500",
          "250/500",
          "250/500",
          "250/500",
          "500/1000",
          "100/300",
          "100/300",
          "500/1000",
          "500/1000",
          "250/500",
          "100/300",
          "250/500",
          "100/300",
          "250/500",
          "500/1000",
          "250/500",
          "250/500",
          "500/1000",
          "500/1000",
          "500/1000",
          "100/300",
          "250/500",
          "250/500",
          "500/1000",
          "100/300",
          "500/1000",
          "500/1000",
          "500/1000",
          "100/300",
          "250/500",
          "100/300",
          "100/300",
          "250/500",
          "500/1000",
          "250/500",
          "500/1000",
          "250/500",
          "500/1000",
          "500/1000",
          "250/500",
          "500/1000",
          "100/300",
          "250/500",
          "100/300",
          "100/300",
          "500/1000",
          "250/500",
          "250/500",
          "500/1000",
          "250/500",
          "250/500",
          "250/500",
          "100/300",
          "500/1000",
          "500/1000",
          "500/1000",
          "250/500",
          "250/500",
          "250/500",
          "500/1000",
          "100/300",
          "100/300",
          "500/1000",
          "100/300",
          "250/500",
          "500/1000",
          "100/300",
          "100/300",
          "250/500",
          "500/1000",
          "250/500",
          "250/500",
          "500/1000",
          "100/300",
          "500/1000",
          "250/500",
          "500/1000",
          "500/1000",
          "250/500",
          "250/500",
          "250/500",
          "100/300",
          "100/300",
          "250/500",
          "100/300",
          "100/300",
          "100/300",
          "250/500",
          "500/1000",
          "500/1000",
          "100/300",
          "250/500",
          "500/1000",
          "250/500"
         ],
         "xaxis": "x",
         "yaxis": "y"
        }
       ],
       "layout": {
        "barmode": "relative",
        "legend": {
         "title": {
          "text": "fraud_reported"
         },
         "tracegroupgap": 0
        },
        "margin": {
         "t": 60
        },
        "template": {
         "data": {
          "bar": [
           {
            "error_x": {
             "color": "#2a3f5f"
            },
            "error_y": {
             "color": "#2a3f5f"
            },
            "marker": {
             "line": {
              "color": "#E5ECF6",
              "width": 0.5
             },
             "pattern": {
              "fillmode": "overlay",
              "size": 10,
              "solidity": 0.2
             }
            },
            "type": "bar"
           }
          ],
          "barpolar": [
           {
            "marker": {
             "line": {
              "color": "#E5ECF6",
              "width": 0.5
             },
             "pattern": {
              "fillmode": "overlay",
              "size": 10,
              "solidity": 0.2
             }
            },
            "type": "barpolar"
           }
          ],
          "carpet": [
           {
            "aaxis": {
             "endlinecolor": "#2a3f5f",
             "gridcolor": "white",
             "linecolor": "white",
             "minorgridcolor": "white",
             "startlinecolor": "#2a3f5f"
            },
            "baxis": {
             "endlinecolor": "#2a3f5f",
             "gridcolor": "white",
             "linecolor": "white",
             "minorgridcolor": "white",
             "startlinecolor": "#2a3f5f"
            },
            "type": "carpet"
           }
          ],
          "choropleth": [
           {
            "colorbar": {
             "outlinewidth": 0,
             "ticks": ""
            },
            "type": "choropleth"
           }
          ],
          "contour": [
           {
            "colorbar": {
             "outlinewidth": 0,
             "ticks": ""
            },
            "colorscale": [
             [
              0,
              "#0d0887"
             ],
             [
              0.1111111111111111,
              "#46039f"
             ],
             [
              0.2222222222222222,
              "#7201a8"
             ],
             [
              0.3333333333333333,
              "#9c179e"
             ],
             [
              0.4444444444444444,
              "#bd3786"
             ],
             [
              0.5555555555555556,
              "#d8576b"
             ],
             [
              0.6666666666666666,
              "#ed7953"
             ],
             [
              0.7777777777777778,
              "#fb9f3a"
             ],
             [
              0.8888888888888888,
              "#fdca26"
             ],
             [
              1,
              "#f0f921"
             ]
            ],
            "type": "contour"
           }
          ],
          "contourcarpet": [
           {
            "colorbar": {
             "outlinewidth": 0,
             "ticks": ""
            },
            "type": "contourcarpet"
           }
          ],
          "heatmap": [
           {
            "colorbar": {
             "outlinewidth": 0,
             "ticks": ""
            },
            "colorscale": [
             [
              0,
              "#0d0887"
             ],
             [
              0.1111111111111111,
              "#46039f"
             ],
             [
              0.2222222222222222,
              "#7201a8"
             ],
             [
              0.3333333333333333,
              "#9c179e"
             ],
             [
              0.4444444444444444,
              "#bd3786"
             ],
             [
              0.5555555555555556,
              "#d8576b"
             ],
             [
              0.6666666666666666,
              "#ed7953"
             ],
             [
              0.7777777777777778,
              "#fb9f3a"
             ],
             [
              0.8888888888888888,
              "#fdca26"
             ],
             [
              1,
              "#f0f921"
             ]
            ],
            "type": "heatmap"
           }
          ],
          "heatmapgl": [
           {
            "colorbar": {
             "outlinewidth": 0,
             "ticks": ""
            },
            "colorscale": [
             [
              0,
              "#0d0887"
             ],
             [
              0.1111111111111111,
              "#46039f"
             ],
             [
              0.2222222222222222,
              "#7201a8"
             ],
             [
              0.3333333333333333,
              "#9c179e"
             ],
             [
              0.4444444444444444,
              "#bd3786"
             ],
             [
              0.5555555555555556,
              "#d8576b"
             ],
             [
              0.6666666666666666,
              "#ed7953"
             ],
             [
              0.7777777777777778,
              "#fb9f3a"
             ],
             [
              0.8888888888888888,
              "#fdca26"
             ],
             [
              1,
              "#f0f921"
             ]
            ],
            "type": "heatmapgl"
           }
          ],
          "histogram": [
           {
            "marker": {
             "pattern": {
              "fillmode": "overlay",
              "size": 10,
              "solidity": 0.2
             }
            },
            "type": "histogram"
           }
          ],
          "histogram2d": [
           {
            "colorbar": {
             "outlinewidth": 0,
             "ticks": ""
            },
            "colorscale": [
             [
              0,
              "#0d0887"
             ],
             [
              0.1111111111111111,
              "#46039f"
             ],
             [
              0.2222222222222222,
              "#7201a8"
             ],
             [
              0.3333333333333333,
              "#9c179e"
             ],
             [
              0.4444444444444444,
              "#bd3786"
             ],
             [
              0.5555555555555556,
              "#d8576b"
             ],
             [
              0.6666666666666666,
              "#ed7953"
             ],
             [
              0.7777777777777778,
              "#fb9f3a"
             ],
             [
              0.8888888888888888,
              "#fdca26"
             ],
             [
              1,
              "#f0f921"
             ]
            ],
            "type": "histogram2d"
           }
          ],
          "histogram2dcontour": [
           {
            "colorbar": {
             "outlinewidth": 0,
             "ticks": ""
            },
            "colorscale": [
             [
              0,
              "#0d0887"
             ],
             [
              0.1111111111111111,
              "#46039f"
             ],
             [
              0.2222222222222222,
              "#7201a8"
             ],
             [
              0.3333333333333333,
              "#9c179e"
             ],
             [
              0.4444444444444444,
              "#bd3786"
             ],
             [
              0.5555555555555556,
              "#d8576b"
             ],
             [
              0.6666666666666666,
              "#ed7953"
             ],
             [
              0.7777777777777778,
              "#fb9f3a"
             ],
             [
              0.8888888888888888,
              "#fdca26"
             ],
             [
              1,
              "#f0f921"
             ]
            ],
            "type": "histogram2dcontour"
           }
          ],
          "mesh3d": [
           {
            "colorbar": {
             "outlinewidth": 0,
             "ticks": ""
            },
            "type": "mesh3d"
           }
          ],
          "parcoords": [
           {
            "line": {
             "colorbar": {
              "outlinewidth": 0,
              "ticks": ""
             }
            },
            "type": "parcoords"
           }
          ],
          "pie": [
           {
            "automargin": true,
            "type": "pie"
           }
          ],
          "scatter": [
           {
            "marker": {
             "colorbar": {
              "outlinewidth": 0,
              "ticks": ""
             }
            },
            "type": "scatter"
           }
          ],
          "scatter3d": [
           {
            "line": {
             "colorbar": {
              "outlinewidth": 0,
              "ticks": ""
             }
            },
            "marker": {
             "colorbar": {
              "outlinewidth": 0,
              "ticks": ""
             }
            },
            "type": "scatter3d"
           }
          ],
          "scattercarpet": [
           {
            "marker": {
             "colorbar": {
              "outlinewidth": 0,
              "ticks": ""
             }
            },
            "type": "scattercarpet"
           }
          ],
          "scattergeo": [
           {
            "marker": {
             "colorbar": {
              "outlinewidth": 0,
              "ticks": ""
             }
            },
            "type": "scattergeo"
           }
          ],
          "scattergl": [
           {
            "marker": {
             "colorbar": {
              "outlinewidth": 0,
              "ticks": ""
             }
            },
            "type": "scattergl"
           }
          ],
          "scattermapbox": [
           {
            "marker": {
             "colorbar": {
              "outlinewidth": 0,
              "ticks": ""
             }
            },
            "type": "scattermapbox"
           }
          ],
          "scatterpolar": [
           {
            "marker": {
             "colorbar": {
              "outlinewidth": 0,
              "ticks": ""
             }
            },
            "type": "scatterpolar"
           }
          ],
          "scatterpolargl": [
           {
            "marker": {
             "colorbar": {
              "outlinewidth": 0,
              "ticks": ""
             }
            },
            "type": "scatterpolargl"
           }
          ],
          "scatterternary": [
           {
            "marker": {
             "colorbar": {
              "outlinewidth": 0,
              "ticks": ""
             }
            },
            "type": "scatterternary"
           }
          ],
          "surface": [
           {
            "colorbar": {
             "outlinewidth": 0,
             "ticks": ""
            },
            "colorscale": [
             [
              0,
              "#0d0887"
             ],
             [
              0.1111111111111111,
              "#46039f"
             ],
             [
              0.2222222222222222,
              "#7201a8"
             ],
             [
              0.3333333333333333,
              "#9c179e"
             ],
             [
              0.4444444444444444,
              "#bd3786"
             ],
             [
              0.5555555555555556,
              "#d8576b"
             ],
             [
              0.6666666666666666,
              "#ed7953"
             ],
             [
              0.7777777777777778,
              "#fb9f3a"
             ],
             [
              0.8888888888888888,
              "#fdca26"
             ],
             [
              1,
              "#f0f921"
             ]
            ],
            "type": "surface"
           }
          ],
          "table": [
           {
            "cells": {
             "fill": {
              "color": "#EBF0F8"
             },
             "line": {
              "color": "white"
             }
            },
            "header": {
             "fill": {
              "color": "#C8D4E3"
             },
             "line": {
              "color": "white"
             }
            },
            "type": "table"
           }
          ]
         },
         "layout": {
          "annotationdefaults": {
           "arrowcolor": "#2a3f5f",
           "arrowhead": 0,
           "arrowwidth": 1
          },
          "autotypenumbers": "strict",
          "coloraxis": {
           "colorbar": {
            "outlinewidth": 0,
            "ticks": ""
           }
          },
          "colorscale": {
           "diverging": [
            [
             0,
             "#8e0152"
            ],
            [
             0.1,
             "#c51b7d"
            ],
            [
             0.2,
             "#de77ae"
            ],
            [
             0.3,
             "#f1b6da"
            ],
            [
             0.4,
             "#fde0ef"
            ],
            [
             0.5,
             "#f7f7f7"
            ],
            [
             0.6,
             "#e6f5d0"
            ],
            [
             0.7,
             "#b8e186"
            ],
            [
             0.8,
             "#7fbc41"
            ],
            [
             0.9,
             "#4d9221"
            ],
            [
             1,
             "#276419"
            ]
           ],
           "sequential": [
            [
             0,
             "#0d0887"
            ],
            [
             0.1111111111111111,
             "#46039f"
            ],
            [
             0.2222222222222222,
             "#7201a8"
            ],
            [
             0.3333333333333333,
             "#9c179e"
            ],
            [
             0.4444444444444444,
             "#bd3786"
            ],
            [
             0.5555555555555556,
             "#d8576b"
            ],
            [
             0.6666666666666666,
             "#ed7953"
            ],
            [
             0.7777777777777778,
             "#fb9f3a"
            ],
            [
             0.8888888888888888,
             "#fdca26"
            ],
            [
             1,
             "#f0f921"
            ]
           ],
           "sequentialminus": [
            [
             0,
             "#0d0887"
            ],
            [
             0.1111111111111111,
             "#46039f"
            ],
            [
             0.2222222222222222,
             "#7201a8"
            ],
            [
             0.3333333333333333,
             "#9c179e"
            ],
            [
             0.4444444444444444,
             "#bd3786"
            ],
            [
             0.5555555555555556,
             "#d8576b"
            ],
            [
             0.6666666666666666,
             "#ed7953"
            ],
            [
             0.7777777777777778,
             "#fb9f3a"
            ],
            [
             0.8888888888888888,
             "#fdca26"
            ],
            [
             1,
             "#f0f921"
            ]
           ]
          },
          "colorway": [
           "#636efa",
           "#EF553B",
           "#00cc96",
           "#ab63fa",
           "#FFA15A",
           "#19d3f3",
           "#FF6692",
           "#B6E880",
           "#FF97FF",
           "#FECB52"
          ],
          "font": {
           "color": "#2a3f5f"
          },
          "geo": {
           "bgcolor": "white",
           "lakecolor": "white",
           "landcolor": "#E5ECF6",
           "showlakes": true,
           "showland": true,
           "subunitcolor": "white"
          },
          "hoverlabel": {
           "align": "left"
          },
          "hovermode": "closest",
          "mapbox": {
           "style": "light"
          },
          "paper_bgcolor": "white",
          "plot_bgcolor": "#E5ECF6",
          "polar": {
           "angularaxis": {
            "gridcolor": "white",
            "linecolor": "white",
            "ticks": ""
           },
           "bgcolor": "#E5ECF6",
           "radialaxis": {
            "gridcolor": "white",
            "linecolor": "white",
            "ticks": ""
           }
          },
          "scene": {
           "xaxis": {
            "backgroundcolor": "#E5ECF6",
            "gridcolor": "white",
            "gridwidth": 2,
            "linecolor": "white",
            "showbackground": true,
            "ticks": "",
            "zerolinecolor": "white"
           },
           "yaxis": {
            "backgroundcolor": "#E5ECF6",
            "gridcolor": "white",
            "gridwidth": 2,
            "linecolor": "white",
            "showbackground": true,
            "ticks": "",
            "zerolinecolor": "white"
           },
           "zaxis": {
            "backgroundcolor": "#E5ECF6",
            "gridcolor": "white",
            "gridwidth": 2,
            "linecolor": "white",
            "showbackground": true,
            "ticks": "",
            "zerolinecolor": "white"
           }
          },
          "shapedefaults": {
           "line": {
            "color": "#2a3f5f"
           }
          },
          "ternary": {
           "aaxis": {
            "gridcolor": "white",
            "linecolor": "white",
            "ticks": ""
           },
           "baxis": {
            "gridcolor": "white",
            "linecolor": "white",
            "ticks": ""
           },
           "bgcolor": "#E5ECF6",
           "caxis": {
            "gridcolor": "white",
            "linecolor": "white",
            "ticks": ""
           }
          },
          "title": {
           "x": 0.05
          },
          "xaxis": {
           "automargin": true,
           "gridcolor": "white",
           "linecolor": "white",
           "ticks": "",
           "title": {
            "standoff": 15
           },
           "zerolinecolor": "white",
           "zerolinewidth": 2
          },
          "yaxis": {
           "automargin": true,
           "gridcolor": "white",
           "linecolor": "white",
           "ticks": "",
           "title": {
            "standoff": 15
           },
           "zerolinecolor": "white",
           "zerolinewidth": 2
          }
         }
        },
        "xaxis": {
         "anchor": "y",
         "domain": [
          0,
          1
         ],
         "title": {
          "text": "policy_csl"
         }
        },
        "yaxis": {
         "anchor": "x",
         "domain": [
          0,
          1
         ],
         "title": {
          "text": "count"
         }
        }
       }
      }
     },
     "metadata": {},
     "output_type": "display_data"
    }
   ],
   "source": [
    "fig = px.histogram(df, x=\"policy_csl\", color=\"fraud_reported\")\n",
    "fig.show()"
   ]
  },
  {
   "cell_type": "code",
   "execution_count": 201,
   "metadata": {},
   "outputs": [
    {
     "data": {
      "application/vnd.plotly.v1+json": {
       "config": {
        "plotlyServerURL": "https://plot.ly"
       },
       "data": [
        {
         "alignmentgroup": "True",
         "bingroup": "x",
         "hovertemplate": "fraud_reported=Y<br>insured_sex=%{x}<br>count=%{y}<extra></extra>",
         "legendgroup": "Y",
         "marker": {
          "color": "#636efa",
          "pattern": {
           "shape": ""
          }
         },
         "name": "Y",
         "offsetgroup": "Y",
         "orientation": "v",
         "showlegend": true,
         "type": "histogram",
         "x": [
          "MALE",
          "MALE",
          "FEMALE",
          "FEMALE",
          "FEMALE",
          "FEMALE",
          "MALE",
          "MALE",
          "MALE",
          "MALE",
          "MALE",
          "MALE",
          "FEMALE",
          "MALE",
          "MALE",
          "MALE",
          "MALE",
          "MALE",
          "MALE",
          "FEMALE",
          "FEMALE",
          "FEMALE",
          "FEMALE",
          "FEMALE",
          "MALE",
          "FEMALE",
          "FEMALE",
          "FEMALE",
          "MALE",
          "FEMALE",
          "FEMALE",
          "FEMALE",
          "MALE",
          "MALE",
          "MALE",
          "FEMALE",
          "FEMALE",
          "MALE",
          "FEMALE",
          "FEMALE",
          "MALE",
          "FEMALE",
          "MALE",
          "MALE",
          "FEMALE",
          "MALE",
          "FEMALE",
          "MALE",
          "FEMALE",
          "FEMALE",
          "MALE",
          "MALE",
          "MALE",
          "FEMALE",
          "MALE",
          "FEMALE",
          "FEMALE",
          "FEMALE",
          "MALE",
          "FEMALE",
          "MALE",
          "FEMALE",
          "MALE",
          "MALE",
          "FEMALE",
          "FEMALE",
          "FEMALE",
          "FEMALE",
          "MALE",
          "MALE",
          "FEMALE",
          "MALE",
          "FEMALE",
          "MALE",
          "MALE",
          "MALE",
          "MALE",
          "MALE",
          "FEMALE",
          "FEMALE",
          "MALE",
          "FEMALE",
          "FEMALE",
          "MALE",
          "FEMALE",
          "FEMALE",
          "FEMALE",
          "FEMALE",
          "MALE",
          "MALE",
          "MALE",
          "MALE",
          "MALE",
          "FEMALE",
          "FEMALE",
          "MALE",
          "FEMALE",
          "FEMALE",
          "FEMALE",
          "MALE",
          "FEMALE",
          "FEMALE",
          "FEMALE",
          "FEMALE",
          "FEMALE",
          "FEMALE",
          "FEMALE",
          "MALE",
          "MALE",
          "MALE",
          "MALE",
          "FEMALE",
          "FEMALE",
          "MALE",
          "FEMALE",
          "FEMALE",
          "FEMALE",
          "FEMALE",
          "FEMALE",
          "FEMALE",
          "MALE",
          "FEMALE",
          "FEMALE",
          "FEMALE",
          "MALE",
          "MALE",
          "MALE",
          "MALE",
          "MALE",
          "MALE",
          "MALE",
          "FEMALE",
          "MALE",
          "FEMALE",
          "FEMALE",
          "MALE",
          "FEMALE",
          "FEMALE",
          "MALE",
          "MALE",
          "MALE",
          "MALE",
          "MALE",
          "FEMALE",
          "MALE",
          "MALE",
          "MALE",
          "MALE",
          "MALE",
          "MALE",
          "FEMALE",
          "FEMALE",
          "FEMALE",
          "FEMALE",
          "MALE",
          "MALE",
          "FEMALE",
          "FEMALE",
          "MALE",
          "FEMALE",
          "FEMALE",
          "FEMALE",
          "FEMALE",
          "FEMALE",
          "FEMALE",
          "MALE",
          "FEMALE",
          "MALE",
          "MALE",
          "MALE",
          "FEMALE",
          "MALE",
          "MALE",
          "FEMALE",
          "FEMALE",
          "FEMALE",
          "FEMALE",
          "MALE",
          "FEMALE",
          "FEMALE",
          "FEMALE",
          "FEMALE",
          "MALE",
          "MALE",
          "FEMALE",
          "MALE",
          "MALE",
          "FEMALE",
          "MALE",
          "FEMALE",
          "FEMALE",
          "MALE",
          "MALE",
          "MALE",
          "MALE",
          "MALE",
          "MALE",
          "FEMALE",
          "FEMALE",
          "MALE",
          "FEMALE",
          "FEMALE",
          "MALE",
          "FEMALE",
          "MALE",
          "FEMALE",
          "MALE",
          "FEMALE",
          "MALE",
          "MALE",
          "FEMALE",
          "FEMALE",
          "MALE",
          "FEMALE",
          "MALE",
          "MALE",
          "FEMALE",
          "FEMALE",
          "MALE",
          "FEMALE",
          "MALE",
          "FEMALE",
          "MALE",
          "MALE",
          "FEMALE",
          "MALE",
          "MALE",
          "MALE",
          "FEMALE",
          "MALE",
          "FEMALE",
          "MALE",
          "FEMALE",
          "FEMALE",
          "FEMALE",
          "FEMALE",
          "FEMALE",
          "FEMALE",
          "FEMALE",
          "FEMALE",
          "MALE",
          "MALE",
          "FEMALE",
          "MALE",
          "MALE",
          "MALE",
          "MALE"
         ],
         "xaxis": "x",
         "yaxis": "y"
        },
        {
         "alignmentgroup": "True",
         "bingroup": "x",
         "hovertemplate": "fraud_reported=N<br>insured_sex=%{x}<br>count=%{y}<extra></extra>",
         "legendgroup": "N",
         "marker": {
          "color": "#EF553B",
          "pattern": {
           "shape": ""
          }
         },
         "name": "N",
         "offsetgroup": "N",
         "orientation": "v",
         "showlegend": true,
         "type": "histogram",
         "x": [
          "FEMALE",
          "MALE",
          "MALE",
          "MALE",
          "FEMALE",
          "MALE",
          "FEMALE",
          "FEMALE",
          "MALE",
          "FEMALE",
          "MALE",
          "MALE",
          "FEMALE",
          "FEMALE",
          "MALE",
          "FEMALE",
          "MALE",
          "MALE",
          "FEMALE",
          "FEMALE",
          "MALE",
          "FEMALE",
          "MALE",
          "MALE",
          "FEMALE",
          "FEMALE",
          "MALE",
          "FEMALE",
          "FEMALE",
          "MALE",
          "FEMALE",
          "FEMALE",
          "FEMALE",
          "FEMALE",
          "MALE",
          "FEMALE",
          "MALE",
          "FEMALE",
          "MALE",
          "MALE",
          "FEMALE",
          "FEMALE",
          "MALE",
          "FEMALE",
          "MALE",
          "MALE",
          "FEMALE",
          "MALE",
          "MALE",
          "FEMALE",
          "FEMALE",
          "FEMALE",
          "FEMALE",
          "FEMALE",
          "MALE",
          "FEMALE",
          "MALE",
          "FEMALE",
          "MALE",
          "MALE",
          "MALE",
          "FEMALE",
          "FEMALE",
          "FEMALE",
          "FEMALE",
          "MALE",
          "FEMALE",
          "FEMALE",
          "FEMALE",
          "FEMALE",
          "MALE",
          "FEMALE",
          "FEMALE",
          "FEMALE",
          "FEMALE",
          "MALE",
          "MALE",
          "FEMALE",
          "FEMALE",
          "MALE",
          "MALE",
          "MALE",
          "FEMALE",
          "FEMALE",
          "FEMALE",
          "MALE",
          "FEMALE",
          "FEMALE",
          "MALE",
          "MALE",
          "FEMALE",
          "MALE",
          "MALE",
          "FEMALE",
          "FEMALE",
          "MALE",
          "FEMALE",
          "FEMALE",
          "FEMALE",
          "FEMALE",
          "MALE",
          "MALE",
          "MALE",
          "FEMALE",
          "FEMALE",
          "FEMALE",
          "MALE",
          "FEMALE",
          "MALE",
          "FEMALE",
          "MALE",
          "FEMALE",
          "FEMALE",
          "FEMALE",
          "FEMALE",
          "FEMALE",
          "FEMALE",
          "MALE",
          "FEMALE",
          "MALE",
          "MALE",
          "MALE",
          "FEMALE",
          "FEMALE",
          "MALE",
          "MALE",
          "FEMALE",
          "FEMALE",
          "MALE",
          "MALE",
          "FEMALE",
          "FEMALE",
          "MALE",
          "FEMALE",
          "FEMALE",
          "FEMALE",
          "MALE",
          "MALE",
          "FEMALE",
          "MALE",
          "MALE",
          "MALE",
          "FEMALE",
          "MALE",
          "FEMALE",
          "MALE",
          "MALE",
          "FEMALE",
          "MALE",
          "MALE",
          "FEMALE",
          "MALE",
          "MALE",
          "MALE",
          "FEMALE",
          "MALE",
          "MALE",
          "FEMALE",
          "MALE",
          "MALE",
          "FEMALE",
          "FEMALE",
          "MALE",
          "FEMALE",
          "MALE",
          "FEMALE",
          "FEMALE",
          "FEMALE",
          "FEMALE",
          "MALE",
          "FEMALE",
          "MALE",
          "MALE",
          "MALE",
          "FEMALE",
          "FEMALE",
          "FEMALE",
          "FEMALE",
          "FEMALE",
          "MALE",
          "FEMALE",
          "MALE",
          "FEMALE",
          "FEMALE",
          "FEMALE",
          "MALE",
          "FEMALE",
          "FEMALE",
          "MALE",
          "FEMALE",
          "FEMALE",
          "FEMALE",
          "MALE",
          "FEMALE",
          "MALE",
          "FEMALE",
          "FEMALE",
          "FEMALE",
          "FEMALE",
          "MALE",
          "FEMALE",
          "FEMALE",
          "FEMALE",
          "FEMALE",
          "FEMALE",
          "MALE",
          "FEMALE",
          "FEMALE",
          "MALE",
          "MALE",
          "MALE",
          "FEMALE",
          "MALE",
          "FEMALE",
          "FEMALE",
          "MALE",
          "FEMALE",
          "MALE",
          "MALE",
          "MALE",
          "MALE",
          "MALE",
          "MALE",
          "FEMALE",
          "MALE",
          "FEMALE",
          "FEMALE",
          "MALE",
          "FEMALE",
          "FEMALE",
          "FEMALE",
          "MALE",
          "MALE",
          "FEMALE",
          "MALE",
          "FEMALE",
          "MALE",
          "MALE",
          "FEMALE",
          "FEMALE",
          "MALE",
          "FEMALE",
          "MALE",
          "MALE",
          "FEMALE",
          "MALE",
          "FEMALE",
          "MALE",
          "MALE",
          "MALE",
          "FEMALE",
          "MALE",
          "FEMALE",
          "FEMALE",
          "MALE",
          "FEMALE",
          "FEMALE",
          "FEMALE",
          "MALE",
          "MALE",
          "MALE",
          "FEMALE",
          "FEMALE",
          "MALE",
          "MALE",
          "FEMALE",
          "FEMALE",
          "MALE",
          "FEMALE",
          "FEMALE",
          "MALE",
          "MALE",
          "FEMALE",
          "FEMALE",
          "FEMALE",
          "MALE",
          "FEMALE",
          "MALE",
          "MALE",
          "FEMALE",
          "FEMALE",
          "MALE",
          "FEMALE",
          "MALE",
          "FEMALE",
          "MALE",
          "MALE",
          "FEMALE",
          "MALE",
          "FEMALE",
          "MALE",
          "MALE",
          "FEMALE",
          "MALE",
          "FEMALE",
          "MALE",
          "FEMALE",
          "FEMALE",
          "FEMALE",
          "FEMALE",
          "MALE",
          "MALE",
          "FEMALE",
          "FEMALE",
          "FEMALE",
          "MALE",
          "FEMALE",
          "FEMALE",
          "MALE",
          "MALE",
          "FEMALE",
          "MALE",
          "FEMALE",
          "MALE",
          "FEMALE",
          "FEMALE",
          "MALE",
          "MALE",
          "MALE",
          "MALE",
          "FEMALE",
          "MALE",
          "MALE",
          "MALE",
          "FEMALE",
          "FEMALE",
          "FEMALE",
          "MALE",
          "FEMALE",
          "FEMALE",
          "FEMALE",
          "FEMALE",
          "FEMALE",
          "FEMALE",
          "FEMALE",
          "MALE",
          "MALE",
          "FEMALE",
          "FEMALE",
          "MALE",
          "MALE",
          "MALE",
          "FEMALE",
          "FEMALE",
          "FEMALE",
          "FEMALE",
          "FEMALE",
          "MALE",
          "MALE",
          "FEMALE",
          "FEMALE",
          "MALE",
          "FEMALE",
          "MALE",
          "MALE",
          "MALE",
          "MALE",
          "FEMALE",
          "MALE",
          "MALE",
          "FEMALE",
          "MALE",
          "FEMALE",
          "MALE",
          "MALE",
          "MALE",
          "FEMALE",
          "FEMALE",
          "MALE",
          "FEMALE",
          "FEMALE",
          "MALE",
          "FEMALE",
          "MALE",
          "FEMALE",
          "MALE",
          "MALE",
          "FEMALE",
          "MALE",
          "FEMALE",
          "FEMALE",
          "FEMALE",
          "MALE",
          "FEMALE",
          "MALE",
          "FEMALE",
          "MALE",
          "FEMALE",
          "FEMALE",
          "FEMALE",
          "FEMALE",
          "FEMALE",
          "FEMALE",
          "FEMALE",
          "FEMALE",
          "MALE",
          "MALE",
          "FEMALE",
          "MALE",
          "FEMALE",
          "FEMALE",
          "FEMALE",
          "FEMALE",
          "FEMALE",
          "FEMALE",
          "FEMALE",
          "MALE",
          "MALE",
          "MALE",
          "MALE",
          "MALE",
          "FEMALE",
          "FEMALE",
          "MALE",
          "MALE",
          "FEMALE",
          "MALE",
          "FEMALE",
          "FEMALE",
          "FEMALE",
          "FEMALE",
          "FEMALE",
          "MALE",
          "MALE",
          "MALE",
          "FEMALE",
          "FEMALE",
          "MALE",
          "MALE",
          "MALE",
          "MALE",
          "MALE",
          "FEMALE",
          "MALE",
          "FEMALE",
          "MALE",
          "MALE",
          "MALE",
          "FEMALE",
          "FEMALE",
          "FEMALE",
          "MALE",
          "MALE",
          "FEMALE",
          "FEMALE",
          "FEMALE",
          "MALE",
          "FEMALE",
          "MALE",
          "MALE",
          "FEMALE",
          "FEMALE",
          "FEMALE",
          "MALE",
          "MALE",
          "MALE",
          "FEMALE",
          "MALE",
          "MALE",
          "MALE",
          "MALE",
          "MALE",
          "FEMALE",
          "FEMALE",
          "MALE",
          "MALE",
          "FEMALE",
          "MALE",
          "MALE",
          "FEMALE",
          "FEMALE",
          "MALE",
          "FEMALE",
          "MALE",
          "MALE",
          "MALE",
          "FEMALE",
          "FEMALE",
          "FEMALE",
          "MALE",
          "FEMALE",
          "MALE",
          "MALE",
          "MALE",
          "FEMALE",
          "FEMALE",
          "FEMALE",
          "MALE",
          "MALE",
          "FEMALE",
          "MALE",
          "MALE",
          "MALE",
          "FEMALE",
          "FEMALE",
          "FEMALE",
          "MALE",
          "MALE",
          "MALE",
          "FEMALE",
          "MALE",
          "FEMALE",
          "FEMALE",
          "MALE",
          "MALE",
          "MALE",
          "MALE",
          "FEMALE",
          "FEMALE",
          "MALE",
          "MALE",
          "MALE",
          "MALE",
          "FEMALE",
          "MALE",
          "MALE",
          "MALE",
          "FEMALE",
          "MALE",
          "MALE",
          "FEMALE",
          "FEMALE",
          "MALE",
          "FEMALE",
          "FEMALE",
          "MALE",
          "FEMALE",
          "MALE",
          "FEMALE",
          "MALE",
          "MALE",
          "FEMALE",
          "MALE",
          "MALE",
          "MALE",
          "MALE",
          "MALE",
          "FEMALE",
          "MALE",
          "FEMALE",
          "FEMALE",
          "FEMALE",
          "FEMALE",
          "MALE",
          "FEMALE",
          "MALE",
          "FEMALE",
          "FEMALE",
          "MALE",
          "FEMALE",
          "MALE",
          "FEMALE",
          "FEMALE",
          "FEMALE",
          "FEMALE",
          "FEMALE",
          "FEMALE",
          "MALE",
          "MALE",
          "FEMALE",
          "MALE",
          "MALE",
          "MALE",
          "MALE",
          "FEMALE",
          "FEMALE",
          "FEMALE",
          "FEMALE",
          "FEMALE",
          "FEMALE",
          "FEMALE",
          "MALE",
          "FEMALE",
          "MALE",
          "FEMALE",
          "FEMALE",
          "MALE",
          "FEMALE",
          "FEMALE",
          "FEMALE",
          "MALE",
          "FEMALE",
          "FEMALE",
          "FEMALE",
          "FEMALE",
          "MALE",
          "MALE",
          "MALE",
          "FEMALE",
          "MALE",
          "MALE",
          "FEMALE",
          "MALE",
          "MALE",
          "FEMALE",
          "FEMALE",
          "FEMALE",
          "MALE",
          "FEMALE",
          "FEMALE",
          "MALE",
          "MALE",
          "MALE",
          "FEMALE",
          "FEMALE",
          "FEMALE",
          "FEMALE",
          "FEMALE",
          "FEMALE",
          "FEMALE",
          "FEMALE",
          "MALE",
          "MALE",
          "MALE",
          "FEMALE",
          "MALE",
          "FEMALE",
          "FEMALE",
          "FEMALE",
          "FEMALE",
          "FEMALE",
          "FEMALE",
          "FEMALE",
          "FEMALE",
          "MALE",
          "MALE",
          "FEMALE",
          "MALE",
          "FEMALE",
          "MALE",
          "FEMALE",
          "FEMALE",
          "MALE",
          "FEMALE",
          "MALE",
          "MALE",
          "FEMALE",
          "MALE",
          "FEMALE",
          "MALE",
          "MALE",
          "MALE",
          "FEMALE",
          "MALE",
          "FEMALE",
          "FEMALE",
          "FEMALE",
          "FEMALE",
          "FEMALE",
          "FEMALE",
          "FEMALE",
          "FEMALE",
          "FEMALE",
          "FEMALE",
          "FEMALE",
          "FEMALE",
          "MALE",
          "MALE",
          "FEMALE",
          "MALE",
          "MALE",
          "FEMALE",
          "MALE",
          "FEMALE",
          "FEMALE",
          "FEMALE",
          "FEMALE",
          "MALE",
          "MALE",
          "MALE",
          "MALE",
          "FEMALE",
          "FEMALE",
          "FEMALE",
          "MALE",
          "FEMALE",
          "MALE",
          "MALE",
          "FEMALE",
          "MALE",
          "FEMALE",
          "MALE",
          "FEMALE",
          "FEMALE",
          "MALE",
          "MALE",
          "FEMALE",
          "MALE",
          "MALE",
          "MALE",
          "MALE",
          "FEMALE",
          "MALE",
          "FEMALE",
          "FEMALE",
          "FEMALE",
          "MALE",
          "FEMALE",
          "MALE",
          "FEMALE",
          "FEMALE",
          "MALE",
          "FEMALE",
          "FEMALE",
          "FEMALE",
          "FEMALE",
          "FEMALE",
          "MALE",
          "MALE",
          "FEMALE",
          "MALE",
          "FEMALE",
          "FEMALE",
          "FEMALE",
          "FEMALE",
          "MALE",
          "FEMALE",
          "MALE",
          "MALE",
          "FEMALE",
          "MALE",
          "FEMALE",
          "FEMALE",
          "FEMALE",
          "FEMALE",
          "FEMALE",
          "MALE",
          "FEMALE",
          "FEMALE",
          "MALE",
          "MALE",
          "FEMALE",
          "FEMALE",
          "FEMALE",
          "FEMALE",
          "FEMALE",
          "MALE",
          "MALE",
          "FEMALE",
          "MALE",
          "MALE",
          "FEMALE",
          "FEMALE",
          "FEMALE",
          "MALE",
          "MALE",
          "MALE",
          "MALE",
          "FEMALE",
          "FEMALE",
          "FEMALE",
          "MALE",
          "FEMALE"
         ],
         "xaxis": "x",
         "yaxis": "y"
        }
       ],
       "layout": {
        "barmode": "relative",
        "legend": {
         "title": {
          "text": "fraud_reported"
         },
         "tracegroupgap": 0
        },
        "margin": {
         "t": 60
        },
        "template": {
         "data": {
          "bar": [
           {
            "error_x": {
             "color": "#2a3f5f"
            },
            "error_y": {
             "color": "#2a3f5f"
            },
            "marker": {
             "line": {
              "color": "#E5ECF6",
              "width": 0.5
             },
             "pattern": {
              "fillmode": "overlay",
              "size": 10,
              "solidity": 0.2
             }
            },
            "type": "bar"
           }
          ],
          "barpolar": [
           {
            "marker": {
             "line": {
              "color": "#E5ECF6",
              "width": 0.5
             },
             "pattern": {
              "fillmode": "overlay",
              "size": 10,
              "solidity": 0.2
             }
            },
            "type": "barpolar"
           }
          ],
          "carpet": [
           {
            "aaxis": {
             "endlinecolor": "#2a3f5f",
             "gridcolor": "white",
             "linecolor": "white",
             "minorgridcolor": "white",
             "startlinecolor": "#2a3f5f"
            },
            "baxis": {
             "endlinecolor": "#2a3f5f",
             "gridcolor": "white",
             "linecolor": "white",
             "minorgridcolor": "white",
             "startlinecolor": "#2a3f5f"
            },
            "type": "carpet"
           }
          ],
          "choropleth": [
           {
            "colorbar": {
             "outlinewidth": 0,
             "ticks": ""
            },
            "type": "choropleth"
           }
          ],
          "contour": [
           {
            "colorbar": {
             "outlinewidth": 0,
             "ticks": ""
            },
            "colorscale": [
             [
              0,
              "#0d0887"
             ],
             [
              0.1111111111111111,
              "#46039f"
             ],
             [
              0.2222222222222222,
              "#7201a8"
             ],
             [
              0.3333333333333333,
              "#9c179e"
             ],
             [
              0.4444444444444444,
              "#bd3786"
             ],
             [
              0.5555555555555556,
              "#d8576b"
             ],
             [
              0.6666666666666666,
              "#ed7953"
             ],
             [
              0.7777777777777778,
              "#fb9f3a"
             ],
             [
              0.8888888888888888,
              "#fdca26"
             ],
             [
              1,
              "#f0f921"
             ]
            ],
            "type": "contour"
           }
          ],
          "contourcarpet": [
           {
            "colorbar": {
             "outlinewidth": 0,
             "ticks": ""
            },
            "type": "contourcarpet"
           }
          ],
          "heatmap": [
           {
            "colorbar": {
             "outlinewidth": 0,
             "ticks": ""
            },
            "colorscale": [
             [
              0,
              "#0d0887"
             ],
             [
              0.1111111111111111,
              "#46039f"
             ],
             [
              0.2222222222222222,
              "#7201a8"
             ],
             [
              0.3333333333333333,
              "#9c179e"
             ],
             [
              0.4444444444444444,
              "#bd3786"
             ],
             [
              0.5555555555555556,
              "#d8576b"
             ],
             [
              0.6666666666666666,
              "#ed7953"
             ],
             [
              0.7777777777777778,
              "#fb9f3a"
             ],
             [
              0.8888888888888888,
              "#fdca26"
             ],
             [
              1,
              "#f0f921"
             ]
            ],
            "type": "heatmap"
           }
          ],
          "heatmapgl": [
           {
            "colorbar": {
             "outlinewidth": 0,
             "ticks": ""
            },
            "colorscale": [
             [
              0,
              "#0d0887"
             ],
             [
              0.1111111111111111,
              "#46039f"
             ],
             [
              0.2222222222222222,
              "#7201a8"
             ],
             [
              0.3333333333333333,
              "#9c179e"
             ],
             [
              0.4444444444444444,
              "#bd3786"
             ],
             [
              0.5555555555555556,
              "#d8576b"
             ],
             [
              0.6666666666666666,
              "#ed7953"
             ],
             [
              0.7777777777777778,
              "#fb9f3a"
             ],
             [
              0.8888888888888888,
              "#fdca26"
             ],
             [
              1,
              "#f0f921"
             ]
            ],
            "type": "heatmapgl"
           }
          ],
          "histogram": [
           {
            "marker": {
             "pattern": {
              "fillmode": "overlay",
              "size": 10,
              "solidity": 0.2
             }
            },
            "type": "histogram"
           }
          ],
          "histogram2d": [
           {
            "colorbar": {
             "outlinewidth": 0,
             "ticks": ""
            },
            "colorscale": [
             [
              0,
              "#0d0887"
             ],
             [
              0.1111111111111111,
              "#46039f"
             ],
             [
              0.2222222222222222,
              "#7201a8"
             ],
             [
              0.3333333333333333,
              "#9c179e"
             ],
             [
              0.4444444444444444,
              "#bd3786"
             ],
             [
              0.5555555555555556,
              "#d8576b"
             ],
             [
              0.6666666666666666,
              "#ed7953"
             ],
             [
              0.7777777777777778,
              "#fb9f3a"
             ],
             [
              0.8888888888888888,
              "#fdca26"
             ],
             [
              1,
              "#f0f921"
             ]
            ],
            "type": "histogram2d"
           }
          ],
          "histogram2dcontour": [
           {
            "colorbar": {
             "outlinewidth": 0,
             "ticks": ""
            },
            "colorscale": [
             [
              0,
              "#0d0887"
             ],
             [
              0.1111111111111111,
              "#46039f"
             ],
             [
              0.2222222222222222,
              "#7201a8"
             ],
             [
              0.3333333333333333,
              "#9c179e"
             ],
             [
              0.4444444444444444,
              "#bd3786"
             ],
             [
              0.5555555555555556,
              "#d8576b"
             ],
             [
              0.6666666666666666,
              "#ed7953"
             ],
             [
              0.7777777777777778,
              "#fb9f3a"
             ],
             [
              0.8888888888888888,
              "#fdca26"
             ],
             [
              1,
              "#f0f921"
             ]
            ],
            "type": "histogram2dcontour"
           }
          ],
          "mesh3d": [
           {
            "colorbar": {
             "outlinewidth": 0,
             "ticks": ""
            },
            "type": "mesh3d"
           }
          ],
          "parcoords": [
           {
            "line": {
             "colorbar": {
              "outlinewidth": 0,
              "ticks": ""
             }
            },
            "type": "parcoords"
           }
          ],
          "pie": [
           {
            "automargin": true,
            "type": "pie"
           }
          ],
          "scatter": [
           {
            "marker": {
             "colorbar": {
              "outlinewidth": 0,
              "ticks": ""
             }
            },
            "type": "scatter"
           }
          ],
          "scatter3d": [
           {
            "line": {
             "colorbar": {
              "outlinewidth": 0,
              "ticks": ""
             }
            },
            "marker": {
             "colorbar": {
              "outlinewidth": 0,
              "ticks": ""
             }
            },
            "type": "scatter3d"
           }
          ],
          "scattercarpet": [
           {
            "marker": {
             "colorbar": {
              "outlinewidth": 0,
              "ticks": ""
             }
            },
            "type": "scattercarpet"
           }
          ],
          "scattergeo": [
           {
            "marker": {
             "colorbar": {
              "outlinewidth": 0,
              "ticks": ""
             }
            },
            "type": "scattergeo"
           }
          ],
          "scattergl": [
           {
            "marker": {
             "colorbar": {
              "outlinewidth": 0,
              "ticks": ""
             }
            },
            "type": "scattergl"
           }
          ],
          "scattermapbox": [
           {
            "marker": {
             "colorbar": {
              "outlinewidth": 0,
              "ticks": ""
             }
            },
            "type": "scattermapbox"
           }
          ],
          "scatterpolar": [
           {
            "marker": {
             "colorbar": {
              "outlinewidth": 0,
              "ticks": ""
             }
            },
            "type": "scatterpolar"
           }
          ],
          "scatterpolargl": [
           {
            "marker": {
             "colorbar": {
              "outlinewidth": 0,
              "ticks": ""
             }
            },
            "type": "scatterpolargl"
           }
          ],
          "scatterternary": [
           {
            "marker": {
             "colorbar": {
              "outlinewidth": 0,
              "ticks": ""
             }
            },
            "type": "scatterternary"
           }
          ],
          "surface": [
           {
            "colorbar": {
             "outlinewidth": 0,
             "ticks": ""
            },
            "colorscale": [
             [
              0,
              "#0d0887"
             ],
             [
              0.1111111111111111,
              "#46039f"
             ],
             [
              0.2222222222222222,
              "#7201a8"
             ],
             [
              0.3333333333333333,
              "#9c179e"
             ],
             [
              0.4444444444444444,
              "#bd3786"
             ],
             [
              0.5555555555555556,
              "#d8576b"
             ],
             [
              0.6666666666666666,
              "#ed7953"
             ],
             [
              0.7777777777777778,
              "#fb9f3a"
             ],
             [
              0.8888888888888888,
              "#fdca26"
             ],
             [
              1,
              "#f0f921"
             ]
            ],
            "type": "surface"
           }
          ],
          "table": [
           {
            "cells": {
             "fill": {
              "color": "#EBF0F8"
             },
             "line": {
              "color": "white"
             }
            },
            "header": {
             "fill": {
              "color": "#C8D4E3"
             },
             "line": {
              "color": "white"
             }
            },
            "type": "table"
           }
          ]
         },
         "layout": {
          "annotationdefaults": {
           "arrowcolor": "#2a3f5f",
           "arrowhead": 0,
           "arrowwidth": 1
          },
          "autotypenumbers": "strict",
          "coloraxis": {
           "colorbar": {
            "outlinewidth": 0,
            "ticks": ""
           }
          },
          "colorscale": {
           "diverging": [
            [
             0,
             "#8e0152"
            ],
            [
             0.1,
             "#c51b7d"
            ],
            [
             0.2,
             "#de77ae"
            ],
            [
             0.3,
             "#f1b6da"
            ],
            [
             0.4,
             "#fde0ef"
            ],
            [
             0.5,
             "#f7f7f7"
            ],
            [
             0.6,
             "#e6f5d0"
            ],
            [
             0.7,
             "#b8e186"
            ],
            [
             0.8,
             "#7fbc41"
            ],
            [
             0.9,
             "#4d9221"
            ],
            [
             1,
             "#276419"
            ]
           ],
           "sequential": [
            [
             0,
             "#0d0887"
            ],
            [
             0.1111111111111111,
             "#46039f"
            ],
            [
             0.2222222222222222,
             "#7201a8"
            ],
            [
             0.3333333333333333,
             "#9c179e"
            ],
            [
             0.4444444444444444,
             "#bd3786"
            ],
            [
             0.5555555555555556,
             "#d8576b"
            ],
            [
             0.6666666666666666,
             "#ed7953"
            ],
            [
             0.7777777777777778,
             "#fb9f3a"
            ],
            [
             0.8888888888888888,
             "#fdca26"
            ],
            [
             1,
             "#f0f921"
            ]
           ],
           "sequentialminus": [
            [
             0,
             "#0d0887"
            ],
            [
             0.1111111111111111,
             "#46039f"
            ],
            [
             0.2222222222222222,
             "#7201a8"
            ],
            [
             0.3333333333333333,
             "#9c179e"
            ],
            [
             0.4444444444444444,
             "#bd3786"
            ],
            [
             0.5555555555555556,
             "#d8576b"
            ],
            [
             0.6666666666666666,
             "#ed7953"
            ],
            [
             0.7777777777777778,
             "#fb9f3a"
            ],
            [
             0.8888888888888888,
             "#fdca26"
            ],
            [
             1,
             "#f0f921"
            ]
           ]
          },
          "colorway": [
           "#636efa",
           "#EF553B",
           "#00cc96",
           "#ab63fa",
           "#FFA15A",
           "#19d3f3",
           "#FF6692",
           "#B6E880",
           "#FF97FF",
           "#FECB52"
          ],
          "font": {
           "color": "#2a3f5f"
          },
          "geo": {
           "bgcolor": "white",
           "lakecolor": "white",
           "landcolor": "#E5ECF6",
           "showlakes": true,
           "showland": true,
           "subunitcolor": "white"
          },
          "hoverlabel": {
           "align": "left"
          },
          "hovermode": "closest",
          "mapbox": {
           "style": "light"
          },
          "paper_bgcolor": "white",
          "plot_bgcolor": "#E5ECF6",
          "polar": {
           "angularaxis": {
            "gridcolor": "white",
            "linecolor": "white",
            "ticks": ""
           },
           "bgcolor": "#E5ECF6",
           "radialaxis": {
            "gridcolor": "white",
            "linecolor": "white",
            "ticks": ""
           }
          },
          "scene": {
           "xaxis": {
            "backgroundcolor": "#E5ECF6",
            "gridcolor": "white",
            "gridwidth": 2,
            "linecolor": "white",
            "showbackground": true,
            "ticks": "",
            "zerolinecolor": "white"
           },
           "yaxis": {
            "backgroundcolor": "#E5ECF6",
            "gridcolor": "white",
            "gridwidth": 2,
            "linecolor": "white",
            "showbackground": true,
            "ticks": "",
            "zerolinecolor": "white"
           },
           "zaxis": {
            "backgroundcolor": "#E5ECF6",
            "gridcolor": "white",
            "gridwidth": 2,
            "linecolor": "white",
            "showbackground": true,
            "ticks": "",
            "zerolinecolor": "white"
           }
          },
          "shapedefaults": {
           "line": {
            "color": "#2a3f5f"
           }
          },
          "ternary": {
           "aaxis": {
            "gridcolor": "white",
            "linecolor": "white",
            "ticks": ""
           },
           "baxis": {
            "gridcolor": "white",
            "linecolor": "white",
            "ticks": ""
           },
           "bgcolor": "#E5ECF6",
           "caxis": {
            "gridcolor": "white",
            "linecolor": "white",
            "ticks": ""
           }
          },
          "title": {
           "x": 0.05
          },
          "xaxis": {
           "automargin": true,
           "gridcolor": "white",
           "linecolor": "white",
           "ticks": "",
           "title": {
            "standoff": 15
           },
           "zerolinecolor": "white",
           "zerolinewidth": 2
          },
          "yaxis": {
           "automargin": true,
           "gridcolor": "white",
           "linecolor": "white",
           "ticks": "",
           "title": {
            "standoff": 15
           },
           "zerolinecolor": "white",
           "zerolinewidth": 2
          }
         }
        },
        "xaxis": {
         "anchor": "y",
         "domain": [
          0,
          1
         ],
         "title": {
          "text": "insured_sex"
         }
        },
        "yaxis": {
         "anchor": "x",
         "domain": [
          0,
          1
         ],
         "title": {
          "text": "count"
         }
        }
       }
      }
     },
     "metadata": {},
     "output_type": "display_data"
    }
   ],
   "source": [
    "fig = px.histogram(df, x=\"insured_sex\", color=\"fraud_reported\")\n",
    "fig.show()"
   ]
  },
  {
   "cell_type": "code",
   "execution_count": 202,
   "metadata": {},
   "outputs": [
    {
     "data": {
      "application/vnd.plotly.v1+json": {
       "config": {
        "plotlyServerURL": "https://plot.ly"
       },
       "data": [
        {
         "alignmentgroup": "True",
         "bingroup": "x",
         "hovertemplate": "fraud_reported=Y<br>insured_education_level=%{x}<br>count=%{y}<extra></extra>",
         "legendgroup": "Y",
         "marker": {
          "color": "#636efa",
          "pattern": {
           "shape": ""
          }
         },
         "name": "Y",
         "offsetgroup": "Y",
         "orientation": "v",
         "showlegend": true,
         "type": "histogram",
         "x": [
          "MD",
          "MD",
          "PhD",
          "PhD",
          "College",
          "MD",
          "High School",
          "MD",
          "Masters",
          "JD",
          "JD",
          "High School",
          "Masters",
          "JD",
          "Associate",
          "College",
          "PhD",
          "JD",
          "PhD",
          "MD",
          "High School",
          "Associate",
          "MD",
          "PhD",
          "Masters",
          "College",
          "Associate",
          "Associate",
          "Masters",
          "Associate",
          "PhD",
          "Masters",
          "PhD",
          "MD",
          "High School",
          "MD",
          "Masters",
          "College",
          "Masters",
          "College",
          "MD",
          "Associate",
          "Masters",
          "PhD",
          "JD",
          "High School",
          "Masters",
          "Associate",
          "Masters",
          "Associate",
          "High School",
          "JD",
          "JD",
          "High School",
          "MD",
          "College",
          "MD",
          "JD",
          "PhD",
          "MD",
          "College",
          "Associate",
          "JD",
          "MD",
          "College",
          "Associate",
          "JD",
          "Associate",
          "MD",
          "PhD",
          "JD",
          "Associate",
          "PhD",
          "PhD",
          "College",
          "JD",
          "MD",
          "PhD",
          "JD",
          "Associate",
          "PhD",
          "JD",
          "High School",
          "High School",
          "JD",
          "PhD",
          "Associate",
          "PhD",
          "MD",
          "Associate",
          "College",
          "MD",
          "PhD",
          "PhD",
          "JD",
          "College",
          "Associate",
          "MD",
          "Associate",
          "College",
          "Associate",
          "College",
          "Associate",
          "High School",
          "Masters",
          "JD",
          "JD",
          "College",
          "PhD",
          "JD",
          "High School",
          "College",
          "College",
          "Masters",
          "College",
          "Masters",
          "Masters",
          "PhD",
          "PhD",
          "High School",
          "Masters",
          "High School",
          "PhD",
          "JD",
          "JD",
          "High School",
          "MD",
          "Masters",
          "MD",
          "JD",
          "JD",
          "Associate",
          "MD",
          "JD",
          "College",
          "High School",
          "High School",
          "College",
          "High School",
          "MD",
          "MD",
          "Masters",
          "Masters",
          "College",
          "MD",
          "High School",
          "JD",
          "JD",
          "High School",
          "PhD",
          "JD",
          "Associate",
          "JD",
          "JD",
          "High School",
          "JD",
          "JD",
          "MD",
          "High School",
          "JD",
          "High School",
          "MD",
          "High School",
          "PhD",
          "Masters",
          "MD",
          "High School",
          "College",
          "High School",
          "Associate",
          "Masters",
          "High School",
          "College",
          "High School",
          "Masters",
          "MD",
          "Associate",
          "High School",
          "Masters",
          "JD",
          "High School",
          "MD",
          "College",
          "Associate",
          "MD",
          "High School",
          "College",
          "Associate",
          "JD",
          "College",
          "College",
          "PhD",
          "PhD",
          "MD",
          "Masters",
          "College",
          "PhD",
          "College",
          "MD",
          "Associate",
          "College",
          "Associate",
          "Masters",
          "Masters",
          "Associate",
          "Masters",
          "High School",
          "PhD",
          "Masters",
          "JD",
          "PhD",
          "PhD",
          "Masters",
          "Masters",
          "MD",
          "MD",
          "Associate",
          "College",
          "JD",
          "Associate",
          "MD",
          "PhD",
          "MD",
          "MD",
          "Associate",
          "High School",
          "Associate",
          "Masters",
          "High School",
          "High School",
          "Masters",
          "Masters",
          "JD",
          "JD",
          "JD",
          "PhD",
          "MD",
          "JD",
          "High School",
          "Associate",
          "College",
          "PhD",
          "JD",
          "Associate",
          "High School",
          "College",
          "JD"
         ],
         "xaxis": "x",
         "yaxis": "y"
        },
        {
         "alignmentgroup": "True",
         "bingroup": "x",
         "hovertemplate": "fraud_reported=N<br>insured_education_level=%{x}<br>count=%{y}<extra></extra>",
         "legendgroup": "N",
         "marker": {
          "color": "#EF553B",
          "pattern": {
           "shape": ""
          }
         },
         "name": "N",
         "offsetgroup": "N",
         "orientation": "v",
         "showlegend": true,
         "type": "histogram",
         "x": [
          "PhD",
          "Associate",
          "PhD",
          "Associate",
          "PhD",
          "PhD",
          "Masters",
          "High School",
          "MD",
          "MD",
          "College",
          "High School",
          "MD",
          "High School",
          "JD",
          "Associate",
          "College",
          "High School",
          "JD",
          "PhD",
          "Masters",
          "Associate",
          "High School",
          "PhD",
          "JD",
          "MD",
          "Associate",
          "College",
          "PhD",
          "JD",
          "MD",
          "Associate",
          "PhD",
          "Masters",
          "MD",
          "JD",
          "College",
          "JD",
          "PhD",
          "PhD",
          "PhD",
          "Masters",
          "PhD",
          "MD",
          "JD",
          "High School",
          "Associate",
          "MD",
          "MD",
          "Associate",
          "College",
          "Associate",
          "High School",
          "College",
          "College",
          "JD",
          "High School",
          "Masters",
          "Masters",
          "High School",
          "High School",
          "Associate",
          "MD",
          "College",
          "High School",
          "PhD",
          "MD",
          "High School",
          "PhD",
          "College",
          "College",
          "College",
          "College",
          "JD",
          "Associate",
          "College",
          "College",
          "High School",
          "College",
          "High School",
          "MD",
          "Associate",
          "PhD",
          "PhD",
          "Associate",
          "High School",
          "College",
          "JD",
          "JD",
          "MD",
          "High School",
          "JD",
          "Masters",
          "Masters",
          "High School",
          "PhD",
          "High School",
          "PhD",
          "High School",
          "MD",
          "Masters",
          "Masters",
          "PhD",
          "JD",
          "MD",
          "PhD",
          "Masters",
          "Masters",
          "JD",
          "JD",
          "Masters",
          "JD",
          "Associate",
          "MD",
          "MD",
          "Masters",
          "PhD",
          "High School",
          "Masters",
          "High School",
          "Associate",
          "College",
          "MD",
          "PhD",
          "MD",
          "Masters",
          "PhD",
          "Masters",
          "MD",
          "Associate",
          "Masters",
          "Masters",
          "Masters",
          "JD",
          "JD",
          "High School",
          "Associate",
          "JD",
          "MD",
          "High School",
          "MD",
          "High School",
          "MD",
          "Masters",
          "College",
          "PhD",
          "PhD",
          "High School",
          "PhD",
          "JD",
          "Masters",
          "Masters",
          "JD",
          "Associate",
          "High School",
          "High School",
          "High School",
          "High School",
          "Masters",
          "College",
          "College",
          "High School",
          "Associate",
          "Associate",
          "Masters",
          "High School",
          "MD",
          "MD",
          "High School",
          "JD",
          "Masters",
          "MD",
          "Masters",
          "JD",
          "Associate",
          "Masters",
          "MD",
          "JD",
          "College",
          "Associate",
          "JD",
          "Masters",
          "High School",
          "High School",
          "High School",
          "Associate",
          "MD",
          "Masters",
          "Masters",
          "MD",
          "High School",
          "JD",
          "Associate",
          "Associate",
          "College",
          "Associate",
          "JD",
          "Masters",
          "Associate",
          "Associate",
          "College",
          "JD",
          "PhD",
          "MD",
          "High School",
          "JD",
          "Associate",
          "College",
          "Associate",
          "College",
          "High School",
          "Associate",
          "College",
          "College",
          "MD",
          "High School",
          "Masters",
          "Associate",
          "College",
          "JD",
          "High School",
          "Associate",
          "Masters",
          "Associate",
          "PhD",
          "Masters",
          "MD",
          "High School",
          "Associate",
          "High School",
          "High School",
          "JD",
          "High School",
          "Masters",
          "JD",
          "High School",
          "PhD",
          "Masters",
          "JD",
          "MD",
          "College",
          "JD",
          "College",
          "Associate",
          "Associate",
          "MD",
          "Associate",
          "Masters",
          "PhD",
          "Associate",
          "PhD",
          "JD",
          "JD",
          "High School",
          "Masters",
          "High School",
          "MD",
          "MD",
          "College",
          "PhD",
          "MD",
          "Masters",
          "Associate",
          "PhD",
          "High School",
          "PhD",
          "PhD",
          "College",
          "Masters",
          "Associate",
          "JD",
          "JD",
          "Associate",
          "PhD",
          "Masters",
          "High School",
          "College",
          "Associate",
          "JD",
          "JD",
          "JD",
          "PhD",
          "High School",
          "MD",
          "PhD",
          "High School",
          "Masters",
          "High School",
          "MD",
          "Masters",
          "MD",
          "Associate",
          "College",
          "MD",
          "High School",
          "Masters",
          "College",
          "Associate",
          "High School",
          "College",
          "Masters",
          "Associate",
          "High School",
          "Masters",
          "JD",
          "High School",
          "JD",
          "College",
          "MD",
          "High School",
          "MD",
          "Masters",
          "High School",
          "Masters",
          "JD",
          "PhD",
          "College",
          "Associate",
          "MD",
          "JD",
          "PhD",
          "JD",
          "Masters",
          "MD",
          "JD",
          "Associate",
          "JD",
          "Associate",
          "PhD",
          "Masters",
          "PhD",
          "College",
          "College",
          "Associate",
          "Associate",
          "Associate",
          "Masters",
          "MD",
          "PhD",
          "MD",
          "JD",
          "PhD",
          "Associate",
          "Masters",
          "College",
          "High School",
          "PhD",
          "MD",
          "PhD",
          "PhD",
          "Masters",
          "College",
          "Masters",
          "JD",
          "High School",
          "Associate",
          "High School",
          "High School",
          "College",
          "High School",
          "High School",
          "MD",
          "Masters",
          "PhD",
          "Associate",
          "College",
          "PhD",
          "JD",
          "Masters",
          "Associate",
          "PhD",
          "MD",
          "PhD",
          "High School",
          "High School",
          "College",
          "High School",
          "JD",
          "JD",
          "College",
          "JD",
          "College",
          "JD",
          "Associate",
          "JD",
          "PhD",
          "College",
          "MD",
          "Associate",
          "JD",
          "High School",
          "Masters",
          "Associate",
          "Masters",
          "College",
          "PhD",
          "JD",
          "PhD",
          "MD",
          "Associate",
          "College",
          "PhD",
          "JD",
          "MD",
          "Masters",
          "Associate",
          "MD",
          "JD",
          "PhD",
          "High School",
          "Associate",
          "High School",
          "JD",
          "College",
          "PhD",
          "PhD",
          "Masters",
          "College",
          "Associate",
          "JD",
          "PhD",
          "High School",
          "JD",
          "College",
          "JD",
          "JD",
          "Masters",
          "PhD",
          "MD",
          "PhD",
          "High School",
          "Associate",
          "JD",
          "Masters",
          "High School",
          "MD",
          "College",
          "Masters",
          "Associate",
          "College",
          "College",
          "High School",
          "JD",
          "College",
          "High School",
          "Masters",
          "Masters",
          "Masters",
          "JD",
          "High School",
          "Associate",
          "Masters",
          "MD",
          "Masters",
          "Masters",
          "MD",
          "Associate",
          "High School",
          "MD",
          "High School",
          "MD",
          "JD",
          "Associate",
          "Masters",
          "MD",
          "Associate",
          "MD",
          "Masters",
          "Associate",
          "MD",
          "Associate",
          "Masters",
          "Masters",
          "High School",
          "Masters",
          "Associate",
          "Masters",
          "JD",
          "High School",
          "College",
          "MD",
          "High School",
          "College",
          "Associate",
          "College",
          "High School",
          "High School",
          "Associate",
          "Associate",
          "Associate",
          "JD",
          "College",
          "College",
          "PhD",
          "High School",
          "Masters",
          "JD",
          "Masters",
          "JD",
          "MD",
          "Masters",
          "Masters",
          "College",
          "College",
          "High School",
          "MD",
          "JD",
          "High School",
          "Masters",
          "MD",
          "Associate",
          "JD",
          "Masters",
          "High School",
          "JD",
          "High School",
          "PhD",
          "PhD",
          "JD",
          "PhD",
          "High School",
          "Masters",
          "College",
          "Associate",
          "Associate",
          "High School",
          "Masters",
          "JD",
          "Masters",
          "MD",
          "Masters",
          "Masters",
          "Associate",
          "Associate",
          "Masters",
          "Associate",
          "PhD",
          "College",
          "PhD",
          "MD",
          "High School",
          "Associate",
          "PhD",
          "JD",
          "MD",
          "JD",
          "High School",
          "College",
          "Associate",
          "MD",
          "College",
          "PhD",
          "MD",
          "College",
          "MD",
          "Associate",
          "PhD",
          "PhD",
          "JD",
          "MD",
          "High School",
          "Masters",
          "College",
          "High School",
          "Associate",
          "Masters",
          "High School",
          "JD",
          "JD",
          "MD",
          "High School",
          "JD",
          "JD",
          "PhD",
          "MD",
          "College",
          "High School",
          "MD",
          "High School",
          "JD",
          "PhD",
          "High School",
          "Masters",
          "MD",
          "Associate",
          "PhD",
          "College",
          "College",
          "JD",
          "Masters",
          "High School",
          "Masters",
          "College",
          "MD",
          "PhD",
          "High School",
          "MD",
          "College",
          "JD",
          "College",
          "MD",
          "Masters",
          "College",
          "JD",
          "JD",
          "PhD",
          "Masters",
          "MD",
          "Masters",
          "PhD",
          "College",
          "College",
          "High School",
          "High School",
          "PhD",
          "JD",
          "MD",
          "JD",
          "PhD",
          "MD",
          "Associate",
          "MD",
          "JD",
          "JD",
          "PhD",
          "JD",
          "JD",
          "Associate",
          "High School",
          "JD",
          "JD",
          "Associate",
          "Associate",
          "Associate",
          "Associate",
          "Associate",
          "MD",
          "Associate",
          "College",
          "High School",
          "Associate",
          "MD",
          "College",
          "PhD",
          "MD",
          "Masters",
          "College",
          "Associate",
          "Associate",
          "JD",
          "JD",
          "JD",
          "JD",
          "PhD",
          "JD",
          "Masters",
          "MD",
          "MD",
          "High School",
          "JD",
          "JD",
          "High School",
          "College",
          "MD",
          "Masters",
          "JD",
          "MD",
          "Masters",
          "High School",
          "MD",
          "Associate",
          "JD",
          "PhD",
          "Associate",
          "Associate",
          "High School",
          "JD",
          "PhD",
          "High School",
          "JD",
          "High School",
          "MD",
          "Masters",
          "College",
          "JD",
          "MD",
          "JD",
          "High School",
          "PhD",
          "College",
          "JD",
          "College",
          "MD",
          "PhD",
          "MD",
          "Associate",
          "Associate",
          "College",
          "JD",
          "Masters",
          "College",
          "High School",
          "High School",
          "Associate",
          "PhD",
          "PhD",
          "Associate",
          "Associate",
          "High School",
          "Masters",
          "Masters",
          "PhD",
          "College",
          "Masters",
          "JD",
          "High School",
          "JD",
          "JD",
          "Masters",
          "High School",
          "Masters",
          "High School",
          "JD",
          "Associate",
          "PhD",
          "MD",
          "Masters",
          "MD",
          "MD",
          "High School",
          "MD",
          "Associate",
          "JD",
          "Associate",
          "High School",
          "Masters",
          "PhD",
          "College",
          "JD",
          "MD",
          "High School",
          "High School",
          "High School",
          "MD",
          "MD",
          "MD",
          "MD",
          "High School",
          "Masters",
          "PhD",
          "Masters",
          "Associate",
          "Associate"
         ],
         "xaxis": "x",
         "yaxis": "y"
        }
       ],
       "layout": {
        "barmode": "relative",
        "legend": {
         "title": {
          "text": "fraud_reported"
         },
         "tracegroupgap": 0
        },
        "margin": {
         "t": 60
        },
        "template": {
         "data": {
          "bar": [
           {
            "error_x": {
             "color": "#2a3f5f"
            },
            "error_y": {
             "color": "#2a3f5f"
            },
            "marker": {
             "line": {
              "color": "#E5ECF6",
              "width": 0.5
             },
             "pattern": {
              "fillmode": "overlay",
              "size": 10,
              "solidity": 0.2
             }
            },
            "type": "bar"
           }
          ],
          "barpolar": [
           {
            "marker": {
             "line": {
              "color": "#E5ECF6",
              "width": 0.5
             },
             "pattern": {
              "fillmode": "overlay",
              "size": 10,
              "solidity": 0.2
             }
            },
            "type": "barpolar"
           }
          ],
          "carpet": [
           {
            "aaxis": {
             "endlinecolor": "#2a3f5f",
             "gridcolor": "white",
             "linecolor": "white",
             "minorgridcolor": "white",
             "startlinecolor": "#2a3f5f"
            },
            "baxis": {
             "endlinecolor": "#2a3f5f",
             "gridcolor": "white",
             "linecolor": "white",
             "minorgridcolor": "white",
             "startlinecolor": "#2a3f5f"
            },
            "type": "carpet"
           }
          ],
          "choropleth": [
           {
            "colorbar": {
             "outlinewidth": 0,
             "ticks": ""
            },
            "type": "choropleth"
           }
          ],
          "contour": [
           {
            "colorbar": {
             "outlinewidth": 0,
             "ticks": ""
            },
            "colorscale": [
             [
              0,
              "#0d0887"
             ],
             [
              0.1111111111111111,
              "#46039f"
             ],
             [
              0.2222222222222222,
              "#7201a8"
             ],
             [
              0.3333333333333333,
              "#9c179e"
             ],
             [
              0.4444444444444444,
              "#bd3786"
             ],
             [
              0.5555555555555556,
              "#d8576b"
             ],
             [
              0.6666666666666666,
              "#ed7953"
             ],
             [
              0.7777777777777778,
              "#fb9f3a"
             ],
             [
              0.8888888888888888,
              "#fdca26"
             ],
             [
              1,
              "#f0f921"
             ]
            ],
            "type": "contour"
           }
          ],
          "contourcarpet": [
           {
            "colorbar": {
             "outlinewidth": 0,
             "ticks": ""
            },
            "type": "contourcarpet"
           }
          ],
          "heatmap": [
           {
            "colorbar": {
             "outlinewidth": 0,
             "ticks": ""
            },
            "colorscale": [
             [
              0,
              "#0d0887"
             ],
             [
              0.1111111111111111,
              "#46039f"
             ],
             [
              0.2222222222222222,
              "#7201a8"
             ],
             [
              0.3333333333333333,
              "#9c179e"
             ],
             [
              0.4444444444444444,
              "#bd3786"
             ],
             [
              0.5555555555555556,
              "#d8576b"
             ],
             [
              0.6666666666666666,
              "#ed7953"
             ],
             [
              0.7777777777777778,
              "#fb9f3a"
             ],
             [
              0.8888888888888888,
              "#fdca26"
             ],
             [
              1,
              "#f0f921"
             ]
            ],
            "type": "heatmap"
           }
          ],
          "heatmapgl": [
           {
            "colorbar": {
             "outlinewidth": 0,
             "ticks": ""
            },
            "colorscale": [
             [
              0,
              "#0d0887"
             ],
             [
              0.1111111111111111,
              "#46039f"
             ],
             [
              0.2222222222222222,
              "#7201a8"
             ],
             [
              0.3333333333333333,
              "#9c179e"
             ],
             [
              0.4444444444444444,
              "#bd3786"
             ],
             [
              0.5555555555555556,
              "#d8576b"
             ],
             [
              0.6666666666666666,
              "#ed7953"
             ],
             [
              0.7777777777777778,
              "#fb9f3a"
             ],
             [
              0.8888888888888888,
              "#fdca26"
             ],
             [
              1,
              "#f0f921"
             ]
            ],
            "type": "heatmapgl"
           }
          ],
          "histogram": [
           {
            "marker": {
             "pattern": {
              "fillmode": "overlay",
              "size": 10,
              "solidity": 0.2
             }
            },
            "type": "histogram"
           }
          ],
          "histogram2d": [
           {
            "colorbar": {
             "outlinewidth": 0,
             "ticks": ""
            },
            "colorscale": [
             [
              0,
              "#0d0887"
             ],
             [
              0.1111111111111111,
              "#46039f"
             ],
             [
              0.2222222222222222,
              "#7201a8"
             ],
             [
              0.3333333333333333,
              "#9c179e"
             ],
             [
              0.4444444444444444,
              "#bd3786"
             ],
             [
              0.5555555555555556,
              "#d8576b"
             ],
             [
              0.6666666666666666,
              "#ed7953"
             ],
             [
              0.7777777777777778,
              "#fb9f3a"
             ],
             [
              0.8888888888888888,
              "#fdca26"
             ],
             [
              1,
              "#f0f921"
             ]
            ],
            "type": "histogram2d"
           }
          ],
          "histogram2dcontour": [
           {
            "colorbar": {
             "outlinewidth": 0,
             "ticks": ""
            },
            "colorscale": [
             [
              0,
              "#0d0887"
             ],
             [
              0.1111111111111111,
              "#46039f"
             ],
             [
              0.2222222222222222,
              "#7201a8"
             ],
             [
              0.3333333333333333,
              "#9c179e"
             ],
             [
              0.4444444444444444,
              "#bd3786"
             ],
             [
              0.5555555555555556,
              "#d8576b"
             ],
             [
              0.6666666666666666,
              "#ed7953"
             ],
             [
              0.7777777777777778,
              "#fb9f3a"
             ],
             [
              0.8888888888888888,
              "#fdca26"
             ],
             [
              1,
              "#f0f921"
             ]
            ],
            "type": "histogram2dcontour"
           }
          ],
          "mesh3d": [
           {
            "colorbar": {
             "outlinewidth": 0,
             "ticks": ""
            },
            "type": "mesh3d"
           }
          ],
          "parcoords": [
           {
            "line": {
             "colorbar": {
              "outlinewidth": 0,
              "ticks": ""
             }
            },
            "type": "parcoords"
           }
          ],
          "pie": [
           {
            "automargin": true,
            "type": "pie"
           }
          ],
          "scatter": [
           {
            "marker": {
             "colorbar": {
              "outlinewidth": 0,
              "ticks": ""
             }
            },
            "type": "scatter"
           }
          ],
          "scatter3d": [
           {
            "line": {
             "colorbar": {
              "outlinewidth": 0,
              "ticks": ""
             }
            },
            "marker": {
             "colorbar": {
              "outlinewidth": 0,
              "ticks": ""
             }
            },
            "type": "scatter3d"
           }
          ],
          "scattercarpet": [
           {
            "marker": {
             "colorbar": {
              "outlinewidth": 0,
              "ticks": ""
             }
            },
            "type": "scattercarpet"
           }
          ],
          "scattergeo": [
           {
            "marker": {
             "colorbar": {
              "outlinewidth": 0,
              "ticks": ""
             }
            },
            "type": "scattergeo"
           }
          ],
          "scattergl": [
           {
            "marker": {
             "colorbar": {
              "outlinewidth": 0,
              "ticks": ""
             }
            },
            "type": "scattergl"
           }
          ],
          "scattermapbox": [
           {
            "marker": {
             "colorbar": {
              "outlinewidth": 0,
              "ticks": ""
             }
            },
            "type": "scattermapbox"
           }
          ],
          "scatterpolar": [
           {
            "marker": {
             "colorbar": {
              "outlinewidth": 0,
              "ticks": ""
             }
            },
            "type": "scatterpolar"
           }
          ],
          "scatterpolargl": [
           {
            "marker": {
             "colorbar": {
              "outlinewidth": 0,
              "ticks": ""
             }
            },
            "type": "scatterpolargl"
           }
          ],
          "scatterternary": [
           {
            "marker": {
             "colorbar": {
              "outlinewidth": 0,
              "ticks": ""
             }
            },
            "type": "scatterternary"
           }
          ],
          "surface": [
           {
            "colorbar": {
             "outlinewidth": 0,
             "ticks": ""
            },
            "colorscale": [
             [
              0,
              "#0d0887"
             ],
             [
              0.1111111111111111,
              "#46039f"
             ],
             [
              0.2222222222222222,
              "#7201a8"
             ],
             [
              0.3333333333333333,
              "#9c179e"
             ],
             [
              0.4444444444444444,
              "#bd3786"
             ],
             [
              0.5555555555555556,
              "#d8576b"
             ],
             [
              0.6666666666666666,
              "#ed7953"
             ],
             [
              0.7777777777777778,
              "#fb9f3a"
             ],
             [
              0.8888888888888888,
              "#fdca26"
             ],
             [
              1,
              "#f0f921"
             ]
            ],
            "type": "surface"
           }
          ],
          "table": [
           {
            "cells": {
             "fill": {
              "color": "#EBF0F8"
             },
             "line": {
              "color": "white"
             }
            },
            "header": {
             "fill": {
              "color": "#C8D4E3"
             },
             "line": {
              "color": "white"
             }
            },
            "type": "table"
           }
          ]
         },
         "layout": {
          "annotationdefaults": {
           "arrowcolor": "#2a3f5f",
           "arrowhead": 0,
           "arrowwidth": 1
          },
          "autotypenumbers": "strict",
          "coloraxis": {
           "colorbar": {
            "outlinewidth": 0,
            "ticks": ""
           }
          },
          "colorscale": {
           "diverging": [
            [
             0,
             "#8e0152"
            ],
            [
             0.1,
             "#c51b7d"
            ],
            [
             0.2,
             "#de77ae"
            ],
            [
             0.3,
             "#f1b6da"
            ],
            [
             0.4,
             "#fde0ef"
            ],
            [
             0.5,
             "#f7f7f7"
            ],
            [
             0.6,
             "#e6f5d0"
            ],
            [
             0.7,
             "#b8e186"
            ],
            [
             0.8,
             "#7fbc41"
            ],
            [
             0.9,
             "#4d9221"
            ],
            [
             1,
             "#276419"
            ]
           ],
           "sequential": [
            [
             0,
             "#0d0887"
            ],
            [
             0.1111111111111111,
             "#46039f"
            ],
            [
             0.2222222222222222,
             "#7201a8"
            ],
            [
             0.3333333333333333,
             "#9c179e"
            ],
            [
             0.4444444444444444,
             "#bd3786"
            ],
            [
             0.5555555555555556,
             "#d8576b"
            ],
            [
             0.6666666666666666,
             "#ed7953"
            ],
            [
             0.7777777777777778,
             "#fb9f3a"
            ],
            [
             0.8888888888888888,
             "#fdca26"
            ],
            [
             1,
             "#f0f921"
            ]
           ],
           "sequentialminus": [
            [
             0,
             "#0d0887"
            ],
            [
             0.1111111111111111,
             "#46039f"
            ],
            [
             0.2222222222222222,
             "#7201a8"
            ],
            [
             0.3333333333333333,
             "#9c179e"
            ],
            [
             0.4444444444444444,
             "#bd3786"
            ],
            [
             0.5555555555555556,
             "#d8576b"
            ],
            [
             0.6666666666666666,
             "#ed7953"
            ],
            [
             0.7777777777777778,
             "#fb9f3a"
            ],
            [
             0.8888888888888888,
             "#fdca26"
            ],
            [
             1,
             "#f0f921"
            ]
           ]
          },
          "colorway": [
           "#636efa",
           "#EF553B",
           "#00cc96",
           "#ab63fa",
           "#FFA15A",
           "#19d3f3",
           "#FF6692",
           "#B6E880",
           "#FF97FF",
           "#FECB52"
          ],
          "font": {
           "color": "#2a3f5f"
          },
          "geo": {
           "bgcolor": "white",
           "lakecolor": "white",
           "landcolor": "#E5ECF6",
           "showlakes": true,
           "showland": true,
           "subunitcolor": "white"
          },
          "hoverlabel": {
           "align": "left"
          },
          "hovermode": "closest",
          "mapbox": {
           "style": "light"
          },
          "paper_bgcolor": "white",
          "plot_bgcolor": "#E5ECF6",
          "polar": {
           "angularaxis": {
            "gridcolor": "white",
            "linecolor": "white",
            "ticks": ""
           },
           "bgcolor": "#E5ECF6",
           "radialaxis": {
            "gridcolor": "white",
            "linecolor": "white",
            "ticks": ""
           }
          },
          "scene": {
           "xaxis": {
            "backgroundcolor": "#E5ECF6",
            "gridcolor": "white",
            "gridwidth": 2,
            "linecolor": "white",
            "showbackground": true,
            "ticks": "",
            "zerolinecolor": "white"
           },
           "yaxis": {
            "backgroundcolor": "#E5ECF6",
            "gridcolor": "white",
            "gridwidth": 2,
            "linecolor": "white",
            "showbackground": true,
            "ticks": "",
            "zerolinecolor": "white"
           },
           "zaxis": {
            "backgroundcolor": "#E5ECF6",
            "gridcolor": "white",
            "gridwidth": 2,
            "linecolor": "white",
            "showbackground": true,
            "ticks": "",
            "zerolinecolor": "white"
           }
          },
          "shapedefaults": {
           "line": {
            "color": "#2a3f5f"
           }
          },
          "ternary": {
           "aaxis": {
            "gridcolor": "white",
            "linecolor": "white",
            "ticks": ""
           },
           "baxis": {
            "gridcolor": "white",
            "linecolor": "white",
            "ticks": ""
           },
           "bgcolor": "#E5ECF6",
           "caxis": {
            "gridcolor": "white",
            "linecolor": "white",
            "ticks": ""
           }
          },
          "title": {
           "x": 0.05
          },
          "xaxis": {
           "automargin": true,
           "gridcolor": "white",
           "linecolor": "white",
           "ticks": "",
           "title": {
            "standoff": 15
           },
           "zerolinecolor": "white",
           "zerolinewidth": 2
          },
          "yaxis": {
           "automargin": true,
           "gridcolor": "white",
           "linecolor": "white",
           "ticks": "",
           "title": {
            "standoff": 15
           },
           "zerolinecolor": "white",
           "zerolinewidth": 2
          }
         }
        },
        "xaxis": {
         "anchor": "y",
         "domain": [
          0,
          1
         ],
         "title": {
          "text": "insured_education_level"
         }
        },
        "yaxis": {
         "anchor": "x",
         "domain": [
          0,
          1
         ],
         "title": {
          "text": "count"
         }
        }
       }
      }
     },
     "metadata": {},
     "output_type": "display_data"
    }
   ],
   "source": [
    "fig = px.histogram(df, x=\"insured_education_level\", color=\"fraud_reported\")\n",
    "fig.show()"
   ]
  },
  {
   "cell_type": "code",
   "execution_count": 203,
   "metadata": {},
   "outputs": [
    {
     "data": {
      "application/vnd.plotly.v1+json": {
       "config": {
        "plotlyServerURL": "https://plot.ly"
       },
       "data": [
        {
         "alignmentgroup": "True",
         "bingroup": "x",
         "hovertemplate": "fraud_reported=Y<br>insured_occupation=%{x}<br>count=%{y}<extra></extra>",
         "legendgroup": "Y",
         "marker": {
          "color": "#636efa",
          "pattern": {
           "shape": ""
          }
         },
         "name": "Y",
         "offsetgroup": "Y",
         "orientation": "v",
         "showlegend": true,
         "type": "histogram",
         "x": [
          "craft-repair",
          "machine-op-inspct",
          "armed-forces",
          "tech-support",
          "machine-op-inspct",
          "transport-moving",
          "prof-specialty",
          "priv-house-serv",
          "sales",
          "exec-managerial",
          "craft-repair",
          "craft-repair",
          "protective-serv",
          "tech-support",
          "transport-moving",
          "other-service",
          "machine-op-inspct",
          "transport-moving",
          "sales",
          "exec-managerial",
          "tech-support",
          "prof-specialty",
          "armed-forces",
          "handlers-cleaners",
          "prof-specialty",
          "exec-managerial",
          "tech-support",
          "protective-serv",
          "farming-fishing",
          "prof-specialty",
          "machine-op-inspct",
          "sales",
          "craft-repair",
          "machine-op-inspct",
          "exec-managerial",
          "other-service",
          "other-service",
          "farming-fishing",
          "sales",
          "exec-managerial",
          "exec-managerial",
          "exec-managerial",
          "tech-support",
          "adm-clerical",
          "craft-repair",
          "exec-managerial",
          "other-service",
          "sales",
          "prof-specialty",
          "craft-repair",
          "machine-op-inspct",
          "tech-support",
          "tech-support",
          "tech-support",
          "armed-forces",
          "sales",
          "prof-specialty",
          "exec-managerial",
          "craft-repair",
          "prof-specialty",
          "farming-fishing",
          "prof-specialty",
          "farming-fishing",
          "sales",
          "adm-clerical",
          "tech-support",
          "other-service",
          "transport-moving",
          "sales",
          "transport-moving",
          "tech-support",
          "machine-op-inspct",
          "exec-managerial",
          "other-service",
          "machine-op-inspct",
          "machine-op-inspct",
          "craft-repair",
          "prof-specialty",
          "armed-forces",
          "craft-repair",
          "tech-support",
          "handlers-cleaners",
          "handlers-cleaners",
          "exec-managerial",
          "handlers-cleaners",
          "farming-fishing",
          "protective-serv",
          "sales",
          "sales",
          "protective-serv",
          "exec-managerial",
          "armed-forces",
          "protective-serv",
          "transport-moving",
          "sales",
          "armed-forces",
          "tech-support",
          "craft-repair",
          "machine-op-inspct",
          "adm-clerical",
          "transport-moving",
          "priv-house-serv",
          "sales",
          "adm-clerical",
          "adm-clerical",
          "craft-repair",
          "armed-forces",
          "other-service",
          "exec-managerial",
          "armed-forces",
          "farming-fishing",
          "craft-repair",
          "armed-forces",
          "machine-op-inspct",
          "exec-managerial",
          "exec-managerial",
          "priv-house-serv",
          "priv-house-serv",
          "transport-moving",
          "farming-fishing",
          "transport-moving",
          "tech-support",
          "tech-support",
          "craft-repair",
          "exec-managerial",
          "adm-clerical",
          "farming-fishing",
          "armed-forces",
          "sales",
          "handlers-cleaners",
          "transport-moving",
          "armed-forces",
          "exec-managerial",
          "farming-fishing",
          "transport-moving",
          "armed-forces",
          "sales",
          "sales",
          "adm-clerical",
          "prof-specialty",
          "armed-forces",
          "handlers-cleaners",
          "transport-moving",
          "exec-managerial",
          "protective-serv",
          "craft-repair",
          "farming-fishing",
          "tech-support",
          "transport-moving",
          "machine-op-inspct",
          "exec-managerial",
          "armed-forces",
          "craft-repair",
          "priv-house-serv",
          "exec-managerial",
          "sales",
          "transport-moving",
          "machine-op-inspct",
          "machine-op-inspct",
          "protective-serv",
          "craft-repair",
          "craft-repair",
          "craft-repair",
          "priv-house-serv",
          "prof-specialty",
          "tech-support",
          "transport-moving",
          "prof-specialty",
          "transport-moving",
          "priv-house-serv",
          "sales",
          "handlers-cleaners",
          "prof-specialty",
          "tech-support",
          "transport-moving",
          "tech-support",
          "exec-managerial",
          "sales",
          "machine-op-inspct",
          "tech-support",
          "farming-fishing",
          "priv-house-serv",
          "handlers-cleaners",
          "other-service",
          "protective-serv",
          "transport-moving",
          "prof-specialty",
          "handlers-cleaners",
          "farming-fishing",
          "protective-serv",
          "farming-fishing",
          "machine-op-inspct",
          "exec-managerial",
          "sales",
          "exec-managerial",
          "protective-serv",
          "craft-repair",
          "adm-clerical",
          "machine-op-inspct",
          "machine-op-inspct",
          "tech-support",
          "prof-specialty",
          "machine-op-inspct",
          "machine-op-inspct",
          "other-service",
          "transport-moving",
          "exec-managerial",
          "prof-specialty",
          "protective-serv",
          "exec-managerial",
          "machine-op-inspct",
          "armed-forces",
          "protective-serv",
          "armed-forces",
          "craft-repair",
          "farming-fishing",
          "priv-house-serv",
          "priv-house-serv",
          "farming-fishing",
          "machine-op-inspct",
          "tech-support",
          "handlers-cleaners",
          "priv-house-serv",
          "farming-fishing",
          "exec-managerial",
          "armed-forces",
          "adm-clerical",
          "exec-managerial",
          "sales",
          "protective-serv",
          "transport-moving",
          "prof-specialty",
          "sales",
          "adm-clerical",
          "priv-house-serv",
          "prof-specialty",
          "other-service",
          "other-service",
          "craft-repair",
          "protective-serv",
          "other-service",
          "tech-support",
          "transport-moving",
          "adm-clerical",
          "exec-managerial",
          "handlers-cleaners",
          "craft-repair"
         ],
         "xaxis": "x",
         "yaxis": "y"
        },
        {
         "alignmentgroup": "True",
         "bingroup": "x",
         "hovertemplate": "fraud_reported=N<br>insured_occupation=%{x}<br>count=%{y}<extra></extra>",
         "legendgroup": "N",
         "marker": {
          "color": "#EF553B",
          "pattern": {
           "shape": ""
          }
         },
         "name": "N",
         "offsetgroup": "N",
         "orientation": "v",
         "showlegend": true,
         "type": "histogram",
         "x": [
          "sales",
          "sales",
          "prof-specialty",
          "tech-support",
          "other-service",
          "priv-house-serv",
          "exec-managerial",
          "exec-managerial",
          "protective-serv",
          "armed-forces",
          "machine-op-inspct",
          "machine-op-inspct",
          "craft-repair",
          "handlers-cleaners",
          "other-service",
          "machine-op-inspct",
          "craft-repair",
          "prof-specialty",
          "sales",
          "machine-op-inspct",
          "prof-specialty",
          "adm-clerical",
          "farming-fishing",
          "prof-specialty",
          "priv-house-serv",
          "craft-repair",
          "tech-support",
          "prof-specialty",
          "transport-moving",
          "priv-house-serv",
          "protective-serv",
          "other-service",
          "protective-serv",
          "exec-managerial",
          "other-service",
          "farming-fishing",
          "armed-forces",
          "priv-house-serv",
          "machine-op-inspct",
          "craft-repair",
          "prof-specialty",
          "adm-clerical",
          "other-service",
          "adm-clerical",
          "handlers-cleaners",
          "armed-forces",
          "adm-clerical",
          "machine-op-inspct",
          "other-service",
          "sales",
          "transport-moving",
          "sales",
          "transport-moving",
          "handlers-cleaners",
          "transport-moving",
          "other-service",
          "exec-managerial",
          "exec-managerial",
          "other-service",
          "exec-managerial",
          "transport-moving",
          "priv-house-serv",
          "other-service",
          "prof-specialty",
          "sales",
          "farming-fishing",
          "exec-managerial",
          "machine-op-inspct",
          "armed-forces",
          "machine-op-inspct",
          "exec-managerial",
          "protective-serv",
          "tech-support",
          "prof-specialty",
          "tech-support",
          "other-service",
          "prof-specialty",
          "handlers-cleaners",
          "prof-specialty",
          "exec-managerial",
          "protective-serv",
          "armed-forces",
          "machine-op-inspct",
          "transport-moving",
          "adm-clerical",
          "priv-house-serv",
          "prof-specialty",
          "prof-specialty",
          "craft-repair",
          "protective-serv",
          "tech-support",
          "machine-op-inspct",
          "adm-clerical",
          "tech-support",
          "machine-op-inspct",
          "exec-managerial",
          "sales",
          "tech-support",
          "prof-specialty",
          "other-service",
          "machine-op-inspct",
          "transport-moving",
          "machine-op-inspct",
          "farming-fishing",
          "other-service",
          "farming-fishing",
          "priv-house-serv",
          "craft-repair",
          "exec-managerial",
          "prof-specialty",
          "machine-op-inspct",
          "transport-moving",
          "priv-house-serv",
          "farming-fishing",
          "exec-managerial",
          "prof-specialty",
          "armed-forces",
          "farming-fishing",
          "machine-op-inspct",
          "other-service",
          "armed-forces",
          "protective-serv",
          "transport-moving",
          "farming-fishing",
          "tech-support",
          "protective-serv",
          "prof-specialty",
          "armed-forces",
          "tech-support",
          "handlers-cleaners",
          "adm-clerical",
          "tech-support",
          "craft-repair",
          "tech-support",
          "protective-serv",
          "adm-clerical",
          "tech-support",
          "farming-fishing",
          "handlers-cleaners",
          "other-service",
          "farming-fishing",
          "handlers-cleaners",
          "adm-clerical",
          "armed-forces",
          "sales",
          "craft-repair",
          "transport-moving",
          "protective-serv",
          "machine-op-inspct",
          "sales",
          "tech-support",
          "handlers-cleaners",
          "adm-clerical",
          "sales",
          "handlers-cleaners",
          "priv-house-serv",
          "sales",
          "machine-op-inspct",
          "transport-moving",
          "priv-house-serv",
          "other-service",
          "sales",
          "sales",
          "tech-support",
          "exec-managerial",
          "other-service",
          "craft-repair",
          "farming-fishing",
          "machine-op-inspct",
          "prof-specialty",
          "machine-op-inspct",
          "handlers-cleaners",
          "transport-moving",
          "craft-repair",
          "farming-fishing",
          "farming-fishing",
          "armed-forces",
          "exec-managerial",
          "tech-support",
          "armed-forces",
          "machine-op-inspct",
          "machine-op-inspct",
          "armed-forces",
          "transport-moving",
          "farming-fishing",
          "craft-repair",
          "sales",
          "priv-house-serv",
          "armed-forces",
          "protective-serv",
          "craft-repair",
          "handlers-cleaners",
          "protective-serv",
          "machine-op-inspct",
          "handlers-cleaners",
          "other-service",
          "armed-forces",
          "other-service",
          "machine-op-inspct",
          "tech-support",
          "other-service",
          "craft-repair",
          "transport-moving",
          "priv-house-serv",
          "adm-clerical",
          "priv-house-serv",
          "transport-moving",
          "sales",
          "machine-op-inspct",
          "protective-serv",
          "sales",
          "prof-specialty",
          "protective-serv",
          "handlers-cleaners",
          "adm-clerical",
          "transport-moving",
          "farming-fishing",
          "handlers-cleaners",
          "sales",
          "transport-moving",
          "priv-house-serv",
          "machine-op-inspct",
          "armed-forces",
          "handlers-cleaners",
          "protective-serv",
          "machine-op-inspct",
          "transport-moving",
          "exec-managerial",
          "adm-clerical",
          "transport-moving",
          "sales",
          "adm-clerical",
          "handlers-cleaners",
          "priv-house-serv",
          "tech-support",
          "farming-fishing",
          "craft-repair",
          "machine-op-inspct",
          "tech-support",
          "prof-specialty",
          "prof-specialty",
          "armed-forces",
          "armed-forces",
          "tech-support",
          "priv-house-serv",
          "priv-house-serv",
          "craft-repair",
          "protective-serv",
          "transport-moving",
          "machine-op-inspct",
          "handlers-cleaners",
          "tech-support",
          "tech-support",
          "craft-repair",
          "adm-clerical",
          "adm-clerical",
          "prof-specialty",
          "craft-repair",
          "other-service",
          "priv-house-serv",
          "prof-specialty",
          "exec-managerial",
          "adm-clerical",
          "exec-managerial",
          "protective-serv",
          "farming-fishing",
          "sales",
          "transport-moving",
          "sales",
          "craft-repair",
          "other-service",
          "transport-moving",
          "craft-repair",
          "exec-managerial",
          "protective-serv",
          "prof-specialty",
          "other-service",
          "machine-op-inspct",
          "machine-op-inspct",
          "priv-house-serv",
          "exec-managerial",
          "exec-managerial",
          "prof-specialty",
          "exec-managerial",
          "machine-op-inspct",
          "protective-serv",
          "adm-clerical",
          "prof-specialty",
          "armed-forces",
          "priv-house-serv",
          "transport-moving",
          "sales",
          "transport-moving",
          "adm-clerical",
          "machine-op-inspct",
          "exec-managerial",
          "exec-managerial",
          "adm-clerical",
          "machine-op-inspct",
          "farming-fishing",
          "prof-specialty",
          "armed-forces",
          "machine-op-inspct",
          "transport-moving",
          "priv-house-serv",
          "priv-house-serv",
          "exec-managerial",
          "tech-support",
          "prof-specialty",
          "handlers-cleaners",
          "other-service",
          "farming-fishing",
          "priv-house-serv",
          "transport-moving",
          "transport-moving",
          "priv-house-serv",
          "priv-house-serv",
          "priv-house-serv",
          "machine-op-inspct",
          "exec-managerial",
          "other-service",
          "handlers-cleaners",
          "protective-serv",
          "tech-support",
          "protective-serv",
          "sales",
          "priv-house-serv",
          "tech-support",
          "adm-clerical",
          "other-service",
          "other-service",
          "transport-moving",
          "priv-house-serv",
          "transport-moving",
          "machine-op-inspct",
          "adm-clerical",
          "craft-repair",
          "priv-house-serv",
          "other-service",
          "protective-serv",
          "prof-specialty",
          "handlers-cleaners",
          "handlers-cleaners",
          "transport-moving",
          "protective-serv",
          "farming-fishing",
          "protective-serv",
          "tech-support",
          "armed-forces",
          "farming-fishing",
          "other-service",
          "exec-managerial",
          "priv-house-serv",
          "armed-forces",
          "armed-forces",
          "adm-clerical",
          "other-service",
          "armed-forces",
          "prof-specialty",
          "armed-forces",
          "machine-op-inspct",
          "machine-op-inspct",
          "adm-clerical",
          "prof-specialty",
          "machine-op-inspct",
          "tech-support",
          "craft-repair",
          "craft-repair",
          "tech-support",
          "armed-forces",
          "handlers-cleaners",
          "sales",
          "tech-support",
          "prof-specialty",
          "machine-op-inspct",
          "sales",
          "priv-house-serv",
          "sales",
          "other-service",
          "other-service",
          "tech-support",
          "adm-clerical",
          "protective-serv",
          "tech-support",
          "transport-moving",
          "farming-fishing",
          "farming-fishing",
          "craft-repair",
          "tech-support",
          "prof-specialty",
          "prof-specialty",
          "sales",
          "machine-op-inspct",
          "sales",
          "prof-specialty",
          "craft-repair",
          "adm-clerical",
          "armed-forces",
          "tech-support",
          "priv-house-serv",
          "prof-specialty",
          "other-service",
          "farming-fishing",
          "prof-specialty",
          "protective-serv",
          "sales",
          "prof-specialty",
          "tech-support",
          "armed-forces",
          "transport-moving",
          "armed-forces",
          "tech-support",
          "sales",
          "other-service",
          "craft-repair",
          "craft-repair",
          "farming-fishing",
          "adm-clerical",
          "other-service",
          "protective-serv",
          "exec-managerial",
          "exec-managerial",
          "machine-op-inspct",
          "craft-repair",
          "prof-specialty",
          "adm-clerical",
          "other-service",
          "other-service",
          "other-service",
          "machine-op-inspct",
          "sales",
          "protective-serv",
          "farming-fishing",
          "protective-serv",
          "priv-house-serv",
          "machine-op-inspct",
          "sales",
          "other-service",
          "priv-house-serv",
          "handlers-cleaners",
          "machine-op-inspct",
          "sales",
          "farming-fishing",
          "prof-specialty",
          "sales",
          "handlers-cleaners",
          "machine-op-inspct",
          "adm-clerical",
          "armed-forces",
          "machine-op-inspct",
          "priv-house-serv",
          "exec-managerial",
          "adm-clerical",
          "priv-house-serv",
          "machine-op-inspct",
          "exec-managerial",
          "adm-clerical",
          "handlers-cleaners",
          "sales",
          "tech-support",
          "tech-support",
          "farming-fishing",
          "machine-op-inspct",
          "transport-moving",
          "protective-serv",
          "sales",
          "machine-op-inspct",
          "sales",
          "exec-managerial",
          "machine-op-inspct",
          "prof-specialty",
          "transport-moving",
          "handlers-cleaners",
          "craft-repair",
          "craft-repair",
          "adm-clerical",
          "armed-forces",
          "other-service",
          "exec-managerial",
          "armed-forces",
          "adm-clerical",
          "exec-managerial",
          "craft-repair",
          "other-service",
          "handlers-cleaners",
          "adm-clerical",
          "craft-repair",
          "handlers-cleaners",
          "machine-op-inspct",
          "machine-op-inspct",
          "sales",
          "adm-clerical",
          "farming-fishing",
          "armed-forces",
          "adm-clerical",
          "prof-specialty",
          "machine-op-inspct",
          "machine-op-inspct",
          "transport-moving",
          "craft-repair",
          "sales",
          "other-service",
          "farming-fishing",
          "adm-clerical",
          "tech-support",
          "adm-clerical",
          "other-service",
          "machine-op-inspct",
          "farming-fishing",
          "machine-op-inspct",
          "armed-forces",
          "other-service",
          "priv-house-serv",
          "tech-support",
          "transport-moving",
          "exec-managerial",
          "armed-forces",
          "handlers-cleaners",
          "prof-specialty",
          "machine-op-inspct",
          "protective-serv",
          "farming-fishing",
          "transport-moving",
          "tech-support",
          "other-service",
          "tech-support",
          "handlers-cleaners",
          "protective-serv",
          "handlers-cleaners",
          "prof-specialty",
          "priv-house-serv",
          "exec-managerial",
          "prof-specialty",
          "craft-repair",
          "sales",
          "prof-specialty",
          "prof-specialty",
          "tech-support",
          "adm-clerical",
          "prof-specialty",
          "transport-moving",
          "prof-specialty",
          "craft-repair",
          "adm-clerical",
          "exec-managerial",
          "other-service",
          "exec-managerial",
          "prof-specialty",
          "sales",
          "craft-repair",
          "adm-clerical",
          "armed-forces",
          "sales",
          "machine-op-inspct",
          "tech-support",
          "priv-house-serv",
          "handlers-cleaners",
          "machine-op-inspct",
          "sales",
          "protective-serv",
          "machine-op-inspct",
          "prof-specialty",
          "machine-op-inspct",
          "prof-specialty",
          "protective-serv",
          "armed-forces",
          "handlers-cleaners",
          "adm-clerical",
          "prof-specialty",
          "transport-moving",
          "adm-clerical",
          "armed-forces",
          "prof-specialty",
          "transport-moving",
          "tech-support",
          "farming-fishing",
          "machine-op-inspct",
          "tech-support",
          "protective-serv",
          "sales",
          "priv-house-serv",
          "tech-support",
          "handlers-cleaners",
          "armed-forces",
          "tech-support",
          "other-service",
          "priv-house-serv",
          "adm-clerical",
          "sales",
          "tech-support",
          "armed-forces",
          "farming-fishing",
          "transport-moving",
          "adm-clerical",
          "craft-repair",
          "armed-forces",
          "armed-forces",
          "transport-moving",
          "armed-forces",
          "prof-specialty",
          "craft-repair",
          "machine-op-inspct",
          "prof-specialty",
          "protective-serv",
          "protective-serv",
          "handlers-cleaners",
          "protective-serv",
          "prof-specialty",
          "tech-support",
          "craft-repair",
          "adm-clerical",
          "prof-specialty",
          "prof-specialty",
          "other-service",
          "machine-op-inspct",
          "craft-repair",
          "craft-repair",
          "transport-moving",
          "priv-house-serv",
          "priv-house-serv",
          "prof-specialty",
          "adm-clerical",
          "prof-specialty",
          "machine-op-inspct",
          "other-service",
          "other-service",
          "transport-moving",
          "protective-serv",
          "farming-fishing",
          "craft-repair",
          "tech-support",
          "prof-specialty",
          "priv-house-serv",
          "sales",
          "priv-house-serv",
          "prof-specialty",
          "exec-managerial",
          "handlers-cleaners",
          "machine-op-inspct",
          "armed-forces",
          "tech-support",
          "priv-house-serv",
          "tech-support",
          "exec-managerial",
          "adm-clerical",
          "other-service",
          "other-service",
          "armed-forces",
          "priv-house-serv",
          "armed-forces",
          "protective-serv",
          "exec-managerial",
          "prof-specialty",
          "armed-forces",
          "sales",
          "protective-serv",
          "priv-house-serv",
          "priv-house-serv",
          "machine-op-inspct",
          "transport-moving",
          "other-service",
          "craft-repair",
          "armed-forces",
          "other-service",
          "craft-repair",
          "priv-house-serv",
          "exec-managerial",
          "adm-clerical",
          "transport-moving",
          "priv-house-serv",
          "exec-managerial",
          "exec-managerial",
          "sales",
          "craft-repair",
          "sales",
          "exec-managerial",
          "handlers-cleaners",
          "armed-forces",
          "tech-support",
          "priv-house-serv",
          "priv-house-serv",
          "priv-house-serv",
          "transport-moving",
          "sales",
          "exec-managerial",
          "craft-repair",
          "transport-moving",
          "adm-clerical",
          "tech-support",
          "prof-specialty",
          "transport-moving",
          "other-service",
          "priv-house-serv",
          "other-service",
          "farming-fishing",
          "adm-clerical",
          "priv-house-serv",
          "sales",
          "craft-repair",
          "machine-op-inspct",
          "armed-forces",
          "protective-serv",
          "protective-serv",
          "craft-repair",
          "machine-op-inspct",
          "other-service",
          "armed-forces",
          "prof-specialty",
          "handlers-cleaners",
          "sales",
          "sales",
          "tech-support",
          "transport-moving",
          "protective-serv",
          "handlers-cleaners",
          "protective-serv",
          "craft-repair",
          "craft-repair",
          "machine-op-inspct",
          "priv-house-serv",
          "priv-house-serv",
          "protective-serv",
          "protective-serv",
          "adm-clerical",
          "transport-moving",
          "protective-serv",
          "handlers-cleaners",
          "sales",
          "tech-support",
          "adm-clerical",
          "tech-support",
          "priv-house-serv",
          "protective-serv",
          "craft-repair",
          "craft-repair",
          "farming-fishing",
          "handlers-cleaners",
          "handlers-cleaners",
          "adm-clerical",
          "other-service",
          "other-service",
          "armed-forces",
          "exec-managerial",
          "prof-specialty",
          "other-service",
          "exec-managerial",
          "exec-managerial",
          "sales",
          "craft-repair",
          "prof-specialty",
          "armed-forces",
          "handlers-cleaners",
          "sales"
         ],
         "xaxis": "x",
         "yaxis": "y"
        }
       ],
       "layout": {
        "barmode": "relative",
        "legend": {
         "title": {
          "text": "fraud_reported"
         },
         "tracegroupgap": 0
        },
        "margin": {
         "t": 60
        },
        "template": {
         "data": {
          "bar": [
           {
            "error_x": {
             "color": "#2a3f5f"
            },
            "error_y": {
             "color": "#2a3f5f"
            },
            "marker": {
             "line": {
              "color": "#E5ECF6",
              "width": 0.5
             },
             "pattern": {
              "fillmode": "overlay",
              "size": 10,
              "solidity": 0.2
             }
            },
            "type": "bar"
           }
          ],
          "barpolar": [
           {
            "marker": {
             "line": {
              "color": "#E5ECF6",
              "width": 0.5
             },
             "pattern": {
              "fillmode": "overlay",
              "size": 10,
              "solidity": 0.2
             }
            },
            "type": "barpolar"
           }
          ],
          "carpet": [
           {
            "aaxis": {
             "endlinecolor": "#2a3f5f",
             "gridcolor": "white",
             "linecolor": "white",
             "minorgridcolor": "white",
             "startlinecolor": "#2a3f5f"
            },
            "baxis": {
             "endlinecolor": "#2a3f5f",
             "gridcolor": "white",
             "linecolor": "white",
             "minorgridcolor": "white",
             "startlinecolor": "#2a3f5f"
            },
            "type": "carpet"
           }
          ],
          "choropleth": [
           {
            "colorbar": {
             "outlinewidth": 0,
             "ticks": ""
            },
            "type": "choropleth"
           }
          ],
          "contour": [
           {
            "colorbar": {
             "outlinewidth": 0,
             "ticks": ""
            },
            "colorscale": [
             [
              0,
              "#0d0887"
             ],
             [
              0.1111111111111111,
              "#46039f"
             ],
             [
              0.2222222222222222,
              "#7201a8"
             ],
             [
              0.3333333333333333,
              "#9c179e"
             ],
             [
              0.4444444444444444,
              "#bd3786"
             ],
             [
              0.5555555555555556,
              "#d8576b"
             ],
             [
              0.6666666666666666,
              "#ed7953"
             ],
             [
              0.7777777777777778,
              "#fb9f3a"
             ],
             [
              0.8888888888888888,
              "#fdca26"
             ],
             [
              1,
              "#f0f921"
             ]
            ],
            "type": "contour"
           }
          ],
          "contourcarpet": [
           {
            "colorbar": {
             "outlinewidth": 0,
             "ticks": ""
            },
            "type": "contourcarpet"
           }
          ],
          "heatmap": [
           {
            "colorbar": {
             "outlinewidth": 0,
             "ticks": ""
            },
            "colorscale": [
             [
              0,
              "#0d0887"
             ],
             [
              0.1111111111111111,
              "#46039f"
             ],
             [
              0.2222222222222222,
              "#7201a8"
             ],
             [
              0.3333333333333333,
              "#9c179e"
             ],
             [
              0.4444444444444444,
              "#bd3786"
             ],
             [
              0.5555555555555556,
              "#d8576b"
             ],
             [
              0.6666666666666666,
              "#ed7953"
             ],
             [
              0.7777777777777778,
              "#fb9f3a"
             ],
             [
              0.8888888888888888,
              "#fdca26"
             ],
             [
              1,
              "#f0f921"
             ]
            ],
            "type": "heatmap"
           }
          ],
          "heatmapgl": [
           {
            "colorbar": {
             "outlinewidth": 0,
             "ticks": ""
            },
            "colorscale": [
             [
              0,
              "#0d0887"
             ],
             [
              0.1111111111111111,
              "#46039f"
             ],
             [
              0.2222222222222222,
              "#7201a8"
             ],
             [
              0.3333333333333333,
              "#9c179e"
             ],
             [
              0.4444444444444444,
              "#bd3786"
             ],
             [
              0.5555555555555556,
              "#d8576b"
             ],
             [
              0.6666666666666666,
              "#ed7953"
             ],
             [
              0.7777777777777778,
              "#fb9f3a"
             ],
             [
              0.8888888888888888,
              "#fdca26"
             ],
             [
              1,
              "#f0f921"
             ]
            ],
            "type": "heatmapgl"
           }
          ],
          "histogram": [
           {
            "marker": {
             "pattern": {
              "fillmode": "overlay",
              "size": 10,
              "solidity": 0.2
             }
            },
            "type": "histogram"
           }
          ],
          "histogram2d": [
           {
            "colorbar": {
             "outlinewidth": 0,
             "ticks": ""
            },
            "colorscale": [
             [
              0,
              "#0d0887"
             ],
             [
              0.1111111111111111,
              "#46039f"
             ],
             [
              0.2222222222222222,
              "#7201a8"
             ],
             [
              0.3333333333333333,
              "#9c179e"
             ],
             [
              0.4444444444444444,
              "#bd3786"
             ],
             [
              0.5555555555555556,
              "#d8576b"
             ],
             [
              0.6666666666666666,
              "#ed7953"
             ],
             [
              0.7777777777777778,
              "#fb9f3a"
             ],
             [
              0.8888888888888888,
              "#fdca26"
             ],
             [
              1,
              "#f0f921"
             ]
            ],
            "type": "histogram2d"
           }
          ],
          "histogram2dcontour": [
           {
            "colorbar": {
             "outlinewidth": 0,
             "ticks": ""
            },
            "colorscale": [
             [
              0,
              "#0d0887"
             ],
             [
              0.1111111111111111,
              "#46039f"
             ],
             [
              0.2222222222222222,
              "#7201a8"
             ],
             [
              0.3333333333333333,
              "#9c179e"
             ],
             [
              0.4444444444444444,
              "#bd3786"
             ],
             [
              0.5555555555555556,
              "#d8576b"
             ],
             [
              0.6666666666666666,
              "#ed7953"
             ],
             [
              0.7777777777777778,
              "#fb9f3a"
             ],
             [
              0.8888888888888888,
              "#fdca26"
             ],
             [
              1,
              "#f0f921"
             ]
            ],
            "type": "histogram2dcontour"
           }
          ],
          "mesh3d": [
           {
            "colorbar": {
             "outlinewidth": 0,
             "ticks": ""
            },
            "type": "mesh3d"
           }
          ],
          "parcoords": [
           {
            "line": {
             "colorbar": {
              "outlinewidth": 0,
              "ticks": ""
             }
            },
            "type": "parcoords"
           }
          ],
          "pie": [
           {
            "automargin": true,
            "type": "pie"
           }
          ],
          "scatter": [
           {
            "marker": {
             "colorbar": {
              "outlinewidth": 0,
              "ticks": ""
             }
            },
            "type": "scatter"
           }
          ],
          "scatter3d": [
           {
            "line": {
             "colorbar": {
              "outlinewidth": 0,
              "ticks": ""
             }
            },
            "marker": {
             "colorbar": {
              "outlinewidth": 0,
              "ticks": ""
             }
            },
            "type": "scatter3d"
           }
          ],
          "scattercarpet": [
           {
            "marker": {
             "colorbar": {
              "outlinewidth": 0,
              "ticks": ""
             }
            },
            "type": "scattercarpet"
           }
          ],
          "scattergeo": [
           {
            "marker": {
             "colorbar": {
              "outlinewidth": 0,
              "ticks": ""
             }
            },
            "type": "scattergeo"
           }
          ],
          "scattergl": [
           {
            "marker": {
             "colorbar": {
              "outlinewidth": 0,
              "ticks": ""
             }
            },
            "type": "scattergl"
           }
          ],
          "scattermapbox": [
           {
            "marker": {
             "colorbar": {
              "outlinewidth": 0,
              "ticks": ""
             }
            },
            "type": "scattermapbox"
           }
          ],
          "scatterpolar": [
           {
            "marker": {
             "colorbar": {
              "outlinewidth": 0,
              "ticks": ""
             }
            },
            "type": "scatterpolar"
           }
          ],
          "scatterpolargl": [
           {
            "marker": {
             "colorbar": {
              "outlinewidth": 0,
              "ticks": ""
             }
            },
            "type": "scatterpolargl"
           }
          ],
          "scatterternary": [
           {
            "marker": {
             "colorbar": {
              "outlinewidth": 0,
              "ticks": ""
             }
            },
            "type": "scatterternary"
           }
          ],
          "surface": [
           {
            "colorbar": {
             "outlinewidth": 0,
             "ticks": ""
            },
            "colorscale": [
             [
              0,
              "#0d0887"
             ],
             [
              0.1111111111111111,
              "#46039f"
             ],
             [
              0.2222222222222222,
              "#7201a8"
             ],
             [
              0.3333333333333333,
              "#9c179e"
             ],
             [
              0.4444444444444444,
              "#bd3786"
             ],
             [
              0.5555555555555556,
              "#d8576b"
             ],
             [
              0.6666666666666666,
              "#ed7953"
             ],
             [
              0.7777777777777778,
              "#fb9f3a"
             ],
             [
              0.8888888888888888,
              "#fdca26"
             ],
             [
              1,
              "#f0f921"
             ]
            ],
            "type": "surface"
           }
          ],
          "table": [
           {
            "cells": {
             "fill": {
              "color": "#EBF0F8"
             },
             "line": {
              "color": "white"
             }
            },
            "header": {
             "fill": {
              "color": "#C8D4E3"
             },
             "line": {
              "color": "white"
             }
            },
            "type": "table"
           }
          ]
         },
         "layout": {
          "annotationdefaults": {
           "arrowcolor": "#2a3f5f",
           "arrowhead": 0,
           "arrowwidth": 1
          },
          "autotypenumbers": "strict",
          "coloraxis": {
           "colorbar": {
            "outlinewidth": 0,
            "ticks": ""
           }
          },
          "colorscale": {
           "diverging": [
            [
             0,
             "#8e0152"
            ],
            [
             0.1,
             "#c51b7d"
            ],
            [
             0.2,
             "#de77ae"
            ],
            [
             0.3,
             "#f1b6da"
            ],
            [
             0.4,
             "#fde0ef"
            ],
            [
             0.5,
             "#f7f7f7"
            ],
            [
             0.6,
             "#e6f5d0"
            ],
            [
             0.7,
             "#b8e186"
            ],
            [
             0.8,
             "#7fbc41"
            ],
            [
             0.9,
             "#4d9221"
            ],
            [
             1,
             "#276419"
            ]
           ],
           "sequential": [
            [
             0,
             "#0d0887"
            ],
            [
             0.1111111111111111,
             "#46039f"
            ],
            [
             0.2222222222222222,
             "#7201a8"
            ],
            [
             0.3333333333333333,
             "#9c179e"
            ],
            [
             0.4444444444444444,
             "#bd3786"
            ],
            [
             0.5555555555555556,
             "#d8576b"
            ],
            [
             0.6666666666666666,
             "#ed7953"
            ],
            [
             0.7777777777777778,
             "#fb9f3a"
            ],
            [
             0.8888888888888888,
             "#fdca26"
            ],
            [
             1,
             "#f0f921"
            ]
           ],
           "sequentialminus": [
            [
             0,
             "#0d0887"
            ],
            [
             0.1111111111111111,
             "#46039f"
            ],
            [
             0.2222222222222222,
             "#7201a8"
            ],
            [
             0.3333333333333333,
             "#9c179e"
            ],
            [
             0.4444444444444444,
             "#bd3786"
            ],
            [
             0.5555555555555556,
             "#d8576b"
            ],
            [
             0.6666666666666666,
             "#ed7953"
            ],
            [
             0.7777777777777778,
             "#fb9f3a"
            ],
            [
             0.8888888888888888,
             "#fdca26"
            ],
            [
             1,
             "#f0f921"
            ]
           ]
          },
          "colorway": [
           "#636efa",
           "#EF553B",
           "#00cc96",
           "#ab63fa",
           "#FFA15A",
           "#19d3f3",
           "#FF6692",
           "#B6E880",
           "#FF97FF",
           "#FECB52"
          ],
          "font": {
           "color": "#2a3f5f"
          },
          "geo": {
           "bgcolor": "white",
           "lakecolor": "white",
           "landcolor": "#E5ECF6",
           "showlakes": true,
           "showland": true,
           "subunitcolor": "white"
          },
          "hoverlabel": {
           "align": "left"
          },
          "hovermode": "closest",
          "mapbox": {
           "style": "light"
          },
          "paper_bgcolor": "white",
          "plot_bgcolor": "#E5ECF6",
          "polar": {
           "angularaxis": {
            "gridcolor": "white",
            "linecolor": "white",
            "ticks": ""
           },
           "bgcolor": "#E5ECF6",
           "radialaxis": {
            "gridcolor": "white",
            "linecolor": "white",
            "ticks": ""
           }
          },
          "scene": {
           "xaxis": {
            "backgroundcolor": "#E5ECF6",
            "gridcolor": "white",
            "gridwidth": 2,
            "linecolor": "white",
            "showbackground": true,
            "ticks": "",
            "zerolinecolor": "white"
           },
           "yaxis": {
            "backgroundcolor": "#E5ECF6",
            "gridcolor": "white",
            "gridwidth": 2,
            "linecolor": "white",
            "showbackground": true,
            "ticks": "",
            "zerolinecolor": "white"
           },
           "zaxis": {
            "backgroundcolor": "#E5ECF6",
            "gridcolor": "white",
            "gridwidth": 2,
            "linecolor": "white",
            "showbackground": true,
            "ticks": "",
            "zerolinecolor": "white"
           }
          },
          "shapedefaults": {
           "line": {
            "color": "#2a3f5f"
           }
          },
          "ternary": {
           "aaxis": {
            "gridcolor": "white",
            "linecolor": "white",
            "ticks": ""
           },
           "baxis": {
            "gridcolor": "white",
            "linecolor": "white",
            "ticks": ""
           },
           "bgcolor": "#E5ECF6",
           "caxis": {
            "gridcolor": "white",
            "linecolor": "white",
            "ticks": ""
           }
          },
          "title": {
           "x": 0.05
          },
          "xaxis": {
           "automargin": true,
           "gridcolor": "white",
           "linecolor": "white",
           "ticks": "",
           "title": {
            "standoff": 15
           },
           "zerolinecolor": "white",
           "zerolinewidth": 2
          },
          "yaxis": {
           "automargin": true,
           "gridcolor": "white",
           "linecolor": "white",
           "ticks": "",
           "title": {
            "standoff": 15
           },
           "zerolinecolor": "white",
           "zerolinewidth": 2
          }
         }
        },
        "xaxis": {
         "anchor": "y",
         "domain": [
          0,
          1
         ],
         "title": {
          "text": "insured_occupation"
         }
        },
        "yaxis": {
         "anchor": "x",
         "domain": [
          0,
          1
         ],
         "title": {
          "text": "count"
         }
        }
       }
      }
     },
     "metadata": {},
     "output_type": "display_data"
    }
   ],
   "source": [
    "fig = px.histogram(df, x=\"insured_occupation\", color=\"fraud_reported\")\n",
    "fig.show()"
   ]
  },
  {
   "cell_type": "code",
   "execution_count": 204,
   "metadata": {},
   "outputs": [
    {
     "data": {
      "application/vnd.plotly.v1+json": {
       "config": {
        "plotlyServerURL": "https://plot.ly"
       },
       "data": [
        {
         "alignmentgroup": "True",
         "bingroup": "x",
         "hovertemplate": "fraud_reported=Y<br>insured_hobbies=%{x}<br>count=%{y}<extra></extra>",
         "legendgroup": "Y",
         "marker": {
          "color": "#636efa",
          "pattern": {
           "shape": ""
          }
         },
         "name": "Y",
         "offsetgroup": "Y",
         "orientation": "v",
         "showlegend": true,
         "type": "histogram",
         "x": [
          "sleeping",
          "reading",
          "board-games",
          "bungie-jumping",
          "board-games",
          "movies",
          "paintball",
          "chess",
          "polo",
          "chess",
          "reading",
          "reading",
          "camping",
          "video-games",
          "chess",
          "kayaking",
          "base-jumping",
          "video-games",
          "chess",
          "chess",
          "paintball",
          "sleeping",
          "cross-fit",
          "polo",
          "movies",
          "exercise",
          "exercise",
          "hiking",
          "skydiving",
          "basketball",
          "basketball",
          "chess",
          "dancing",
          "hiking",
          "exercise",
          "video-games",
          "skydiving",
          "basketball",
          "sleeping",
          "yachting",
          "yachting",
          "cross-fit",
          "polo",
          "reading",
          "skydiving",
          "kayaking",
          "reading",
          "bungie-jumping",
          "sleeping",
          "board-games",
          "hiking",
          "cross-fit",
          "cross-fit",
          "hiking",
          "skydiving",
          "chess",
          "reading",
          "cross-fit",
          "bungie-jumping",
          "exercise",
          "base-jumping",
          "bungie-jumping",
          "polo",
          "cross-fit",
          "skydiving",
          "golf",
          "chess",
          "yachting",
          "yachting",
          "movies",
          "base-jumping",
          "cross-fit",
          "dancing",
          "reading",
          "golf",
          "hiking",
          "paintball",
          "cross-fit",
          "exercise",
          "cross-fit",
          "sleeping",
          "movies",
          "polo",
          "golf",
          "base-jumping",
          "kayaking",
          "cross-fit",
          "dancing",
          "base-jumping",
          "reading",
          "sleeping",
          "base-jumping",
          "board-games",
          "reading",
          "cross-fit",
          "skydiving",
          "board-games",
          "bungie-jumping",
          "paintball",
          "yachting",
          "polo",
          "paintball",
          "reading",
          "polo",
          "chess",
          "yachting",
          "base-jumping",
          "reading",
          "golf",
          "chess",
          "reading",
          "skydiving",
          "cross-fit",
          "base-jumping",
          "basketball",
          "camping",
          "base-jumping",
          "chess",
          "exercise",
          "chess",
          "movies",
          "base-jumping",
          "hiking",
          "skydiving",
          "chess",
          "polo",
          "cross-fit",
          "chess",
          "yachting",
          "golf",
          "cross-fit",
          "board-games",
          "exercise",
          "skydiving",
          "chess",
          "hiking",
          "video-games",
          "dancing",
          "paintball",
          "yachting",
          "polo",
          "chess",
          "board-games",
          "yachting",
          "chess",
          "movies",
          "board-games",
          "chess",
          "board-games",
          "camping",
          "yachting",
          "yachting",
          "polo",
          "chess",
          "cross-fit",
          "chess",
          "board-games",
          "chess",
          "yachting",
          "hiking",
          "chess",
          "dancing",
          "chess",
          "chess",
          "paintball",
          "chess",
          "cross-fit",
          "yachting",
          "cross-fit",
          "chess",
          "paintball",
          "chess",
          "reading",
          "movies",
          "video-games",
          "paintball",
          "base-jumping",
          "cross-fit",
          "exercise",
          "cross-fit",
          "chess",
          "video-games",
          "chess",
          "exercise",
          "chess",
          "reading",
          "hiking",
          "polo",
          "polo",
          "cross-fit",
          "camping",
          "board-games",
          "hiking",
          "yachting",
          "reading",
          "paintball",
          "basketball",
          "paintball",
          "chess",
          "cross-fit",
          "hiking",
          "cross-fit",
          "reading",
          "chess",
          "bungie-jumping",
          "cross-fit",
          "paintball",
          "basketball",
          "chess",
          "movies",
          "golf",
          "movies",
          "camping",
          "chess",
          "board-games",
          "video-games",
          "polo",
          "chess",
          "skydiving",
          "chess",
          "base-jumping",
          "sleeping",
          "video-games",
          "skydiving",
          "bungie-jumping",
          "board-games",
          "paintball",
          "kayaking",
          "chess",
          "chess",
          "video-games",
          "bungie-jumping",
          "yachting",
          "sleeping",
          "cross-fit",
          "exercise",
          "bungie-jumping",
          "hiking",
          "cross-fit",
          "base-jumping",
          "exercise",
          "reading",
          "video-games",
          "board-games",
          "cross-fit",
          "kayaking",
          "yachting"
         ],
         "xaxis": "x",
         "yaxis": "y"
        },
        {
         "alignmentgroup": "True",
         "bingroup": "x",
         "hovertemplate": "fraud_reported=N<br>insured_hobbies=%{x}<br>count=%{y}<extra></extra>",
         "legendgroup": "N",
         "marker": {
          "color": "#EF553B",
          "pattern": {
           "shape": ""
          }
         },
         "name": "N",
         "offsetgroup": "N",
         "orientation": "v",
         "showlegend": true,
         "type": "histogram",
         "x": [
          "board-games",
          "board-games",
          "board-games",
          "base-jumping",
          "golf",
          "camping",
          "dancing",
          "skydiving",
          "reading",
          "bungie-jumping",
          "hiking",
          "reading",
          "yachting",
          "camping",
          "bungie-jumping",
          "skydiving",
          "kayaking",
          "golf",
          "kayaking",
          "basketball",
          "video-games",
          "yachting",
          "video-games",
          "yachting",
          "golf",
          "bungie-jumping",
          "kayaking",
          "hiking",
          "reading",
          "reading",
          "yachting",
          "polo",
          "dancing",
          "movies",
          "bungie-jumping",
          "polo",
          "basketball",
          "movies",
          "movies",
          "skydiving",
          "chess",
          "hiking",
          "yachting",
          "kayaking",
          "basketball",
          "bungie-jumping",
          "reading",
          "movies",
          "kayaking",
          "paintball",
          "golf",
          "yachting",
          "bungie-jumping",
          "golf",
          "dancing",
          "kayaking",
          "paintball",
          "video-games",
          "bungie-jumping",
          "video-games",
          "board-games",
          "yachting",
          "yachting",
          "kayaking",
          "board-games",
          "yachting",
          "exercise",
          "hiking",
          "exercise",
          "kayaking",
          "reading",
          "yachting",
          "exercise",
          "bungie-jumping",
          "kayaking",
          "basketball",
          "kayaking",
          "camping",
          "video-games",
          "polo",
          "camping",
          "reading",
          "bungie-jumping",
          "yachting",
          "camping",
          "board-games",
          "movies",
          "paintball",
          "dancing",
          "video-games",
          "exercise",
          "camping",
          "paintball",
          "exercise",
          "skydiving",
          "basketball",
          "exercise",
          "golf",
          "basketball",
          "hiking",
          "camping",
          "video-games",
          "video-games",
          "video-games",
          "golf",
          "base-jumping",
          "polo",
          "paintball",
          "exercise",
          "hiking",
          "movies",
          "video-games",
          "reading",
          "dancing",
          "polo",
          "polo",
          "bungie-jumping",
          "yachting",
          "bungie-jumping",
          "movies",
          "hiking",
          "board-games",
          "kayaking",
          "kayaking",
          "board-games",
          "dancing",
          "kayaking",
          "skydiving",
          "exercise",
          "basketball",
          "reading",
          "exercise",
          "sleeping",
          "bungie-jumping",
          "exercise",
          "polo",
          "movies",
          "hiking",
          "basketball",
          "hiking",
          "basketball",
          "bungie-jumping",
          "camping",
          "bungie-jumping",
          "paintball",
          "golf",
          "base-jumping",
          "board-games",
          "paintball",
          "kayaking",
          "exercise",
          "golf",
          "hiking",
          "reading",
          "movies",
          "skydiving",
          "yachting",
          "base-jumping",
          "yachting",
          "camping",
          "exercise",
          "yachting",
          "board-games",
          "kayaking",
          "basketball",
          "paintball",
          "kayaking",
          "dancing",
          "base-jumping",
          "dancing",
          "exercise",
          "paintball",
          "kayaking",
          "golf",
          "reading",
          "dancing",
          "cross-fit",
          "camping",
          "paintball",
          "board-games",
          "golf",
          "golf",
          "paintball",
          "bungie-jumping",
          "golf",
          "base-jumping",
          "base-jumping",
          "skydiving",
          "base-jumping",
          "kayaking",
          "movies",
          "video-games",
          "reading",
          "camping",
          "camping",
          "camping",
          "skydiving",
          "skydiving",
          "board-games",
          "paintball",
          "sleeping",
          "movies",
          "video-games",
          "basketball",
          "kayaking",
          "hiking",
          "golf",
          "hiking",
          "kayaking",
          "golf",
          "dancing",
          "basketball",
          "reading",
          "dancing",
          "golf",
          "video-games",
          "base-jumping",
          "yachting",
          "base-jumping",
          "camping",
          "bungie-jumping",
          "hiking",
          "golf",
          "skydiving",
          "board-games",
          "golf",
          "bungie-jumping",
          "bungie-jumping",
          "camping",
          "yachting",
          "video-games",
          "polo",
          "movies",
          "board-games",
          "sleeping",
          "bungie-jumping",
          "yachting",
          "base-jumping",
          "base-jumping",
          "reading",
          "hiking",
          "camping",
          "sleeping",
          "camping",
          "movies",
          "video-games",
          "movies",
          "sleeping",
          "hiking",
          "skydiving",
          "base-jumping",
          "cross-fit",
          "polo",
          "camping",
          "skydiving",
          "base-jumping",
          "golf",
          "paintball",
          "movies",
          "basketball",
          "polo",
          "dancing",
          "hiking",
          "hiking",
          "exercise",
          "dancing",
          "video-games",
          "chess",
          "reading",
          "exercise",
          "polo",
          "sleeping",
          "sleeping",
          "base-jumping",
          "board-games",
          "base-jumping",
          "paintball",
          "camping",
          "base-jumping",
          "sleeping",
          "golf",
          "golf",
          "board-games",
          "video-games",
          "video-games",
          "exercise",
          "dancing",
          "dancing",
          "exercise",
          "video-games",
          "base-jumping",
          "skydiving",
          "skydiving",
          "exercise",
          "sleeping",
          "camping",
          "cross-fit",
          "polo",
          "video-games",
          "camping",
          "movies",
          "paintball",
          "basketball",
          "bungie-jumping",
          "exercise",
          "board-games",
          "paintball",
          "chess",
          "video-games",
          "hiking",
          "kayaking",
          "cross-fit",
          "polo",
          "bungie-jumping",
          "sleeping",
          "yachting",
          "exercise",
          "skydiving",
          "reading",
          "bungie-jumping",
          "sleeping",
          "polo",
          "yachting",
          "board-games",
          "paintball",
          "reading",
          "dancing",
          "exercise",
          "yachting",
          "reading",
          "base-jumping",
          "reading",
          "board-games",
          "reading",
          "board-games",
          "video-games",
          "yachting",
          "board-games",
          "yachting",
          "board-games",
          "golf",
          "skydiving",
          "dancing",
          "camping",
          "exercise",
          "yachting",
          "kayaking",
          "video-games",
          "hiking",
          "kayaking",
          "golf",
          "sleeping",
          "polo",
          "camping",
          "video-games",
          "exercise",
          "golf",
          "yachting",
          "exercise",
          "movies",
          "reading",
          "camping",
          "reading",
          "camping",
          "hiking",
          "base-jumping",
          "camping",
          "paintball",
          "sleeping",
          "exercise",
          "board-games",
          "reading",
          "paintball",
          "yachting",
          "board-games",
          "golf",
          "reading",
          "paintball",
          "hiking",
          "cross-fit",
          "movies",
          "exercise",
          "camping",
          "exercise",
          "hiking",
          "skydiving",
          "hiking",
          "video-games",
          "skydiving",
          "exercise",
          "kayaking",
          "basketball",
          "kayaking",
          "exercise",
          "dancing",
          "skydiving",
          "paintball",
          "sleeping",
          "basketball",
          "reading",
          "hiking",
          "reading",
          "paintball",
          "paintball",
          "golf",
          "paintball",
          "board-games",
          "golf",
          "dancing",
          "basketball",
          "basketball",
          "camping",
          "hiking",
          "sleeping",
          "polo",
          "movies",
          "bungie-jumping",
          "dancing",
          "hiking",
          "hiking",
          "exercise",
          "dancing",
          "camping",
          "camping",
          "movies",
          "paintball",
          "paintball",
          "skydiving",
          "dancing",
          "polo",
          "base-jumping",
          "movies",
          "movies",
          "polo",
          "exercise",
          "yachting",
          "yachting",
          "skydiving",
          "hiking",
          "chess",
          "bungie-jumping",
          "sleeping",
          "exercise",
          "golf",
          "camping",
          "bungie-jumping",
          "bungie-jumping",
          "video-games",
          "movies",
          "reading",
          "golf",
          "reading",
          "polo",
          "dancing",
          "kayaking",
          "kayaking",
          "chess",
          "board-games",
          "yachting",
          "paintball",
          "sleeping",
          "video-games",
          "kayaking",
          "polo",
          "camping",
          "reading",
          "hiking",
          "camping",
          "base-jumping",
          "kayaking",
          "video-games",
          "golf",
          "bungie-jumping",
          "polo",
          "dancing",
          "video-games",
          "movies",
          "base-jumping",
          "golf",
          "bungie-jumping",
          "golf",
          "yachting",
          "bungie-jumping",
          "base-jumping",
          "board-games",
          "movies",
          "golf",
          "kayaking",
          "yachting",
          "camping",
          "video-games",
          "sleeping",
          "skydiving",
          "skydiving",
          "reading",
          "paintball",
          "hiking",
          "sleeping",
          "bungie-jumping",
          "camping",
          "exercise",
          "dancing",
          "golf",
          "polo",
          "exercise",
          "sleeping",
          "paintball",
          "reading",
          "camping",
          "hiking",
          "polo",
          "skydiving",
          "polo",
          "golf",
          "video-games",
          "bungie-jumping",
          "sleeping",
          "skydiving",
          "paintball",
          "kayaking",
          "reading",
          "movies",
          "kayaking",
          "sleeping",
          "reading",
          "camping",
          "movies",
          "base-jumping",
          "paintball",
          "basketball",
          "golf",
          "exercise",
          "golf",
          "dancing",
          "kayaking",
          "base-jumping",
          "kayaking",
          "movies",
          "sleeping",
          "camping",
          "polo",
          "bungie-jumping",
          "skydiving",
          "basketball",
          "exercise",
          "dancing",
          "exercise",
          "kayaking",
          "camping",
          "reading",
          "golf",
          "bungie-jumping",
          "skydiving",
          "cross-fit",
          "kayaking",
          "movies",
          "movies",
          "golf",
          "movies",
          "hiking",
          "cross-fit",
          "yachting",
          "basketball",
          "bungie-jumping",
          "hiking",
          "kayaking",
          "basketball",
          "hiking",
          "sleeping",
          "movies",
          "reading",
          "movies",
          "video-games",
          "polo",
          "hiking",
          "paintball",
          "yachting",
          "kayaking",
          "bungie-jumping",
          "skydiving",
          "exercise",
          "skydiving",
          "dancing",
          "video-games",
          "board-games",
          "bungie-jumping",
          "dancing",
          "board-games",
          "reading",
          "paintball",
          "exercise",
          "kayaking",
          "hiking",
          "movies",
          "paintball",
          "yachting",
          "dancing",
          "video-games",
          "kayaking",
          "basketball",
          "base-jumping",
          "kayaking",
          "dancing",
          "dancing",
          "base-jumping",
          "kayaking",
          "dancing",
          "video-games",
          "dancing",
          "camping",
          "bungie-jumping",
          "paintball",
          "camping",
          "basketball",
          "polo",
          "camping",
          "kayaking",
          "skydiving",
          "movies",
          "paintball",
          "golf",
          "hiking",
          "paintball",
          "skydiving",
          "reading",
          "basketball",
          "kayaking",
          "reading",
          "golf",
          "reading",
          "reading",
          "video-games",
          "golf",
          "base-jumping",
          "bungie-jumping",
          "golf",
          "polo",
          "chess",
          "golf",
          "kayaking",
          "reading",
          "reading",
          "dancing",
          "bungie-jumping",
          "golf",
          "golf",
          "bungie-jumping",
          "video-games",
          "base-jumping",
          "exercise",
          "skydiving",
          "skydiving",
          "bungie-jumping",
          "kayaking",
          "reading",
          "reading",
          "exercise",
          "polo",
          "dancing",
          "paintball",
          "paintball",
          "exercise",
          "exercise",
          "chess",
          "sleeping",
          "sleeping",
          "camping",
          "yachting",
          "sleeping",
          "movies",
          "board-games",
          "sleeping",
          "basketball",
          "paintball",
          "video-games",
          "sleeping",
          "skydiving",
          "basketball",
          "movies",
          "camping",
          "paintball",
          "base-jumping",
          "skydiving",
          "dancing",
          "kayaking",
          "movies",
          "cross-fit",
          "golf",
          "chess",
          "exercise",
          "base-jumping",
          "camping",
          "polo",
          "hiking",
          "skydiving",
          "video-games",
          "polo",
          "sleeping",
          "polo",
          "reading",
          "camping",
          "polo",
          "hiking",
          "movies",
          "exercise",
          "base-jumping",
          "bungie-jumping",
          "movies",
          "yachting",
          "board-games",
          "exercise",
          "bungie-jumping",
          "video-games",
          "reading",
          "sleeping",
          "reading",
          "yachting",
          "movies",
          "golf",
          "skydiving",
          "sleeping",
          "movies",
          "board-games",
          "bungie-jumping",
          "board-games",
          "skydiving",
          "camping",
          "kayaking",
          "paintball",
          "movies",
          "movies",
          "paintball",
          "polo",
          "board-games",
          "golf",
          "base-jumping",
          "camping",
          "bungie-jumping",
          "hiking",
          "cross-fit",
          "base-jumping",
          "dancing",
          "movies",
          "movies",
          "basketball",
          "camping",
          "camping",
          "bungie-jumping",
          "paintball",
          "sleeping",
          "bungie-jumping",
          "base-jumping",
          "kayaking"
         ],
         "xaxis": "x",
         "yaxis": "y"
        }
       ],
       "layout": {
        "barmode": "relative",
        "legend": {
         "title": {
          "text": "fraud_reported"
         },
         "tracegroupgap": 0
        },
        "margin": {
         "t": 60
        },
        "template": {
         "data": {
          "bar": [
           {
            "error_x": {
             "color": "#2a3f5f"
            },
            "error_y": {
             "color": "#2a3f5f"
            },
            "marker": {
             "line": {
              "color": "#E5ECF6",
              "width": 0.5
             },
             "pattern": {
              "fillmode": "overlay",
              "size": 10,
              "solidity": 0.2
             }
            },
            "type": "bar"
           }
          ],
          "barpolar": [
           {
            "marker": {
             "line": {
              "color": "#E5ECF6",
              "width": 0.5
             },
             "pattern": {
              "fillmode": "overlay",
              "size": 10,
              "solidity": 0.2
             }
            },
            "type": "barpolar"
           }
          ],
          "carpet": [
           {
            "aaxis": {
             "endlinecolor": "#2a3f5f",
             "gridcolor": "white",
             "linecolor": "white",
             "minorgridcolor": "white",
             "startlinecolor": "#2a3f5f"
            },
            "baxis": {
             "endlinecolor": "#2a3f5f",
             "gridcolor": "white",
             "linecolor": "white",
             "minorgridcolor": "white",
             "startlinecolor": "#2a3f5f"
            },
            "type": "carpet"
           }
          ],
          "choropleth": [
           {
            "colorbar": {
             "outlinewidth": 0,
             "ticks": ""
            },
            "type": "choropleth"
           }
          ],
          "contour": [
           {
            "colorbar": {
             "outlinewidth": 0,
             "ticks": ""
            },
            "colorscale": [
             [
              0,
              "#0d0887"
             ],
             [
              0.1111111111111111,
              "#46039f"
             ],
             [
              0.2222222222222222,
              "#7201a8"
             ],
             [
              0.3333333333333333,
              "#9c179e"
             ],
             [
              0.4444444444444444,
              "#bd3786"
             ],
             [
              0.5555555555555556,
              "#d8576b"
             ],
             [
              0.6666666666666666,
              "#ed7953"
             ],
             [
              0.7777777777777778,
              "#fb9f3a"
             ],
             [
              0.8888888888888888,
              "#fdca26"
             ],
             [
              1,
              "#f0f921"
             ]
            ],
            "type": "contour"
           }
          ],
          "contourcarpet": [
           {
            "colorbar": {
             "outlinewidth": 0,
             "ticks": ""
            },
            "type": "contourcarpet"
           }
          ],
          "heatmap": [
           {
            "colorbar": {
             "outlinewidth": 0,
             "ticks": ""
            },
            "colorscale": [
             [
              0,
              "#0d0887"
             ],
             [
              0.1111111111111111,
              "#46039f"
             ],
             [
              0.2222222222222222,
              "#7201a8"
             ],
             [
              0.3333333333333333,
              "#9c179e"
             ],
             [
              0.4444444444444444,
              "#bd3786"
             ],
             [
              0.5555555555555556,
              "#d8576b"
             ],
             [
              0.6666666666666666,
              "#ed7953"
             ],
             [
              0.7777777777777778,
              "#fb9f3a"
             ],
             [
              0.8888888888888888,
              "#fdca26"
             ],
             [
              1,
              "#f0f921"
             ]
            ],
            "type": "heatmap"
           }
          ],
          "heatmapgl": [
           {
            "colorbar": {
             "outlinewidth": 0,
             "ticks": ""
            },
            "colorscale": [
             [
              0,
              "#0d0887"
             ],
             [
              0.1111111111111111,
              "#46039f"
             ],
             [
              0.2222222222222222,
              "#7201a8"
             ],
             [
              0.3333333333333333,
              "#9c179e"
             ],
             [
              0.4444444444444444,
              "#bd3786"
             ],
             [
              0.5555555555555556,
              "#d8576b"
             ],
             [
              0.6666666666666666,
              "#ed7953"
             ],
             [
              0.7777777777777778,
              "#fb9f3a"
             ],
             [
              0.8888888888888888,
              "#fdca26"
             ],
             [
              1,
              "#f0f921"
             ]
            ],
            "type": "heatmapgl"
           }
          ],
          "histogram": [
           {
            "marker": {
             "pattern": {
              "fillmode": "overlay",
              "size": 10,
              "solidity": 0.2
             }
            },
            "type": "histogram"
           }
          ],
          "histogram2d": [
           {
            "colorbar": {
             "outlinewidth": 0,
             "ticks": ""
            },
            "colorscale": [
             [
              0,
              "#0d0887"
             ],
             [
              0.1111111111111111,
              "#46039f"
             ],
             [
              0.2222222222222222,
              "#7201a8"
             ],
             [
              0.3333333333333333,
              "#9c179e"
             ],
             [
              0.4444444444444444,
              "#bd3786"
             ],
             [
              0.5555555555555556,
              "#d8576b"
             ],
             [
              0.6666666666666666,
              "#ed7953"
             ],
             [
              0.7777777777777778,
              "#fb9f3a"
             ],
             [
              0.8888888888888888,
              "#fdca26"
             ],
             [
              1,
              "#f0f921"
             ]
            ],
            "type": "histogram2d"
           }
          ],
          "histogram2dcontour": [
           {
            "colorbar": {
             "outlinewidth": 0,
             "ticks": ""
            },
            "colorscale": [
             [
              0,
              "#0d0887"
             ],
             [
              0.1111111111111111,
              "#46039f"
             ],
             [
              0.2222222222222222,
              "#7201a8"
             ],
             [
              0.3333333333333333,
              "#9c179e"
             ],
             [
              0.4444444444444444,
              "#bd3786"
             ],
             [
              0.5555555555555556,
              "#d8576b"
             ],
             [
              0.6666666666666666,
              "#ed7953"
             ],
             [
              0.7777777777777778,
              "#fb9f3a"
             ],
             [
              0.8888888888888888,
              "#fdca26"
             ],
             [
              1,
              "#f0f921"
             ]
            ],
            "type": "histogram2dcontour"
           }
          ],
          "mesh3d": [
           {
            "colorbar": {
             "outlinewidth": 0,
             "ticks": ""
            },
            "type": "mesh3d"
           }
          ],
          "parcoords": [
           {
            "line": {
             "colorbar": {
              "outlinewidth": 0,
              "ticks": ""
             }
            },
            "type": "parcoords"
           }
          ],
          "pie": [
           {
            "automargin": true,
            "type": "pie"
           }
          ],
          "scatter": [
           {
            "marker": {
             "colorbar": {
              "outlinewidth": 0,
              "ticks": ""
             }
            },
            "type": "scatter"
           }
          ],
          "scatter3d": [
           {
            "line": {
             "colorbar": {
              "outlinewidth": 0,
              "ticks": ""
             }
            },
            "marker": {
             "colorbar": {
              "outlinewidth": 0,
              "ticks": ""
             }
            },
            "type": "scatter3d"
           }
          ],
          "scattercarpet": [
           {
            "marker": {
             "colorbar": {
              "outlinewidth": 0,
              "ticks": ""
             }
            },
            "type": "scattercarpet"
           }
          ],
          "scattergeo": [
           {
            "marker": {
             "colorbar": {
              "outlinewidth": 0,
              "ticks": ""
             }
            },
            "type": "scattergeo"
           }
          ],
          "scattergl": [
           {
            "marker": {
             "colorbar": {
              "outlinewidth": 0,
              "ticks": ""
             }
            },
            "type": "scattergl"
           }
          ],
          "scattermapbox": [
           {
            "marker": {
             "colorbar": {
              "outlinewidth": 0,
              "ticks": ""
             }
            },
            "type": "scattermapbox"
           }
          ],
          "scatterpolar": [
           {
            "marker": {
             "colorbar": {
              "outlinewidth": 0,
              "ticks": ""
             }
            },
            "type": "scatterpolar"
           }
          ],
          "scatterpolargl": [
           {
            "marker": {
             "colorbar": {
              "outlinewidth": 0,
              "ticks": ""
             }
            },
            "type": "scatterpolargl"
           }
          ],
          "scatterternary": [
           {
            "marker": {
             "colorbar": {
              "outlinewidth": 0,
              "ticks": ""
             }
            },
            "type": "scatterternary"
           }
          ],
          "surface": [
           {
            "colorbar": {
             "outlinewidth": 0,
             "ticks": ""
            },
            "colorscale": [
             [
              0,
              "#0d0887"
             ],
             [
              0.1111111111111111,
              "#46039f"
             ],
             [
              0.2222222222222222,
              "#7201a8"
             ],
             [
              0.3333333333333333,
              "#9c179e"
             ],
             [
              0.4444444444444444,
              "#bd3786"
             ],
             [
              0.5555555555555556,
              "#d8576b"
             ],
             [
              0.6666666666666666,
              "#ed7953"
             ],
             [
              0.7777777777777778,
              "#fb9f3a"
             ],
             [
              0.8888888888888888,
              "#fdca26"
             ],
             [
              1,
              "#f0f921"
             ]
            ],
            "type": "surface"
           }
          ],
          "table": [
           {
            "cells": {
             "fill": {
              "color": "#EBF0F8"
             },
             "line": {
              "color": "white"
             }
            },
            "header": {
             "fill": {
              "color": "#C8D4E3"
             },
             "line": {
              "color": "white"
             }
            },
            "type": "table"
           }
          ]
         },
         "layout": {
          "annotationdefaults": {
           "arrowcolor": "#2a3f5f",
           "arrowhead": 0,
           "arrowwidth": 1
          },
          "autotypenumbers": "strict",
          "coloraxis": {
           "colorbar": {
            "outlinewidth": 0,
            "ticks": ""
           }
          },
          "colorscale": {
           "diverging": [
            [
             0,
             "#8e0152"
            ],
            [
             0.1,
             "#c51b7d"
            ],
            [
             0.2,
             "#de77ae"
            ],
            [
             0.3,
             "#f1b6da"
            ],
            [
             0.4,
             "#fde0ef"
            ],
            [
             0.5,
             "#f7f7f7"
            ],
            [
             0.6,
             "#e6f5d0"
            ],
            [
             0.7,
             "#b8e186"
            ],
            [
             0.8,
             "#7fbc41"
            ],
            [
             0.9,
             "#4d9221"
            ],
            [
             1,
             "#276419"
            ]
           ],
           "sequential": [
            [
             0,
             "#0d0887"
            ],
            [
             0.1111111111111111,
             "#46039f"
            ],
            [
             0.2222222222222222,
             "#7201a8"
            ],
            [
             0.3333333333333333,
             "#9c179e"
            ],
            [
             0.4444444444444444,
             "#bd3786"
            ],
            [
             0.5555555555555556,
             "#d8576b"
            ],
            [
             0.6666666666666666,
             "#ed7953"
            ],
            [
             0.7777777777777778,
             "#fb9f3a"
            ],
            [
             0.8888888888888888,
             "#fdca26"
            ],
            [
             1,
             "#f0f921"
            ]
           ],
           "sequentialminus": [
            [
             0,
             "#0d0887"
            ],
            [
             0.1111111111111111,
             "#46039f"
            ],
            [
             0.2222222222222222,
             "#7201a8"
            ],
            [
             0.3333333333333333,
             "#9c179e"
            ],
            [
             0.4444444444444444,
             "#bd3786"
            ],
            [
             0.5555555555555556,
             "#d8576b"
            ],
            [
             0.6666666666666666,
             "#ed7953"
            ],
            [
             0.7777777777777778,
             "#fb9f3a"
            ],
            [
             0.8888888888888888,
             "#fdca26"
            ],
            [
             1,
             "#f0f921"
            ]
           ]
          },
          "colorway": [
           "#636efa",
           "#EF553B",
           "#00cc96",
           "#ab63fa",
           "#FFA15A",
           "#19d3f3",
           "#FF6692",
           "#B6E880",
           "#FF97FF",
           "#FECB52"
          ],
          "font": {
           "color": "#2a3f5f"
          },
          "geo": {
           "bgcolor": "white",
           "lakecolor": "white",
           "landcolor": "#E5ECF6",
           "showlakes": true,
           "showland": true,
           "subunitcolor": "white"
          },
          "hoverlabel": {
           "align": "left"
          },
          "hovermode": "closest",
          "mapbox": {
           "style": "light"
          },
          "paper_bgcolor": "white",
          "plot_bgcolor": "#E5ECF6",
          "polar": {
           "angularaxis": {
            "gridcolor": "white",
            "linecolor": "white",
            "ticks": ""
           },
           "bgcolor": "#E5ECF6",
           "radialaxis": {
            "gridcolor": "white",
            "linecolor": "white",
            "ticks": ""
           }
          },
          "scene": {
           "xaxis": {
            "backgroundcolor": "#E5ECF6",
            "gridcolor": "white",
            "gridwidth": 2,
            "linecolor": "white",
            "showbackground": true,
            "ticks": "",
            "zerolinecolor": "white"
           },
           "yaxis": {
            "backgroundcolor": "#E5ECF6",
            "gridcolor": "white",
            "gridwidth": 2,
            "linecolor": "white",
            "showbackground": true,
            "ticks": "",
            "zerolinecolor": "white"
           },
           "zaxis": {
            "backgroundcolor": "#E5ECF6",
            "gridcolor": "white",
            "gridwidth": 2,
            "linecolor": "white",
            "showbackground": true,
            "ticks": "",
            "zerolinecolor": "white"
           }
          },
          "shapedefaults": {
           "line": {
            "color": "#2a3f5f"
           }
          },
          "ternary": {
           "aaxis": {
            "gridcolor": "white",
            "linecolor": "white",
            "ticks": ""
           },
           "baxis": {
            "gridcolor": "white",
            "linecolor": "white",
            "ticks": ""
           },
           "bgcolor": "#E5ECF6",
           "caxis": {
            "gridcolor": "white",
            "linecolor": "white",
            "ticks": ""
           }
          },
          "title": {
           "x": 0.05
          },
          "xaxis": {
           "automargin": true,
           "gridcolor": "white",
           "linecolor": "white",
           "ticks": "",
           "title": {
            "standoff": 15
           },
           "zerolinecolor": "white",
           "zerolinewidth": 2
          },
          "yaxis": {
           "automargin": true,
           "gridcolor": "white",
           "linecolor": "white",
           "ticks": "",
           "title": {
            "standoff": 15
           },
           "zerolinecolor": "white",
           "zerolinewidth": 2
          }
         }
        },
        "xaxis": {
         "anchor": "y",
         "domain": [
          0,
          1
         ],
         "title": {
          "text": "insured_hobbies"
         }
        },
        "yaxis": {
         "anchor": "x",
         "domain": [
          0,
          1
         ],
         "title": {
          "text": "count"
         }
        }
       }
      }
     },
     "metadata": {},
     "output_type": "display_data"
    }
   ],
   "source": [
    "fig = px.histogram(df, x=\"insured_hobbies\", color=\"fraud_reported\")\n",
    "fig.show()"
   ]
  },
  {
   "cell_type": "code",
   "execution_count": 205,
   "metadata": {},
   "outputs": [
    {
     "data": {
      "application/vnd.plotly.v1+json": {
       "config": {
        "plotlyServerURL": "https://plot.ly"
       },
       "data": [
        {
         "alignmentgroup": "True",
         "bingroup": "x",
         "hovertemplate": "fraud_reported=Y<br>insured_relationship=%{x}<br>count=%{y}<extra></extra>",
         "legendgroup": "Y",
         "marker": {
          "color": "#636efa",
          "pattern": {
           "shape": ""
          }
         },
         "name": "Y",
         "offsetgroup": "Y",
         "orientation": "v",
         "showlegend": true,
         "type": "histogram",
         "x": [
          "husband",
          "other-relative",
          "unmarried",
          "unmarried",
          "not-in-family",
          "other-relative",
          "other-relative",
          "own-child",
          "own-child",
          "not-in-family",
          "husband",
          "not-in-family",
          "unmarried",
          "wife",
          "unmarried",
          "husband",
          "other-relative",
          "own-child",
          "not-in-family",
          "other-relative",
          "not-in-family",
          "own-child",
          "not-in-family",
          "unmarried",
          "not-in-family",
          "not-in-family",
          "own-child",
          "not-in-family",
          "own-child",
          "husband",
          "other-relative",
          "husband",
          "unmarried",
          "other-relative",
          "unmarried",
          "other-relative",
          "not-in-family",
          "wife",
          "husband",
          "other-relative",
          "other-relative",
          "wife",
          "not-in-family",
          "not-in-family",
          "not-in-family",
          "own-child",
          "own-child",
          "other-relative",
          "not-in-family",
          "unmarried",
          "husband",
          "other-relative",
          "husband",
          "own-child",
          "own-child",
          "other-relative",
          "wife",
          "wife",
          "other-relative",
          "not-in-family",
          "other-relative",
          "not-in-family",
          "other-relative",
          "own-child",
          "other-relative",
          "other-relative",
          "own-child",
          "unmarried",
          "other-relative",
          "wife",
          "wife",
          "other-relative",
          "unmarried",
          "husband",
          "husband",
          "wife",
          "other-relative",
          "unmarried",
          "not-in-family",
          "wife",
          "other-relative",
          "husband",
          "husband",
          "unmarried",
          "wife",
          "own-child",
          "unmarried",
          "other-relative",
          "not-in-family",
          "other-relative",
          "not-in-family",
          "husband",
          "own-child",
          "husband",
          "wife",
          "own-child",
          "unmarried",
          "unmarried",
          "other-relative",
          "wife",
          "unmarried",
          "other-relative",
          "own-child",
          "own-child",
          "wife",
          "wife",
          "wife",
          "other-relative",
          "not-in-family",
          "unmarried",
          "own-child",
          "husband",
          "unmarried",
          "husband",
          "other-relative",
          "other-relative",
          "other-relative",
          "not-in-family",
          "wife",
          "unmarried",
          "own-child",
          "other-relative",
          "own-child",
          "husband",
          "other-relative",
          "husband",
          "other-relative",
          "unmarried",
          "other-relative",
          "not-in-family",
          "not-in-family",
          "own-child",
          "not-in-family",
          "wife",
          "not-in-family",
          "own-child",
          "other-relative",
          "wife",
          "own-child",
          "husband",
          "unmarried",
          "not-in-family",
          "wife",
          "not-in-family",
          "wife",
          "wife",
          "not-in-family",
          "wife",
          "not-in-family",
          "unmarried",
          "not-in-family",
          "not-in-family",
          "wife",
          "unmarried",
          "other-relative",
          "own-child",
          "unmarried",
          "husband",
          "unmarried",
          "wife",
          "wife",
          "husband",
          "wife",
          "husband",
          "not-in-family",
          "not-in-family",
          "other-relative",
          "wife",
          "other-relative",
          "other-relative",
          "not-in-family",
          "wife",
          "wife",
          "other-relative",
          "husband",
          "husband",
          "other-relative",
          "unmarried",
          "own-child",
          "unmarried",
          "husband",
          "husband",
          "husband",
          "other-relative",
          "own-child",
          "own-child",
          "other-relative",
          "unmarried",
          "not-in-family",
          "other-relative",
          "own-child",
          "not-in-family",
          "husband",
          "own-child",
          "unmarried",
          "wife",
          "wife",
          "wife",
          "wife",
          "husband",
          "wife",
          "husband",
          "own-child",
          "not-in-family",
          "husband",
          "not-in-family",
          "husband",
          "not-in-family",
          "unmarried",
          "other-relative",
          "other-relative",
          "husband",
          "wife",
          "own-child",
          "own-child",
          "not-in-family",
          "other-relative",
          "other-relative",
          "husband",
          "wife",
          "unmarried",
          "not-in-family",
          "wife",
          "wife",
          "not-in-family",
          "own-child",
          "other-relative",
          "not-in-family",
          "wife",
          "own-child",
          "own-child",
          "unmarried",
          "not-in-family",
          "unmarried",
          "husband",
          "own-child",
          "unmarried",
          "wife",
          "own-child",
          "own-child",
          "wife",
          "own-child",
          "wife",
          "other-relative",
          "other-relative",
          "not-in-family",
          "other-relative"
         ],
         "xaxis": "x",
         "yaxis": "y"
        },
        {
         "alignmentgroup": "True",
         "bingroup": "x",
         "hovertemplate": "fraud_reported=N<br>insured_relationship=%{x}<br>count=%{y}<extra></extra>",
         "legendgroup": "N",
         "marker": {
          "color": "#EF553B",
          "pattern": {
           "shape": ""
          }
         },
         "name": "N",
         "offsetgroup": "N",
         "orientation": "v",
         "showlegend": true,
         "type": "histogram",
         "x": [
          "own-child",
          "unmarried",
          "husband",
          "unmarried",
          "own-child",
          "wife",
          "other-relative",
          "other-relative",
          "wife",
          "wife",
          "own-child",
          "unmarried",
          "other-relative",
          "own-child",
          "own-child",
          "own-child",
          "husband",
          "own-child",
          "not-in-family",
          "unmarried",
          "husband",
          "other-relative",
          "wife",
          "own-child",
          "unmarried",
          "unmarried",
          "not-in-family",
          "husband",
          "own-child",
          "unmarried",
          "husband",
          "husband",
          "other-relative",
          "wife",
          "own-child",
          "husband",
          "not-in-family",
          "husband",
          "not-in-family",
          "not-in-family",
          "unmarried",
          "own-child",
          "husband",
          "own-child",
          "husband",
          "unmarried",
          "unmarried",
          "own-child",
          "own-child",
          "husband",
          "not-in-family",
          "wife",
          "other-relative",
          "husband",
          "not-in-family",
          "wife",
          "husband",
          "wife",
          "other-relative",
          "wife",
          "own-child",
          "husband",
          "own-child",
          "not-in-family",
          "own-child",
          "own-child",
          "not-in-family",
          "not-in-family",
          "husband",
          "wife",
          "not-in-family",
          "not-in-family",
          "unmarried",
          "husband",
          "other-relative",
          "wife",
          "husband",
          "own-child",
          "unmarried",
          "other-relative",
          "own-child",
          "other-relative",
          "other-relative",
          "not-in-family",
          "husband",
          "other-relative",
          "other-relative",
          "not-in-family",
          "unmarried",
          "unmarried",
          "own-child",
          "wife",
          "own-child",
          "unmarried",
          "wife",
          "unmarried",
          "other-relative",
          "not-in-family",
          "wife",
          "not-in-family",
          "other-relative",
          "wife",
          "own-child",
          "wife",
          "other-relative",
          "wife",
          "husband",
          "own-child",
          "husband",
          "other-relative",
          "not-in-family",
          "other-relative",
          "unmarried",
          "not-in-family",
          "unmarried",
          "unmarried",
          "not-in-family",
          "unmarried",
          "husband",
          "not-in-family",
          "not-in-family",
          "wife",
          "wife",
          "unmarried",
          "wife",
          "other-relative",
          "other-relative",
          "other-relative",
          "wife",
          "not-in-family",
          "not-in-family",
          "husband",
          "not-in-family",
          "unmarried",
          "other-relative",
          "other-relative",
          "own-child",
          "unmarried",
          "unmarried",
          "husband",
          "not-in-family",
          "husband",
          "not-in-family",
          "own-child",
          "other-relative",
          "not-in-family",
          "not-in-family",
          "unmarried",
          "wife",
          "husband",
          "not-in-family",
          "husband",
          "husband",
          "not-in-family",
          "other-relative",
          "not-in-family",
          "other-relative",
          "unmarried",
          "not-in-family",
          "other-relative",
          "own-child",
          "husband",
          "wife",
          "not-in-family",
          "unmarried",
          "own-child",
          "unmarried",
          "other-relative",
          "wife",
          "own-child",
          "husband",
          "own-child",
          "unmarried",
          "unmarried",
          "own-child",
          "own-child",
          "own-child",
          "other-relative",
          "own-child",
          "other-relative",
          "not-in-family",
          "other-relative",
          "other-relative",
          "husband",
          "own-child",
          "other-relative",
          "husband",
          "other-relative",
          "other-relative",
          "wife",
          "own-child",
          "unmarried",
          "other-relative",
          "wife",
          "husband",
          "wife",
          "wife",
          "other-relative",
          "own-child",
          "husband",
          "own-child",
          "unmarried",
          "not-in-family",
          "own-child",
          "not-in-family",
          "not-in-family",
          "not-in-family",
          "own-child",
          "wife",
          "other-relative",
          "wife",
          "wife",
          "wife",
          "wife",
          "not-in-family",
          "other-relative",
          "not-in-family",
          "own-child",
          "other-relative",
          "wife",
          "husband",
          "unmarried",
          "husband",
          "other-relative",
          "own-child",
          "unmarried",
          "wife",
          "not-in-family",
          "wife",
          "not-in-family",
          "wife",
          "husband",
          "husband",
          "other-relative",
          "not-in-family",
          "own-child",
          "own-child",
          "not-in-family",
          "unmarried",
          "husband",
          "wife",
          "unmarried",
          "unmarried",
          "wife",
          "husband",
          "unmarried",
          "wife",
          "other-relative",
          "unmarried",
          "own-child",
          "husband",
          "not-in-family",
          "own-child",
          "unmarried",
          "own-child",
          "own-child",
          "unmarried",
          "not-in-family",
          "other-relative",
          "unmarried",
          "own-child",
          "own-child",
          "own-child",
          "other-relative",
          "other-relative",
          "own-child",
          "husband",
          "unmarried",
          "other-relative",
          "own-child",
          "not-in-family",
          "own-child",
          "own-child",
          "other-relative",
          "own-child",
          "wife",
          "not-in-family",
          "wife",
          "wife",
          "own-child",
          "unmarried",
          "other-relative",
          "husband",
          "own-child",
          "not-in-family",
          "unmarried",
          "wife",
          "unmarried",
          "own-child",
          "not-in-family",
          "own-child",
          "other-relative",
          "wife",
          "husband",
          "wife",
          "unmarried",
          "unmarried",
          "not-in-family",
          "not-in-family",
          "not-in-family",
          "own-child",
          "unmarried",
          "unmarried",
          "wife",
          "unmarried",
          "unmarried",
          "own-child",
          "husband",
          "other-relative",
          "husband",
          "wife",
          "not-in-family",
          "own-child",
          "own-child",
          "other-relative",
          "not-in-family",
          "wife",
          "own-child",
          "wife",
          "other-relative",
          "own-child",
          "unmarried",
          "not-in-family",
          "own-child",
          "not-in-family",
          "other-relative",
          "own-child",
          "wife",
          "other-relative",
          "husband",
          "husband",
          "husband",
          "unmarried",
          "husband",
          "not-in-family",
          "not-in-family",
          "husband",
          "unmarried",
          "other-relative",
          "own-child",
          "wife",
          "other-relative",
          "unmarried",
          "wife",
          "other-relative",
          "not-in-family",
          "not-in-family",
          "unmarried",
          "not-in-family",
          "wife",
          "other-relative",
          "wife",
          "other-relative",
          "unmarried",
          "own-child",
          "husband",
          "husband",
          "other-relative",
          "own-child",
          "unmarried",
          "unmarried",
          "wife",
          "not-in-family",
          "unmarried",
          "husband",
          "wife",
          "own-child",
          "other-relative",
          "husband",
          "husband",
          "own-child",
          "other-relative",
          "other-relative",
          "husband",
          "unmarried",
          "unmarried",
          "husband",
          "husband",
          "not-in-family",
          "husband",
          "other-relative",
          "wife",
          "other-relative",
          "unmarried",
          "own-child",
          "not-in-family",
          "other-relative",
          "own-child",
          "own-child",
          "own-child",
          "husband",
          "other-relative",
          "not-in-family",
          "unmarried",
          "not-in-family",
          "own-child",
          "not-in-family",
          "wife",
          "husband",
          "other-relative",
          "other-relative",
          "wife",
          "other-relative",
          "husband",
          "not-in-family",
          "own-child",
          "wife",
          "other-relative",
          "own-child",
          "unmarried",
          "wife",
          "unmarried",
          "not-in-family",
          "own-child",
          "own-child",
          "not-in-family",
          "own-child",
          "own-child",
          "not-in-family",
          "own-child",
          "not-in-family",
          "unmarried",
          "other-relative",
          "own-child",
          "unmarried",
          "own-child",
          "wife",
          "husband",
          "wife",
          "not-in-family",
          "own-child",
          "husband",
          "other-relative",
          "unmarried",
          "wife",
          "wife",
          "own-child",
          "not-in-family",
          "husband",
          "husband",
          "not-in-family",
          "wife",
          "own-child",
          "other-relative",
          "other-relative",
          "other-relative",
          "wife",
          "own-child",
          "other-relative",
          "not-in-family",
          "own-child",
          "wife",
          "wife",
          "wife",
          "husband",
          "unmarried",
          "not-in-family",
          "not-in-family",
          "wife",
          "other-relative",
          "husband",
          "husband",
          "own-child",
          "own-child",
          "wife",
          "not-in-family",
          "own-child",
          "not-in-family",
          "husband",
          "other-relative",
          "husband",
          "not-in-family",
          "husband",
          "own-child",
          "unmarried",
          "not-in-family",
          "husband",
          "unmarried",
          "husband",
          "wife",
          "not-in-family",
          "unmarried",
          "husband",
          "other-relative",
          "husband",
          "husband",
          "other-relative",
          "other-relative",
          "other-relative",
          "other-relative",
          "other-relative",
          "unmarried",
          "husband",
          "not-in-family",
          "wife",
          "wife",
          "husband",
          "not-in-family",
          "husband",
          "wife",
          "other-relative",
          "not-in-family",
          "wife",
          "wife",
          "other-relative",
          "own-child",
          "husband",
          "wife",
          "own-child",
          "not-in-family",
          "unmarried",
          "other-relative",
          "wife",
          "husband",
          "not-in-family",
          "other-relative",
          "not-in-family",
          "own-child",
          "husband",
          "husband",
          "husband",
          "wife",
          "unmarried",
          "unmarried",
          "husband",
          "wife",
          "not-in-family",
          "own-child",
          "wife",
          "wife",
          "other-relative",
          "husband",
          "own-child",
          "own-child",
          "other-relative",
          "other-relative",
          "other-relative",
          "own-child",
          "unmarried",
          "husband",
          "other-relative",
          "husband",
          "wife",
          "husband",
          "unmarried",
          "unmarried",
          "husband",
          "own-child",
          "not-in-family",
          "husband",
          "not-in-family",
          "not-in-family",
          "own-child",
          "husband",
          "wife",
          "not-in-family",
          "not-in-family",
          "unmarried",
          "not-in-family",
          "unmarried",
          "wife",
          "husband",
          "unmarried",
          "wife",
          "not-in-family",
          "unmarried",
          "husband",
          "own-child",
          "other-relative",
          "husband",
          "unmarried",
          "other-relative",
          "own-child",
          "husband",
          "own-child",
          "own-child",
          "husband",
          "not-in-family",
          "other-relative",
          "own-child",
          "not-in-family",
          "wife",
          "not-in-family",
          "other-relative",
          "other-relative",
          "husband",
          "unmarried",
          "husband",
          "not-in-family",
          "other-relative",
          "husband",
          "wife",
          "not-in-family",
          "unmarried",
          "not-in-family",
          "unmarried",
          "own-child",
          "unmarried",
          "not-in-family",
          "other-relative",
          "unmarried",
          "own-child",
          "wife",
          "unmarried",
          "other-relative",
          "own-child",
          "husband",
          "husband",
          "own-child",
          "unmarried",
          "wife",
          "wife",
          "husband",
          "own-child",
          "not-in-family",
          "not-in-family",
          "not-in-family",
          "husband",
          "own-child",
          "husband",
          "own-child",
          "own-child",
          "own-child",
          "other-relative",
          "wife",
          "wife",
          "other-relative",
          "own-child",
          "own-child",
          "unmarried",
          "husband",
          "own-child",
          "not-in-family",
          "not-in-family",
          "wife",
          "not-in-family",
          "wife",
          "husband",
          "wife",
          "own-child",
          "own-child",
          "husband",
          "other-relative",
          "own-child",
          "own-child",
          "husband",
          "other-relative",
          "other-relative",
          "unmarried",
          "husband",
          "not-in-family",
          "not-in-family",
          "husband",
          "own-child",
          "husband",
          "unmarried",
          "other-relative",
          "other-relative",
          "not-in-family",
          "not-in-family",
          "husband",
          "other-relative",
          "husband",
          "wife",
          "not-in-family",
          "other-relative",
          "other-relative",
          "husband",
          "husband",
          "not-in-family",
          "own-child",
          "own-child",
          "husband",
          "own-child",
          "husband",
          "own-child",
          "other-relative",
          "wife",
          "husband",
          "own-child",
          "husband",
          "not-in-family",
          "not-in-family",
          "wife",
          "other-relative",
          "not-in-family",
          "own-child",
          "husband",
          "not-in-family",
          "wife",
          "not-in-family",
          "wife",
          "wife",
          "not-in-family",
          "wife",
          "husband",
          "other-relative",
          "husband",
          "other-relative",
          "husband",
          "own-child",
          "other-relative",
          "wife",
          "own-child",
          "husband",
          "own-child",
          "own-child",
          "own-child",
          "own-child",
          "own-child",
          "not-in-family",
          "wife",
          "unmarried",
          "not-in-family",
          "own-child",
          "not-in-family",
          "other-relative",
          "unmarried",
          "not-in-family",
          "other-relative",
          "wife",
          "husband",
          "husband",
          "husband",
          "unmarried",
          "other-relative",
          "other-relative",
          "own-child",
          "other-relative",
          "unmarried",
          "husband",
          "not-in-family",
          "own-child",
          "unmarried",
          "unmarried",
          "not-in-family",
          "unmarried",
          "unmarried",
          "unmarried",
          "husband",
          "wife",
          "wife",
          "husband",
          "unmarried",
          "other-relative",
          "husband",
          "husband",
          "own-child",
          "unmarried",
          "wife",
          "other-relative",
          "wife",
          "husband"
         ],
         "xaxis": "x",
         "yaxis": "y"
        }
       ],
       "layout": {
        "barmode": "relative",
        "legend": {
         "title": {
          "text": "fraud_reported"
         },
         "tracegroupgap": 0
        },
        "margin": {
         "t": 60
        },
        "template": {
         "data": {
          "bar": [
           {
            "error_x": {
             "color": "#2a3f5f"
            },
            "error_y": {
             "color": "#2a3f5f"
            },
            "marker": {
             "line": {
              "color": "#E5ECF6",
              "width": 0.5
             },
             "pattern": {
              "fillmode": "overlay",
              "size": 10,
              "solidity": 0.2
             }
            },
            "type": "bar"
           }
          ],
          "barpolar": [
           {
            "marker": {
             "line": {
              "color": "#E5ECF6",
              "width": 0.5
             },
             "pattern": {
              "fillmode": "overlay",
              "size": 10,
              "solidity": 0.2
             }
            },
            "type": "barpolar"
           }
          ],
          "carpet": [
           {
            "aaxis": {
             "endlinecolor": "#2a3f5f",
             "gridcolor": "white",
             "linecolor": "white",
             "minorgridcolor": "white",
             "startlinecolor": "#2a3f5f"
            },
            "baxis": {
             "endlinecolor": "#2a3f5f",
             "gridcolor": "white",
             "linecolor": "white",
             "minorgridcolor": "white",
             "startlinecolor": "#2a3f5f"
            },
            "type": "carpet"
           }
          ],
          "choropleth": [
           {
            "colorbar": {
             "outlinewidth": 0,
             "ticks": ""
            },
            "type": "choropleth"
           }
          ],
          "contour": [
           {
            "colorbar": {
             "outlinewidth": 0,
             "ticks": ""
            },
            "colorscale": [
             [
              0,
              "#0d0887"
             ],
             [
              0.1111111111111111,
              "#46039f"
             ],
             [
              0.2222222222222222,
              "#7201a8"
             ],
             [
              0.3333333333333333,
              "#9c179e"
             ],
             [
              0.4444444444444444,
              "#bd3786"
             ],
             [
              0.5555555555555556,
              "#d8576b"
             ],
             [
              0.6666666666666666,
              "#ed7953"
             ],
             [
              0.7777777777777778,
              "#fb9f3a"
             ],
             [
              0.8888888888888888,
              "#fdca26"
             ],
             [
              1,
              "#f0f921"
             ]
            ],
            "type": "contour"
           }
          ],
          "contourcarpet": [
           {
            "colorbar": {
             "outlinewidth": 0,
             "ticks": ""
            },
            "type": "contourcarpet"
           }
          ],
          "heatmap": [
           {
            "colorbar": {
             "outlinewidth": 0,
             "ticks": ""
            },
            "colorscale": [
             [
              0,
              "#0d0887"
             ],
             [
              0.1111111111111111,
              "#46039f"
             ],
             [
              0.2222222222222222,
              "#7201a8"
             ],
             [
              0.3333333333333333,
              "#9c179e"
             ],
             [
              0.4444444444444444,
              "#bd3786"
             ],
             [
              0.5555555555555556,
              "#d8576b"
             ],
             [
              0.6666666666666666,
              "#ed7953"
             ],
             [
              0.7777777777777778,
              "#fb9f3a"
             ],
             [
              0.8888888888888888,
              "#fdca26"
             ],
             [
              1,
              "#f0f921"
             ]
            ],
            "type": "heatmap"
           }
          ],
          "heatmapgl": [
           {
            "colorbar": {
             "outlinewidth": 0,
             "ticks": ""
            },
            "colorscale": [
             [
              0,
              "#0d0887"
             ],
             [
              0.1111111111111111,
              "#46039f"
             ],
             [
              0.2222222222222222,
              "#7201a8"
             ],
             [
              0.3333333333333333,
              "#9c179e"
             ],
             [
              0.4444444444444444,
              "#bd3786"
             ],
             [
              0.5555555555555556,
              "#d8576b"
             ],
             [
              0.6666666666666666,
              "#ed7953"
             ],
             [
              0.7777777777777778,
              "#fb9f3a"
             ],
             [
              0.8888888888888888,
              "#fdca26"
             ],
             [
              1,
              "#f0f921"
             ]
            ],
            "type": "heatmapgl"
           }
          ],
          "histogram": [
           {
            "marker": {
             "pattern": {
              "fillmode": "overlay",
              "size": 10,
              "solidity": 0.2
             }
            },
            "type": "histogram"
           }
          ],
          "histogram2d": [
           {
            "colorbar": {
             "outlinewidth": 0,
             "ticks": ""
            },
            "colorscale": [
             [
              0,
              "#0d0887"
             ],
             [
              0.1111111111111111,
              "#46039f"
             ],
             [
              0.2222222222222222,
              "#7201a8"
             ],
             [
              0.3333333333333333,
              "#9c179e"
             ],
             [
              0.4444444444444444,
              "#bd3786"
             ],
             [
              0.5555555555555556,
              "#d8576b"
             ],
             [
              0.6666666666666666,
              "#ed7953"
             ],
             [
              0.7777777777777778,
              "#fb9f3a"
             ],
             [
              0.8888888888888888,
              "#fdca26"
             ],
             [
              1,
              "#f0f921"
             ]
            ],
            "type": "histogram2d"
           }
          ],
          "histogram2dcontour": [
           {
            "colorbar": {
             "outlinewidth": 0,
             "ticks": ""
            },
            "colorscale": [
             [
              0,
              "#0d0887"
             ],
             [
              0.1111111111111111,
              "#46039f"
             ],
             [
              0.2222222222222222,
              "#7201a8"
             ],
             [
              0.3333333333333333,
              "#9c179e"
             ],
             [
              0.4444444444444444,
              "#bd3786"
             ],
             [
              0.5555555555555556,
              "#d8576b"
             ],
             [
              0.6666666666666666,
              "#ed7953"
             ],
             [
              0.7777777777777778,
              "#fb9f3a"
             ],
             [
              0.8888888888888888,
              "#fdca26"
             ],
             [
              1,
              "#f0f921"
             ]
            ],
            "type": "histogram2dcontour"
           }
          ],
          "mesh3d": [
           {
            "colorbar": {
             "outlinewidth": 0,
             "ticks": ""
            },
            "type": "mesh3d"
           }
          ],
          "parcoords": [
           {
            "line": {
             "colorbar": {
              "outlinewidth": 0,
              "ticks": ""
             }
            },
            "type": "parcoords"
           }
          ],
          "pie": [
           {
            "automargin": true,
            "type": "pie"
           }
          ],
          "scatter": [
           {
            "marker": {
             "colorbar": {
              "outlinewidth": 0,
              "ticks": ""
             }
            },
            "type": "scatter"
           }
          ],
          "scatter3d": [
           {
            "line": {
             "colorbar": {
              "outlinewidth": 0,
              "ticks": ""
             }
            },
            "marker": {
             "colorbar": {
              "outlinewidth": 0,
              "ticks": ""
             }
            },
            "type": "scatter3d"
           }
          ],
          "scattercarpet": [
           {
            "marker": {
             "colorbar": {
              "outlinewidth": 0,
              "ticks": ""
             }
            },
            "type": "scattercarpet"
           }
          ],
          "scattergeo": [
           {
            "marker": {
             "colorbar": {
              "outlinewidth": 0,
              "ticks": ""
             }
            },
            "type": "scattergeo"
           }
          ],
          "scattergl": [
           {
            "marker": {
             "colorbar": {
              "outlinewidth": 0,
              "ticks": ""
             }
            },
            "type": "scattergl"
           }
          ],
          "scattermapbox": [
           {
            "marker": {
             "colorbar": {
              "outlinewidth": 0,
              "ticks": ""
             }
            },
            "type": "scattermapbox"
           }
          ],
          "scatterpolar": [
           {
            "marker": {
             "colorbar": {
              "outlinewidth": 0,
              "ticks": ""
             }
            },
            "type": "scatterpolar"
           }
          ],
          "scatterpolargl": [
           {
            "marker": {
             "colorbar": {
              "outlinewidth": 0,
              "ticks": ""
             }
            },
            "type": "scatterpolargl"
           }
          ],
          "scatterternary": [
           {
            "marker": {
             "colorbar": {
              "outlinewidth": 0,
              "ticks": ""
             }
            },
            "type": "scatterternary"
           }
          ],
          "surface": [
           {
            "colorbar": {
             "outlinewidth": 0,
             "ticks": ""
            },
            "colorscale": [
             [
              0,
              "#0d0887"
             ],
             [
              0.1111111111111111,
              "#46039f"
             ],
             [
              0.2222222222222222,
              "#7201a8"
             ],
             [
              0.3333333333333333,
              "#9c179e"
             ],
             [
              0.4444444444444444,
              "#bd3786"
             ],
             [
              0.5555555555555556,
              "#d8576b"
             ],
             [
              0.6666666666666666,
              "#ed7953"
             ],
             [
              0.7777777777777778,
              "#fb9f3a"
             ],
             [
              0.8888888888888888,
              "#fdca26"
             ],
             [
              1,
              "#f0f921"
             ]
            ],
            "type": "surface"
           }
          ],
          "table": [
           {
            "cells": {
             "fill": {
              "color": "#EBF0F8"
             },
             "line": {
              "color": "white"
             }
            },
            "header": {
             "fill": {
              "color": "#C8D4E3"
             },
             "line": {
              "color": "white"
             }
            },
            "type": "table"
           }
          ]
         },
         "layout": {
          "annotationdefaults": {
           "arrowcolor": "#2a3f5f",
           "arrowhead": 0,
           "arrowwidth": 1
          },
          "autotypenumbers": "strict",
          "coloraxis": {
           "colorbar": {
            "outlinewidth": 0,
            "ticks": ""
           }
          },
          "colorscale": {
           "diverging": [
            [
             0,
             "#8e0152"
            ],
            [
             0.1,
             "#c51b7d"
            ],
            [
             0.2,
             "#de77ae"
            ],
            [
             0.3,
             "#f1b6da"
            ],
            [
             0.4,
             "#fde0ef"
            ],
            [
             0.5,
             "#f7f7f7"
            ],
            [
             0.6,
             "#e6f5d0"
            ],
            [
             0.7,
             "#b8e186"
            ],
            [
             0.8,
             "#7fbc41"
            ],
            [
             0.9,
             "#4d9221"
            ],
            [
             1,
             "#276419"
            ]
           ],
           "sequential": [
            [
             0,
             "#0d0887"
            ],
            [
             0.1111111111111111,
             "#46039f"
            ],
            [
             0.2222222222222222,
             "#7201a8"
            ],
            [
             0.3333333333333333,
             "#9c179e"
            ],
            [
             0.4444444444444444,
             "#bd3786"
            ],
            [
             0.5555555555555556,
             "#d8576b"
            ],
            [
             0.6666666666666666,
             "#ed7953"
            ],
            [
             0.7777777777777778,
             "#fb9f3a"
            ],
            [
             0.8888888888888888,
             "#fdca26"
            ],
            [
             1,
             "#f0f921"
            ]
           ],
           "sequentialminus": [
            [
             0,
             "#0d0887"
            ],
            [
             0.1111111111111111,
             "#46039f"
            ],
            [
             0.2222222222222222,
             "#7201a8"
            ],
            [
             0.3333333333333333,
             "#9c179e"
            ],
            [
             0.4444444444444444,
             "#bd3786"
            ],
            [
             0.5555555555555556,
             "#d8576b"
            ],
            [
             0.6666666666666666,
             "#ed7953"
            ],
            [
             0.7777777777777778,
             "#fb9f3a"
            ],
            [
             0.8888888888888888,
             "#fdca26"
            ],
            [
             1,
             "#f0f921"
            ]
           ]
          },
          "colorway": [
           "#636efa",
           "#EF553B",
           "#00cc96",
           "#ab63fa",
           "#FFA15A",
           "#19d3f3",
           "#FF6692",
           "#B6E880",
           "#FF97FF",
           "#FECB52"
          ],
          "font": {
           "color": "#2a3f5f"
          },
          "geo": {
           "bgcolor": "white",
           "lakecolor": "white",
           "landcolor": "#E5ECF6",
           "showlakes": true,
           "showland": true,
           "subunitcolor": "white"
          },
          "hoverlabel": {
           "align": "left"
          },
          "hovermode": "closest",
          "mapbox": {
           "style": "light"
          },
          "paper_bgcolor": "white",
          "plot_bgcolor": "#E5ECF6",
          "polar": {
           "angularaxis": {
            "gridcolor": "white",
            "linecolor": "white",
            "ticks": ""
           },
           "bgcolor": "#E5ECF6",
           "radialaxis": {
            "gridcolor": "white",
            "linecolor": "white",
            "ticks": ""
           }
          },
          "scene": {
           "xaxis": {
            "backgroundcolor": "#E5ECF6",
            "gridcolor": "white",
            "gridwidth": 2,
            "linecolor": "white",
            "showbackground": true,
            "ticks": "",
            "zerolinecolor": "white"
           },
           "yaxis": {
            "backgroundcolor": "#E5ECF6",
            "gridcolor": "white",
            "gridwidth": 2,
            "linecolor": "white",
            "showbackground": true,
            "ticks": "",
            "zerolinecolor": "white"
           },
           "zaxis": {
            "backgroundcolor": "#E5ECF6",
            "gridcolor": "white",
            "gridwidth": 2,
            "linecolor": "white",
            "showbackground": true,
            "ticks": "",
            "zerolinecolor": "white"
           }
          },
          "shapedefaults": {
           "line": {
            "color": "#2a3f5f"
           }
          },
          "ternary": {
           "aaxis": {
            "gridcolor": "white",
            "linecolor": "white",
            "ticks": ""
           },
           "baxis": {
            "gridcolor": "white",
            "linecolor": "white",
            "ticks": ""
           },
           "bgcolor": "#E5ECF6",
           "caxis": {
            "gridcolor": "white",
            "linecolor": "white",
            "ticks": ""
           }
          },
          "title": {
           "x": 0.05
          },
          "xaxis": {
           "automargin": true,
           "gridcolor": "white",
           "linecolor": "white",
           "ticks": "",
           "title": {
            "standoff": 15
           },
           "zerolinecolor": "white",
           "zerolinewidth": 2
          },
          "yaxis": {
           "automargin": true,
           "gridcolor": "white",
           "linecolor": "white",
           "ticks": "",
           "title": {
            "standoff": 15
           },
           "zerolinecolor": "white",
           "zerolinewidth": 2
          }
         }
        },
        "xaxis": {
         "anchor": "y",
         "domain": [
          0,
          1
         ],
         "title": {
          "text": "insured_relationship"
         }
        },
        "yaxis": {
         "anchor": "x",
         "domain": [
          0,
          1
         ],
         "title": {
          "text": "count"
         }
        }
       }
      }
     },
     "metadata": {},
     "output_type": "display_data"
    }
   ],
   "source": [
    "fig = px.histogram(df, x=\"insured_relationship\", color=\"fraud_reported\")\n",
    "fig.show()"
   ]
  },
  {
   "cell_type": "code",
   "execution_count": 206,
   "metadata": {},
   "outputs": [
    {
     "data": {
      "application/vnd.plotly.v1+json": {
       "config": {
        "plotlyServerURL": "https://plot.ly"
       },
       "data": [
        {
         "alignmentgroup": "True",
         "bingroup": "x",
         "hovertemplate": "fraud_reported=Y<br>incident_type=%{x}<br>count=%{y}<extra></extra>",
         "legendgroup": "Y",
         "marker": {
          "color": "#636efa",
          "pattern": {
           "shape": ""
          }
         },
         "name": "Y",
         "offsetgroup": "Y",
         "orientation": "v",
         "showlegend": true,
         "type": "histogram",
         "x": [
          "Single Vehicle Collision",
          "Vehicle Theft",
          "Single Vehicle Collision",
          "Multi-vehicle Collision",
          "Single Vehicle Collision",
          "Multi-vehicle Collision",
          "Multi-vehicle Collision",
          "Single Vehicle Collision",
          "Multi-vehicle Collision",
          "Vehicle Theft",
          "Multi-vehicle Collision",
          "Single Vehicle Collision",
          "Single Vehicle Collision",
          "Single Vehicle Collision",
          "Single Vehicle Collision",
          "Multi-vehicle Collision",
          "Multi-vehicle Collision",
          "Multi-vehicle Collision",
          "Multi-vehicle Collision",
          "Multi-vehicle Collision",
          "Single Vehicle Collision",
          "Multi-vehicle Collision",
          "Single Vehicle Collision",
          "Single Vehicle Collision",
          "Multi-vehicle Collision",
          "Multi-vehicle Collision",
          "Single Vehicle Collision",
          "Single Vehicle Collision",
          "Multi-vehicle Collision",
          "Multi-vehicle Collision",
          "Single Vehicle Collision",
          "Multi-vehicle Collision",
          "Single Vehicle Collision",
          "Multi-vehicle Collision",
          "Multi-vehicle Collision",
          "Single Vehicle Collision",
          "Single Vehicle Collision",
          "Single Vehicle Collision",
          "Multi-vehicle Collision",
          "Single Vehicle Collision",
          "Single Vehicle Collision",
          "Single Vehicle Collision",
          "Multi-vehicle Collision",
          "Single Vehicle Collision",
          "Single Vehicle Collision",
          "Multi-vehicle Collision",
          "Multi-vehicle Collision",
          "Single Vehicle Collision",
          "Single Vehicle Collision",
          "Single Vehicle Collision",
          "Single Vehicle Collision",
          "Single Vehicle Collision",
          "Single Vehicle Collision",
          "Multi-vehicle Collision",
          "Vehicle Theft",
          "Single Vehicle Collision",
          "Multi-vehicle Collision",
          "Single Vehicle Collision",
          "Multi-vehicle Collision",
          "Single Vehicle Collision",
          "Single Vehicle Collision",
          "Single Vehicle Collision",
          "Multi-vehicle Collision",
          "Multi-vehicle Collision",
          "Single Vehicle Collision",
          "Single Vehicle Collision",
          "Multi-vehicle Collision",
          "Multi-vehicle Collision",
          "Multi-vehicle Collision",
          "Single Vehicle Collision",
          "Multi-vehicle Collision",
          "Single Vehicle Collision",
          "Multi-vehicle Collision",
          "Single Vehicle Collision",
          "Multi-vehicle Collision",
          "Multi-vehicle Collision",
          "Multi-vehicle Collision",
          "Single Vehicle Collision",
          "Multi-vehicle Collision",
          "Vehicle Theft",
          "Single Vehicle Collision",
          "Single Vehicle Collision",
          "Multi-vehicle Collision",
          "Multi-vehicle Collision",
          "Single Vehicle Collision",
          "Single Vehicle Collision",
          "Multi-vehicle Collision",
          "Multi-vehicle Collision",
          "Multi-vehicle Collision",
          "Single Vehicle Collision",
          "Multi-vehicle Collision",
          "Multi-vehicle Collision",
          "Single Vehicle Collision",
          "Multi-vehicle Collision",
          "Multi-vehicle Collision",
          "Single Vehicle Collision",
          "Single Vehicle Collision",
          "Single Vehicle Collision",
          "Multi-vehicle Collision",
          "Single Vehicle Collision",
          "Multi-vehicle Collision",
          "Multi-vehicle Collision",
          "Multi-vehicle Collision",
          "Parked Car",
          "Parked Car",
          "Single Vehicle Collision",
          "Parked Car",
          "Multi-vehicle Collision",
          "Multi-vehicle Collision",
          "Single Vehicle Collision",
          "Multi-vehicle Collision",
          "Multi-vehicle Collision",
          "Single Vehicle Collision",
          "Multi-vehicle Collision",
          "Multi-vehicle Collision",
          "Multi-vehicle Collision",
          "Single Vehicle Collision",
          "Parked Car",
          "Single Vehicle Collision",
          "Single Vehicle Collision",
          "Single Vehicle Collision",
          "Single Vehicle Collision",
          "Multi-vehicle Collision",
          "Single Vehicle Collision",
          "Parked Car",
          "Single Vehicle Collision",
          "Single Vehicle Collision",
          "Vehicle Theft",
          "Single Vehicle Collision",
          "Multi-vehicle Collision",
          "Multi-vehicle Collision",
          "Multi-vehicle Collision",
          "Single Vehicle Collision",
          "Multi-vehicle Collision",
          "Multi-vehicle Collision",
          "Multi-vehicle Collision",
          "Single Vehicle Collision",
          "Single Vehicle Collision",
          "Parked Car",
          "Single Vehicle Collision",
          "Multi-vehicle Collision",
          "Vehicle Theft",
          "Single Vehicle Collision",
          "Multi-vehicle Collision",
          "Single Vehicle Collision",
          "Multi-vehicle Collision",
          "Single Vehicle Collision",
          "Single Vehicle Collision",
          "Multi-vehicle Collision",
          "Single Vehicle Collision",
          "Multi-vehicle Collision",
          "Single Vehicle Collision",
          "Single Vehicle Collision",
          "Parked Car",
          "Single Vehicle Collision",
          "Single Vehicle Collision",
          "Multi-vehicle Collision",
          "Single Vehicle Collision",
          "Single Vehicle Collision",
          "Single Vehicle Collision",
          "Multi-vehicle Collision",
          "Single Vehicle Collision",
          "Parked Car",
          "Multi-vehicle Collision",
          "Single Vehicle Collision",
          "Multi-vehicle Collision",
          "Multi-vehicle Collision",
          "Multi-vehicle Collision",
          "Multi-vehicle Collision",
          "Single Vehicle Collision",
          "Multi-vehicle Collision",
          "Multi-vehicle Collision",
          "Single Vehicle Collision",
          "Single Vehicle Collision",
          "Multi-vehicle Collision",
          "Multi-vehicle Collision",
          "Multi-vehicle Collision",
          "Multi-vehicle Collision",
          "Multi-vehicle Collision",
          "Single Vehicle Collision",
          "Single Vehicle Collision",
          "Multi-vehicle Collision",
          "Single Vehicle Collision",
          "Single Vehicle Collision",
          "Multi-vehicle Collision",
          "Single Vehicle Collision",
          "Multi-vehicle Collision",
          "Single Vehicle Collision",
          "Single Vehicle Collision",
          "Single Vehicle Collision",
          "Single Vehicle Collision",
          "Multi-vehicle Collision",
          "Multi-vehicle Collision",
          "Multi-vehicle Collision",
          "Multi-vehicle Collision",
          "Multi-vehicle Collision",
          "Multi-vehicle Collision",
          "Multi-vehicle Collision",
          "Multi-vehicle Collision",
          "Multi-vehicle Collision",
          "Single Vehicle Collision",
          "Single Vehicle Collision",
          "Single Vehicle Collision",
          "Single Vehicle Collision",
          "Single Vehicle Collision",
          "Single Vehicle Collision",
          "Single Vehicle Collision",
          "Single Vehicle Collision",
          "Multi-vehicle Collision",
          "Multi-vehicle Collision",
          "Vehicle Theft",
          "Multi-vehicle Collision",
          "Multi-vehicle Collision",
          "Multi-vehicle Collision",
          "Single Vehicle Collision",
          "Single Vehicle Collision",
          "Single Vehicle Collision",
          "Multi-vehicle Collision",
          "Multi-vehicle Collision",
          "Multi-vehicle Collision",
          "Single Vehicle Collision",
          "Multi-vehicle Collision",
          "Single Vehicle Collision",
          "Single Vehicle Collision",
          "Multi-vehicle Collision",
          "Multi-vehicle Collision",
          "Multi-vehicle Collision",
          "Multi-vehicle Collision",
          "Single Vehicle Collision",
          "Multi-vehicle Collision",
          "Single Vehicle Collision",
          "Single Vehicle Collision",
          "Single Vehicle Collision",
          "Multi-vehicle Collision",
          "Multi-vehicle Collision",
          "Single Vehicle Collision",
          "Multi-vehicle Collision",
          "Single Vehicle Collision",
          "Vehicle Theft",
          "Single Vehicle Collision",
          "Single Vehicle Collision",
          "Single Vehicle Collision",
          "Multi-vehicle Collision",
          "Multi-vehicle Collision",
          "Multi-vehicle Collision",
          "Single Vehicle Collision",
          "Single Vehicle Collision"
         ],
         "xaxis": "x",
         "yaxis": "y"
        },
        {
         "alignmentgroup": "True",
         "bingroup": "x",
         "hovertemplate": "fraud_reported=N<br>incident_type=%{x}<br>count=%{y}<extra></extra>",
         "legendgroup": "N",
         "marker": {
          "color": "#EF553B",
          "pattern": {
           "shape": ""
          }
         },
         "name": "N",
         "offsetgroup": "N",
         "orientation": "v",
         "showlegend": true,
         "type": "histogram",
         "x": [
          "Multi-vehicle Collision",
          "Vehicle Theft",
          "Multi-vehicle Collision",
          "Multi-vehicle Collision",
          "Single Vehicle Collision",
          "Single Vehicle Collision",
          "Single Vehicle Collision",
          "Multi-vehicle Collision",
          "Single Vehicle Collision",
          "Parked Car",
          "Multi-vehicle Collision",
          "Single Vehicle Collision",
          "Single Vehicle Collision",
          "Multi-vehicle Collision",
          "Multi-vehicle Collision",
          "Multi-vehicle Collision",
          "Single Vehicle Collision",
          "Parked Car",
          "Single Vehicle Collision",
          "Single Vehicle Collision",
          "Multi-vehicle Collision",
          "Multi-vehicle Collision",
          "Multi-vehicle Collision",
          "Single Vehicle Collision",
          "Parked Car",
          "Multi-vehicle Collision",
          "Single Vehicle Collision",
          "Multi-vehicle Collision",
          "Single Vehicle Collision",
          "Single Vehicle Collision",
          "Multi-vehicle Collision",
          "Multi-vehicle Collision",
          "Vehicle Theft",
          "Single Vehicle Collision",
          "Multi-vehicle Collision",
          "Vehicle Theft",
          "Vehicle Theft",
          "Multi-vehicle Collision",
          "Parked Car",
          "Single Vehicle Collision",
          "Multi-vehicle Collision",
          "Parked Car",
          "Single Vehicle Collision",
          "Multi-vehicle Collision",
          "Multi-vehicle Collision",
          "Single Vehicle Collision",
          "Multi-vehicle Collision",
          "Single Vehicle Collision",
          "Parked Car",
          "Single Vehicle Collision",
          "Multi-vehicle Collision",
          "Multi-vehicle Collision",
          "Multi-vehicle Collision",
          "Multi-vehicle Collision",
          "Multi-vehicle Collision",
          "Vehicle Theft",
          "Multi-vehicle Collision",
          "Vehicle Theft",
          "Vehicle Theft",
          "Vehicle Theft",
          "Multi-vehicle Collision",
          "Multi-vehicle Collision",
          "Single Vehicle Collision",
          "Parked Car",
          "Multi-vehicle Collision",
          "Parked Car",
          "Multi-vehicle Collision",
          "Multi-vehicle Collision",
          "Vehicle Theft",
          "Parked Car",
          "Vehicle Theft",
          "Single Vehicle Collision",
          "Single Vehicle Collision",
          "Multi-vehicle Collision",
          "Parked Car",
          "Multi-vehicle Collision",
          "Vehicle Theft",
          "Multi-vehicle Collision",
          "Single Vehicle Collision",
          "Multi-vehicle Collision",
          "Multi-vehicle Collision",
          "Vehicle Theft",
          "Single Vehicle Collision",
          "Single Vehicle Collision",
          "Multi-vehicle Collision",
          "Single Vehicle Collision",
          "Multi-vehicle Collision",
          "Single Vehicle Collision",
          "Multi-vehicle Collision",
          "Single Vehicle Collision",
          "Parked Car",
          "Multi-vehicle Collision",
          "Multi-vehicle Collision",
          "Multi-vehicle Collision",
          "Single Vehicle Collision",
          "Single Vehicle Collision",
          "Vehicle Theft",
          "Multi-vehicle Collision",
          "Multi-vehicle Collision",
          "Multi-vehicle Collision",
          "Single Vehicle Collision",
          "Vehicle Theft",
          "Parked Car",
          "Multi-vehicle Collision",
          "Single Vehicle Collision",
          "Single Vehicle Collision",
          "Multi-vehicle Collision",
          "Multi-vehicle Collision",
          "Multi-vehicle Collision",
          "Parked Car",
          "Multi-vehicle Collision",
          "Vehicle Theft",
          "Parked Car",
          "Single Vehicle Collision",
          "Multi-vehicle Collision",
          "Multi-vehicle Collision",
          "Multi-vehicle Collision",
          "Multi-vehicle Collision",
          "Parked Car",
          "Parked Car",
          "Multi-vehicle Collision",
          "Multi-vehicle Collision",
          "Multi-vehicle Collision",
          "Vehicle Theft",
          "Single Vehicle Collision",
          "Single Vehicle Collision",
          "Single Vehicle Collision",
          "Single Vehicle Collision",
          "Vehicle Theft",
          "Multi-vehicle Collision",
          "Single Vehicle Collision",
          "Single Vehicle Collision",
          "Single Vehicle Collision",
          "Multi-vehicle Collision",
          "Vehicle Theft",
          "Single Vehicle Collision",
          "Parked Car",
          "Single Vehicle Collision",
          "Single Vehicle Collision",
          "Vehicle Theft",
          "Multi-vehicle Collision",
          "Multi-vehicle Collision",
          "Parked Car",
          "Single Vehicle Collision",
          "Vehicle Theft",
          "Vehicle Theft",
          "Single Vehicle Collision",
          "Parked Car",
          "Multi-vehicle Collision",
          "Multi-vehicle Collision",
          "Single Vehicle Collision",
          "Multi-vehicle Collision",
          "Multi-vehicle Collision",
          "Parked Car",
          "Vehicle Theft",
          "Vehicle Theft",
          "Multi-vehicle Collision",
          "Single Vehicle Collision",
          "Vehicle Theft",
          "Multi-vehicle Collision",
          "Single Vehicle Collision",
          "Single Vehicle Collision",
          "Multi-vehicle Collision",
          "Multi-vehicle Collision",
          "Single Vehicle Collision",
          "Multi-vehicle Collision",
          "Multi-vehicle Collision",
          "Single Vehicle Collision",
          "Single Vehicle Collision",
          "Single Vehicle Collision",
          "Multi-vehicle Collision",
          "Multi-vehicle Collision",
          "Multi-vehicle Collision",
          "Single Vehicle Collision",
          "Single Vehicle Collision",
          "Single Vehicle Collision",
          "Single Vehicle Collision",
          "Parked Car",
          "Multi-vehicle Collision",
          "Vehicle Theft",
          "Single Vehicle Collision",
          "Parked Car",
          "Single Vehicle Collision",
          "Vehicle Theft",
          "Multi-vehicle Collision",
          "Multi-vehicle Collision",
          "Vehicle Theft",
          "Parked Car",
          "Multi-vehicle Collision",
          "Single Vehicle Collision",
          "Vehicle Theft",
          "Multi-vehicle Collision",
          "Multi-vehicle Collision",
          "Multi-vehicle Collision",
          "Multi-vehicle Collision",
          "Parked Car",
          "Multi-vehicle Collision",
          "Multi-vehicle Collision",
          "Multi-vehicle Collision",
          "Multi-vehicle Collision",
          "Multi-vehicle Collision",
          "Multi-vehicle Collision",
          "Vehicle Theft",
          "Multi-vehicle Collision",
          "Single Vehicle Collision",
          "Multi-vehicle Collision",
          "Vehicle Theft",
          "Parked Car",
          "Single Vehicle Collision",
          "Multi-vehicle Collision",
          "Single Vehicle Collision",
          "Single Vehicle Collision",
          "Multi-vehicle Collision",
          "Parked Car",
          "Parked Car",
          "Multi-vehicle Collision",
          "Vehicle Theft",
          "Multi-vehicle Collision",
          "Multi-vehicle Collision",
          "Parked Car",
          "Multi-vehicle Collision",
          "Multi-vehicle Collision",
          "Multi-vehicle Collision",
          "Single Vehicle Collision",
          "Multi-vehicle Collision",
          "Multi-vehicle Collision",
          "Single Vehicle Collision",
          "Multi-vehicle Collision",
          "Multi-vehicle Collision",
          "Multi-vehicle Collision",
          "Single Vehicle Collision",
          "Multi-vehicle Collision",
          "Single Vehicle Collision",
          "Multi-vehicle Collision",
          "Multi-vehicle Collision",
          "Multi-vehicle Collision",
          "Multi-vehicle Collision",
          "Single Vehicle Collision",
          "Parked Car",
          "Parked Car",
          "Single Vehicle Collision",
          "Single Vehicle Collision",
          "Multi-vehicle Collision",
          "Single Vehicle Collision",
          "Single Vehicle Collision",
          "Multi-vehicle Collision",
          "Single Vehicle Collision",
          "Vehicle Theft",
          "Single Vehicle Collision",
          "Single Vehicle Collision",
          "Single Vehicle Collision",
          "Multi-vehicle Collision",
          "Single Vehicle Collision",
          "Single Vehicle Collision",
          "Single Vehicle Collision",
          "Multi-vehicle Collision",
          "Single Vehicle Collision",
          "Multi-vehicle Collision",
          "Multi-vehicle Collision",
          "Single Vehicle Collision",
          "Parked Car",
          "Vehicle Theft",
          "Single Vehicle Collision",
          "Multi-vehicle Collision",
          "Multi-vehicle Collision",
          "Multi-vehicle Collision",
          "Single Vehicle Collision",
          "Multi-vehicle Collision",
          "Multi-vehicle Collision",
          "Single Vehicle Collision",
          "Single Vehicle Collision",
          "Multi-vehicle Collision",
          "Multi-vehicle Collision",
          "Single Vehicle Collision",
          "Single Vehicle Collision",
          "Multi-vehicle Collision",
          "Single Vehicle Collision",
          "Single Vehicle Collision",
          "Multi-vehicle Collision",
          "Single Vehicle Collision",
          "Single Vehicle Collision",
          "Multi-vehicle Collision",
          "Multi-vehicle Collision",
          "Multi-vehicle Collision",
          "Vehicle Theft",
          "Single Vehicle Collision",
          "Single Vehicle Collision",
          "Vehicle Theft",
          "Single Vehicle Collision",
          "Multi-vehicle Collision",
          "Single Vehicle Collision",
          "Single Vehicle Collision",
          "Multi-vehicle Collision",
          "Multi-vehicle Collision",
          "Multi-vehicle Collision",
          "Single Vehicle Collision",
          "Vehicle Theft",
          "Parked Car",
          "Parked Car",
          "Multi-vehicle Collision",
          "Multi-vehicle Collision",
          "Vehicle Theft",
          "Single Vehicle Collision",
          "Single Vehicle Collision",
          "Single Vehicle Collision",
          "Vehicle Theft",
          "Single Vehicle Collision",
          "Single Vehicle Collision",
          "Single Vehicle Collision",
          "Single Vehicle Collision",
          "Single Vehicle Collision",
          "Single Vehicle Collision",
          "Single Vehicle Collision",
          "Single Vehicle Collision",
          "Multi-vehicle Collision",
          "Multi-vehicle Collision",
          "Single Vehicle Collision",
          "Single Vehicle Collision",
          "Single Vehicle Collision",
          "Single Vehicle Collision",
          "Vehicle Theft",
          "Parked Car",
          "Single Vehicle Collision",
          "Multi-vehicle Collision",
          "Parked Car",
          "Parked Car",
          "Single Vehicle Collision",
          "Single Vehicle Collision",
          "Single Vehicle Collision",
          "Multi-vehicle Collision",
          "Single Vehicle Collision",
          "Single Vehicle Collision",
          "Parked Car",
          "Multi-vehicle Collision",
          "Single Vehicle Collision",
          "Multi-vehicle Collision",
          "Vehicle Theft",
          "Single Vehicle Collision",
          "Single Vehicle Collision",
          "Single Vehicle Collision",
          "Multi-vehicle Collision",
          "Multi-vehicle Collision",
          "Single Vehicle Collision",
          "Multi-vehicle Collision",
          "Multi-vehicle Collision",
          "Multi-vehicle Collision",
          "Multi-vehicle Collision",
          "Multi-vehicle Collision",
          "Multi-vehicle Collision",
          "Vehicle Theft",
          "Multi-vehicle Collision",
          "Multi-vehicle Collision",
          "Single Vehicle Collision",
          "Multi-vehicle Collision",
          "Single Vehicle Collision",
          "Single Vehicle Collision",
          "Single Vehicle Collision",
          "Multi-vehicle Collision",
          "Single Vehicle Collision",
          "Vehicle Theft",
          "Multi-vehicle Collision",
          "Multi-vehicle Collision",
          "Single Vehicle Collision",
          "Single Vehicle Collision",
          "Vehicle Theft",
          "Multi-vehicle Collision",
          "Single Vehicle Collision",
          "Single Vehicle Collision",
          "Single Vehicle Collision",
          "Single Vehicle Collision",
          "Single Vehicle Collision",
          "Single Vehicle Collision",
          "Multi-vehicle Collision",
          "Single Vehicle Collision",
          "Multi-vehicle Collision",
          "Multi-vehicle Collision",
          "Single Vehicle Collision",
          "Parked Car",
          "Single Vehicle Collision",
          "Single Vehicle Collision",
          "Single Vehicle Collision",
          "Single Vehicle Collision",
          "Multi-vehicle Collision",
          "Vehicle Theft",
          "Single Vehicle Collision",
          "Single Vehicle Collision",
          "Multi-vehicle Collision",
          "Multi-vehicle Collision",
          "Parked Car",
          "Vehicle Theft",
          "Multi-vehicle Collision",
          "Vehicle Theft",
          "Single Vehicle Collision",
          "Single Vehicle Collision",
          "Single Vehicle Collision",
          "Multi-vehicle Collision",
          "Vehicle Theft",
          "Multi-vehicle Collision",
          "Multi-vehicle Collision",
          "Multi-vehicle Collision",
          "Single Vehicle Collision",
          "Single Vehicle Collision",
          "Parked Car",
          "Multi-vehicle Collision",
          "Multi-vehicle Collision",
          "Single Vehicle Collision",
          "Single Vehicle Collision",
          "Vehicle Theft",
          "Multi-vehicle Collision",
          "Multi-vehicle Collision",
          "Single Vehicle Collision",
          "Parked Car",
          "Multi-vehicle Collision",
          "Vehicle Theft",
          "Vehicle Theft",
          "Multi-vehicle Collision",
          "Multi-vehicle Collision",
          "Single Vehicle Collision",
          "Single Vehicle Collision",
          "Multi-vehicle Collision",
          "Single Vehicle Collision",
          "Single Vehicle Collision",
          "Multi-vehicle Collision",
          "Single Vehicle Collision",
          "Multi-vehicle Collision",
          "Multi-vehicle Collision",
          "Multi-vehicle Collision",
          "Single Vehicle Collision",
          "Single Vehicle Collision",
          "Multi-vehicle Collision",
          "Single Vehicle Collision",
          "Multi-vehicle Collision",
          "Multi-vehicle Collision",
          "Multi-vehicle Collision",
          "Parked Car",
          "Vehicle Theft",
          "Vehicle Theft",
          "Single Vehicle Collision",
          "Multi-vehicle Collision",
          "Multi-vehicle Collision",
          "Single Vehicle Collision",
          "Multi-vehicle Collision",
          "Single Vehicle Collision",
          "Parked Car",
          "Multi-vehicle Collision",
          "Multi-vehicle Collision",
          "Single Vehicle Collision",
          "Vehicle Theft",
          "Multi-vehicle Collision",
          "Single Vehicle Collision",
          "Single Vehicle Collision",
          "Parked Car",
          "Multi-vehicle Collision",
          "Single Vehicle Collision",
          "Multi-vehicle Collision",
          "Multi-vehicle Collision",
          "Single Vehicle Collision",
          "Multi-vehicle Collision",
          "Parked Car",
          "Multi-vehicle Collision",
          "Multi-vehicle Collision",
          "Single Vehicle Collision",
          "Multi-vehicle Collision",
          "Single Vehicle Collision",
          "Parked Car",
          "Parked Car",
          "Single Vehicle Collision",
          "Multi-vehicle Collision",
          "Parked Car",
          "Multi-vehicle Collision",
          "Multi-vehicle Collision",
          "Single Vehicle Collision",
          "Single Vehicle Collision",
          "Vehicle Theft",
          "Vehicle Theft",
          "Multi-vehicle Collision",
          "Single Vehicle Collision",
          "Multi-vehicle Collision",
          "Single Vehicle Collision",
          "Single Vehicle Collision",
          "Multi-vehicle Collision",
          "Multi-vehicle Collision",
          "Single Vehicle Collision",
          "Parked Car",
          "Multi-vehicle Collision",
          "Multi-vehicle Collision",
          "Single Vehicle Collision",
          "Single Vehicle Collision",
          "Vehicle Theft",
          "Single Vehicle Collision",
          "Single Vehicle Collision",
          "Multi-vehicle Collision",
          "Single Vehicle Collision",
          "Multi-vehicle Collision",
          "Multi-vehicle Collision",
          "Single Vehicle Collision",
          "Single Vehicle Collision",
          "Single Vehicle Collision",
          "Multi-vehicle Collision",
          "Multi-vehicle Collision",
          "Single Vehicle Collision",
          "Multi-vehicle Collision",
          "Single Vehicle Collision",
          "Vehicle Theft",
          "Vehicle Theft",
          "Multi-vehicle Collision",
          "Parked Car",
          "Multi-vehicle Collision",
          "Multi-vehicle Collision",
          "Single Vehicle Collision",
          "Parked Car",
          "Parked Car",
          "Single Vehicle Collision",
          "Parked Car",
          "Multi-vehicle Collision",
          "Multi-vehicle Collision",
          "Single Vehicle Collision",
          "Single Vehicle Collision",
          "Parked Car",
          "Multi-vehicle Collision",
          "Multi-vehicle Collision",
          "Vehicle Theft",
          "Single Vehicle Collision",
          "Single Vehicle Collision",
          "Vehicle Theft",
          "Parked Car",
          "Single Vehicle Collision",
          "Parked Car",
          "Single Vehicle Collision",
          "Single Vehicle Collision",
          "Multi-vehicle Collision",
          "Single Vehicle Collision",
          "Vehicle Theft",
          "Single Vehicle Collision",
          "Parked Car",
          "Parked Car",
          "Multi-vehicle Collision",
          "Multi-vehicle Collision",
          "Parked Car",
          "Single Vehicle Collision",
          "Single Vehicle Collision",
          "Single Vehicle Collision",
          "Single Vehicle Collision",
          "Single Vehicle Collision",
          "Multi-vehicle Collision",
          "Multi-vehicle Collision",
          "Multi-vehicle Collision",
          "Single Vehicle Collision",
          "Vehicle Theft",
          "Multi-vehicle Collision",
          "Single Vehicle Collision",
          "Multi-vehicle Collision",
          "Multi-vehicle Collision",
          "Multi-vehicle Collision",
          "Single Vehicle Collision",
          "Vehicle Theft",
          "Single Vehicle Collision",
          "Multi-vehicle Collision",
          "Multi-vehicle Collision",
          "Multi-vehicle Collision",
          "Multi-vehicle Collision",
          "Single Vehicle Collision",
          "Single Vehicle Collision",
          "Single Vehicle Collision",
          "Single Vehicle Collision",
          "Multi-vehicle Collision",
          "Multi-vehicle Collision",
          "Single Vehicle Collision",
          "Multi-vehicle Collision",
          "Multi-vehicle Collision",
          "Single Vehicle Collision",
          "Multi-vehicle Collision",
          "Multi-vehicle Collision",
          "Single Vehicle Collision",
          "Single Vehicle Collision",
          "Multi-vehicle Collision",
          "Multi-vehicle Collision",
          "Parked Car",
          "Single Vehicle Collision",
          "Multi-vehicle Collision",
          "Multi-vehicle Collision",
          "Multi-vehicle Collision",
          "Single Vehicle Collision",
          "Single Vehicle Collision",
          "Vehicle Theft",
          "Parked Car",
          "Multi-vehicle Collision",
          "Multi-vehicle Collision",
          "Single Vehicle Collision",
          "Parked Car",
          "Multi-vehicle Collision",
          "Single Vehicle Collision",
          "Multi-vehicle Collision",
          "Multi-vehicle Collision",
          "Single Vehicle Collision",
          "Single Vehicle Collision",
          "Parked Car",
          "Single Vehicle Collision",
          "Multi-vehicle Collision",
          "Single Vehicle Collision",
          "Parked Car",
          "Single Vehicle Collision",
          "Single Vehicle Collision",
          "Multi-vehicle Collision",
          "Single Vehicle Collision",
          "Multi-vehicle Collision",
          "Vehicle Theft",
          "Vehicle Theft",
          "Multi-vehicle Collision",
          "Single Vehicle Collision",
          "Multi-vehicle Collision",
          "Vehicle Theft",
          "Single Vehicle Collision",
          "Vehicle Theft",
          "Multi-vehicle Collision",
          "Single Vehicle Collision",
          "Single Vehicle Collision",
          "Single Vehicle Collision",
          "Single Vehicle Collision",
          "Multi-vehicle Collision",
          "Multi-vehicle Collision",
          "Single Vehicle Collision",
          "Vehicle Theft",
          "Multi-vehicle Collision",
          "Vehicle Theft",
          "Vehicle Theft",
          "Single Vehicle Collision",
          "Single Vehicle Collision",
          "Parked Car",
          "Multi-vehicle Collision",
          "Vehicle Theft",
          "Multi-vehicle Collision",
          "Single Vehicle Collision",
          "Multi-vehicle Collision",
          "Parked Car",
          "Multi-vehicle Collision",
          "Multi-vehicle Collision",
          "Single Vehicle Collision",
          "Multi-vehicle Collision",
          "Multi-vehicle Collision",
          "Multi-vehicle Collision",
          "Single Vehicle Collision",
          "Multi-vehicle Collision",
          "Multi-vehicle Collision",
          "Multi-vehicle Collision",
          "Multi-vehicle Collision",
          "Single Vehicle Collision",
          "Multi-vehicle Collision",
          "Single Vehicle Collision",
          "Single Vehicle Collision",
          "Multi-vehicle Collision",
          "Single Vehicle Collision",
          "Parked Car",
          "Single Vehicle Collision",
          "Single Vehicle Collision",
          "Vehicle Theft",
          "Multi-vehicle Collision",
          "Single Vehicle Collision",
          "Single Vehicle Collision",
          "Single Vehicle Collision",
          "Multi-vehicle Collision",
          "Single Vehicle Collision",
          "Parked Car",
          "Single Vehicle Collision",
          "Multi-vehicle Collision",
          "Single Vehicle Collision",
          "Multi-vehicle Collision",
          "Vehicle Theft",
          "Vehicle Theft",
          "Parked Car",
          "Parked Car",
          "Multi-vehicle Collision",
          "Single Vehicle Collision",
          "Vehicle Theft",
          "Single Vehicle Collision",
          "Single Vehicle Collision",
          "Multi-vehicle Collision",
          "Single Vehicle Collision",
          "Multi-vehicle Collision",
          "Multi-vehicle Collision",
          "Multi-vehicle Collision",
          "Vehicle Theft",
          "Multi-vehicle Collision",
          "Single Vehicle Collision",
          "Multi-vehicle Collision",
          "Single Vehicle Collision",
          "Multi-vehicle Collision",
          "Vehicle Theft",
          "Single Vehicle Collision",
          "Multi-vehicle Collision",
          "Single Vehicle Collision",
          "Multi-vehicle Collision",
          "Vehicle Theft",
          "Single Vehicle Collision",
          "Multi-vehicle Collision",
          "Vehicle Theft",
          "Vehicle Theft",
          "Multi-vehicle Collision",
          "Multi-vehicle Collision",
          "Multi-vehicle Collision",
          "Multi-vehicle Collision",
          "Single Vehicle Collision",
          "Single Vehicle Collision",
          "Parked Car",
          "Multi-vehicle Collision",
          "Parked Car",
          "Multi-vehicle Collision",
          "Single Vehicle Collision",
          "Multi-vehicle Collision",
          "Single Vehicle Collision",
          "Single Vehicle Collision",
          "Multi-vehicle Collision",
          "Parked Car",
          "Single Vehicle Collision",
          "Multi-vehicle Collision",
          "Vehicle Theft",
          "Single Vehicle Collision",
          "Single Vehicle Collision",
          "Multi-vehicle Collision",
          "Single Vehicle Collision",
          "Multi-vehicle Collision",
          "Vehicle Theft",
          "Multi-vehicle Collision",
          "Vehicle Theft",
          "Single Vehicle Collision",
          "Vehicle Theft",
          "Single Vehicle Collision",
          "Multi-vehicle Collision",
          "Multi-vehicle Collision",
          "Vehicle Theft",
          "Single Vehicle Collision",
          "Single Vehicle Collision",
          "Multi-vehicle Collision",
          "Multi-vehicle Collision",
          "Single Vehicle Collision",
          "Single Vehicle Collision",
          "Single Vehicle Collision",
          "Multi-vehicle Collision",
          "Parked Car",
          "Single Vehicle Collision",
          "Single Vehicle Collision",
          "Single Vehicle Collision",
          "Multi-vehicle Collision",
          "Single Vehicle Collision",
          "Single Vehicle Collision",
          "Multi-vehicle Collision",
          "Multi-vehicle Collision",
          "Parked Car",
          "Single Vehicle Collision",
          "Single Vehicle Collision",
          "Multi-vehicle Collision",
          "Single Vehicle Collision",
          "Parked Car"
         ],
         "xaxis": "x",
         "yaxis": "y"
        }
       ],
       "layout": {
        "barmode": "relative",
        "legend": {
         "title": {
          "text": "fraud_reported"
         },
         "tracegroupgap": 0
        },
        "margin": {
         "t": 60
        },
        "template": {
         "data": {
          "bar": [
           {
            "error_x": {
             "color": "#2a3f5f"
            },
            "error_y": {
             "color": "#2a3f5f"
            },
            "marker": {
             "line": {
              "color": "#E5ECF6",
              "width": 0.5
             },
             "pattern": {
              "fillmode": "overlay",
              "size": 10,
              "solidity": 0.2
             }
            },
            "type": "bar"
           }
          ],
          "barpolar": [
           {
            "marker": {
             "line": {
              "color": "#E5ECF6",
              "width": 0.5
             },
             "pattern": {
              "fillmode": "overlay",
              "size": 10,
              "solidity": 0.2
             }
            },
            "type": "barpolar"
           }
          ],
          "carpet": [
           {
            "aaxis": {
             "endlinecolor": "#2a3f5f",
             "gridcolor": "white",
             "linecolor": "white",
             "minorgridcolor": "white",
             "startlinecolor": "#2a3f5f"
            },
            "baxis": {
             "endlinecolor": "#2a3f5f",
             "gridcolor": "white",
             "linecolor": "white",
             "minorgridcolor": "white",
             "startlinecolor": "#2a3f5f"
            },
            "type": "carpet"
           }
          ],
          "choropleth": [
           {
            "colorbar": {
             "outlinewidth": 0,
             "ticks": ""
            },
            "type": "choropleth"
           }
          ],
          "contour": [
           {
            "colorbar": {
             "outlinewidth": 0,
             "ticks": ""
            },
            "colorscale": [
             [
              0,
              "#0d0887"
             ],
             [
              0.1111111111111111,
              "#46039f"
             ],
             [
              0.2222222222222222,
              "#7201a8"
             ],
             [
              0.3333333333333333,
              "#9c179e"
             ],
             [
              0.4444444444444444,
              "#bd3786"
             ],
             [
              0.5555555555555556,
              "#d8576b"
             ],
             [
              0.6666666666666666,
              "#ed7953"
             ],
             [
              0.7777777777777778,
              "#fb9f3a"
             ],
             [
              0.8888888888888888,
              "#fdca26"
             ],
             [
              1,
              "#f0f921"
             ]
            ],
            "type": "contour"
           }
          ],
          "contourcarpet": [
           {
            "colorbar": {
             "outlinewidth": 0,
             "ticks": ""
            },
            "type": "contourcarpet"
           }
          ],
          "heatmap": [
           {
            "colorbar": {
             "outlinewidth": 0,
             "ticks": ""
            },
            "colorscale": [
             [
              0,
              "#0d0887"
             ],
             [
              0.1111111111111111,
              "#46039f"
             ],
             [
              0.2222222222222222,
              "#7201a8"
             ],
             [
              0.3333333333333333,
              "#9c179e"
             ],
             [
              0.4444444444444444,
              "#bd3786"
             ],
             [
              0.5555555555555556,
              "#d8576b"
             ],
             [
              0.6666666666666666,
              "#ed7953"
             ],
             [
              0.7777777777777778,
              "#fb9f3a"
             ],
             [
              0.8888888888888888,
              "#fdca26"
             ],
             [
              1,
              "#f0f921"
             ]
            ],
            "type": "heatmap"
           }
          ],
          "heatmapgl": [
           {
            "colorbar": {
             "outlinewidth": 0,
             "ticks": ""
            },
            "colorscale": [
             [
              0,
              "#0d0887"
             ],
             [
              0.1111111111111111,
              "#46039f"
             ],
             [
              0.2222222222222222,
              "#7201a8"
             ],
             [
              0.3333333333333333,
              "#9c179e"
             ],
             [
              0.4444444444444444,
              "#bd3786"
             ],
             [
              0.5555555555555556,
              "#d8576b"
             ],
             [
              0.6666666666666666,
              "#ed7953"
             ],
             [
              0.7777777777777778,
              "#fb9f3a"
             ],
             [
              0.8888888888888888,
              "#fdca26"
             ],
             [
              1,
              "#f0f921"
             ]
            ],
            "type": "heatmapgl"
           }
          ],
          "histogram": [
           {
            "marker": {
             "pattern": {
              "fillmode": "overlay",
              "size": 10,
              "solidity": 0.2
             }
            },
            "type": "histogram"
           }
          ],
          "histogram2d": [
           {
            "colorbar": {
             "outlinewidth": 0,
             "ticks": ""
            },
            "colorscale": [
             [
              0,
              "#0d0887"
             ],
             [
              0.1111111111111111,
              "#46039f"
             ],
             [
              0.2222222222222222,
              "#7201a8"
             ],
             [
              0.3333333333333333,
              "#9c179e"
             ],
             [
              0.4444444444444444,
              "#bd3786"
             ],
             [
              0.5555555555555556,
              "#d8576b"
             ],
             [
              0.6666666666666666,
              "#ed7953"
             ],
             [
              0.7777777777777778,
              "#fb9f3a"
             ],
             [
              0.8888888888888888,
              "#fdca26"
             ],
             [
              1,
              "#f0f921"
             ]
            ],
            "type": "histogram2d"
           }
          ],
          "histogram2dcontour": [
           {
            "colorbar": {
             "outlinewidth": 0,
             "ticks": ""
            },
            "colorscale": [
             [
              0,
              "#0d0887"
             ],
             [
              0.1111111111111111,
              "#46039f"
             ],
             [
              0.2222222222222222,
              "#7201a8"
             ],
             [
              0.3333333333333333,
              "#9c179e"
             ],
             [
              0.4444444444444444,
              "#bd3786"
             ],
             [
              0.5555555555555556,
              "#d8576b"
             ],
             [
              0.6666666666666666,
              "#ed7953"
             ],
             [
              0.7777777777777778,
              "#fb9f3a"
             ],
             [
              0.8888888888888888,
              "#fdca26"
             ],
             [
              1,
              "#f0f921"
             ]
            ],
            "type": "histogram2dcontour"
           }
          ],
          "mesh3d": [
           {
            "colorbar": {
             "outlinewidth": 0,
             "ticks": ""
            },
            "type": "mesh3d"
           }
          ],
          "parcoords": [
           {
            "line": {
             "colorbar": {
              "outlinewidth": 0,
              "ticks": ""
             }
            },
            "type": "parcoords"
           }
          ],
          "pie": [
           {
            "automargin": true,
            "type": "pie"
           }
          ],
          "scatter": [
           {
            "marker": {
             "colorbar": {
              "outlinewidth": 0,
              "ticks": ""
             }
            },
            "type": "scatter"
           }
          ],
          "scatter3d": [
           {
            "line": {
             "colorbar": {
              "outlinewidth": 0,
              "ticks": ""
             }
            },
            "marker": {
             "colorbar": {
              "outlinewidth": 0,
              "ticks": ""
             }
            },
            "type": "scatter3d"
           }
          ],
          "scattercarpet": [
           {
            "marker": {
             "colorbar": {
              "outlinewidth": 0,
              "ticks": ""
             }
            },
            "type": "scattercarpet"
           }
          ],
          "scattergeo": [
           {
            "marker": {
             "colorbar": {
              "outlinewidth": 0,
              "ticks": ""
             }
            },
            "type": "scattergeo"
           }
          ],
          "scattergl": [
           {
            "marker": {
             "colorbar": {
              "outlinewidth": 0,
              "ticks": ""
             }
            },
            "type": "scattergl"
           }
          ],
          "scattermapbox": [
           {
            "marker": {
             "colorbar": {
              "outlinewidth": 0,
              "ticks": ""
             }
            },
            "type": "scattermapbox"
           }
          ],
          "scatterpolar": [
           {
            "marker": {
             "colorbar": {
              "outlinewidth": 0,
              "ticks": ""
             }
            },
            "type": "scatterpolar"
           }
          ],
          "scatterpolargl": [
           {
            "marker": {
             "colorbar": {
              "outlinewidth": 0,
              "ticks": ""
             }
            },
            "type": "scatterpolargl"
           }
          ],
          "scatterternary": [
           {
            "marker": {
             "colorbar": {
              "outlinewidth": 0,
              "ticks": ""
             }
            },
            "type": "scatterternary"
           }
          ],
          "surface": [
           {
            "colorbar": {
             "outlinewidth": 0,
             "ticks": ""
            },
            "colorscale": [
             [
              0,
              "#0d0887"
             ],
             [
              0.1111111111111111,
              "#46039f"
             ],
             [
              0.2222222222222222,
              "#7201a8"
             ],
             [
              0.3333333333333333,
              "#9c179e"
             ],
             [
              0.4444444444444444,
              "#bd3786"
             ],
             [
              0.5555555555555556,
              "#d8576b"
             ],
             [
              0.6666666666666666,
              "#ed7953"
             ],
             [
              0.7777777777777778,
              "#fb9f3a"
             ],
             [
              0.8888888888888888,
              "#fdca26"
             ],
             [
              1,
              "#f0f921"
             ]
            ],
            "type": "surface"
           }
          ],
          "table": [
           {
            "cells": {
             "fill": {
              "color": "#EBF0F8"
             },
             "line": {
              "color": "white"
             }
            },
            "header": {
             "fill": {
              "color": "#C8D4E3"
             },
             "line": {
              "color": "white"
             }
            },
            "type": "table"
           }
          ]
         },
         "layout": {
          "annotationdefaults": {
           "arrowcolor": "#2a3f5f",
           "arrowhead": 0,
           "arrowwidth": 1
          },
          "autotypenumbers": "strict",
          "coloraxis": {
           "colorbar": {
            "outlinewidth": 0,
            "ticks": ""
           }
          },
          "colorscale": {
           "diverging": [
            [
             0,
             "#8e0152"
            ],
            [
             0.1,
             "#c51b7d"
            ],
            [
             0.2,
             "#de77ae"
            ],
            [
             0.3,
             "#f1b6da"
            ],
            [
             0.4,
             "#fde0ef"
            ],
            [
             0.5,
             "#f7f7f7"
            ],
            [
             0.6,
             "#e6f5d0"
            ],
            [
             0.7,
             "#b8e186"
            ],
            [
             0.8,
             "#7fbc41"
            ],
            [
             0.9,
             "#4d9221"
            ],
            [
             1,
             "#276419"
            ]
           ],
           "sequential": [
            [
             0,
             "#0d0887"
            ],
            [
             0.1111111111111111,
             "#46039f"
            ],
            [
             0.2222222222222222,
             "#7201a8"
            ],
            [
             0.3333333333333333,
             "#9c179e"
            ],
            [
             0.4444444444444444,
             "#bd3786"
            ],
            [
             0.5555555555555556,
             "#d8576b"
            ],
            [
             0.6666666666666666,
             "#ed7953"
            ],
            [
             0.7777777777777778,
             "#fb9f3a"
            ],
            [
             0.8888888888888888,
             "#fdca26"
            ],
            [
             1,
             "#f0f921"
            ]
           ],
           "sequentialminus": [
            [
             0,
             "#0d0887"
            ],
            [
             0.1111111111111111,
             "#46039f"
            ],
            [
             0.2222222222222222,
             "#7201a8"
            ],
            [
             0.3333333333333333,
             "#9c179e"
            ],
            [
             0.4444444444444444,
             "#bd3786"
            ],
            [
             0.5555555555555556,
             "#d8576b"
            ],
            [
             0.6666666666666666,
             "#ed7953"
            ],
            [
             0.7777777777777778,
             "#fb9f3a"
            ],
            [
             0.8888888888888888,
             "#fdca26"
            ],
            [
             1,
             "#f0f921"
            ]
           ]
          },
          "colorway": [
           "#636efa",
           "#EF553B",
           "#00cc96",
           "#ab63fa",
           "#FFA15A",
           "#19d3f3",
           "#FF6692",
           "#B6E880",
           "#FF97FF",
           "#FECB52"
          ],
          "font": {
           "color": "#2a3f5f"
          },
          "geo": {
           "bgcolor": "white",
           "lakecolor": "white",
           "landcolor": "#E5ECF6",
           "showlakes": true,
           "showland": true,
           "subunitcolor": "white"
          },
          "hoverlabel": {
           "align": "left"
          },
          "hovermode": "closest",
          "mapbox": {
           "style": "light"
          },
          "paper_bgcolor": "white",
          "plot_bgcolor": "#E5ECF6",
          "polar": {
           "angularaxis": {
            "gridcolor": "white",
            "linecolor": "white",
            "ticks": ""
           },
           "bgcolor": "#E5ECF6",
           "radialaxis": {
            "gridcolor": "white",
            "linecolor": "white",
            "ticks": ""
           }
          },
          "scene": {
           "xaxis": {
            "backgroundcolor": "#E5ECF6",
            "gridcolor": "white",
            "gridwidth": 2,
            "linecolor": "white",
            "showbackground": true,
            "ticks": "",
            "zerolinecolor": "white"
           },
           "yaxis": {
            "backgroundcolor": "#E5ECF6",
            "gridcolor": "white",
            "gridwidth": 2,
            "linecolor": "white",
            "showbackground": true,
            "ticks": "",
            "zerolinecolor": "white"
           },
           "zaxis": {
            "backgroundcolor": "#E5ECF6",
            "gridcolor": "white",
            "gridwidth": 2,
            "linecolor": "white",
            "showbackground": true,
            "ticks": "",
            "zerolinecolor": "white"
           }
          },
          "shapedefaults": {
           "line": {
            "color": "#2a3f5f"
           }
          },
          "ternary": {
           "aaxis": {
            "gridcolor": "white",
            "linecolor": "white",
            "ticks": ""
           },
           "baxis": {
            "gridcolor": "white",
            "linecolor": "white",
            "ticks": ""
           },
           "bgcolor": "#E5ECF6",
           "caxis": {
            "gridcolor": "white",
            "linecolor": "white",
            "ticks": ""
           }
          },
          "title": {
           "x": 0.05
          },
          "xaxis": {
           "automargin": true,
           "gridcolor": "white",
           "linecolor": "white",
           "ticks": "",
           "title": {
            "standoff": 15
           },
           "zerolinecolor": "white",
           "zerolinewidth": 2
          },
          "yaxis": {
           "automargin": true,
           "gridcolor": "white",
           "linecolor": "white",
           "ticks": "",
           "title": {
            "standoff": 15
           },
           "zerolinecolor": "white",
           "zerolinewidth": 2
          }
         }
        },
        "xaxis": {
         "anchor": "y",
         "domain": [
          0,
          1
         ],
         "title": {
          "text": "incident_type"
         }
        },
        "yaxis": {
         "anchor": "x",
         "domain": [
          0,
          1
         ],
         "title": {
          "text": "count"
         }
        }
       }
      }
     },
     "metadata": {},
     "output_type": "display_data"
    }
   ],
   "source": [
    "fig = px.histogram(df, x=\"incident_type\", color=\"fraud_reported\")\n",
    "fig.show()"
   ]
  },
  {
   "cell_type": "code",
   "execution_count": 207,
   "metadata": {},
   "outputs": [
    {
     "data": {
      "application/vnd.plotly.v1+json": {
       "config": {
        "plotlyServerURL": "https://plot.ly"
       },
       "data": [
        {
         "alignmentgroup": "True",
         "bingroup": "x",
         "hovertemplate": "fraud_reported=Y<br>collision_type=%{x}<br>count=%{y}<extra></extra>",
         "legendgroup": "Y",
         "marker": {
          "color": "#636efa",
          "pattern": {
           "shape": ""
          }
         },
         "name": "Y",
         "offsetgroup": "Y",
         "orientation": "v",
         "showlegend": true,
         "type": "histogram",
         "x": [
          "Side Collision",
          "?",
          "Front Collision",
          "Rear Collision",
          "Rear Collision",
          "Side Collision",
          "Rear Collision",
          "Front Collision",
          "Rear Collision",
          "?",
          "Side Collision",
          "Front Collision",
          "Rear Collision",
          "Front Collision",
          "Side Collision",
          "Front Collision",
          "Rear Collision",
          "Front Collision",
          "Rear Collision",
          "Front Collision",
          "Side Collision",
          "Side Collision",
          "Front Collision",
          "Rear Collision",
          "Side Collision",
          "Side Collision",
          "Side Collision",
          "Side Collision",
          "Rear Collision",
          "Rear Collision",
          "Front Collision",
          "Rear Collision",
          "Front Collision",
          "Side Collision",
          "Side Collision",
          "Front Collision",
          "Front Collision",
          "Front Collision",
          "Front Collision",
          "Rear Collision",
          "Rear Collision",
          "Front Collision",
          "Side Collision",
          "Rear Collision",
          "Side Collision",
          "Rear Collision",
          "Rear Collision",
          "Front Collision",
          "Front Collision",
          "Rear Collision",
          "Rear Collision",
          "Rear Collision",
          "Front Collision",
          "Rear Collision",
          "?",
          "Rear Collision",
          "Side Collision",
          "Side Collision",
          "Side Collision",
          "Rear Collision",
          "Front Collision",
          "Front Collision",
          "Front Collision",
          "Rear Collision",
          "Front Collision",
          "Rear Collision",
          "Rear Collision",
          "Rear Collision",
          "Side Collision",
          "Side Collision",
          "Rear Collision",
          "Side Collision",
          "Rear Collision",
          "Front Collision",
          "Rear Collision",
          "Side Collision",
          "Front Collision",
          "Rear Collision",
          "Side Collision",
          "?",
          "Rear Collision",
          "Rear Collision",
          "Rear Collision",
          "Rear Collision",
          "Front Collision",
          "Side Collision",
          "Rear Collision",
          "Rear Collision",
          "Front Collision",
          "Side Collision",
          "Rear Collision",
          "Side Collision",
          "Front Collision",
          "Front Collision",
          "Side Collision",
          "Rear Collision",
          "Rear Collision",
          "Front Collision",
          "Rear Collision",
          "Side Collision",
          "Rear Collision",
          "Rear Collision",
          "Side Collision",
          "?",
          "?",
          "Side Collision",
          "?",
          "Front Collision",
          "Rear Collision",
          "Rear Collision",
          "Rear Collision",
          "Rear Collision",
          "Front Collision",
          "Front Collision",
          "Side Collision",
          "Rear Collision",
          "Front Collision",
          "?",
          "Side Collision",
          "Rear Collision",
          "Side Collision",
          "Rear Collision",
          "Front Collision",
          "Front Collision",
          "?",
          "Rear Collision",
          "Side Collision",
          "?",
          "Front Collision",
          "Front Collision",
          "Front Collision",
          "Rear Collision",
          "Front Collision",
          "Rear Collision",
          "Side Collision",
          "Front Collision",
          "Front Collision",
          "Side Collision",
          "?",
          "Front Collision",
          "Side Collision",
          "?",
          "Rear Collision",
          "Side Collision",
          "Front Collision",
          "Front Collision",
          "Rear Collision",
          "Side Collision",
          "Rear Collision",
          "Side Collision",
          "Front Collision",
          "Rear Collision",
          "Side Collision",
          "?",
          "Side Collision",
          "Rear Collision",
          "Side Collision",
          "Side Collision",
          "Rear Collision",
          "Front Collision",
          "Side Collision",
          "Rear Collision",
          "?",
          "Side Collision",
          "Side Collision",
          "Side Collision",
          "Side Collision",
          "Front Collision",
          "Front Collision",
          "Front Collision",
          "Side Collision",
          "Rear Collision",
          "Front Collision",
          "Front Collision",
          "Front Collision",
          "Front Collision",
          "Rear Collision",
          "Rear Collision",
          "Rear Collision",
          "Side Collision",
          "Rear Collision",
          "Rear Collision",
          "Front Collision",
          "Side Collision",
          "Side Collision",
          "Rear Collision",
          "Rear Collision",
          "Side Collision",
          "Rear Collision",
          "Side Collision",
          "Front Collision",
          "Side Collision",
          "Front Collision",
          "Rear Collision",
          "Rear Collision",
          "Rear Collision",
          "Rear Collision",
          "Front Collision",
          "Front Collision",
          "Front Collision",
          "Front Collision",
          "Rear Collision",
          "Rear Collision",
          "Rear Collision",
          "Rear Collision",
          "Front Collision",
          "Rear Collision",
          "Front Collision",
          "Side Collision",
          "Rear Collision",
          "?",
          "Side Collision",
          "Front Collision",
          "Side Collision",
          "Side Collision",
          "Side Collision",
          "Rear Collision",
          "Front Collision",
          "Rear Collision",
          "Side Collision",
          "Side Collision",
          "Rear Collision",
          "Front Collision",
          "Rear Collision",
          "Side Collision",
          "Front Collision",
          "Side Collision",
          "Rear Collision",
          "Rear Collision",
          "Rear Collision",
          "Front Collision",
          "Front Collision",
          "Side Collision",
          "Rear Collision",
          "Side Collision",
          "Front Collision",
          "Rear Collision",
          "Side Collision",
          "?",
          "Rear Collision",
          "Rear Collision",
          "Rear Collision",
          "Side Collision",
          "Side Collision",
          "Front Collision",
          "Rear Collision",
          "Side Collision"
         ],
         "xaxis": "x",
         "yaxis": "y"
        },
        {
         "alignmentgroup": "True",
         "bingroup": "x",
         "hovertemplate": "fraud_reported=N<br>collision_type=%{x}<br>count=%{y}<extra></extra>",
         "legendgroup": "N",
         "marker": {
          "color": "#EF553B",
          "pattern": {
           "shape": ""
          }
         },
         "name": "N",
         "offsetgroup": "N",
         "orientation": "v",
         "showlegend": true,
         "type": "histogram",
         "x": [
          "Rear Collision",
          "?",
          "Front Collision",
          "Front Collision",
          "Front Collision",
          "Rear Collision",
          "Front Collision",
          "Front Collision",
          "Rear Collision",
          "?",
          "Rear Collision",
          "Side Collision",
          "Side Collision",
          "Side Collision",
          "Rear Collision",
          "Side Collision",
          "Rear Collision",
          "?",
          "Side Collision",
          "Rear Collision",
          "Side Collision",
          "Front Collision",
          "Front Collision",
          "Side Collision",
          "?",
          "Rear Collision",
          "Rear Collision",
          "Side Collision",
          "Rear Collision",
          "Front Collision",
          "Rear Collision",
          "Rear Collision",
          "?",
          "Rear Collision",
          "Front Collision",
          "?",
          "?",
          "Side Collision",
          "?",
          "Rear Collision",
          "Front Collision",
          "?",
          "Front Collision",
          "Side Collision",
          "Side Collision",
          "Side Collision",
          "Side Collision",
          "Front Collision",
          "?",
          "Rear Collision",
          "Rear Collision",
          "Side Collision",
          "Front Collision",
          "Front Collision",
          "Front Collision",
          "?",
          "Side Collision",
          "?",
          "?",
          "?",
          "Front Collision",
          "Front Collision",
          "Side Collision",
          "?",
          "Front Collision",
          "?",
          "Front Collision",
          "Rear Collision",
          "?",
          "?",
          "?",
          "Rear Collision",
          "Side Collision",
          "Front Collision",
          "?",
          "Side Collision",
          "?",
          "Front Collision",
          "Rear Collision",
          "Rear Collision",
          "Side Collision",
          "?",
          "Rear Collision",
          "Rear Collision",
          "Rear Collision",
          "Side Collision",
          "Front Collision",
          "Rear Collision",
          "Rear Collision",
          "Side Collision",
          "?",
          "Front Collision",
          "Front Collision",
          "Front Collision",
          "Side Collision",
          "Side Collision",
          "?",
          "Rear Collision",
          "Rear Collision",
          "Front Collision",
          "Rear Collision",
          "?",
          "?",
          "Rear Collision",
          "Front Collision",
          "Side Collision",
          "Rear Collision",
          "Rear Collision",
          "Rear Collision",
          "?",
          "Front Collision",
          "?",
          "?",
          "Front Collision",
          "Side Collision",
          "Rear Collision",
          "Side Collision",
          "Front Collision",
          "?",
          "?",
          "Rear Collision",
          "Rear Collision",
          "Front Collision",
          "?",
          "Rear Collision",
          "Front Collision",
          "Rear Collision",
          "Front Collision",
          "?",
          "Side Collision",
          "Side Collision",
          "Side Collision",
          "Front Collision",
          "Front Collision",
          "?",
          "Rear Collision",
          "?",
          "Side Collision",
          "Front Collision",
          "?",
          "Rear Collision",
          "Side Collision",
          "?",
          "Front Collision",
          "?",
          "?",
          "Rear Collision",
          "?",
          "Rear Collision",
          "Rear Collision",
          "Rear Collision",
          "Side Collision",
          "Side Collision",
          "?",
          "?",
          "?",
          "Side Collision",
          "Front Collision",
          "?",
          "Side Collision",
          "Front Collision",
          "Side Collision",
          "Side Collision",
          "Side Collision",
          "Front Collision",
          "Rear Collision",
          "Front Collision",
          "Rear Collision",
          "Side Collision",
          "Side Collision",
          "Side Collision",
          "Rear Collision",
          "Side Collision",
          "Front Collision",
          "Side Collision",
          "Front Collision",
          "Front Collision",
          "?",
          "Rear Collision",
          "?",
          "Side Collision",
          "?",
          "Rear Collision",
          "?",
          "Side Collision",
          "Side Collision",
          "?",
          "?",
          "Side Collision",
          "Side Collision",
          "?",
          "Rear Collision",
          "Rear Collision",
          "Front Collision",
          "Rear Collision",
          "?",
          "Rear Collision",
          "Front Collision",
          "Front Collision",
          "Side Collision",
          "Side Collision",
          "Side Collision",
          "?",
          "Side Collision",
          "Front Collision",
          "Rear Collision",
          "?",
          "?",
          "Side Collision",
          "Front Collision",
          "Side Collision",
          "Side Collision",
          "Front Collision",
          "?",
          "?",
          "Rear Collision",
          "?",
          "Side Collision",
          "Rear Collision",
          "?",
          "Rear Collision",
          "Rear Collision",
          "Side Collision",
          "Side Collision",
          "Side Collision",
          "Side Collision",
          "Rear Collision",
          "Side Collision",
          "Side Collision",
          "Rear Collision",
          "Front Collision",
          "Rear Collision",
          "Front Collision",
          "Rear Collision",
          "Side Collision",
          "Front Collision",
          "Rear Collision",
          "Side Collision",
          "?",
          "?",
          "Side Collision",
          "Rear Collision",
          "Side Collision",
          "Rear Collision",
          "Front Collision",
          "Front Collision",
          "Rear Collision",
          "?",
          "Side Collision",
          "Rear Collision",
          "Front Collision",
          "Side Collision",
          "Side Collision",
          "Rear Collision",
          "Front Collision",
          "Front Collision",
          "Rear Collision",
          "Side Collision",
          "Side Collision",
          "Side Collision",
          "?",
          "?",
          "Front Collision",
          "Rear Collision",
          "Front Collision",
          "Side Collision",
          "Front Collision",
          "Side Collision",
          "Front Collision",
          "Rear Collision",
          "Side Collision",
          "Side Collision",
          "Side Collision",
          "Front Collision",
          "Front Collision",
          "Front Collision",
          "Side Collision",
          "Front Collision",
          "Side Collision",
          "Front Collision",
          "Rear Collision",
          "Side Collision",
          "Rear Collision",
          "Front Collision",
          "?",
          "Side Collision",
          "Front Collision",
          "?",
          "Rear Collision",
          "Front Collision",
          "Front Collision",
          "Side Collision",
          "Side Collision",
          "Rear Collision",
          "Side Collision",
          "Rear Collision",
          "?",
          "?",
          "?",
          "Front Collision",
          "Front Collision",
          "?",
          "Front Collision",
          "Rear Collision",
          "Rear Collision",
          "?",
          "Side Collision",
          "Rear Collision",
          "Front Collision",
          "Front Collision",
          "Side Collision",
          "Front Collision",
          "Side Collision",
          "Front Collision",
          "Front Collision",
          "Side Collision",
          "Front Collision",
          "Rear Collision",
          "Side Collision",
          "Side Collision",
          "?",
          "?",
          "Rear Collision",
          "Front Collision",
          "?",
          "?",
          "Rear Collision",
          "Front Collision",
          "Front Collision",
          "Rear Collision",
          "Rear Collision",
          "Side Collision",
          "?",
          "Rear Collision",
          "Side Collision",
          "Front Collision",
          "?",
          "Side Collision",
          "Side Collision",
          "Side Collision",
          "Side Collision",
          "Front Collision",
          "Rear Collision",
          "Side Collision",
          "Side Collision",
          "Front Collision",
          "Side Collision",
          "Front Collision",
          "Side Collision",
          "?",
          "Side Collision",
          "Rear Collision",
          "Rear Collision",
          "Rear Collision",
          "Rear Collision",
          "Front Collision",
          "Rear Collision",
          "Rear Collision",
          "Side Collision",
          "?",
          "Front Collision",
          "Side Collision",
          "Rear Collision",
          "Rear Collision",
          "?",
          "Rear Collision",
          "Side Collision",
          "Side Collision",
          "Side Collision",
          "Side Collision",
          "Front Collision",
          "Rear Collision",
          "Rear Collision",
          "Front Collision",
          "Front Collision",
          "Rear Collision",
          "Rear Collision",
          "?",
          "Rear Collision",
          "Rear Collision",
          "Side Collision",
          "Front Collision",
          "Rear Collision",
          "?",
          "Front Collision",
          "Rear Collision",
          "Rear Collision",
          "Rear Collision",
          "?",
          "?",
          "Side Collision",
          "?",
          "Front Collision",
          "Front Collision",
          "Front Collision",
          "Front Collision",
          "?",
          "Rear Collision",
          "Front Collision",
          "Side Collision",
          "Front Collision",
          "Front Collision",
          "?",
          "Rear Collision",
          "Rear Collision",
          "Front Collision",
          "Side Collision",
          "?",
          "Rear Collision",
          "Side Collision",
          "Rear Collision",
          "?",
          "Side Collision",
          "?",
          "?",
          "Rear Collision",
          "Side Collision",
          "Front Collision",
          "Rear Collision",
          "Rear Collision",
          "Side Collision",
          "Rear Collision",
          "Rear Collision",
          "Front Collision",
          "Rear Collision",
          "Side Collision",
          "Side Collision",
          "Front Collision",
          "Front Collision",
          "Rear Collision",
          "Front Collision",
          "Side Collision",
          "Front Collision",
          "Rear Collision",
          "?",
          "?",
          "?",
          "Front Collision",
          "Side Collision",
          "Side Collision",
          "Rear Collision",
          "Side Collision",
          "Rear Collision",
          "?",
          "Front Collision",
          "Front Collision",
          "Front Collision",
          "?",
          "Side Collision",
          "Rear Collision",
          "Side Collision",
          "?",
          "Front Collision",
          "Front Collision",
          "Rear Collision",
          "Front Collision",
          "Rear Collision",
          "Front Collision",
          "?",
          "Side Collision",
          "Front Collision",
          "Rear Collision",
          "Front Collision",
          "Side Collision",
          "?",
          "?",
          "Front Collision",
          "Side Collision",
          "?",
          "Front Collision",
          "Rear Collision",
          "Front Collision",
          "Side Collision",
          "?",
          "?",
          "Side Collision",
          "Side Collision",
          "Rear Collision",
          "Rear Collision",
          "Front Collision",
          "Rear Collision",
          "Front Collision",
          "Side Collision",
          "?",
          "Front Collision",
          "Side Collision",
          "Side Collision",
          "Side Collision",
          "?",
          "Rear Collision",
          "Front Collision",
          "Front Collision",
          "Side Collision",
          "Front Collision",
          "Side Collision",
          "Side Collision",
          "Rear Collision",
          "Rear Collision",
          "Rear Collision",
          "Rear Collision",
          "Front Collision",
          "Rear Collision",
          "Rear Collision",
          "?",
          "?",
          "Front Collision",
          "?",
          "Front Collision",
          "Side Collision",
          "Front Collision",
          "?",
          "?",
          "Rear Collision",
          "?",
          "Rear Collision",
          "Side Collision",
          "Side Collision",
          "Front Collision",
          "?",
          "Side Collision",
          "Rear Collision",
          "?",
          "Rear Collision",
          "Rear Collision",
          "?",
          "?",
          "Rear Collision",
          "?",
          "Front Collision",
          "Front Collision",
          "Side Collision",
          "Front Collision",
          "?",
          "Front Collision",
          "?",
          "?",
          "Side Collision",
          "Rear Collision",
          "?",
          "Side Collision",
          "Side Collision",
          "Front Collision",
          "Rear Collision",
          "Side Collision",
          "Front Collision",
          "Rear Collision",
          "Front Collision",
          "Front Collision",
          "?",
          "Rear Collision",
          "Rear Collision",
          "Side Collision",
          "Side Collision",
          "Side Collision",
          "Side Collision",
          "?",
          "Side Collision",
          "Rear Collision",
          "Rear Collision",
          "Side Collision",
          "Side Collision",
          "Rear Collision",
          "Rear Collision",
          "Front Collision",
          "Front Collision",
          "Side Collision",
          "Rear Collision",
          "Rear Collision",
          "Rear Collision",
          "Front Collision",
          "Rear Collision",
          "Side Collision",
          "Front Collision",
          "Side Collision",
          "Front Collision",
          "Rear Collision",
          "Side Collision",
          "?",
          "Front Collision",
          "Rear Collision",
          "Front Collision",
          "Rear Collision",
          "Front Collision",
          "Front Collision",
          "?",
          "?",
          "Rear Collision",
          "Front Collision",
          "Rear Collision",
          "?",
          "Rear Collision",
          "Side Collision",
          "Front Collision",
          "Side Collision",
          "Side Collision",
          "Side Collision",
          "?",
          "Rear Collision",
          "Rear Collision",
          "Front Collision",
          "?",
          "Rear Collision",
          "Side Collision",
          "Rear Collision",
          "Side Collision",
          "Side Collision",
          "?",
          "?",
          "Front Collision",
          "Rear Collision",
          "Side Collision",
          "?",
          "Side Collision",
          "?",
          "Side Collision",
          "Front Collision",
          "Rear Collision",
          "Front Collision",
          "Front Collision",
          "Side Collision",
          "Rear Collision",
          "Side Collision",
          "?",
          "Rear Collision",
          "?",
          "?",
          "Rear Collision",
          "Rear Collision",
          "?",
          "Rear Collision",
          "?",
          "Side Collision",
          "Side Collision",
          "Side Collision",
          "?",
          "Side Collision",
          "Side Collision",
          "Front Collision",
          "Side Collision",
          "Rear Collision",
          "Side Collision",
          "Front Collision",
          "Side Collision",
          "Side Collision",
          "Rear Collision",
          "Side Collision",
          "Rear Collision",
          "Front Collision",
          "Front Collision",
          "Front Collision",
          "Rear Collision",
          "Front Collision",
          "?",
          "Rear Collision",
          "Side Collision",
          "?",
          "Front Collision",
          "Front Collision",
          "Rear Collision",
          "Front Collision",
          "Rear Collision",
          "Front Collision",
          "?",
          "Rear Collision",
          "Side Collision",
          "Side Collision",
          "Rear Collision",
          "?",
          "?",
          "?",
          "?",
          "Front Collision",
          "Rear Collision",
          "?",
          "Side Collision",
          "Side Collision",
          "Side Collision",
          "Side Collision",
          "Side Collision",
          "Rear Collision",
          "Front Collision",
          "?",
          "Rear Collision",
          "Side Collision",
          "Front Collision",
          "Side Collision",
          "Front Collision",
          "?",
          "Side Collision",
          "Front Collision",
          "Rear Collision",
          "Rear Collision",
          "?",
          "Rear Collision",
          "Rear Collision",
          "?",
          "?",
          "Side Collision",
          "Side Collision",
          "Side Collision",
          "Rear Collision",
          "Front Collision",
          "Front Collision",
          "?",
          "Side Collision",
          "?",
          "Front Collision",
          "Side Collision",
          "Front Collision",
          "Side Collision",
          "Front Collision",
          "Side Collision",
          "?",
          "Side Collision",
          "Front Collision",
          "?",
          "Rear Collision",
          "Side Collision",
          "Side Collision",
          "Rear Collision",
          "Front Collision",
          "?",
          "Rear Collision",
          "?",
          "Rear Collision",
          "?",
          "Front Collision",
          "Rear Collision",
          "Side Collision",
          "?",
          "Side Collision",
          "Front Collision",
          "Rear Collision",
          "Side Collision",
          "Front Collision",
          "Rear Collision",
          "Rear Collision",
          "Front Collision",
          "?",
          "Side Collision",
          "Side Collision",
          "Rear Collision",
          "Rear Collision",
          "Rear Collision",
          "Rear Collision",
          "Front Collision",
          "Side Collision",
          "?",
          "Front Collision",
          "Rear Collision",
          "Side Collision",
          "Rear Collision",
          "?"
         ],
         "xaxis": "x",
         "yaxis": "y"
        }
       ],
       "layout": {
        "barmode": "relative",
        "legend": {
         "title": {
          "text": "fraud_reported"
         },
         "tracegroupgap": 0
        },
        "margin": {
         "t": 60
        },
        "template": {
         "data": {
          "bar": [
           {
            "error_x": {
             "color": "#2a3f5f"
            },
            "error_y": {
             "color": "#2a3f5f"
            },
            "marker": {
             "line": {
              "color": "#E5ECF6",
              "width": 0.5
             },
             "pattern": {
              "fillmode": "overlay",
              "size": 10,
              "solidity": 0.2
             }
            },
            "type": "bar"
           }
          ],
          "barpolar": [
           {
            "marker": {
             "line": {
              "color": "#E5ECF6",
              "width": 0.5
             },
             "pattern": {
              "fillmode": "overlay",
              "size": 10,
              "solidity": 0.2
             }
            },
            "type": "barpolar"
           }
          ],
          "carpet": [
           {
            "aaxis": {
             "endlinecolor": "#2a3f5f",
             "gridcolor": "white",
             "linecolor": "white",
             "minorgridcolor": "white",
             "startlinecolor": "#2a3f5f"
            },
            "baxis": {
             "endlinecolor": "#2a3f5f",
             "gridcolor": "white",
             "linecolor": "white",
             "minorgridcolor": "white",
             "startlinecolor": "#2a3f5f"
            },
            "type": "carpet"
           }
          ],
          "choropleth": [
           {
            "colorbar": {
             "outlinewidth": 0,
             "ticks": ""
            },
            "type": "choropleth"
           }
          ],
          "contour": [
           {
            "colorbar": {
             "outlinewidth": 0,
             "ticks": ""
            },
            "colorscale": [
             [
              0,
              "#0d0887"
             ],
             [
              0.1111111111111111,
              "#46039f"
             ],
             [
              0.2222222222222222,
              "#7201a8"
             ],
             [
              0.3333333333333333,
              "#9c179e"
             ],
             [
              0.4444444444444444,
              "#bd3786"
             ],
             [
              0.5555555555555556,
              "#d8576b"
             ],
             [
              0.6666666666666666,
              "#ed7953"
             ],
             [
              0.7777777777777778,
              "#fb9f3a"
             ],
             [
              0.8888888888888888,
              "#fdca26"
             ],
             [
              1,
              "#f0f921"
             ]
            ],
            "type": "contour"
           }
          ],
          "contourcarpet": [
           {
            "colorbar": {
             "outlinewidth": 0,
             "ticks": ""
            },
            "type": "contourcarpet"
           }
          ],
          "heatmap": [
           {
            "colorbar": {
             "outlinewidth": 0,
             "ticks": ""
            },
            "colorscale": [
             [
              0,
              "#0d0887"
             ],
             [
              0.1111111111111111,
              "#46039f"
             ],
             [
              0.2222222222222222,
              "#7201a8"
             ],
             [
              0.3333333333333333,
              "#9c179e"
             ],
             [
              0.4444444444444444,
              "#bd3786"
             ],
             [
              0.5555555555555556,
              "#d8576b"
             ],
             [
              0.6666666666666666,
              "#ed7953"
             ],
             [
              0.7777777777777778,
              "#fb9f3a"
             ],
             [
              0.8888888888888888,
              "#fdca26"
             ],
             [
              1,
              "#f0f921"
             ]
            ],
            "type": "heatmap"
           }
          ],
          "heatmapgl": [
           {
            "colorbar": {
             "outlinewidth": 0,
             "ticks": ""
            },
            "colorscale": [
             [
              0,
              "#0d0887"
             ],
             [
              0.1111111111111111,
              "#46039f"
             ],
             [
              0.2222222222222222,
              "#7201a8"
             ],
             [
              0.3333333333333333,
              "#9c179e"
             ],
             [
              0.4444444444444444,
              "#bd3786"
             ],
             [
              0.5555555555555556,
              "#d8576b"
             ],
             [
              0.6666666666666666,
              "#ed7953"
             ],
             [
              0.7777777777777778,
              "#fb9f3a"
             ],
             [
              0.8888888888888888,
              "#fdca26"
             ],
             [
              1,
              "#f0f921"
             ]
            ],
            "type": "heatmapgl"
           }
          ],
          "histogram": [
           {
            "marker": {
             "pattern": {
              "fillmode": "overlay",
              "size": 10,
              "solidity": 0.2
             }
            },
            "type": "histogram"
           }
          ],
          "histogram2d": [
           {
            "colorbar": {
             "outlinewidth": 0,
             "ticks": ""
            },
            "colorscale": [
             [
              0,
              "#0d0887"
             ],
             [
              0.1111111111111111,
              "#46039f"
             ],
             [
              0.2222222222222222,
              "#7201a8"
             ],
             [
              0.3333333333333333,
              "#9c179e"
             ],
             [
              0.4444444444444444,
              "#bd3786"
             ],
             [
              0.5555555555555556,
              "#d8576b"
             ],
             [
              0.6666666666666666,
              "#ed7953"
             ],
             [
              0.7777777777777778,
              "#fb9f3a"
             ],
             [
              0.8888888888888888,
              "#fdca26"
             ],
             [
              1,
              "#f0f921"
             ]
            ],
            "type": "histogram2d"
           }
          ],
          "histogram2dcontour": [
           {
            "colorbar": {
             "outlinewidth": 0,
             "ticks": ""
            },
            "colorscale": [
             [
              0,
              "#0d0887"
             ],
             [
              0.1111111111111111,
              "#46039f"
             ],
             [
              0.2222222222222222,
              "#7201a8"
             ],
             [
              0.3333333333333333,
              "#9c179e"
             ],
             [
              0.4444444444444444,
              "#bd3786"
             ],
             [
              0.5555555555555556,
              "#d8576b"
             ],
             [
              0.6666666666666666,
              "#ed7953"
             ],
             [
              0.7777777777777778,
              "#fb9f3a"
             ],
             [
              0.8888888888888888,
              "#fdca26"
             ],
             [
              1,
              "#f0f921"
             ]
            ],
            "type": "histogram2dcontour"
           }
          ],
          "mesh3d": [
           {
            "colorbar": {
             "outlinewidth": 0,
             "ticks": ""
            },
            "type": "mesh3d"
           }
          ],
          "parcoords": [
           {
            "line": {
             "colorbar": {
              "outlinewidth": 0,
              "ticks": ""
             }
            },
            "type": "parcoords"
           }
          ],
          "pie": [
           {
            "automargin": true,
            "type": "pie"
           }
          ],
          "scatter": [
           {
            "marker": {
             "colorbar": {
              "outlinewidth": 0,
              "ticks": ""
             }
            },
            "type": "scatter"
           }
          ],
          "scatter3d": [
           {
            "line": {
             "colorbar": {
              "outlinewidth": 0,
              "ticks": ""
             }
            },
            "marker": {
             "colorbar": {
              "outlinewidth": 0,
              "ticks": ""
             }
            },
            "type": "scatter3d"
           }
          ],
          "scattercarpet": [
           {
            "marker": {
             "colorbar": {
              "outlinewidth": 0,
              "ticks": ""
             }
            },
            "type": "scattercarpet"
           }
          ],
          "scattergeo": [
           {
            "marker": {
             "colorbar": {
              "outlinewidth": 0,
              "ticks": ""
             }
            },
            "type": "scattergeo"
           }
          ],
          "scattergl": [
           {
            "marker": {
             "colorbar": {
              "outlinewidth": 0,
              "ticks": ""
             }
            },
            "type": "scattergl"
           }
          ],
          "scattermapbox": [
           {
            "marker": {
             "colorbar": {
              "outlinewidth": 0,
              "ticks": ""
             }
            },
            "type": "scattermapbox"
           }
          ],
          "scatterpolar": [
           {
            "marker": {
             "colorbar": {
              "outlinewidth": 0,
              "ticks": ""
             }
            },
            "type": "scatterpolar"
           }
          ],
          "scatterpolargl": [
           {
            "marker": {
             "colorbar": {
              "outlinewidth": 0,
              "ticks": ""
             }
            },
            "type": "scatterpolargl"
           }
          ],
          "scatterternary": [
           {
            "marker": {
             "colorbar": {
              "outlinewidth": 0,
              "ticks": ""
             }
            },
            "type": "scatterternary"
           }
          ],
          "surface": [
           {
            "colorbar": {
             "outlinewidth": 0,
             "ticks": ""
            },
            "colorscale": [
             [
              0,
              "#0d0887"
             ],
             [
              0.1111111111111111,
              "#46039f"
             ],
             [
              0.2222222222222222,
              "#7201a8"
             ],
             [
              0.3333333333333333,
              "#9c179e"
             ],
             [
              0.4444444444444444,
              "#bd3786"
             ],
             [
              0.5555555555555556,
              "#d8576b"
             ],
             [
              0.6666666666666666,
              "#ed7953"
             ],
             [
              0.7777777777777778,
              "#fb9f3a"
             ],
             [
              0.8888888888888888,
              "#fdca26"
             ],
             [
              1,
              "#f0f921"
             ]
            ],
            "type": "surface"
           }
          ],
          "table": [
           {
            "cells": {
             "fill": {
              "color": "#EBF0F8"
             },
             "line": {
              "color": "white"
             }
            },
            "header": {
             "fill": {
              "color": "#C8D4E3"
             },
             "line": {
              "color": "white"
             }
            },
            "type": "table"
           }
          ]
         },
         "layout": {
          "annotationdefaults": {
           "arrowcolor": "#2a3f5f",
           "arrowhead": 0,
           "arrowwidth": 1
          },
          "autotypenumbers": "strict",
          "coloraxis": {
           "colorbar": {
            "outlinewidth": 0,
            "ticks": ""
           }
          },
          "colorscale": {
           "diverging": [
            [
             0,
             "#8e0152"
            ],
            [
             0.1,
             "#c51b7d"
            ],
            [
             0.2,
             "#de77ae"
            ],
            [
             0.3,
             "#f1b6da"
            ],
            [
             0.4,
             "#fde0ef"
            ],
            [
             0.5,
             "#f7f7f7"
            ],
            [
             0.6,
             "#e6f5d0"
            ],
            [
             0.7,
             "#b8e186"
            ],
            [
             0.8,
             "#7fbc41"
            ],
            [
             0.9,
             "#4d9221"
            ],
            [
             1,
             "#276419"
            ]
           ],
           "sequential": [
            [
             0,
             "#0d0887"
            ],
            [
             0.1111111111111111,
             "#46039f"
            ],
            [
             0.2222222222222222,
             "#7201a8"
            ],
            [
             0.3333333333333333,
             "#9c179e"
            ],
            [
             0.4444444444444444,
             "#bd3786"
            ],
            [
             0.5555555555555556,
             "#d8576b"
            ],
            [
             0.6666666666666666,
             "#ed7953"
            ],
            [
             0.7777777777777778,
             "#fb9f3a"
            ],
            [
             0.8888888888888888,
             "#fdca26"
            ],
            [
             1,
             "#f0f921"
            ]
           ],
           "sequentialminus": [
            [
             0,
             "#0d0887"
            ],
            [
             0.1111111111111111,
             "#46039f"
            ],
            [
             0.2222222222222222,
             "#7201a8"
            ],
            [
             0.3333333333333333,
             "#9c179e"
            ],
            [
             0.4444444444444444,
             "#bd3786"
            ],
            [
             0.5555555555555556,
             "#d8576b"
            ],
            [
             0.6666666666666666,
             "#ed7953"
            ],
            [
             0.7777777777777778,
             "#fb9f3a"
            ],
            [
             0.8888888888888888,
             "#fdca26"
            ],
            [
             1,
             "#f0f921"
            ]
           ]
          },
          "colorway": [
           "#636efa",
           "#EF553B",
           "#00cc96",
           "#ab63fa",
           "#FFA15A",
           "#19d3f3",
           "#FF6692",
           "#B6E880",
           "#FF97FF",
           "#FECB52"
          ],
          "font": {
           "color": "#2a3f5f"
          },
          "geo": {
           "bgcolor": "white",
           "lakecolor": "white",
           "landcolor": "#E5ECF6",
           "showlakes": true,
           "showland": true,
           "subunitcolor": "white"
          },
          "hoverlabel": {
           "align": "left"
          },
          "hovermode": "closest",
          "mapbox": {
           "style": "light"
          },
          "paper_bgcolor": "white",
          "plot_bgcolor": "#E5ECF6",
          "polar": {
           "angularaxis": {
            "gridcolor": "white",
            "linecolor": "white",
            "ticks": ""
           },
           "bgcolor": "#E5ECF6",
           "radialaxis": {
            "gridcolor": "white",
            "linecolor": "white",
            "ticks": ""
           }
          },
          "scene": {
           "xaxis": {
            "backgroundcolor": "#E5ECF6",
            "gridcolor": "white",
            "gridwidth": 2,
            "linecolor": "white",
            "showbackground": true,
            "ticks": "",
            "zerolinecolor": "white"
           },
           "yaxis": {
            "backgroundcolor": "#E5ECF6",
            "gridcolor": "white",
            "gridwidth": 2,
            "linecolor": "white",
            "showbackground": true,
            "ticks": "",
            "zerolinecolor": "white"
           },
           "zaxis": {
            "backgroundcolor": "#E5ECF6",
            "gridcolor": "white",
            "gridwidth": 2,
            "linecolor": "white",
            "showbackground": true,
            "ticks": "",
            "zerolinecolor": "white"
           }
          },
          "shapedefaults": {
           "line": {
            "color": "#2a3f5f"
           }
          },
          "ternary": {
           "aaxis": {
            "gridcolor": "white",
            "linecolor": "white",
            "ticks": ""
           },
           "baxis": {
            "gridcolor": "white",
            "linecolor": "white",
            "ticks": ""
           },
           "bgcolor": "#E5ECF6",
           "caxis": {
            "gridcolor": "white",
            "linecolor": "white",
            "ticks": ""
           }
          },
          "title": {
           "x": 0.05
          },
          "xaxis": {
           "automargin": true,
           "gridcolor": "white",
           "linecolor": "white",
           "ticks": "",
           "title": {
            "standoff": 15
           },
           "zerolinecolor": "white",
           "zerolinewidth": 2
          },
          "yaxis": {
           "automargin": true,
           "gridcolor": "white",
           "linecolor": "white",
           "ticks": "",
           "title": {
            "standoff": 15
           },
           "zerolinecolor": "white",
           "zerolinewidth": 2
          }
         }
        },
        "xaxis": {
         "anchor": "y",
         "domain": [
          0,
          1
         ],
         "title": {
          "text": "collision_type"
         }
        },
        "yaxis": {
         "anchor": "x",
         "domain": [
          0,
          1
         ],
         "title": {
          "text": "count"
         }
        }
       }
      }
     },
     "metadata": {},
     "output_type": "display_data"
    }
   ],
   "source": [
    "fig = px.histogram(df, x=\"collision_type\", color=\"fraud_reported\")\n",
    "fig.show()"
   ]
  },
  {
   "cell_type": "code",
   "execution_count": 208,
   "metadata": {},
   "outputs": [
    {
     "data": {
      "application/vnd.plotly.v1+json": {
       "config": {
        "plotlyServerURL": "https://plot.ly"
       },
       "data": [
        {
         "alignmentgroup": "True",
         "bingroup": "x",
         "hovertemplate": "fraud_reported=Y<br>incident_severity=%{x}<br>count=%{y}<extra></extra>",
         "legendgroup": "Y",
         "marker": {
          "color": "#636efa",
          "pattern": {
           "shape": ""
          }
         },
         "name": "Y",
         "offsetgroup": "Y",
         "orientation": "v",
         "showlegend": true,
         "type": "histogram",
         "x": [
          "Major Damage",
          "Minor Damage",
          "Major Damage",
          "Major Damage",
          "Total Loss",
          "Major Damage",
          "Major Damage",
          "Total Loss",
          "Major Damage",
          "Minor Damage",
          "Major Damage",
          "Major Damage",
          "Total Loss",
          "Major Damage",
          "Major Damage",
          "Major Damage",
          "Major Damage",
          "Major Damage",
          "Total Loss",
          "Minor Damage",
          "Minor Damage",
          "Major Damage",
          "Total Loss",
          "Major Damage",
          "Major Damage",
          "Major Damage",
          "Major Damage",
          "Major Damage",
          "Minor Damage",
          "Major Damage",
          "Major Damage",
          "Major Damage",
          "Major Damage",
          "Total Loss",
          "Major Damage",
          "Major Damage",
          "Major Damage",
          "Major Damage",
          "Major Damage",
          "Major Damage",
          "Major Damage",
          "Major Damage",
          "Major Damage",
          "Major Damage",
          "Major Damage",
          "Total Loss",
          "Minor Damage",
          "Major Damage",
          "Major Damage",
          "Major Damage",
          "Total Loss",
          "Minor Damage",
          "Total Loss",
          "Major Damage",
          "Trivial Damage",
          "Total Loss",
          "Major Damage",
          "Total Loss",
          "Minor Damage",
          "Total Loss",
          "Major Damage",
          "Major Damage",
          "Major Damage",
          "Total Loss",
          "Major Damage",
          "Major Damage",
          "Total Loss",
          "Total Loss",
          "Major Damage",
          "Major Damage",
          "Major Damage",
          "Major Damage",
          "Major Damage",
          "Major Damage",
          "Major Damage",
          "Major Damage",
          "Major Damage",
          "Minor Damage",
          "Major Damage",
          "Trivial Damage",
          "Major Damage",
          "Major Damage",
          "Major Damage",
          "Minor Damage",
          "Major Damage",
          "Major Damage",
          "Total Loss",
          "Major Damage",
          "Major Damage",
          "Major Damage",
          "Major Damage",
          "Major Damage",
          "Major Damage",
          "Major Damage",
          "Total Loss",
          "Major Damage",
          "Total Loss",
          "Major Damage",
          "Major Damage",
          "Major Damage",
          "Major Damage",
          "Major Damage",
          "Major Damage",
          "Minor Damage",
          "Minor Damage",
          "Minor Damage",
          "Minor Damage",
          "Major Damage",
          "Minor Damage",
          "Minor Damage",
          "Major Damage",
          "Major Damage",
          "Minor Damage",
          "Major Damage",
          "Major Damage",
          "Major Damage",
          "Major Damage",
          "Trivial Damage",
          "Major Damage",
          "Total Loss",
          "Major Damage",
          "Minor Damage",
          "Major Damage",
          "Major Damage",
          "Minor Damage",
          "Major Damage",
          "Total Loss",
          "Minor Damage",
          "Major Damage",
          "Major Damage",
          "Total Loss",
          "Major Damage",
          "Major Damage",
          "Major Damage",
          "Minor Damage",
          "Major Damage",
          "Major Damage",
          "Major Damage",
          "Minor Damage",
          "Minor Damage",
          "Major Damage",
          "Minor Damage",
          "Major Damage",
          "Total Loss",
          "Minor Damage",
          "Major Damage",
          "Major Damage",
          "Total Loss",
          "Major Damage",
          "Major Damage",
          "Major Damage",
          "Major Damage",
          "Major Damage",
          "Trivial Damage",
          "Minor Damage",
          "Total Loss",
          "Major Damage",
          "Minor Damage",
          "Major Damage",
          "Major Damage",
          "Total Loss",
          "Major Damage",
          "Trivial Damage",
          "Major Damage",
          "Major Damage",
          "Total Loss",
          "Major Damage",
          "Major Damage",
          "Minor Damage",
          "Total Loss",
          "Major Damage",
          "Total Loss",
          "Major Damage",
          "Major Damage",
          "Total Loss",
          "Major Damage",
          "Major Damage",
          "Total Loss",
          "Major Damage",
          "Minor Damage",
          "Minor Damage",
          "Total Loss",
          "Minor Damage",
          "Major Damage",
          "Major Damage",
          "Major Damage",
          "Major Damage",
          "Major Damage",
          "Major Damage",
          "Major Damage",
          "Major Damage",
          "Major Damage",
          "Major Damage",
          "Major Damage",
          "Major Damage",
          "Major Damage",
          "Major Damage",
          "Major Damage",
          "Total Loss",
          "Major Damage",
          "Major Damage",
          "Total Loss",
          "Major Damage",
          "Minor Damage",
          "Major Damage",
          "Minor Damage",
          "Major Damage",
          "Major Damage",
          "Total Loss",
          "Major Damage",
          "Trivial Damage",
          "Major Damage",
          "Major Damage",
          "Major Damage",
          "Major Damage",
          "Major Damage",
          "Major Damage",
          "Minor Damage",
          "Major Damage",
          "Major Damage",
          "Major Damage",
          "Major Damage",
          "Major Damage",
          "Major Damage",
          "Major Damage",
          "Major Damage",
          "Major Damage",
          "Major Damage",
          "Major Damage",
          "Minor Damage",
          "Total Loss",
          "Major Damage",
          "Major Damage",
          "Major Damage",
          "Total Loss",
          "Major Damage",
          "Major Damage",
          "Major Damage",
          "Minor Damage",
          "Major Damage",
          "Major Damage",
          "Major Damage",
          "Major Damage",
          "Major Damage",
          "Minor Damage",
          "Minor Damage",
          "Major Damage"
         ],
         "xaxis": "x",
         "yaxis": "y"
        },
        {
         "alignmentgroup": "True",
         "bingroup": "x",
         "hovertemplate": "fraud_reported=N<br>incident_severity=%{x}<br>count=%{y}<extra></extra>",
         "legendgroup": "N",
         "marker": {
          "color": "#EF553B",
          "pattern": {
           "shape": ""
          }
         },
         "name": "N",
         "offsetgroup": "N",
         "orientation": "v",
         "showlegend": true,
         "type": "histogram",
         "x": [
          "Minor Damage",
          "Minor Damage",
          "Minor Damage",
          "Total Loss",
          "Total Loss",
          "Total Loss",
          "Total Loss",
          "Major Damage",
          "Total Loss",
          "Minor Damage",
          "Major Damage",
          "Total Loss",
          "Total Loss",
          "Major Damage",
          "Minor Damage",
          "Total Loss",
          "Minor Damage",
          "Minor Damage",
          "Minor Damage",
          "Minor Damage",
          "Major Damage",
          "Total Loss",
          "Major Damage",
          "Total Loss",
          "Minor Damage",
          "Major Damage",
          "Minor Damage",
          "Minor Damage",
          "Total Loss",
          "Minor Damage",
          "Total Loss",
          "Total Loss",
          "Trivial Damage",
          "Total Loss",
          "Minor Damage",
          "Trivial Damage",
          "Minor Damage",
          "Major Damage",
          "Minor Damage",
          "Minor Damage",
          "Major Damage",
          "Minor Damage",
          "Total Loss",
          "Minor Damage",
          "Total Loss",
          "Minor Damage",
          "Minor Damage",
          "Major Damage",
          "Minor Damage",
          "Minor Damage",
          "Minor Damage",
          "Minor Damage",
          "Total Loss",
          "Minor Damage",
          "Total Loss",
          "Minor Damage",
          "Minor Damage",
          "Trivial Damage",
          "Minor Damage",
          "Trivial Damage",
          "Major Damage",
          "Minor Damage",
          "Total Loss",
          "Trivial Damage",
          "Total Loss",
          "Trivial Damage",
          "Major Damage",
          "Total Loss",
          "Minor Damage",
          "Trivial Damage",
          "Trivial Damage",
          "Minor Damage",
          "Major Damage",
          "Minor Damage",
          "Minor Damage",
          "Total Loss",
          "Minor Damage",
          "Major Damage",
          "Minor Damage",
          "Total Loss",
          "Major Damage",
          "Minor Damage",
          "Minor Damage",
          "Minor Damage",
          "Minor Damage",
          "Minor Damage",
          "Total Loss",
          "Total Loss",
          "Total Loss",
          "Total Loss",
          "Minor Damage",
          "Minor Damage",
          "Major Damage",
          "Major Damage",
          "Total Loss",
          "Minor Damage",
          "Minor Damage",
          "Minor Damage",
          "Minor Damage",
          "Total Loss",
          "Total Loss",
          "Trivial Damage",
          "Minor Damage",
          "Total Loss",
          "Minor Damage",
          "Total Loss",
          "Major Damage",
          "Total Loss",
          "Minor Damage",
          "Minor Damage",
          "Total Loss",
          "Minor Damage",
          "Minor Damage",
          "Total Loss",
          "Total Loss",
          "Total Loss",
          "Minor Damage",
          "Minor Damage",
          "Trivial Damage",
          "Minor Damage",
          "Minor Damage",
          "Total Loss",
          "Major Damage",
          "Trivial Damage",
          "Minor Damage",
          "Minor Damage",
          "Minor Damage",
          "Total Loss",
          "Trivial Damage",
          "Major Damage",
          "Minor Damage",
          "Total Loss",
          "Major Damage",
          "Total Loss",
          "Minor Damage",
          "Total Loss",
          "Minor Damage",
          "Minor Damage",
          "Total Loss",
          "Minor Damage",
          "Total Loss",
          "Total Loss",
          "Trivial Damage",
          "Major Damage",
          "Minor Damage",
          "Trivial Damage",
          "Minor Damage",
          "Trivial Damage",
          "Major Damage",
          "Total Loss",
          "Minor Damage",
          "Major Damage",
          "Total Loss",
          "Trivial Damage",
          "Minor Damage",
          "Trivial Damage",
          "Minor Damage",
          "Minor Damage",
          "Trivial Damage",
          "Minor Damage",
          "Minor Damage",
          "Total Loss",
          "Total Loss",
          "Major Damage",
          "Total Loss",
          "Minor Damage",
          "Total Loss",
          "Minor Damage",
          "Total Loss",
          "Minor Damage",
          "Total Loss",
          "Major Damage",
          "Minor Damage",
          "Total Loss",
          "Major Damage",
          "Minor Damage",
          "Major Damage",
          "Trivial Damage",
          "Total Loss",
          "Trivial Damage",
          "Minor Damage",
          "Minor Damage",
          "Major Damage",
          "Trivial Damage",
          "Major Damage",
          "Total Loss",
          "Trivial Damage",
          "Trivial Damage",
          "Minor Damage",
          "Minor Damage",
          "Trivial Damage",
          "Minor Damage",
          "Major Damage",
          "Total Loss",
          "Minor Damage",
          "Minor Damage",
          "Minor Damage",
          "Minor Damage",
          "Major Damage",
          "Total Loss",
          "Minor Damage",
          "Minor Damage",
          "Minor Damage",
          "Major Damage",
          "Total Loss",
          "Total Loss",
          "Trivial Damage",
          "Minor Damage",
          "Major Damage",
          "Total Loss",
          "Minor Damage",
          "Total Loss",
          "Minor Damage",
          "Trivial Damage",
          "Minor Damage",
          "Major Damage",
          "Trivial Damage",
          "Total Loss",
          "Major Damage",
          "Trivial Damage",
          "Minor Damage",
          "Total Loss",
          "Total Loss",
          "Total Loss",
          "Total Loss",
          "Minor Damage",
          "Minor Damage",
          "Total Loss",
          "Total Loss",
          "Minor Damage",
          "Total Loss",
          "Major Damage",
          "Total Loss",
          "Total Loss",
          "Total Loss",
          "Total Loss",
          "Minor Damage",
          "Major Damage",
          "Trivial Damage",
          "Trivial Damage",
          "Total Loss",
          "Minor Damage",
          "Minor Damage",
          "Total Loss",
          "Minor Damage",
          "Total Loss",
          "Minor Damage",
          "Minor Damage",
          "Minor Damage",
          "Minor Damage",
          "Total Loss",
          "Total Loss",
          "Minor Damage",
          "Minor Damage",
          "Minor Damage",
          "Minor Damage",
          "Total Loss",
          "Major Damage",
          "Minor Damage",
          "Total Loss",
          "Trivial Damage",
          "Trivial Damage",
          "Minor Damage",
          "Major Damage",
          "Major Damage",
          "Total Loss",
          "Total Loss",
          "Minor Damage",
          "Total Loss",
          "Major Damage",
          "Total Loss",
          "Minor Damage",
          "Total Loss",
          "Minor Damage",
          "Minor Damage",
          "Minor Damage",
          "Major Damage",
          "Total Loss",
          "Total Loss",
          "Major Damage",
          "Major Damage",
          "Total Loss",
          "Total Loss",
          "Total Loss",
          "Minor Damage",
          "Major Damage",
          "Minor Damage",
          "Trivial Damage",
          "Minor Damage",
          "Total Loss",
          "Total Loss",
          "Minor Damage",
          "Total Loss",
          "Minor Damage",
          "Total Loss",
          "Minor Damage",
          "Trivial Damage",
          "Minor Damage",
          "Trivial Damage",
          "Minor Damage",
          "Major Damage",
          "Minor Damage",
          "Total Loss",
          "Total Loss",
          "Total Loss",
          "Trivial Damage",
          "Minor Damage",
          "Major Damage",
          "Total Loss",
          "Major Damage",
          "Minor Damage",
          "Total Loss",
          "Minor Damage",
          "Total Loss",
          "Total Loss",
          "Total Loss",
          "Minor Damage",
          "Major Damage",
          "Total Loss",
          "Major Damage",
          "Trivial Damage",
          "Trivial Damage",
          "Total Loss",
          "Total Loss",
          "Minor Damage",
          "Minor Damage",
          "Total Loss",
          "Minor Damage",
          "Total Loss",
          "Major Damage",
          "Minor Damage",
          "Total Loss",
          "Trivial Damage",
          "Total Loss",
          "Minor Damage",
          "Minor Damage",
          "Minor Damage",
          "Total Loss",
          "Minor Damage",
          "Minor Damage",
          "Total Loss",
          "Total Loss",
          "Major Damage",
          "Major Damage",
          "Major Damage",
          "Minor Damage",
          "Minor Damage",
          "Minor Damage",
          "Total Loss",
          "Trivial Damage",
          "Total Loss",
          "Major Damage",
          "Minor Damage",
          "Minor Damage",
          "Minor Damage",
          "Total Loss",
          "Total Loss",
          "Minor Damage",
          "Total Loss",
          "Minor Damage",
          "Minor Damage",
          "Major Damage",
          "Minor Damage",
          "Minor Damage",
          "Trivial Damage",
          "Minor Damage",
          "Minor Damage",
          "Minor Damage",
          "Major Damage",
          "Major Damage",
          "Total Loss",
          "Minor Damage",
          "Minor Damage",
          "Minor Damage",
          "Total Loss",
          "Total Loss",
          "Total Loss",
          "Trivial Damage",
          "Total Loss",
          "Total Loss",
          "Total Loss",
          "Total Loss",
          "Minor Damage",
          "Trivial Damage",
          "Total Loss",
          "Total Loss",
          "Minor Damage",
          "Total Loss",
          "Minor Damage",
          "Trivial Damage",
          "Major Damage",
          "Trivial Damage",
          "Total Loss",
          "Minor Damage",
          "Major Damage",
          "Total Loss",
          "Minor Damage",
          "Total Loss",
          "Major Damage",
          "Minor Damage",
          "Total Loss",
          "Major Damage",
          "Trivial Damage",
          "Major Damage",
          "Minor Damage",
          "Major Damage",
          "Total Loss",
          "Minor Damage",
          "Minor Damage",
          "Total Loss",
          "Minor Damage",
          "Trivial Damage",
          "Minor Damage",
          "Trivial Damage",
          "Minor Damage",
          "Minor Damage",
          "Total Loss",
          "Total Loss",
          "Minor Damage",
          "Minor Damage",
          "Minor Damage",
          "Minor Damage",
          "Total Loss",
          "Total Loss",
          "Total Loss",
          "Minor Damage",
          "Major Damage",
          "Total Loss",
          "Minor Damage",
          "Total Loss",
          "Total Loss",
          "Major Damage",
          "Minor Damage",
          "Minor Damage",
          "Trivial Damage",
          "Minor Damage",
          "Trivial Damage",
          "Major Damage",
          "Total Loss",
          "Total Loss",
          "Total Loss",
          "Major Damage",
          "Major Damage",
          "Trivial Damage",
          "Major Damage",
          "Major Damage",
          "Minor Damage",
          "Trivial Damage",
          "Minor Damage",
          "Minor Damage",
          "Total Loss",
          "Minor Damage",
          "Total Loss",
          "Minor Damage",
          "Minor Damage",
          "Minor Damage",
          "Total Loss",
          "Minor Damage",
          "Minor Damage",
          "Total Loss",
          "Minor Damage",
          "Total Loss",
          "Minor Damage",
          "Minor Damage",
          "Trivial Damage",
          "Minor Damage",
          "Major Damage",
          "Major Damage",
          "Trivial Damage",
          "Minor Damage",
          "Total Loss",
          "Minor Damage",
          "Major Damage",
          "Minor Damage",
          "Trivial Damage",
          "Minor Damage",
          "Total Loss",
          "Total Loss",
          "Major Damage",
          "Minor Damage",
          "Total Loss",
          "Total Loss",
          "Minor Damage",
          "Trivial Damage",
          "Minor Damage",
          "Minor Damage",
          "Minor Damage",
          "Major Damage",
          "Trivial Damage",
          "Minor Damage",
          "Minor Damage",
          "Total Loss",
          "Major Damage",
          "Total Loss",
          "Total Loss",
          "Minor Damage",
          "Total Loss",
          "Major Damage",
          "Major Damage",
          "Total Loss",
          "Minor Damage",
          "Minor Damage",
          "Major Damage",
          "Trivial Damage",
          "Trivial Damage",
          "Minor Damage",
          "Trivial Damage",
          "Minor Damage",
          "Minor Damage",
          "Total Loss",
          "Trivial Damage",
          "Trivial Damage",
          "Major Damage",
          "Trivial Damage",
          "Minor Damage",
          "Minor Damage",
          "Major Damage",
          "Minor Damage",
          "Minor Damage",
          "Minor Damage",
          "Total Loss",
          "Trivial Damage",
          "Total Loss",
          "Major Damage",
          "Trivial Damage",
          "Minor Damage",
          "Minor Damage",
          "Minor Damage",
          "Major Damage",
          "Total Loss",
          "Minor Damage",
          "Minor Damage",
          "Trivial Damage",
          "Total Loss",
          "Trivial Damage",
          "Minor Damage",
          "Total Loss",
          "Minor Damage",
          "Minor Damage",
          "Major Damage",
          "Major Damage",
          "Total Loss",
          "Total Loss",
          "Minor Damage",
          "Total Loss",
          "Total Loss",
          "Total Loss",
          "Minor Damage",
          "Minor Damage",
          "Minor Damage",
          "Minor Damage",
          "Total Loss",
          "Total Loss",
          "Major Damage",
          "Total Loss",
          "Minor Damage",
          "Minor Damage",
          "Minor Damage",
          "Total Loss",
          "Minor Damage",
          "Major Damage",
          "Total Loss",
          "Total Loss",
          "Minor Damage",
          "Minor Damage",
          "Minor Damage",
          "Minor Damage",
          "Total Loss",
          "Total Loss",
          "Major Damage",
          "Minor Damage",
          "Total Loss",
          "Minor Damage",
          "Minor Damage",
          "Total Loss",
          "Total Loss",
          "Minor Damage",
          "Trivial Damage",
          "Minor Damage",
          "Total Loss",
          "Total Loss",
          "Minor Damage",
          "Total Loss",
          "Minor Damage",
          "Minor Damage",
          "Trivial Damage",
          "Minor Damage",
          "Minor Damage",
          "Minor Damage",
          "Trivial Damage",
          "Total Loss",
          "Total Loss",
          "Minor Damage",
          "Total Loss",
          "Minor Damage",
          "Major Damage",
          "Trivial Damage",
          "Minor Damage",
          "Minor Damage",
          "Total Loss",
          "Trivial Damage",
          "Minor Damage",
          "Major Damage",
          "Minor Damage",
          "Total Loss",
          "Total Loss",
          "Minor Damage",
          "Minor Damage",
          "Total Loss",
          "Total Loss",
          "Minor Damage",
          "Trivial Damage",
          "Minor Damage",
          "Trivial Damage",
          "Minor Damage",
          "Minor Damage",
          "Total Loss",
          "Total Loss",
          "Minor Damage",
          "Total Loss",
          "Major Damage",
          "Total Loss",
          "Minor Damage",
          "Total Loss",
          "Minor Damage",
          "Minor Damage",
          "Total Loss",
          "Major Damage",
          "Trivial Damage",
          "Minor Damage",
          "Minor Damage",
          "Minor Damage",
          "Total Loss",
          "Minor Damage",
          "Trivial Damage",
          "Total Loss",
          "Total Loss",
          "Minor Damage",
          "Total Loss",
          "Total Loss",
          "Minor Damage",
          "Minor Damage",
          "Minor Damage",
          "Total Loss",
          "Minor Damage",
          "Minor Damage",
          "Minor Damage",
          "Minor Damage",
          "Total Loss",
          "Minor Damage",
          "Total Loss",
          "Total Loss",
          "Minor Damage",
          "Major Damage",
          "Minor Damage",
          "Trivial Damage",
          "Total Loss",
          "Total Loss",
          "Total Loss",
          "Minor Damage",
          "Total Loss",
          "Total Loss",
          "Minor Damage",
          "Major Damage",
          "Major Damage",
          "Total Loss",
          "Total Loss",
          "Trivial Damage",
          "Minor Damage",
          "Minor Damage",
          "Trivial Damage",
          "Minor Damage",
          "Major Damage",
          "Minor Damage",
          "Total Loss",
          "Total Loss",
          "Minor Damage",
          "Minor Damage",
          "Total Loss",
          "Major Damage",
          "Minor Damage",
          "Minor Damage",
          "Total Loss",
          "Minor Damage",
          "Total Loss",
          "Minor Damage",
          "Major Damage",
          "Trivial Damage",
          "Major Damage",
          "Minor Damage",
          "Total Loss",
          "Minor Damage",
          "Minor Damage",
          "Total Loss",
          "Minor Damage",
          "Minor Damage",
          "Trivial Damage",
          "Total Loss",
          "Minor Damage",
          "Minor Damage",
          "Major Damage",
          "Minor Damage",
          "Total Loss",
          "Minor Damage",
          "Major Damage",
          "Minor Damage",
          "Minor Damage",
          "Total Loss",
          "Total Loss",
          "Minor Damage",
          "Total Loss",
          "Total Loss",
          "Minor Damage",
          "Total Loss",
          "Total Loss",
          "Minor Damage",
          "Minor Damage",
          "Total Loss",
          "Total Loss",
          "Minor Damage",
          "Major Damage",
          "Minor Damage",
          "Minor Damage",
          "Trivial Damage",
          "Total Loss",
          "Minor Damage",
          "Minor Damage",
          "Minor Damage",
          "Major Damage",
          "Trivial Damage",
          "Total Loss",
          "Total Loss",
          "Total Loss",
          "Major Damage",
          "Total Loss",
          "Total Loss",
          "Minor Damage",
          "Total Loss",
          "Trivial Damage",
          "Total Loss",
          "Major Damage",
          "Minor Damage",
          "Total Loss",
          "Minor Damage",
          "Total Loss",
          "Major Damage",
          "Total Loss",
          "Minor Damage",
          "Minor Damage",
          "Major Damage",
          "Minor Damage",
          "Major Damage",
          "Minor Damage"
         ],
         "xaxis": "x",
         "yaxis": "y"
        }
       ],
       "layout": {
        "barmode": "relative",
        "legend": {
         "title": {
          "text": "fraud_reported"
         },
         "tracegroupgap": 0
        },
        "margin": {
         "t": 60
        },
        "template": {
         "data": {
          "bar": [
           {
            "error_x": {
             "color": "#2a3f5f"
            },
            "error_y": {
             "color": "#2a3f5f"
            },
            "marker": {
             "line": {
              "color": "#E5ECF6",
              "width": 0.5
             },
             "pattern": {
              "fillmode": "overlay",
              "size": 10,
              "solidity": 0.2
             }
            },
            "type": "bar"
           }
          ],
          "barpolar": [
           {
            "marker": {
             "line": {
              "color": "#E5ECF6",
              "width": 0.5
             },
             "pattern": {
              "fillmode": "overlay",
              "size": 10,
              "solidity": 0.2
             }
            },
            "type": "barpolar"
           }
          ],
          "carpet": [
           {
            "aaxis": {
             "endlinecolor": "#2a3f5f",
             "gridcolor": "white",
             "linecolor": "white",
             "minorgridcolor": "white",
             "startlinecolor": "#2a3f5f"
            },
            "baxis": {
             "endlinecolor": "#2a3f5f",
             "gridcolor": "white",
             "linecolor": "white",
             "minorgridcolor": "white",
             "startlinecolor": "#2a3f5f"
            },
            "type": "carpet"
           }
          ],
          "choropleth": [
           {
            "colorbar": {
             "outlinewidth": 0,
             "ticks": ""
            },
            "type": "choropleth"
           }
          ],
          "contour": [
           {
            "colorbar": {
             "outlinewidth": 0,
             "ticks": ""
            },
            "colorscale": [
             [
              0,
              "#0d0887"
             ],
             [
              0.1111111111111111,
              "#46039f"
             ],
             [
              0.2222222222222222,
              "#7201a8"
             ],
             [
              0.3333333333333333,
              "#9c179e"
             ],
             [
              0.4444444444444444,
              "#bd3786"
             ],
             [
              0.5555555555555556,
              "#d8576b"
             ],
             [
              0.6666666666666666,
              "#ed7953"
             ],
             [
              0.7777777777777778,
              "#fb9f3a"
             ],
             [
              0.8888888888888888,
              "#fdca26"
             ],
             [
              1,
              "#f0f921"
             ]
            ],
            "type": "contour"
           }
          ],
          "contourcarpet": [
           {
            "colorbar": {
             "outlinewidth": 0,
             "ticks": ""
            },
            "type": "contourcarpet"
           }
          ],
          "heatmap": [
           {
            "colorbar": {
             "outlinewidth": 0,
             "ticks": ""
            },
            "colorscale": [
             [
              0,
              "#0d0887"
             ],
             [
              0.1111111111111111,
              "#46039f"
             ],
             [
              0.2222222222222222,
              "#7201a8"
             ],
             [
              0.3333333333333333,
              "#9c179e"
             ],
             [
              0.4444444444444444,
              "#bd3786"
             ],
             [
              0.5555555555555556,
              "#d8576b"
             ],
             [
              0.6666666666666666,
              "#ed7953"
             ],
             [
              0.7777777777777778,
              "#fb9f3a"
             ],
             [
              0.8888888888888888,
              "#fdca26"
             ],
             [
              1,
              "#f0f921"
             ]
            ],
            "type": "heatmap"
           }
          ],
          "heatmapgl": [
           {
            "colorbar": {
             "outlinewidth": 0,
             "ticks": ""
            },
            "colorscale": [
             [
              0,
              "#0d0887"
             ],
             [
              0.1111111111111111,
              "#46039f"
             ],
             [
              0.2222222222222222,
              "#7201a8"
             ],
             [
              0.3333333333333333,
              "#9c179e"
             ],
             [
              0.4444444444444444,
              "#bd3786"
             ],
             [
              0.5555555555555556,
              "#d8576b"
             ],
             [
              0.6666666666666666,
              "#ed7953"
             ],
             [
              0.7777777777777778,
              "#fb9f3a"
             ],
             [
              0.8888888888888888,
              "#fdca26"
             ],
             [
              1,
              "#f0f921"
             ]
            ],
            "type": "heatmapgl"
           }
          ],
          "histogram": [
           {
            "marker": {
             "pattern": {
              "fillmode": "overlay",
              "size": 10,
              "solidity": 0.2
             }
            },
            "type": "histogram"
           }
          ],
          "histogram2d": [
           {
            "colorbar": {
             "outlinewidth": 0,
             "ticks": ""
            },
            "colorscale": [
             [
              0,
              "#0d0887"
             ],
             [
              0.1111111111111111,
              "#46039f"
             ],
             [
              0.2222222222222222,
              "#7201a8"
             ],
             [
              0.3333333333333333,
              "#9c179e"
             ],
             [
              0.4444444444444444,
              "#bd3786"
             ],
             [
              0.5555555555555556,
              "#d8576b"
             ],
             [
              0.6666666666666666,
              "#ed7953"
             ],
             [
              0.7777777777777778,
              "#fb9f3a"
             ],
             [
              0.8888888888888888,
              "#fdca26"
             ],
             [
              1,
              "#f0f921"
             ]
            ],
            "type": "histogram2d"
           }
          ],
          "histogram2dcontour": [
           {
            "colorbar": {
             "outlinewidth": 0,
             "ticks": ""
            },
            "colorscale": [
             [
              0,
              "#0d0887"
             ],
             [
              0.1111111111111111,
              "#46039f"
             ],
             [
              0.2222222222222222,
              "#7201a8"
             ],
             [
              0.3333333333333333,
              "#9c179e"
             ],
             [
              0.4444444444444444,
              "#bd3786"
             ],
             [
              0.5555555555555556,
              "#d8576b"
             ],
             [
              0.6666666666666666,
              "#ed7953"
             ],
             [
              0.7777777777777778,
              "#fb9f3a"
             ],
             [
              0.8888888888888888,
              "#fdca26"
             ],
             [
              1,
              "#f0f921"
             ]
            ],
            "type": "histogram2dcontour"
           }
          ],
          "mesh3d": [
           {
            "colorbar": {
             "outlinewidth": 0,
             "ticks": ""
            },
            "type": "mesh3d"
           }
          ],
          "parcoords": [
           {
            "line": {
             "colorbar": {
              "outlinewidth": 0,
              "ticks": ""
             }
            },
            "type": "parcoords"
           }
          ],
          "pie": [
           {
            "automargin": true,
            "type": "pie"
           }
          ],
          "scatter": [
           {
            "marker": {
             "colorbar": {
              "outlinewidth": 0,
              "ticks": ""
             }
            },
            "type": "scatter"
           }
          ],
          "scatter3d": [
           {
            "line": {
             "colorbar": {
              "outlinewidth": 0,
              "ticks": ""
             }
            },
            "marker": {
             "colorbar": {
              "outlinewidth": 0,
              "ticks": ""
             }
            },
            "type": "scatter3d"
           }
          ],
          "scattercarpet": [
           {
            "marker": {
             "colorbar": {
              "outlinewidth": 0,
              "ticks": ""
             }
            },
            "type": "scattercarpet"
           }
          ],
          "scattergeo": [
           {
            "marker": {
             "colorbar": {
              "outlinewidth": 0,
              "ticks": ""
             }
            },
            "type": "scattergeo"
           }
          ],
          "scattergl": [
           {
            "marker": {
             "colorbar": {
              "outlinewidth": 0,
              "ticks": ""
             }
            },
            "type": "scattergl"
           }
          ],
          "scattermapbox": [
           {
            "marker": {
             "colorbar": {
              "outlinewidth": 0,
              "ticks": ""
             }
            },
            "type": "scattermapbox"
           }
          ],
          "scatterpolar": [
           {
            "marker": {
             "colorbar": {
              "outlinewidth": 0,
              "ticks": ""
             }
            },
            "type": "scatterpolar"
           }
          ],
          "scatterpolargl": [
           {
            "marker": {
             "colorbar": {
              "outlinewidth": 0,
              "ticks": ""
             }
            },
            "type": "scatterpolargl"
           }
          ],
          "scatterternary": [
           {
            "marker": {
             "colorbar": {
              "outlinewidth": 0,
              "ticks": ""
             }
            },
            "type": "scatterternary"
           }
          ],
          "surface": [
           {
            "colorbar": {
             "outlinewidth": 0,
             "ticks": ""
            },
            "colorscale": [
             [
              0,
              "#0d0887"
             ],
             [
              0.1111111111111111,
              "#46039f"
             ],
             [
              0.2222222222222222,
              "#7201a8"
             ],
             [
              0.3333333333333333,
              "#9c179e"
             ],
             [
              0.4444444444444444,
              "#bd3786"
             ],
             [
              0.5555555555555556,
              "#d8576b"
             ],
             [
              0.6666666666666666,
              "#ed7953"
             ],
             [
              0.7777777777777778,
              "#fb9f3a"
             ],
             [
              0.8888888888888888,
              "#fdca26"
             ],
             [
              1,
              "#f0f921"
             ]
            ],
            "type": "surface"
           }
          ],
          "table": [
           {
            "cells": {
             "fill": {
              "color": "#EBF0F8"
             },
             "line": {
              "color": "white"
             }
            },
            "header": {
             "fill": {
              "color": "#C8D4E3"
             },
             "line": {
              "color": "white"
             }
            },
            "type": "table"
           }
          ]
         },
         "layout": {
          "annotationdefaults": {
           "arrowcolor": "#2a3f5f",
           "arrowhead": 0,
           "arrowwidth": 1
          },
          "autotypenumbers": "strict",
          "coloraxis": {
           "colorbar": {
            "outlinewidth": 0,
            "ticks": ""
           }
          },
          "colorscale": {
           "diverging": [
            [
             0,
             "#8e0152"
            ],
            [
             0.1,
             "#c51b7d"
            ],
            [
             0.2,
             "#de77ae"
            ],
            [
             0.3,
             "#f1b6da"
            ],
            [
             0.4,
             "#fde0ef"
            ],
            [
             0.5,
             "#f7f7f7"
            ],
            [
             0.6,
             "#e6f5d0"
            ],
            [
             0.7,
             "#b8e186"
            ],
            [
             0.8,
             "#7fbc41"
            ],
            [
             0.9,
             "#4d9221"
            ],
            [
             1,
             "#276419"
            ]
           ],
           "sequential": [
            [
             0,
             "#0d0887"
            ],
            [
             0.1111111111111111,
             "#46039f"
            ],
            [
             0.2222222222222222,
             "#7201a8"
            ],
            [
             0.3333333333333333,
             "#9c179e"
            ],
            [
             0.4444444444444444,
             "#bd3786"
            ],
            [
             0.5555555555555556,
             "#d8576b"
            ],
            [
             0.6666666666666666,
             "#ed7953"
            ],
            [
             0.7777777777777778,
             "#fb9f3a"
            ],
            [
             0.8888888888888888,
             "#fdca26"
            ],
            [
             1,
             "#f0f921"
            ]
           ],
           "sequentialminus": [
            [
             0,
             "#0d0887"
            ],
            [
             0.1111111111111111,
             "#46039f"
            ],
            [
             0.2222222222222222,
             "#7201a8"
            ],
            [
             0.3333333333333333,
             "#9c179e"
            ],
            [
             0.4444444444444444,
             "#bd3786"
            ],
            [
             0.5555555555555556,
             "#d8576b"
            ],
            [
             0.6666666666666666,
             "#ed7953"
            ],
            [
             0.7777777777777778,
             "#fb9f3a"
            ],
            [
             0.8888888888888888,
             "#fdca26"
            ],
            [
             1,
             "#f0f921"
            ]
           ]
          },
          "colorway": [
           "#636efa",
           "#EF553B",
           "#00cc96",
           "#ab63fa",
           "#FFA15A",
           "#19d3f3",
           "#FF6692",
           "#B6E880",
           "#FF97FF",
           "#FECB52"
          ],
          "font": {
           "color": "#2a3f5f"
          },
          "geo": {
           "bgcolor": "white",
           "lakecolor": "white",
           "landcolor": "#E5ECF6",
           "showlakes": true,
           "showland": true,
           "subunitcolor": "white"
          },
          "hoverlabel": {
           "align": "left"
          },
          "hovermode": "closest",
          "mapbox": {
           "style": "light"
          },
          "paper_bgcolor": "white",
          "plot_bgcolor": "#E5ECF6",
          "polar": {
           "angularaxis": {
            "gridcolor": "white",
            "linecolor": "white",
            "ticks": ""
           },
           "bgcolor": "#E5ECF6",
           "radialaxis": {
            "gridcolor": "white",
            "linecolor": "white",
            "ticks": ""
           }
          },
          "scene": {
           "xaxis": {
            "backgroundcolor": "#E5ECF6",
            "gridcolor": "white",
            "gridwidth": 2,
            "linecolor": "white",
            "showbackground": true,
            "ticks": "",
            "zerolinecolor": "white"
           },
           "yaxis": {
            "backgroundcolor": "#E5ECF6",
            "gridcolor": "white",
            "gridwidth": 2,
            "linecolor": "white",
            "showbackground": true,
            "ticks": "",
            "zerolinecolor": "white"
           },
           "zaxis": {
            "backgroundcolor": "#E5ECF6",
            "gridcolor": "white",
            "gridwidth": 2,
            "linecolor": "white",
            "showbackground": true,
            "ticks": "",
            "zerolinecolor": "white"
           }
          },
          "shapedefaults": {
           "line": {
            "color": "#2a3f5f"
           }
          },
          "ternary": {
           "aaxis": {
            "gridcolor": "white",
            "linecolor": "white",
            "ticks": ""
           },
           "baxis": {
            "gridcolor": "white",
            "linecolor": "white",
            "ticks": ""
           },
           "bgcolor": "#E5ECF6",
           "caxis": {
            "gridcolor": "white",
            "linecolor": "white",
            "ticks": ""
           }
          },
          "title": {
           "x": 0.05
          },
          "xaxis": {
           "automargin": true,
           "gridcolor": "white",
           "linecolor": "white",
           "ticks": "",
           "title": {
            "standoff": 15
           },
           "zerolinecolor": "white",
           "zerolinewidth": 2
          },
          "yaxis": {
           "automargin": true,
           "gridcolor": "white",
           "linecolor": "white",
           "ticks": "",
           "title": {
            "standoff": 15
           },
           "zerolinecolor": "white",
           "zerolinewidth": 2
          }
         }
        },
        "xaxis": {
         "anchor": "y",
         "domain": [
          0,
          1
         ],
         "title": {
          "text": "incident_severity"
         }
        },
        "yaxis": {
         "anchor": "x",
         "domain": [
          0,
          1
         ],
         "title": {
          "text": "count"
         }
        }
       }
      }
     },
     "metadata": {},
     "output_type": "display_data"
    }
   ],
   "source": [
    "fig = px.histogram(df, x=\"incident_severity\", color=\"fraud_reported\")\n",
    "fig.show()"
   ]
  },
  {
   "cell_type": "code",
   "execution_count": 209,
   "metadata": {},
   "outputs": [
    {
     "data": {
      "application/vnd.plotly.v1+json": {
       "config": {
        "plotlyServerURL": "https://plot.ly"
       },
       "data": [
        {
         "alignmentgroup": "True",
         "bingroup": "x",
         "hovertemplate": "fraud_reported=Y<br>authorities_contacted=%{x}<br>count=%{y}<extra></extra>",
         "legendgroup": "Y",
         "marker": {
          "color": "#636efa",
          "pattern": {
           "shape": ""
          }
         },
         "name": "Y",
         "offsetgroup": "Y",
         "orientation": "v",
         "showlegend": true,
         "type": "histogram",
         "x": [
          "Police",
          "Police",
          "Police",
          "Fire",
          "Police",
          "Other",
          "Ambulance",
          "Ambulance",
          "Other",
          "None",
          "Police",
          "Other",
          "Police",
          "Ambulance",
          "Police",
          "Fire",
          "Police",
          "Fire",
          "Fire",
          "Ambulance",
          "Fire",
          "Other",
          "Other",
          "Fire",
          "Ambulance",
          "Other",
          "Police",
          "Fire",
          "Other",
          "Police",
          "Fire",
          "Fire",
          "Fire",
          "Other",
          "Police",
          "Ambulance",
          "Ambulance",
          "Fire",
          "Fire",
          "Police",
          "Ambulance",
          "Police",
          "Fire",
          "Other",
          "Other",
          "Police",
          "Ambulance",
          "Police",
          "Fire",
          "Fire",
          "Ambulance",
          "Police",
          "Fire",
          "Other",
          "Police",
          "Fire",
          "Other",
          "Other",
          "Ambulance",
          "Other",
          "Other",
          "Other",
          "Other",
          "Fire",
          "Other",
          "Fire",
          "Ambulance",
          "Fire",
          "Police",
          "Fire",
          "Fire",
          "Police",
          "Fire",
          "Police",
          "Ambulance",
          "Fire",
          "Police",
          "Other",
          "Police",
          "Police",
          "Police",
          "Ambulance",
          "Fire",
          "Police",
          "Other",
          "Fire",
          "Fire",
          "Other",
          "Ambulance",
          "Other",
          "Other",
          "Other",
          "Other",
          "Ambulance",
          "Police",
          "Police",
          "Police",
          "Fire",
          "Ambulance",
          "Ambulance",
          "Ambulance",
          "Ambulance",
          "Other",
          "Police",
          "None",
          "Police",
          "None",
          "Other",
          "Other",
          "Ambulance",
          "Other",
          "Ambulance",
          "Other",
          "Ambulance",
          "Police",
          "Ambulance",
          "Police",
          "Police",
          "Fire",
          "Police",
          "Ambulance",
          "Other",
          "Police",
          "Other",
          "Police",
          "Other",
          "Police",
          "Police",
          "Fire",
          "Other",
          "Ambulance",
          "Other",
          "Police",
          "Fire",
          "Ambulance",
          "Fire",
          "Police",
          "Other",
          "None",
          "Fire",
          "Other",
          "Police",
          "Other",
          "Fire",
          "Fire",
          "Ambulance",
          "Other",
          "Other",
          "Other",
          "Fire",
          "Other",
          "Ambulance",
          "Fire",
          "Police",
          "Ambulance",
          "Other",
          "Fire",
          "Police",
          "Fire",
          "Fire",
          "Other",
          "Police",
          "None",
          "Ambulance",
          "Police",
          "Ambulance",
          "Ambulance",
          "Other",
          "Other",
          "Ambulance",
          "Fire",
          "Ambulance",
          "Ambulance",
          "Police",
          "Police",
          "Other",
          "Fire",
          "Ambulance",
          "Fire",
          "Ambulance",
          "Ambulance",
          "Ambulance",
          "Ambulance",
          "Ambulance",
          "Other",
          "Fire",
          "Ambulance",
          "Ambulance",
          "Police",
          "Fire",
          "Fire",
          "Other",
          "Other",
          "Other",
          "Fire",
          "Police",
          "Other",
          "Fire",
          "Police",
          "Ambulance",
          "Fire",
          "Other",
          "Ambulance",
          "Ambulance",
          "Ambulance",
          "Ambulance",
          "Other",
          "Police",
          "Other",
          "Police",
          "None",
          "Fire",
          "Other",
          "Ambulance",
          "Ambulance",
          "Ambulance",
          "Fire",
          "Other",
          "Police",
          "Ambulance",
          "Ambulance",
          "Fire",
          "Fire",
          "Fire",
          "Ambulance",
          "Fire",
          "Fire",
          "Police",
          "Fire",
          "Police",
          "Fire",
          "Other",
          "Police",
          "Police",
          "Other",
          "Other",
          "Other",
          "Fire",
          "Police",
          "Police",
          "Fire",
          "Ambulance",
          "Police",
          "Ambulance",
          "Police",
          "Other",
          "Other"
         ],
         "xaxis": "x",
         "yaxis": "y"
        },
        {
         "alignmentgroup": "True",
         "bingroup": "x",
         "hovertemplate": "fraud_reported=N<br>authorities_contacted=%{x}<br>count=%{y}<extra></extra>",
         "legendgroup": "N",
         "marker": {
          "color": "#EF553B",
          "pattern": {
           "shape": ""
          }
         },
         "name": "N",
         "offsetgroup": "N",
         "orientation": "v",
         "showlegend": true,
         "type": "histogram",
         "x": [
          "Police",
          "None",
          "Police",
          "Police",
          "Police",
          "Other",
          "Police",
          "Fire",
          "Ambulance",
          "None",
          "Other",
          "Police",
          "Other",
          "Police",
          "Police",
          "Police",
          "Other",
          "Police",
          "Other",
          "Police",
          "Ambulance",
          "Police",
          "Ambulance",
          "Fire",
          "None",
          "Police",
          "Ambulance",
          "Other",
          "Other",
          "Other",
          "Other",
          "Fire",
          "Police",
          "Other",
          "Fire",
          "None",
          "None",
          "Police",
          "Police",
          "Fire",
          "Fire",
          "None",
          "Ambulance",
          "Police",
          "Other",
          "Other",
          "Fire",
          "Ambulance",
          "None",
          "Ambulance",
          "Fire",
          "Ambulance",
          "Ambulance",
          "Fire",
          "Police",
          "None",
          "Ambulance",
          "None",
          "Police",
          "None",
          "Fire",
          "Other",
          "Fire",
          "None",
          "Fire",
          "None",
          "Ambulance",
          "Ambulance",
          "None",
          "None",
          "None",
          "Police",
          "Police",
          "Fire",
          "Police",
          "Police",
          "None",
          "Ambulance",
          "Police",
          "Other",
          "Other",
          "None",
          "Police",
          "Fire",
          "Police",
          "Fire",
          "Other",
          "Ambulance",
          "Ambulance",
          "Other",
          "Police",
          "Other",
          "Other",
          "Ambulance",
          "Police",
          "Ambulance",
          "Police",
          "Fire",
          "Fire",
          "Other",
          "Police",
          "None",
          "None",
          "Police",
          "Fire",
          "Other",
          "Fire",
          "Fire",
          "Police",
          "None",
          "Ambulance",
          "Police",
          "Police",
          "Ambulance",
          "Ambulance",
          "Fire",
          "Ambulance",
          "Ambulance",
          "Police",
          "None",
          "Police",
          "Other",
          "Fire",
          "None",
          "Other",
          "Ambulance",
          "Fire",
          "Other",
          "None",
          "Fire",
          "Police",
          "Police",
          "Ambulance",
          "Ambulance",
          "Police",
          "Ambulance",
          "None",
          "Police",
          "Police",
          "Police",
          "Other",
          "Fire",
          "None",
          "Ambulance",
          "Police",
          "Police",
          "Fire",
          "Police",
          "Fire",
          "Ambulance",
          "Police",
          "Police",
          "Police",
          "Police",
          "Police",
          "None",
          "Ambulance",
          "Fire",
          "None",
          "Fire",
          "Ambulance",
          "Fire",
          "Fire",
          "Fire",
          "Ambulance",
          "Other",
          "Fire",
          "Other",
          "Other",
          "Police",
          "Other",
          "Police",
          "Fire",
          "Fire",
          "Other",
          "Fire",
          "Fire",
          "None",
          "Ambulance",
          "None",
          "Fire",
          "None",
          "Fire",
          "Police",
          "Ambulance",
          "Other",
          "Police",
          "None",
          "Police",
          "Police",
          "Police",
          "Fire",
          "Ambulance",
          "Fire",
          "Police",
          "None",
          "Ambulance",
          "Fire",
          "Ambulance",
          "Ambulance",
          "Police",
          "Fire",
          "Police",
          "Police",
          "Other",
          "Ambulance",
          "None",
          "Police",
          "Ambulance",
          "Ambulance",
          "Fire",
          "Fire",
          "Police",
          "Police",
          "None",
          "Other",
          "Police",
          "Police",
          "Police",
          "Police",
          "Other",
          "Other",
          "Fire",
          "Other",
          "Police",
          "Other",
          "Police",
          "Other",
          "Ambulance",
          "Police",
          "Fire",
          "Other",
          "Police",
          "Police",
          "Police",
          "Fire",
          "Police",
          "Fire",
          "None",
          "None",
          "Fire",
          "Police",
          "Fire",
          "Police",
          "Other",
          "Fire",
          "Other",
          "None",
          "Police",
          "Ambulance",
          "Other",
          "Other",
          "Other",
          "Fire",
          "Police",
          "Ambulance",
          "Fire",
          "Other",
          "Police",
          "Other",
          "None",
          "None",
          "Ambulance",
          "Other",
          "Other",
          "Police",
          "Other",
          "Police",
          "Other",
          "Ambulance",
          "Fire",
          "Ambulance",
          "Police",
          "Police",
          "Police",
          "Fire",
          "Ambulance",
          "Other",
          "Other",
          "Ambulance",
          "Ambulance",
          "Fire",
          "Fire",
          "Other",
          "None",
          "Other",
          "Fire",
          "Police",
          "Ambulance",
          "Police",
          "Fire",
          "Ambulance",
          "Fire",
          "Police",
          "Police",
          "Fire",
          "None",
          "None",
          "Police",
          "Fire",
          "Fire",
          "None",
          "Other",
          "Police",
          "Ambulance",
          "Police",
          "Other",
          "Ambulance",
          "Ambulance",
          "Other",
          "Fire",
          "Ambulance",
          "Police",
          "Fire",
          "Ambulance",
          "Other",
          "Other",
          "Fire",
          "Police",
          "Fire",
          "Police",
          "None",
          "Fire",
          "Other",
          "None",
          "None",
          "Fire",
          "Fire",
          "Ambulance",
          "Ambulance",
          "Ambulance",
          "Fire",
          "None",
          "Other",
          "Other",
          "Police",
          "Police",
          "Other",
          "Ambulance",
          "Ambulance",
          "Police",
          "Other",
          "Police",
          "Fire",
          "Ambulance",
          "Fire",
          "Fire",
          "Ambulance",
          "Ambulance",
          "None",
          "Police",
          "Fire",
          "Fire",
          "Other",
          "Ambulance",
          "Other",
          "Fire",
          "Police",
          "Other",
          "None",
          "Ambulance",
          "Other",
          "Police",
          "Other",
          "Police",
          "Ambulance",
          "Other",
          "Police",
          "Police",
          "Other",
          "Other",
          "Police",
          "Police",
          "Police",
          "Fire",
          "Police",
          "Police",
          "Police",
          "Ambulance",
          "Ambulance",
          "Other",
          "Ambulance",
          "Ambulance",
          "Police",
          "Fire",
          "Ambulance",
          "Fire",
          "Fire",
          "Police",
          "Police",
          "Ambulance",
          "Police",
          "Ambulance",
          "Police",
          "Ambulance",
          "Other",
          "None",
          "Fire",
          "Ambulance",
          "Police",
          "Fire",
          "Other",
          "Police",
          "Police",
          "Ambulance",
          "Fire",
          "Ambulance",
          "Police",
          "Ambulance",
          "Ambulance",
          "Fire",
          "Police",
          "Other",
          "Police",
          "Police",
          "Ambulance",
          "Police",
          "Fire",
          "Police",
          "Ambulance",
          "Other",
          "Fire",
          "Other",
          "Other",
          "Ambulance",
          "Police",
          "Ambulance",
          "Other",
          "Police",
          "Police",
          "Other",
          "Other",
          "Ambulance",
          "Fire",
          "Police",
          "None",
          "Police",
          "Fire",
          "Other",
          "Ambulance",
          "Police",
          "Fire",
          "Police",
          "Police",
          "Ambulance",
          "Police",
          "Other",
          "Police",
          "Police",
          "Other",
          "Ambulance",
          "Police",
          "Police",
          "Police",
          "Fire",
          "Other",
          "Other",
          "Police",
          "Police",
          "Other",
          "Police",
          "Ambulance",
          "Ambulance",
          "Police",
          "Police",
          "None",
          "Ambulance",
          "Fire",
          "Police",
          "Fire",
          "Other",
          "Fire",
          "Police",
          "Police",
          "Police",
          "Fire",
          "Police",
          "Police",
          "Ambulance",
          "Other",
          "Fire",
          "Ambulance",
          "Ambulance",
          "None",
          "Police",
          "Police",
          "Other",
          "Other",
          "Police",
          "Fire",
          "Ambulance",
          "Police",
          "Ambulance",
          "Police",
          "Ambulance",
          "Ambulance",
          "Ambulance",
          "Ambulance",
          "Other",
          "Ambulance",
          "Fire",
          "Ambulance",
          "Police",
          "None",
          "Police",
          "Ambulance",
          "None",
          "Fire",
          "Police",
          "Police",
          "Police",
          "Police",
          "Fire",
          "None",
          "Police",
          "Ambulance",
          "Police",
          "Police",
          "Police",
          "Ambulance",
          "Other",
          "Police",
          "Police",
          "Other",
          "Police",
          "None",
          "Fire",
          "None",
          "Fire",
          "Other",
          "Ambulance",
          "Other",
          "Police",
          "Ambulance",
          "None",
          "Police",
          "Fire",
          "Police",
          "None",
          "Police",
          "Ambulance",
          "Ambulance",
          "Fire",
          "Fire",
          "Fire",
          "Fire",
          "Ambulance",
          "Fire",
          "None",
          "Other",
          "Other",
          "Fire",
          "Fire",
          "Fire",
          "Ambulance",
          "Police",
          "Fire",
          "Fire",
          "Other",
          "Fire",
          "Police",
          "Ambulance",
          "Fire",
          "Ambulance",
          "Ambulance",
          "Other",
          "Police",
          "Ambulance",
          "Fire",
          "Ambulance",
          "Other",
          "Police",
          "Fire",
          "Fire",
          "Ambulance",
          "Ambulance",
          "Police",
          "Police",
          "Fire",
          "Police",
          "Police",
          "Police",
          "Fire",
          "Ambulance",
          "None",
          "None",
          "Fire",
          "Fire",
          "Fire",
          "None",
          "Police",
          "Ambulance",
          "Fire",
          "Fire",
          "Fire",
          "Fire",
          "None",
          "Police",
          "Other",
          "Police",
          "None",
          "Ambulance",
          "Fire",
          "Ambulance",
          "Fire",
          "Other",
          "None",
          "None",
          "Ambulance",
          "Police",
          "Other",
          "Police",
          "Other",
          "None",
          "Fire",
          "Police",
          "Ambulance",
          "Police",
          "Fire",
          "Ambulance",
          "Fire",
          "Police",
          "None",
          "Police",
          "Police",
          "None",
          "Police",
          "Police",
          "None",
          "Fire",
          "Police",
          "Police",
          "Fire",
          "Fire",
          "Police",
          "Police",
          "Fire",
          "Fire",
          "Police",
          "Fire",
          "Fire",
          "Fire",
          "Other",
          "Other",
          "Other",
          "Other",
          "Ambulance",
          "Other",
          "Fire",
          "Fire",
          "Ambulance",
          "Fire",
          "None",
          "Ambulance",
          "Other",
          "Police",
          "Other",
          "Other",
          "Police",
          "Fire",
          "Police",
          "Fire",
          "None",
          "Fire",
          "Ambulance",
          "Ambulance",
          "Other",
          "None",
          "None",
          "None",
          "None",
          "Police",
          "Police",
          "None",
          "Other",
          "Police",
          "Fire",
          "Other",
          "Other",
          "Police",
          "Fire",
          "Police",
          "Other",
          "Police",
          "Police",
          "Fire",
          "Fire",
          "None",
          "Other",
          "Ambulance",
          "Other",
          "Other",
          "Police",
          "Other",
          "Ambulance",
          "Police",
          "Police",
          "Fire",
          "Other",
          "Ambulance",
          "Ambulance",
          "Police",
          "Police",
          "None",
          "Fire",
          "None",
          "Police",
          "Police",
          "Police",
          "Other",
          "Police",
          "Police",
          "None",
          "Ambulance",
          "Other",
          "None",
          "Ambulance",
          "Other",
          "Police",
          "Police",
          "Fire",
          "Police",
          "Ambulance",
          "Police",
          "Police",
          "Police",
          "Other",
          "Other",
          "Police",
          "Police",
          "Fire",
          "Fire",
          "Fire",
          "Fire",
          "Other",
          "Other",
          "Ambulance",
          "Police",
          "Police",
          "Ambulance",
          "Other",
          "Fire",
          "Police",
          "Fire",
          "Other",
          "Fire",
          "Other",
          "None",
          "Fire",
          "Fire",
          "Police",
          "Other",
          "Police"
         ],
         "xaxis": "x",
         "yaxis": "y"
        }
       ],
       "layout": {
        "barmode": "relative",
        "legend": {
         "title": {
          "text": "fraud_reported"
         },
         "tracegroupgap": 0
        },
        "margin": {
         "t": 60
        },
        "template": {
         "data": {
          "bar": [
           {
            "error_x": {
             "color": "#2a3f5f"
            },
            "error_y": {
             "color": "#2a3f5f"
            },
            "marker": {
             "line": {
              "color": "#E5ECF6",
              "width": 0.5
             },
             "pattern": {
              "fillmode": "overlay",
              "size": 10,
              "solidity": 0.2
             }
            },
            "type": "bar"
           }
          ],
          "barpolar": [
           {
            "marker": {
             "line": {
              "color": "#E5ECF6",
              "width": 0.5
             },
             "pattern": {
              "fillmode": "overlay",
              "size": 10,
              "solidity": 0.2
             }
            },
            "type": "barpolar"
           }
          ],
          "carpet": [
           {
            "aaxis": {
             "endlinecolor": "#2a3f5f",
             "gridcolor": "white",
             "linecolor": "white",
             "minorgridcolor": "white",
             "startlinecolor": "#2a3f5f"
            },
            "baxis": {
             "endlinecolor": "#2a3f5f",
             "gridcolor": "white",
             "linecolor": "white",
             "minorgridcolor": "white",
             "startlinecolor": "#2a3f5f"
            },
            "type": "carpet"
           }
          ],
          "choropleth": [
           {
            "colorbar": {
             "outlinewidth": 0,
             "ticks": ""
            },
            "type": "choropleth"
           }
          ],
          "contour": [
           {
            "colorbar": {
             "outlinewidth": 0,
             "ticks": ""
            },
            "colorscale": [
             [
              0,
              "#0d0887"
             ],
             [
              0.1111111111111111,
              "#46039f"
             ],
             [
              0.2222222222222222,
              "#7201a8"
             ],
             [
              0.3333333333333333,
              "#9c179e"
             ],
             [
              0.4444444444444444,
              "#bd3786"
             ],
             [
              0.5555555555555556,
              "#d8576b"
             ],
             [
              0.6666666666666666,
              "#ed7953"
             ],
             [
              0.7777777777777778,
              "#fb9f3a"
             ],
             [
              0.8888888888888888,
              "#fdca26"
             ],
             [
              1,
              "#f0f921"
             ]
            ],
            "type": "contour"
           }
          ],
          "contourcarpet": [
           {
            "colorbar": {
             "outlinewidth": 0,
             "ticks": ""
            },
            "type": "contourcarpet"
           }
          ],
          "heatmap": [
           {
            "colorbar": {
             "outlinewidth": 0,
             "ticks": ""
            },
            "colorscale": [
             [
              0,
              "#0d0887"
             ],
             [
              0.1111111111111111,
              "#46039f"
             ],
             [
              0.2222222222222222,
              "#7201a8"
             ],
             [
              0.3333333333333333,
              "#9c179e"
             ],
             [
              0.4444444444444444,
              "#bd3786"
             ],
             [
              0.5555555555555556,
              "#d8576b"
             ],
             [
              0.6666666666666666,
              "#ed7953"
             ],
             [
              0.7777777777777778,
              "#fb9f3a"
             ],
             [
              0.8888888888888888,
              "#fdca26"
             ],
             [
              1,
              "#f0f921"
             ]
            ],
            "type": "heatmap"
           }
          ],
          "heatmapgl": [
           {
            "colorbar": {
             "outlinewidth": 0,
             "ticks": ""
            },
            "colorscale": [
             [
              0,
              "#0d0887"
             ],
             [
              0.1111111111111111,
              "#46039f"
             ],
             [
              0.2222222222222222,
              "#7201a8"
             ],
             [
              0.3333333333333333,
              "#9c179e"
             ],
             [
              0.4444444444444444,
              "#bd3786"
             ],
             [
              0.5555555555555556,
              "#d8576b"
             ],
             [
              0.6666666666666666,
              "#ed7953"
             ],
             [
              0.7777777777777778,
              "#fb9f3a"
             ],
             [
              0.8888888888888888,
              "#fdca26"
             ],
             [
              1,
              "#f0f921"
             ]
            ],
            "type": "heatmapgl"
           }
          ],
          "histogram": [
           {
            "marker": {
             "pattern": {
              "fillmode": "overlay",
              "size": 10,
              "solidity": 0.2
             }
            },
            "type": "histogram"
           }
          ],
          "histogram2d": [
           {
            "colorbar": {
             "outlinewidth": 0,
             "ticks": ""
            },
            "colorscale": [
             [
              0,
              "#0d0887"
             ],
             [
              0.1111111111111111,
              "#46039f"
             ],
             [
              0.2222222222222222,
              "#7201a8"
             ],
             [
              0.3333333333333333,
              "#9c179e"
             ],
             [
              0.4444444444444444,
              "#bd3786"
             ],
             [
              0.5555555555555556,
              "#d8576b"
             ],
             [
              0.6666666666666666,
              "#ed7953"
             ],
             [
              0.7777777777777778,
              "#fb9f3a"
             ],
             [
              0.8888888888888888,
              "#fdca26"
             ],
             [
              1,
              "#f0f921"
             ]
            ],
            "type": "histogram2d"
           }
          ],
          "histogram2dcontour": [
           {
            "colorbar": {
             "outlinewidth": 0,
             "ticks": ""
            },
            "colorscale": [
             [
              0,
              "#0d0887"
             ],
             [
              0.1111111111111111,
              "#46039f"
             ],
             [
              0.2222222222222222,
              "#7201a8"
             ],
             [
              0.3333333333333333,
              "#9c179e"
             ],
             [
              0.4444444444444444,
              "#bd3786"
             ],
             [
              0.5555555555555556,
              "#d8576b"
             ],
             [
              0.6666666666666666,
              "#ed7953"
             ],
             [
              0.7777777777777778,
              "#fb9f3a"
             ],
             [
              0.8888888888888888,
              "#fdca26"
             ],
             [
              1,
              "#f0f921"
             ]
            ],
            "type": "histogram2dcontour"
           }
          ],
          "mesh3d": [
           {
            "colorbar": {
             "outlinewidth": 0,
             "ticks": ""
            },
            "type": "mesh3d"
           }
          ],
          "parcoords": [
           {
            "line": {
             "colorbar": {
              "outlinewidth": 0,
              "ticks": ""
             }
            },
            "type": "parcoords"
           }
          ],
          "pie": [
           {
            "automargin": true,
            "type": "pie"
           }
          ],
          "scatter": [
           {
            "marker": {
             "colorbar": {
              "outlinewidth": 0,
              "ticks": ""
             }
            },
            "type": "scatter"
           }
          ],
          "scatter3d": [
           {
            "line": {
             "colorbar": {
              "outlinewidth": 0,
              "ticks": ""
             }
            },
            "marker": {
             "colorbar": {
              "outlinewidth": 0,
              "ticks": ""
             }
            },
            "type": "scatter3d"
           }
          ],
          "scattercarpet": [
           {
            "marker": {
             "colorbar": {
              "outlinewidth": 0,
              "ticks": ""
             }
            },
            "type": "scattercarpet"
           }
          ],
          "scattergeo": [
           {
            "marker": {
             "colorbar": {
              "outlinewidth": 0,
              "ticks": ""
             }
            },
            "type": "scattergeo"
           }
          ],
          "scattergl": [
           {
            "marker": {
             "colorbar": {
              "outlinewidth": 0,
              "ticks": ""
             }
            },
            "type": "scattergl"
           }
          ],
          "scattermapbox": [
           {
            "marker": {
             "colorbar": {
              "outlinewidth": 0,
              "ticks": ""
             }
            },
            "type": "scattermapbox"
           }
          ],
          "scatterpolar": [
           {
            "marker": {
             "colorbar": {
              "outlinewidth": 0,
              "ticks": ""
             }
            },
            "type": "scatterpolar"
           }
          ],
          "scatterpolargl": [
           {
            "marker": {
             "colorbar": {
              "outlinewidth": 0,
              "ticks": ""
             }
            },
            "type": "scatterpolargl"
           }
          ],
          "scatterternary": [
           {
            "marker": {
             "colorbar": {
              "outlinewidth": 0,
              "ticks": ""
             }
            },
            "type": "scatterternary"
           }
          ],
          "surface": [
           {
            "colorbar": {
             "outlinewidth": 0,
             "ticks": ""
            },
            "colorscale": [
             [
              0,
              "#0d0887"
             ],
             [
              0.1111111111111111,
              "#46039f"
             ],
             [
              0.2222222222222222,
              "#7201a8"
             ],
             [
              0.3333333333333333,
              "#9c179e"
             ],
             [
              0.4444444444444444,
              "#bd3786"
             ],
             [
              0.5555555555555556,
              "#d8576b"
             ],
             [
              0.6666666666666666,
              "#ed7953"
             ],
             [
              0.7777777777777778,
              "#fb9f3a"
             ],
             [
              0.8888888888888888,
              "#fdca26"
             ],
             [
              1,
              "#f0f921"
             ]
            ],
            "type": "surface"
           }
          ],
          "table": [
           {
            "cells": {
             "fill": {
              "color": "#EBF0F8"
             },
             "line": {
              "color": "white"
             }
            },
            "header": {
             "fill": {
              "color": "#C8D4E3"
             },
             "line": {
              "color": "white"
             }
            },
            "type": "table"
           }
          ]
         },
         "layout": {
          "annotationdefaults": {
           "arrowcolor": "#2a3f5f",
           "arrowhead": 0,
           "arrowwidth": 1
          },
          "autotypenumbers": "strict",
          "coloraxis": {
           "colorbar": {
            "outlinewidth": 0,
            "ticks": ""
           }
          },
          "colorscale": {
           "diverging": [
            [
             0,
             "#8e0152"
            ],
            [
             0.1,
             "#c51b7d"
            ],
            [
             0.2,
             "#de77ae"
            ],
            [
             0.3,
             "#f1b6da"
            ],
            [
             0.4,
             "#fde0ef"
            ],
            [
             0.5,
             "#f7f7f7"
            ],
            [
             0.6,
             "#e6f5d0"
            ],
            [
             0.7,
             "#b8e186"
            ],
            [
             0.8,
             "#7fbc41"
            ],
            [
             0.9,
             "#4d9221"
            ],
            [
             1,
             "#276419"
            ]
           ],
           "sequential": [
            [
             0,
             "#0d0887"
            ],
            [
             0.1111111111111111,
             "#46039f"
            ],
            [
             0.2222222222222222,
             "#7201a8"
            ],
            [
             0.3333333333333333,
             "#9c179e"
            ],
            [
             0.4444444444444444,
             "#bd3786"
            ],
            [
             0.5555555555555556,
             "#d8576b"
            ],
            [
             0.6666666666666666,
             "#ed7953"
            ],
            [
             0.7777777777777778,
             "#fb9f3a"
            ],
            [
             0.8888888888888888,
             "#fdca26"
            ],
            [
             1,
             "#f0f921"
            ]
           ],
           "sequentialminus": [
            [
             0,
             "#0d0887"
            ],
            [
             0.1111111111111111,
             "#46039f"
            ],
            [
             0.2222222222222222,
             "#7201a8"
            ],
            [
             0.3333333333333333,
             "#9c179e"
            ],
            [
             0.4444444444444444,
             "#bd3786"
            ],
            [
             0.5555555555555556,
             "#d8576b"
            ],
            [
             0.6666666666666666,
             "#ed7953"
            ],
            [
             0.7777777777777778,
             "#fb9f3a"
            ],
            [
             0.8888888888888888,
             "#fdca26"
            ],
            [
             1,
             "#f0f921"
            ]
           ]
          },
          "colorway": [
           "#636efa",
           "#EF553B",
           "#00cc96",
           "#ab63fa",
           "#FFA15A",
           "#19d3f3",
           "#FF6692",
           "#B6E880",
           "#FF97FF",
           "#FECB52"
          ],
          "font": {
           "color": "#2a3f5f"
          },
          "geo": {
           "bgcolor": "white",
           "lakecolor": "white",
           "landcolor": "#E5ECF6",
           "showlakes": true,
           "showland": true,
           "subunitcolor": "white"
          },
          "hoverlabel": {
           "align": "left"
          },
          "hovermode": "closest",
          "mapbox": {
           "style": "light"
          },
          "paper_bgcolor": "white",
          "plot_bgcolor": "#E5ECF6",
          "polar": {
           "angularaxis": {
            "gridcolor": "white",
            "linecolor": "white",
            "ticks": ""
           },
           "bgcolor": "#E5ECF6",
           "radialaxis": {
            "gridcolor": "white",
            "linecolor": "white",
            "ticks": ""
           }
          },
          "scene": {
           "xaxis": {
            "backgroundcolor": "#E5ECF6",
            "gridcolor": "white",
            "gridwidth": 2,
            "linecolor": "white",
            "showbackground": true,
            "ticks": "",
            "zerolinecolor": "white"
           },
           "yaxis": {
            "backgroundcolor": "#E5ECF6",
            "gridcolor": "white",
            "gridwidth": 2,
            "linecolor": "white",
            "showbackground": true,
            "ticks": "",
            "zerolinecolor": "white"
           },
           "zaxis": {
            "backgroundcolor": "#E5ECF6",
            "gridcolor": "white",
            "gridwidth": 2,
            "linecolor": "white",
            "showbackground": true,
            "ticks": "",
            "zerolinecolor": "white"
           }
          },
          "shapedefaults": {
           "line": {
            "color": "#2a3f5f"
           }
          },
          "ternary": {
           "aaxis": {
            "gridcolor": "white",
            "linecolor": "white",
            "ticks": ""
           },
           "baxis": {
            "gridcolor": "white",
            "linecolor": "white",
            "ticks": ""
           },
           "bgcolor": "#E5ECF6",
           "caxis": {
            "gridcolor": "white",
            "linecolor": "white",
            "ticks": ""
           }
          },
          "title": {
           "x": 0.05
          },
          "xaxis": {
           "automargin": true,
           "gridcolor": "white",
           "linecolor": "white",
           "ticks": "",
           "title": {
            "standoff": 15
           },
           "zerolinecolor": "white",
           "zerolinewidth": 2
          },
          "yaxis": {
           "automargin": true,
           "gridcolor": "white",
           "linecolor": "white",
           "ticks": "",
           "title": {
            "standoff": 15
           },
           "zerolinecolor": "white",
           "zerolinewidth": 2
          }
         }
        },
        "xaxis": {
         "anchor": "y",
         "domain": [
          0,
          1
         ],
         "title": {
          "text": "authorities_contacted"
         }
        },
        "yaxis": {
         "anchor": "x",
         "domain": [
          0,
          1
         ],
         "title": {
          "text": "count"
         }
        }
       }
      }
     },
     "metadata": {},
     "output_type": "display_data"
    }
   ],
   "source": [
    "fig = px.histogram(df, x=\"authorities_contacted\", color=\"fraud_reported\")\n",
    "fig.show()"
   ]
  },
  {
   "cell_type": "code",
   "execution_count": 210,
   "metadata": {},
   "outputs": [
    {
     "data": {
      "application/vnd.plotly.v1+json": {
       "config": {
        "plotlyServerURL": "https://plot.ly"
       },
       "data": [
        {
         "alignmentgroup": "True",
         "bingroup": "x",
         "hovertemplate": "fraud_reported=Y<br>incident_state=%{x}<br>count=%{y}<extra></extra>",
         "legendgroup": "Y",
         "marker": {
          "color": "#636efa",
          "pattern": {
           "shape": ""
          }
         },
         "name": "Y",
         "offsetgroup": "Y",
         "orientation": "v",
         "showlegend": true,
         "type": "histogram",
         "x": [
          "SC",
          "VA",
          "OH",
          "SC",
          "SC",
          "WV",
          "SC",
          "WV",
          "OH",
          "VA",
          "WV",
          "WV",
          "NY",
          "NC",
          "WV",
          "WV",
          "NY",
          "WV",
          "VA",
          "NY",
          "SC",
          "SC",
          "WV",
          "SC",
          "NY",
          "SC",
          "NY",
          "VA",
          "SC",
          "VA",
          "NY",
          "NY",
          "NC",
          "NY",
          "NY",
          "NY",
          "VA",
          "NY",
          "SC",
          "NY",
          "SC",
          "NC",
          "NC",
          "SC",
          "SC",
          "NY",
          "NC",
          "NY",
          "SC",
          "WV",
          "PA",
          "SC",
          "NY",
          "WV",
          "WV",
          "SC",
          "SC",
          "NC",
          "NC",
          "WV",
          "NY",
          "NY",
          "PA",
          "SC",
          "VA",
          "NY",
          "SC",
          "SC",
          "SC",
          "OH",
          "SC",
          "SC",
          "SC",
          "NC",
          "NY",
          "PA",
          "WV",
          "PA",
          "WV",
          "NY",
          "WV",
          "SC",
          "NC",
          "NC",
          "NY",
          "SC",
          "SC",
          "SC",
          "SC",
          "NY",
          "VA",
          "NY",
          "WV",
          "NY",
          "VA",
          "NY",
          "VA",
          "SC",
          "NC",
          "SC",
          "OH",
          "SC",
          "WV",
          "SC",
          "NC",
          "NC",
          "WV",
          "VA",
          "NY",
          "NC",
          "OH",
          "NY",
          "SC",
          "NY",
          "WV",
          "NC",
          "NC",
          "NC",
          "SC",
          "SC",
          "NC",
          "SC",
          "SC",
          "NY",
          "PA",
          "SC",
          "VA",
          "NC",
          "WV",
          "WV",
          "NY",
          "OH",
          "NY",
          "VA",
          "PA",
          "SC",
          "WV",
          "NY",
          "VA",
          "VA",
          "OH",
          "SC",
          "NY",
          "WV",
          "NY",
          "SC",
          "NY",
          "OH",
          "SC",
          "NY",
          "SC",
          "WV",
          "VA",
          "PA",
          "VA",
          "SC",
          "SC",
          "SC",
          "VA",
          "SC",
          "NY",
          "NY",
          "SC",
          "NC",
          "NC",
          "WV",
          "NY",
          "SC",
          "NC",
          "WV",
          "NY",
          "NC",
          "SC",
          "WV",
          "VA",
          "WV",
          "NY",
          "SC",
          "NY",
          "NY",
          "NY",
          "SC",
          "SC",
          "NC",
          "PA",
          "NC",
          "NC",
          "WV",
          "SC",
          "VA",
          "WV",
          "WV",
          "SC",
          "SC",
          "NC",
          "SC",
          "NY",
          "SC",
          "WV",
          "NY",
          "OH",
          "NY",
          "NY",
          "NC",
          "VA",
          "VA",
          "SC",
          "NC",
          "NC",
          "NY",
          "NC",
          "SC",
          "NY",
          "SC",
          "NY",
          "SC",
          "SC",
          "SC",
          "OH",
          "NY",
          "SC",
          "SC",
          "VA",
          "VA",
          "WV",
          "WV",
          "VA",
          "NC",
          "SC",
          "NY",
          "NY",
          "NY",
          "SC",
          "SC",
          "WV",
          "NY",
          "SC",
          "WV",
          "WV",
          "NC",
          "NY",
          "SC",
          "SC",
          "WV",
          "NY",
          "WV",
          "NC"
         ],
         "xaxis": "x",
         "yaxis": "y"
        },
        {
         "alignmentgroup": "True",
         "bingroup": "x",
         "hovertemplate": "fraud_reported=N<br>incident_state=%{x}<br>count=%{y}<extra></extra>",
         "legendgroup": "N",
         "marker": {
          "color": "#EF553B",
          "pattern": {
           "shape": ""
          }
         },
         "name": "N",
         "offsetgroup": "N",
         "orientation": "v",
         "showlegend": true,
         "type": "histogram",
         "x": [
          "NY",
          "NY",
          "NY",
          "VA",
          "WV",
          "NC",
          "NY",
          "SC",
          "SC",
          "SC",
          "NY",
          "WV",
          "NY",
          "VA",
          "NY",
          "SC",
          "VA",
          "PA",
          "SC",
          "SC",
          "SC",
          "NY",
          "NY",
          "WV",
          "WV",
          "NY",
          "WV",
          "SC",
          "NC",
          "SC",
          "NY",
          "NC",
          "NY",
          "WV",
          "NY",
          "NY",
          "WV",
          "NC",
          "VA",
          "NY",
          "SC",
          "VA",
          "WV",
          "VA",
          "OH",
          "WV",
          "WV",
          "WV",
          "NC",
          "NC",
          "SC",
          "VA",
          "SC",
          "NY",
          "WV",
          "SC",
          "NC",
          "NC",
          "NY",
          "VA",
          "NY",
          "SC",
          "VA",
          "WV",
          "SC",
          "WV",
          "NC",
          "SC",
          "OH",
          "WV",
          "NC",
          "SC",
          "WV",
          "NC",
          "WV",
          "SC",
          "WV",
          "WV",
          "SC",
          "WV",
          "VA",
          "VA",
          "SC",
          "NY",
          "NY",
          "SC",
          "NC",
          "WV",
          "NY",
          "WV",
          "PA",
          "NY",
          "WV",
          "NC",
          "WV",
          "WV",
          "VA",
          "SC",
          "NC",
          "VA",
          "NY",
          "SC",
          "SC",
          "WV",
          "WV",
          "NY",
          "NC",
          "WV",
          "NY",
          "WV",
          "WV",
          "NY",
          "VA",
          "SC",
          "NY",
          "PA",
          "WV",
          "NY",
          "SC",
          "NY",
          "NY",
          "SC",
          "PA",
          "WV",
          "PA",
          "OH",
          "SC",
          "WV",
          "NY",
          "VA",
          "SC",
          "VA",
          "NY",
          "NC",
          "NY",
          "VA",
          "SC",
          "SC",
          "SC",
          "VA",
          "VA",
          "NC",
          "WV",
          "NY",
          "SC",
          "NY",
          "WV",
          "NY",
          "SC",
          "WV",
          "SC",
          "VA",
          "SC",
          "WV",
          "NC",
          "OH",
          "NY",
          "NY",
          "NC",
          "SC",
          "NY",
          "NY",
          "NY",
          "VA",
          "NY",
          "NY",
          "WV",
          "SC",
          "NY",
          "SC",
          "WV",
          "OH",
          "NY",
          "NY",
          "NY",
          "WV",
          "SC",
          "SC",
          "NY",
          "PA",
          "NY",
          "SC",
          "NC",
          "WV",
          "NY",
          "SC",
          "NY",
          "SC",
          "SC",
          "SC",
          "NC",
          "SC",
          "PA",
          "SC",
          "VA",
          "NY",
          "NY",
          "NY",
          "SC",
          "WV",
          "SC",
          "PA",
          "SC",
          "WV",
          "VA",
          "SC",
          "SC",
          "VA",
          "NC",
          "OH",
          "NY",
          "SC",
          "PA",
          "SC",
          "WV",
          "PA",
          "SC",
          "NY",
          "NC",
          "NY",
          "NY",
          "NY",
          "NY",
          "SC",
          "WV",
          "SC",
          "WV",
          "WV",
          "VA",
          "NY",
          "NY",
          "SC",
          "WV",
          "PA",
          "NY",
          "NY",
          "NY",
          "NY",
          "SC",
          "VA",
          "NC",
          "WV",
          "SC",
          "NY",
          "NY",
          "NY",
          "SC",
          "WV",
          "VA",
          "WV",
          "VA",
          "SC",
          "VA",
          "VA",
          "SC",
          "NY",
          "WV",
          "WV",
          "NY",
          "SC",
          "VA",
          "SC",
          "VA",
          "WV",
          "NC",
          "VA",
          "SC",
          "SC",
          "NY",
          "WV",
          "VA",
          "NY",
          "SC",
          "SC",
          "NY",
          "NY",
          "WV",
          "NY",
          "NY",
          "WV",
          "WV",
          "NY",
          "NY",
          "WV",
          "SC",
          "NY",
          "VA",
          "WV",
          "NY",
          "WV",
          "NY",
          "NC",
          "WV",
          "WV",
          "VA",
          "OH",
          "NC",
          "WV",
          "SC",
          "NY",
          "PA",
          "NC",
          "WV",
          "NY",
          "NY",
          "NC",
          "NY",
          "SC",
          "SC",
          "WV",
          "SC",
          "WV",
          "NC",
          "NY",
          "OH",
          "VA",
          "NY",
          "NC",
          "PA",
          "PA",
          "WV",
          "VA",
          "NY",
          "WV",
          "VA",
          "NC",
          "NY",
          "NC",
          "SC",
          "WV",
          "NY",
          "SC",
          "NY",
          "NY",
          "NY",
          "WV",
          "NY",
          "NC",
          "NY",
          "WV",
          "NY",
          "SC",
          "VA",
          "SC",
          "VA",
          "WV",
          "NC",
          "WV",
          "WV",
          "SC",
          "NC",
          "SC",
          "PA",
          "NY",
          "NC",
          "NY",
          "VA",
          "NY",
          "SC",
          "WV",
          "VA",
          "NY",
          "NY",
          "SC",
          "NY",
          "NY",
          "NC",
          "SC",
          "WV",
          "WV",
          "SC",
          "WV",
          "NY",
          "NY",
          "NY",
          "NY",
          "WV",
          "NY",
          "WV",
          "NY",
          "NY",
          "WV",
          "SC",
          "NY",
          "NY",
          "WV",
          "SC",
          "SC",
          "NC",
          "SC",
          "VA",
          "SC",
          "WV",
          "SC",
          "SC",
          "VA",
          "SC",
          "WV",
          "WV",
          "NY",
          "SC",
          "VA",
          "NC",
          "NC",
          "SC",
          "SC",
          "VA",
          "VA",
          "SC",
          "NC",
          "SC",
          "NC",
          "SC",
          "WV",
          "NC",
          "WV",
          "WV",
          "NY",
          "NY",
          "VA",
          "WV",
          "SC",
          "WV",
          "SC",
          "WV",
          "SC",
          "NY",
          "SC",
          "NY",
          "WV",
          "NC",
          "NC",
          "SC",
          "NY",
          "WV",
          "OH",
          "WV",
          "NY",
          "WV",
          "PA",
          "SC",
          "SC",
          "NC",
          "WV",
          "NY",
          "WV",
          "NC",
          "WV",
          "SC",
          "NY",
          "SC",
          "NY",
          "VA",
          "NY",
          "NY",
          "WV",
          "NY",
          "SC",
          "NY",
          "WV",
          "NY",
          "SC",
          "NY",
          "NY",
          "WV",
          "SC",
          "NC",
          "SC",
          "WV",
          "NY",
          "SC",
          "VA",
          "WV",
          "WV",
          "WV",
          "VA",
          "NY",
          "NY",
          "SC",
          "NY",
          "SC",
          "NY",
          "NY",
          "NY",
          "NY",
          "NY",
          "WV",
          "WV",
          "SC",
          "NC",
          "SC",
          "SC",
          "VA",
          "WV",
          "NY",
          "NY",
          "SC",
          "VA",
          "SC",
          "PA",
          "SC",
          "WV",
          "SC",
          "VA",
          "SC",
          "NY",
          "NY",
          "SC",
          "NC",
          "NY",
          "NC",
          "SC",
          "NY",
          "NY",
          "WV",
          "WV",
          "SC",
          "NY",
          "WV",
          "WV",
          "WV",
          "WV",
          "WV",
          "VA",
          "SC",
          "NY",
          "SC",
          "SC",
          "SC",
          "NY",
          "WV",
          "NY",
          "PA",
          "SC",
          "NY",
          "OH",
          "WV",
          "VA",
          "NC",
          "SC",
          "VA",
          "SC",
          "WV",
          "NY",
          "WV",
          "SC",
          "NC",
          "WV",
          "WV",
          "WV",
          "NC",
          "WV",
          "WV",
          "NY",
          "SC",
          "WV",
          "NY",
          "NC",
          "NY",
          "VA",
          "WV",
          "WV",
          "SC",
          "VA",
          "NY",
          "NY",
          "NY",
          "SC",
          "VA",
          "NY",
          "VA",
          "SC",
          "WV",
          "VA",
          "NY",
          "WV",
          "WV",
          "WV",
          "WV",
          "NC",
          "WV",
          "NC",
          "WV",
          "NC",
          "NY",
          "NY",
          "NY",
          "SC",
          "VA",
          "SC",
          "VA",
          "NY",
          "WV",
          "WV",
          "NC",
          "NY",
          "VA",
          "SC",
          "NY",
          "NY",
          "WV",
          "WV",
          "SC",
          "NY",
          "NC",
          "NY",
          "WV",
          "WV",
          "VA",
          "SC",
          "SC",
          "WV",
          "SC",
          "VA",
          "NY",
          "WV",
          "PA",
          "SC",
          "NY",
          "WV",
          "SC",
          "PA",
          "VA",
          "WV",
          "SC",
          "NC",
          "VA",
          "SC",
          "SC",
          "SC",
          "WV",
          "VA",
          "VA",
          "NY",
          "NC",
          "NY",
          "NY",
          "WV",
          "WV",
          "SC",
          "WV",
          "NY",
          "SC",
          "SC",
          "NY",
          "NY",
          "WV",
          "SC",
          "WV",
          "NY",
          "NY",
          "NY",
          "WV",
          "WV",
          "NC",
          "WV",
          "NY",
          "NC",
          "NY",
          "WV",
          "NC",
          "SC",
          "VA",
          "SC",
          "VA",
          "NC",
          "SC",
          "WV",
          "NC",
          "NY",
          "SC",
          "NY",
          "WV",
          "NC",
          "NY",
          "NY",
          "SC",
          "WV",
          "VA",
          "SC",
          "WV",
          "WV",
          "SC",
          "PA",
          "WV",
          "WV",
          "NY",
          "NY",
          "NY",
          "NY",
          "WV",
          "NY",
          "WV",
          "SC",
          "WV",
          "VA",
          "VA",
          "PA",
          "NC",
          "NY",
          "VA",
          "NY",
          "VA",
          "NY",
          "NY",
          "SC",
          "NC",
          "SC",
          "SC",
          "WV",
          "WV",
          "WV",
          "SC",
          "NC",
          "VA",
          "WV",
          "WV",
          "NY",
          "SC",
          "WV",
          "NC",
          "VA",
          "NY",
          "VA",
          "VA",
          "WV",
          "SC",
          "NC",
          "NY",
          "SC",
          "SC",
          "VA",
          "VA",
          "WV",
          "NY",
          "NY",
          "OH",
          "NY",
          "SC",
          "WV",
          "WV",
          "NY",
          "SC",
          "NY",
          "WV",
          "OH",
          "OH",
          "SC",
          "NC",
          "SC",
          "NC",
          "NY",
          "WV"
         ],
         "xaxis": "x",
         "yaxis": "y"
        }
       ],
       "layout": {
        "barmode": "relative",
        "legend": {
         "title": {
          "text": "fraud_reported"
         },
         "tracegroupgap": 0
        },
        "margin": {
         "t": 60
        },
        "template": {
         "data": {
          "bar": [
           {
            "error_x": {
             "color": "#2a3f5f"
            },
            "error_y": {
             "color": "#2a3f5f"
            },
            "marker": {
             "line": {
              "color": "#E5ECF6",
              "width": 0.5
             },
             "pattern": {
              "fillmode": "overlay",
              "size": 10,
              "solidity": 0.2
             }
            },
            "type": "bar"
           }
          ],
          "barpolar": [
           {
            "marker": {
             "line": {
              "color": "#E5ECF6",
              "width": 0.5
             },
             "pattern": {
              "fillmode": "overlay",
              "size": 10,
              "solidity": 0.2
             }
            },
            "type": "barpolar"
           }
          ],
          "carpet": [
           {
            "aaxis": {
             "endlinecolor": "#2a3f5f",
             "gridcolor": "white",
             "linecolor": "white",
             "minorgridcolor": "white",
             "startlinecolor": "#2a3f5f"
            },
            "baxis": {
             "endlinecolor": "#2a3f5f",
             "gridcolor": "white",
             "linecolor": "white",
             "minorgridcolor": "white",
             "startlinecolor": "#2a3f5f"
            },
            "type": "carpet"
           }
          ],
          "choropleth": [
           {
            "colorbar": {
             "outlinewidth": 0,
             "ticks": ""
            },
            "type": "choropleth"
           }
          ],
          "contour": [
           {
            "colorbar": {
             "outlinewidth": 0,
             "ticks": ""
            },
            "colorscale": [
             [
              0,
              "#0d0887"
             ],
             [
              0.1111111111111111,
              "#46039f"
             ],
             [
              0.2222222222222222,
              "#7201a8"
             ],
             [
              0.3333333333333333,
              "#9c179e"
             ],
             [
              0.4444444444444444,
              "#bd3786"
             ],
             [
              0.5555555555555556,
              "#d8576b"
             ],
             [
              0.6666666666666666,
              "#ed7953"
             ],
             [
              0.7777777777777778,
              "#fb9f3a"
             ],
             [
              0.8888888888888888,
              "#fdca26"
             ],
             [
              1,
              "#f0f921"
             ]
            ],
            "type": "contour"
           }
          ],
          "contourcarpet": [
           {
            "colorbar": {
             "outlinewidth": 0,
             "ticks": ""
            },
            "type": "contourcarpet"
           }
          ],
          "heatmap": [
           {
            "colorbar": {
             "outlinewidth": 0,
             "ticks": ""
            },
            "colorscale": [
             [
              0,
              "#0d0887"
             ],
             [
              0.1111111111111111,
              "#46039f"
             ],
             [
              0.2222222222222222,
              "#7201a8"
             ],
             [
              0.3333333333333333,
              "#9c179e"
             ],
             [
              0.4444444444444444,
              "#bd3786"
             ],
             [
              0.5555555555555556,
              "#d8576b"
             ],
             [
              0.6666666666666666,
              "#ed7953"
             ],
             [
              0.7777777777777778,
              "#fb9f3a"
             ],
             [
              0.8888888888888888,
              "#fdca26"
             ],
             [
              1,
              "#f0f921"
             ]
            ],
            "type": "heatmap"
           }
          ],
          "heatmapgl": [
           {
            "colorbar": {
             "outlinewidth": 0,
             "ticks": ""
            },
            "colorscale": [
             [
              0,
              "#0d0887"
             ],
             [
              0.1111111111111111,
              "#46039f"
             ],
             [
              0.2222222222222222,
              "#7201a8"
             ],
             [
              0.3333333333333333,
              "#9c179e"
             ],
             [
              0.4444444444444444,
              "#bd3786"
             ],
             [
              0.5555555555555556,
              "#d8576b"
             ],
             [
              0.6666666666666666,
              "#ed7953"
             ],
             [
              0.7777777777777778,
              "#fb9f3a"
             ],
             [
              0.8888888888888888,
              "#fdca26"
             ],
             [
              1,
              "#f0f921"
             ]
            ],
            "type": "heatmapgl"
           }
          ],
          "histogram": [
           {
            "marker": {
             "pattern": {
              "fillmode": "overlay",
              "size": 10,
              "solidity": 0.2
             }
            },
            "type": "histogram"
           }
          ],
          "histogram2d": [
           {
            "colorbar": {
             "outlinewidth": 0,
             "ticks": ""
            },
            "colorscale": [
             [
              0,
              "#0d0887"
             ],
             [
              0.1111111111111111,
              "#46039f"
             ],
             [
              0.2222222222222222,
              "#7201a8"
             ],
             [
              0.3333333333333333,
              "#9c179e"
             ],
             [
              0.4444444444444444,
              "#bd3786"
             ],
             [
              0.5555555555555556,
              "#d8576b"
             ],
             [
              0.6666666666666666,
              "#ed7953"
             ],
             [
              0.7777777777777778,
              "#fb9f3a"
             ],
             [
              0.8888888888888888,
              "#fdca26"
             ],
             [
              1,
              "#f0f921"
             ]
            ],
            "type": "histogram2d"
           }
          ],
          "histogram2dcontour": [
           {
            "colorbar": {
             "outlinewidth": 0,
             "ticks": ""
            },
            "colorscale": [
             [
              0,
              "#0d0887"
             ],
             [
              0.1111111111111111,
              "#46039f"
             ],
             [
              0.2222222222222222,
              "#7201a8"
             ],
             [
              0.3333333333333333,
              "#9c179e"
             ],
             [
              0.4444444444444444,
              "#bd3786"
             ],
             [
              0.5555555555555556,
              "#d8576b"
             ],
             [
              0.6666666666666666,
              "#ed7953"
             ],
             [
              0.7777777777777778,
              "#fb9f3a"
             ],
             [
              0.8888888888888888,
              "#fdca26"
             ],
             [
              1,
              "#f0f921"
             ]
            ],
            "type": "histogram2dcontour"
           }
          ],
          "mesh3d": [
           {
            "colorbar": {
             "outlinewidth": 0,
             "ticks": ""
            },
            "type": "mesh3d"
           }
          ],
          "parcoords": [
           {
            "line": {
             "colorbar": {
              "outlinewidth": 0,
              "ticks": ""
             }
            },
            "type": "parcoords"
           }
          ],
          "pie": [
           {
            "automargin": true,
            "type": "pie"
           }
          ],
          "scatter": [
           {
            "marker": {
             "colorbar": {
              "outlinewidth": 0,
              "ticks": ""
             }
            },
            "type": "scatter"
           }
          ],
          "scatter3d": [
           {
            "line": {
             "colorbar": {
              "outlinewidth": 0,
              "ticks": ""
             }
            },
            "marker": {
             "colorbar": {
              "outlinewidth": 0,
              "ticks": ""
             }
            },
            "type": "scatter3d"
           }
          ],
          "scattercarpet": [
           {
            "marker": {
             "colorbar": {
              "outlinewidth": 0,
              "ticks": ""
             }
            },
            "type": "scattercarpet"
           }
          ],
          "scattergeo": [
           {
            "marker": {
             "colorbar": {
              "outlinewidth": 0,
              "ticks": ""
             }
            },
            "type": "scattergeo"
           }
          ],
          "scattergl": [
           {
            "marker": {
             "colorbar": {
              "outlinewidth": 0,
              "ticks": ""
             }
            },
            "type": "scattergl"
           }
          ],
          "scattermapbox": [
           {
            "marker": {
             "colorbar": {
              "outlinewidth": 0,
              "ticks": ""
             }
            },
            "type": "scattermapbox"
           }
          ],
          "scatterpolar": [
           {
            "marker": {
             "colorbar": {
              "outlinewidth": 0,
              "ticks": ""
             }
            },
            "type": "scatterpolar"
           }
          ],
          "scatterpolargl": [
           {
            "marker": {
             "colorbar": {
              "outlinewidth": 0,
              "ticks": ""
             }
            },
            "type": "scatterpolargl"
           }
          ],
          "scatterternary": [
           {
            "marker": {
             "colorbar": {
              "outlinewidth": 0,
              "ticks": ""
             }
            },
            "type": "scatterternary"
           }
          ],
          "surface": [
           {
            "colorbar": {
             "outlinewidth": 0,
             "ticks": ""
            },
            "colorscale": [
             [
              0,
              "#0d0887"
             ],
             [
              0.1111111111111111,
              "#46039f"
             ],
             [
              0.2222222222222222,
              "#7201a8"
             ],
             [
              0.3333333333333333,
              "#9c179e"
             ],
             [
              0.4444444444444444,
              "#bd3786"
             ],
             [
              0.5555555555555556,
              "#d8576b"
             ],
             [
              0.6666666666666666,
              "#ed7953"
             ],
             [
              0.7777777777777778,
              "#fb9f3a"
             ],
             [
              0.8888888888888888,
              "#fdca26"
             ],
             [
              1,
              "#f0f921"
             ]
            ],
            "type": "surface"
           }
          ],
          "table": [
           {
            "cells": {
             "fill": {
              "color": "#EBF0F8"
             },
             "line": {
              "color": "white"
             }
            },
            "header": {
             "fill": {
              "color": "#C8D4E3"
             },
             "line": {
              "color": "white"
             }
            },
            "type": "table"
           }
          ]
         },
         "layout": {
          "annotationdefaults": {
           "arrowcolor": "#2a3f5f",
           "arrowhead": 0,
           "arrowwidth": 1
          },
          "autotypenumbers": "strict",
          "coloraxis": {
           "colorbar": {
            "outlinewidth": 0,
            "ticks": ""
           }
          },
          "colorscale": {
           "diverging": [
            [
             0,
             "#8e0152"
            ],
            [
             0.1,
             "#c51b7d"
            ],
            [
             0.2,
             "#de77ae"
            ],
            [
             0.3,
             "#f1b6da"
            ],
            [
             0.4,
             "#fde0ef"
            ],
            [
             0.5,
             "#f7f7f7"
            ],
            [
             0.6,
             "#e6f5d0"
            ],
            [
             0.7,
             "#b8e186"
            ],
            [
             0.8,
             "#7fbc41"
            ],
            [
             0.9,
             "#4d9221"
            ],
            [
             1,
             "#276419"
            ]
           ],
           "sequential": [
            [
             0,
             "#0d0887"
            ],
            [
             0.1111111111111111,
             "#46039f"
            ],
            [
             0.2222222222222222,
             "#7201a8"
            ],
            [
             0.3333333333333333,
             "#9c179e"
            ],
            [
             0.4444444444444444,
             "#bd3786"
            ],
            [
             0.5555555555555556,
             "#d8576b"
            ],
            [
             0.6666666666666666,
             "#ed7953"
            ],
            [
             0.7777777777777778,
             "#fb9f3a"
            ],
            [
             0.8888888888888888,
             "#fdca26"
            ],
            [
             1,
             "#f0f921"
            ]
           ],
           "sequentialminus": [
            [
             0,
             "#0d0887"
            ],
            [
             0.1111111111111111,
             "#46039f"
            ],
            [
             0.2222222222222222,
             "#7201a8"
            ],
            [
             0.3333333333333333,
             "#9c179e"
            ],
            [
             0.4444444444444444,
             "#bd3786"
            ],
            [
             0.5555555555555556,
             "#d8576b"
            ],
            [
             0.6666666666666666,
             "#ed7953"
            ],
            [
             0.7777777777777778,
             "#fb9f3a"
            ],
            [
             0.8888888888888888,
             "#fdca26"
            ],
            [
             1,
             "#f0f921"
            ]
           ]
          },
          "colorway": [
           "#636efa",
           "#EF553B",
           "#00cc96",
           "#ab63fa",
           "#FFA15A",
           "#19d3f3",
           "#FF6692",
           "#B6E880",
           "#FF97FF",
           "#FECB52"
          ],
          "font": {
           "color": "#2a3f5f"
          },
          "geo": {
           "bgcolor": "white",
           "lakecolor": "white",
           "landcolor": "#E5ECF6",
           "showlakes": true,
           "showland": true,
           "subunitcolor": "white"
          },
          "hoverlabel": {
           "align": "left"
          },
          "hovermode": "closest",
          "mapbox": {
           "style": "light"
          },
          "paper_bgcolor": "white",
          "plot_bgcolor": "#E5ECF6",
          "polar": {
           "angularaxis": {
            "gridcolor": "white",
            "linecolor": "white",
            "ticks": ""
           },
           "bgcolor": "#E5ECF6",
           "radialaxis": {
            "gridcolor": "white",
            "linecolor": "white",
            "ticks": ""
           }
          },
          "scene": {
           "xaxis": {
            "backgroundcolor": "#E5ECF6",
            "gridcolor": "white",
            "gridwidth": 2,
            "linecolor": "white",
            "showbackground": true,
            "ticks": "",
            "zerolinecolor": "white"
           },
           "yaxis": {
            "backgroundcolor": "#E5ECF6",
            "gridcolor": "white",
            "gridwidth": 2,
            "linecolor": "white",
            "showbackground": true,
            "ticks": "",
            "zerolinecolor": "white"
           },
           "zaxis": {
            "backgroundcolor": "#E5ECF6",
            "gridcolor": "white",
            "gridwidth": 2,
            "linecolor": "white",
            "showbackground": true,
            "ticks": "",
            "zerolinecolor": "white"
           }
          },
          "shapedefaults": {
           "line": {
            "color": "#2a3f5f"
           }
          },
          "ternary": {
           "aaxis": {
            "gridcolor": "white",
            "linecolor": "white",
            "ticks": ""
           },
           "baxis": {
            "gridcolor": "white",
            "linecolor": "white",
            "ticks": ""
           },
           "bgcolor": "#E5ECF6",
           "caxis": {
            "gridcolor": "white",
            "linecolor": "white",
            "ticks": ""
           }
          },
          "title": {
           "x": 0.05
          },
          "xaxis": {
           "automargin": true,
           "gridcolor": "white",
           "linecolor": "white",
           "ticks": "",
           "title": {
            "standoff": 15
           },
           "zerolinecolor": "white",
           "zerolinewidth": 2
          },
          "yaxis": {
           "automargin": true,
           "gridcolor": "white",
           "linecolor": "white",
           "ticks": "",
           "title": {
            "standoff": 15
           },
           "zerolinecolor": "white",
           "zerolinewidth": 2
          }
         }
        },
        "xaxis": {
         "anchor": "y",
         "domain": [
          0,
          1
         ],
         "title": {
          "text": "incident_state"
         }
        },
        "yaxis": {
         "anchor": "x",
         "domain": [
          0,
          1
         ],
         "title": {
          "text": "count"
         }
        }
       }
      }
     },
     "metadata": {},
     "output_type": "display_data"
    }
   ],
   "source": [
    "fig = px.histogram(df, x=\"incident_state\", color=\"fraud_reported\")\n",
    "fig.show()"
   ]
  },
  {
   "cell_type": "code",
   "execution_count": 211,
   "metadata": {},
   "outputs": [
    {
     "data": {
      "application/vnd.plotly.v1+json": {
       "config": {
        "plotlyServerURL": "https://plot.ly"
       },
       "data": [
        {
         "alignmentgroup": "True",
         "bingroup": "x",
         "hovertemplate": "fraud_reported=Y<br>incident_city=%{x}<br>count=%{y}<extra></extra>",
         "legendgroup": "Y",
         "marker": {
          "color": "#636efa",
          "pattern": {
           "shape": ""
          }
         },
         "name": "Y",
         "offsetgroup": "Y",
         "orientation": "v",
         "showlegend": true,
         "type": "histogram",
         "x": [
          "Columbus",
          "Riverwood",
          "Arlington",
          "Arlington",
          "Springfield",
          "Hillsdale",
          "Hillsdale",
          "Northbend",
          "Arlington",
          "Northbrook",
          "Riverwood",
          "Springfield",
          "Northbrook",
          "Columbus",
          "Northbrook",
          "Arlington",
          "Springfield",
          "Northbend",
          "Riverwood",
          "Arlington",
          "Springfield",
          "Hillsdale",
          "Northbrook",
          "Northbrook",
          "Hillsdale",
          "Columbus",
          "Columbus",
          "Springfield",
          "Hillsdale",
          "Northbend",
          "Northbrook",
          "Springfield",
          "Springfield",
          "Riverwood",
          "Northbend",
          "Northbrook",
          "Columbus",
          "Northbend",
          "Northbend",
          "Springfield",
          "Springfield",
          "Northbrook",
          "Northbend",
          "Springfield",
          "Springfield",
          "Riverwood",
          "Northbrook",
          "Riverwood",
          "Arlington",
          "Riverwood",
          "Riverwood",
          "Northbend",
          "Northbend",
          "Hillsdale",
          "Springfield",
          "Columbus",
          "Springfield",
          "Columbus",
          "Springfield",
          "Hillsdale",
          "Hillsdale",
          "Arlington",
          "Riverwood",
          "Columbus",
          "Columbus",
          "Arlington",
          "Columbus",
          "Springfield",
          "Northbend",
          "Riverwood",
          "Northbrook",
          "Columbus",
          "Northbend",
          "Arlington",
          "Arlington",
          "Columbus",
          "Arlington",
          "Northbrook",
          "Northbend",
          "Arlington",
          "Riverwood",
          "Northbrook",
          "Northbend",
          "Columbus",
          "Arlington",
          "Riverwood",
          "Arlington",
          "Springfield",
          "Northbrook",
          "Springfield",
          "Springfield",
          "Columbus",
          "Springfield",
          "Riverwood",
          "Arlington",
          "Northbend",
          "Columbus",
          "Riverwood",
          "Northbend",
          "Springfield",
          "Columbus",
          "Northbend",
          "Northbend",
          "Hillsdale",
          "Arlington",
          "Northbend",
          "Arlington",
          "Columbus",
          "Springfield",
          "Arlington",
          "Arlington",
          "Columbus",
          "Riverwood",
          "Arlington",
          "Northbrook",
          "Springfield",
          "Northbend",
          "Hillsdale",
          "Hillsdale",
          "Northbend",
          "Riverwood",
          "Riverwood",
          "Arlington",
          "Riverwood",
          "Springfield",
          "Columbus",
          "Northbend",
          "Riverwood",
          "Arlington",
          "Riverwood",
          "Columbus",
          "Northbrook",
          "Arlington",
          "Hillsdale",
          "Northbrook",
          "Springfield",
          "Northbrook",
          "Arlington",
          "Northbend",
          "Arlington",
          "Northbrook",
          "Hillsdale",
          "Northbrook",
          "Riverwood",
          "Arlington",
          "Columbus",
          "Springfield",
          "Northbend",
          "Northbrook",
          "Springfield",
          "Columbus",
          "Arlington",
          "Northbrook",
          "Springfield",
          "Hillsdale",
          "Hillsdale",
          "Columbus",
          "Hillsdale",
          "Hillsdale",
          "Riverwood",
          "Northbrook",
          "Columbus",
          "Columbus",
          "Columbus",
          "Hillsdale",
          "Columbus",
          "Springfield",
          "Northbend",
          "Riverwood",
          "Arlington",
          "Northbend",
          "Hillsdale",
          "Hillsdale",
          "Columbus",
          "Arlington",
          "Arlington",
          "Hillsdale",
          "Columbus",
          "Northbend",
          "Columbus",
          "Arlington",
          "Hillsdale",
          "Columbus",
          "Springfield",
          "Hillsdale",
          "Riverwood",
          "Springfield",
          "Riverwood",
          "Northbend",
          "Northbrook",
          "Hillsdale",
          "Springfield",
          "Arlington",
          "Arlington",
          "Riverwood",
          "Arlington",
          "Columbus",
          "Arlington",
          "Columbus",
          "Columbus",
          "Springfield",
          "Northbend",
          "Hillsdale",
          "Arlington",
          "Northbend",
          "Hillsdale",
          "Columbus",
          "Northbrook",
          "Riverwood",
          "Hillsdale",
          "Arlington",
          "Arlington",
          "Springfield",
          "Columbus",
          "Springfield",
          "Northbend",
          "Hillsdale",
          "Springfield",
          "Arlington",
          "Hillsdale",
          "Arlington",
          "Columbus",
          "Northbrook",
          "Hillsdale",
          "Riverwood",
          "Northbend",
          "Northbend",
          "Northbend",
          "Hillsdale",
          "Hillsdale",
          "Columbus",
          "Northbrook",
          "Arlington",
          "Springfield",
          "Hillsdale",
          "Northbrook",
          "Arlington",
          "Hillsdale",
          "Springfield",
          "Arlington",
          "Northbend",
          "Columbus",
          "Riverwood",
          "Springfield",
          "Arlington",
          "Riverwood",
          "Hillsdale"
         ],
         "xaxis": "x",
         "yaxis": "y"
        },
        {
         "alignmentgroup": "True",
         "bingroup": "x",
         "hovertemplate": "fraud_reported=N<br>incident_city=%{x}<br>count=%{y}<extra></extra>",
         "legendgroup": "N",
         "marker": {
          "color": "#EF553B",
          "pattern": {
           "shape": ""
          }
         },
         "name": "N",
         "offsetgroup": "N",
         "orientation": "v",
         "showlegend": true,
         "type": "histogram",
         "x": [
          "Columbus",
          "Arlington",
          "Springfield",
          "Columbus",
          "Arlington",
          "Hillsdale",
          "Northbend",
          "Springfield",
          "Northbend",
          "Springfield",
          "Riverwood",
          "Northbend",
          "Northbrook",
          "Columbus",
          "Columbus",
          "Arlington",
          "Riverwood",
          "Arlington",
          "Northbend",
          "Northbrook",
          "Columbus",
          "Arlington",
          "Hillsdale",
          "Hillsdale",
          "Arlington",
          "Hillsdale",
          "Columbus",
          "Springfield",
          "Arlington",
          "Springfield",
          "Arlington",
          "Northbend",
          "Arlington",
          "Springfield",
          "Riverwood",
          "Arlington",
          "Northbend",
          "Columbus",
          "Northbend",
          "Arlington",
          "Columbus",
          "Riverwood",
          "Riverwood",
          "Hillsdale",
          "Springfield",
          "Hillsdale",
          "Hillsdale",
          "Northbrook",
          "Riverwood",
          "Arlington",
          "Riverwood",
          "Springfield",
          "Riverwood",
          "Springfield",
          "Northbrook",
          "Springfield",
          "Arlington",
          "Northbrook",
          "Northbrook",
          "Hillsdale",
          "Northbrook",
          "Columbus",
          "Springfield",
          "Arlington",
          "Arlington",
          "Springfield",
          "Riverwood",
          "Northbend",
          "Northbrook",
          "Columbus",
          "Northbrook",
          "Northbend",
          "Northbend",
          "Northbrook",
          "Northbend",
          "Northbend",
          "Columbus",
          "Columbus",
          "Riverwood",
          "Columbus",
          "Hillsdale",
          "Northbrook",
          "Hillsdale",
          "Hillsdale",
          "Arlington",
          "Hillsdale",
          "Arlington",
          "Northbend",
          "Hillsdale",
          "Columbus",
          "Northbrook",
          "Arlington",
          "Columbus",
          "Arlington",
          "Northbend",
          "Northbend",
          "Riverwood",
          "Springfield",
          "Springfield",
          "Springfield",
          "Northbend",
          "Northbrook",
          "Northbend",
          "Springfield",
          "Northbrook",
          "Columbus",
          "Hillsdale",
          "Columbus",
          "Columbus",
          "Northbend",
          "Springfield",
          "Columbus",
          "Springfield",
          "Northbrook",
          "Hillsdale",
          "Columbus",
          "Columbus",
          "Northbend",
          "Hillsdale",
          "Hillsdale",
          "Arlington",
          "Arlington",
          "Hillsdale",
          "Riverwood",
          "Hillsdale",
          "Hillsdale",
          "Columbus",
          "Northbend",
          "Hillsdale",
          "Riverwood",
          "Springfield",
          "Springfield",
          "Northbend",
          "Riverwood",
          "Northbrook",
          "Columbus",
          "Riverwood",
          "Springfield",
          "Arlington",
          "Hillsdale",
          "Northbrook",
          "Columbus",
          "Arlington",
          "Riverwood",
          "Arlington",
          "Hillsdale",
          "Hillsdale",
          "Springfield",
          "Riverwood",
          "Northbend",
          "Springfield",
          "Springfield",
          "Riverwood",
          "Columbus",
          "Hillsdale",
          "Columbus",
          "Riverwood",
          "Columbus",
          "Springfield",
          "Northbrook",
          "Springfield",
          "Hillsdale",
          "Columbus",
          "Arlington",
          "Springfield",
          "Riverwood",
          "Hillsdale",
          "Columbus",
          "Columbus",
          "Arlington",
          "Springfield",
          "Hillsdale",
          "Riverwood",
          "Arlington",
          "Springfield",
          "Northbrook",
          "Riverwood",
          "Hillsdale",
          "Riverwood",
          "Springfield",
          "Northbend",
          "Hillsdale",
          "Arlington",
          "Springfield",
          "Hillsdale",
          "Arlington",
          "Springfield",
          "Riverwood",
          "Hillsdale",
          "Northbend",
          "Hillsdale",
          "Springfield",
          "Springfield",
          "Hillsdale",
          "Arlington",
          "Hillsdale",
          "Arlington",
          "Columbus",
          "Riverwood",
          "Columbus",
          "Northbend",
          "Columbus",
          "Northbrook",
          "Riverwood",
          "Northbrook",
          "Hillsdale",
          "Riverwood",
          "Northbrook",
          "Arlington",
          "Springfield",
          "Columbus",
          "Northbrook",
          "Hillsdale",
          "Northbend",
          "Northbend",
          "Northbend",
          "Riverwood",
          "Riverwood",
          "Arlington",
          "Columbus",
          "Springfield",
          "Northbrook",
          "Northbend",
          "Hillsdale",
          "Hillsdale",
          "Northbend",
          "Northbend",
          "Riverwood",
          "Northbend",
          "Northbend",
          "Columbus",
          "Hillsdale",
          "Riverwood",
          "Northbend",
          "Northbend",
          "Hillsdale",
          "Arlington",
          "Springfield",
          "Northbend",
          "Arlington",
          "Arlington",
          "Hillsdale",
          "Columbus",
          "Springfield",
          "Hillsdale",
          "Columbus",
          "Columbus",
          "Northbend",
          "Hillsdale",
          "Springfield",
          "Arlington",
          "Arlington",
          "Columbus",
          "Riverwood",
          "Hillsdale",
          "Springfield",
          "Hillsdale",
          "Columbus",
          "Springfield",
          "Columbus",
          "Arlington",
          "Northbrook",
          "Northbend",
          "Northbend",
          "Columbus",
          "Riverwood",
          "Hillsdale",
          "Northbend",
          "Springfield",
          "Arlington",
          "Northbrook",
          "Springfield",
          "Northbend",
          "Springfield",
          "Riverwood",
          "Northbend",
          "Northbrook",
          "Hillsdale",
          "Columbus",
          "Northbrook",
          "Arlington",
          "Arlington",
          "Columbus",
          "Northbend",
          "Northbend",
          "Riverwood",
          "Hillsdale",
          "Columbus",
          "Columbus",
          "Springfield",
          "Columbus",
          "Northbend",
          "Hillsdale",
          "Arlington",
          "Hillsdale",
          "Riverwood",
          "Springfield",
          "Northbrook",
          "Arlington",
          "Riverwood",
          "Northbend",
          "Riverwood",
          "Northbrook",
          "Riverwood",
          "Hillsdale",
          "Riverwood",
          "Springfield",
          "Northbend",
          "Northbend",
          "Columbus",
          "Northbend",
          "Arlington",
          "Hillsdale",
          "Columbus",
          "Arlington",
          "Columbus",
          "Columbus",
          "Riverwood",
          "Northbend",
          "Riverwood",
          "Northbrook",
          "Hillsdale",
          "Columbus",
          "Hillsdale",
          "Columbus",
          "Arlington",
          "Springfield",
          "Riverwood",
          "Arlington",
          "Northbend",
          "Northbrook",
          "Northbrook",
          "Hillsdale",
          "Arlington",
          "Northbend",
          "Springfield",
          "Columbus",
          "Hillsdale",
          "Hillsdale",
          "Northbend",
          "Springfield",
          "Columbus",
          "Springfield",
          "Northbend",
          "Springfield",
          "Northbrook",
          "Hillsdale",
          "Springfield",
          "Riverwood",
          "Columbus",
          "Hillsdale",
          "Springfield",
          "Northbrook",
          "Springfield",
          "Springfield",
          "Springfield",
          "Riverwood",
          "Springfield",
          "Northbend",
          "Arlington",
          "Northbend",
          "Northbrook",
          "Northbend",
          "Springfield",
          "Northbend",
          "Springfield",
          "Northbend",
          "Northbrook",
          "Columbus",
          "Hillsdale",
          "Springfield",
          "Hillsdale",
          "Riverwood",
          "Northbrook",
          "Arlington",
          "Northbend",
          "Arlington",
          "Hillsdale",
          "Northbend",
          "Arlington",
          "Northbrook",
          "Arlington",
          "Hillsdale",
          "Northbrook",
          "Riverwood",
          "Springfield",
          "Northbend",
          "Northbend",
          "Northbrook",
          "Riverwood",
          "Springfield",
          "Columbus",
          "Riverwood",
          "Columbus",
          "Springfield",
          "Riverwood",
          "Columbus",
          "Northbend",
          "Arlington",
          "Riverwood",
          "Riverwood",
          "Hillsdale",
          "Arlington",
          "Arlington",
          "Northbrook",
          "Hillsdale",
          "Hillsdale",
          "Springfield",
          "Arlington",
          "Arlington",
          "Arlington",
          "Springfield",
          "Northbend",
          "Arlington",
          "Northbrook",
          "Arlington",
          "Columbus",
          "Northbrook",
          "Hillsdale",
          "Columbus",
          "Springfield",
          "Riverwood",
          "Riverwood",
          "Springfield",
          "Springfield",
          "Northbrook",
          "Northbend",
          "Northbend",
          "Springfield",
          "Arlington",
          "Riverwood",
          "Arlington",
          "Hillsdale",
          "Northbrook",
          "Arlington",
          "Springfield",
          "Springfield",
          "Northbrook",
          "Springfield",
          "Hillsdale",
          "Northbrook",
          "Hillsdale",
          "Springfield",
          "Columbus",
          "Columbus",
          "Northbrook",
          "Riverwood",
          "Columbus",
          "Hillsdale",
          "Arlington",
          "Springfield",
          "Springfield",
          "Riverwood",
          "Springfield",
          "Northbrook",
          "Columbus",
          "Columbus",
          "Northbrook",
          "Northbend",
          "Springfield",
          "Arlington",
          "Springfield",
          "Springfield",
          "Riverwood",
          "Riverwood",
          "Riverwood",
          "Northbrook",
          "Springfield",
          "Northbend",
          "Columbus",
          "Springfield",
          "Springfield",
          "Arlington",
          "Hillsdale",
          "Northbend",
          "Northbrook",
          "Riverwood",
          "Hillsdale",
          "Springfield",
          "Riverwood",
          "Arlington",
          "Springfield",
          "Riverwood",
          "Arlington",
          "Springfield",
          "Riverwood",
          "Columbus",
          "Hillsdale",
          "Arlington",
          "Springfield",
          "Columbus",
          "Northbrook",
          "Springfield",
          "Northbend",
          "Northbend",
          "Arlington",
          "Arlington",
          "Hillsdale",
          "Columbus",
          "Hillsdale",
          "Hillsdale",
          "Northbend",
          "Northbend",
          "Northbend",
          "Hillsdale",
          "Arlington",
          "Arlington",
          "Columbus",
          "Riverwood",
          "Hillsdale",
          "Springfield",
          "Northbend",
          "Columbus",
          "Riverwood",
          "Springfield",
          "Northbend",
          "Riverwood",
          "Riverwood",
          "Northbrook",
          "Northbrook",
          "Springfield",
          "Riverwood",
          "Hillsdale",
          "Arlington",
          "Springfield",
          "Springfield",
          "Riverwood",
          "Riverwood",
          "Columbus",
          "Columbus",
          "Northbrook",
          "Northbend",
          "Northbend",
          "Northbrook",
          "Riverwood",
          "Columbus",
          "Columbus",
          "Northbrook",
          "Northbend",
          "Riverwood",
          "Northbrook",
          "Riverwood",
          "Columbus",
          "Hillsdale",
          "Northbend",
          "Hillsdale",
          "Riverwood",
          "Springfield",
          "Riverwood",
          "Riverwood",
          "Columbus",
          "Springfield",
          "Northbend",
          "Northbrook",
          "Northbrook",
          "Northbrook",
          "Columbus",
          "Northbend",
          "Columbus",
          "Springfield",
          "Springfield",
          "Columbus",
          "Springfield",
          "Arlington",
          "Northbrook",
          "Hillsdale",
          "Arlington",
          "Columbus",
          "Riverwood",
          "Columbus",
          "Springfield",
          "Northbrook",
          "Northbrook",
          "Northbrook",
          "Northbend",
          "Northbrook",
          "Arlington",
          "Northbrook",
          "Columbus",
          "Springfield",
          "Springfield",
          "Hillsdale",
          "Hillsdale",
          "Riverwood",
          "Springfield",
          "Hillsdale",
          "Northbend",
          "Riverwood",
          "Arlington",
          "Northbrook",
          "Riverwood",
          "Columbus",
          "Northbrook",
          "Columbus",
          "Northbrook",
          "Northbrook",
          "Hillsdale",
          "Arlington",
          "Riverwood",
          "Arlington",
          "Arlington",
          "Hillsdale",
          "Arlington",
          "Springfield",
          "Northbend",
          "Northbend",
          "Arlington",
          "Springfield",
          "Riverwood",
          "Arlington",
          "Columbus",
          "Northbend",
          "Columbus",
          "Hillsdale",
          "Arlington",
          "Northbend",
          "Riverwood",
          "Riverwood",
          "Arlington",
          "Riverwood",
          "Riverwood",
          "Northbrook",
          "Arlington",
          "Northbend",
          "Riverwood",
          "Northbrook",
          "Northbend",
          "Northbrook",
          "Arlington",
          "Northbrook",
          "Springfield",
          "Northbrook",
          "Hillsdale",
          "Riverwood",
          "Northbend",
          "Hillsdale",
          "Northbend",
          "Hillsdale",
          "Northbrook",
          "Springfield",
          "Northbend",
          "Columbus",
          "Northbrook",
          "Columbus",
          "Northbend",
          "Northbrook",
          "Springfield",
          "Arlington",
          "Hillsdale",
          "Hillsdale",
          "Riverwood",
          "Riverwood",
          "Northbend",
          "Hillsdale",
          "Riverwood",
          "Springfield",
          "Northbend",
          "Arlington",
          "Northbrook",
          "Hillsdale",
          "Columbus",
          "Riverwood",
          "Arlington",
          "Northbrook",
          "Hillsdale",
          "Northbend",
          "Arlington",
          "Columbus",
          "Arlington",
          "Springfield",
          "Riverwood",
          "Springfield",
          "Northbrook",
          "Arlington",
          "Columbus",
          "Northbrook",
          "Riverwood",
          "Riverwood",
          "Riverwood",
          "Columbus",
          "Northbend",
          "Northbrook",
          "Northbend",
          "Springfield",
          "Northbend",
          "Springfield",
          "Riverwood",
          "Hillsdale",
          "Columbus",
          "Northbrook",
          "Northbrook",
          "Northbrook",
          "Columbus",
          "Hillsdale",
          "Riverwood",
          "Arlington",
          "Springfield",
          "Columbus",
          "Springfield",
          "Columbus",
          "Riverwood",
          "Northbrook",
          "Hillsdale",
          "Springfield",
          "Columbus",
          "Arlington",
          "Arlington",
          "Northbrook",
          "Springfield",
          "Columbus",
          "Hillsdale",
          "Arlington",
          "Arlington",
          "Riverwood",
          "Northbend",
          "Hillsdale",
          "Northbrook",
          "Riverwood",
          "Springfield",
          "Columbus",
          "Hillsdale",
          "Hillsdale",
          "Northbend",
          "Columbus",
          "Arlington",
          "Riverwood",
          "Arlington",
          "Columbus",
          "Northbend",
          "Northbend",
          "Northbrook",
          "Northbend",
          "Northbend",
          "Arlington",
          "Columbus",
          "Columbus",
          "Northbend",
          "Northbend",
          "Arlington",
          "Springfield",
          "Columbus",
          "Columbus",
          "Arlington",
          "Northbrook",
          "Riverwood",
          "Springfield",
          "Hillsdale",
          "Northbend",
          "Northbrook",
          "Northbend",
          "Arlington",
          "Arlington",
          "Columbus"
         ],
         "xaxis": "x",
         "yaxis": "y"
        }
       ],
       "layout": {
        "barmode": "relative",
        "legend": {
         "title": {
          "text": "fraud_reported"
         },
         "tracegroupgap": 0
        },
        "margin": {
         "t": 60
        },
        "template": {
         "data": {
          "bar": [
           {
            "error_x": {
             "color": "#2a3f5f"
            },
            "error_y": {
             "color": "#2a3f5f"
            },
            "marker": {
             "line": {
              "color": "#E5ECF6",
              "width": 0.5
             },
             "pattern": {
              "fillmode": "overlay",
              "size": 10,
              "solidity": 0.2
             }
            },
            "type": "bar"
           }
          ],
          "barpolar": [
           {
            "marker": {
             "line": {
              "color": "#E5ECF6",
              "width": 0.5
             },
             "pattern": {
              "fillmode": "overlay",
              "size": 10,
              "solidity": 0.2
             }
            },
            "type": "barpolar"
           }
          ],
          "carpet": [
           {
            "aaxis": {
             "endlinecolor": "#2a3f5f",
             "gridcolor": "white",
             "linecolor": "white",
             "minorgridcolor": "white",
             "startlinecolor": "#2a3f5f"
            },
            "baxis": {
             "endlinecolor": "#2a3f5f",
             "gridcolor": "white",
             "linecolor": "white",
             "minorgridcolor": "white",
             "startlinecolor": "#2a3f5f"
            },
            "type": "carpet"
           }
          ],
          "choropleth": [
           {
            "colorbar": {
             "outlinewidth": 0,
             "ticks": ""
            },
            "type": "choropleth"
           }
          ],
          "contour": [
           {
            "colorbar": {
             "outlinewidth": 0,
             "ticks": ""
            },
            "colorscale": [
             [
              0,
              "#0d0887"
             ],
             [
              0.1111111111111111,
              "#46039f"
             ],
             [
              0.2222222222222222,
              "#7201a8"
             ],
             [
              0.3333333333333333,
              "#9c179e"
             ],
             [
              0.4444444444444444,
              "#bd3786"
             ],
             [
              0.5555555555555556,
              "#d8576b"
             ],
             [
              0.6666666666666666,
              "#ed7953"
             ],
             [
              0.7777777777777778,
              "#fb9f3a"
             ],
             [
              0.8888888888888888,
              "#fdca26"
             ],
             [
              1,
              "#f0f921"
             ]
            ],
            "type": "contour"
           }
          ],
          "contourcarpet": [
           {
            "colorbar": {
             "outlinewidth": 0,
             "ticks": ""
            },
            "type": "contourcarpet"
           }
          ],
          "heatmap": [
           {
            "colorbar": {
             "outlinewidth": 0,
             "ticks": ""
            },
            "colorscale": [
             [
              0,
              "#0d0887"
             ],
             [
              0.1111111111111111,
              "#46039f"
             ],
             [
              0.2222222222222222,
              "#7201a8"
             ],
             [
              0.3333333333333333,
              "#9c179e"
             ],
             [
              0.4444444444444444,
              "#bd3786"
             ],
             [
              0.5555555555555556,
              "#d8576b"
             ],
             [
              0.6666666666666666,
              "#ed7953"
             ],
             [
              0.7777777777777778,
              "#fb9f3a"
             ],
             [
              0.8888888888888888,
              "#fdca26"
             ],
             [
              1,
              "#f0f921"
             ]
            ],
            "type": "heatmap"
           }
          ],
          "heatmapgl": [
           {
            "colorbar": {
             "outlinewidth": 0,
             "ticks": ""
            },
            "colorscale": [
             [
              0,
              "#0d0887"
             ],
             [
              0.1111111111111111,
              "#46039f"
             ],
             [
              0.2222222222222222,
              "#7201a8"
             ],
             [
              0.3333333333333333,
              "#9c179e"
             ],
             [
              0.4444444444444444,
              "#bd3786"
             ],
             [
              0.5555555555555556,
              "#d8576b"
             ],
             [
              0.6666666666666666,
              "#ed7953"
             ],
             [
              0.7777777777777778,
              "#fb9f3a"
             ],
             [
              0.8888888888888888,
              "#fdca26"
             ],
             [
              1,
              "#f0f921"
             ]
            ],
            "type": "heatmapgl"
           }
          ],
          "histogram": [
           {
            "marker": {
             "pattern": {
              "fillmode": "overlay",
              "size": 10,
              "solidity": 0.2
             }
            },
            "type": "histogram"
           }
          ],
          "histogram2d": [
           {
            "colorbar": {
             "outlinewidth": 0,
             "ticks": ""
            },
            "colorscale": [
             [
              0,
              "#0d0887"
             ],
             [
              0.1111111111111111,
              "#46039f"
             ],
             [
              0.2222222222222222,
              "#7201a8"
             ],
             [
              0.3333333333333333,
              "#9c179e"
             ],
             [
              0.4444444444444444,
              "#bd3786"
             ],
             [
              0.5555555555555556,
              "#d8576b"
             ],
             [
              0.6666666666666666,
              "#ed7953"
             ],
             [
              0.7777777777777778,
              "#fb9f3a"
             ],
             [
              0.8888888888888888,
              "#fdca26"
             ],
             [
              1,
              "#f0f921"
             ]
            ],
            "type": "histogram2d"
           }
          ],
          "histogram2dcontour": [
           {
            "colorbar": {
             "outlinewidth": 0,
             "ticks": ""
            },
            "colorscale": [
             [
              0,
              "#0d0887"
             ],
             [
              0.1111111111111111,
              "#46039f"
             ],
             [
              0.2222222222222222,
              "#7201a8"
             ],
             [
              0.3333333333333333,
              "#9c179e"
             ],
             [
              0.4444444444444444,
              "#bd3786"
             ],
             [
              0.5555555555555556,
              "#d8576b"
             ],
             [
              0.6666666666666666,
              "#ed7953"
             ],
             [
              0.7777777777777778,
              "#fb9f3a"
             ],
             [
              0.8888888888888888,
              "#fdca26"
             ],
             [
              1,
              "#f0f921"
             ]
            ],
            "type": "histogram2dcontour"
           }
          ],
          "mesh3d": [
           {
            "colorbar": {
             "outlinewidth": 0,
             "ticks": ""
            },
            "type": "mesh3d"
           }
          ],
          "parcoords": [
           {
            "line": {
             "colorbar": {
              "outlinewidth": 0,
              "ticks": ""
             }
            },
            "type": "parcoords"
           }
          ],
          "pie": [
           {
            "automargin": true,
            "type": "pie"
           }
          ],
          "scatter": [
           {
            "marker": {
             "colorbar": {
              "outlinewidth": 0,
              "ticks": ""
             }
            },
            "type": "scatter"
           }
          ],
          "scatter3d": [
           {
            "line": {
             "colorbar": {
              "outlinewidth": 0,
              "ticks": ""
             }
            },
            "marker": {
             "colorbar": {
              "outlinewidth": 0,
              "ticks": ""
             }
            },
            "type": "scatter3d"
           }
          ],
          "scattercarpet": [
           {
            "marker": {
             "colorbar": {
              "outlinewidth": 0,
              "ticks": ""
             }
            },
            "type": "scattercarpet"
           }
          ],
          "scattergeo": [
           {
            "marker": {
             "colorbar": {
              "outlinewidth": 0,
              "ticks": ""
             }
            },
            "type": "scattergeo"
           }
          ],
          "scattergl": [
           {
            "marker": {
             "colorbar": {
              "outlinewidth": 0,
              "ticks": ""
             }
            },
            "type": "scattergl"
           }
          ],
          "scattermapbox": [
           {
            "marker": {
             "colorbar": {
              "outlinewidth": 0,
              "ticks": ""
             }
            },
            "type": "scattermapbox"
           }
          ],
          "scatterpolar": [
           {
            "marker": {
             "colorbar": {
              "outlinewidth": 0,
              "ticks": ""
             }
            },
            "type": "scatterpolar"
           }
          ],
          "scatterpolargl": [
           {
            "marker": {
             "colorbar": {
              "outlinewidth": 0,
              "ticks": ""
             }
            },
            "type": "scatterpolargl"
           }
          ],
          "scatterternary": [
           {
            "marker": {
             "colorbar": {
              "outlinewidth": 0,
              "ticks": ""
             }
            },
            "type": "scatterternary"
           }
          ],
          "surface": [
           {
            "colorbar": {
             "outlinewidth": 0,
             "ticks": ""
            },
            "colorscale": [
             [
              0,
              "#0d0887"
             ],
             [
              0.1111111111111111,
              "#46039f"
             ],
             [
              0.2222222222222222,
              "#7201a8"
             ],
             [
              0.3333333333333333,
              "#9c179e"
             ],
             [
              0.4444444444444444,
              "#bd3786"
             ],
             [
              0.5555555555555556,
              "#d8576b"
             ],
             [
              0.6666666666666666,
              "#ed7953"
             ],
             [
              0.7777777777777778,
              "#fb9f3a"
             ],
             [
              0.8888888888888888,
              "#fdca26"
             ],
             [
              1,
              "#f0f921"
             ]
            ],
            "type": "surface"
           }
          ],
          "table": [
           {
            "cells": {
             "fill": {
              "color": "#EBF0F8"
             },
             "line": {
              "color": "white"
             }
            },
            "header": {
             "fill": {
              "color": "#C8D4E3"
             },
             "line": {
              "color": "white"
             }
            },
            "type": "table"
           }
          ]
         },
         "layout": {
          "annotationdefaults": {
           "arrowcolor": "#2a3f5f",
           "arrowhead": 0,
           "arrowwidth": 1
          },
          "autotypenumbers": "strict",
          "coloraxis": {
           "colorbar": {
            "outlinewidth": 0,
            "ticks": ""
           }
          },
          "colorscale": {
           "diverging": [
            [
             0,
             "#8e0152"
            ],
            [
             0.1,
             "#c51b7d"
            ],
            [
             0.2,
             "#de77ae"
            ],
            [
             0.3,
             "#f1b6da"
            ],
            [
             0.4,
             "#fde0ef"
            ],
            [
             0.5,
             "#f7f7f7"
            ],
            [
             0.6,
             "#e6f5d0"
            ],
            [
             0.7,
             "#b8e186"
            ],
            [
             0.8,
             "#7fbc41"
            ],
            [
             0.9,
             "#4d9221"
            ],
            [
             1,
             "#276419"
            ]
           ],
           "sequential": [
            [
             0,
             "#0d0887"
            ],
            [
             0.1111111111111111,
             "#46039f"
            ],
            [
             0.2222222222222222,
             "#7201a8"
            ],
            [
             0.3333333333333333,
             "#9c179e"
            ],
            [
             0.4444444444444444,
             "#bd3786"
            ],
            [
             0.5555555555555556,
             "#d8576b"
            ],
            [
             0.6666666666666666,
             "#ed7953"
            ],
            [
             0.7777777777777778,
             "#fb9f3a"
            ],
            [
             0.8888888888888888,
             "#fdca26"
            ],
            [
             1,
             "#f0f921"
            ]
           ],
           "sequentialminus": [
            [
             0,
             "#0d0887"
            ],
            [
             0.1111111111111111,
             "#46039f"
            ],
            [
             0.2222222222222222,
             "#7201a8"
            ],
            [
             0.3333333333333333,
             "#9c179e"
            ],
            [
             0.4444444444444444,
             "#bd3786"
            ],
            [
             0.5555555555555556,
             "#d8576b"
            ],
            [
             0.6666666666666666,
             "#ed7953"
            ],
            [
             0.7777777777777778,
             "#fb9f3a"
            ],
            [
             0.8888888888888888,
             "#fdca26"
            ],
            [
             1,
             "#f0f921"
            ]
           ]
          },
          "colorway": [
           "#636efa",
           "#EF553B",
           "#00cc96",
           "#ab63fa",
           "#FFA15A",
           "#19d3f3",
           "#FF6692",
           "#B6E880",
           "#FF97FF",
           "#FECB52"
          ],
          "font": {
           "color": "#2a3f5f"
          },
          "geo": {
           "bgcolor": "white",
           "lakecolor": "white",
           "landcolor": "#E5ECF6",
           "showlakes": true,
           "showland": true,
           "subunitcolor": "white"
          },
          "hoverlabel": {
           "align": "left"
          },
          "hovermode": "closest",
          "mapbox": {
           "style": "light"
          },
          "paper_bgcolor": "white",
          "plot_bgcolor": "#E5ECF6",
          "polar": {
           "angularaxis": {
            "gridcolor": "white",
            "linecolor": "white",
            "ticks": ""
           },
           "bgcolor": "#E5ECF6",
           "radialaxis": {
            "gridcolor": "white",
            "linecolor": "white",
            "ticks": ""
           }
          },
          "scene": {
           "xaxis": {
            "backgroundcolor": "#E5ECF6",
            "gridcolor": "white",
            "gridwidth": 2,
            "linecolor": "white",
            "showbackground": true,
            "ticks": "",
            "zerolinecolor": "white"
           },
           "yaxis": {
            "backgroundcolor": "#E5ECF6",
            "gridcolor": "white",
            "gridwidth": 2,
            "linecolor": "white",
            "showbackground": true,
            "ticks": "",
            "zerolinecolor": "white"
           },
           "zaxis": {
            "backgroundcolor": "#E5ECF6",
            "gridcolor": "white",
            "gridwidth": 2,
            "linecolor": "white",
            "showbackground": true,
            "ticks": "",
            "zerolinecolor": "white"
           }
          },
          "shapedefaults": {
           "line": {
            "color": "#2a3f5f"
           }
          },
          "ternary": {
           "aaxis": {
            "gridcolor": "white",
            "linecolor": "white",
            "ticks": ""
           },
           "baxis": {
            "gridcolor": "white",
            "linecolor": "white",
            "ticks": ""
           },
           "bgcolor": "#E5ECF6",
           "caxis": {
            "gridcolor": "white",
            "linecolor": "white",
            "ticks": ""
           }
          },
          "title": {
           "x": 0.05
          },
          "xaxis": {
           "automargin": true,
           "gridcolor": "white",
           "linecolor": "white",
           "ticks": "",
           "title": {
            "standoff": 15
           },
           "zerolinecolor": "white",
           "zerolinewidth": 2
          },
          "yaxis": {
           "automargin": true,
           "gridcolor": "white",
           "linecolor": "white",
           "ticks": "",
           "title": {
            "standoff": 15
           },
           "zerolinecolor": "white",
           "zerolinewidth": 2
          }
         }
        },
        "xaxis": {
         "anchor": "y",
         "domain": [
          0,
          1
         ],
         "title": {
          "text": "incident_city"
         }
        },
        "yaxis": {
         "anchor": "x",
         "domain": [
          0,
          1
         ],
         "title": {
          "text": "count"
         }
        }
       }
      }
     },
     "metadata": {},
     "output_type": "display_data"
    }
   ],
   "source": [
    "fig = px.histogram(df, x=\"incident_city\", color=\"fraud_reported\")\n",
    "fig.show()"
   ]
  },
  {
   "cell_type": "code",
   "execution_count": 212,
   "metadata": {},
   "outputs": [
    {
     "data": {
      "application/vnd.plotly.v1+json": {
       "config": {
        "plotlyServerURL": "https://plot.ly"
       },
       "data": [
        {
         "alignmentgroup": "True",
         "bingroup": "x",
         "hovertemplate": "fraud_reported=Y<br>property_damage=%{x}<br>count=%{y}<extra></extra>",
         "legendgroup": "Y",
         "marker": {
          "color": "#636efa",
          "pattern": {
           "shape": ""
          }
         },
         "name": "Y",
         "offsetgroup": "Y",
         "orientation": "v",
         "showlegend": true,
         "type": "histogram",
         "x": [
          "YES",
          "?",
          "?",
          "NO",
          "NO",
          "YES",
          "NO",
          "?",
          "NO",
          "YES",
          "NO",
          "YES",
          "?",
          "?",
          "?",
          "NO",
          "YES",
          "YES",
          "NO",
          "YES",
          "YES",
          "?",
          "NO",
          "?",
          "?",
          "YES",
          "NO",
          "YES",
          "YES",
          "?",
          "?",
          "NO",
          "YES",
          "NO",
          "?",
          "NO",
          "?",
          "YES",
          "?",
          "NO",
          "?",
          "YES",
          "?",
          "NO",
          "?",
          "YES",
          "NO",
          "YES",
          "YES",
          "?",
          "?",
          "?",
          "YES",
          "?",
          "?",
          "?",
          "?",
          "YES",
          "?",
          "?",
          "YES",
          "?",
          "?",
          "NO",
          "YES",
          "YES",
          "?",
          "YES",
          "NO",
          "?",
          "NO",
          "YES",
          "?",
          "?",
          "NO",
          "?",
          "YES",
          "NO",
          "?",
          "NO",
          "?",
          "YES",
          "?",
          "?",
          "?",
          "?",
          "NO",
          "NO",
          "?",
          "YES",
          "YES",
          "?",
          "NO",
          "?",
          "YES",
          "?",
          "?",
          "?",
          "?",
          "?",
          "YES",
          "YES",
          "NO",
          "NO",
          "?",
          "?",
          "YES",
          "?",
          "?",
          "YES",
          "NO",
          "YES",
          "NO",
          "?",
          "?",
          "?",
          "YES",
          "?",
          "YES",
          "YES",
          "?",
          "NO",
          "NO",
          "?",
          "?",
          "NO",
          "?",
          "NO",
          "NO",
          "NO",
          "NO",
          "NO",
          "?",
          "YES",
          "?",
          "?",
          "YES",
          "NO",
          "YES",
          "YES",
          "YES",
          "YES",
          "YES",
          "NO",
          "NO",
          "?",
          "NO",
          "NO",
          "YES",
          "?",
          "?",
          "?",
          "YES",
          "?",
          "?",
          "NO",
          "?",
          "?",
          "?",
          "NO",
          "?",
          "YES",
          "?",
          "?",
          "NO",
          "?",
          "NO",
          "NO",
          "?",
          "NO",
          "?",
          "NO",
          "YES",
          "?",
          "YES",
          "NO",
          "NO",
          "?",
          "YES",
          "YES",
          "YES",
          "NO",
          "NO",
          "NO",
          "?",
          "NO",
          "YES",
          "YES",
          "YES",
          "?",
          "?",
          "NO",
          "YES",
          "?",
          "NO",
          "YES",
          "?",
          "?",
          "NO",
          "YES",
          "YES",
          "YES",
          "?",
          "YES",
          "?",
          "NO",
          "?",
          "NO",
          "YES",
          "YES",
          "NO",
          "YES",
          "?",
          "?",
          "YES",
          "NO",
          "?",
          "NO",
          "YES",
          "YES",
          "NO",
          "YES",
          "NO",
          "?",
          "YES",
          "?",
          "NO",
          "YES",
          "YES",
          "YES",
          "?",
          "YES",
          "YES",
          "YES",
          "?",
          "?",
          "?",
          "?",
          "?",
          "YES",
          "?",
          "YES",
          "NO",
          "?",
          "?",
          "YES",
          "?"
         ],
         "xaxis": "x",
         "yaxis": "y"
        },
        {
         "alignmentgroup": "True",
         "bingroup": "x",
         "hovertemplate": "fraud_reported=N<br>property_damage=%{x}<br>count=%{y}<extra></extra>",
         "legendgroup": "N",
         "marker": {
          "color": "#EF553B",
          "pattern": {
           "shape": ""
          }
         },
         "name": "N",
         "offsetgroup": "N",
         "orientation": "v",
         "showlegend": true,
         "type": "histogram",
         "x": [
          "NO",
          "NO",
          "?",
          "?",
          "NO",
          "NO",
          "YES",
          "YES",
          "YES",
          "NO",
          "?",
          "NO",
          "YES",
          "?",
          "NO",
          "?",
          "NO",
          "YES",
          "NO",
          "NO",
          "NO",
          "YES",
          "NO",
          "YES",
          "NO",
          "?",
          "NO",
          "YES",
          "NO",
          "YES",
          "NO",
          "YES",
          "?",
          "NO",
          "?",
          "?",
          "?",
          "YES",
          "NO",
          "YES",
          "?",
          "NO",
          "YES",
          "NO",
          "NO",
          "NO",
          "NO",
          "NO",
          "NO",
          "NO",
          "NO",
          "YES",
          "NO",
          "NO",
          "NO",
          "YES",
          "NO",
          "?",
          "YES",
          "NO",
          "YES",
          "NO",
          "?",
          "NO",
          "YES",
          "NO",
          "NO",
          "NO",
          "NO",
          "?",
          "NO",
          "YES",
          "YES",
          "?",
          "NO",
          "NO",
          "YES",
          "NO",
          "?",
          "?",
          "?",
          "YES",
          "NO",
          "NO",
          "?",
          "NO",
          "YES",
          "YES",
          "NO",
          "NO",
          "?",
          "YES",
          "?",
          "?",
          "?",
          "?",
          "?",
          "NO",
          "?",
          "NO",
          "YES",
          "?",
          "?",
          "?",
          "?",
          "?",
          "?",
          "NO",
          "?",
          "?",
          "?",
          "?",
          "YES",
          "?",
          "NO",
          "NO",
          "NO",
          "NO",
          "?",
          "NO",
          "YES",
          "YES",
          "?",
          "NO",
          "?",
          "NO",
          "YES",
          "YES",
          "?",
          "?",
          "YES",
          "YES",
          "?",
          "?",
          "YES",
          "NO",
          "YES",
          "?",
          "NO",
          "YES",
          "?",
          "YES",
          "YES",
          "YES",
          "?",
          "NO",
          "?",
          "NO",
          "YES",
          "NO",
          "NO",
          "?",
          "NO",
          "NO",
          "NO",
          "?",
          "YES",
          "NO",
          "?",
          "NO",
          "NO",
          "YES",
          "?",
          "?",
          "YES",
          "YES",
          "YES",
          "?",
          "NO",
          "NO",
          "?",
          "?",
          "NO",
          "YES",
          "?",
          "YES",
          "?",
          "?",
          "?",
          "YES",
          "YES",
          "?",
          "?",
          "YES",
          "NO",
          "YES",
          "YES",
          "?",
          "?",
          "NO",
          "NO",
          "NO",
          "YES",
          "YES",
          "?",
          "NO",
          "?",
          "NO",
          "?",
          "YES",
          "YES",
          "NO",
          "YES",
          "?",
          "YES",
          "YES",
          "?",
          "NO",
          "YES",
          "?",
          "YES",
          "?",
          "YES",
          "?",
          "YES",
          "NO",
          "NO",
          "YES",
          "YES",
          "?",
          "YES",
          "?",
          "NO",
          "?",
          "?",
          "YES",
          "NO",
          "NO",
          "YES",
          "?",
          "YES",
          "YES",
          "?",
          "NO",
          "YES",
          "YES",
          "YES",
          "?",
          "NO",
          "?",
          "?",
          "NO",
          "NO",
          "YES",
          "?",
          "?",
          "YES",
          "?",
          "YES",
          "YES",
          "?",
          "YES",
          "YES",
          "NO",
          "?",
          "YES",
          "NO",
          "YES",
          "YES",
          "NO",
          "YES",
          "?",
          "NO",
          "YES",
          "YES",
          "?",
          "NO",
          "?",
          "?",
          "?",
          "?",
          "?",
          "?",
          "YES",
          "NO",
          "NO",
          "NO",
          "?",
          "YES",
          "YES",
          "YES",
          "?",
          "NO",
          "?",
          "YES",
          "NO",
          "YES",
          "?",
          "NO",
          "YES",
          "YES",
          "?",
          "?",
          "?",
          "?",
          "?",
          "NO",
          "?",
          "YES",
          "NO",
          "?",
          "YES",
          "NO",
          "?",
          "YES",
          "NO",
          "NO",
          "NO",
          "?",
          "?",
          "?",
          "NO",
          "?",
          "YES",
          "YES",
          "?",
          "?",
          "?",
          "NO",
          "?",
          "NO",
          "YES",
          "NO",
          "NO",
          "NO",
          "NO",
          "YES",
          "YES",
          "NO",
          "?",
          "YES",
          "NO",
          "YES",
          "?",
          "?",
          "YES",
          "?",
          "YES",
          "YES",
          "YES",
          "NO",
          "YES",
          "?",
          "NO",
          "?",
          "?",
          "NO",
          "YES",
          "NO",
          "NO",
          "NO",
          "NO",
          "NO",
          "YES",
          "NO",
          "?",
          "NO",
          "?",
          "NO",
          "YES",
          "YES",
          "NO",
          "?",
          "?",
          "?",
          "?",
          "YES",
          "?",
          "NO",
          "YES",
          "?",
          "NO",
          "NO",
          "NO",
          "?",
          "YES",
          "NO",
          "?",
          "?",
          "NO",
          "?",
          "?",
          "NO",
          "NO",
          "NO",
          "YES",
          "NO",
          "YES",
          "NO",
          "YES",
          "NO",
          "NO",
          "?",
          "?",
          "?",
          "NO",
          "NO",
          "NO",
          "?",
          "YES",
          "NO",
          "?",
          "?",
          "YES",
          "YES",
          "?",
          "?",
          "?",
          "?",
          "?",
          "YES",
          "YES",
          "YES",
          "?",
          "NO",
          "?",
          "YES",
          "?",
          "YES",
          "?",
          "NO",
          "NO",
          "YES",
          "NO",
          "NO",
          "NO",
          "NO",
          "YES",
          "?",
          "YES",
          "NO",
          "YES",
          "YES",
          "NO",
          "?",
          "?",
          "YES",
          "NO",
          "?",
          "?",
          "NO",
          "NO",
          "YES",
          "?",
          "?",
          "NO",
          "?",
          "NO",
          "?",
          "NO",
          "?",
          "YES",
          "NO",
          "NO",
          "NO",
          "?",
          "?",
          "NO",
          "?",
          "?",
          "NO",
          "?",
          "NO",
          "?",
          "?",
          "YES",
          "YES",
          "YES",
          "?",
          "?",
          "NO",
          "NO",
          "YES",
          "YES",
          "NO",
          "?",
          "?",
          "NO",
          "?",
          "?",
          "YES",
          "NO",
          "NO",
          "?",
          "YES",
          "NO",
          "NO",
          "YES",
          "?",
          "?",
          "?",
          "NO",
          "YES",
          "YES",
          "NO",
          "?",
          "YES",
          "NO",
          "NO",
          "?",
          "NO",
          "YES",
          "?",
          "NO",
          "NO",
          "YES",
          "YES",
          "?",
          "NO",
          "?",
          "YES",
          "NO",
          "NO",
          "NO",
          "?",
          "YES",
          "NO",
          "YES",
          "YES",
          "NO",
          "?",
          "NO",
          "?",
          "?",
          "YES",
          "YES",
          "YES",
          "NO",
          "YES",
          "NO",
          "NO",
          "YES",
          "NO",
          "YES",
          "?",
          "NO",
          "NO",
          "?",
          "NO",
          "NO",
          "?",
          "YES",
          "?",
          "NO",
          "NO",
          "NO",
          "?",
          "?",
          "YES",
          "?",
          "NO",
          "YES",
          "NO",
          "YES",
          "NO",
          "NO",
          "NO",
          "YES",
          "?",
          "YES",
          "?",
          "?",
          "YES",
          "NO",
          "?",
          "?",
          "YES",
          "?",
          "YES",
          "YES",
          "YES",
          "?",
          "NO",
          "?",
          "?",
          "YES",
          "NO",
          "YES",
          "NO",
          "?",
          "YES",
          "?",
          "?",
          "NO",
          "NO",
          "NO",
          "YES",
          "NO",
          "?",
          "YES",
          "YES",
          "YES",
          "NO",
          "?",
          "YES",
          "NO",
          "YES",
          "YES",
          "?",
          "?",
          "YES",
          "NO",
          "YES",
          "NO",
          "?",
          "NO",
          "NO",
          "?",
          "NO",
          "?",
          "?",
          "YES",
          "YES",
          "?",
          "?",
          "?",
          "YES",
          "?",
          "?",
          "NO",
          "NO",
          "NO",
          "YES",
          "NO",
          "YES",
          "?",
          "NO",
          "NO",
          "NO",
          "?",
          "NO",
          "NO",
          "NO",
          "YES",
          "NO",
          "YES",
          "NO",
          "NO",
          "NO",
          "?",
          "?",
          "NO",
          "?",
          "NO",
          "NO",
          "YES",
          "YES",
          "?",
          "YES",
          "NO",
          "NO",
          "?",
          "NO",
          "?",
          "YES",
          "YES",
          "?",
          "YES",
          "?",
          "NO",
          "YES",
          "NO",
          "NO",
          "YES",
          "NO",
          "YES",
          "?",
          "?",
          "YES",
          "?",
          "NO",
          "NO",
          "NO",
          "YES",
          "YES",
          "YES",
          "NO",
          "YES",
          "YES",
          "NO",
          "?",
          "YES",
          "?",
          "NO",
          "?",
          "?",
          "YES",
          "?",
          "NO",
          "YES",
          "NO",
          "NO",
          "NO",
          "YES",
          "NO",
          "?",
          "YES",
          "NO",
          "?",
          "YES",
          "NO",
          "?",
          "?",
          "?",
          "?",
          "NO",
          "YES",
          "YES",
          "NO",
          "NO",
          "NO",
          "?",
          "NO",
          "?",
          "NO",
          "NO",
          "YES",
          "YES",
          "YES",
          "NO",
          "NO",
          "NO",
          "NO",
          "?",
          "NO",
          "NO",
          "?",
          "YES",
          "NO",
          "?",
          "YES",
          "NO",
          "YES",
          "?",
          "?",
          "NO",
          "YES",
          "?",
          "?",
          "YES",
          "?",
          "YES",
          "YES",
          "?",
          "NO",
          "YES",
          "?",
          "?",
          "YES",
          "YES",
          "?",
          "?",
          "?"
         ],
         "xaxis": "x",
         "yaxis": "y"
        }
       ],
       "layout": {
        "barmode": "relative",
        "legend": {
         "title": {
          "text": "fraud_reported"
         },
         "tracegroupgap": 0
        },
        "margin": {
         "t": 60
        },
        "template": {
         "data": {
          "bar": [
           {
            "error_x": {
             "color": "#2a3f5f"
            },
            "error_y": {
             "color": "#2a3f5f"
            },
            "marker": {
             "line": {
              "color": "#E5ECF6",
              "width": 0.5
             },
             "pattern": {
              "fillmode": "overlay",
              "size": 10,
              "solidity": 0.2
             }
            },
            "type": "bar"
           }
          ],
          "barpolar": [
           {
            "marker": {
             "line": {
              "color": "#E5ECF6",
              "width": 0.5
             },
             "pattern": {
              "fillmode": "overlay",
              "size": 10,
              "solidity": 0.2
             }
            },
            "type": "barpolar"
           }
          ],
          "carpet": [
           {
            "aaxis": {
             "endlinecolor": "#2a3f5f",
             "gridcolor": "white",
             "linecolor": "white",
             "minorgridcolor": "white",
             "startlinecolor": "#2a3f5f"
            },
            "baxis": {
             "endlinecolor": "#2a3f5f",
             "gridcolor": "white",
             "linecolor": "white",
             "minorgridcolor": "white",
             "startlinecolor": "#2a3f5f"
            },
            "type": "carpet"
           }
          ],
          "choropleth": [
           {
            "colorbar": {
             "outlinewidth": 0,
             "ticks": ""
            },
            "type": "choropleth"
           }
          ],
          "contour": [
           {
            "colorbar": {
             "outlinewidth": 0,
             "ticks": ""
            },
            "colorscale": [
             [
              0,
              "#0d0887"
             ],
             [
              0.1111111111111111,
              "#46039f"
             ],
             [
              0.2222222222222222,
              "#7201a8"
             ],
             [
              0.3333333333333333,
              "#9c179e"
             ],
             [
              0.4444444444444444,
              "#bd3786"
             ],
             [
              0.5555555555555556,
              "#d8576b"
             ],
             [
              0.6666666666666666,
              "#ed7953"
             ],
             [
              0.7777777777777778,
              "#fb9f3a"
             ],
             [
              0.8888888888888888,
              "#fdca26"
             ],
             [
              1,
              "#f0f921"
             ]
            ],
            "type": "contour"
           }
          ],
          "contourcarpet": [
           {
            "colorbar": {
             "outlinewidth": 0,
             "ticks": ""
            },
            "type": "contourcarpet"
           }
          ],
          "heatmap": [
           {
            "colorbar": {
             "outlinewidth": 0,
             "ticks": ""
            },
            "colorscale": [
             [
              0,
              "#0d0887"
             ],
             [
              0.1111111111111111,
              "#46039f"
             ],
             [
              0.2222222222222222,
              "#7201a8"
             ],
             [
              0.3333333333333333,
              "#9c179e"
             ],
             [
              0.4444444444444444,
              "#bd3786"
             ],
             [
              0.5555555555555556,
              "#d8576b"
             ],
             [
              0.6666666666666666,
              "#ed7953"
             ],
             [
              0.7777777777777778,
              "#fb9f3a"
             ],
             [
              0.8888888888888888,
              "#fdca26"
             ],
             [
              1,
              "#f0f921"
             ]
            ],
            "type": "heatmap"
           }
          ],
          "heatmapgl": [
           {
            "colorbar": {
             "outlinewidth": 0,
             "ticks": ""
            },
            "colorscale": [
             [
              0,
              "#0d0887"
             ],
             [
              0.1111111111111111,
              "#46039f"
             ],
             [
              0.2222222222222222,
              "#7201a8"
             ],
             [
              0.3333333333333333,
              "#9c179e"
             ],
             [
              0.4444444444444444,
              "#bd3786"
             ],
             [
              0.5555555555555556,
              "#d8576b"
             ],
             [
              0.6666666666666666,
              "#ed7953"
             ],
             [
              0.7777777777777778,
              "#fb9f3a"
             ],
             [
              0.8888888888888888,
              "#fdca26"
             ],
             [
              1,
              "#f0f921"
             ]
            ],
            "type": "heatmapgl"
           }
          ],
          "histogram": [
           {
            "marker": {
             "pattern": {
              "fillmode": "overlay",
              "size": 10,
              "solidity": 0.2
             }
            },
            "type": "histogram"
           }
          ],
          "histogram2d": [
           {
            "colorbar": {
             "outlinewidth": 0,
             "ticks": ""
            },
            "colorscale": [
             [
              0,
              "#0d0887"
             ],
             [
              0.1111111111111111,
              "#46039f"
             ],
             [
              0.2222222222222222,
              "#7201a8"
             ],
             [
              0.3333333333333333,
              "#9c179e"
             ],
             [
              0.4444444444444444,
              "#bd3786"
             ],
             [
              0.5555555555555556,
              "#d8576b"
             ],
             [
              0.6666666666666666,
              "#ed7953"
             ],
             [
              0.7777777777777778,
              "#fb9f3a"
             ],
             [
              0.8888888888888888,
              "#fdca26"
             ],
             [
              1,
              "#f0f921"
             ]
            ],
            "type": "histogram2d"
           }
          ],
          "histogram2dcontour": [
           {
            "colorbar": {
             "outlinewidth": 0,
             "ticks": ""
            },
            "colorscale": [
             [
              0,
              "#0d0887"
             ],
             [
              0.1111111111111111,
              "#46039f"
             ],
             [
              0.2222222222222222,
              "#7201a8"
             ],
             [
              0.3333333333333333,
              "#9c179e"
             ],
             [
              0.4444444444444444,
              "#bd3786"
             ],
             [
              0.5555555555555556,
              "#d8576b"
             ],
             [
              0.6666666666666666,
              "#ed7953"
             ],
             [
              0.7777777777777778,
              "#fb9f3a"
             ],
             [
              0.8888888888888888,
              "#fdca26"
             ],
             [
              1,
              "#f0f921"
             ]
            ],
            "type": "histogram2dcontour"
           }
          ],
          "mesh3d": [
           {
            "colorbar": {
             "outlinewidth": 0,
             "ticks": ""
            },
            "type": "mesh3d"
           }
          ],
          "parcoords": [
           {
            "line": {
             "colorbar": {
              "outlinewidth": 0,
              "ticks": ""
             }
            },
            "type": "parcoords"
           }
          ],
          "pie": [
           {
            "automargin": true,
            "type": "pie"
           }
          ],
          "scatter": [
           {
            "marker": {
             "colorbar": {
              "outlinewidth": 0,
              "ticks": ""
             }
            },
            "type": "scatter"
           }
          ],
          "scatter3d": [
           {
            "line": {
             "colorbar": {
              "outlinewidth": 0,
              "ticks": ""
             }
            },
            "marker": {
             "colorbar": {
              "outlinewidth": 0,
              "ticks": ""
             }
            },
            "type": "scatter3d"
           }
          ],
          "scattercarpet": [
           {
            "marker": {
             "colorbar": {
              "outlinewidth": 0,
              "ticks": ""
             }
            },
            "type": "scattercarpet"
           }
          ],
          "scattergeo": [
           {
            "marker": {
             "colorbar": {
              "outlinewidth": 0,
              "ticks": ""
             }
            },
            "type": "scattergeo"
           }
          ],
          "scattergl": [
           {
            "marker": {
             "colorbar": {
              "outlinewidth": 0,
              "ticks": ""
             }
            },
            "type": "scattergl"
           }
          ],
          "scattermapbox": [
           {
            "marker": {
             "colorbar": {
              "outlinewidth": 0,
              "ticks": ""
             }
            },
            "type": "scattermapbox"
           }
          ],
          "scatterpolar": [
           {
            "marker": {
             "colorbar": {
              "outlinewidth": 0,
              "ticks": ""
             }
            },
            "type": "scatterpolar"
           }
          ],
          "scatterpolargl": [
           {
            "marker": {
             "colorbar": {
              "outlinewidth": 0,
              "ticks": ""
             }
            },
            "type": "scatterpolargl"
           }
          ],
          "scatterternary": [
           {
            "marker": {
             "colorbar": {
              "outlinewidth": 0,
              "ticks": ""
             }
            },
            "type": "scatterternary"
           }
          ],
          "surface": [
           {
            "colorbar": {
             "outlinewidth": 0,
             "ticks": ""
            },
            "colorscale": [
             [
              0,
              "#0d0887"
             ],
             [
              0.1111111111111111,
              "#46039f"
             ],
             [
              0.2222222222222222,
              "#7201a8"
             ],
             [
              0.3333333333333333,
              "#9c179e"
             ],
             [
              0.4444444444444444,
              "#bd3786"
             ],
             [
              0.5555555555555556,
              "#d8576b"
             ],
             [
              0.6666666666666666,
              "#ed7953"
             ],
             [
              0.7777777777777778,
              "#fb9f3a"
             ],
             [
              0.8888888888888888,
              "#fdca26"
             ],
             [
              1,
              "#f0f921"
             ]
            ],
            "type": "surface"
           }
          ],
          "table": [
           {
            "cells": {
             "fill": {
              "color": "#EBF0F8"
             },
             "line": {
              "color": "white"
             }
            },
            "header": {
             "fill": {
              "color": "#C8D4E3"
             },
             "line": {
              "color": "white"
             }
            },
            "type": "table"
           }
          ]
         },
         "layout": {
          "annotationdefaults": {
           "arrowcolor": "#2a3f5f",
           "arrowhead": 0,
           "arrowwidth": 1
          },
          "autotypenumbers": "strict",
          "coloraxis": {
           "colorbar": {
            "outlinewidth": 0,
            "ticks": ""
           }
          },
          "colorscale": {
           "diverging": [
            [
             0,
             "#8e0152"
            ],
            [
             0.1,
             "#c51b7d"
            ],
            [
             0.2,
             "#de77ae"
            ],
            [
             0.3,
             "#f1b6da"
            ],
            [
             0.4,
             "#fde0ef"
            ],
            [
             0.5,
             "#f7f7f7"
            ],
            [
             0.6,
             "#e6f5d0"
            ],
            [
             0.7,
             "#b8e186"
            ],
            [
             0.8,
             "#7fbc41"
            ],
            [
             0.9,
             "#4d9221"
            ],
            [
             1,
             "#276419"
            ]
           ],
           "sequential": [
            [
             0,
             "#0d0887"
            ],
            [
             0.1111111111111111,
             "#46039f"
            ],
            [
             0.2222222222222222,
             "#7201a8"
            ],
            [
             0.3333333333333333,
             "#9c179e"
            ],
            [
             0.4444444444444444,
             "#bd3786"
            ],
            [
             0.5555555555555556,
             "#d8576b"
            ],
            [
             0.6666666666666666,
             "#ed7953"
            ],
            [
             0.7777777777777778,
             "#fb9f3a"
            ],
            [
             0.8888888888888888,
             "#fdca26"
            ],
            [
             1,
             "#f0f921"
            ]
           ],
           "sequentialminus": [
            [
             0,
             "#0d0887"
            ],
            [
             0.1111111111111111,
             "#46039f"
            ],
            [
             0.2222222222222222,
             "#7201a8"
            ],
            [
             0.3333333333333333,
             "#9c179e"
            ],
            [
             0.4444444444444444,
             "#bd3786"
            ],
            [
             0.5555555555555556,
             "#d8576b"
            ],
            [
             0.6666666666666666,
             "#ed7953"
            ],
            [
             0.7777777777777778,
             "#fb9f3a"
            ],
            [
             0.8888888888888888,
             "#fdca26"
            ],
            [
             1,
             "#f0f921"
            ]
           ]
          },
          "colorway": [
           "#636efa",
           "#EF553B",
           "#00cc96",
           "#ab63fa",
           "#FFA15A",
           "#19d3f3",
           "#FF6692",
           "#B6E880",
           "#FF97FF",
           "#FECB52"
          ],
          "font": {
           "color": "#2a3f5f"
          },
          "geo": {
           "bgcolor": "white",
           "lakecolor": "white",
           "landcolor": "#E5ECF6",
           "showlakes": true,
           "showland": true,
           "subunitcolor": "white"
          },
          "hoverlabel": {
           "align": "left"
          },
          "hovermode": "closest",
          "mapbox": {
           "style": "light"
          },
          "paper_bgcolor": "white",
          "plot_bgcolor": "#E5ECF6",
          "polar": {
           "angularaxis": {
            "gridcolor": "white",
            "linecolor": "white",
            "ticks": ""
           },
           "bgcolor": "#E5ECF6",
           "radialaxis": {
            "gridcolor": "white",
            "linecolor": "white",
            "ticks": ""
           }
          },
          "scene": {
           "xaxis": {
            "backgroundcolor": "#E5ECF6",
            "gridcolor": "white",
            "gridwidth": 2,
            "linecolor": "white",
            "showbackground": true,
            "ticks": "",
            "zerolinecolor": "white"
           },
           "yaxis": {
            "backgroundcolor": "#E5ECF6",
            "gridcolor": "white",
            "gridwidth": 2,
            "linecolor": "white",
            "showbackground": true,
            "ticks": "",
            "zerolinecolor": "white"
           },
           "zaxis": {
            "backgroundcolor": "#E5ECF6",
            "gridcolor": "white",
            "gridwidth": 2,
            "linecolor": "white",
            "showbackground": true,
            "ticks": "",
            "zerolinecolor": "white"
           }
          },
          "shapedefaults": {
           "line": {
            "color": "#2a3f5f"
           }
          },
          "ternary": {
           "aaxis": {
            "gridcolor": "white",
            "linecolor": "white",
            "ticks": ""
           },
           "baxis": {
            "gridcolor": "white",
            "linecolor": "white",
            "ticks": ""
           },
           "bgcolor": "#E5ECF6",
           "caxis": {
            "gridcolor": "white",
            "linecolor": "white",
            "ticks": ""
           }
          },
          "title": {
           "x": 0.05
          },
          "xaxis": {
           "automargin": true,
           "gridcolor": "white",
           "linecolor": "white",
           "ticks": "",
           "title": {
            "standoff": 15
           },
           "zerolinecolor": "white",
           "zerolinewidth": 2
          },
          "yaxis": {
           "automargin": true,
           "gridcolor": "white",
           "linecolor": "white",
           "ticks": "",
           "title": {
            "standoff": 15
           },
           "zerolinecolor": "white",
           "zerolinewidth": 2
          }
         }
        },
        "xaxis": {
         "anchor": "y",
         "domain": [
          0,
          1
         ],
         "title": {
          "text": "property_damage"
         }
        },
        "yaxis": {
         "anchor": "x",
         "domain": [
          0,
          1
         ],
         "title": {
          "text": "count"
         }
        }
       }
      }
     },
     "metadata": {},
     "output_type": "display_data"
    }
   ],
   "source": [
    "fig = px.histogram(df, x=\"property_damage\", color=\"fraud_reported\")\n",
    "fig.show()"
   ]
  },
  {
   "cell_type": "code",
   "execution_count": 213,
   "metadata": {},
   "outputs": [
    {
     "data": {
      "application/vnd.plotly.v1+json": {
       "config": {
        "plotlyServerURL": "https://plot.ly"
       },
       "data": [
        {
         "alignmentgroup": "True",
         "bingroup": "x",
         "hovertemplate": "fraud_reported=Y<br>number_of_vehicles_involved=%{x}<br>count=%{y}<extra></extra>",
         "legendgroup": "Y",
         "marker": {
          "color": "#636efa",
          "pattern": {
           "shape": ""
          }
         },
         "name": "Y",
         "offsetgroup": "Y",
         "orientation": "v",
         "showlegend": true,
         "type": "histogram",
         "x": [
          1,
          1,
          1,
          3,
          1,
          4,
          3,
          1,
          3,
          1,
          3,
          1,
          1,
          1,
          1,
          3,
          3,
          3,
          3,
          3,
          1,
          2,
          1,
          1,
          2,
          3,
          1,
          1,
          4,
          3,
          1,
          3,
          1,
          3,
          3,
          1,
          1,
          1,
          3,
          1,
          1,
          1,
          3,
          1,
          1,
          3,
          3,
          1,
          1,
          1,
          1,
          1,
          1,
          3,
          1,
          1,
          3,
          1,
          3,
          1,
          1,
          1,
          3,
          3,
          1,
          1,
          3,
          2,
          3,
          1,
          3,
          1,
          3,
          1,
          3,
          3,
          4,
          1,
          3,
          1,
          1,
          1,
          3,
          4,
          1,
          1,
          3,
          3,
          3,
          1,
          2,
          3,
          1,
          3,
          3,
          1,
          1,
          1,
          3,
          1,
          3,
          3,
          3,
          1,
          1,
          1,
          1,
          3,
          3,
          1,
          4,
          3,
          1,
          3,
          4,
          3,
          1,
          1,
          1,
          1,
          1,
          1,
          3,
          1,
          1,
          1,
          1,
          1,
          1,
          3,
          3,
          3,
          1,
          2,
          3,
          3,
          1,
          1,
          1,
          1,
          3,
          1,
          1,
          3,
          1,
          3,
          1,
          1,
          3,
          1,
          2,
          1,
          1,
          1,
          1,
          1,
          2,
          1,
          1,
          1,
          2,
          1,
          1,
          3,
          1,
          3,
          3,
          3,
          3,
          1,
          3,
          4,
          1,
          1,
          3,
          2,
          4,
          3,
          3,
          1,
          1,
          3,
          1,
          1,
          3,
          1,
          3,
          1,
          1,
          1,
          1,
          3,
          3,
          4,
          3,
          3,
          3,
          3,
          3,
          3,
          1,
          1,
          1,
          1,
          1,
          1,
          1,
          1,
          3,
          3,
          1,
          3,
          3,
          3,
          1,
          1,
          1,
          3,
          3,
          3,
          1,
          3,
          1,
          1,
          3,
          3,
          3,
          3,
          1,
          3,
          1,
          1,
          1,
          4,
          4,
          1,
          3,
          1,
          1,
          1,
          1,
          1,
          3,
          3,
          3,
          1,
          1
         ],
         "xaxis": "x",
         "yaxis": "y"
        },
        {
         "alignmentgroup": "True",
         "bingroup": "x",
         "hovertemplate": "fraud_reported=N<br>number_of_vehicles_involved=%{x}<br>count=%{y}<extra></extra>",
         "legendgroup": "N",
         "marker": {
          "color": "#EF553B",
          "pattern": {
           "shape": ""
          }
         },
         "name": "N",
         "offsetgroup": "N",
         "orientation": "v",
         "showlegend": true,
         "type": "histogram",
         "x": [
          3,
          1,
          3,
          3,
          1,
          1,
          1,
          3,
          1,
          1,
          3,
          1,
          1,
          3,
          3,
          3,
          1,
          1,
          1,
          1,
          4,
          3,
          3,
          1,
          1,
          3,
          1,
          3,
          1,
          1,
          3,
          3,
          1,
          1,
          3,
          1,
          1,
          3,
          1,
          1,
          3,
          1,
          1,
          3,
          3,
          1,
          3,
          1,
          1,
          1,
          3,
          3,
          3,
          3,
          3,
          1,
          3,
          1,
          1,
          1,
          3,
          3,
          1,
          1,
          2,
          1,
          3,
          3,
          1,
          1,
          1,
          1,
          1,
          3,
          1,
          3,
          1,
          2,
          1,
          3,
          2,
          1,
          1,
          1,
          3,
          1,
          4,
          1,
          3,
          1,
          1,
          3,
          3,
          3,
          1,
          1,
          1,
          3,
          3,
          3,
          1,
          1,
          1,
          3,
          1,
          1,
          3,
          3,
          3,
          1,
          3,
          1,
          1,
          1,
          2,
          3,
          3,
          3,
          1,
          1,
          3,
          3,
          3,
          1,
          1,
          1,
          1,
          1,
          1,
          3,
          1,
          1,
          1,
          3,
          1,
          1,
          1,
          1,
          1,
          1,
          3,
          2,
          1,
          1,
          1,
          1,
          1,
          1,
          3,
          3,
          1,
          3,
          4,
          1,
          1,
          1,
          3,
          1,
          1,
          3,
          1,
          1,
          3,
          3,
          1,
          2,
          3,
          1,
          1,
          1,
          4,
          3,
          3,
          1,
          1,
          1,
          1,
          1,
          3,
          1,
          1,
          1,
          1,
          1,
          3,
          3,
          1,
          1,
          3,
          1,
          1,
          3,
          3,
          3,
          3,
          1,
          3,
          3,
          3,
          3,
          3,
          3,
          1,
          3,
          1,
          3,
          1,
          1,
          1,
          3,
          1,
          1,
          3,
          1,
          1,
          2,
          1,
          3,
          3,
          1,
          3,
          3,
          3,
          1,
          3,
          3,
          1,
          3,
          3,
          3,
          1,
          3,
          1,
          3,
          3,
          3,
          3,
          1,
          1,
          1,
          1,
          1,
          3,
          1,
          1,
          3,
          1,
          1,
          1,
          1,
          1,
          3,
          1,
          1,
          1,
          3,
          1,
          3,
          3,
          1,
          1,
          1,
          1,
          4,
          3,
          2,
          1,
          4,
          3,
          1,
          1,
          3,
          3,
          1,
          1,
          3,
          1,
          1,
          3,
          1,
          1,
          3,
          3,
          3,
          1,
          1,
          1,
          1,
          1,
          2,
          1,
          1,
          3,
          3,
          3,
          1,
          1,
          1,
          1,
          3,
          3,
          1,
          1,
          1,
          1,
          1,
          1,
          1,
          1,
          1,
          1,
          1,
          1,
          1,
          4,
          3,
          1,
          1,
          1,
          1,
          1,
          1,
          1,
          3,
          1,
          1,
          1,
          1,
          1,
          4,
          1,
          1,
          1,
          3,
          1,
          3,
          1,
          1,
          1,
          1,
          3,
          3,
          1,
          3,
          3,
          3,
          3,
          3,
          3,
          1,
          3,
          3,
          1,
          2,
          1,
          1,
          1,
          3,
          1,
          1,
          3,
          3,
          1,
          1,
          1,
          4,
          1,
          1,
          1,
          1,
          1,
          1,
          3,
          1,
          3,
          3,
          1,
          1,
          1,
          1,
          1,
          1,
          3,
          1,
          1,
          1,
          4,
          3,
          1,
          1,
          3,
          1,
          1,
          1,
          1,
          3,
          1,
          3,
          3,
          3,
          1,
          1,
          1,
          3,
          3,
          1,
          1,
          1,
          3,
          3,
          1,
          1,
          3,
          1,
          1,
          3,
          3,
          1,
          1,
          4,
          1,
          1,
          3,
          1,
          3,
          3,
          3,
          1,
          1,
          2,
          1,
          4,
          2,
          3,
          1,
          1,
          1,
          1,
          2,
          3,
          1,
          3,
          1,
          1,
          3,
          3,
          1,
          1,
          2,
          1,
          1,
          1,
          4,
          1,
          3,
          3,
          1,
          3,
          1,
          3,
          2,
          1,
          3,
          1,
          1,
          1,
          1,
          4,
          1,
          3,
          2,
          1,
          1,
          1,
          1,
          2,
          1,
          3,
          1,
          1,
          3,
          3,
          1,
          1,
          3,
          3,
          1,
          1,
          1,
          1,
          1,
          3,
          1,
          3,
          3,
          1,
          1,
          1,
          3,
          3,
          1,
          3,
          1,
          1,
          1,
          3,
          1,
          3,
          3,
          1,
          1,
          1,
          1,
          1,
          3,
          3,
          1,
          1,
          1,
          3,
          3,
          1,
          1,
          1,
          1,
          1,
          1,
          1,
          1,
          1,
          3,
          1,
          1,
          1,
          1,
          1,
          3,
          3,
          1,
          1,
          1,
          1,
          1,
          1,
          3,
          3,
          3,
          1,
          1,
          3,
          1,
          3,
          3,
          3,
          1,
          1,
          1,
          4,
          3,
          3,
          3,
          1,
          1,
          1,
          1,
          3,
          3,
          1,
          3,
          3,
          1,
          3,
          3,
          1,
          1,
          3,
          4,
          1,
          1,
          3,
          3,
          3,
          1,
          1,
          1,
          1,
          4,
          3,
          1,
          1,
          3,
          1,
          3,
          3,
          1,
          1,
          1,
          1,
          3,
          1,
          1,
          1,
          1,
          3,
          1,
          3,
          1,
          1,
          3,
          1,
          4,
          1,
          1,
          1,
          3,
          1,
          1,
          1,
          1,
          3,
          3,
          1,
          1,
          4,
          1,
          1,
          1,
          1,
          1,
          3,
          1,
          3,
          1,
          3,
          1,
          3,
          3,
          1,
          3,
          3,
          3,
          1,
          3,
          3,
          3,
          3,
          1,
          3,
          1,
          1,
          2,
          1,
          1,
          1,
          1,
          1,
          3,
          1,
          1,
          1,
          3,
          1,
          1,
          1,
          3,
          1,
          2,
          1,
          1,
          1,
          1,
          3,
          1,
          1,
          1,
          1,
          3,
          1,
          3,
          3,
          3,
          1,
          3,
          1,
          2,
          1,
          4,
          1,
          1,
          3,
          1,
          3,
          1,
          1,
          3,
          1,
          1,
          3,
          3,
          3,
          3,
          1,
          1,
          1,
          3,
          1,
          3,
          1,
          3,
          1,
          1,
          3,
          1,
          1,
          3,
          1,
          1,
          1,
          3,
          1,
          3,
          1,
          3,
          1,
          1,
          1,
          1,
          3,
          3,
          1,
          1,
          1,
          2,
          3,
          1,
          1,
          1,
          3,
          1,
          1,
          1,
          1,
          3,
          1,
          1,
          3,
          3,
          1,
          1,
          1,
          3,
          1,
          1
         ],
         "xaxis": "x",
         "yaxis": "y"
        }
       ],
       "layout": {
        "barmode": "relative",
        "legend": {
         "title": {
          "text": "fraud_reported"
         },
         "tracegroupgap": 0
        },
        "margin": {
         "t": 60
        },
        "template": {
         "data": {
          "bar": [
           {
            "error_x": {
             "color": "#2a3f5f"
            },
            "error_y": {
             "color": "#2a3f5f"
            },
            "marker": {
             "line": {
              "color": "#E5ECF6",
              "width": 0.5
             },
             "pattern": {
              "fillmode": "overlay",
              "size": 10,
              "solidity": 0.2
             }
            },
            "type": "bar"
           }
          ],
          "barpolar": [
           {
            "marker": {
             "line": {
              "color": "#E5ECF6",
              "width": 0.5
             },
             "pattern": {
              "fillmode": "overlay",
              "size": 10,
              "solidity": 0.2
             }
            },
            "type": "barpolar"
           }
          ],
          "carpet": [
           {
            "aaxis": {
             "endlinecolor": "#2a3f5f",
             "gridcolor": "white",
             "linecolor": "white",
             "minorgridcolor": "white",
             "startlinecolor": "#2a3f5f"
            },
            "baxis": {
             "endlinecolor": "#2a3f5f",
             "gridcolor": "white",
             "linecolor": "white",
             "minorgridcolor": "white",
             "startlinecolor": "#2a3f5f"
            },
            "type": "carpet"
           }
          ],
          "choropleth": [
           {
            "colorbar": {
             "outlinewidth": 0,
             "ticks": ""
            },
            "type": "choropleth"
           }
          ],
          "contour": [
           {
            "colorbar": {
             "outlinewidth": 0,
             "ticks": ""
            },
            "colorscale": [
             [
              0,
              "#0d0887"
             ],
             [
              0.1111111111111111,
              "#46039f"
             ],
             [
              0.2222222222222222,
              "#7201a8"
             ],
             [
              0.3333333333333333,
              "#9c179e"
             ],
             [
              0.4444444444444444,
              "#bd3786"
             ],
             [
              0.5555555555555556,
              "#d8576b"
             ],
             [
              0.6666666666666666,
              "#ed7953"
             ],
             [
              0.7777777777777778,
              "#fb9f3a"
             ],
             [
              0.8888888888888888,
              "#fdca26"
             ],
             [
              1,
              "#f0f921"
             ]
            ],
            "type": "contour"
           }
          ],
          "contourcarpet": [
           {
            "colorbar": {
             "outlinewidth": 0,
             "ticks": ""
            },
            "type": "contourcarpet"
           }
          ],
          "heatmap": [
           {
            "colorbar": {
             "outlinewidth": 0,
             "ticks": ""
            },
            "colorscale": [
             [
              0,
              "#0d0887"
             ],
             [
              0.1111111111111111,
              "#46039f"
             ],
             [
              0.2222222222222222,
              "#7201a8"
             ],
             [
              0.3333333333333333,
              "#9c179e"
             ],
             [
              0.4444444444444444,
              "#bd3786"
             ],
             [
              0.5555555555555556,
              "#d8576b"
             ],
             [
              0.6666666666666666,
              "#ed7953"
             ],
             [
              0.7777777777777778,
              "#fb9f3a"
             ],
             [
              0.8888888888888888,
              "#fdca26"
             ],
             [
              1,
              "#f0f921"
             ]
            ],
            "type": "heatmap"
           }
          ],
          "heatmapgl": [
           {
            "colorbar": {
             "outlinewidth": 0,
             "ticks": ""
            },
            "colorscale": [
             [
              0,
              "#0d0887"
             ],
             [
              0.1111111111111111,
              "#46039f"
             ],
             [
              0.2222222222222222,
              "#7201a8"
             ],
             [
              0.3333333333333333,
              "#9c179e"
             ],
             [
              0.4444444444444444,
              "#bd3786"
             ],
             [
              0.5555555555555556,
              "#d8576b"
             ],
             [
              0.6666666666666666,
              "#ed7953"
             ],
             [
              0.7777777777777778,
              "#fb9f3a"
             ],
             [
              0.8888888888888888,
              "#fdca26"
             ],
             [
              1,
              "#f0f921"
             ]
            ],
            "type": "heatmapgl"
           }
          ],
          "histogram": [
           {
            "marker": {
             "pattern": {
              "fillmode": "overlay",
              "size": 10,
              "solidity": 0.2
             }
            },
            "type": "histogram"
           }
          ],
          "histogram2d": [
           {
            "colorbar": {
             "outlinewidth": 0,
             "ticks": ""
            },
            "colorscale": [
             [
              0,
              "#0d0887"
             ],
             [
              0.1111111111111111,
              "#46039f"
             ],
             [
              0.2222222222222222,
              "#7201a8"
             ],
             [
              0.3333333333333333,
              "#9c179e"
             ],
             [
              0.4444444444444444,
              "#bd3786"
             ],
             [
              0.5555555555555556,
              "#d8576b"
             ],
             [
              0.6666666666666666,
              "#ed7953"
             ],
             [
              0.7777777777777778,
              "#fb9f3a"
             ],
             [
              0.8888888888888888,
              "#fdca26"
             ],
             [
              1,
              "#f0f921"
             ]
            ],
            "type": "histogram2d"
           }
          ],
          "histogram2dcontour": [
           {
            "colorbar": {
             "outlinewidth": 0,
             "ticks": ""
            },
            "colorscale": [
             [
              0,
              "#0d0887"
             ],
             [
              0.1111111111111111,
              "#46039f"
             ],
             [
              0.2222222222222222,
              "#7201a8"
             ],
             [
              0.3333333333333333,
              "#9c179e"
             ],
             [
              0.4444444444444444,
              "#bd3786"
             ],
             [
              0.5555555555555556,
              "#d8576b"
             ],
             [
              0.6666666666666666,
              "#ed7953"
             ],
             [
              0.7777777777777778,
              "#fb9f3a"
             ],
             [
              0.8888888888888888,
              "#fdca26"
             ],
             [
              1,
              "#f0f921"
             ]
            ],
            "type": "histogram2dcontour"
           }
          ],
          "mesh3d": [
           {
            "colorbar": {
             "outlinewidth": 0,
             "ticks": ""
            },
            "type": "mesh3d"
           }
          ],
          "parcoords": [
           {
            "line": {
             "colorbar": {
              "outlinewidth": 0,
              "ticks": ""
             }
            },
            "type": "parcoords"
           }
          ],
          "pie": [
           {
            "automargin": true,
            "type": "pie"
           }
          ],
          "scatter": [
           {
            "marker": {
             "colorbar": {
              "outlinewidth": 0,
              "ticks": ""
             }
            },
            "type": "scatter"
           }
          ],
          "scatter3d": [
           {
            "line": {
             "colorbar": {
              "outlinewidth": 0,
              "ticks": ""
             }
            },
            "marker": {
             "colorbar": {
              "outlinewidth": 0,
              "ticks": ""
             }
            },
            "type": "scatter3d"
           }
          ],
          "scattercarpet": [
           {
            "marker": {
             "colorbar": {
              "outlinewidth": 0,
              "ticks": ""
             }
            },
            "type": "scattercarpet"
           }
          ],
          "scattergeo": [
           {
            "marker": {
             "colorbar": {
              "outlinewidth": 0,
              "ticks": ""
             }
            },
            "type": "scattergeo"
           }
          ],
          "scattergl": [
           {
            "marker": {
             "colorbar": {
              "outlinewidth": 0,
              "ticks": ""
             }
            },
            "type": "scattergl"
           }
          ],
          "scattermapbox": [
           {
            "marker": {
             "colorbar": {
              "outlinewidth": 0,
              "ticks": ""
             }
            },
            "type": "scattermapbox"
           }
          ],
          "scatterpolar": [
           {
            "marker": {
             "colorbar": {
              "outlinewidth": 0,
              "ticks": ""
             }
            },
            "type": "scatterpolar"
           }
          ],
          "scatterpolargl": [
           {
            "marker": {
             "colorbar": {
              "outlinewidth": 0,
              "ticks": ""
             }
            },
            "type": "scatterpolargl"
           }
          ],
          "scatterternary": [
           {
            "marker": {
             "colorbar": {
              "outlinewidth": 0,
              "ticks": ""
             }
            },
            "type": "scatterternary"
           }
          ],
          "surface": [
           {
            "colorbar": {
             "outlinewidth": 0,
             "ticks": ""
            },
            "colorscale": [
             [
              0,
              "#0d0887"
             ],
             [
              0.1111111111111111,
              "#46039f"
             ],
             [
              0.2222222222222222,
              "#7201a8"
             ],
             [
              0.3333333333333333,
              "#9c179e"
             ],
             [
              0.4444444444444444,
              "#bd3786"
             ],
             [
              0.5555555555555556,
              "#d8576b"
             ],
             [
              0.6666666666666666,
              "#ed7953"
             ],
             [
              0.7777777777777778,
              "#fb9f3a"
             ],
             [
              0.8888888888888888,
              "#fdca26"
             ],
             [
              1,
              "#f0f921"
             ]
            ],
            "type": "surface"
           }
          ],
          "table": [
           {
            "cells": {
             "fill": {
              "color": "#EBF0F8"
             },
             "line": {
              "color": "white"
             }
            },
            "header": {
             "fill": {
              "color": "#C8D4E3"
             },
             "line": {
              "color": "white"
             }
            },
            "type": "table"
           }
          ]
         },
         "layout": {
          "annotationdefaults": {
           "arrowcolor": "#2a3f5f",
           "arrowhead": 0,
           "arrowwidth": 1
          },
          "autotypenumbers": "strict",
          "coloraxis": {
           "colorbar": {
            "outlinewidth": 0,
            "ticks": ""
           }
          },
          "colorscale": {
           "diverging": [
            [
             0,
             "#8e0152"
            ],
            [
             0.1,
             "#c51b7d"
            ],
            [
             0.2,
             "#de77ae"
            ],
            [
             0.3,
             "#f1b6da"
            ],
            [
             0.4,
             "#fde0ef"
            ],
            [
             0.5,
             "#f7f7f7"
            ],
            [
             0.6,
             "#e6f5d0"
            ],
            [
             0.7,
             "#b8e186"
            ],
            [
             0.8,
             "#7fbc41"
            ],
            [
             0.9,
             "#4d9221"
            ],
            [
             1,
             "#276419"
            ]
           ],
           "sequential": [
            [
             0,
             "#0d0887"
            ],
            [
             0.1111111111111111,
             "#46039f"
            ],
            [
             0.2222222222222222,
             "#7201a8"
            ],
            [
             0.3333333333333333,
             "#9c179e"
            ],
            [
             0.4444444444444444,
             "#bd3786"
            ],
            [
             0.5555555555555556,
             "#d8576b"
            ],
            [
             0.6666666666666666,
             "#ed7953"
            ],
            [
             0.7777777777777778,
             "#fb9f3a"
            ],
            [
             0.8888888888888888,
             "#fdca26"
            ],
            [
             1,
             "#f0f921"
            ]
           ],
           "sequentialminus": [
            [
             0,
             "#0d0887"
            ],
            [
             0.1111111111111111,
             "#46039f"
            ],
            [
             0.2222222222222222,
             "#7201a8"
            ],
            [
             0.3333333333333333,
             "#9c179e"
            ],
            [
             0.4444444444444444,
             "#bd3786"
            ],
            [
             0.5555555555555556,
             "#d8576b"
            ],
            [
             0.6666666666666666,
             "#ed7953"
            ],
            [
             0.7777777777777778,
             "#fb9f3a"
            ],
            [
             0.8888888888888888,
             "#fdca26"
            ],
            [
             1,
             "#f0f921"
            ]
           ]
          },
          "colorway": [
           "#636efa",
           "#EF553B",
           "#00cc96",
           "#ab63fa",
           "#FFA15A",
           "#19d3f3",
           "#FF6692",
           "#B6E880",
           "#FF97FF",
           "#FECB52"
          ],
          "font": {
           "color": "#2a3f5f"
          },
          "geo": {
           "bgcolor": "white",
           "lakecolor": "white",
           "landcolor": "#E5ECF6",
           "showlakes": true,
           "showland": true,
           "subunitcolor": "white"
          },
          "hoverlabel": {
           "align": "left"
          },
          "hovermode": "closest",
          "mapbox": {
           "style": "light"
          },
          "paper_bgcolor": "white",
          "plot_bgcolor": "#E5ECF6",
          "polar": {
           "angularaxis": {
            "gridcolor": "white",
            "linecolor": "white",
            "ticks": ""
           },
           "bgcolor": "#E5ECF6",
           "radialaxis": {
            "gridcolor": "white",
            "linecolor": "white",
            "ticks": ""
           }
          },
          "scene": {
           "xaxis": {
            "backgroundcolor": "#E5ECF6",
            "gridcolor": "white",
            "gridwidth": 2,
            "linecolor": "white",
            "showbackground": true,
            "ticks": "",
            "zerolinecolor": "white"
           },
           "yaxis": {
            "backgroundcolor": "#E5ECF6",
            "gridcolor": "white",
            "gridwidth": 2,
            "linecolor": "white",
            "showbackground": true,
            "ticks": "",
            "zerolinecolor": "white"
           },
           "zaxis": {
            "backgroundcolor": "#E5ECF6",
            "gridcolor": "white",
            "gridwidth": 2,
            "linecolor": "white",
            "showbackground": true,
            "ticks": "",
            "zerolinecolor": "white"
           }
          },
          "shapedefaults": {
           "line": {
            "color": "#2a3f5f"
           }
          },
          "ternary": {
           "aaxis": {
            "gridcolor": "white",
            "linecolor": "white",
            "ticks": ""
           },
           "baxis": {
            "gridcolor": "white",
            "linecolor": "white",
            "ticks": ""
           },
           "bgcolor": "#E5ECF6",
           "caxis": {
            "gridcolor": "white",
            "linecolor": "white",
            "ticks": ""
           }
          },
          "title": {
           "x": 0.05
          },
          "xaxis": {
           "automargin": true,
           "gridcolor": "white",
           "linecolor": "white",
           "ticks": "",
           "title": {
            "standoff": 15
           },
           "zerolinecolor": "white",
           "zerolinewidth": 2
          },
          "yaxis": {
           "automargin": true,
           "gridcolor": "white",
           "linecolor": "white",
           "ticks": "",
           "title": {
            "standoff": 15
           },
           "zerolinecolor": "white",
           "zerolinewidth": 2
          }
         }
        },
        "xaxis": {
         "anchor": "y",
         "domain": [
          0,
          1
         ],
         "title": {
          "text": "number_of_vehicles_involved"
         }
        },
        "yaxis": {
         "anchor": "x",
         "domain": [
          0,
          1
         ],
         "title": {
          "text": "count"
         }
        }
       }
      }
     },
     "metadata": {},
     "output_type": "display_data"
    }
   ],
   "source": [
    "fig = px.histogram(df, x=\"number_of_vehicles_involved\", color=\"fraud_reported\")\n",
    "fig.show()"
   ]
  },
  {
   "cell_type": "code",
   "execution_count": 214,
   "metadata": {},
   "outputs": [
    {
     "data": {
      "application/vnd.plotly.v1+json": {
       "config": {
        "plotlyServerURL": "https://plot.ly"
       },
       "data": [
        {
         "alignmentgroup": "True",
         "bingroup": "x",
         "hovertemplate": "fraud_reported=Y<br>bodily_injuries=%{x}<br>count=%{y}<extra></extra>",
         "legendgroup": "Y",
         "marker": {
          "color": "#636efa",
          "pattern": {
           "shape": ""
          }
         },
         "name": "Y",
         "offsetgroup": "Y",
         "orientation": "v",
         "showlegend": true,
         "type": "histogram",
         "x": [
          1,
          0,
          1,
          0,
          0,
          0,
          0,
          2,
          1,
          2,
          2,
          2,
          1,
          0,
          1,
          2,
          2,
          2,
          0,
          2,
          0,
          2,
          0,
          1,
          2,
          2,
          0,
          0,
          1,
          0,
          0,
          0,
          0,
          0,
          2,
          2,
          0,
          0,
          1,
          1,
          2,
          2,
          2,
          2,
          1,
          1,
          1,
          2,
          2,
          2,
          0,
          1,
          2,
          1,
          1,
          1,
          1,
          1,
          1,
          2,
          1,
          0,
          0,
          2,
          2,
          0,
          0,
          0,
          1,
          2,
          2,
          0,
          0,
          2,
          0,
          2,
          2,
          1,
          0,
          2,
          0,
          1,
          1,
          1,
          2,
          1,
          1,
          2,
          0,
          0,
          2,
          0,
          1,
          1,
          2,
          2,
          2,
          1,
          1,
          1,
          2,
          2,
          0,
          2,
          0,
          0,
          1,
          1,
          0,
          0,
          2,
          2,
          1,
          0,
          0,
          0,
          1,
          2,
          0,
          1,
          2,
          2,
          2,
          2,
          2,
          0,
          0,
          1,
          2,
          0,
          0,
          2,
          0,
          1,
          0,
          1,
          1,
          1,
          1,
          0,
          2,
          2,
          2,
          2,
          0,
          1,
          0,
          1,
          2,
          2,
          1,
          2,
          1,
          2,
          1,
          2,
          2,
          0,
          1,
          2,
          0,
          1,
          0,
          1,
          0,
          0,
          0,
          2,
          0,
          2,
          2,
          0,
          1,
          0,
          2,
          2,
          2,
          1,
          1,
          0,
          0,
          1,
          1,
          1,
          1,
          2,
          2,
          2,
          0,
          2,
          1,
          2,
          2,
          0,
          2,
          0,
          2,
          0,
          0,
          2,
          2,
          0,
          2,
          1,
          2,
          2,
          1,
          2,
          2,
          2,
          0,
          1,
          0,
          0,
          1,
          1,
          1,
          1,
          1,
          0,
          0,
          1,
          1,
          1,
          0,
          0,
          1,
          2,
          2,
          1,
          0,
          1,
          0,
          0,
          2,
          0,
          1,
          2,
          2,
          1,
          1,
          2,
          2,
          1,
          0,
          2,
          0
         ],
         "xaxis": "x",
         "yaxis": "y"
        },
        {
         "alignmentgroup": "True",
         "bingroup": "x",
         "hovertemplate": "fraud_reported=N<br>bodily_injuries=%{x}<br>count=%{y}<extra></extra>",
         "legendgroup": "N",
         "marker": {
          "color": "#EF553B",
          "pattern": {
           "shape": ""
          }
         },
         "name": "N",
         "offsetgroup": "N",
         "orientation": "v",
         "showlegend": true,
         "type": "histogram",
         "x": [
          2,
          0,
          0,
          2,
          1,
          2,
          2,
          1,
          1,
          1,
          1,
          0,
          1,
          2,
          1,
          1,
          1,
          1,
          1,
          2,
          0,
          2,
          1,
          0,
          1,
          2,
          2,
          1,
          2,
          0,
          2,
          1,
          2,
          0,
          0,
          1,
          2,
          1,
          0,
          1,
          2,
          1,
          0,
          1,
          0,
          0,
          1,
          0,
          0,
          1,
          2,
          1,
          2,
          1,
          0,
          2,
          1,
          2,
          2,
          0,
          0,
          2,
          2,
          0,
          1,
          0,
          1,
          1,
          2,
          1,
          0,
          0,
          1,
          2,
          1,
          0,
          1,
          1,
          1,
          2,
          1,
          1,
          0,
          1,
          0,
          2,
          1,
          1,
          2,
          0,
          2,
          1,
          2,
          0,
          2,
          1,
          0,
          0,
          1,
          0,
          0,
          2,
          2,
          0,
          1,
          1,
          2,
          2,
          2,
          2,
          2,
          2,
          2,
          2,
          2,
          2,
          2,
          0,
          0,
          1,
          0,
          1,
          0,
          0,
          1,
          1,
          0,
          0,
          2,
          2,
          2,
          2,
          0,
          1,
          1,
          0,
          0,
          1,
          0,
          1,
          0,
          2,
          0,
          2,
          1,
          2,
          2,
          0,
          0,
          1,
          2,
          0,
          2,
          0,
          2,
          1,
          2,
          2,
          2,
          1,
          2,
          0,
          1,
          0,
          0,
          2,
          1,
          0,
          0,
          2,
          2,
          2,
          1,
          1,
          1,
          1,
          0,
          2,
          2,
          1,
          0,
          0,
          1,
          1,
          0,
          1,
          1,
          0,
          1,
          1,
          1,
          0,
          0,
          2,
          2,
          0,
          1,
          0,
          0,
          1,
          2,
          1,
          0,
          1,
          0,
          2,
          1,
          0,
          0,
          0,
          2,
          1,
          2,
          2,
          1,
          1,
          1,
          1,
          0,
          0,
          0,
          1,
          2,
          0,
          2,
          2,
          2,
          1,
          1,
          1,
          0,
          0,
          1,
          0,
          1,
          0,
          0,
          2,
          2,
          2,
          0,
          0,
          2,
          2,
          1,
          1,
          1,
          0,
          0,
          2,
          2,
          1,
          1,
          1,
          0,
          0,
          0,
          1,
          0,
          1,
          0,
          2,
          1,
          0,
          2,
          1,
          1,
          0,
          1,
          1,
          1,
          2,
          1,
          1,
          2,
          1,
          0,
          1,
          0,
          1,
          0,
          0,
          2,
          1,
          2,
          1,
          0,
          0,
          1,
          1,
          1,
          0,
          2,
          0,
          0,
          1,
          2,
          0,
          2,
          2,
          1,
          1,
          1,
          0,
          1,
          1,
          2,
          2,
          1,
          0,
          0,
          0,
          1,
          2,
          1,
          0,
          2,
          0,
          1,
          1,
          1,
          2,
          0,
          0,
          2,
          0,
          2,
          2,
          1,
          0,
          0,
          2,
          1,
          2,
          2,
          2,
          0,
          0,
          2,
          0,
          2,
          2,
          2,
          0,
          0,
          2,
          2,
          1,
          2,
          1,
          1,
          0,
          0,
          2,
          2,
          2,
          0,
          0,
          0,
          1,
          1,
          0,
          1,
          0,
          1,
          1,
          1,
          2,
          0,
          1,
          1,
          2,
          2,
          2,
          0,
          2,
          2,
          2,
          2,
          0,
          0,
          1,
          1,
          0,
          0,
          1,
          0,
          2,
          1,
          1,
          2,
          1,
          0,
          2,
          0,
          1,
          0,
          1,
          1,
          2,
          0,
          2,
          0,
          1,
          0,
          1,
          0,
          1,
          2,
          0,
          0,
          2,
          1,
          2,
          0,
          1,
          1,
          1,
          0,
          2,
          2,
          2,
          1,
          1,
          0,
          0,
          2,
          0,
          2,
          1,
          2,
          2,
          2,
          0,
          1,
          1,
          1,
          2,
          2,
          2,
          2,
          2,
          1,
          2,
          1,
          1,
          2,
          2,
          0,
          1,
          0,
          0,
          2,
          2,
          1,
          2,
          1,
          0,
          0,
          1,
          2,
          1,
          0,
          2,
          2,
          1,
          1,
          1,
          0,
          2,
          1,
          0,
          0,
          2,
          0,
          1,
          2,
          0,
          2,
          2,
          2,
          2,
          1,
          0,
          1,
          1,
          1,
          1,
          1,
          2,
          0,
          0,
          1,
          1,
          0,
          0,
          1,
          2,
          1,
          1,
          0,
          1,
          0,
          1,
          0,
          2,
          1,
          0,
          2,
          2,
          0,
          0,
          2,
          0,
          0,
          1,
          2,
          2,
          1,
          2,
          0,
          2,
          2,
          2,
          1,
          1,
          2,
          2,
          0,
          2,
          0,
          0,
          1,
          0,
          1,
          2,
          0,
          2,
          1,
          0,
          2,
          2,
          0,
          2,
          1,
          2,
          2,
          0,
          0,
          1,
          1,
          0,
          1,
          0,
          0,
          2,
          0,
          0,
          1,
          2,
          0,
          2,
          2,
          0,
          0,
          2,
          1,
          2,
          2,
          0,
          2,
          2,
          1,
          1,
          1,
          0,
          1,
          1,
          2,
          0,
          2,
          2,
          1,
          0,
          0,
          0,
          0,
          1,
          0,
          2,
          0,
          0,
          2,
          0,
          0,
          2,
          0,
          0,
          2,
          2,
          2,
          0,
          0,
          2,
          1,
          0,
          0,
          1,
          0,
          0,
          0,
          2,
          0,
          0,
          0,
          2,
          1,
          1,
          0,
          1,
          2,
          2,
          1,
          0,
          1,
          0,
          0,
          2,
          0,
          1,
          2,
          1,
          0,
          1,
          0,
          2,
          2,
          1,
          2,
          1,
          0,
          0,
          2,
          2,
          1,
          0,
          2,
          0,
          2,
          1,
          0,
          1,
          2,
          0,
          1,
          1,
          2,
          2,
          0,
          2,
          0,
          1,
          0,
          1,
          2,
          2,
          0,
          2,
          0,
          1,
          0,
          2,
          0,
          1,
          0,
          0,
          2,
          2,
          2,
          2,
          1,
          1,
          0,
          1,
          0,
          1,
          0,
          1,
          1,
          2,
          1,
          0,
          0,
          1,
          0,
          2,
          1,
          1,
          2,
          1,
          1,
          1,
          2,
          1,
          0,
          1,
          0,
          1,
          0,
          0,
          1,
          2,
          1,
          0,
          0,
          1,
          0,
          0,
          0,
          2,
          1,
          0,
          1,
          2,
          0,
          0,
          0,
          0,
          2,
          2,
          2,
          2,
          0,
          2,
          2,
          0,
          0,
          1,
          2,
          2,
          0,
          1,
          1,
          2,
          0,
          1,
          0,
          1,
          0,
          2,
          2,
          0,
          0
         ],
         "xaxis": "x",
         "yaxis": "y"
        }
       ],
       "layout": {
        "barmode": "relative",
        "legend": {
         "title": {
          "text": "fraud_reported"
         },
         "tracegroupgap": 0
        },
        "margin": {
         "t": 60
        },
        "template": {
         "data": {
          "bar": [
           {
            "error_x": {
             "color": "#2a3f5f"
            },
            "error_y": {
             "color": "#2a3f5f"
            },
            "marker": {
             "line": {
              "color": "#E5ECF6",
              "width": 0.5
             },
             "pattern": {
              "fillmode": "overlay",
              "size": 10,
              "solidity": 0.2
             }
            },
            "type": "bar"
           }
          ],
          "barpolar": [
           {
            "marker": {
             "line": {
              "color": "#E5ECF6",
              "width": 0.5
             },
             "pattern": {
              "fillmode": "overlay",
              "size": 10,
              "solidity": 0.2
             }
            },
            "type": "barpolar"
           }
          ],
          "carpet": [
           {
            "aaxis": {
             "endlinecolor": "#2a3f5f",
             "gridcolor": "white",
             "linecolor": "white",
             "minorgridcolor": "white",
             "startlinecolor": "#2a3f5f"
            },
            "baxis": {
             "endlinecolor": "#2a3f5f",
             "gridcolor": "white",
             "linecolor": "white",
             "minorgridcolor": "white",
             "startlinecolor": "#2a3f5f"
            },
            "type": "carpet"
           }
          ],
          "choropleth": [
           {
            "colorbar": {
             "outlinewidth": 0,
             "ticks": ""
            },
            "type": "choropleth"
           }
          ],
          "contour": [
           {
            "colorbar": {
             "outlinewidth": 0,
             "ticks": ""
            },
            "colorscale": [
             [
              0,
              "#0d0887"
             ],
             [
              0.1111111111111111,
              "#46039f"
             ],
             [
              0.2222222222222222,
              "#7201a8"
             ],
             [
              0.3333333333333333,
              "#9c179e"
             ],
             [
              0.4444444444444444,
              "#bd3786"
             ],
             [
              0.5555555555555556,
              "#d8576b"
             ],
             [
              0.6666666666666666,
              "#ed7953"
             ],
             [
              0.7777777777777778,
              "#fb9f3a"
             ],
             [
              0.8888888888888888,
              "#fdca26"
             ],
             [
              1,
              "#f0f921"
             ]
            ],
            "type": "contour"
           }
          ],
          "contourcarpet": [
           {
            "colorbar": {
             "outlinewidth": 0,
             "ticks": ""
            },
            "type": "contourcarpet"
           }
          ],
          "heatmap": [
           {
            "colorbar": {
             "outlinewidth": 0,
             "ticks": ""
            },
            "colorscale": [
             [
              0,
              "#0d0887"
             ],
             [
              0.1111111111111111,
              "#46039f"
             ],
             [
              0.2222222222222222,
              "#7201a8"
             ],
             [
              0.3333333333333333,
              "#9c179e"
             ],
             [
              0.4444444444444444,
              "#bd3786"
             ],
             [
              0.5555555555555556,
              "#d8576b"
             ],
             [
              0.6666666666666666,
              "#ed7953"
             ],
             [
              0.7777777777777778,
              "#fb9f3a"
             ],
             [
              0.8888888888888888,
              "#fdca26"
             ],
             [
              1,
              "#f0f921"
             ]
            ],
            "type": "heatmap"
           }
          ],
          "heatmapgl": [
           {
            "colorbar": {
             "outlinewidth": 0,
             "ticks": ""
            },
            "colorscale": [
             [
              0,
              "#0d0887"
             ],
             [
              0.1111111111111111,
              "#46039f"
             ],
             [
              0.2222222222222222,
              "#7201a8"
             ],
             [
              0.3333333333333333,
              "#9c179e"
             ],
             [
              0.4444444444444444,
              "#bd3786"
             ],
             [
              0.5555555555555556,
              "#d8576b"
             ],
             [
              0.6666666666666666,
              "#ed7953"
             ],
             [
              0.7777777777777778,
              "#fb9f3a"
             ],
             [
              0.8888888888888888,
              "#fdca26"
             ],
             [
              1,
              "#f0f921"
             ]
            ],
            "type": "heatmapgl"
           }
          ],
          "histogram": [
           {
            "marker": {
             "pattern": {
              "fillmode": "overlay",
              "size": 10,
              "solidity": 0.2
             }
            },
            "type": "histogram"
           }
          ],
          "histogram2d": [
           {
            "colorbar": {
             "outlinewidth": 0,
             "ticks": ""
            },
            "colorscale": [
             [
              0,
              "#0d0887"
             ],
             [
              0.1111111111111111,
              "#46039f"
             ],
             [
              0.2222222222222222,
              "#7201a8"
             ],
             [
              0.3333333333333333,
              "#9c179e"
             ],
             [
              0.4444444444444444,
              "#bd3786"
             ],
             [
              0.5555555555555556,
              "#d8576b"
             ],
             [
              0.6666666666666666,
              "#ed7953"
             ],
             [
              0.7777777777777778,
              "#fb9f3a"
             ],
             [
              0.8888888888888888,
              "#fdca26"
             ],
             [
              1,
              "#f0f921"
             ]
            ],
            "type": "histogram2d"
           }
          ],
          "histogram2dcontour": [
           {
            "colorbar": {
             "outlinewidth": 0,
             "ticks": ""
            },
            "colorscale": [
             [
              0,
              "#0d0887"
             ],
             [
              0.1111111111111111,
              "#46039f"
             ],
             [
              0.2222222222222222,
              "#7201a8"
             ],
             [
              0.3333333333333333,
              "#9c179e"
             ],
             [
              0.4444444444444444,
              "#bd3786"
             ],
             [
              0.5555555555555556,
              "#d8576b"
             ],
             [
              0.6666666666666666,
              "#ed7953"
             ],
             [
              0.7777777777777778,
              "#fb9f3a"
             ],
             [
              0.8888888888888888,
              "#fdca26"
             ],
             [
              1,
              "#f0f921"
             ]
            ],
            "type": "histogram2dcontour"
           }
          ],
          "mesh3d": [
           {
            "colorbar": {
             "outlinewidth": 0,
             "ticks": ""
            },
            "type": "mesh3d"
           }
          ],
          "parcoords": [
           {
            "line": {
             "colorbar": {
              "outlinewidth": 0,
              "ticks": ""
             }
            },
            "type": "parcoords"
           }
          ],
          "pie": [
           {
            "automargin": true,
            "type": "pie"
           }
          ],
          "scatter": [
           {
            "marker": {
             "colorbar": {
              "outlinewidth": 0,
              "ticks": ""
             }
            },
            "type": "scatter"
           }
          ],
          "scatter3d": [
           {
            "line": {
             "colorbar": {
              "outlinewidth": 0,
              "ticks": ""
             }
            },
            "marker": {
             "colorbar": {
              "outlinewidth": 0,
              "ticks": ""
             }
            },
            "type": "scatter3d"
           }
          ],
          "scattercarpet": [
           {
            "marker": {
             "colorbar": {
              "outlinewidth": 0,
              "ticks": ""
             }
            },
            "type": "scattercarpet"
           }
          ],
          "scattergeo": [
           {
            "marker": {
             "colorbar": {
              "outlinewidth": 0,
              "ticks": ""
             }
            },
            "type": "scattergeo"
           }
          ],
          "scattergl": [
           {
            "marker": {
             "colorbar": {
              "outlinewidth": 0,
              "ticks": ""
             }
            },
            "type": "scattergl"
           }
          ],
          "scattermapbox": [
           {
            "marker": {
             "colorbar": {
              "outlinewidth": 0,
              "ticks": ""
             }
            },
            "type": "scattermapbox"
           }
          ],
          "scatterpolar": [
           {
            "marker": {
             "colorbar": {
              "outlinewidth": 0,
              "ticks": ""
             }
            },
            "type": "scatterpolar"
           }
          ],
          "scatterpolargl": [
           {
            "marker": {
             "colorbar": {
              "outlinewidth": 0,
              "ticks": ""
             }
            },
            "type": "scatterpolargl"
           }
          ],
          "scatterternary": [
           {
            "marker": {
             "colorbar": {
              "outlinewidth": 0,
              "ticks": ""
             }
            },
            "type": "scatterternary"
           }
          ],
          "surface": [
           {
            "colorbar": {
             "outlinewidth": 0,
             "ticks": ""
            },
            "colorscale": [
             [
              0,
              "#0d0887"
             ],
             [
              0.1111111111111111,
              "#46039f"
             ],
             [
              0.2222222222222222,
              "#7201a8"
             ],
             [
              0.3333333333333333,
              "#9c179e"
             ],
             [
              0.4444444444444444,
              "#bd3786"
             ],
             [
              0.5555555555555556,
              "#d8576b"
             ],
             [
              0.6666666666666666,
              "#ed7953"
             ],
             [
              0.7777777777777778,
              "#fb9f3a"
             ],
             [
              0.8888888888888888,
              "#fdca26"
             ],
             [
              1,
              "#f0f921"
             ]
            ],
            "type": "surface"
           }
          ],
          "table": [
           {
            "cells": {
             "fill": {
              "color": "#EBF0F8"
             },
             "line": {
              "color": "white"
             }
            },
            "header": {
             "fill": {
              "color": "#C8D4E3"
             },
             "line": {
              "color": "white"
             }
            },
            "type": "table"
           }
          ]
         },
         "layout": {
          "annotationdefaults": {
           "arrowcolor": "#2a3f5f",
           "arrowhead": 0,
           "arrowwidth": 1
          },
          "autotypenumbers": "strict",
          "coloraxis": {
           "colorbar": {
            "outlinewidth": 0,
            "ticks": ""
           }
          },
          "colorscale": {
           "diverging": [
            [
             0,
             "#8e0152"
            ],
            [
             0.1,
             "#c51b7d"
            ],
            [
             0.2,
             "#de77ae"
            ],
            [
             0.3,
             "#f1b6da"
            ],
            [
             0.4,
             "#fde0ef"
            ],
            [
             0.5,
             "#f7f7f7"
            ],
            [
             0.6,
             "#e6f5d0"
            ],
            [
             0.7,
             "#b8e186"
            ],
            [
             0.8,
             "#7fbc41"
            ],
            [
             0.9,
             "#4d9221"
            ],
            [
             1,
             "#276419"
            ]
           ],
           "sequential": [
            [
             0,
             "#0d0887"
            ],
            [
             0.1111111111111111,
             "#46039f"
            ],
            [
             0.2222222222222222,
             "#7201a8"
            ],
            [
             0.3333333333333333,
             "#9c179e"
            ],
            [
             0.4444444444444444,
             "#bd3786"
            ],
            [
             0.5555555555555556,
             "#d8576b"
            ],
            [
             0.6666666666666666,
             "#ed7953"
            ],
            [
             0.7777777777777778,
             "#fb9f3a"
            ],
            [
             0.8888888888888888,
             "#fdca26"
            ],
            [
             1,
             "#f0f921"
            ]
           ],
           "sequentialminus": [
            [
             0,
             "#0d0887"
            ],
            [
             0.1111111111111111,
             "#46039f"
            ],
            [
             0.2222222222222222,
             "#7201a8"
            ],
            [
             0.3333333333333333,
             "#9c179e"
            ],
            [
             0.4444444444444444,
             "#bd3786"
            ],
            [
             0.5555555555555556,
             "#d8576b"
            ],
            [
             0.6666666666666666,
             "#ed7953"
            ],
            [
             0.7777777777777778,
             "#fb9f3a"
            ],
            [
             0.8888888888888888,
             "#fdca26"
            ],
            [
             1,
             "#f0f921"
            ]
           ]
          },
          "colorway": [
           "#636efa",
           "#EF553B",
           "#00cc96",
           "#ab63fa",
           "#FFA15A",
           "#19d3f3",
           "#FF6692",
           "#B6E880",
           "#FF97FF",
           "#FECB52"
          ],
          "font": {
           "color": "#2a3f5f"
          },
          "geo": {
           "bgcolor": "white",
           "lakecolor": "white",
           "landcolor": "#E5ECF6",
           "showlakes": true,
           "showland": true,
           "subunitcolor": "white"
          },
          "hoverlabel": {
           "align": "left"
          },
          "hovermode": "closest",
          "mapbox": {
           "style": "light"
          },
          "paper_bgcolor": "white",
          "plot_bgcolor": "#E5ECF6",
          "polar": {
           "angularaxis": {
            "gridcolor": "white",
            "linecolor": "white",
            "ticks": ""
           },
           "bgcolor": "#E5ECF6",
           "radialaxis": {
            "gridcolor": "white",
            "linecolor": "white",
            "ticks": ""
           }
          },
          "scene": {
           "xaxis": {
            "backgroundcolor": "#E5ECF6",
            "gridcolor": "white",
            "gridwidth": 2,
            "linecolor": "white",
            "showbackground": true,
            "ticks": "",
            "zerolinecolor": "white"
           },
           "yaxis": {
            "backgroundcolor": "#E5ECF6",
            "gridcolor": "white",
            "gridwidth": 2,
            "linecolor": "white",
            "showbackground": true,
            "ticks": "",
            "zerolinecolor": "white"
           },
           "zaxis": {
            "backgroundcolor": "#E5ECF6",
            "gridcolor": "white",
            "gridwidth": 2,
            "linecolor": "white",
            "showbackground": true,
            "ticks": "",
            "zerolinecolor": "white"
           }
          },
          "shapedefaults": {
           "line": {
            "color": "#2a3f5f"
           }
          },
          "ternary": {
           "aaxis": {
            "gridcolor": "white",
            "linecolor": "white",
            "ticks": ""
           },
           "baxis": {
            "gridcolor": "white",
            "linecolor": "white",
            "ticks": ""
           },
           "bgcolor": "#E5ECF6",
           "caxis": {
            "gridcolor": "white",
            "linecolor": "white",
            "ticks": ""
           }
          },
          "title": {
           "x": 0.05
          },
          "xaxis": {
           "automargin": true,
           "gridcolor": "white",
           "linecolor": "white",
           "ticks": "",
           "title": {
            "standoff": 15
           },
           "zerolinecolor": "white",
           "zerolinewidth": 2
          },
          "yaxis": {
           "automargin": true,
           "gridcolor": "white",
           "linecolor": "white",
           "ticks": "",
           "title": {
            "standoff": 15
           },
           "zerolinecolor": "white",
           "zerolinewidth": 2
          }
         }
        },
        "xaxis": {
         "anchor": "y",
         "domain": [
          0,
          1
         ],
         "title": {
          "text": "bodily_injuries"
         }
        },
        "yaxis": {
         "anchor": "x",
         "domain": [
          0,
          1
         ],
         "title": {
          "text": "count"
         }
        }
       }
      }
     },
     "metadata": {},
     "output_type": "display_data"
    }
   ],
   "source": [
    "fig = px.histogram(df, x=\"bodily_injuries\", color=\"fraud_reported\")\n",
    "fig.show()"
   ]
  },
  {
   "cell_type": "code",
   "execution_count": 215,
   "metadata": {},
   "outputs": [
    {
     "data": {
      "application/vnd.plotly.v1+json": {
       "config": {
        "plotlyServerURL": "https://plot.ly"
       },
       "data": [
        {
         "alignmentgroup": "True",
         "bingroup": "x",
         "hovertemplate": "fraud_reported=Y<br>witnesses=%{x}<br>count=%{y}<extra></extra>",
         "legendgroup": "Y",
         "marker": {
          "color": "#636efa",
          "pattern": {
           "shape": ""
          }
         },
         "name": "Y",
         "offsetgroup": "Y",
         "orientation": "v",
         "showlegend": true,
         "type": "histogram",
         "x": [
          2,
          0,
          2,
          2,
          2,
          0,
          0,
          2,
          3,
          1,
          2,
          0,
          1,
          3,
          1,
          1,
          1,
          2,
          0,
          2,
          1,
          3,
          2,
          2,
          3,
          0,
          3,
          3,
          2,
          2,
          0,
          3,
          0,
          1,
          2,
          1,
          1,
          3,
          2,
          2,
          3,
          1,
          0,
          3,
          0,
          3,
          3,
          3,
          0,
          1,
          1,
          1,
          3,
          0,
          1,
          0,
          0,
          3,
          2,
          3,
          2,
          2,
          2,
          3,
          0,
          3,
          1,
          1,
          2,
          3,
          2,
          1,
          2,
          0,
          1,
          2,
          0,
          0,
          1,
          1,
          2,
          2,
          0,
          2,
          1,
          1,
          2,
          2,
          3,
          1,
          2,
          2,
          0,
          3,
          2,
          2,
          3,
          3,
          0,
          3,
          1,
          1,
          2,
          2,
          0,
          2,
          2,
          2,
          2,
          1,
          2,
          0,
          3,
          3,
          0,
          0,
          0,
          2,
          0,
          1,
          1,
          2,
          1,
          3,
          2,
          3,
          1,
          2,
          1,
          3,
          2,
          3,
          0,
          0,
          2,
          0,
          3,
          0,
          3,
          1,
          1,
          2,
          1,
          1,
          0,
          2,
          2,
          0,
          1,
          3,
          2,
          1,
          1,
          1,
          2,
          1,
          2,
          0,
          1,
          3,
          2,
          2,
          2,
          0,
          1,
          2,
          2,
          1,
          3,
          1,
          2,
          0,
          3,
          2,
          2,
          1,
          1,
          1,
          3,
          0,
          2,
          3,
          2,
          0,
          3,
          1,
          3,
          1,
          1,
          3,
          0,
          1,
          2,
          2,
          3,
          3,
          1,
          2,
          0,
          1,
          1,
          2,
          3,
          0,
          3,
          0,
          1,
          2,
          3,
          0,
          3,
          1,
          2,
          1,
          2,
          2,
          3,
          2,
          3,
          0,
          2,
          3,
          1,
          3,
          3,
          3,
          2,
          1,
          0,
          0,
          3,
          3,
          0,
          2,
          3,
          0,
          0,
          0,
          1,
          2,
          1,
          3,
          1,
          1,
          3,
          3,
          3
         ],
         "xaxis": "x",
         "yaxis": "y"
        },
        {
         "alignmentgroup": "True",
         "bingroup": "x",
         "hovertemplate": "fraud_reported=N<br>witnesses=%{x}<br>count=%{y}<extra></extra>",
         "legendgroup": "N",
         "marker": {
          "color": "#EF553B",
          "pattern": {
           "shape": ""
          }
         },
         "name": "N",
         "offsetgroup": "N",
         "orientation": "v",
         "showlegend": true,
         "type": "histogram",
         "x": [
          3,
          1,
          0,
          2,
          1,
          1,
          2,
          2,
          0,
          1,
          2,
          2,
          0,
          0,
          0,
          2,
          3,
          3,
          0,
          2,
          0,
          3,
          2,
          1,
          1,
          0,
          2,
          0,
          2,
          2,
          3,
          1,
          0,
          0,
          3,
          2,
          1,
          0,
          1,
          2,
          3,
          3,
          1,
          1,
          3,
          3,
          1,
          3,
          1,
          2,
          0,
          0,
          0,
          1,
          2,
          2,
          2,
          1,
          2,
          3,
          1,
          1,
          1,
          1,
          1,
          1,
          1,
          0,
          0,
          2,
          0,
          0,
          0,
          3,
          1,
          0,
          3,
          0,
          2,
          0,
          1,
          1,
          3,
          3,
          1,
          0,
          0,
          1,
          3,
          0,
          0,
          2,
          2,
          1,
          1,
          1,
          0,
          3,
          2,
          2,
          1,
          3,
          1,
          3,
          1,
          0,
          1,
          3,
          1,
          3,
          0,
          0,
          3,
          0,
          1,
          0,
          2,
          0,
          1,
          0,
          0,
          0,
          2,
          1,
          0,
          1,
          1,
          1,
          1,
          0,
          3,
          3,
          2,
          1,
          3,
          2,
          1,
          2,
          3,
          1,
          1,
          3,
          3,
          1,
          1,
          1,
          0,
          2,
          3,
          2,
          1,
          3,
          3,
          1,
          0,
          2,
          3,
          2,
          1,
          0,
          2,
          0,
          1,
          3,
          1,
          0,
          3,
          3,
          2,
          3,
          1,
          0,
          0,
          1,
          1,
          1,
          0,
          1,
          2,
          2,
          2,
          3,
          3,
          1,
          1,
          0,
          3,
          1,
          1,
          0,
          0,
          0,
          3,
          3,
          0,
          0,
          0,
          2,
          1,
          2,
          1,
          3,
          0,
          3,
          1,
          0,
          0,
          2,
          1,
          2,
          2,
          2,
          2,
          3,
          0,
          0,
          3,
          2,
          2,
          2,
          0,
          1,
          2,
          0,
          2,
          0,
          1,
          3,
          1,
          0,
          2,
          3,
          2,
          2,
          1,
          2,
          0,
          3,
          2,
          2,
          0,
          1,
          1,
          0,
          1,
          3,
          3,
          3,
          2,
          0,
          2,
          0,
          3,
          3,
          2,
          0,
          0,
          1,
          2,
          0,
          2,
          0,
          0,
          1,
          1,
          2,
          3,
          0,
          0,
          0,
          2,
          0,
          3,
          3,
          2,
          0,
          1,
          2,
          1,
          2,
          2,
          0,
          1,
          2,
          0,
          0,
          2,
          1,
          0,
          3,
          0,
          2,
          3,
          3,
          0,
          3,
          3,
          3,
          0,
          2,
          2,
          2,
          3,
          2,
          2,
          3,
          0,
          2,
          0,
          0,
          0,
          2,
          0,
          3,
          2,
          0,
          3,
          3,
          0,
          2,
          1,
          1,
          2,
          3,
          1,
          0,
          3,
          2,
          0,
          3,
          1,
          0,
          0,
          1,
          3,
          0,
          1,
          2,
          3,
          2,
          0,
          2,
          1,
          1,
          0,
          2,
          2,
          2,
          0,
          0,
          1,
          2,
          0,
          0,
          0,
          1,
          0,
          0,
          3,
          1,
          3,
          2,
          2,
          3,
          2,
          1,
          1,
          3,
          2,
          1,
          0,
          1,
          1,
          2,
          1,
          0,
          0,
          3,
          1,
          0,
          3,
          2,
          0,
          1,
          2,
          3,
          2,
          1,
          2,
          1,
          0,
          1,
          1,
          3,
          0,
          3,
          3,
          2,
          3,
          1,
          2,
          2,
          2,
          3,
          0,
          3,
          2,
          2,
          1,
          3,
          1,
          2,
          2,
          3,
          2,
          0,
          1,
          3,
          0,
          3,
          2,
          0,
          1,
          3,
          1,
          2,
          3,
          2,
          2,
          3,
          0,
          0,
          1,
          1,
          2,
          3,
          3,
          3,
          3,
          1,
          0,
          1,
          2,
          0,
          3,
          3,
          0,
          3,
          1,
          0,
          3,
          0,
          1,
          0,
          0,
          1,
          2,
          2,
          1,
          0,
          2,
          0,
          3,
          1,
          0,
          0,
          1,
          2,
          2,
          1,
          2,
          2,
          3,
          1,
          2,
          1,
          3,
          3,
          0,
          2,
          1,
          3,
          2,
          2,
          1,
          3,
          3,
          1,
          3,
          0,
          3,
          0,
          3,
          0,
          1,
          1,
          1,
          2,
          3,
          3,
          3,
          0,
          1,
          1,
          2,
          0,
          2,
          2,
          2,
          2,
          0,
          3,
          0,
          1,
          2,
          3,
          3,
          2,
          1,
          0,
          0,
          1,
          1,
          3,
          0,
          3,
          3,
          1,
          2,
          2,
          3,
          0,
          0,
          0,
          3,
          3,
          0,
          0,
          3,
          0,
          2,
          3,
          1,
          1,
          1,
          1,
          3,
          0,
          3,
          3,
          2,
          3,
          1,
          3,
          1,
          1,
          0,
          2,
          1,
          0,
          0,
          3,
          3,
          2,
          3,
          1,
          3,
          0,
          1,
          0,
          0,
          1,
          0,
          1,
          3,
          1,
          0,
          2,
          1,
          0,
          2,
          1,
          2,
          3,
          1,
          1,
          0,
          2,
          0,
          1,
          3,
          1,
          0,
          3,
          1,
          0,
          1,
          3,
          0,
          2,
          3,
          1,
          1,
          3,
          2,
          2,
          3,
          2,
          1,
          1,
          0,
          0,
          3,
          0,
          0,
          3,
          1,
          1,
          1,
          1,
          2,
          0,
          3,
          1,
          1,
          2,
          1,
          2,
          3,
          0,
          1,
          3,
          3,
          3,
          3,
          0,
          3,
          3,
          2,
          3,
          1,
          1,
          3,
          3,
          2,
          2,
          0,
          2,
          1,
          0,
          3,
          0,
          0,
          2,
          0,
          2,
          3,
          1,
          0,
          2,
          0,
          0,
          0,
          2,
          0,
          0,
          3,
          1,
          0,
          3,
          3,
          0,
          1,
          3,
          3,
          0,
          1,
          3,
          1,
          0,
          2,
          0,
          2,
          2,
          1,
          1,
          2,
          1,
          3,
          1,
          0,
          3,
          3,
          0,
          1,
          3,
          3,
          1,
          1,
          3,
          3,
          0,
          2,
          1,
          0,
          3,
          0,
          3,
          2,
          3,
          1,
          3,
          0,
          3,
          2,
          0,
          3,
          0,
          3,
          1,
          3,
          0,
          2,
          0,
          2,
          0,
          0,
          0,
          2,
          3,
          0,
          1,
          2,
          2,
          3,
          2,
          2,
          2,
          1,
          1,
          2,
          1,
          2,
          2,
          1,
          2,
          1,
          2,
          1,
          3,
          3,
          1,
          3
         ],
         "xaxis": "x",
         "yaxis": "y"
        }
       ],
       "layout": {
        "barmode": "relative",
        "legend": {
         "title": {
          "text": "fraud_reported"
         },
         "tracegroupgap": 0
        },
        "margin": {
         "t": 60
        },
        "template": {
         "data": {
          "bar": [
           {
            "error_x": {
             "color": "#2a3f5f"
            },
            "error_y": {
             "color": "#2a3f5f"
            },
            "marker": {
             "line": {
              "color": "#E5ECF6",
              "width": 0.5
             },
             "pattern": {
              "fillmode": "overlay",
              "size": 10,
              "solidity": 0.2
             }
            },
            "type": "bar"
           }
          ],
          "barpolar": [
           {
            "marker": {
             "line": {
              "color": "#E5ECF6",
              "width": 0.5
             },
             "pattern": {
              "fillmode": "overlay",
              "size": 10,
              "solidity": 0.2
             }
            },
            "type": "barpolar"
           }
          ],
          "carpet": [
           {
            "aaxis": {
             "endlinecolor": "#2a3f5f",
             "gridcolor": "white",
             "linecolor": "white",
             "minorgridcolor": "white",
             "startlinecolor": "#2a3f5f"
            },
            "baxis": {
             "endlinecolor": "#2a3f5f",
             "gridcolor": "white",
             "linecolor": "white",
             "minorgridcolor": "white",
             "startlinecolor": "#2a3f5f"
            },
            "type": "carpet"
           }
          ],
          "choropleth": [
           {
            "colorbar": {
             "outlinewidth": 0,
             "ticks": ""
            },
            "type": "choropleth"
           }
          ],
          "contour": [
           {
            "colorbar": {
             "outlinewidth": 0,
             "ticks": ""
            },
            "colorscale": [
             [
              0,
              "#0d0887"
             ],
             [
              0.1111111111111111,
              "#46039f"
             ],
             [
              0.2222222222222222,
              "#7201a8"
             ],
             [
              0.3333333333333333,
              "#9c179e"
             ],
             [
              0.4444444444444444,
              "#bd3786"
             ],
             [
              0.5555555555555556,
              "#d8576b"
             ],
             [
              0.6666666666666666,
              "#ed7953"
             ],
             [
              0.7777777777777778,
              "#fb9f3a"
             ],
             [
              0.8888888888888888,
              "#fdca26"
             ],
             [
              1,
              "#f0f921"
             ]
            ],
            "type": "contour"
           }
          ],
          "contourcarpet": [
           {
            "colorbar": {
             "outlinewidth": 0,
             "ticks": ""
            },
            "type": "contourcarpet"
           }
          ],
          "heatmap": [
           {
            "colorbar": {
             "outlinewidth": 0,
             "ticks": ""
            },
            "colorscale": [
             [
              0,
              "#0d0887"
             ],
             [
              0.1111111111111111,
              "#46039f"
             ],
             [
              0.2222222222222222,
              "#7201a8"
             ],
             [
              0.3333333333333333,
              "#9c179e"
             ],
             [
              0.4444444444444444,
              "#bd3786"
             ],
             [
              0.5555555555555556,
              "#d8576b"
             ],
             [
              0.6666666666666666,
              "#ed7953"
             ],
             [
              0.7777777777777778,
              "#fb9f3a"
             ],
             [
              0.8888888888888888,
              "#fdca26"
             ],
             [
              1,
              "#f0f921"
             ]
            ],
            "type": "heatmap"
           }
          ],
          "heatmapgl": [
           {
            "colorbar": {
             "outlinewidth": 0,
             "ticks": ""
            },
            "colorscale": [
             [
              0,
              "#0d0887"
             ],
             [
              0.1111111111111111,
              "#46039f"
             ],
             [
              0.2222222222222222,
              "#7201a8"
             ],
             [
              0.3333333333333333,
              "#9c179e"
             ],
             [
              0.4444444444444444,
              "#bd3786"
             ],
             [
              0.5555555555555556,
              "#d8576b"
             ],
             [
              0.6666666666666666,
              "#ed7953"
             ],
             [
              0.7777777777777778,
              "#fb9f3a"
             ],
             [
              0.8888888888888888,
              "#fdca26"
             ],
             [
              1,
              "#f0f921"
             ]
            ],
            "type": "heatmapgl"
           }
          ],
          "histogram": [
           {
            "marker": {
             "pattern": {
              "fillmode": "overlay",
              "size": 10,
              "solidity": 0.2
             }
            },
            "type": "histogram"
           }
          ],
          "histogram2d": [
           {
            "colorbar": {
             "outlinewidth": 0,
             "ticks": ""
            },
            "colorscale": [
             [
              0,
              "#0d0887"
             ],
             [
              0.1111111111111111,
              "#46039f"
             ],
             [
              0.2222222222222222,
              "#7201a8"
             ],
             [
              0.3333333333333333,
              "#9c179e"
             ],
             [
              0.4444444444444444,
              "#bd3786"
             ],
             [
              0.5555555555555556,
              "#d8576b"
             ],
             [
              0.6666666666666666,
              "#ed7953"
             ],
             [
              0.7777777777777778,
              "#fb9f3a"
             ],
             [
              0.8888888888888888,
              "#fdca26"
             ],
             [
              1,
              "#f0f921"
             ]
            ],
            "type": "histogram2d"
           }
          ],
          "histogram2dcontour": [
           {
            "colorbar": {
             "outlinewidth": 0,
             "ticks": ""
            },
            "colorscale": [
             [
              0,
              "#0d0887"
             ],
             [
              0.1111111111111111,
              "#46039f"
             ],
             [
              0.2222222222222222,
              "#7201a8"
             ],
             [
              0.3333333333333333,
              "#9c179e"
             ],
             [
              0.4444444444444444,
              "#bd3786"
             ],
             [
              0.5555555555555556,
              "#d8576b"
             ],
             [
              0.6666666666666666,
              "#ed7953"
             ],
             [
              0.7777777777777778,
              "#fb9f3a"
             ],
             [
              0.8888888888888888,
              "#fdca26"
             ],
             [
              1,
              "#f0f921"
             ]
            ],
            "type": "histogram2dcontour"
           }
          ],
          "mesh3d": [
           {
            "colorbar": {
             "outlinewidth": 0,
             "ticks": ""
            },
            "type": "mesh3d"
           }
          ],
          "parcoords": [
           {
            "line": {
             "colorbar": {
              "outlinewidth": 0,
              "ticks": ""
             }
            },
            "type": "parcoords"
           }
          ],
          "pie": [
           {
            "automargin": true,
            "type": "pie"
           }
          ],
          "scatter": [
           {
            "marker": {
             "colorbar": {
              "outlinewidth": 0,
              "ticks": ""
             }
            },
            "type": "scatter"
           }
          ],
          "scatter3d": [
           {
            "line": {
             "colorbar": {
              "outlinewidth": 0,
              "ticks": ""
             }
            },
            "marker": {
             "colorbar": {
              "outlinewidth": 0,
              "ticks": ""
             }
            },
            "type": "scatter3d"
           }
          ],
          "scattercarpet": [
           {
            "marker": {
             "colorbar": {
              "outlinewidth": 0,
              "ticks": ""
             }
            },
            "type": "scattercarpet"
           }
          ],
          "scattergeo": [
           {
            "marker": {
             "colorbar": {
              "outlinewidth": 0,
              "ticks": ""
             }
            },
            "type": "scattergeo"
           }
          ],
          "scattergl": [
           {
            "marker": {
             "colorbar": {
              "outlinewidth": 0,
              "ticks": ""
             }
            },
            "type": "scattergl"
           }
          ],
          "scattermapbox": [
           {
            "marker": {
             "colorbar": {
              "outlinewidth": 0,
              "ticks": ""
             }
            },
            "type": "scattermapbox"
           }
          ],
          "scatterpolar": [
           {
            "marker": {
             "colorbar": {
              "outlinewidth": 0,
              "ticks": ""
             }
            },
            "type": "scatterpolar"
           }
          ],
          "scatterpolargl": [
           {
            "marker": {
             "colorbar": {
              "outlinewidth": 0,
              "ticks": ""
             }
            },
            "type": "scatterpolargl"
           }
          ],
          "scatterternary": [
           {
            "marker": {
             "colorbar": {
              "outlinewidth": 0,
              "ticks": ""
             }
            },
            "type": "scatterternary"
           }
          ],
          "surface": [
           {
            "colorbar": {
             "outlinewidth": 0,
             "ticks": ""
            },
            "colorscale": [
             [
              0,
              "#0d0887"
             ],
             [
              0.1111111111111111,
              "#46039f"
             ],
             [
              0.2222222222222222,
              "#7201a8"
             ],
             [
              0.3333333333333333,
              "#9c179e"
             ],
             [
              0.4444444444444444,
              "#bd3786"
             ],
             [
              0.5555555555555556,
              "#d8576b"
             ],
             [
              0.6666666666666666,
              "#ed7953"
             ],
             [
              0.7777777777777778,
              "#fb9f3a"
             ],
             [
              0.8888888888888888,
              "#fdca26"
             ],
             [
              1,
              "#f0f921"
             ]
            ],
            "type": "surface"
           }
          ],
          "table": [
           {
            "cells": {
             "fill": {
              "color": "#EBF0F8"
             },
             "line": {
              "color": "white"
             }
            },
            "header": {
             "fill": {
              "color": "#C8D4E3"
             },
             "line": {
              "color": "white"
             }
            },
            "type": "table"
           }
          ]
         },
         "layout": {
          "annotationdefaults": {
           "arrowcolor": "#2a3f5f",
           "arrowhead": 0,
           "arrowwidth": 1
          },
          "autotypenumbers": "strict",
          "coloraxis": {
           "colorbar": {
            "outlinewidth": 0,
            "ticks": ""
           }
          },
          "colorscale": {
           "diverging": [
            [
             0,
             "#8e0152"
            ],
            [
             0.1,
             "#c51b7d"
            ],
            [
             0.2,
             "#de77ae"
            ],
            [
             0.3,
             "#f1b6da"
            ],
            [
             0.4,
             "#fde0ef"
            ],
            [
             0.5,
             "#f7f7f7"
            ],
            [
             0.6,
             "#e6f5d0"
            ],
            [
             0.7,
             "#b8e186"
            ],
            [
             0.8,
             "#7fbc41"
            ],
            [
             0.9,
             "#4d9221"
            ],
            [
             1,
             "#276419"
            ]
           ],
           "sequential": [
            [
             0,
             "#0d0887"
            ],
            [
             0.1111111111111111,
             "#46039f"
            ],
            [
             0.2222222222222222,
             "#7201a8"
            ],
            [
             0.3333333333333333,
             "#9c179e"
            ],
            [
             0.4444444444444444,
             "#bd3786"
            ],
            [
             0.5555555555555556,
             "#d8576b"
            ],
            [
             0.6666666666666666,
             "#ed7953"
            ],
            [
             0.7777777777777778,
             "#fb9f3a"
            ],
            [
             0.8888888888888888,
             "#fdca26"
            ],
            [
             1,
             "#f0f921"
            ]
           ],
           "sequentialminus": [
            [
             0,
             "#0d0887"
            ],
            [
             0.1111111111111111,
             "#46039f"
            ],
            [
             0.2222222222222222,
             "#7201a8"
            ],
            [
             0.3333333333333333,
             "#9c179e"
            ],
            [
             0.4444444444444444,
             "#bd3786"
            ],
            [
             0.5555555555555556,
             "#d8576b"
            ],
            [
             0.6666666666666666,
             "#ed7953"
            ],
            [
             0.7777777777777778,
             "#fb9f3a"
            ],
            [
             0.8888888888888888,
             "#fdca26"
            ],
            [
             1,
             "#f0f921"
            ]
           ]
          },
          "colorway": [
           "#636efa",
           "#EF553B",
           "#00cc96",
           "#ab63fa",
           "#FFA15A",
           "#19d3f3",
           "#FF6692",
           "#B6E880",
           "#FF97FF",
           "#FECB52"
          ],
          "font": {
           "color": "#2a3f5f"
          },
          "geo": {
           "bgcolor": "white",
           "lakecolor": "white",
           "landcolor": "#E5ECF6",
           "showlakes": true,
           "showland": true,
           "subunitcolor": "white"
          },
          "hoverlabel": {
           "align": "left"
          },
          "hovermode": "closest",
          "mapbox": {
           "style": "light"
          },
          "paper_bgcolor": "white",
          "plot_bgcolor": "#E5ECF6",
          "polar": {
           "angularaxis": {
            "gridcolor": "white",
            "linecolor": "white",
            "ticks": ""
           },
           "bgcolor": "#E5ECF6",
           "radialaxis": {
            "gridcolor": "white",
            "linecolor": "white",
            "ticks": ""
           }
          },
          "scene": {
           "xaxis": {
            "backgroundcolor": "#E5ECF6",
            "gridcolor": "white",
            "gridwidth": 2,
            "linecolor": "white",
            "showbackground": true,
            "ticks": "",
            "zerolinecolor": "white"
           },
           "yaxis": {
            "backgroundcolor": "#E5ECF6",
            "gridcolor": "white",
            "gridwidth": 2,
            "linecolor": "white",
            "showbackground": true,
            "ticks": "",
            "zerolinecolor": "white"
           },
           "zaxis": {
            "backgroundcolor": "#E5ECF6",
            "gridcolor": "white",
            "gridwidth": 2,
            "linecolor": "white",
            "showbackground": true,
            "ticks": "",
            "zerolinecolor": "white"
           }
          },
          "shapedefaults": {
           "line": {
            "color": "#2a3f5f"
           }
          },
          "ternary": {
           "aaxis": {
            "gridcolor": "white",
            "linecolor": "white",
            "ticks": ""
           },
           "baxis": {
            "gridcolor": "white",
            "linecolor": "white",
            "ticks": ""
           },
           "bgcolor": "#E5ECF6",
           "caxis": {
            "gridcolor": "white",
            "linecolor": "white",
            "ticks": ""
           }
          },
          "title": {
           "x": 0.05
          },
          "xaxis": {
           "automargin": true,
           "gridcolor": "white",
           "linecolor": "white",
           "ticks": "",
           "title": {
            "standoff": 15
           },
           "zerolinecolor": "white",
           "zerolinewidth": 2
          },
          "yaxis": {
           "automargin": true,
           "gridcolor": "white",
           "linecolor": "white",
           "ticks": "",
           "title": {
            "standoff": 15
           },
           "zerolinecolor": "white",
           "zerolinewidth": 2
          }
         }
        },
        "xaxis": {
         "anchor": "y",
         "domain": [
          0,
          1
         ],
         "title": {
          "text": "witnesses"
         }
        },
        "yaxis": {
         "anchor": "x",
         "domain": [
          0,
          1
         ],
         "title": {
          "text": "count"
         }
        }
       }
      }
     },
     "metadata": {},
     "output_type": "display_data"
    }
   ],
   "source": [
    "fig = px.histogram(df, x=\"witnesses\", color=\"fraud_reported\")\n",
    "fig.show()"
   ]
  },
  {
   "cell_type": "code",
   "execution_count": 216,
   "metadata": {},
   "outputs": [
    {
     "data": {
      "application/vnd.plotly.v1+json": {
       "config": {
        "plotlyServerURL": "https://plot.ly"
       },
       "data": [
        {
         "alignmentgroup": "True",
         "bingroup": "x",
         "hovertemplate": "fraud_reported=Y<br>auto_year=%{x}<br>count=%{y}<extra></extra>",
         "legendgroup": "Y",
         "marker": {
          "color": "#636efa",
          "pattern": {
           "shape": ""
          }
         },
         "name": "Y",
         "offsetgroup": "Y",
         "orientation": "v",
         "showlegend": true,
         "type": "histogram",
         "x": [
          2004,
          2007,
          2014,
          2003,
          2003,
          1999,
          2000,
          2011,
          2006,
          2003,
          2006,
          1995,
          2004,
          2011,
          2001,
          2003,
          2014,
          2003,
          2006,
          1995,
          2009,
          2003,
          1995,
          2013,
          2013,
          2011,
          2004,
          2006,
          2013,
          2000,
          2000,
          2006,
          2015,
          1997,
          2011,
          2008,
          1999,
          2006,
          2000,
          1996,
          2012,
          2002,
          1996,
          2007,
          2011,
          2006,
          2013,
          1996,
          1997,
          2012,
          2007,
          2011,
          2007,
          2003,
          2001,
          1999,
          2004,
          2009,
          2006,
          1998,
          2009,
          2005,
          2015,
          1996,
          2001,
          2012,
          2010,
          2009,
          2011,
          2004,
          2002,
          2010,
          1995,
          2013,
          2013,
          2006,
          2010,
          2004,
          2011,
          2013,
          1997,
          2013,
          2014,
          2010,
          2009,
          1996,
          1998,
          2014,
          2001,
          2006,
          2000,
          2002,
          2009,
          2004,
          2014,
          2008,
          2012,
          2002,
          2007,
          2004,
          1997,
          2011,
          2011,
          2005,
          2013,
          2011,
          2002,
          2013,
          2004,
          1995,
          2011,
          2004,
          2012,
          2000,
          1996,
          2008,
          2005,
          2005,
          2001,
          1999,
          2011,
          1997,
          2013,
          2014,
          2011,
          1998,
          1996,
          2001,
          1999,
          2004,
          2005,
          2014,
          1997,
          2015,
          2013,
          1999,
          2010,
          2005,
          2007,
          1996,
          1995,
          2009,
          2014,
          2006,
          2009,
          2010,
          2013,
          2004,
          1996,
          2007,
          1999,
          1996,
          2000,
          2008,
          2007,
          2008,
          2007,
          2000,
          1997,
          2014,
          1999,
          1995,
          1997,
          1997,
          2001,
          1995,
          2013,
          2007,
          2010,
          2007,
          2006,
          1995,
          1996,
          2007,
          1998,
          2003,
          1996,
          2014,
          2015,
          1995,
          2002,
          2004,
          2007,
          2012,
          2012,
          2007,
          2004,
          2005,
          2009,
          1995,
          1999,
          2011,
          2012,
          2007,
          2008,
          2007,
          2015,
          2015,
          2005,
          2008,
          1998,
          1995,
          2004,
          2014,
          2015,
          2005,
          2009,
          1997,
          2006,
          2009,
          2001,
          2000,
          2002,
          2015,
          2004,
          2007,
          2003,
          1999,
          2000,
          2001,
          2002,
          2015,
          2000,
          1998,
          2005,
          1998,
          2002,
          2006,
          1997,
          1995,
          2005,
          2008,
          2008,
          1996,
          2005,
          2013,
          2011,
          1997,
          2008,
          2014,
          2002,
          1996,
          2007,
          2015,
          2011,
          2015,
          2012
         ],
         "xaxis": "x",
         "yaxis": "y"
        },
        {
         "alignmentgroup": "True",
         "bingroup": "x",
         "hovertemplate": "fraud_reported=N<br>auto_year=%{x}<br>count=%{y}<extra></extra>",
         "legendgroup": "N",
         "marker": {
          "color": "#EF553B",
          "pattern": {
           "shape": ""
          }
         },
         "name": "N",
         "offsetgroup": "N",
         "orientation": "v",
         "showlegend": true,
         "type": "histogram",
         "x": [
          2007,
          2009,
          2012,
          2015,
          2012,
          1996,
          2002,
          2006,
          2000,
          2010,
          2012,
          2015,
          2015,
          2014,
          2011,
          1996,
          2005,
          2005,
          2009,
          2011,
          2005,
          2008,
          2015,
          1999,
          2001,
          2007,
          2010,
          2010,
          2005,
          2014,
          2002,
          2014,
          1995,
          2000,
          1998,
          2008,
          2000,
          1999,
          2009,
          1995,
          2014,
          2014,
          2007,
          2000,
          1997,
          2011,
          1998,
          1997,
          2004,
          1999,
          2002,
          2005,
          2010,
          1998,
          2005,
          2004,
          2005,
          2005,
          2002,
          2002,
          2007,
          2007,
          2015,
          2002,
          1995,
          2007,
          2009,
          2005,
          2001,
          1999,
          2007,
          2007,
          2004,
          2013,
          2008,
          2014,
          2002,
          1997,
          2010,
          2001,
          2007,
          2001,
          2002,
          2015,
          2010,
          2000,
          1995,
          2011,
          2013,
          2001,
          1998,
          1999,
          2012,
          2013,
          2002,
          2006,
          2015,
          2010,
          1999,
          1995,
          2008,
          2001,
          2013,
          2011,
          2014,
          2014,
          2009,
          1997,
          2006,
          2013,
          2013,
          1999,
          2014,
          1997,
          2002,
          2011,
          2012,
          1999,
          2015,
          2011,
          2006,
          2001,
          2014,
          2002,
          2011,
          1998,
          2003,
          1998,
          2010,
          2006,
          1997,
          2009,
          2013,
          2009,
          2010,
          2007,
          2008,
          2001,
          2012,
          2015,
          2003,
          2006,
          2006,
          2014,
          1997,
          2011,
          2006,
          2015,
          2009,
          1995,
          2011,
          2005,
          2003,
          2002,
          2015,
          1999,
          2009,
          2008,
          2004,
          1999,
          2012,
          1995,
          1995,
          2008,
          1999,
          2010,
          2015,
          2000,
          2005,
          2005,
          2006,
          1999,
          2009,
          1999,
          2010,
          1999,
          2015,
          2001,
          2012,
          2014,
          2008,
          2009,
          2001,
          1998,
          1995,
          2004,
          2014,
          2014,
          2001,
          2010,
          1999,
          2009,
          2001,
          2007,
          2003,
          2012,
          2002,
          1997,
          2008,
          2012,
          1997,
          2012,
          2003,
          2009,
          2008,
          1999,
          1997,
          2013,
          1996,
          2010,
          1998,
          2009,
          2010,
          2003,
          2003,
          2006,
          2008,
          2001,
          2013,
          1997,
          2001,
          1999,
          2008,
          2012,
          2014,
          2009,
          1998,
          2009,
          1998,
          2006,
          2005,
          2010,
          2012,
          2015,
          2010,
          2003,
          2014,
          2005,
          2005,
          1995,
          2004,
          2002,
          2008,
          1999,
          2000,
          1996,
          2000,
          2011,
          2002,
          2002,
          2005,
          2009,
          2011,
          2011,
          2000,
          1995,
          1997,
          1995,
          2010,
          2005,
          1999,
          2015,
          1996,
          2002,
          1995,
          2015,
          2009,
          2012,
          2006,
          2013,
          2009,
          2006,
          2014,
          2012,
          2014,
          2007,
          2014,
          2003,
          1999,
          2009,
          2005,
          2013,
          2003,
          2009,
          2015,
          2012,
          2003,
          2015,
          2002,
          2012,
          2008,
          2004,
          1999,
          1999,
          2008,
          2001,
          1995,
          2006,
          2005,
          2008,
          1995,
          1997,
          1999,
          2005,
          2009,
          2005,
          2007,
          1996,
          1995,
          2012,
          2004,
          2013,
          2011,
          2014,
          2001,
          2005,
          1999,
          1995,
          1996,
          1997,
          2004,
          2010,
          2006,
          2008,
          2002,
          2014,
          2005,
          2009,
          2013,
          2007,
          2012,
          2003,
          1997,
          2003,
          2011,
          2007,
          2003,
          1997,
          1995,
          2001,
          2013,
          2006,
          1998,
          2007,
          2007,
          2015,
          1996,
          2003,
          2000,
          2001,
          2015,
          1999,
          2006,
          2013,
          2009,
          1995,
          2003,
          2012,
          2013,
          2005,
          2007,
          2007,
          2015,
          2013,
          1999,
          2002,
          2013,
          2003,
          2015,
          2005,
          1999,
          1998,
          2011,
          2005,
          2003,
          2002,
          2015,
          2003,
          1997,
          2001,
          2001,
          2004,
          2009,
          2014,
          2004,
          2003,
          2005,
          2004,
          2004,
          1997,
          2013,
          2013,
          2010,
          1995,
          2000,
          2012,
          2009,
          2006,
          2004,
          1995,
          2015,
          2011,
          2013,
          2014,
          1996,
          2003,
          2002,
          2008,
          1996,
          1999,
          2001,
          2013,
          2013,
          2011,
          2004,
          2011,
          2010,
          2008,
          1997,
          2002,
          2002,
          2010,
          2007,
          2008,
          1998,
          2010,
          2014,
          2008,
          2012,
          2003,
          2006,
          1999,
          2010,
          2009,
          2007,
          2000,
          2013,
          2002,
          2011,
          1999,
          1995,
          1996,
          2001,
          2003,
          2007,
          2003,
          1997,
          2000,
          2008,
          1997,
          2010,
          2003,
          1996,
          1995,
          2006,
          2005,
          1998,
          2003,
          2010,
          2000,
          2010,
          2006,
          2006,
          1996,
          2012,
          1996,
          1999,
          2010,
          2010,
          2008,
          2004,
          2006,
          2001,
          1999,
          1997,
          2014,
          2005,
          1998,
          1995,
          2009,
          2014,
          2004,
          2003,
          2012,
          2008,
          1995,
          2000,
          2001,
          2010,
          2013,
          2010,
          2012,
          2006,
          2009,
          1999,
          2000,
          1997,
          2010,
          2003,
          2014,
          2002,
          2000,
          2011,
          1995,
          2008,
          2006,
          2003,
          2010,
          1997,
          2001,
          2015,
          2009,
          2008,
          1998,
          1999,
          2002,
          1996,
          1999,
          2005,
          1996,
          2013,
          2006,
          2006,
          2002,
          2002,
          2000,
          1997,
          2015,
          1998,
          1998,
          2000,
          2002,
          2003,
          2004,
          2015,
          2005,
          2007,
          1997,
          2011,
          1997,
          2006,
          2007,
          1999,
          2006,
          2015,
          2001,
          2006,
          1998,
          2003,
          2007,
          2004,
          2010,
          1995,
          2010,
          2003,
          1995,
          2001,
          1997,
          2004,
          2012,
          1995,
          1996,
          1995,
          2005,
          1997,
          1997,
          2012,
          2003,
          2007,
          2001,
          2007,
          2005,
          2011,
          1995,
          2000,
          1995,
          2006,
          2002,
          2003,
          2003,
          2003,
          2005,
          2009,
          2009,
          2011,
          2003,
          2012,
          2007,
          2012,
          2011,
          2015,
          2003,
          1995,
          1999,
          2015,
          1999,
          1998,
          1999,
          2000,
          2009,
          1995,
          2013,
          2005,
          1995,
          2009,
          2012,
          2013,
          2013,
          2010,
          2008,
          2006,
          2009,
          2009,
          1999,
          2011,
          2006,
          2001,
          2002,
          2006,
          1997,
          1995,
          2009,
          2007,
          2011,
          2005,
          2015,
          2006,
          2011,
          1998,
          1999,
          2000,
          2014,
          2005,
          2010,
          2001,
          2014,
          2000,
          1996,
          2008,
          2015,
          2012,
          2005,
          2000,
          2005,
          1999,
          2006,
          2009,
          1996,
          2000,
          2014,
          2008,
          2011,
          2013,
          2007,
          1995,
          2000,
          2008,
          2002,
          2011,
          1998,
          2004,
          2002,
          2002,
          2011,
          2007,
          2012,
          2006,
          2001,
          2011,
          2000,
          2008,
          2010,
          1998,
          1998,
          2000,
          1998,
          1997,
          1996,
          2014,
          2011,
          2005,
          2010,
          2010,
          2012,
          2001,
          2011,
          1998,
          1999,
          2009,
          1998,
          2000,
          2011,
          1998,
          2007,
          2003,
          2010,
          1998,
          2000,
          1996,
          2008,
          2010,
          2003,
          1995,
          2002,
          1998,
          1998,
          2015,
          2005,
          1997,
          2015,
          2011,
          2010,
          2001,
          2000,
          2014,
          2012,
          2004,
          2013,
          2003,
          1995,
          1995,
          2008,
          2005,
          2012,
          2013,
          2006,
          1995,
          1998,
          2003,
          2012,
          2007,
          1995,
          2008,
          2002,
          1999,
          2004,
          1999,
          2008,
          2002,
          2013,
          1995,
          1997,
          2015,
          2013,
          2002,
          2010,
          2012,
          1996,
          2006,
          2015,
          1996,
          1998,
          2007
         ],
         "xaxis": "x",
         "yaxis": "y"
        }
       ],
       "layout": {
        "barmode": "relative",
        "legend": {
         "title": {
          "text": "fraud_reported"
         },
         "tracegroupgap": 0
        },
        "margin": {
         "t": 60
        },
        "template": {
         "data": {
          "bar": [
           {
            "error_x": {
             "color": "#2a3f5f"
            },
            "error_y": {
             "color": "#2a3f5f"
            },
            "marker": {
             "line": {
              "color": "#E5ECF6",
              "width": 0.5
             },
             "pattern": {
              "fillmode": "overlay",
              "size": 10,
              "solidity": 0.2
             }
            },
            "type": "bar"
           }
          ],
          "barpolar": [
           {
            "marker": {
             "line": {
              "color": "#E5ECF6",
              "width": 0.5
             },
             "pattern": {
              "fillmode": "overlay",
              "size": 10,
              "solidity": 0.2
             }
            },
            "type": "barpolar"
           }
          ],
          "carpet": [
           {
            "aaxis": {
             "endlinecolor": "#2a3f5f",
             "gridcolor": "white",
             "linecolor": "white",
             "minorgridcolor": "white",
             "startlinecolor": "#2a3f5f"
            },
            "baxis": {
             "endlinecolor": "#2a3f5f",
             "gridcolor": "white",
             "linecolor": "white",
             "minorgridcolor": "white",
             "startlinecolor": "#2a3f5f"
            },
            "type": "carpet"
           }
          ],
          "choropleth": [
           {
            "colorbar": {
             "outlinewidth": 0,
             "ticks": ""
            },
            "type": "choropleth"
           }
          ],
          "contour": [
           {
            "colorbar": {
             "outlinewidth": 0,
             "ticks": ""
            },
            "colorscale": [
             [
              0,
              "#0d0887"
             ],
             [
              0.1111111111111111,
              "#46039f"
             ],
             [
              0.2222222222222222,
              "#7201a8"
             ],
             [
              0.3333333333333333,
              "#9c179e"
             ],
             [
              0.4444444444444444,
              "#bd3786"
             ],
             [
              0.5555555555555556,
              "#d8576b"
             ],
             [
              0.6666666666666666,
              "#ed7953"
             ],
             [
              0.7777777777777778,
              "#fb9f3a"
             ],
             [
              0.8888888888888888,
              "#fdca26"
             ],
             [
              1,
              "#f0f921"
             ]
            ],
            "type": "contour"
           }
          ],
          "contourcarpet": [
           {
            "colorbar": {
             "outlinewidth": 0,
             "ticks": ""
            },
            "type": "contourcarpet"
           }
          ],
          "heatmap": [
           {
            "colorbar": {
             "outlinewidth": 0,
             "ticks": ""
            },
            "colorscale": [
             [
              0,
              "#0d0887"
             ],
             [
              0.1111111111111111,
              "#46039f"
             ],
             [
              0.2222222222222222,
              "#7201a8"
             ],
             [
              0.3333333333333333,
              "#9c179e"
             ],
             [
              0.4444444444444444,
              "#bd3786"
             ],
             [
              0.5555555555555556,
              "#d8576b"
             ],
             [
              0.6666666666666666,
              "#ed7953"
             ],
             [
              0.7777777777777778,
              "#fb9f3a"
             ],
             [
              0.8888888888888888,
              "#fdca26"
             ],
             [
              1,
              "#f0f921"
             ]
            ],
            "type": "heatmap"
           }
          ],
          "heatmapgl": [
           {
            "colorbar": {
             "outlinewidth": 0,
             "ticks": ""
            },
            "colorscale": [
             [
              0,
              "#0d0887"
             ],
             [
              0.1111111111111111,
              "#46039f"
             ],
             [
              0.2222222222222222,
              "#7201a8"
             ],
             [
              0.3333333333333333,
              "#9c179e"
             ],
             [
              0.4444444444444444,
              "#bd3786"
             ],
             [
              0.5555555555555556,
              "#d8576b"
             ],
             [
              0.6666666666666666,
              "#ed7953"
             ],
             [
              0.7777777777777778,
              "#fb9f3a"
             ],
             [
              0.8888888888888888,
              "#fdca26"
             ],
             [
              1,
              "#f0f921"
             ]
            ],
            "type": "heatmapgl"
           }
          ],
          "histogram": [
           {
            "marker": {
             "pattern": {
              "fillmode": "overlay",
              "size": 10,
              "solidity": 0.2
             }
            },
            "type": "histogram"
           }
          ],
          "histogram2d": [
           {
            "colorbar": {
             "outlinewidth": 0,
             "ticks": ""
            },
            "colorscale": [
             [
              0,
              "#0d0887"
             ],
             [
              0.1111111111111111,
              "#46039f"
             ],
             [
              0.2222222222222222,
              "#7201a8"
             ],
             [
              0.3333333333333333,
              "#9c179e"
             ],
             [
              0.4444444444444444,
              "#bd3786"
             ],
             [
              0.5555555555555556,
              "#d8576b"
             ],
             [
              0.6666666666666666,
              "#ed7953"
             ],
             [
              0.7777777777777778,
              "#fb9f3a"
             ],
             [
              0.8888888888888888,
              "#fdca26"
             ],
             [
              1,
              "#f0f921"
             ]
            ],
            "type": "histogram2d"
           }
          ],
          "histogram2dcontour": [
           {
            "colorbar": {
             "outlinewidth": 0,
             "ticks": ""
            },
            "colorscale": [
             [
              0,
              "#0d0887"
             ],
             [
              0.1111111111111111,
              "#46039f"
             ],
             [
              0.2222222222222222,
              "#7201a8"
             ],
             [
              0.3333333333333333,
              "#9c179e"
             ],
             [
              0.4444444444444444,
              "#bd3786"
             ],
             [
              0.5555555555555556,
              "#d8576b"
             ],
             [
              0.6666666666666666,
              "#ed7953"
             ],
             [
              0.7777777777777778,
              "#fb9f3a"
             ],
             [
              0.8888888888888888,
              "#fdca26"
             ],
             [
              1,
              "#f0f921"
             ]
            ],
            "type": "histogram2dcontour"
           }
          ],
          "mesh3d": [
           {
            "colorbar": {
             "outlinewidth": 0,
             "ticks": ""
            },
            "type": "mesh3d"
           }
          ],
          "parcoords": [
           {
            "line": {
             "colorbar": {
              "outlinewidth": 0,
              "ticks": ""
             }
            },
            "type": "parcoords"
           }
          ],
          "pie": [
           {
            "automargin": true,
            "type": "pie"
           }
          ],
          "scatter": [
           {
            "marker": {
             "colorbar": {
              "outlinewidth": 0,
              "ticks": ""
             }
            },
            "type": "scatter"
           }
          ],
          "scatter3d": [
           {
            "line": {
             "colorbar": {
              "outlinewidth": 0,
              "ticks": ""
             }
            },
            "marker": {
             "colorbar": {
              "outlinewidth": 0,
              "ticks": ""
             }
            },
            "type": "scatter3d"
           }
          ],
          "scattercarpet": [
           {
            "marker": {
             "colorbar": {
              "outlinewidth": 0,
              "ticks": ""
             }
            },
            "type": "scattercarpet"
           }
          ],
          "scattergeo": [
           {
            "marker": {
             "colorbar": {
              "outlinewidth": 0,
              "ticks": ""
             }
            },
            "type": "scattergeo"
           }
          ],
          "scattergl": [
           {
            "marker": {
             "colorbar": {
              "outlinewidth": 0,
              "ticks": ""
             }
            },
            "type": "scattergl"
           }
          ],
          "scattermapbox": [
           {
            "marker": {
             "colorbar": {
              "outlinewidth": 0,
              "ticks": ""
             }
            },
            "type": "scattermapbox"
           }
          ],
          "scatterpolar": [
           {
            "marker": {
             "colorbar": {
              "outlinewidth": 0,
              "ticks": ""
             }
            },
            "type": "scatterpolar"
           }
          ],
          "scatterpolargl": [
           {
            "marker": {
             "colorbar": {
              "outlinewidth": 0,
              "ticks": ""
             }
            },
            "type": "scatterpolargl"
           }
          ],
          "scatterternary": [
           {
            "marker": {
             "colorbar": {
              "outlinewidth": 0,
              "ticks": ""
             }
            },
            "type": "scatterternary"
           }
          ],
          "surface": [
           {
            "colorbar": {
             "outlinewidth": 0,
             "ticks": ""
            },
            "colorscale": [
             [
              0,
              "#0d0887"
             ],
             [
              0.1111111111111111,
              "#46039f"
             ],
             [
              0.2222222222222222,
              "#7201a8"
             ],
             [
              0.3333333333333333,
              "#9c179e"
             ],
             [
              0.4444444444444444,
              "#bd3786"
             ],
             [
              0.5555555555555556,
              "#d8576b"
             ],
             [
              0.6666666666666666,
              "#ed7953"
             ],
             [
              0.7777777777777778,
              "#fb9f3a"
             ],
             [
              0.8888888888888888,
              "#fdca26"
             ],
             [
              1,
              "#f0f921"
             ]
            ],
            "type": "surface"
           }
          ],
          "table": [
           {
            "cells": {
             "fill": {
              "color": "#EBF0F8"
             },
             "line": {
              "color": "white"
             }
            },
            "header": {
             "fill": {
              "color": "#C8D4E3"
             },
             "line": {
              "color": "white"
             }
            },
            "type": "table"
           }
          ]
         },
         "layout": {
          "annotationdefaults": {
           "arrowcolor": "#2a3f5f",
           "arrowhead": 0,
           "arrowwidth": 1
          },
          "autotypenumbers": "strict",
          "coloraxis": {
           "colorbar": {
            "outlinewidth": 0,
            "ticks": ""
           }
          },
          "colorscale": {
           "diverging": [
            [
             0,
             "#8e0152"
            ],
            [
             0.1,
             "#c51b7d"
            ],
            [
             0.2,
             "#de77ae"
            ],
            [
             0.3,
             "#f1b6da"
            ],
            [
             0.4,
             "#fde0ef"
            ],
            [
             0.5,
             "#f7f7f7"
            ],
            [
             0.6,
             "#e6f5d0"
            ],
            [
             0.7,
             "#b8e186"
            ],
            [
             0.8,
             "#7fbc41"
            ],
            [
             0.9,
             "#4d9221"
            ],
            [
             1,
             "#276419"
            ]
           ],
           "sequential": [
            [
             0,
             "#0d0887"
            ],
            [
             0.1111111111111111,
             "#46039f"
            ],
            [
             0.2222222222222222,
             "#7201a8"
            ],
            [
             0.3333333333333333,
             "#9c179e"
            ],
            [
             0.4444444444444444,
             "#bd3786"
            ],
            [
             0.5555555555555556,
             "#d8576b"
            ],
            [
             0.6666666666666666,
             "#ed7953"
            ],
            [
             0.7777777777777778,
             "#fb9f3a"
            ],
            [
             0.8888888888888888,
             "#fdca26"
            ],
            [
             1,
             "#f0f921"
            ]
           ],
           "sequentialminus": [
            [
             0,
             "#0d0887"
            ],
            [
             0.1111111111111111,
             "#46039f"
            ],
            [
             0.2222222222222222,
             "#7201a8"
            ],
            [
             0.3333333333333333,
             "#9c179e"
            ],
            [
             0.4444444444444444,
             "#bd3786"
            ],
            [
             0.5555555555555556,
             "#d8576b"
            ],
            [
             0.6666666666666666,
             "#ed7953"
            ],
            [
             0.7777777777777778,
             "#fb9f3a"
            ],
            [
             0.8888888888888888,
             "#fdca26"
            ],
            [
             1,
             "#f0f921"
            ]
           ]
          },
          "colorway": [
           "#636efa",
           "#EF553B",
           "#00cc96",
           "#ab63fa",
           "#FFA15A",
           "#19d3f3",
           "#FF6692",
           "#B6E880",
           "#FF97FF",
           "#FECB52"
          ],
          "font": {
           "color": "#2a3f5f"
          },
          "geo": {
           "bgcolor": "white",
           "lakecolor": "white",
           "landcolor": "#E5ECF6",
           "showlakes": true,
           "showland": true,
           "subunitcolor": "white"
          },
          "hoverlabel": {
           "align": "left"
          },
          "hovermode": "closest",
          "mapbox": {
           "style": "light"
          },
          "paper_bgcolor": "white",
          "plot_bgcolor": "#E5ECF6",
          "polar": {
           "angularaxis": {
            "gridcolor": "white",
            "linecolor": "white",
            "ticks": ""
           },
           "bgcolor": "#E5ECF6",
           "radialaxis": {
            "gridcolor": "white",
            "linecolor": "white",
            "ticks": ""
           }
          },
          "scene": {
           "xaxis": {
            "backgroundcolor": "#E5ECF6",
            "gridcolor": "white",
            "gridwidth": 2,
            "linecolor": "white",
            "showbackground": true,
            "ticks": "",
            "zerolinecolor": "white"
           },
           "yaxis": {
            "backgroundcolor": "#E5ECF6",
            "gridcolor": "white",
            "gridwidth": 2,
            "linecolor": "white",
            "showbackground": true,
            "ticks": "",
            "zerolinecolor": "white"
           },
           "zaxis": {
            "backgroundcolor": "#E5ECF6",
            "gridcolor": "white",
            "gridwidth": 2,
            "linecolor": "white",
            "showbackground": true,
            "ticks": "",
            "zerolinecolor": "white"
           }
          },
          "shapedefaults": {
           "line": {
            "color": "#2a3f5f"
           }
          },
          "ternary": {
           "aaxis": {
            "gridcolor": "white",
            "linecolor": "white",
            "ticks": ""
           },
           "baxis": {
            "gridcolor": "white",
            "linecolor": "white",
            "ticks": ""
           },
           "bgcolor": "#E5ECF6",
           "caxis": {
            "gridcolor": "white",
            "linecolor": "white",
            "ticks": ""
           }
          },
          "title": {
           "x": 0.05
          },
          "xaxis": {
           "automargin": true,
           "gridcolor": "white",
           "linecolor": "white",
           "ticks": "",
           "title": {
            "standoff": 15
           },
           "zerolinecolor": "white",
           "zerolinewidth": 2
          },
          "yaxis": {
           "automargin": true,
           "gridcolor": "white",
           "linecolor": "white",
           "ticks": "",
           "title": {
            "standoff": 15
           },
           "zerolinecolor": "white",
           "zerolinewidth": 2
          }
         }
        },
        "xaxis": {
         "anchor": "y",
         "domain": [
          0,
          1
         ],
         "title": {
          "text": "auto_year"
         }
        },
        "yaxis": {
         "anchor": "x",
         "domain": [
          0,
          1
         ],
         "title": {
          "text": "count"
         }
        }
       }
      }
     },
     "metadata": {},
     "output_type": "display_data"
    }
   ],
   "source": [
    "fig = px.histogram(df, x=\"auto_year\", color=\"fraud_reported\")\n",
    "fig.show()"
   ]
  },
  {
   "cell_type": "markdown",
   "metadata": {},
   "source": [
    "# Data preperation"
   ]
  },
  {
   "cell_type": "markdown",
   "metadata": {},
   "source": [
    "### Dropping categorical variables which have too many unique values (>=14)"
   ]
  },
  {
   "cell_type": "code",
   "execution_count": 6,
   "metadata": {},
   "outputs": [
    {
     "data": {
      "text/html": [
       "<div>\n",
       "<style scoped>\n",
       "    .dataframe tbody tr th:only-of-type {\n",
       "        vertical-align: middle;\n",
       "    }\n",
       "\n",
       "    .dataframe tbody tr th {\n",
       "        vertical-align: top;\n",
       "    }\n",
       "\n",
       "    .dataframe thead th {\n",
       "        text-align: right;\n",
       "    }\n",
       "</style>\n",
       "<table border=\"1\" class=\"dataframe\">\n",
       "  <thead>\n",
       "    <tr style=\"text-align: right;\">\n",
       "      <th></th>\n",
       "      <th>months_as_customer</th>\n",
       "      <th>age</th>\n",
       "      <th>policy_csl</th>\n",
       "      <th>policy_deductable</th>\n",
       "      <th>policy_annual_premium</th>\n",
       "      <th>umbrella_limit</th>\n",
       "      <th>insured_sex</th>\n",
       "      <th>insured_education_level</th>\n",
       "      <th>insured_hobbies</th>\n",
       "      <th>insured_relationship</th>\n",
       "      <th>...</th>\n",
       "      <th>property_damage</th>\n",
       "      <th>bodily_injuries</th>\n",
       "      <th>witnesses</th>\n",
       "      <th>police_report_available</th>\n",
       "      <th>total_claim_amount</th>\n",
       "      <th>injury_claim</th>\n",
       "      <th>property_claim</th>\n",
       "      <th>vehicle_claim</th>\n",
       "      <th>auto_year</th>\n",
       "      <th>fraud_reported</th>\n",
       "    </tr>\n",
       "  </thead>\n",
       "  <tbody>\n",
       "    <tr>\n",
       "      <th>0</th>\n",
       "      <td>328</td>\n",
       "      <td>48</td>\n",
       "      <td>250/500</td>\n",
       "      <td>1000</td>\n",
       "      <td>1406.91</td>\n",
       "      <td>0</td>\n",
       "      <td>MALE</td>\n",
       "      <td>MD</td>\n",
       "      <td>sleeping</td>\n",
       "      <td>husband</td>\n",
       "      <td>...</td>\n",
       "      <td>YES</td>\n",
       "      <td>1</td>\n",
       "      <td>2</td>\n",
       "      <td>YES</td>\n",
       "      <td>71610</td>\n",
       "      <td>6510</td>\n",
       "      <td>13020</td>\n",
       "      <td>52080</td>\n",
       "      <td>2004</td>\n",
       "      <td>Y</td>\n",
       "    </tr>\n",
       "    <tr>\n",
       "      <th>1</th>\n",
       "      <td>228</td>\n",
       "      <td>42</td>\n",
       "      <td>250/500</td>\n",
       "      <td>2000</td>\n",
       "      <td>1197.22</td>\n",
       "      <td>5000000</td>\n",
       "      <td>MALE</td>\n",
       "      <td>MD</td>\n",
       "      <td>reading</td>\n",
       "      <td>other-relative</td>\n",
       "      <td>...</td>\n",
       "      <td>?</td>\n",
       "      <td>0</td>\n",
       "      <td>0</td>\n",
       "      <td>?</td>\n",
       "      <td>5070</td>\n",
       "      <td>780</td>\n",
       "      <td>780</td>\n",
       "      <td>3510</td>\n",
       "      <td>2007</td>\n",
       "      <td>Y</td>\n",
       "    </tr>\n",
       "    <tr>\n",
       "      <th>2</th>\n",
       "      <td>134</td>\n",
       "      <td>29</td>\n",
       "      <td>100/300</td>\n",
       "      <td>2000</td>\n",
       "      <td>1413.14</td>\n",
       "      <td>5000000</td>\n",
       "      <td>FEMALE</td>\n",
       "      <td>PhD</td>\n",
       "      <td>board-games</td>\n",
       "      <td>own-child</td>\n",
       "      <td>...</td>\n",
       "      <td>NO</td>\n",
       "      <td>2</td>\n",
       "      <td>3</td>\n",
       "      <td>NO</td>\n",
       "      <td>34650</td>\n",
       "      <td>7700</td>\n",
       "      <td>3850</td>\n",
       "      <td>23100</td>\n",
       "      <td>2007</td>\n",
       "      <td>N</td>\n",
       "    </tr>\n",
       "    <tr>\n",
       "      <th>3</th>\n",
       "      <td>256</td>\n",
       "      <td>41</td>\n",
       "      <td>250/500</td>\n",
       "      <td>2000</td>\n",
       "      <td>1415.74</td>\n",
       "      <td>6000000</td>\n",
       "      <td>FEMALE</td>\n",
       "      <td>PhD</td>\n",
       "      <td>board-games</td>\n",
       "      <td>unmarried</td>\n",
       "      <td>...</td>\n",
       "      <td>?</td>\n",
       "      <td>1</td>\n",
       "      <td>2</td>\n",
       "      <td>NO</td>\n",
       "      <td>63400</td>\n",
       "      <td>6340</td>\n",
       "      <td>6340</td>\n",
       "      <td>50720</td>\n",
       "      <td>2014</td>\n",
       "      <td>Y</td>\n",
       "    </tr>\n",
       "    <tr>\n",
       "      <th>4</th>\n",
       "      <td>228</td>\n",
       "      <td>44</td>\n",
       "      <td>500/1000</td>\n",
       "      <td>1000</td>\n",
       "      <td>1583.91</td>\n",
       "      <td>6000000</td>\n",
       "      <td>MALE</td>\n",
       "      <td>Associate</td>\n",
       "      <td>board-games</td>\n",
       "      <td>unmarried</td>\n",
       "      <td>...</td>\n",
       "      <td>NO</td>\n",
       "      <td>0</td>\n",
       "      <td>1</td>\n",
       "      <td>NO</td>\n",
       "      <td>6500</td>\n",
       "      <td>1300</td>\n",
       "      <td>650</td>\n",
       "      <td>4550</td>\n",
       "      <td>2009</td>\n",
       "      <td>N</td>\n",
       "    </tr>\n",
       "  </tbody>\n",
       "</table>\n",
       "<p>5 rows × 30 columns</p>\n",
       "</div>"
      ],
      "text/plain": [
       "   months_as_customer  age policy_csl  policy_deductable  \\\n",
       "0                 328   48    250/500               1000   \n",
       "1                 228   42    250/500               2000   \n",
       "2                 134   29    100/300               2000   \n",
       "3                 256   41    250/500               2000   \n",
       "4                 228   44   500/1000               1000   \n",
       "\n",
       "   policy_annual_premium  umbrella_limit insured_sex insured_education_level  \\\n",
       "0                1406.91               0        MALE                      MD   \n",
       "1                1197.22         5000000        MALE                      MD   \n",
       "2                1413.14         5000000      FEMALE                     PhD   \n",
       "3                1415.74         6000000      FEMALE                     PhD   \n",
       "4                1583.91         6000000        MALE               Associate   \n",
       "\n",
       "  insured_hobbies insured_relationship  ...  property_damage  bodily_injuries  \\\n",
       "0        sleeping              husband  ...              YES                1   \n",
       "1         reading       other-relative  ...                ?                0   \n",
       "2     board-games            own-child  ...               NO                2   \n",
       "3     board-games            unmarried  ...                ?                1   \n",
       "4     board-games            unmarried  ...               NO                0   \n",
       "\n",
       "  witnesses police_report_available total_claim_amount injury_claim  \\\n",
       "0         2                     YES              71610         6510   \n",
       "1         0                       ?               5070          780   \n",
       "2         3                      NO              34650         7700   \n",
       "3         2                      NO              63400         6340   \n",
       "4         1                      NO               6500         1300   \n",
       "\n",
       "  property_claim vehicle_claim  auto_year  fraud_reported  \n",
       "0          13020         52080       2004               Y  \n",
       "1            780          3510       2007               Y  \n",
       "2           3850         23100       2007               N  \n",
       "3           6340         50720       2014               Y  \n",
       "4            650          4550       2009               N  \n",
       "\n",
       "[5 rows x 30 columns]"
      ]
     },
     "execution_count": 6,
     "metadata": {},
     "output_type": "execute_result"
    }
   ],
   "source": [
    "to_drop = ['policy_number','policy_bind_date','policy_state','insured_zip','incident_location','incident_date','auto_make','auto_model','insured_occupation']\n",
    "df.drop(to_drop, inplace = True, axis = 1)\n",
    "df.head()"
   ]
  },
  {
   "cell_type": "markdown",
   "metadata": {},
   "source": [
    "### Dropping numeric variables having high correlation"
   ]
  },
  {
   "cell_type": "code",
   "execution_count": 7,
   "metadata": {},
   "outputs": [
    {
     "data": {
      "text/html": [
       "<div>\n",
       "<style scoped>\n",
       "    .dataframe tbody tr th:only-of-type {\n",
       "        vertical-align: middle;\n",
       "    }\n",
       "\n",
       "    .dataframe tbody tr th {\n",
       "        vertical-align: top;\n",
       "    }\n",
       "\n",
       "    .dataframe thead th {\n",
       "        text-align: right;\n",
       "    }\n",
       "</style>\n",
       "<table border=\"1\" class=\"dataframe\">\n",
       "  <thead>\n",
       "    <tr style=\"text-align: right;\">\n",
       "      <th></th>\n",
       "      <th>months_as_customer</th>\n",
       "      <th>policy_csl</th>\n",
       "      <th>policy_deductable</th>\n",
       "      <th>policy_annual_premium</th>\n",
       "      <th>umbrella_limit</th>\n",
       "      <th>insured_sex</th>\n",
       "      <th>insured_education_level</th>\n",
       "      <th>insured_hobbies</th>\n",
       "      <th>insured_relationship</th>\n",
       "      <th>capital-gains</th>\n",
       "      <th>...</th>\n",
       "      <th>number_of_vehicles_involved</th>\n",
       "      <th>property_damage</th>\n",
       "      <th>bodily_injuries</th>\n",
       "      <th>witnesses</th>\n",
       "      <th>police_report_available</th>\n",
       "      <th>injury_claim</th>\n",
       "      <th>property_claim</th>\n",
       "      <th>vehicle_claim</th>\n",
       "      <th>auto_year</th>\n",
       "      <th>fraud_reported</th>\n",
       "    </tr>\n",
       "  </thead>\n",
       "  <tbody>\n",
       "    <tr>\n",
       "      <th>0</th>\n",
       "      <td>328</td>\n",
       "      <td>250/500</td>\n",
       "      <td>1000</td>\n",
       "      <td>1406.91</td>\n",
       "      <td>0</td>\n",
       "      <td>MALE</td>\n",
       "      <td>MD</td>\n",
       "      <td>sleeping</td>\n",
       "      <td>husband</td>\n",
       "      <td>53300</td>\n",
       "      <td>...</td>\n",
       "      <td>1</td>\n",
       "      <td>YES</td>\n",
       "      <td>1</td>\n",
       "      <td>2</td>\n",
       "      <td>YES</td>\n",
       "      <td>6510</td>\n",
       "      <td>13020</td>\n",
       "      <td>52080</td>\n",
       "      <td>2004</td>\n",
       "      <td>Y</td>\n",
       "    </tr>\n",
       "    <tr>\n",
       "      <th>1</th>\n",
       "      <td>228</td>\n",
       "      <td>250/500</td>\n",
       "      <td>2000</td>\n",
       "      <td>1197.22</td>\n",
       "      <td>5000000</td>\n",
       "      <td>MALE</td>\n",
       "      <td>MD</td>\n",
       "      <td>reading</td>\n",
       "      <td>other-relative</td>\n",
       "      <td>0</td>\n",
       "      <td>...</td>\n",
       "      <td>1</td>\n",
       "      <td>?</td>\n",
       "      <td>0</td>\n",
       "      <td>0</td>\n",
       "      <td>?</td>\n",
       "      <td>780</td>\n",
       "      <td>780</td>\n",
       "      <td>3510</td>\n",
       "      <td>2007</td>\n",
       "      <td>Y</td>\n",
       "    </tr>\n",
       "    <tr>\n",
       "      <th>2</th>\n",
       "      <td>134</td>\n",
       "      <td>100/300</td>\n",
       "      <td>2000</td>\n",
       "      <td>1413.14</td>\n",
       "      <td>5000000</td>\n",
       "      <td>FEMALE</td>\n",
       "      <td>PhD</td>\n",
       "      <td>board-games</td>\n",
       "      <td>own-child</td>\n",
       "      <td>35100</td>\n",
       "      <td>...</td>\n",
       "      <td>3</td>\n",
       "      <td>NO</td>\n",
       "      <td>2</td>\n",
       "      <td>3</td>\n",
       "      <td>NO</td>\n",
       "      <td>7700</td>\n",
       "      <td>3850</td>\n",
       "      <td>23100</td>\n",
       "      <td>2007</td>\n",
       "      <td>N</td>\n",
       "    </tr>\n",
       "    <tr>\n",
       "      <th>3</th>\n",
       "      <td>256</td>\n",
       "      <td>250/500</td>\n",
       "      <td>2000</td>\n",
       "      <td>1415.74</td>\n",
       "      <td>6000000</td>\n",
       "      <td>FEMALE</td>\n",
       "      <td>PhD</td>\n",
       "      <td>board-games</td>\n",
       "      <td>unmarried</td>\n",
       "      <td>48900</td>\n",
       "      <td>...</td>\n",
       "      <td>1</td>\n",
       "      <td>?</td>\n",
       "      <td>1</td>\n",
       "      <td>2</td>\n",
       "      <td>NO</td>\n",
       "      <td>6340</td>\n",
       "      <td>6340</td>\n",
       "      <td>50720</td>\n",
       "      <td>2014</td>\n",
       "      <td>Y</td>\n",
       "    </tr>\n",
       "    <tr>\n",
       "      <th>4</th>\n",
       "      <td>228</td>\n",
       "      <td>500/1000</td>\n",
       "      <td>1000</td>\n",
       "      <td>1583.91</td>\n",
       "      <td>6000000</td>\n",
       "      <td>MALE</td>\n",
       "      <td>Associate</td>\n",
       "      <td>board-games</td>\n",
       "      <td>unmarried</td>\n",
       "      <td>66000</td>\n",
       "      <td>...</td>\n",
       "      <td>1</td>\n",
       "      <td>NO</td>\n",
       "      <td>0</td>\n",
       "      <td>1</td>\n",
       "      <td>NO</td>\n",
       "      <td>1300</td>\n",
       "      <td>650</td>\n",
       "      <td>4550</td>\n",
       "      <td>2009</td>\n",
       "      <td>N</td>\n",
       "    </tr>\n",
       "  </tbody>\n",
       "</table>\n",
       "<p>5 rows × 28 columns</p>\n",
       "</div>"
      ],
      "text/plain": [
       "   months_as_customer policy_csl  policy_deductable  policy_annual_premium  \\\n",
       "0                 328    250/500               1000                1406.91   \n",
       "1                 228    250/500               2000                1197.22   \n",
       "2                 134    100/300               2000                1413.14   \n",
       "3                 256    250/500               2000                1415.74   \n",
       "4                 228   500/1000               1000                1583.91   \n",
       "\n",
       "   umbrella_limit insured_sex insured_education_level insured_hobbies  \\\n",
       "0               0        MALE                      MD        sleeping   \n",
       "1         5000000        MALE                      MD         reading   \n",
       "2         5000000      FEMALE                     PhD     board-games   \n",
       "3         6000000      FEMALE                     PhD     board-games   \n",
       "4         6000000        MALE               Associate     board-games   \n",
       "\n",
       "  insured_relationship  capital-gains  ...  number_of_vehicles_involved  \\\n",
       "0              husband          53300  ...                            1   \n",
       "1       other-relative              0  ...                            1   \n",
       "2            own-child          35100  ...                            3   \n",
       "3            unmarried          48900  ...                            1   \n",
       "4            unmarried          66000  ...                            1   \n",
       "\n",
       "  property_damage bodily_injuries witnesses police_report_available  \\\n",
       "0             YES               1         2                     YES   \n",
       "1               ?               0         0                       ?   \n",
       "2              NO               2         3                      NO   \n",
       "3               ?               1         2                      NO   \n",
       "4              NO               0         1                      NO   \n",
       "\n",
       "  injury_claim property_claim  vehicle_claim  auto_year fraud_reported  \n",
       "0         6510          13020          52080       2004              Y  \n",
       "1          780            780           3510       2007              Y  \n",
       "2         7700           3850          23100       2007              N  \n",
       "3         6340           6340          50720       2014              Y  \n",
       "4         1300            650           4550       2009              N  \n",
       "\n",
       "[5 rows x 28 columns]"
      ]
     },
     "execution_count": 7,
     "metadata": {},
     "output_type": "execute_result"
    }
   ],
   "source": [
    "df.drop(columns = ['age', 'total_claim_amount'], inplace = True, axis = 1)\n",
    "df.head()"
   ]
  },
  {
   "cell_type": "markdown",
   "metadata": {},
   "source": [
    "### 'Insured Hobbies' column has high positives for chess and crossfit. Hence these two values are kept and the other values are changed as 'others'"
   ]
  },
  {
   "cell_type": "code",
   "execution_count": 8,
   "metadata": {},
   "outputs": [],
   "source": [
    "df['insured_hobbies']=df['insured_hobbies'].apply(lambda x :'Other' if x!='chess' and x!='cross-fit' else x)"
   ]
  },
  {
   "cell_type": "code",
   "execution_count": 9,
   "metadata": {},
   "outputs": [
    {
     "data": {
      "text/html": [
       "<div>\n",
       "<style scoped>\n",
       "    .dataframe tbody tr th:only-of-type {\n",
       "        vertical-align: middle;\n",
       "    }\n",
       "\n",
       "    .dataframe tbody tr th {\n",
       "        vertical-align: top;\n",
       "    }\n",
       "\n",
       "    .dataframe thead th {\n",
       "        text-align: right;\n",
       "    }\n",
       "</style>\n",
       "<table border=\"1\" class=\"dataframe\">\n",
       "  <thead>\n",
       "    <tr style=\"text-align: right;\">\n",
       "      <th></th>\n",
       "      <th>months_as_customer</th>\n",
       "      <th>policy_csl</th>\n",
       "      <th>policy_deductable</th>\n",
       "      <th>policy_annual_premium</th>\n",
       "      <th>umbrella_limit</th>\n",
       "      <th>insured_sex</th>\n",
       "      <th>insured_education_level</th>\n",
       "      <th>insured_hobbies</th>\n",
       "      <th>insured_relationship</th>\n",
       "      <th>capital-gains</th>\n",
       "      <th>...</th>\n",
       "      <th>number_of_vehicles_involved</th>\n",
       "      <th>property_damage</th>\n",
       "      <th>bodily_injuries</th>\n",
       "      <th>witnesses</th>\n",
       "      <th>police_report_available</th>\n",
       "      <th>injury_claim</th>\n",
       "      <th>property_claim</th>\n",
       "      <th>vehicle_claim</th>\n",
       "      <th>auto_year</th>\n",
       "      <th>fraud_reported</th>\n",
       "    </tr>\n",
       "  </thead>\n",
       "  <tbody>\n",
       "    <tr>\n",
       "      <th>0</th>\n",
       "      <td>328</td>\n",
       "      <td>250/500</td>\n",
       "      <td>1000</td>\n",
       "      <td>1406.91</td>\n",
       "      <td>0</td>\n",
       "      <td>MALE</td>\n",
       "      <td>MD</td>\n",
       "      <td>Other</td>\n",
       "      <td>husband</td>\n",
       "      <td>53300</td>\n",
       "      <td>...</td>\n",
       "      <td>1</td>\n",
       "      <td>YES</td>\n",
       "      <td>1</td>\n",
       "      <td>2</td>\n",
       "      <td>YES</td>\n",
       "      <td>6510</td>\n",
       "      <td>13020</td>\n",
       "      <td>52080</td>\n",
       "      <td>2004</td>\n",
       "      <td>1</td>\n",
       "    </tr>\n",
       "    <tr>\n",
       "      <th>1</th>\n",
       "      <td>228</td>\n",
       "      <td>250/500</td>\n",
       "      <td>2000</td>\n",
       "      <td>1197.22</td>\n",
       "      <td>5000000</td>\n",
       "      <td>MALE</td>\n",
       "      <td>MD</td>\n",
       "      <td>Other</td>\n",
       "      <td>other-relative</td>\n",
       "      <td>0</td>\n",
       "      <td>...</td>\n",
       "      <td>1</td>\n",
       "      <td>?</td>\n",
       "      <td>0</td>\n",
       "      <td>0</td>\n",
       "      <td>?</td>\n",
       "      <td>780</td>\n",
       "      <td>780</td>\n",
       "      <td>3510</td>\n",
       "      <td>2007</td>\n",
       "      <td>1</td>\n",
       "    </tr>\n",
       "    <tr>\n",
       "      <th>2</th>\n",
       "      <td>134</td>\n",
       "      <td>100/300</td>\n",
       "      <td>2000</td>\n",
       "      <td>1413.14</td>\n",
       "      <td>5000000</td>\n",
       "      <td>FEMALE</td>\n",
       "      <td>PhD</td>\n",
       "      <td>Other</td>\n",
       "      <td>own-child</td>\n",
       "      <td>35100</td>\n",
       "      <td>...</td>\n",
       "      <td>3</td>\n",
       "      <td>NO</td>\n",
       "      <td>2</td>\n",
       "      <td>3</td>\n",
       "      <td>NO</td>\n",
       "      <td>7700</td>\n",
       "      <td>3850</td>\n",
       "      <td>23100</td>\n",
       "      <td>2007</td>\n",
       "      <td>0</td>\n",
       "    </tr>\n",
       "    <tr>\n",
       "      <th>3</th>\n",
       "      <td>256</td>\n",
       "      <td>250/500</td>\n",
       "      <td>2000</td>\n",
       "      <td>1415.74</td>\n",
       "      <td>6000000</td>\n",
       "      <td>FEMALE</td>\n",
       "      <td>PhD</td>\n",
       "      <td>Other</td>\n",
       "      <td>unmarried</td>\n",
       "      <td>48900</td>\n",
       "      <td>...</td>\n",
       "      <td>1</td>\n",
       "      <td>?</td>\n",
       "      <td>1</td>\n",
       "      <td>2</td>\n",
       "      <td>NO</td>\n",
       "      <td>6340</td>\n",
       "      <td>6340</td>\n",
       "      <td>50720</td>\n",
       "      <td>2014</td>\n",
       "      <td>1</td>\n",
       "    </tr>\n",
       "    <tr>\n",
       "      <th>4</th>\n",
       "      <td>228</td>\n",
       "      <td>500/1000</td>\n",
       "      <td>1000</td>\n",
       "      <td>1583.91</td>\n",
       "      <td>6000000</td>\n",
       "      <td>MALE</td>\n",
       "      <td>Associate</td>\n",
       "      <td>Other</td>\n",
       "      <td>unmarried</td>\n",
       "      <td>66000</td>\n",
       "      <td>...</td>\n",
       "      <td>1</td>\n",
       "      <td>NO</td>\n",
       "      <td>0</td>\n",
       "      <td>1</td>\n",
       "      <td>NO</td>\n",
       "      <td>1300</td>\n",
       "      <td>650</td>\n",
       "      <td>4550</td>\n",
       "      <td>2009</td>\n",
       "      <td>0</td>\n",
       "    </tr>\n",
       "  </tbody>\n",
       "</table>\n",
       "<p>5 rows × 28 columns</p>\n",
       "</div>"
      ],
      "text/plain": [
       "   months_as_customer policy_csl  policy_deductable  policy_annual_premium  \\\n",
       "0                 328    250/500               1000                1406.91   \n",
       "1                 228    250/500               2000                1197.22   \n",
       "2                 134    100/300               2000                1413.14   \n",
       "3                 256    250/500               2000                1415.74   \n",
       "4                 228   500/1000               1000                1583.91   \n",
       "\n",
       "   umbrella_limit insured_sex insured_education_level insured_hobbies  \\\n",
       "0               0        MALE                      MD           Other   \n",
       "1         5000000        MALE                      MD           Other   \n",
       "2         5000000      FEMALE                     PhD           Other   \n",
       "3         6000000      FEMALE                     PhD           Other   \n",
       "4         6000000        MALE               Associate           Other   \n",
       "\n",
       "  insured_relationship  capital-gains  ...  number_of_vehicles_involved  \\\n",
       "0              husband          53300  ...                            1   \n",
       "1       other-relative              0  ...                            1   \n",
       "2            own-child          35100  ...                            3   \n",
       "3            unmarried          48900  ...                            1   \n",
       "4            unmarried          66000  ...                            1   \n",
       "\n",
       "  property_damage bodily_injuries witnesses police_report_available  \\\n",
       "0             YES               1         2                     YES   \n",
       "1               ?               0         0                       ?   \n",
       "2              NO               2         3                      NO   \n",
       "3               ?               1         2                      NO   \n",
       "4              NO               0         1                      NO   \n",
       "\n",
       "  injury_claim property_claim  vehicle_claim  auto_year fraud_reported  \n",
       "0         6510          13020          52080       2004              1  \n",
       "1          780            780           3510       2007              1  \n",
       "2         7700           3850          23100       2007              0  \n",
       "3         6340           6340          50720       2014              1  \n",
       "4         1300            650           4550       2009              0  \n",
       "\n",
       "[5 rows x 28 columns]"
      ]
     },
     "execution_count": 9,
     "metadata": {},
     "output_type": "execute_result"
    }
   ],
   "source": [
    "df['fraud_reported'].replace(to_replace='Y', value=1, inplace=True)\n",
    "df['fraud_reported'].replace(to_replace='N',  value=0, inplace=True)\n",
    "\n",
    "df.head()"
   ]
  },
  {
   "cell_type": "code",
   "execution_count": 10,
   "metadata": {},
   "outputs": [
    {
     "data": {
      "text/plain": [
       "Index(['months_as_customer', 'policy_csl', 'policy_deductable',\n",
       "       'policy_annual_premium', 'umbrella_limit', 'insured_sex',\n",
       "       'insured_education_level', 'insured_hobbies', 'insured_relationship',\n",
       "       'capital-gains', 'capital-loss', 'incident_type', 'collision_type',\n",
       "       'incident_severity', 'authorities_contacted', 'incident_state',\n",
       "       'incident_city', 'incident_hour_of_the_day',\n",
       "       'number_of_vehicles_involved', 'property_damage', 'bodily_injuries',\n",
       "       'witnesses', 'police_report_available', 'injury_claim',\n",
       "       'property_claim', 'vehicle_claim', 'auto_year', 'fraud_reported'],\n",
       "      dtype='object')"
      ]
     },
     "execution_count": 10,
     "metadata": {},
     "output_type": "execute_result"
    }
   ],
   "source": [
    "df.columns"
   ]
  },
  {
   "cell_type": "markdown",
   "metadata": {},
   "source": [
    "### Removing rows with peculiar values"
   ]
  },
  {
   "cell_type": "code",
   "execution_count": 11,
   "metadata": {},
   "outputs": [],
   "source": [
    "df.drop(df[df['umbrella_limit'] < 0].index, inplace = True)"
   ]
  },
  {
   "cell_type": "markdown",
   "metadata": {},
   "source": [
    "### Replacing values with '?'"
   ]
  },
  {
   "cell_type": "code",
   "execution_count": 12,
   "metadata": {},
   "outputs": [],
   "source": [
    "df = df.replace('?',np.NaN)"
   ]
  },
  {
   "cell_type": "code",
   "execution_count": 13,
   "metadata": {},
   "outputs": [
    {
     "data": {
      "text/plain": [
       "months_as_customer               0\n",
       "policy_csl                       0\n",
       "policy_deductable                0\n",
       "policy_annual_premium            0\n",
       "umbrella_limit                   0\n",
       "insured_sex                      0\n",
       "insured_education_level          0\n",
       "insured_hobbies                  0\n",
       "insured_relationship             0\n",
       "capital-gains                    0\n",
       "capital-loss                     0\n",
       "incident_type                    0\n",
       "collision_type                 176\n",
       "incident_severity                0\n",
       "authorities_contacted            0\n",
       "incident_state                   0\n",
       "incident_city                    0\n",
       "incident_hour_of_the_day         0\n",
       "number_of_vehicles_involved      0\n",
       "property_damage                354\n",
       "bodily_injuries                  0\n",
       "witnesses                        0\n",
       "police_report_available        338\n",
       "injury_claim                     0\n",
       "property_claim                   0\n",
       "vehicle_claim                    0\n",
       "auto_year                        0\n",
       "fraud_reported                   0\n",
       "dtype: int64"
      ]
     },
     "execution_count": 13,
     "metadata": {},
     "output_type": "execute_result"
    }
   ],
   "source": [
    "df.isna().sum()"
   ]
  },
  {
   "cell_type": "code",
   "execution_count": 14,
   "metadata": {},
   "outputs": [
    {
     "data": {
      "text/plain": [
       "False"
      ]
     },
     "execution_count": 14,
     "metadata": {},
     "output_type": "execute_result"
    }
   ],
   "source": [
    "df['collision_type'].fillna(df['collision_type'].mode()[0], inplace = True)\n",
    "\n",
    "df['property_damage'].fillna('NO', inplace = True)\n",
    "\n",
    "df['police_report_available'].fillna('NO', inplace = True)\n",
    "\n",
    "df.isnull().any().any()"
   ]
  },
  {
   "cell_type": "markdown",
   "metadata": {},
   "source": [
    "### One hot encoding categorical variables"
   ]
  },
  {
   "cell_type": "code",
   "execution_count": 15,
   "metadata": {},
   "outputs": [
    {
     "data": {
      "text/html": [
       "<div>\n",
       "<style scoped>\n",
       "    .dataframe tbody tr th:only-of-type {\n",
       "        vertical-align: middle;\n",
       "    }\n",
       "\n",
       "    .dataframe tbody tr th {\n",
       "        vertical-align: top;\n",
       "    }\n",
       "\n",
       "    .dataframe thead th {\n",
       "        text-align: right;\n",
       "    }\n",
       "</style>\n",
       "<table border=\"1\" class=\"dataframe\">\n",
       "  <thead>\n",
       "    <tr style=\"text-align: right;\">\n",
       "      <th></th>\n",
       "      <th>policy_csl_100/300</th>\n",
       "      <th>policy_csl_250/500</th>\n",
       "      <th>policy_csl_500/1000</th>\n",
       "      <th>insured_sex_FEMALE</th>\n",
       "      <th>insured_sex_MALE</th>\n",
       "      <th>insured_education_level_Associate</th>\n",
       "      <th>insured_education_level_College</th>\n",
       "      <th>insured_education_level_High School</th>\n",
       "      <th>insured_education_level_JD</th>\n",
       "      <th>insured_education_level_MD</th>\n",
       "      <th>...</th>\n",
       "      <th>incident_city_Hillsdale</th>\n",
       "      <th>incident_city_Northbend</th>\n",
       "      <th>incident_city_Northbrook</th>\n",
       "      <th>incident_city_Riverwood</th>\n",
       "      <th>incident_city_Springfield</th>\n",
       "      <th>collision_type_Front Collision</th>\n",
       "      <th>collision_type_Rear Collision</th>\n",
       "      <th>collision_type_Side Collision</th>\n",
       "      <th>property_damage</th>\n",
       "      <th>police_report_available</th>\n",
       "    </tr>\n",
       "  </thead>\n",
       "  <tbody>\n",
       "    <tr>\n",
       "      <th>0</th>\n",
       "      <td>0</td>\n",
       "      <td>1</td>\n",
       "      <td>0</td>\n",
       "      <td>0</td>\n",
       "      <td>1</td>\n",
       "      <td>0</td>\n",
       "      <td>0</td>\n",
       "      <td>0</td>\n",
       "      <td>0</td>\n",
       "      <td>1</td>\n",
       "      <td>...</td>\n",
       "      <td>0</td>\n",
       "      <td>0</td>\n",
       "      <td>0</td>\n",
       "      <td>0</td>\n",
       "      <td>0</td>\n",
       "      <td>0</td>\n",
       "      <td>0</td>\n",
       "      <td>1</td>\n",
       "      <td>YES</td>\n",
       "      <td>YES</td>\n",
       "    </tr>\n",
       "    <tr>\n",
       "      <th>1</th>\n",
       "      <td>0</td>\n",
       "      <td>1</td>\n",
       "      <td>0</td>\n",
       "      <td>0</td>\n",
       "      <td>1</td>\n",
       "      <td>0</td>\n",
       "      <td>0</td>\n",
       "      <td>0</td>\n",
       "      <td>0</td>\n",
       "      <td>1</td>\n",
       "      <td>...</td>\n",
       "      <td>0</td>\n",
       "      <td>0</td>\n",
       "      <td>0</td>\n",
       "      <td>1</td>\n",
       "      <td>0</td>\n",
       "      <td>0</td>\n",
       "      <td>1</td>\n",
       "      <td>0</td>\n",
       "      <td>NO</td>\n",
       "      <td>NO</td>\n",
       "    </tr>\n",
       "    <tr>\n",
       "      <th>2</th>\n",
       "      <td>1</td>\n",
       "      <td>0</td>\n",
       "      <td>0</td>\n",
       "      <td>1</td>\n",
       "      <td>0</td>\n",
       "      <td>0</td>\n",
       "      <td>0</td>\n",
       "      <td>0</td>\n",
       "      <td>0</td>\n",
       "      <td>0</td>\n",
       "      <td>...</td>\n",
       "      <td>0</td>\n",
       "      <td>0</td>\n",
       "      <td>0</td>\n",
       "      <td>0</td>\n",
       "      <td>0</td>\n",
       "      <td>0</td>\n",
       "      <td>1</td>\n",
       "      <td>0</td>\n",
       "      <td>NO</td>\n",
       "      <td>NO</td>\n",
       "    </tr>\n",
       "    <tr>\n",
       "      <th>3</th>\n",
       "      <td>0</td>\n",
       "      <td>1</td>\n",
       "      <td>0</td>\n",
       "      <td>1</td>\n",
       "      <td>0</td>\n",
       "      <td>0</td>\n",
       "      <td>0</td>\n",
       "      <td>0</td>\n",
       "      <td>0</td>\n",
       "      <td>0</td>\n",
       "      <td>...</td>\n",
       "      <td>0</td>\n",
       "      <td>0</td>\n",
       "      <td>0</td>\n",
       "      <td>0</td>\n",
       "      <td>0</td>\n",
       "      <td>1</td>\n",
       "      <td>0</td>\n",
       "      <td>0</td>\n",
       "      <td>NO</td>\n",
       "      <td>NO</td>\n",
       "    </tr>\n",
       "    <tr>\n",
       "      <th>4</th>\n",
       "      <td>0</td>\n",
       "      <td>0</td>\n",
       "      <td>1</td>\n",
       "      <td>0</td>\n",
       "      <td>1</td>\n",
       "      <td>1</td>\n",
       "      <td>0</td>\n",
       "      <td>0</td>\n",
       "      <td>0</td>\n",
       "      <td>0</td>\n",
       "      <td>...</td>\n",
       "      <td>0</td>\n",
       "      <td>0</td>\n",
       "      <td>0</td>\n",
       "      <td>0</td>\n",
       "      <td>0</td>\n",
       "      <td>0</td>\n",
       "      <td>1</td>\n",
       "      <td>0</td>\n",
       "      <td>NO</td>\n",
       "      <td>NO</td>\n",
       "    </tr>\n",
       "  </tbody>\n",
       "</table>\n",
       "<p>5 rows × 53 columns</p>\n",
       "</div>"
      ],
      "text/plain": [
       "   policy_csl_100/300  policy_csl_250/500  policy_csl_500/1000  \\\n",
       "0                   0                   1                    0   \n",
       "1                   0                   1                    0   \n",
       "2                   1                   0                    0   \n",
       "3                   0                   1                    0   \n",
       "4                   0                   0                    1   \n",
       "\n",
       "   insured_sex_FEMALE  insured_sex_MALE  insured_education_level_Associate  \\\n",
       "0                   0                 1                                  0   \n",
       "1                   0                 1                                  0   \n",
       "2                   1                 0                                  0   \n",
       "3                   1                 0                                  0   \n",
       "4                   0                 1                                  1   \n",
       "\n",
       "   insured_education_level_College  insured_education_level_High School  \\\n",
       "0                                0                                    0   \n",
       "1                                0                                    0   \n",
       "2                                0                                    0   \n",
       "3                                0                                    0   \n",
       "4                                0                                    0   \n",
       "\n",
       "   insured_education_level_JD  insured_education_level_MD  ...  \\\n",
       "0                           0                           1  ...   \n",
       "1                           0                           1  ...   \n",
       "2                           0                           0  ...   \n",
       "3                           0                           0  ...   \n",
       "4                           0                           0  ...   \n",
       "\n",
       "   incident_city_Hillsdale  incident_city_Northbend  incident_city_Northbrook  \\\n",
       "0                        0                        0                         0   \n",
       "1                        0                        0                         0   \n",
       "2                        0                        0                         0   \n",
       "3                        0                        0                         0   \n",
       "4                        0                        0                         0   \n",
       "\n",
       "   incident_city_Riverwood  incident_city_Springfield  \\\n",
       "0                        0                          0   \n",
       "1                        1                          0   \n",
       "2                        0                          0   \n",
       "3                        0                          0   \n",
       "4                        0                          0   \n",
       "\n",
       "   collision_type_Front Collision  collision_type_Rear Collision  \\\n",
       "0                               0                              0   \n",
       "1                               0                              1   \n",
       "2                               0                              1   \n",
       "3                               1                              0   \n",
       "4                               0                              1   \n",
       "\n",
       "   collision_type_Side Collision  property_damage  police_report_available  \n",
       "0                              1              YES                      YES  \n",
       "1                              0               NO                       NO  \n",
       "2                              0               NO                       NO  \n",
       "3                              0               NO                       NO  \n",
       "4                              0               NO                       NO  \n",
       "\n",
       "[5 rows x 53 columns]"
      ]
     },
     "execution_count": 15,
     "metadata": {},
     "output_type": "execute_result"
    }
   ],
   "source": [
    "cat_df = pd.get_dummies(df[[\n",
    "    'policy_csl', \n",
    "    'insured_sex', \n",
    "    'insured_education_level',\n",
    "    'insured_hobbies', \n",
    "    'insured_relationship',\n",
    "    'incident_type', \n",
    "    'incident_severity',\n",
    "    'authorities_contacted', \n",
    "    'incident_state', \n",
    "    'incident_city',\n",
    "    'collision_type']])\n",
    "\n",
    "cat_df = cat_df.join(df[[\n",
    "    'property_damage', \n",
    "    'police_report_available']])\n",
    "\n",
    "cat_df.head()"
   ]
  },
  {
   "cell_type": "code",
   "execution_count": 16,
   "metadata": {},
   "outputs": [
    {
     "data": {
      "text/html": [
       "<div>\n",
       "<style scoped>\n",
       "    .dataframe tbody tr th:only-of-type {\n",
       "        vertical-align: middle;\n",
       "    }\n",
       "\n",
       "    .dataframe tbody tr th {\n",
       "        vertical-align: top;\n",
       "    }\n",
       "\n",
       "    .dataframe thead th {\n",
       "        text-align: right;\n",
       "    }\n",
       "</style>\n",
       "<table border=\"1\" class=\"dataframe\">\n",
       "  <thead>\n",
       "    <tr style=\"text-align: right;\">\n",
       "      <th></th>\n",
       "      <th>policy_csl_100/300</th>\n",
       "      <th>policy_csl_250/500</th>\n",
       "      <th>policy_csl_500/1000</th>\n",
       "      <th>insured_sex_FEMALE</th>\n",
       "      <th>insured_sex_MALE</th>\n",
       "      <th>insured_education_level_Associate</th>\n",
       "      <th>insured_education_level_College</th>\n",
       "      <th>insured_education_level_High School</th>\n",
       "      <th>insured_education_level_JD</th>\n",
       "      <th>insured_education_level_MD</th>\n",
       "      <th>...</th>\n",
       "      <th>incident_city_Hillsdale</th>\n",
       "      <th>incident_city_Northbend</th>\n",
       "      <th>incident_city_Northbrook</th>\n",
       "      <th>incident_city_Riverwood</th>\n",
       "      <th>incident_city_Springfield</th>\n",
       "      <th>collision_type_Front Collision</th>\n",
       "      <th>collision_type_Rear Collision</th>\n",
       "      <th>collision_type_Side Collision</th>\n",
       "      <th>property_damage</th>\n",
       "      <th>police_report_available</th>\n",
       "    </tr>\n",
       "  </thead>\n",
       "  <tbody>\n",
       "    <tr>\n",
       "      <th>0</th>\n",
       "      <td>0</td>\n",
       "      <td>1</td>\n",
       "      <td>0</td>\n",
       "      <td>0</td>\n",
       "      <td>1</td>\n",
       "      <td>0</td>\n",
       "      <td>0</td>\n",
       "      <td>0</td>\n",
       "      <td>0</td>\n",
       "      <td>1</td>\n",
       "      <td>...</td>\n",
       "      <td>0</td>\n",
       "      <td>0</td>\n",
       "      <td>0</td>\n",
       "      <td>0</td>\n",
       "      <td>0</td>\n",
       "      <td>0</td>\n",
       "      <td>0</td>\n",
       "      <td>1</td>\n",
       "      <td>1</td>\n",
       "      <td>1</td>\n",
       "    </tr>\n",
       "    <tr>\n",
       "      <th>1</th>\n",
       "      <td>0</td>\n",
       "      <td>1</td>\n",
       "      <td>0</td>\n",
       "      <td>0</td>\n",
       "      <td>1</td>\n",
       "      <td>0</td>\n",
       "      <td>0</td>\n",
       "      <td>0</td>\n",
       "      <td>0</td>\n",
       "      <td>1</td>\n",
       "      <td>...</td>\n",
       "      <td>0</td>\n",
       "      <td>0</td>\n",
       "      <td>0</td>\n",
       "      <td>1</td>\n",
       "      <td>0</td>\n",
       "      <td>0</td>\n",
       "      <td>1</td>\n",
       "      <td>0</td>\n",
       "      <td>0</td>\n",
       "      <td>0</td>\n",
       "    </tr>\n",
       "    <tr>\n",
       "      <th>2</th>\n",
       "      <td>1</td>\n",
       "      <td>0</td>\n",
       "      <td>0</td>\n",
       "      <td>1</td>\n",
       "      <td>0</td>\n",
       "      <td>0</td>\n",
       "      <td>0</td>\n",
       "      <td>0</td>\n",
       "      <td>0</td>\n",
       "      <td>0</td>\n",
       "      <td>...</td>\n",
       "      <td>0</td>\n",
       "      <td>0</td>\n",
       "      <td>0</td>\n",
       "      <td>0</td>\n",
       "      <td>0</td>\n",
       "      <td>0</td>\n",
       "      <td>1</td>\n",
       "      <td>0</td>\n",
       "      <td>0</td>\n",
       "      <td>0</td>\n",
       "    </tr>\n",
       "    <tr>\n",
       "      <th>3</th>\n",
       "      <td>0</td>\n",
       "      <td>1</td>\n",
       "      <td>0</td>\n",
       "      <td>1</td>\n",
       "      <td>0</td>\n",
       "      <td>0</td>\n",
       "      <td>0</td>\n",
       "      <td>0</td>\n",
       "      <td>0</td>\n",
       "      <td>0</td>\n",
       "      <td>...</td>\n",
       "      <td>0</td>\n",
       "      <td>0</td>\n",
       "      <td>0</td>\n",
       "      <td>0</td>\n",
       "      <td>0</td>\n",
       "      <td>1</td>\n",
       "      <td>0</td>\n",
       "      <td>0</td>\n",
       "      <td>0</td>\n",
       "      <td>0</td>\n",
       "    </tr>\n",
       "    <tr>\n",
       "      <th>4</th>\n",
       "      <td>0</td>\n",
       "      <td>0</td>\n",
       "      <td>1</td>\n",
       "      <td>0</td>\n",
       "      <td>1</td>\n",
       "      <td>1</td>\n",
       "      <td>0</td>\n",
       "      <td>0</td>\n",
       "      <td>0</td>\n",
       "      <td>0</td>\n",
       "      <td>...</td>\n",
       "      <td>0</td>\n",
       "      <td>0</td>\n",
       "      <td>0</td>\n",
       "      <td>0</td>\n",
       "      <td>0</td>\n",
       "      <td>0</td>\n",
       "      <td>1</td>\n",
       "      <td>0</td>\n",
       "      <td>0</td>\n",
       "      <td>0</td>\n",
       "    </tr>\n",
       "    <tr>\n",
       "      <th>5</th>\n",
       "      <td>0</td>\n",
       "      <td>1</td>\n",
       "      <td>0</td>\n",
       "      <td>1</td>\n",
       "      <td>0</td>\n",
       "      <td>0</td>\n",
       "      <td>0</td>\n",
       "      <td>0</td>\n",
       "      <td>0</td>\n",
       "      <td>0</td>\n",
       "      <td>...</td>\n",
       "      <td>0</td>\n",
       "      <td>0</td>\n",
       "      <td>0</td>\n",
       "      <td>0</td>\n",
       "      <td>0</td>\n",
       "      <td>0</td>\n",
       "      <td>1</td>\n",
       "      <td>0</td>\n",
       "      <td>0</td>\n",
       "      <td>0</td>\n",
       "    </tr>\n",
       "    <tr>\n",
       "      <th>6</th>\n",
       "      <td>0</td>\n",
       "      <td>1</td>\n",
       "      <td>0</td>\n",
       "      <td>0</td>\n",
       "      <td>1</td>\n",
       "      <td>0</td>\n",
       "      <td>0</td>\n",
       "      <td>0</td>\n",
       "      <td>0</td>\n",
       "      <td>0</td>\n",
       "      <td>...</td>\n",
       "      <td>0</td>\n",
       "      <td>0</td>\n",
       "      <td>0</td>\n",
       "      <td>0</td>\n",
       "      <td>1</td>\n",
       "      <td>1</td>\n",
       "      <td>0</td>\n",
       "      <td>0</td>\n",
       "      <td>0</td>\n",
       "      <td>0</td>\n",
       "    </tr>\n",
       "    <tr>\n",
       "      <th>7</th>\n",
       "      <td>1</td>\n",
       "      <td>0</td>\n",
       "      <td>0</td>\n",
       "      <td>0</td>\n",
       "      <td>1</td>\n",
       "      <td>1</td>\n",
       "      <td>0</td>\n",
       "      <td>0</td>\n",
       "      <td>0</td>\n",
       "      <td>0</td>\n",
       "      <td>...</td>\n",
       "      <td>0</td>\n",
       "      <td>0</td>\n",
       "      <td>0</td>\n",
       "      <td>0</td>\n",
       "      <td>0</td>\n",
       "      <td>1</td>\n",
       "      <td>0</td>\n",
       "      <td>0</td>\n",
       "      <td>0</td>\n",
       "      <td>1</td>\n",
       "    </tr>\n",
       "    <tr>\n",
       "      <th>8</th>\n",
       "      <td>1</td>\n",
       "      <td>0</td>\n",
       "      <td>0</td>\n",
       "      <td>1</td>\n",
       "      <td>0</td>\n",
       "      <td>0</td>\n",
       "      <td>0</td>\n",
       "      <td>0</td>\n",
       "      <td>0</td>\n",
       "      <td>0</td>\n",
       "      <td>...</td>\n",
       "      <td>0</td>\n",
       "      <td>0</td>\n",
       "      <td>0</td>\n",
       "      <td>0</td>\n",
       "      <td>0</td>\n",
       "      <td>1</td>\n",
       "      <td>0</td>\n",
       "      <td>0</td>\n",
       "      <td>0</td>\n",
       "      <td>1</td>\n",
       "    </tr>\n",
       "    <tr>\n",
       "      <th>9</th>\n",
       "      <td>1</td>\n",
       "      <td>0</td>\n",
       "      <td>0</td>\n",
       "      <td>0</td>\n",
       "      <td>1</td>\n",
       "      <td>0</td>\n",
       "      <td>0</td>\n",
       "      <td>0</td>\n",
       "      <td>0</td>\n",
       "      <td>0</td>\n",
       "      <td>...</td>\n",
       "      <td>1</td>\n",
       "      <td>0</td>\n",
       "      <td>0</td>\n",
       "      <td>0</td>\n",
       "      <td>0</td>\n",
       "      <td>0</td>\n",
       "      <td>1</td>\n",
       "      <td>0</td>\n",
       "      <td>0</td>\n",
       "      <td>0</td>\n",
       "    </tr>\n",
       "  </tbody>\n",
       "</table>\n",
       "<p>10 rows × 53 columns</p>\n",
       "</div>"
      ],
      "text/plain": [
       "   policy_csl_100/300  policy_csl_250/500  policy_csl_500/1000  \\\n",
       "0                   0                   1                    0   \n",
       "1                   0                   1                    0   \n",
       "2                   1                   0                    0   \n",
       "3                   0                   1                    0   \n",
       "4                   0                   0                    1   \n",
       "5                   0                   1                    0   \n",
       "6                   0                   1                    0   \n",
       "7                   1                   0                    0   \n",
       "8                   1                   0                    0   \n",
       "9                   1                   0                    0   \n",
       "\n",
       "   insured_sex_FEMALE  insured_sex_MALE  insured_education_level_Associate  \\\n",
       "0                   0                 1                                  0   \n",
       "1                   0                 1                                  0   \n",
       "2                   1                 0                                  0   \n",
       "3                   1                 0                                  0   \n",
       "4                   0                 1                                  1   \n",
       "5                   1                 0                                  0   \n",
       "6                   0                 1                                  0   \n",
       "7                   0                 1                                  1   \n",
       "8                   1                 0                                  0   \n",
       "9                   0                 1                                  0   \n",
       "\n",
       "   insured_education_level_College  insured_education_level_High School  \\\n",
       "0                                0                                    0   \n",
       "1                                0                                    0   \n",
       "2                                0                                    0   \n",
       "3                                0                                    0   \n",
       "4                                0                                    0   \n",
       "5                                0                                    0   \n",
       "6                                0                                    0   \n",
       "7                                0                                    0   \n",
       "8                                0                                    0   \n",
       "9                                0                                    0   \n",
       "\n",
       "   insured_education_level_JD  insured_education_level_MD  ...  \\\n",
       "0                           0                           1  ...   \n",
       "1                           0                           1  ...   \n",
       "2                           0                           0  ...   \n",
       "3                           0                           0  ...   \n",
       "4                           0                           0  ...   \n",
       "5                           0                           0  ...   \n",
       "6                           0                           0  ...   \n",
       "7                           0                           0  ...   \n",
       "8                           0                           0  ...   \n",
       "9                           0                           0  ...   \n",
       "\n",
       "   incident_city_Hillsdale  incident_city_Northbend  incident_city_Northbrook  \\\n",
       "0                        0                        0                         0   \n",
       "1                        0                        0                         0   \n",
       "2                        0                        0                         0   \n",
       "3                        0                        0                         0   \n",
       "4                        0                        0                         0   \n",
       "5                        0                        0                         0   \n",
       "6                        0                        0                         0   \n",
       "7                        0                        0                         0   \n",
       "8                        0                        0                         0   \n",
       "9                        1                        0                         0   \n",
       "\n",
       "   incident_city_Riverwood  incident_city_Springfield  \\\n",
       "0                        0                          0   \n",
       "1                        1                          0   \n",
       "2                        0                          0   \n",
       "3                        0                          0   \n",
       "4                        0                          0   \n",
       "5                        0                          0   \n",
       "6                        0                          1   \n",
       "7                        0                          0   \n",
       "8                        0                          0   \n",
       "9                        0                          0   \n",
       "\n",
       "   collision_type_Front Collision  collision_type_Rear Collision  \\\n",
       "0                               0                              0   \n",
       "1                               0                              1   \n",
       "2                               0                              1   \n",
       "3                               1                              0   \n",
       "4                               0                              1   \n",
       "5                               0                              1   \n",
       "6                               1                              0   \n",
       "7                               1                              0   \n",
       "8                               1                              0   \n",
       "9                               0                              1   \n",
       "\n",
       "   collision_type_Side Collision  property_damage  police_report_available  \n",
       "0                              1                1                        1  \n",
       "1                              0                0                        0  \n",
       "2                              0                0                        0  \n",
       "3                              0                0                        0  \n",
       "4                              0                0                        0  \n",
       "5                              0                0                        0  \n",
       "6                              0                0                        0  \n",
       "7                              0                0                        1  \n",
       "8                              0                0                        1  \n",
       "9                              0                0                        0  \n",
       "\n",
       "[10 rows x 53 columns]"
      ]
     },
     "execution_count": 16,
     "metadata": {},
     "output_type": "execute_result"
    }
   ],
   "source": [
    "# Converting to binary values\n",
    "\n",
    "cat_df['property_damage'].replace(to_replace='YES', value=1, inplace=True)\n",
    "cat_df['property_damage'].replace(to_replace='NO', value=0, inplace=True)\n",
    "cat_df['police_report_available'].replace(to_replace='YES', value=1, inplace=True)\n",
    "cat_df['police_report_available'].replace(to_replace='NO', value=0, inplace=True)\n",
    "\n",
    "cat_df.head(10) \n"
   ]
  },
  {
   "cell_type": "code",
   "execution_count": 17,
   "metadata": {},
   "outputs": [
    {
     "data": {
      "text/html": [
       "<div>\n",
       "<style scoped>\n",
       "    .dataframe tbody tr th:only-of-type {\n",
       "        vertical-align: middle;\n",
       "    }\n",
       "\n",
       "    .dataframe tbody tr th {\n",
       "        vertical-align: top;\n",
       "    }\n",
       "\n",
       "    .dataframe thead th {\n",
       "        text-align: right;\n",
       "    }\n",
       "</style>\n",
       "<table border=\"1\" class=\"dataframe\">\n",
       "  <thead>\n",
       "    <tr style=\"text-align: right;\">\n",
       "      <th></th>\n",
       "      <th>policy_csl_100/300</th>\n",
       "      <th>policy_csl_250/500</th>\n",
       "      <th>policy_csl_500/1000</th>\n",
       "      <th>insured_sex_FEMALE</th>\n",
       "      <th>insured_sex_MALE</th>\n",
       "      <th>insured_education_level_Associate</th>\n",
       "      <th>insured_education_level_College</th>\n",
       "      <th>insured_education_level_High School</th>\n",
       "      <th>insured_education_level_JD</th>\n",
       "      <th>insured_education_level_MD</th>\n",
       "      <th>...</th>\n",
       "      <th>capital-loss</th>\n",
       "      <th>incident_hour_of_the_day</th>\n",
       "      <th>number_of_vehicles_involved</th>\n",
       "      <th>bodily_injuries</th>\n",
       "      <th>witnesses</th>\n",
       "      <th>injury_claim</th>\n",
       "      <th>property_claim</th>\n",
       "      <th>vehicle_claim</th>\n",
       "      <th>auto_year</th>\n",
       "      <th>fraud_reported</th>\n",
       "    </tr>\n",
       "  </thead>\n",
       "  <tbody>\n",
       "    <tr>\n",
       "      <th>0</th>\n",
       "      <td>0</td>\n",
       "      <td>1</td>\n",
       "      <td>0</td>\n",
       "      <td>0</td>\n",
       "      <td>1</td>\n",
       "      <td>0</td>\n",
       "      <td>0</td>\n",
       "      <td>0</td>\n",
       "      <td>0</td>\n",
       "      <td>1</td>\n",
       "      <td>...</td>\n",
       "      <td>0</td>\n",
       "      <td>5</td>\n",
       "      <td>1</td>\n",
       "      <td>1</td>\n",
       "      <td>2</td>\n",
       "      <td>6510</td>\n",
       "      <td>13020</td>\n",
       "      <td>52080</td>\n",
       "      <td>2004</td>\n",
       "      <td>1</td>\n",
       "    </tr>\n",
       "    <tr>\n",
       "      <th>1</th>\n",
       "      <td>0</td>\n",
       "      <td>1</td>\n",
       "      <td>0</td>\n",
       "      <td>0</td>\n",
       "      <td>1</td>\n",
       "      <td>0</td>\n",
       "      <td>0</td>\n",
       "      <td>0</td>\n",
       "      <td>0</td>\n",
       "      <td>1</td>\n",
       "      <td>...</td>\n",
       "      <td>0</td>\n",
       "      <td>8</td>\n",
       "      <td>1</td>\n",
       "      <td>0</td>\n",
       "      <td>0</td>\n",
       "      <td>780</td>\n",
       "      <td>780</td>\n",
       "      <td>3510</td>\n",
       "      <td>2007</td>\n",
       "      <td>1</td>\n",
       "    </tr>\n",
       "    <tr>\n",
       "      <th>2</th>\n",
       "      <td>1</td>\n",
       "      <td>0</td>\n",
       "      <td>0</td>\n",
       "      <td>1</td>\n",
       "      <td>0</td>\n",
       "      <td>0</td>\n",
       "      <td>0</td>\n",
       "      <td>0</td>\n",
       "      <td>0</td>\n",
       "      <td>0</td>\n",
       "      <td>...</td>\n",
       "      <td>0</td>\n",
       "      <td>7</td>\n",
       "      <td>3</td>\n",
       "      <td>2</td>\n",
       "      <td>3</td>\n",
       "      <td>7700</td>\n",
       "      <td>3850</td>\n",
       "      <td>23100</td>\n",
       "      <td>2007</td>\n",
       "      <td>0</td>\n",
       "    </tr>\n",
       "    <tr>\n",
       "      <th>3</th>\n",
       "      <td>0</td>\n",
       "      <td>1</td>\n",
       "      <td>0</td>\n",
       "      <td>1</td>\n",
       "      <td>0</td>\n",
       "      <td>0</td>\n",
       "      <td>0</td>\n",
       "      <td>0</td>\n",
       "      <td>0</td>\n",
       "      <td>0</td>\n",
       "      <td>...</td>\n",
       "      <td>-62400</td>\n",
       "      <td>5</td>\n",
       "      <td>1</td>\n",
       "      <td>1</td>\n",
       "      <td>2</td>\n",
       "      <td>6340</td>\n",
       "      <td>6340</td>\n",
       "      <td>50720</td>\n",
       "      <td>2014</td>\n",
       "      <td>1</td>\n",
       "    </tr>\n",
       "    <tr>\n",
       "      <th>4</th>\n",
       "      <td>0</td>\n",
       "      <td>0</td>\n",
       "      <td>1</td>\n",
       "      <td>0</td>\n",
       "      <td>1</td>\n",
       "      <td>1</td>\n",
       "      <td>0</td>\n",
       "      <td>0</td>\n",
       "      <td>0</td>\n",
       "      <td>0</td>\n",
       "      <td>...</td>\n",
       "      <td>-46000</td>\n",
       "      <td>20</td>\n",
       "      <td>1</td>\n",
       "      <td>0</td>\n",
       "      <td>1</td>\n",
       "      <td>1300</td>\n",
       "      <td>650</td>\n",
       "      <td>4550</td>\n",
       "      <td>2009</td>\n",
       "      <td>0</td>\n",
       "    </tr>\n",
       "  </tbody>\n",
       "</table>\n",
       "<p>5 rows × 68 columns</p>\n",
       "</div>"
      ],
      "text/plain": [
       "   policy_csl_100/300  policy_csl_250/500  policy_csl_500/1000  \\\n",
       "0                   0                   1                    0   \n",
       "1                   0                   1                    0   \n",
       "2                   1                   0                    0   \n",
       "3                   0                   1                    0   \n",
       "4                   0                   0                    1   \n",
       "\n",
       "   insured_sex_FEMALE  insured_sex_MALE  insured_education_level_Associate  \\\n",
       "0                   0                 1                                  0   \n",
       "1                   0                 1                                  0   \n",
       "2                   1                 0                                  0   \n",
       "3                   1                 0                                  0   \n",
       "4                   0                 1                                  1   \n",
       "\n",
       "   insured_education_level_College  insured_education_level_High School  \\\n",
       "0                                0                                    0   \n",
       "1                                0                                    0   \n",
       "2                                0                                    0   \n",
       "3                                0                                    0   \n",
       "4                                0                                    0   \n",
       "\n",
       "   insured_education_level_JD  insured_education_level_MD  ...  capital-loss  \\\n",
       "0                           0                           1  ...             0   \n",
       "1                           0                           1  ...             0   \n",
       "2                           0                           0  ...             0   \n",
       "3                           0                           0  ...        -62400   \n",
       "4                           0                           0  ...        -46000   \n",
       "\n",
       "   incident_hour_of_the_day  number_of_vehicles_involved  bodily_injuries  \\\n",
       "0                         5                            1                1   \n",
       "1                         8                            1                0   \n",
       "2                         7                            3                2   \n",
       "3                         5                            1                1   \n",
       "4                        20                            1                0   \n",
       "\n",
       "   witnesses  injury_claim  property_claim  vehicle_claim  auto_year  \\\n",
       "0          2          6510           13020          52080       2004   \n",
       "1          0           780             780           3510       2007   \n",
       "2          3          7700            3850          23100       2007   \n",
       "3          2          6340            6340          50720       2014   \n",
       "4          1          1300             650           4550       2009   \n",
       "\n",
       "   fraud_reported  \n",
       "0               1  \n",
       "1               1  \n",
       "2               0  \n",
       "3               1  \n",
       "4               0  \n",
       "\n",
       "[5 rows x 68 columns]"
      ]
     },
     "execution_count": 17,
     "metadata": {},
     "output_type": "execute_result"
    }
   ],
   "source": [
    "df_clean = pd.concat([cat_df, df._get_numeric_data()], axis=1)  # joining numeric columns\n",
    "df_clean.head()"
   ]
  },
  {
   "cell_type": "code",
   "execution_count": 18,
   "metadata": {},
   "outputs": [],
   "source": [
    "X = df_clean[df_clean.columns.drop('fraud_reported')]\n",
    "Y = df_clean['fraud_reported']"
   ]
  },
  {
   "cell_type": "code",
   "execution_count": 19,
   "metadata": {},
   "outputs": [],
   "source": [
    "X_train_df, X_test_df, Y_train, Y_test = train_test_split(X, Y, test_size = 0.2, random_state=42)"
   ]
  },
  {
   "cell_type": "code",
   "execution_count": 20,
   "metadata": {},
   "outputs": [],
   "source": [
    "# standardization\n",
    "\n",
    "from sklearn.preprocessing import StandardScaler\n",
    "\n",
    "sc = StandardScaler()\n",
    "X_train = sc.fit_transform(X_train_df)\n",
    "X_test = sc.transform(X_test_df)"
   ]
  },
  {
   "cell_type": "markdown",
   "metadata": {},
   "source": [
    "# Modelling"
   ]
  },
  {
   "cell_type": "markdown",
   "metadata": {},
   "source": [
    "### Random Forest"
   ]
  },
  {
   "cell_type": "code",
   "execution_count": 21,
   "metadata": {},
   "outputs": [
    {
     "name": "stdout",
     "output_type": "stream",
     "text": [
      "Training Accuracy:  0.8925410872313527\n",
      "Testing Accuarcy:  0.8686868686868687\n",
      "[[123  22]\n",
      " [  4  49]]\n",
      "              precision    recall  f1-score   support\n",
      "\n",
      "           0       0.97      0.85      0.90       145\n",
      "           1       0.69      0.92      0.79        53\n",
      "\n",
      "    accuracy                           0.87       198\n",
      "   macro avg       0.83      0.89      0.85       198\n",
      "weighted avg       0.89      0.87      0.87       198\n",
      "\n"
     ]
    }
   ],
   "source": [
    "model_rfc = BalancedRandomForestClassifier(n_estimators = 100, random_state = 0)\n",
    "\n",
    "model_rfc.fit(X_train, Y_train)\n",
    "Y_pred_rf = model_rfc.predict(X_test)\n",
    "\n",
    "print(\"Training Accuracy: \", model_rfc.score(X_train, Y_train))\n",
    "print('Testing Accuarcy: ', model_rfc.score(X_test, Y_test))\n",
    "\n",
    "print(confusion_matrix(Y_test, Y_pred_rf))\n",
    "print(classification_report(Y_test, Y_pred_rf))"
   ]
  },
  {
   "cell_type": "markdown",
   "metadata": {},
   "source": [
    "### XGB Classifier"
   ]
  },
  {
   "cell_type": "code",
   "execution_count": 22,
   "metadata": {},
   "outputs": [
    {
     "name": "stdout",
     "output_type": "stream",
     "text": [
      "[17:03:55] WARNING: D:\\bld\\xgboost-split_1645118015404\\work\\src\\learner.cc:1115: Starting in XGBoost 1.3.0, the default evaluation metric used with the objective 'binary:logistic' was changed from 'error' to 'logloss'. Explicitly set eval_metric if you'd like to restore the old behavior.\n",
      "Training accuracy of XgBoost is : 1.0\n",
      "Test accuracy of XgBoost is : 0.8282828282828283\n",
      "[[135  10]\n",
      " [ 24  29]]\n",
      "              precision    recall  f1-score   support\n",
      "\n",
      "           0       0.85      0.93      0.89       145\n",
      "           1       0.74      0.55      0.63        53\n",
      "\n",
      "    accuracy                           0.83       198\n",
      "   macro avg       0.80      0.74      0.76       198\n",
      "weighted avg       0.82      0.83      0.82       198\n",
      "\n"
     ]
    }
   ],
   "source": [
    "xgb = XGBClassifier(use_label_encoder=False)\n",
    "xgb.fit(X_train, Y_train)\n",
    "\n",
    "Y_pred_xgb = xgb.predict(X_test)\n",
    "\n",
    "xgb_train_acc = accuracy_score(Y_train, xgb.predict(X_train))\n",
    "xgb_test_acc = accuracy_score(Y_test, Y_pred_xgb)\n",
    "\n",
    "print(f\"Training accuracy of XgBoost is : {xgb_train_acc}\")\n",
    "print(f\"Test accuracy of XgBoost is : {xgb_test_acc}\")\n",
    "\n",
    "print(confusion_matrix(Y_test, Y_pred_xgb))\n",
    "print(classification_report(Y_test, Y_pred_xgb))"
   ]
  },
  {
   "cell_type": "markdown",
   "metadata": {},
   "source": [
    "### KNN"
   ]
  },
  {
   "cell_type": "code",
   "execution_count": 23,
   "metadata": {},
   "outputs": [
    {
     "name": "stdout",
     "output_type": "stream",
     "text": [
      "Training accuracy of KNN is : 0.8672566371681416\n",
      "Test accuracy of KNN is : 0.7626262626262627\n",
      "[[136   9]\n",
      " [ 38  15]]\n",
      "              precision    recall  f1-score   support\n",
      "\n",
      "           0       0.78      0.94      0.85       145\n",
      "           1       0.62      0.28      0.39        53\n",
      "\n",
      "    accuracy                           0.76       198\n",
      "   macro avg       0.70      0.61      0.62       198\n",
      "weighted avg       0.74      0.76      0.73       198\n",
      "\n"
     ]
    }
   ],
   "source": [
    "knn = KNeighborsClassifier()\n",
    "knn.fit(X_train, Y_train)\n",
    "\n",
    "y_pred_knn = knn.predict(X_test)\n",
    "\n",
    "knn_train_acc = accuracy_score(Y_train, knn.predict(X_train))\n",
    "knn_test_acc = accuracy_score(Y_test, y_pred_knn)\n",
    "\n",
    "print(f\"Training accuracy of KNN is : {knn_train_acc}\")\n",
    "print(f\"Test accuracy of KNN is : {knn_test_acc}\")\n",
    "\n",
    "print(confusion_matrix(Y_test, y_pred_knn))\n",
    "print(classification_report(Y_test, y_pred_knn))"
   ]
  },
  {
   "cell_type": "markdown",
   "metadata": {},
   "source": [
    "### Cat Boost"
   ]
  },
  {
   "cell_type": "code",
   "execution_count": 24,
   "metadata": {},
   "outputs": [
    {
     "name": "stdout",
     "output_type": "stream",
     "text": [
      "Learning rate set to 0.009321\n",
      "0:\tlearn: 0.6840034\ttotal: 119ms\tremaining: 1m 58s\n",
      "1:\tlearn: 0.6744535\ttotal: 126ms\tremaining: 1m 3s\n",
      "2:\tlearn: 0.6655047\ttotal: 133ms\tremaining: 44.3s\n",
      "3:\tlearn: 0.6565386\ttotal: 142ms\tremaining: 35.4s\n",
      "4:\tlearn: 0.6478597\ttotal: 149ms\tremaining: 29.7s\n",
      "5:\tlearn: 0.6395489\ttotal: 157ms\tremaining: 26s\n",
      "6:\tlearn: 0.6314017\ttotal: 164ms\tremaining: 23.3s\n",
      "7:\tlearn: 0.6233312\ttotal: 172ms\tremaining: 21.3s\n",
      "8:\tlearn: 0.6149354\ttotal: 179ms\tremaining: 19.8s\n",
      "9:\tlearn: 0.6071935\ttotal: 186ms\tremaining: 18.4s\n",
      "10:\tlearn: 0.5999056\ttotal: 190ms\tremaining: 17.1s\n",
      "11:\tlearn: 0.5927036\ttotal: 195ms\tremaining: 16s\n",
      "12:\tlearn: 0.5858496\ttotal: 199ms\tremaining: 15.1s\n",
      "13:\tlearn: 0.5789281\ttotal: 202ms\tremaining: 14.2s\n",
      "14:\tlearn: 0.5725511\ttotal: 223ms\tremaining: 14.6s\n",
      "15:\tlearn: 0.5661797\ttotal: 227ms\tremaining: 14s\n",
      "16:\tlearn: 0.5600636\ttotal: 231ms\tremaining: 13.3s\n",
      "17:\tlearn: 0.5536083\ttotal: 235ms\tremaining: 12.8s\n",
      "18:\tlearn: 0.5476767\ttotal: 239ms\tremaining: 12.3s\n",
      "19:\tlearn: 0.5430387\ttotal: 244ms\tremaining: 11.9s\n",
      "20:\tlearn: 0.5369104\ttotal: 250ms\tremaining: 11.7s\n",
      "21:\tlearn: 0.5311382\ttotal: 255ms\tremaining: 11.3s\n",
      "22:\tlearn: 0.5256347\ttotal: 260ms\tremaining: 11s\n",
      "23:\tlearn: 0.5202058\ttotal: 266ms\tremaining: 10.8s\n",
      "24:\tlearn: 0.5149410\ttotal: 269ms\tremaining: 10.5s\n",
      "25:\tlearn: 0.5102204\ttotal: 271ms\tremaining: 10.1s\n",
      "26:\tlearn: 0.5051973\ttotal: 274ms\tremaining: 9.89s\n",
      "27:\tlearn: 0.5002667\ttotal: 278ms\tremaining: 9.65s\n",
      "28:\tlearn: 0.4953513\ttotal: 282ms\tremaining: 9.43s\n",
      "29:\tlearn: 0.4905842\ttotal: 285ms\tremaining: 9.21s\n",
      "30:\tlearn: 0.4861463\ttotal: 290ms\tremaining: 9.05s\n",
      "31:\tlearn: 0.4821014\ttotal: 292ms\tremaining: 8.82s\n",
      "32:\tlearn: 0.4775940\ttotal: 295ms\tremaining: 8.63s\n",
      "33:\tlearn: 0.4733299\ttotal: 299ms\tremaining: 8.49s\n",
      "34:\tlearn: 0.4693089\ttotal: 303ms\tremaining: 8.34s\n",
      "35:\tlearn: 0.4648527\ttotal: 306ms\tremaining: 8.2s\n",
      "36:\tlearn: 0.4609439\ttotal: 310ms\tremaining: 8.05s\n",
      "37:\tlearn: 0.4573226\ttotal: 313ms\tremaining: 7.92s\n",
      "38:\tlearn: 0.4539494\ttotal: 315ms\tremaining: 7.75s\n",
      "39:\tlearn: 0.4503826\ttotal: 318ms\tremaining: 7.63s\n",
      "40:\tlearn: 0.4465715\ttotal: 321ms\tremaining: 7.52s\n",
      "41:\tlearn: 0.4432108\ttotal: 325ms\tremaining: 7.41s\n",
      "42:\tlearn: 0.4396485\ttotal: 328ms\tremaining: 7.3s\n",
      "43:\tlearn: 0.4363405\ttotal: 331ms\tremaining: 7.2s\n",
      "44:\tlearn: 0.4334014\ttotal: 335ms\tremaining: 7.11s\n",
      "45:\tlearn: 0.4306461\ttotal: 338ms\tremaining: 7.01s\n",
      "46:\tlearn: 0.4269769\ttotal: 341ms\tremaining: 6.92s\n",
      "47:\tlearn: 0.4246344\ttotal: 345ms\tremaining: 6.83s\n",
      "48:\tlearn: 0.4217898\ttotal: 349ms\tremaining: 6.77s\n",
      "49:\tlearn: 0.4188054\ttotal: 352ms\tremaining: 6.68s\n",
      "50:\tlearn: 0.4154449\ttotal: 355ms\tremaining: 6.61s\n",
      "51:\tlearn: 0.4127075\ttotal: 358ms\tremaining: 6.53s\n",
      "52:\tlearn: 0.4098740\ttotal: 362ms\tremaining: 6.47s\n",
      "53:\tlearn: 0.4072797\ttotal: 366ms\tremaining: 6.42s\n",
      "54:\tlearn: 0.4045364\ttotal: 370ms\tremaining: 6.36s\n",
      "55:\tlearn: 0.4019520\ttotal: 374ms\tremaining: 6.31s\n",
      "56:\tlearn: 0.3990981\ttotal: 378ms\tremaining: 6.26s\n",
      "57:\tlearn: 0.3968079\ttotal: 381ms\tremaining: 6.2s\n",
      "58:\tlearn: 0.3950688\ttotal: 386ms\tremaining: 6.15s\n",
      "59:\tlearn: 0.3929073\ttotal: 390ms\tremaining: 6.11s\n",
      "60:\tlearn: 0.3904930\ttotal: 395ms\tremaining: 6.08s\n",
      "61:\tlearn: 0.3884643\ttotal: 399ms\tremaining: 6.03s\n",
      "62:\tlearn: 0.3860401\ttotal: 403ms\tremaining: 5.99s\n",
      "63:\tlearn: 0.3838476\ttotal: 407ms\tremaining: 5.95s\n",
      "64:\tlearn: 0.3824507\ttotal: 411ms\tremaining: 5.91s\n",
      "65:\tlearn: 0.3803409\ttotal: 415ms\tremaining: 5.88s\n",
      "66:\tlearn: 0.3785776\ttotal: 419ms\tremaining: 5.83s\n",
      "67:\tlearn: 0.3763658\ttotal: 423ms\tremaining: 5.8s\n",
      "68:\tlearn: 0.3743384\ttotal: 430ms\tremaining: 5.79s\n",
      "69:\tlearn: 0.3725221\ttotal: 435ms\tremaining: 5.78s\n",
      "70:\tlearn: 0.3704505\ttotal: 438ms\tremaining: 5.74s\n",
      "71:\tlearn: 0.3691364\ttotal: 443ms\tremaining: 5.7s\n",
      "72:\tlearn: 0.3673409\ttotal: 447ms\tremaining: 5.67s\n",
      "73:\tlearn: 0.3659456\ttotal: 450ms\tremaining: 5.64s\n",
      "74:\tlearn: 0.3640687\ttotal: 454ms\tremaining: 5.6s\n",
      "75:\tlearn: 0.3627047\ttotal: 458ms\tremaining: 5.56s\n",
      "76:\tlearn: 0.3606163\ttotal: 461ms\tremaining: 5.53s\n",
      "77:\tlearn: 0.3588283\ttotal: 464ms\tremaining: 5.49s\n",
      "78:\tlearn: 0.3578620\ttotal: 468ms\tremaining: 5.45s\n",
      "79:\tlearn: 0.3567145\ttotal: 471ms\tremaining: 5.42s\n",
      "80:\tlearn: 0.3552204\ttotal: 475ms\tremaining: 5.39s\n",
      "81:\tlearn: 0.3534534\ttotal: 478ms\tremaining: 5.35s\n",
      "82:\tlearn: 0.3518401\ttotal: 482ms\tremaining: 5.32s\n",
      "83:\tlearn: 0.3501361\ttotal: 485ms\tremaining: 5.29s\n",
      "84:\tlearn: 0.3490733\ttotal: 489ms\tremaining: 5.27s\n",
      "85:\tlearn: 0.3477391\ttotal: 494ms\tremaining: 5.25s\n",
      "86:\tlearn: 0.3463025\ttotal: 497ms\tremaining: 5.22s\n",
      "87:\tlearn: 0.3452137\ttotal: 501ms\tremaining: 5.19s\n",
      "88:\tlearn: 0.3435309\ttotal: 505ms\tremaining: 5.17s\n",
      "89:\tlearn: 0.3427617\ttotal: 508ms\tremaining: 5.14s\n",
      "90:\tlearn: 0.3421562\ttotal: 511ms\tremaining: 5.11s\n",
      "91:\tlearn: 0.3407253\ttotal: 515ms\tremaining: 5.08s\n",
      "92:\tlearn: 0.3396278\ttotal: 518ms\tremaining: 5.05s\n",
      "93:\tlearn: 0.3383833\ttotal: 522ms\tremaining: 5.03s\n",
      "94:\tlearn: 0.3372182\ttotal: 526ms\tremaining: 5.01s\n",
      "95:\tlearn: 0.3365318\ttotal: 529ms\tremaining: 4.98s\n",
      "96:\tlearn: 0.3355138\ttotal: 534ms\tremaining: 4.97s\n",
      "97:\tlearn: 0.3347662\ttotal: 538ms\tremaining: 4.95s\n",
      "98:\tlearn: 0.3338939\ttotal: 541ms\tremaining: 4.92s\n",
      "99:\tlearn: 0.3325578\ttotal: 545ms\tremaining: 4.9s\n",
      "100:\tlearn: 0.3315616\ttotal: 548ms\tremaining: 4.88s\n",
      "101:\tlearn: 0.3307590\ttotal: 553ms\tremaining: 4.87s\n",
      "102:\tlearn: 0.3293320\ttotal: 556ms\tremaining: 4.84s\n",
      "103:\tlearn: 0.3287604\ttotal: 560ms\tremaining: 4.82s\n",
      "104:\tlearn: 0.3282238\ttotal: 564ms\tremaining: 4.81s\n",
      "105:\tlearn: 0.3269177\ttotal: 568ms\tremaining: 4.79s\n",
      "106:\tlearn: 0.3260725\ttotal: 572ms\tremaining: 4.78s\n",
      "107:\tlearn: 0.3250643\ttotal: 576ms\tremaining: 4.75s\n",
      "108:\tlearn: 0.3238944\ttotal: 579ms\tremaining: 4.73s\n",
      "109:\tlearn: 0.3223960\ttotal: 583ms\tremaining: 4.72s\n",
      "110:\tlearn: 0.3216554\ttotal: 587ms\tremaining: 4.7s\n",
      "111:\tlearn: 0.3205033\ttotal: 590ms\tremaining: 4.68s\n",
      "112:\tlearn: 0.3194704\ttotal: 593ms\tremaining: 4.66s\n",
      "113:\tlearn: 0.3186985\ttotal: 596ms\tremaining: 4.63s\n",
      "114:\tlearn: 0.3179144\ttotal: 600ms\tremaining: 4.62s\n",
      "115:\tlearn: 0.3172563\ttotal: 604ms\tremaining: 4.6s\n",
      "116:\tlearn: 0.3163583\ttotal: 607ms\tremaining: 4.58s\n",
      "117:\tlearn: 0.3154184\ttotal: 611ms\tremaining: 4.57s\n",
      "118:\tlearn: 0.3146307\ttotal: 615ms\tremaining: 4.55s\n",
      "119:\tlearn: 0.3139913\ttotal: 618ms\tremaining: 4.53s\n",
      "120:\tlearn: 0.3130822\ttotal: 622ms\tremaining: 4.52s\n",
      "121:\tlearn: 0.3117852\ttotal: 626ms\tremaining: 4.5s\n",
      "122:\tlearn: 0.3113471\ttotal: 629ms\tremaining: 4.49s\n",
      "123:\tlearn: 0.3109418\ttotal: 633ms\tremaining: 4.47s\n",
      "124:\tlearn: 0.3100703\ttotal: 637ms\tremaining: 4.46s\n",
      "125:\tlearn: 0.3099920\ttotal: 638ms\tremaining: 4.43s\n",
      "126:\tlearn: 0.3092404\ttotal: 642ms\tremaining: 4.41s\n",
      "127:\tlearn: 0.3085177\ttotal: 646ms\tremaining: 4.4s\n",
      "128:\tlearn: 0.3076114\ttotal: 650ms\tremaining: 4.39s\n",
      "129:\tlearn: 0.3069829\ttotal: 653ms\tremaining: 4.37s\n",
      "130:\tlearn: 0.3065843\ttotal: 657ms\tremaining: 4.36s\n",
      "131:\tlearn: 0.3058958\ttotal: 661ms\tremaining: 4.34s\n",
      "132:\tlearn: 0.3049936\ttotal: 664ms\tremaining: 4.33s\n",
      "133:\tlearn: 0.3044292\ttotal: 668ms\tremaining: 4.32s\n",
      "134:\tlearn: 0.3038197\ttotal: 672ms\tremaining: 4.3s\n",
      "135:\tlearn: 0.3030396\ttotal: 675ms\tremaining: 4.29s\n",
      "136:\tlearn: 0.3026504\ttotal: 679ms\tremaining: 4.28s\n",
      "137:\tlearn: 0.3023319\ttotal: 682ms\tremaining: 4.26s\n",
      "138:\tlearn: 0.3015142\ttotal: 686ms\tremaining: 4.25s\n",
      "139:\tlearn: 0.3010348\ttotal: 689ms\tremaining: 4.23s\n",
      "140:\tlearn: 0.3006585\ttotal: 693ms\tremaining: 4.22s\n",
      "141:\tlearn: 0.2998844\ttotal: 701ms\tremaining: 4.24s\n",
      "142:\tlearn: 0.2991829\ttotal: 706ms\tremaining: 4.23s\n",
      "143:\tlearn: 0.2985574\ttotal: 710ms\tremaining: 4.22s\n",
      "144:\tlearn: 0.2976279\ttotal: 714ms\tremaining: 4.21s\n",
      "145:\tlearn: 0.2970117\ttotal: 718ms\tremaining: 4.2s\n",
      "146:\tlearn: 0.2962097\ttotal: 722ms\tremaining: 4.19s\n",
      "147:\tlearn: 0.2956195\ttotal: 727ms\tremaining: 4.18s\n",
      "148:\tlearn: 0.2948729\ttotal: 730ms\tremaining: 4.17s\n",
      "149:\tlearn: 0.2941278\ttotal: 734ms\tremaining: 4.16s\n",
      "150:\tlearn: 0.2934298\ttotal: 738ms\tremaining: 4.15s\n",
      "151:\tlearn: 0.2929724\ttotal: 742ms\tremaining: 4.14s\n",
      "152:\tlearn: 0.2923716\ttotal: 746ms\tremaining: 4.13s\n",
      "153:\tlearn: 0.2920792\ttotal: 750ms\tremaining: 4.12s\n",
      "154:\tlearn: 0.2917105\ttotal: 755ms\tremaining: 4.12s\n",
      "155:\tlearn: 0.2913497\ttotal: 759ms\tremaining: 4.11s\n",
      "156:\tlearn: 0.2908871\ttotal: 763ms\tremaining: 4.1s\n",
      "157:\tlearn: 0.2903943\ttotal: 768ms\tremaining: 4.09s\n",
      "158:\tlearn: 0.2902124\ttotal: 772ms\tremaining: 4.08s\n",
      "159:\tlearn: 0.2897755\ttotal: 777ms\tremaining: 4.08s\n",
      "160:\tlearn: 0.2891250\ttotal: 784ms\tremaining: 4.08s\n",
      "161:\tlearn: 0.2886356\ttotal: 788ms\tremaining: 4.08s\n",
      "162:\tlearn: 0.2879423\ttotal: 792ms\tremaining: 4.07s\n",
      "163:\tlearn: 0.2872890\ttotal: 795ms\tremaining: 4.05s\n",
      "164:\tlearn: 0.2868682\ttotal: 798ms\tremaining: 4.04s\n",
      "165:\tlearn: 0.2863736\ttotal: 803ms\tremaining: 4.04s\n",
      "166:\tlearn: 0.2859077\ttotal: 809ms\tremaining: 4.04s\n",
      "167:\tlearn: 0.2853455\ttotal: 813ms\tremaining: 4.03s\n",
      "168:\tlearn: 0.2848462\ttotal: 818ms\tremaining: 4.02s\n",
      "169:\tlearn: 0.2842922\ttotal: 822ms\tremaining: 4.01s\n",
      "170:\tlearn: 0.2835891\ttotal: 825ms\tremaining: 4s\n",
      "171:\tlearn: 0.2831746\ttotal: 829ms\tremaining: 3.99s\n",
      "172:\tlearn: 0.2828483\ttotal: 833ms\tremaining: 3.98s\n",
      "173:\tlearn: 0.2823928\ttotal: 837ms\tremaining: 3.97s\n",
      "174:\tlearn: 0.2818912\ttotal: 840ms\tremaining: 3.96s\n",
      "175:\tlearn: 0.2814150\ttotal: 844ms\tremaining: 3.95s\n",
      "176:\tlearn: 0.2806618\ttotal: 847ms\tremaining: 3.94s\n",
      "177:\tlearn: 0.2799257\ttotal: 851ms\tremaining: 3.93s\n",
      "178:\tlearn: 0.2792273\ttotal: 854ms\tremaining: 3.92s\n",
      "179:\tlearn: 0.2787811\ttotal: 858ms\tremaining: 3.91s\n",
      "180:\tlearn: 0.2784806\ttotal: 861ms\tremaining: 3.9s\n",
      "181:\tlearn: 0.2781463\ttotal: 865ms\tremaining: 3.89s\n",
      "182:\tlearn: 0.2776029\ttotal: 869ms\tremaining: 3.88s\n",
      "183:\tlearn: 0.2771820\ttotal: 873ms\tremaining: 3.87s\n",
      "184:\tlearn: 0.2765413\ttotal: 877ms\tremaining: 3.86s\n",
      "185:\tlearn: 0.2761909\ttotal: 881ms\tremaining: 3.85s\n",
      "186:\tlearn: 0.2758456\ttotal: 884ms\tremaining: 3.84s\n",
      "187:\tlearn: 0.2754266\ttotal: 888ms\tremaining: 3.83s\n",
      "188:\tlearn: 0.2749706\ttotal: 892ms\tremaining: 3.83s\n",
      "189:\tlearn: 0.2746480\ttotal: 896ms\tremaining: 3.82s\n",
      "190:\tlearn: 0.2742628\ttotal: 899ms\tremaining: 3.81s\n",
      "191:\tlearn: 0.2739441\ttotal: 904ms\tremaining: 3.8s\n",
      "192:\tlearn: 0.2735099\ttotal: 907ms\tremaining: 3.79s\n",
      "193:\tlearn: 0.2732358\ttotal: 911ms\tremaining: 3.79s\n",
      "194:\tlearn: 0.2728730\ttotal: 917ms\tremaining: 3.78s\n",
      "195:\tlearn: 0.2725901\ttotal: 920ms\tremaining: 3.77s\n",
      "196:\tlearn: 0.2722896\ttotal: 923ms\tremaining: 3.76s\n",
      "197:\tlearn: 0.2717733\ttotal: 927ms\tremaining: 3.75s\n",
      "198:\tlearn: 0.2714024\ttotal: 930ms\tremaining: 3.74s\n",
      "199:\tlearn: 0.2710910\ttotal: 933ms\tremaining: 3.73s\n",
      "200:\tlearn: 0.2707099\ttotal: 937ms\tremaining: 3.72s\n",
      "201:\tlearn: 0.2704089\ttotal: 940ms\tremaining: 3.71s\n",
      "202:\tlearn: 0.2697709\ttotal: 943ms\tremaining: 3.7s\n",
      "203:\tlearn: 0.2694556\ttotal: 947ms\tremaining: 3.69s\n",
      "204:\tlearn: 0.2691183\ttotal: 950ms\tremaining: 3.68s\n",
      "205:\tlearn: 0.2686217\ttotal: 953ms\tremaining: 3.67s\n",
      "206:\tlearn: 0.2682011\ttotal: 956ms\tremaining: 3.66s\n",
      "207:\tlearn: 0.2679161\ttotal: 960ms\tremaining: 3.65s\n",
      "208:\tlearn: 0.2674775\ttotal: 963ms\tremaining: 3.65s\n",
      "209:\tlearn: 0.2669193\ttotal: 967ms\tremaining: 3.64s\n",
      "210:\tlearn: 0.2662712\ttotal: 970ms\tremaining: 3.63s\n",
      "211:\tlearn: 0.2657681\ttotal: 974ms\tremaining: 3.62s\n",
      "212:\tlearn: 0.2652489\ttotal: 999ms\tremaining: 3.69s\n",
      "213:\tlearn: 0.2647505\ttotal: 1s\tremaining: 3.69s\n",
      "214:\tlearn: 0.2642478\ttotal: 1.01s\tremaining: 3.68s\n",
      "215:\tlearn: 0.2634611\ttotal: 1.01s\tremaining: 3.67s\n",
      "216:\tlearn: 0.2628116\ttotal: 1.01s\tremaining: 3.67s\n",
      "217:\tlearn: 0.2624673\ttotal: 1.02s\tremaining: 3.66s\n",
      "218:\tlearn: 0.2622371\ttotal: 1.02s\tremaining: 3.65s\n",
      "219:\tlearn: 0.2617849\ttotal: 1.03s\tremaining: 3.64s\n",
      "220:\tlearn: 0.2614103\ttotal: 1.03s\tremaining: 3.63s\n",
      "221:\tlearn: 0.2607803\ttotal: 1.03s\tremaining: 3.62s\n",
      "222:\tlearn: 0.2603506\ttotal: 1.04s\tremaining: 3.62s\n",
      "223:\tlearn: 0.2600447\ttotal: 1.04s\tremaining: 3.61s\n",
      "224:\tlearn: 0.2595524\ttotal: 1.05s\tremaining: 3.6s\n",
      "225:\tlearn: 0.2590988\ttotal: 1.05s\tremaining: 3.6s\n",
      "226:\tlearn: 0.2586836\ttotal: 1.05s\tremaining: 3.59s\n",
      "227:\tlearn: 0.2581522\ttotal: 1.06s\tremaining: 3.59s\n",
      "228:\tlearn: 0.2576019\ttotal: 1.06s\tremaining: 3.58s\n",
      "229:\tlearn: 0.2572990\ttotal: 1.07s\tremaining: 3.58s\n",
      "230:\tlearn: 0.2570938\ttotal: 1.07s\tremaining: 3.57s\n",
      "231:\tlearn: 0.2563728\ttotal: 1.08s\tremaining: 3.57s\n",
      "232:\tlearn: 0.2558196\ttotal: 1.08s\tremaining: 3.56s\n",
      "233:\tlearn: 0.2553342\ttotal: 1.09s\tremaining: 3.56s\n",
      "234:\tlearn: 0.2550466\ttotal: 1.09s\tremaining: 3.56s\n",
      "235:\tlearn: 0.2545834\ttotal: 1.1s\tremaining: 3.55s\n",
      "236:\tlearn: 0.2542868\ttotal: 1.1s\tremaining: 3.55s\n",
      "237:\tlearn: 0.2540642\ttotal: 1.11s\tremaining: 3.55s\n",
      "238:\tlearn: 0.2537501\ttotal: 1.12s\tremaining: 3.55s\n",
      "239:\tlearn: 0.2534009\ttotal: 1.12s\tremaining: 3.55s\n",
      "240:\tlearn: 0.2530561\ttotal: 1.12s\tremaining: 3.54s\n",
      "241:\tlearn: 0.2524079\ttotal: 1.13s\tremaining: 3.54s\n",
      "242:\tlearn: 0.2520315\ttotal: 1.14s\tremaining: 3.54s\n",
      "243:\tlearn: 0.2515039\ttotal: 1.14s\tremaining: 3.53s\n",
      "244:\tlearn: 0.2512395\ttotal: 1.14s\tremaining: 3.52s\n",
      "245:\tlearn: 0.2509111\ttotal: 1.15s\tremaining: 3.52s\n",
      "246:\tlearn: 0.2506132\ttotal: 1.15s\tremaining: 3.51s\n",
      "247:\tlearn: 0.2501339\ttotal: 1.16s\tremaining: 3.51s\n",
      "248:\tlearn: 0.2499429\ttotal: 1.16s\tremaining: 3.51s\n",
      "249:\tlearn: 0.2494387\ttotal: 1.17s\tremaining: 3.5s\n",
      "250:\tlearn: 0.2492313\ttotal: 1.17s\tremaining: 3.5s\n",
      "251:\tlearn: 0.2488226\ttotal: 1.18s\tremaining: 3.49s\n",
      "252:\tlearn: 0.2482826\ttotal: 1.18s\tremaining: 3.49s\n",
      "253:\tlearn: 0.2480009\ttotal: 1.19s\tremaining: 3.48s\n",
      "254:\tlearn: 0.2478327\ttotal: 1.19s\tremaining: 3.47s\n",
      "255:\tlearn: 0.2474762\ttotal: 1.19s\tremaining: 3.47s\n",
      "256:\tlearn: 0.2470830\ttotal: 1.2s\tremaining: 3.46s\n",
      "257:\tlearn: 0.2465934\ttotal: 1.2s\tremaining: 3.46s\n",
      "258:\tlearn: 0.2464592\ttotal: 1.21s\tremaining: 3.45s\n",
      "259:\tlearn: 0.2461458\ttotal: 1.21s\tremaining: 3.45s\n",
      "260:\tlearn: 0.2458560\ttotal: 1.22s\tremaining: 3.45s\n",
      "261:\tlearn: 0.2455264\ttotal: 1.22s\tremaining: 3.44s\n",
      "262:\tlearn: 0.2451815\ttotal: 1.23s\tremaining: 3.44s\n",
      "263:\tlearn: 0.2447393\ttotal: 1.23s\tremaining: 3.44s\n",
      "264:\tlearn: 0.2444445\ttotal: 1.24s\tremaining: 3.43s\n",
      "265:\tlearn: 0.2442237\ttotal: 1.24s\tremaining: 3.43s\n",
      "266:\tlearn: 0.2436728\ttotal: 1.25s\tremaining: 3.43s\n",
      "267:\tlearn: 0.2434986\ttotal: 1.25s\tremaining: 3.42s\n",
      "268:\tlearn: 0.2432907\ttotal: 1.26s\tremaining: 3.42s\n",
      "269:\tlearn: 0.2430812\ttotal: 1.26s\tremaining: 3.41s\n",
      "270:\tlearn: 0.2427782\ttotal: 1.27s\tremaining: 3.41s\n",
      "271:\tlearn: 0.2426048\ttotal: 1.27s\tremaining: 3.41s\n",
      "272:\tlearn: 0.2424204\ttotal: 1.28s\tremaining: 3.4s\n",
      "273:\tlearn: 0.2420836\ttotal: 1.28s\tremaining: 3.4s\n",
      "274:\tlearn: 0.2417878\ttotal: 1.29s\tremaining: 3.39s\n",
      "275:\tlearn: 0.2414261\ttotal: 1.29s\tremaining: 3.39s\n",
      "276:\tlearn: 0.2408368\ttotal: 1.29s\tremaining: 3.38s\n",
      "277:\tlearn: 0.2405311\ttotal: 1.3s\tremaining: 3.38s\n",
      "278:\tlearn: 0.2400512\ttotal: 1.3s\tremaining: 3.37s\n",
      "279:\tlearn: 0.2395316\ttotal: 1.31s\tremaining: 3.37s\n",
      "280:\tlearn: 0.2390842\ttotal: 1.31s\tremaining: 3.36s\n",
      "281:\tlearn: 0.2386770\ttotal: 1.32s\tremaining: 3.36s\n",
      "282:\tlearn: 0.2383856\ttotal: 1.32s\tremaining: 3.35s\n",
      "283:\tlearn: 0.2380050\ttotal: 1.33s\tremaining: 3.34s\n",
      "284:\tlearn: 0.2375601\ttotal: 1.33s\tremaining: 3.34s\n",
      "285:\tlearn: 0.2372475\ttotal: 1.33s\tremaining: 3.33s\n",
      "286:\tlearn: 0.2368976\ttotal: 1.34s\tremaining: 3.32s\n",
      "287:\tlearn: 0.2366954\ttotal: 1.34s\tremaining: 3.32s\n",
      "288:\tlearn: 0.2363178\ttotal: 1.34s\tremaining: 3.31s\n",
      "289:\tlearn: 0.2360908\ttotal: 1.35s\tremaining: 3.31s\n",
      "290:\tlearn: 0.2356417\ttotal: 1.36s\tremaining: 3.3s\n",
      "291:\tlearn: 0.2354636\ttotal: 1.36s\tremaining: 3.3s\n",
      "292:\tlearn: 0.2353286\ttotal: 1.36s\tremaining: 3.29s\n",
      "293:\tlearn: 0.2350497\ttotal: 1.37s\tremaining: 3.3s\n",
      "294:\tlearn: 0.2347950\ttotal: 1.38s\tremaining: 3.29s\n",
      "295:\tlearn: 0.2344050\ttotal: 1.38s\tremaining: 3.29s\n",
      "296:\tlearn: 0.2340621\ttotal: 1.39s\tremaining: 3.28s\n",
      "297:\tlearn: 0.2336930\ttotal: 1.39s\tremaining: 3.27s\n",
      "298:\tlearn: 0.2333756\ttotal: 1.39s\tremaining: 3.26s\n",
      "299:\tlearn: 0.2331797\ttotal: 1.4s\tremaining: 3.26s\n",
      "300:\tlearn: 0.2329147\ttotal: 1.4s\tremaining: 3.25s\n",
      "301:\tlearn: 0.2325674\ttotal: 1.4s\tremaining: 3.25s\n",
      "302:\tlearn: 0.2323230\ttotal: 1.41s\tremaining: 3.24s\n",
      "303:\tlearn: 0.2319404\ttotal: 1.41s\tremaining: 3.24s\n",
      "304:\tlearn: 0.2316630\ttotal: 1.42s\tremaining: 3.23s\n",
      "305:\tlearn: 0.2314198\ttotal: 1.42s\tremaining: 3.22s\n",
      "306:\tlearn: 0.2308713\ttotal: 1.42s\tremaining: 3.21s\n",
      "307:\tlearn: 0.2304613\ttotal: 1.43s\tremaining: 3.21s\n",
      "308:\tlearn: 0.2301299\ttotal: 1.43s\tremaining: 3.2s\n",
      "309:\tlearn: 0.2299493\ttotal: 1.44s\tremaining: 3.2s\n",
      "310:\tlearn: 0.2294913\ttotal: 1.44s\tremaining: 3.19s\n",
      "311:\tlearn: 0.2291236\ttotal: 1.45s\tremaining: 3.19s\n",
      "312:\tlearn: 0.2288669\ttotal: 1.45s\tremaining: 3.19s\n",
      "313:\tlearn: 0.2285310\ttotal: 1.46s\tremaining: 3.18s\n",
      "314:\tlearn: 0.2283518\ttotal: 1.46s\tremaining: 3.17s\n",
      "315:\tlearn: 0.2278773\ttotal: 1.46s\tremaining: 3.17s\n",
      "316:\tlearn: 0.2275084\ttotal: 1.47s\tremaining: 3.16s\n",
      "317:\tlearn: 0.2272470\ttotal: 1.47s\tremaining: 3.16s\n",
      "318:\tlearn: 0.2269307\ttotal: 1.48s\tremaining: 3.16s\n",
      "319:\tlearn: 0.2269139\ttotal: 1.48s\tremaining: 3.15s\n",
      "320:\tlearn: 0.2264363\ttotal: 1.48s\tremaining: 3.14s\n",
      "321:\tlearn: 0.2261668\ttotal: 1.49s\tremaining: 3.13s\n",
      "322:\tlearn: 0.2258950\ttotal: 1.5s\tremaining: 3.14s\n",
      "323:\tlearn: 0.2256542\ttotal: 1.51s\tremaining: 3.15s\n",
      "324:\tlearn: 0.2253608\ttotal: 1.51s\tremaining: 3.14s\n",
      "325:\tlearn: 0.2250159\ttotal: 1.52s\tremaining: 3.13s\n",
      "326:\tlearn: 0.2248495\ttotal: 1.52s\tremaining: 3.13s\n",
      "327:\tlearn: 0.2245790\ttotal: 1.53s\tremaining: 3.13s\n",
      "328:\tlearn: 0.2244447\ttotal: 1.53s\tremaining: 3.12s\n",
      "329:\tlearn: 0.2240758\ttotal: 1.53s\tremaining: 3.12s\n",
      "330:\tlearn: 0.2238174\ttotal: 1.54s\tremaining: 3.11s\n",
      "331:\tlearn: 0.2235836\ttotal: 1.54s\tremaining: 3.11s\n",
      "332:\tlearn: 0.2231974\ttotal: 1.55s\tremaining: 3.1s\n",
      "333:\tlearn: 0.2227922\ttotal: 1.55s\tremaining: 3.09s\n",
      "334:\tlearn: 0.2224517\ttotal: 1.56s\tremaining: 3.09s\n",
      "335:\tlearn: 0.2222587\ttotal: 1.56s\tremaining: 3.08s\n",
      "336:\tlearn: 0.2220378\ttotal: 1.56s\tremaining: 3.08s\n",
      "337:\tlearn: 0.2217912\ttotal: 1.57s\tremaining: 3.07s\n",
      "338:\tlearn: 0.2215710\ttotal: 1.57s\tremaining: 3.07s\n",
      "339:\tlearn: 0.2213037\ttotal: 1.58s\tremaining: 3.06s\n",
      "340:\tlearn: 0.2210428\ttotal: 1.58s\tremaining: 3.06s\n",
      "341:\tlearn: 0.2207964\ttotal: 1.59s\tremaining: 3.05s\n",
      "342:\tlearn: 0.2206384\ttotal: 1.59s\tremaining: 3.05s\n",
      "343:\tlearn: 0.2201415\ttotal: 1.59s\tremaining: 3.04s\n",
      "344:\tlearn: 0.2197426\ttotal: 1.6s\tremaining: 3.03s\n",
      "345:\tlearn: 0.2195146\ttotal: 1.6s\tremaining: 3.03s\n",
      "346:\tlearn: 0.2191304\ttotal: 1.6s\tremaining: 3.02s\n",
      "347:\tlearn: 0.2187824\ttotal: 1.61s\tremaining: 3.01s\n",
      "348:\tlearn: 0.2183866\ttotal: 1.61s\tremaining: 3.01s\n",
      "349:\tlearn: 0.2180871\ttotal: 1.62s\tremaining: 3s\n",
      "350:\tlearn: 0.2178297\ttotal: 1.62s\tremaining: 3s\n",
      "351:\tlearn: 0.2177225\ttotal: 1.62s\tremaining: 2.99s\n",
      "352:\tlearn: 0.2176234\ttotal: 1.63s\tremaining: 2.98s\n",
      "353:\tlearn: 0.2172818\ttotal: 1.63s\tremaining: 2.98s\n",
      "354:\tlearn: 0.2169136\ttotal: 1.64s\tremaining: 2.97s\n",
      "355:\tlearn: 0.2167362\ttotal: 1.64s\tremaining: 2.96s\n",
      "356:\tlearn: 0.2164401\ttotal: 1.64s\tremaining: 2.96s\n",
      "357:\tlearn: 0.2161907\ttotal: 1.65s\tremaining: 2.95s\n",
      "358:\tlearn: 0.2159223\ttotal: 1.65s\tremaining: 2.94s\n",
      "359:\tlearn: 0.2155790\ttotal: 1.65s\tremaining: 2.94s\n",
      "360:\tlearn: 0.2151423\ttotal: 1.66s\tremaining: 2.93s\n",
      "361:\tlearn: 0.2149195\ttotal: 1.66s\tremaining: 2.92s\n",
      "362:\tlearn: 0.2146699\ttotal: 1.66s\tremaining: 2.92s\n",
      "363:\tlearn: 0.2144089\ttotal: 1.67s\tremaining: 2.91s\n",
      "364:\tlearn: 0.2142131\ttotal: 1.67s\tremaining: 2.91s\n",
      "365:\tlearn: 0.2140314\ttotal: 1.67s\tremaining: 2.9s\n",
      "366:\tlearn: 0.2138293\ttotal: 1.68s\tremaining: 2.9s\n",
      "367:\tlearn: 0.2132940\ttotal: 1.69s\tremaining: 2.9s\n",
      "368:\tlearn: 0.2130817\ttotal: 1.69s\tremaining: 2.9s\n",
      "369:\tlearn: 0.2129664\ttotal: 1.7s\tremaining: 2.89s\n",
      "370:\tlearn: 0.2125668\ttotal: 1.7s\tremaining: 2.88s\n",
      "371:\tlearn: 0.2121505\ttotal: 1.71s\tremaining: 2.88s\n",
      "372:\tlearn: 0.2118508\ttotal: 1.71s\tremaining: 2.87s\n",
      "373:\tlearn: 0.2116122\ttotal: 1.71s\tremaining: 2.87s\n",
      "374:\tlearn: 0.2116003\ttotal: 1.71s\tremaining: 2.86s\n",
      "375:\tlearn: 0.2112954\ttotal: 1.72s\tremaining: 2.85s\n",
      "376:\tlearn: 0.2111317\ttotal: 1.72s\tremaining: 2.85s\n",
      "377:\tlearn: 0.2109102\ttotal: 1.73s\tremaining: 2.84s\n",
      "378:\tlearn: 0.2107576\ttotal: 1.73s\tremaining: 2.84s\n",
      "379:\tlearn: 0.2106291\ttotal: 1.74s\tremaining: 2.83s\n",
      "380:\tlearn: 0.2102948\ttotal: 1.74s\tremaining: 2.83s\n",
      "381:\tlearn: 0.2101173\ttotal: 1.75s\tremaining: 2.82s\n",
      "382:\tlearn: 0.2099241\ttotal: 1.75s\tremaining: 2.82s\n",
      "383:\tlearn: 0.2097278\ttotal: 1.75s\tremaining: 2.81s\n",
      "384:\tlearn: 0.2095317\ttotal: 1.76s\tremaining: 2.81s\n",
      "385:\tlearn: 0.2092641\ttotal: 1.76s\tremaining: 2.8s\n",
      "386:\tlearn: 0.2088110\ttotal: 1.77s\tremaining: 2.8s\n",
      "387:\tlearn: 0.2086650\ttotal: 1.77s\tremaining: 2.79s\n",
      "388:\tlearn: 0.2083566\ttotal: 1.77s\tremaining: 2.79s\n",
      "389:\tlearn: 0.2081958\ttotal: 1.78s\tremaining: 2.78s\n",
      "390:\tlearn: 0.2078607\ttotal: 1.78s\tremaining: 2.78s\n",
      "391:\tlearn: 0.2075070\ttotal: 1.79s\tremaining: 2.77s\n",
      "392:\tlearn: 0.2072009\ttotal: 1.79s\tremaining: 2.77s\n",
      "393:\tlearn: 0.2069463\ttotal: 1.79s\tremaining: 2.76s\n",
      "394:\tlearn: 0.2067947\ttotal: 1.8s\tremaining: 2.75s\n",
      "395:\tlearn: 0.2065971\ttotal: 1.8s\tremaining: 2.75s\n",
      "396:\tlearn: 0.2062501\ttotal: 1.81s\tremaining: 2.74s\n",
      "397:\tlearn: 0.2059828\ttotal: 1.81s\tremaining: 2.74s\n",
      "398:\tlearn: 0.2057470\ttotal: 1.81s\tremaining: 2.73s\n",
      "399:\tlearn: 0.2055075\ttotal: 1.81s\tremaining: 2.72s\n",
      "400:\tlearn: 0.2051299\ttotal: 1.82s\tremaining: 2.73s\n",
      "401:\tlearn: 0.2048801\ttotal: 1.83s\tremaining: 2.72s\n",
      "402:\tlearn: 0.2047059\ttotal: 1.83s\tremaining: 2.71s\n",
      "403:\tlearn: 0.2043966\ttotal: 1.83s\tremaining: 2.71s\n",
      "404:\tlearn: 0.2042098\ttotal: 1.84s\tremaining: 2.7s\n",
      "405:\tlearn: 0.2039660\ttotal: 1.84s\tremaining: 2.69s\n",
      "406:\tlearn: 0.2037500\ttotal: 1.84s\tremaining: 2.69s\n",
      "407:\tlearn: 0.2036163\ttotal: 1.85s\tremaining: 2.68s\n",
      "408:\tlearn: 0.2033671\ttotal: 1.85s\tremaining: 2.68s\n",
      "409:\tlearn: 0.2031736\ttotal: 1.85s\tremaining: 2.67s\n",
      "410:\tlearn: 0.2028740\ttotal: 1.86s\tremaining: 2.66s\n",
      "411:\tlearn: 0.2026722\ttotal: 1.86s\tremaining: 2.66s\n",
      "412:\tlearn: 0.2024549\ttotal: 1.86s\tremaining: 2.65s\n",
      "413:\tlearn: 0.2022537\ttotal: 1.87s\tremaining: 2.65s\n",
      "414:\tlearn: 0.2020447\ttotal: 1.87s\tremaining: 2.64s\n",
      "415:\tlearn: 0.2018513\ttotal: 1.88s\tremaining: 2.63s\n",
      "416:\tlearn: 0.2017057\ttotal: 1.88s\tremaining: 2.63s\n",
      "417:\tlearn: 0.2015012\ttotal: 1.88s\tremaining: 2.62s\n",
      "418:\tlearn: 0.2012542\ttotal: 1.89s\tremaining: 2.62s\n",
      "419:\tlearn: 0.2010146\ttotal: 1.89s\tremaining: 2.61s\n",
      "420:\tlearn: 0.2008817\ttotal: 1.89s\tremaining: 2.6s\n",
      "421:\tlearn: 0.2007626\ttotal: 1.9s\tremaining: 2.6s\n",
      "422:\tlearn: 0.2006839\ttotal: 1.9s\tremaining: 2.59s\n",
      "423:\tlearn: 0.2002551\ttotal: 1.9s\tremaining: 2.58s\n",
      "424:\tlearn: 0.1999811\ttotal: 1.91s\tremaining: 2.58s\n",
      "425:\tlearn: 0.1996897\ttotal: 1.91s\tremaining: 2.57s\n",
      "426:\tlearn: 0.1995031\ttotal: 1.91s\tremaining: 2.57s\n",
      "427:\tlearn: 0.1991448\ttotal: 1.92s\tremaining: 2.56s\n",
      "428:\tlearn: 0.1989506\ttotal: 1.92s\tremaining: 2.56s\n",
      "429:\tlearn: 0.1987329\ttotal: 1.92s\tremaining: 2.55s\n",
      "430:\tlearn: 0.1985056\ttotal: 1.93s\tremaining: 2.54s\n",
      "431:\tlearn: 0.1982787\ttotal: 1.93s\tremaining: 2.54s\n",
      "432:\tlearn: 0.1980292\ttotal: 1.94s\tremaining: 2.53s\n",
      "433:\tlearn: 0.1978640\ttotal: 1.94s\tremaining: 2.53s\n",
      "434:\tlearn: 0.1975478\ttotal: 1.94s\tremaining: 2.52s\n",
      "435:\tlearn: 0.1973169\ttotal: 1.95s\tremaining: 2.52s\n",
      "436:\tlearn: 0.1971687\ttotal: 1.95s\tremaining: 2.52s\n",
      "437:\tlearn: 0.1968763\ttotal: 1.96s\tremaining: 2.51s\n",
      "438:\tlearn: 0.1965790\ttotal: 1.96s\tremaining: 2.51s\n",
      "439:\tlearn: 0.1963560\ttotal: 1.97s\tremaining: 2.5s\n",
      "440:\tlearn: 0.1961934\ttotal: 1.97s\tremaining: 2.5s\n",
      "441:\tlearn: 0.1960702\ttotal: 1.97s\tremaining: 2.49s\n",
      "442:\tlearn: 0.1958307\ttotal: 1.98s\tremaining: 2.49s\n",
      "443:\tlearn: 0.1956895\ttotal: 1.98s\tremaining: 2.48s\n",
      "444:\tlearn: 0.1954523\ttotal: 1.99s\tremaining: 2.48s\n",
      "445:\tlearn: 0.1951870\ttotal: 1.99s\tremaining: 2.47s\n",
      "446:\tlearn: 0.1949910\ttotal: 2s\tremaining: 2.47s\n",
      "447:\tlearn: 0.1948234\ttotal: 2s\tremaining: 2.46s\n",
      "448:\tlearn: 0.1945997\ttotal: 2s\tremaining: 2.46s\n",
      "449:\tlearn: 0.1943840\ttotal: 2s\tremaining: 2.45s\n",
      "450:\tlearn: 0.1942004\ttotal: 2.01s\tremaining: 2.45s\n",
      "451:\tlearn: 0.1940286\ttotal: 2.01s\tremaining: 2.44s\n",
      "452:\tlearn: 0.1938387\ttotal: 2.02s\tremaining: 2.44s\n",
      "453:\tlearn: 0.1937487\ttotal: 2.02s\tremaining: 2.43s\n",
      "454:\tlearn: 0.1934492\ttotal: 2.04s\tremaining: 2.44s\n",
      "455:\tlearn: 0.1930561\ttotal: 2.04s\tremaining: 2.43s\n",
      "456:\tlearn: 0.1927358\ttotal: 2.05s\tremaining: 2.44s\n",
      "457:\tlearn: 0.1925574\ttotal: 2.05s\tremaining: 2.43s\n",
      "458:\tlearn: 0.1922675\ttotal: 2.06s\tremaining: 2.42s\n",
      "459:\tlearn: 0.1919120\ttotal: 2.06s\tremaining: 2.42s\n",
      "460:\tlearn: 0.1915387\ttotal: 2.06s\tremaining: 2.41s\n",
      "461:\tlearn: 0.1912624\ttotal: 2.07s\tremaining: 2.41s\n",
      "462:\tlearn: 0.1910789\ttotal: 2.07s\tremaining: 2.4s\n",
      "463:\tlearn: 0.1908781\ttotal: 2.08s\tremaining: 2.4s\n",
      "464:\tlearn: 0.1907564\ttotal: 2.08s\tremaining: 2.39s\n",
      "465:\tlearn: 0.1904647\ttotal: 2.08s\tremaining: 2.38s\n",
      "466:\tlearn: 0.1902398\ttotal: 2.08s\tremaining: 2.38s\n",
      "467:\tlearn: 0.1899017\ttotal: 2.09s\tremaining: 2.37s\n",
      "468:\tlearn: 0.1895536\ttotal: 2.09s\tremaining: 2.37s\n",
      "469:\tlearn: 0.1892338\ttotal: 2.1s\tremaining: 2.36s\n",
      "470:\tlearn: 0.1890227\ttotal: 2.1s\tremaining: 2.36s\n",
      "471:\tlearn: 0.1888582\ttotal: 2.1s\tremaining: 2.35s\n",
      "472:\tlearn: 0.1885824\ttotal: 2.1s\tremaining: 2.35s\n",
      "473:\tlearn: 0.1883947\ttotal: 2.11s\tremaining: 2.34s\n",
      "474:\tlearn: 0.1881913\ttotal: 2.11s\tremaining: 2.34s\n",
      "475:\tlearn: 0.1880818\ttotal: 2.12s\tremaining: 2.33s\n",
      "476:\tlearn: 0.1877025\ttotal: 2.12s\tremaining: 2.33s\n",
      "477:\tlearn: 0.1874100\ttotal: 2.13s\tremaining: 2.32s\n",
      "478:\tlearn: 0.1872079\ttotal: 2.13s\tremaining: 2.31s\n",
      "479:\tlearn: 0.1871212\ttotal: 2.13s\tremaining: 2.31s\n",
      "480:\tlearn: 0.1869739\ttotal: 2.13s\tremaining: 2.3s\n",
      "481:\tlearn: 0.1867866\ttotal: 2.14s\tremaining: 2.3s\n",
      "482:\tlearn: 0.1865315\ttotal: 2.14s\tremaining: 2.29s\n",
      "483:\tlearn: 0.1863555\ttotal: 2.15s\tremaining: 2.29s\n",
      "484:\tlearn: 0.1861681\ttotal: 2.15s\tremaining: 2.28s\n",
      "485:\tlearn: 0.1859998\ttotal: 2.15s\tremaining: 2.28s\n",
      "486:\tlearn: 0.1858014\ttotal: 2.16s\tremaining: 2.27s\n",
      "487:\tlearn: 0.1856579\ttotal: 2.16s\tremaining: 2.27s\n",
      "488:\tlearn: 0.1855309\ttotal: 2.17s\tremaining: 2.26s\n",
      "489:\tlearn: 0.1853287\ttotal: 2.17s\tremaining: 2.26s\n",
      "490:\tlearn: 0.1850267\ttotal: 2.17s\tremaining: 2.25s\n",
      "491:\tlearn: 0.1847213\ttotal: 2.18s\tremaining: 2.25s\n",
      "492:\tlearn: 0.1845062\ttotal: 2.18s\tremaining: 2.24s\n",
      "493:\tlearn: 0.1842996\ttotal: 2.19s\tremaining: 2.24s\n",
      "494:\tlearn: 0.1839993\ttotal: 2.19s\tremaining: 2.23s\n",
      "495:\tlearn: 0.1837493\ttotal: 2.19s\tremaining: 2.23s\n",
      "496:\tlearn: 0.1836474\ttotal: 2.19s\tremaining: 2.22s\n",
      "497:\tlearn: 0.1833007\ttotal: 2.2s\tremaining: 2.22s\n",
      "498:\tlearn: 0.1830282\ttotal: 2.2s\tremaining: 2.21s\n",
      "499:\tlearn: 0.1828534\ttotal: 2.21s\tremaining: 2.21s\n",
      "500:\tlearn: 0.1824899\ttotal: 2.21s\tremaining: 2.2s\n",
      "501:\tlearn: 0.1822548\ttotal: 2.21s\tremaining: 2.19s\n",
      "502:\tlearn: 0.1820911\ttotal: 2.21s\tremaining: 2.19s\n",
      "503:\tlearn: 0.1819118\ttotal: 2.22s\tremaining: 2.18s\n",
      "504:\tlearn: 0.1816892\ttotal: 2.22s\tremaining: 2.18s\n",
      "505:\tlearn: 0.1814747\ttotal: 2.23s\tremaining: 2.17s\n",
      "506:\tlearn: 0.1812740\ttotal: 2.23s\tremaining: 2.17s\n",
      "507:\tlearn: 0.1809653\ttotal: 2.23s\tremaining: 2.16s\n",
      "508:\tlearn: 0.1807603\ttotal: 2.24s\tremaining: 2.16s\n",
      "509:\tlearn: 0.1806537\ttotal: 2.24s\tremaining: 2.15s\n",
      "510:\tlearn: 0.1804741\ttotal: 2.24s\tremaining: 2.15s\n",
      "511:\tlearn: 0.1804018\ttotal: 2.25s\tremaining: 2.14s\n",
      "512:\tlearn: 0.1803175\ttotal: 2.25s\tremaining: 2.13s\n",
      "513:\tlearn: 0.1801281\ttotal: 2.25s\tremaining: 2.13s\n",
      "514:\tlearn: 0.1798991\ttotal: 2.25s\tremaining: 2.12s\n",
      "515:\tlearn: 0.1795266\ttotal: 2.26s\tremaining: 2.12s\n",
      "516:\tlearn: 0.1793521\ttotal: 2.26s\tremaining: 2.11s\n",
      "517:\tlearn: 0.1792031\ttotal: 2.27s\tremaining: 2.11s\n",
      "518:\tlearn: 0.1790127\ttotal: 2.27s\tremaining: 2.1s\n",
      "519:\tlearn: 0.1787561\ttotal: 2.27s\tremaining: 2.1s\n",
      "520:\tlearn: 0.1785691\ttotal: 2.28s\tremaining: 2.09s\n",
      "521:\tlearn: 0.1783093\ttotal: 2.28s\tremaining: 2.09s\n",
      "522:\tlearn: 0.1781436\ttotal: 2.28s\tremaining: 2.08s\n",
      "523:\tlearn: 0.1779195\ttotal: 2.29s\tremaining: 2.08s\n",
      "524:\tlearn: 0.1777340\ttotal: 2.29s\tremaining: 2.07s\n",
      "525:\tlearn: 0.1776676\ttotal: 2.29s\tremaining: 2.07s\n",
      "526:\tlearn: 0.1775067\ttotal: 2.3s\tremaining: 2.06s\n",
      "527:\tlearn: 0.1771464\ttotal: 2.3s\tremaining: 2.06s\n",
      "528:\tlearn: 0.1769071\ttotal: 2.3s\tremaining: 2.05s\n",
      "529:\tlearn: 0.1767256\ttotal: 2.31s\tremaining: 2.05s\n",
      "530:\tlearn: 0.1766021\ttotal: 2.31s\tremaining: 2.04s\n",
      "531:\tlearn: 0.1762890\ttotal: 2.31s\tremaining: 2.04s\n",
      "532:\tlearn: 0.1760102\ttotal: 2.32s\tremaining: 2.03s\n",
      "533:\tlearn: 0.1758235\ttotal: 2.32s\tremaining: 2.03s\n",
      "534:\tlearn: 0.1755936\ttotal: 2.33s\tremaining: 2.02s\n",
      "535:\tlearn: 0.1752956\ttotal: 2.33s\tremaining: 2.02s\n",
      "536:\tlearn: 0.1750464\ttotal: 2.33s\tremaining: 2.01s\n",
      "537:\tlearn: 0.1747052\ttotal: 2.34s\tremaining: 2.01s\n",
      "538:\tlearn: 0.1745728\ttotal: 2.34s\tremaining: 2s\n",
      "539:\tlearn: 0.1742295\ttotal: 2.35s\tremaining: 2s\n",
      "540:\tlearn: 0.1740234\ttotal: 2.35s\tremaining: 1.99s\n",
      "541:\tlearn: 0.1739010\ttotal: 2.35s\tremaining: 1.99s\n",
      "542:\tlearn: 0.1736774\ttotal: 2.35s\tremaining: 1.98s\n",
      "543:\tlearn: 0.1734192\ttotal: 2.36s\tremaining: 1.98s\n",
      "544:\tlearn: 0.1731090\ttotal: 2.36s\tremaining: 1.97s\n",
      "545:\tlearn: 0.1730061\ttotal: 2.36s\tremaining: 1.97s\n",
      "546:\tlearn: 0.1727351\ttotal: 2.37s\tremaining: 1.96s\n",
      "547:\tlearn: 0.1724462\ttotal: 2.37s\tremaining: 1.96s\n",
      "548:\tlearn: 0.1722776\ttotal: 2.37s\tremaining: 1.95s\n",
      "549:\tlearn: 0.1720401\ttotal: 2.38s\tremaining: 1.95s\n",
      "550:\tlearn: 0.1717763\ttotal: 2.38s\tremaining: 1.94s\n",
      "551:\tlearn: 0.1715690\ttotal: 2.39s\tremaining: 1.94s\n",
      "552:\tlearn: 0.1712427\ttotal: 2.39s\tremaining: 1.93s\n",
      "553:\tlearn: 0.1710895\ttotal: 2.39s\tremaining: 1.93s\n",
      "554:\tlearn: 0.1708639\ttotal: 2.4s\tremaining: 1.92s\n",
      "555:\tlearn: 0.1706543\ttotal: 2.4s\tremaining: 1.92s\n",
      "556:\tlearn: 0.1704649\ttotal: 2.4s\tremaining: 1.91s\n",
      "557:\tlearn: 0.1703068\ttotal: 2.41s\tremaining: 1.91s\n",
      "558:\tlearn: 0.1700937\ttotal: 2.41s\tremaining: 1.9s\n",
      "559:\tlearn: 0.1699295\ttotal: 2.41s\tremaining: 1.9s\n",
      "560:\tlearn: 0.1697065\ttotal: 2.42s\tremaining: 1.89s\n",
      "561:\tlearn: 0.1693987\ttotal: 2.42s\tremaining: 1.89s\n",
      "562:\tlearn: 0.1691846\ttotal: 2.42s\tremaining: 1.88s\n",
      "563:\tlearn: 0.1691269\ttotal: 2.43s\tremaining: 1.88s\n",
      "564:\tlearn: 0.1689796\ttotal: 2.43s\tremaining: 1.87s\n",
      "565:\tlearn: 0.1688631\ttotal: 2.44s\tremaining: 1.87s\n",
      "566:\tlearn: 0.1685794\ttotal: 2.44s\tremaining: 1.86s\n",
      "567:\tlearn: 0.1684858\ttotal: 2.44s\tremaining: 1.86s\n",
      "568:\tlearn: 0.1683623\ttotal: 2.45s\tremaining: 1.85s\n",
      "569:\tlearn: 0.1681684\ttotal: 2.45s\tremaining: 1.85s\n",
      "570:\tlearn: 0.1679061\ttotal: 2.45s\tremaining: 1.84s\n",
      "571:\tlearn: 0.1676904\ttotal: 2.46s\tremaining: 1.84s\n",
      "572:\tlearn: 0.1674861\ttotal: 2.46s\tremaining: 1.83s\n",
      "573:\tlearn: 0.1673280\ttotal: 2.5s\tremaining: 1.86s\n",
      "574:\tlearn: 0.1672134\ttotal: 2.51s\tremaining: 1.85s\n",
      "575:\tlearn: 0.1671597\ttotal: 2.52s\tremaining: 1.85s\n",
      "576:\tlearn: 0.1669035\ttotal: 2.52s\tremaining: 1.85s\n",
      "577:\tlearn: 0.1667205\ttotal: 2.53s\tremaining: 1.85s\n",
      "578:\tlearn: 0.1664646\ttotal: 2.53s\tremaining: 1.84s\n",
      "579:\tlearn: 0.1661381\ttotal: 2.54s\tremaining: 1.84s\n",
      "580:\tlearn: 0.1659320\ttotal: 2.54s\tremaining: 1.83s\n",
      "581:\tlearn: 0.1657178\ttotal: 2.54s\tremaining: 1.83s\n",
      "582:\tlearn: 0.1656247\ttotal: 2.55s\tremaining: 1.82s\n",
      "583:\tlearn: 0.1653992\ttotal: 2.55s\tremaining: 1.82s\n",
      "584:\tlearn: 0.1652680\ttotal: 2.55s\tremaining: 1.81s\n",
      "585:\tlearn: 0.1650494\ttotal: 2.56s\tremaining: 1.81s\n",
      "586:\tlearn: 0.1648284\ttotal: 2.56s\tremaining: 1.8s\n",
      "587:\tlearn: 0.1647183\ttotal: 2.56s\tremaining: 1.8s\n",
      "588:\tlearn: 0.1645319\ttotal: 2.57s\tremaining: 1.79s\n",
      "589:\tlearn: 0.1643515\ttotal: 2.57s\tremaining: 1.79s\n",
      "590:\tlearn: 0.1640701\ttotal: 2.57s\tremaining: 1.78s\n",
      "591:\tlearn: 0.1638744\ttotal: 2.58s\tremaining: 1.78s\n",
      "592:\tlearn: 0.1637459\ttotal: 2.58s\tremaining: 1.77s\n",
      "593:\tlearn: 0.1634708\ttotal: 2.58s\tremaining: 1.77s\n",
      "594:\tlearn: 0.1632358\ttotal: 2.59s\tremaining: 1.76s\n",
      "595:\tlearn: 0.1629649\ttotal: 2.59s\tremaining: 1.75s\n",
      "596:\tlearn: 0.1627106\ttotal: 2.59s\tremaining: 1.75s\n",
      "597:\tlearn: 0.1625546\ttotal: 2.6s\tremaining: 1.75s\n",
      "598:\tlearn: 0.1623454\ttotal: 2.61s\tremaining: 1.75s\n",
      "599:\tlearn: 0.1622084\ttotal: 2.62s\tremaining: 1.74s\n",
      "600:\tlearn: 0.1621108\ttotal: 2.62s\tremaining: 1.74s\n",
      "601:\tlearn: 0.1618219\ttotal: 2.62s\tremaining: 1.73s\n",
      "602:\tlearn: 0.1616932\ttotal: 2.63s\tremaining: 1.73s\n",
      "603:\tlearn: 0.1615817\ttotal: 2.63s\tremaining: 1.72s\n",
      "604:\tlearn: 0.1614411\ttotal: 2.63s\tremaining: 1.72s\n",
      "605:\tlearn: 0.1613771\ttotal: 2.63s\tremaining: 1.71s\n",
      "606:\tlearn: 0.1612659\ttotal: 2.64s\tremaining: 1.71s\n",
      "607:\tlearn: 0.1610450\ttotal: 2.64s\tremaining: 1.7s\n",
      "608:\tlearn: 0.1608807\ttotal: 2.65s\tremaining: 1.7s\n",
      "609:\tlearn: 0.1608273\ttotal: 2.65s\tremaining: 1.69s\n",
      "610:\tlearn: 0.1606137\ttotal: 2.65s\tremaining: 1.69s\n",
      "611:\tlearn: 0.1604166\ttotal: 2.66s\tremaining: 1.68s\n",
      "612:\tlearn: 0.1603064\ttotal: 2.66s\tremaining: 1.68s\n",
      "613:\tlearn: 0.1600460\ttotal: 2.66s\tremaining: 1.67s\n",
      "614:\tlearn: 0.1598385\ttotal: 2.67s\tremaining: 1.67s\n",
      "615:\tlearn: 0.1595413\ttotal: 2.67s\tremaining: 1.67s\n",
      "616:\tlearn: 0.1593084\ttotal: 2.67s\tremaining: 1.66s\n",
      "617:\tlearn: 0.1591816\ttotal: 2.68s\tremaining: 1.66s\n",
      "618:\tlearn: 0.1589931\ttotal: 2.68s\tremaining: 1.65s\n",
      "619:\tlearn: 0.1588625\ttotal: 2.69s\tremaining: 1.65s\n",
      "620:\tlearn: 0.1585628\ttotal: 2.69s\tremaining: 1.64s\n",
      "621:\tlearn: 0.1583211\ttotal: 2.69s\tremaining: 1.64s\n",
      "622:\tlearn: 0.1582220\ttotal: 2.7s\tremaining: 1.63s\n",
      "623:\tlearn: 0.1580590\ttotal: 2.7s\tremaining: 1.63s\n",
      "624:\tlearn: 0.1578410\ttotal: 2.7s\tremaining: 1.62s\n",
      "625:\tlearn: 0.1576798\ttotal: 2.71s\tremaining: 1.62s\n",
      "626:\tlearn: 0.1576064\ttotal: 2.71s\tremaining: 1.61s\n",
      "627:\tlearn: 0.1575855\ttotal: 2.71s\tremaining: 1.61s\n",
      "628:\tlearn: 0.1573795\ttotal: 2.72s\tremaining: 1.6s\n",
      "629:\tlearn: 0.1571715\ttotal: 2.72s\tremaining: 1.6s\n",
      "630:\tlearn: 0.1569624\ttotal: 2.73s\tremaining: 1.59s\n",
      "631:\tlearn: 0.1566260\ttotal: 2.73s\tremaining: 1.59s\n",
      "632:\tlearn: 0.1564502\ttotal: 2.73s\tremaining: 1.58s\n",
      "633:\tlearn: 0.1562659\ttotal: 2.73s\tremaining: 1.58s\n",
      "634:\tlearn: 0.1561992\ttotal: 2.74s\tremaining: 1.57s\n",
      "635:\tlearn: 0.1560141\ttotal: 2.74s\tremaining: 1.57s\n",
      "636:\tlearn: 0.1559884\ttotal: 2.75s\tremaining: 1.56s\n",
      "637:\tlearn: 0.1558279\ttotal: 2.75s\tremaining: 1.56s\n",
      "638:\tlearn: 0.1556345\ttotal: 2.75s\tremaining: 1.55s\n",
      "639:\tlearn: 0.1553872\ttotal: 2.76s\tremaining: 1.55s\n",
      "640:\tlearn: 0.1551552\ttotal: 2.76s\tremaining: 1.55s\n",
      "641:\tlearn: 0.1550227\ttotal: 2.77s\tremaining: 1.54s\n",
      "642:\tlearn: 0.1547992\ttotal: 2.77s\tremaining: 1.54s\n",
      "643:\tlearn: 0.1546629\ttotal: 2.77s\tremaining: 1.53s\n",
      "644:\tlearn: 0.1544866\ttotal: 2.77s\tremaining: 1.53s\n",
      "645:\tlearn: 0.1543069\ttotal: 2.78s\tremaining: 1.52s\n",
      "646:\tlearn: 0.1541243\ttotal: 2.78s\tremaining: 1.52s\n",
      "647:\tlearn: 0.1539697\ttotal: 2.79s\tremaining: 1.51s\n",
      "648:\tlearn: 0.1537220\ttotal: 2.79s\tremaining: 1.51s\n",
      "649:\tlearn: 0.1534281\ttotal: 2.79s\tremaining: 1.5s\n",
      "650:\tlearn: 0.1532122\ttotal: 2.8s\tremaining: 1.5s\n",
      "651:\tlearn: 0.1530270\ttotal: 2.8s\tremaining: 1.49s\n",
      "652:\tlearn: 0.1529038\ttotal: 2.8s\tremaining: 1.49s\n",
      "653:\tlearn: 0.1527872\ttotal: 2.81s\tremaining: 1.49s\n",
      "654:\tlearn: 0.1526628\ttotal: 2.81s\tremaining: 1.48s\n",
      "655:\tlearn: 0.1524151\ttotal: 2.81s\tremaining: 1.48s\n",
      "656:\tlearn: 0.1522245\ttotal: 2.82s\tremaining: 1.47s\n",
      "657:\tlearn: 0.1520484\ttotal: 2.82s\tremaining: 1.47s\n",
      "658:\tlearn: 0.1518416\ttotal: 2.83s\tremaining: 1.46s\n",
      "659:\tlearn: 0.1516691\ttotal: 2.83s\tremaining: 1.46s\n",
      "660:\tlearn: 0.1515273\ttotal: 2.83s\tremaining: 1.45s\n",
      "661:\tlearn: 0.1512657\ttotal: 2.84s\tremaining: 1.45s\n",
      "662:\tlearn: 0.1510659\ttotal: 2.84s\tremaining: 1.45s\n",
      "663:\tlearn: 0.1509393\ttotal: 2.85s\tremaining: 1.44s\n",
      "664:\tlearn: 0.1507671\ttotal: 2.85s\tremaining: 1.44s\n",
      "665:\tlearn: 0.1505853\ttotal: 2.86s\tremaining: 1.43s\n",
      "666:\tlearn: 0.1503975\ttotal: 2.86s\tremaining: 1.43s\n",
      "667:\tlearn: 0.1502587\ttotal: 2.87s\tremaining: 1.42s\n",
      "668:\tlearn: 0.1500943\ttotal: 2.87s\tremaining: 1.42s\n",
      "669:\tlearn: 0.1500529\ttotal: 2.87s\tremaining: 1.41s\n",
      "670:\tlearn: 0.1498920\ttotal: 2.88s\tremaining: 1.41s\n",
      "671:\tlearn: 0.1498376\ttotal: 2.88s\tremaining: 1.41s\n",
      "672:\tlearn: 0.1495676\ttotal: 2.88s\tremaining: 1.4s\n",
      "673:\tlearn: 0.1494279\ttotal: 2.89s\tremaining: 1.4s\n",
      "674:\tlearn: 0.1492548\ttotal: 2.89s\tremaining: 1.39s\n",
      "675:\tlearn: 0.1491083\ttotal: 2.89s\tremaining: 1.39s\n",
      "676:\tlearn: 0.1487813\ttotal: 2.9s\tremaining: 1.38s\n",
      "677:\tlearn: 0.1486637\ttotal: 2.9s\tremaining: 1.38s\n",
      "678:\tlearn: 0.1485217\ttotal: 2.9s\tremaining: 1.37s\n",
      "679:\tlearn: 0.1484754\ttotal: 2.91s\tremaining: 1.37s\n",
      "680:\tlearn: 0.1481903\ttotal: 2.91s\tremaining: 1.36s\n",
      "681:\tlearn: 0.1481274\ttotal: 2.91s\tremaining: 1.36s\n",
      "682:\tlearn: 0.1479829\ttotal: 2.92s\tremaining: 1.35s\n",
      "683:\tlearn: 0.1477644\ttotal: 2.92s\tremaining: 1.35s\n",
      "684:\tlearn: 0.1475718\ttotal: 2.92s\tremaining: 1.34s\n",
      "685:\tlearn: 0.1475176\ttotal: 2.92s\tremaining: 1.34s\n",
      "686:\tlearn: 0.1473756\ttotal: 2.93s\tremaining: 1.33s\n",
      "687:\tlearn: 0.1472449\ttotal: 2.93s\tremaining: 1.33s\n",
      "688:\tlearn: 0.1470199\ttotal: 2.94s\tremaining: 1.32s\n",
      "689:\tlearn: 0.1468802\ttotal: 2.94s\tremaining: 1.32s\n",
      "690:\tlearn: 0.1466353\ttotal: 2.94s\tremaining: 1.31s\n",
      "691:\tlearn: 0.1464285\ttotal: 2.94s\tremaining: 1.31s\n",
      "692:\tlearn: 0.1462135\ttotal: 2.95s\tremaining: 1.31s\n",
      "693:\tlearn: 0.1459392\ttotal: 2.95s\tremaining: 1.3s\n",
      "694:\tlearn: 0.1457901\ttotal: 2.96s\tremaining: 1.3s\n",
      "695:\tlearn: 0.1456657\ttotal: 2.96s\tremaining: 1.29s\n",
      "696:\tlearn: 0.1454557\ttotal: 2.97s\tremaining: 1.29s\n",
      "697:\tlearn: 0.1452799\ttotal: 2.97s\tremaining: 1.28s\n",
      "698:\tlearn: 0.1451572\ttotal: 2.97s\tremaining: 1.28s\n",
      "699:\tlearn: 0.1450568\ttotal: 2.98s\tremaining: 1.28s\n",
      "700:\tlearn: 0.1448055\ttotal: 2.98s\tremaining: 1.27s\n",
      "701:\tlearn: 0.1447069\ttotal: 2.99s\tremaining: 1.27s\n",
      "702:\tlearn: 0.1445327\ttotal: 2.99s\tremaining: 1.26s\n",
      "703:\tlearn: 0.1443703\ttotal: 3s\tremaining: 1.26s\n",
      "704:\tlearn: 0.1443251\ttotal: 3s\tremaining: 1.26s\n",
      "705:\tlearn: 0.1442804\ttotal: 3.01s\tremaining: 1.25s\n",
      "706:\tlearn: 0.1440325\ttotal: 3.01s\tremaining: 1.25s\n",
      "707:\tlearn: 0.1438137\ttotal: 3.01s\tremaining: 1.24s\n",
      "708:\tlearn: 0.1435726\ttotal: 3.02s\tremaining: 1.24s\n",
      "709:\tlearn: 0.1434699\ttotal: 3.02s\tremaining: 1.23s\n",
      "710:\tlearn: 0.1433592\ttotal: 3.03s\tremaining: 1.23s\n",
      "711:\tlearn: 0.1431964\ttotal: 3.03s\tremaining: 1.23s\n",
      "712:\tlearn: 0.1430724\ttotal: 3.04s\tremaining: 1.22s\n",
      "713:\tlearn: 0.1427882\ttotal: 3.04s\tremaining: 1.22s\n",
      "714:\tlearn: 0.1426537\ttotal: 3.05s\tremaining: 1.21s\n",
      "715:\tlearn: 0.1424465\ttotal: 3.05s\tremaining: 1.21s\n",
      "716:\tlearn: 0.1423705\ttotal: 3.06s\tremaining: 1.21s\n",
      "717:\tlearn: 0.1422870\ttotal: 3.07s\tremaining: 1.2s\n",
      "718:\tlearn: 0.1420152\ttotal: 3.07s\tremaining: 1.2s\n",
      "719:\tlearn: 0.1418937\ttotal: 3.08s\tremaining: 1.2s\n",
      "720:\tlearn: 0.1417553\ttotal: 3.08s\tremaining: 1.19s\n",
      "721:\tlearn: 0.1415713\ttotal: 3.08s\tremaining: 1.19s\n",
      "722:\tlearn: 0.1414244\ttotal: 3.09s\tremaining: 1.18s\n",
      "723:\tlearn: 0.1413705\ttotal: 3.09s\tremaining: 1.18s\n",
      "724:\tlearn: 0.1413067\ttotal: 3.09s\tremaining: 1.17s\n",
      "725:\tlearn: 0.1411178\ttotal: 3.1s\tremaining: 1.17s\n",
      "726:\tlearn: 0.1408629\ttotal: 3.1s\tremaining: 1.16s\n",
      "727:\tlearn: 0.1407228\ttotal: 3.1s\tremaining: 1.16s\n",
      "728:\tlearn: 0.1403703\ttotal: 3.11s\tremaining: 1.16s\n",
      "729:\tlearn: 0.1401219\ttotal: 3.11s\tremaining: 1.15s\n",
      "730:\tlearn: 0.1399268\ttotal: 3.12s\tremaining: 1.15s\n",
      "731:\tlearn: 0.1397613\ttotal: 3.12s\tremaining: 1.14s\n",
      "732:\tlearn: 0.1396716\ttotal: 3.13s\tremaining: 1.14s\n",
      "733:\tlearn: 0.1395657\ttotal: 3.13s\tremaining: 1.14s\n",
      "734:\tlearn: 0.1394906\ttotal: 3.14s\tremaining: 1.13s\n",
      "735:\tlearn: 0.1392139\ttotal: 3.14s\tremaining: 1.13s\n",
      "736:\tlearn: 0.1390728\ttotal: 3.14s\tremaining: 1.12s\n",
      "737:\tlearn: 0.1388947\ttotal: 3.15s\tremaining: 1.12s\n",
      "738:\tlearn: 0.1387444\ttotal: 3.15s\tremaining: 1.11s\n",
      "739:\tlearn: 0.1387260\ttotal: 3.16s\tremaining: 1.11s\n",
      "740:\tlearn: 0.1386090\ttotal: 3.16s\tremaining: 1.1s\n",
      "741:\tlearn: 0.1384612\ttotal: 3.16s\tremaining: 1.1s\n",
      "742:\tlearn: 0.1382509\ttotal: 3.17s\tremaining: 1.1s\n",
      "743:\tlearn: 0.1381223\ttotal: 3.17s\tremaining: 1.09s\n",
      "744:\tlearn: 0.1378464\ttotal: 3.18s\tremaining: 1.09s\n",
      "745:\tlearn: 0.1377481\ttotal: 3.18s\tremaining: 1.08s\n",
      "746:\tlearn: 0.1376068\ttotal: 3.19s\tremaining: 1.08s\n",
      "747:\tlearn: 0.1375579\ttotal: 3.19s\tremaining: 1.07s\n",
      "748:\tlearn: 0.1374166\ttotal: 3.19s\tremaining: 1.07s\n",
      "749:\tlearn: 0.1373220\ttotal: 3.2s\tremaining: 1.07s\n",
      "750:\tlearn: 0.1371603\ttotal: 3.2s\tremaining: 1.06s\n",
      "751:\tlearn: 0.1370460\ttotal: 3.21s\tremaining: 1.06s\n",
      "752:\tlearn: 0.1369114\ttotal: 3.21s\tremaining: 1.05s\n",
      "753:\tlearn: 0.1368235\ttotal: 3.22s\tremaining: 1.05s\n",
      "754:\tlearn: 0.1366409\ttotal: 3.22s\tremaining: 1.04s\n",
      "755:\tlearn: 0.1364131\ttotal: 3.23s\tremaining: 1.04s\n",
      "756:\tlearn: 0.1361705\ttotal: 3.23s\tremaining: 1.04s\n",
      "757:\tlearn: 0.1360081\ttotal: 3.23s\tremaining: 1.03s\n",
      "758:\tlearn: 0.1358282\ttotal: 3.24s\tremaining: 1.03s\n",
      "759:\tlearn: 0.1357836\ttotal: 3.24s\tremaining: 1.02s\n",
      "760:\tlearn: 0.1357498\ttotal: 3.25s\tremaining: 1.02s\n",
      "761:\tlearn: 0.1357003\ttotal: 3.25s\tremaining: 1.02s\n",
      "762:\tlearn: 0.1356646\ttotal: 3.26s\tremaining: 1.01s\n",
      "763:\tlearn: 0.1355786\ttotal: 3.26s\tremaining: 1.01s\n",
      "764:\tlearn: 0.1353243\ttotal: 3.26s\tremaining: 1s\n",
      "765:\tlearn: 0.1351035\ttotal: 3.27s\tremaining: 999ms\n",
      "766:\tlearn: 0.1350672\ttotal: 3.27s\tremaining: 994ms\n",
      "767:\tlearn: 0.1349927\ttotal: 3.27s\tremaining: 990ms\n",
      "768:\tlearn: 0.1348133\ttotal: 3.28s\tremaining: 985ms\n",
      "769:\tlearn: 0.1346020\ttotal: 3.28s\tremaining: 981ms\n",
      "770:\tlearn: 0.1345556\ttotal: 3.29s\tremaining: 977ms\n",
      "771:\tlearn: 0.1344708\ttotal: 3.29s\tremaining: 973ms\n",
      "772:\tlearn: 0.1342632\ttotal: 3.3s\tremaining: 968ms\n",
      "773:\tlearn: 0.1341603\ttotal: 3.3s\tremaining: 964ms\n",
      "774:\tlearn: 0.1340309\ttotal: 3.3s\tremaining: 959ms\n",
      "775:\tlearn: 0.1338684\ttotal: 3.31s\tremaining: 955ms\n",
      "776:\tlearn: 0.1337554\ttotal: 3.31s\tremaining: 950ms\n",
      "777:\tlearn: 0.1335692\ttotal: 3.31s\tremaining: 946ms\n",
      "778:\tlearn: 0.1334615\ttotal: 3.32s\tremaining: 942ms\n",
      "779:\tlearn: 0.1333036\ttotal: 3.32s\tremaining: 938ms\n",
      "780:\tlearn: 0.1332697\ttotal: 3.33s\tremaining: 933ms\n",
      "781:\tlearn: 0.1330435\ttotal: 3.33s\tremaining: 929ms\n",
      "782:\tlearn: 0.1328316\ttotal: 3.34s\tremaining: 925ms\n",
      "783:\tlearn: 0.1326772\ttotal: 3.34s\tremaining: 920ms\n",
      "784:\tlearn: 0.1323755\ttotal: 3.34s\tremaining: 916ms\n",
      "785:\tlearn: 0.1321640\ttotal: 3.36s\tremaining: 915ms\n",
      "786:\tlearn: 0.1317855\ttotal: 3.37s\tremaining: 911ms\n",
      "787:\tlearn: 0.1316440\ttotal: 3.37s\tremaining: 907ms\n",
      "788:\tlearn: 0.1315680\ttotal: 3.38s\tremaining: 903ms\n",
      "789:\tlearn: 0.1313152\ttotal: 3.38s\tremaining: 898ms\n",
      "790:\tlearn: 0.1311327\ttotal: 3.38s\tremaining: 894ms\n",
      "791:\tlearn: 0.1310988\ttotal: 3.39s\tremaining: 889ms\n",
      "792:\tlearn: 0.1309568\ttotal: 3.39s\tremaining: 885ms\n",
      "793:\tlearn: 0.1308765\ttotal: 3.4s\tremaining: 881ms\n",
      "794:\tlearn: 0.1307120\ttotal: 3.4s\tremaining: 877ms\n",
      "795:\tlearn: 0.1305741\ttotal: 3.4s\tremaining: 872ms\n",
      "796:\tlearn: 0.1304050\ttotal: 3.41s\tremaining: 868ms\n",
      "797:\tlearn: 0.1302562\ttotal: 3.41s\tremaining: 864ms\n",
      "798:\tlearn: 0.1300281\ttotal: 3.42s\tremaining: 860ms\n",
      "799:\tlearn: 0.1298582\ttotal: 3.42s\tremaining: 855ms\n",
      "800:\tlearn: 0.1297319\ttotal: 3.42s\tremaining: 851ms\n",
      "801:\tlearn: 0.1295414\ttotal: 3.43s\tremaining: 846ms\n",
      "802:\tlearn: 0.1293386\ttotal: 3.43s\tremaining: 842ms\n",
      "803:\tlearn: 0.1291135\ttotal: 3.44s\tremaining: 838ms\n",
      "804:\tlearn: 0.1289786\ttotal: 3.44s\tremaining: 833ms\n",
      "805:\tlearn: 0.1288183\ttotal: 3.44s\tremaining: 829ms\n",
      "806:\tlearn: 0.1286629\ttotal: 3.45s\tremaining: 825ms\n",
      "807:\tlearn: 0.1284910\ttotal: 3.45s\tremaining: 820ms\n",
      "808:\tlearn: 0.1283419\ttotal: 3.45s\tremaining: 816ms\n",
      "809:\tlearn: 0.1282953\ttotal: 3.46s\tremaining: 811ms\n",
      "810:\tlearn: 0.1282422\ttotal: 3.46s\tremaining: 807ms\n",
      "811:\tlearn: 0.1281228\ttotal: 3.46s\tremaining: 802ms\n",
      "812:\tlearn: 0.1281018\ttotal: 3.47s\tremaining: 798ms\n",
      "813:\tlearn: 0.1278199\ttotal: 3.47s\tremaining: 794ms\n",
      "814:\tlearn: 0.1276327\ttotal: 3.48s\tremaining: 789ms\n",
      "815:\tlearn: 0.1274270\ttotal: 3.48s\tremaining: 785ms\n",
      "816:\tlearn: 0.1273295\ttotal: 3.48s\tremaining: 781ms\n",
      "817:\tlearn: 0.1272890\ttotal: 3.49s\tremaining: 776ms\n",
      "818:\tlearn: 0.1269965\ttotal: 3.49s\tremaining: 772ms\n",
      "819:\tlearn: 0.1269338\ttotal: 3.5s\tremaining: 768ms\n",
      "820:\tlearn: 0.1268799\ttotal: 3.5s\tremaining: 764ms\n",
      "821:\tlearn: 0.1266305\ttotal: 3.51s\tremaining: 759ms\n",
      "822:\tlearn: 0.1265072\ttotal: 3.51s\tremaining: 755ms\n",
      "823:\tlearn: 0.1263674\ttotal: 3.51s\tremaining: 751ms\n",
      "824:\tlearn: 0.1262924\ttotal: 3.52s\tremaining: 747ms\n",
      "825:\tlearn: 0.1260929\ttotal: 3.52s\tremaining: 742ms\n",
      "826:\tlearn: 0.1258729\ttotal: 3.53s\tremaining: 738ms\n",
      "827:\tlearn: 0.1257438\ttotal: 3.53s\tremaining: 734ms\n",
      "828:\tlearn: 0.1256587\ttotal: 3.54s\tremaining: 730ms\n",
      "829:\tlearn: 0.1255204\ttotal: 3.54s\tremaining: 726ms\n",
      "830:\tlearn: 0.1252745\ttotal: 3.55s\tremaining: 722ms\n",
      "831:\tlearn: 0.1252533\ttotal: 3.56s\tremaining: 718ms\n",
      "832:\tlearn: 0.1251496\ttotal: 3.56s\tremaining: 714ms\n",
      "833:\tlearn: 0.1250293\ttotal: 3.57s\tremaining: 710ms\n",
      "834:\tlearn: 0.1249353\ttotal: 3.57s\tremaining: 706ms\n",
      "835:\tlearn: 0.1248591\ttotal: 3.58s\tremaining: 702ms\n",
      "836:\tlearn: 0.1248035\ttotal: 3.58s\tremaining: 698ms\n",
      "837:\tlearn: 0.1247023\ttotal: 3.59s\tremaining: 693ms\n",
      "838:\tlearn: 0.1245825\ttotal: 3.59s\tremaining: 689ms\n",
      "839:\tlearn: 0.1244821\ttotal: 3.6s\tremaining: 685ms\n",
      "840:\tlearn: 0.1243465\ttotal: 3.6s\tremaining: 681ms\n",
      "841:\tlearn: 0.1242858\ttotal: 3.61s\tremaining: 677ms\n",
      "842:\tlearn: 0.1242000\ttotal: 3.61s\tremaining: 672ms\n",
      "843:\tlearn: 0.1240769\ttotal: 3.62s\tremaining: 668ms\n",
      "844:\tlearn: 0.1240285\ttotal: 3.62s\tremaining: 664ms\n",
      "845:\tlearn: 0.1239734\ttotal: 3.62s\tremaining: 659ms\n",
      "846:\tlearn: 0.1238817\ttotal: 3.63s\tremaining: 655ms\n",
      "847:\tlearn: 0.1237084\ttotal: 3.63s\tremaining: 651ms\n",
      "848:\tlearn: 0.1235305\ttotal: 3.63s\tremaining: 646ms\n",
      "849:\tlearn: 0.1234223\ttotal: 3.64s\tremaining: 642ms\n",
      "850:\tlearn: 0.1232640\ttotal: 3.64s\tremaining: 637ms\n",
      "851:\tlearn: 0.1231523\ttotal: 3.64s\tremaining: 633ms\n",
      "852:\tlearn: 0.1231068\ttotal: 3.65s\tremaining: 629ms\n",
      "853:\tlearn: 0.1230013\ttotal: 3.65s\tremaining: 624ms\n",
      "854:\tlearn: 0.1229389\ttotal: 3.65s\tremaining: 620ms\n",
      "855:\tlearn: 0.1229075\ttotal: 3.66s\tremaining: 616ms\n",
      "856:\tlearn: 0.1227345\ttotal: 3.66s\tremaining: 611ms\n",
      "857:\tlearn: 0.1225442\ttotal: 3.67s\tremaining: 607ms\n",
      "858:\tlearn: 0.1225178\ttotal: 3.67s\tremaining: 602ms\n",
      "859:\tlearn: 0.1223450\ttotal: 3.67s\tremaining: 598ms\n",
      "860:\tlearn: 0.1220511\ttotal: 3.68s\tremaining: 594ms\n",
      "861:\tlearn: 0.1218437\ttotal: 3.68s\tremaining: 590ms\n",
      "862:\tlearn: 0.1217139\ttotal: 3.69s\tremaining: 585ms\n",
      "863:\tlearn: 0.1216510\ttotal: 3.69s\tremaining: 581ms\n",
      "864:\tlearn: 0.1214986\ttotal: 3.69s\tremaining: 577ms\n",
      "865:\tlearn: 0.1214812\ttotal: 3.7s\tremaining: 572ms\n",
      "866:\tlearn: 0.1214283\ttotal: 3.7s\tremaining: 568ms\n",
      "867:\tlearn: 0.1212759\ttotal: 3.71s\tremaining: 564ms\n",
      "868:\tlearn: 0.1212451\ttotal: 3.71s\tremaining: 560ms\n",
      "869:\tlearn: 0.1211906\ttotal: 3.72s\tremaining: 555ms\n",
      "870:\tlearn: 0.1210643\ttotal: 3.72s\tremaining: 551ms\n",
      "871:\tlearn: 0.1209389\ttotal: 3.73s\tremaining: 547ms\n",
      "872:\tlearn: 0.1208234\ttotal: 3.73s\tremaining: 543ms\n",
      "873:\tlearn: 0.1207790\ttotal: 3.74s\tremaining: 539ms\n",
      "874:\tlearn: 0.1205848\ttotal: 3.74s\tremaining: 535ms\n",
      "875:\tlearn: 0.1203382\ttotal: 3.75s\tremaining: 531ms\n",
      "876:\tlearn: 0.1202307\ttotal: 3.75s\tremaining: 526ms\n",
      "877:\tlearn: 0.1201164\ttotal: 3.76s\tremaining: 522ms\n",
      "878:\tlearn: 0.1200438\ttotal: 3.76s\tremaining: 518ms\n",
      "879:\tlearn: 0.1198595\ttotal: 3.77s\tremaining: 514ms\n",
      "880:\tlearn: 0.1198184\ttotal: 3.77s\tremaining: 509ms\n",
      "881:\tlearn: 0.1196801\ttotal: 3.77s\tremaining: 505ms\n",
      "882:\tlearn: 0.1195127\ttotal: 3.78s\tremaining: 501ms\n",
      "883:\tlearn: 0.1194410\ttotal: 3.78s\tremaining: 497ms\n",
      "884:\tlearn: 0.1193731\ttotal: 3.79s\tremaining: 492ms\n",
      "885:\tlearn: 0.1192154\ttotal: 3.79s\tremaining: 488ms\n",
      "886:\tlearn: 0.1190878\ttotal: 3.8s\tremaining: 484ms\n",
      "887:\tlearn: 0.1189305\ttotal: 3.8s\tremaining: 479ms\n",
      "888:\tlearn: 0.1187891\ttotal: 3.81s\tremaining: 475ms\n",
      "889:\tlearn: 0.1187002\ttotal: 3.81s\tremaining: 471ms\n",
      "890:\tlearn: 0.1186101\ttotal: 3.81s\tremaining: 466ms\n",
      "891:\tlearn: 0.1184019\ttotal: 3.82s\tremaining: 462ms\n",
      "892:\tlearn: 0.1182328\ttotal: 3.82s\tremaining: 458ms\n",
      "893:\tlearn: 0.1181190\ttotal: 3.82s\tremaining: 453ms\n",
      "894:\tlearn: 0.1179220\ttotal: 3.83s\tremaining: 449ms\n",
      "895:\tlearn: 0.1178587\ttotal: 3.83s\tremaining: 445ms\n",
      "896:\tlearn: 0.1177778\ttotal: 3.83s\tremaining: 440ms\n",
      "897:\tlearn: 0.1176726\ttotal: 3.84s\tremaining: 436ms\n",
      "898:\tlearn: 0.1176201\ttotal: 3.84s\tremaining: 431ms\n",
      "899:\tlearn: 0.1174456\ttotal: 3.84s\tremaining: 427ms\n",
      "900:\tlearn: 0.1173452\ttotal: 3.85s\tremaining: 423ms\n",
      "901:\tlearn: 0.1172478\ttotal: 3.85s\tremaining: 419ms\n",
      "902:\tlearn: 0.1170664\ttotal: 3.86s\tremaining: 414ms\n",
      "903:\tlearn: 0.1169034\ttotal: 3.86s\tremaining: 410ms\n",
      "904:\tlearn: 0.1168143\ttotal: 3.86s\tremaining: 406ms\n",
      "905:\tlearn: 0.1167317\ttotal: 3.87s\tremaining: 401ms\n",
      "906:\tlearn: 0.1166357\ttotal: 3.87s\tremaining: 397ms\n",
      "907:\tlearn: 0.1165003\ttotal: 3.87s\tremaining: 393ms\n",
      "908:\tlearn: 0.1164786\ttotal: 3.88s\tremaining: 388ms\n",
      "909:\tlearn: 0.1163852\ttotal: 3.88s\tremaining: 384ms\n",
      "910:\tlearn: 0.1163188\ttotal: 3.88s\tremaining: 380ms\n",
      "911:\tlearn: 0.1163038\ttotal: 3.89s\tremaining: 375ms\n",
      "912:\tlearn: 0.1162038\ttotal: 3.89s\tremaining: 371ms\n",
      "913:\tlearn: 0.1161521\ttotal: 3.9s\tremaining: 367ms\n",
      "914:\tlearn: 0.1161174\ttotal: 3.9s\tremaining: 362ms\n",
      "915:\tlearn: 0.1159557\ttotal: 3.9s\tremaining: 358ms\n",
      "916:\tlearn: 0.1158928\ttotal: 3.91s\tremaining: 354ms\n",
      "917:\tlearn: 0.1158297\ttotal: 3.91s\tremaining: 349ms\n",
      "918:\tlearn: 0.1156740\ttotal: 3.92s\tremaining: 345ms\n",
      "919:\tlearn: 0.1156605\ttotal: 3.92s\tremaining: 341ms\n",
      "920:\tlearn: 0.1155230\ttotal: 3.92s\tremaining: 337ms\n",
      "921:\tlearn: 0.1154657\ttotal: 3.93s\tremaining: 332ms\n",
      "922:\tlearn: 0.1153607\ttotal: 3.93s\tremaining: 328ms\n",
      "923:\tlearn: 0.1151464\ttotal: 3.94s\tremaining: 324ms\n",
      "924:\tlearn: 0.1149948\ttotal: 3.94s\tremaining: 320ms\n",
      "925:\tlearn: 0.1148887\ttotal: 3.95s\tremaining: 315ms\n",
      "926:\tlearn: 0.1147173\ttotal: 3.95s\tremaining: 311ms\n",
      "927:\tlearn: 0.1145612\ttotal: 3.95s\tremaining: 307ms\n",
      "928:\tlearn: 0.1145170\ttotal: 3.96s\tremaining: 303ms\n",
      "929:\tlearn: 0.1143924\ttotal: 3.96s\tremaining: 298ms\n",
      "930:\tlearn: 0.1143172\ttotal: 3.97s\tremaining: 294ms\n",
      "931:\tlearn: 0.1142467\ttotal: 3.97s\tremaining: 290ms\n",
      "932:\tlearn: 0.1141290\ttotal: 3.97s\tremaining: 285ms\n",
      "933:\tlearn: 0.1139632\ttotal: 3.98s\tremaining: 281ms\n",
      "934:\tlearn: 0.1138784\ttotal: 3.98s\tremaining: 277ms\n",
      "935:\tlearn: 0.1138032\ttotal: 3.98s\tremaining: 272ms\n",
      "936:\tlearn: 0.1136370\ttotal: 3.99s\tremaining: 268ms\n",
      "937:\tlearn: 0.1134032\ttotal: 3.99s\tremaining: 264ms\n",
      "938:\tlearn: 0.1132129\ttotal: 4s\tremaining: 260ms\n",
      "939:\tlearn: 0.1130519\ttotal: 4s\tremaining: 255ms\n",
      "940:\tlearn: 0.1128971\ttotal: 4s\tremaining: 251ms\n",
      "941:\tlearn: 0.1128052\ttotal: 4.01s\tremaining: 247ms\n",
      "942:\tlearn: 0.1127371\ttotal: 4.01s\tremaining: 243ms\n",
      "943:\tlearn: 0.1125473\ttotal: 4.02s\tremaining: 238ms\n",
      "944:\tlearn: 0.1124283\ttotal: 4.02s\tremaining: 234ms\n",
      "945:\tlearn: 0.1123583\ttotal: 4.02s\tremaining: 230ms\n",
      "946:\tlearn: 0.1121842\ttotal: 4.03s\tremaining: 225ms\n",
      "947:\tlearn: 0.1119744\ttotal: 4.03s\tremaining: 221ms\n",
      "948:\tlearn: 0.1118738\ttotal: 4.04s\tremaining: 217ms\n",
      "949:\tlearn: 0.1117297\ttotal: 4.04s\tremaining: 213ms\n",
      "950:\tlearn: 0.1115960\ttotal: 4.05s\tremaining: 209ms\n",
      "951:\tlearn: 0.1113940\ttotal: 4.05s\tremaining: 204ms\n",
      "952:\tlearn: 0.1113524\ttotal: 4.06s\tremaining: 200ms\n",
      "953:\tlearn: 0.1113225\ttotal: 4.07s\tremaining: 196ms\n",
      "954:\tlearn: 0.1111537\ttotal: 4.08s\tremaining: 192ms\n",
      "955:\tlearn: 0.1110425\ttotal: 4.08s\tremaining: 188ms\n",
      "956:\tlearn: 0.1109049\ttotal: 4.09s\tremaining: 184ms\n",
      "957:\tlearn: 0.1107648\ttotal: 4.09s\tremaining: 179ms\n",
      "958:\tlearn: 0.1106472\ttotal: 4.1s\tremaining: 175ms\n",
      "959:\tlearn: 0.1105435\ttotal: 4.11s\tremaining: 171ms\n",
      "960:\tlearn: 0.1104785\ttotal: 4.11s\tremaining: 167ms\n",
      "961:\tlearn: 0.1102855\ttotal: 4.12s\tremaining: 163ms\n",
      "962:\tlearn: 0.1102032\ttotal: 4.12s\tremaining: 158ms\n",
      "963:\tlearn: 0.1100926\ttotal: 4.13s\tremaining: 154ms\n",
      "964:\tlearn: 0.1100002\ttotal: 4.13s\tremaining: 150ms\n",
      "965:\tlearn: 0.1098806\ttotal: 4.14s\tremaining: 146ms\n",
      "966:\tlearn: 0.1096916\ttotal: 4.14s\tremaining: 141ms\n",
      "967:\tlearn: 0.1096389\ttotal: 4.14s\tremaining: 137ms\n",
      "968:\tlearn: 0.1096217\ttotal: 4.15s\tremaining: 133ms\n",
      "969:\tlearn: 0.1095116\ttotal: 4.15s\tremaining: 128ms\n",
      "970:\tlearn: 0.1093241\ttotal: 4.16s\tremaining: 124ms\n",
      "971:\tlearn: 0.1091415\ttotal: 4.16s\tremaining: 120ms\n",
      "972:\tlearn: 0.1089653\ttotal: 4.17s\tremaining: 116ms\n",
      "973:\tlearn: 0.1088432\ttotal: 4.17s\tremaining: 111ms\n",
      "974:\tlearn: 0.1087710\ttotal: 4.17s\tremaining: 107ms\n",
      "975:\tlearn: 0.1085142\ttotal: 4.18s\tremaining: 103ms\n",
      "976:\tlearn: 0.1084395\ttotal: 4.18s\tremaining: 98.4ms\n",
      "977:\tlearn: 0.1083628\ttotal: 4.18s\tremaining: 94.1ms\n",
      "978:\tlearn: 0.1082179\ttotal: 4.19s\tremaining: 89.8ms\n",
      "979:\tlearn: 0.1080631\ttotal: 4.19s\tremaining: 85.5ms\n",
      "980:\tlearn: 0.1079341\ttotal: 4.2s\tremaining: 81.3ms\n",
      "981:\tlearn: 0.1077128\ttotal: 4.2s\tremaining: 77ms\n",
      "982:\tlearn: 0.1076489\ttotal: 4.2s\tremaining: 72.7ms\n",
      "983:\tlearn: 0.1074587\ttotal: 4.21s\tremaining: 68.4ms\n",
      "984:\tlearn: 0.1073870\ttotal: 4.21s\tremaining: 64.1ms\n",
      "985:\tlearn: 0.1071812\ttotal: 4.21s\tremaining: 59.8ms\n",
      "986:\tlearn: 0.1070590\ttotal: 4.22s\tremaining: 55.5ms\n",
      "987:\tlearn: 0.1069345\ttotal: 4.22s\tremaining: 51.3ms\n",
      "988:\tlearn: 0.1069172\ttotal: 4.22s\tremaining: 47ms\n",
      "989:\tlearn: 0.1068460\ttotal: 4.23s\tremaining: 42.7ms\n",
      "990:\tlearn: 0.1066465\ttotal: 4.23s\tremaining: 38.4ms\n",
      "991:\tlearn: 0.1065714\ttotal: 4.23s\tremaining: 34.1ms\n",
      "992:\tlearn: 0.1064303\ttotal: 4.24s\tremaining: 29.9ms\n",
      "993:\tlearn: 0.1063380\ttotal: 4.24s\tremaining: 25.6ms\n",
      "994:\tlearn: 0.1062248\ttotal: 4.25s\tremaining: 21.3ms\n",
      "995:\tlearn: 0.1062113\ttotal: 4.25s\tremaining: 17.1ms\n",
      "996:\tlearn: 0.1060960\ttotal: 4.25s\tremaining: 12.8ms\n",
      "997:\tlearn: 0.1059312\ttotal: 4.26s\tremaining: 8.53ms\n",
      "998:\tlearn: 0.1058361\ttotal: 4.26s\tremaining: 4.26ms\n",
      "999:\tlearn: 0.1058086\ttotal: 4.26s\tremaining: 0us\n"
     ]
    }
   ],
   "source": [
    "cat = CatBoostClassifier()\n",
    "cat.fit(X_train, Y_train)\n",
    "\n",
    "cat_acc = accuracy_score(Y_test, cat.predict(X_test))"
   ]
  },
  {
   "cell_type": "code",
   "execution_count": 25,
   "metadata": {},
   "outputs": [
    {
     "name": "stdout",
     "output_type": "stream",
     "text": [
      "Training Accuracy of Cat Boost Classifier is 0.9860935524652339\n",
      "Test Accuracy of Cat Boost Classifier is 0.8585858585858586 \n",
      "\n",
      "Confusion Matrix :- \n",
      "[[131  14]\n",
      " [ 14  39]]\n",
      "\n",
      "Classification Report :- \n",
      "               precision    recall  f1-score   support\n",
      "\n",
      "           0       0.90      0.90      0.90       145\n",
      "           1       0.74      0.74      0.74        53\n",
      "\n",
      "    accuracy                           0.86       198\n",
      "   macro avg       0.82      0.82      0.82       198\n",
      "weighted avg       0.86      0.86      0.86       198\n",
      "\n"
     ]
    }
   ],
   "source": [
    "print(f\"Training Accuracy of Cat Boost Classifier is {accuracy_score(Y_train, cat.predict(X_train))}\")\n",
    "print(f\"Test Accuracy of Cat Boost Classifier is {cat_acc} \\n\")\n",
    "\n",
    "print(f\"Confusion Matrix :- \\n{confusion_matrix(Y_test, cat.predict(X_test))}\\n\")\n",
    "print(f\"Classification Report :- \\n {classification_report(Y_test, cat.predict(X_test))}\")"
   ]
  },
  {
   "cell_type": "markdown",
   "metadata": {},
   "source": [
    "### Feature Importance"
   ]
  },
  {
   "cell_type": "code",
   "execution_count": 26,
   "metadata": {},
   "outputs": [],
   "source": [
    "num = X.select_dtypes(include = np.number)\n",
    "cat = X.select_dtypes(exclude = np.number)\n",
    "\n",
    "feaure_list = num.join(cat)"
   ]
  },
  {
   "cell_type": "code",
   "execution_count": 27,
   "metadata": {},
   "outputs": [
    {
     "name": "stdout",
     "output_type": "stream",
     "text": [
      "                            Features  feature importance\n",
      "25    incident_severity_Major Damage            0.158601\n",
      "12             insured_hobbies_Other            0.061423\n",
      "65                     vehicle_claim            0.052704\n",
      "64                    property_claim            0.050222\n",
      "55             policy_annual_premium            0.047316\n",
      "..                               ...                 ...\n",
      "28  incident_severity_Trivial Damage            0.003678\n",
      "37                 incident_state_PA            0.003352\n",
      "45          incident_city_Northbrook            0.003080\n",
      "22          incident_type_Parked Car            0.001785\n",
      "36                 incident_state_OH            0.000670\n",
      "\n",
      "[67 rows x 2 columns]\n"
     ]
    }
   ],
   "source": [
    "# rfc = RandomForestClassifier(random_state = 42, oob_score = True)\n",
    "\n",
    "#Define function to view important features\n",
    "def feature_importance(estimator, features):\n",
    "    important_features = pd.DataFrame(list(estimator.feature_importances_), columns = ['feature importance'])\n",
    "    features = pd.DataFrame(list(features), columns = ['Features'])\n",
    "    global best_features\n",
    "    best_features = features.join(important_features)\n",
    "    best_features = best_features.sort_values(by = 'feature importance', ascending = False)\n",
    "    print(best_features)\n",
    "    \n",
    "#Apply function on rfc\n",
    "feature_importance(model_rfc, feaure_list)"
   ]
  },
  {
   "cell_type": "code",
   "execution_count": 28,
   "metadata": {},
   "outputs": [
    {
     "name": "stderr",
     "output_type": "stream",
     "text": [
      "C:\\Users\\anilm\\anaconda3\\envs\\zeiss\\lib\\site-packages\\ipykernel_launcher.py:5: FutureWarning: In a future version of pandas all arguments of DataFrame.drop except for the argument 'labels' will be keyword-only\n",
      "  \"\"\"\n",
      "C:\\Users\\anilm\\anaconda3\\envs\\zeiss\\lib\\site-packages\\ipykernel_launcher.py:6: FutureWarning: In a future version of pandas all arguments of DataFrame.drop except for the argument 'labels' will be keyword-only\n",
      "  \n",
      "C:\\Users\\anilm\\anaconda3\\envs\\zeiss\\lib\\site-packages\\ipykernel_launcher.py:7: FutureWarning: In a future version of pandas all arguments of DataFrame.drop except for the argument 'labels' will be keyword-only\n",
      "  import sys\n"
     ]
    }
   ],
   "source": [
    "#Subset best_features on unimportant_features\n",
    "\n",
    "unimportant_features = best_features[best_features['feature importance'] < 0.01]\n",
    "list_unimportant_features = unimportant_features['Features'].tolist()\n",
    "X_train_rfc = X_train_df.drop(list_unimportant_features, 1)\n",
    "X_test_rfc = X_test_df.drop(list_unimportant_features, 1)\n",
    "feaure_list_rfc = feaure_list.drop(list_unimportant_features, 1)"
   ]
  },
  {
   "cell_type": "code",
   "execution_count": 30,
   "metadata": {},
   "outputs": [
    {
     "name": "stderr",
     "output_type": "stream",
     "text": [
      "C:\\Users\\anilm\\anaconda3\\envs\\zeiss\\lib\\site-packages\\sklearn\\base.py:444: UserWarning: X has feature names, but StandardScaler was fitted without feature names\n",
      "  f\"X has feature names, but {self.__class__.__name__} was fitted without\"\n"
     ]
    },
    {
     "name": "stdout",
     "output_type": "stream",
     "text": [
      "Training Accuracy:  0.8862199747155499\n",
      "Testing Accuarcy:  0.8181818181818182\n",
      "[[125  20]\n",
      " [ 16  37]]\n",
      "              precision    recall  f1-score   support\n",
      "\n",
      "           0       0.89      0.86      0.87       145\n",
      "           1       0.65      0.70      0.67        53\n",
      "\n",
      "    accuracy                           0.82       198\n",
      "   macro avg       0.77      0.78      0.77       198\n",
      "weighted avg       0.82      0.82      0.82       198\n",
      "\n"
     ]
    }
   ],
   "source": [
    "sc = StandardScaler()\n",
    "X_train_rfc = sc.fit_transform(X_train_rfc)\n",
    "X_test_rfc = sc.transform(X_test_rfc)\n",
    "\n",
    "\n",
    "model_rfc = BalancedRandomForestClassifier(n_estimators = 100, random_state = 0)\n",
    "\n",
    "model_rfc.fit(X_train_rfc, Y_train)\n",
    "Y_pred_rf = model_rfc.predict(X_test_rfc)\n",
    "\n",
    "print(\"Training Accuracy: \", model_rfc.score(X_train_rfc, Y_train))\n",
    "print('Testing Accuarcy: ', model_rfc.score(X_test_rfc, Y_test))\n",
    "\n",
    "print(confusion_matrix(Y_test, Y_pred_rf))\n",
    "print(classification_report(Y_test, Y_pred_rf))"
   ]
  },
  {
   "cell_type": "code",
   "execution_count": null,
   "metadata": {},
   "outputs": [],
   "source": []
  },
  {
   "cell_type": "code",
   "execution_count": null,
   "metadata": {},
   "outputs": [],
   "source": []
  },
  {
   "cell_type": "markdown",
   "metadata": {},
   "source": [
    "### Hyper parameter tuning"
   ]
  },
  {
   "cell_type": "code",
   "execution_count": 38,
   "metadata": {},
   "outputs": [
    {
     "name": "stdout",
     "output_type": "stream",
     "text": [
      "Fitting 5 folds for each of 512 candidates, totalling 2560 fits\n"
     ]
    },
    {
     "data": {
      "text/plain": [
       "GridSearchCV(cv=5, estimator=BalancedRandomForestClassifier(random_state=0),\n",
       "             param_grid={'criterion': ['gini', 'entropy'],\n",
       "                         'max_depth': [3, 5, 7, 10],\n",
       "                         'min_samples_leaf': range(2, 10),\n",
       "                         'min_samples_split': range(2, 10)},\n",
       "             pre_dispatch=2, verbose=1)"
      ]
     },
     "execution_count": 38,
     "metadata": {},
     "output_type": "execute_result"
    }
   ],
   "source": [
    "grid_params = {\n",
    "    'criterion' : ['gini', 'entropy'],\n",
    "    'max_depth' : [3, 5, 7, 10],\n",
    "    'min_samples_split' : range(2, 10, 1),\n",
    "    'min_samples_leaf' : range(2, 10, 1)\n",
    "}\n",
    "\n",
    "grid_search = GridSearchCV(model_rfc, grid_params, cv = 5, n_jobs = -1, verbose = 1)\n",
    "grid_search.fit(X_train, Y_train)"
   ]
  },
  {
   "cell_type": "code",
   "execution_count": 39,
   "metadata": {},
   "outputs": [
    {
     "name": "stdout",
     "output_type": "stream",
     "text": [
      "{'criterion': 'gini', 'max_depth': 5, 'min_samples_leaf': 2, 'min_samples_split': 2}\n",
      "0.8520977629169652\n"
     ]
    }
   ],
   "source": [
    "# best parameters and best score\n",
    "\n",
    "print(grid_search.best_params_)\n",
    "print(grid_search.best_score_)"
   ]
  },
  {
   "cell_type": "code",
   "execution_count": 243,
   "metadata": {},
   "outputs": [],
   "source": [
    "# best estimator \n",
    "\n",
    "rf_tuned = grid_search.best_estimator_\n",
    "Y_pred = rf_tuned.predict(X_test)"
   ]
  },
  {
   "cell_type": "code",
   "execution_count": 244,
   "metadata": {},
   "outputs": [
    {
     "name": "stdout",
     "output_type": "stream",
     "text": [
      "Training accuracy of Decision Tree is : 1.0\n",
      "Test accuracy of Decision Tree is : 0.84\n",
      "[[126  26]\n",
      " [  6  42]]\n",
      "              precision    recall  f1-score   support\n",
      "\n",
      "           0       0.95      0.83      0.89       152\n",
      "           1       0.62      0.88      0.72        48\n",
      "\n",
      "    accuracy                           0.84       200\n",
      "   macro avg       0.79      0.85      0.81       200\n",
      "weighted avg       0.87      0.84      0.85       200\n",
      "\n"
     ]
    }
   ],
   "source": [
    "rf_tuned_train_acc = accuracy_score(Y_train, rf_tuned.predict(X_train))\n",
    "rf_tuned_test_acc = accuracy_score(Y_test, Y_pred)\n",
    "\n",
    "print(f\"Training accuracy of Decision Tree is : {rf_tuned_train_acc}\")\n",
    "print(f\"Test accuracy of Decision Tree is : {rf_tuned_test_acc}\")\n",
    "\n",
    "print(confusion_matrix(Y_test, Y_pred))\n",
    "print(classification_report(Y_test, Y_pred))"
   ]
  },
  {
   "cell_type": "code",
   "execution_count": 26,
   "metadata": {},
   "outputs": [
    {
     "name": "stdout",
     "output_type": "stream",
     "text": [
      "Training accuracy of Decision Tree is : 1.0\n",
      "Test accuracy of Decision Tree is : 0.825\n",
      "[[134  18]\n",
      " [ 17  31]]\n",
      "              precision    recall  f1-score   support\n",
      "\n",
      "           0       0.89      0.88      0.88       152\n",
      "           1       0.63      0.65      0.64        48\n",
      "\n",
      "    accuracy                           0.82       200\n",
      "   macro avg       0.76      0.76      0.76       200\n",
      "weighted avg       0.83      0.82      0.83       200\n",
      "\n"
     ]
    }
   ],
   "source": [
    "from sklearn.ensemble import RandomForestClassifier\n",
    "\n",
    "rand_clf = RandomForestClassifier()\n",
    "rand_clf.fit(X_train, Y_train)\n",
    "\n",
    "Y_pred = rand_clf.predict(X_test)\n",
    "\n",
    "rf_tuned_train_acc = accuracy_score(Y_train, rand_clf.predict(X_train))\n",
    "rf_tuned_test_acc = accuracy_score(Y_test, Y_pred)\n",
    "\n",
    "print(f\"Training accuracy of Decision Tree is : {rf_tuned_train_acc}\")\n",
    "print(f\"Test accuracy of Decision Tree is : {rf_tuned_test_acc}\")\n",
    "\n",
    "print(confusion_matrix(Y_test, Y_pred))\n",
    "print(classification_report(Y_test, Y_pred))"
   ]
  },
  {
   "cell_type": "code",
   "execution_count": 27,
   "metadata": {},
   "outputs": [
    {
     "name": "stdout",
     "output_type": "stream",
     "text": [
      "Fitting 5 folds for each of 512 candidates, totalling 2560 fits\n"
     ]
    },
    {
     "data": {
      "text/plain": [
       "GridSearchCV(cv=5, estimator=RandomForestClassifier(), n_jobs=-1,\n",
       "             param_grid={'criterion': ['gini', 'entropy'],\n",
       "                         'max_depth': [3, 5, 7, 10],\n",
       "                         'min_samples_leaf': range(2, 10),\n",
       "                         'min_samples_split': range(2, 10)},\n",
       "             verbose=1)"
      ]
     },
     "execution_count": 27,
     "metadata": {},
     "output_type": "execute_result"
    }
   ],
   "source": [
    "grid_params = {\n",
    "    'criterion' : ['gini', 'entropy'],\n",
    "    'max_depth' : [3, 5, 7, 10],\n",
    "    'min_samples_split' : range(2, 10, 1),\n",
    "    'min_samples_leaf' : range(2, 10, 1)\n",
    "}\n",
    "\n",
    "grid_search = GridSearchCV(rand_clf, grid_params, cv = 5, n_jobs = -1, verbose = 1)\n",
    "grid_search.fit(X_train, Y_train)"
   ]
  },
  {
   "cell_type": "code",
   "execution_count": 38,
   "metadata": {},
   "outputs": [
    {
     "name": "stdout",
     "output_type": "stream",
     "text": [
      "{'criterion': 'gini', 'max_depth': 10, 'min_samples_leaf': 2, 'min_samples_split': 8}\n",
      "0.8410613207547171\n"
     ]
    }
   ],
   "source": [
    "# best parameters and best score\n",
    "\n",
    "print(grid_search.best_params_)\n",
    "print(grid_search.best_score_)"
   ]
  },
  {
   "cell_type": "code",
   "execution_count": 39,
   "metadata": {},
   "outputs": [],
   "source": [
    "# best estimator \n",
    "\n",
    "rf_tuned = grid_search.best_estimator_\n",
    "Y_pred = rf_tuned.predict(X_test)"
   ]
  },
  {
   "cell_type": "code",
   "execution_count": 40,
   "metadata": {},
   "outputs": [
    {
     "name": "stdout",
     "output_type": "stream",
     "text": [
      "Training accuracy of Decision Tree is : 0.967459324155194\n",
      "Test accuracy of Decision Tree is : 0.81\n",
      "[[133  19]\n",
      " [ 19  29]]\n",
      "              precision    recall  f1-score   support\n",
      "\n",
      "           0       0.88      0.88      0.88       152\n",
      "           1       0.60      0.60      0.60        48\n",
      "\n",
      "    accuracy                           0.81       200\n",
      "   macro avg       0.74      0.74      0.74       200\n",
      "weighted avg       0.81      0.81      0.81       200\n",
      "\n"
     ]
    }
   ],
   "source": [
    "rf_tuned_train_acc = accuracy_score(Y_train, rf_tuned.predict(X_train))\n",
    "rf_tuned_test_acc = accuracy_score(Y_test, Y_pred)\n",
    "\n",
    "print(f\"Training accuracy of Decision Tree is : {rf_tuned_train_acc}\")\n",
    "print(f\"Test accuracy of Decision Tree is : {rf_tuned_test_acc}\")\n",
    "\n",
    "print(confusion_matrix(Y_test, Y_pred))\n",
    "print(classification_report(Y_test, Y_pred))"
   ]
  },
  {
   "cell_type": "code",
   "execution_count": null,
   "metadata": {},
   "outputs": [],
   "source": []
  }
 ],
 "metadata": {
  "interpreter": {
   "hash": "411a9559551a45b396565ba67c60c5824103901d9a149aa4a1803e9672102111"
  },
  "kernelspec": {
   "display_name": "Python 3.7.12 ('zeiss')",
   "language": "python",
   "name": "python3"
  },
  "language_info": {
   "codemirror_mode": {
    "name": "ipython",
    "version": 3
   },
   "file_extension": ".py",
   "mimetype": "text/x-python",
   "name": "python",
   "nbconvert_exporter": "python",
   "pygments_lexer": "ipython3",
   "version": "3.7.12"
  },
  "orig_nbformat": 4
 },
 "nbformat": 4,
 "nbformat_minor": 2
}
