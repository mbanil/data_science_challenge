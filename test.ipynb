{
 "cells": [
  {
   "cell_type": "markdown",
   "metadata": {},
   "source": [
    "# Importing Required Libraries"
   ]
  },
  {
   "cell_type": "code",
   "execution_count": 59,
   "metadata": {},
   "outputs": [],
   "source": [
    "import pandas as pd\n",
    "import pandas_profiling as pp\n",
    "import plotly.express as px\n",
    "import numpy as np\n",
    "\n",
    "from sklearn.model_selection import train_test_split\n",
    "\n",
    "from sklearn.tree import DecisionTreeClassifier\n",
    "from sklearn.model_selection import GridSearchCV\n",
    "from sklearn.ensemble import RandomForestClassifier\n",
    "from sklearn.ensemble import AdaBoostClassifier\n",
    "from sklearn.ensemble import GradientBoostingClassifier\n",
    "from imblearn.ensemble import BalancedRandomForestClassifier \n",
    "from imblearn.ensemble import EasyEnsembleClassifier \n",
    "from imblearn.ensemble import BalancedBaggingClassifier\n",
    "from sklearn.neighbors import KNeighborsClassifier\n",
    "\n",
    "from catboost import CatBoostClassifier\n",
    "\n",
    "from sklearn.metrics import accuracy_score\n",
    "from sklearn.metrics import classification_report\n",
    "from sklearn.metrics import confusion_matrix\n",
    "from sklearn.ensemble import RandomForestClassifier\n",
    "\n",
    "from xgboost import XGBClassifier\n"
   ]
  },
  {
   "cell_type": "markdown",
   "metadata": {},
   "source": [
    "# Load and view dataset"
   ]
  },
  {
   "cell_type": "code",
   "execution_count": 60,
   "metadata": {},
   "outputs": [],
   "source": [
    "def data_extraction(file_name):\n",
    "    if os.path.isfile(file_name):\n",
    "        df = pd.read_csv(file_name)\n",
    "        return df\n",
    "    raise FileNotFoundError(errno.ENOENT, os.strerror(errno.ENOENT), file_name)"
   ]
  },
  {
   "cell_type": "code",
   "execution_count": 61,
   "metadata": {},
   "outputs": [
    {
     "data": {
      "text/html": [
       "<div>\n",
       "<style scoped>\n",
       "    .dataframe tbody tr th:only-of-type {\n",
       "        vertical-align: middle;\n",
       "    }\n",
       "\n",
       "    .dataframe tbody tr th {\n",
       "        vertical-align: top;\n",
       "    }\n",
       "\n",
       "    .dataframe thead th {\n",
       "        text-align: right;\n",
       "    }\n",
       "</style>\n",
       "<table border=\"1\" class=\"dataframe\">\n",
       "  <thead>\n",
       "    <tr style=\"text-align: right;\">\n",
       "      <th></th>\n",
       "      <th>months_as_customer</th>\n",
       "      <th>age</th>\n",
       "      <th>policy_number</th>\n",
       "      <th>policy_bind_date</th>\n",
       "      <th>policy_state</th>\n",
       "      <th>policy_csl</th>\n",
       "      <th>policy_deductable</th>\n",
       "      <th>policy_annual_premium</th>\n",
       "      <th>umbrella_limit</th>\n",
       "      <th>insured_zip</th>\n",
       "      <th>...</th>\n",
       "      <th>witnesses</th>\n",
       "      <th>police_report_available</th>\n",
       "      <th>total_claim_amount</th>\n",
       "      <th>injury_claim</th>\n",
       "      <th>property_claim</th>\n",
       "      <th>vehicle_claim</th>\n",
       "      <th>auto_make</th>\n",
       "      <th>auto_model</th>\n",
       "      <th>auto_year</th>\n",
       "      <th>fraud_reported</th>\n",
       "    </tr>\n",
       "  </thead>\n",
       "  <tbody>\n",
       "    <tr>\n",
       "      <th>0</th>\n",
       "      <td>328</td>\n",
       "      <td>48</td>\n",
       "      <td>521585</td>\n",
       "      <td>2014-10-17</td>\n",
       "      <td>OH</td>\n",
       "      <td>250/500</td>\n",
       "      <td>1000</td>\n",
       "      <td>1406.91</td>\n",
       "      <td>0</td>\n",
       "      <td>466132</td>\n",
       "      <td>...</td>\n",
       "      <td>2</td>\n",
       "      <td>YES</td>\n",
       "      <td>71610</td>\n",
       "      <td>6510</td>\n",
       "      <td>13020</td>\n",
       "      <td>52080</td>\n",
       "      <td>Saab</td>\n",
       "      <td>92x</td>\n",
       "      <td>2004</td>\n",
       "      <td>Y</td>\n",
       "    </tr>\n",
       "    <tr>\n",
       "      <th>1</th>\n",
       "      <td>228</td>\n",
       "      <td>42</td>\n",
       "      <td>342868</td>\n",
       "      <td>2006-06-27</td>\n",
       "      <td>IN</td>\n",
       "      <td>250/500</td>\n",
       "      <td>2000</td>\n",
       "      <td>1197.22</td>\n",
       "      <td>5000000</td>\n",
       "      <td>468176</td>\n",
       "      <td>...</td>\n",
       "      <td>0</td>\n",
       "      <td>?</td>\n",
       "      <td>5070</td>\n",
       "      <td>780</td>\n",
       "      <td>780</td>\n",
       "      <td>3510</td>\n",
       "      <td>Mercedes</td>\n",
       "      <td>E400</td>\n",
       "      <td>2007</td>\n",
       "      <td>Y</td>\n",
       "    </tr>\n",
       "    <tr>\n",
       "      <th>2</th>\n",
       "      <td>134</td>\n",
       "      <td>29</td>\n",
       "      <td>687698</td>\n",
       "      <td>2000-09-06</td>\n",
       "      <td>OH</td>\n",
       "      <td>100/300</td>\n",
       "      <td>2000</td>\n",
       "      <td>1413.14</td>\n",
       "      <td>5000000</td>\n",
       "      <td>430632</td>\n",
       "      <td>...</td>\n",
       "      <td>3</td>\n",
       "      <td>NO</td>\n",
       "      <td>34650</td>\n",
       "      <td>7700</td>\n",
       "      <td>3850</td>\n",
       "      <td>23100</td>\n",
       "      <td>Dodge</td>\n",
       "      <td>RAM</td>\n",
       "      <td>2007</td>\n",
       "      <td>N</td>\n",
       "    </tr>\n",
       "    <tr>\n",
       "      <th>3</th>\n",
       "      <td>256</td>\n",
       "      <td>41</td>\n",
       "      <td>227811</td>\n",
       "      <td>1990-05-25</td>\n",
       "      <td>IL</td>\n",
       "      <td>250/500</td>\n",
       "      <td>2000</td>\n",
       "      <td>1415.74</td>\n",
       "      <td>6000000</td>\n",
       "      <td>608117</td>\n",
       "      <td>...</td>\n",
       "      <td>2</td>\n",
       "      <td>NO</td>\n",
       "      <td>63400</td>\n",
       "      <td>6340</td>\n",
       "      <td>6340</td>\n",
       "      <td>50720</td>\n",
       "      <td>Chevrolet</td>\n",
       "      <td>Tahoe</td>\n",
       "      <td>2014</td>\n",
       "      <td>Y</td>\n",
       "    </tr>\n",
       "    <tr>\n",
       "      <th>4</th>\n",
       "      <td>228</td>\n",
       "      <td>44</td>\n",
       "      <td>367455</td>\n",
       "      <td>2014-06-06</td>\n",
       "      <td>IL</td>\n",
       "      <td>500/1000</td>\n",
       "      <td>1000</td>\n",
       "      <td>1583.91</td>\n",
       "      <td>6000000</td>\n",
       "      <td>610706</td>\n",
       "      <td>...</td>\n",
       "      <td>1</td>\n",
       "      <td>NO</td>\n",
       "      <td>6500</td>\n",
       "      <td>1300</td>\n",
       "      <td>650</td>\n",
       "      <td>4550</td>\n",
       "      <td>Accura</td>\n",
       "      <td>RSX</td>\n",
       "      <td>2009</td>\n",
       "      <td>N</td>\n",
       "    </tr>\n",
       "  </tbody>\n",
       "</table>\n",
       "<p>5 rows × 39 columns</p>\n",
       "</div>"
      ],
      "text/plain": [
       "   months_as_customer  age  policy_number policy_bind_date policy_state  \\\n",
       "0                 328   48         521585       2014-10-17           OH   \n",
       "1                 228   42         342868       2006-06-27           IN   \n",
       "2                 134   29         687698       2000-09-06           OH   \n",
       "3                 256   41         227811       1990-05-25           IL   \n",
       "4                 228   44         367455       2014-06-06           IL   \n",
       "\n",
       "  policy_csl  policy_deductable  policy_annual_premium  umbrella_limit  \\\n",
       "0    250/500               1000                1406.91               0   \n",
       "1    250/500               2000                1197.22         5000000   \n",
       "2    100/300               2000                1413.14         5000000   \n",
       "3    250/500               2000                1415.74         6000000   \n",
       "4   500/1000               1000                1583.91         6000000   \n",
       "\n",
       "   insured_zip  ... witnesses police_report_available total_claim_amount  \\\n",
       "0       466132  ...         2                     YES              71610   \n",
       "1       468176  ...         0                       ?               5070   \n",
       "2       430632  ...         3                      NO              34650   \n",
       "3       608117  ...         2                      NO              63400   \n",
       "4       610706  ...         1                      NO               6500   \n",
       "\n",
       "  injury_claim property_claim  vehicle_claim  auto_make auto_model auto_year  \\\n",
       "0         6510          13020          52080       Saab        92x      2004   \n",
       "1          780            780           3510   Mercedes       E400      2007   \n",
       "2         7700           3850          23100      Dodge        RAM      2007   \n",
       "3         6340           6340          50720  Chevrolet      Tahoe      2014   \n",
       "4         1300            650           4550     Accura        RSX      2009   \n",
       "\n",
       "  fraud_reported  \n",
       "0              Y  \n",
       "1              Y  \n",
       "2              N  \n",
       "3              Y  \n",
       "4              N  \n",
       "\n",
       "[5 rows x 39 columns]"
      ]
     },
     "execution_count": 61,
     "metadata": {},
     "output_type": "execute_result"
    }
   ],
   "source": [
    "df = data_extraction('./data/insurance_claims.csv')\n",
    "df.head()"
   ]
  },
  {
   "cell_type": "code",
   "execution_count": 62,
   "metadata": {},
   "outputs": [
    {
     "data": {
      "text/plain": [
       "(1000, 39)"
      ]
     },
     "execution_count": 62,
     "metadata": {},
     "output_type": "execute_result"
    }
   ],
   "source": [
    "df.shape"
   ]
  },
  {
   "cell_type": "code",
   "execution_count": 63,
   "metadata": {},
   "outputs": [
    {
     "data": {
      "text/plain": [
       "months_as_customer               int64\n",
       "age                              int64\n",
       "policy_number                    int64\n",
       "policy_bind_date                object\n",
       "policy_state                    object\n",
       "policy_csl                      object\n",
       "policy_deductable                int64\n",
       "policy_annual_premium          float64\n",
       "umbrella_limit                   int64\n",
       "insured_zip                      int64\n",
       "insured_sex                     object\n",
       "insured_education_level         object\n",
       "insured_occupation              object\n",
       "insured_hobbies                 object\n",
       "insured_relationship            object\n",
       "capital-gains                    int64\n",
       "capital-loss                     int64\n",
       "incident_date                   object\n",
       "incident_type                   object\n",
       "collision_type                  object\n",
       "incident_severity               object\n",
       "authorities_contacted           object\n",
       "incident_state                  object\n",
       "incident_city                   object\n",
       "incident_location               object\n",
       "incident_hour_of_the_day         int64\n",
       "number_of_vehicles_involved      int64\n",
       "property_damage                 object\n",
       "bodily_injuries                  int64\n",
       "witnesses                        int64\n",
       "police_report_available         object\n",
       "total_claim_amount               int64\n",
       "injury_claim                     int64\n",
       "property_claim                   int64\n",
       "vehicle_claim                    int64\n",
       "auto_make                       object\n",
       "auto_model                      object\n",
       "auto_year                        int64\n",
       "fraud_reported                  object\n",
       "dtype: object"
      ]
     },
     "execution_count": 63,
     "metadata": {},
     "output_type": "execute_result"
    }
   ],
   "source": [
    "df.dtypes"
   ]
  },
  {
   "cell_type": "code",
   "execution_count": 64,
   "metadata": {},
   "outputs": [
    {
     "data": {
      "text/plain": [
       "Index(['months_as_customer', 'age', 'policy_number', 'policy_bind_date',\n",
       "       'policy_state', 'policy_csl', 'policy_deductable',\n",
       "       'policy_annual_premium', 'umbrella_limit', 'insured_zip', 'insured_sex',\n",
       "       'insured_education_level', 'insured_occupation', 'insured_hobbies',\n",
       "       'insured_relationship', 'capital-gains', 'capital-loss',\n",
       "       'incident_date', 'incident_type', 'collision_type', 'incident_severity',\n",
       "       'authorities_contacted', 'incident_state', 'incident_city',\n",
       "       'incident_location', 'incident_hour_of_the_day',\n",
       "       'number_of_vehicles_involved', 'property_damage', 'bodily_injuries',\n",
       "       'witnesses', 'police_report_available', 'total_claim_amount',\n",
       "       'injury_claim', 'property_claim', 'vehicle_claim', 'auto_make',\n",
       "       'auto_model', 'auto_year', 'fraud_reported'],\n",
       "      dtype='object')"
      ]
     },
     "execution_count": 64,
     "metadata": {},
     "output_type": "execute_result"
    }
   ],
   "source": [
    "df.columns"
   ]
  },
  {
   "cell_type": "code",
   "execution_count": 65,
   "metadata": {},
   "outputs": [
    {
     "data": {
      "text/plain": [
       "incident_location          1000\n",
       "policy_bind_date            951\n",
       "incident_date                60\n",
       "auto_model                   39\n",
       "insured_hobbies              20\n",
       "auto_make                    14\n",
       "insured_occupation           14\n",
       "insured_education_level       7\n",
       "incident_city                 7\n",
       "incident_state                7\n",
       "insured_relationship          6\n",
       "authorities_contacted         5\n",
       "collision_type                4\n",
       "incident_severity             4\n",
       "incident_type                 4\n",
       "policy_state                  3\n",
       "property_damage               3\n",
       "police_report_available       3\n",
       "policy_csl                    3\n",
       "insured_sex                   2\n",
       "fraud_reported                2\n",
       "dtype: int64"
      ]
     },
     "execution_count": 65,
     "metadata": {},
     "output_type": "execute_result"
    }
   ],
   "source": [
    "# Viewing categorical columns\n",
    "\n",
    "cat_cols = [col for col in df.columns if col not in df.describe().columns]\n",
    "\n",
    "df[cat_cols].nunique().sort_values(ascending=False)\n"
   ]
  },
  {
   "cell_type": "markdown",
   "metadata": {},
   "source": [
    "# Data Visualization"
   ]
  },
  {
   "cell_type": "markdown",
   "metadata": {},
   "source": [
    "### Pandas profiling to analyze and visualize the dataset"
   ]
  },
  {
   "cell_type": "code",
   "execution_count": 12,
   "metadata": {},
   "outputs": [
    {
     "name": "stderr",
     "output_type": "stream",
     "text": [
      "Summarize dataset: 100%|██████████| 248/248 [00:47<00:00,  5.23it/s, Completed]                                                 \n",
      "Generate report structure: 100%|██████████| 1/1 [00:12<00:00, 12.47s/it]\n",
      "Render HTML: 100%|██████████| 1/1 [00:18<00:00, 18.52s/it]\n",
      "Export report to file: 100%|██████████| 1/1 [00:00<00:00,  6.11it/s]\n"
     ]
    }
   ],
   "source": [
    "prof = pp.ProfileReport(df, title=\"Pandas Profiling Report\")\n",
    "prof.to_file('profile_report.html')\n"
   ]
  },
  {
   "cell_type": "code",
   "execution_count": 66,
   "metadata": {},
   "outputs": [
    {
     "data": {
      "text/plain": [
       "N    753\n",
       "Y    247\n",
       "Name: fraud_reported, dtype: int64"
      ]
     },
     "execution_count": 66,
     "metadata": {},
     "output_type": "execute_result"
    }
   ],
   "source": [
    "df['fraud_reported'].value_counts()"
   ]
  },
  {
   "cell_type": "markdown",
   "metadata": {},
   "source": [
    "### Visualizing the corelation between different numeric variables"
   ]
  },
  {
   "cell_type": "code",
   "execution_count": 67,
   "metadata": {},
   "outputs": [
    {
     "data": {
      "application/vnd.plotly.v1+json": {
       "config": {
        "plotlyServerURL": "https://plot.ly"
       },
       "data": [
        {
         "coloraxis": "coloraxis",
         "hovertemplate": "x: %{x}<br>y: %{y}<br>color: %{z}<extra></extra>",
         "name": "0",
         "texttemplate": "%{z}",
         "type": "heatmap",
         "x": [
          "months_as_customer",
          "age",
          "policy_number",
          "policy_deductable",
          "policy_annual_premium",
          "umbrella_limit",
          "insured_zip",
          "capital-gains",
          "capital-loss",
          "incident_hour_of_the_day",
          "number_of_vehicles_involved",
          "bodily_injuries",
          "witnesses",
          "total_claim_amount",
          "injury_claim",
          "property_claim",
          "vehicle_claim",
          "auto_year"
         ],
         "xaxis": "x",
         "y": [
          "months_as_customer",
          "age",
          "policy_number",
          "policy_deductable",
          "policy_annual_premium",
          "umbrella_limit",
          "insured_zip",
          "capital-gains",
          "capital-loss",
          "incident_hour_of_the_day",
          "number_of_vehicles_involved",
          "bodily_injuries",
          "witnesses",
          "total_claim_amount",
          "injury_claim",
          "property_claim",
          "vehicle_claim",
          "auto_year"
         ],
         "yaxis": "y",
         "z": [
          [
           1,
           0.9220983225789804,
           0.05755503298764638,
           0.02680740256492644,
           0.005017684448634771,
           0.01549843971620093,
           0.01789476100522017,
           0.006399318706054636,
           0.020209212437198525,
           0.07063925305066998,
           0.014735895488254467,
           -0.010161564419988944,
           0.05838278739006184,
           0.06210799657596277,
           0.06532878550954267,
           0.03493981037217865,
           0.06101287878576936,
           -0.00029236541533493186
          ],
          [
           0.9220983225789804,
           1,
           0.05941347834135288,
           0.029187621920511574,
           0.014403733198297861,
           0.018126265491994257,
           0.025604175773753384,
           -0.007075077548562903,
           0.007367735506389647,
           0.08716147803802227,
           0.022102111689942458,
           -0.015679086795352157,
           0.05235872140228032,
           0.06986262577609959,
           0.07552225887201743,
           0.06089752629982788,
           0.06258764198000882,
           0.001353608059067652
          ],
          [
           0.05755503298764638,
           0.05941347834135288,
           1,
           -0.006737531771920814,
           0.02256567609246526,
           0.008967542636962152,
           0.007083205914392949,
           0.009802475318884032,
           -0.005669096583837333,
           0.00011266294229905233,
           0.01343180045743804,
           -0.004558466822736902,
           -0.012661444423098819,
           -0.018009441683099595,
           -0.008761632000269071,
           -0.010678058694566558,
           -0.02018362568894633,
           -0.00018299186471662114
          ],
          [
           0.02680740256492644,
           0.029187621920511574,
           -0.006737531771920814,
           1,
           -0.0032454463760997385,
           0.01086950147235817,
           0.004544834139489226,
           0.03521171886594883,
           -0.023544075563802874,
           0.060935086661888266,
           0.05121441060019419,
           -0.022764582228023855,
           0.0666385202692962,
           0.02283931723945643,
           0.03910677219707252,
           0.06479153061791916,
           0.0052690878676787695,
           0.026104560848340248
          ],
          [
           0.005017684448634771,
           0.014403733198297861,
           0.02256567609246526,
           -0.0032454463760997385,
           1,
           -0.006246803029813733,
           0.032354162695725726,
           -0.013738395122285783,
           0.023546759242612524,
           -0.0015783548688129384,
           -0.045991249650810875,
           0.026779859283615565,
           0.0023316136235754566,
           0.009093729149528005,
           -0.017632685994798523,
           -0.011653879679118656,
           0.020246444007758654,
           -0.04922587585015118
          ],
          [
           0.01549843971620093,
           0.018126265491994257,
           0.008967542636962152,
           0.01086950147235817,
           -0.006246803029813733,
           1,
           0.01967136716201709,
           -0.04726824463685171,
           -0.02405564178860637,
           -0.02325688110831098,
           -0.02127014846610767,
           0.022742613719330767,
           -0.006738319975039304,
           -0.04034408921760288,
           -0.045411623240228294,
           -0.02379030666991932,
           -0.03858426298870231,
           0.00989327378661103
          ],
          [
           0.01789476100522017,
           0.025604175773753384,
           0.007083205914392949,
           0.004544834139489226,
           0.032354162695725726,
           0.01967136716201709,
           1,
           0.006302848314510392,
           0.04937189842504385,
           0.008274120992348491,
           0.027448058257177423,
           0.028695457404241252,
           0.0198052940345807,
           -0.03387335772186119,
           -0.017494816666049528,
           -0.006840626169814875,
           -0.04108348419110516,
           -0.03273570131321153
          ],
          [
           0.006399318706054636,
           -0.007075077548562903,
           0.009802475318884032,
           0.03521171886594883,
           -0.013738395122285783,
           -0.04726824463685171,
           0.006302848314510392,
           1,
           -0.04690444654009023,
           -0.016405612704074396,
           0.06164259934237781,
           0.055829194474678545,
           -0.017651375847817792,
           0.015980468068589083,
           0.025933696371508736,
           -0.0007790445414113306,
           0.015836196466461252,
           0.03139806185259973
          ],
          [
           0.020209212437198525,
           0.007367735506389647,
           -0.005669096583837333,
           -0.023544075563802874,
           0.023546759242612524,
           -0.02405564178860637,
           0.04937189842504385,
           -0.04690444654009023,
           1,
           -0.0250537480514206,
           -0.014894936765822082,
           -0.024418153824373706,
           -0.04132987270040405,
           -0.03606030389185209,
           -0.04605990630975065,
           -0.022863440817917042,
           -0.0326650970430251,
           -0.0566150226554259
          ],
          [
           0.07063925305066998,
           0.08716147803802227,
           0.00011266294229905233,
           0.060935086661888266,
           -0.0015783548688129384,
           -0.02325688110831098,
           0.008274120992348491,
           -0.016405612704074396,
           -0.0250537480514206,
           1,
           0.12079426662323124,
           -0.03456318209998997,
           0.006526916000822264,
           0.2177023870325214,
           0.16576791045002612,
           0.17953586162350574,
           0.2156256330226426,
           0.021367617906016212
          ],
          [
           0.014735895488254467,
           0.022102111689942458,
           0.01343180045743804,
           0.05121441060019419,
           -0.045991249650810875,
           -0.02127014846610767,
           0.027448058257177423,
           0.06164259934237781,
           -0.014894936765822082,
           0.12079426662323124,
           1,
           0.014030113641081456,
           -0.014668684044923516,
           0.27427768265936986,
           0.22464992102091874,
           0.2190841119718898,
           0.2693930380014259,
           0.034553681456766024
          ],
          [
           -0.010161564419988944,
           -0.015679086795352157,
           -0.004558466822736902,
           -0.022764582228023855,
           0.026779859283615565,
           0.022742613719330767,
           0.028695457404241252,
           0.055829194474678545,
           -0.024418153824373706,
           -0.03456318209998997,
           0.014030113641081456,
           1,
           -0.005605558277451288,
           0.047092935143762206,
           0.04731868943801604,
           0.03974936846720905,
           0.04344883187399806,
           -0.020527356530740146
          ],
          [
           0.05838278739006184,
           0.05235872140228032,
           -0.012661444423098819,
           0.0666385202692962,
           0.0023316136235754566,
           -0.006738319975039304,
           0.0198052940345807,
           -0.017651375847817792,
           -0.04132987270040405,
           0.006526916000822264,
           -0.014668684044923516,
           -0.005605558277451288,
           1,
           -0.011114187757315158,
           -0.024843475493272663,
           0.05264034683856342,
           -0.022563874954604178,
           0.04579146108177324
          ],
          [
           0.06210799657596277,
           0.06986262577609959,
           -0.018009441683099595,
           0.02283931723945643,
           0.009093729149528005,
           -0.04034408921760288,
           -0.03387335772186119,
           0.015980468068589083,
           -0.03606030389185209,
           0.2177023870325214,
           0.27427768265936986,
           0.047092935143762206,
           -0.011114187757315158,
           1,
           0.8050253630561807,
           0.810686495122973,
           0.9827731790805576,
           -0.03578093686270485
          ],
          [
           0.06532878550954267,
           0.07552225887201743,
           -0.008761632000269071,
           0.03910677219707252,
           -0.017632685994798523,
           -0.045411623240228294,
           -0.017494816666049528,
           0.025933696371508736,
           -0.04605990630975065,
           0.16576791045002612,
           0.22464992102091874,
           0.04731868943801604,
           -0.024843475493272663,
           0.8050253630561807,
           1,
           0.5638659408577098,
           0.722877814857129,
           -0.013718057474875705
          ],
          [
           0.03493981037217865,
           0.06089752629982788,
           -0.010678058694566558,
           0.06479153061791916,
           -0.011653879679118656,
           -0.02379030666991932,
           -0.006840626169814875,
           -0.0007790445414113306,
           -0.022863440817917042,
           0.17953586162350574,
           0.2190841119718898,
           0.03974936846720905,
           0.05264034683856342,
           0.810686495122973,
           0.5638659408577098,
           1,
           0.7320900444571772,
           -0.014507787063594763
          ],
          [
           0.06101287878576936,
           0.06258764198000882,
           -0.02018362568894633,
           0.0052690878676787695,
           0.020246444007758654,
           -0.03858426298870231,
           -0.04108348419110516,
           0.015836196466461252,
           -0.0326650970430251,
           0.2156256330226426,
           0.2693930380014259,
           0.04344883187399806,
           -0.022563874954604178,
           0.9827731790805576,
           0.722877814857129,
           0.7320900444571772,
           1,
           -0.04276752612754668
          ],
          [
           -0.00029236541533493186,
           0.001353608059067652,
           -0.00018299186471662114,
           0.026104560848340248,
           -0.04922587585015118,
           0.00989327378661103,
           -0.03273570131321153,
           0.03139806185259973,
           -0.0566150226554259,
           0.021367617906016212,
           0.034553681456766024,
           -0.020527356530740146,
           0.04579146108177324,
           -0.03578093686270485,
           -0.013718057474875705,
           -0.014507787063594763,
           -0.04276752612754668,
           1
          ]
         ]
        }
       ],
       "layout": {
        "coloraxis": {
         "colorscale": [
          [
           0,
           "#0d0887"
          ],
          [
           0.1111111111111111,
           "#46039f"
          ],
          [
           0.2222222222222222,
           "#7201a8"
          ],
          [
           0.3333333333333333,
           "#9c179e"
          ],
          [
           0.4444444444444444,
           "#bd3786"
          ],
          [
           0.5555555555555556,
           "#d8576b"
          ],
          [
           0.6666666666666666,
           "#ed7953"
          ],
          [
           0.7777777777777778,
           "#fb9f3a"
          ],
          [
           0.8888888888888888,
           "#fdca26"
          ],
          [
           1,
           "#f0f921"
          ]
         ]
        },
        "margin": {
         "t": 60
        },
        "template": {
         "data": {
          "bar": [
           {
            "error_x": {
             "color": "#2a3f5f"
            },
            "error_y": {
             "color": "#2a3f5f"
            },
            "marker": {
             "line": {
              "color": "#E5ECF6",
              "width": 0.5
             },
             "pattern": {
              "fillmode": "overlay",
              "size": 10,
              "solidity": 0.2
             }
            },
            "type": "bar"
           }
          ],
          "barpolar": [
           {
            "marker": {
             "line": {
              "color": "#E5ECF6",
              "width": 0.5
             },
             "pattern": {
              "fillmode": "overlay",
              "size": 10,
              "solidity": 0.2
             }
            },
            "type": "barpolar"
           }
          ],
          "carpet": [
           {
            "aaxis": {
             "endlinecolor": "#2a3f5f",
             "gridcolor": "white",
             "linecolor": "white",
             "minorgridcolor": "white",
             "startlinecolor": "#2a3f5f"
            },
            "baxis": {
             "endlinecolor": "#2a3f5f",
             "gridcolor": "white",
             "linecolor": "white",
             "minorgridcolor": "white",
             "startlinecolor": "#2a3f5f"
            },
            "type": "carpet"
           }
          ],
          "choropleth": [
           {
            "colorbar": {
             "outlinewidth": 0,
             "ticks": ""
            },
            "type": "choropleth"
           }
          ],
          "contour": [
           {
            "colorbar": {
             "outlinewidth": 0,
             "ticks": ""
            },
            "colorscale": [
             [
              0,
              "#0d0887"
             ],
             [
              0.1111111111111111,
              "#46039f"
             ],
             [
              0.2222222222222222,
              "#7201a8"
             ],
             [
              0.3333333333333333,
              "#9c179e"
             ],
             [
              0.4444444444444444,
              "#bd3786"
             ],
             [
              0.5555555555555556,
              "#d8576b"
             ],
             [
              0.6666666666666666,
              "#ed7953"
             ],
             [
              0.7777777777777778,
              "#fb9f3a"
             ],
             [
              0.8888888888888888,
              "#fdca26"
             ],
             [
              1,
              "#f0f921"
             ]
            ],
            "type": "contour"
           }
          ],
          "contourcarpet": [
           {
            "colorbar": {
             "outlinewidth": 0,
             "ticks": ""
            },
            "type": "contourcarpet"
           }
          ],
          "heatmap": [
           {
            "colorbar": {
             "outlinewidth": 0,
             "ticks": ""
            },
            "colorscale": [
             [
              0,
              "#0d0887"
             ],
             [
              0.1111111111111111,
              "#46039f"
             ],
             [
              0.2222222222222222,
              "#7201a8"
             ],
             [
              0.3333333333333333,
              "#9c179e"
             ],
             [
              0.4444444444444444,
              "#bd3786"
             ],
             [
              0.5555555555555556,
              "#d8576b"
             ],
             [
              0.6666666666666666,
              "#ed7953"
             ],
             [
              0.7777777777777778,
              "#fb9f3a"
             ],
             [
              0.8888888888888888,
              "#fdca26"
             ],
             [
              1,
              "#f0f921"
             ]
            ],
            "type": "heatmap"
           }
          ],
          "heatmapgl": [
           {
            "colorbar": {
             "outlinewidth": 0,
             "ticks": ""
            },
            "colorscale": [
             [
              0,
              "#0d0887"
             ],
             [
              0.1111111111111111,
              "#46039f"
             ],
             [
              0.2222222222222222,
              "#7201a8"
             ],
             [
              0.3333333333333333,
              "#9c179e"
             ],
             [
              0.4444444444444444,
              "#bd3786"
             ],
             [
              0.5555555555555556,
              "#d8576b"
             ],
             [
              0.6666666666666666,
              "#ed7953"
             ],
             [
              0.7777777777777778,
              "#fb9f3a"
             ],
             [
              0.8888888888888888,
              "#fdca26"
             ],
             [
              1,
              "#f0f921"
             ]
            ],
            "type": "heatmapgl"
           }
          ],
          "histogram": [
           {
            "marker": {
             "pattern": {
              "fillmode": "overlay",
              "size": 10,
              "solidity": 0.2
             }
            },
            "type": "histogram"
           }
          ],
          "histogram2d": [
           {
            "colorbar": {
             "outlinewidth": 0,
             "ticks": ""
            },
            "colorscale": [
             [
              0,
              "#0d0887"
             ],
             [
              0.1111111111111111,
              "#46039f"
             ],
             [
              0.2222222222222222,
              "#7201a8"
             ],
             [
              0.3333333333333333,
              "#9c179e"
             ],
             [
              0.4444444444444444,
              "#bd3786"
             ],
             [
              0.5555555555555556,
              "#d8576b"
             ],
             [
              0.6666666666666666,
              "#ed7953"
             ],
             [
              0.7777777777777778,
              "#fb9f3a"
             ],
             [
              0.8888888888888888,
              "#fdca26"
             ],
             [
              1,
              "#f0f921"
             ]
            ],
            "type": "histogram2d"
           }
          ],
          "histogram2dcontour": [
           {
            "colorbar": {
             "outlinewidth": 0,
             "ticks": ""
            },
            "colorscale": [
             [
              0,
              "#0d0887"
             ],
             [
              0.1111111111111111,
              "#46039f"
             ],
             [
              0.2222222222222222,
              "#7201a8"
             ],
             [
              0.3333333333333333,
              "#9c179e"
             ],
             [
              0.4444444444444444,
              "#bd3786"
             ],
             [
              0.5555555555555556,
              "#d8576b"
             ],
             [
              0.6666666666666666,
              "#ed7953"
             ],
             [
              0.7777777777777778,
              "#fb9f3a"
             ],
             [
              0.8888888888888888,
              "#fdca26"
             ],
             [
              1,
              "#f0f921"
             ]
            ],
            "type": "histogram2dcontour"
           }
          ],
          "mesh3d": [
           {
            "colorbar": {
             "outlinewidth": 0,
             "ticks": ""
            },
            "type": "mesh3d"
           }
          ],
          "parcoords": [
           {
            "line": {
             "colorbar": {
              "outlinewidth": 0,
              "ticks": ""
             }
            },
            "type": "parcoords"
           }
          ],
          "pie": [
           {
            "automargin": true,
            "type": "pie"
           }
          ],
          "scatter": [
           {
            "marker": {
             "colorbar": {
              "outlinewidth": 0,
              "ticks": ""
             }
            },
            "type": "scatter"
           }
          ],
          "scatter3d": [
           {
            "line": {
             "colorbar": {
              "outlinewidth": 0,
              "ticks": ""
             }
            },
            "marker": {
             "colorbar": {
              "outlinewidth": 0,
              "ticks": ""
             }
            },
            "type": "scatter3d"
           }
          ],
          "scattercarpet": [
           {
            "marker": {
             "colorbar": {
              "outlinewidth": 0,
              "ticks": ""
             }
            },
            "type": "scattercarpet"
           }
          ],
          "scattergeo": [
           {
            "marker": {
             "colorbar": {
              "outlinewidth": 0,
              "ticks": ""
             }
            },
            "type": "scattergeo"
           }
          ],
          "scattergl": [
           {
            "marker": {
             "colorbar": {
              "outlinewidth": 0,
              "ticks": ""
             }
            },
            "type": "scattergl"
           }
          ],
          "scattermapbox": [
           {
            "marker": {
             "colorbar": {
              "outlinewidth": 0,
              "ticks": ""
             }
            },
            "type": "scattermapbox"
           }
          ],
          "scatterpolar": [
           {
            "marker": {
             "colorbar": {
              "outlinewidth": 0,
              "ticks": ""
             }
            },
            "type": "scatterpolar"
           }
          ],
          "scatterpolargl": [
           {
            "marker": {
             "colorbar": {
              "outlinewidth": 0,
              "ticks": ""
             }
            },
            "type": "scatterpolargl"
           }
          ],
          "scatterternary": [
           {
            "marker": {
             "colorbar": {
              "outlinewidth": 0,
              "ticks": ""
             }
            },
            "type": "scatterternary"
           }
          ],
          "surface": [
           {
            "colorbar": {
             "outlinewidth": 0,
             "ticks": ""
            },
            "colorscale": [
             [
              0,
              "#0d0887"
             ],
             [
              0.1111111111111111,
              "#46039f"
             ],
             [
              0.2222222222222222,
              "#7201a8"
             ],
             [
              0.3333333333333333,
              "#9c179e"
             ],
             [
              0.4444444444444444,
              "#bd3786"
             ],
             [
              0.5555555555555556,
              "#d8576b"
             ],
             [
              0.6666666666666666,
              "#ed7953"
             ],
             [
              0.7777777777777778,
              "#fb9f3a"
             ],
             [
              0.8888888888888888,
              "#fdca26"
             ],
             [
              1,
              "#f0f921"
             ]
            ],
            "type": "surface"
           }
          ],
          "table": [
           {
            "cells": {
             "fill": {
              "color": "#EBF0F8"
             },
             "line": {
              "color": "white"
             }
            },
            "header": {
             "fill": {
              "color": "#C8D4E3"
             },
             "line": {
              "color": "white"
             }
            },
            "type": "table"
           }
          ]
         },
         "layout": {
          "annotationdefaults": {
           "arrowcolor": "#2a3f5f",
           "arrowhead": 0,
           "arrowwidth": 1
          },
          "autotypenumbers": "strict",
          "coloraxis": {
           "colorbar": {
            "outlinewidth": 0,
            "ticks": ""
           }
          },
          "colorscale": {
           "diverging": [
            [
             0,
             "#8e0152"
            ],
            [
             0.1,
             "#c51b7d"
            ],
            [
             0.2,
             "#de77ae"
            ],
            [
             0.3,
             "#f1b6da"
            ],
            [
             0.4,
             "#fde0ef"
            ],
            [
             0.5,
             "#f7f7f7"
            ],
            [
             0.6,
             "#e6f5d0"
            ],
            [
             0.7,
             "#b8e186"
            ],
            [
             0.8,
             "#7fbc41"
            ],
            [
             0.9,
             "#4d9221"
            ],
            [
             1,
             "#276419"
            ]
           ],
           "sequential": [
            [
             0,
             "#0d0887"
            ],
            [
             0.1111111111111111,
             "#46039f"
            ],
            [
             0.2222222222222222,
             "#7201a8"
            ],
            [
             0.3333333333333333,
             "#9c179e"
            ],
            [
             0.4444444444444444,
             "#bd3786"
            ],
            [
             0.5555555555555556,
             "#d8576b"
            ],
            [
             0.6666666666666666,
             "#ed7953"
            ],
            [
             0.7777777777777778,
             "#fb9f3a"
            ],
            [
             0.8888888888888888,
             "#fdca26"
            ],
            [
             1,
             "#f0f921"
            ]
           ],
           "sequentialminus": [
            [
             0,
             "#0d0887"
            ],
            [
             0.1111111111111111,
             "#46039f"
            ],
            [
             0.2222222222222222,
             "#7201a8"
            ],
            [
             0.3333333333333333,
             "#9c179e"
            ],
            [
             0.4444444444444444,
             "#bd3786"
            ],
            [
             0.5555555555555556,
             "#d8576b"
            ],
            [
             0.6666666666666666,
             "#ed7953"
            ],
            [
             0.7777777777777778,
             "#fb9f3a"
            ],
            [
             0.8888888888888888,
             "#fdca26"
            ],
            [
             1,
             "#f0f921"
            ]
           ]
          },
          "colorway": [
           "#636efa",
           "#EF553B",
           "#00cc96",
           "#ab63fa",
           "#FFA15A",
           "#19d3f3",
           "#FF6692",
           "#B6E880",
           "#FF97FF",
           "#FECB52"
          ],
          "font": {
           "color": "#2a3f5f"
          },
          "geo": {
           "bgcolor": "white",
           "lakecolor": "white",
           "landcolor": "#E5ECF6",
           "showlakes": true,
           "showland": true,
           "subunitcolor": "white"
          },
          "hoverlabel": {
           "align": "left"
          },
          "hovermode": "closest",
          "mapbox": {
           "style": "light"
          },
          "paper_bgcolor": "white",
          "plot_bgcolor": "#E5ECF6",
          "polar": {
           "angularaxis": {
            "gridcolor": "white",
            "linecolor": "white",
            "ticks": ""
           },
           "bgcolor": "#E5ECF6",
           "radialaxis": {
            "gridcolor": "white",
            "linecolor": "white",
            "ticks": ""
           }
          },
          "scene": {
           "xaxis": {
            "backgroundcolor": "#E5ECF6",
            "gridcolor": "white",
            "gridwidth": 2,
            "linecolor": "white",
            "showbackground": true,
            "ticks": "",
            "zerolinecolor": "white"
           },
           "yaxis": {
            "backgroundcolor": "#E5ECF6",
            "gridcolor": "white",
            "gridwidth": 2,
            "linecolor": "white",
            "showbackground": true,
            "ticks": "",
            "zerolinecolor": "white"
           },
           "zaxis": {
            "backgroundcolor": "#E5ECF6",
            "gridcolor": "white",
            "gridwidth": 2,
            "linecolor": "white",
            "showbackground": true,
            "ticks": "",
            "zerolinecolor": "white"
           }
          },
          "shapedefaults": {
           "line": {
            "color": "#2a3f5f"
           }
          },
          "ternary": {
           "aaxis": {
            "gridcolor": "white",
            "linecolor": "white",
            "ticks": ""
           },
           "baxis": {
            "gridcolor": "white",
            "linecolor": "white",
            "ticks": ""
           },
           "bgcolor": "#E5ECF6",
           "caxis": {
            "gridcolor": "white",
            "linecolor": "white",
            "ticks": ""
           }
          },
          "title": {
           "x": 0.05
          },
          "xaxis": {
           "automargin": true,
           "gridcolor": "white",
           "linecolor": "white",
           "ticks": "",
           "title": {
            "standoff": 15
           },
           "zerolinecolor": "white",
           "zerolinewidth": 2
          },
          "yaxis": {
           "automargin": true,
           "gridcolor": "white",
           "linecolor": "white",
           "ticks": "",
           "title": {
            "standoff": 15
           },
           "zerolinecolor": "white",
           "zerolinewidth": 2
          }
         }
        },
        "xaxis": {
         "anchor": "y",
         "domain": [
          0,
          1
         ]
        },
        "yaxis": {
         "anchor": "x",
         "autorange": "reversed",
         "domain": [
          0,
          1
         ]
        }
       }
      }
     },
     "metadata": {},
     "output_type": "display_data"
    }
   ],
   "source": [
    "px.imshow(df.corr(),text_auto=True, aspect=\"auto\")"
   ]
  },
  {
   "cell_type": "markdown",
   "metadata": {},
   "source": [
    "### Description of the numeric variables"
   ]
  },
  {
   "cell_type": "code",
   "execution_count": 68,
   "metadata": {},
   "outputs": [
    {
     "data": {
      "text/html": [
       "<div>\n",
       "<style scoped>\n",
       "    .dataframe tbody tr th:only-of-type {\n",
       "        vertical-align: middle;\n",
       "    }\n",
       "\n",
       "    .dataframe tbody tr th {\n",
       "        vertical-align: top;\n",
       "    }\n",
       "\n",
       "    .dataframe thead th {\n",
       "        text-align: right;\n",
       "    }\n",
       "</style>\n",
       "<table border=\"1\" class=\"dataframe\">\n",
       "  <thead>\n",
       "    <tr style=\"text-align: right;\">\n",
       "      <th></th>\n",
       "      <th>count</th>\n",
       "      <th>mean</th>\n",
       "      <th>std</th>\n",
       "      <th>min</th>\n",
       "      <th>25%</th>\n",
       "      <th>50%</th>\n",
       "      <th>75%</th>\n",
       "      <th>max</th>\n",
       "    </tr>\n",
       "  </thead>\n",
       "  <tbody>\n",
       "    <tr>\n",
       "      <th>months_as_customer</th>\n",
       "      <td>1000.0</td>\n",
       "      <td>2.039540e+02</td>\n",
       "      <td>1.151132e+02</td>\n",
       "      <td>0.00</td>\n",
       "      <td>115.7500</td>\n",
       "      <td>199.5</td>\n",
       "      <td>276.250</td>\n",
       "      <td>479.00</td>\n",
       "    </tr>\n",
       "    <tr>\n",
       "      <th>age</th>\n",
       "      <td>1000.0</td>\n",
       "      <td>3.894800e+01</td>\n",
       "      <td>9.140287e+00</td>\n",
       "      <td>19.00</td>\n",
       "      <td>32.0000</td>\n",
       "      <td>38.0</td>\n",
       "      <td>44.000</td>\n",
       "      <td>64.00</td>\n",
       "    </tr>\n",
       "    <tr>\n",
       "      <th>policy_number</th>\n",
       "      <td>1000.0</td>\n",
       "      <td>5.462386e+05</td>\n",
       "      <td>2.570630e+05</td>\n",
       "      <td>100804.00</td>\n",
       "      <td>335980.2500</td>\n",
       "      <td>533135.0</td>\n",
       "      <td>759099.750</td>\n",
       "      <td>999435.00</td>\n",
       "    </tr>\n",
       "    <tr>\n",
       "      <th>policy_deductable</th>\n",
       "      <td>1000.0</td>\n",
       "      <td>1.136000e+03</td>\n",
       "      <td>6.118647e+02</td>\n",
       "      <td>500.00</td>\n",
       "      <td>500.0000</td>\n",
       "      <td>1000.0</td>\n",
       "      <td>2000.000</td>\n",
       "      <td>2000.00</td>\n",
       "    </tr>\n",
       "    <tr>\n",
       "      <th>policy_annual_premium</th>\n",
       "      <td>1000.0</td>\n",
       "      <td>1.256406e+03</td>\n",
       "      <td>2.441674e+02</td>\n",
       "      <td>433.33</td>\n",
       "      <td>1089.6075</td>\n",
       "      <td>1257.2</td>\n",
       "      <td>1415.695</td>\n",
       "      <td>2047.59</td>\n",
       "    </tr>\n",
       "    <tr>\n",
       "      <th>umbrella_limit</th>\n",
       "      <td>1000.0</td>\n",
       "      <td>1.101000e+06</td>\n",
       "      <td>2.297407e+06</td>\n",
       "      <td>-1000000.00</td>\n",
       "      <td>0.0000</td>\n",
       "      <td>0.0</td>\n",
       "      <td>0.000</td>\n",
       "      <td>10000000.00</td>\n",
       "    </tr>\n",
       "    <tr>\n",
       "      <th>insured_zip</th>\n",
       "      <td>1000.0</td>\n",
       "      <td>5.012145e+05</td>\n",
       "      <td>7.170161e+04</td>\n",
       "      <td>430104.00</td>\n",
       "      <td>448404.5000</td>\n",
       "      <td>466445.5</td>\n",
       "      <td>603251.000</td>\n",
       "      <td>620962.00</td>\n",
       "    </tr>\n",
       "    <tr>\n",
       "      <th>capital-gains</th>\n",
       "      <td>1000.0</td>\n",
       "      <td>2.512610e+04</td>\n",
       "      <td>2.787219e+04</td>\n",
       "      <td>0.00</td>\n",
       "      <td>0.0000</td>\n",
       "      <td>0.0</td>\n",
       "      <td>51025.000</td>\n",
       "      <td>100500.00</td>\n",
       "    </tr>\n",
       "    <tr>\n",
       "      <th>capital-loss</th>\n",
       "      <td>1000.0</td>\n",
       "      <td>-2.679370e+04</td>\n",
       "      <td>2.810410e+04</td>\n",
       "      <td>-111100.00</td>\n",
       "      <td>-51500.0000</td>\n",
       "      <td>-23250.0</td>\n",
       "      <td>0.000</td>\n",
       "      <td>0.00</td>\n",
       "    </tr>\n",
       "    <tr>\n",
       "      <th>incident_hour_of_the_day</th>\n",
       "      <td>1000.0</td>\n",
       "      <td>1.164400e+01</td>\n",
       "      <td>6.951373e+00</td>\n",
       "      <td>0.00</td>\n",
       "      <td>6.0000</td>\n",
       "      <td>12.0</td>\n",
       "      <td>17.000</td>\n",
       "      <td>23.00</td>\n",
       "    </tr>\n",
       "    <tr>\n",
       "      <th>number_of_vehicles_involved</th>\n",
       "      <td>1000.0</td>\n",
       "      <td>1.839000e+00</td>\n",
       "      <td>1.018880e+00</td>\n",
       "      <td>1.00</td>\n",
       "      <td>1.0000</td>\n",
       "      <td>1.0</td>\n",
       "      <td>3.000</td>\n",
       "      <td>4.00</td>\n",
       "    </tr>\n",
       "    <tr>\n",
       "      <th>bodily_injuries</th>\n",
       "      <td>1000.0</td>\n",
       "      <td>9.920000e-01</td>\n",
       "      <td>8.201272e-01</td>\n",
       "      <td>0.00</td>\n",
       "      <td>0.0000</td>\n",
       "      <td>1.0</td>\n",
       "      <td>2.000</td>\n",
       "      <td>2.00</td>\n",
       "    </tr>\n",
       "    <tr>\n",
       "      <th>witnesses</th>\n",
       "      <td>1000.0</td>\n",
       "      <td>1.487000e+00</td>\n",
       "      <td>1.111335e+00</td>\n",
       "      <td>0.00</td>\n",
       "      <td>1.0000</td>\n",
       "      <td>1.0</td>\n",
       "      <td>2.000</td>\n",
       "      <td>3.00</td>\n",
       "    </tr>\n",
       "    <tr>\n",
       "      <th>total_claim_amount</th>\n",
       "      <td>1000.0</td>\n",
       "      <td>5.276194e+04</td>\n",
       "      <td>2.640153e+04</td>\n",
       "      <td>100.00</td>\n",
       "      <td>41812.5000</td>\n",
       "      <td>58055.0</td>\n",
       "      <td>70592.500</td>\n",
       "      <td>114920.00</td>\n",
       "    </tr>\n",
       "    <tr>\n",
       "      <th>injury_claim</th>\n",
       "      <td>1000.0</td>\n",
       "      <td>7.433420e+03</td>\n",
       "      <td>4.880952e+03</td>\n",
       "      <td>0.00</td>\n",
       "      <td>4295.0000</td>\n",
       "      <td>6775.0</td>\n",
       "      <td>11305.000</td>\n",
       "      <td>21450.00</td>\n",
       "    </tr>\n",
       "    <tr>\n",
       "      <th>property_claim</th>\n",
       "      <td>1000.0</td>\n",
       "      <td>7.399570e+03</td>\n",
       "      <td>4.824726e+03</td>\n",
       "      <td>0.00</td>\n",
       "      <td>4445.0000</td>\n",
       "      <td>6750.0</td>\n",
       "      <td>10885.000</td>\n",
       "      <td>23670.00</td>\n",
       "    </tr>\n",
       "    <tr>\n",
       "      <th>vehicle_claim</th>\n",
       "      <td>1000.0</td>\n",
       "      <td>3.792895e+04</td>\n",
       "      <td>1.888625e+04</td>\n",
       "      <td>70.00</td>\n",
       "      <td>30292.5000</td>\n",
       "      <td>42100.0</td>\n",
       "      <td>50822.500</td>\n",
       "      <td>79560.00</td>\n",
       "    </tr>\n",
       "    <tr>\n",
       "      <th>auto_year</th>\n",
       "      <td>1000.0</td>\n",
       "      <td>2.005103e+03</td>\n",
       "      <td>6.015861e+00</td>\n",
       "      <td>1995.00</td>\n",
       "      <td>2000.0000</td>\n",
       "      <td>2005.0</td>\n",
       "      <td>2010.000</td>\n",
       "      <td>2015.00</td>\n",
       "    </tr>\n",
       "  </tbody>\n",
       "</table>\n",
       "</div>"
      ],
      "text/plain": [
       "                              count          mean           std         min  \\\n",
       "months_as_customer           1000.0  2.039540e+02  1.151132e+02        0.00   \n",
       "age                          1000.0  3.894800e+01  9.140287e+00       19.00   \n",
       "policy_number                1000.0  5.462386e+05  2.570630e+05   100804.00   \n",
       "policy_deductable            1000.0  1.136000e+03  6.118647e+02      500.00   \n",
       "policy_annual_premium        1000.0  1.256406e+03  2.441674e+02      433.33   \n",
       "umbrella_limit               1000.0  1.101000e+06  2.297407e+06 -1000000.00   \n",
       "insured_zip                  1000.0  5.012145e+05  7.170161e+04   430104.00   \n",
       "capital-gains                1000.0  2.512610e+04  2.787219e+04        0.00   \n",
       "capital-loss                 1000.0 -2.679370e+04  2.810410e+04  -111100.00   \n",
       "incident_hour_of_the_day     1000.0  1.164400e+01  6.951373e+00        0.00   \n",
       "number_of_vehicles_involved  1000.0  1.839000e+00  1.018880e+00        1.00   \n",
       "bodily_injuries              1000.0  9.920000e-01  8.201272e-01        0.00   \n",
       "witnesses                    1000.0  1.487000e+00  1.111335e+00        0.00   \n",
       "total_claim_amount           1000.0  5.276194e+04  2.640153e+04      100.00   \n",
       "injury_claim                 1000.0  7.433420e+03  4.880952e+03        0.00   \n",
       "property_claim               1000.0  7.399570e+03  4.824726e+03        0.00   \n",
       "vehicle_claim                1000.0  3.792895e+04  1.888625e+04       70.00   \n",
       "auto_year                    1000.0  2.005103e+03  6.015861e+00     1995.00   \n",
       "\n",
       "                                     25%       50%         75%          max  \n",
       "months_as_customer              115.7500     199.5     276.250       479.00  \n",
       "age                              32.0000      38.0      44.000        64.00  \n",
       "policy_number                335980.2500  533135.0  759099.750    999435.00  \n",
       "policy_deductable               500.0000    1000.0    2000.000      2000.00  \n",
       "policy_annual_premium          1089.6075    1257.2    1415.695      2047.59  \n",
       "umbrella_limit                    0.0000       0.0       0.000  10000000.00  \n",
       "insured_zip                  448404.5000  466445.5  603251.000    620962.00  \n",
       "capital-gains                     0.0000       0.0   51025.000    100500.00  \n",
       "capital-loss                 -51500.0000  -23250.0       0.000         0.00  \n",
       "incident_hour_of_the_day          6.0000      12.0      17.000        23.00  \n",
       "number_of_vehicles_involved       1.0000       1.0       3.000         4.00  \n",
       "bodily_injuries                   0.0000       1.0       2.000         2.00  \n",
       "witnesses                         1.0000       1.0       2.000         3.00  \n",
       "total_claim_amount            41812.5000   58055.0   70592.500    114920.00  \n",
       "injury_claim                   4295.0000    6775.0   11305.000     21450.00  \n",
       "property_claim                 4445.0000    6750.0   10885.000     23670.00  \n",
       "vehicle_claim                 30292.5000   42100.0   50822.500     79560.00  \n",
       "auto_year                      2000.0000    2005.0    2010.000      2015.00  "
      ]
     },
     "execution_count": 68,
     "metadata": {},
     "output_type": "execute_result"
    }
   ],
   "source": [
    "df.describe().transpose()"
   ]
  },
  {
   "cell_type": "markdown",
   "metadata": {},
   "source": [
    "### Visualization of different categorical variables"
   ]
  },
  {
   "cell_type": "markdown",
   "metadata": {},
   "source": [
    "##### Histograms of each variable v/s their count w.r.t the ouput are visualized "
   ]
  },
  {
   "cell_type": "code",
   "execution_count": 71,
   "metadata": {},
   "outputs": [
    {
     "data": {
      "application/vnd.plotly.v1+json": {
       "config": {
        "plotlyServerURL": "https://plot.ly"
       },
       "data": [
        {
         "alignmentgroup": "True",
         "bingroup": "x",
         "hovertemplate": "fraud_reported=Y<br>policy_state=%{x}<br>count=%{y}<extra></extra>",
         "legendgroup": "Y",
         "marker": {
          "color": "#636efa",
          "pattern": {
           "shape": ""
          }
         },
         "name": "Y",
         "offsetgroup": "Y",
         "orientation": "v",
         "showlegend": true,
         "type": "histogram",
         "x": [
          "OH",
          "IN",
          "IL",
          "OH",
          "OH",
          "IN",
          "IL",
          "IN",
          "OH",
          "IN",
          "IL",
          "OH",
          "IL",
          "IN",
          "IN",
          "OH",
          "IN",
          "OH",
          "OH",
          "IN",
          "IN",
          "OH",
          "OH",
          "OH",
          "IN",
          "IN",
          "IL",
          "IN",
          "IL",
          "OH",
          "IL",
          "IN",
          "IN",
          "IN",
          "OH",
          "IL",
          "IL",
          "OH",
          "IL",
          "IN",
          "IN",
          "OH",
          "IL",
          "IL",
          "OH",
          "IN",
          "OH",
          "OH",
          "OH",
          "OH",
          "OH",
          "OH",
          "OH",
          "IN",
          "IN",
          "OH",
          "OH",
          "IN",
          "OH",
          "IL",
          "OH",
          "IL",
          "IN",
          "IL",
          "IL",
          "IN",
          "OH",
          "OH",
          "OH",
          "OH",
          "OH",
          "OH",
          "OH",
          "IL",
          "OH",
          "IL",
          "IL",
          "OH",
          "IL",
          "IN",
          "OH",
          "IN",
          "IL",
          "IN",
          "OH",
          "IL",
          "IN",
          "OH",
          "IN",
          "IN",
          "IL",
          "IN",
          "IN",
          "IL",
          "IL",
          "IL",
          "IN",
          "IL",
          "IL",
          "IL",
          "IN",
          "IN",
          "OH",
          "OH",
          "IN",
          "IN",
          "OH",
          "OH",
          "OH",
          "IL",
          "IN",
          "IN",
          "OH",
          "IN",
          "OH",
          "IL",
          "OH",
          "OH",
          "IN",
          "IN",
          "IL",
          "OH",
          "IL",
          "OH",
          "IL",
          "IL",
          "OH",
          "IL",
          "IN",
          "IN",
          "OH",
          "OH",
          "IL",
          "OH",
          "IL",
          "IL",
          "IN",
          "OH",
          "IL",
          "IN",
          "OH",
          "IL",
          "IL",
          "IL",
          "OH",
          "IN",
          "OH",
          "OH",
          "OH",
          "OH",
          "IL",
          "IL",
          "IN",
          "IL",
          "OH",
          "IL",
          "IN",
          "OH",
          "IL",
          "IN",
          "IL",
          "OH",
          "OH",
          "OH",
          "IL",
          "IL",
          "IL",
          "OH",
          "IL",
          "OH",
          "IL",
          "OH",
          "IN",
          "IL",
          "OH",
          "IL",
          "OH",
          "IL",
          "IL",
          "IN",
          "OH",
          "OH",
          "OH",
          "IN",
          "OH",
          "OH",
          "IN",
          "OH",
          "IN",
          "IL",
          "IN",
          "IN",
          "IN",
          "IN",
          "IL",
          "IL",
          "IL",
          "IN",
          "IL",
          "IN",
          "IL",
          "IL",
          "IN",
          "IN",
          "IN",
          "IN",
          "IN",
          "OH",
          "OH",
          "IL",
          "IL",
          "OH",
          "IL",
          "IN",
          "IN",
          "OH",
          "IL",
          "IL",
          "OH",
          "OH",
          "IL",
          "OH",
          "IN",
          "OH",
          "OH",
          "IL",
          "IN",
          "OH",
          "OH",
          "IL",
          "IN",
          "IL",
          "IN",
          "IN",
          "OH",
          "IN",
          "IN",
          "IL",
          "IN",
          "OH",
          "OH",
          "IL",
          "IN",
          "IN",
          "IN",
          "IN",
          "IL"
         ],
         "xaxis": "x",
         "yaxis": "y"
        },
        {
         "alignmentgroup": "True",
         "bingroup": "x",
         "hovertemplate": "fraud_reported=N<br>policy_state=%{x}<br>count=%{y}<extra></extra>",
         "legendgroup": "N",
         "marker": {
          "color": "#EF553B",
          "pattern": {
           "shape": ""
          }
         },
         "name": "N",
         "offsetgroup": "N",
         "orientation": "v",
         "showlegend": true,
         "type": "histogram",
         "x": [
          "OH",
          "IL",
          "IN",
          "IL",
          "IL",
          "IL",
          "OH",
          "OH",
          "OH",
          "OH",
          "OH",
          "IN",
          "OH",
          "IN",
          "IN",
          "IL",
          "IN",
          "IN",
          "OH",
          "IL",
          "IL",
          "IL",
          "IL",
          "IL",
          "IL",
          "IN",
          "IL",
          "IL",
          "OH",
          "IL",
          "IL",
          "IN",
          "IN",
          "IL",
          "OH",
          "IL",
          "IN",
          "IN",
          "OH",
          "OH",
          "IN",
          "IN",
          "IL",
          "OH",
          "IL",
          "IL",
          "OH",
          "OH",
          "IN",
          "OH",
          "IN",
          "IL",
          "OH",
          "OH",
          "IN",
          "OH",
          "OH",
          "OH",
          "IL",
          "IN",
          "OH",
          "IL",
          "IL",
          "IL",
          "OH",
          "IL",
          "IN",
          "IL",
          "IL",
          "OH",
          "IL",
          "IN",
          "IL",
          "IL",
          "OH",
          "OH",
          "IL",
          "IN",
          "OH",
          "IL",
          "IN",
          "OH",
          "IL",
          "IL",
          "OH",
          "IL",
          "OH",
          "IL",
          "IN",
          "IL",
          "IN",
          "IN",
          "IN",
          "OH",
          "IL",
          "OH",
          "IL",
          "IL",
          "IL",
          "IL",
          "OH",
          "IL",
          "IN",
          "IL",
          "OH",
          "OH",
          "IL",
          "OH",
          "OH",
          "IN",
          "IN",
          "OH",
          "IN",
          "IN",
          "OH",
          "IL",
          "IN",
          "IL",
          "IL",
          "IN",
          "IL",
          "IL",
          "IN",
          "IL",
          "IN",
          "IN",
          "IL",
          "IN",
          "IL",
          "OH",
          "IL",
          "IN",
          "OH",
          "IL",
          "IN",
          "OH",
          "OH",
          "IN",
          "OH",
          "OH",
          "IL",
          "IL",
          "OH",
          "IL",
          "OH",
          "IL",
          "OH",
          "IN",
          "IL",
          "IL",
          "OH",
          "OH",
          "IN",
          "IN",
          "OH",
          "IN",
          "OH",
          "IL",
          "OH",
          "OH",
          "OH",
          "IL",
          "IL",
          "IN",
          "IN",
          "IL",
          "IL",
          "IL",
          "OH",
          "OH",
          "IN",
          "IL",
          "IN",
          "IN",
          "OH",
          "IN",
          "IL",
          "OH",
          "IL",
          "OH",
          "IL",
          "IL",
          "IN",
          "OH",
          "IL",
          "IL",
          "IL",
          "OH",
          "IN",
          "IL",
          "IL",
          "IN",
          "OH",
          "IN",
          "OH",
          "IL",
          "OH",
          "IL",
          "IN",
          "IN",
          "IL",
          "OH",
          "OH",
          "OH",
          "IL",
          "IN",
          "OH",
          "IN",
          "OH",
          "IL",
          "IL",
          "IN",
          "IL",
          "IL",
          "IL",
          "IN",
          "IL",
          "IL",
          "IL",
          "IL",
          "IN",
          "OH",
          "IL",
          "OH",
          "OH",
          "IL",
          "IL",
          "OH",
          "IN",
          "IL",
          "IL",
          "IN",
          "IL",
          "OH",
          "IL",
          "IL",
          "IN",
          "OH",
          "IN",
          "IL",
          "OH",
          "IL",
          "OH",
          "IL",
          "IN",
          "IN",
          "OH",
          "IL",
          "IN",
          "OH",
          "IN",
          "IL",
          "OH",
          "IN",
          "OH",
          "IN",
          "OH",
          "IL",
          "OH",
          "OH",
          "IN",
          "IL",
          "OH",
          "IL",
          "IN",
          "OH",
          "IL",
          "IL",
          "IL",
          "OH",
          "OH",
          "IN",
          "IN",
          "IL",
          "IL",
          "OH",
          "OH",
          "IN",
          "OH",
          "OH",
          "IL",
          "IN",
          "OH",
          "OH",
          "OH",
          "IN",
          "IN",
          "OH",
          "IN",
          "OH",
          "IL",
          "IN",
          "IN",
          "OH",
          "IN",
          "OH",
          "OH",
          "IN",
          "OH",
          "OH",
          "IL",
          "OH",
          "OH",
          "OH",
          "OH",
          "IN",
          "IL",
          "IN",
          "IN",
          "IN",
          "IN",
          "IL",
          "IN",
          "IN",
          "IN",
          "OH",
          "IL",
          "OH",
          "OH",
          "IL",
          "IL",
          "IN",
          "IN",
          "OH",
          "IN",
          "IN",
          "IN",
          "IL",
          "OH",
          "IL",
          "OH",
          "IN",
          "IL",
          "IL",
          "IL",
          "IL",
          "IN",
          "OH",
          "IN",
          "IL",
          "IL",
          "OH",
          "IL",
          "IN",
          "IL",
          "OH",
          "IL",
          "IL",
          "IL",
          "IL",
          "OH",
          "IL",
          "OH",
          "IL",
          "OH",
          "IN",
          "OH",
          "IN",
          "IL",
          "OH",
          "IL",
          "OH",
          "IN",
          "IN",
          "IL",
          "OH",
          "IN",
          "OH",
          "IN",
          "IL",
          "IL",
          "IL",
          "IL",
          "IL",
          "IN",
          "IL",
          "OH",
          "OH",
          "IL",
          "IL",
          "OH",
          "IN",
          "IL",
          "IL",
          "IN",
          "IL",
          "IN",
          "OH",
          "OH",
          "IL",
          "IL",
          "IN",
          "IL",
          "IL",
          "IN",
          "IL",
          "IN",
          "OH",
          "IL",
          "IL",
          "IN",
          "OH",
          "OH",
          "IL",
          "OH",
          "IN",
          "IN",
          "IN",
          "OH",
          "IN",
          "OH",
          "IL",
          "IL",
          "IN",
          "IL",
          "IN",
          "IN",
          "IN",
          "IN",
          "IN",
          "OH",
          "IN",
          "IN",
          "IL",
          "OH",
          "OH",
          "OH",
          "IN",
          "OH",
          "IN",
          "IL",
          "IL",
          "OH",
          "OH",
          "IL",
          "IL",
          "IN",
          "IN",
          "IL",
          "OH",
          "IN",
          "OH",
          "IN",
          "IL",
          "IL",
          "OH",
          "IN",
          "IN",
          "OH",
          "OH",
          "OH",
          "IN",
          "OH",
          "IL",
          "IN",
          "IL",
          "IL",
          "IN",
          "IL",
          "IL",
          "IL",
          "OH",
          "IL",
          "OH",
          "OH",
          "OH",
          "IN",
          "IL",
          "IN",
          "IN",
          "OH",
          "OH",
          "IL",
          "OH",
          "IL",
          "IL",
          "OH",
          "OH",
          "IL",
          "IL",
          "OH",
          "IN",
          "IL",
          "OH",
          "IN",
          "OH",
          "IN",
          "OH",
          "OH",
          "OH",
          "IL",
          "IN",
          "OH",
          "OH",
          "IL",
          "OH",
          "OH",
          "IN",
          "OH",
          "IN",
          "IL",
          "IN",
          "IL",
          "OH",
          "IL",
          "OH",
          "IN",
          "IL",
          "OH",
          "IN",
          "IL",
          "OH",
          "OH",
          "IN",
          "IL",
          "IN",
          "OH",
          "IL",
          "IN",
          "OH",
          "OH",
          "OH",
          "OH",
          "OH",
          "IN",
          "IL",
          "IN",
          "IL",
          "IL",
          "OH",
          "OH",
          "OH",
          "IN",
          "IN",
          "OH",
          "OH",
          "IL",
          "OH",
          "OH",
          "IN",
          "IN",
          "OH",
          "IN",
          "IN",
          "IL",
          "OH",
          "IL",
          "OH",
          "IN",
          "IN",
          "OH",
          "OH",
          "IL",
          "IL",
          "IL",
          "OH",
          "IL",
          "IL",
          "IN",
          "IN",
          "IL",
          "IL",
          "OH",
          "IN",
          "OH",
          "OH",
          "IN",
          "OH",
          "IL",
          "IL",
          "IL",
          "IL",
          "IL",
          "IN",
          "OH",
          "IN",
          "IL",
          "IN",
          "IN",
          "IN",
          "IL",
          "IN",
          "IN",
          "IN",
          "OH",
          "IL",
          "IL",
          "IN",
          "IN",
          "OH",
          "OH",
          "IN",
          "IL",
          "IN",
          "OH",
          "OH",
          "IN",
          "IL",
          "IN",
          "IN",
          "OH",
          "IN",
          "IN",
          "IN",
          "IL",
          "IL",
          "OH",
          "OH",
          "IL",
          "IN",
          "IL",
          "IL",
          "IN",
          "IL",
          "IN",
          "OH",
          "IN",
          "IL",
          "OH",
          "OH",
          "OH",
          "IL",
          "IN",
          "IN",
          "OH",
          "IN",
          "IN",
          "OH",
          "OH",
          "OH",
          "IN",
          "OH",
          "IN",
          "OH",
          "IL",
          "IN",
          "OH",
          "OH",
          "IN",
          "IN",
          "OH",
          "OH",
          "OH",
          "IL",
          "IN",
          "IL",
          "OH",
          "IL",
          "IL",
          "IN",
          "OH",
          "IN",
          "IN",
          "IL",
          "IN",
          "IN",
          "IN",
          "IL",
          "IL",
          "IL",
          "IL",
          "IL",
          "IN",
          "OH",
          "IL",
          "IN",
          "IL",
          "IL",
          "OH",
          "IN",
          "IN",
          "IL",
          "OH",
          "OH",
          "OH",
          "IN",
          "IL",
          "IN",
          "OH",
          "OH",
          "OH",
          "OH",
          "IN",
          "IL",
          "IN",
          "IL",
          "OH",
          "OH",
          "OH",
          "IL",
          "OH",
          "IL",
          "IL",
          "OH",
          "IN",
          "IL",
          "IN",
          "OH",
          "IL",
          "IL",
          "OH",
          "OH",
          "IN",
          "OH",
          "IL",
          "IN",
          "IN",
          "IL",
          "IL",
          "IL",
          "OH",
          "OH",
          "IL",
          "IN",
          "IN",
          "IN",
          "IN",
          "OH",
          "IN",
          "IL",
          "OH",
          "OH",
          "IL",
          "IN",
          "OH",
          "OH",
          "IL",
          "OH",
          "OH",
          "OH",
          "OH",
          "OH",
          "IN",
          "OH",
          "IN",
          "IN",
          "IL",
          "OH",
          "IL",
          "IN",
          "OH",
          "IN",
          "IN",
          "IL",
          "OH",
          "IN",
          "OH",
          "IN",
          "OH",
          "IL",
          "OH",
          "IL",
          "OH"
         ],
         "xaxis": "x",
         "yaxis": "y"
        }
       ],
       "layout": {
        "barmode": "relative",
        "legend": {
         "title": {
          "text": "fraud_reported"
         },
         "tracegroupgap": 0
        },
        "margin": {
         "t": 60
        },
        "template": {
         "data": {
          "bar": [
           {
            "error_x": {
             "color": "#2a3f5f"
            },
            "error_y": {
             "color": "#2a3f5f"
            },
            "marker": {
             "line": {
              "color": "#E5ECF6",
              "width": 0.5
             },
             "pattern": {
              "fillmode": "overlay",
              "size": 10,
              "solidity": 0.2
             }
            },
            "type": "bar"
           }
          ],
          "barpolar": [
           {
            "marker": {
             "line": {
              "color": "#E5ECF6",
              "width": 0.5
             },
             "pattern": {
              "fillmode": "overlay",
              "size": 10,
              "solidity": 0.2
             }
            },
            "type": "barpolar"
           }
          ],
          "carpet": [
           {
            "aaxis": {
             "endlinecolor": "#2a3f5f",
             "gridcolor": "white",
             "linecolor": "white",
             "minorgridcolor": "white",
             "startlinecolor": "#2a3f5f"
            },
            "baxis": {
             "endlinecolor": "#2a3f5f",
             "gridcolor": "white",
             "linecolor": "white",
             "minorgridcolor": "white",
             "startlinecolor": "#2a3f5f"
            },
            "type": "carpet"
           }
          ],
          "choropleth": [
           {
            "colorbar": {
             "outlinewidth": 0,
             "ticks": ""
            },
            "type": "choropleth"
           }
          ],
          "contour": [
           {
            "colorbar": {
             "outlinewidth": 0,
             "ticks": ""
            },
            "colorscale": [
             [
              0,
              "#0d0887"
             ],
             [
              0.1111111111111111,
              "#46039f"
             ],
             [
              0.2222222222222222,
              "#7201a8"
             ],
             [
              0.3333333333333333,
              "#9c179e"
             ],
             [
              0.4444444444444444,
              "#bd3786"
             ],
             [
              0.5555555555555556,
              "#d8576b"
             ],
             [
              0.6666666666666666,
              "#ed7953"
             ],
             [
              0.7777777777777778,
              "#fb9f3a"
             ],
             [
              0.8888888888888888,
              "#fdca26"
             ],
             [
              1,
              "#f0f921"
             ]
            ],
            "type": "contour"
           }
          ],
          "contourcarpet": [
           {
            "colorbar": {
             "outlinewidth": 0,
             "ticks": ""
            },
            "type": "contourcarpet"
           }
          ],
          "heatmap": [
           {
            "colorbar": {
             "outlinewidth": 0,
             "ticks": ""
            },
            "colorscale": [
             [
              0,
              "#0d0887"
             ],
             [
              0.1111111111111111,
              "#46039f"
             ],
             [
              0.2222222222222222,
              "#7201a8"
             ],
             [
              0.3333333333333333,
              "#9c179e"
             ],
             [
              0.4444444444444444,
              "#bd3786"
             ],
             [
              0.5555555555555556,
              "#d8576b"
             ],
             [
              0.6666666666666666,
              "#ed7953"
             ],
             [
              0.7777777777777778,
              "#fb9f3a"
             ],
             [
              0.8888888888888888,
              "#fdca26"
             ],
             [
              1,
              "#f0f921"
             ]
            ],
            "type": "heatmap"
           }
          ],
          "heatmapgl": [
           {
            "colorbar": {
             "outlinewidth": 0,
             "ticks": ""
            },
            "colorscale": [
             [
              0,
              "#0d0887"
             ],
             [
              0.1111111111111111,
              "#46039f"
             ],
             [
              0.2222222222222222,
              "#7201a8"
             ],
             [
              0.3333333333333333,
              "#9c179e"
             ],
             [
              0.4444444444444444,
              "#bd3786"
             ],
             [
              0.5555555555555556,
              "#d8576b"
             ],
             [
              0.6666666666666666,
              "#ed7953"
             ],
             [
              0.7777777777777778,
              "#fb9f3a"
             ],
             [
              0.8888888888888888,
              "#fdca26"
             ],
             [
              1,
              "#f0f921"
             ]
            ],
            "type": "heatmapgl"
           }
          ],
          "histogram": [
           {
            "marker": {
             "pattern": {
              "fillmode": "overlay",
              "size": 10,
              "solidity": 0.2
             }
            },
            "type": "histogram"
           }
          ],
          "histogram2d": [
           {
            "colorbar": {
             "outlinewidth": 0,
             "ticks": ""
            },
            "colorscale": [
             [
              0,
              "#0d0887"
             ],
             [
              0.1111111111111111,
              "#46039f"
             ],
             [
              0.2222222222222222,
              "#7201a8"
             ],
             [
              0.3333333333333333,
              "#9c179e"
             ],
             [
              0.4444444444444444,
              "#bd3786"
             ],
             [
              0.5555555555555556,
              "#d8576b"
             ],
             [
              0.6666666666666666,
              "#ed7953"
             ],
             [
              0.7777777777777778,
              "#fb9f3a"
             ],
             [
              0.8888888888888888,
              "#fdca26"
             ],
             [
              1,
              "#f0f921"
             ]
            ],
            "type": "histogram2d"
           }
          ],
          "histogram2dcontour": [
           {
            "colorbar": {
             "outlinewidth": 0,
             "ticks": ""
            },
            "colorscale": [
             [
              0,
              "#0d0887"
             ],
             [
              0.1111111111111111,
              "#46039f"
             ],
             [
              0.2222222222222222,
              "#7201a8"
             ],
             [
              0.3333333333333333,
              "#9c179e"
             ],
             [
              0.4444444444444444,
              "#bd3786"
             ],
             [
              0.5555555555555556,
              "#d8576b"
             ],
             [
              0.6666666666666666,
              "#ed7953"
             ],
             [
              0.7777777777777778,
              "#fb9f3a"
             ],
             [
              0.8888888888888888,
              "#fdca26"
             ],
             [
              1,
              "#f0f921"
             ]
            ],
            "type": "histogram2dcontour"
           }
          ],
          "mesh3d": [
           {
            "colorbar": {
             "outlinewidth": 0,
             "ticks": ""
            },
            "type": "mesh3d"
           }
          ],
          "parcoords": [
           {
            "line": {
             "colorbar": {
              "outlinewidth": 0,
              "ticks": ""
             }
            },
            "type": "parcoords"
           }
          ],
          "pie": [
           {
            "automargin": true,
            "type": "pie"
           }
          ],
          "scatter": [
           {
            "marker": {
             "colorbar": {
              "outlinewidth": 0,
              "ticks": ""
             }
            },
            "type": "scatter"
           }
          ],
          "scatter3d": [
           {
            "line": {
             "colorbar": {
              "outlinewidth": 0,
              "ticks": ""
             }
            },
            "marker": {
             "colorbar": {
              "outlinewidth": 0,
              "ticks": ""
             }
            },
            "type": "scatter3d"
           }
          ],
          "scattercarpet": [
           {
            "marker": {
             "colorbar": {
              "outlinewidth": 0,
              "ticks": ""
             }
            },
            "type": "scattercarpet"
           }
          ],
          "scattergeo": [
           {
            "marker": {
             "colorbar": {
              "outlinewidth": 0,
              "ticks": ""
             }
            },
            "type": "scattergeo"
           }
          ],
          "scattergl": [
           {
            "marker": {
             "colorbar": {
              "outlinewidth": 0,
              "ticks": ""
             }
            },
            "type": "scattergl"
           }
          ],
          "scattermapbox": [
           {
            "marker": {
             "colorbar": {
              "outlinewidth": 0,
              "ticks": ""
             }
            },
            "type": "scattermapbox"
           }
          ],
          "scatterpolar": [
           {
            "marker": {
             "colorbar": {
              "outlinewidth": 0,
              "ticks": ""
             }
            },
            "type": "scatterpolar"
           }
          ],
          "scatterpolargl": [
           {
            "marker": {
             "colorbar": {
              "outlinewidth": 0,
              "ticks": ""
             }
            },
            "type": "scatterpolargl"
           }
          ],
          "scatterternary": [
           {
            "marker": {
             "colorbar": {
              "outlinewidth": 0,
              "ticks": ""
             }
            },
            "type": "scatterternary"
           }
          ],
          "surface": [
           {
            "colorbar": {
             "outlinewidth": 0,
             "ticks": ""
            },
            "colorscale": [
             [
              0,
              "#0d0887"
             ],
             [
              0.1111111111111111,
              "#46039f"
             ],
             [
              0.2222222222222222,
              "#7201a8"
             ],
             [
              0.3333333333333333,
              "#9c179e"
             ],
             [
              0.4444444444444444,
              "#bd3786"
             ],
             [
              0.5555555555555556,
              "#d8576b"
             ],
             [
              0.6666666666666666,
              "#ed7953"
             ],
             [
              0.7777777777777778,
              "#fb9f3a"
             ],
             [
              0.8888888888888888,
              "#fdca26"
             ],
             [
              1,
              "#f0f921"
             ]
            ],
            "type": "surface"
           }
          ],
          "table": [
           {
            "cells": {
             "fill": {
              "color": "#EBF0F8"
             },
             "line": {
              "color": "white"
             }
            },
            "header": {
             "fill": {
              "color": "#C8D4E3"
             },
             "line": {
              "color": "white"
             }
            },
            "type": "table"
           }
          ]
         },
         "layout": {
          "annotationdefaults": {
           "arrowcolor": "#2a3f5f",
           "arrowhead": 0,
           "arrowwidth": 1
          },
          "autotypenumbers": "strict",
          "coloraxis": {
           "colorbar": {
            "outlinewidth": 0,
            "ticks": ""
           }
          },
          "colorscale": {
           "diverging": [
            [
             0,
             "#8e0152"
            ],
            [
             0.1,
             "#c51b7d"
            ],
            [
             0.2,
             "#de77ae"
            ],
            [
             0.3,
             "#f1b6da"
            ],
            [
             0.4,
             "#fde0ef"
            ],
            [
             0.5,
             "#f7f7f7"
            ],
            [
             0.6,
             "#e6f5d0"
            ],
            [
             0.7,
             "#b8e186"
            ],
            [
             0.8,
             "#7fbc41"
            ],
            [
             0.9,
             "#4d9221"
            ],
            [
             1,
             "#276419"
            ]
           ],
           "sequential": [
            [
             0,
             "#0d0887"
            ],
            [
             0.1111111111111111,
             "#46039f"
            ],
            [
             0.2222222222222222,
             "#7201a8"
            ],
            [
             0.3333333333333333,
             "#9c179e"
            ],
            [
             0.4444444444444444,
             "#bd3786"
            ],
            [
             0.5555555555555556,
             "#d8576b"
            ],
            [
             0.6666666666666666,
             "#ed7953"
            ],
            [
             0.7777777777777778,
             "#fb9f3a"
            ],
            [
             0.8888888888888888,
             "#fdca26"
            ],
            [
             1,
             "#f0f921"
            ]
           ],
           "sequentialminus": [
            [
             0,
             "#0d0887"
            ],
            [
             0.1111111111111111,
             "#46039f"
            ],
            [
             0.2222222222222222,
             "#7201a8"
            ],
            [
             0.3333333333333333,
             "#9c179e"
            ],
            [
             0.4444444444444444,
             "#bd3786"
            ],
            [
             0.5555555555555556,
             "#d8576b"
            ],
            [
             0.6666666666666666,
             "#ed7953"
            ],
            [
             0.7777777777777778,
             "#fb9f3a"
            ],
            [
             0.8888888888888888,
             "#fdca26"
            ],
            [
             1,
             "#f0f921"
            ]
           ]
          },
          "colorway": [
           "#636efa",
           "#EF553B",
           "#00cc96",
           "#ab63fa",
           "#FFA15A",
           "#19d3f3",
           "#FF6692",
           "#B6E880",
           "#FF97FF",
           "#FECB52"
          ],
          "font": {
           "color": "#2a3f5f"
          },
          "geo": {
           "bgcolor": "white",
           "lakecolor": "white",
           "landcolor": "#E5ECF6",
           "showlakes": true,
           "showland": true,
           "subunitcolor": "white"
          },
          "hoverlabel": {
           "align": "left"
          },
          "hovermode": "closest",
          "mapbox": {
           "style": "light"
          },
          "paper_bgcolor": "white",
          "plot_bgcolor": "#E5ECF6",
          "polar": {
           "angularaxis": {
            "gridcolor": "white",
            "linecolor": "white",
            "ticks": ""
           },
           "bgcolor": "#E5ECF6",
           "radialaxis": {
            "gridcolor": "white",
            "linecolor": "white",
            "ticks": ""
           }
          },
          "scene": {
           "xaxis": {
            "backgroundcolor": "#E5ECF6",
            "gridcolor": "white",
            "gridwidth": 2,
            "linecolor": "white",
            "showbackground": true,
            "ticks": "",
            "zerolinecolor": "white"
           },
           "yaxis": {
            "backgroundcolor": "#E5ECF6",
            "gridcolor": "white",
            "gridwidth": 2,
            "linecolor": "white",
            "showbackground": true,
            "ticks": "",
            "zerolinecolor": "white"
           },
           "zaxis": {
            "backgroundcolor": "#E5ECF6",
            "gridcolor": "white",
            "gridwidth": 2,
            "linecolor": "white",
            "showbackground": true,
            "ticks": "",
            "zerolinecolor": "white"
           }
          },
          "shapedefaults": {
           "line": {
            "color": "#2a3f5f"
           }
          },
          "ternary": {
           "aaxis": {
            "gridcolor": "white",
            "linecolor": "white",
            "ticks": ""
           },
           "baxis": {
            "gridcolor": "white",
            "linecolor": "white",
            "ticks": ""
           },
           "bgcolor": "#E5ECF6",
           "caxis": {
            "gridcolor": "white",
            "linecolor": "white",
            "ticks": ""
           }
          },
          "title": {
           "x": 0.05
          },
          "xaxis": {
           "automargin": true,
           "gridcolor": "white",
           "linecolor": "white",
           "ticks": "",
           "title": {
            "standoff": 15
           },
           "zerolinecolor": "white",
           "zerolinewidth": 2
          },
          "yaxis": {
           "automargin": true,
           "gridcolor": "white",
           "linecolor": "white",
           "ticks": "",
           "title": {
            "standoff": 15
           },
           "zerolinecolor": "white",
           "zerolinewidth": 2
          }
         }
        },
        "xaxis": {
         "anchor": "y",
         "domain": [
          0,
          1
         ],
         "title": {
          "text": "policy_state"
         }
        },
        "yaxis": {
         "anchor": "x",
         "domain": [
          0,
          1
         ],
         "title": {
          "text": "count"
         }
        }
       }
      }
     },
     "metadata": {},
     "output_type": "display_data"
    }
   ],
   "source": [
    "fig = px.histogram(df, x=\"policy_state\", color=\"fraud_reported\")\n",
    "fig.show()"
   ]
  },
  {
   "cell_type": "code",
   "execution_count": 21,
   "metadata": {},
   "outputs": [
    {
     "data": {
      "application/vnd.plotly.v1+json": {
       "config": {
        "plotlyServerURL": "https://plot.ly"
       },
       "data": [
        {
         "alignmentgroup": "True",
         "bingroup": "x",
         "hovertemplate": "fraud_reported=Y<br>policy_csl=%{x}<br>count=%{y}<extra></extra>",
         "legendgroup": "Y",
         "marker": {
          "color": "#636efa",
          "pattern": {
           "shape": ""
          }
         },
         "name": "Y",
         "offsetgroup": "Y",
         "orientation": "v",
         "showlegend": true,
         "type": "histogram",
         "x": [
          "250/500",
          "250/500",
          "250/500",
          "250/500",
          "250/500",
          "100/300",
          "100/300",
          "100/300",
          "100/300",
          "100/300",
          "100/300",
          "100/300",
          "100/300",
          "250/500",
          "250/500",
          "500/1000",
          "100/300",
          "500/1000",
          "250/500",
          "100/300",
          "250/500",
          "100/300",
          "100/300",
          "500/1000",
          "500/1000",
          "100/300",
          "250/500",
          "500/1000",
          "250/500",
          "500/1000",
          "500/1000",
          "500/1000",
          "100/300",
          "100/300",
          "500/1000",
          "500/1000",
          "250/500",
          "100/300",
          "250/500",
          "250/500",
          "250/500",
          "100/300",
          "500/1000",
          "100/300",
          "250/500",
          "250/500",
          "100/300",
          "100/300",
          "500/1000",
          "250/500",
          "250/500",
          "100/300",
          "500/1000",
          "100/300",
          "250/500",
          "100/300",
          "500/1000",
          "100/300",
          "100/300",
          "500/1000",
          "250/500",
          "500/1000",
          "100/300",
          "500/1000",
          "100/300",
          "500/1000",
          "100/300",
          "250/500",
          "250/500",
          "250/500",
          "500/1000",
          "500/1000",
          "250/500",
          "100/300",
          "250/500",
          "250/500",
          "100/300",
          "100/300",
          "100/300",
          "100/300",
          "250/500",
          "250/500",
          "250/500",
          "250/500",
          "100/300",
          "250/500",
          "250/500",
          "100/300",
          "100/300",
          "500/1000",
          "250/500",
          "250/500",
          "250/500",
          "500/1000",
          "100/300",
          "250/500",
          "100/300",
          "100/300",
          "500/1000",
          "100/300",
          "250/500",
          "100/300",
          "100/300",
          "500/1000",
          "100/300",
          "250/500",
          "250/500",
          "100/300",
          "250/500",
          "250/500",
          "500/1000",
          "100/300",
          "500/1000",
          "500/1000",
          "500/1000",
          "100/300",
          "100/300",
          "500/1000",
          "250/500",
          "500/1000",
          "100/300",
          "250/500",
          "100/300",
          "100/300",
          "500/1000",
          "250/500",
          "100/300",
          "500/1000",
          "250/500",
          "500/1000",
          "250/500",
          "250/500",
          "250/500",
          "100/300",
          "250/500",
          "250/500",
          "250/500",
          "250/500",
          "250/500",
          "100/300",
          "100/300",
          "500/1000",
          "100/300",
          "100/300",
          "250/500",
          "100/300",
          "250/500",
          "100/300",
          "500/1000",
          "500/1000",
          "250/500",
          "500/1000",
          "500/1000",
          "100/300",
          "250/500",
          "250/500",
          "500/1000",
          "500/1000",
          "500/1000",
          "250/500",
          "100/300",
          "100/300",
          "100/300",
          "500/1000",
          "250/500",
          "100/300",
          "100/300",
          "500/1000",
          "500/1000",
          "500/1000",
          "100/300",
          "250/500",
          "250/500",
          "250/500",
          "250/500",
          "250/500",
          "250/500",
          "250/500",
          "500/1000",
          "250/500",
          "100/300",
          "100/300",
          "100/300",
          "500/1000",
          "250/500",
          "500/1000",
          "250/500",
          "100/300",
          "500/1000",
          "250/500",
          "100/300",
          "250/500",
          "500/1000",
          "250/500",
          "100/300",
          "100/300",
          "100/300",
          "500/1000",
          "500/1000",
          "100/300",
          "250/500",
          "500/1000",
          "100/300",
          "250/500",
          "250/500",
          "250/500",
          "100/300",
          "500/1000",
          "250/500",
          "250/500",
          "100/300",
          "250/500",
          "500/1000",
          "500/1000",
          "100/300",
          "250/500",
          "250/500",
          "500/1000",
          "500/1000",
          "100/300",
          "100/300",
          "250/500",
          "500/1000",
          "250/500",
          "500/1000",
          "100/300",
          "100/300",
          "500/1000",
          "250/500",
          "250/500",
          "250/500",
          "250/500",
          "100/300",
          "100/300",
          "100/300",
          "250/500",
          "250/500",
          "100/300",
          "500/1000",
          "100/300",
          "250/500",
          "500/1000",
          "100/300",
          "100/300",
          "500/1000",
          "100/300",
          "500/1000"
         ],
         "xaxis": "x",
         "yaxis": "y"
        },
        {
         "alignmentgroup": "True",
         "bingroup": "x",
         "hovertemplate": "fraud_reported=N<br>policy_csl=%{x}<br>count=%{y}<extra></extra>",
         "legendgroup": "N",
         "marker": {
          "color": "#EF553B",
          "pattern": {
           "shape": ""
          }
         },
         "name": "N",
         "offsetgroup": "N",
         "orientation": "v",
         "showlegend": true,
         "type": "histogram",
         "x": [
          "100/300",
          "500/1000",
          "250/500",
          "100/300",
          "100/300",
          "100/300",
          "100/300",
          "100/300",
          "500/1000",
          "100/300",
          "500/1000",
          "500/1000",
          "500/1000",
          "500/1000",
          "250/500",
          "500/1000",
          "100/300",
          "100/300",
          "100/300",
          "500/1000",
          "250/500",
          "500/1000",
          "100/300",
          "500/1000",
          "500/1000",
          "500/1000",
          "100/300",
          "500/1000",
          "250/500",
          "100/300",
          "250/500",
          "100/300",
          "500/1000",
          "100/300",
          "250/500",
          "100/300",
          "100/300",
          "100/300",
          "250/500",
          "100/300",
          "250/500",
          "500/1000",
          "250/500",
          "250/500",
          "500/1000",
          "500/1000",
          "250/500",
          "100/300",
          "500/1000",
          "250/500",
          "100/300",
          "100/300",
          "100/300",
          "500/1000",
          "250/500",
          "500/1000",
          "250/500",
          "500/1000",
          "250/500",
          "250/500",
          "100/300",
          "500/1000",
          "500/1000",
          "500/1000",
          "250/500",
          "250/500",
          "100/300",
          "100/300",
          "100/300",
          "250/500",
          "100/300",
          "100/300",
          "100/300",
          "250/500",
          "100/300",
          "500/1000",
          "100/300",
          "500/1000",
          "250/500",
          "500/1000",
          "100/300",
          "250/500",
          "500/1000",
          "250/500",
          "250/500",
          "500/1000",
          "250/500",
          "100/300",
          "250/500",
          "100/300",
          "500/1000",
          "250/500",
          "250/500",
          "100/300",
          "500/1000",
          "250/500",
          "100/300",
          "250/500",
          "500/1000",
          "250/500",
          "100/300",
          "500/1000",
          "250/500",
          "500/1000",
          "100/300",
          "100/300",
          "100/300",
          "100/300",
          "100/300",
          "250/500",
          "100/300",
          "100/300",
          "500/1000",
          "500/1000",
          "500/1000",
          "250/500",
          "500/1000",
          "500/1000",
          "250/500",
          "250/500",
          "250/500",
          "250/500",
          "250/500",
          "100/300",
          "100/300",
          "100/300",
          "250/500",
          "500/1000",
          "100/300",
          "500/1000",
          "500/1000",
          "250/500",
          "100/300",
          "100/300",
          "250/500",
          "500/1000",
          "250/500",
          "250/500",
          "100/300",
          "500/1000",
          "250/500",
          "500/1000",
          "250/500",
          "250/500",
          "100/300",
          "250/500",
          "250/500",
          "250/500",
          "100/300",
          "250/500",
          "500/1000",
          "500/1000",
          "250/500",
          "250/500",
          "250/500",
          "500/1000",
          "100/300",
          "100/300",
          "250/500",
          "100/300",
          "250/500",
          "500/1000",
          "250/500",
          "100/300",
          "500/1000",
          "250/500",
          "100/300",
          "250/500",
          "100/300",
          "500/1000",
          "250/500",
          "100/300",
          "100/300",
          "100/300",
          "500/1000",
          "500/1000",
          "250/500",
          "500/1000",
          "100/300",
          "250/500",
          "250/500",
          "250/500",
          "250/500",
          "100/300",
          "100/300",
          "250/500",
          "100/300",
          "250/500",
          "500/1000",
          "500/1000",
          "250/500",
          "500/1000",
          "100/300",
          "100/300",
          "250/500",
          "100/300",
          "100/300",
          "500/1000",
          "500/1000",
          "250/500",
          "100/300",
          "250/500",
          "250/500",
          "250/500",
          "500/1000",
          "100/300",
          "100/300",
          "500/1000",
          "100/300",
          "250/500",
          "500/1000",
          "250/500",
          "250/500",
          "100/300",
          "500/1000",
          "250/500",
          "100/300",
          "100/300",
          "100/300",
          "250/500",
          "250/500",
          "500/1000",
          "250/500",
          "100/300",
          "500/1000",
          "250/500",
          "500/1000",
          "500/1000",
          "500/1000",
          "250/500",
          "100/300",
          "250/500",
          "250/500",
          "500/1000",
          "500/1000",
          "100/300",
          "100/300",
          "500/1000",
          "250/500",
          "500/1000",
          "100/300",
          "500/1000",
          "250/500",
          "500/1000",
          "250/500",
          "500/1000",
          "100/300",
          "500/1000",
          "100/300",
          "250/500",
          "500/1000",
          "100/300",
          "500/1000",
          "100/300",
          "100/300",
          "500/1000",
          "100/300",
          "250/500",
          "250/500",
          "500/1000",
          "100/300",
          "250/500",
          "500/1000",
          "500/1000",
          "100/300",
          "500/1000",
          "500/1000",
          "500/1000",
          "250/500",
          "500/1000",
          "100/300",
          "100/300",
          "250/500",
          "500/1000",
          "250/500",
          "500/1000",
          "250/500",
          "500/1000",
          "100/300",
          "500/1000",
          "100/300",
          "250/500",
          "100/300",
          "250/500",
          "250/500",
          "100/300",
          "100/300",
          "250/500",
          "100/300",
          "250/500",
          "500/1000",
          "100/300",
          "100/300",
          "500/1000",
          "500/1000",
          "250/500",
          "250/500",
          "100/300",
          "250/500",
          "250/500",
          "100/300",
          "500/1000",
          "500/1000",
          "500/1000",
          "250/500",
          "500/1000",
          "250/500",
          "100/300",
          "250/500",
          "500/1000",
          "100/300",
          "500/1000",
          "100/300",
          "500/1000",
          "250/500",
          "500/1000",
          "100/300",
          "100/300",
          "250/500",
          "100/300",
          "500/1000",
          "250/500",
          "500/1000",
          "100/300",
          "500/1000",
          "500/1000",
          "250/500",
          "250/500",
          "100/300",
          "100/300",
          "100/300",
          "100/300",
          "500/1000",
          "250/500",
          "250/500",
          "500/1000",
          "100/300",
          "500/1000",
          "500/1000",
          "100/300",
          "100/300",
          "500/1000",
          "500/1000",
          "100/300",
          "250/500",
          "100/300",
          "100/300",
          "500/1000",
          "250/500",
          "100/300",
          "500/1000",
          "100/300",
          "250/500",
          "100/300",
          "100/300",
          "100/300",
          "500/1000",
          "500/1000",
          "100/300",
          "500/1000",
          "100/300",
          "250/500",
          "100/300",
          "100/300",
          "500/1000",
          "500/1000",
          "100/300",
          "500/1000",
          "250/500",
          "100/300",
          "500/1000",
          "100/300",
          "500/1000",
          "100/300",
          "500/1000",
          "500/1000",
          "250/500",
          "500/1000",
          "250/500",
          "100/300",
          "250/500",
          "100/300",
          "250/500",
          "500/1000",
          "100/300",
          "250/500",
          "100/300",
          "100/300",
          "250/500",
          "100/300",
          "100/300",
          "100/300",
          "100/300",
          "500/1000",
          "100/300",
          "100/300",
          "500/1000",
          "100/300",
          "250/500",
          "250/500",
          "250/500",
          "500/1000",
          "250/500",
          "100/300",
          "100/300",
          "250/500",
          "100/300",
          "250/500",
          "250/500",
          "500/1000",
          "100/300",
          "100/300",
          "100/300",
          "500/1000",
          "500/1000",
          "100/300",
          "500/1000",
          "100/300",
          "500/1000",
          "500/1000",
          "100/300",
          "100/300",
          "250/500",
          "250/500",
          "100/300",
          "250/500",
          "500/1000",
          "100/300",
          "100/300",
          "250/500",
          "500/1000",
          "250/500",
          "500/1000",
          "250/500",
          "100/300",
          "500/1000",
          "100/300",
          "250/500",
          "500/1000",
          "100/300",
          "100/300",
          "250/500",
          "100/300",
          "100/300",
          "250/500",
          "250/500",
          "100/300",
          "250/500",
          "100/300",
          "100/300",
          "500/1000",
          "250/500",
          "100/300",
          "250/500",
          "100/300",
          "250/500",
          "250/500",
          "250/500",
          "100/300",
          "250/500",
          "100/300",
          "100/300",
          "100/300",
          "100/300",
          "500/1000",
          "500/1000",
          "100/300",
          "100/300",
          "100/300",
          "500/1000",
          "500/1000",
          "500/1000",
          "500/1000",
          "100/300",
          "500/1000",
          "250/500",
          "500/1000",
          "100/300",
          "500/1000",
          "250/500",
          "100/300",
          "250/500",
          "500/1000",
          "500/1000",
          "100/300",
          "100/300",
          "500/1000",
          "250/500",
          "100/300",
          "500/1000",
          "250/500",
          "100/300",
          "250/500",
          "250/500",
          "100/300",
          "100/300",
          "250/500",
          "500/1000",
          "500/1000",
          "100/300",
          "500/1000",
          "100/300",
          "500/1000",
          "250/500",
          "250/500",
          "100/300",
          "500/1000",
          "500/1000",
          "100/300",
          "100/300",
          "250/500",
          "500/1000",
          "500/1000",
          "250/500",
          "250/500",
          "250/500",
          "100/300",
          "250/500",
          "250/500",
          "250/500",
          "100/300",
          "250/500",
          "250/500",
          "250/500",
          "500/1000",
          "500/1000",
          "500/1000",
          "250/500",
          "500/1000",
          "100/300",
          "500/1000",
          "250/500",
          "250/500",
          "500/1000",
          "100/300",
          "500/1000",
          "250/500",
          "250/500",
          "250/500",
          "250/500",
          "100/300",
          "250/500",
          "250/500",
          "250/500",
          "100/300",
          "100/300",
          "500/1000",
          "500/1000",
          "100/300",
          "250/500",
          "250/500",
          "250/500",
          "500/1000",
          "100/300",
          "100/300",
          "500/1000",
          "100/300",
          "250/500",
          "100/300",
          "100/300",
          "100/300",
          "500/1000",
          "250/500",
          "250/500",
          "250/500",
          "250/500",
          "500/1000",
          "100/300",
          "500/1000",
          "100/300",
          "100/300",
          "100/300",
          "250/500",
          "100/300",
          "500/1000",
          "250/500",
          "250/500",
          "100/300",
          "100/300",
          "100/300",
          "100/300",
          "500/1000",
          "250/500",
          "100/300",
          "500/1000",
          "250/500",
          "500/1000",
          "500/1000",
          "100/300",
          "250/500",
          "100/300",
          "100/300",
          "250/500",
          "250/500",
          "250/500",
          "250/500",
          "500/1000",
          "250/500",
          "250/500",
          "250/500",
          "250/500",
          "500/1000",
          "250/500",
          "250/500",
          "250/500",
          "500/1000",
          "250/500",
          "500/1000",
          "500/1000",
          "250/500",
          "100/300",
          "250/500",
          "250/500",
          "250/500",
          "500/1000",
          "250/500",
          "250/500",
          "100/300",
          "500/1000",
          "250/500",
          "250/500",
          "500/1000",
          "250/500",
          "250/500",
          "250/500",
          "500/1000",
          "100/300",
          "250/500",
          "100/300",
          "500/1000",
          "500/1000",
          "500/1000",
          "100/300",
          "500/1000",
          "250/500",
          "100/300",
          "500/1000",
          "100/300",
          "500/1000",
          "250/500",
          "500/1000",
          "100/300",
          "250/500",
          "500/1000",
          "100/300",
          "500/1000",
          "500/1000",
          "250/500",
          "100/300",
          "100/300",
          "100/300",
          "100/300",
          "500/1000",
          "250/500",
          "500/1000",
          "100/300",
          "500/1000",
          "500/1000",
          "100/300",
          "250/500",
          "250/500",
          "250/500",
          "250/500",
          "500/1000",
          "100/300",
          "100/300",
          "500/1000",
          "500/1000",
          "250/500",
          "100/300",
          "250/500",
          "100/300",
          "250/500",
          "500/1000",
          "250/500",
          "250/500",
          "500/1000",
          "500/1000",
          "500/1000",
          "100/300",
          "250/500",
          "250/500",
          "500/1000",
          "100/300",
          "500/1000",
          "500/1000",
          "500/1000",
          "100/300",
          "250/500",
          "100/300",
          "100/300",
          "250/500",
          "500/1000",
          "250/500",
          "500/1000",
          "250/500",
          "500/1000",
          "500/1000",
          "250/500",
          "500/1000",
          "100/300",
          "250/500",
          "100/300",
          "100/300",
          "500/1000",
          "250/500",
          "250/500",
          "500/1000",
          "250/500",
          "250/500",
          "250/500",
          "100/300",
          "500/1000",
          "500/1000",
          "500/1000",
          "250/500",
          "250/500",
          "250/500",
          "500/1000",
          "100/300",
          "100/300",
          "500/1000",
          "100/300",
          "250/500",
          "500/1000",
          "100/300",
          "100/300",
          "250/500",
          "500/1000",
          "250/500",
          "250/500",
          "500/1000",
          "100/300",
          "500/1000",
          "250/500",
          "500/1000",
          "500/1000",
          "250/500",
          "250/500",
          "250/500",
          "100/300",
          "100/300",
          "250/500",
          "100/300",
          "100/300",
          "100/300",
          "250/500",
          "500/1000",
          "500/1000",
          "100/300",
          "250/500",
          "500/1000",
          "250/500"
         ],
         "xaxis": "x",
         "yaxis": "y"
        }
       ],
       "layout": {
        "barmode": "relative",
        "legend": {
         "title": {
          "text": "fraud_reported"
         },
         "tracegroupgap": 0
        },
        "margin": {
         "t": 60
        },
        "template": {
         "data": {
          "bar": [
           {
            "error_x": {
             "color": "#2a3f5f"
            },
            "error_y": {
             "color": "#2a3f5f"
            },
            "marker": {
             "line": {
              "color": "#E5ECF6",
              "width": 0.5
             },
             "pattern": {
              "fillmode": "overlay",
              "size": 10,
              "solidity": 0.2
             }
            },
            "type": "bar"
           }
          ],
          "barpolar": [
           {
            "marker": {
             "line": {
              "color": "#E5ECF6",
              "width": 0.5
             },
             "pattern": {
              "fillmode": "overlay",
              "size": 10,
              "solidity": 0.2
             }
            },
            "type": "barpolar"
           }
          ],
          "carpet": [
           {
            "aaxis": {
             "endlinecolor": "#2a3f5f",
             "gridcolor": "white",
             "linecolor": "white",
             "minorgridcolor": "white",
             "startlinecolor": "#2a3f5f"
            },
            "baxis": {
             "endlinecolor": "#2a3f5f",
             "gridcolor": "white",
             "linecolor": "white",
             "minorgridcolor": "white",
             "startlinecolor": "#2a3f5f"
            },
            "type": "carpet"
           }
          ],
          "choropleth": [
           {
            "colorbar": {
             "outlinewidth": 0,
             "ticks": ""
            },
            "type": "choropleth"
           }
          ],
          "contour": [
           {
            "colorbar": {
             "outlinewidth": 0,
             "ticks": ""
            },
            "colorscale": [
             [
              0,
              "#0d0887"
             ],
             [
              0.1111111111111111,
              "#46039f"
             ],
             [
              0.2222222222222222,
              "#7201a8"
             ],
             [
              0.3333333333333333,
              "#9c179e"
             ],
             [
              0.4444444444444444,
              "#bd3786"
             ],
             [
              0.5555555555555556,
              "#d8576b"
             ],
             [
              0.6666666666666666,
              "#ed7953"
             ],
             [
              0.7777777777777778,
              "#fb9f3a"
             ],
             [
              0.8888888888888888,
              "#fdca26"
             ],
             [
              1,
              "#f0f921"
             ]
            ],
            "type": "contour"
           }
          ],
          "contourcarpet": [
           {
            "colorbar": {
             "outlinewidth": 0,
             "ticks": ""
            },
            "type": "contourcarpet"
           }
          ],
          "heatmap": [
           {
            "colorbar": {
             "outlinewidth": 0,
             "ticks": ""
            },
            "colorscale": [
             [
              0,
              "#0d0887"
             ],
             [
              0.1111111111111111,
              "#46039f"
             ],
             [
              0.2222222222222222,
              "#7201a8"
             ],
             [
              0.3333333333333333,
              "#9c179e"
             ],
             [
              0.4444444444444444,
              "#bd3786"
             ],
             [
              0.5555555555555556,
              "#d8576b"
             ],
             [
              0.6666666666666666,
              "#ed7953"
             ],
             [
              0.7777777777777778,
              "#fb9f3a"
             ],
             [
              0.8888888888888888,
              "#fdca26"
             ],
             [
              1,
              "#f0f921"
             ]
            ],
            "type": "heatmap"
           }
          ],
          "heatmapgl": [
           {
            "colorbar": {
             "outlinewidth": 0,
             "ticks": ""
            },
            "colorscale": [
             [
              0,
              "#0d0887"
             ],
             [
              0.1111111111111111,
              "#46039f"
             ],
             [
              0.2222222222222222,
              "#7201a8"
             ],
             [
              0.3333333333333333,
              "#9c179e"
             ],
             [
              0.4444444444444444,
              "#bd3786"
             ],
             [
              0.5555555555555556,
              "#d8576b"
             ],
             [
              0.6666666666666666,
              "#ed7953"
             ],
             [
              0.7777777777777778,
              "#fb9f3a"
             ],
             [
              0.8888888888888888,
              "#fdca26"
             ],
             [
              1,
              "#f0f921"
             ]
            ],
            "type": "heatmapgl"
           }
          ],
          "histogram": [
           {
            "marker": {
             "pattern": {
              "fillmode": "overlay",
              "size": 10,
              "solidity": 0.2
             }
            },
            "type": "histogram"
           }
          ],
          "histogram2d": [
           {
            "colorbar": {
             "outlinewidth": 0,
             "ticks": ""
            },
            "colorscale": [
             [
              0,
              "#0d0887"
             ],
             [
              0.1111111111111111,
              "#46039f"
             ],
             [
              0.2222222222222222,
              "#7201a8"
             ],
             [
              0.3333333333333333,
              "#9c179e"
             ],
             [
              0.4444444444444444,
              "#bd3786"
             ],
             [
              0.5555555555555556,
              "#d8576b"
             ],
             [
              0.6666666666666666,
              "#ed7953"
             ],
             [
              0.7777777777777778,
              "#fb9f3a"
             ],
             [
              0.8888888888888888,
              "#fdca26"
             ],
             [
              1,
              "#f0f921"
             ]
            ],
            "type": "histogram2d"
           }
          ],
          "histogram2dcontour": [
           {
            "colorbar": {
             "outlinewidth": 0,
             "ticks": ""
            },
            "colorscale": [
             [
              0,
              "#0d0887"
             ],
             [
              0.1111111111111111,
              "#46039f"
             ],
             [
              0.2222222222222222,
              "#7201a8"
             ],
             [
              0.3333333333333333,
              "#9c179e"
             ],
             [
              0.4444444444444444,
              "#bd3786"
             ],
             [
              0.5555555555555556,
              "#d8576b"
             ],
             [
              0.6666666666666666,
              "#ed7953"
             ],
             [
              0.7777777777777778,
              "#fb9f3a"
             ],
             [
              0.8888888888888888,
              "#fdca26"
             ],
             [
              1,
              "#f0f921"
             ]
            ],
            "type": "histogram2dcontour"
           }
          ],
          "mesh3d": [
           {
            "colorbar": {
             "outlinewidth": 0,
             "ticks": ""
            },
            "type": "mesh3d"
           }
          ],
          "parcoords": [
           {
            "line": {
             "colorbar": {
              "outlinewidth": 0,
              "ticks": ""
             }
            },
            "type": "parcoords"
           }
          ],
          "pie": [
           {
            "automargin": true,
            "type": "pie"
           }
          ],
          "scatter": [
           {
            "marker": {
             "colorbar": {
              "outlinewidth": 0,
              "ticks": ""
             }
            },
            "type": "scatter"
           }
          ],
          "scatter3d": [
           {
            "line": {
             "colorbar": {
              "outlinewidth": 0,
              "ticks": ""
             }
            },
            "marker": {
             "colorbar": {
              "outlinewidth": 0,
              "ticks": ""
             }
            },
            "type": "scatter3d"
           }
          ],
          "scattercarpet": [
           {
            "marker": {
             "colorbar": {
              "outlinewidth": 0,
              "ticks": ""
             }
            },
            "type": "scattercarpet"
           }
          ],
          "scattergeo": [
           {
            "marker": {
             "colorbar": {
              "outlinewidth": 0,
              "ticks": ""
             }
            },
            "type": "scattergeo"
           }
          ],
          "scattergl": [
           {
            "marker": {
             "colorbar": {
              "outlinewidth": 0,
              "ticks": ""
             }
            },
            "type": "scattergl"
           }
          ],
          "scattermapbox": [
           {
            "marker": {
             "colorbar": {
              "outlinewidth": 0,
              "ticks": ""
             }
            },
            "type": "scattermapbox"
           }
          ],
          "scatterpolar": [
           {
            "marker": {
             "colorbar": {
              "outlinewidth": 0,
              "ticks": ""
             }
            },
            "type": "scatterpolar"
           }
          ],
          "scatterpolargl": [
           {
            "marker": {
             "colorbar": {
              "outlinewidth": 0,
              "ticks": ""
             }
            },
            "type": "scatterpolargl"
           }
          ],
          "scatterternary": [
           {
            "marker": {
             "colorbar": {
              "outlinewidth": 0,
              "ticks": ""
             }
            },
            "type": "scatterternary"
           }
          ],
          "surface": [
           {
            "colorbar": {
             "outlinewidth": 0,
             "ticks": ""
            },
            "colorscale": [
             [
              0,
              "#0d0887"
             ],
             [
              0.1111111111111111,
              "#46039f"
             ],
             [
              0.2222222222222222,
              "#7201a8"
             ],
             [
              0.3333333333333333,
              "#9c179e"
             ],
             [
              0.4444444444444444,
              "#bd3786"
             ],
             [
              0.5555555555555556,
              "#d8576b"
             ],
             [
              0.6666666666666666,
              "#ed7953"
             ],
             [
              0.7777777777777778,
              "#fb9f3a"
             ],
             [
              0.8888888888888888,
              "#fdca26"
             ],
             [
              1,
              "#f0f921"
             ]
            ],
            "type": "surface"
           }
          ],
          "table": [
           {
            "cells": {
             "fill": {
              "color": "#EBF0F8"
             },
             "line": {
              "color": "white"
             }
            },
            "header": {
             "fill": {
              "color": "#C8D4E3"
             },
             "line": {
              "color": "white"
             }
            },
            "type": "table"
           }
          ]
         },
         "layout": {
          "annotationdefaults": {
           "arrowcolor": "#2a3f5f",
           "arrowhead": 0,
           "arrowwidth": 1
          },
          "autotypenumbers": "strict",
          "coloraxis": {
           "colorbar": {
            "outlinewidth": 0,
            "ticks": ""
           }
          },
          "colorscale": {
           "diverging": [
            [
             0,
             "#8e0152"
            ],
            [
             0.1,
             "#c51b7d"
            ],
            [
             0.2,
             "#de77ae"
            ],
            [
             0.3,
             "#f1b6da"
            ],
            [
             0.4,
             "#fde0ef"
            ],
            [
             0.5,
             "#f7f7f7"
            ],
            [
             0.6,
             "#e6f5d0"
            ],
            [
             0.7,
             "#b8e186"
            ],
            [
             0.8,
             "#7fbc41"
            ],
            [
             0.9,
             "#4d9221"
            ],
            [
             1,
             "#276419"
            ]
           ],
           "sequential": [
            [
             0,
             "#0d0887"
            ],
            [
             0.1111111111111111,
             "#46039f"
            ],
            [
             0.2222222222222222,
             "#7201a8"
            ],
            [
             0.3333333333333333,
             "#9c179e"
            ],
            [
             0.4444444444444444,
             "#bd3786"
            ],
            [
             0.5555555555555556,
             "#d8576b"
            ],
            [
             0.6666666666666666,
             "#ed7953"
            ],
            [
             0.7777777777777778,
             "#fb9f3a"
            ],
            [
             0.8888888888888888,
             "#fdca26"
            ],
            [
             1,
             "#f0f921"
            ]
           ],
           "sequentialminus": [
            [
             0,
             "#0d0887"
            ],
            [
             0.1111111111111111,
             "#46039f"
            ],
            [
             0.2222222222222222,
             "#7201a8"
            ],
            [
             0.3333333333333333,
             "#9c179e"
            ],
            [
             0.4444444444444444,
             "#bd3786"
            ],
            [
             0.5555555555555556,
             "#d8576b"
            ],
            [
             0.6666666666666666,
             "#ed7953"
            ],
            [
             0.7777777777777778,
             "#fb9f3a"
            ],
            [
             0.8888888888888888,
             "#fdca26"
            ],
            [
             1,
             "#f0f921"
            ]
           ]
          },
          "colorway": [
           "#636efa",
           "#EF553B",
           "#00cc96",
           "#ab63fa",
           "#FFA15A",
           "#19d3f3",
           "#FF6692",
           "#B6E880",
           "#FF97FF",
           "#FECB52"
          ],
          "font": {
           "color": "#2a3f5f"
          },
          "geo": {
           "bgcolor": "white",
           "lakecolor": "white",
           "landcolor": "#E5ECF6",
           "showlakes": true,
           "showland": true,
           "subunitcolor": "white"
          },
          "hoverlabel": {
           "align": "left"
          },
          "hovermode": "closest",
          "mapbox": {
           "style": "light"
          },
          "paper_bgcolor": "white",
          "plot_bgcolor": "#E5ECF6",
          "polar": {
           "angularaxis": {
            "gridcolor": "white",
            "linecolor": "white",
            "ticks": ""
           },
           "bgcolor": "#E5ECF6",
           "radialaxis": {
            "gridcolor": "white",
            "linecolor": "white",
            "ticks": ""
           }
          },
          "scene": {
           "xaxis": {
            "backgroundcolor": "#E5ECF6",
            "gridcolor": "white",
            "gridwidth": 2,
            "linecolor": "white",
            "showbackground": true,
            "ticks": "",
            "zerolinecolor": "white"
           },
           "yaxis": {
            "backgroundcolor": "#E5ECF6",
            "gridcolor": "white",
            "gridwidth": 2,
            "linecolor": "white",
            "showbackground": true,
            "ticks": "",
            "zerolinecolor": "white"
           },
           "zaxis": {
            "backgroundcolor": "#E5ECF6",
            "gridcolor": "white",
            "gridwidth": 2,
            "linecolor": "white",
            "showbackground": true,
            "ticks": "",
            "zerolinecolor": "white"
           }
          },
          "shapedefaults": {
           "line": {
            "color": "#2a3f5f"
           }
          },
          "ternary": {
           "aaxis": {
            "gridcolor": "white",
            "linecolor": "white",
            "ticks": ""
           },
           "baxis": {
            "gridcolor": "white",
            "linecolor": "white",
            "ticks": ""
           },
           "bgcolor": "#E5ECF6",
           "caxis": {
            "gridcolor": "white",
            "linecolor": "white",
            "ticks": ""
           }
          },
          "title": {
           "x": 0.05
          },
          "xaxis": {
           "automargin": true,
           "gridcolor": "white",
           "linecolor": "white",
           "ticks": "",
           "title": {
            "standoff": 15
           },
           "zerolinecolor": "white",
           "zerolinewidth": 2
          },
          "yaxis": {
           "automargin": true,
           "gridcolor": "white",
           "linecolor": "white",
           "ticks": "",
           "title": {
            "standoff": 15
           },
           "zerolinecolor": "white",
           "zerolinewidth": 2
          }
         }
        },
        "xaxis": {
         "anchor": "y",
         "domain": [
          0,
          1
         ],
         "title": {
          "text": "policy_csl"
         }
        },
        "yaxis": {
         "anchor": "x",
         "domain": [
          0,
          1
         ],
         "title": {
          "text": "count"
         }
        }
       }
      }
     },
     "metadata": {},
     "output_type": "display_data"
    }
   ],
   "source": [
    "fig = px.histogram(df, x=\"policy_csl\", color=\"fraud_reported\")\n",
    "fig.show()"
   ]
  },
  {
   "cell_type": "code",
   "execution_count": 24,
   "metadata": {},
   "outputs": [
    {
     "data": {
      "application/vnd.plotly.v1+json": {
       "config": {
        "plotlyServerURL": "https://plot.ly"
       },
       "data": [
        {
         "alignmentgroup": "True",
         "bingroup": "x",
         "hovertemplate": "fraud_reported=Y<br>insured_sex=%{x}<br>count=%{y}<extra></extra>",
         "legendgroup": "Y",
         "marker": {
          "color": "#636efa",
          "pattern": {
           "shape": ""
          }
         },
         "name": "Y",
         "offsetgroup": "Y",
         "orientation": "v",
         "showlegend": true,
         "type": "histogram",
         "x": [
          "MALE",
          "MALE",
          "FEMALE",
          "FEMALE",
          "FEMALE",
          "FEMALE",
          "MALE",
          "MALE",
          "MALE",
          "MALE",
          "MALE",
          "MALE",
          "FEMALE",
          "MALE",
          "MALE",
          "MALE",
          "MALE",
          "MALE",
          "MALE",
          "FEMALE",
          "FEMALE",
          "FEMALE",
          "FEMALE",
          "FEMALE",
          "MALE",
          "FEMALE",
          "FEMALE",
          "FEMALE",
          "MALE",
          "FEMALE",
          "FEMALE",
          "FEMALE",
          "MALE",
          "MALE",
          "MALE",
          "FEMALE",
          "FEMALE",
          "MALE",
          "FEMALE",
          "FEMALE",
          "MALE",
          "FEMALE",
          "MALE",
          "MALE",
          "FEMALE",
          "MALE",
          "FEMALE",
          "MALE",
          "FEMALE",
          "FEMALE",
          "MALE",
          "MALE",
          "MALE",
          "FEMALE",
          "MALE",
          "FEMALE",
          "FEMALE",
          "FEMALE",
          "MALE",
          "FEMALE",
          "MALE",
          "FEMALE",
          "MALE",
          "MALE",
          "FEMALE",
          "FEMALE",
          "FEMALE",
          "FEMALE",
          "MALE",
          "MALE",
          "FEMALE",
          "MALE",
          "FEMALE",
          "MALE",
          "MALE",
          "MALE",
          "MALE",
          "MALE",
          "FEMALE",
          "FEMALE",
          "MALE",
          "FEMALE",
          "FEMALE",
          "MALE",
          "FEMALE",
          "FEMALE",
          "FEMALE",
          "FEMALE",
          "MALE",
          "MALE",
          "MALE",
          "MALE",
          "MALE",
          "FEMALE",
          "FEMALE",
          "MALE",
          "FEMALE",
          "FEMALE",
          "FEMALE",
          "MALE",
          "FEMALE",
          "FEMALE",
          "FEMALE",
          "FEMALE",
          "FEMALE",
          "FEMALE",
          "FEMALE",
          "MALE",
          "MALE",
          "MALE",
          "MALE",
          "FEMALE",
          "FEMALE",
          "MALE",
          "FEMALE",
          "FEMALE",
          "FEMALE",
          "FEMALE",
          "FEMALE",
          "FEMALE",
          "MALE",
          "FEMALE",
          "FEMALE",
          "FEMALE",
          "MALE",
          "MALE",
          "MALE",
          "MALE",
          "MALE",
          "MALE",
          "MALE",
          "FEMALE",
          "MALE",
          "FEMALE",
          "FEMALE",
          "MALE",
          "FEMALE",
          "FEMALE",
          "MALE",
          "MALE",
          "MALE",
          "MALE",
          "MALE",
          "FEMALE",
          "MALE",
          "MALE",
          "MALE",
          "MALE",
          "MALE",
          "MALE",
          "FEMALE",
          "FEMALE",
          "FEMALE",
          "FEMALE",
          "MALE",
          "MALE",
          "FEMALE",
          "FEMALE",
          "MALE",
          "FEMALE",
          "FEMALE",
          "FEMALE",
          "FEMALE",
          "FEMALE",
          "FEMALE",
          "MALE",
          "FEMALE",
          "MALE",
          "MALE",
          "MALE",
          "FEMALE",
          "MALE",
          "MALE",
          "FEMALE",
          "FEMALE",
          "FEMALE",
          "FEMALE",
          "MALE",
          "FEMALE",
          "FEMALE",
          "FEMALE",
          "FEMALE",
          "MALE",
          "MALE",
          "FEMALE",
          "MALE",
          "MALE",
          "FEMALE",
          "MALE",
          "FEMALE",
          "FEMALE",
          "MALE",
          "MALE",
          "MALE",
          "MALE",
          "MALE",
          "MALE",
          "FEMALE",
          "FEMALE",
          "MALE",
          "FEMALE",
          "FEMALE",
          "MALE",
          "FEMALE",
          "MALE",
          "FEMALE",
          "MALE",
          "FEMALE",
          "MALE",
          "MALE",
          "FEMALE",
          "FEMALE",
          "MALE",
          "FEMALE",
          "MALE",
          "MALE",
          "FEMALE",
          "FEMALE",
          "MALE",
          "FEMALE",
          "MALE",
          "FEMALE",
          "MALE",
          "MALE",
          "FEMALE",
          "MALE",
          "MALE",
          "MALE",
          "FEMALE",
          "MALE",
          "FEMALE",
          "MALE",
          "FEMALE",
          "FEMALE",
          "FEMALE",
          "FEMALE",
          "FEMALE",
          "FEMALE",
          "FEMALE",
          "FEMALE",
          "MALE",
          "MALE",
          "FEMALE",
          "MALE",
          "MALE",
          "MALE",
          "MALE"
         ],
         "xaxis": "x",
         "yaxis": "y"
        },
        {
         "alignmentgroup": "True",
         "bingroup": "x",
         "hovertemplate": "fraud_reported=N<br>insured_sex=%{x}<br>count=%{y}<extra></extra>",
         "legendgroup": "N",
         "marker": {
          "color": "#EF553B",
          "pattern": {
           "shape": ""
          }
         },
         "name": "N",
         "offsetgroup": "N",
         "orientation": "v",
         "showlegend": true,
         "type": "histogram",
         "x": [
          "FEMALE",
          "MALE",
          "MALE",
          "MALE",
          "FEMALE",
          "MALE",
          "FEMALE",
          "FEMALE",
          "MALE",
          "FEMALE",
          "MALE",
          "MALE",
          "FEMALE",
          "FEMALE",
          "MALE",
          "FEMALE",
          "MALE",
          "MALE",
          "FEMALE",
          "FEMALE",
          "MALE",
          "FEMALE",
          "MALE",
          "MALE",
          "FEMALE",
          "FEMALE",
          "MALE",
          "FEMALE",
          "FEMALE",
          "MALE",
          "FEMALE",
          "FEMALE",
          "FEMALE",
          "FEMALE",
          "MALE",
          "FEMALE",
          "MALE",
          "FEMALE",
          "MALE",
          "MALE",
          "FEMALE",
          "FEMALE",
          "MALE",
          "FEMALE",
          "MALE",
          "MALE",
          "FEMALE",
          "MALE",
          "MALE",
          "FEMALE",
          "FEMALE",
          "FEMALE",
          "FEMALE",
          "FEMALE",
          "MALE",
          "FEMALE",
          "MALE",
          "FEMALE",
          "MALE",
          "MALE",
          "MALE",
          "FEMALE",
          "FEMALE",
          "FEMALE",
          "FEMALE",
          "MALE",
          "FEMALE",
          "FEMALE",
          "FEMALE",
          "FEMALE",
          "MALE",
          "FEMALE",
          "FEMALE",
          "FEMALE",
          "FEMALE",
          "MALE",
          "MALE",
          "FEMALE",
          "FEMALE",
          "MALE",
          "MALE",
          "MALE",
          "FEMALE",
          "FEMALE",
          "FEMALE",
          "MALE",
          "FEMALE",
          "FEMALE",
          "MALE",
          "MALE",
          "FEMALE",
          "MALE",
          "MALE",
          "FEMALE",
          "FEMALE",
          "MALE",
          "FEMALE",
          "FEMALE",
          "FEMALE",
          "FEMALE",
          "MALE",
          "MALE",
          "MALE",
          "FEMALE",
          "FEMALE",
          "FEMALE",
          "MALE",
          "FEMALE",
          "MALE",
          "FEMALE",
          "MALE",
          "FEMALE",
          "FEMALE",
          "FEMALE",
          "FEMALE",
          "FEMALE",
          "FEMALE",
          "MALE",
          "FEMALE",
          "MALE",
          "MALE",
          "MALE",
          "FEMALE",
          "FEMALE",
          "MALE",
          "MALE",
          "FEMALE",
          "FEMALE",
          "MALE",
          "MALE",
          "FEMALE",
          "FEMALE",
          "MALE",
          "FEMALE",
          "FEMALE",
          "FEMALE",
          "MALE",
          "MALE",
          "FEMALE",
          "MALE",
          "MALE",
          "MALE",
          "FEMALE",
          "MALE",
          "FEMALE",
          "MALE",
          "MALE",
          "FEMALE",
          "MALE",
          "MALE",
          "FEMALE",
          "MALE",
          "MALE",
          "MALE",
          "FEMALE",
          "MALE",
          "MALE",
          "FEMALE",
          "MALE",
          "MALE",
          "FEMALE",
          "FEMALE",
          "MALE",
          "FEMALE",
          "MALE",
          "FEMALE",
          "FEMALE",
          "FEMALE",
          "FEMALE",
          "MALE",
          "FEMALE",
          "MALE",
          "MALE",
          "MALE",
          "FEMALE",
          "FEMALE",
          "FEMALE",
          "FEMALE",
          "FEMALE",
          "MALE",
          "FEMALE",
          "MALE",
          "FEMALE",
          "FEMALE",
          "FEMALE",
          "MALE",
          "FEMALE",
          "FEMALE",
          "MALE",
          "FEMALE",
          "FEMALE",
          "FEMALE",
          "MALE",
          "FEMALE",
          "MALE",
          "FEMALE",
          "FEMALE",
          "FEMALE",
          "FEMALE",
          "MALE",
          "FEMALE",
          "FEMALE",
          "FEMALE",
          "FEMALE",
          "FEMALE",
          "MALE",
          "FEMALE",
          "FEMALE",
          "MALE",
          "MALE",
          "MALE",
          "FEMALE",
          "MALE",
          "FEMALE",
          "FEMALE",
          "MALE",
          "FEMALE",
          "MALE",
          "MALE",
          "MALE",
          "MALE",
          "MALE",
          "MALE",
          "FEMALE",
          "MALE",
          "FEMALE",
          "FEMALE",
          "MALE",
          "FEMALE",
          "FEMALE",
          "FEMALE",
          "MALE",
          "MALE",
          "FEMALE",
          "MALE",
          "FEMALE",
          "MALE",
          "MALE",
          "FEMALE",
          "FEMALE",
          "MALE",
          "FEMALE",
          "MALE",
          "MALE",
          "FEMALE",
          "MALE",
          "FEMALE",
          "MALE",
          "MALE",
          "MALE",
          "FEMALE",
          "MALE",
          "FEMALE",
          "FEMALE",
          "MALE",
          "FEMALE",
          "FEMALE",
          "FEMALE",
          "MALE",
          "MALE",
          "MALE",
          "FEMALE",
          "FEMALE",
          "MALE",
          "MALE",
          "FEMALE",
          "FEMALE",
          "MALE",
          "FEMALE",
          "FEMALE",
          "MALE",
          "MALE",
          "FEMALE",
          "FEMALE",
          "FEMALE",
          "MALE",
          "FEMALE",
          "MALE",
          "MALE",
          "FEMALE",
          "FEMALE",
          "MALE",
          "FEMALE",
          "MALE",
          "FEMALE",
          "MALE",
          "MALE",
          "FEMALE",
          "MALE",
          "FEMALE",
          "MALE",
          "MALE",
          "FEMALE",
          "MALE",
          "FEMALE",
          "MALE",
          "FEMALE",
          "FEMALE",
          "FEMALE",
          "FEMALE",
          "MALE",
          "MALE",
          "FEMALE",
          "FEMALE",
          "FEMALE",
          "MALE",
          "FEMALE",
          "FEMALE",
          "MALE",
          "MALE",
          "FEMALE",
          "MALE",
          "FEMALE",
          "MALE",
          "FEMALE",
          "FEMALE",
          "MALE",
          "MALE",
          "MALE",
          "MALE",
          "FEMALE",
          "MALE",
          "MALE",
          "MALE",
          "FEMALE",
          "FEMALE",
          "FEMALE",
          "MALE",
          "FEMALE",
          "FEMALE",
          "FEMALE",
          "FEMALE",
          "FEMALE",
          "FEMALE",
          "FEMALE",
          "MALE",
          "MALE",
          "FEMALE",
          "FEMALE",
          "MALE",
          "MALE",
          "MALE",
          "FEMALE",
          "FEMALE",
          "FEMALE",
          "FEMALE",
          "FEMALE",
          "MALE",
          "MALE",
          "FEMALE",
          "FEMALE",
          "MALE",
          "FEMALE",
          "MALE",
          "MALE",
          "MALE",
          "MALE",
          "FEMALE",
          "MALE",
          "MALE",
          "FEMALE",
          "MALE",
          "FEMALE",
          "MALE",
          "MALE",
          "MALE",
          "FEMALE",
          "FEMALE",
          "MALE",
          "FEMALE",
          "FEMALE",
          "MALE",
          "FEMALE",
          "MALE",
          "FEMALE",
          "MALE",
          "MALE",
          "FEMALE",
          "MALE",
          "FEMALE",
          "FEMALE",
          "FEMALE",
          "MALE",
          "FEMALE",
          "MALE",
          "FEMALE",
          "MALE",
          "FEMALE",
          "FEMALE",
          "FEMALE",
          "FEMALE",
          "FEMALE",
          "FEMALE",
          "FEMALE",
          "FEMALE",
          "MALE",
          "MALE",
          "FEMALE",
          "MALE",
          "FEMALE",
          "FEMALE",
          "FEMALE",
          "FEMALE",
          "FEMALE",
          "FEMALE",
          "FEMALE",
          "MALE",
          "MALE",
          "MALE",
          "MALE",
          "MALE",
          "FEMALE",
          "FEMALE",
          "MALE",
          "MALE",
          "FEMALE",
          "MALE",
          "FEMALE",
          "FEMALE",
          "FEMALE",
          "FEMALE",
          "FEMALE",
          "MALE",
          "MALE",
          "MALE",
          "FEMALE",
          "FEMALE",
          "MALE",
          "MALE",
          "MALE",
          "MALE",
          "MALE",
          "FEMALE",
          "MALE",
          "FEMALE",
          "MALE",
          "MALE",
          "MALE",
          "FEMALE",
          "FEMALE",
          "FEMALE",
          "MALE",
          "MALE",
          "FEMALE",
          "FEMALE",
          "FEMALE",
          "MALE",
          "FEMALE",
          "MALE",
          "MALE",
          "FEMALE",
          "FEMALE",
          "FEMALE",
          "MALE",
          "MALE",
          "MALE",
          "FEMALE",
          "MALE",
          "MALE",
          "MALE",
          "MALE",
          "MALE",
          "FEMALE",
          "FEMALE",
          "MALE",
          "MALE",
          "FEMALE",
          "MALE",
          "MALE",
          "FEMALE",
          "FEMALE",
          "MALE",
          "FEMALE",
          "MALE",
          "MALE",
          "MALE",
          "FEMALE",
          "FEMALE",
          "FEMALE",
          "MALE",
          "FEMALE",
          "MALE",
          "MALE",
          "MALE",
          "FEMALE",
          "FEMALE",
          "FEMALE",
          "MALE",
          "MALE",
          "FEMALE",
          "MALE",
          "MALE",
          "MALE",
          "FEMALE",
          "FEMALE",
          "FEMALE",
          "MALE",
          "MALE",
          "MALE",
          "FEMALE",
          "MALE",
          "FEMALE",
          "FEMALE",
          "MALE",
          "MALE",
          "MALE",
          "MALE",
          "FEMALE",
          "FEMALE",
          "MALE",
          "MALE",
          "MALE",
          "MALE",
          "FEMALE",
          "MALE",
          "MALE",
          "MALE",
          "FEMALE",
          "MALE",
          "MALE",
          "FEMALE",
          "FEMALE",
          "MALE",
          "FEMALE",
          "FEMALE",
          "MALE",
          "FEMALE",
          "MALE",
          "FEMALE",
          "MALE",
          "MALE",
          "FEMALE",
          "MALE",
          "MALE",
          "MALE",
          "MALE",
          "MALE",
          "FEMALE",
          "MALE",
          "FEMALE",
          "FEMALE",
          "FEMALE",
          "FEMALE",
          "MALE",
          "FEMALE",
          "MALE",
          "FEMALE",
          "FEMALE",
          "MALE",
          "FEMALE",
          "MALE",
          "FEMALE",
          "FEMALE",
          "FEMALE",
          "FEMALE",
          "FEMALE",
          "FEMALE",
          "MALE",
          "MALE",
          "FEMALE",
          "MALE",
          "MALE",
          "MALE",
          "MALE",
          "FEMALE",
          "FEMALE",
          "FEMALE",
          "FEMALE",
          "FEMALE",
          "FEMALE",
          "FEMALE",
          "MALE",
          "FEMALE",
          "MALE",
          "FEMALE",
          "FEMALE",
          "MALE",
          "FEMALE",
          "FEMALE",
          "FEMALE",
          "MALE",
          "FEMALE",
          "FEMALE",
          "FEMALE",
          "FEMALE",
          "MALE",
          "MALE",
          "MALE",
          "FEMALE",
          "MALE",
          "MALE",
          "FEMALE",
          "MALE",
          "MALE",
          "FEMALE",
          "FEMALE",
          "FEMALE",
          "MALE",
          "FEMALE",
          "FEMALE",
          "MALE",
          "MALE",
          "MALE",
          "FEMALE",
          "FEMALE",
          "FEMALE",
          "FEMALE",
          "FEMALE",
          "FEMALE",
          "FEMALE",
          "FEMALE",
          "MALE",
          "MALE",
          "MALE",
          "FEMALE",
          "MALE",
          "FEMALE",
          "FEMALE",
          "FEMALE",
          "FEMALE",
          "FEMALE",
          "FEMALE",
          "FEMALE",
          "FEMALE",
          "MALE",
          "MALE",
          "FEMALE",
          "MALE",
          "FEMALE",
          "MALE",
          "FEMALE",
          "FEMALE",
          "MALE",
          "FEMALE",
          "MALE",
          "MALE",
          "FEMALE",
          "MALE",
          "FEMALE",
          "MALE",
          "MALE",
          "MALE",
          "FEMALE",
          "MALE",
          "FEMALE",
          "FEMALE",
          "FEMALE",
          "FEMALE",
          "FEMALE",
          "FEMALE",
          "FEMALE",
          "FEMALE",
          "FEMALE",
          "FEMALE",
          "FEMALE",
          "FEMALE",
          "MALE",
          "MALE",
          "FEMALE",
          "MALE",
          "MALE",
          "FEMALE",
          "MALE",
          "FEMALE",
          "FEMALE",
          "FEMALE",
          "FEMALE",
          "MALE",
          "MALE",
          "MALE",
          "MALE",
          "FEMALE",
          "FEMALE",
          "FEMALE",
          "MALE",
          "FEMALE",
          "MALE",
          "MALE",
          "FEMALE",
          "MALE",
          "FEMALE",
          "MALE",
          "FEMALE",
          "FEMALE",
          "MALE",
          "MALE",
          "FEMALE",
          "MALE",
          "MALE",
          "MALE",
          "MALE",
          "FEMALE",
          "MALE",
          "FEMALE",
          "FEMALE",
          "FEMALE",
          "MALE",
          "FEMALE",
          "MALE",
          "FEMALE",
          "FEMALE",
          "MALE",
          "FEMALE",
          "FEMALE",
          "FEMALE",
          "FEMALE",
          "FEMALE",
          "MALE",
          "MALE",
          "FEMALE",
          "MALE",
          "FEMALE",
          "FEMALE",
          "FEMALE",
          "FEMALE",
          "MALE",
          "FEMALE",
          "MALE",
          "MALE",
          "FEMALE",
          "MALE",
          "FEMALE",
          "FEMALE",
          "FEMALE",
          "FEMALE",
          "FEMALE",
          "MALE",
          "FEMALE",
          "FEMALE",
          "MALE",
          "MALE",
          "FEMALE",
          "FEMALE",
          "FEMALE",
          "FEMALE",
          "FEMALE",
          "MALE",
          "MALE",
          "FEMALE",
          "MALE",
          "MALE",
          "FEMALE",
          "FEMALE",
          "FEMALE",
          "MALE",
          "MALE",
          "MALE",
          "MALE",
          "FEMALE",
          "FEMALE",
          "FEMALE",
          "MALE",
          "FEMALE"
         ],
         "xaxis": "x",
         "yaxis": "y"
        }
       ],
       "layout": {
        "barmode": "relative",
        "legend": {
         "title": {
          "text": "fraud_reported"
         },
         "tracegroupgap": 0
        },
        "margin": {
         "t": 60
        },
        "template": {
         "data": {
          "bar": [
           {
            "error_x": {
             "color": "#2a3f5f"
            },
            "error_y": {
             "color": "#2a3f5f"
            },
            "marker": {
             "line": {
              "color": "#E5ECF6",
              "width": 0.5
             },
             "pattern": {
              "fillmode": "overlay",
              "size": 10,
              "solidity": 0.2
             }
            },
            "type": "bar"
           }
          ],
          "barpolar": [
           {
            "marker": {
             "line": {
              "color": "#E5ECF6",
              "width": 0.5
             },
             "pattern": {
              "fillmode": "overlay",
              "size": 10,
              "solidity": 0.2
             }
            },
            "type": "barpolar"
           }
          ],
          "carpet": [
           {
            "aaxis": {
             "endlinecolor": "#2a3f5f",
             "gridcolor": "white",
             "linecolor": "white",
             "minorgridcolor": "white",
             "startlinecolor": "#2a3f5f"
            },
            "baxis": {
             "endlinecolor": "#2a3f5f",
             "gridcolor": "white",
             "linecolor": "white",
             "minorgridcolor": "white",
             "startlinecolor": "#2a3f5f"
            },
            "type": "carpet"
           }
          ],
          "choropleth": [
           {
            "colorbar": {
             "outlinewidth": 0,
             "ticks": ""
            },
            "type": "choropleth"
           }
          ],
          "contour": [
           {
            "colorbar": {
             "outlinewidth": 0,
             "ticks": ""
            },
            "colorscale": [
             [
              0,
              "#0d0887"
             ],
             [
              0.1111111111111111,
              "#46039f"
             ],
             [
              0.2222222222222222,
              "#7201a8"
             ],
             [
              0.3333333333333333,
              "#9c179e"
             ],
             [
              0.4444444444444444,
              "#bd3786"
             ],
             [
              0.5555555555555556,
              "#d8576b"
             ],
             [
              0.6666666666666666,
              "#ed7953"
             ],
             [
              0.7777777777777778,
              "#fb9f3a"
             ],
             [
              0.8888888888888888,
              "#fdca26"
             ],
             [
              1,
              "#f0f921"
             ]
            ],
            "type": "contour"
           }
          ],
          "contourcarpet": [
           {
            "colorbar": {
             "outlinewidth": 0,
             "ticks": ""
            },
            "type": "contourcarpet"
           }
          ],
          "heatmap": [
           {
            "colorbar": {
             "outlinewidth": 0,
             "ticks": ""
            },
            "colorscale": [
             [
              0,
              "#0d0887"
             ],
             [
              0.1111111111111111,
              "#46039f"
             ],
             [
              0.2222222222222222,
              "#7201a8"
             ],
             [
              0.3333333333333333,
              "#9c179e"
             ],
             [
              0.4444444444444444,
              "#bd3786"
             ],
             [
              0.5555555555555556,
              "#d8576b"
             ],
             [
              0.6666666666666666,
              "#ed7953"
             ],
             [
              0.7777777777777778,
              "#fb9f3a"
             ],
             [
              0.8888888888888888,
              "#fdca26"
             ],
             [
              1,
              "#f0f921"
             ]
            ],
            "type": "heatmap"
           }
          ],
          "heatmapgl": [
           {
            "colorbar": {
             "outlinewidth": 0,
             "ticks": ""
            },
            "colorscale": [
             [
              0,
              "#0d0887"
             ],
             [
              0.1111111111111111,
              "#46039f"
             ],
             [
              0.2222222222222222,
              "#7201a8"
             ],
             [
              0.3333333333333333,
              "#9c179e"
             ],
             [
              0.4444444444444444,
              "#bd3786"
             ],
             [
              0.5555555555555556,
              "#d8576b"
             ],
             [
              0.6666666666666666,
              "#ed7953"
             ],
             [
              0.7777777777777778,
              "#fb9f3a"
             ],
             [
              0.8888888888888888,
              "#fdca26"
             ],
             [
              1,
              "#f0f921"
             ]
            ],
            "type": "heatmapgl"
           }
          ],
          "histogram": [
           {
            "marker": {
             "pattern": {
              "fillmode": "overlay",
              "size": 10,
              "solidity": 0.2
             }
            },
            "type": "histogram"
           }
          ],
          "histogram2d": [
           {
            "colorbar": {
             "outlinewidth": 0,
             "ticks": ""
            },
            "colorscale": [
             [
              0,
              "#0d0887"
             ],
             [
              0.1111111111111111,
              "#46039f"
             ],
             [
              0.2222222222222222,
              "#7201a8"
             ],
             [
              0.3333333333333333,
              "#9c179e"
             ],
             [
              0.4444444444444444,
              "#bd3786"
             ],
             [
              0.5555555555555556,
              "#d8576b"
             ],
             [
              0.6666666666666666,
              "#ed7953"
             ],
             [
              0.7777777777777778,
              "#fb9f3a"
             ],
             [
              0.8888888888888888,
              "#fdca26"
             ],
             [
              1,
              "#f0f921"
             ]
            ],
            "type": "histogram2d"
           }
          ],
          "histogram2dcontour": [
           {
            "colorbar": {
             "outlinewidth": 0,
             "ticks": ""
            },
            "colorscale": [
             [
              0,
              "#0d0887"
             ],
             [
              0.1111111111111111,
              "#46039f"
             ],
             [
              0.2222222222222222,
              "#7201a8"
             ],
             [
              0.3333333333333333,
              "#9c179e"
             ],
             [
              0.4444444444444444,
              "#bd3786"
             ],
             [
              0.5555555555555556,
              "#d8576b"
             ],
             [
              0.6666666666666666,
              "#ed7953"
             ],
             [
              0.7777777777777778,
              "#fb9f3a"
             ],
             [
              0.8888888888888888,
              "#fdca26"
             ],
             [
              1,
              "#f0f921"
             ]
            ],
            "type": "histogram2dcontour"
           }
          ],
          "mesh3d": [
           {
            "colorbar": {
             "outlinewidth": 0,
             "ticks": ""
            },
            "type": "mesh3d"
           }
          ],
          "parcoords": [
           {
            "line": {
             "colorbar": {
              "outlinewidth": 0,
              "ticks": ""
             }
            },
            "type": "parcoords"
           }
          ],
          "pie": [
           {
            "automargin": true,
            "type": "pie"
           }
          ],
          "scatter": [
           {
            "marker": {
             "colorbar": {
              "outlinewidth": 0,
              "ticks": ""
             }
            },
            "type": "scatter"
           }
          ],
          "scatter3d": [
           {
            "line": {
             "colorbar": {
              "outlinewidth": 0,
              "ticks": ""
             }
            },
            "marker": {
             "colorbar": {
              "outlinewidth": 0,
              "ticks": ""
             }
            },
            "type": "scatter3d"
           }
          ],
          "scattercarpet": [
           {
            "marker": {
             "colorbar": {
              "outlinewidth": 0,
              "ticks": ""
             }
            },
            "type": "scattercarpet"
           }
          ],
          "scattergeo": [
           {
            "marker": {
             "colorbar": {
              "outlinewidth": 0,
              "ticks": ""
             }
            },
            "type": "scattergeo"
           }
          ],
          "scattergl": [
           {
            "marker": {
             "colorbar": {
              "outlinewidth": 0,
              "ticks": ""
             }
            },
            "type": "scattergl"
           }
          ],
          "scattermapbox": [
           {
            "marker": {
             "colorbar": {
              "outlinewidth": 0,
              "ticks": ""
             }
            },
            "type": "scattermapbox"
           }
          ],
          "scatterpolar": [
           {
            "marker": {
             "colorbar": {
              "outlinewidth": 0,
              "ticks": ""
             }
            },
            "type": "scatterpolar"
           }
          ],
          "scatterpolargl": [
           {
            "marker": {
             "colorbar": {
              "outlinewidth": 0,
              "ticks": ""
             }
            },
            "type": "scatterpolargl"
           }
          ],
          "scatterternary": [
           {
            "marker": {
             "colorbar": {
              "outlinewidth": 0,
              "ticks": ""
             }
            },
            "type": "scatterternary"
           }
          ],
          "surface": [
           {
            "colorbar": {
             "outlinewidth": 0,
             "ticks": ""
            },
            "colorscale": [
             [
              0,
              "#0d0887"
             ],
             [
              0.1111111111111111,
              "#46039f"
             ],
             [
              0.2222222222222222,
              "#7201a8"
             ],
             [
              0.3333333333333333,
              "#9c179e"
             ],
             [
              0.4444444444444444,
              "#bd3786"
             ],
             [
              0.5555555555555556,
              "#d8576b"
             ],
             [
              0.6666666666666666,
              "#ed7953"
             ],
             [
              0.7777777777777778,
              "#fb9f3a"
             ],
             [
              0.8888888888888888,
              "#fdca26"
             ],
             [
              1,
              "#f0f921"
             ]
            ],
            "type": "surface"
           }
          ],
          "table": [
           {
            "cells": {
             "fill": {
              "color": "#EBF0F8"
             },
             "line": {
              "color": "white"
             }
            },
            "header": {
             "fill": {
              "color": "#C8D4E3"
             },
             "line": {
              "color": "white"
             }
            },
            "type": "table"
           }
          ]
         },
         "layout": {
          "annotationdefaults": {
           "arrowcolor": "#2a3f5f",
           "arrowhead": 0,
           "arrowwidth": 1
          },
          "autotypenumbers": "strict",
          "coloraxis": {
           "colorbar": {
            "outlinewidth": 0,
            "ticks": ""
           }
          },
          "colorscale": {
           "diverging": [
            [
             0,
             "#8e0152"
            ],
            [
             0.1,
             "#c51b7d"
            ],
            [
             0.2,
             "#de77ae"
            ],
            [
             0.3,
             "#f1b6da"
            ],
            [
             0.4,
             "#fde0ef"
            ],
            [
             0.5,
             "#f7f7f7"
            ],
            [
             0.6,
             "#e6f5d0"
            ],
            [
             0.7,
             "#b8e186"
            ],
            [
             0.8,
             "#7fbc41"
            ],
            [
             0.9,
             "#4d9221"
            ],
            [
             1,
             "#276419"
            ]
           ],
           "sequential": [
            [
             0,
             "#0d0887"
            ],
            [
             0.1111111111111111,
             "#46039f"
            ],
            [
             0.2222222222222222,
             "#7201a8"
            ],
            [
             0.3333333333333333,
             "#9c179e"
            ],
            [
             0.4444444444444444,
             "#bd3786"
            ],
            [
             0.5555555555555556,
             "#d8576b"
            ],
            [
             0.6666666666666666,
             "#ed7953"
            ],
            [
             0.7777777777777778,
             "#fb9f3a"
            ],
            [
             0.8888888888888888,
             "#fdca26"
            ],
            [
             1,
             "#f0f921"
            ]
           ],
           "sequentialminus": [
            [
             0,
             "#0d0887"
            ],
            [
             0.1111111111111111,
             "#46039f"
            ],
            [
             0.2222222222222222,
             "#7201a8"
            ],
            [
             0.3333333333333333,
             "#9c179e"
            ],
            [
             0.4444444444444444,
             "#bd3786"
            ],
            [
             0.5555555555555556,
             "#d8576b"
            ],
            [
             0.6666666666666666,
             "#ed7953"
            ],
            [
             0.7777777777777778,
             "#fb9f3a"
            ],
            [
             0.8888888888888888,
             "#fdca26"
            ],
            [
             1,
             "#f0f921"
            ]
           ]
          },
          "colorway": [
           "#636efa",
           "#EF553B",
           "#00cc96",
           "#ab63fa",
           "#FFA15A",
           "#19d3f3",
           "#FF6692",
           "#B6E880",
           "#FF97FF",
           "#FECB52"
          ],
          "font": {
           "color": "#2a3f5f"
          },
          "geo": {
           "bgcolor": "white",
           "lakecolor": "white",
           "landcolor": "#E5ECF6",
           "showlakes": true,
           "showland": true,
           "subunitcolor": "white"
          },
          "hoverlabel": {
           "align": "left"
          },
          "hovermode": "closest",
          "mapbox": {
           "style": "light"
          },
          "paper_bgcolor": "white",
          "plot_bgcolor": "#E5ECF6",
          "polar": {
           "angularaxis": {
            "gridcolor": "white",
            "linecolor": "white",
            "ticks": ""
           },
           "bgcolor": "#E5ECF6",
           "radialaxis": {
            "gridcolor": "white",
            "linecolor": "white",
            "ticks": ""
           }
          },
          "scene": {
           "xaxis": {
            "backgroundcolor": "#E5ECF6",
            "gridcolor": "white",
            "gridwidth": 2,
            "linecolor": "white",
            "showbackground": true,
            "ticks": "",
            "zerolinecolor": "white"
           },
           "yaxis": {
            "backgroundcolor": "#E5ECF6",
            "gridcolor": "white",
            "gridwidth": 2,
            "linecolor": "white",
            "showbackground": true,
            "ticks": "",
            "zerolinecolor": "white"
           },
           "zaxis": {
            "backgroundcolor": "#E5ECF6",
            "gridcolor": "white",
            "gridwidth": 2,
            "linecolor": "white",
            "showbackground": true,
            "ticks": "",
            "zerolinecolor": "white"
           }
          },
          "shapedefaults": {
           "line": {
            "color": "#2a3f5f"
           }
          },
          "ternary": {
           "aaxis": {
            "gridcolor": "white",
            "linecolor": "white",
            "ticks": ""
           },
           "baxis": {
            "gridcolor": "white",
            "linecolor": "white",
            "ticks": ""
           },
           "bgcolor": "#E5ECF6",
           "caxis": {
            "gridcolor": "white",
            "linecolor": "white",
            "ticks": ""
           }
          },
          "title": {
           "x": 0.05
          },
          "xaxis": {
           "automargin": true,
           "gridcolor": "white",
           "linecolor": "white",
           "ticks": "",
           "title": {
            "standoff": 15
           },
           "zerolinecolor": "white",
           "zerolinewidth": 2
          },
          "yaxis": {
           "automargin": true,
           "gridcolor": "white",
           "linecolor": "white",
           "ticks": "",
           "title": {
            "standoff": 15
           },
           "zerolinecolor": "white",
           "zerolinewidth": 2
          }
         }
        },
        "xaxis": {
         "anchor": "y",
         "domain": [
          0,
          1
         ],
         "title": {
          "text": "insured_sex"
         }
        },
        "yaxis": {
         "anchor": "x",
         "domain": [
          0,
          1
         ],
         "title": {
          "text": "count"
         }
        }
       }
      }
     },
     "metadata": {},
     "output_type": "display_data"
    }
   ],
   "source": [
    "fig = px.histogram(df, x=\"insured_sex\", color=\"fraud_reported\")\n",
    "fig.show()"
   ]
  },
  {
   "cell_type": "code",
   "execution_count": 25,
   "metadata": {},
   "outputs": [
    {
     "data": {
      "application/vnd.plotly.v1+json": {
       "config": {
        "plotlyServerURL": "https://plot.ly"
       },
       "data": [
        {
         "alignmentgroup": "True",
         "bingroup": "x",
         "hovertemplate": "fraud_reported=Y<br>insured_education_level=%{x}<br>count=%{y}<extra></extra>",
         "legendgroup": "Y",
         "marker": {
          "color": "#636efa",
          "pattern": {
           "shape": ""
          }
         },
         "name": "Y",
         "offsetgroup": "Y",
         "orientation": "v",
         "showlegend": true,
         "type": "histogram",
         "x": [
          "MD",
          "MD",
          "PhD",
          "PhD",
          "College",
          "MD",
          "High School",
          "MD",
          "Masters",
          "JD",
          "JD",
          "High School",
          "Masters",
          "JD",
          "Associate",
          "College",
          "PhD",
          "JD",
          "PhD",
          "MD",
          "High School",
          "Associate",
          "MD",
          "PhD",
          "Masters",
          "College",
          "Associate",
          "Associate",
          "Masters",
          "Associate",
          "PhD",
          "Masters",
          "PhD",
          "MD",
          "High School",
          "MD",
          "Masters",
          "College",
          "Masters",
          "College",
          "MD",
          "Associate",
          "Masters",
          "PhD",
          "JD",
          "High School",
          "Masters",
          "Associate",
          "Masters",
          "Associate",
          "High School",
          "JD",
          "JD",
          "High School",
          "MD",
          "College",
          "MD",
          "JD",
          "PhD",
          "MD",
          "College",
          "Associate",
          "JD",
          "MD",
          "College",
          "Associate",
          "JD",
          "Associate",
          "MD",
          "PhD",
          "JD",
          "Associate",
          "PhD",
          "PhD",
          "College",
          "JD",
          "MD",
          "PhD",
          "JD",
          "Associate",
          "PhD",
          "JD",
          "High School",
          "High School",
          "JD",
          "PhD",
          "Associate",
          "PhD",
          "MD",
          "Associate",
          "College",
          "MD",
          "PhD",
          "PhD",
          "JD",
          "College",
          "Associate",
          "MD",
          "Associate",
          "College",
          "Associate",
          "College",
          "Associate",
          "High School",
          "Masters",
          "JD",
          "JD",
          "College",
          "PhD",
          "JD",
          "High School",
          "College",
          "College",
          "Masters",
          "College",
          "Masters",
          "Masters",
          "PhD",
          "PhD",
          "High School",
          "Masters",
          "High School",
          "PhD",
          "JD",
          "JD",
          "High School",
          "MD",
          "Masters",
          "MD",
          "JD",
          "JD",
          "Associate",
          "MD",
          "JD",
          "College",
          "High School",
          "High School",
          "College",
          "High School",
          "MD",
          "MD",
          "Masters",
          "Masters",
          "College",
          "MD",
          "High School",
          "JD",
          "JD",
          "High School",
          "PhD",
          "JD",
          "Associate",
          "JD",
          "JD",
          "High School",
          "JD",
          "JD",
          "MD",
          "High School",
          "JD",
          "High School",
          "MD",
          "High School",
          "PhD",
          "Masters",
          "MD",
          "High School",
          "College",
          "High School",
          "Associate",
          "Masters",
          "High School",
          "College",
          "High School",
          "Masters",
          "MD",
          "Associate",
          "High School",
          "Masters",
          "JD",
          "High School",
          "MD",
          "College",
          "Associate",
          "MD",
          "High School",
          "College",
          "Associate",
          "JD",
          "College",
          "College",
          "PhD",
          "PhD",
          "MD",
          "Masters",
          "College",
          "PhD",
          "College",
          "MD",
          "Associate",
          "College",
          "Associate",
          "Masters",
          "Masters",
          "Associate",
          "Masters",
          "High School",
          "PhD",
          "Masters",
          "JD",
          "PhD",
          "PhD",
          "Masters",
          "Masters",
          "MD",
          "MD",
          "Associate",
          "College",
          "JD",
          "Associate",
          "MD",
          "PhD",
          "MD",
          "MD",
          "Associate",
          "High School",
          "Associate",
          "Masters",
          "High School",
          "High School",
          "Masters",
          "Masters",
          "JD",
          "JD",
          "JD",
          "PhD",
          "MD",
          "JD",
          "High School",
          "Associate",
          "College",
          "PhD",
          "JD",
          "Associate",
          "High School",
          "College",
          "JD"
         ],
         "xaxis": "x",
         "yaxis": "y"
        },
        {
         "alignmentgroup": "True",
         "bingroup": "x",
         "hovertemplate": "fraud_reported=N<br>insured_education_level=%{x}<br>count=%{y}<extra></extra>",
         "legendgroup": "N",
         "marker": {
          "color": "#EF553B",
          "pattern": {
           "shape": ""
          }
         },
         "name": "N",
         "offsetgroup": "N",
         "orientation": "v",
         "showlegend": true,
         "type": "histogram",
         "x": [
          "PhD",
          "Associate",
          "PhD",
          "Associate",
          "PhD",
          "PhD",
          "Masters",
          "High School",
          "MD",
          "MD",
          "College",
          "High School",
          "MD",
          "High School",
          "JD",
          "Associate",
          "College",
          "High School",
          "JD",
          "PhD",
          "Masters",
          "Associate",
          "High School",
          "PhD",
          "JD",
          "MD",
          "Associate",
          "College",
          "PhD",
          "JD",
          "MD",
          "Associate",
          "PhD",
          "Masters",
          "MD",
          "JD",
          "College",
          "JD",
          "PhD",
          "PhD",
          "PhD",
          "Masters",
          "PhD",
          "MD",
          "JD",
          "High School",
          "Associate",
          "MD",
          "MD",
          "Associate",
          "College",
          "Associate",
          "High School",
          "College",
          "College",
          "JD",
          "High School",
          "Masters",
          "Masters",
          "High School",
          "High School",
          "Associate",
          "MD",
          "College",
          "High School",
          "PhD",
          "MD",
          "High School",
          "PhD",
          "College",
          "College",
          "College",
          "College",
          "JD",
          "Associate",
          "College",
          "College",
          "High School",
          "College",
          "High School",
          "MD",
          "Associate",
          "PhD",
          "PhD",
          "Associate",
          "High School",
          "College",
          "JD",
          "JD",
          "MD",
          "High School",
          "JD",
          "Masters",
          "Masters",
          "High School",
          "PhD",
          "High School",
          "PhD",
          "High School",
          "MD",
          "Masters",
          "Masters",
          "PhD",
          "JD",
          "MD",
          "PhD",
          "Masters",
          "Masters",
          "JD",
          "JD",
          "Masters",
          "JD",
          "Associate",
          "MD",
          "MD",
          "Masters",
          "PhD",
          "High School",
          "Masters",
          "High School",
          "Associate",
          "College",
          "MD",
          "PhD",
          "MD",
          "Masters",
          "PhD",
          "Masters",
          "MD",
          "Associate",
          "Masters",
          "Masters",
          "Masters",
          "JD",
          "JD",
          "High School",
          "Associate",
          "JD",
          "MD",
          "High School",
          "MD",
          "High School",
          "MD",
          "Masters",
          "College",
          "PhD",
          "PhD",
          "High School",
          "PhD",
          "JD",
          "Masters",
          "Masters",
          "JD",
          "Associate",
          "High School",
          "High School",
          "High School",
          "High School",
          "Masters",
          "College",
          "College",
          "High School",
          "Associate",
          "Associate",
          "Masters",
          "High School",
          "MD",
          "MD",
          "High School",
          "JD",
          "Masters",
          "MD",
          "Masters",
          "JD",
          "Associate",
          "Masters",
          "MD",
          "JD",
          "College",
          "Associate",
          "JD",
          "Masters",
          "High School",
          "High School",
          "High School",
          "Associate",
          "MD",
          "Masters",
          "Masters",
          "MD",
          "High School",
          "JD",
          "Associate",
          "Associate",
          "College",
          "Associate",
          "JD",
          "Masters",
          "Associate",
          "Associate",
          "College",
          "JD",
          "PhD",
          "MD",
          "High School",
          "JD",
          "Associate",
          "College",
          "Associate",
          "College",
          "High School",
          "Associate",
          "College",
          "College",
          "MD",
          "High School",
          "Masters",
          "Associate",
          "College",
          "JD",
          "High School",
          "Associate",
          "Masters",
          "Associate",
          "PhD",
          "Masters",
          "MD",
          "High School",
          "Associate",
          "High School",
          "High School",
          "JD",
          "High School",
          "Masters",
          "JD",
          "High School",
          "PhD",
          "Masters",
          "JD",
          "MD",
          "College",
          "JD",
          "College",
          "Associate",
          "Associate",
          "MD",
          "Associate",
          "Masters",
          "PhD",
          "Associate",
          "PhD",
          "JD",
          "JD",
          "High School",
          "Masters",
          "High School",
          "MD",
          "MD",
          "College",
          "PhD",
          "MD",
          "Masters",
          "Associate",
          "PhD",
          "High School",
          "PhD",
          "PhD",
          "College",
          "Masters",
          "Associate",
          "JD",
          "JD",
          "Associate",
          "PhD",
          "Masters",
          "High School",
          "College",
          "Associate",
          "JD",
          "JD",
          "JD",
          "PhD",
          "High School",
          "MD",
          "PhD",
          "High School",
          "Masters",
          "High School",
          "MD",
          "Masters",
          "MD",
          "Associate",
          "College",
          "MD",
          "High School",
          "Masters",
          "College",
          "Associate",
          "High School",
          "College",
          "Masters",
          "Associate",
          "High School",
          "Masters",
          "JD",
          "High School",
          "JD",
          "College",
          "MD",
          "High School",
          "MD",
          "Masters",
          "High School",
          "Masters",
          "JD",
          "PhD",
          "College",
          "Associate",
          "MD",
          "JD",
          "PhD",
          "JD",
          "Masters",
          "MD",
          "JD",
          "Associate",
          "JD",
          "Associate",
          "PhD",
          "Masters",
          "PhD",
          "College",
          "College",
          "Associate",
          "Associate",
          "Associate",
          "Masters",
          "MD",
          "PhD",
          "MD",
          "JD",
          "PhD",
          "Associate",
          "Masters",
          "College",
          "High School",
          "PhD",
          "MD",
          "PhD",
          "PhD",
          "Masters",
          "College",
          "Masters",
          "JD",
          "High School",
          "Associate",
          "High School",
          "High School",
          "College",
          "High School",
          "High School",
          "MD",
          "Masters",
          "PhD",
          "Associate",
          "College",
          "PhD",
          "JD",
          "Masters",
          "Associate",
          "PhD",
          "MD",
          "PhD",
          "High School",
          "High School",
          "College",
          "High School",
          "JD",
          "JD",
          "College",
          "JD",
          "College",
          "JD",
          "Associate",
          "JD",
          "PhD",
          "College",
          "MD",
          "Associate",
          "JD",
          "High School",
          "Masters",
          "Associate",
          "Masters",
          "College",
          "PhD",
          "JD",
          "PhD",
          "MD",
          "Associate",
          "College",
          "PhD",
          "JD",
          "MD",
          "Masters",
          "Associate",
          "MD",
          "JD",
          "PhD",
          "High School",
          "Associate",
          "High School",
          "JD",
          "College",
          "PhD",
          "PhD",
          "Masters",
          "College",
          "Associate",
          "JD",
          "PhD",
          "High School",
          "JD",
          "College",
          "JD",
          "JD",
          "Masters",
          "PhD",
          "MD",
          "PhD",
          "High School",
          "Associate",
          "JD",
          "Masters",
          "High School",
          "MD",
          "College",
          "Masters",
          "Associate",
          "College",
          "College",
          "High School",
          "JD",
          "College",
          "High School",
          "Masters",
          "Masters",
          "Masters",
          "JD",
          "High School",
          "Associate",
          "Masters",
          "MD",
          "Masters",
          "Masters",
          "MD",
          "Associate",
          "High School",
          "MD",
          "High School",
          "MD",
          "JD",
          "Associate",
          "Masters",
          "MD",
          "Associate",
          "MD",
          "Masters",
          "Associate",
          "MD",
          "Associate",
          "Masters",
          "Masters",
          "High School",
          "Masters",
          "Associate",
          "Masters",
          "JD",
          "High School",
          "College",
          "MD",
          "High School",
          "College",
          "Associate",
          "College",
          "High School",
          "High School",
          "Associate",
          "Associate",
          "Associate",
          "JD",
          "College",
          "College",
          "PhD",
          "High School",
          "Masters",
          "JD",
          "Masters",
          "JD",
          "MD",
          "Masters",
          "Masters",
          "College",
          "College",
          "High School",
          "MD",
          "JD",
          "High School",
          "Masters",
          "MD",
          "Associate",
          "JD",
          "Masters",
          "High School",
          "JD",
          "High School",
          "PhD",
          "PhD",
          "JD",
          "PhD",
          "High School",
          "Masters",
          "College",
          "Associate",
          "Associate",
          "High School",
          "Masters",
          "JD",
          "Masters",
          "MD",
          "Masters",
          "Masters",
          "Associate",
          "Associate",
          "Masters",
          "Associate",
          "PhD",
          "College",
          "PhD",
          "MD",
          "High School",
          "Associate",
          "PhD",
          "JD",
          "MD",
          "JD",
          "High School",
          "College",
          "Associate",
          "MD",
          "College",
          "PhD",
          "MD",
          "College",
          "MD",
          "Associate",
          "PhD",
          "PhD",
          "JD",
          "MD",
          "High School",
          "Masters",
          "College",
          "High School",
          "Associate",
          "Masters",
          "High School",
          "JD",
          "JD",
          "MD",
          "High School",
          "JD",
          "JD",
          "PhD",
          "MD",
          "College",
          "High School",
          "MD",
          "High School",
          "JD",
          "PhD",
          "High School",
          "Masters",
          "MD",
          "Associate",
          "PhD",
          "College",
          "College",
          "JD",
          "Masters",
          "High School",
          "Masters",
          "College",
          "MD",
          "PhD",
          "High School",
          "MD",
          "College",
          "JD",
          "College",
          "MD",
          "Masters",
          "College",
          "JD",
          "JD",
          "PhD",
          "Masters",
          "MD",
          "Masters",
          "PhD",
          "College",
          "College",
          "High School",
          "High School",
          "PhD",
          "JD",
          "MD",
          "JD",
          "PhD",
          "MD",
          "Associate",
          "MD",
          "JD",
          "JD",
          "PhD",
          "JD",
          "JD",
          "Associate",
          "High School",
          "JD",
          "JD",
          "Associate",
          "Associate",
          "Associate",
          "Associate",
          "Associate",
          "MD",
          "Associate",
          "College",
          "High School",
          "Associate",
          "MD",
          "College",
          "PhD",
          "MD",
          "Masters",
          "College",
          "Associate",
          "Associate",
          "JD",
          "JD",
          "JD",
          "JD",
          "PhD",
          "JD",
          "Masters",
          "MD",
          "MD",
          "High School",
          "JD",
          "JD",
          "High School",
          "College",
          "MD",
          "Masters",
          "JD",
          "MD",
          "Masters",
          "High School",
          "MD",
          "Associate",
          "JD",
          "PhD",
          "Associate",
          "Associate",
          "High School",
          "JD",
          "PhD",
          "High School",
          "JD",
          "High School",
          "MD",
          "Masters",
          "College",
          "JD",
          "MD",
          "JD",
          "High School",
          "PhD",
          "College",
          "JD",
          "College",
          "MD",
          "PhD",
          "MD",
          "Associate",
          "Associate",
          "College",
          "JD",
          "Masters",
          "College",
          "High School",
          "High School",
          "Associate",
          "PhD",
          "PhD",
          "Associate",
          "Associate",
          "High School",
          "Masters",
          "Masters",
          "PhD",
          "College",
          "Masters",
          "JD",
          "High School",
          "JD",
          "JD",
          "Masters",
          "High School",
          "Masters",
          "High School",
          "JD",
          "Associate",
          "PhD",
          "MD",
          "Masters",
          "MD",
          "MD",
          "High School",
          "MD",
          "Associate",
          "JD",
          "Associate",
          "High School",
          "Masters",
          "PhD",
          "College",
          "JD",
          "MD",
          "High School",
          "High School",
          "High School",
          "MD",
          "MD",
          "MD",
          "MD",
          "High School",
          "Masters",
          "PhD",
          "Masters",
          "Associate",
          "Associate"
         ],
         "xaxis": "x",
         "yaxis": "y"
        }
       ],
       "layout": {
        "barmode": "relative",
        "legend": {
         "title": {
          "text": "fraud_reported"
         },
         "tracegroupgap": 0
        },
        "margin": {
         "t": 60
        },
        "template": {
         "data": {
          "bar": [
           {
            "error_x": {
             "color": "#2a3f5f"
            },
            "error_y": {
             "color": "#2a3f5f"
            },
            "marker": {
             "line": {
              "color": "#E5ECF6",
              "width": 0.5
             },
             "pattern": {
              "fillmode": "overlay",
              "size": 10,
              "solidity": 0.2
             }
            },
            "type": "bar"
           }
          ],
          "barpolar": [
           {
            "marker": {
             "line": {
              "color": "#E5ECF6",
              "width": 0.5
             },
             "pattern": {
              "fillmode": "overlay",
              "size": 10,
              "solidity": 0.2
             }
            },
            "type": "barpolar"
           }
          ],
          "carpet": [
           {
            "aaxis": {
             "endlinecolor": "#2a3f5f",
             "gridcolor": "white",
             "linecolor": "white",
             "minorgridcolor": "white",
             "startlinecolor": "#2a3f5f"
            },
            "baxis": {
             "endlinecolor": "#2a3f5f",
             "gridcolor": "white",
             "linecolor": "white",
             "minorgridcolor": "white",
             "startlinecolor": "#2a3f5f"
            },
            "type": "carpet"
           }
          ],
          "choropleth": [
           {
            "colorbar": {
             "outlinewidth": 0,
             "ticks": ""
            },
            "type": "choropleth"
           }
          ],
          "contour": [
           {
            "colorbar": {
             "outlinewidth": 0,
             "ticks": ""
            },
            "colorscale": [
             [
              0,
              "#0d0887"
             ],
             [
              0.1111111111111111,
              "#46039f"
             ],
             [
              0.2222222222222222,
              "#7201a8"
             ],
             [
              0.3333333333333333,
              "#9c179e"
             ],
             [
              0.4444444444444444,
              "#bd3786"
             ],
             [
              0.5555555555555556,
              "#d8576b"
             ],
             [
              0.6666666666666666,
              "#ed7953"
             ],
             [
              0.7777777777777778,
              "#fb9f3a"
             ],
             [
              0.8888888888888888,
              "#fdca26"
             ],
             [
              1,
              "#f0f921"
             ]
            ],
            "type": "contour"
           }
          ],
          "contourcarpet": [
           {
            "colorbar": {
             "outlinewidth": 0,
             "ticks": ""
            },
            "type": "contourcarpet"
           }
          ],
          "heatmap": [
           {
            "colorbar": {
             "outlinewidth": 0,
             "ticks": ""
            },
            "colorscale": [
             [
              0,
              "#0d0887"
             ],
             [
              0.1111111111111111,
              "#46039f"
             ],
             [
              0.2222222222222222,
              "#7201a8"
             ],
             [
              0.3333333333333333,
              "#9c179e"
             ],
             [
              0.4444444444444444,
              "#bd3786"
             ],
             [
              0.5555555555555556,
              "#d8576b"
             ],
             [
              0.6666666666666666,
              "#ed7953"
             ],
             [
              0.7777777777777778,
              "#fb9f3a"
             ],
             [
              0.8888888888888888,
              "#fdca26"
             ],
             [
              1,
              "#f0f921"
             ]
            ],
            "type": "heatmap"
           }
          ],
          "heatmapgl": [
           {
            "colorbar": {
             "outlinewidth": 0,
             "ticks": ""
            },
            "colorscale": [
             [
              0,
              "#0d0887"
             ],
             [
              0.1111111111111111,
              "#46039f"
             ],
             [
              0.2222222222222222,
              "#7201a8"
             ],
             [
              0.3333333333333333,
              "#9c179e"
             ],
             [
              0.4444444444444444,
              "#bd3786"
             ],
             [
              0.5555555555555556,
              "#d8576b"
             ],
             [
              0.6666666666666666,
              "#ed7953"
             ],
             [
              0.7777777777777778,
              "#fb9f3a"
             ],
             [
              0.8888888888888888,
              "#fdca26"
             ],
             [
              1,
              "#f0f921"
             ]
            ],
            "type": "heatmapgl"
           }
          ],
          "histogram": [
           {
            "marker": {
             "pattern": {
              "fillmode": "overlay",
              "size": 10,
              "solidity": 0.2
             }
            },
            "type": "histogram"
           }
          ],
          "histogram2d": [
           {
            "colorbar": {
             "outlinewidth": 0,
             "ticks": ""
            },
            "colorscale": [
             [
              0,
              "#0d0887"
             ],
             [
              0.1111111111111111,
              "#46039f"
             ],
             [
              0.2222222222222222,
              "#7201a8"
             ],
             [
              0.3333333333333333,
              "#9c179e"
             ],
             [
              0.4444444444444444,
              "#bd3786"
             ],
             [
              0.5555555555555556,
              "#d8576b"
             ],
             [
              0.6666666666666666,
              "#ed7953"
             ],
             [
              0.7777777777777778,
              "#fb9f3a"
             ],
             [
              0.8888888888888888,
              "#fdca26"
             ],
             [
              1,
              "#f0f921"
             ]
            ],
            "type": "histogram2d"
           }
          ],
          "histogram2dcontour": [
           {
            "colorbar": {
             "outlinewidth": 0,
             "ticks": ""
            },
            "colorscale": [
             [
              0,
              "#0d0887"
             ],
             [
              0.1111111111111111,
              "#46039f"
             ],
             [
              0.2222222222222222,
              "#7201a8"
             ],
             [
              0.3333333333333333,
              "#9c179e"
             ],
             [
              0.4444444444444444,
              "#bd3786"
             ],
             [
              0.5555555555555556,
              "#d8576b"
             ],
             [
              0.6666666666666666,
              "#ed7953"
             ],
             [
              0.7777777777777778,
              "#fb9f3a"
             ],
             [
              0.8888888888888888,
              "#fdca26"
             ],
             [
              1,
              "#f0f921"
             ]
            ],
            "type": "histogram2dcontour"
           }
          ],
          "mesh3d": [
           {
            "colorbar": {
             "outlinewidth": 0,
             "ticks": ""
            },
            "type": "mesh3d"
           }
          ],
          "parcoords": [
           {
            "line": {
             "colorbar": {
              "outlinewidth": 0,
              "ticks": ""
             }
            },
            "type": "parcoords"
           }
          ],
          "pie": [
           {
            "automargin": true,
            "type": "pie"
           }
          ],
          "scatter": [
           {
            "marker": {
             "colorbar": {
              "outlinewidth": 0,
              "ticks": ""
             }
            },
            "type": "scatter"
           }
          ],
          "scatter3d": [
           {
            "line": {
             "colorbar": {
              "outlinewidth": 0,
              "ticks": ""
             }
            },
            "marker": {
             "colorbar": {
              "outlinewidth": 0,
              "ticks": ""
             }
            },
            "type": "scatter3d"
           }
          ],
          "scattercarpet": [
           {
            "marker": {
             "colorbar": {
              "outlinewidth": 0,
              "ticks": ""
             }
            },
            "type": "scattercarpet"
           }
          ],
          "scattergeo": [
           {
            "marker": {
             "colorbar": {
              "outlinewidth": 0,
              "ticks": ""
             }
            },
            "type": "scattergeo"
           }
          ],
          "scattergl": [
           {
            "marker": {
             "colorbar": {
              "outlinewidth": 0,
              "ticks": ""
             }
            },
            "type": "scattergl"
           }
          ],
          "scattermapbox": [
           {
            "marker": {
             "colorbar": {
              "outlinewidth": 0,
              "ticks": ""
             }
            },
            "type": "scattermapbox"
           }
          ],
          "scatterpolar": [
           {
            "marker": {
             "colorbar": {
              "outlinewidth": 0,
              "ticks": ""
             }
            },
            "type": "scatterpolar"
           }
          ],
          "scatterpolargl": [
           {
            "marker": {
             "colorbar": {
              "outlinewidth": 0,
              "ticks": ""
             }
            },
            "type": "scatterpolargl"
           }
          ],
          "scatterternary": [
           {
            "marker": {
             "colorbar": {
              "outlinewidth": 0,
              "ticks": ""
             }
            },
            "type": "scatterternary"
           }
          ],
          "surface": [
           {
            "colorbar": {
             "outlinewidth": 0,
             "ticks": ""
            },
            "colorscale": [
             [
              0,
              "#0d0887"
             ],
             [
              0.1111111111111111,
              "#46039f"
             ],
             [
              0.2222222222222222,
              "#7201a8"
             ],
             [
              0.3333333333333333,
              "#9c179e"
             ],
             [
              0.4444444444444444,
              "#bd3786"
             ],
             [
              0.5555555555555556,
              "#d8576b"
             ],
             [
              0.6666666666666666,
              "#ed7953"
             ],
             [
              0.7777777777777778,
              "#fb9f3a"
             ],
             [
              0.8888888888888888,
              "#fdca26"
             ],
             [
              1,
              "#f0f921"
             ]
            ],
            "type": "surface"
           }
          ],
          "table": [
           {
            "cells": {
             "fill": {
              "color": "#EBF0F8"
             },
             "line": {
              "color": "white"
             }
            },
            "header": {
             "fill": {
              "color": "#C8D4E3"
             },
             "line": {
              "color": "white"
             }
            },
            "type": "table"
           }
          ]
         },
         "layout": {
          "annotationdefaults": {
           "arrowcolor": "#2a3f5f",
           "arrowhead": 0,
           "arrowwidth": 1
          },
          "autotypenumbers": "strict",
          "coloraxis": {
           "colorbar": {
            "outlinewidth": 0,
            "ticks": ""
           }
          },
          "colorscale": {
           "diverging": [
            [
             0,
             "#8e0152"
            ],
            [
             0.1,
             "#c51b7d"
            ],
            [
             0.2,
             "#de77ae"
            ],
            [
             0.3,
             "#f1b6da"
            ],
            [
             0.4,
             "#fde0ef"
            ],
            [
             0.5,
             "#f7f7f7"
            ],
            [
             0.6,
             "#e6f5d0"
            ],
            [
             0.7,
             "#b8e186"
            ],
            [
             0.8,
             "#7fbc41"
            ],
            [
             0.9,
             "#4d9221"
            ],
            [
             1,
             "#276419"
            ]
           ],
           "sequential": [
            [
             0,
             "#0d0887"
            ],
            [
             0.1111111111111111,
             "#46039f"
            ],
            [
             0.2222222222222222,
             "#7201a8"
            ],
            [
             0.3333333333333333,
             "#9c179e"
            ],
            [
             0.4444444444444444,
             "#bd3786"
            ],
            [
             0.5555555555555556,
             "#d8576b"
            ],
            [
             0.6666666666666666,
             "#ed7953"
            ],
            [
             0.7777777777777778,
             "#fb9f3a"
            ],
            [
             0.8888888888888888,
             "#fdca26"
            ],
            [
             1,
             "#f0f921"
            ]
           ],
           "sequentialminus": [
            [
             0,
             "#0d0887"
            ],
            [
             0.1111111111111111,
             "#46039f"
            ],
            [
             0.2222222222222222,
             "#7201a8"
            ],
            [
             0.3333333333333333,
             "#9c179e"
            ],
            [
             0.4444444444444444,
             "#bd3786"
            ],
            [
             0.5555555555555556,
             "#d8576b"
            ],
            [
             0.6666666666666666,
             "#ed7953"
            ],
            [
             0.7777777777777778,
             "#fb9f3a"
            ],
            [
             0.8888888888888888,
             "#fdca26"
            ],
            [
             1,
             "#f0f921"
            ]
           ]
          },
          "colorway": [
           "#636efa",
           "#EF553B",
           "#00cc96",
           "#ab63fa",
           "#FFA15A",
           "#19d3f3",
           "#FF6692",
           "#B6E880",
           "#FF97FF",
           "#FECB52"
          ],
          "font": {
           "color": "#2a3f5f"
          },
          "geo": {
           "bgcolor": "white",
           "lakecolor": "white",
           "landcolor": "#E5ECF6",
           "showlakes": true,
           "showland": true,
           "subunitcolor": "white"
          },
          "hoverlabel": {
           "align": "left"
          },
          "hovermode": "closest",
          "mapbox": {
           "style": "light"
          },
          "paper_bgcolor": "white",
          "plot_bgcolor": "#E5ECF6",
          "polar": {
           "angularaxis": {
            "gridcolor": "white",
            "linecolor": "white",
            "ticks": ""
           },
           "bgcolor": "#E5ECF6",
           "radialaxis": {
            "gridcolor": "white",
            "linecolor": "white",
            "ticks": ""
           }
          },
          "scene": {
           "xaxis": {
            "backgroundcolor": "#E5ECF6",
            "gridcolor": "white",
            "gridwidth": 2,
            "linecolor": "white",
            "showbackground": true,
            "ticks": "",
            "zerolinecolor": "white"
           },
           "yaxis": {
            "backgroundcolor": "#E5ECF6",
            "gridcolor": "white",
            "gridwidth": 2,
            "linecolor": "white",
            "showbackground": true,
            "ticks": "",
            "zerolinecolor": "white"
           },
           "zaxis": {
            "backgroundcolor": "#E5ECF6",
            "gridcolor": "white",
            "gridwidth": 2,
            "linecolor": "white",
            "showbackground": true,
            "ticks": "",
            "zerolinecolor": "white"
           }
          },
          "shapedefaults": {
           "line": {
            "color": "#2a3f5f"
           }
          },
          "ternary": {
           "aaxis": {
            "gridcolor": "white",
            "linecolor": "white",
            "ticks": ""
           },
           "baxis": {
            "gridcolor": "white",
            "linecolor": "white",
            "ticks": ""
           },
           "bgcolor": "#E5ECF6",
           "caxis": {
            "gridcolor": "white",
            "linecolor": "white",
            "ticks": ""
           }
          },
          "title": {
           "x": 0.05
          },
          "xaxis": {
           "automargin": true,
           "gridcolor": "white",
           "linecolor": "white",
           "ticks": "",
           "title": {
            "standoff": 15
           },
           "zerolinecolor": "white",
           "zerolinewidth": 2
          },
          "yaxis": {
           "automargin": true,
           "gridcolor": "white",
           "linecolor": "white",
           "ticks": "",
           "title": {
            "standoff": 15
           },
           "zerolinecolor": "white",
           "zerolinewidth": 2
          }
         }
        },
        "xaxis": {
         "anchor": "y",
         "domain": [
          0,
          1
         ],
         "title": {
          "text": "insured_education_level"
         }
        },
        "yaxis": {
         "anchor": "x",
         "domain": [
          0,
          1
         ],
         "title": {
          "text": "count"
         }
        }
       }
      }
     },
     "metadata": {},
     "output_type": "display_data"
    }
   ],
   "source": [
    "fig = px.histogram(df, x=\"insured_education_level\", color=\"fraud_reported\")\n",
    "fig.show()"
   ]
  },
  {
   "cell_type": "code",
   "execution_count": 29,
   "metadata": {},
   "outputs": [
    {
     "data": {
      "application/vnd.plotly.v1+json": {
       "config": {
        "plotlyServerURL": "https://plot.ly"
       },
       "data": [
        {
         "alignmentgroup": "True",
         "bingroup": "x",
         "hovertemplate": "fraud_reported=Y<br>insured_occupation=%{x}<br>count=%{y}<extra></extra>",
         "legendgroup": "Y",
         "marker": {
          "color": "#636efa",
          "pattern": {
           "shape": ""
          }
         },
         "name": "Y",
         "offsetgroup": "Y",
         "orientation": "v",
         "showlegend": true,
         "type": "histogram",
         "x": [
          "craft-repair",
          "machine-op-inspct",
          "armed-forces",
          "tech-support",
          "machine-op-inspct",
          "transport-moving",
          "prof-specialty",
          "priv-house-serv",
          "sales",
          "exec-managerial",
          "craft-repair",
          "craft-repair",
          "protective-serv",
          "tech-support",
          "transport-moving",
          "other-service",
          "machine-op-inspct",
          "transport-moving",
          "sales",
          "exec-managerial",
          "tech-support",
          "prof-specialty",
          "armed-forces",
          "handlers-cleaners",
          "prof-specialty",
          "exec-managerial",
          "tech-support",
          "protective-serv",
          "farming-fishing",
          "prof-specialty",
          "machine-op-inspct",
          "sales",
          "craft-repair",
          "machine-op-inspct",
          "exec-managerial",
          "other-service",
          "other-service",
          "farming-fishing",
          "sales",
          "exec-managerial",
          "exec-managerial",
          "exec-managerial",
          "tech-support",
          "adm-clerical",
          "craft-repair",
          "exec-managerial",
          "other-service",
          "sales",
          "prof-specialty",
          "craft-repair",
          "machine-op-inspct",
          "tech-support",
          "tech-support",
          "tech-support",
          "armed-forces",
          "sales",
          "prof-specialty",
          "exec-managerial",
          "craft-repair",
          "prof-specialty",
          "farming-fishing",
          "prof-specialty",
          "farming-fishing",
          "sales",
          "adm-clerical",
          "tech-support",
          "other-service",
          "transport-moving",
          "sales",
          "transport-moving",
          "tech-support",
          "machine-op-inspct",
          "exec-managerial",
          "other-service",
          "machine-op-inspct",
          "machine-op-inspct",
          "craft-repair",
          "prof-specialty",
          "armed-forces",
          "craft-repair",
          "tech-support",
          "handlers-cleaners",
          "handlers-cleaners",
          "exec-managerial",
          "handlers-cleaners",
          "farming-fishing",
          "protective-serv",
          "sales",
          "sales",
          "protective-serv",
          "exec-managerial",
          "armed-forces",
          "protective-serv",
          "transport-moving",
          "sales",
          "armed-forces",
          "tech-support",
          "craft-repair",
          "machine-op-inspct",
          "adm-clerical",
          "transport-moving",
          "priv-house-serv",
          "sales",
          "adm-clerical",
          "adm-clerical",
          "craft-repair",
          "armed-forces",
          "other-service",
          "exec-managerial",
          "armed-forces",
          "farming-fishing",
          "craft-repair",
          "armed-forces",
          "machine-op-inspct",
          "exec-managerial",
          "exec-managerial",
          "priv-house-serv",
          "priv-house-serv",
          "transport-moving",
          "farming-fishing",
          "transport-moving",
          "tech-support",
          "tech-support",
          "craft-repair",
          "exec-managerial",
          "adm-clerical",
          "farming-fishing",
          "armed-forces",
          "sales",
          "handlers-cleaners",
          "transport-moving",
          "armed-forces",
          "exec-managerial",
          "farming-fishing",
          "transport-moving",
          "armed-forces",
          "sales",
          "sales",
          "adm-clerical",
          "prof-specialty",
          "armed-forces",
          "handlers-cleaners",
          "transport-moving",
          "exec-managerial",
          "protective-serv",
          "craft-repair",
          "farming-fishing",
          "tech-support",
          "transport-moving",
          "machine-op-inspct",
          "exec-managerial",
          "armed-forces",
          "craft-repair",
          "priv-house-serv",
          "exec-managerial",
          "sales",
          "transport-moving",
          "machine-op-inspct",
          "machine-op-inspct",
          "protective-serv",
          "craft-repair",
          "craft-repair",
          "craft-repair",
          "priv-house-serv",
          "prof-specialty",
          "tech-support",
          "transport-moving",
          "prof-specialty",
          "transport-moving",
          "priv-house-serv",
          "sales",
          "handlers-cleaners",
          "prof-specialty",
          "tech-support",
          "transport-moving",
          "tech-support",
          "exec-managerial",
          "sales",
          "machine-op-inspct",
          "tech-support",
          "farming-fishing",
          "priv-house-serv",
          "handlers-cleaners",
          "other-service",
          "protective-serv",
          "transport-moving",
          "prof-specialty",
          "handlers-cleaners",
          "farming-fishing",
          "protective-serv",
          "farming-fishing",
          "machine-op-inspct",
          "exec-managerial",
          "sales",
          "exec-managerial",
          "protective-serv",
          "craft-repair",
          "adm-clerical",
          "machine-op-inspct",
          "machine-op-inspct",
          "tech-support",
          "prof-specialty",
          "machine-op-inspct",
          "machine-op-inspct",
          "other-service",
          "transport-moving",
          "exec-managerial",
          "prof-specialty",
          "protective-serv",
          "exec-managerial",
          "machine-op-inspct",
          "armed-forces",
          "protective-serv",
          "armed-forces",
          "craft-repair",
          "farming-fishing",
          "priv-house-serv",
          "priv-house-serv",
          "farming-fishing",
          "machine-op-inspct",
          "tech-support",
          "handlers-cleaners",
          "priv-house-serv",
          "farming-fishing",
          "exec-managerial",
          "armed-forces",
          "adm-clerical",
          "exec-managerial",
          "sales",
          "protective-serv",
          "transport-moving",
          "prof-specialty",
          "sales",
          "adm-clerical",
          "priv-house-serv",
          "prof-specialty",
          "other-service",
          "other-service",
          "craft-repair",
          "protective-serv",
          "other-service",
          "tech-support",
          "transport-moving",
          "adm-clerical",
          "exec-managerial",
          "handlers-cleaners",
          "craft-repair"
         ],
         "xaxis": "x",
         "yaxis": "y"
        },
        {
         "alignmentgroup": "True",
         "bingroup": "x",
         "hovertemplate": "fraud_reported=N<br>insured_occupation=%{x}<br>count=%{y}<extra></extra>",
         "legendgroup": "N",
         "marker": {
          "color": "#EF553B",
          "pattern": {
           "shape": ""
          }
         },
         "name": "N",
         "offsetgroup": "N",
         "orientation": "v",
         "showlegend": true,
         "type": "histogram",
         "x": [
          "sales",
          "sales",
          "prof-specialty",
          "tech-support",
          "other-service",
          "priv-house-serv",
          "exec-managerial",
          "exec-managerial",
          "protective-serv",
          "armed-forces",
          "machine-op-inspct",
          "machine-op-inspct",
          "craft-repair",
          "handlers-cleaners",
          "other-service",
          "machine-op-inspct",
          "craft-repair",
          "prof-specialty",
          "sales",
          "machine-op-inspct",
          "prof-specialty",
          "adm-clerical",
          "farming-fishing",
          "prof-specialty",
          "priv-house-serv",
          "craft-repair",
          "tech-support",
          "prof-specialty",
          "transport-moving",
          "priv-house-serv",
          "protective-serv",
          "other-service",
          "protective-serv",
          "exec-managerial",
          "other-service",
          "farming-fishing",
          "armed-forces",
          "priv-house-serv",
          "machine-op-inspct",
          "craft-repair",
          "prof-specialty",
          "adm-clerical",
          "other-service",
          "adm-clerical",
          "handlers-cleaners",
          "armed-forces",
          "adm-clerical",
          "machine-op-inspct",
          "other-service",
          "sales",
          "transport-moving",
          "sales",
          "transport-moving",
          "handlers-cleaners",
          "transport-moving",
          "other-service",
          "exec-managerial",
          "exec-managerial",
          "other-service",
          "exec-managerial",
          "transport-moving",
          "priv-house-serv",
          "other-service",
          "prof-specialty",
          "sales",
          "farming-fishing",
          "exec-managerial",
          "machine-op-inspct",
          "armed-forces",
          "machine-op-inspct",
          "exec-managerial",
          "protective-serv",
          "tech-support",
          "prof-specialty",
          "tech-support",
          "other-service",
          "prof-specialty",
          "handlers-cleaners",
          "prof-specialty",
          "exec-managerial",
          "protective-serv",
          "armed-forces",
          "machine-op-inspct",
          "transport-moving",
          "adm-clerical",
          "priv-house-serv",
          "prof-specialty",
          "prof-specialty",
          "craft-repair",
          "protective-serv",
          "tech-support",
          "machine-op-inspct",
          "adm-clerical",
          "tech-support",
          "machine-op-inspct",
          "exec-managerial",
          "sales",
          "tech-support",
          "prof-specialty",
          "other-service",
          "machine-op-inspct",
          "transport-moving",
          "machine-op-inspct",
          "farming-fishing",
          "other-service",
          "farming-fishing",
          "priv-house-serv",
          "craft-repair",
          "exec-managerial",
          "prof-specialty",
          "machine-op-inspct",
          "transport-moving",
          "priv-house-serv",
          "farming-fishing",
          "exec-managerial",
          "prof-specialty",
          "armed-forces",
          "farming-fishing",
          "machine-op-inspct",
          "other-service",
          "armed-forces",
          "protective-serv",
          "transport-moving",
          "farming-fishing",
          "tech-support",
          "protective-serv",
          "prof-specialty",
          "armed-forces",
          "tech-support",
          "handlers-cleaners",
          "adm-clerical",
          "tech-support",
          "craft-repair",
          "tech-support",
          "protective-serv",
          "adm-clerical",
          "tech-support",
          "farming-fishing",
          "handlers-cleaners",
          "other-service",
          "farming-fishing",
          "handlers-cleaners",
          "adm-clerical",
          "armed-forces",
          "sales",
          "craft-repair",
          "transport-moving",
          "protective-serv",
          "machine-op-inspct",
          "sales",
          "tech-support",
          "handlers-cleaners",
          "adm-clerical",
          "sales",
          "handlers-cleaners",
          "priv-house-serv",
          "sales",
          "machine-op-inspct",
          "transport-moving",
          "priv-house-serv",
          "other-service",
          "sales",
          "sales",
          "tech-support",
          "exec-managerial",
          "other-service",
          "craft-repair",
          "farming-fishing",
          "machine-op-inspct",
          "prof-specialty",
          "machine-op-inspct",
          "handlers-cleaners",
          "transport-moving",
          "craft-repair",
          "farming-fishing",
          "farming-fishing",
          "armed-forces",
          "exec-managerial",
          "tech-support",
          "armed-forces",
          "machine-op-inspct",
          "machine-op-inspct",
          "armed-forces",
          "transport-moving",
          "farming-fishing",
          "craft-repair",
          "sales",
          "priv-house-serv",
          "armed-forces",
          "protective-serv",
          "craft-repair",
          "handlers-cleaners",
          "protective-serv",
          "machine-op-inspct",
          "handlers-cleaners",
          "other-service",
          "armed-forces",
          "other-service",
          "machine-op-inspct",
          "tech-support",
          "other-service",
          "craft-repair",
          "transport-moving",
          "priv-house-serv",
          "adm-clerical",
          "priv-house-serv",
          "transport-moving",
          "sales",
          "machine-op-inspct",
          "protective-serv",
          "sales",
          "prof-specialty",
          "protective-serv",
          "handlers-cleaners",
          "adm-clerical",
          "transport-moving",
          "farming-fishing",
          "handlers-cleaners",
          "sales",
          "transport-moving",
          "priv-house-serv",
          "machine-op-inspct",
          "armed-forces",
          "handlers-cleaners",
          "protective-serv",
          "machine-op-inspct",
          "transport-moving",
          "exec-managerial",
          "adm-clerical",
          "transport-moving",
          "sales",
          "adm-clerical",
          "handlers-cleaners",
          "priv-house-serv",
          "tech-support",
          "farming-fishing",
          "craft-repair",
          "machine-op-inspct",
          "tech-support",
          "prof-specialty",
          "prof-specialty",
          "armed-forces",
          "armed-forces",
          "tech-support",
          "priv-house-serv",
          "priv-house-serv",
          "craft-repair",
          "protective-serv",
          "transport-moving",
          "machine-op-inspct",
          "handlers-cleaners",
          "tech-support",
          "tech-support",
          "craft-repair",
          "adm-clerical",
          "adm-clerical",
          "prof-specialty",
          "craft-repair",
          "other-service",
          "priv-house-serv",
          "prof-specialty",
          "exec-managerial",
          "adm-clerical",
          "exec-managerial",
          "protective-serv",
          "farming-fishing",
          "sales",
          "transport-moving",
          "sales",
          "craft-repair",
          "other-service",
          "transport-moving",
          "craft-repair",
          "exec-managerial",
          "protective-serv",
          "prof-specialty",
          "other-service",
          "machine-op-inspct",
          "machine-op-inspct",
          "priv-house-serv",
          "exec-managerial",
          "exec-managerial",
          "prof-specialty",
          "exec-managerial",
          "machine-op-inspct",
          "protective-serv",
          "adm-clerical",
          "prof-specialty",
          "armed-forces",
          "priv-house-serv",
          "transport-moving",
          "sales",
          "transport-moving",
          "adm-clerical",
          "machine-op-inspct",
          "exec-managerial",
          "exec-managerial",
          "adm-clerical",
          "machine-op-inspct",
          "farming-fishing",
          "prof-specialty",
          "armed-forces",
          "machine-op-inspct",
          "transport-moving",
          "priv-house-serv",
          "priv-house-serv",
          "exec-managerial",
          "tech-support",
          "prof-specialty",
          "handlers-cleaners",
          "other-service",
          "farming-fishing",
          "priv-house-serv",
          "transport-moving",
          "transport-moving",
          "priv-house-serv",
          "priv-house-serv",
          "priv-house-serv",
          "machine-op-inspct",
          "exec-managerial",
          "other-service",
          "handlers-cleaners",
          "protective-serv",
          "tech-support",
          "protective-serv",
          "sales",
          "priv-house-serv",
          "tech-support",
          "adm-clerical",
          "other-service",
          "other-service",
          "transport-moving",
          "priv-house-serv",
          "transport-moving",
          "machine-op-inspct",
          "adm-clerical",
          "craft-repair",
          "priv-house-serv",
          "other-service",
          "protective-serv",
          "prof-specialty",
          "handlers-cleaners",
          "handlers-cleaners",
          "transport-moving",
          "protective-serv",
          "farming-fishing",
          "protective-serv",
          "tech-support",
          "armed-forces",
          "farming-fishing",
          "other-service",
          "exec-managerial",
          "priv-house-serv",
          "armed-forces",
          "armed-forces",
          "adm-clerical",
          "other-service",
          "armed-forces",
          "prof-specialty",
          "armed-forces",
          "machine-op-inspct",
          "machine-op-inspct",
          "adm-clerical",
          "prof-specialty",
          "machine-op-inspct",
          "tech-support",
          "craft-repair",
          "craft-repair",
          "tech-support",
          "armed-forces",
          "handlers-cleaners",
          "sales",
          "tech-support",
          "prof-specialty",
          "machine-op-inspct",
          "sales",
          "priv-house-serv",
          "sales",
          "other-service",
          "other-service",
          "tech-support",
          "adm-clerical",
          "protective-serv",
          "tech-support",
          "transport-moving",
          "farming-fishing",
          "farming-fishing",
          "craft-repair",
          "tech-support",
          "prof-specialty",
          "prof-specialty",
          "sales",
          "machine-op-inspct",
          "sales",
          "prof-specialty",
          "craft-repair",
          "adm-clerical",
          "armed-forces",
          "tech-support",
          "priv-house-serv",
          "prof-specialty",
          "other-service",
          "farming-fishing",
          "prof-specialty",
          "protective-serv",
          "sales",
          "prof-specialty",
          "tech-support",
          "armed-forces",
          "transport-moving",
          "armed-forces",
          "tech-support",
          "sales",
          "other-service",
          "craft-repair",
          "craft-repair",
          "farming-fishing",
          "adm-clerical",
          "other-service",
          "protective-serv",
          "exec-managerial",
          "exec-managerial",
          "machine-op-inspct",
          "craft-repair",
          "prof-specialty",
          "adm-clerical",
          "other-service",
          "other-service",
          "other-service",
          "machine-op-inspct",
          "sales",
          "protective-serv",
          "farming-fishing",
          "protective-serv",
          "priv-house-serv",
          "machine-op-inspct",
          "sales",
          "other-service",
          "priv-house-serv",
          "handlers-cleaners",
          "machine-op-inspct",
          "sales",
          "farming-fishing",
          "prof-specialty",
          "sales",
          "handlers-cleaners",
          "machine-op-inspct",
          "adm-clerical",
          "armed-forces",
          "machine-op-inspct",
          "priv-house-serv",
          "exec-managerial",
          "adm-clerical",
          "priv-house-serv",
          "machine-op-inspct",
          "exec-managerial",
          "adm-clerical",
          "handlers-cleaners",
          "sales",
          "tech-support",
          "tech-support",
          "farming-fishing",
          "machine-op-inspct",
          "transport-moving",
          "protective-serv",
          "sales",
          "machine-op-inspct",
          "sales",
          "exec-managerial",
          "machine-op-inspct",
          "prof-specialty",
          "transport-moving",
          "handlers-cleaners",
          "craft-repair",
          "craft-repair",
          "adm-clerical",
          "armed-forces",
          "other-service",
          "exec-managerial",
          "armed-forces",
          "adm-clerical",
          "exec-managerial",
          "craft-repair",
          "other-service",
          "handlers-cleaners",
          "adm-clerical",
          "craft-repair",
          "handlers-cleaners",
          "machine-op-inspct",
          "machine-op-inspct",
          "sales",
          "adm-clerical",
          "farming-fishing",
          "armed-forces",
          "adm-clerical",
          "prof-specialty",
          "machine-op-inspct",
          "machine-op-inspct",
          "transport-moving",
          "craft-repair",
          "sales",
          "other-service",
          "farming-fishing",
          "adm-clerical",
          "tech-support",
          "adm-clerical",
          "other-service",
          "machine-op-inspct",
          "farming-fishing",
          "machine-op-inspct",
          "armed-forces",
          "other-service",
          "priv-house-serv",
          "tech-support",
          "transport-moving",
          "exec-managerial",
          "armed-forces",
          "handlers-cleaners",
          "prof-specialty",
          "machine-op-inspct",
          "protective-serv",
          "farming-fishing",
          "transport-moving",
          "tech-support",
          "other-service",
          "tech-support",
          "handlers-cleaners",
          "protective-serv",
          "handlers-cleaners",
          "prof-specialty",
          "priv-house-serv",
          "exec-managerial",
          "prof-specialty",
          "craft-repair",
          "sales",
          "prof-specialty",
          "prof-specialty",
          "tech-support",
          "adm-clerical",
          "prof-specialty",
          "transport-moving",
          "prof-specialty",
          "craft-repair",
          "adm-clerical",
          "exec-managerial",
          "other-service",
          "exec-managerial",
          "prof-specialty",
          "sales",
          "craft-repair",
          "adm-clerical",
          "armed-forces",
          "sales",
          "machine-op-inspct",
          "tech-support",
          "priv-house-serv",
          "handlers-cleaners",
          "machine-op-inspct",
          "sales",
          "protective-serv",
          "machine-op-inspct",
          "prof-specialty",
          "machine-op-inspct",
          "prof-specialty",
          "protective-serv",
          "armed-forces",
          "handlers-cleaners",
          "adm-clerical",
          "prof-specialty",
          "transport-moving",
          "adm-clerical",
          "armed-forces",
          "prof-specialty",
          "transport-moving",
          "tech-support",
          "farming-fishing",
          "machine-op-inspct",
          "tech-support",
          "protective-serv",
          "sales",
          "priv-house-serv",
          "tech-support",
          "handlers-cleaners",
          "armed-forces",
          "tech-support",
          "other-service",
          "priv-house-serv",
          "adm-clerical",
          "sales",
          "tech-support",
          "armed-forces",
          "farming-fishing",
          "transport-moving",
          "adm-clerical",
          "craft-repair",
          "armed-forces",
          "armed-forces",
          "transport-moving",
          "armed-forces",
          "prof-specialty",
          "craft-repair",
          "machine-op-inspct",
          "prof-specialty",
          "protective-serv",
          "protective-serv",
          "handlers-cleaners",
          "protective-serv",
          "prof-specialty",
          "tech-support",
          "craft-repair",
          "adm-clerical",
          "prof-specialty",
          "prof-specialty",
          "other-service",
          "machine-op-inspct",
          "craft-repair",
          "craft-repair",
          "transport-moving",
          "priv-house-serv",
          "priv-house-serv",
          "prof-specialty",
          "adm-clerical",
          "prof-specialty",
          "machine-op-inspct",
          "other-service",
          "other-service",
          "transport-moving",
          "protective-serv",
          "farming-fishing",
          "craft-repair",
          "tech-support",
          "prof-specialty",
          "priv-house-serv",
          "sales",
          "priv-house-serv",
          "prof-specialty",
          "exec-managerial",
          "handlers-cleaners",
          "machine-op-inspct",
          "armed-forces",
          "tech-support",
          "priv-house-serv",
          "tech-support",
          "exec-managerial",
          "adm-clerical",
          "other-service",
          "other-service",
          "armed-forces",
          "priv-house-serv",
          "armed-forces",
          "protective-serv",
          "exec-managerial",
          "prof-specialty",
          "armed-forces",
          "sales",
          "protective-serv",
          "priv-house-serv",
          "priv-house-serv",
          "machine-op-inspct",
          "transport-moving",
          "other-service",
          "craft-repair",
          "armed-forces",
          "other-service",
          "craft-repair",
          "priv-house-serv",
          "exec-managerial",
          "adm-clerical",
          "transport-moving",
          "priv-house-serv",
          "exec-managerial",
          "exec-managerial",
          "sales",
          "craft-repair",
          "sales",
          "exec-managerial",
          "handlers-cleaners",
          "armed-forces",
          "tech-support",
          "priv-house-serv",
          "priv-house-serv",
          "priv-house-serv",
          "transport-moving",
          "sales",
          "exec-managerial",
          "craft-repair",
          "transport-moving",
          "adm-clerical",
          "tech-support",
          "prof-specialty",
          "transport-moving",
          "other-service",
          "priv-house-serv",
          "other-service",
          "farming-fishing",
          "adm-clerical",
          "priv-house-serv",
          "sales",
          "craft-repair",
          "machine-op-inspct",
          "armed-forces",
          "protective-serv",
          "protective-serv",
          "craft-repair",
          "machine-op-inspct",
          "other-service",
          "armed-forces",
          "prof-specialty",
          "handlers-cleaners",
          "sales",
          "sales",
          "tech-support",
          "transport-moving",
          "protective-serv",
          "handlers-cleaners",
          "protective-serv",
          "craft-repair",
          "craft-repair",
          "machine-op-inspct",
          "priv-house-serv",
          "priv-house-serv",
          "protective-serv",
          "protective-serv",
          "adm-clerical",
          "transport-moving",
          "protective-serv",
          "handlers-cleaners",
          "sales",
          "tech-support",
          "adm-clerical",
          "tech-support",
          "priv-house-serv",
          "protective-serv",
          "craft-repair",
          "craft-repair",
          "farming-fishing",
          "handlers-cleaners",
          "handlers-cleaners",
          "adm-clerical",
          "other-service",
          "other-service",
          "armed-forces",
          "exec-managerial",
          "prof-specialty",
          "other-service",
          "exec-managerial",
          "exec-managerial",
          "sales",
          "craft-repair",
          "prof-specialty",
          "armed-forces",
          "handlers-cleaners",
          "sales"
         ],
         "xaxis": "x",
         "yaxis": "y"
        }
       ],
       "layout": {
        "barmode": "relative",
        "legend": {
         "title": {
          "text": "fraud_reported"
         },
         "tracegroupgap": 0
        },
        "margin": {
         "t": 60
        },
        "template": {
         "data": {
          "bar": [
           {
            "error_x": {
             "color": "#2a3f5f"
            },
            "error_y": {
             "color": "#2a3f5f"
            },
            "marker": {
             "line": {
              "color": "#E5ECF6",
              "width": 0.5
             },
             "pattern": {
              "fillmode": "overlay",
              "size": 10,
              "solidity": 0.2
             }
            },
            "type": "bar"
           }
          ],
          "barpolar": [
           {
            "marker": {
             "line": {
              "color": "#E5ECF6",
              "width": 0.5
             },
             "pattern": {
              "fillmode": "overlay",
              "size": 10,
              "solidity": 0.2
             }
            },
            "type": "barpolar"
           }
          ],
          "carpet": [
           {
            "aaxis": {
             "endlinecolor": "#2a3f5f",
             "gridcolor": "white",
             "linecolor": "white",
             "minorgridcolor": "white",
             "startlinecolor": "#2a3f5f"
            },
            "baxis": {
             "endlinecolor": "#2a3f5f",
             "gridcolor": "white",
             "linecolor": "white",
             "minorgridcolor": "white",
             "startlinecolor": "#2a3f5f"
            },
            "type": "carpet"
           }
          ],
          "choropleth": [
           {
            "colorbar": {
             "outlinewidth": 0,
             "ticks": ""
            },
            "type": "choropleth"
           }
          ],
          "contour": [
           {
            "colorbar": {
             "outlinewidth": 0,
             "ticks": ""
            },
            "colorscale": [
             [
              0,
              "#0d0887"
             ],
             [
              0.1111111111111111,
              "#46039f"
             ],
             [
              0.2222222222222222,
              "#7201a8"
             ],
             [
              0.3333333333333333,
              "#9c179e"
             ],
             [
              0.4444444444444444,
              "#bd3786"
             ],
             [
              0.5555555555555556,
              "#d8576b"
             ],
             [
              0.6666666666666666,
              "#ed7953"
             ],
             [
              0.7777777777777778,
              "#fb9f3a"
             ],
             [
              0.8888888888888888,
              "#fdca26"
             ],
             [
              1,
              "#f0f921"
             ]
            ],
            "type": "contour"
           }
          ],
          "contourcarpet": [
           {
            "colorbar": {
             "outlinewidth": 0,
             "ticks": ""
            },
            "type": "contourcarpet"
           }
          ],
          "heatmap": [
           {
            "colorbar": {
             "outlinewidth": 0,
             "ticks": ""
            },
            "colorscale": [
             [
              0,
              "#0d0887"
             ],
             [
              0.1111111111111111,
              "#46039f"
             ],
             [
              0.2222222222222222,
              "#7201a8"
             ],
             [
              0.3333333333333333,
              "#9c179e"
             ],
             [
              0.4444444444444444,
              "#bd3786"
             ],
             [
              0.5555555555555556,
              "#d8576b"
             ],
             [
              0.6666666666666666,
              "#ed7953"
             ],
             [
              0.7777777777777778,
              "#fb9f3a"
             ],
             [
              0.8888888888888888,
              "#fdca26"
             ],
             [
              1,
              "#f0f921"
             ]
            ],
            "type": "heatmap"
           }
          ],
          "heatmapgl": [
           {
            "colorbar": {
             "outlinewidth": 0,
             "ticks": ""
            },
            "colorscale": [
             [
              0,
              "#0d0887"
             ],
             [
              0.1111111111111111,
              "#46039f"
             ],
             [
              0.2222222222222222,
              "#7201a8"
             ],
             [
              0.3333333333333333,
              "#9c179e"
             ],
             [
              0.4444444444444444,
              "#bd3786"
             ],
             [
              0.5555555555555556,
              "#d8576b"
             ],
             [
              0.6666666666666666,
              "#ed7953"
             ],
             [
              0.7777777777777778,
              "#fb9f3a"
             ],
             [
              0.8888888888888888,
              "#fdca26"
             ],
             [
              1,
              "#f0f921"
             ]
            ],
            "type": "heatmapgl"
           }
          ],
          "histogram": [
           {
            "marker": {
             "pattern": {
              "fillmode": "overlay",
              "size": 10,
              "solidity": 0.2
             }
            },
            "type": "histogram"
           }
          ],
          "histogram2d": [
           {
            "colorbar": {
             "outlinewidth": 0,
             "ticks": ""
            },
            "colorscale": [
             [
              0,
              "#0d0887"
             ],
             [
              0.1111111111111111,
              "#46039f"
             ],
             [
              0.2222222222222222,
              "#7201a8"
             ],
             [
              0.3333333333333333,
              "#9c179e"
             ],
             [
              0.4444444444444444,
              "#bd3786"
             ],
             [
              0.5555555555555556,
              "#d8576b"
             ],
             [
              0.6666666666666666,
              "#ed7953"
             ],
             [
              0.7777777777777778,
              "#fb9f3a"
             ],
             [
              0.8888888888888888,
              "#fdca26"
             ],
             [
              1,
              "#f0f921"
             ]
            ],
            "type": "histogram2d"
           }
          ],
          "histogram2dcontour": [
           {
            "colorbar": {
             "outlinewidth": 0,
             "ticks": ""
            },
            "colorscale": [
             [
              0,
              "#0d0887"
             ],
             [
              0.1111111111111111,
              "#46039f"
             ],
             [
              0.2222222222222222,
              "#7201a8"
             ],
             [
              0.3333333333333333,
              "#9c179e"
             ],
             [
              0.4444444444444444,
              "#bd3786"
             ],
             [
              0.5555555555555556,
              "#d8576b"
             ],
             [
              0.6666666666666666,
              "#ed7953"
             ],
             [
              0.7777777777777778,
              "#fb9f3a"
             ],
             [
              0.8888888888888888,
              "#fdca26"
             ],
             [
              1,
              "#f0f921"
             ]
            ],
            "type": "histogram2dcontour"
           }
          ],
          "mesh3d": [
           {
            "colorbar": {
             "outlinewidth": 0,
             "ticks": ""
            },
            "type": "mesh3d"
           }
          ],
          "parcoords": [
           {
            "line": {
             "colorbar": {
              "outlinewidth": 0,
              "ticks": ""
             }
            },
            "type": "parcoords"
           }
          ],
          "pie": [
           {
            "automargin": true,
            "type": "pie"
           }
          ],
          "scatter": [
           {
            "marker": {
             "colorbar": {
              "outlinewidth": 0,
              "ticks": ""
             }
            },
            "type": "scatter"
           }
          ],
          "scatter3d": [
           {
            "line": {
             "colorbar": {
              "outlinewidth": 0,
              "ticks": ""
             }
            },
            "marker": {
             "colorbar": {
              "outlinewidth": 0,
              "ticks": ""
             }
            },
            "type": "scatter3d"
           }
          ],
          "scattercarpet": [
           {
            "marker": {
             "colorbar": {
              "outlinewidth": 0,
              "ticks": ""
             }
            },
            "type": "scattercarpet"
           }
          ],
          "scattergeo": [
           {
            "marker": {
             "colorbar": {
              "outlinewidth": 0,
              "ticks": ""
             }
            },
            "type": "scattergeo"
           }
          ],
          "scattergl": [
           {
            "marker": {
             "colorbar": {
              "outlinewidth": 0,
              "ticks": ""
             }
            },
            "type": "scattergl"
           }
          ],
          "scattermapbox": [
           {
            "marker": {
             "colorbar": {
              "outlinewidth": 0,
              "ticks": ""
             }
            },
            "type": "scattermapbox"
           }
          ],
          "scatterpolar": [
           {
            "marker": {
             "colorbar": {
              "outlinewidth": 0,
              "ticks": ""
             }
            },
            "type": "scatterpolar"
           }
          ],
          "scatterpolargl": [
           {
            "marker": {
             "colorbar": {
              "outlinewidth": 0,
              "ticks": ""
             }
            },
            "type": "scatterpolargl"
           }
          ],
          "scatterternary": [
           {
            "marker": {
             "colorbar": {
              "outlinewidth": 0,
              "ticks": ""
             }
            },
            "type": "scatterternary"
           }
          ],
          "surface": [
           {
            "colorbar": {
             "outlinewidth": 0,
             "ticks": ""
            },
            "colorscale": [
             [
              0,
              "#0d0887"
             ],
             [
              0.1111111111111111,
              "#46039f"
             ],
             [
              0.2222222222222222,
              "#7201a8"
             ],
             [
              0.3333333333333333,
              "#9c179e"
             ],
             [
              0.4444444444444444,
              "#bd3786"
             ],
             [
              0.5555555555555556,
              "#d8576b"
             ],
             [
              0.6666666666666666,
              "#ed7953"
             ],
             [
              0.7777777777777778,
              "#fb9f3a"
             ],
             [
              0.8888888888888888,
              "#fdca26"
             ],
             [
              1,
              "#f0f921"
             ]
            ],
            "type": "surface"
           }
          ],
          "table": [
           {
            "cells": {
             "fill": {
              "color": "#EBF0F8"
             },
             "line": {
              "color": "white"
             }
            },
            "header": {
             "fill": {
              "color": "#C8D4E3"
             },
             "line": {
              "color": "white"
             }
            },
            "type": "table"
           }
          ]
         },
         "layout": {
          "annotationdefaults": {
           "arrowcolor": "#2a3f5f",
           "arrowhead": 0,
           "arrowwidth": 1
          },
          "autotypenumbers": "strict",
          "coloraxis": {
           "colorbar": {
            "outlinewidth": 0,
            "ticks": ""
           }
          },
          "colorscale": {
           "diverging": [
            [
             0,
             "#8e0152"
            ],
            [
             0.1,
             "#c51b7d"
            ],
            [
             0.2,
             "#de77ae"
            ],
            [
             0.3,
             "#f1b6da"
            ],
            [
             0.4,
             "#fde0ef"
            ],
            [
             0.5,
             "#f7f7f7"
            ],
            [
             0.6,
             "#e6f5d0"
            ],
            [
             0.7,
             "#b8e186"
            ],
            [
             0.8,
             "#7fbc41"
            ],
            [
             0.9,
             "#4d9221"
            ],
            [
             1,
             "#276419"
            ]
           ],
           "sequential": [
            [
             0,
             "#0d0887"
            ],
            [
             0.1111111111111111,
             "#46039f"
            ],
            [
             0.2222222222222222,
             "#7201a8"
            ],
            [
             0.3333333333333333,
             "#9c179e"
            ],
            [
             0.4444444444444444,
             "#bd3786"
            ],
            [
             0.5555555555555556,
             "#d8576b"
            ],
            [
             0.6666666666666666,
             "#ed7953"
            ],
            [
             0.7777777777777778,
             "#fb9f3a"
            ],
            [
             0.8888888888888888,
             "#fdca26"
            ],
            [
             1,
             "#f0f921"
            ]
           ],
           "sequentialminus": [
            [
             0,
             "#0d0887"
            ],
            [
             0.1111111111111111,
             "#46039f"
            ],
            [
             0.2222222222222222,
             "#7201a8"
            ],
            [
             0.3333333333333333,
             "#9c179e"
            ],
            [
             0.4444444444444444,
             "#bd3786"
            ],
            [
             0.5555555555555556,
             "#d8576b"
            ],
            [
             0.6666666666666666,
             "#ed7953"
            ],
            [
             0.7777777777777778,
             "#fb9f3a"
            ],
            [
             0.8888888888888888,
             "#fdca26"
            ],
            [
             1,
             "#f0f921"
            ]
           ]
          },
          "colorway": [
           "#636efa",
           "#EF553B",
           "#00cc96",
           "#ab63fa",
           "#FFA15A",
           "#19d3f3",
           "#FF6692",
           "#B6E880",
           "#FF97FF",
           "#FECB52"
          ],
          "font": {
           "color": "#2a3f5f"
          },
          "geo": {
           "bgcolor": "white",
           "lakecolor": "white",
           "landcolor": "#E5ECF6",
           "showlakes": true,
           "showland": true,
           "subunitcolor": "white"
          },
          "hoverlabel": {
           "align": "left"
          },
          "hovermode": "closest",
          "mapbox": {
           "style": "light"
          },
          "paper_bgcolor": "white",
          "plot_bgcolor": "#E5ECF6",
          "polar": {
           "angularaxis": {
            "gridcolor": "white",
            "linecolor": "white",
            "ticks": ""
           },
           "bgcolor": "#E5ECF6",
           "radialaxis": {
            "gridcolor": "white",
            "linecolor": "white",
            "ticks": ""
           }
          },
          "scene": {
           "xaxis": {
            "backgroundcolor": "#E5ECF6",
            "gridcolor": "white",
            "gridwidth": 2,
            "linecolor": "white",
            "showbackground": true,
            "ticks": "",
            "zerolinecolor": "white"
           },
           "yaxis": {
            "backgroundcolor": "#E5ECF6",
            "gridcolor": "white",
            "gridwidth": 2,
            "linecolor": "white",
            "showbackground": true,
            "ticks": "",
            "zerolinecolor": "white"
           },
           "zaxis": {
            "backgroundcolor": "#E5ECF6",
            "gridcolor": "white",
            "gridwidth": 2,
            "linecolor": "white",
            "showbackground": true,
            "ticks": "",
            "zerolinecolor": "white"
           }
          },
          "shapedefaults": {
           "line": {
            "color": "#2a3f5f"
           }
          },
          "ternary": {
           "aaxis": {
            "gridcolor": "white",
            "linecolor": "white",
            "ticks": ""
           },
           "baxis": {
            "gridcolor": "white",
            "linecolor": "white",
            "ticks": ""
           },
           "bgcolor": "#E5ECF6",
           "caxis": {
            "gridcolor": "white",
            "linecolor": "white",
            "ticks": ""
           }
          },
          "title": {
           "x": 0.05
          },
          "xaxis": {
           "automargin": true,
           "gridcolor": "white",
           "linecolor": "white",
           "ticks": "",
           "title": {
            "standoff": 15
           },
           "zerolinecolor": "white",
           "zerolinewidth": 2
          },
          "yaxis": {
           "automargin": true,
           "gridcolor": "white",
           "linecolor": "white",
           "ticks": "",
           "title": {
            "standoff": 15
           },
           "zerolinecolor": "white",
           "zerolinewidth": 2
          }
         }
        },
        "xaxis": {
         "anchor": "y",
         "domain": [
          0,
          1
         ],
         "title": {
          "text": "insured_occupation"
         }
        },
        "yaxis": {
         "anchor": "x",
         "domain": [
          0,
          1
         ],
         "title": {
          "text": "count"
         }
        }
       }
      }
     },
     "metadata": {},
     "output_type": "display_data"
    }
   ],
   "source": [
    "fig = px.histogram(df, x=\"insured_occupation\", color=\"fraud_reported\")\n",
    "fig.show()"
   ]
  },
  {
   "cell_type": "code",
   "execution_count": 30,
   "metadata": {},
   "outputs": [
    {
     "data": {
      "application/vnd.plotly.v1+json": {
       "config": {
        "plotlyServerURL": "https://plot.ly"
       },
       "data": [
        {
         "alignmentgroup": "True",
         "bingroup": "x",
         "hovertemplate": "fraud_reported=Y<br>insured_hobbies=%{x}<br>count=%{y}<extra></extra>",
         "legendgroup": "Y",
         "marker": {
          "color": "#636efa",
          "pattern": {
           "shape": ""
          }
         },
         "name": "Y",
         "offsetgroup": "Y",
         "orientation": "v",
         "showlegend": true,
         "type": "histogram",
         "x": [
          "sleeping",
          "reading",
          "board-games",
          "bungie-jumping",
          "board-games",
          "movies",
          "paintball",
          "chess",
          "polo",
          "chess",
          "reading",
          "reading",
          "camping",
          "video-games",
          "chess",
          "kayaking",
          "base-jumping",
          "video-games",
          "chess",
          "chess",
          "paintball",
          "sleeping",
          "cross-fit",
          "polo",
          "movies",
          "exercise",
          "exercise",
          "hiking",
          "skydiving",
          "basketball",
          "basketball",
          "chess",
          "dancing",
          "hiking",
          "exercise",
          "video-games",
          "skydiving",
          "basketball",
          "sleeping",
          "yachting",
          "yachting",
          "cross-fit",
          "polo",
          "reading",
          "skydiving",
          "kayaking",
          "reading",
          "bungie-jumping",
          "sleeping",
          "board-games",
          "hiking",
          "cross-fit",
          "cross-fit",
          "hiking",
          "skydiving",
          "chess",
          "reading",
          "cross-fit",
          "bungie-jumping",
          "exercise",
          "base-jumping",
          "bungie-jumping",
          "polo",
          "cross-fit",
          "skydiving",
          "golf",
          "chess",
          "yachting",
          "yachting",
          "movies",
          "base-jumping",
          "cross-fit",
          "dancing",
          "reading",
          "golf",
          "hiking",
          "paintball",
          "cross-fit",
          "exercise",
          "cross-fit",
          "sleeping",
          "movies",
          "polo",
          "golf",
          "base-jumping",
          "kayaking",
          "cross-fit",
          "dancing",
          "base-jumping",
          "reading",
          "sleeping",
          "base-jumping",
          "board-games",
          "reading",
          "cross-fit",
          "skydiving",
          "board-games",
          "bungie-jumping",
          "paintball",
          "yachting",
          "polo",
          "paintball",
          "reading",
          "polo",
          "chess",
          "yachting",
          "base-jumping",
          "reading",
          "golf",
          "chess",
          "reading",
          "skydiving",
          "cross-fit",
          "base-jumping",
          "basketball",
          "camping",
          "base-jumping",
          "chess",
          "exercise",
          "chess",
          "movies",
          "base-jumping",
          "hiking",
          "skydiving",
          "chess",
          "polo",
          "cross-fit",
          "chess",
          "yachting",
          "golf",
          "cross-fit",
          "board-games",
          "exercise",
          "skydiving",
          "chess",
          "hiking",
          "video-games",
          "dancing",
          "paintball",
          "yachting",
          "polo",
          "chess",
          "board-games",
          "yachting",
          "chess",
          "movies",
          "board-games",
          "chess",
          "board-games",
          "camping",
          "yachting",
          "yachting",
          "polo",
          "chess",
          "cross-fit",
          "chess",
          "board-games",
          "chess",
          "yachting",
          "hiking",
          "chess",
          "dancing",
          "chess",
          "chess",
          "paintball",
          "chess",
          "cross-fit",
          "yachting",
          "cross-fit",
          "chess",
          "paintball",
          "chess",
          "reading",
          "movies",
          "video-games",
          "paintball",
          "base-jumping",
          "cross-fit",
          "exercise",
          "cross-fit",
          "chess",
          "video-games",
          "chess",
          "exercise",
          "chess",
          "reading",
          "hiking",
          "polo",
          "polo",
          "cross-fit",
          "camping",
          "board-games",
          "hiking",
          "yachting",
          "reading",
          "paintball",
          "basketball",
          "paintball",
          "chess",
          "cross-fit",
          "hiking",
          "cross-fit",
          "reading",
          "chess",
          "bungie-jumping",
          "cross-fit",
          "paintball",
          "basketball",
          "chess",
          "movies",
          "golf",
          "movies",
          "camping",
          "chess",
          "board-games",
          "video-games",
          "polo",
          "chess",
          "skydiving",
          "chess",
          "base-jumping",
          "sleeping",
          "video-games",
          "skydiving",
          "bungie-jumping",
          "board-games",
          "paintball",
          "kayaking",
          "chess",
          "chess",
          "video-games",
          "bungie-jumping",
          "yachting",
          "sleeping",
          "cross-fit",
          "exercise",
          "bungie-jumping",
          "hiking",
          "cross-fit",
          "base-jumping",
          "exercise",
          "reading",
          "video-games",
          "board-games",
          "cross-fit",
          "kayaking",
          "yachting"
         ],
         "xaxis": "x",
         "yaxis": "y"
        },
        {
         "alignmentgroup": "True",
         "bingroup": "x",
         "hovertemplate": "fraud_reported=N<br>insured_hobbies=%{x}<br>count=%{y}<extra></extra>",
         "legendgroup": "N",
         "marker": {
          "color": "#EF553B",
          "pattern": {
           "shape": ""
          }
         },
         "name": "N",
         "offsetgroup": "N",
         "orientation": "v",
         "showlegend": true,
         "type": "histogram",
         "x": [
          "board-games",
          "board-games",
          "board-games",
          "base-jumping",
          "golf",
          "camping",
          "dancing",
          "skydiving",
          "reading",
          "bungie-jumping",
          "hiking",
          "reading",
          "yachting",
          "camping",
          "bungie-jumping",
          "skydiving",
          "kayaking",
          "golf",
          "kayaking",
          "basketball",
          "video-games",
          "yachting",
          "video-games",
          "yachting",
          "golf",
          "bungie-jumping",
          "kayaking",
          "hiking",
          "reading",
          "reading",
          "yachting",
          "polo",
          "dancing",
          "movies",
          "bungie-jumping",
          "polo",
          "basketball",
          "movies",
          "movies",
          "skydiving",
          "chess",
          "hiking",
          "yachting",
          "kayaking",
          "basketball",
          "bungie-jumping",
          "reading",
          "movies",
          "kayaking",
          "paintball",
          "golf",
          "yachting",
          "bungie-jumping",
          "golf",
          "dancing",
          "kayaking",
          "paintball",
          "video-games",
          "bungie-jumping",
          "video-games",
          "board-games",
          "yachting",
          "yachting",
          "kayaking",
          "board-games",
          "yachting",
          "exercise",
          "hiking",
          "exercise",
          "kayaking",
          "reading",
          "yachting",
          "exercise",
          "bungie-jumping",
          "kayaking",
          "basketball",
          "kayaking",
          "camping",
          "video-games",
          "polo",
          "camping",
          "reading",
          "bungie-jumping",
          "yachting",
          "camping",
          "board-games",
          "movies",
          "paintball",
          "dancing",
          "video-games",
          "exercise",
          "camping",
          "paintball",
          "exercise",
          "skydiving",
          "basketball",
          "exercise",
          "golf",
          "basketball",
          "hiking",
          "camping",
          "video-games",
          "video-games",
          "video-games",
          "golf",
          "base-jumping",
          "polo",
          "paintball",
          "exercise",
          "hiking",
          "movies",
          "video-games",
          "reading",
          "dancing",
          "polo",
          "polo",
          "bungie-jumping",
          "yachting",
          "bungie-jumping",
          "movies",
          "hiking",
          "board-games",
          "kayaking",
          "kayaking",
          "board-games",
          "dancing",
          "kayaking",
          "skydiving",
          "exercise",
          "basketball",
          "reading",
          "exercise",
          "sleeping",
          "bungie-jumping",
          "exercise",
          "polo",
          "movies",
          "hiking",
          "basketball",
          "hiking",
          "basketball",
          "bungie-jumping",
          "camping",
          "bungie-jumping",
          "paintball",
          "golf",
          "base-jumping",
          "board-games",
          "paintball",
          "kayaking",
          "exercise",
          "golf",
          "hiking",
          "reading",
          "movies",
          "skydiving",
          "yachting",
          "base-jumping",
          "yachting",
          "camping",
          "exercise",
          "yachting",
          "board-games",
          "kayaking",
          "basketball",
          "paintball",
          "kayaking",
          "dancing",
          "base-jumping",
          "dancing",
          "exercise",
          "paintball",
          "kayaking",
          "golf",
          "reading",
          "dancing",
          "cross-fit",
          "camping",
          "paintball",
          "board-games",
          "golf",
          "golf",
          "paintball",
          "bungie-jumping",
          "golf",
          "base-jumping",
          "base-jumping",
          "skydiving",
          "base-jumping",
          "kayaking",
          "movies",
          "video-games",
          "reading",
          "camping",
          "camping",
          "camping",
          "skydiving",
          "skydiving",
          "board-games",
          "paintball",
          "sleeping",
          "movies",
          "video-games",
          "basketball",
          "kayaking",
          "hiking",
          "golf",
          "hiking",
          "kayaking",
          "golf",
          "dancing",
          "basketball",
          "reading",
          "dancing",
          "golf",
          "video-games",
          "base-jumping",
          "yachting",
          "base-jumping",
          "camping",
          "bungie-jumping",
          "hiking",
          "golf",
          "skydiving",
          "board-games",
          "golf",
          "bungie-jumping",
          "bungie-jumping",
          "camping",
          "yachting",
          "video-games",
          "polo",
          "movies",
          "board-games",
          "sleeping",
          "bungie-jumping",
          "yachting",
          "base-jumping",
          "base-jumping",
          "reading",
          "hiking",
          "camping",
          "sleeping",
          "camping",
          "movies",
          "video-games",
          "movies",
          "sleeping",
          "hiking",
          "skydiving",
          "base-jumping",
          "cross-fit",
          "polo",
          "camping",
          "skydiving",
          "base-jumping",
          "golf",
          "paintball",
          "movies",
          "basketball",
          "polo",
          "dancing",
          "hiking",
          "hiking",
          "exercise",
          "dancing",
          "video-games",
          "chess",
          "reading",
          "exercise",
          "polo",
          "sleeping",
          "sleeping",
          "base-jumping",
          "board-games",
          "base-jumping",
          "paintball",
          "camping",
          "base-jumping",
          "sleeping",
          "golf",
          "golf",
          "board-games",
          "video-games",
          "video-games",
          "exercise",
          "dancing",
          "dancing",
          "exercise",
          "video-games",
          "base-jumping",
          "skydiving",
          "skydiving",
          "exercise",
          "sleeping",
          "camping",
          "cross-fit",
          "polo",
          "video-games",
          "camping",
          "movies",
          "paintball",
          "basketball",
          "bungie-jumping",
          "exercise",
          "board-games",
          "paintball",
          "chess",
          "video-games",
          "hiking",
          "kayaking",
          "cross-fit",
          "polo",
          "bungie-jumping",
          "sleeping",
          "yachting",
          "exercise",
          "skydiving",
          "reading",
          "bungie-jumping",
          "sleeping",
          "polo",
          "yachting",
          "board-games",
          "paintball",
          "reading",
          "dancing",
          "exercise",
          "yachting",
          "reading",
          "base-jumping",
          "reading",
          "board-games",
          "reading",
          "board-games",
          "video-games",
          "yachting",
          "board-games",
          "yachting",
          "board-games",
          "golf",
          "skydiving",
          "dancing",
          "camping",
          "exercise",
          "yachting",
          "kayaking",
          "video-games",
          "hiking",
          "kayaking",
          "golf",
          "sleeping",
          "polo",
          "camping",
          "video-games",
          "exercise",
          "golf",
          "yachting",
          "exercise",
          "movies",
          "reading",
          "camping",
          "reading",
          "camping",
          "hiking",
          "base-jumping",
          "camping",
          "paintball",
          "sleeping",
          "exercise",
          "board-games",
          "reading",
          "paintball",
          "yachting",
          "board-games",
          "golf",
          "reading",
          "paintball",
          "hiking",
          "cross-fit",
          "movies",
          "exercise",
          "camping",
          "exercise",
          "hiking",
          "skydiving",
          "hiking",
          "video-games",
          "skydiving",
          "exercise",
          "kayaking",
          "basketball",
          "kayaking",
          "exercise",
          "dancing",
          "skydiving",
          "paintball",
          "sleeping",
          "basketball",
          "reading",
          "hiking",
          "reading",
          "paintball",
          "paintball",
          "golf",
          "paintball",
          "board-games",
          "golf",
          "dancing",
          "basketball",
          "basketball",
          "camping",
          "hiking",
          "sleeping",
          "polo",
          "movies",
          "bungie-jumping",
          "dancing",
          "hiking",
          "hiking",
          "exercise",
          "dancing",
          "camping",
          "camping",
          "movies",
          "paintball",
          "paintball",
          "skydiving",
          "dancing",
          "polo",
          "base-jumping",
          "movies",
          "movies",
          "polo",
          "exercise",
          "yachting",
          "yachting",
          "skydiving",
          "hiking",
          "chess",
          "bungie-jumping",
          "sleeping",
          "exercise",
          "golf",
          "camping",
          "bungie-jumping",
          "bungie-jumping",
          "video-games",
          "movies",
          "reading",
          "golf",
          "reading",
          "polo",
          "dancing",
          "kayaking",
          "kayaking",
          "chess",
          "board-games",
          "yachting",
          "paintball",
          "sleeping",
          "video-games",
          "kayaking",
          "polo",
          "camping",
          "reading",
          "hiking",
          "camping",
          "base-jumping",
          "kayaking",
          "video-games",
          "golf",
          "bungie-jumping",
          "polo",
          "dancing",
          "video-games",
          "movies",
          "base-jumping",
          "golf",
          "bungie-jumping",
          "golf",
          "yachting",
          "bungie-jumping",
          "base-jumping",
          "board-games",
          "movies",
          "golf",
          "kayaking",
          "yachting",
          "camping",
          "video-games",
          "sleeping",
          "skydiving",
          "skydiving",
          "reading",
          "paintball",
          "hiking",
          "sleeping",
          "bungie-jumping",
          "camping",
          "exercise",
          "dancing",
          "golf",
          "polo",
          "exercise",
          "sleeping",
          "paintball",
          "reading",
          "camping",
          "hiking",
          "polo",
          "skydiving",
          "polo",
          "golf",
          "video-games",
          "bungie-jumping",
          "sleeping",
          "skydiving",
          "paintball",
          "kayaking",
          "reading",
          "movies",
          "kayaking",
          "sleeping",
          "reading",
          "camping",
          "movies",
          "base-jumping",
          "paintball",
          "basketball",
          "golf",
          "exercise",
          "golf",
          "dancing",
          "kayaking",
          "base-jumping",
          "kayaking",
          "movies",
          "sleeping",
          "camping",
          "polo",
          "bungie-jumping",
          "skydiving",
          "basketball",
          "exercise",
          "dancing",
          "exercise",
          "kayaking",
          "camping",
          "reading",
          "golf",
          "bungie-jumping",
          "skydiving",
          "cross-fit",
          "kayaking",
          "movies",
          "movies",
          "golf",
          "movies",
          "hiking",
          "cross-fit",
          "yachting",
          "basketball",
          "bungie-jumping",
          "hiking",
          "kayaking",
          "basketball",
          "hiking",
          "sleeping",
          "movies",
          "reading",
          "movies",
          "video-games",
          "polo",
          "hiking",
          "paintball",
          "yachting",
          "kayaking",
          "bungie-jumping",
          "skydiving",
          "exercise",
          "skydiving",
          "dancing",
          "video-games",
          "board-games",
          "bungie-jumping",
          "dancing",
          "board-games",
          "reading",
          "paintball",
          "exercise",
          "kayaking",
          "hiking",
          "movies",
          "paintball",
          "yachting",
          "dancing",
          "video-games",
          "kayaking",
          "basketball",
          "base-jumping",
          "kayaking",
          "dancing",
          "dancing",
          "base-jumping",
          "kayaking",
          "dancing",
          "video-games",
          "dancing",
          "camping",
          "bungie-jumping",
          "paintball",
          "camping",
          "basketball",
          "polo",
          "camping",
          "kayaking",
          "skydiving",
          "movies",
          "paintball",
          "golf",
          "hiking",
          "paintball",
          "skydiving",
          "reading",
          "basketball",
          "kayaking",
          "reading",
          "golf",
          "reading",
          "reading",
          "video-games",
          "golf",
          "base-jumping",
          "bungie-jumping",
          "golf",
          "polo",
          "chess",
          "golf",
          "kayaking",
          "reading",
          "reading",
          "dancing",
          "bungie-jumping",
          "golf",
          "golf",
          "bungie-jumping",
          "video-games",
          "base-jumping",
          "exercise",
          "skydiving",
          "skydiving",
          "bungie-jumping",
          "kayaking",
          "reading",
          "reading",
          "exercise",
          "polo",
          "dancing",
          "paintball",
          "paintball",
          "exercise",
          "exercise",
          "chess",
          "sleeping",
          "sleeping",
          "camping",
          "yachting",
          "sleeping",
          "movies",
          "board-games",
          "sleeping",
          "basketball",
          "paintball",
          "video-games",
          "sleeping",
          "skydiving",
          "basketball",
          "movies",
          "camping",
          "paintball",
          "base-jumping",
          "skydiving",
          "dancing",
          "kayaking",
          "movies",
          "cross-fit",
          "golf",
          "chess",
          "exercise",
          "base-jumping",
          "camping",
          "polo",
          "hiking",
          "skydiving",
          "video-games",
          "polo",
          "sleeping",
          "polo",
          "reading",
          "camping",
          "polo",
          "hiking",
          "movies",
          "exercise",
          "base-jumping",
          "bungie-jumping",
          "movies",
          "yachting",
          "board-games",
          "exercise",
          "bungie-jumping",
          "video-games",
          "reading",
          "sleeping",
          "reading",
          "yachting",
          "movies",
          "golf",
          "skydiving",
          "sleeping",
          "movies",
          "board-games",
          "bungie-jumping",
          "board-games",
          "skydiving",
          "camping",
          "kayaking",
          "paintball",
          "movies",
          "movies",
          "paintball",
          "polo",
          "board-games",
          "golf",
          "base-jumping",
          "camping",
          "bungie-jumping",
          "hiking",
          "cross-fit",
          "base-jumping",
          "dancing",
          "movies",
          "movies",
          "basketball",
          "camping",
          "camping",
          "bungie-jumping",
          "paintball",
          "sleeping",
          "bungie-jumping",
          "base-jumping",
          "kayaking"
         ],
         "xaxis": "x",
         "yaxis": "y"
        }
       ],
       "layout": {
        "barmode": "relative",
        "legend": {
         "title": {
          "text": "fraud_reported"
         },
         "tracegroupgap": 0
        },
        "margin": {
         "t": 60
        },
        "template": {
         "data": {
          "bar": [
           {
            "error_x": {
             "color": "#2a3f5f"
            },
            "error_y": {
             "color": "#2a3f5f"
            },
            "marker": {
             "line": {
              "color": "#E5ECF6",
              "width": 0.5
             },
             "pattern": {
              "fillmode": "overlay",
              "size": 10,
              "solidity": 0.2
             }
            },
            "type": "bar"
           }
          ],
          "barpolar": [
           {
            "marker": {
             "line": {
              "color": "#E5ECF6",
              "width": 0.5
             },
             "pattern": {
              "fillmode": "overlay",
              "size": 10,
              "solidity": 0.2
             }
            },
            "type": "barpolar"
           }
          ],
          "carpet": [
           {
            "aaxis": {
             "endlinecolor": "#2a3f5f",
             "gridcolor": "white",
             "linecolor": "white",
             "minorgridcolor": "white",
             "startlinecolor": "#2a3f5f"
            },
            "baxis": {
             "endlinecolor": "#2a3f5f",
             "gridcolor": "white",
             "linecolor": "white",
             "minorgridcolor": "white",
             "startlinecolor": "#2a3f5f"
            },
            "type": "carpet"
           }
          ],
          "choropleth": [
           {
            "colorbar": {
             "outlinewidth": 0,
             "ticks": ""
            },
            "type": "choropleth"
           }
          ],
          "contour": [
           {
            "colorbar": {
             "outlinewidth": 0,
             "ticks": ""
            },
            "colorscale": [
             [
              0,
              "#0d0887"
             ],
             [
              0.1111111111111111,
              "#46039f"
             ],
             [
              0.2222222222222222,
              "#7201a8"
             ],
             [
              0.3333333333333333,
              "#9c179e"
             ],
             [
              0.4444444444444444,
              "#bd3786"
             ],
             [
              0.5555555555555556,
              "#d8576b"
             ],
             [
              0.6666666666666666,
              "#ed7953"
             ],
             [
              0.7777777777777778,
              "#fb9f3a"
             ],
             [
              0.8888888888888888,
              "#fdca26"
             ],
             [
              1,
              "#f0f921"
             ]
            ],
            "type": "contour"
           }
          ],
          "contourcarpet": [
           {
            "colorbar": {
             "outlinewidth": 0,
             "ticks": ""
            },
            "type": "contourcarpet"
           }
          ],
          "heatmap": [
           {
            "colorbar": {
             "outlinewidth": 0,
             "ticks": ""
            },
            "colorscale": [
             [
              0,
              "#0d0887"
             ],
             [
              0.1111111111111111,
              "#46039f"
             ],
             [
              0.2222222222222222,
              "#7201a8"
             ],
             [
              0.3333333333333333,
              "#9c179e"
             ],
             [
              0.4444444444444444,
              "#bd3786"
             ],
             [
              0.5555555555555556,
              "#d8576b"
             ],
             [
              0.6666666666666666,
              "#ed7953"
             ],
             [
              0.7777777777777778,
              "#fb9f3a"
             ],
             [
              0.8888888888888888,
              "#fdca26"
             ],
             [
              1,
              "#f0f921"
             ]
            ],
            "type": "heatmap"
           }
          ],
          "heatmapgl": [
           {
            "colorbar": {
             "outlinewidth": 0,
             "ticks": ""
            },
            "colorscale": [
             [
              0,
              "#0d0887"
             ],
             [
              0.1111111111111111,
              "#46039f"
             ],
             [
              0.2222222222222222,
              "#7201a8"
             ],
             [
              0.3333333333333333,
              "#9c179e"
             ],
             [
              0.4444444444444444,
              "#bd3786"
             ],
             [
              0.5555555555555556,
              "#d8576b"
             ],
             [
              0.6666666666666666,
              "#ed7953"
             ],
             [
              0.7777777777777778,
              "#fb9f3a"
             ],
             [
              0.8888888888888888,
              "#fdca26"
             ],
             [
              1,
              "#f0f921"
             ]
            ],
            "type": "heatmapgl"
           }
          ],
          "histogram": [
           {
            "marker": {
             "pattern": {
              "fillmode": "overlay",
              "size": 10,
              "solidity": 0.2
             }
            },
            "type": "histogram"
           }
          ],
          "histogram2d": [
           {
            "colorbar": {
             "outlinewidth": 0,
             "ticks": ""
            },
            "colorscale": [
             [
              0,
              "#0d0887"
             ],
             [
              0.1111111111111111,
              "#46039f"
             ],
             [
              0.2222222222222222,
              "#7201a8"
             ],
             [
              0.3333333333333333,
              "#9c179e"
             ],
             [
              0.4444444444444444,
              "#bd3786"
             ],
             [
              0.5555555555555556,
              "#d8576b"
             ],
             [
              0.6666666666666666,
              "#ed7953"
             ],
             [
              0.7777777777777778,
              "#fb9f3a"
             ],
             [
              0.8888888888888888,
              "#fdca26"
             ],
             [
              1,
              "#f0f921"
             ]
            ],
            "type": "histogram2d"
           }
          ],
          "histogram2dcontour": [
           {
            "colorbar": {
             "outlinewidth": 0,
             "ticks": ""
            },
            "colorscale": [
             [
              0,
              "#0d0887"
             ],
             [
              0.1111111111111111,
              "#46039f"
             ],
             [
              0.2222222222222222,
              "#7201a8"
             ],
             [
              0.3333333333333333,
              "#9c179e"
             ],
             [
              0.4444444444444444,
              "#bd3786"
             ],
             [
              0.5555555555555556,
              "#d8576b"
             ],
             [
              0.6666666666666666,
              "#ed7953"
             ],
             [
              0.7777777777777778,
              "#fb9f3a"
             ],
             [
              0.8888888888888888,
              "#fdca26"
             ],
             [
              1,
              "#f0f921"
             ]
            ],
            "type": "histogram2dcontour"
           }
          ],
          "mesh3d": [
           {
            "colorbar": {
             "outlinewidth": 0,
             "ticks": ""
            },
            "type": "mesh3d"
           }
          ],
          "parcoords": [
           {
            "line": {
             "colorbar": {
              "outlinewidth": 0,
              "ticks": ""
             }
            },
            "type": "parcoords"
           }
          ],
          "pie": [
           {
            "automargin": true,
            "type": "pie"
           }
          ],
          "scatter": [
           {
            "marker": {
             "colorbar": {
              "outlinewidth": 0,
              "ticks": ""
             }
            },
            "type": "scatter"
           }
          ],
          "scatter3d": [
           {
            "line": {
             "colorbar": {
              "outlinewidth": 0,
              "ticks": ""
             }
            },
            "marker": {
             "colorbar": {
              "outlinewidth": 0,
              "ticks": ""
             }
            },
            "type": "scatter3d"
           }
          ],
          "scattercarpet": [
           {
            "marker": {
             "colorbar": {
              "outlinewidth": 0,
              "ticks": ""
             }
            },
            "type": "scattercarpet"
           }
          ],
          "scattergeo": [
           {
            "marker": {
             "colorbar": {
              "outlinewidth": 0,
              "ticks": ""
             }
            },
            "type": "scattergeo"
           }
          ],
          "scattergl": [
           {
            "marker": {
             "colorbar": {
              "outlinewidth": 0,
              "ticks": ""
             }
            },
            "type": "scattergl"
           }
          ],
          "scattermapbox": [
           {
            "marker": {
             "colorbar": {
              "outlinewidth": 0,
              "ticks": ""
             }
            },
            "type": "scattermapbox"
           }
          ],
          "scatterpolar": [
           {
            "marker": {
             "colorbar": {
              "outlinewidth": 0,
              "ticks": ""
             }
            },
            "type": "scatterpolar"
           }
          ],
          "scatterpolargl": [
           {
            "marker": {
             "colorbar": {
              "outlinewidth": 0,
              "ticks": ""
             }
            },
            "type": "scatterpolargl"
           }
          ],
          "scatterternary": [
           {
            "marker": {
             "colorbar": {
              "outlinewidth": 0,
              "ticks": ""
             }
            },
            "type": "scatterternary"
           }
          ],
          "surface": [
           {
            "colorbar": {
             "outlinewidth": 0,
             "ticks": ""
            },
            "colorscale": [
             [
              0,
              "#0d0887"
             ],
             [
              0.1111111111111111,
              "#46039f"
             ],
             [
              0.2222222222222222,
              "#7201a8"
             ],
             [
              0.3333333333333333,
              "#9c179e"
             ],
             [
              0.4444444444444444,
              "#bd3786"
             ],
             [
              0.5555555555555556,
              "#d8576b"
             ],
             [
              0.6666666666666666,
              "#ed7953"
             ],
             [
              0.7777777777777778,
              "#fb9f3a"
             ],
             [
              0.8888888888888888,
              "#fdca26"
             ],
             [
              1,
              "#f0f921"
             ]
            ],
            "type": "surface"
           }
          ],
          "table": [
           {
            "cells": {
             "fill": {
              "color": "#EBF0F8"
             },
             "line": {
              "color": "white"
             }
            },
            "header": {
             "fill": {
              "color": "#C8D4E3"
             },
             "line": {
              "color": "white"
             }
            },
            "type": "table"
           }
          ]
         },
         "layout": {
          "annotationdefaults": {
           "arrowcolor": "#2a3f5f",
           "arrowhead": 0,
           "arrowwidth": 1
          },
          "autotypenumbers": "strict",
          "coloraxis": {
           "colorbar": {
            "outlinewidth": 0,
            "ticks": ""
           }
          },
          "colorscale": {
           "diverging": [
            [
             0,
             "#8e0152"
            ],
            [
             0.1,
             "#c51b7d"
            ],
            [
             0.2,
             "#de77ae"
            ],
            [
             0.3,
             "#f1b6da"
            ],
            [
             0.4,
             "#fde0ef"
            ],
            [
             0.5,
             "#f7f7f7"
            ],
            [
             0.6,
             "#e6f5d0"
            ],
            [
             0.7,
             "#b8e186"
            ],
            [
             0.8,
             "#7fbc41"
            ],
            [
             0.9,
             "#4d9221"
            ],
            [
             1,
             "#276419"
            ]
           ],
           "sequential": [
            [
             0,
             "#0d0887"
            ],
            [
             0.1111111111111111,
             "#46039f"
            ],
            [
             0.2222222222222222,
             "#7201a8"
            ],
            [
             0.3333333333333333,
             "#9c179e"
            ],
            [
             0.4444444444444444,
             "#bd3786"
            ],
            [
             0.5555555555555556,
             "#d8576b"
            ],
            [
             0.6666666666666666,
             "#ed7953"
            ],
            [
             0.7777777777777778,
             "#fb9f3a"
            ],
            [
             0.8888888888888888,
             "#fdca26"
            ],
            [
             1,
             "#f0f921"
            ]
           ],
           "sequentialminus": [
            [
             0,
             "#0d0887"
            ],
            [
             0.1111111111111111,
             "#46039f"
            ],
            [
             0.2222222222222222,
             "#7201a8"
            ],
            [
             0.3333333333333333,
             "#9c179e"
            ],
            [
             0.4444444444444444,
             "#bd3786"
            ],
            [
             0.5555555555555556,
             "#d8576b"
            ],
            [
             0.6666666666666666,
             "#ed7953"
            ],
            [
             0.7777777777777778,
             "#fb9f3a"
            ],
            [
             0.8888888888888888,
             "#fdca26"
            ],
            [
             1,
             "#f0f921"
            ]
           ]
          },
          "colorway": [
           "#636efa",
           "#EF553B",
           "#00cc96",
           "#ab63fa",
           "#FFA15A",
           "#19d3f3",
           "#FF6692",
           "#B6E880",
           "#FF97FF",
           "#FECB52"
          ],
          "font": {
           "color": "#2a3f5f"
          },
          "geo": {
           "bgcolor": "white",
           "lakecolor": "white",
           "landcolor": "#E5ECF6",
           "showlakes": true,
           "showland": true,
           "subunitcolor": "white"
          },
          "hoverlabel": {
           "align": "left"
          },
          "hovermode": "closest",
          "mapbox": {
           "style": "light"
          },
          "paper_bgcolor": "white",
          "plot_bgcolor": "#E5ECF6",
          "polar": {
           "angularaxis": {
            "gridcolor": "white",
            "linecolor": "white",
            "ticks": ""
           },
           "bgcolor": "#E5ECF6",
           "radialaxis": {
            "gridcolor": "white",
            "linecolor": "white",
            "ticks": ""
           }
          },
          "scene": {
           "xaxis": {
            "backgroundcolor": "#E5ECF6",
            "gridcolor": "white",
            "gridwidth": 2,
            "linecolor": "white",
            "showbackground": true,
            "ticks": "",
            "zerolinecolor": "white"
           },
           "yaxis": {
            "backgroundcolor": "#E5ECF6",
            "gridcolor": "white",
            "gridwidth": 2,
            "linecolor": "white",
            "showbackground": true,
            "ticks": "",
            "zerolinecolor": "white"
           },
           "zaxis": {
            "backgroundcolor": "#E5ECF6",
            "gridcolor": "white",
            "gridwidth": 2,
            "linecolor": "white",
            "showbackground": true,
            "ticks": "",
            "zerolinecolor": "white"
           }
          },
          "shapedefaults": {
           "line": {
            "color": "#2a3f5f"
           }
          },
          "ternary": {
           "aaxis": {
            "gridcolor": "white",
            "linecolor": "white",
            "ticks": ""
           },
           "baxis": {
            "gridcolor": "white",
            "linecolor": "white",
            "ticks": ""
           },
           "bgcolor": "#E5ECF6",
           "caxis": {
            "gridcolor": "white",
            "linecolor": "white",
            "ticks": ""
           }
          },
          "title": {
           "x": 0.05
          },
          "xaxis": {
           "automargin": true,
           "gridcolor": "white",
           "linecolor": "white",
           "ticks": "",
           "title": {
            "standoff": 15
           },
           "zerolinecolor": "white",
           "zerolinewidth": 2
          },
          "yaxis": {
           "automargin": true,
           "gridcolor": "white",
           "linecolor": "white",
           "ticks": "",
           "title": {
            "standoff": 15
           },
           "zerolinecolor": "white",
           "zerolinewidth": 2
          }
         }
        },
        "xaxis": {
         "anchor": "y",
         "domain": [
          0,
          1
         ],
         "title": {
          "text": "insured_hobbies"
         }
        },
        "yaxis": {
         "anchor": "x",
         "domain": [
          0,
          1
         ],
         "title": {
          "text": "count"
         }
        }
       }
      }
     },
     "metadata": {},
     "output_type": "display_data"
    }
   ],
   "source": [
    "fig = px.histogram(df, x=\"insured_hobbies\", color=\"fraud_reported\")\n",
    "fig.show()"
   ]
  },
  {
   "cell_type": "code",
   "execution_count": 31,
   "metadata": {},
   "outputs": [
    {
     "data": {
      "application/vnd.plotly.v1+json": {
       "config": {
        "plotlyServerURL": "https://plot.ly"
       },
       "data": [
        {
         "alignmentgroup": "True",
         "bingroup": "x",
         "hovertemplate": "fraud_reported=Y<br>insured_relationship=%{x}<br>count=%{y}<extra></extra>",
         "legendgroup": "Y",
         "marker": {
          "color": "#636efa",
          "pattern": {
           "shape": ""
          }
         },
         "name": "Y",
         "offsetgroup": "Y",
         "orientation": "v",
         "showlegend": true,
         "type": "histogram",
         "x": [
          "husband",
          "other-relative",
          "unmarried",
          "unmarried",
          "not-in-family",
          "other-relative",
          "other-relative",
          "own-child",
          "own-child",
          "not-in-family",
          "husband",
          "not-in-family",
          "unmarried",
          "wife",
          "unmarried",
          "husband",
          "other-relative",
          "own-child",
          "not-in-family",
          "other-relative",
          "not-in-family",
          "own-child",
          "not-in-family",
          "unmarried",
          "not-in-family",
          "not-in-family",
          "own-child",
          "not-in-family",
          "own-child",
          "husband",
          "other-relative",
          "husband",
          "unmarried",
          "other-relative",
          "unmarried",
          "other-relative",
          "not-in-family",
          "wife",
          "husband",
          "other-relative",
          "other-relative",
          "wife",
          "not-in-family",
          "not-in-family",
          "not-in-family",
          "own-child",
          "own-child",
          "other-relative",
          "not-in-family",
          "unmarried",
          "husband",
          "other-relative",
          "husband",
          "own-child",
          "own-child",
          "other-relative",
          "wife",
          "wife",
          "other-relative",
          "not-in-family",
          "other-relative",
          "not-in-family",
          "other-relative",
          "own-child",
          "other-relative",
          "other-relative",
          "own-child",
          "unmarried",
          "other-relative",
          "wife",
          "wife",
          "other-relative",
          "unmarried",
          "husband",
          "husband",
          "wife",
          "other-relative",
          "unmarried",
          "not-in-family",
          "wife",
          "other-relative",
          "husband",
          "husband",
          "unmarried",
          "wife",
          "own-child",
          "unmarried",
          "other-relative",
          "not-in-family",
          "other-relative",
          "not-in-family",
          "husband",
          "own-child",
          "husband",
          "wife",
          "own-child",
          "unmarried",
          "unmarried",
          "other-relative",
          "wife",
          "unmarried",
          "other-relative",
          "own-child",
          "own-child",
          "wife",
          "wife",
          "wife",
          "other-relative",
          "not-in-family",
          "unmarried",
          "own-child",
          "husband",
          "unmarried",
          "husband",
          "other-relative",
          "other-relative",
          "other-relative",
          "not-in-family",
          "wife",
          "unmarried",
          "own-child",
          "other-relative",
          "own-child",
          "husband",
          "other-relative",
          "husband",
          "other-relative",
          "unmarried",
          "other-relative",
          "not-in-family",
          "not-in-family",
          "own-child",
          "not-in-family",
          "wife",
          "not-in-family",
          "own-child",
          "other-relative",
          "wife",
          "own-child",
          "husband",
          "unmarried",
          "not-in-family",
          "wife",
          "not-in-family",
          "wife",
          "wife",
          "not-in-family",
          "wife",
          "not-in-family",
          "unmarried",
          "not-in-family",
          "not-in-family",
          "wife",
          "unmarried",
          "other-relative",
          "own-child",
          "unmarried",
          "husband",
          "unmarried",
          "wife",
          "wife",
          "husband",
          "wife",
          "husband",
          "not-in-family",
          "not-in-family",
          "other-relative",
          "wife",
          "other-relative",
          "other-relative",
          "not-in-family",
          "wife",
          "wife",
          "other-relative",
          "husband",
          "husband",
          "other-relative",
          "unmarried",
          "own-child",
          "unmarried",
          "husband",
          "husband",
          "husband",
          "other-relative",
          "own-child",
          "own-child",
          "other-relative",
          "unmarried",
          "not-in-family",
          "other-relative",
          "own-child",
          "not-in-family",
          "husband",
          "own-child",
          "unmarried",
          "wife",
          "wife",
          "wife",
          "wife",
          "husband",
          "wife",
          "husband",
          "own-child",
          "not-in-family",
          "husband",
          "not-in-family",
          "husband",
          "not-in-family",
          "unmarried",
          "other-relative",
          "other-relative",
          "husband",
          "wife",
          "own-child",
          "own-child",
          "not-in-family",
          "other-relative",
          "other-relative",
          "husband",
          "wife",
          "unmarried",
          "not-in-family",
          "wife",
          "wife",
          "not-in-family",
          "own-child",
          "other-relative",
          "not-in-family",
          "wife",
          "own-child",
          "own-child",
          "unmarried",
          "not-in-family",
          "unmarried",
          "husband",
          "own-child",
          "unmarried",
          "wife",
          "own-child",
          "own-child",
          "wife",
          "own-child",
          "wife",
          "other-relative",
          "other-relative",
          "not-in-family",
          "other-relative"
         ],
         "xaxis": "x",
         "yaxis": "y"
        },
        {
         "alignmentgroup": "True",
         "bingroup": "x",
         "hovertemplate": "fraud_reported=N<br>insured_relationship=%{x}<br>count=%{y}<extra></extra>",
         "legendgroup": "N",
         "marker": {
          "color": "#EF553B",
          "pattern": {
           "shape": ""
          }
         },
         "name": "N",
         "offsetgroup": "N",
         "orientation": "v",
         "showlegend": true,
         "type": "histogram",
         "x": [
          "own-child",
          "unmarried",
          "husband",
          "unmarried",
          "own-child",
          "wife",
          "other-relative",
          "other-relative",
          "wife",
          "wife",
          "own-child",
          "unmarried",
          "other-relative",
          "own-child",
          "own-child",
          "own-child",
          "husband",
          "own-child",
          "not-in-family",
          "unmarried",
          "husband",
          "other-relative",
          "wife",
          "own-child",
          "unmarried",
          "unmarried",
          "not-in-family",
          "husband",
          "own-child",
          "unmarried",
          "husband",
          "husband",
          "other-relative",
          "wife",
          "own-child",
          "husband",
          "not-in-family",
          "husband",
          "not-in-family",
          "not-in-family",
          "unmarried",
          "own-child",
          "husband",
          "own-child",
          "husband",
          "unmarried",
          "unmarried",
          "own-child",
          "own-child",
          "husband",
          "not-in-family",
          "wife",
          "other-relative",
          "husband",
          "not-in-family",
          "wife",
          "husband",
          "wife",
          "other-relative",
          "wife",
          "own-child",
          "husband",
          "own-child",
          "not-in-family",
          "own-child",
          "own-child",
          "not-in-family",
          "not-in-family",
          "husband",
          "wife",
          "not-in-family",
          "not-in-family",
          "unmarried",
          "husband",
          "other-relative",
          "wife",
          "husband",
          "own-child",
          "unmarried",
          "other-relative",
          "own-child",
          "other-relative",
          "other-relative",
          "not-in-family",
          "husband",
          "other-relative",
          "other-relative",
          "not-in-family",
          "unmarried",
          "unmarried",
          "own-child",
          "wife",
          "own-child",
          "unmarried",
          "wife",
          "unmarried",
          "other-relative",
          "not-in-family",
          "wife",
          "not-in-family",
          "other-relative",
          "wife",
          "own-child",
          "wife",
          "other-relative",
          "wife",
          "husband",
          "own-child",
          "husband",
          "other-relative",
          "not-in-family",
          "other-relative",
          "unmarried",
          "not-in-family",
          "unmarried",
          "unmarried",
          "not-in-family",
          "unmarried",
          "husband",
          "not-in-family",
          "not-in-family",
          "wife",
          "wife",
          "unmarried",
          "wife",
          "other-relative",
          "other-relative",
          "other-relative",
          "wife",
          "not-in-family",
          "not-in-family",
          "husband",
          "not-in-family",
          "unmarried",
          "other-relative",
          "other-relative",
          "own-child",
          "unmarried",
          "unmarried",
          "husband",
          "not-in-family",
          "husband",
          "not-in-family",
          "own-child",
          "other-relative",
          "not-in-family",
          "not-in-family",
          "unmarried",
          "wife",
          "husband",
          "not-in-family",
          "husband",
          "husband",
          "not-in-family",
          "other-relative",
          "not-in-family",
          "other-relative",
          "unmarried",
          "not-in-family",
          "other-relative",
          "own-child",
          "husband",
          "wife",
          "not-in-family",
          "unmarried",
          "own-child",
          "unmarried",
          "other-relative",
          "wife",
          "own-child",
          "husband",
          "own-child",
          "unmarried",
          "unmarried",
          "own-child",
          "own-child",
          "own-child",
          "other-relative",
          "own-child",
          "other-relative",
          "not-in-family",
          "other-relative",
          "other-relative",
          "husband",
          "own-child",
          "other-relative",
          "husband",
          "other-relative",
          "other-relative",
          "wife",
          "own-child",
          "unmarried",
          "other-relative",
          "wife",
          "husband",
          "wife",
          "wife",
          "other-relative",
          "own-child",
          "husband",
          "own-child",
          "unmarried",
          "not-in-family",
          "own-child",
          "not-in-family",
          "not-in-family",
          "not-in-family",
          "own-child",
          "wife",
          "other-relative",
          "wife",
          "wife",
          "wife",
          "wife",
          "not-in-family",
          "other-relative",
          "not-in-family",
          "own-child",
          "other-relative",
          "wife",
          "husband",
          "unmarried",
          "husband",
          "other-relative",
          "own-child",
          "unmarried",
          "wife",
          "not-in-family",
          "wife",
          "not-in-family",
          "wife",
          "husband",
          "husband",
          "other-relative",
          "not-in-family",
          "own-child",
          "own-child",
          "not-in-family",
          "unmarried",
          "husband",
          "wife",
          "unmarried",
          "unmarried",
          "wife",
          "husband",
          "unmarried",
          "wife",
          "other-relative",
          "unmarried",
          "own-child",
          "husband",
          "not-in-family",
          "own-child",
          "unmarried",
          "own-child",
          "own-child",
          "unmarried",
          "not-in-family",
          "other-relative",
          "unmarried",
          "own-child",
          "own-child",
          "own-child",
          "other-relative",
          "other-relative",
          "own-child",
          "husband",
          "unmarried",
          "other-relative",
          "own-child",
          "not-in-family",
          "own-child",
          "own-child",
          "other-relative",
          "own-child",
          "wife",
          "not-in-family",
          "wife",
          "wife",
          "own-child",
          "unmarried",
          "other-relative",
          "husband",
          "own-child",
          "not-in-family",
          "unmarried",
          "wife",
          "unmarried",
          "own-child",
          "not-in-family",
          "own-child",
          "other-relative",
          "wife",
          "husband",
          "wife",
          "unmarried",
          "unmarried",
          "not-in-family",
          "not-in-family",
          "not-in-family",
          "own-child",
          "unmarried",
          "unmarried",
          "wife",
          "unmarried",
          "unmarried",
          "own-child",
          "husband",
          "other-relative",
          "husband",
          "wife",
          "not-in-family",
          "own-child",
          "own-child",
          "other-relative",
          "not-in-family",
          "wife",
          "own-child",
          "wife",
          "other-relative",
          "own-child",
          "unmarried",
          "not-in-family",
          "own-child",
          "not-in-family",
          "other-relative",
          "own-child",
          "wife",
          "other-relative",
          "husband",
          "husband",
          "husband",
          "unmarried",
          "husband",
          "not-in-family",
          "not-in-family",
          "husband",
          "unmarried",
          "other-relative",
          "own-child",
          "wife",
          "other-relative",
          "unmarried",
          "wife",
          "other-relative",
          "not-in-family",
          "not-in-family",
          "unmarried",
          "not-in-family",
          "wife",
          "other-relative",
          "wife",
          "other-relative",
          "unmarried",
          "own-child",
          "husband",
          "husband",
          "other-relative",
          "own-child",
          "unmarried",
          "unmarried",
          "wife",
          "not-in-family",
          "unmarried",
          "husband",
          "wife",
          "own-child",
          "other-relative",
          "husband",
          "husband",
          "own-child",
          "other-relative",
          "other-relative",
          "husband",
          "unmarried",
          "unmarried",
          "husband",
          "husband",
          "not-in-family",
          "husband",
          "other-relative",
          "wife",
          "other-relative",
          "unmarried",
          "own-child",
          "not-in-family",
          "other-relative",
          "own-child",
          "own-child",
          "own-child",
          "husband",
          "other-relative",
          "not-in-family",
          "unmarried",
          "not-in-family",
          "own-child",
          "not-in-family",
          "wife",
          "husband",
          "other-relative",
          "other-relative",
          "wife",
          "other-relative",
          "husband",
          "not-in-family",
          "own-child",
          "wife",
          "other-relative",
          "own-child",
          "unmarried",
          "wife",
          "unmarried",
          "not-in-family",
          "own-child",
          "own-child",
          "not-in-family",
          "own-child",
          "own-child",
          "not-in-family",
          "own-child",
          "not-in-family",
          "unmarried",
          "other-relative",
          "own-child",
          "unmarried",
          "own-child",
          "wife",
          "husband",
          "wife",
          "not-in-family",
          "own-child",
          "husband",
          "other-relative",
          "unmarried",
          "wife",
          "wife",
          "own-child",
          "not-in-family",
          "husband",
          "husband",
          "not-in-family",
          "wife",
          "own-child",
          "other-relative",
          "other-relative",
          "other-relative",
          "wife",
          "own-child",
          "other-relative",
          "not-in-family",
          "own-child",
          "wife",
          "wife",
          "wife",
          "husband",
          "unmarried",
          "not-in-family",
          "not-in-family",
          "wife",
          "other-relative",
          "husband",
          "husband",
          "own-child",
          "own-child",
          "wife",
          "not-in-family",
          "own-child",
          "not-in-family",
          "husband",
          "other-relative",
          "husband",
          "not-in-family",
          "husband",
          "own-child",
          "unmarried",
          "not-in-family",
          "husband",
          "unmarried",
          "husband",
          "wife",
          "not-in-family",
          "unmarried",
          "husband",
          "other-relative",
          "husband",
          "husband",
          "other-relative",
          "other-relative",
          "other-relative",
          "other-relative",
          "other-relative",
          "unmarried",
          "husband",
          "not-in-family",
          "wife",
          "wife",
          "husband",
          "not-in-family",
          "husband",
          "wife",
          "other-relative",
          "not-in-family",
          "wife",
          "wife",
          "other-relative",
          "own-child",
          "husband",
          "wife",
          "own-child",
          "not-in-family",
          "unmarried",
          "other-relative",
          "wife",
          "husband",
          "not-in-family",
          "other-relative",
          "not-in-family",
          "own-child",
          "husband",
          "husband",
          "husband",
          "wife",
          "unmarried",
          "unmarried",
          "husband",
          "wife",
          "not-in-family",
          "own-child",
          "wife",
          "wife",
          "other-relative",
          "husband",
          "own-child",
          "own-child",
          "other-relative",
          "other-relative",
          "other-relative",
          "own-child",
          "unmarried",
          "husband",
          "other-relative",
          "husband",
          "wife",
          "husband",
          "unmarried",
          "unmarried",
          "husband",
          "own-child",
          "not-in-family",
          "husband",
          "not-in-family",
          "not-in-family",
          "own-child",
          "husband",
          "wife",
          "not-in-family",
          "not-in-family",
          "unmarried",
          "not-in-family",
          "unmarried",
          "wife",
          "husband",
          "unmarried",
          "wife",
          "not-in-family",
          "unmarried",
          "husband",
          "own-child",
          "other-relative",
          "husband",
          "unmarried",
          "other-relative",
          "own-child",
          "husband",
          "own-child",
          "own-child",
          "husband",
          "not-in-family",
          "other-relative",
          "own-child",
          "not-in-family",
          "wife",
          "not-in-family",
          "other-relative",
          "other-relative",
          "husband",
          "unmarried",
          "husband",
          "not-in-family",
          "other-relative",
          "husband",
          "wife",
          "not-in-family",
          "unmarried",
          "not-in-family",
          "unmarried",
          "own-child",
          "unmarried",
          "not-in-family",
          "other-relative",
          "unmarried",
          "own-child",
          "wife",
          "unmarried",
          "other-relative",
          "own-child",
          "husband",
          "husband",
          "own-child",
          "unmarried",
          "wife",
          "wife",
          "husband",
          "own-child",
          "not-in-family",
          "not-in-family",
          "not-in-family",
          "husband",
          "own-child",
          "husband",
          "own-child",
          "own-child",
          "own-child",
          "other-relative",
          "wife",
          "wife",
          "other-relative",
          "own-child",
          "own-child",
          "unmarried",
          "husband",
          "own-child",
          "not-in-family",
          "not-in-family",
          "wife",
          "not-in-family",
          "wife",
          "husband",
          "wife",
          "own-child",
          "own-child",
          "husband",
          "other-relative",
          "own-child",
          "own-child",
          "husband",
          "other-relative",
          "other-relative",
          "unmarried",
          "husband",
          "not-in-family",
          "not-in-family",
          "husband",
          "own-child",
          "husband",
          "unmarried",
          "other-relative",
          "other-relative",
          "not-in-family",
          "not-in-family",
          "husband",
          "other-relative",
          "husband",
          "wife",
          "not-in-family",
          "other-relative",
          "other-relative",
          "husband",
          "husband",
          "not-in-family",
          "own-child",
          "own-child",
          "husband",
          "own-child",
          "husband",
          "own-child",
          "other-relative",
          "wife",
          "husband",
          "own-child",
          "husband",
          "not-in-family",
          "not-in-family",
          "wife",
          "other-relative",
          "not-in-family",
          "own-child",
          "husband",
          "not-in-family",
          "wife",
          "not-in-family",
          "wife",
          "wife",
          "not-in-family",
          "wife",
          "husband",
          "other-relative",
          "husband",
          "other-relative",
          "husband",
          "own-child",
          "other-relative",
          "wife",
          "own-child",
          "husband",
          "own-child",
          "own-child",
          "own-child",
          "own-child",
          "own-child",
          "not-in-family",
          "wife",
          "unmarried",
          "not-in-family",
          "own-child",
          "not-in-family",
          "other-relative",
          "unmarried",
          "not-in-family",
          "other-relative",
          "wife",
          "husband",
          "husband",
          "husband",
          "unmarried",
          "other-relative",
          "other-relative",
          "own-child",
          "other-relative",
          "unmarried",
          "husband",
          "not-in-family",
          "own-child",
          "unmarried",
          "unmarried",
          "not-in-family",
          "unmarried",
          "unmarried",
          "unmarried",
          "husband",
          "wife",
          "wife",
          "husband",
          "unmarried",
          "other-relative",
          "husband",
          "husband",
          "own-child",
          "unmarried",
          "wife",
          "other-relative",
          "wife",
          "husband"
         ],
         "xaxis": "x",
         "yaxis": "y"
        }
       ],
       "layout": {
        "barmode": "relative",
        "legend": {
         "title": {
          "text": "fraud_reported"
         },
         "tracegroupgap": 0
        },
        "margin": {
         "t": 60
        },
        "template": {
         "data": {
          "bar": [
           {
            "error_x": {
             "color": "#2a3f5f"
            },
            "error_y": {
             "color": "#2a3f5f"
            },
            "marker": {
             "line": {
              "color": "#E5ECF6",
              "width": 0.5
             },
             "pattern": {
              "fillmode": "overlay",
              "size": 10,
              "solidity": 0.2
             }
            },
            "type": "bar"
           }
          ],
          "barpolar": [
           {
            "marker": {
             "line": {
              "color": "#E5ECF6",
              "width": 0.5
             },
             "pattern": {
              "fillmode": "overlay",
              "size": 10,
              "solidity": 0.2
             }
            },
            "type": "barpolar"
           }
          ],
          "carpet": [
           {
            "aaxis": {
             "endlinecolor": "#2a3f5f",
             "gridcolor": "white",
             "linecolor": "white",
             "minorgridcolor": "white",
             "startlinecolor": "#2a3f5f"
            },
            "baxis": {
             "endlinecolor": "#2a3f5f",
             "gridcolor": "white",
             "linecolor": "white",
             "minorgridcolor": "white",
             "startlinecolor": "#2a3f5f"
            },
            "type": "carpet"
           }
          ],
          "choropleth": [
           {
            "colorbar": {
             "outlinewidth": 0,
             "ticks": ""
            },
            "type": "choropleth"
           }
          ],
          "contour": [
           {
            "colorbar": {
             "outlinewidth": 0,
             "ticks": ""
            },
            "colorscale": [
             [
              0,
              "#0d0887"
             ],
             [
              0.1111111111111111,
              "#46039f"
             ],
             [
              0.2222222222222222,
              "#7201a8"
             ],
             [
              0.3333333333333333,
              "#9c179e"
             ],
             [
              0.4444444444444444,
              "#bd3786"
             ],
             [
              0.5555555555555556,
              "#d8576b"
             ],
             [
              0.6666666666666666,
              "#ed7953"
             ],
             [
              0.7777777777777778,
              "#fb9f3a"
             ],
             [
              0.8888888888888888,
              "#fdca26"
             ],
             [
              1,
              "#f0f921"
             ]
            ],
            "type": "contour"
           }
          ],
          "contourcarpet": [
           {
            "colorbar": {
             "outlinewidth": 0,
             "ticks": ""
            },
            "type": "contourcarpet"
           }
          ],
          "heatmap": [
           {
            "colorbar": {
             "outlinewidth": 0,
             "ticks": ""
            },
            "colorscale": [
             [
              0,
              "#0d0887"
             ],
             [
              0.1111111111111111,
              "#46039f"
             ],
             [
              0.2222222222222222,
              "#7201a8"
             ],
             [
              0.3333333333333333,
              "#9c179e"
             ],
             [
              0.4444444444444444,
              "#bd3786"
             ],
             [
              0.5555555555555556,
              "#d8576b"
             ],
             [
              0.6666666666666666,
              "#ed7953"
             ],
             [
              0.7777777777777778,
              "#fb9f3a"
             ],
             [
              0.8888888888888888,
              "#fdca26"
             ],
             [
              1,
              "#f0f921"
             ]
            ],
            "type": "heatmap"
           }
          ],
          "heatmapgl": [
           {
            "colorbar": {
             "outlinewidth": 0,
             "ticks": ""
            },
            "colorscale": [
             [
              0,
              "#0d0887"
             ],
             [
              0.1111111111111111,
              "#46039f"
             ],
             [
              0.2222222222222222,
              "#7201a8"
             ],
             [
              0.3333333333333333,
              "#9c179e"
             ],
             [
              0.4444444444444444,
              "#bd3786"
             ],
             [
              0.5555555555555556,
              "#d8576b"
             ],
             [
              0.6666666666666666,
              "#ed7953"
             ],
             [
              0.7777777777777778,
              "#fb9f3a"
             ],
             [
              0.8888888888888888,
              "#fdca26"
             ],
             [
              1,
              "#f0f921"
             ]
            ],
            "type": "heatmapgl"
           }
          ],
          "histogram": [
           {
            "marker": {
             "pattern": {
              "fillmode": "overlay",
              "size": 10,
              "solidity": 0.2
             }
            },
            "type": "histogram"
           }
          ],
          "histogram2d": [
           {
            "colorbar": {
             "outlinewidth": 0,
             "ticks": ""
            },
            "colorscale": [
             [
              0,
              "#0d0887"
             ],
             [
              0.1111111111111111,
              "#46039f"
             ],
             [
              0.2222222222222222,
              "#7201a8"
             ],
             [
              0.3333333333333333,
              "#9c179e"
             ],
             [
              0.4444444444444444,
              "#bd3786"
             ],
             [
              0.5555555555555556,
              "#d8576b"
             ],
             [
              0.6666666666666666,
              "#ed7953"
             ],
             [
              0.7777777777777778,
              "#fb9f3a"
             ],
             [
              0.8888888888888888,
              "#fdca26"
             ],
             [
              1,
              "#f0f921"
             ]
            ],
            "type": "histogram2d"
           }
          ],
          "histogram2dcontour": [
           {
            "colorbar": {
             "outlinewidth": 0,
             "ticks": ""
            },
            "colorscale": [
             [
              0,
              "#0d0887"
             ],
             [
              0.1111111111111111,
              "#46039f"
             ],
             [
              0.2222222222222222,
              "#7201a8"
             ],
             [
              0.3333333333333333,
              "#9c179e"
             ],
             [
              0.4444444444444444,
              "#bd3786"
             ],
             [
              0.5555555555555556,
              "#d8576b"
             ],
             [
              0.6666666666666666,
              "#ed7953"
             ],
             [
              0.7777777777777778,
              "#fb9f3a"
             ],
             [
              0.8888888888888888,
              "#fdca26"
             ],
             [
              1,
              "#f0f921"
             ]
            ],
            "type": "histogram2dcontour"
           }
          ],
          "mesh3d": [
           {
            "colorbar": {
             "outlinewidth": 0,
             "ticks": ""
            },
            "type": "mesh3d"
           }
          ],
          "parcoords": [
           {
            "line": {
             "colorbar": {
              "outlinewidth": 0,
              "ticks": ""
             }
            },
            "type": "parcoords"
           }
          ],
          "pie": [
           {
            "automargin": true,
            "type": "pie"
           }
          ],
          "scatter": [
           {
            "marker": {
             "colorbar": {
              "outlinewidth": 0,
              "ticks": ""
             }
            },
            "type": "scatter"
           }
          ],
          "scatter3d": [
           {
            "line": {
             "colorbar": {
              "outlinewidth": 0,
              "ticks": ""
             }
            },
            "marker": {
             "colorbar": {
              "outlinewidth": 0,
              "ticks": ""
             }
            },
            "type": "scatter3d"
           }
          ],
          "scattercarpet": [
           {
            "marker": {
             "colorbar": {
              "outlinewidth": 0,
              "ticks": ""
             }
            },
            "type": "scattercarpet"
           }
          ],
          "scattergeo": [
           {
            "marker": {
             "colorbar": {
              "outlinewidth": 0,
              "ticks": ""
             }
            },
            "type": "scattergeo"
           }
          ],
          "scattergl": [
           {
            "marker": {
             "colorbar": {
              "outlinewidth": 0,
              "ticks": ""
             }
            },
            "type": "scattergl"
           }
          ],
          "scattermapbox": [
           {
            "marker": {
             "colorbar": {
              "outlinewidth": 0,
              "ticks": ""
             }
            },
            "type": "scattermapbox"
           }
          ],
          "scatterpolar": [
           {
            "marker": {
             "colorbar": {
              "outlinewidth": 0,
              "ticks": ""
             }
            },
            "type": "scatterpolar"
           }
          ],
          "scatterpolargl": [
           {
            "marker": {
             "colorbar": {
              "outlinewidth": 0,
              "ticks": ""
             }
            },
            "type": "scatterpolargl"
           }
          ],
          "scatterternary": [
           {
            "marker": {
             "colorbar": {
              "outlinewidth": 0,
              "ticks": ""
             }
            },
            "type": "scatterternary"
           }
          ],
          "surface": [
           {
            "colorbar": {
             "outlinewidth": 0,
             "ticks": ""
            },
            "colorscale": [
             [
              0,
              "#0d0887"
             ],
             [
              0.1111111111111111,
              "#46039f"
             ],
             [
              0.2222222222222222,
              "#7201a8"
             ],
             [
              0.3333333333333333,
              "#9c179e"
             ],
             [
              0.4444444444444444,
              "#bd3786"
             ],
             [
              0.5555555555555556,
              "#d8576b"
             ],
             [
              0.6666666666666666,
              "#ed7953"
             ],
             [
              0.7777777777777778,
              "#fb9f3a"
             ],
             [
              0.8888888888888888,
              "#fdca26"
             ],
             [
              1,
              "#f0f921"
             ]
            ],
            "type": "surface"
           }
          ],
          "table": [
           {
            "cells": {
             "fill": {
              "color": "#EBF0F8"
             },
             "line": {
              "color": "white"
             }
            },
            "header": {
             "fill": {
              "color": "#C8D4E3"
             },
             "line": {
              "color": "white"
             }
            },
            "type": "table"
           }
          ]
         },
         "layout": {
          "annotationdefaults": {
           "arrowcolor": "#2a3f5f",
           "arrowhead": 0,
           "arrowwidth": 1
          },
          "autotypenumbers": "strict",
          "coloraxis": {
           "colorbar": {
            "outlinewidth": 0,
            "ticks": ""
           }
          },
          "colorscale": {
           "diverging": [
            [
             0,
             "#8e0152"
            ],
            [
             0.1,
             "#c51b7d"
            ],
            [
             0.2,
             "#de77ae"
            ],
            [
             0.3,
             "#f1b6da"
            ],
            [
             0.4,
             "#fde0ef"
            ],
            [
             0.5,
             "#f7f7f7"
            ],
            [
             0.6,
             "#e6f5d0"
            ],
            [
             0.7,
             "#b8e186"
            ],
            [
             0.8,
             "#7fbc41"
            ],
            [
             0.9,
             "#4d9221"
            ],
            [
             1,
             "#276419"
            ]
           ],
           "sequential": [
            [
             0,
             "#0d0887"
            ],
            [
             0.1111111111111111,
             "#46039f"
            ],
            [
             0.2222222222222222,
             "#7201a8"
            ],
            [
             0.3333333333333333,
             "#9c179e"
            ],
            [
             0.4444444444444444,
             "#bd3786"
            ],
            [
             0.5555555555555556,
             "#d8576b"
            ],
            [
             0.6666666666666666,
             "#ed7953"
            ],
            [
             0.7777777777777778,
             "#fb9f3a"
            ],
            [
             0.8888888888888888,
             "#fdca26"
            ],
            [
             1,
             "#f0f921"
            ]
           ],
           "sequentialminus": [
            [
             0,
             "#0d0887"
            ],
            [
             0.1111111111111111,
             "#46039f"
            ],
            [
             0.2222222222222222,
             "#7201a8"
            ],
            [
             0.3333333333333333,
             "#9c179e"
            ],
            [
             0.4444444444444444,
             "#bd3786"
            ],
            [
             0.5555555555555556,
             "#d8576b"
            ],
            [
             0.6666666666666666,
             "#ed7953"
            ],
            [
             0.7777777777777778,
             "#fb9f3a"
            ],
            [
             0.8888888888888888,
             "#fdca26"
            ],
            [
             1,
             "#f0f921"
            ]
           ]
          },
          "colorway": [
           "#636efa",
           "#EF553B",
           "#00cc96",
           "#ab63fa",
           "#FFA15A",
           "#19d3f3",
           "#FF6692",
           "#B6E880",
           "#FF97FF",
           "#FECB52"
          ],
          "font": {
           "color": "#2a3f5f"
          },
          "geo": {
           "bgcolor": "white",
           "lakecolor": "white",
           "landcolor": "#E5ECF6",
           "showlakes": true,
           "showland": true,
           "subunitcolor": "white"
          },
          "hoverlabel": {
           "align": "left"
          },
          "hovermode": "closest",
          "mapbox": {
           "style": "light"
          },
          "paper_bgcolor": "white",
          "plot_bgcolor": "#E5ECF6",
          "polar": {
           "angularaxis": {
            "gridcolor": "white",
            "linecolor": "white",
            "ticks": ""
           },
           "bgcolor": "#E5ECF6",
           "radialaxis": {
            "gridcolor": "white",
            "linecolor": "white",
            "ticks": ""
           }
          },
          "scene": {
           "xaxis": {
            "backgroundcolor": "#E5ECF6",
            "gridcolor": "white",
            "gridwidth": 2,
            "linecolor": "white",
            "showbackground": true,
            "ticks": "",
            "zerolinecolor": "white"
           },
           "yaxis": {
            "backgroundcolor": "#E5ECF6",
            "gridcolor": "white",
            "gridwidth": 2,
            "linecolor": "white",
            "showbackground": true,
            "ticks": "",
            "zerolinecolor": "white"
           },
           "zaxis": {
            "backgroundcolor": "#E5ECF6",
            "gridcolor": "white",
            "gridwidth": 2,
            "linecolor": "white",
            "showbackground": true,
            "ticks": "",
            "zerolinecolor": "white"
           }
          },
          "shapedefaults": {
           "line": {
            "color": "#2a3f5f"
           }
          },
          "ternary": {
           "aaxis": {
            "gridcolor": "white",
            "linecolor": "white",
            "ticks": ""
           },
           "baxis": {
            "gridcolor": "white",
            "linecolor": "white",
            "ticks": ""
           },
           "bgcolor": "#E5ECF6",
           "caxis": {
            "gridcolor": "white",
            "linecolor": "white",
            "ticks": ""
           }
          },
          "title": {
           "x": 0.05
          },
          "xaxis": {
           "automargin": true,
           "gridcolor": "white",
           "linecolor": "white",
           "ticks": "",
           "title": {
            "standoff": 15
           },
           "zerolinecolor": "white",
           "zerolinewidth": 2
          },
          "yaxis": {
           "automargin": true,
           "gridcolor": "white",
           "linecolor": "white",
           "ticks": "",
           "title": {
            "standoff": 15
           },
           "zerolinecolor": "white",
           "zerolinewidth": 2
          }
         }
        },
        "xaxis": {
         "anchor": "y",
         "domain": [
          0,
          1
         ],
         "title": {
          "text": "insured_relationship"
         }
        },
        "yaxis": {
         "anchor": "x",
         "domain": [
          0,
          1
         ],
         "title": {
          "text": "count"
         }
        }
       }
      }
     },
     "metadata": {},
     "output_type": "display_data"
    }
   ],
   "source": [
    "fig = px.histogram(df, x=\"insured_relationship\", color=\"fraud_reported\")\n",
    "fig.show()"
   ]
  },
  {
   "cell_type": "code",
   "execution_count": 32,
   "metadata": {},
   "outputs": [
    {
     "data": {
      "application/vnd.plotly.v1+json": {
       "config": {
        "plotlyServerURL": "https://plot.ly"
       },
       "data": [
        {
         "alignmentgroup": "True",
         "bingroup": "x",
         "hovertemplate": "fraud_reported=Y<br>incident_type=%{x}<br>count=%{y}<extra></extra>",
         "legendgroup": "Y",
         "marker": {
          "color": "#636efa",
          "pattern": {
           "shape": ""
          }
         },
         "name": "Y",
         "offsetgroup": "Y",
         "orientation": "v",
         "showlegend": true,
         "type": "histogram",
         "x": [
          "Single Vehicle Collision",
          "Vehicle Theft",
          "Single Vehicle Collision",
          "Multi-vehicle Collision",
          "Single Vehicle Collision",
          "Multi-vehicle Collision",
          "Multi-vehicle Collision",
          "Single Vehicle Collision",
          "Multi-vehicle Collision",
          "Vehicle Theft",
          "Multi-vehicle Collision",
          "Single Vehicle Collision",
          "Single Vehicle Collision",
          "Single Vehicle Collision",
          "Single Vehicle Collision",
          "Multi-vehicle Collision",
          "Multi-vehicle Collision",
          "Multi-vehicle Collision",
          "Multi-vehicle Collision",
          "Multi-vehicle Collision",
          "Single Vehicle Collision",
          "Multi-vehicle Collision",
          "Single Vehicle Collision",
          "Single Vehicle Collision",
          "Multi-vehicle Collision",
          "Multi-vehicle Collision",
          "Single Vehicle Collision",
          "Single Vehicle Collision",
          "Multi-vehicle Collision",
          "Multi-vehicle Collision",
          "Single Vehicle Collision",
          "Multi-vehicle Collision",
          "Single Vehicle Collision",
          "Multi-vehicle Collision",
          "Multi-vehicle Collision",
          "Single Vehicle Collision",
          "Single Vehicle Collision",
          "Single Vehicle Collision",
          "Multi-vehicle Collision",
          "Single Vehicle Collision",
          "Single Vehicle Collision",
          "Single Vehicle Collision",
          "Multi-vehicle Collision",
          "Single Vehicle Collision",
          "Single Vehicle Collision",
          "Multi-vehicle Collision",
          "Multi-vehicle Collision",
          "Single Vehicle Collision",
          "Single Vehicle Collision",
          "Single Vehicle Collision",
          "Single Vehicle Collision",
          "Single Vehicle Collision",
          "Single Vehicle Collision",
          "Multi-vehicle Collision",
          "Vehicle Theft",
          "Single Vehicle Collision",
          "Multi-vehicle Collision",
          "Single Vehicle Collision",
          "Multi-vehicle Collision",
          "Single Vehicle Collision",
          "Single Vehicle Collision",
          "Single Vehicle Collision",
          "Multi-vehicle Collision",
          "Multi-vehicle Collision",
          "Single Vehicle Collision",
          "Single Vehicle Collision",
          "Multi-vehicle Collision",
          "Multi-vehicle Collision",
          "Multi-vehicle Collision",
          "Single Vehicle Collision",
          "Multi-vehicle Collision",
          "Single Vehicle Collision",
          "Multi-vehicle Collision",
          "Single Vehicle Collision",
          "Multi-vehicle Collision",
          "Multi-vehicle Collision",
          "Multi-vehicle Collision",
          "Single Vehicle Collision",
          "Multi-vehicle Collision",
          "Vehicle Theft",
          "Single Vehicle Collision",
          "Single Vehicle Collision",
          "Multi-vehicle Collision",
          "Multi-vehicle Collision",
          "Single Vehicle Collision",
          "Single Vehicle Collision",
          "Multi-vehicle Collision",
          "Multi-vehicle Collision",
          "Multi-vehicle Collision",
          "Single Vehicle Collision",
          "Multi-vehicle Collision",
          "Multi-vehicle Collision",
          "Single Vehicle Collision",
          "Multi-vehicle Collision",
          "Multi-vehicle Collision",
          "Single Vehicle Collision",
          "Single Vehicle Collision",
          "Single Vehicle Collision",
          "Multi-vehicle Collision",
          "Single Vehicle Collision",
          "Multi-vehicle Collision",
          "Multi-vehicle Collision",
          "Multi-vehicle Collision",
          "Parked Car",
          "Parked Car",
          "Single Vehicle Collision",
          "Parked Car",
          "Multi-vehicle Collision",
          "Multi-vehicle Collision",
          "Single Vehicle Collision",
          "Multi-vehicle Collision",
          "Multi-vehicle Collision",
          "Single Vehicle Collision",
          "Multi-vehicle Collision",
          "Multi-vehicle Collision",
          "Multi-vehicle Collision",
          "Single Vehicle Collision",
          "Parked Car",
          "Single Vehicle Collision",
          "Single Vehicle Collision",
          "Single Vehicle Collision",
          "Single Vehicle Collision",
          "Multi-vehicle Collision",
          "Single Vehicle Collision",
          "Parked Car",
          "Single Vehicle Collision",
          "Single Vehicle Collision",
          "Vehicle Theft",
          "Single Vehicle Collision",
          "Multi-vehicle Collision",
          "Multi-vehicle Collision",
          "Multi-vehicle Collision",
          "Single Vehicle Collision",
          "Multi-vehicle Collision",
          "Multi-vehicle Collision",
          "Multi-vehicle Collision",
          "Single Vehicle Collision",
          "Single Vehicle Collision",
          "Parked Car",
          "Single Vehicle Collision",
          "Multi-vehicle Collision",
          "Vehicle Theft",
          "Single Vehicle Collision",
          "Multi-vehicle Collision",
          "Single Vehicle Collision",
          "Multi-vehicle Collision",
          "Single Vehicle Collision",
          "Single Vehicle Collision",
          "Multi-vehicle Collision",
          "Single Vehicle Collision",
          "Multi-vehicle Collision",
          "Single Vehicle Collision",
          "Single Vehicle Collision",
          "Parked Car",
          "Single Vehicle Collision",
          "Single Vehicle Collision",
          "Multi-vehicle Collision",
          "Single Vehicle Collision",
          "Single Vehicle Collision",
          "Single Vehicle Collision",
          "Multi-vehicle Collision",
          "Single Vehicle Collision",
          "Parked Car",
          "Multi-vehicle Collision",
          "Single Vehicle Collision",
          "Multi-vehicle Collision",
          "Multi-vehicle Collision",
          "Multi-vehicle Collision",
          "Multi-vehicle Collision",
          "Single Vehicle Collision",
          "Multi-vehicle Collision",
          "Multi-vehicle Collision",
          "Single Vehicle Collision",
          "Single Vehicle Collision",
          "Multi-vehicle Collision",
          "Multi-vehicle Collision",
          "Multi-vehicle Collision",
          "Multi-vehicle Collision",
          "Multi-vehicle Collision",
          "Single Vehicle Collision",
          "Single Vehicle Collision",
          "Multi-vehicle Collision",
          "Single Vehicle Collision",
          "Single Vehicle Collision",
          "Multi-vehicle Collision",
          "Single Vehicle Collision",
          "Multi-vehicle Collision",
          "Single Vehicle Collision",
          "Single Vehicle Collision",
          "Single Vehicle Collision",
          "Single Vehicle Collision",
          "Multi-vehicle Collision",
          "Multi-vehicle Collision",
          "Multi-vehicle Collision",
          "Multi-vehicle Collision",
          "Multi-vehicle Collision",
          "Multi-vehicle Collision",
          "Multi-vehicle Collision",
          "Multi-vehicle Collision",
          "Multi-vehicle Collision",
          "Single Vehicle Collision",
          "Single Vehicle Collision",
          "Single Vehicle Collision",
          "Single Vehicle Collision",
          "Single Vehicle Collision",
          "Single Vehicle Collision",
          "Single Vehicle Collision",
          "Single Vehicle Collision",
          "Multi-vehicle Collision",
          "Multi-vehicle Collision",
          "Vehicle Theft",
          "Multi-vehicle Collision",
          "Multi-vehicle Collision",
          "Multi-vehicle Collision",
          "Single Vehicle Collision",
          "Single Vehicle Collision",
          "Single Vehicle Collision",
          "Multi-vehicle Collision",
          "Multi-vehicle Collision",
          "Multi-vehicle Collision",
          "Single Vehicle Collision",
          "Multi-vehicle Collision",
          "Single Vehicle Collision",
          "Single Vehicle Collision",
          "Multi-vehicle Collision",
          "Multi-vehicle Collision",
          "Multi-vehicle Collision",
          "Multi-vehicle Collision",
          "Single Vehicle Collision",
          "Multi-vehicle Collision",
          "Single Vehicle Collision",
          "Single Vehicle Collision",
          "Single Vehicle Collision",
          "Multi-vehicle Collision",
          "Multi-vehicle Collision",
          "Single Vehicle Collision",
          "Multi-vehicle Collision",
          "Single Vehicle Collision",
          "Vehicle Theft",
          "Single Vehicle Collision",
          "Single Vehicle Collision",
          "Single Vehicle Collision",
          "Multi-vehicle Collision",
          "Multi-vehicle Collision",
          "Multi-vehicle Collision",
          "Single Vehicle Collision",
          "Single Vehicle Collision"
         ],
         "xaxis": "x",
         "yaxis": "y"
        },
        {
         "alignmentgroup": "True",
         "bingroup": "x",
         "hovertemplate": "fraud_reported=N<br>incident_type=%{x}<br>count=%{y}<extra></extra>",
         "legendgroup": "N",
         "marker": {
          "color": "#EF553B",
          "pattern": {
           "shape": ""
          }
         },
         "name": "N",
         "offsetgroup": "N",
         "orientation": "v",
         "showlegend": true,
         "type": "histogram",
         "x": [
          "Multi-vehicle Collision",
          "Vehicle Theft",
          "Multi-vehicle Collision",
          "Multi-vehicle Collision",
          "Single Vehicle Collision",
          "Single Vehicle Collision",
          "Single Vehicle Collision",
          "Multi-vehicle Collision",
          "Single Vehicle Collision",
          "Parked Car",
          "Multi-vehicle Collision",
          "Single Vehicle Collision",
          "Single Vehicle Collision",
          "Multi-vehicle Collision",
          "Multi-vehicle Collision",
          "Multi-vehicle Collision",
          "Single Vehicle Collision",
          "Parked Car",
          "Single Vehicle Collision",
          "Single Vehicle Collision",
          "Multi-vehicle Collision",
          "Multi-vehicle Collision",
          "Multi-vehicle Collision",
          "Single Vehicle Collision",
          "Parked Car",
          "Multi-vehicle Collision",
          "Single Vehicle Collision",
          "Multi-vehicle Collision",
          "Single Vehicle Collision",
          "Single Vehicle Collision",
          "Multi-vehicle Collision",
          "Multi-vehicle Collision",
          "Vehicle Theft",
          "Single Vehicle Collision",
          "Multi-vehicle Collision",
          "Vehicle Theft",
          "Vehicle Theft",
          "Multi-vehicle Collision",
          "Parked Car",
          "Single Vehicle Collision",
          "Multi-vehicle Collision",
          "Parked Car",
          "Single Vehicle Collision",
          "Multi-vehicle Collision",
          "Multi-vehicle Collision",
          "Single Vehicle Collision",
          "Multi-vehicle Collision",
          "Single Vehicle Collision",
          "Parked Car",
          "Single Vehicle Collision",
          "Multi-vehicle Collision",
          "Multi-vehicle Collision",
          "Multi-vehicle Collision",
          "Multi-vehicle Collision",
          "Multi-vehicle Collision",
          "Vehicle Theft",
          "Multi-vehicle Collision",
          "Vehicle Theft",
          "Vehicle Theft",
          "Vehicle Theft",
          "Multi-vehicle Collision",
          "Multi-vehicle Collision",
          "Single Vehicle Collision",
          "Parked Car",
          "Multi-vehicle Collision",
          "Parked Car",
          "Multi-vehicle Collision",
          "Multi-vehicle Collision",
          "Vehicle Theft",
          "Parked Car",
          "Vehicle Theft",
          "Single Vehicle Collision",
          "Single Vehicle Collision",
          "Multi-vehicle Collision",
          "Parked Car",
          "Multi-vehicle Collision",
          "Vehicle Theft",
          "Multi-vehicle Collision",
          "Single Vehicle Collision",
          "Multi-vehicle Collision",
          "Multi-vehicle Collision",
          "Vehicle Theft",
          "Single Vehicle Collision",
          "Single Vehicle Collision",
          "Multi-vehicle Collision",
          "Single Vehicle Collision",
          "Multi-vehicle Collision",
          "Single Vehicle Collision",
          "Multi-vehicle Collision",
          "Single Vehicle Collision",
          "Parked Car",
          "Multi-vehicle Collision",
          "Multi-vehicle Collision",
          "Multi-vehicle Collision",
          "Single Vehicle Collision",
          "Single Vehicle Collision",
          "Vehicle Theft",
          "Multi-vehicle Collision",
          "Multi-vehicle Collision",
          "Multi-vehicle Collision",
          "Single Vehicle Collision",
          "Vehicle Theft",
          "Parked Car",
          "Multi-vehicle Collision",
          "Single Vehicle Collision",
          "Single Vehicle Collision",
          "Multi-vehicle Collision",
          "Multi-vehicle Collision",
          "Multi-vehicle Collision",
          "Parked Car",
          "Multi-vehicle Collision",
          "Vehicle Theft",
          "Parked Car",
          "Single Vehicle Collision",
          "Multi-vehicle Collision",
          "Multi-vehicle Collision",
          "Multi-vehicle Collision",
          "Multi-vehicle Collision",
          "Parked Car",
          "Parked Car",
          "Multi-vehicle Collision",
          "Multi-vehicle Collision",
          "Multi-vehicle Collision",
          "Vehicle Theft",
          "Single Vehicle Collision",
          "Single Vehicle Collision",
          "Single Vehicle Collision",
          "Single Vehicle Collision",
          "Vehicle Theft",
          "Multi-vehicle Collision",
          "Single Vehicle Collision",
          "Single Vehicle Collision",
          "Single Vehicle Collision",
          "Multi-vehicle Collision",
          "Vehicle Theft",
          "Single Vehicle Collision",
          "Parked Car",
          "Single Vehicle Collision",
          "Single Vehicle Collision",
          "Vehicle Theft",
          "Multi-vehicle Collision",
          "Multi-vehicle Collision",
          "Parked Car",
          "Single Vehicle Collision",
          "Vehicle Theft",
          "Vehicle Theft",
          "Single Vehicle Collision",
          "Parked Car",
          "Multi-vehicle Collision",
          "Multi-vehicle Collision",
          "Single Vehicle Collision",
          "Multi-vehicle Collision",
          "Multi-vehicle Collision",
          "Parked Car",
          "Vehicle Theft",
          "Vehicle Theft",
          "Multi-vehicle Collision",
          "Single Vehicle Collision",
          "Vehicle Theft",
          "Multi-vehicle Collision",
          "Single Vehicle Collision",
          "Single Vehicle Collision",
          "Multi-vehicle Collision",
          "Multi-vehicle Collision",
          "Single Vehicle Collision",
          "Multi-vehicle Collision",
          "Multi-vehicle Collision",
          "Single Vehicle Collision",
          "Single Vehicle Collision",
          "Single Vehicle Collision",
          "Multi-vehicle Collision",
          "Multi-vehicle Collision",
          "Multi-vehicle Collision",
          "Single Vehicle Collision",
          "Single Vehicle Collision",
          "Single Vehicle Collision",
          "Single Vehicle Collision",
          "Parked Car",
          "Multi-vehicle Collision",
          "Vehicle Theft",
          "Single Vehicle Collision",
          "Parked Car",
          "Single Vehicle Collision",
          "Vehicle Theft",
          "Multi-vehicle Collision",
          "Multi-vehicle Collision",
          "Vehicle Theft",
          "Parked Car",
          "Multi-vehicle Collision",
          "Single Vehicle Collision",
          "Vehicle Theft",
          "Multi-vehicle Collision",
          "Multi-vehicle Collision",
          "Multi-vehicle Collision",
          "Multi-vehicle Collision",
          "Parked Car",
          "Multi-vehicle Collision",
          "Multi-vehicle Collision",
          "Multi-vehicle Collision",
          "Multi-vehicle Collision",
          "Multi-vehicle Collision",
          "Multi-vehicle Collision",
          "Vehicle Theft",
          "Multi-vehicle Collision",
          "Single Vehicle Collision",
          "Multi-vehicle Collision",
          "Vehicle Theft",
          "Parked Car",
          "Single Vehicle Collision",
          "Multi-vehicle Collision",
          "Single Vehicle Collision",
          "Single Vehicle Collision",
          "Multi-vehicle Collision",
          "Parked Car",
          "Parked Car",
          "Multi-vehicle Collision",
          "Vehicle Theft",
          "Multi-vehicle Collision",
          "Multi-vehicle Collision",
          "Parked Car",
          "Multi-vehicle Collision",
          "Multi-vehicle Collision",
          "Multi-vehicle Collision",
          "Single Vehicle Collision",
          "Multi-vehicle Collision",
          "Multi-vehicle Collision",
          "Single Vehicle Collision",
          "Multi-vehicle Collision",
          "Multi-vehicle Collision",
          "Multi-vehicle Collision",
          "Single Vehicle Collision",
          "Multi-vehicle Collision",
          "Single Vehicle Collision",
          "Multi-vehicle Collision",
          "Multi-vehicle Collision",
          "Multi-vehicle Collision",
          "Multi-vehicle Collision",
          "Single Vehicle Collision",
          "Parked Car",
          "Parked Car",
          "Single Vehicle Collision",
          "Single Vehicle Collision",
          "Multi-vehicle Collision",
          "Single Vehicle Collision",
          "Single Vehicle Collision",
          "Multi-vehicle Collision",
          "Single Vehicle Collision",
          "Vehicle Theft",
          "Single Vehicle Collision",
          "Single Vehicle Collision",
          "Single Vehicle Collision",
          "Multi-vehicle Collision",
          "Single Vehicle Collision",
          "Single Vehicle Collision",
          "Single Vehicle Collision",
          "Multi-vehicle Collision",
          "Single Vehicle Collision",
          "Multi-vehicle Collision",
          "Multi-vehicle Collision",
          "Single Vehicle Collision",
          "Parked Car",
          "Vehicle Theft",
          "Single Vehicle Collision",
          "Multi-vehicle Collision",
          "Multi-vehicle Collision",
          "Multi-vehicle Collision",
          "Single Vehicle Collision",
          "Multi-vehicle Collision",
          "Multi-vehicle Collision",
          "Single Vehicle Collision",
          "Single Vehicle Collision",
          "Multi-vehicle Collision",
          "Multi-vehicle Collision",
          "Single Vehicle Collision",
          "Single Vehicle Collision",
          "Multi-vehicle Collision",
          "Single Vehicle Collision",
          "Single Vehicle Collision",
          "Multi-vehicle Collision",
          "Single Vehicle Collision",
          "Single Vehicle Collision",
          "Multi-vehicle Collision",
          "Multi-vehicle Collision",
          "Multi-vehicle Collision",
          "Vehicle Theft",
          "Single Vehicle Collision",
          "Single Vehicle Collision",
          "Vehicle Theft",
          "Single Vehicle Collision",
          "Multi-vehicle Collision",
          "Single Vehicle Collision",
          "Single Vehicle Collision",
          "Multi-vehicle Collision",
          "Multi-vehicle Collision",
          "Multi-vehicle Collision",
          "Single Vehicle Collision",
          "Vehicle Theft",
          "Parked Car",
          "Parked Car",
          "Multi-vehicle Collision",
          "Multi-vehicle Collision",
          "Vehicle Theft",
          "Single Vehicle Collision",
          "Single Vehicle Collision",
          "Single Vehicle Collision",
          "Vehicle Theft",
          "Single Vehicle Collision",
          "Single Vehicle Collision",
          "Single Vehicle Collision",
          "Single Vehicle Collision",
          "Single Vehicle Collision",
          "Single Vehicle Collision",
          "Single Vehicle Collision",
          "Single Vehicle Collision",
          "Multi-vehicle Collision",
          "Multi-vehicle Collision",
          "Single Vehicle Collision",
          "Single Vehicle Collision",
          "Single Vehicle Collision",
          "Single Vehicle Collision",
          "Vehicle Theft",
          "Parked Car",
          "Single Vehicle Collision",
          "Multi-vehicle Collision",
          "Parked Car",
          "Parked Car",
          "Single Vehicle Collision",
          "Single Vehicle Collision",
          "Single Vehicle Collision",
          "Multi-vehicle Collision",
          "Single Vehicle Collision",
          "Single Vehicle Collision",
          "Parked Car",
          "Multi-vehicle Collision",
          "Single Vehicle Collision",
          "Multi-vehicle Collision",
          "Vehicle Theft",
          "Single Vehicle Collision",
          "Single Vehicle Collision",
          "Single Vehicle Collision",
          "Multi-vehicle Collision",
          "Multi-vehicle Collision",
          "Single Vehicle Collision",
          "Multi-vehicle Collision",
          "Multi-vehicle Collision",
          "Multi-vehicle Collision",
          "Multi-vehicle Collision",
          "Multi-vehicle Collision",
          "Multi-vehicle Collision",
          "Vehicle Theft",
          "Multi-vehicle Collision",
          "Multi-vehicle Collision",
          "Single Vehicle Collision",
          "Multi-vehicle Collision",
          "Single Vehicle Collision",
          "Single Vehicle Collision",
          "Single Vehicle Collision",
          "Multi-vehicle Collision",
          "Single Vehicle Collision",
          "Vehicle Theft",
          "Multi-vehicle Collision",
          "Multi-vehicle Collision",
          "Single Vehicle Collision",
          "Single Vehicle Collision",
          "Vehicle Theft",
          "Multi-vehicle Collision",
          "Single Vehicle Collision",
          "Single Vehicle Collision",
          "Single Vehicle Collision",
          "Single Vehicle Collision",
          "Single Vehicle Collision",
          "Single Vehicle Collision",
          "Multi-vehicle Collision",
          "Single Vehicle Collision",
          "Multi-vehicle Collision",
          "Multi-vehicle Collision",
          "Single Vehicle Collision",
          "Parked Car",
          "Single Vehicle Collision",
          "Single Vehicle Collision",
          "Single Vehicle Collision",
          "Single Vehicle Collision",
          "Multi-vehicle Collision",
          "Vehicle Theft",
          "Single Vehicle Collision",
          "Single Vehicle Collision",
          "Multi-vehicle Collision",
          "Multi-vehicle Collision",
          "Parked Car",
          "Vehicle Theft",
          "Multi-vehicle Collision",
          "Vehicle Theft",
          "Single Vehicle Collision",
          "Single Vehicle Collision",
          "Single Vehicle Collision",
          "Multi-vehicle Collision",
          "Vehicle Theft",
          "Multi-vehicle Collision",
          "Multi-vehicle Collision",
          "Multi-vehicle Collision",
          "Single Vehicle Collision",
          "Single Vehicle Collision",
          "Parked Car",
          "Multi-vehicle Collision",
          "Multi-vehicle Collision",
          "Single Vehicle Collision",
          "Single Vehicle Collision",
          "Vehicle Theft",
          "Multi-vehicle Collision",
          "Multi-vehicle Collision",
          "Single Vehicle Collision",
          "Parked Car",
          "Multi-vehicle Collision",
          "Vehicle Theft",
          "Vehicle Theft",
          "Multi-vehicle Collision",
          "Multi-vehicle Collision",
          "Single Vehicle Collision",
          "Single Vehicle Collision",
          "Multi-vehicle Collision",
          "Single Vehicle Collision",
          "Single Vehicle Collision",
          "Multi-vehicle Collision",
          "Single Vehicle Collision",
          "Multi-vehicle Collision",
          "Multi-vehicle Collision",
          "Multi-vehicle Collision",
          "Single Vehicle Collision",
          "Single Vehicle Collision",
          "Multi-vehicle Collision",
          "Single Vehicle Collision",
          "Multi-vehicle Collision",
          "Multi-vehicle Collision",
          "Multi-vehicle Collision",
          "Parked Car",
          "Vehicle Theft",
          "Vehicle Theft",
          "Single Vehicle Collision",
          "Multi-vehicle Collision",
          "Multi-vehicle Collision",
          "Single Vehicle Collision",
          "Multi-vehicle Collision",
          "Single Vehicle Collision",
          "Parked Car",
          "Multi-vehicle Collision",
          "Multi-vehicle Collision",
          "Single Vehicle Collision",
          "Vehicle Theft",
          "Multi-vehicle Collision",
          "Single Vehicle Collision",
          "Single Vehicle Collision",
          "Parked Car",
          "Multi-vehicle Collision",
          "Single Vehicle Collision",
          "Multi-vehicle Collision",
          "Multi-vehicle Collision",
          "Single Vehicle Collision",
          "Multi-vehicle Collision",
          "Parked Car",
          "Multi-vehicle Collision",
          "Multi-vehicle Collision",
          "Single Vehicle Collision",
          "Multi-vehicle Collision",
          "Single Vehicle Collision",
          "Parked Car",
          "Parked Car",
          "Single Vehicle Collision",
          "Multi-vehicle Collision",
          "Parked Car",
          "Multi-vehicle Collision",
          "Multi-vehicle Collision",
          "Single Vehicle Collision",
          "Single Vehicle Collision",
          "Vehicle Theft",
          "Vehicle Theft",
          "Multi-vehicle Collision",
          "Single Vehicle Collision",
          "Multi-vehicle Collision",
          "Single Vehicle Collision",
          "Single Vehicle Collision",
          "Multi-vehicle Collision",
          "Multi-vehicle Collision",
          "Single Vehicle Collision",
          "Parked Car",
          "Multi-vehicle Collision",
          "Multi-vehicle Collision",
          "Single Vehicle Collision",
          "Single Vehicle Collision",
          "Vehicle Theft",
          "Single Vehicle Collision",
          "Single Vehicle Collision",
          "Multi-vehicle Collision",
          "Single Vehicle Collision",
          "Multi-vehicle Collision",
          "Multi-vehicle Collision",
          "Single Vehicle Collision",
          "Single Vehicle Collision",
          "Single Vehicle Collision",
          "Multi-vehicle Collision",
          "Multi-vehicle Collision",
          "Single Vehicle Collision",
          "Multi-vehicle Collision",
          "Single Vehicle Collision",
          "Vehicle Theft",
          "Vehicle Theft",
          "Multi-vehicle Collision",
          "Parked Car",
          "Multi-vehicle Collision",
          "Multi-vehicle Collision",
          "Single Vehicle Collision",
          "Parked Car",
          "Parked Car",
          "Single Vehicle Collision",
          "Parked Car",
          "Multi-vehicle Collision",
          "Multi-vehicle Collision",
          "Single Vehicle Collision",
          "Single Vehicle Collision",
          "Parked Car",
          "Multi-vehicle Collision",
          "Multi-vehicle Collision",
          "Vehicle Theft",
          "Single Vehicle Collision",
          "Single Vehicle Collision",
          "Vehicle Theft",
          "Parked Car",
          "Single Vehicle Collision",
          "Parked Car",
          "Single Vehicle Collision",
          "Single Vehicle Collision",
          "Multi-vehicle Collision",
          "Single Vehicle Collision",
          "Vehicle Theft",
          "Single Vehicle Collision",
          "Parked Car",
          "Parked Car",
          "Multi-vehicle Collision",
          "Multi-vehicle Collision",
          "Parked Car",
          "Single Vehicle Collision",
          "Single Vehicle Collision",
          "Single Vehicle Collision",
          "Single Vehicle Collision",
          "Single Vehicle Collision",
          "Multi-vehicle Collision",
          "Multi-vehicle Collision",
          "Multi-vehicle Collision",
          "Single Vehicle Collision",
          "Vehicle Theft",
          "Multi-vehicle Collision",
          "Single Vehicle Collision",
          "Multi-vehicle Collision",
          "Multi-vehicle Collision",
          "Multi-vehicle Collision",
          "Single Vehicle Collision",
          "Vehicle Theft",
          "Single Vehicle Collision",
          "Multi-vehicle Collision",
          "Multi-vehicle Collision",
          "Multi-vehicle Collision",
          "Multi-vehicle Collision",
          "Single Vehicle Collision",
          "Single Vehicle Collision",
          "Single Vehicle Collision",
          "Single Vehicle Collision",
          "Multi-vehicle Collision",
          "Multi-vehicle Collision",
          "Single Vehicle Collision",
          "Multi-vehicle Collision",
          "Multi-vehicle Collision",
          "Single Vehicle Collision",
          "Multi-vehicle Collision",
          "Multi-vehicle Collision",
          "Single Vehicle Collision",
          "Single Vehicle Collision",
          "Multi-vehicle Collision",
          "Multi-vehicle Collision",
          "Parked Car",
          "Single Vehicle Collision",
          "Multi-vehicle Collision",
          "Multi-vehicle Collision",
          "Multi-vehicle Collision",
          "Single Vehicle Collision",
          "Single Vehicle Collision",
          "Vehicle Theft",
          "Parked Car",
          "Multi-vehicle Collision",
          "Multi-vehicle Collision",
          "Single Vehicle Collision",
          "Parked Car",
          "Multi-vehicle Collision",
          "Single Vehicle Collision",
          "Multi-vehicle Collision",
          "Multi-vehicle Collision",
          "Single Vehicle Collision",
          "Single Vehicle Collision",
          "Parked Car",
          "Single Vehicle Collision",
          "Multi-vehicle Collision",
          "Single Vehicle Collision",
          "Parked Car",
          "Single Vehicle Collision",
          "Single Vehicle Collision",
          "Multi-vehicle Collision",
          "Single Vehicle Collision",
          "Multi-vehicle Collision",
          "Vehicle Theft",
          "Vehicle Theft",
          "Multi-vehicle Collision",
          "Single Vehicle Collision",
          "Multi-vehicle Collision",
          "Vehicle Theft",
          "Single Vehicle Collision",
          "Vehicle Theft",
          "Multi-vehicle Collision",
          "Single Vehicle Collision",
          "Single Vehicle Collision",
          "Single Vehicle Collision",
          "Single Vehicle Collision",
          "Multi-vehicle Collision",
          "Multi-vehicle Collision",
          "Single Vehicle Collision",
          "Vehicle Theft",
          "Multi-vehicle Collision",
          "Vehicle Theft",
          "Vehicle Theft",
          "Single Vehicle Collision",
          "Single Vehicle Collision",
          "Parked Car",
          "Multi-vehicle Collision",
          "Vehicle Theft",
          "Multi-vehicle Collision",
          "Single Vehicle Collision",
          "Multi-vehicle Collision",
          "Parked Car",
          "Multi-vehicle Collision",
          "Multi-vehicle Collision",
          "Single Vehicle Collision",
          "Multi-vehicle Collision",
          "Multi-vehicle Collision",
          "Multi-vehicle Collision",
          "Single Vehicle Collision",
          "Multi-vehicle Collision",
          "Multi-vehicle Collision",
          "Multi-vehicle Collision",
          "Multi-vehicle Collision",
          "Single Vehicle Collision",
          "Multi-vehicle Collision",
          "Single Vehicle Collision",
          "Single Vehicle Collision",
          "Multi-vehicle Collision",
          "Single Vehicle Collision",
          "Parked Car",
          "Single Vehicle Collision",
          "Single Vehicle Collision",
          "Vehicle Theft",
          "Multi-vehicle Collision",
          "Single Vehicle Collision",
          "Single Vehicle Collision",
          "Single Vehicle Collision",
          "Multi-vehicle Collision",
          "Single Vehicle Collision",
          "Parked Car",
          "Single Vehicle Collision",
          "Multi-vehicle Collision",
          "Single Vehicle Collision",
          "Multi-vehicle Collision",
          "Vehicle Theft",
          "Vehicle Theft",
          "Parked Car",
          "Parked Car",
          "Multi-vehicle Collision",
          "Single Vehicle Collision",
          "Vehicle Theft",
          "Single Vehicle Collision",
          "Single Vehicle Collision",
          "Multi-vehicle Collision",
          "Single Vehicle Collision",
          "Multi-vehicle Collision",
          "Multi-vehicle Collision",
          "Multi-vehicle Collision",
          "Vehicle Theft",
          "Multi-vehicle Collision",
          "Single Vehicle Collision",
          "Multi-vehicle Collision",
          "Single Vehicle Collision",
          "Multi-vehicle Collision",
          "Vehicle Theft",
          "Single Vehicle Collision",
          "Multi-vehicle Collision",
          "Single Vehicle Collision",
          "Multi-vehicle Collision",
          "Vehicle Theft",
          "Single Vehicle Collision",
          "Multi-vehicle Collision",
          "Vehicle Theft",
          "Vehicle Theft",
          "Multi-vehicle Collision",
          "Multi-vehicle Collision",
          "Multi-vehicle Collision",
          "Multi-vehicle Collision",
          "Single Vehicle Collision",
          "Single Vehicle Collision",
          "Parked Car",
          "Multi-vehicle Collision",
          "Parked Car",
          "Multi-vehicle Collision",
          "Single Vehicle Collision",
          "Multi-vehicle Collision",
          "Single Vehicle Collision",
          "Single Vehicle Collision",
          "Multi-vehicle Collision",
          "Parked Car",
          "Single Vehicle Collision",
          "Multi-vehicle Collision",
          "Vehicle Theft",
          "Single Vehicle Collision",
          "Single Vehicle Collision",
          "Multi-vehicle Collision",
          "Single Vehicle Collision",
          "Multi-vehicle Collision",
          "Vehicle Theft",
          "Multi-vehicle Collision",
          "Vehicle Theft",
          "Single Vehicle Collision",
          "Vehicle Theft",
          "Single Vehicle Collision",
          "Multi-vehicle Collision",
          "Multi-vehicle Collision",
          "Vehicle Theft",
          "Single Vehicle Collision",
          "Single Vehicle Collision",
          "Multi-vehicle Collision",
          "Multi-vehicle Collision",
          "Single Vehicle Collision",
          "Single Vehicle Collision",
          "Single Vehicle Collision",
          "Multi-vehicle Collision",
          "Parked Car",
          "Single Vehicle Collision",
          "Single Vehicle Collision",
          "Single Vehicle Collision",
          "Multi-vehicle Collision",
          "Single Vehicle Collision",
          "Single Vehicle Collision",
          "Multi-vehicle Collision",
          "Multi-vehicle Collision",
          "Parked Car",
          "Single Vehicle Collision",
          "Single Vehicle Collision",
          "Multi-vehicle Collision",
          "Single Vehicle Collision",
          "Parked Car"
         ],
         "xaxis": "x",
         "yaxis": "y"
        }
       ],
       "layout": {
        "barmode": "relative",
        "legend": {
         "title": {
          "text": "fraud_reported"
         },
         "tracegroupgap": 0
        },
        "margin": {
         "t": 60
        },
        "template": {
         "data": {
          "bar": [
           {
            "error_x": {
             "color": "#2a3f5f"
            },
            "error_y": {
             "color": "#2a3f5f"
            },
            "marker": {
             "line": {
              "color": "#E5ECF6",
              "width": 0.5
             },
             "pattern": {
              "fillmode": "overlay",
              "size": 10,
              "solidity": 0.2
             }
            },
            "type": "bar"
           }
          ],
          "barpolar": [
           {
            "marker": {
             "line": {
              "color": "#E5ECF6",
              "width": 0.5
             },
             "pattern": {
              "fillmode": "overlay",
              "size": 10,
              "solidity": 0.2
             }
            },
            "type": "barpolar"
           }
          ],
          "carpet": [
           {
            "aaxis": {
             "endlinecolor": "#2a3f5f",
             "gridcolor": "white",
             "linecolor": "white",
             "minorgridcolor": "white",
             "startlinecolor": "#2a3f5f"
            },
            "baxis": {
             "endlinecolor": "#2a3f5f",
             "gridcolor": "white",
             "linecolor": "white",
             "minorgridcolor": "white",
             "startlinecolor": "#2a3f5f"
            },
            "type": "carpet"
           }
          ],
          "choropleth": [
           {
            "colorbar": {
             "outlinewidth": 0,
             "ticks": ""
            },
            "type": "choropleth"
           }
          ],
          "contour": [
           {
            "colorbar": {
             "outlinewidth": 0,
             "ticks": ""
            },
            "colorscale": [
             [
              0,
              "#0d0887"
             ],
             [
              0.1111111111111111,
              "#46039f"
             ],
             [
              0.2222222222222222,
              "#7201a8"
             ],
             [
              0.3333333333333333,
              "#9c179e"
             ],
             [
              0.4444444444444444,
              "#bd3786"
             ],
             [
              0.5555555555555556,
              "#d8576b"
             ],
             [
              0.6666666666666666,
              "#ed7953"
             ],
             [
              0.7777777777777778,
              "#fb9f3a"
             ],
             [
              0.8888888888888888,
              "#fdca26"
             ],
             [
              1,
              "#f0f921"
             ]
            ],
            "type": "contour"
           }
          ],
          "contourcarpet": [
           {
            "colorbar": {
             "outlinewidth": 0,
             "ticks": ""
            },
            "type": "contourcarpet"
           }
          ],
          "heatmap": [
           {
            "colorbar": {
             "outlinewidth": 0,
             "ticks": ""
            },
            "colorscale": [
             [
              0,
              "#0d0887"
             ],
             [
              0.1111111111111111,
              "#46039f"
             ],
             [
              0.2222222222222222,
              "#7201a8"
             ],
             [
              0.3333333333333333,
              "#9c179e"
             ],
             [
              0.4444444444444444,
              "#bd3786"
             ],
             [
              0.5555555555555556,
              "#d8576b"
             ],
             [
              0.6666666666666666,
              "#ed7953"
             ],
             [
              0.7777777777777778,
              "#fb9f3a"
             ],
             [
              0.8888888888888888,
              "#fdca26"
             ],
             [
              1,
              "#f0f921"
             ]
            ],
            "type": "heatmap"
           }
          ],
          "heatmapgl": [
           {
            "colorbar": {
             "outlinewidth": 0,
             "ticks": ""
            },
            "colorscale": [
             [
              0,
              "#0d0887"
             ],
             [
              0.1111111111111111,
              "#46039f"
             ],
             [
              0.2222222222222222,
              "#7201a8"
             ],
             [
              0.3333333333333333,
              "#9c179e"
             ],
             [
              0.4444444444444444,
              "#bd3786"
             ],
             [
              0.5555555555555556,
              "#d8576b"
             ],
             [
              0.6666666666666666,
              "#ed7953"
             ],
             [
              0.7777777777777778,
              "#fb9f3a"
             ],
             [
              0.8888888888888888,
              "#fdca26"
             ],
             [
              1,
              "#f0f921"
             ]
            ],
            "type": "heatmapgl"
           }
          ],
          "histogram": [
           {
            "marker": {
             "pattern": {
              "fillmode": "overlay",
              "size": 10,
              "solidity": 0.2
             }
            },
            "type": "histogram"
           }
          ],
          "histogram2d": [
           {
            "colorbar": {
             "outlinewidth": 0,
             "ticks": ""
            },
            "colorscale": [
             [
              0,
              "#0d0887"
             ],
             [
              0.1111111111111111,
              "#46039f"
             ],
             [
              0.2222222222222222,
              "#7201a8"
             ],
             [
              0.3333333333333333,
              "#9c179e"
             ],
             [
              0.4444444444444444,
              "#bd3786"
             ],
             [
              0.5555555555555556,
              "#d8576b"
             ],
             [
              0.6666666666666666,
              "#ed7953"
             ],
             [
              0.7777777777777778,
              "#fb9f3a"
             ],
             [
              0.8888888888888888,
              "#fdca26"
             ],
             [
              1,
              "#f0f921"
             ]
            ],
            "type": "histogram2d"
           }
          ],
          "histogram2dcontour": [
           {
            "colorbar": {
             "outlinewidth": 0,
             "ticks": ""
            },
            "colorscale": [
             [
              0,
              "#0d0887"
             ],
             [
              0.1111111111111111,
              "#46039f"
             ],
             [
              0.2222222222222222,
              "#7201a8"
             ],
             [
              0.3333333333333333,
              "#9c179e"
             ],
             [
              0.4444444444444444,
              "#bd3786"
             ],
             [
              0.5555555555555556,
              "#d8576b"
             ],
             [
              0.6666666666666666,
              "#ed7953"
             ],
             [
              0.7777777777777778,
              "#fb9f3a"
             ],
             [
              0.8888888888888888,
              "#fdca26"
             ],
             [
              1,
              "#f0f921"
             ]
            ],
            "type": "histogram2dcontour"
           }
          ],
          "mesh3d": [
           {
            "colorbar": {
             "outlinewidth": 0,
             "ticks": ""
            },
            "type": "mesh3d"
           }
          ],
          "parcoords": [
           {
            "line": {
             "colorbar": {
              "outlinewidth": 0,
              "ticks": ""
             }
            },
            "type": "parcoords"
           }
          ],
          "pie": [
           {
            "automargin": true,
            "type": "pie"
           }
          ],
          "scatter": [
           {
            "marker": {
             "colorbar": {
              "outlinewidth": 0,
              "ticks": ""
             }
            },
            "type": "scatter"
           }
          ],
          "scatter3d": [
           {
            "line": {
             "colorbar": {
              "outlinewidth": 0,
              "ticks": ""
             }
            },
            "marker": {
             "colorbar": {
              "outlinewidth": 0,
              "ticks": ""
             }
            },
            "type": "scatter3d"
           }
          ],
          "scattercarpet": [
           {
            "marker": {
             "colorbar": {
              "outlinewidth": 0,
              "ticks": ""
             }
            },
            "type": "scattercarpet"
           }
          ],
          "scattergeo": [
           {
            "marker": {
             "colorbar": {
              "outlinewidth": 0,
              "ticks": ""
             }
            },
            "type": "scattergeo"
           }
          ],
          "scattergl": [
           {
            "marker": {
             "colorbar": {
              "outlinewidth": 0,
              "ticks": ""
             }
            },
            "type": "scattergl"
           }
          ],
          "scattermapbox": [
           {
            "marker": {
             "colorbar": {
              "outlinewidth": 0,
              "ticks": ""
             }
            },
            "type": "scattermapbox"
           }
          ],
          "scatterpolar": [
           {
            "marker": {
             "colorbar": {
              "outlinewidth": 0,
              "ticks": ""
             }
            },
            "type": "scatterpolar"
           }
          ],
          "scatterpolargl": [
           {
            "marker": {
             "colorbar": {
              "outlinewidth": 0,
              "ticks": ""
             }
            },
            "type": "scatterpolargl"
           }
          ],
          "scatterternary": [
           {
            "marker": {
             "colorbar": {
              "outlinewidth": 0,
              "ticks": ""
             }
            },
            "type": "scatterternary"
           }
          ],
          "surface": [
           {
            "colorbar": {
             "outlinewidth": 0,
             "ticks": ""
            },
            "colorscale": [
             [
              0,
              "#0d0887"
             ],
             [
              0.1111111111111111,
              "#46039f"
             ],
             [
              0.2222222222222222,
              "#7201a8"
             ],
             [
              0.3333333333333333,
              "#9c179e"
             ],
             [
              0.4444444444444444,
              "#bd3786"
             ],
             [
              0.5555555555555556,
              "#d8576b"
             ],
             [
              0.6666666666666666,
              "#ed7953"
             ],
             [
              0.7777777777777778,
              "#fb9f3a"
             ],
             [
              0.8888888888888888,
              "#fdca26"
             ],
             [
              1,
              "#f0f921"
             ]
            ],
            "type": "surface"
           }
          ],
          "table": [
           {
            "cells": {
             "fill": {
              "color": "#EBF0F8"
             },
             "line": {
              "color": "white"
             }
            },
            "header": {
             "fill": {
              "color": "#C8D4E3"
             },
             "line": {
              "color": "white"
             }
            },
            "type": "table"
           }
          ]
         },
         "layout": {
          "annotationdefaults": {
           "arrowcolor": "#2a3f5f",
           "arrowhead": 0,
           "arrowwidth": 1
          },
          "autotypenumbers": "strict",
          "coloraxis": {
           "colorbar": {
            "outlinewidth": 0,
            "ticks": ""
           }
          },
          "colorscale": {
           "diverging": [
            [
             0,
             "#8e0152"
            ],
            [
             0.1,
             "#c51b7d"
            ],
            [
             0.2,
             "#de77ae"
            ],
            [
             0.3,
             "#f1b6da"
            ],
            [
             0.4,
             "#fde0ef"
            ],
            [
             0.5,
             "#f7f7f7"
            ],
            [
             0.6,
             "#e6f5d0"
            ],
            [
             0.7,
             "#b8e186"
            ],
            [
             0.8,
             "#7fbc41"
            ],
            [
             0.9,
             "#4d9221"
            ],
            [
             1,
             "#276419"
            ]
           ],
           "sequential": [
            [
             0,
             "#0d0887"
            ],
            [
             0.1111111111111111,
             "#46039f"
            ],
            [
             0.2222222222222222,
             "#7201a8"
            ],
            [
             0.3333333333333333,
             "#9c179e"
            ],
            [
             0.4444444444444444,
             "#bd3786"
            ],
            [
             0.5555555555555556,
             "#d8576b"
            ],
            [
             0.6666666666666666,
             "#ed7953"
            ],
            [
             0.7777777777777778,
             "#fb9f3a"
            ],
            [
             0.8888888888888888,
             "#fdca26"
            ],
            [
             1,
             "#f0f921"
            ]
           ],
           "sequentialminus": [
            [
             0,
             "#0d0887"
            ],
            [
             0.1111111111111111,
             "#46039f"
            ],
            [
             0.2222222222222222,
             "#7201a8"
            ],
            [
             0.3333333333333333,
             "#9c179e"
            ],
            [
             0.4444444444444444,
             "#bd3786"
            ],
            [
             0.5555555555555556,
             "#d8576b"
            ],
            [
             0.6666666666666666,
             "#ed7953"
            ],
            [
             0.7777777777777778,
             "#fb9f3a"
            ],
            [
             0.8888888888888888,
             "#fdca26"
            ],
            [
             1,
             "#f0f921"
            ]
           ]
          },
          "colorway": [
           "#636efa",
           "#EF553B",
           "#00cc96",
           "#ab63fa",
           "#FFA15A",
           "#19d3f3",
           "#FF6692",
           "#B6E880",
           "#FF97FF",
           "#FECB52"
          ],
          "font": {
           "color": "#2a3f5f"
          },
          "geo": {
           "bgcolor": "white",
           "lakecolor": "white",
           "landcolor": "#E5ECF6",
           "showlakes": true,
           "showland": true,
           "subunitcolor": "white"
          },
          "hoverlabel": {
           "align": "left"
          },
          "hovermode": "closest",
          "mapbox": {
           "style": "light"
          },
          "paper_bgcolor": "white",
          "plot_bgcolor": "#E5ECF6",
          "polar": {
           "angularaxis": {
            "gridcolor": "white",
            "linecolor": "white",
            "ticks": ""
           },
           "bgcolor": "#E5ECF6",
           "radialaxis": {
            "gridcolor": "white",
            "linecolor": "white",
            "ticks": ""
           }
          },
          "scene": {
           "xaxis": {
            "backgroundcolor": "#E5ECF6",
            "gridcolor": "white",
            "gridwidth": 2,
            "linecolor": "white",
            "showbackground": true,
            "ticks": "",
            "zerolinecolor": "white"
           },
           "yaxis": {
            "backgroundcolor": "#E5ECF6",
            "gridcolor": "white",
            "gridwidth": 2,
            "linecolor": "white",
            "showbackground": true,
            "ticks": "",
            "zerolinecolor": "white"
           },
           "zaxis": {
            "backgroundcolor": "#E5ECF6",
            "gridcolor": "white",
            "gridwidth": 2,
            "linecolor": "white",
            "showbackground": true,
            "ticks": "",
            "zerolinecolor": "white"
           }
          },
          "shapedefaults": {
           "line": {
            "color": "#2a3f5f"
           }
          },
          "ternary": {
           "aaxis": {
            "gridcolor": "white",
            "linecolor": "white",
            "ticks": ""
           },
           "baxis": {
            "gridcolor": "white",
            "linecolor": "white",
            "ticks": ""
           },
           "bgcolor": "#E5ECF6",
           "caxis": {
            "gridcolor": "white",
            "linecolor": "white",
            "ticks": ""
           }
          },
          "title": {
           "x": 0.05
          },
          "xaxis": {
           "automargin": true,
           "gridcolor": "white",
           "linecolor": "white",
           "ticks": "",
           "title": {
            "standoff": 15
           },
           "zerolinecolor": "white",
           "zerolinewidth": 2
          },
          "yaxis": {
           "automargin": true,
           "gridcolor": "white",
           "linecolor": "white",
           "ticks": "",
           "title": {
            "standoff": 15
           },
           "zerolinecolor": "white",
           "zerolinewidth": 2
          }
         }
        },
        "xaxis": {
         "anchor": "y",
         "domain": [
          0,
          1
         ],
         "title": {
          "text": "incident_type"
         }
        },
        "yaxis": {
         "anchor": "x",
         "domain": [
          0,
          1
         ],
         "title": {
          "text": "count"
         }
        }
       }
      }
     },
     "metadata": {},
     "output_type": "display_data"
    }
   ],
   "source": [
    "fig = px.histogram(df, x=\"incident_type\", color=\"fraud_reported\")\n",
    "fig.show()"
   ]
  },
  {
   "cell_type": "code",
   "execution_count": 33,
   "metadata": {},
   "outputs": [
    {
     "data": {
      "application/vnd.plotly.v1+json": {
       "config": {
        "plotlyServerURL": "https://plot.ly"
       },
       "data": [
        {
         "alignmentgroup": "True",
         "bingroup": "x",
         "hovertemplate": "fraud_reported=Y<br>collision_type=%{x}<br>count=%{y}<extra></extra>",
         "legendgroup": "Y",
         "marker": {
          "color": "#636efa",
          "pattern": {
           "shape": ""
          }
         },
         "name": "Y",
         "offsetgroup": "Y",
         "orientation": "v",
         "showlegend": true,
         "type": "histogram",
         "x": [
          "Side Collision",
          "?",
          "Front Collision",
          "Rear Collision",
          "Rear Collision",
          "Side Collision",
          "Rear Collision",
          "Front Collision",
          "Rear Collision",
          "?",
          "Side Collision",
          "Front Collision",
          "Rear Collision",
          "Front Collision",
          "Side Collision",
          "Front Collision",
          "Rear Collision",
          "Front Collision",
          "Rear Collision",
          "Front Collision",
          "Side Collision",
          "Side Collision",
          "Front Collision",
          "Rear Collision",
          "Side Collision",
          "Side Collision",
          "Side Collision",
          "Side Collision",
          "Rear Collision",
          "Rear Collision",
          "Front Collision",
          "Rear Collision",
          "Front Collision",
          "Side Collision",
          "Side Collision",
          "Front Collision",
          "Front Collision",
          "Front Collision",
          "Front Collision",
          "Rear Collision",
          "Rear Collision",
          "Front Collision",
          "Side Collision",
          "Rear Collision",
          "Side Collision",
          "Rear Collision",
          "Rear Collision",
          "Front Collision",
          "Front Collision",
          "Rear Collision",
          "Rear Collision",
          "Rear Collision",
          "Front Collision",
          "Rear Collision",
          "?",
          "Rear Collision",
          "Side Collision",
          "Side Collision",
          "Side Collision",
          "Rear Collision",
          "Front Collision",
          "Front Collision",
          "Front Collision",
          "Rear Collision",
          "Front Collision",
          "Rear Collision",
          "Rear Collision",
          "Rear Collision",
          "Side Collision",
          "Side Collision",
          "Rear Collision",
          "Side Collision",
          "Rear Collision",
          "Front Collision",
          "Rear Collision",
          "Side Collision",
          "Front Collision",
          "Rear Collision",
          "Side Collision",
          "?",
          "Rear Collision",
          "Rear Collision",
          "Rear Collision",
          "Rear Collision",
          "Front Collision",
          "Side Collision",
          "Rear Collision",
          "Rear Collision",
          "Front Collision",
          "Side Collision",
          "Rear Collision",
          "Side Collision",
          "Front Collision",
          "Front Collision",
          "Side Collision",
          "Rear Collision",
          "Rear Collision",
          "Front Collision",
          "Rear Collision",
          "Side Collision",
          "Rear Collision",
          "Rear Collision",
          "Side Collision",
          "?",
          "?",
          "Side Collision",
          "?",
          "Front Collision",
          "Rear Collision",
          "Rear Collision",
          "Rear Collision",
          "Rear Collision",
          "Front Collision",
          "Front Collision",
          "Side Collision",
          "Rear Collision",
          "Front Collision",
          "?",
          "Side Collision",
          "Rear Collision",
          "Side Collision",
          "Rear Collision",
          "Front Collision",
          "Front Collision",
          "?",
          "Rear Collision",
          "Side Collision",
          "?",
          "Front Collision",
          "Front Collision",
          "Front Collision",
          "Rear Collision",
          "Front Collision",
          "Rear Collision",
          "Side Collision",
          "Front Collision",
          "Front Collision",
          "Side Collision",
          "?",
          "Front Collision",
          "Side Collision",
          "?",
          "Rear Collision",
          "Side Collision",
          "Front Collision",
          "Front Collision",
          "Rear Collision",
          "Side Collision",
          "Rear Collision",
          "Side Collision",
          "Front Collision",
          "Rear Collision",
          "Side Collision",
          "?",
          "Side Collision",
          "Rear Collision",
          "Side Collision",
          "Side Collision",
          "Rear Collision",
          "Front Collision",
          "Side Collision",
          "Rear Collision",
          "?",
          "Side Collision",
          "Side Collision",
          "Side Collision",
          "Side Collision",
          "Front Collision",
          "Front Collision",
          "Front Collision",
          "Side Collision",
          "Rear Collision",
          "Front Collision",
          "Front Collision",
          "Front Collision",
          "Front Collision",
          "Rear Collision",
          "Rear Collision",
          "Rear Collision",
          "Side Collision",
          "Rear Collision",
          "Rear Collision",
          "Front Collision",
          "Side Collision",
          "Side Collision",
          "Rear Collision",
          "Rear Collision",
          "Side Collision",
          "Rear Collision",
          "Side Collision",
          "Front Collision",
          "Side Collision",
          "Front Collision",
          "Rear Collision",
          "Rear Collision",
          "Rear Collision",
          "Rear Collision",
          "Front Collision",
          "Front Collision",
          "Front Collision",
          "Front Collision",
          "Rear Collision",
          "Rear Collision",
          "Rear Collision",
          "Rear Collision",
          "Front Collision",
          "Rear Collision",
          "Front Collision",
          "Side Collision",
          "Rear Collision",
          "?",
          "Side Collision",
          "Front Collision",
          "Side Collision",
          "Side Collision",
          "Side Collision",
          "Rear Collision",
          "Front Collision",
          "Rear Collision",
          "Side Collision",
          "Side Collision",
          "Rear Collision",
          "Front Collision",
          "Rear Collision",
          "Side Collision",
          "Front Collision",
          "Side Collision",
          "Rear Collision",
          "Rear Collision",
          "Rear Collision",
          "Front Collision",
          "Front Collision",
          "Side Collision",
          "Rear Collision",
          "Side Collision",
          "Front Collision",
          "Rear Collision",
          "Side Collision",
          "?",
          "Rear Collision",
          "Rear Collision",
          "Rear Collision",
          "Side Collision",
          "Side Collision",
          "Front Collision",
          "Rear Collision",
          "Side Collision"
         ],
         "xaxis": "x",
         "yaxis": "y"
        },
        {
         "alignmentgroup": "True",
         "bingroup": "x",
         "hovertemplate": "fraud_reported=N<br>collision_type=%{x}<br>count=%{y}<extra></extra>",
         "legendgroup": "N",
         "marker": {
          "color": "#EF553B",
          "pattern": {
           "shape": ""
          }
         },
         "name": "N",
         "offsetgroup": "N",
         "orientation": "v",
         "showlegend": true,
         "type": "histogram",
         "x": [
          "Rear Collision",
          "?",
          "Front Collision",
          "Front Collision",
          "Front Collision",
          "Rear Collision",
          "Front Collision",
          "Front Collision",
          "Rear Collision",
          "?",
          "Rear Collision",
          "Side Collision",
          "Side Collision",
          "Side Collision",
          "Rear Collision",
          "Side Collision",
          "Rear Collision",
          "?",
          "Side Collision",
          "Rear Collision",
          "Side Collision",
          "Front Collision",
          "Front Collision",
          "Side Collision",
          "?",
          "Rear Collision",
          "Rear Collision",
          "Side Collision",
          "Rear Collision",
          "Front Collision",
          "Rear Collision",
          "Rear Collision",
          "?",
          "Rear Collision",
          "Front Collision",
          "?",
          "?",
          "Side Collision",
          "?",
          "Rear Collision",
          "Front Collision",
          "?",
          "Front Collision",
          "Side Collision",
          "Side Collision",
          "Side Collision",
          "Side Collision",
          "Front Collision",
          "?",
          "Rear Collision",
          "Rear Collision",
          "Side Collision",
          "Front Collision",
          "Front Collision",
          "Front Collision",
          "?",
          "Side Collision",
          "?",
          "?",
          "?",
          "Front Collision",
          "Front Collision",
          "Side Collision",
          "?",
          "Front Collision",
          "?",
          "Front Collision",
          "Rear Collision",
          "?",
          "?",
          "?",
          "Rear Collision",
          "Side Collision",
          "Front Collision",
          "?",
          "Side Collision",
          "?",
          "Front Collision",
          "Rear Collision",
          "Rear Collision",
          "Side Collision",
          "?",
          "Rear Collision",
          "Rear Collision",
          "Rear Collision",
          "Side Collision",
          "Front Collision",
          "Rear Collision",
          "Rear Collision",
          "Side Collision",
          "?",
          "Front Collision",
          "Front Collision",
          "Front Collision",
          "Side Collision",
          "Side Collision",
          "?",
          "Rear Collision",
          "Rear Collision",
          "Front Collision",
          "Rear Collision",
          "?",
          "?",
          "Rear Collision",
          "Front Collision",
          "Side Collision",
          "Rear Collision",
          "Rear Collision",
          "Rear Collision",
          "?",
          "Front Collision",
          "?",
          "?",
          "Front Collision",
          "Side Collision",
          "Rear Collision",
          "Side Collision",
          "Front Collision",
          "?",
          "?",
          "Rear Collision",
          "Rear Collision",
          "Front Collision",
          "?",
          "Rear Collision",
          "Front Collision",
          "Rear Collision",
          "Front Collision",
          "?",
          "Side Collision",
          "Side Collision",
          "Side Collision",
          "Front Collision",
          "Front Collision",
          "?",
          "Rear Collision",
          "?",
          "Side Collision",
          "Front Collision",
          "?",
          "Rear Collision",
          "Side Collision",
          "?",
          "Front Collision",
          "?",
          "?",
          "Rear Collision",
          "?",
          "Rear Collision",
          "Rear Collision",
          "Rear Collision",
          "Side Collision",
          "Side Collision",
          "?",
          "?",
          "?",
          "Side Collision",
          "Front Collision",
          "?",
          "Side Collision",
          "Front Collision",
          "Side Collision",
          "Side Collision",
          "Side Collision",
          "Front Collision",
          "Rear Collision",
          "Front Collision",
          "Rear Collision",
          "Side Collision",
          "Side Collision",
          "Side Collision",
          "Rear Collision",
          "Side Collision",
          "Front Collision",
          "Side Collision",
          "Front Collision",
          "Front Collision",
          "?",
          "Rear Collision",
          "?",
          "Side Collision",
          "?",
          "Rear Collision",
          "?",
          "Side Collision",
          "Side Collision",
          "?",
          "?",
          "Side Collision",
          "Side Collision",
          "?",
          "Rear Collision",
          "Rear Collision",
          "Front Collision",
          "Rear Collision",
          "?",
          "Rear Collision",
          "Front Collision",
          "Front Collision",
          "Side Collision",
          "Side Collision",
          "Side Collision",
          "?",
          "Side Collision",
          "Front Collision",
          "Rear Collision",
          "?",
          "?",
          "Side Collision",
          "Front Collision",
          "Side Collision",
          "Side Collision",
          "Front Collision",
          "?",
          "?",
          "Rear Collision",
          "?",
          "Side Collision",
          "Rear Collision",
          "?",
          "Rear Collision",
          "Rear Collision",
          "Side Collision",
          "Side Collision",
          "Side Collision",
          "Side Collision",
          "Rear Collision",
          "Side Collision",
          "Side Collision",
          "Rear Collision",
          "Front Collision",
          "Rear Collision",
          "Front Collision",
          "Rear Collision",
          "Side Collision",
          "Front Collision",
          "Rear Collision",
          "Side Collision",
          "?",
          "?",
          "Side Collision",
          "Rear Collision",
          "Side Collision",
          "Rear Collision",
          "Front Collision",
          "Front Collision",
          "Rear Collision",
          "?",
          "Side Collision",
          "Rear Collision",
          "Front Collision",
          "Side Collision",
          "Side Collision",
          "Rear Collision",
          "Front Collision",
          "Front Collision",
          "Rear Collision",
          "Side Collision",
          "Side Collision",
          "Side Collision",
          "?",
          "?",
          "Front Collision",
          "Rear Collision",
          "Front Collision",
          "Side Collision",
          "Front Collision",
          "Side Collision",
          "Front Collision",
          "Rear Collision",
          "Side Collision",
          "Side Collision",
          "Side Collision",
          "Front Collision",
          "Front Collision",
          "Front Collision",
          "Side Collision",
          "Front Collision",
          "Side Collision",
          "Front Collision",
          "Rear Collision",
          "Side Collision",
          "Rear Collision",
          "Front Collision",
          "?",
          "Side Collision",
          "Front Collision",
          "?",
          "Rear Collision",
          "Front Collision",
          "Front Collision",
          "Side Collision",
          "Side Collision",
          "Rear Collision",
          "Side Collision",
          "Rear Collision",
          "?",
          "?",
          "?",
          "Front Collision",
          "Front Collision",
          "?",
          "Front Collision",
          "Rear Collision",
          "Rear Collision",
          "?",
          "Side Collision",
          "Rear Collision",
          "Front Collision",
          "Front Collision",
          "Side Collision",
          "Front Collision",
          "Side Collision",
          "Front Collision",
          "Front Collision",
          "Side Collision",
          "Front Collision",
          "Rear Collision",
          "Side Collision",
          "Side Collision",
          "?",
          "?",
          "Rear Collision",
          "Front Collision",
          "?",
          "?",
          "Rear Collision",
          "Front Collision",
          "Front Collision",
          "Rear Collision",
          "Rear Collision",
          "Side Collision",
          "?",
          "Rear Collision",
          "Side Collision",
          "Front Collision",
          "?",
          "Side Collision",
          "Side Collision",
          "Side Collision",
          "Side Collision",
          "Front Collision",
          "Rear Collision",
          "Side Collision",
          "Side Collision",
          "Front Collision",
          "Side Collision",
          "Front Collision",
          "Side Collision",
          "?",
          "Side Collision",
          "Rear Collision",
          "Rear Collision",
          "Rear Collision",
          "Rear Collision",
          "Front Collision",
          "Rear Collision",
          "Rear Collision",
          "Side Collision",
          "?",
          "Front Collision",
          "Side Collision",
          "Rear Collision",
          "Rear Collision",
          "?",
          "Rear Collision",
          "Side Collision",
          "Side Collision",
          "Side Collision",
          "Side Collision",
          "Front Collision",
          "Rear Collision",
          "Rear Collision",
          "Front Collision",
          "Front Collision",
          "Rear Collision",
          "Rear Collision",
          "?",
          "Rear Collision",
          "Rear Collision",
          "Side Collision",
          "Front Collision",
          "Rear Collision",
          "?",
          "Front Collision",
          "Rear Collision",
          "Rear Collision",
          "Rear Collision",
          "?",
          "?",
          "Side Collision",
          "?",
          "Front Collision",
          "Front Collision",
          "Front Collision",
          "Front Collision",
          "?",
          "Rear Collision",
          "Front Collision",
          "Side Collision",
          "Front Collision",
          "Front Collision",
          "?",
          "Rear Collision",
          "Rear Collision",
          "Front Collision",
          "Side Collision",
          "?",
          "Rear Collision",
          "Side Collision",
          "Rear Collision",
          "?",
          "Side Collision",
          "?",
          "?",
          "Rear Collision",
          "Side Collision",
          "Front Collision",
          "Rear Collision",
          "Rear Collision",
          "Side Collision",
          "Rear Collision",
          "Rear Collision",
          "Front Collision",
          "Rear Collision",
          "Side Collision",
          "Side Collision",
          "Front Collision",
          "Front Collision",
          "Rear Collision",
          "Front Collision",
          "Side Collision",
          "Front Collision",
          "Rear Collision",
          "?",
          "?",
          "?",
          "Front Collision",
          "Side Collision",
          "Side Collision",
          "Rear Collision",
          "Side Collision",
          "Rear Collision",
          "?",
          "Front Collision",
          "Front Collision",
          "Front Collision",
          "?",
          "Side Collision",
          "Rear Collision",
          "Side Collision",
          "?",
          "Front Collision",
          "Front Collision",
          "Rear Collision",
          "Front Collision",
          "Rear Collision",
          "Front Collision",
          "?",
          "Side Collision",
          "Front Collision",
          "Rear Collision",
          "Front Collision",
          "Side Collision",
          "?",
          "?",
          "Front Collision",
          "Side Collision",
          "?",
          "Front Collision",
          "Rear Collision",
          "Front Collision",
          "Side Collision",
          "?",
          "?",
          "Side Collision",
          "Side Collision",
          "Rear Collision",
          "Rear Collision",
          "Front Collision",
          "Rear Collision",
          "Front Collision",
          "Side Collision",
          "?",
          "Front Collision",
          "Side Collision",
          "Side Collision",
          "Side Collision",
          "?",
          "Rear Collision",
          "Front Collision",
          "Front Collision",
          "Side Collision",
          "Front Collision",
          "Side Collision",
          "Side Collision",
          "Rear Collision",
          "Rear Collision",
          "Rear Collision",
          "Rear Collision",
          "Front Collision",
          "Rear Collision",
          "Rear Collision",
          "?",
          "?",
          "Front Collision",
          "?",
          "Front Collision",
          "Side Collision",
          "Front Collision",
          "?",
          "?",
          "Rear Collision",
          "?",
          "Rear Collision",
          "Side Collision",
          "Side Collision",
          "Front Collision",
          "?",
          "Side Collision",
          "Rear Collision",
          "?",
          "Rear Collision",
          "Rear Collision",
          "?",
          "?",
          "Rear Collision",
          "?",
          "Front Collision",
          "Front Collision",
          "Side Collision",
          "Front Collision",
          "?",
          "Front Collision",
          "?",
          "?",
          "Side Collision",
          "Rear Collision",
          "?",
          "Side Collision",
          "Side Collision",
          "Front Collision",
          "Rear Collision",
          "Side Collision",
          "Front Collision",
          "Rear Collision",
          "Front Collision",
          "Front Collision",
          "?",
          "Rear Collision",
          "Rear Collision",
          "Side Collision",
          "Side Collision",
          "Side Collision",
          "Side Collision",
          "?",
          "Side Collision",
          "Rear Collision",
          "Rear Collision",
          "Side Collision",
          "Side Collision",
          "Rear Collision",
          "Rear Collision",
          "Front Collision",
          "Front Collision",
          "Side Collision",
          "Rear Collision",
          "Rear Collision",
          "Rear Collision",
          "Front Collision",
          "Rear Collision",
          "Side Collision",
          "Front Collision",
          "Side Collision",
          "Front Collision",
          "Rear Collision",
          "Side Collision",
          "?",
          "Front Collision",
          "Rear Collision",
          "Front Collision",
          "Rear Collision",
          "Front Collision",
          "Front Collision",
          "?",
          "?",
          "Rear Collision",
          "Front Collision",
          "Rear Collision",
          "?",
          "Rear Collision",
          "Side Collision",
          "Front Collision",
          "Side Collision",
          "Side Collision",
          "Side Collision",
          "?",
          "Rear Collision",
          "Rear Collision",
          "Front Collision",
          "?",
          "Rear Collision",
          "Side Collision",
          "Rear Collision",
          "Side Collision",
          "Side Collision",
          "?",
          "?",
          "Front Collision",
          "Rear Collision",
          "Side Collision",
          "?",
          "Side Collision",
          "?",
          "Side Collision",
          "Front Collision",
          "Rear Collision",
          "Front Collision",
          "Front Collision",
          "Side Collision",
          "Rear Collision",
          "Side Collision",
          "?",
          "Rear Collision",
          "?",
          "?",
          "Rear Collision",
          "Rear Collision",
          "?",
          "Rear Collision",
          "?",
          "Side Collision",
          "Side Collision",
          "Side Collision",
          "?",
          "Side Collision",
          "Side Collision",
          "Front Collision",
          "Side Collision",
          "Rear Collision",
          "Side Collision",
          "Front Collision",
          "Side Collision",
          "Side Collision",
          "Rear Collision",
          "Side Collision",
          "Rear Collision",
          "Front Collision",
          "Front Collision",
          "Front Collision",
          "Rear Collision",
          "Front Collision",
          "?",
          "Rear Collision",
          "Side Collision",
          "?",
          "Front Collision",
          "Front Collision",
          "Rear Collision",
          "Front Collision",
          "Rear Collision",
          "Front Collision",
          "?",
          "Rear Collision",
          "Side Collision",
          "Side Collision",
          "Rear Collision",
          "?",
          "?",
          "?",
          "?",
          "Front Collision",
          "Rear Collision",
          "?",
          "Side Collision",
          "Side Collision",
          "Side Collision",
          "Side Collision",
          "Side Collision",
          "Rear Collision",
          "Front Collision",
          "?",
          "Rear Collision",
          "Side Collision",
          "Front Collision",
          "Side Collision",
          "Front Collision",
          "?",
          "Side Collision",
          "Front Collision",
          "Rear Collision",
          "Rear Collision",
          "?",
          "Rear Collision",
          "Rear Collision",
          "?",
          "?",
          "Side Collision",
          "Side Collision",
          "Side Collision",
          "Rear Collision",
          "Front Collision",
          "Front Collision",
          "?",
          "Side Collision",
          "?",
          "Front Collision",
          "Side Collision",
          "Front Collision",
          "Side Collision",
          "Front Collision",
          "Side Collision",
          "?",
          "Side Collision",
          "Front Collision",
          "?",
          "Rear Collision",
          "Side Collision",
          "Side Collision",
          "Rear Collision",
          "Front Collision",
          "?",
          "Rear Collision",
          "?",
          "Rear Collision",
          "?",
          "Front Collision",
          "Rear Collision",
          "Side Collision",
          "?",
          "Side Collision",
          "Front Collision",
          "Rear Collision",
          "Side Collision",
          "Front Collision",
          "Rear Collision",
          "Rear Collision",
          "Front Collision",
          "?",
          "Side Collision",
          "Side Collision",
          "Rear Collision",
          "Rear Collision",
          "Rear Collision",
          "Rear Collision",
          "Front Collision",
          "Side Collision",
          "?",
          "Front Collision",
          "Rear Collision",
          "Side Collision",
          "Rear Collision",
          "?"
         ],
         "xaxis": "x",
         "yaxis": "y"
        }
       ],
       "layout": {
        "barmode": "relative",
        "legend": {
         "title": {
          "text": "fraud_reported"
         },
         "tracegroupgap": 0
        },
        "margin": {
         "t": 60
        },
        "template": {
         "data": {
          "bar": [
           {
            "error_x": {
             "color": "#2a3f5f"
            },
            "error_y": {
             "color": "#2a3f5f"
            },
            "marker": {
             "line": {
              "color": "#E5ECF6",
              "width": 0.5
             },
             "pattern": {
              "fillmode": "overlay",
              "size": 10,
              "solidity": 0.2
             }
            },
            "type": "bar"
           }
          ],
          "barpolar": [
           {
            "marker": {
             "line": {
              "color": "#E5ECF6",
              "width": 0.5
             },
             "pattern": {
              "fillmode": "overlay",
              "size": 10,
              "solidity": 0.2
             }
            },
            "type": "barpolar"
           }
          ],
          "carpet": [
           {
            "aaxis": {
             "endlinecolor": "#2a3f5f",
             "gridcolor": "white",
             "linecolor": "white",
             "minorgridcolor": "white",
             "startlinecolor": "#2a3f5f"
            },
            "baxis": {
             "endlinecolor": "#2a3f5f",
             "gridcolor": "white",
             "linecolor": "white",
             "minorgridcolor": "white",
             "startlinecolor": "#2a3f5f"
            },
            "type": "carpet"
           }
          ],
          "choropleth": [
           {
            "colorbar": {
             "outlinewidth": 0,
             "ticks": ""
            },
            "type": "choropleth"
           }
          ],
          "contour": [
           {
            "colorbar": {
             "outlinewidth": 0,
             "ticks": ""
            },
            "colorscale": [
             [
              0,
              "#0d0887"
             ],
             [
              0.1111111111111111,
              "#46039f"
             ],
             [
              0.2222222222222222,
              "#7201a8"
             ],
             [
              0.3333333333333333,
              "#9c179e"
             ],
             [
              0.4444444444444444,
              "#bd3786"
             ],
             [
              0.5555555555555556,
              "#d8576b"
             ],
             [
              0.6666666666666666,
              "#ed7953"
             ],
             [
              0.7777777777777778,
              "#fb9f3a"
             ],
             [
              0.8888888888888888,
              "#fdca26"
             ],
             [
              1,
              "#f0f921"
             ]
            ],
            "type": "contour"
           }
          ],
          "contourcarpet": [
           {
            "colorbar": {
             "outlinewidth": 0,
             "ticks": ""
            },
            "type": "contourcarpet"
           }
          ],
          "heatmap": [
           {
            "colorbar": {
             "outlinewidth": 0,
             "ticks": ""
            },
            "colorscale": [
             [
              0,
              "#0d0887"
             ],
             [
              0.1111111111111111,
              "#46039f"
             ],
             [
              0.2222222222222222,
              "#7201a8"
             ],
             [
              0.3333333333333333,
              "#9c179e"
             ],
             [
              0.4444444444444444,
              "#bd3786"
             ],
             [
              0.5555555555555556,
              "#d8576b"
             ],
             [
              0.6666666666666666,
              "#ed7953"
             ],
             [
              0.7777777777777778,
              "#fb9f3a"
             ],
             [
              0.8888888888888888,
              "#fdca26"
             ],
             [
              1,
              "#f0f921"
             ]
            ],
            "type": "heatmap"
           }
          ],
          "heatmapgl": [
           {
            "colorbar": {
             "outlinewidth": 0,
             "ticks": ""
            },
            "colorscale": [
             [
              0,
              "#0d0887"
             ],
             [
              0.1111111111111111,
              "#46039f"
             ],
             [
              0.2222222222222222,
              "#7201a8"
             ],
             [
              0.3333333333333333,
              "#9c179e"
             ],
             [
              0.4444444444444444,
              "#bd3786"
             ],
             [
              0.5555555555555556,
              "#d8576b"
             ],
             [
              0.6666666666666666,
              "#ed7953"
             ],
             [
              0.7777777777777778,
              "#fb9f3a"
             ],
             [
              0.8888888888888888,
              "#fdca26"
             ],
             [
              1,
              "#f0f921"
             ]
            ],
            "type": "heatmapgl"
           }
          ],
          "histogram": [
           {
            "marker": {
             "pattern": {
              "fillmode": "overlay",
              "size": 10,
              "solidity": 0.2
             }
            },
            "type": "histogram"
           }
          ],
          "histogram2d": [
           {
            "colorbar": {
             "outlinewidth": 0,
             "ticks": ""
            },
            "colorscale": [
             [
              0,
              "#0d0887"
             ],
             [
              0.1111111111111111,
              "#46039f"
             ],
             [
              0.2222222222222222,
              "#7201a8"
             ],
             [
              0.3333333333333333,
              "#9c179e"
             ],
             [
              0.4444444444444444,
              "#bd3786"
             ],
             [
              0.5555555555555556,
              "#d8576b"
             ],
             [
              0.6666666666666666,
              "#ed7953"
             ],
             [
              0.7777777777777778,
              "#fb9f3a"
             ],
             [
              0.8888888888888888,
              "#fdca26"
             ],
             [
              1,
              "#f0f921"
             ]
            ],
            "type": "histogram2d"
           }
          ],
          "histogram2dcontour": [
           {
            "colorbar": {
             "outlinewidth": 0,
             "ticks": ""
            },
            "colorscale": [
             [
              0,
              "#0d0887"
             ],
             [
              0.1111111111111111,
              "#46039f"
             ],
             [
              0.2222222222222222,
              "#7201a8"
             ],
             [
              0.3333333333333333,
              "#9c179e"
             ],
             [
              0.4444444444444444,
              "#bd3786"
             ],
             [
              0.5555555555555556,
              "#d8576b"
             ],
             [
              0.6666666666666666,
              "#ed7953"
             ],
             [
              0.7777777777777778,
              "#fb9f3a"
             ],
             [
              0.8888888888888888,
              "#fdca26"
             ],
             [
              1,
              "#f0f921"
             ]
            ],
            "type": "histogram2dcontour"
           }
          ],
          "mesh3d": [
           {
            "colorbar": {
             "outlinewidth": 0,
             "ticks": ""
            },
            "type": "mesh3d"
           }
          ],
          "parcoords": [
           {
            "line": {
             "colorbar": {
              "outlinewidth": 0,
              "ticks": ""
             }
            },
            "type": "parcoords"
           }
          ],
          "pie": [
           {
            "automargin": true,
            "type": "pie"
           }
          ],
          "scatter": [
           {
            "marker": {
             "colorbar": {
              "outlinewidth": 0,
              "ticks": ""
             }
            },
            "type": "scatter"
           }
          ],
          "scatter3d": [
           {
            "line": {
             "colorbar": {
              "outlinewidth": 0,
              "ticks": ""
             }
            },
            "marker": {
             "colorbar": {
              "outlinewidth": 0,
              "ticks": ""
             }
            },
            "type": "scatter3d"
           }
          ],
          "scattercarpet": [
           {
            "marker": {
             "colorbar": {
              "outlinewidth": 0,
              "ticks": ""
             }
            },
            "type": "scattercarpet"
           }
          ],
          "scattergeo": [
           {
            "marker": {
             "colorbar": {
              "outlinewidth": 0,
              "ticks": ""
             }
            },
            "type": "scattergeo"
           }
          ],
          "scattergl": [
           {
            "marker": {
             "colorbar": {
              "outlinewidth": 0,
              "ticks": ""
             }
            },
            "type": "scattergl"
           }
          ],
          "scattermapbox": [
           {
            "marker": {
             "colorbar": {
              "outlinewidth": 0,
              "ticks": ""
             }
            },
            "type": "scattermapbox"
           }
          ],
          "scatterpolar": [
           {
            "marker": {
             "colorbar": {
              "outlinewidth": 0,
              "ticks": ""
             }
            },
            "type": "scatterpolar"
           }
          ],
          "scatterpolargl": [
           {
            "marker": {
             "colorbar": {
              "outlinewidth": 0,
              "ticks": ""
             }
            },
            "type": "scatterpolargl"
           }
          ],
          "scatterternary": [
           {
            "marker": {
             "colorbar": {
              "outlinewidth": 0,
              "ticks": ""
             }
            },
            "type": "scatterternary"
           }
          ],
          "surface": [
           {
            "colorbar": {
             "outlinewidth": 0,
             "ticks": ""
            },
            "colorscale": [
             [
              0,
              "#0d0887"
             ],
             [
              0.1111111111111111,
              "#46039f"
             ],
             [
              0.2222222222222222,
              "#7201a8"
             ],
             [
              0.3333333333333333,
              "#9c179e"
             ],
             [
              0.4444444444444444,
              "#bd3786"
             ],
             [
              0.5555555555555556,
              "#d8576b"
             ],
             [
              0.6666666666666666,
              "#ed7953"
             ],
             [
              0.7777777777777778,
              "#fb9f3a"
             ],
             [
              0.8888888888888888,
              "#fdca26"
             ],
             [
              1,
              "#f0f921"
             ]
            ],
            "type": "surface"
           }
          ],
          "table": [
           {
            "cells": {
             "fill": {
              "color": "#EBF0F8"
             },
             "line": {
              "color": "white"
             }
            },
            "header": {
             "fill": {
              "color": "#C8D4E3"
             },
             "line": {
              "color": "white"
             }
            },
            "type": "table"
           }
          ]
         },
         "layout": {
          "annotationdefaults": {
           "arrowcolor": "#2a3f5f",
           "arrowhead": 0,
           "arrowwidth": 1
          },
          "autotypenumbers": "strict",
          "coloraxis": {
           "colorbar": {
            "outlinewidth": 0,
            "ticks": ""
           }
          },
          "colorscale": {
           "diverging": [
            [
             0,
             "#8e0152"
            ],
            [
             0.1,
             "#c51b7d"
            ],
            [
             0.2,
             "#de77ae"
            ],
            [
             0.3,
             "#f1b6da"
            ],
            [
             0.4,
             "#fde0ef"
            ],
            [
             0.5,
             "#f7f7f7"
            ],
            [
             0.6,
             "#e6f5d0"
            ],
            [
             0.7,
             "#b8e186"
            ],
            [
             0.8,
             "#7fbc41"
            ],
            [
             0.9,
             "#4d9221"
            ],
            [
             1,
             "#276419"
            ]
           ],
           "sequential": [
            [
             0,
             "#0d0887"
            ],
            [
             0.1111111111111111,
             "#46039f"
            ],
            [
             0.2222222222222222,
             "#7201a8"
            ],
            [
             0.3333333333333333,
             "#9c179e"
            ],
            [
             0.4444444444444444,
             "#bd3786"
            ],
            [
             0.5555555555555556,
             "#d8576b"
            ],
            [
             0.6666666666666666,
             "#ed7953"
            ],
            [
             0.7777777777777778,
             "#fb9f3a"
            ],
            [
             0.8888888888888888,
             "#fdca26"
            ],
            [
             1,
             "#f0f921"
            ]
           ],
           "sequentialminus": [
            [
             0,
             "#0d0887"
            ],
            [
             0.1111111111111111,
             "#46039f"
            ],
            [
             0.2222222222222222,
             "#7201a8"
            ],
            [
             0.3333333333333333,
             "#9c179e"
            ],
            [
             0.4444444444444444,
             "#bd3786"
            ],
            [
             0.5555555555555556,
             "#d8576b"
            ],
            [
             0.6666666666666666,
             "#ed7953"
            ],
            [
             0.7777777777777778,
             "#fb9f3a"
            ],
            [
             0.8888888888888888,
             "#fdca26"
            ],
            [
             1,
             "#f0f921"
            ]
           ]
          },
          "colorway": [
           "#636efa",
           "#EF553B",
           "#00cc96",
           "#ab63fa",
           "#FFA15A",
           "#19d3f3",
           "#FF6692",
           "#B6E880",
           "#FF97FF",
           "#FECB52"
          ],
          "font": {
           "color": "#2a3f5f"
          },
          "geo": {
           "bgcolor": "white",
           "lakecolor": "white",
           "landcolor": "#E5ECF6",
           "showlakes": true,
           "showland": true,
           "subunitcolor": "white"
          },
          "hoverlabel": {
           "align": "left"
          },
          "hovermode": "closest",
          "mapbox": {
           "style": "light"
          },
          "paper_bgcolor": "white",
          "plot_bgcolor": "#E5ECF6",
          "polar": {
           "angularaxis": {
            "gridcolor": "white",
            "linecolor": "white",
            "ticks": ""
           },
           "bgcolor": "#E5ECF6",
           "radialaxis": {
            "gridcolor": "white",
            "linecolor": "white",
            "ticks": ""
           }
          },
          "scene": {
           "xaxis": {
            "backgroundcolor": "#E5ECF6",
            "gridcolor": "white",
            "gridwidth": 2,
            "linecolor": "white",
            "showbackground": true,
            "ticks": "",
            "zerolinecolor": "white"
           },
           "yaxis": {
            "backgroundcolor": "#E5ECF6",
            "gridcolor": "white",
            "gridwidth": 2,
            "linecolor": "white",
            "showbackground": true,
            "ticks": "",
            "zerolinecolor": "white"
           },
           "zaxis": {
            "backgroundcolor": "#E5ECF6",
            "gridcolor": "white",
            "gridwidth": 2,
            "linecolor": "white",
            "showbackground": true,
            "ticks": "",
            "zerolinecolor": "white"
           }
          },
          "shapedefaults": {
           "line": {
            "color": "#2a3f5f"
           }
          },
          "ternary": {
           "aaxis": {
            "gridcolor": "white",
            "linecolor": "white",
            "ticks": ""
           },
           "baxis": {
            "gridcolor": "white",
            "linecolor": "white",
            "ticks": ""
           },
           "bgcolor": "#E5ECF6",
           "caxis": {
            "gridcolor": "white",
            "linecolor": "white",
            "ticks": ""
           }
          },
          "title": {
           "x": 0.05
          },
          "xaxis": {
           "automargin": true,
           "gridcolor": "white",
           "linecolor": "white",
           "ticks": "",
           "title": {
            "standoff": 15
           },
           "zerolinecolor": "white",
           "zerolinewidth": 2
          },
          "yaxis": {
           "automargin": true,
           "gridcolor": "white",
           "linecolor": "white",
           "ticks": "",
           "title": {
            "standoff": 15
           },
           "zerolinecolor": "white",
           "zerolinewidth": 2
          }
         }
        },
        "xaxis": {
         "anchor": "y",
         "domain": [
          0,
          1
         ],
         "title": {
          "text": "collision_type"
         }
        },
        "yaxis": {
         "anchor": "x",
         "domain": [
          0,
          1
         ],
         "title": {
          "text": "count"
         }
        }
       }
      }
     },
     "metadata": {},
     "output_type": "display_data"
    }
   ],
   "source": [
    "fig = px.histogram(df, x=\"collision_type\", color=\"fraud_reported\")\n",
    "fig.show()"
   ]
  },
  {
   "cell_type": "code",
   "execution_count": 34,
   "metadata": {},
   "outputs": [
    {
     "data": {
      "application/vnd.plotly.v1+json": {
       "config": {
        "plotlyServerURL": "https://plot.ly"
       },
       "data": [
        {
         "alignmentgroup": "True",
         "bingroup": "x",
         "hovertemplate": "fraud_reported=Y<br>incident_severity=%{x}<br>count=%{y}<extra></extra>",
         "legendgroup": "Y",
         "marker": {
          "color": "#636efa",
          "pattern": {
           "shape": ""
          }
         },
         "name": "Y",
         "offsetgroup": "Y",
         "orientation": "v",
         "showlegend": true,
         "type": "histogram",
         "x": [
          "Major Damage",
          "Minor Damage",
          "Major Damage",
          "Major Damage",
          "Total Loss",
          "Major Damage",
          "Major Damage",
          "Total Loss",
          "Major Damage",
          "Minor Damage",
          "Major Damage",
          "Major Damage",
          "Total Loss",
          "Major Damage",
          "Major Damage",
          "Major Damage",
          "Major Damage",
          "Major Damage",
          "Total Loss",
          "Minor Damage",
          "Minor Damage",
          "Major Damage",
          "Total Loss",
          "Major Damage",
          "Major Damage",
          "Major Damage",
          "Major Damage",
          "Major Damage",
          "Minor Damage",
          "Major Damage",
          "Major Damage",
          "Major Damage",
          "Major Damage",
          "Total Loss",
          "Major Damage",
          "Major Damage",
          "Major Damage",
          "Major Damage",
          "Major Damage",
          "Major Damage",
          "Major Damage",
          "Major Damage",
          "Major Damage",
          "Major Damage",
          "Major Damage",
          "Total Loss",
          "Minor Damage",
          "Major Damage",
          "Major Damage",
          "Major Damage",
          "Total Loss",
          "Minor Damage",
          "Total Loss",
          "Major Damage",
          "Trivial Damage",
          "Total Loss",
          "Major Damage",
          "Total Loss",
          "Minor Damage",
          "Total Loss",
          "Major Damage",
          "Major Damage",
          "Major Damage",
          "Total Loss",
          "Major Damage",
          "Major Damage",
          "Total Loss",
          "Total Loss",
          "Major Damage",
          "Major Damage",
          "Major Damage",
          "Major Damage",
          "Major Damage",
          "Major Damage",
          "Major Damage",
          "Major Damage",
          "Major Damage",
          "Minor Damage",
          "Major Damage",
          "Trivial Damage",
          "Major Damage",
          "Major Damage",
          "Major Damage",
          "Minor Damage",
          "Major Damage",
          "Major Damage",
          "Total Loss",
          "Major Damage",
          "Major Damage",
          "Major Damage",
          "Major Damage",
          "Major Damage",
          "Major Damage",
          "Major Damage",
          "Total Loss",
          "Major Damage",
          "Total Loss",
          "Major Damage",
          "Major Damage",
          "Major Damage",
          "Major Damage",
          "Major Damage",
          "Major Damage",
          "Minor Damage",
          "Minor Damage",
          "Minor Damage",
          "Minor Damage",
          "Major Damage",
          "Minor Damage",
          "Minor Damage",
          "Major Damage",
          "Major Damage",
          "Minor Damage",
          "Major Damage",
          "Major Damage",
          "Major Damage",
          "Major Damage",
          "Trivial Damage",
          "Major Damage",
          "Total Loss",
          "Major Damage",
          "Minor Damage",
          "Major Damage",
          "Major Damage",
          "Minor Damage",
          "Major Damage",
          "Total Loss",
          "Minor Damage",
          "Major Damage",
          "Major Damage",
          "Total Loss",
          "Major Damage",
          "Major Damage",
          "Major Damage",
          "Minor Damage",
          "Major Damage",
          "Major Damage",
          "Major Damage",
          "Minor Damage",
          "Minor Damage",
          "Major Damage",
          "Minor Damage",
          "Major Damage",
          "Total Loss",
          "Minor Damage",
          "Major Damage",
          "Major Damage",
          "Total Loss",
          "Major Damage",
          "Major Damage",
          "Major Damage",
          "Major Damage",
          "Major Damage",
          "Trivial Damage",
          "Minor Damage",
          "Total Loss",
          "Major Damage",
          "Minor Damage",
          "Major Damage",
          "Major Damage",
          "Total Loss",
          "Major Damage",
          "Trivial Damage",
          "Major Damage",
          "Major Damage",
          "Total Loss",
          "Major Damage",
          "Major Damage",
          "Minor Damage",
          "Total Loss",
          "Major Damage",
          "Total Loss",
          "Major Damage",
          "Major Damage",
          "Total Loss",
          "Major Damage",
          "Major Damage",
          "Total Loss",
          "Major Damage",
          "Minor Damage",
          "Minor Damage",
          "Total Loss",
          "Minor Damage",
          "Major Damage",
          "Major Damage",
          "Major Damage",
          "Major Damage",
          "Major Damage",
          "Major Damage",
          "Major Damage",
          "Major Damage",
          "Major Damage",
          "Major Damage",
          "Major Damage",
          "Major Damage",
          "Major Damage",
          "Major Damage",
          "Major Damage",
          "Total Loss",
          "Major Damage",
          "Major Damage",
          "Total Loss",
          "Major Damage",
          "Minor Damage",
          "Major Damage",
          "Minor Damage",
          "Major Damage",
          "Major Damage",
          "Total Loss",
          "Major Damage",
          "Trivial Damage",
          "Major Damage",
          "Major Damage",
          "Major Damage",
          "Major Damage",
          "Major Damage",
          "Major Damage",
          "Minor Damage",
          "Major Damage",
          "Major Damage",
          "Major Damage",
          "Major Damage",
          "Major Damage",
          "Major Damage",
          "Major Damage",
          "Major Damage",
          "Major Damage",
          "Major Damage",
          "Major Damage",
          "Minor Damage",
          "Total Loss",
          "Major Damage",
          "Major Damage",
          "Major Damage",
          "Total Loss",
          "Major Damage",
          "Major Damage",
          "Major Damage",
          "Minor Damage",
          "Major Damage",
          "Major Damage",
          "Major Damage",
          "Major Damage",
          "Major Damage",
          "Minor Damage",
          "Minor Damage",
          "Major Damage"
         ],
         "xaxis": "x",
         "yaxis": "y"
        },
        {
         "alignmentgroup": "True",
         "bingroup": "x",
         "hovertemplate": "fraud_reported=N<br>incident_severity=%{x}<br>count=%{y}<extra></extra>",
         "legendgroup": "N",
         "marker": {
          "color": "#EF553B",
          "pattern": {
           "shape": ""
          }
         },
         "name": "N",
         "offsetgroup": "N",
         "orientation": "v",
         "showlegend": true,
         "type": "histogram",
         "x": [
          "Minor Damage",
          "Minor Damage",
          "Minor Damage",
          "Total Loss",
          "Total Loss",
          "Total Loss",
          "Total Loss",
          "Major Damage",
          "Total Loss",
          "Minor Damage",
          "Major Damage",
          "Total Loss",
          "Total Loss",
          "Major Damage",
          "Minor Damage",
          "Total Loss",
          "Minor Damage",
          "Minor Damage",
          "Minor Damage",
          "Minor Damage",
          "Major Damage",
          "Total Loss",
          "Major Damage",
          "Total Loss",
          "Minor Damage",
          "Major Damage",
          "Minor Damage",
          "Minor Damage",
          "Total Loss",
          "Minor Damage",
          "Total Loss",
          "Total Loss",
          "Trivial Damage",
          "Total Loss",
          "Minor Damage",
          "Trivial Damage",
          "Minor Damage",
          "Major Damage",
          "Minor Damage",
          "Minor Damage",
          "Major Damage",
          "Minor Damage",
          "Total Loss",
          "Minor Damage",
          "Total Loss",
          "Minor Damage",
          "Minor Damage",
          "Major Damage",
          "Minor Damage",
          "Minor Damage",
          "Minor Damage",
          "Minor Damage",
          "Total Loss",
          "Minor Damage",
          "Total Loss",
          "Minor Damage",
          "Minor Damage",
          "Trivial Damage",
          "Minor Damage",
          "Trivial Damage",
          "Major Damage",
          "Minor Damage",
          "Total Loss",
          "Trivial Damage",
          "Total Loss",
          "Trivial Damage",
          "Major Damage",
          "Total Loss",
          "Minor Damage",
          "Trivial Damage",
          "Trivial Damage",
          "Minor Damage",
          "Major Damage",
          "Minor Damage",
          "Minor Damage",
          "Total Loss",
          "Minor Damage",
          "Major Damage",
          "Minor Damage",
          "Total Loss",
          "Major Damage",
          "Minor Damage",
          "Minor Damage",
          "Minor Damage",
          "Minor Damage",
          "Minor Damage",
          "Total Loss",
          "Total Loss",
          "Total Loss",
          "Total Loss",
          "Minor Damage",
          "Minor Damage",
          "Major Damage",
          "Major Damage",
          "Total Loss",
          "Minor Damage",
          "Minor Damage",
          "Minor Damage",
          "Minor Damage",
          "Total Loss",
          "Total Loss",
          "Trivial Damage",
          "Minor Damage",
          "Total Loss",
          "Minor Damage",
          "Total Loss",
          "Major Damage",
          "Total Loss",
          "Minor Damage",
          "Minor Damage",
          "Total Loss",
          "Minor Damage",
          "Minor Damage",
          "Total Loss",
          "Total Loss",
          "Total Loss",
          "Minor Damage",
          "Minor Damage",
          "Trivial Damage",
          "Minor Damage",
          "Minor Damage",
          "Total Loss",
          "Major Damage",
          "Trivial Damage",
          "Minor Damage",
          "Minor Damage",
          "Minor Damage",
          "Total Loss",
          "Trivial Damage",
          "Major Damage",
          "Minor Damage",
          "Total Loss",
          "Major Damage",
          "Total Loss",
          "Minor Damage",
          "Total Loss",
          "Minor Damage",
          "Minor Damage",
          "Total Loss",
          "Minor Damage",
          "Total Loss",
          "Total Loss",
          "Trivial Damage",
          "Major Damage",
          "Minor Damage",
          "Trivial Damage",
          "Minor Damage",
          "Trivial Damage",
          "Major Damage",
          "Total Loss",
          "Minor Damage",
          "Major Damage",
          "Total Loss",
          "Trivial Damage",
          "Minor Damage",
          "Trivial Damage",
          "Minor Damage",
          "Minor Damage",
          "Trivial Damage",
          "Minor Damage",
          "Minor Damage",
          "Total Loss",
          "Total Loss",
          "Major Damage",
          "Total Loss",
          "Minor Damage",
          "Total Loss",
          "Minor Damage",
          "Total Loss",
          "Minor Damage",
          "Total Loss",
          "Major Damage",
          "Minor Damage",
          "Total Loss",
          "Major Damage",
          "Minor Damage",
          "Major Damage",
          "Trivial Damage",
          "Total Loss",
          "Trivial Damage",
          "Minor Damage",
          "Minor Damage",
          "Major Damage",
          "Trivial Damage",
          "Major Damage",
          "Total Loss",
          "Trivial Damage",
          "Trivial Damage",
          "Minor Damage",
          "Minor Damage",
          "Trivial Damage",
          "Minor Damage",
          "Major Damage",
          "Total Loss",
          "Minor Damage",
          "Minor Damage",
          "Minor Damage",
          "Minor Damage",
          "Major Damage",
          "Total Loss",
          "Minor Damage",
          "Minor Damage",
          "Minor Damage",
          "Major Damage",
          "Total Loss",
          "Total Loss",
          "Trivial Damage",
          "Minor Damage",
          "Major Damage",
          "Total Loss",
          "Minor Damage",
          "Total Loss",
          "Minor Damage",
          "Trivial Damage",
          "Minor Damage",
          "Major Damage",
          "Trivial Damage",
          "Total Loss",
          "Major Damage",
          "Trivial Damage",
          "Minor Damage",
          "Total Loss",
          "Total Loss",
          "Total Loss",
          "Total Loss",
          "Minor Damage",
          "Minor Damage",
          "Total Loss",
          "Total Loss",
          "Minor Damage",
          "Total Loss",
          "Major Damage",
          "Total Loss",
          "Total Loss",
          "Total Loss",
          "Total Loss",
          "Minor Damage",
          "Major Damage",
          "Trivial Damage",
          "Trivial Damage",
          "Total Loss",
          "Minor Damage",
          "Minor Damage",
          "Total Loss",
          "Minor Damage",
          "Total Loss",
          "Minor Damage",
          "Minor Damage",
          "Minor Damage",
          "Minor Damage",
          "Total Loss",
          "Total Loss",
          "Minor Damage",
          "Minor Damage",
          "Minor Damage",
          "Minor Damage",
          "Total Loss",
          "Major Damage",
          "Minor Damage",
          "Total Loss",
          "Trivial Damage",
          "Trivial Damage",
          "Minor Damage",
          "Major Damage",
          "Major Damage",
          "Total Loss",
          "Total Loss",
          "Minor Damage",
          "Total Loss",
          "Major Damage",
          "Total Loss",
          "Minor Damage",
          "Total Loss",
          "Minor Damage",
          "Minor Damage",
          "Minor Damage",
          "Major Damage",
          "Total Loss",
          "Total Loss",
          "Major Damage",
          "Major Damage",
          "Total Loss",
          "Total Loss",
          "Total Loss",
          "Minor Damage",
          "Major Damage",
          "Minor Damage",
          "Trivial Damage",
          "Minor Damage",
          "Total Loss",
          "Total Loss",
          "Minor Damage",
          "Total Loss",
          "Minor Damage",
          "Total Loss",
          "Minor Damage",
          "Trivial Damage",
          "Minor Damage",
          "Trivial Damage",
          "Minor Damage",
          "Major Damage",
          "Minor Damage",
          "Total Loss",
          "Total Loss",
          "Total Loss",
          "Trivial Damage",
          "Minor Damage",
          "Major Damage",
          "Total Loss",
          "Major Damage",
          "Minor Damage",
          "Total Loss",
          "Minor Damage",
          "Total Loss",
          "Total Loss",
          "Total Loss",
          "Minor Damage",
          "Major Damage",
          "Total Loss",
          "Major Damage",
          "Trivial Damage",
          "Trivial Damage",
          "Total Loss",
          "Total Loss",
          "Minor Damage",
          "Minor Damage",
          "Total Loss",
          "Minor Damage",
          "Total Loss",
          "Major Damage",
          "Minor Damage",
          "Total Loss",
          "Trivial Damage",
          "Total Loss",
          "Minor Damage",
          "Minor Damage",
          "Minor Damage",
          "Total Loss",
          "Minor Damage",
          "Minor Damage",
          "Total Loss",
          "Total Loss",
          "Major Damage",
          "Major Damage",
          "Major Damage",
          "Minor Damage",
          "Minor Damage",
          "Minor Damage",
          "Total Loss",
          "Trivial Damage",
          "Total Loss",
          "Major Damage",
          "Minor Damage",
          "Minor Damage",
          "Minor Damage",
          "Total Loss",
          "Total Loss",
          "Minor Damage",
          "Total Loss",
          "Minor Damage",
          "Minor Damage",
          "Major Damage",
          "Minor Damage",
          "Minor Damage",
          "Trivial Damage",
          "Minor Damage",
          "Minor Damage",
          "Minor Damage",
          "Major Damage",
          "Major Damage",
          "Total Loss",
          "Minor Damage",
          "Minor Damage",
          "Minor Damage",
          "Total Loss",
          "Total Loss",
          "Total Loss",
          "Trivial Damage",
          "Total Loss",
          "Total Loss",
          "Total Loss",
          "Total Loss",
          "Minor Damage",
          "Trivial Damage",
          "Total Loss",
          "Total Loss",
          "Minor Damage",
          "Total Loss",
          "Minor Damage",
          "Trivial Damage",
          "Major Damage",
          "Trivial Damage",
          "Total Loss",
          "Minor Damage",
          "Major Damage",
          "Total Loss",
          "Minor Damage",
          "Total Loss",
          "Major Damage",
          "Minor Damage",
          "Total Loss",
          "Major Damage",
          "Trivial Damage",
          "Major Damage",
          "Minor Damage",
          "Major Damage",
          "Total Loss",
          "Minor Damage",
          "Minor Damage",
          "Total Loss",
          "Minor Damage",
          "Trivial Damage",
          "Minor Damage",
          "Trivial Damage",
          "Minor Damage",
          "Minor Damage",
          "Total Loss",
          "Total Loss",
          "Minor Damage",
          "Minor Damage",
          "Minor Damage",
          "Minor Damage",
          "Total Loss",
          "Total Loss",
          "Total Loss",
          "Minor Damage",
          "Major Damage",
          "Total Loss",
          "Minor Damage",
          "Total Loss",
          "Total Loss",
          "Major Damage",
          "Minor Damage",
          "Minor Damage",
          "Trivial Damage",
          "Minor Damage",
          "Trivial Damage",
          "Major Damage",
          "Total Loss",
          "Total Loss",
          "Total Loss",
          "Major Damage",
          "Major Damage",
          "Trivial Damage",
          "Major Damage",
          "Major Damage",
          "Minor Damage",
          "Trivial Damage",
          "Minor Damage",
          "Minor Damage",
          "Total Loss",
          "Minor Damage",
          "Total Loss",
          "Minor Damage",
          "Minor Damage",
          "Minor Damage",
          "Total Loss",
          "Minor Damage",
          "Minor Damage",
          "Total Loss",
          "Minor Damage",
          "Total Loss",
          "Minor Damage",
          "Minor Damage",
          "Trivial Damage",
          "Minor Damage",
          "Major Damage",
          "Major Damage",
          "Trivial Damage",
          "Minor Damage",
          "Total Loss",
          "Minor Damage",
          "Major Damage",
          "Minor Damage",
          "Trivial Damage",
          "Minor Damage",
          "Total Loss",
          "Total Loss",
          "Major Damage",
          "Minor Damage",
          "Total Loss",
          "Total Loss",
          "Minor Damage",
          "Trivial Damage",
          "Minor Damage",
          "Minor Damage",
          "Minor Damage",
          "Major Damage",
          "Trivial Damage",
          "Minor Damage",
          "Minor Damage",
          "Total Loss",
          "Major Damage",
          "Total Loss",
          "Total Loss",
          "Minor Damage",
          "Total Loss",
          "Major Damage",
          "Major Damage",
          "Total Loss",
          "Minor Damage",
          "Minor Damage",
          "Major Damage",
          "Trivial Damage",
          "Trivial Damage",
          "Minor Damage",
          "Trivial Damage",
          "Minor Damage",
          "Minor Damage",
          "Total Loss",
          "Trivial Damage",
          "Trivial Damage",
          "Major Damage",
          "Trivial Damage",
          "Minor Damage",
          "Minor Damage",
          "Major Damage",
          "Minor Damage",
          "Minor Damage",
          "Minor Damage",
          "Total Loss",
          "Trivial Damage",
          "Total Loss",
          "Major Damage",
          "Trivial Damage",
          "Minor Damage",
          "Minor Damage",
          "Minor Damage",
          "Major Damage",
          "Total Loss",
          "Minor Damage",
          "Minor Damage",
          "Trivial Damage",
          "Total Loss",
          "Trivial Damage",
          "Minor Damage",
          "Total Loss",
          "Minor Damage",
          "Minor Damage",
          "Major Damage",
          "Major Damage",
          "Total Loss",
          "Total Loss",
          "Minor Damage",
          "Total Loss",
          "Total Loss",
          "Total Loss",
          "Minor Damage",
          "Minor Damage",
          "Minor Damage",
          "Minor Damage",
          "Total Loss",
          "Total Loss",
          "Major Damage",
          "Total Loss",
          "Minor Damage",
          "Minor Damage",
          "Minor Damage",
          "Total Loss",
          "Minor Damage",
          "Major Damage",
          "Total Loss",
          "Total Loss",
          "Minor Damage",
          "Minor Damage",
          "Minor Damage",
          "Minor Damage",
          "Total Loss",
          "Total Loss",
          "Major Damage",
          "Minor Damage",
          "Total Loss",
          "Minor Damage",
          "Minor Damage",
          "Total Loss",
          "Total Loss",
          "Minor Damage",
          "Trivial Damage",
          "Minor Damage",
          "Total Loss",
          "Total Loss",
          "Minor Damage",
          "Total Loss",
          "Minor Damage",
          "Minor Damage",
          "Trivial Damage",
          "Minor Damage",
          "Minor Damage",
          "Minor Damage",
          "Trivial Damage",
          "Total Loss",
          "Total Loss",
          "Minor Damage",
          "Total Loss",
          "Minor Damage",
          "Major Damage",
          "Trivial Damage",
          "Minor Damage",
          "Minor Damage",
          "Total Loss",
          "Trivial Damage",
          "Minor Damage",
          "Major Damage",
          "Minor Damage",
          "Total Loss",
          "Total Loss",
          "Minor Damage",
          "Minor Damage",
          "Total Loss",
          "Total Loss",
          "Minor Damage",
          "Trivial Damage",
          "Minor Damage",
          "Trivial Damage",
          "Minor Damage",
          "Minor Damage",
          "Total Loss",
          "Total Loss",
          "Minor Damage",
          "Total Loss",
          "Major Damage",
          "Total Loss",
          "Minor Damage",
          "Total Loss",
          "Minor Damage",
          "Minor Damage",
          "Total Loss",
          "Major Damage",
          "Trivial Damage",
          "Minor Damage",
          "Minor Damage",
          "Minor Damage",
          "Total Loss",
          "Minor Damage",
          "Trivial Damage",
          "Total Loss",
          "Total Loss",
          "Minor Damage",
          "Total Loss",
          "Total Loss",
          "Minor Damage",
          "Minor Damage",
          "Minor Damage",
          "Total Loss",
          "Minor Damage",
          "Minor Damage",
          "Minor Damage",
          "Minor Damage",
          "Total Loss",
          "Minor Damage",
          "Total Loss",
          "Total Loss",
          "Minor Damage",
          "Major Damage",
          "Minor Damage",
          "Trivial Damage",
          "Total Loss",
          "Total Loss",
          "Total Loss",
          "Minor Damage",
          "Total Loss",
          "Total Loss",
          "Minor Damage",
          "Major Damage",
          "Major Damage",
          "Total Loss",
          "Total Loss",
          "Trivial Damage",
          "Minor Damage",
          "Minor Damage",
          "Trivial Damage",
          "Minor Damage",
          "Major Damage",
          "Minor Damage",
          "Total Loss",
          "Total Loss",
          "Minor Damage",
          "Minor Damage",
          "Total Loss",
          "Major Damage",
          "Minor Damage",
          "Minor Damage",
          "Total Loss",
          "Minor Damage",
          "Total Loss",
          "Minor Damage",
          "Major Damage",
          "Trivial Damage",
          "Major Damage",
          "Minor Damage",
          "Total Loss",
          "Minor Damage",
          "Minor Damage",
          "Total Loss",
          "Minor Damage",
          "Minor Damage",
          "Trivial Damage",
          "Total Loss",
          "Minor Damage",
          "Minor Damage",
          "Major Damage",
          "Minor Damage",
          "Total Loss",
          "Minor Damage",
          "Major Damage",
          "Minor Damage",
          "Minor Damage",
          "Total Loss",
          "Total Loss",
          "Minor Damage",
          "Total Loss",
          "Total Loss",
          "Minor Damage",
          "Total Loss",
          "Total Loss",
          "Minor Damage",
          "Minor Damage",
          "Total Loss",
          "Total Loss",
          "Minor Damage",
          "Major Damage",
          "Minor Damage",
          "Minor Damage",
          "Trivial Damage",
          "Total Loss",
          "Minor Damage",
          "Minor Damage",
          "Minor Damage",
          "Major Damage",
          "Trivial Damage",
          "Total Loss",
          "Total Loss",
          "Total Loss",
          "Major Damage",
          "Total Loss",
          "Total Loss",
          "Minor Damage",
          "Total Loss",
          "Trivial Damage",
          "Total Loss",
          "Major Damage",
          "Minor Damage",
          "Total Loss",
          "Minor Damage",
          "Total Loss",
          "Major Damage",
          "Total Loss",
          "Minor Damage",
          "Minor Damage",
          "Major Damage",
          "Minor Damage",
          "Major Damage",
          "Minor Damage"
         ],
         "xaxis": "x",
         "yaxis": "y"
        }
       ],
       "layout": {
        "barmode": "relative",
        "legend": {
         "title": {
          "text": "fraud_reported"
         },
         "tracegroupgap": 0
        },
        "margin": {
         "t": 60
        },
        "template": {
         "data": {
          "bar": [
           {
            "error_x": {
             "color": "#2a3f5f"
            },
            "error_y": {
             "color": "#2a3f5f"
            },
            "marker": {
             "line": {
              "color": "#E5ECF6",
              "width": 0.5
             },
             "pattern": {
              "fillmode": "overlay",
              "size": 10,
              "solidity": 0.2
             }
            },
            "type": "bar"
           }
          ],
          "barpolar": [
           {
            "marker": {
             "line": {
              "color": "#E5ECF6",
              "width": 0.5
             },
             "pattern": {
              "fillmode": "overlay",
              "size": 10,
              "solidity": 0.2
             }
            },
            "type": "barpolar"
           }
          ],
          "carpet": [
           {
            "aaxis": {
             "endlinecolor": "#2a3f5f",
             "gridcolor": "white",
             "linecolor": "white",
             "minorgridcolor": "white",
             "startlinecolor": "#2a3f5f"
            },
            "baxis": {
             "endlinecolor": "#2a3f5f",
             "gridcolor": "white",
             "linecolor": "white",
             "minorgridcolor": "white",
             "startlinecolor": "#2a3f5f"
            },
            "type": "carpet"
           }
          ],
          "choropleth": [
           {
            "colorbar": {
             "outlinewidth": 0,
             "ticks": ""
            },
            "type": "choropleth"
           }
          ],
          "contour": [
           {
            "colorbar": {
             "outlinewidth": 0,
             "ticks": ""
            },
            "colorscale": [
             [
              0,
              "#0d0887"
             ],
             [
              0.1111111111111111,
              "#46039f"
             ],
             [
              0.2222222222222222,
              "#7201a8"
             ],
             [
              0.3333333333333333,
              "#9c179e"
             ],
             [
              0.4444444444444444,
              "#bd3786"
             ],
             [
              0.5555555555555556,
              "#d8576b"
             ],
             [
              0.6666666666666666,
              "#ed7953"
             ],
             [
              0.7777777777777778,
              "#fb9f3a"
             ],
             [
              0.8888888888888888,
              "#fdca26"
             ],
             [
              1,
              "#f0f921"
             ]
            ],
            "type": "contour"
           }
          ],
          "contourcarpet": [
           {
            "colorbar": {
             "outlinewidth": 0,
             "ticks": ""
            },
            "type": "contourcarpet"
           }
          ],
          "heatmap": [
           {
            "colorbar": {
             "outlinewidth": 0,
             "ticks": ""
            },
            "colorscale": [
             [
              0,
              "#0d0887"
             ],
             [
              0.1111111111111111,
              "#46039f"
             ],
             [
              0.2222222222222222,
              "#7201a8"
             ],
             [
              0.3333333333333333,
              "#9c179e"
             ],
             [
              0.4444444444444444,
              "#bd3786"
             ],
             [
              0.5555555555555556,
              "#d8576b"
             ],
             [
              0.6666666666666666,
              "#ed7953"
             ],
             [
              0.7777777777777778,
              "#fb9f3a"
             ],
             [
              0.8888888888888888,
              "#fdca26"
             ],
             [
              1,
              "#f0f921"
             ]
            ],
            "type": "heatmap"
           }
          ],
          "heatmapgl": [
           {
            "colorbar": {
             "outlinewidth": 0,
             "ticks": ""
            },
            "colorscale": [
             [
              0,
              "#0d0887"
             ],
             [
              0.1111111111111111,
              "#46039f"
             ],
             [
              0.2222222222222222,
              "#7201a8"
             ],
             [
              0.3333333333333333,
              "#9c179e"
             ],
             [
              0.4444444444444444,
              "#bd3786"
             ],
             [
              0.5555555555555556,
              "#d8576b"
             ],
             [
              0.6666666666666666,
              "#ed7953"
             ],
             [
              0.7777777777777778,
              "#fb9f3a"
             ],
             [
              0.8888888888888888,
              "#fdca26"
             ],
             [
              1,
              "#f0f921"
             ]
            ],
            "type": "heatmapgl"
           }
          ],
          "histogram": [
           {
            "marker": {
             "pattern": {
              "fillmode": "overlay",
              "size": 10,
              "solidity": 0.2
             }
            },
            "type": "histogram"
           }
          ],
          "histogram2d": [
           {
            "colorbar": {
             "outlinewidth": 0,
             "ticks": ""
            },
            "colorscale": [
             [
              0,
              "#0d0887"
             ],
             [
              0.1111111111111111,
              "#46039f"
             ],
             [
              0.2222222222222222,
              "#7201a8"
             ],
             [
              0.3333333333333333,
              "#9c179e"
             ],
             [
              0.4444444444444444,
              "#bd3786"
             ],
             [
              0.5555555555555556,
              "#d8576b"
             ],
             [
              0.6666666666666666,
              "#ed7953"
             ],
             [
              0.7777777777777778,
              "#fb9f3a"
             ],
             [
              0.8888888888888888,
              "#fdca26"
             ],
             [
              1,
              "#f0f921"
             ]
            ],
            "type": "histogram2d"
           }
          ],
          "histogram2dcontour": [
           {
            "colorbar": {
             "outlinewidth": 0,
             "ticks": ""
            },
            "colorscale": [
             [
              0,
              "#0d0887"
             ],
             [
              0.1111111111111111,
              "#46039f"
             ],
             [
              0.2222222222222222,
              "#7201a8"
             ],
             [
              0.3333333333333333,
              "#9c179e"
             ],
             [
              0.4444444444444444,
              "#bd3786"
             ],
             [
              0.5555555555555556,
              "#d8576b"
             ],
             [
              0.6666666666666666,
              "#ed7953"
             ],
             [
              0.7777777777777778,
              "#fb9f3a"
             ],
             [
              0.8888888888888888,
              "#fdca26"
             ],
             [
              1,
              "#f0f921"
             ]
            ],
            "type": "histogram2dcontour"
           }
          ],
          "mesh3d": [
           {
            "colorbar": {
             "outlinewidth": 0,
             "ticks": ""
            },
            "type": "mesh3d"
           }
          ],
          "parcoords": [
           {
            "line": {
             "colorbar": {
              "outlinewidth": 0,
              "ticks": ""
             }
            },
            "type": "parcoords"
           }
          ],
          "pie": [
           {
            "automargin": true,
            "type": "pie"
           }
          ],
          "scatter": [
           {
            "marker": {
             "colorbar": {
              "outlinewidth": 0,
              "ticks": ""
             }
            },
            "type": "scatter"
           }
          ],
          "scatter3d": [
           {
            "line": {
             "colorbar": {
              "outlinewidth": 0,
              "ticks": ""
             }
            },
            "marker": {
             "colorbar": {
              "outlinewidth": 0,
              "ticks": ""
             }
            },
            "type": "scatter3d"
           }
          ],
          "scattercarpet": [
           {
            "marker": {
             "colorbar": {
              "outlinewidth": 0,
              "ticks": ""
             }
            },
            "type": "scattercarpet"
           }
          ],
          "scattergeo": [
           {
            "marker": {
             "colorbar": {
              "outlinewidth": 0,
              "ticks": ""
             }
            },
            "type": "scattergeo"
           }
          ],
          "scattergl": [
           {
            "marker": {
             "colorbar": {
              "outlinewidth": 0,
              "ticks": ""
             }
            },
            "type": "scattergl"
           }
          ],
          "scattermapbox": [
           {
            "marker": {
             "colorbar": {
              "outlinewidth": 0,
              "ticks": ""
             }
            },
            "type": "scattermapbox"
           }
          ],
          "scatterpolar": [
           {
            "marker": {
             "colorbar": {
              "outlinewidth": 0,
              "ticks": ""
             }
            },
            "type": "scatterpolar"
           }
          ],
          "scatterpolargl": [
           {
            "marker": {
             "colorbar": {
              "outlinewidth": 0,
              "ticks": ""
             }
            },
            "type": "scatterpolargl"
           }
          ],
          "scatterternary": [
           {
            "marker": {
             "colorbar": {
              "outlinewidth": 0,
              "ticks": ""
             }
            },
            "type": "scatterternary"
           }
          ],
          "surface": [
           {
            "colorbar": {
             "outlinewidth": 0,
             "ticks": ""
            },
            "colorscale": [
             [
              0,
              "#0d0887"
             ],
             [
              0.1111111111111111,
              "#46039f"
             ],
             [
              0.2222222222222222,
              "#7201a8"
             ],
             [
              0.3333333333333333,
              "#9c179e"
             ],
             [
              0.4444444444444444,
              "#bd3786"
             ],
             [
              0.5555555555555556,
              "#d8576b"
             ],
             [
              0.6666666666666666,
              "#ed7953"
             ],
             [
              0.7777777777777778,
              "#fb9f3a"
             ],
             [
              0.8888888888888888,
              "#fdca26"
             ],
             [
              1,
              "#f0f921"
             ]
            ],
            "type": "surface"
           }
          ],
          "table": [
           {
            "cells": {
             "fill": {
              "color": "#EBF0F8"
             },
             "line": {
              "color": "white"
             }
            },
            "header": {
             "fill": {
              "color": "#C8D4E3"
             },
             "line": {
              "color": "white"
             }
            },
            "type": "table"
           }
          ]
         },
         "layout": {
          "annotationdefaults": {
           "arrowcolor": "#2a3f5f",
           "arrowhead": 0,
           "arrowwidth": 1
          },
          "autotypenumbers": "strict",
          "coloraxis": {
           "colorbar": {
            "outlinewidth": 0,
            "ticks": ""
           }
          },
          "colorscale": {
           "diverging": [
            [
             0,
             "#8e0152"
            ],
            [
             0.1,
             "#c51b7d"
            ],
            [
             0.2,
             "#de77ae"
            ],
            [
             0.3,
             "#f1b6da"
            ],
            [
             0.4,
             "#fde0ef"
            ],
            [
             0.5,
             "#f7f7f7"
            ],
            [
             0.6,
             "#e6f5d0"
            ],
            [
             0.7,
             "#b8e186"
            ],
            [
             0.8,
             "#7fbc41"
            ],
            [
             0.9,
             "#4d9221"
            ],
            [
             1,
             "#276419"
            ]
           ],
           "sequential": [
            [
             0,
             "#0d0887"
            ],
            [
             0.1111111111111111,
             "#46039f"
            ],
            [
             0.2222222222222222,
             "#7201a8"
            ],
            [
             0.3333333333333333,
             "#9c179e"
            ],
            [
             0.4444444444444444,
             "#bd3786"
            ],
            [
             0.5555555555555556,
             "#d8576b"
            ],
            [
             0.6666666666666666,
             "#ed7953"
            ],
            [
             0.7777777777777778,
             "#fb9f3a"
            ],
            [
             0.8888888888888888,
             "#fdca26"
            ],
            [
             1,
             "#f0f921"
            ]
           ],
           "sequentialminus": [
            [
             0,
             "#0d0887"
            ],
            [
             0.1111111111111111,
             "#46039f"
            ],
            [
             0.2222222222222222,
             "#7201a8"
            ],
            [
             0.3333333333333333,
             "#9c179e"
            ],
            [
             0.4444444444444444,
             "#bd3786"
            ],
            [
             0.5555555555555556,
             "#d8576b"
            ],
            [
             0.6666666666666666,
             "#ed7953"
            ],
            [
             0.7777777777777778,
             "#fb9f3a"
            ],
            [
             0.8888888888888888,
             "#fdca26"
            ],
            [
             1,
             "#f0f921"
            ]
           ]
          },
          "colorway": [
           "#636efa",
           "#EF553B",
           "#00cc96",
           "#ab63fa",
           "#FFA15A",
           "#19d3f3",
           "#FF6692",
           "#B6E880",
           "#FF97FF",
           "#FECB52"
          ],
          "font": {
           "color": "#2a3f5f"
          },
          "geo": {
           "bgcolor": "white",
           "lakecolor": "white",
           "landcolor": "#E5ECF6",
           "showlakes": true,
           "showland": true,
           "subunitcolor": "white"
          },
          "hoverlabel": {
           "align": "left"
          },
          "hovermode": "closest",
          "mapbox": {
           "style": "light"
          },
          "paper_bgcolor": "white",
          "plot_bgcolor": "#E5ECF6",
          "polar": {
           "angularaxis": {
            "gridcolor": "white",
            "linecolor": "white",
            "ticks": ""
           },
           "bgcolor": "#E5ECF6",
           "radialaxis": {
            "gridcolor": "white",
            "linecolor": "white",
            "ticks": ""
           }
          },
          "scene": {
           "xaxis": {
            "backgroundcolor": "#E5ECF6",
            "gridcolor": "white",
            "gridwidth": 2,
            "linecolor": "white",
            "showbackground": true,
            "ticks": "",
            "zerolinecolor": "white"
           },
           "yaxis": {
            "backgroundcolor": "#E5ECF6",
            "gridcolor": "white",
            "gridwidth": 2,
            "linecolor": "white",
            "showbackground": true,
            "ticks": "",
            "zerolinecolor": "white"
           },
           "zaxis": {
            "backgroundcolor": "#E5ECF6",
            "gridcolor": "white",
            "gridwidth": 2,
            "linecolor": "white",
            "showbackground": true,
            "ticks": "",
            "zerolinecolor": "white"
           }
          },
          "shapedefaults": {
           "line": {
            "color": "#2a3f5f"
           }
          },
          "ternary": {
           "aaxis": {
            "gridcolor": "white",
            "linecolor": "white",
            "ticks": ""
           },
           "baxis": {
            "gridcolor": "white",
            "linecolor": "white",
            "ticks": ""
           },
           "bgcolor": "#E5ECF6",
           "caxis": {
            "gridcolor": "white",
            "linecolor": "white",
            "ticks": ""
           }
          },
          "title": {
           "x": 0.05
          },
          "xaxis": {
           "automargin": true,
           "gridcolor": "white",
           "linecolor": "white",
           "ticks": "",
           "title": {
            "standoff": 15
           },
           "zerolinecolor": "white",
           "zerolinewidth": 2
          },
          "yaxis": {
           "automargin": true,
           "gridcolor": "white",
           "linecolor": "white",
           "ticks": "",
           "title": {
            "standoff": 15
           },
           "zerolinecolor": "white",
           "zerolinewidth": 2
          }
         }
        },
        "xaxis": {
         "anchor": "y",
         "domain": [
          0,
          1
         ],
         "title": {
          "text": "incident_severity"
         }
        },
        "yaxis": {
         "anchor": "x",
         "domain": [
          0,
          1
         ],
         "title": {
          "text": "count"
         }
        }
       }
      }
     },
     "metadata": {},
     "output_type": "display_data"
    }
   ],
   "source": [
    "fig = px.histogram(df, x=\"incident_severity\", color=\"fraud_reported\")\n",
    "fig.show()"
   ]
  },
  {
   "cell_type": "code",
   "execution_count": 35,
   "metadata": {},
   "outputs": [
    {
     "data": {
      "application/vnd.plotly.v1+json": {
       "config": {
        "plotlyServerURL": "https://plot.ly"
       },
       "data": [
        {
         "alignmentgroup": "True",
         "bingroup": "x",
         "hovertemplate": "fraud_reported=Y<br>authorities_contacted=%{x}<br>count=%{y}<extra></extra>",
         "legendgroup": "Y",
         "marker": {
          "color": "#636efa",
          "pattern": {
           "shape": ""
          }
         },
         "name": "Y",
         "offsetgroup": "Y",
         "orientation": "v",
         "showlegend": true,
         "type": "histogram",
         "x": [
          "Police",
          "Police",
          "Police",
          "Fire",
          "Police",
          "Other",
          "Ambulance",
          "Ambulance",
          "Other",
          "None",
          "Police",
          "Other",
          "Police",
          "Ambulance",
          "Police",
          "Fire",
          "Police",
          "Fire",
          "Fire",
          "Ambulance",
          "Fire",
          "Other",
          "Other",
          "Fire",
          "Ambulance",
          "Other",
          "Police",
          "Fire",
          "Other",
          "Police",
          "Fire",
          "Fire",
          "Fire",
          "Other",
          "Police",
          "Ambulance",
          "Ambulance",
          "Fire",
          "Fire",
          "Police",
          "Ambulance",
          "Police",
          "Fire",
          "Other",
          "Other",
          "Police",
          "Ambulance",
          "Police",
          "Fire",
          "Fire",
          "Ambulance",
          "Police",
          "Fire",
          "Other",
          "Police",
          "Fire",
          "Other",
          "Other",
          "Ambulance",
          "Other",
          "Other",
          "Other",
          "Other",
          "Fire",
          "Other",
          "Fire",
          "Ambulance",
          "Fire",
          "Police",
          "Fire",
          "Fire",
          "Police",
          "Fire",
          "Police",
          "Ambulance",
          "Fire",
          "Police",
          "Other",
          "Police",
          "Police",
          "Police",
          "Ambulance",
          "Fire",
          "Police",
          "Other",
          "Fire",
          "Fire",
          "Other",
          "Ambulance",
          "Other",
          "Other",
          "Other",
          "Other",
          "Ambulance",
          "Police",
          "Police",
          "Police",
          "Fire",
          "Ambulance",
          "Ambulance",
          "Ambulance",
          "Ambulance",
          "Other",
          "Police",
          "None",
          "Police",
          "None",
          "Other",
          "Other",
          "Ambulance",
          "Other",
          "Ambulance",
          "Other",
          "Ambulance",
          "Police",
          "Ambulance",
          "Police",
          "Police",
          "Fire",
          "Police",
          "Ambulance",
          "Other",
          "Police",
          "Other",
          "Police",
          "Other",
          "Police",
          "Police",
          "Fire",
          "Other",
          "Ambulance",
          "Other",
          "Police",
          "Fire",
          "Ambulance",
          "Fire",
          "Police",
          "Other",
          "None",
          "Fire",
          "Other",
          "Police",
          "Other",
          "Fire",
          "Fire",
          "Ambulance",
          "Other",
          "Other",
          "Other",
          "Fire",
          "Other",
          "Ambulance",
          "Fire",
          "Police",
          "Ambulance",
          "Other",
          "Fire",
          "Police",
          "Fire",
          "Fire",
          "Other",
          "Police",
          "None",
          "Ambulance",
          "Police",
          "Ambulance",
          "Ambulance",
          "Other",
          "Other",
          "Ambulance",
          "Fire",
          "Ambulance",
          "Ambulance",
          "Police",
          "Police",
          "Other",
          "Fire",
          "Ambulance",
          "Fire",
          "Ambulance",
          "Ambulance",
          "Ambulance",
          "Ambulance",
          "Ambulance",
          "Other",
          "Fire",
          "Ambulance",
          "Ambulance",
          "Police",
          "Fire",
          "Fire",
          "Other",
          "Other",
          "Other",
          "Fire",
          "Police",
          "Other",
          "Fire",
          "Police",
          "Ambulance",
          "Fire",
          "Other",
          "Ambulance",
          "Ambulance",
          "Ambulance",
          "Ambulance",
          "Other",
          "Police",
          "Other",
          "Police",
          "None",
          "Fire",
          "Other",
          "Ambulance",
          "Ambulance",
          "Ambulance",
          "Fire",
          "Other",
          "Police",
          "Ambulance",
          "Ambulance",
          "Fire",
          "Fire",
          "Fire",
          "Ambulance",
          "Fire",
          "Fire",
          "Police",
          "Fire",
          "Police",
          "Fire",
          "Other",
          "Police",
          "Police",
          "Other",
          "Other",
          "Other",
          "Fire",
          "Police",
          "Police",
          "Fire",
          "Ambulance",
          "Police",
          "Ambulance",
          "Police",
          "Other",
          "Other"
         ],
         "xaxis": "x",
         "yaxis": "y"
        },
        {
         "alignmentgroup": "True",
         "bingroup": "x",
         "hovertemplate": "fraud_reported=N<br>authorities_contacted=%{x}<br>count=%{y}<extra></extra>",
         "legendgroup": "N",
         "marker": {
          "color": "#EF553B",
          "pattern": {
           "shape": ""
          }
         },
         "name": "N",
         "offsetgroup": "N",
         "orientation": "v",
         "showlegend": true,
         "type": "histogram",
         "x": [
          "Police",
          "None",
          "Police",
          "Police",
          "Police",
          "Other",
          "Police",
          "Fire",
          "Ambulance",
          "None",
          "Other",
          "Police",
          "Other",
          "Police",
          "Police",
          "Police",
          "Other",
          "Police",
          "Other",
          "Police",
          "Ambulance",
          "Police",
          "Ambulance",
          "Fire",
          "None",
          "Police",
          "Ambulance",
          "Other",
          "Other",
          "Other",
          "Other",
          "Fire",
          "Police",
          "Other",
          "Fire",
          "None",
          "None",
          "Police",
          "Police",
          "Fire",
          "Fire",
          "None",
          "Ambulance",
          "Police",
          "Other",
          "Other",
          "Fire",
          "Ambulance",
          "None",
          "Ambulance",
          "Fire",
          "Ambulance",
          "Ambulance",
          "Fire",
          "Police",
          "None",
          "Ambulance",
          "None",
          "Police",
          "None",
          "Fire",
          "Other",
          "Fire",
          "None",
          "Fire",
          "None",
          "Ambulance",
          "Ambulance",
          "None",
          "None",
          "None",
          "Police",
          "Police",
          "Fire",
          "Police",
          "Police",
          "None",
          "Ambulance",
          "Police",
          "Other",
          "Other",
          "None",
          "Police",
          "Fire",
          "Police",
          "Fire",
          "Other",
          "Ambulance",
          "Ambulance",
          "Other",
          "Police",
          "Other",
          "Other",
          "Ambulance",
          "Police",
          "Ambulance",
          "Police",
          "Fire",
          "Fire",
          "Other",
          "Police",
          "None",
          "None",
          "Police",
          "Fire",
          "Other",
          "Fire",
          "Fire",
          "Police",
          "None",
          "Ambulance",
          "Police",
          "Police",
          "Ambulance",
          "Ambulance",
          "Fire",
          "Ambulance",
          "Ambulance",
          "Police",
          "None",
          "Police",
          "Other",
          "Fire",
          "None",
          "Other",
          "Ambulance",
          "Fire",
          "Other",
          "None",
          "Fire",
          "Police",
          "Police",
          "Ambulance",
          "Ambulance",
          "Police",
          "Ambulance",
          "None",
          "Police",
          "Police",
          "Police",
          "Other",
          "Fire",
          "None",
          "Ambulance",
          "Police",
          "Police",
          "Fire",
          "Police",
          "Fire",
          "Ambulance",
          "Police",
          "Police",
          "Police",
          "Police",
          "Police",
          "None",
          "Ambulance",
          "Fire",
          "None",
          "Fire",
          "Ambulance",
          "Fire",
          "Fire",
          "Fire",
          "Ambulance",
          "Other",
          "Fire",
          "Other",
          "Other",
          "Police",
          "Other",
          "Police",
          "Fire",
          "Fire",
          "Other",
          "Fire",
          "Fire",
          "None",
          "Ambulance",
          "None",
          "Fire",
          "None",
          "Fire",
          "Police",
          "Ambulance",
          "Other",
          "Police",
          "None",
          "Police",
          "Police",
          "Police",
          "Fire",
          "Ambulance",
          "Fire",
          "Police",
          "None",
          "Ambulance",
          "Fire",
          "Ambulance",
          "Ambulance",
          "Police",
          "Fire",
          "Police",
          "Police",
          "Other",
          "Ambulance",
          "None",
          "Police",
          "Ambulance",
          "Ambulance",
          "Fire",
          "Fire",
          "Police",
          "Police",
          "None",
          "Other",
          "Police",
          "Police",
          "Police",
          "Police",
          "Other",
          "Other",
          "Fire",
          "Other",
          "Police",
          "Other",
          "Police",
          "Other",
          "Ambulance",
          "Police",
          "Fire",
          "Other",
          "Police",
          "Police",
          "Police",
          "Fire",
          "Police",
          "Fire",
          "None",
          "None",
          "Fire",
          "Police",
          "Fire",
          "Police",
          "Other",
          "Fire",
          "Other",
          "None",
          "Police",
          "Ambulance",
          "Other",
          "Other",
          "Other",
          "Fire",
          "Police",
          "Ambulance",
          "Fire",
          "Other",
          "Police",
          "Other",
          "None",
          "None",
          "Ambulance",
          "Other",
          "Other",
          "Police",
          "Other",
          "Police",
          "Other",
          "Ambulance",
          "Fire",
          "Ambulance",
          "Police",
          "Police",
          "Police",
          "Fire",
          "Ambulance",
          "Other",
          "Other",
          "Ambulance",
          "Ambulance",
          "Fire",
          "Fire",
          "Other",
          "None",
          "Other",
          "Fire",
          "Police",
          "Ambulance",
          "Police",
          "Fire",
          "Ambulance",
          "Fire",
          "Police",
          "Police",
          "Fire",
          "None",
          "None",
          "Police",
          "Fire",
          "Fire",
          "None",
          "Other",
          "Police",
          "Ambulance",
          "Police",
          "Other",
          "Ambulance",
          "Ambulance",
          "Other",
          "Fire",
          "Ambulance",
          "Police",
          "Fire",
          "Ambulance",
          "Other",
          "Other",
          "Fire",
          "Police",
          "Fire",
          "Police",
          "None",
          "Fire",
          "Other",
          "None",
          "None",
          "Fire",
          "Fire",
          "Ambulance",
          "Ambulance",
          "Ambulance",
          "Fire",
          "None",
          "Other",
          "Other",
          "Police",
          "Police",
          "Other",
          "Ambulance",
          "Ambulance",
          "Police",
          "Other",
          "Police",
          "Fire",
          "Ambulance",
          "Fire",
          "Fire",
          "Ambulance",
          "Ambulance",
          "None",
          "Police",
          "Fire",
          "Fire",
          "Other",
          "Ambulance",
          "Other",
          "Fire",
          "Police",
          "Other",
          "None",
          "Ambulance",
          "Other",
          "Police",
          "Other",
          "Police",
          "Ambulance",
          "Other",
          "Police",
          "Police",
          "Other",
          "Other",
          "Police",
          "Police",
          "Police",
          "Fire",
          "Police",
          "Police",
          "Police",
          "Ambulance",
          "Ambulance",
          "Other",
          "Ambulance",
          "Ambulance",
          "Police",
          "Fire",
          "Ambulance",
          "Fire",
          "Fire",
          "Police",
          "Police",
          "Ambulance",
          "Police",
          "Ambulance",
          "Police",
          "Ambulance",
          "Other",
          "None",
          "Fire",
          "Ambulance",
          "Police",
          "Fire",
          "Other",
          "Police",
          "Police",
          "Ambulance",
          "Fire",
          "Ambulance",
          "Police",
          "Ambulance",
          "Ambulance",
          "Fire",
          "Police",
          "Other",
          "Police",
          "Police",
          "Ambulance",
          "Police",
          "Fire",
          "Police",
          "Ambulance",
          "Other",
          "Fire",
          "Other",
          "Other",
          "Ambulance",
          "Police",
          "Ambulance",
          "Other",
          "Police",
          "Police",
          "Other",
          "Other",
          "Ambulance",
          "Fire",
          "Police",
          "None",
          "Police",
          "Fire",
          "Other",
          "Ambulance",
          "Police",
          "Fire",
          "Police",
          "Police",
          "Ambulance",
          "Police",
          "Other",
          "Police",
          "Police",
          "Other",
          "Ambulance",
          "Police",
          "Police",
          "Police",
          "Fire",
          "Other",
          "Other",
          "Police",
          "Police",
          "Other",
          "Police",
          "Ambulance",
          "Ambulance",
          "Police",
          "Police",
          "None",
          "Ambulance",
          "Fire",
          "Police",
          "Fire",
          "Other",
          "Fire",
          "Police",
          "Police",
          "Police",
          "Fire",
          "Police",
          "Police",
          "Ambulance",
          "Other",
          "Fire",
          "Ambulance",
          "Ambulance",
          "None",
          "Police",
          "Police",
          "Other",
          "Other",
          "Police",
          "Fire",
          "Ambulance",
          "Police",
          "Ambulance",
          "Police",
          "Ambulance",
          "Ambulance",
          "Ambulance",
          "Ambulance",
          "Other",
          "Ambulance",
          "Fire",
          "Ambulance",
          "Police",
          "None",
          "Police",
          "Ambulance",
          "None",
          "Fire",
          "Police",
          "Police",
          "Police",
          "Police",
          "Fire",
          "None",
          "Police",
          "Ambulance",
          "Police",
          "Police",
          "Police",
          "Ambulance",
          "Other",
          "Police",
          "Police",
          "Other",
          "Police",
          "None",
          "Fire",
          "None",
          "Fire",
          "Other",
          "Ambulance",
          "Other",
          "Police",
          "Ambulance",
          "None",
          "Police",
          "Fire",
          "Police",
          "None",
          "Police",
          "Ambulance",
          "Ambulance",
          "Fire",
          "Fire",
          "Fire",
          "Fire",
          "Ambulance",
          "Fire",
          "None",
          "Other",
          "Other",
          "Fire",
          "Fire",
          "Fire",
          "Ambulance",
          "Police",
          "Fire",
          "Fire",
          "Other",
          "Fire",
          "Police",
          "Ambulance",
          "Fire",
          "Ambulance",
          "Ambulance",
          "Other",
          "Police",
          "Ambulance",
          "Fire",
          "Ambulance",
          "Other",
          "Police",
          "Fire",
          "Fire",
          "Ambulance",
          "Ambulance",
          "Police",
          "Police",
          "Fire",
          "Police",
          "Police",
          "Police",
          "Fire",
          "Ambulance",
          "None",
          "None",
          "Fire",
          "Fire",
          "Fire",
          "None",
          "Police",
          "Ambulance",
          "Fire",
          "Fire",
          "Fire",
          "Fire",
          "None",
          "Police",
          "Other",
          "Police",
          "None",
          "Ambulance",
          "Fire",
          "Ambulance",
          "Fire",
          "Other",
          "None",
          "None",
          "Ambulance",
          "Police",
          "Other",
          "Police",
          "Other",
          "None",
          "Fire",
          "Police",
          "Ambulance",
          "Police",
          "Fire",
          "Ambulance",
          "Fire",
          "Police",
          "None",
          "Police",
          "Police",
          "None",
          "Police",
          "Police",
          "None",
          "Fire",
          "Police",
          "Police",
          "Fire",
          "Fire",
          "Police",
          "Police",
          "Fire",
          "Fire",
          "Police",
          "Fire",
          "Fire",
          "Fire",
          "Other",
          "Other",
          "Other",
          "Other",
          "Ambulance",
          "Other",
          "Fire",
          "Fire",
          "Ambulance",
          "Fire",
          "None",
          "Ambulance",
          "Other",
          "Police",
          "Other",
          "Other",
          "Police",
          "Fire",
          "Police",
          "Fire",
          "None",
          "Fire",
          "Ambulance",
          "Ambulance",
          "Other",
          "None",
          "None",
          "None",
          "None",
          "Police",
          "Police",
          "None",
          "Other",
          "Police",
          "Fire",
          "Other",
          "Other",
          "Police",
          "Fire",
          "Police",
          "Other",
          "Police",
          "Police",
          "Fire",
          "Fire",
          "None",
          "Other",
          "Ambulance",
          "Other",
          "Other",
          "Police",
          "Other",
          "Ambulance",
          "Police",
          "Police",
          "Fire",
          "Other",
          "Ambulance",
          "Ambulance",
          "Police",
          "Police",
          "None",
          "Fire",
          "None",
          "Police",
          "Police",
          "Police",
          "Other",
          "Police",
          "Police",
          "None",
          "Ambulance",
          "Other",
          "None",
          "Ambulance",
          "Other",
          "Police",
          "Police",
          "Fire",
          "Police",
          "Ambulance",
          "Police",
          "Police",
          "Police",
          "Other",
          "Other",
          "Police",
          "Police",
          "Fire",
          "Fire",
          "Fire",
          "Fire",
          "Other",
          "Other",
          "Ambulance",
          "Police",
          "Police",
          "Ambulance",
          "Other",
          "Fire",
          "Police",
          "Fire",
          "Other",
          "Fire",
          "Other",
          "None",
          "Fire",
          "Fire",
          "Police",
          "Other",
          "Police"
         ],
         "xaxis": "x",
         "yaxis": "y"
        }
       ],
       "layout": {
        "barmode": "relative",
        "legend": {
         "title": {
          "text": "fraud_reported"
         },
         "tracegroupgap": 0
        },
        "margin": {
         "t": 60
        },
        "template": {
         "data": {
          "bar": [
           {
            "error_x": {
             "color": "#2a3f5f"
            },
            "error_y": {
             "color": "#2a3f5f"
            },
            "marker": {
             "line": {
              "color": "#E5ECF6",
              "width": 0.5
             },
             "pattern": {
              "fillmode": "overlay",
              "size": 10,
              "solidity": 0.2
             }
            },
            "type": "bar"
           }
          ],
          "barpolar": [
           {
            "marker": {
             "line": {
              "color": "#E5ECF6",
              "width": 0.5
             },
             "pattern": {
              "fillmode": "overlay",
              "size": 10,
              "solidity": 0.2
             }
            },
            "type": "barpolar"
           }
          ],
          "carpet": [
           {
            "aaxis": {
             "endlinecolor": "#2a3f5f",
             "gridcolor": "white",
             "linecolor": "white",
             "minorgridcolor": "white",
             "startlinecolor": "#2a3f5f"
            },
            "baxis": {
             "endlinecolor": "#2a3f5f",
             "gridcolor": "white",
             "linecolor": "white",
             "minorgridcolor": "white",
             "startlinecolor": "#2a3f5f"
            },
            "type": "carpet"
           }
          ],
          "choropleth": [
           {
            "colorbar": {
             "outlinewidth": 0,
             "ticks": ""
            },
            "type": "choropleth"
           }
          ],
          "contour": [
           {
            "colorbar": {
             "outlinewidth": 0,
             "ticks": ""
            },
            "colorscale": [
             [
              0,
              "#0d0887"
             ],
             [
              0.1111111111111111,
              "#46039f"
             ],
             [
              0.2222222222222222,
              "#7201a8"
             ],
             [
              0.3333333333333333,
              "#9c179e"
             ],
             [
              0.4444444444444444,
              "#bd3786"
             ],
             [
              0.5555555555555556,
              "#d8576b"
             ],
             [
              0.6666666666666666,
              "#ed7953"
             ],
             [
              0.7777777777777778,
              "#fb9f3a"
             ],
             [
              0.8888888888888888,
              "#fdca26"
             ],
             [
              1,
              "#f0f921"
             ]
            ],
            "type": "contour"
           }
          ],
          "contourcarpet": [
           {
            "colorbar": {
             "outlinewidth": 0,
             "ticks": ""
            },
            "type": "contourcarpet"
           }
          ],
          "heatmap": [
           {
            "colorbar": {
             "outlinewidth": 0,
             "ticks": ""
            },
            "colorscale": [
             [
              0,
              "#0d0887"
             ],
             [
              0.1111111111111111,
              "#46039f"
             ],
             [
              0.2222222222222222,
              "#7201a8"
             ],
             [
              0.3333333333333333,
              "#9c179e"
             ],
             [
              0.4444444444444444,
              "#bd3786"
             ],
             [
              0.5555555555555556,
              "#d8576b"
             ],
             [
              0.6666666666666666,
              "#ed7953"
             ],
             [
              0.7777777777777778,
              "#fb9f3a"
             ],
             [
              0.8888888888888888,
              "#fdca26"
             ],
             [
              1,
              "#f0f921"
             ]
            ],
            "type": "heatmap"
           }
          ],
          "heatmapgl": [
           {
            "colorbar": {
             "outlinewidth": 0,
             "ticks": ""
            },
            "colorscale": [
             [
              0,
              "#0d0887"
             ],
             [
              0.1111111111111111,
              "#46039f"
             ],
             [
              0.2222222222222222,
              "#7201a8"
             ],
             [
              0.3333333333333333,
              "#9c179e"
             ],
             [
              0.4444444444444444,
              "#bd3786"
             ],
             [
              0.5555555555555556,
              "#d8576b"
             ],
             [
              0.6666666666666666,
              "#ed7953"
             ],
             [
              0.7777777777777778,
              "#fb9f3a"
             ],
             [
              0.8888888888888888,
              "#fdca26"
             ],
             [
              1,
              "#f0f921"
             ]
            ],
            "type": "heatmapgl"
           }
          ],
          "histogram": [
           {
            "marker": {
             "pattern": {
              "fillmode": "overlay",
              "size": 10,
              "solidity": 0.2
             }
            },
            "type": "histogram"
           }
          ],
          "histogram2d": [
           {
            "colorbar": {
             "outlinewidth": 0,
             "ticks": ""
            },
            "colorscale": [
             [
              0,
              "#0d0887"
             ],
             [
              0.1111111111111111,
              "#46039f"
             ],
             [
              0.2222222222222222,
              "#7201a8"
             ],
             [
              0.3333333333333333,
              "#9c179e"
             ],
             [
              0.4444444444444444,
              "#bd3786"
             ],
             [
              0.5555555555555556,
              "#d8576b"
             ],
             [
              0.6666666666666666,
              "#ed7953"
             ],
             [
              0.7777777777777778,
              "#fb9f3a"
             ],
             [
              0.8888888888888888,
              "#fdca26"
             ],
             [
              1,
              "#f0f921"
             ]
            ],
            "type": "histogram2d"
           }
          ],
          "histogram2dcontour": [
           {
            "colorbar": {
             "outlinewidth": 0,
             "ticks": ""
            },
            "colorscale": [
             [
              0,
              "#0d0887"
             ],
             [
              0.1111111111111111,
              "#46039f"
             ],
             [
              0.2222222222222222,
              "#7201a8"
             ],
             [
              0.3333333333333333,
              "#9c179e"
             ],
             [
              0.4444444444444444,
              "#bd3786"
             ],
             [
              0.5555555555555556,
              "#d8576b"
             ],
             [
              0.6666666666666666,
              "#ed7953"
             ],
             [
              0.7777777777777778,
              "#fb9f3a"
             ],
             [
              0.8888888888888888,
              "#fdca26"
             ],
             [
              1,
              "#f0f921"
             ]
            ],
            "type": "histogram2dcontour"
           }
          ],
          "mesh3d": [
           {
            "colorbar": {
             "outlinewidth": 0,
             "ticks": ""
            },
            "type": "mesh3d"
           }
          ],
          "parcoords": [
           {
            "line": {
             "colorbar": {
              "outlinewidth": 0,
              "ticks": ""
             }
            },
            "type": "parcoords"
           }
          ],
          "pie": [
           {
            "automargin": true,
            "type": "pie"
           }
          ],
          "scatter": [
           {
            "marker": {
             "colorbar": {
              "outlinewidth": 0,
              "ticks": ""
             }
            },
            "type": "scatter"
           }
          ],
          "scatter3d": [
           {
            "line": {
             "colorbar": {
              "outlinewidth": 0,
              "ticks": ""
             }
            },
            "marker": {
             "colorbar": {
              "outlinewidth": 0,
              "ticks": ""
             }
            },
            "type": "scatter3d"
           }
          ],
          "scattercarpet": [
           {
            "marker": {
             "colorbar": {
              "outlinewidth": 0,
              "ticks": ""
             }
            },
            "type": "scattercarpet"
           }
          ],
          "scattergeo": [
           {
            "marker": {
             "colorbar": {
              "outlinewidth": 0,
              "ticks": ""
             }
            },
            "type": "scattergeo"
           }
          ],
          "scattergl": [
           {
            "marker": {
             "colorbar": {
              "outlinewidth": 0,
              "ticks": ""
             }
            },
            "type": "scattergl"
           }
          ],
          "scattermapbox": [
           {
            "marker": {
             "colorbar": {
              "outlinewidth": 0,
              "ticks": ""
             }
            },
            "type": "scattermapbox"
           }
          ],
          "scatterpolar": [
           {
            "marker": {
             "colorbar": {
              "outlinewidth": 0,
              "ticks": ""
             }
            },
            "type": "scatterpolar"
           }
          ],
          "scatterpolargl": [
           {
            "marker": {
             "colorbar": {
              "outlinewidth": 0,
              "ticks": ""
             }
            },
            "type": "scatterpolargl"
           }
          ],
          "scatterternary": [
           {
            "marker": {
             "colorbar": {
              "outlinewidth": 0,
              "ticks": ""
             }
            },
            "type": "scatterternary"
           }
          ],
          "surface": [
           {
            "colorbar": {
             "outlinewidth": 0,
             "ticks": ""
            },
            "colorscale": [
             [
              0,
              "#0d0887"
             ],
             [
              0.1111111111111111,
              "#46039f"
             ],
             [
              0.2222222222222222,
              "#7201a8"
             ],
             [
              0.3333333333333333,
              "#9c179e"
             ],
             [
              0.4444444444444444,
              "#bd3786"
             ],
             [
              0.5555555555555556,
              "#d8576b"
             ],
             [
              0.6666666666666666,
              "#ed7953"
             ],
             [
              0.7777777777777778,
              "#fb9f3a"
             ],
             [
              0.8888888888888888,
              "#fdca26"
             ],
             [
              1,
              "#f0f921"
             ]
            ],
            "type": "surface"
           }
          ],
          "table": [
           {
            "cells": {
             "fill": {
              "color": "#EBF0F8"
             },
             "line": {
              "color": "white"
             }
            },
            "header": {
             "fill": {
              "color": "#C8D4E3"
             },
             "line": {
              "color": "white"
             }
            },
            "type": "table"
           }
          ]
         },
         "layout": {
          "annotationdefaults": {
           "arrowcolor": "#2a3f5f",
           "arrowhead": 0,
           "arrowwidth": 1
          },
          "autotypenumbers": "strict",
          "coloraxis": {
           "colorbar": {
            "outlinewidth": 0,
            "ticks": ""
           }
          },
          "colorscale": {
           "diverging": [
            [
             0,
             "#8e0152"
            ],
            [
             0.1,
             "#c51b7d"
            ],
            [
             0.2,
             "#de77ae"
            ],
            [
             0.3,
             "#f1b6da"
            ],
            [
             0.4,
             "#fde0ef"
            ],
            [
             0.5,
             "#f7f7f7"
            ],
            [
             0.6,
             "#e6f5d0"
            ],
            [
             0.7,
             "#b8e186"
            ],
            [
             0.8,
             "#7fbc41"
            ],
            [
             0.9,
             "#4d9221"
            ],
            [
             1,
             "#276419"
            ]
           ],
           "sequential": [
            [
             0,
             "#0d0887"
            ],
            [
             0.1111111111111111,
             "#46039f"
            ],
            [
             0.2222222222222222,
             "#7201a8"
            ],
            [
             0.3333333333333333,
             "#9c179e"
            ],
            [
             0.4444444444444444,
             "#bd3786"
            ],
            [
             0.5555555555555556,
             "#d8576b"
            ],
            [
             0.6666666666666666,
             "#ed7953"
            ],
            [
             0.7777777777777778,
             "#fb9f3a"
            ],
            [
             0.8888888888888888,
             "#fdca26"
            ],
            [
             1,
             "#f0f921"
            ]
           ],
           "sequentialminus": [
            [
             0,
             "#0d0887"
            ],
            [
             0.1111111111111111,
             "#46039f"
            ],
            [
             0.2222222222222222,
             "#7201a8"
            ],
            [
             0.3333333333333333,
             "#9c179e"
            ],
            [
             0.4444444444444444,
             "#bd3786"
            ],
            [
             0.5555555555555556,
             "#d8576b"
            ],
            [
             0.6666666666666666,
             "#ed7953"
            ],
            [
             0.7777777777777778,
             "#fb9f3a"
            ],
            [
             0.8888888888888888,
             "#fdca26"
            ],
            [
             1,
             "#f0f921"
            ]
           ]
          },
          "colorway": [
           "#636efa",
           "#EF553B",
           "#00cc96",
           "#ab63fa",
           "#FFA15A",
           "#19d3f3",
           "#FF6692",
           "#B6E880",
           "#FF97FF",
           "#FECB52"
          ],
          "font": {
           "color": "#2a3f5f"
          },
          "geo": {
           "bgcolor": "white",
           "lakecolor": "white",
           "landcolor": "#E5ECF6",
           "showlakes": true,
           "showland": true,
           "subunitcolor": "white"
          },
          "hoverlabel": {
           "align": "left"
          },
          "hovermode": "closest",
          "mapbox": {
           "style": "light"
          },
          "paper_bgcolor": "white",
          "plot_bgcolor": "#E5ECF6",
          "polar": {
           "angularaxis": {
            "gridcolor": "white",
            "linecolor": "white",
            "ticks": ""
           },
           "bgcolor": "#E5ECF6",
           "radialaxis": {
            "gridcolor": "white",
            "linecolor": "white",
            "ticks": ""
           }
          },
          "scene": {
           "xaxis": {
            "backgroundcolor": "#E5ECF6",
            "gridcolor": "white",
            "gridwidth": 2,
            "linecolor": "white",
            "showbackground": true,
            "ticks": "",
            "zerolinecolor": "white"
           },
           "yaxis": {
            "backgroundcolor": "#E5ECF6",
            "gridcolor": "white",
            "gridwidth": 2,
            "linecolor": "white",
            "showbackground": true,
            "ticks": "",
            "zerolinecolor": "white"
           },
           "zaxis": {
            "backgroundcolor": "#E5ECF6",
            "gridcolor": "white",
            "gridwidth": 2,
            "linecolor": "white",
            "showbackground": true,
            "ticks": "",
            "zerolinecolor": "white"
           }
          },
          "shapedefaults": {
           "line": {
            "color": "#2a3f5f"
           }
          },
          "ternary": {
           "aaxis": {
            "gridcolor": "white",
            "linecolor": "white",
            "ticks": ""
           },
           "baxis": {
            "gridcolor": "white",
            "linecolor": "white",
            "ticks": ""
           },
           "bgcolor": "#E5ECF6",
           "caxis": {
            "gridcolor": "white",
            "linecolor": "white",
            "ticks": ""
           }
          },
          "title": {
           "x": 0.05
          },
          "xaxis": {
           "automargin": true,
           "gridcolor": "white",
           "linecolor": "white",
           "ticks": "",
           "title": {
            "standoff": 15
           },
           "zerolinecolor": "white",
           "zerolinewidth": 2
          },
          "yaxis": {
           "automargin": true,
           "gridcolor": "white",
           "linecolor": "white",
           "ticks": "",
           "title": {
            "standoff": 15
           },
           "zerolinecolor": "white",
           "zerolinewidth": 2
          }
         }
        },
        "xaxis": {
         "anchor": "y",
         "domain": [
          0,
          1
         ],
         "title": {
          "text": "authorities_contacted"
         }
        },
        "yaxis": {
         "anchor": "x",
         "domain": [
          0,
          1
         ],
         "title": {
          "text": "count"
         }
        }
       }
      }
     },
     "metadata": {},
     "output_type": "display_data"
    }
   ],
   "source": [
    "fig = px.histogram(df, x=\"authorities_contacted\", color=\"fraud_reported\")\n",
    "fig.show()"
   ]
  },
  {
   "cell_type": "code",
   "execution_count": 36,
   "metadata": {},
   "outputs": [
    {
     "data": {
      "application/vnd.plotly.v1+json": {
       "config": {
        "plotlyServerURL": "https://plot.ly"
       },
       "data": [
        {
         "alignmentgroup": "True",
         "bingroup": "x",
         "hovertemplate": "fraud_reported=Y<br>incident_state=%{x}<br>count=%{y}<extra></extra>",
         "legendgroup": "Y",
         "marker": {
          "color": "#636efa",
          "pattern": {
           "shape": ""
          }
         },
         "name": "Y",
         "offsetgroup": "Y",
         "orientation": "v",
         "showlegend": true,
         "type": "histogram",
         "x": [
          "SC",
          "VA",
          "OH",
          "SC",
          "SC",
          "WV",
          "SC",
          "WV",
          "OH",
          "VA",
          "WV",
          "WV",
          "NY",
          "NC",
          "WV",
          "WV",
          "NY",
          "WV",
          "VA",
          "NY",
          "SC",
          "SC",
          "WV",
          "SC",
          "NY",
          "SC",
          "NY",
          "VA",
          "SC",
          "VA",
          "NY",
          "NY",
          "NC",
          "NY",
          "NY",
          "NY",
          "VA",
          "NY",
          "SC",
          "NY",
          "SC",
          "NC",
          "NC",
          "SC",
          "SC",
          "NY",
          "NC",
          "NY",
          "SC",
          "WV",
          "PA",
          "SC",
          "NY",
          "WV",
          "WV",
          "SC",
          "SC",
          "NC",
          "NC",
          "WV",
          "NY",
          "NY",
          "PA",
          "SC",
          "VA",
          "NY",
          "SC",
          "SC",
          "SC",
          "OH",
          "SC",
          "SC",
          "SC",
          "NC",
          "NY",
          "PA",
          "WV",
          "PA",
          "WV",
          "NY",
          "WV",
          "SC",
          "NC",
          "NC",
          "NY",
          "SC",
          "SC",
          "SC",
          "SC",
          "NY",
          "VA",
          "NY",
          "WV",
          "NY",
          "VA",
          "NY",
          "VA",
          "SC",
          "NC",
          "SC",
          "OH",
          "SC",
          "WV",
          "SC",
          "NC",
          "NC",
          "WV",
          "VA",
          "NY",
          "NC",
          "OH",
          "NY",
          "SC",
          "NY",
          "WV",
          "NC",
          "NC",
          "NC",
          "SC",
          "SC",
          "NC",
          "SC",
          "SC",
          "NY",
          "PA",
          "SC",
          "VA",
          "NC",
          "WV",
          "WV",
          "NY",
          "OH",
          "NY",
          "VA",
          "PA",
          "SC",
          "WV",
          "NY",
          "VA",
          "VA",
          "OH",
          "SC",
          "NY",
          "WV",
          "NY",
          "SC",
          "NY",
          "OH",
          "SC",
          "NY",
          "SC",
          "WV",
          "VA",
          "PA",
          "VA",
          "SC",
          "SC",
          "SC",
          "VA",
          "SC",
          "NY",
          "NY",
          "SC",
          "NC",
          "NC",
          "WV",
          "NY",
          "SC",
          "NC",
          "WV",
          "NY",
          "NC",
          "SC",
          "WV",
          "VA",
          "WV",
          "NY",
          "SC",
          "NY",
          "NY",
          "NY",
          "SC",
          "SC",
          "NC",
          "PA",
          "NC",
          "NC",
          "WV",
          "SC",
          "VA",
          "WV",
          "WV",
          "SC",
          "SC",
          "NC",
          "SC",
          "NY",
          "SC",
          "WV",
          "NY",
          "OH",
          "NY",
          "NY",
          "NC",
          "VA",
          "VA",
          "SC",
          "NC",
          "NC",
          "NY",
          "NC",
          "SC",
          "NY",
          "SC",
          "NY",
          "SC",
          "SC",
          "SC",
          "OH",
          "NY",
          "SC",
          "SC",
          "VA",
          "VA",
          "WV",
          "WV",
          "VA",
          "NC",
          "SC",
          "NY",
          "NY",
          "NY",
          "SC",
          "SC",
          "WV",
          "NY",
          "SC",
          "WV",
          "WV",
          "NC",
          "NY",
          "SC",
          "SC",
          "WV",
          "NY",
          "WV",
          "NC"
         ],
         "xaxis": "x",
         "yaxis": "y"
        },
        {
         "alignmentgroup": "True",
         "bingroup": "x",
         "hovertemplate": "fraud_reported=N<br>incident_state=%{x}<br>count=%{y}<extra></extra>",
         "legendgroup": "N",
         "marker": {
          "color": "#EF553B",
          "pattern": {
           "shape": ""
          }
         },
         "name": "N",
         "offsetgroup": "N",
         "orientation": "v",
         "showlegend": true,
         "type": "histogram",
         "x": [
          "NY",
          "NY",
          "NY",
          "VA",
          "WV",
          "NC",
          "NY",
          "SC",
          "SC",
          "SC",
          "NY",
          "WV",
          "NY",
          "VA",
          "NY",
          "SC",
          "VA",
          "PA",
          "SC",
          "SC",
          "SC",
          "NY",
          "NY",
          "WV",
          "WV",
          "NY",
          "WV",
          "SC",
          "NC",
          "SC",
          "NY",
          "NC",
          "NY",
          "WV",
          "NY",
          "NY",
          "WV",
          "NC",
          "VA",
          "NY",
          "SC",
          "VA",
          "WV",
          "VA",
          "OH",
          "WV",
          "WV",
          "WV",
          "NC",
          "NC",
          "SC",
          "VA",
          "SC",
          "NY",
          "WV",
          "SC",
          "NC",
          "NC",
          "NY",
          "VA",
          "NY",
          "SC",
          "VA",
          "WV",
          "SC",
          "WV",
          "NC",
          "SC",
          "OH",
          "WV",
          "NC",
          "SC",
          "WV",
          "NC",
          "WV",
          "SC",
          "WV",
          "WV",
          "SC",
          "WV",
          "VA",
          "VA",
          "SC",
          "NY",
          "NY",
          "SC",
          "NC",
          "WV",
          "NY",
          "WV",
          "PA",
          "NY",
          "WV",
          "NC",
          "WV",
          "WV",
          "VA",
          "SC",
          "NC",
          "VA",
          "NY",
          "SC",
          "SC",
          "WV",
          "WV",
          "NY",
          "NC",
          "WV",
          "NY",
          "WV",
          "WV",
          "NY",
          "VA",
          "SC",
          "NY",
          "PA",
          "WV",
          "NY",
          "SC",
          "NY",
          "NY",
          "SC",
          "PA",
          "WV",
          "PA",
          "OH",
          "SC",
          "WV",
          "NY",
          "VA",
          "SC",
          "VA",
          "NY",
          "NC",
          "NY",
          "VA",
          "SC",
          "SC",
          "SC",
          "VA",
          "VA",
          "NC",
          "WV",
          "NY",
          "SC",
          "NY",
          "WV",
          "NY",
          "SC",
          "WV",
          "SC",
          "VA",
          "SC",
          "WV",
          "NC",
          "OH",
          "NY",
          "NY",
          "NC",
          "SC",
          "NY",
          "NY",
          "NY",
          "VA",
          "NY",
          "NY",
          "WV",
          "SC",
          "NY",
          "SC",
          "WV",
          "OH",
          "NY",
          "NY",
          "NY",
          "WV",
          "SC",
          "SC",
          "NY",
          "PA",
          "NY",
          "SC",
          "NC",
          "WV",
          "NY",
          "SC",
          "NY",
          "SC",
          "SC",
          "SC",
          "NC",
          "SC",
          "PA",
          "SC",
          "VA",
          "NY",
          "NY",
          "NY",
          "SC",
          "WV",
          "SC",
          "PA",
          "SC",
          "WV",
          "VA",
          "SC",
          "SC",
          "VA",
          "NC",
          "OH",
          "NY",
          "SC",
          "PA",
          "SC",
          "WV",
          "PA",
          "SC",
          "NY",
          "NC",
          "NY",
          "NY",
          "NY",
          "NY",
          "SC",
          "WV",
          "SC",
          "WV",
          "WV",
          "VA",
          "NY",
          "NY",
          "SC",
          "WV",
          "PA",
          "NY",
          "NY",
          "NY",
          "NY",
          "SC",
          "VA",
          "NC",
          "WV",
          "SC",
          "NY",
          "NY",
          "NY",
          "SC",
          "WV",
          "VA",
          "WV",
          "VA",
          "SC",
          "VA",
          "VA",
          "SC",
          "NY",
          "WV",
          "WV",
          "NY",
          "SC",
          "VA",
          "SC",
          "VA",
          "WV",
          "NC",
          "VA",
          "SC",
          "SC",
          "NY",
          "WV",
          "VA",
          "NY",
          "SC",
          "SC",
          "NY",
          "NY",
          "WV",
          "NY",
          "NY",
          "WV",
          "WV",
          "NY",
          "NY",
          "WV",
          "SC",
          "NY",
          "VA",
          "WV",
          "NY",
          "WV",
          "NY",
          "NC",
          "WV",
          "WV",
          "VA",
          "OH",
          "NC",
          "WV",
          "SC",
          "NY",
          "PA",
          "NC",
          "WV",
          "NY",
          "NY",
          "NC",
          "NY",
          "SC",
          "SC",
          "WV",
          "SC",
          "WV",
          "NC",
          "NY",
          "OH",
          "VA",
          "NY",
          "NC",
          "PA",
          "PA",
          "WV",
          "VA",
          "NY",
          "WV",
          "VA",
          "NC",
          "NY",
          "NC",
          "SC",
          "WV",
          "NY",
          "SC",
          "NY",
          "NY",
          "NY",
          "WV",
          "NY",
          "NC",
          "NY",
          "WV",
          "NY",
          "SC",
          "VA",
          "SC",
          "VA",
          "WV",
          "NC",
          "WV",
          "WV",
          "SC",
          "NC",
          "SC",
          "PA",
          "NY",
          "NC",
          "NY",
          "VA",
          "NY",
          "SC",
          "WV",
          "VA",
          "NY",
          "NY",
          "SC",
          "NY",
          "NY",
          "NC",
          "SC",
          "WV",
          "WV",
          "SC",
          "WV",
          "NY",
          "NY",
          "NY",
          "NY",
          "WV",
          "NY",
          "WV",
          "NY",
          "NY",
          "WV",
          "SC",
          "NY",
          "NY",
          "WV",
          "SC",
          "SC",
          "NC",
          "SC",
          "VA",
          "SC",
          "WV",
          "SC",
          "SC",
          "VA",
          "SC",
          "WV",
          "WV",
          "NY",
          "SC",
          "VA",
          "NC",
          "NC",
          "SC",
          "SC",
          "VA",
          "VA",
          "SC",
          "NC",
          "SC",
          "NC",
          "SC",
          "WV",
          "NC",
          "WV",
          "WV",
          "NY",
          "NY",
          "VA",
          "WV",
          "SC",
          "WV",
          "SC",
          "WV",
          "SC",
          "NY",
          "SC",
          "NY",
          "WV",
          "NC",
          "NC",
          "SC",
          "NY",
          "WV",
          "OH",
          "WV",
          "NY",
          "WV",
          "PA",
          "SC",
          "SC",
          "NC",
          "WV",
          "NY",
          "WV",
          "NC",
          "WV",
          "SC",
          "NY",
          "SC",
          "NY",
          "VA",
          "NY",
          "NY",
          "WV",
          "NY",
          "SC",
          "NY",
          "WV",
          "NY",
          "SC",
          "NY",
          "NY",
          "WV",
          "SC",
          "NC",
          "SC",
          "WV",
          "NY",
          "SC",
          "VA",
          "WV",
          "WV",
          "WV",
          "VA",
          "NY",
          "NY",
          "SC",
          "NY",
          "SC",
          "NY",
          "NY",
          "NY",
          "NY",
          "NY",
          "WV",
          "WV",
          "SC",
          "NC",
          "SC",
          "SC",
          "VA",
          "WV",
          "NY",
          "NY",
          "SC",
          "VA",
          "SC",
          "PA",
          "SC",
          "WV",
          "SC",
          "VA",
          "SC",
          "NY",
          "NY",
          "SC",
          "NC",
          "NY",
          "NC",
          "SC",
          "NY",
          "NY",
          "WV",
          "WV",
          "SC",
          "NY",
          "WV",
          "WV",
          "WV",
          "WV",
          "WV",
          "VA",
          "SC",
          "NY",
          "SC",
          "SC",
          "SC",
          "NY",
          "WV",
          "NY",
          "PA",
          "SC",
          "NY",
          "OH",
          "WV",
          "VA",
          "NC",
          "SC",
          "VA",
          "SC",
          "WV",
          "NY",
          "WV",
          "SC",
          "NC",
          "WV",
          "WV",
          "WV",
          "NC",
          "WV",
          "WV",
          "NY",
          "SC",
          "WV",
          "NY",
          "NC",
          "NY",
          "VA",
          "WV",
          "WV",
          "SC",
          "VA",
          "NY",
          "NY",
          "NY",
          "SC",
          "VA",
          "NY",
          "VA",
          "SC",
          "WV",
          "VA",
          "NY",
          "WV",
          "WV",
          "WV",
          "WV",
          "NC",
          "WV",
          "NC",
          "WV",
          "NC",
          "NY",
          "NY",
          "NY",
          "SC",
          "VA",
          "SC",
          "VA",
          "NY",
          "WV",
          "WV",
          "NC",
          "NY",
          "VA",
          "SC",
          "NY",
          "NY",
          "WV",
          "WV",
          "SC",
          "NY",
          "NC",
          "NY",
          "WV",
          "WV",
          "VA",
          "SC",
          "SC",
          "WV",
          "SC",
          "VA",
          "NY",
          "WV",
          "PA",
          "SC",
          "NY",
          "WV",
          "SC",
          "PA",
          "VA",
          "WV",
          "SC",
          "NC",
          "VA",
          "SC",
          "SC",
          "SC",
          "WV",
          "VA",
          "VA",
          "NY",
          "NC",
          "NY",
          "NY",
          "WV",
          "WV",
          "SC",
          "WV",
          "NY",
          "SC",
          "SC",
          "NY",
          "NY",
          "WV",
          "SC",
          "WV",
          "NY",
          "NY",
          "NY",
          "WV",
          "WV",
          "NC",
          "WV",
          "NY",
          "NC",
          "NY",
          "WV",
          "NC",
          "SC",
          "VA",
          "SC",
          "VA",
          "NC",
          "SC",
          "WV",
          "NC",
          "NY",
          "SC",
          "NY",
          "WV",
          "NC",
          "NY",
          "NY",
          "SC",
          "WV",
          "VA",
          "SC",
          "WV",
          "WV",
          "SC",
          "PA",
          "WV",
          "WV",
          "NY",
          "NY",
          "NY",
          "NY",
          "WV",
          "NY",
          "WV",
          "SC",
          "WV",
          "VA",
          "VA",
          "PA",
          "NC",
          "NY",
          "VA",
          "NY",
          "VA",
          "NY",
          "NY",
          "SC",
          "NC",
          "SC",
          "SC",
          "WV",
          "WV",
          "WV",
          "SC",
          "NC",
          "VA",
          "WV",
          "WV",
          "NY",
          "SC",
          "WV",
          "NC",
          "VA",
          "NY",
          "VA",
          "VA",
          "WV",
          "SC",
          "NC",
          "NY",
          "SC",
          "SC",
          "VA",
          "VA",
          "WV",
          "NY",
          "NY",
          "OH",
          "NY",
          "SC",
          "WV",
          "WV",
          "NY",
          "SC",
          "NY",
          "WV",
          "OH",
          "OH",
          "SC",
          "NC",
          "SC",
          "NC",
          "NY",
          "WV"
         ],
         "xaxis": "x",
         "yaxis": "y"
        }
       ],
       "layout": {
        "barmode": "relative",
        "legend": {
         "title": {
          "text": "fraud_reported"
         },
         "tracegroupgap": 0
        },
        "margin": {
         "t": 60
        },
        "template": {
         "data": {
          "bar": [
           {
            "error_x": {
             "color": "#2a3f5f"
            },
            "error_y": {
             "color": "#2a3f5f"
            },
            "marker": {
             "line": {
              "color": "#E5ECF6",
              "width": 0.5
             },
             "pattern": {
              "fillmode": "overlay",
              "size": 10,
              "solidity": 0.2
             }
            },
            "type": "bar"
           }
          ],
          "barpolar": [
           {
            "marker": {
             "line": {
              "color": "#E5ECF6",
              "width": 0.5
             },
             "pattern": {
              "fillmode": "overlay",
              "size": 10,
              "solidity": 0.2
             }
            },
            "type": "barpolar"
           }
          ],
          "carpet": [
           {
            "aaxis": {
             "endlinecolor": "#2a3f5f",
             "gridcolor": "white",
             "linecolor": "white",
             "minorgridcolor": "white",
             "startlinecolor": "#2a3f5f"
            },
            "baxis": {
             "endlinecolor": "#2a3f5f",
             "gridcolor": "white",
             "linecolor": "white",
             "minorgridcolor": "white",
             "startlinecolor": "#2a3f5f"
            },
            "type": "carpet"
           }
          ],
          "choropleth": [
           {
            "colorbar": {
             "outlinewidth": 0,
             "ticks": ""
            },
            "type": "choropleth"
           }
          ],
          "contour": [
           {
            "colorbar": {
             "outlinewidth": 0,
             "ticks": ""
            },
            "colorscale": [
             [
              0,
              "#0d0887"
             ],
             [
              0.1111111111111111,
              "#46039f"
             ],
             [
              0.2222222222222222,
              "#7201a8"
             ],
             [
              0.3333333333333333,
              "#9c179e"
             ],
             [
              0.4444444444444444,
              "#bd3786"
             ],
             [
              0.5555555555555556,
              "#d8576b"
             ],
             [
              0.6666666666666666,
              "#ed7953"
             ],
             [
              0.7777777777777778,
              "#fb9f3a"
             ],
             [
              0.8888888888888888,
              "#fdca26"
             ],
             [
              1,
              "#f0f921"
             ]
            ],
            "type": "contour"
           }
          ],
          "contourcarpet": [
           {
            "colorbar": {
             "outlinewidth": 0,
             "ticks": ""
            },
            "type": "contourcarpet"
           }
          ],
          "heatmap": [
           {
            "colorbar": {
             "outlinewidth": 0,
             "ticks": ""
            },
            "colorscale": [
             [
              0,
              "#0d0887"
             ],
             [
              0.1111111111111111,
              "#46039f"
             ],
             [
              0.2222222222222222,
              "#7201a8"
             ],
             [
              0.3333333333333333,
              "#9c179e"
             ],
             [
              0.4444444444444444,
              "#bd3786"
             ],
             [
              0.5555555555555556,
              "#d8576b"
             ],
             [
              0.6666666666666666,
              "#ed7953"
             ],
             [
              0.7777777777777778,
              "#fb9f3a"
             ],
             [
              0.8888888888888888,
              "#fdca26"
             ],
             [
              1,
              "#f0f921"
             ]
            ],
            "type": "heatmap"
           }
          ],
          "heatmapgl": [
           {
            "colorbar": {
             "outlinewidth": 0,
             "ticks": ""
            },
            "colorscale": [
             [
              0,
              "#0d0887"
             ],
             [
              0.1111111111111111,
              "#46039f"
             ],
             [
              0.2222222222222222,
              "#7201a8"
             ],
             [
              0.3333333333333333,
              "#9c179e"
             ],
             [
              0.4444444444444444,
              "#bd3786"
             ],
             [
              0.5555555555555556,
              "#d8576b"
             ],
             [
              0.6666666666666666,
              "#ed7953"
             ],
             [
              0.7777777777777778,
              "#fb9f3a"
             ],
             [
              0.8888888888888888,
              "#fdca26"
             ],
             [
              1,
              "#f0f921"
             ]
            ],
            "type": "heatmapgl"
           }
          ],
          "histogram": [
           {
            "marker": {
             "pattern": {
              "fillmode": "overlay",
              "size": 10,
              "solidity": 0.2
             }
            },
            "type": "histogram"
           }
          ],
          "histogram2d": [
           {
            "colorbar": {
             "outlinewidth": 0,
             "ticks": ""
            },
            "colorscale": [
             [
              0,
              "#0d0887"
             ],
             [
              0.1111111111111111,
              "#46039f"
             ],
             [
              0.2222222222222222,
              "#7201a8"
             ],
             [
              0.3333333333333333,
              "#9c179e"
             ],
             [
              0.4444444444444444,
              "#bd3786"
             ],
             [
              0.5555555555555556,
              "#d8576b"
             ],
             [
              0.6666666666666666,
              "#ed7953"
             ],
             [
              0.7777777777777778,
              "#fb9f3a"
             ],
             [
              0.8888888888888888,
              "#fdca26"
             ],
             [
              1,
              "#f0f921"
             ]
            ],
            "type": "histogram2d"
           }
          ],
          "histogram2dcontour": [
           {
            "colorbar": {
             "outlinewidth": 0,
             "ticks": ""
            },
            "colorscale": [
             [
              0,
              "#0d0887"
             ],
             [
              0.1111111111111111,
              "#46039f"
             ],
             [
              0.2222222222222222,
              "#7201a8"
             ],
             [
              0.3333333333333333,
              "#9c179e"
             ],
             [
              0.4444444444444444,
              "#bd3786"
             ],
             [
              0.5555555555555556,
              "#d8576b"
             ],
             [
              0.6666666666666666,
              "#ed7953"
             ],
             [
              0.7777777777777778,
              "#fb9f3a"
             ],
             [
              0.8888888888888888,
              "#fdca26"
             ],
             [
              1,
              "#f0f921"
             ]
            ],
            "type": "histogram2dcontour"
           }
          ],
          "mesh3d": [
           {
            "colorbar": {
             "outlinewidth": 0,
             "ticks": ""
            },
            "type": "mesh3d"
           }
          ],
          "parcoords": [
           {
            "line": {
             "colorbar": {
              "outlinewidth": 0,
              "ticks": ""
             }
            },
            "type": "parcoords"
           }
          ],
          "pie": [
           {
            "automargin": true,
            "type": "pie"
           }
          ],
          "scatter": [
           {
            "marker": {
             "colorbar": {
              "outlinewidth": 0,
              "ticks": ""
             }
            },
            "type": "scatter"
           }
          ],
          "scatter3d": [
           {
            "line": {
             "colorbar": {
              "outlinewidth": 0,
              "ticks": ""
             }
            },
            "marker": {
             "colorbar": {
              "outlinewidth": 0,
              "ticks": ""
             }
            },
            "type": "scatter3d"
           }
          ],
          "scattercarpet": [
           {
            "marker": {
             "colorbar": {
              "outlinewidth": 0,
              "ticks": ""
             }
            },
            "type": "scattercarpet"
           }
          ],
          "scattergeo": [
           {
            "marker": {
             "colorbar": {
              "outlinewidth": 0,
              "ticks": ""
             }
            },
            "type": "scattergeo"
           }
          ],
          "scattergl": [
           {
            "marker": {
             "colorbar": {
              "outlinewidth": 0,
              "ticks": ""
             }
            },
            "type": "scattergl"
           }
          ],
          "scattermapbox": [
           {
            "marker": {
             "colorbar": {
              "outlinewidth": 0,
              "ticks": ""
             }
            },
            "type": "scattermapbox"
           }
          ],
          "scatterpolar": [
           {
            "marker": {
             "colorbar": {
              "outlinewidth": 0,
              "ticks": ""
             }
            },
            "type": "scatterpolar"
           }
          ],
          "scatterpolargl": [
           {
            "marker": {
             "colorbar": {
              "outlinewidth": 0,
              "ticks": ""
             }
            },
            "type": "scatterpolargl"
           }
          ],
          "scatterternary": [
           {
            "marker": {
             "colorbar": {
              "outlinewidth": 0,
              "ticks": ""
             }
            },
            "type": "scatterternary"
           }
          ],
          "surface": [
           {
            "colorbar": {
             "outlinewidth": 0,
             "ticks": ""
            },
            "colorscale": [
             [
              0,
              "#0d0887"
             ],
             [
              0.1111111111111111,
              "#46039f"
             ],
             [
              0.2222222222222222,
              "#7201a8"
             ],
             [
              0.3333333333333333,
              "#9c179e"
             ],
             [
              0.4444444444444444,
              "#bd3786"
             ],
             [
              0.5555555555555556,
              "#d8576b"
             ],
             [
              0.6666666666666666,
              "#ed7953"
             ],
             [
              0.7777777777777778,
              "#fb9f3a"
             ],
             [
              0.8888888888888888,
              "#fdca26"
             ],
             [
              1,
              "#f0f921"
             ]
            ],
            "type": "surface"
           }
          ],
          "table": [
           {
            "cells": {
             "fill": {
              "color": "#EBF0F8"
             },
             "line": {
              "color": "white"
             }
            },
            "header": {
             "fill": {
              "color": "#C8D4E3"
             },
             "line": {
              "color": "white"
             }
            },
            "type": "table"
           }
          ]
         },
         "layout": {
          "annotationdefaults": {
           "arrowcolor": "#2a3f5f",
           "arrowhead": 0,
           "arrowwidth": 1
          },
          "autotypenumbers": "strict",
          "coloraxis": {
           "colorbar": {
            "outlinewidth": 0,
            "ticks": ""
           }
          },
          "colorscale": {
           "diverging": [
            [
             0,
             "#8e0152"
            ],
            [
             0.1,
             "#c51b7d"
            ],
            [
             0.2,
             "#de77ae"
            ],
            [
             0.3,
             "#f1b6da"
            ],
            [
             0.4,
             "#fde0ef"
            ],
            [
             0.5,
             "#f7f7f7"
            ],
            [
             0.6,
             "#e6f5d0"
            ],
            [
             0.7,
             "#b8e186"
            ],
            [
             0.8,
             "#7fbc41"
            ],
            [
             0.9,
             "#4d9221"
            ],
            [
             1,
             "#276419"
            ]
           ],
           "sequential": [
            [
             0,
             "#0d0887"
            ],
            [
             0.1111111111111111,
             "#46039f"
            ],
            [
             0.2222222222222222,
             "#7201a8"
            ],
            [
             0.3333333333333333,
             "#9c179e"
            ],
            [
             0.4444444444444444,
             "#bd3786"
            ],
            [
             0.5555555555555556,
             "#d8576b"
            ],
            [
             0.6666666666666666,
             "#ed7953"
            ],
            [
             0.7777777777777778,
             "#fb9f3a"
            ],
            [
             0.8888888888888888,
             "#fdca26"
            ],
            [
             1,
             "#f0f921"
            ]
           ],
           "sequentialminus": [
            [
             0,
             "#0d0887"
            ],
            [
             0.1111111111111111,
             "#46039f"
            ],
            [
             0.2222222222222222,
             "#7201a8"
            ],
            [
             0.3333333333333333,
             "#9c179e"
            ],
            [
             0.4444444444444444,
             "#bd3786"
            ],
            [
             0.5555555555555556,
             "#d8576b"
            ],
            [
             0.6666666666666666,
             "#ed7953"
            ],
            [
             0.7777777777777778,
             "#fb9f3a"
            ],
            [
             0.8888888888888888,
             "#fdca26"
            ],
            [
             1,
             "#f0f921"
            ]
           ]
          },
          "colorway": [
           "#636efa",
           "#EF553B",
           "#00cc96",
           "#ab63fa",
           "#FFA15A",
           "#19d3f3",
           "#FF6692",
           "#B6E880",
           "#FF97FF",
           "#FECB52"
          ],
          "font": {
           "color": "#2a3f5f"
          },
          "geo": {
           "bgcolor": "white",
           "lakecolor": "white",
           "landcolor": "#E5ECF6",
           "showlakes": true,
           "showland": true,
           "subunitcolor": "white"
          },
          "hoverlabel": {
           "align": "left"
          },
          "hovermode": "closest",
          "mapbox": {
           "style": "light"
          },
          "paper_bgcolor": "white",
          "plot_bgcolor": "#E5ECF6",
          "polar": {
           "angularaxis": {
            "gridcolor": "white",
            "linecolor": "white",
            "ticks": ""
           },
           "bgcolor": "#E5ECF6",
           "radialaxis": {
            "gridcolor": "white",
            "linecolor": "white",
            "ticks": ""
           }
          },
          "scene": {
           "xaxis": {
            "backgroundcolor": "#E5ECF6",
            "gridcolor": "white",
            "gridwidth": 2,
            "linecolor": "white",
            "showbackground": true,
            "ticks": "",
            "zerolinecolor": "white"
           },
           "yaxis": {
            "backgroundcolor": "#E5ECF6",
            "gridcolor": "white",
            "gridwidth": 2,
            "linecolor": "white",
            "showbackground": true,
            "ticks": "",
            "zerolinecolor": "white"
           },
           "zaxis": {
            "backgroundcolor": "#E5ECF6",
            "gridcolor": "white",
            "gridwidth": 2,
            "linecolor": "white",
            "showbackground": true,
            "ticks": "",
            "zerolinecolor": "white"
           }
          },
          "shapedefaults": {
           "line": {
            "color": "#2a3f5f"
           }
          },
          "ternary": {
           "aaxis": {
            "gridcolor": "white",
            "linecolor": "white",
            "ticks": ""
           },
           "baxis": {
            "gridcolor": "white",
            "linecolor": "white",
            "ticks": ""
           },
           "bgcolor": "#E5ECF6",
           "caxis": {
            "gridcolor": "white",
            "linecolor": "white",
            "ticks": ""
           }
          },
          "title": {
           "x": 0.05
          },
          "xaxis": {
           "automargin": true,
           "gridcolor": "white",
           "linecolor": "white",
           "ticks": "",
           "title": {
            "standoff": 15
           },
           "zerolinecolor": "white",
           "zerolinewidth": 2
          },
          "yaxis": {
           "automargin": true,
           "gridcolor": "white",
           "linecolor": "white",
           "ticks": "",
           "title": {
            "standoff": 15
           },
           "zerolinecolor": "white",
           "zerolinewidth": 2
          }
         }
        },
        "xaxis": {
         "anchor": "y",
         "domain": [
          0,
          1
         ],
         "title": {
          "text": "incident_state"
         }
        },
        "yaxis": {
         "anchor": "x",
         "domain": [
          0,
          1
         ],
         "title": {
          "text": "count"
         }
        }
       }
      }
     },
     "metadata": {},
     "output_type": "display_data"
    }
   ],
   "source": [
    "fig = px.histogram(df, x=\"incident_state\", color=\"fraud_reported\")\n",
    "fig.show()"
   ]
  },
  {
   "cell_type": "code",
   "execution_count": 37,
   "metadata": {},
   "outputs": [
    {
     "data": {
      "application/vnd.plotly.v1+json": {
       "config": {
        "plotlyServerURL": "https://plot.ly"
       },
       "data": [
        {
         "alignmentgroup": "True",
         "bingroup": "x",
         "hovertemplate": "fraud_reported=Y<br>incident_city=%{x}<br>count=%{y}<extra></extra>",
         "legendgroup": "Y",
         "marker": {
          "color": "#636efa",
          "pattern": {
           "shape": ""
          }
         },
         "name": "Y",
         "offsetgroup": "Y",
         "orientation": "v",
         "showlegend": true,
         "type": "histogram",
         "x": [
          "Columbus",
          "Riverwood",
          "Arlington",
          "Arlington",
          "Springfield",
          "Hillsdale",
          "Hillsdale",
          "Northbend",
          "Arlington",
          "Northbrook",
          "Riverwood",
          "Springfield",
          "Northbrook",
          "Columbus",
          "Northbrook",
          "Arlington",
          "Springfield",
          "Northbend",
          "Riverwood",
          "Arlington",
          "Springfield",
          "Hillsdale",
          "Northbrook",
          "Northbrook",
          "Hillsdale",
          "Columbus",
          "Columbus",
          "Springfield",
          "Hillsdale",
          "Northbend",
          "Northbrook",
          "Springfield",
          "Springfield",
          "Riverwood",
          "Northbend",
          "Northbrook",
          "Columbus",
          "Northbend",
          "Northbend",
          "Springfield",
          "Springfield",
          "Northbrook",
          "Northbend",
          "Springfield",
          "Springfield",
          "Riverwood",
          "Northbrook",
          "Riverwood",
          "Arlington",
          "Riverwood",
          "Riverwood",
          "Northbend",
          "Northbend",
          "Hillsdale",
          "Springfield",
          "Columbus",
          "Springfield",
          "Columbus",
          "Springfield",
          "Hillsdale",
          "Hillsdale",
          "Arlington",
          "Riverwood",
          "Columbus",
          "Columbus",
          "Arlington",
          "Columbus",
          "Springfield",
          "Northbend",
          "Riverwood",
          "Northbrook",
          "Columbus",
          "Northbend",
          "Arlington",
          "Arlington",
          "Columbus",
          "Arlington",
          "Northbrook",
          "Northbend",
          "Arlington",
          "Riverwood",
          "Northbrook",
          "Northbend",
          "Columbus",
          "Arlington",
          "Riverwood",
          "Arlington",
          "Springfield",
          "Northbrook",
          "Springfield",
          "Springfield",
          "Columbus",
          "Springfield",
          "Riverwood",
          "Arlington",
          "Northbend",
          "Columbus",
          "Riverwood",
          "Northbend",
          "Springfield",
          "Columbus",
          "Northbend",
          "Northbend",
          "Hillsdale",
          "Arlington",
          "Northbend",
          "Arlington",
          "Columbus",
          "Springfield",
          "Arlington",
          "Arlington",
          "Columbus",
          "Riverwood",
          "Arlington",
          "Northbrook",
          "Springfield",
          "Northbend",
          "Hillsdale",
          "Hillsdale",
          "Northbend",
          "Riverwood",
          "Riverwood",
          "Arlington",
          "Riverwood",
          "Springfield",
          "Columbus",
          "Northbend",
          "Riverwood",
          "Arlington",
          "Riverwood",
          "Columbus",
          "Northbrook",
          "Arlington",
          "Hillsdale",
          "Northbrook",
          "Springfield",
          "Northbrook",
          "Arlington",
          "Northbend",
          "Arlington",
          "Northbrook",
          "Hillsdale",
          "Northbrook",
          "Riverwood",
          "Arlington",
          "Columbus",
          "Springfield",
          "Northbend",
          "Northbrook",
          "Springfield",
          "Columbus",
          "Arlington",
          "Northbrook",
          "Springfield",
          "Hillsdale",
          "Hillsdale",
          "Columbus",
          "Hillsdale",
          "Hillsdale",
          "Riverwood",
          "Northbrook",
          "Columbus",
          "Columbus",
          "Columbus",
          "Hillsdale",
          "Columbus",
          "Springfield",
          "Northbend",
          "Riverwood",
          "Arlington",
          "Northbend",
          "Hillsdale",
          "Hillsdale",
          "Columbus",
          "Arlington",
          "Arlington",
          "Hillsdale",
          "Columbus",
          "Northbend",
          "Columbus",
          "Arlington",
          "Hillsdale",
          "Columbus",
          "Springfield",
          "Hillsdale",
          "Riverwood",
          "Springfield",
          "Riverwood",
          "Northbend",
          "Northbrook",
          "Hillsdale",
          "Springfield",
          "Arlington",
          "Arlington",
          "Riverwood",
          "Arlington",
          "Columbus",
          "Arlington",
          "Columbus",
          "Columbus",
          "Springfield",
          "Northbend",
          "Hillsdale",
          "Arlington",
          "Northbend",
          "Hillsdale",
          "Columbus",
          "Northbrook",
          "Riverwood",
          "Hillsdale",
          "Arlington",
          "Arlington",
          "Springfield",
          "Columbus",
          "Springfield",
          "Northbend",
          "Hillsdale",
          "Springfield",
          "Arlington",
          "Hillsdale",
          "Arlington",
          "Columbus",
          "Northbrook",
          "Hillsdale",
          "Riverwood",
          "Northbend",
          "Northbend",
          "Northbend",
          "Hillsdale",
          "Hillsdale",
          "Columbus",
          "Northbrook",
          "Arlington",
          "Springfield",
          "Hillsdale",
          "Northbrook",
          "Arlington",
          "Hillsdale",
          "Springfield",
          "Arlington",
          "Northbend",
          "Columbus",
          "Riverwood",
          "Springfield",
          "Arlington",
          "Riverwood",
          "Hillsdale"
         ],
         "xaxis": "x",
         "yaxis": "y"
        },
        {
         "alignmentgroup": "True",
         "bingroup": "x",
         "hovertemplate": "fraud_reported=N<br>incident_city=%{x}<br>count=%{y}<extra></extra>",
         "legendgroup": "N",
         "marker": {
          "color": "#EF553B",
          "pattern": {
           "shape": ""
          }
         },
         "name": "N",
         "offsetgroup": "N",
         "orientation": "v",
         "showlegend": true,
         "type": "histogram",
         "x": [
          "Columbus",
          "Arlington",
          "Springfield",
          "Columbus",
          "Arlington",
          "Hillsdale",
          "Northbend",
          "Springfield",
          "Northbend",
          "Springfield",
          "Riverwood",
          "Northbend",
          "Northbrook",
          "Columbus",
          "Columbus",
          "Arlington",
          "Riverwood",
          "Arlington",
          "Northbend",
          "Northbrook",
          "Columbus",
          "Arlington",
          "Hillsdale",
          "Hillsdale",
          "Arlington",
          "Hillsdale",
          "Columbus",
          "Springfield",
          "Arlington",
          "Springfield",
          "Arlington",
          "Northbend",
          "Arlington",
          "Springfield",
          "Riverwood",
          "Arlington",
          "Northbend",
          "Columbus",
          "Northbend",
          "Arlington",
          "Columbus",
          "Riverwood",
          "Riverwood",
          "Hillsdale",
          "Springfield",
          "Hillsdale",
          "Hillsdale",
          "Northbrook",
          "Riverwood",
          "Arlington",
          "Riverwood",
          "Springfield",
          "Riverwood",
          "Springfield",
          "Northbrook",
          "Springfield",
          "Arlington",
          "Northbrook",
          "Northbrook",
          "Hillsdale",
          "Northbrook",
          "Columbus",
          "Springfield",
          "Arlington",
          "Arlington",
          "Springfield",
          "Riverwood",
          "Northbend",
          "Northbrook",
          "Columbus",
          "Northbrook",
          "Northbend",
          "Northbend",
          "Northbrook",
          "Northbend",
          "Northbend",
          "Columbus",
          "Columbus",
          "Riverwood",
          "Columbus",
          "Hillsdale",
          "Northbrook",
          "Hillsdale",
          "Hillsdale",
          "Arlington",
          "Hillsdale",
          "Arlington",
          "Northbend",
          "Hillsdale",
          "Columbus",
          "Northbrook",
          "Arlington",
          "Columbus",
          "Arlington",
          "Northbend",
          "Northbend",
          "Riverwood",
          "Springfield",
          "Springfield",
          "Springfield",
          "Northbend",
          "Northbrook",
          "Northbend",
          "Springfield",
          "Northbrook",
          "Columbus",
          "Hillsdale",
          "Columbus",
          "Columbus",
          "Northbend",
          "Springfield",
          "Columbus",
          "Springfield",
          "Northbrook",
          "Hillsdale",
          "Columbus",
          "Columbus",
          "Northbend",
          "Hillsdale",
          "Hillsdale",
          "Arlington",
          "Arlington",
          "Hillsdale",
          "Riverwood",
          "Hillsdale",
          "Hillsdale",
          "Columbus",
          "Northbend",
          "Hillsdale",
          "Riverwood",
          "Springfield",
          "Springfield",
          "Northbend",
          "Riverwood",
          "Northbrook",
          "Columbus",
          "Riverwood",
          "Springfield",
          "Arlington",
          "Hillsdale",
          "Northbrook",
          "Columbus",
          "Arlington",
          "Riverwood",
          "Arlington",
          "Hillsdale",
          "Hillsdale",
          "Springfield",
          "Riverwood",
          "Northbend",
          "Springfield",
          "Springfield",
          "Riverwood",
          "Columbus",
          "Hillsdale",
          "Columbus",
          "Riverwood",
          "Columbus",
          "Springfield",
          "Northbrook",
          "Springfield",
          "Hillsdale",
          "Columbus",
          "Arlington",
          "Springfield",
          "Riverwood",
          "Hillsdale",
          "Columbus",
          "Columbus",
          "Arlington",
          "Springfield",
          "Hillsdale",
          "Riverwood",
          "Arlington",
          "Springfield",
          "Northbrook",
          "Riverwood",
          "Hillsdale",
          "Riverwood",
          "Springfield",
          "Northbend",
          "Hillsdale",
          "Arlington",
          "Springfield",
          "Hillsdale",
          "Arlington",
          "Springfield",
          "Riverwood",
          "Hillsdale",
          "Northbend",
          "Hillsdale",
          "Springfield",
          "Springfield",
          "Hillsdale",
          "Arlington",
          "Hillsdale",
          "Arlington",
          "Columbus",
          "Riverwood",
          "Columbus",
          "Northbend",
          "Columbus",
          "Northbrook",
          "Riverwood",
          "Northbrook",
          "Hillsdale",
          "Riverwood",
          "Northbrook",
          "Arlington",
          "Springfield",
          "Columbus",
          "Northbrook",
          "Hillsdale",
          "Northbend",
          "Northbend",
          "Northbend",
          "Riverwood",
          "Riverwood",
          "Arlington",
          "Columbus",
          "Springfield",
          "Northbrook",
          "Northbend",
          "Hillsdale",
          "Hillsdale",
          "Northbend",
          "Northbend",
          "Riverwood",
          "Northbend",
          "Northbend",
          "Columbus",
          "Hillsdale",
          "Riverwood",
          "Northbend",
          "Northbend",
          "Hillsdale",
          "Arlington",
          "Springfield",
          "Northbend",
          "Arlington",
          "Arlington",
          "Hillsdale",
          "Columbus",
          "Springfield",
          "Hillsdale",
          "Columbus",
          "Columbus",
          "Northbend",
          "Hillsdale",
          "Springfield",
          "Arlington",
          "Arlington",
          "Columbus",
          "Riverwood",
          "Hillsdale",
          "Springfield",
          "Hillsdale",
          "Columbus",
          "Springfield",
          "Columbus",
          "Arlington",
          "Northbrook",
          "Northbend",
          "Northbend",
          "Columbus",
          "Riverwood",
          "Hillsdale",
          "Northbend",
          "Springfield",
          "Arlington",
          "Northbrook",
          "Springfield",
          "Northbend",
          "Springfield",
          "Riverwood",
          "Northbend",
          "Northbrook",
          "Hillsdale",
          "Columbus",
          "Northbrook",
          "Arlington",
          "Arlington",
          "Columbus",
          "Northbend",
          "Northbend",
          "Riverwood",
          "Hillsdale",
          "Columbus",
          "Columbus",
          "Springfield",
          "Columbus",
          "Northbend",
          "Hillsdale",
          "Arlington",
          "Hillsdale",
          "Riverwood",
          "Springfield",
          "Northbrook",
          "Arlington",
          "Riverwood",
          "Northbend",
          "Riverwood",
          "Northbrook",
          "Riverwood",
          "Hillsdale",
          "Riverwood",
          "Springfield",
          "Northbend",
          "Northbend",
          "Columbus",
          "Northbend",
          "Arlington",
          "Hillsdale",
          "Columbus",
          "Arlington",
          "Columbus",
          "Columbus",
          "Riverwood",
          "Northbend",
          "Riverwood",
          "Northbrook",
          "Hillsdale",
          "Columbus",
          "Hillsdale",
          "Columbus",
          "Arlington",
          "Springfield",
          "Riverwood",
          "Arlington",
          "Northbend",
          "Northbrook",
          "Northbrook",
          "Hillsdale",
          "Arlington",
          "Northbend",
          "Springfield",
          "Columbus",
          "Hillsdale",
          "Hillsdale",
          "Northbend",
          "Springfield",
          "Columbus",
          "Springfield",
          "Northbend",
          "Springfield",
          "Northbrook",
          "Hillsdale",
          "Springfield",
          "Riverwood",
          "Columbus",
          "Hillsdale",
          "Springfield",
          "Northbrook",
          "Springfield",
          "Springfield",
          "Springfield",
          "Riverwood",
          "Springfield",
          "Northbend",
          "Arlington",
          "Northbend",
          "Northbrook",
          "Northbend",
          "Springfield",
          "Northbend",
          "Springfield",
          "Northbend",
          "Northbrook",
          "Columbus",
          "Hillsdale",
          "Springfield",
          "Hillsdale",
          "Riverwood",
          "Northbrook",
          "Arlington",
          "Northbend",
          "Arlington",
          "Hillsdale",
          "Northbend",
          "Arlington",
          "Northbrook",
          "Arlington",
          "Hillsdale",
          "Northbrook",
          "Riverwood",
          "Springfield",
          "Northbend",
          "Northbend",
          "Northbrook",
          "Riverwood",
          "Springfield",
          "Columbus",
          "Riverwood",
          "Columbus",
          "Springfield",
          "Riverwood",
          "Columbus",
          "Northbend",
          "Arlington",
          "Riverwood",
          "Riverwood",
          "Hillsdale",
          "Arlington",
          "Arlington",
          "Northbrook",
          "Hillsdale",
          "Hillsdale",
          "Springfield",
          "Arlington",
          "Arlington",
          "Arlington",
          "Springfield",
          "Northbend",
          "Arlington",
          "Northbrook",
          "Arlington",
          "Columbus",
          "Northbrook",
          "Hillsdale",
          "Columbus",
          "Springfield",
          "Riverwood",
          "Riverwood",
          "Springfield",
          "Springfield",
          "Northbrook",
          "Northbend",
          "Northbend",
          "Springfield",
          "Arlington",
          "Riverwood",
          "Arlington",
          "Hillsdale",
          "Northbrook",
          "Arlington",
          "Springfield",
          "Springfield",
          "Northbrook",
          "Springfield",
          "Hillsdale",
          "Northbrook",
          "Hillsdale",
          "Springfield",
          "Columbus",
          "Columbus",
          "Northbrook",
          "Riverwood",
          "Columbus",
          "Hillsdale",
          "Arlington",
          "Springfield",
          "Springfield",
          "Riverwood",
          "Springfield",
          "Northbrook",
          "Columbus",
          "Columbus",
          "Northbrook",
          "Northbend",
          "Springfield",
          "Arlington",
          "Springfield",
          "Springfield",
          "Riverwood",
          "Riverwood",
          "Riverwood",
          "Northbrook",
          "Springfield",
          "Northbend",
          "Columbus",
          "Springfield",
          "Springfield",
          "Arlington",
          "Hillsdale",
          "Northbend",
          "Northbrook",
          "Riverwood",
          "Hillsdale",
          "Springfield",
          "Riverwood",
          "Arlington",
          "Springfield",
          "Riverwood",
          "Arlington",
          "Springfield",
          "Riverwood",
          "Columbus",
          "Hillsdale",
          "Arlington",
          "Springfield",
          "Columbus",
          "Northbrook",
          "Springfield",
          "Northbend",
          "Northbend",
          "Arlington",
          "Arlington",
          "Hillsdale",
          "Columbus",
          "Hillsdale",
          "Hillsdale",
          "Northbend",
          "Northbend",
          "Northbend",
          "Hillsdale",
          "Arlington",
          "Arlington",
          "Columbus",
          "Riverwood",
          "Hillsdale",
          "Springfield",
          "Northbend",
          "Columbus",
          "Riverwood",
          "Springfield",
          "Northbend",
          "Riverwood",
          "Riverwood",
          "Northbrook",
          "Northbrook",
          "Springfield",
          "Riverwood",
          "Hillsdale",
          "Arlington",
          "Springfield",
          "Springfield",
          "Riverwood",
          "Riverwood",
          "Columbus",
          "Columbus",
          "Northbrook",
          "Northbend",
          "Northbend",
          "Northbrook",
          "Riverwood",
          "Columbus",
          "Columbus",
          "Northbrook",
          "Northbend",
          "Riverwood",
          "Northbrook",
          "Riverwood",
          "Columbus",
          "Hillsdale",
          "Northbend",
          "Hillsdale",
          "Riverwood",
          "Springfield",
          "Riverwood",
          "Riverwood",
          "Columbus",
          "Springfield",
          "Northbend",
          "Northbrook",
          "Northbrook",
          "Northbrook",
          "Columbus",
          "Northbend",
          "Columbus",
          "Springfield",
          "Springfield",
          "Columbus",
          "Springfield",
          "Arlington",
          "Northbrook",
          "Hillsdale",
          "Arlington",
          "Columbus",
          "Riverwood",
          "Columbus",
          "Springfield",
          "Northbrook",
          "Northbrook",
          "Northbrook",
          "Northbend",
          "Northbrook",
          "Arlington",
          "Northbrook",
          "Columbus",
          "Springfield",
          "Springfield",
          "Hillsdale",
          "Hillsdale",
          "Riverwood",
          "Springfield",
          "Hillsdale",
          "Northbend",
          "Riverwood",
          "Arlington",
          "Northbrook",
          "Riverwood",
          "Columbus",
          "Northbrook",
          "Columbus",
          "Northbrook",
          "Northbrook",
          "Hillsdale",
          "Arlington",
          "Riverwood",
          "Arlington",
          "Arlington",
          "Hillsdale",
          "Arlington",
          "Springfield",
          "Northbend",
          "Northbend",
          "Arlington",
          "Springfield",
          "Riverwood",
          "Arlington",
          "Columbus",
          "Northbend",
          "Columbus",
          "Hillsdale",
          "Arlington",
          "Northbend",
          "Riverwood",
          "Riverwood",
          "Arlington",
          "Riverwood",
          "Riverwood",
          "Northbrook",
          "Arlington",
          "Northbend",
          "Riverwood",
          "Northbrook",
          "Northbend",
          "Northbrook",
          "Arlington",
          "Northbrook",
          "Springfield",
          "Northbrook",
          "Hillsdale",
          "Riverwood",
          "Northbend",
          "Hillsdale",
          "Northbend",
          "Hillsdale",
          "Northbrook",
          "Springfield",
          "Northbend",
          "Columbus",
          "Northbrook",
          "Columbus",
          "Northbend",
          "Northbrook",
          "Springfield",
          "Arlington",
          "Hillsdale",
          "Hillsdale",
          "Riverwood",
          "Riverwood",
          "Northbend",
          "Hillsdale",
          "Riverwood",
          "Springfield",
          "Northbend",
          "Arlington",
          "Northbrook",
          "Hillsdale",
          "Columbus",
          "Riverwood",
          "Arlington",
          "Northbrook",
          "Hillsdale",
          "Northbend",
          "Arlington",
          "Columbus",
          "Arlington",
          "Springfield",
          "Riverwood",
          "Springfield",
          "Northbrook",
          "Arlington",
          "Columbus",
          "Northbrook",
          "Riverwood",
          "Riverwood",
          "Riverwood",
          "Columbus",
          "Northbend",
          "Northbrook",
          "Northbend",
          "Springfield",
          "Northbend",
          "Springfield",
          "Riverwood",
          "Hillsdale",
          "Columbus",
          "Northbrook",
          "Northbrook",
          "Northbrook",
          "Columbus",
          "Hillsdale",
          "Riverwood",
          "Arlington",
          "Springfield",
          "Columbus",
          "Springfield",
          "Columbus",
          "Riverwood",
          "Northbrook",
          "Hillsdale",
          "Springfield",
          "Columbus",
          "Arlington",
          "Arlington",
          "Northbrook",
          "Springfield",
          "Columbus",
          "Hillsdale",
          "Arlington",
          "Arlington",
          "Riverwood",
          "Northbend",
          "Hillsdale",
          "Northbrook",
          "Riverwood",
          "Springfield",
          "Columbus",
          "Hillsdale",
          "Hillsdale",
          "Northbend",
          "Columbus",
          "Arlington",
          "Riverwood",
          "Arlington",
          "Columbus",
          "Northbend",
          "Northbend",
          "Northbrook",
          "Northbend",
          "Northbend",
          "Arlington",
          "Columbus",
          "Columbus",
          "Northbend",
          "Northbend",
          "Arlington",
          "Springfield",
          "Columbus",
          "Columbus",
          "Arlington",
          "Northbrook",
          "Riverwood",
          "Springfield",
          "Hillsdale",
          "Northbend",
          "Northbrook",
          "Northbend",
          "Arlington",
          "Arlington",
          "Columbus"
         ],
         "xaxis": "x",
         "yaxis": "y"
        }
       ],
       "layout": {
        "barmode": "relative",
        "legend": {
         "title": {
          "text": "fraud_reported"
         },
         "tracegroupgap": 0
        },
        "margin": {
         "t": 60
        },
        "template": {
         "data": {
          "bar": [
           {
            "error_x": {
             "color": "#2a3f5f"
            },
            "error_y": {
             "color": "#2a3f5f"
            },
            "marker": {
             "line": {
              "color": "#E5ECF6",
              "width": 0.5
             },
             "pattern": {
              "fillmode": "overlay",
              "size": 10,
              "solidity": 0.2
             }
            },
            "type": "bar"
           }
          ],
          "barpolar": [
           {
            "marker": {
             "line": {
              "color": "#E5ECF6",
              "width": 0.5
             },
             "pattern": {
              "fillmode": "overlay",
              "size": 10,
              "solidity": 0.2
             }
            },
            "type": "barpolar"
           }
          ],
          "carpet": [
           {
            "aaxis": {
             "endlinecolor": "#2a3f5f",
             "gridcolor": "white",
             "linecolor": "white",
             "minorgridcolor": "white",
             "startlinecolor": "#2a3f5f"
            },
            "baxis": {
             "endlinecolor": "#2a3f5f",
             "gridcolor": "white",
             "linecolor": "white",
             "minorgridcolor": "white",
             "startlinecolor": "#2a3f5f"
            },
            "type": "carpet"
           }
          ],
          "choropleth": [
           {
            "colorbar": {
             "outlinewidth": 0,
             "ticks": ""
            },
            "type": "choropleth"
           }
          ],
          "contour": [
           {
            "colorbar": {
             "outlinewidth": 0,
             "ticks": ""
            },
            "colorscale": [
             [
              0,
              "#0d0887"
             ],
             [
              0.1111111111111111,
              "#46039f"
             ],
             [
              0.2222222222222222,
              "#7201a8"
             ],
             [
              0.3333333333333333,
              "#9c179e"
             ],
             [
              0.4444444444444444,
              "#bd3786"
             ],
             [
              0.5555555555555556,
              "#d8576b"
             ],
             [
              0.6666666666666666,
              "#ed7953"
             ],
             [
              0.7777777777777778,
              "#fb9f3a"
             ],
             [
              0.8888888888888888,
              "#fdca26"
             ],
             [
              1,
              "#f0f921"
             ]
            ],
            "type": "contour"
           }
          ],
          "contourcarpet": [
           {
            "colorbar": {
             "outlinewidth": 0,
             "ticks": ""
            },
            "type": "contourcarpet"
           }
          ],
          "heatmap": [
           {
            "colorbar": {
             "outlinewidth": 0,
             "ticks": ""
            },
            "colorscale": [
             [
              0,
              "#0d0887"
             ],
             [
              0.1111111111111111,
              "#46039f"
             ],
             [
              0.2222222222222222,
              "#7201a8"
             ],
             [
              0.3333333333333333,
              "#9c179e"
             ],
             [
              0.4444444444444444,
              "#bd3786"
             ],
             [
              0.5555555555555556,
              "#d8576b"
             ],
             [
              0.6666666666666666,
              "#ed7953"
             ],
             [
              0.7777777777777778,
              "#fb9f3a"
             ],
             [
              0.8888888888888888,
              "#fdca26"
             ],
             [
              1,
              "#f0f921"
             ]
            ],
            "type": "heatmap"
           }
          ],
          "heatmapgl": [
           {
            "colorbar": {
             "outlinewidth": 0,
             "ticks": ""
            },
            "colorscale": [
             [
              0,
              "#0d0887"
             ],
             [
              0.1111111111111111,
              "#46039f"
             ],
             [
              0.2222222222222222,
              "#7201a8"
             ],
             [
              0.3333333333333333,
              "#9c179e"
             ],
             [
              0.4444444444444444,
              "#bd3786"
             ],
             [
              0.5555555555555556,
              "#d8576b"
             ],
             [
              0.6666666666666666,
              "#ed7953"
             ],
             [
              0.7777777777777778,
              "#fb9f3a"
             ],
             [
              0.8888888888888888,
              "#fdca26"
             ],
             [
              1,
              "#f0f921"
             ]
            ],
            "type": "heatmapgl"
           }
          ],
          "histogram": [
           {
            "marker": {
             "pattern": {
              "fillmode": "overlay",
              "size": 10,
              "solidity": 0.2
             }
            },
            "type": "histogram"
           }
          ],
          "histogram2d": [
           {
            "colorbar": {
             "outlinewidth": 0,
             "ticks": ""
            },
            "colorscale": [
             [
              0,
              "#0d0887"
             ],
             [
              0.1111111111111111,
              "#46039f"
             ],
             [
              0.2222222222222222,
              "#7201a8"
             ],
             [
              0.3333333333333333,
              "#9c179e"
             ],
             [
              0.4444444444444444,
              "#bd3786"
             ],
             [
              0.5555555555555556,
              "#d8576b"
             ],
             [
              0.6666666666666666,
              "#ed7953"
             ],
             [
              0.7777777777777778,
              "#fb9f3a"
             ],
             [
              0.8888888888888888,
              "#fdca26"
             ],
             [
              1,
              "#f0f921"
             ]
            ],
            "type": "histogram2d"
           }
          ],
          "histogram2dcontour": [
           {
            "colorbar": {
             "outlinewidth": 0,
             "ticks": ""
            },
            "colorscale": [
             [
              0,
              "#0d0887"
             ],
             [
              0.1111111111111111,
              "#46039f"
             ],
             [
              0.2222222222222222,
              "#7201a8"
             ],
             [
              0.3333333333333333,
              "#9c179e"
             ],
             [
              0.4444444444444444,
              "#bd3786"
             ],
             [
              0.5555555555555556,
              "#d8576b"
             ],
             [
              0.6666666666666666,
              "#ed7953"
             ],
             [
              0.7777777777777778,
              "#fb9f3a"
             ],
             [
              0.8888888888888888,
              "#fdca26"
             ],
             [
              1,
              "#f0f921"
             ]
            ],
            "type": "histogram2dcontour"
           }
          ],
          "mesh3d": [
           {
            "colorbar": {
             "outlinewidth": 0,
             "ticks": ""
            },
            "type": "mesh3d"
           }
          ],
          "parcoords": [
           {
            "line": {
             "colorbar": {
              "outlinewidth": 0,
              "ticks": ""
             }
            },
            "type": "parcoords"
           }
          ],
          "pie": [
           {
            "automargin": true,
            "type": "pie"
           }
          ],
          "scatter": [
           {
            "marker": {
             "colorbar": {
              "outlinewidth": 0,
              "ticks": ""
             }
            },
            "type": "scatter"
           }
          ],
          "scatter3d": [
           {
            "line": {
             "colorbar": {
              "outlinewidth": 0,
              "ticks": ""
             }
            },
            "marker": {
             "colorbar": {
              "outlinewidth": 0,
              "ticks": ""
             }
            },
            "type": "scatter3d"
           }
          ],
          "scattercarpet": [
           {
            "marker": {
             "colorbar": {
              "outlinewidth": 0,
              "ticks": ""
             }
            },
            "type": "scattercarpet"
           }
          ],
          "scattergeo": [
           {
            "marker": {
             "colorbar": {
              "outlinewidth": 0,
              "ticks": ""
             }
            },
            "type": "scattergeo"
           }
          ],
          "scattergl": [
           {
            "marker": {
             "colorbar": {
              "outlinewidth": 0,
              "ticks": ""
             }
            },
            "type": "scattergl"
           }
          ],
          "scattermapbox": [
           {
            "marker": {
             "colorbar": {
              "outlinewidth": 0,
              "ticks": ""
             }
            },
            "type": "scattermapbox"
           }
          ],
          "scatterpolar": [
           {
            "marker": {
             "colorbar": {
              "outlinewidth": 0,
              "ticks": ""
             }
            },
            "type": "scatterpolar"
           }
          ],
          "scatterpolargl": [
           {
            "marker": {
             "colorbar": {
              "outlinewidth": 0,
              "ticks": ""
             }
            },
            "type": "scatterpolargl"
           }
          ],
          "scatterternary": [
           {
            "marker": {
             "colorbar": {
              "outlinewidth": 0,
              "ticks": ""
             }
            },
            "type": "scatterternary"
           }
          ],
          "surface": [
           {
            "colorbar": {
             "outlinewidth": 0,
             "ticks": ""
            },
            "colorscale": [
             [
              0,
              "#0d0887"
             ],
             [
              0.1111111111111111,
              "#46039f"
             ],
             [
              0.2222222222222222,
              "#7201a8"
             ],
             [
              0.3333333333333333,
              "#9c179e"
             ],
             [
              0.4444444444444444,
              "#bd3786"
             ],
             [
              0.5555555555555556,
              "#d8576b"
             ],
             [
              0.6666666666666666,
              "#ed7953"
             ],
             [
              0.7777777777777778,
              "#fb9f3a"
             ],
             [
              0.8888888888888888,
              "#fdca26"
             ],
             [
              1,
              "#f0f921"
             ]
            ],
            "type": "surface"
           }
          ],
          "table": [
           {
            "cells": {
             "fill": {
              "color": "#EBF0F8"
             },
             "line": {
              "color": "white"
             }
            },
            "header": {
             "fill": {
              "color": "#C8D4E3"
             },
             "line": {
              "color": "white"
             }
            },
            "type": "table"
           }
          ]
         },
         "layout": {
          "annotationdefaults": {
           "arrowcolor": "#2a3f5f",
           "arrowhead": 0,
           "arrowwidth": 1
          },
          "autotypenumbers": "strict",
          "coloraxis": {
           "colorbar": {
            "outlinewidth": 0,
            "ticks": ""
           }
          },
          "colorscale": {
           "diverging": [
            [
             0,
             "#8e0152"
            ],
            [
             0.1,
             "#c51b7d"
            ],
            [
             0.2,
             "#de77ae"
            ],
            [
             0.3,
             "#f1b6da"
            ],
            [
             0.4,
             "#fde0ef"
            ],
            [
             0.5,
             "#f7f7f7"
            ],
            [
             0.6,
             "#e6f5d0"
            ],
            [
             0.7,
             "#b8e186"
            ],
            [
             0.8,
             "#7fbc41"
            ],
            [
             0.9,
             "#4d9221"
            ],
            [
             1,
             "#276419"
            ]
           ],
           "sequential": [
            [
             0,
             "#0d0887"
            ],
            [
             0.1111111111111111,
             "#46039f"
            ],
            [
             0.2222222222222222,
             "#7201a8"
            ],
            [
             0.3333333333333333,
             "#9c179e"
            ],
            [
             0.4444444444444444,
             "#bd3786"
            ],
            [
             0.5555555555555556,
             "#d8576b"
            ],
            [
             0.6666666666666666,
             "#ed7953"
            ],
            [
             0.7777777777777778,
             "#fb9f3a"
            ],
            [
             0.8888888888888888,
             "#fdca26"
            ],
            [
             1,
             "#f0f921"
            ]
           ],
           "sequentialminus": [
            [
             0,
             "#0d0887"
            ],
            [
             0.1111111111111111,
             "#46039f"
            ],
            [
             0.2222222222222222,
             "#7201a8"
            ],
            [
             0.3333333333333333,
             "#9c179e"
            ],
            [
             0.4444444444444444,
             "#bd3786"
            ],
            [
             0.5555555555555556,
             "#d8576b"
            ],
            [
             0.6666666666666666,
             "#ed7953"
            ],
            [
             0.7777777777777778,
             "#fb9f3a"
            ],
            [
             0.8888888888888888,
             "#fdca26"
            ],
            [
             1,
             "#f0f921"
            ]
           ]
          },
          "colorway": [
           "#636efa",
           "#EF553B",
           "#00cc96",
           "#ab63fa",
           "#FFA15A",
           "#19d3f3",
           "#FF6692",
           "#B6E880",
           "#FF97FF",
           "#FECB52"
          ],
          "font": {
           "color": "#2a3f5f"
          },
          "geo": {
           "bgcolor": "white",
           "lakecolor": "white",
           "landcolor": "#E5ECF6",
           "showlakes": true,
           "showland": true,
           "subunitcolor": "white"
          },
          "hoverlabel": {
           "align": "left"
          },
          "hovermode": "closest",
          "mapbox": {
           "style": "light"
          },
          "paper_bgcolor": "white",
          "plot_bgcolor": "#E5ECF6",
          "polar": {
           "angularaxis": {
            "gridcolor": "white",
            "linecolor": "white",
            "ticks": ""
           },
           "bgcolor": "#E5ECF6",
           "radialaxis": {
            "gridcolor": "white",
            "linecolor": "white",
            "ticks": ""
           }
          },
          "scene": {
           "xaxis": {
            "backgroundcolor": "#E5ECF6",
            "gridcolor": "white",
            "gridwidth": 2,
            "linecolor": "white",
            "showbackground": true,
            "ticks": "",
            "zerolinecolor": "white"
           },
           "yaxis": {
            "backgroundcolor": "#E5ECF6",
            "gridcolor": "white",
            "gridwidth": 2,
            "linecolor": "white",
            "showbackground": true,
            "ticks": "",
            "zerolinecolor": "white"
           },
           "zaxis": {
            "backgroundcolor": "#E5ECF6",
            "gridcolor": "white",
            "gridwidth": 2,
            "linecolor": "white",
            "showbackground": true,
            "ticks": "",
            "zerolinecolor": "white"
           }
          },
          "shapedefaults": {
           "line": {
            "color": "#2a3f5f"
           }
          },
          "ternary": {
           "aaxis": {
            "gridcolor": "white",
            "linecolor": "white",
            "ticks": ""
           },
           "baxis": {
            "gridcolor": "white",
            "linecolor": "white",
            "ticks": ""
           },
           "bgcolor": "#E5ECF6",
           "caxis": {
            "gridcolor": "white",
            "linecolor": "white",
            "ticks": ""
           }
          },
          "title": {
           "x": 0.05
          },
          "xaxis": {
           "automargin": true,
           "gridcolor": "white",
           "linecolor": "white",
           "ticks": "",
           "title": {
            "standoff": 15
           },
           "zerolinecolor": "white",
           "zerolinewidth": 2
          },
          "yaxis": {
           "automargin": true,
           "gridcolor": "white",
           "linecolor": "white",
           "ticks": "",
           "title": {
            "standoff": 15
           },
           "zerolinecolor": "white",
           "zerolinewidth": 2
          }
         }
        },
        "xaxis": {
         "anchor": "y",
         "domain": [
          0,
          1
         ],
         "title": {
          "text": "incident_city"
         }
        },
        "yaxis": {
         "anchor": "x",
         "domain": [
          0,
          1
         ],
         "title": {
          "text": "count"
         }
        }
       }
      }
     },
     "metadata": {},
     "output_type": "display_data"
    }
   ],
   "source": [
    "fig = px.histogram(df, x=\"incident_city\", color=\"fraud_reported\")\n",
    "fig.show()"
   ]
  },
  {
   "cell_type": "code",
   "execution_count": 38,
   "metadata": {},
   "outputs": [
    {
     "data": {
      "application/vnd.plotly.v1+json": {
       "config": {
        "plotlyServerURL": "https://plot.ly"
       },
       "data": [
        {
         "alignmentgroup": "True",
         "bingroup": "x",
         "hovertemplate": "fraud_reported=Y<br>property_damage=%{x}<br>count=%{y}<extra></extra>",
         "legendgroup": "Y",
         "marker": {
          "color": "#636efa",
          "pattern": {
           "shape": ""
          }
         },
         "name": "Y",
         "offsetgroup": "Y",
         "orientation": "v",
         "showlegend": true,
         "type": "histogram",
         "x": [
          "YES",
          "?",
          "?",
          "NO",
          "NO",
          "YES",
          "NO",
          "?",
          "NO",
          "YES",
          "NO",
          "YES",
          "?",
          "?",
          "?",
          "NO",
          "YES",
          "YES",
          "NO",
          "YES",
          "YES",
          "?",
          "NO",
          "?",
          "?",
          "YES",
          "NO",
          "YES",
          "YES",
          "?",
          "?",
          "NO",
          "YES",
          "NO",
          "?",
          "NO",
          "?",
          "YES",
          "?",
          "NO",
          "?",
          "YES",
          "?",
          "NO",
          "?",
          "YES",
          "NO",
          "YES",
          "YES",
          "?",
          "?",
          "?",
          "YES",
          "?",
          "?",
          "?",
          "?",
          "YES",
          "?",
          "?",
          "YES",
          "?",
          "?",
          "NO",
          "YES",
          "YES",
          "?",
          "YES",
          "NO",
          "?",
          "NO",
          "YES",
          "?",
          "?",
          "NO",
          "?",
          "YES",
          "NO",
          "?",
          "NO",
          "?",
          "YES",
          "?",
          "?",
          "?",
          "?",
          "NO",
          "NO",
          "?",
          "YES",
          "YES",
          "?",
          "NO",
          "?",
          "YES",
          "?",
          "?",
          "?",
          "?",
          "?",
          "YES",
          "YES",
          "NO",
          "NO",
          "?",
          "?",
          "YES",
          "?",
          "?",
          "YES",
          "NO",
          "YES",
          "NO",
          "?",
          "?",
          "?",
          "YES",
          "?",
          "YES",
          "YES",
          "?",
          "NO",
          "NO",
          "?",
          "?",
          "NO",
          "?",
          "NO",
          "NO",
          "NO",
          "NO",
          "NO",
          "?",
          "YES",
          "?",
          "?",
          "YES",
          "NO",
          "YES",
          "YES",
          "YES",
          "YES",
          "YES",
          "NO",
          "NO",
          "?",
          "NO",
          "NO",
          "YES",
          "?",
          "?",
          "?",
          "YES",
          "?",
          "?",
          "NO",
          "?",
          "?",
          "?",
          "NO",
          "?",
          "YES",
          "?",
          "?",
          "NO",
          "?",
          "NO",
          "NO",
          "?",
          "NO",
          "?",
          "NO",
          "YES",
          "?",
          "YES",
          "NO",
          "NO",
          "?",
          "YES",
          "YES",
          "YES",
          "NO",
          "NO",
          "NO",
          "?",
          "NO",
          "YES",
          "YES",
          "YES",
          "?",
          "?",
          "NO",
          "YES",
          "?",
          "NO",
          "YES",
          "?",
          "?",
          "NO",
          "YES",
          "YES",
          "YES",
          "?",
          "YES",
          "?",
          "NO",
          "?",
          "NO",
          "YES",
          "YES",
          "NO",
          "YES",
          "?",
          "?",
          "YES",
          "NO",
          "?",
          "NO",
          "YES",
          "YES",
          "NO",
          "YES",
          "NO",
          "?",
          "YES",
          "?",
          "NO",
          "YES",
          "YES",
          "YES",
          "?",
          "YES",
          "YES",
          "YES",
          "?",
          "?",
          "?",
          "?",
          "?",
          "YES",
          "?",
          "YES",
          "NO",
          "?",
          "?",
          "YES",
          "?"
         ],
         "xaxis": "x",
         "yaxis": "y"
        },
        {
         "alignmentgroup": "True",
         "bingroup": "x",
         "hovertemplate": "fraud_reported=N<br>property_damage=%{x}<br>count=%{y}<extra></extra>",
         "legendgroup": "N",
         "marker": {
          "color": "#EF553B",
          "pattern": {
           "shape": ""
          }
         },
         "name": "N",
         "offsetgroup": "N",
         "orientation": "v",
         "showlegend": true,
         "type": "histogram",
         "x": [
          "NO",
          "NO",
          "?",
          "?",
          "NO",
          "NO",
          "YES",
          "YES",
          "YES",
          "NO",
          "?",
          "NO",
          "YES",
          "?",
          "NO",
          "?",
          "NO",
          "YES",
          "NO",
          "NO",
          "NO",
          "YES",
          "NO",
          "YES",
          "NO",
          "?",
          "NO",
          "YES",
          "NO",
          "YES",
          "NO",
          "YES",
          "?",
          "NO",
          "?",
          "?",
          "?",
          "YES",
          "NO",
          "YES",
          "?",
          "NO",
          "YES",
          "NO",
          "NO",
          "NO",
          "NO",
          "NO",
          "NO",
          "NO",
          "NO",
          "YES",
          "NO",
          "NO",
          "NO",
          "YES",
          "NO",
          "?",
          "YES",
          "NO",
          "YES",
          "NO",
          "?",
          "NO",
          "YES",
          "NO",
          "NO",
          "NO",
          "NO",
          "?",
          "NO",
          "YES",
          "YES",
          "?",
          "NO",
          "NO",
          "YES",
          "NO",
          "?",
          "?",
          "?",
          "YES",
          "NO",
          "NO",
          "?",
          "NO",
          "YES",
          "YES",
          "NO",
          "NO",
          "?",
          "YES",
          "?",
          "?",
          "?",
          "?",
          "?",
          "NO",
          "?",
          "NO",
          "YES",
          "?",
          "?",
          "?",
          "?",
          "?",
          "?",
          "NO",
          "?",
          "?",
          "?",
          "?",
          "YES",
          "?",
          "NO",
          "NO",
          "NO",
          "NO",
          "?",
          "NO",
          "YES",
          "YES",
          "?",
          "NO",
          "?",
          "NO",
          "YES",
          "YES",
          "?",
          "?",
          "YES",
          "YES",
          "?",
          "?",
          "YES",
          "NO",
          "YES",
          "?",
          "NO",
          "YES",
          "?",
          "YES",
          "YES",
          "YES",
          "?",
          "NO",
          "?",
          "NO",
          "YES",
          "NO",
          "NO",
          "?",
          "NO",
          "NO",
          "NO",
          "?",
          "YES",
          "NO",
          "?",
          "NO",
          "NO",
          "YES",
          "?",
          "?",
          "YES",
          "YES",
          "YES",
          "?",
          "NO",
          "NO",
          "?",
          "?",
          "NO",
          "YES",
          "?",
          "YES",
          "?",
          "?",
          "?",
          "YES",
          "YES",
          "?",
          "?",
          "YES",
          "NO",
          "YES",
          "YES",
          "?",
          "?",
          "NO",
          "NO",
          "NO",
          "YES",
          "YES",
          "?",
          "NO",
          "?",
          "NO",
          "?",
          "YES",
          "YES",
          "NO",
          "YES",
          "?",
          "YES",
          "YES",
          "?",
          "NO",
          "YES",
          "?",
          "YES",
          "?",
          "YES",
          "?",
          "YES",
          "NO",
          "NO",
          "YES",
          "YES",
          "?",
          "YES",
          "?",
          "NO",
          "?",
          "?",
          "YES",
          "NO",
          "NO",
          "YES",
          "?",
          "YES",
          "YES",
          "?",
          "NO",
          "YES",
          "YES",
          "YES",
          "?",
          "NO",
          "?",
          "?",
          "NO",
          "NO",
          "YES",
          "?",
          "?",
          "YES",
          "?",
          "YES",
          "YES",
          "?",
          "YES",
          "YES",
          "NO",
          "?",
          "YES",
          "NO",
          "YES",
          "YES",
          "NO",
          "YES",
          "?",
          "NO",
          "YES",
          "YES",
          "?",
          "NO",
          "?",
          "?",
          "?",
          "?",
          "?",
          "?",
          "YES",
          "NO",
          "NO",
          "NO",
          "?",
          "YES",
          "YES",
          "YES",
          "?",
          "NO",
          "?",
          "YES",
          "NO",
          "YES",
          "?",
          "NO",
          "YES",
          "YES",
          "?",
          "?",
          "?",
          "?",
          "?",
          "NO",
          "?",
          "YES",
          "NO",
          "?",
          "YES",
          "NO",
          "?",
          "YES",
          "NO",
          "NO",
          "NO",
          "?",
          "?",
          "?",
          "NO",
          "?",
          "YES",
          "YES",
          "?",
          "?",
          "?",
          "NO",
          "?",
          "NO",
          "YES",
          "NO",
          "NO",
          "NO",
          "NO",
          "YES",
          "YES",
          "NO",
          "?",
          "YES",
          "NO",
          "YES",
          "?",
          "?",
          "YES",
          "?",
          "YES",
          "YES",
          "YES",
          "NO",
          "YES",
          "?",
          "NO",
          "?",
          "?",
          "NO",
          "YES",
          "NO",
          "NO",
          "NO",
          "NO",
          "NO",
          "YES",
          "NO",
          "?",
          "NO",
          "?",
          "NO",
          "YES",
          "YES",
          "NO",
          "?",
          "?",
          "?",
          "?",
          "YES",
          "?",
          "NO",
          "YES",
          "?",
          "NO",
          "NO",
          "NO",
          "?",
          "YES",
          "NO",
          "?",
          "?",
          "NO",
          "?",
          "?",
          "NO",
          "NO",
          "NO",
          "YES",
          "NO",
          "YES",
          "NO",
          "YES",
          "NO",
          "NO",
          "?",
          "?",
          "?",
          "NO",
          "NO",
          "NO",
          "?",
          "YES",
          "NO",
          "?",
          "?",
          "YES",
          "YES",
          "?",
          "?",
          "?",
          "?",
          "?",
          "YES",
          "YES",
          "YES",
          "?",
          "NO",
          "?",
          "YES",
          "?",
          "YES",
          "?",
          "NO",
          "NO",
          "YES",
          "NO",
          "NO",
          "NO",
          "NO",
          "YES",
          "?",
          "YES",
          "NO",
          "YES",
          "YES",
          "NO",
          "?",
          "?",
          "YES",
          "NO",
          "?",
          "?",
          "NO",
          "NO",
          "YES",
          "?",
          "?",
          "NO",
          "?",
          "NO",
          "?",
          "NO",
          "?",
          "YES",
          "NO",
          "NO",
          "NO",
          "?",
          "?",
          "NO",
          "?",
          "?",
          "NO",
          "?",
          "NO",
          "?",
          "?",
          "YES",
          "YES",
          "YES",
          "?",
          "?",
          "NO",
          "NO",
          "YES",
          "YES",
          "NO",
          "?",
          "?",
          "NO",
          "?",
          "?",
          "YES",
          "NO",
          "NO",
          "?",
          "YES",
          "NO",
          "NO",
          "YES",
          "?",
          "?",
          "?",
          "NO",
          "YES",
          "YES",
          "NO",
          "?",
          "YES",
          "NO",
          "NO",
          "?",
          "NO",
          "YES",
          "?",
          "NO",
          "NO",
          "YES",
          "YES",
          "?",
          "NO",
          "?",
          "YES",
          "NO",
          "NO",
          "NO",
          "?",
          "YES",
          "NO",
          "YES",
          "YES",
          "NO",
          "?",
          "NO",
          "?",
          "?",
          "YES",
          "YES",
          "YES",
          "NO",
          "YES",
          "NO",
          "NO",
          "YES",
          "NO",
          "YES",
          "?",
          "NO",
          "NO",
          "?",
          "NO",
          "NO",
          "?",
          "YES",
          "?",
          "NO",
          "NO",
          "NO",
          "?",
          "?",
          "YES",
          "?",
          "NO",
          "YES",
          "NO",
          "YES",
          "NO",
          "NO",
          "NO",
          "YES",
          "?",
          "YES",
          "?",
          "?",
          "YES",
          "NO",
          "?",
          "?",
          "YES",
          "?",
          "YES",
          "YES",
          "YES",
          "?",
          "NO",
          "?",
          "?",
          "YES",
          "NO",
          "YES",
          "NO",
          "?",
          "YES",
          "?",
          "?",
          "NO",
          "NO",
          "NO",
          "YES",
          "NO",
          "?",
          "YES",
          "YES",
          "YES",
          "NO",
          "?",
          "YES",
          "NO",
          "YES",
          "YES",
          "?",
          "?",
          "YES",
          "NO",
          "YES",
          "NO",
          "?",
          "NO",
          "NO",
          "?",
          "NO",
          "?",
          "?",
          "YES",
          "YES",
          "?",
          "?",
          "?",
          "YES",
          "?",
          "?",
          "NO",
          "NO",
          "NO",
          "YES",
          "NO",
          "YES",
          "?",
          "NO",
          "NO",
          "NO",
          "?",
          "NO",
          "NO",
          "NO",
          "YES",
          "NO",
          "YES",
          "NO",
          "NO",
          "NO",
          "?",
          "?",
          "NO",
          "?",
          "NO",
          "NO",
          "YES",
          "YES",
          "?",
          "YES",
          "NO",
          "NO",
          "?",
          "NO",
          "?",
          "YES",
          "YES",
          "?",
          "YES",
          "?",
          "NO",
          "YES",
          "NO",
          "NO",
          "YES",
          "NO",
          "YES",
          "?",
          "?",
          "YES",
          "?",
          "NO",
          "NO",
          "NO",
          "YES",
          "YES",
          "YES",
          "NO",
          "YES",
          "YES",
          "NO",
          "?",
          "YES",
          "?",
          "NO",
          "?",
          "?",
          "YES",
          "?",
          "NO",
          "YES",
          "NO",
          "NO",
          "NO",
          "YES",
          "NO",
          "?",
          "YES",
          "NO",
          "?",
          "YES",
          "NO",
          "?",
          "?",
          "?",
          "?",
          "NO",
          "YES",
          "YES",
          "NO",
          "NO",
          "NO",
          "?",
          "NO",
          "?",
          "NO",
          "NO",
          "YES",
          "YES",
          "YES",
          "NO",
          "NO",
          "NO",
          "NO",
          "?",
          "NO",
          "NO",
          "?",
          "YES",
          "NO",
          "?",
          "YES",
          "NO",
          "YES",
          "?",
          "?",
          "NO",
          "YES",
          "?",
          "?",
          "YES",
          "?",
          "YES",
          "YES",
          "?",
          "NO",
          "YES",
          "?",
          "?",
          "YES",
          "YES",
          "?",
          "?",
          "?"
         ],
         "xaxis": "x",
         "yaxis": "y"
        }
       ],
       "layout": {
        "barmode": "relative",
        "legend": {
         "title": {
          "text": "fraud_reported"
         },
         "tracegroupgap": 0
        },
        "margin": {
         "t": 60
        },
        "template": {
         "data": {
          "bar": [
           {
            "error_x": {
             "color": "#2a3f5f"
            },
            "error_y": {
             "color": "#2a3f5f"
            },
            "marker": {
             "line": {
              "color": "#E5ECF6",
              "width": 0.5
             },
             "pattern": {
              "fillmode": "overlay",
              "size": 10,
              "solidity": 0.2
             }
            },
            "type": "bar"
           }
          ],
          "barpolar": [
           {
            "marker": {
             "line": {
              "color": "#E5ECF6",
              "width": 0.5
             },
             "pattern": {
              "fillmode": "overlay",
              "size": 10,
              "solidity": 0.2
             }
            },
            "type": "barpolar"
           }
          ],
          "carpet": [
           {
            "aaxis": {
             "endlinecolor": "#2a3f5f",
             "gridcolor": "white",
             "linecolor": "white",
             "minorgridcolor": "white",
             "startlinecolor": "#2a3f5f"
            },
            "baxis": {
             "endlinecolor": "#2a3f5f",
             "gridcolor": "white",
             "linecolor": "white",
             "minorgridcolor": "white",
             "startlinecolor": "#2a3f5f"
            },
            "type": "carpet"
           }
          ],
          "choropleth": [
           {
            "colorbar": {
             "outlinewidth": 0,
             "ticks": ""
            },
            "type": "choropleth"
           }
          ],
          "contour": [
           {
            "colorbar": {
             "outlinewidth": 0,
             "ticks": ""
            },
            "colorscale": [
             [
              0,
              "#0d0887"
             ],
             [
              0.1111111111111111,
              "#46039f"
             ],
             [
              0.2222222222222222,
              "#7201a8"
             ],
             [
              0.3333333333333333,
              "#9c179e"
             ],
             [
              0.4444444444444444,
              "#bd3786"
             ],
             [
              0.5555555555555556,
              "#d8576b"
             ],
             [
              0.6666666666666666,
              "#ed7953"
             ],
             [
              0.7777777777777778,
              "#fb9f3a"
             ],
             [
              0.8888888888888888,
              "#fdca26"
             ],
             [
              1,
              "#f0f921"
             ]
            ],
            "type": "contour"
           }
          ],
          "contourcarpet": [
           {
            "colorbar": {
             "outlinewidth": 0,
             "ticks": ""
            },
            "type": "contourcarpet"
           }
          ],
          "heatmap": [
           {
            "colorbar": {
             "outlinewidth": 0,
             "ticks": ""
            },
            "colorscale": [
             [
              0,
              "#0d0887"
             ],
             [
              0.1111111111111111,
              "#46039f"
             ],
             [
              0.2222222222222222,
              "#7201a8"
             ],
             [
              0.3333333333333333,
              "#9c179e"
             ],
             [
              0.4444444444444444,
              "#bd3786"
             ],
             [
              0.5555555555555556,
              "#d8576b"
             ],
             [
              0.6666666666666666,
              "#ed7953"
             ],
             [
              0.7777777777777778,
              "#fb9f3a"
             ],
             [
              0.8888888888888888,
              "#fdca26"
             ],
             [
              1,
              "#f0f921"
             ]
            ],
            "type": "heatmap"
           }
          ],
          "heatmapgl": [
           {
            "colorbar": {
             "outlinewidth": 0,
             "ticks": ""
            },
            "colorscale": [
             [
              0,
              "#0d0887"
             ],
             [
              0.1111111111111111,
              "#46039f"
             ],
             [
              0.2222222222222222,
              "#7201a8"
             ],
             [
              0.3333333333333333,
              "#9c179e"
             ],
             [
              0.4444444444444444,
              "#bd3786"
             ],
             [
              0.5555555555555556,
              "#d8576b"
             ],
             [
              0.6666666666666666,
              "#ed7953"
             ],
             [
              0.7777777777777778,
              "#fb9f3a"
             ],
             [
              0.8888888888888888,
              "#fdca26"
             ],
             [
              1,
              "#f0f921"
             ]
            ],
            "type": "heatmapgl"
           }
          ],
          "histogram": [
           {
            "marker": {
             "pattern": {
              "fillmode": "overlay",
              "size": 10,
              "solidity": 0.2
             }
            },
            "type": "histogram"
           }
          ],
          "histogram2d": [
           {
            "colorbar": {
             "outlinewidth": 0,
             "ticks": ""
            },
            "colorscale": [
             [
              0,
              "#0d0887"
             ],
             [
              0.1111111111111111,
              "#46039f"
             ],
             [
              0.2222222222222222,
              "#7201a8"
             ],
             [
              0.3333333333333333,
              "#9c179e"
             ],
             [
              0.4444444444444444,
              "#bd3786"
             ],
             [
              0.5555555555555556,
              "#d8576b"
             ],
             [
              0.6666666666666666,
              "#ed7953"
             ],
             [
              0.7777777777777778,
              "#fb9f3a"
             ],
             [
              0.8888888888888888,
              "#fdca26"
             ],
             [
              1,
              "#f0f921"
             ]
            ],
            "type": "histogram2d"
           }
          ],
          "histogram2dcontour": [
           {
            "colorbar": {
             "outlinewidth": 0,
             "ticks": ""
            },
            "colorscale": [
             [
              0,
              "#0d0887"
             ],
             [
              0.1111111111111111,
              "#46039f"
             ],
             [
              0.2222222222222222,
              "#7201a8"
             ],
             [
              0.3333333333333333,
              "#9c179e"
             ],
             [
              0.4444444444444444,
              "#bd3786"
             ],
             [
              0.5555555555555556,
              "#d8576b"
             ],
             [
              0.6666666666666666,
              "#ed7953"
             ],
             [
              0.7777777777777778,
              "#fb9f3a"
             ],
             [
              0.8888888888888888,
              "#fdca26"
             ],
             [
              1,
              "#f0f921"
             ]
            ],
            "type": "histogram2dcontour"
           }
          ],
          "mesh3d": [
           {
            "colorbar": {
             "outlinewidth": 0,
             "ticks": ""
            },
            "type": "mesh3d"
           }
          ],
          "parcoords": [
           {
            "line": {
             "colorbar": {
              "outlinewidth": 0,
              "ticks": ""
             }
            },
            "type": "parcoords"
           }
          ],
          "pie": [
           {
            "automargin": true,
            "type": "pie"
           }
          ],
          "scatter": [
           {
            "marker": {
             "colorbar": {
              "outlinewidth": 0,
              "ticks": ""
             }
            },
            "type": "scatter"
           }
          ],
          "scatter3d": [
           {
            "line": {
             "colorbar": {
              "outlinewidth": 0,
              "ticks": ""
             }
            },
            "marker": {
             "colorbar": {
              "outlinewidth": 0,
              "ticks": ""
             }
            },
            "type": "scatter3d"
           }
          ],
          "scattercarpet": [
           {
            "marker": {
             "colorbar": {
              "outlinewidth": 0,
              "ticks": ""
             }
            },
            "type": "scattercarpet"
           }
          ],
          "scattergeo": [
           {
            "marker": {
             "colorbar": {
              "outlinewidth": 0,
              "ticks": ""
             }
            },
            "type": "scattergeo"
           }
          ],
          "scattergl": [
           {
            "marker": {
             "colorbar": {
              "outlinewidth": 0,
              "ticks": ""
             }
            },
            "type": "scattergl"
           }
          ],
          "scattermapbox": [
           {
            "marker": {
             "colorbar": {
              "outlinewidth": 0,
              "ticks": ""
             }
            },
            "type": "scattermapbox"
           }
          ],
          "scatterpolar": [
           {
            "marker": {
             "colorbar": {
              "outlinewidth": 0,
              "ticks": ""
             }
            },
            "type": "scatterpolar"
           }
          ],
          "scatterpolargl": [
           {
            "marker": {
             "colorbar": {
              "outlinewidth": 0,
              "ticks": ""
             }
            },
            "type": "scatterpolargl"
           }
          ],
          "scatterternary": [
           {
            "marker": {
             "colorbar": {
              "outlinewidth": 0,
              "ticks": ""
             }
            },
            "type": "scatterternary"
           }
          ],
          "surface": [
           {
            "colorbar": {
             "outlinewidth": 0,
             "ticks": ""
            },
            "colorscale": [
             [
              0,
              "#0d0887"
             ],
             [
              0.1111111111111111,
              "#46039f"
             ],
             [
              0.2222222222222222,
              "#7201a8"
             ],
             [
              0.3333333333333333,
              "#9c179e"
             ],
             [
              0.4444444444444444,
              "#bd3786"
             ],
             [
              0.5555555555555556,
              "#d8576b"
             ],
             [
              0.6666666666666666,
              "#ed7953"
             ],
             [
              0.7777777777777778,
              "#fb9f3a"
             ],
             [
              0.8888888888888888,
              "#fdca26"
             ],
             [
              1,
              "#f0f921"
             ]
            ],
            "type": "surface"
           }
          ],
          "table": [
           {
            "cells": {
             "fill": {
              "color": "#EBF0F8"
             },
             "line": {
              "color": "white"
             }
            },
            "header": {
             "fill": {
              "color": "#C8D4E3"
             },
             "line": {
              "color": "white"
             }
            },
            "type": "table"
           }
          ]
         },
         "layout": {
          "annotationdefaults": {
           "arrowcolor": "#2a3f5f",
           "arrowhead": 0,
           "arrowwidth": 1
          },
          "autotypenumbers": "strict",
          "coloraxis": {
           "colorbar": {
            "outlinewidth": 0,
            "ticks": ""
           }
          },
          "colorscale": {
           "diverging": [
            [
             0,
             "#8e0152"
            ],
            [
             0.1,
             "#c51b7d"
            ],
            [
             0.2,
             "#de77ae"
            ],
            [
             0.3,
             "#f1b6da"
            ],
            [
             0.4,
             "#fde0ef"
            ],
            [
             0.5,
             "#f7f7f7"
            ],
            [
             0.6,
             "#e6f5d0"
            ],
            [
             0.7,
             "#b8e186"
            ],
            [
             0.8,
             "#7fbc41"
            ],
            [
             0.9,
             "#4d9221"
            ],
            [
             1,
             "#276419"
            ]
           ],
           "sequential": [
            [
             0,
             "#0d0887"
            ],
            [
             0.1111111111111111,
             "#46039f"
            ],
            [
             0.2222222222222222,
             "#7201a8"
            ],
            [
             0.3333333333333333,
             "#9c179e"
            ],
            [
             0.4444444444444444,
             "#bd3786"
            ],
            [
             0.5555555555555556,
             "#d8576b"
            ],
            [
             0.6666666666666666,
             "#ed7953"
            ],
            [
             0.7777777777777778,
             "#fb9f3a"
            ],
            [
             0.8888888888888888,
             "#fdca26"
            ],
            [
             1,
             "#f0f921"
            ]
           ],
           "sequentialminus": [
            [
             0,
             "#0d0887"
            ],
            [
             0.1111111111111111,
             "#46039f"
            ],
            [
             0.2222222222222222,
             "#7201a8"
            ],
            [
             0.3333333333333333,
             "#9c179e"
            ],
            [
             0.4444444444444444,
             "#bd3786"
            ],
            [
             0.5555555555555556,
             "#d8576b"
            ],
            [
             0.6666666666666666,
             "#ed7953"
            ],
            [
             0.7777777777777778,
             "#fb9f3a"
            ],
            [
             0.8888888888888888,
             "#fdca26"
            ],
            [
             1,
             "#f0f921"
            ]
           ]
          },
          "colorway": [
           "#636efa",
           "#EF553B",
           "#00cc96",
           "#ab63fa",
           "#FFA15A",
           "#19d3f3",
           "#FF6692",
           "#B6E880",
           "#FF97FF",
           "#FECB52"
          ],
          "font": {
           "color": "#2a3f5f"
          },
          "geo": {
           "bgcolor": "white",
           "lakecolor": "white",
           "landcolor": "#E5ECF6",
           "showlakes": true,
           "showland": true,
           "subunitcolor": "white"
          },
          "hoverlabel": {
           "align": "left"
          },
          "hovermode": "closest",
          "mapbox": {
           "style": "light"
          },
          "paper_bgcolor": "white",
          "plot_bgcolor": "#E5ECF6",
          "polar": {
           "angularaxis": {
            "gridcolor": "white",
            "linecolor": "white",
            "ticks": ""
           },
           "bgcolor": "#E5ECF6",
           "radialaxis": {
            "gridcolor": "white",
            "linecolor": "white",
            "ticks": ""
           }
          },
          "scene": {
           "xaxis": {
            "backgroundcolor": "#E5ECF6",
            "gridcolor": "white",
            "gridwidth": 2,
            "linecolor": "white",
            "showbackground": true,
            "ticks": "",
            "zerolinecolor": "white"
           },
           "yaxis": {
            "backgroundcolor": "#E5ECF6",
            "gridcolor": "white",
            "gridwidth": 2,
            "linecolor": "white",
            "showbackground": true,
            "ticks": "",
            "zerolinecolor": "white"
           },
           "zaxis": {
            "backgroundcolor": "#E5ECF6",
            "gridcolor": "white",
            "gridwidth": 2,
            "linecolor": "white",
            "showbackground": true,
            "ticks": "",
            "zerolinecolor": "white"
           }
          },
          "shapedefaults": {
           "line": {
            "color": "#2a3f5f"
           }
          },
          "ternary": {
           "aaxis": {
            "gridcolor": "white",
            "linecolor": "white",
            "ticks": ""
           },
           "baxis": {
            "gridcolor": "white",
            "linecolor": "white",
            "ticks": ""
           },
           "bgcolor": "#E5ECF6",
           "caxis": {
            "gridcolor": "white",
            "linecolor": "white",
            "ticks": ""
           }
          },
          "title": {
           "x": 0.05
          },
          "xaxis": {
           "automargin": true,
           "gridcolor": "white",
           "linecolor": "white",
           "ticks": "",
           "title": {
            "standoff": 15
           },
           "zerolinecolor": "white",
           "zerolinewidth": 2
          },
          "yaxis": {
           "automargin": true,
           "gridcolor": "white",
           "linecolor": "white",
           "ticks": "",
           "title": {
            "standoff": 15
           },
           "zerolinecolor": "white",
           "zerolinewidth": 2
          }
         }
        },
        "xaxis": {
         "anchor": "y",
         "domain": [
          0,
          1
         ],
         "title": {
          "text": "property_damage"
         }
        },
        "yaxis": {
         "anchor": "x",
         "domain": [
          0,
          1
         ],
         "title": {
          "text": "count"
         }
        }
       }
      }
     },
     "metadata": {},
     "output_type": "display_data"
    }
   ],
   "source": [
    "fig = px.histogram(df, x=\"property_damage\", color=\"fraud_reported\")\n",
    "fig.show()"
   ]
  },
  {
   "cell_type": "code",
   "execution_count": 39,
   "metadata": {},
   "outputs": [
    {
     "data": {
      "application/vnd.plotly.v1+json": {
       "config": {
        "plotlyServerURL": "https://plot.ly"
       },
       "data": [
        {
         "alignmentgroup": "True",
         "bingroup": "x",
         "hovertemplate": "fraud_reported=Y<br>number_of_vehicles_involved=%{x}<br>count=%{y}<extra></extra>",
         "legendgroup": "Y",
         "marker": {
          "color": "#636efa",
          "pattern": {
           "shape": ""
          }
         },
         "name": "Y",
         "offsetgroup": "Y",
         "orientation": "v",
         "showlegend": true,
         "type": "histogram",
         "x": [
          1,
          1,
          1,
          3,
          1,
          4,
          3,
          1,
          3,
          1,
          3,
          1,
          1,
          1,
          1,
          3,
          3,
          3,
          3,
          3,
          1,
          2,
          1,
          1,
          2,
          3,
          1,
          1,
          4,
          3,
          1,
          3,
          1,
          3,
          3,
          1,
          1,
          1,
          3,
          1,
          1,
          1,
          3,
          1,
          1,
          3,
          3,
          1,
          1,
          1,
          1,
          1,
          1,
          3,
          1,
          1,
          3,
          1,
          3,
          1,
          1,
          1,
          3,
          3,
          1,
          1,
          3,
          2,
          3,
          1,
          3,
          1,
          3,
          1,
          3,
          3,
          4,
          1,
          3,
          1,
          1,
          1,
          3,
          4,
          1,
          1,
          3,
          3,
          3,
          1,
          2,
          3,
          1,
          3,
          3,
          1,
          1,
          1,
          3,
          1,
          3,
          3,
          3,
          1,
          1,
          1,
          1,
          3,
          3,
          1,
          4,
          3,
          1,
          3,
          4,
          3,
          1,
          1,
          1,
          1,
          1,
          1,
          3,
          1,
          1,
          1,
          1,
          1,
          1,
          3,
          3,
          3,
          1,
          2,
          3,
          3,
          1,
          1,
          1,
          1,
          3,
          1,
          1,
          3,
          1,
          3,
          1,
          1,
          3,
          1,
          2,
          1,
          1,
          1,
          1,
          1,
          2,
          1,
          1,
          1,
          2,
          1,
          1,
          3,
          1,
          3,
          3,
          3,
          3,
          1,
          3,
          4,
          1,
          1,
          3,
          2,
          4,
          3,
          3,
          1,
          1,
          3,
          1,
          1,
          3,
          1,
          3,
          1,
          1,
          1,
          1,
          3,
          3,
          4,
          3,
          3,
          3,
          3,
          3,
          3,
          1,
          1,
          1,
          1,
          1,
          1,
          1,
          1,
          3,
          3,
          1,
          3,
          3,
          3,
          1,
          1,
          1,
          3,
          3,
          3,
          1,
          3,
          1,
          1,
          3,
          3,
          3,
          3,
          1,
          3,
          1,
          1,
          1,
          4,
          4,
          1,
          3,
          1,
          1,
          1,
          1,
          1,
          3,
          3,
          3,
          1,
          1
         ],
         "xaxis": "x",
         "yaxis": "y"
        },
        {
         "alignmentgroup": "True",
         "bingroup": "x",
         "hovertemplate": "fraud_reported=N<br>number_of_vehicles_involved=%{x}<br>count=%{y}<extra></extra>",
         "legendgroup": "N",
         "marker": {
          "color": "#EF553B",
          "pattern": {
           "shape": ""
          }
         },
         "name": "N",
         "offsetgroup": "N",
         "orientation": "v",
         "showlegend": true,
         "type": "histogram",
         "x": [
          3,
          1,
          3,
          3,
          1,
          1,
          1,
          3,
          1,
          1,
          3,
          1,
          1,
          3,
          3,
          3,
          1,
          1,
          1,
          1,
          4,
          3,
          3,
          1,
          1,
          3,
          1,
          3,
          1,
          1,
          3,
          3,
          1,
          1,
          3,
          1,
          1,
          3,
          1,
          1,
          3,
          1,
          1,
          3,
          3,
          1,
          3,
          1,
          1,
          1,
          3,
          3,
          3,
          3,
          3,
          1,
          3,
          1,
          1,
          1,
          3,
          3,
          1,
          1,
          2,
          1,
          3,
          3,
          1,
          1,
          1,
          1,
          1,
          3,
          1,
          3,
          1,
          2,
          1,
          3,
          2,
          1,
          1,
          1,
          3,
          1,
          4,
          1,
          3,
          1,
          1,
          3,
          3,
          3,
          1,
          1,
          1,
          3,
          3,
          3,
          1,
          1,
          1,
          3,
          1,
          1,
          3,
          3,
          3,
          1,
          3,
          1,
          1,
          1,
          2,
          3,
          3,
          3,
          1,
          1,
          3,
          3,
          3,
          1,
          1,
          1,
          1,
          1,
          1,
          3,
          1,
          1,
          1,
          3,
          1,
          1,
          1,
          1,
          1,
          1,
          3,
          2,
          1,
          1,
          1,
          1,
          1,
          1,
          3,
          3,
          1,
          3,
          4,
          1,
          1,
          1,
          3,
          1,
          1,
          3,
          1,
          1,
          3,
          3,
          1,
          2,
          3,
          1,
          1,
          1,
          4,
          3,
          3,
          1,
          1,
          1,
          1,
          1,
          3,
          1,
          1,
          1,
          1,
          1,
          3,
          3,
          1,
          1,
          3,
          1,
          1,
          3,
          3,
          3,
          3,
          1,
          3,
          3,
          3,
          3,
          3,
          3,
          1,
          3,
          1,
          3,
          1,
          1,
          1,
          3,
          1,
          1,
          3,
          1,
          1,
          2,
          1,
          3,
          3,
          1,
          3,
          3,
          3,
          1,
          3,
          3,
          1,
          3,
          3,
          3,
          1,
          3,
          1,
          3,
          3,
          3,
          3,
          1,
          1,
          1,
          1,
          1,
          3,
          1,
          1,
          3,
          1,
          1,
          1,
          1,
          1,
          3,
          1,
          1,
          1,
          3,
          1,
          3,
          3,
          1,
          1,
          1,
          1,
          4,
          3,
          2,
          1,
          4,
          3,
          1,
          1,
          3,
          3,
          1,
          1,
          3,
          1,
          1,
          3,
          1,
          1,
          3,
          3,
          3,
          1,
          1,
          1,
          1,
          1,
          2,
          1,
          1,
          3,
          3,
          3,
          1,
          1,
          1,
          1,
          3,
          3,
          1,
          1,
          1,
          1,
          1,
          1,
          1,
          1,
          1,
          1,
          1,
          1,
          1,
          4,
          3,
          1,
          1,
          1,
          1,
          1,
          1,
          1,
          3,
          1,
          1,
          1,
          1,
          1,
          4,
          1,
          1,
          1,
          3,
          1,
          3,
          1,
          1,
          1,
          1,
          3,
          3,
          1,
          3,
          3,
          3,
          3,
          3,
          3,
          1,
          3,
          3,
          1,
          2,
          1,
          1,
          1,
          3,
          1,
          1,
          3,
          3,
          1,
          1,
          1,
          4,
          1,
          1,
          1,
          1,
          1,
          1,
          3,
          1,
          3,
          3,
          1,
          1,
          1,
          1,
          1,
          1,
          3,
          1,
          1,
          1,
          4,
          3,
          1,
          1,
          3,
          1,
          1,
          1,
          1,
          3,
          1,
          3,
          3,
          3,
          1,
          1,
          1,
          3,
          3,
          1,
          1,
          1,
          3,
          3,
          1,
          1,
          3,
          1,
          1,
          3,
          3,
          1,
          1,
          4,
          1,
          1,
          3,
          1,
          3,
          3,
          3,
          1,
          1,
          2,
          1,
          4,
          2,
          3,
          1,
          1,
          1,
          1,
          2,
          3,
          1,
          3,
          1,
          1,
          3,
          3,
          1,
          1,
          2,
          1,
          1,
          1,
          4,
          1,
          3,
          3,
          1,
          3,
          1,
          3,
          2,
          1,
          3,
          1,
          1,
          1,
          1,
          4,
          1,
          3,
          2,
          1,
          1,
          1,
          1,
          2,
          1,
          3,
          1,
          1,
          3,
          3,
          1,
          1,
          3,
          3,
          1,
          1,
          1,
          1,
          1,
          3,
          1,
          3,
          3,
          1,
          1,
          1,
          3,
          3,
          1,
          3,
          1,
          1,
          1,
          3,
          1,
          3,
          3,
          1,
          1,
          1,
          1,
          1,
          3,
          3,
          1,
          1,
          1,
          3,
          3,
          1,
          1,
          1,
          1,
          1,
          1,
          1,
          1,
          1,
          3,
          1,
          1,
          1,
          1,
          1,
          3,
          3,
          1,
          1,
          1,
          1,
          1,
          1,
          3,
          3,
          3,
          1,
          1,
          3,
          1,
          3,
          3,
          3,
          1,
          1,
          1,
          4,
          3,
          3,
          3,
          1,
          1,
          1,
          1,
          3,
          3,
          1,
          3,
          3,
          1,
          3,
          3,
          1,
          1,
          3,
          4,
          1,
          1,
          3,
          3,
          3,
          1,
          1,
          1,
          1,
          4,
          3,
          1,
          1,
          3,
          1,
          3,
          3,
          1,
          1,
          1,
          1,
          3,
          1,
          1,
          1,
          1,
          3,
          1,
          3,
          1,
          1,
          3,
          1,
          4,
          1,
          1,
          1,
          3,
          1,
          1,
          1,
          1,
          3,
          3,
          1,
          1,
          4,
          1,
          1,
          1,
          1,
          1,
          3,
          1,
          3,
          1,
          3,
          1,
          3,
          3,
          1,
          3,
          3,
          3,
          1,
          3,
          3,
          3,
          3,
          1,
          3,
          1,
          1,
          2,
          1,
          1,
          1,
          1,
          1,
          3,
          1,
          1,
          1,
          3,
          1,
          1,
          1,
          3,
          1,
          2,
          1,
          1,
          1,
          1,
          3,
          1,
          1,
          1,
          1,
          3,
          1,
          3,
          3,
          3,
          1,
          3,
          1,
          2,
          1,
          4,
          1,
          1,
          3,
          1,
          3,
          1,
          1,
          3,
          1,
          1,
          3,
          3,
          3,
          3,
          1,
          1,
          1,
          3,
          1,
          3,
          1,
          3,
          1,
          1,
          3,
          1,
          1,
          3,
          1,
          1,
          1,
          3,
          1,
          3,
          1,
          3,
          1,
          1,
          1,
          1,
          3,
          3,
          1,
          1,
          1,
          2,
          3,
          1,
          1,
          1,
          3,
          1,
          1,
          1,
          1,
          3,
          1,
          1,
          3,
          3,
          1,
          1,
          1,
          3,
          1,
          1
         ],
         "xaxis": "x",
         "yaxis": "y"
        }
       ],
       "layout": {
        "barmode": "relative",
        "legend": {
         "title": {
          "text": "fraud_reported"
         },
         "tracegroupgap": 0
        },
        "margin": {
         "t": 60
        },
        "template": {
         "data": {
          "bar": [
           {
            "error_x": {
             "color": "#2a3f5f"
            },
            "error_y": {
             "color": "#2a3f5f"
            },
            "marker": {
             "line": {
              "color": "#E5ECF6",
              "width": 0.5
             },
             "pattern": {
              "fillmode": "overlay",
              "size": 10,
              "solidity": 0.2
             }
            },
            "type": "bar"
           }
          ],
          "barpolar": [
           {
            "marker": {
             "line": {
              "color": "#E5ECF6",
              "width": 0.5
             },
             "pattern": {
              "fillmode": "overlay",
              "size": 10,
              "solidity": 0.2
             }
            },
            "type": "barpolar"
           }
          ],
          "carpet": [
           {
            "aaxis": {
             "endlinecolor": "#2a3f5f",
             "gridcolor": "white",
             "linecolor": "white",
             "minorgridcolor": "white",
             "startlinecolor": "#2a3f5f"
            },
            "baxis": {
             "endlinecolor": "#2a3f5f",
             "gridcolor": "white",
             "linecolor": "white",
             "minorgridcolor": "white",
             "startlinecolor": "#2a3f5f"
            },
            "type": "carpet"
           }
          ],
          "choropleth": [
           {
            "colorbar": {
             "outlinewidth": 0,
             "ticks": ""
            },
            "type": "choropleth"
           }
          ],
          "contour": [
           {
            "colorbar": {
             "outlinewidth": 0,
             "ticks": ""
            },
            "colorscale": [
             [
              0,
              "#0d0887"
             ],
             [
              0.1111111111111111,
              "#46039f"
             ],
             [
              0.2222222222222222,
              "#7201a8"
             ],
             [
              0.3333333333333333,
              "#9c179e"
             ],
             [
              0.4444444444444444,
              "#bd3786"
             ],
             [
              0.5555555555555556,
              "#d8576b"
             ],
             [
              0.6666666666666666,
              "#ed7953"
             ],
             [
              0.7777777777777778,
              "#fb9f3a"
             ],
             [
              0.8888888888888888,
              "#fdca26"
             ],
             [
              1,
              "#f0f921"
             ]
            ],
            "type": "contour"
           }
          ],
          "contourcarpet": [
           {
            "colorbar": {
             "outlinewidth": 0,
             "ticks": ""
            },
            "type": "contourcarpet"
           }
          ],
          "heatmap": [
           {
            "colorbar": {
             "outlinewidth": 0,
             "ticks": ""
            },
            "colorscale": [
             [
              0,
              "#0d0887"
             ],
             [
              0.1111111111111111,
              "#46039f"
             ],
             [
              0.2222222222222222,
              "#7201a8"
             ],
             [
              0.3333333333333333,
              "#9c179e"
             ],
             [
              0.4444444444444444,
              "#bd3786"
             ],
             [
              0.5555555555555556,
              "#d8576b"
             ],
             [
              0.6666666666666666,
              "#ed7953"
             ],
             [
              0.7777777777777778,
              "#fb9f3a"
             ],
             [
              0.8888888888888888,
              "#fdca26"
             ],
             [
              1,
              "#f0f921"
             ]
            ],
            "type": "heatmap"
           }
          ],
          "heatmapgl": [
           {
            "colorbar": {
             "outlinewidth": 0,
             "ticks": ""
            },
            "colorscale": [
             [
              0,
              "#0d0887"
             ],
             [
              0.1111111111111111,
              "#46039f"
             ],
             [
              0.2222222222222222,
              "#7201a8"
             ],
             [
              0.3333333333333333,
              "#9c179e"
             ],
             [
              0.4444444444444444,
              "#bd3786"
             ],
             [
              0.5555555555555556,
              "#d8576b"
             ],
             [
              0.6666666666666666,
              "#ed7953"
             ],
             [
              0.7777777777777778,
              "#fb9f3a"
             ],
             [
              0.8888888888888888,
              "#fdca26"
             ],
             [
              1,
              "#f0f921"
             ]
            ],
            "type": "heatmapgl"
           }
          ],
          "histogram": [
           {
            "marker": {
             "pattern": {
              "fillmode": "overlay",
              "size": 10,
              "solidity": 0.2
             }
            },
            "type": "histogram"
           }
          ],
          "histogram2d": [
           {
            "colorbar": {
             "outlinewidth": 0,
             "ticks": ""
            },
            "colorscale": [
             [
              0,
              "#0d0887"
             ],
             [
              0.1111111111111111,
              "#46039f"
             ],
             [
              0.2222222222222222,
              "#7201a8"
             ],
             [
              0.3333333333333333,
              "#9c179e"
             ],
             [
              0.4444444444444444,
              "#bd3786"
             ],
             [
              0.5555555555555556,
              "#d8576b"
             ],
             [
              0.6666666666666666,
              "#ed7953"
             ],
             [
              0.7777777777777778,
              "#fb9f3a"
             ],
             [
              0.8888888888888888,
              "#fdca26"
             ],
             [
              1,
              "#f0f921"
             ]
            ],
            "type": "histogram2d"
           }
          ],
          "histogram2dcontour": [
           {
            "colorbar": {
             "outlinewidth": 0,
             "ticks": ""
            },
            "colorscale": [
             [
              0,
              "#0d0887"
             ],
             [
              0.1111111111111111,
              "#46039f"
             ],
             [
              0.2222222222222222,
              "#7201a8"
             ],
             [
              0.3333333333333333,
              "#9c179e"
             ],
             [
              0.4444444444444444,
              "#bd3786"
             ],
             [
              0.5555555555555556,
              "#d8576b"
             ],
             [
              0.6666666666666666,
              "#ed7953"
             ],
             [
              0.7777777777777778,
              "#fb9f3a"
             ],
             [
              0.8888888888888888,
              "#fdca26"
             ],
             [
              1,
              "#f0f921"
             ]
            ],
            "type": "histogram2dcontour"
           }
          ],
          "mesh3d": [
           {
            "colorbar": {
             "outlinewidth": 0,
             "ticks": ""
            },
            "type": "mesh3d"
           }
          ],
          "parcoords": [
           {
            "line": {
             "colorbar": {
              "outlinewidth": 0,
              "ticks": ""
             }
            },
            "type": "parcoords"
           }
          ],
          "pie": [
           {
            "automargin": true,
            "type": "pie"
           }
          ],
          "scatter": [
           {
            "marker": {
             "colorbar": {
              "outlinewidth": 0,
              "ticks": ""
             }
            },
            "type": "scatter"
           }
          ],
          "scatter3d": [
           {
            "line": {
             "colorbar": {
              "outlinewidth": 0,
              "ticks": ""
             }
            },
            "marker": {
             "colorbar": {
              "outlinewidth": 0,
              "ticks": ""
             }
            },
            "type": "scatter3d"
           }
          ],
          "scattercarpet": [
           {
            "marker": {
             "colorbar": {
              "outlinewidth": 0,
              "ticks": ""
             }
            },
            "type": "scattercarpet"
           }
          ],
          "scattergeo": [
           {
            "marker": {
             "colorbar": {
              "outlinewidth": 0,
              "ticks": ""
             }
            },
            "type": "scattergeo"
           }
          ],
          "scattergl": [
           {
            "marker": {
             "colorbar": {
              "outlinewidth": 0,
              "ticks": ""
             }
            },
            "type": "scattergl"
           }
          ],
          "scattermapbox": [
           {
            "marker": {
             "colorbar": {
              "outlinewidth": 0,
              "ticks": ""
             }
            },
            "type": "scattermapbox"
           }
          ],
          "scatterpolar": [
           {
            "marker": {
             "colorbar": {
              "outlinewidth": 0,
              "ticks": ""
             }
            },
            "type": "scatterpolar"
           }
          ],
          "scatterpolargl": [
           {
            "marker": {
             "colorbar": {
              "outlinewidth": 0,
              "ticks": ""
             }
            },
            "type": "scatterpolargl"
           }
          ],
          "scatterternary": [
           {
            "marker": {
             "colorbar": {
              "outlinewidth": 0,
              "ticks": ""
             }
            },
            "type": "scatterternary"
           }
          ],
          "surface": [
           {
            "colorbar": {
             "outlinewidth": 0,
             "ticks": ""
            },
            "colorscale": [
             [
              0,
              "#0d0887"
             ],
             [
              0.1111111111111111,
              "#46039f"
             ],
             [
              0.2222222222222222,
              "#7201a8"
             ],
             [
              0.3333333333333333,
              "#9c179e"
             ],
             [
              0.4444444444444444,
              "#bd3786"
             ],
             [
              0.5555555555555556,
              "#d8576b"
             ],
             [
              0.6666666666666666,
              "#ed7953"
             ],
             [
              0.7777777777777778,
              "#fb9f3a"
             ],
             [
              0.8888888888888888,
              "#fdca26"
             ],
             [
              1,
              "#f0f921"
             ]
            ],
            "type": "surface"
           }
          ],
          "table": [
           {
            "cells": {
             "fill": {
              "color": "#EBF0F8"
             },
             "line": {
              "color": "white"
             }
            },
            "header": {
             "fill": {
              "color": "#C8D4E3"
             },
             "line": {
              "color": "white"
             }
            },
            "type": "table"
           }
          ]
         },
         "layout": {
          "annotationdefaults": {
           "arrowcolor": "#2a3f5f",
           "arrowhead": 0,
           "arrowwidth": 1
          },
          "autotypenumbers": "strict",
          "coloraxis": {
           "colorbar": {
            "outlinewidth": 0,
            "ticks": ""
           }
          },
          "colorscale": {
           "diverging": [
            [
             0,
             "#8e0152"
            ],
            [
             0.1,
             "#c51b7d"
            ],
            [
             0.2,
             "#de77ae"
            ],
            [
             0.3,
             "#f1b6da"
            ],
            [
             0.4,
             "#fde0ef"
            ],
            [
             0.5,
             "#f7f7f7"
            ],
            [
             0.6,
             "#e6f5d0"
            ],
            [
             0.7,
             "#b8e186"
            ],
            [
             0.8,
             "#7fbc41"
            ],
            [
             0.9,
             "#4d9221"
            ],
            [
             1,
             "#276419"
            ]
           ],
           "sequential": [
            [
             0,
             "#0d0887"
            ],
            [
             0.1111111111111111,
             "#46039f"
            ],
            [
             0.2222222222222222,
             "#7201a8"
            ],
            [
             0.3333333333333333,
             "#9c179e"
            ],
            [
             0.4444444444444444,
             "#bd3786"
            ],
            [
             0.5555555555555556,
             "#d8576b"
            ],
            [
             0.6666666666666666,
             "#ed7953"
            ],
            [
             0.7777777777777778,
             "#fb9f3a"
            ],
            [
             0.8888888888888888,
             "#fdca26"
            ],
            [
             1,
             "#f0f921"
            ]
           ],
           "sequentialminus": [
            [
             0,
             "#0d0887"
            ],
            [
             0.1111111111111111,
             "#46039f"
            ],
            [
             0.2222222222222222,
             "#7201a8"
            ],
            [
             0.3333333333333333,
             "#9c179e"
            ],
            [
             0.4444444444444444,
             "#bd3786"
            ],
            [
             0.5555555555555556,
             "#d8576b"
            ],
            [
             0.6666666666666666,
             "#ed7953"
            ],
            [
             0.7777777777777778,
             "#fb9f3a"
            ],
            [
             0.8888888888888888,
             "#fdca26"
            ],
            [
             1,
             "#f0f921"
            ]
           ]
          },
          "colorway": [
           "#636efa",
           "#EF553B",
           "#00cc96",
           "#ab63fa",
           "#FFA15A",
           "#19d3f3",
           "#FF6692",
           "#B6E880",
           "#FF97FF",
           "#FECB52"
          ],
          "font": {
           "color": "#2a3f5f"
          },
          "geo": {
           "bgcolor": "white",
           "lakecolor": "white",
           "landcolor": "#E5ECF6",
           "showlakes": true,
           "showland": true,
           "subunitcolor": "white"
          },
          "hoverlabel": {
           "align": "left"
          },
          "hovermode": "closest",
          "mapbox": {
           "style": "light"
          },
          "paper_bgcolor": "white",
          "plot_bgcolor": "#E5ECF6",
          "polar": {
           "angularaxis": {
            "gridcolor": "white",
            "linecolor": "white",
            "ticks": ""
           },
           "bgcolor": "#E5ECF6",
           "radialaxis": {
            "gridcolor": "white",
            "linecolor": "white",
            "ticks": ""
           }
          },
          "scene": {
           "xaxis": {
            "backgroundcolor": "#E5ECF6",
            "gridcolor": "white",
            "gridwidth": 2,
            "linecolor": "white",
            "showbackground": true,
            "ticks": "",
            "zerolinecolor": "white"
           },
           "yaxis": {
            "backgroundcolor": "#E5ECF6",
            "gridcolor": "white",
            "gridwidth": 2,
            "linecolor": "white",
            "showbackground": true,
            "ticks": "",
            "zerolinecolor": "white"
           },
           "zaxis": {
            "backgroundcolor": "#E5ECF6",
            "gridcolor": "white",
            "gridwidth": 2,
            "linecolor": "white",
            "showbackground": true,
            "ticks": "",
            "zerolinecolor": "white"
           }
          },
          "shapedefaults": {
           "line": {
            "color": "#2a3f5f"
           }
          },
          "ternary": {
           "aaxis": {
            "gridcolor": "white",
            "linecolor": "white",
            "ticks": ""
           },
           "baxis": {
            "gridcolor": "white",
            "linecolor": "white",
            "ticks": ""
           },
           "bgcolor": "#E5ECF6",
           "caxis": {
            "gridcolor": "white",
            "linecolor": "white",
            "ticks": ""
           }
          },
          "title": {
           "x": 0.05
          },
          "xaxis": {
           "automargin": true,
           "gridcolor": "white",
           "linecolor": "white",
           "ticks": "",
           "title": {
            "standoff": 15
           },
           "zerolinecolor": "white",
           "zerolinewidth": 2
          },
          "yaxis": {
           "automargin": true,
           "gridcolor": "white",
           "linecolor": "white",
           "ticks": "",
           "title": {
            "standoff": 15
           },
           "zerolinecolor": "white",
           "zerolinewidth": 2
          }
         }
        },
        "xaxis": {
         "anchor": "y",
         "domain": [
          0,
          1
         ],
         "title": {
          "text": "number_of_vehicles_involved"
         }
        },
        "yaxis": {
         "anchor": "x",
         "domain": [
          0,
          1
         ],
         "title": {
          "text": "count"
         }
        }
       }
      }
     },
     "metadata": {},
     "output_type": "display_data"
    }
   ],
   "source": [
    "fig = px.histogram(df, x=\"number_of_vehicles_involved\", color=\"fraud_reported\")\n",
    "fig.show()"
   ]
  },
  {
   "cell_type": "code",
   "execution_count": 40,
   "metadata": {},
   "outputs": [
    {
     "data": {
      "application/vnd.plotly.v1+json": {
       "config": {
        "plotlyServerURL": "https://plot.ly"
       },
       "data": [
        {
         "alignmentgroup": "True",
         "bingroup": "x",
         "hovertemplate": "fraud_reported=Y<br>bodily_injuries=%{x}<br>count=%{y}<extra></extra>",
         "legendgroup": "Y",
         "marker": {
          "color": "#636efa",
          "pattern": {
           "shape": ""
          }
         },
         "name": "Y",
         "offsetgroup": "Y",
         "orientation": "v",
         "showlegend": true,
         "type": "histogram",
         "x": [
          1,
          0,
          1,
          0,
          0,
          0,
          0,
          2,
          1,
          2,
          2,
          2,
          1,
          0,
          1,
          2,
          2,
          2,
          0,
          2,
          0,
          2,
          0,
          1,
          2,
          2,
          0,
          0,
          1,
          0,
          0,
          0,
          0,
          0,
          2,
          2,
          0,
          0,
          1,
          1,
          2,
          2,
          2,
          2,
          1,
          1,
          1,
          2,
          2,
          2,
          0,
          1,
          2,
          1,
          1,
          1,
          1,
          1,
          1,
          2,
          1,
          0,
          0,
          2,
          2,
          0,
          0,
          0,
          1,
          2,
          2,
          0,
          0,
          2,
          0,
          2,
          2,
          1,
          0,
          2,
          0,
          1,
          1,
          1,
          2,
          1,
          1,
          2,
          0,
          0,
          2,
          0,
          1,
          1,
          2,
          2,
          2,
          1,
          1,
          1,
          2,
          2,
          0,
          2,
          0,
          0,
          1,
          1,
          0,
          0,
          2,
          2,
          1,
          0,
          0,
          0,
          1,
          2,
          0,
          1,
          2,
          2,
          2,
          2,
          2,
          0,
          0,
          1,
          2,
          0,
          0,
          2,
          0,
          1,
          0,
          1,
          1,
          1,
          1,
          0,
          2,
          2,
          2,
          2,
          0,
          1,
          0,
          1,
          2,
          2,
          1,
          2,
          1,
          2,
          1,
          2,
          2,
          0,
          1,
          2,
          0,
          1,
          0,
          1,
          0,
          0,
          0,
          2,
          0,
          2,
          2,
          0,
          1,
          0,
          2,
          2,
          2,
          1,
          1,
          0,
          0,
          1,
          1,
          1,
          1,
          2,
          2,
          2,
          0,
          2,
          1,
          2,
          2,
          0,
          2,
          0,
          2,
          0,
          0,
          2,
          2,
          0,
          2,
          1,
          2,
          2,
          1,
          2,
          2,
          2,
          0,
          1,
          0,
          0,
          1,
          1,
          1,
          1,
          1,
          0,
          0,
          1,
          1,
          1,
          0,
          0,
          1,
          2,
          2,
          1,
          0,
          1,
          0,
          0,
          2,
          0,
          1,
          2,
          2,
          1,
          1,
          2,
          2,
          1,
          0,
          2,
          0
         ],
         "xaxis": "x",
         "yaxis": "y"
        },
        {
         "alignmentgroup": "True",
         "bingroup": "x",
         "hovertemplate": "fraud_reported=N<br>bodily_injuries=%{x}<br>count=%{y}<extra></extra>",
         "legendgroup": "N",
         "marker": {
          "color": "#EF553B",
          "pattern": {
           "shape": ""
          }
         },
         "name": "N",
         "offsetgroup": "N",
         "orientation": "v",
         "showlegend": true,
         "type": "histogram",
         "x": [
          2,
          0,
          0,
          2,
          1,
          2,
          2,
          1,
          1,
          1,
          1,
          0,
          1,
          2,
          1,
          1,
          1,
          1,
          1,
          2,
          0,
          2,
          1,
          0,
          1,
          2,
          2,
          1,
          2,
          0,
          2,
          1,
          2,
          0,
          0,
          1,
          2,
          1,
          0,
          1,
          2,
          1,
          0,
          1,
          0,
          0,
          1,
          0,
          0,
          1,
          2,
          1,
          2,
          1,
          0,
          2,
          1,
          2,
          2,
          0,
          0,
          2,
          2,
          0,
          1,
          0,
          1,
          1,
          2,
          1,
          0,
          0,
          1,
          2,
          1,
          0,
          1,
          1,
          1,
          2,
          1,
          1,
          0,
          1,
          0,
          2,
          1,
          1,
          2,
          0,
          2,
          1,
          2,
          0,
          2,
          1,
          0,
          0,
          1,
          0,
          0,
          2,
          2,
          0,
          1,
          1,
          2,
          2,
          2,
          2,
          2,
          2,
          2,
          2,
          2,
          2,
          2,
          0,
          0,
          1,
          0,
          1,
          0,
          0,
          1,
          1,
          0,
          0,
          2,
          2,
          2,
          2,
          0,
          1,
          1,
          0,
          0,
          1,
          0,
          1,
          0,
          2,
          0,
          2,
          1,
          2,
          2,
          0,
          0,
          1,
          2,
          0,
          2,
          0,
          2,
          1,
          2,
          2,
          2,
          1,
          2,
          0,
          1,
          0,
          0,
          2,
          1,
          0,
          0,
          2,
          2,
          2,
          1,
          1,
          1,
          1,
          0,
          2,
          2,
          1,
          0,
          0,
          1,
          1,
          0,
          1,
          1,
          0,
          1,
          1,
          1,
          0,
          0,
          2,
          2,
          0,
          1,
          0,
          0,
          1,
          2,
          1,
          0,
          1,
          0,
          2,
          1,
          0,
          0,
          0,
          2,
          1,
          2,
          2,
          1,
          1,
          1,
          1,
          0,
          0,
          0,
          1,
          2,
          0,
          2,
          2,
          2,
          1,
          1,
          1,
          0,
          0,
          1,
          0,
          1,
          0,
          0,
          2,
          2,
          2,
          0,
          0,
          2,
          2,
          1,
          1,
          1,
          0,
          0,
          2,
          2,
          1,
          1,
          1,
          0,
          0,
          0,
          1,
          0,
          1,
          0,
          2,
          1,
          0,
          2,
          1,
          1,
          0,
          1,
          1,
          1,
          2,
          1,
          1,
          2,
          1,
          0,
          1,
          0,
          1,
          0,
          0,
          2,
          1,
          2,
          1,
          0,
          0,
          1,
          1,
          1,
          0,
          2,
          0,
          0,
          1,
          2,
          0,
          2,
          2,
          1,
          1,
          1,
          0,
          1,
          1,
          2,
          2,
          1,
          0,
          0,
          0,
          1,
          2,
          1,
          0,
          2,
          0,
          1,
          1,
          1,
          2,
          0,
          0,
          2,
          0,
          2,
          2,
          1,
          0,
          0,
          2,
          1,
          2,
          2,
          2,
          0,
          0,
          2,
          0,
          2,
          2,
          2,
          0,
          0,
          2,
          2,
          1,
          2,
          1,
          1,
          0,
          0,
          2,
          2,
          2,
          0,
          0,
          0,
          1,
          1,
          0,
          1,
          0,
          1,
          1,
          1,
          2,
          0,
          1,
          1,
          2,
          2,
          2,
          0,
          2,
          2,
          2,
          2,
          0,
          0,
          1,
          1,
          0,
          0,
          1,
          0,
          2,
          1,
          1,
          2,
          1,
          0,
          2,
          0,
          1,
          0,
          1,
          1,
          2,
          0,
          2,
          0,
          1,
          0,
          1,
          0,
          1,
          2,
          0,
          0,
          2,
          1,
          2,
          0,
          1,
          1,
          1,
          0,
          2,
          2,
          2,
          1,
          1,
          0,
          0,
          2,
          0,
          2,
          1,
          2,
          2,
          2,
          0,
          1,
          1,
          1,
          2,
          2,
          2,
          2,
          2,
          1,
          2,
          1,
          1,
          2,
          2,
          0,
          1,
          0,
          0,
          2,
          2,
          1,
          2,
          1,
          0,
          0,
          1,
          2,
          1,
          0,
          2,
          2,
          1,
          1,
          1,
          0,
          2,
          1,
          0,
          0,
          2,
          0,
          1,
          2,
          0,
          2,
          2,
          2,
          2,
          1,
          0,
          1,
          1,
          1,
          1,
          1,
          2,
          0,
          0,
          1,
          1,
          0,
          0,
          1,
          2,
          1,
          1,
          0,
          1,
          0,
          1,
          0,
          2,
          1,
          0,
          2,
          2,
          0,
          0,
          2,
          0,
          0,
          1,
          2,
          2,
          1,
          2,
          0,
          2,
          2,
          2,
          1,
          1,
          2,
          2,
          0,
          2,
          0,
          0,
          1,
          0,
          1,
          2,
          0,
          2,
          1,
          0,
          2,
          2,
          0,
          2,
          1,
          2,
          2,
          0,
          0,
          1,
          1,
          0,
          1,
          0,
          0,
          2,
          0,
          0,
          1,
          2,
          0,
          2,
          2,
          0,
          0,
          2,
          1,
          2,
          2,
          0,
          2,
          2,
          1,
          1,
          1,
          0,
          1,
          1,
          2,
          0,
          2,
          2,
          1,
          0,
          0,
          0,
          0,
          1,
          0,
          2,
          0,
          0,
          2,
          0,
          0,
          2,
          0,
          0,
          2,
          2,
          2,
          0,
          0,
          2,
          1,
          0,
          0,
          1,
          0,
          0,
          0,
          2,
          0,
          0,
          0,
          2,
          1,
          1,
          0,
          1,
          2,
          2,
          1,
          0,
          1,
          0,
          0,
          2,
          0,
          1,
          2,
          1,
          0,
          1,
          0,
          2,
          2,
          1,
          2,
          1,
          0,
          0,
          2,
          2,
          1,
          0,
          2,
          0,
          2,
          1,
          0,
          1,
          2,
          0,
          1,
          1,
          2,
          2,
          0,
          2,
          0,
          1,
          0,
          1,
          2,
          2,
          0,
          2,
          0,
          1,
          0,
          2,
          0,
          1,
          0,
          0,
          2,
          2,
          2,
          2,
          1,
          1,
          0,
          1,
          0,
          1,
          0,
          1,
          1,
          2,
          1,
          0,
          0,
          1,
          0,
          2,
          1,
          1,
          2,
          1,
          1,
          1,
          2,
          1,
          0,
          1,
          0,
          1,
          0,
          0,
          1,
          2,
          1,
          0,
          0,
          1,
          0,
          0,
          0,
          2,
          1,
          0,
          1,
          2,
          0,
          0,
          0,
          0,
          2,
          2,
          2,
          2,
          0,
          2,
          2,
          0,
          0,
          1,
          2,
          2,
          0,
          1,
          1,
          2,
          0,
          1,
          0,
          1,
          0,
          2,
          2,
          0,
          0
         ],
         "xaxis": "x",
         "yaxis": "y"
        }
       ],
       "layout": {
        "barmode": "relative",
        "legend": {
         "title": {
          "text": "fraud_reported"
         },
         "tracegroupgap": 0
        },
        "margin": {
         "t": 60
        },
        "template": {
         "data": {
          "bar": [
           {
            "error_x": {
             "color": "#2a3f5f"
            },
            "error_y": {
             "color": "#2a3f5f"
            },
            "marker": {
             "line": {
              "color": "#E5ECF6",
              "width": 0.5
             },
             "pattern": {
              "fillmode": "overlay",
              "size": 10,
              "solidity": 0.2
             }
            },
            "type": "bar"
           }
          ],
          "barpolar": [
           {
            "marker": {
             "line": {
              "color": "#E5ECF6",
              "width": 0.5
             },
             "pattern": {
              "fillmode": "overlay",
              "size": 10,
              "solidity": 0.2
             }
            },
            "type": "barpolar"
           }
          ],
          "carpet": [
           {
            "aaxis": {
             "endlinecolor": "#2a3f5f",
             "gridcolor": "white",
             "linecolor": "white",
             "minorgridcolor": "white",
             "startlinecolor": "#2a3f5f"
            },
            "baxis": {
             "endlinecolor": "#2a3f5f",
             "gridcolor": "white",
             "linecolor": "white",
             "minorgridcolor": "white",
             "startlinecolor": "#2a3f5f"
            },
            "type": "carpet"
           }
          ],
          "choropleth": [
           {
            "colorbar": {
             "outlinewidth": 0,
             "ticks": ""
            },
            "type": "choropleth"
           }
          ],
          "contour": [
           {
            "colorbar": {
             "outlinewidth": 0,
             "ticks": ""
            },
            "colorscale": [
             [
              0,
              "#0d0887"
             ],
             [
              0.1111111111111111,
              "#46039f"
             ],
             [
              0.2222222222222222,
              "#7201a8"
             ],
             [
              0.3333333333333333,
              "#9c179e"
             ],
             [
              0.4444444444444444,
              "#bd3786"
             ],
             [
              0.5555555555555556,
              "#d8576b"
             ],
             [
              0.6666666666666666,
              "#ed7953"
             ],
             [
              0.7777777777777778,
              "#fb9f3a"
             ],
             [
              0.8888888888888888,
              "#fdca26"
             ],
             [
              1,
              "#f0f921"
             ]
            ],
            "type": "contour"
           }
          ],
          "contourcarpet": [
           {
            "colorbar": {
             "outlinewidth": 0,
             "ticks": ""
            },
            "type": "contourcarpet"
           }
          ],
          "heatmap": [
           {
            "colorbar": {
             "outlinewidth": 0,
             "ticks": ""
            },
            "colorscale": [
             [
              0,
              "#0d0887"
             ],
             [
              0.1111111111111111,
              "#46039f"
             ],
             [
              0.2222222222222222,
              "#7201a8"
             ],
             [
              0.3333333333333333,
              "#9c179e"
             ],
             [
              0.4444444444444444,
              "#bd3786"
             ],
             [
              0.5555555555555556,
              "#d8576b"
             ],
             [
              0.6666666666666666,
              "#ed7953"
             ],
             [
              0.7777777777777778,
              "#fb9f3a"
             ],
             [
              0.8888888888888888,
              "#fdca26"
             ],
             [
              1,
              "#f0f921"
             ]
            ],
            "type": "heatmap"
           }
          ],
          "heatmapgl": [
           {
            "colorbar": {
             "outlinewidth": 0,
             "ticks": ""
            },
            "colorscale": [
             [
              0,
              "#0d0887"
             ],
             [
              0.1111111111111111,
              "#46039f"
             ],
             [
              0.2222222222222222,
              "#7201a8"
             ],
             [
              0.3333333333333333,
              "#9c179e"
             ],
             [
              0.4444444444444444,
              "#bd3786"
             ],
             [
              0.5555555555555556,
              "#d8576b"
             ],
             [
              0.6666666666666666,
              "#ed7953"
             ],
             [
              0.7777777777777778,
              "#fb9f3a"
             ],
             [
              0.8888888888888888,
              "#fdca26"
             ],
             [
              1,
              "#f0f921"
             ]
            ],
            "type": "heatmapgl"
           }
          ],
          "histogram": [
           {
            "marker": {
             "pattern": {
              "fillmode": "overlay",
              "size": 10,
              "solidity": 0.2
             }
            },
            "type": "histogram"
           }
          ],
          "histogram2d": [
           {
            "colorbar": {
             "outlinewidth": 0,
             "ticks": ""
            },
            "colorscale": [
             [
              0,
              "#0d0887"
             ],
             [
              0.1111111111111111,
              "#46039f"
             ],
             [
              0.2222222222222222,
              "#7201a8"
             ],
             [
              0.3333333333333333,
              "#9c179e"
             ],
             [
              0.4444444444444444,
              "#bd3786"
             ],
             [
              0.5555555555555556,
              "#d8576b"
             ],
             [
              0.6666666666666666,
              "#ed7953"
             ],
             [
              0.7777777777777778,
              "#fb9f3a"
             ],
             [
              0.8888888888888888,
              "#fdca26"
             ],
             [
              1,
              "#f0f921"
             ]
            ],
            "type": "histogram2d"
           }
          ],
          "histogram2dcontour": [
           {
            "colorbar": {
             "outlinewidth": 0,
             "ticks": ""
            },
            "colorscale": [
             [
              0,
              "#0d0887"
             ],
             [
              0.1111111111111111,
              "#46039f"
             ],
             [
              0.2222222222222222,
              "#7201a8"
             ],
             [
              0.3333333333333333,
              "#9c179e"
             ],
             [
              0.4444444444444444,
              "#bd3786"
             ],
             [
              0.5555555555555556,
              "#d8576b"
             ],
             [
              0.6666666666666666,
              "#ed7953"
             ],
             [
              0.7777777777777778,
              "#fb9f3a"
             ],
             [
              0.8888888888888888,
              "#fdca26"
             ],
             [
              1,
              "#f0f921"
             ]
            ],
            "type": "histogram2dcontour"
           }
          ],
          "mesh3d": [
           {
            "colorbar": {
             "outlinewidth": 0,
             "ticks": ""
            },
            "type": "mesh3d"
           }
          ],
          "parcoords": [
           {
            "line": {
             "colorbar": {
              "outlinewidth": 0,
              "ticks": ""
             }
            },
            "type": "parcoords"
           }
          ],
          "pie": [
           {
            "automargin": true,
            "type": "pie"
           }
          ],
          "scatter": [
           {
            "marker": {
             "colorbar": {
              "outlinewidth": 0,
              "ticks": ""
             }
            },
            "type": "scatter"
           }
          ],
          "scatter3d": [
           {
            "line": {
             "colorbar": {
              "outlinewidth": 0,
              "ticks": ""
             }
            },
            "marker": {
             "colorbar": {
              "outlinewidth": 0,
              "ticks": ""
             }
            },
            "type": "scatter3d"
           }
          ],
          "scattercarpet": [
           {
            "marker": {
             "colorbar": {
              "outlinewidth": 0,
              "ticks": ""
             }
            },
            "type": "scattercarpet"
           }
          ],
          "scattergeo": [
           {
            "marker": {
             "colorbar": {
              "outlinewidth": 0,
              "ticks": ""
             }
            },
            "type": "scattergeo"
           }
          ],
          "scattergl": [
           {
            "marker": {
             "colorbar": {
              "outlinewidth": 0,
              "ticks": ""
             }
            },
            "type": "scattergl"
           }
          ],
          "scattermapbox": [
           {
            "marker": {
             "colorbar": {
              "outlinewidth": 0,
              "ticks": ""
             }
            },
            "type": "scattermapbox"
           }
          ],
          "scatterpolar": [
           {
            "marker": {
             "colorbar": {
              "outlinewidth": 0,
              "ticks": ""
             }
            },
            "type": "scatterpolar"
           }
          ],
          "scatterpolargl": [
           {
            "marker": {
             "colorbar": {
              "outlinewidth": 0,
              "ticks": ""
             }
            },
            "type": "scatterpolargl"
           }
          ],
          "scatterternary": [
           {
            "marker": {
             "colorbar": {
              "outlinewidth": 0,
              "ticks": ""
             }
            },
            "type": "scatterternary"
           }
          ],
          "surface": [
           {
            "colorbar": {
             "outlinewidth": 0,
             "ticks": ""
            },
            "colorscale": [
             [
              0,
              "#0d0887"
             ],
             [
              0.1111111111111111,
              "#46039f"
             ],
             [
              0.2222222222222222,
              "#7201a8"
             ],
             [
              0.3333333333333333,
              "#9c179e"
             ],
             [
              0.4444444444444444,
              "#bd3786"
             ],
             [
              0.5555555555555556,
              "#d8576b"
             ],
             [
              0.6666666666666666,
              "#ed7953"
             ],
             [
              0.7777777777777778,
              "#fb9f3a"
             ],
             [
              0.8888888888888888,
              "#fdca26"
             ],
             [
              1,
              "#f0f921"
             ]
            ],
            "type": "surface"
           }
          ],
          "table": [
           {
            "cells": {
             "fill": {
              "color": "#EBF0F8"
             },
             "line": {
              "color": "white"
             }
            },
            "header": {
             "fill": {
              "color": "#C8D4E3"
             },
             "line": {
              "color": "white"
             }
            },
            "type": "table"
           }
          ]
         },
         "layout": {
          "annotationdefaults": {
           "arrowcolor": "#2a3f5f",
           "arrowhead": 0,
           "arrowwidth": 1
          },
          "autotypenumbers": "strict",
          "coloraxis": {
           "colorbar": {
            "outlinewidth": 0,
            "ticks": ""
           }
          },
          "colorscale": {
           "diverging": [
            [
             0,
             "#8e0152"
            ],
            [
             0.1,
             "#c51b7d"
            ],
            [
             0.2,
             "#de77ae"
            ],
            [
             0.3,
             "#f1b6da"
            ],
            [
             0.4,
             "#fde0ef"
            ],
            [
             0.5,
             "#f7f7f7"
            ],
            [
             0.6,
             "#e6f5d0"
            ],
            [
             0.7,
             "#b8e186"
            ],
            [
             0.8,
             "#7fbc41"
            ],
            [
             0.9,
             "#4d9221"
            ],
            [
             1,
             "#276419"
            ]
           ],
           "sequential": [
            [
             0,
             "#0d0887"
            ],
            [
             0.1111111111111111,
             "#46039f"
            ],
            [
             0.2222222222222222,
             "#7201a8"
            ],
            [
             0.3333333333333333,
             "#9c179e"
            ],
            [
             0.4444444444444444,
             "#bd3786"
            ],
            [
             0.5555555555555556,
             "#d8576b"
            ],
            [
             0.6666666666666666,
             "#ed7953"
            ],
            [
             0.7777777777777778,
             "#fb9f3a"
            ],
            [
             0.8888888888888888,
             "#fdca26"
            ],
            [
             1,
             "#f0f921"
            ]
           ],
           "sequentialminus": [
            [
             0,
             "#0d0887"
            ],
            [
             0.1111111111111111,
             "#46039f"
            ],
            [
             0.2222222222222222,
             "#7201a8"
            ],
            [
             0.3333333333333333,
             "#9c179e"
            ],
            [
             0.4444444444444444,
             "#bd3786"
            ],
            [
             0.5555555555555556,
             "#d8576b"
            ],
            [
             0.6666666666666666,
             "#ed7953"
            ],
            [
             0.7777777777777778,
             "#fb9f3a"
            ],
            [
             0.8888888888888888,
             "#fdca26"
            ],
            [
             1,
             "#f0f921"
            ]
           ]
          },
          "colorway": [
           "#636efa",
           "#EF553B",
           "#00cc96",
           "#ab63fa",
           "#FFA15A",
           "#19d3f3",
           "#FF6692",
           "#B6E880",
           "#FF97FF",
           "#FECB52"
          ],
          "font": {
           "color": "#2a3f5f"
          },
          "geo": {
           "bgcolor": "white",
           "lakecolor": "white",
           "landcolor": "#E5ECF6",
           "showlakes": true,
           "showland": true,
           "subunitcolor": "white"
          },
          "hoverlabel": {
           "align": "left"
          },
          "hovermode": "closest",
          "mapbox": {
           "style": "light"
          },
          "paper_bgcolor": "white",
          "plot_bgcolor": "#E5ECF6",
          "polar": {
           "angularaxis": {
            "gridcolor": "white",
            "linecolor": "white",
            "ticks": ""
           },
           "bgcolor": "#E5ECF6",
           "radialaxis": {
            "gridcolor": "white",
            "linecolor": "white",
            "ticks": ""
           }
          },
          "scene": {
           "xaxis": {
            "backgroundcolor": "#E5ECF6",
            "gridcolor": "white",
            "gridwidth": 2,
            "linecolor": "white",
            "showbackground": true,
            "ticks": "",
            "zerolinecolor": "white"
           },
           "yaxis": {
            "backgroundcolor": "#E5ECF6",
            "gridcolor": "white",
            "gridwidth": 2,
            "linecolor": "white",
            "showbackground": true,
            "ticks": "",
            "zerolinecolor": "white"
           },
           "zaxis": {
            "backgroundcolor": "#E5ECF6",
            "gridcolor": "white",
            "gridwidth": 2,
            "linecolor": "white",
            "showbackground": true,
            "ticks": "",
            "zerolinecolor": "white"
           }
          },
          "shapedefaults": {
           "line": {
            "color": "#2a3f5f"
           }
          },
          "ternary": {
           "aaxis": {
            "gridcolor": "white",
            "linecolor": "white",
            "ticks": ""
           },
           "baxis": {
            "gridcolor": "white",
            "linecolor": "white",
            "ticks": ""
           },
           "bgcolor": "#E5ECF6",
           "caxis": {
            "gridcolor": "white",
            "linecolor": "white",
            "ticks": ""
           }
          },
          "title": {
           "x": 0.05
          },
          "xaxis": {
           "automargin": true,
           "gridcolor": "white",
           "linecolor": "white",
           "ticks": "",
           "title": {
            "standoff": 15
           },
           "zerolinecolor": "white",
           "zerolinewidth": 2
          },
          "yaxis": {
           "automargin": true,
           "gridcolor": "white",
           "linecolor": "white",
           "ticks": "",
           "title": {
            "standoff": 15
           },
           "zerolinecolor": "white",
           "zerolinewidth": 2
          }
         }
        },
        "xaxis": {
         "anchor": "y",
         "domain": [
          0,
          1
         ],
         "title": {
          "text": "bodily_injuries"
         }
        },
        "yaxis": {
         "anchor": "x",
         "domain": [
          0,
          1
         ],
         "title": {
          "text": "count"
         }
        }
       }
      }
     },
     "metadata": {},
     "output_type": "display_data"
    }
   ],
   "source": [
    "fig = px.histogram(df, x=\"bodily_injuries\", color=\"fraud_reported\")\n",
    "fig.show()"
   ]
  },
  {
   "cell_type": "code",
   "execution_count": 42,
   "metadata": {},
   "outputs": [
    {
     "data": {
      "application/vnd.plotly.v1+json": {
       "config": {
        "plotlyServerURL": "https://plot.ly"
       },
       "data": [
        {
         "alignmentgroup": "True",
         "bingroup": "x",
         "hovertemplate": "fraud_reported=Y<br>witnesses=%{x}<br>count=%{y}<extra></extra>",
         "legendgroup": "Y",
         "marker": {
          "color": "#636efa",
          "pattern": {
           "shape": ""
          }
         },
         "name": "Y",
         "offsetgroup": "Y",
         "orientation": "v",
         "showlegend": true,
         "type": "histogram",
         "x": [
          2,
          0,
          2,
          2,
          2,
          0,
          0,
          2,
          3,
          1,
          2,
          0,
          1,
          3,
          1,
          1,
          1,
          2,
          0,
          2,
          1,
          3,
          2,
          2,
          3,
          0,
          3,
          3,
          2,
          2,
          0,
          3,
          0,
          1,
          2,
          1,
          1,
          3,
          2,
          2,
          3,
          1,
          0,
          3,
          0,
          3,
          3,
          3,
          0,
          1,
          1,
          1,
          3,
          0,
          1,
          0,
          0,
          3,
          2,
          3,
          2,
          2,
          2,
          3,
          0,
          3,
          1,
          1,
          2,
          3,
          2,
          1,
          2,
          0,
          1,
          2,
          0,
          0,
          1,
          1,
          2,
          2,
          0,
          2,
          1,
          1,
          2,
          2,
          3,
          1,
          2,
          2,
          0,
          3,
          2,
          2,
          3,
          3,
          0,
          3,
          1,
          1,
          2,
          2,
          0,
          2,
          2,
          2,
          2,
          1,
          2,
          0,
          3,
          3,
          0,
          0,
          0,
          2,
          0,
          1,
          1,
          2,
          1,
          3,
          2,
          3,
          1,
          2,
          1,
          3,
          2,
          3,
          0,
          0,
          2,
          0,
          3,
          0,
          3,
          1,
          1,
          2,
          1,
          1,
          0,
          2,
          2,
          0,
          1,
          3,
          2,
          1,
          1,
          1,
          2,
          1,
          2,
          0,
          1,
          3,
          2,
          2,
          2,
          0,
          1,
          2,
          2,
          1,
          3,
          1,
          2,
          0,
          3,
          2,
          2,
          1,
          1,
          1,
          3,
          0,
          2,
          3,
          2,
          0,
          3,
          1,
          3,
          1,
          1,
          3,
          0,
          1,
          2,
          2,
          3,
          3,
          1,
          2,
          0,
          1,
          1,
          2,
          3,
          0,
          3,
          0,
          1,
          2,
          3,
          0,
          3,
          1,
          2,
          1,
          2,
          2,
          3,
          2,
          3,
          0,
          2,
          3,
          1,
          3,
          3,
          3,
          2,
          1,
          0,
          0,
          3,
          3,
          0,
          2,
          3,
          0,
          0,
          0,
          1,
          2,
          1,
          3,
          1,
          1,
          3,
          3,
          3
         ],
         "xaxis": "x",
         "yaxis": "y"
        },
        {
         "alignmentgroup": "True",
         "bingroup": "x",
         "hovertemplate": "fraud_reported=N<br>witnesses=%{x}<br>count=%{y}<extra></extra>",
         "legendgroup": "N",
         "marker": {
          "color": "#EF553B",
          "pattern": {
           "shape": ""
          }
         },
         "name": "N",
         "offsetgroup": "N",
         "orientation": "v",
         "showlegend": true,
         "type": "histogram",
         "x": [
          3,
          1,
          0,
          2,
          1,
          1,
          2,
          2,
          0,
          1,
          2,
          2,
          0,
          0,
          0,
          2,
          3,
          3,
          0,
          2,
          0,
          3,
          2,
          1,
          1,
          0,
          2,
          0,
          2,
          2,
          3,
          1,
          0,
          0,
          3,
          2,
          1,
          0,
          1,
          2,
          3,
          3,
          1,
          1,
          3,
          3,
          1,
          3,
          1,
          2,
          0,
          0,
          0,
          1,
          2,
          2,
          2,
          1,
          2,
          3,
          1,
          1,
          1,
          1,
          1,
          1,
          1,
          0,
          0,
          2,
          0,
          0,
          0,
          3,
          1,
          0,
          3,
          0,
          2,
          0,
          1,
          1,
          3,
          3,
          1,
          0,
          0,
          1,
          3,
          0,
          0,
          2,
          2,
          1,
          1,
          1,
          0,
          3,
          2,
          2,
          1,
          3,
          1,
          3,
          1,
          0,
          1,
          3,
          1,
          3,
          0,
          0,
          3,
          0,
          1,
          0,
          2,
          0,
          1,
          0,
          0,
          0,
          2,
          1,
          0,
          1,
          1,
          1,
          1,
          0,
          3,
          3,
          2,
          1,
          3,
          2,
          1,
          2,
          3,
          1,
          1,
          3,
          3,
          1,
          1,
          1,
          0,
          2,
          3,
          2,
          1,
          3,
          3,
          1,
          0,
          2,
          3,
          2,
          1,
          0,
          2,
          0,
          1,
          3,
          1,
          0,
          3,
          3,
          2,
          3,
          1,
          0,
          0,
          1,
          1,
          1,
          0,
          1,
          2,
          2,
          2,
          3,
          3,
          1,
          1,
          0,
          3,
          1,
          1,
          0,
          0,
          0,
          3,
          3,
          0,
          0,
          0,
          2,
          1,
          2,
          1,
          3,
          0,
          3,
          1,
          0,
          0,
          2,
          1,
          2,
          2,
          2,
          2,
          3,
          0,
          0,
          3,
          2,
          2,
          2,
          0,
          1,
          2,
          0,
          2,
          0,
          1,
          3,
          1,
          0,
          2,
          3,
          2,
          2,
          1,
          2,
          0,
          3,
          2,
          2,
          0,
          1,
          1,
          0,
          1,
          3,
          3,
          3,
          2,
          0,
          2,
          0,
          3,
          3,
          2,
          0,
          0,
          1,
          2,
          0,
          2,
          0,
          0,
          1,
          1,
          2,
          3,
          0,
          0,
          0,
          2,
          0,
          3,
          3,
          2,
          0,
          1,
          2,
          1,
          2,
          2,
          0,
          1,
          2,
          0,
          0,
          2,
          1,
          0,
          3,
          0,
          2,
          3,
          3,
          0,
          3,
          3,
          3,
          0,
          2,
          2,
          2,
          3,
          2,
          2,
          3,
          0,
          2,
          0,
          0,
          0,
          2,
          0,
          3,
          2,
          0,
          3,
          3,
          0,
          2,
          1,
          1,
          2,
          3,
          1,
          0,
          3,
          2,
          0,
          3,
          1,
          0,
          0,
          1,
          3,
          0,
          1,
          2,
          3,
          2,
          0,
          2,
          1,
          1,
          0,
          2,
          2,
          2,
          0,
          0,
          1,
          2,
          0,
          0,
          0,
          1,
          0,
          0,
          3,
          1,
          3,
          2,
          2,
          3,
          2,
          1,
          1,
          3,
          2,
          1,
          0,
          1,
          1,
          2,
          1,
          0,
          0,
          3,
          1,
          0,
          3,
          2,
          0,
          1,
          2,
          3,
          2,
          1,
          2,
          1,
          0,
          1,
          1,
          3,
          0,
          3,
          3,
          2,
          3,
          1,
          2,
          2,
          2,
          3,
          0,
          3,
          2,
          2,
          1,
          3,
          1,
          2,
          2,
          3,
          2,
          0,
          1,
          3,
          0,
          3,
          2,
          0,
          1,
          3,
          1,
          2,
          3,
          2,
          2,
          3,
          0,
          0,
          1,
          1,
          2,
          3,
          3,
          3,
          3,
          1,
          0,
          1,
          2,
          0,
          3,
          3,
          0,
          3,
          1,
          0,
          3,
          0,
          1,
          0,
          0,
          1,
          2,
          2,
          1,
          0,
          2,
          0,
          3,
          1,
          0,
          0,
          1,
          2,
          2,
          1,
          2,
          2,
          3,
          1,
          2,
          1,
          3,
          3,
          0,
          2,
          1,
          3,
          2,
          2,
          1,
          3,
          3,
          1,
          3,
          0,
          3,
          0,
          3,
          0,
          1,
          1,
          1,
          2,
          3,
          3,
          3,
          0,
          1,
          1,
          2,
          0,
          2,
          2,
          2,
          2,
          0,
          3,
          0,
          1,
          2,
          3,
          3,
          2,
          1,
          0,
          0,
          1,
          1,
          3,
          0,
          3,
          3,
          1,
          2,
          2,
          3,
          0,
          0,
          0,
          3,
          3,
          0,
          0,
          3,
          0,
          2,
          3,
          1,
          1,
          1,
          1,
          3,
          0,
          3,
          3,
          2,
          3,
          1,
          3,
          1,
          1,
          0,
          2,
          1,
          0,
          0,
          3,
          3,
          2,
          3,
          1,
          3,
          0,
          1,
          0,
          0,
          1,
          0,
          1,
          3,
          1,
          0,
          2,
          1,
          0,
          2,
          1,
          2,
          3,
          1,
          1,
          0,
          2,
          0,
          1,
          3,
          1,
          0,
          3,
          1,
          0,
          1,
          3,
          0,
          2,
          3,
          1,
          1,
          3,
          2,
          2,
          3,
          2,
          1,
          1,
          0,
          0,
          3,
          0,
          0,
          3,
          1,
          1,
          1,
          1,
          2,
          0,
          3,
          1,
          1,
          2,
          1,
          2,
          3,
          0,
          1,
          3,
          3,
          3,
          3,
          0,
          3,
          3,
          2,
          3,
          1,
          1,
          3,
          3,
          2,
          2,
          0,
          2,
          1,
          0,
          3,
          0,
          0,
          2,
          0,
          2,
          3,
          1,
          0,
          2,
          0,
          0,
          0,
          2,
          0,
          0,
          3,
          1,
          0,
          3,
          3,
          0,
          1,
          3,
          3,
          0,
          1,
          3,
          1,
          0,
          2,
          0,
          2,
          2,
          1,
          1,
          2,
          1,
          3,
          1,
          0,
          3,
          3,
          0,
          1,
          3,
          3,
          1,
          1,
          3,
          3,
          0,
          2,
          1,
          0,
          3,
          0,
          3,
          2,
          3,
          1,
          3,
          0,
          3,
          2,
          0,
          3,
          0,
          3,
          1,
          3,
          0,
          2,
          0,
          2,
          0,
          0,
          0,
          2,
          3,
          0,
          1,
          2,
          2,
          3,
          2,
          2,
          2,
          1,
          1,
          2,
          1,
          2,
          2,
          1,
          2,
          1,
          2,
          1,
          3,
          3,
          1,
          3
         ],
         "xaxis": "x",
         "yaxis": "y"
        }
       ],
       "layout": {
        "barmode": "relative",
        "legend": {
         "title": {
          "text": "fraud_reported"
         },
         "tracegroupgap": 0
        },
        "margin": {
         "t": 60
        },
        "template": {
         "data": {
          "bar": [
           {
            "error_x": {
             "color": "#2a3f5f"
            },
            "error_y": {
             "color": "#2a3f5f"
            },
            "marker": {
             "line": {
              "color": "#E5ECF6",
              "width": 0.5
             },
             "pattern": {
              "fillmode": "overlay",
              "size": 10,
              "solidity": 0.2
             }
            },
            "type": "bar"
           }
          ],
          "barpolar": [
           {
            "marker": {
             "line": {
              "color": "#E5ECF6",
              "width": 0.5
             },
             "pattern": {
              "fillmode": "overlay",
              "size": 10,
              "solidity": 0.2
             }
            },
            "type": "barpolar"
           }
          ],
          "carpet": [
           {
            "aaxis": {
             "endlinecolor": "#2a3f5f",
             "gridcolor": "white",
             "linecolor": "white",
             "minorgridcolor": "white",
             "startlinecolor": "#2a3f5f"
            },
            "baxis": {
             "endlinecolor": "#2a3f5f",
             "gridcolor": "white",
             "linecolor": "white",
             "minorgridcolor": "white",
             "startlinecolor": "#2a3f5f"
            },
            "type": "carpet"
           }
          ],
          "choropleth": [
           {
            "colorbar": {
             "outlinewidth": 0,
             "ticks": ""
            },
            "type": "choropleth"
           }
          ],
          "contour": [
           {
            "colorbar": {
             "outlinewidth": 0,
             "ticks": ""
            },
            "colorscale": [
             [
              0,
              "#0d0887"
             ],
             [
              0.1111111111111111,
              "#46039f"
             ],
             [
              0.2222222222222222,
              "#7201a8"
             ],
             [
              0.3333333333333333,
              "#9c179e"
             ],
             [
              0.4444444444444444,
              "#bd3786"
             ],
             [
              0.5555555555555556,
              "#d8576b"
             ],
             [
              0.6666666666666666,
              "#ed7953"
             ],
             [
              0.7777777777777778,
              "#fb9f3a"
             ],
             [
              0.8888888888888888,
              "#fdca26"
             ],
             [
              1,
              "#f0f921"
             ]
            ],
            "type": "contour"
           }
          ],
          "contourcarpet": [
           {
            "colorbar": {
             "outlinewidth": 0,
             "ticks": ""
            },
            "type": "contourcarpet"
           }
          ],
          "heatmap": [
           {
            "colorbar": {
             "outlinewidth": 0,
             "ticks": ""
            },
            "colorscale": [
             [
              0,
              "#0d0887"
             ],
             [
              0.1111111111111111,
              "#46039f"
             ],
             [
              0.2222222222222222,
              "#7201a8"
             ],
             [
              0.3333333333333333,
              "#9c179e"
             ],
             [
              0.4444444444444444,
              "#bd3786"
             ],
             [
              0.5555555555555556,
              "#d8576b"
             ],
             [
              0.6666666666666666,
              "#ed7953"
             ],
             [
              0.7777777777777778,
              "#fb9f3a"
             ],
             [
              0.8888888888888888,
              "#fdca26"
             ],
             [
              1,
              "#f0f921"
             ]
            ],
            "type": "heatmap"
           }
          ],
          "heatmapgl": [
           {
            "colorbar": {
             "outlinewidth": 0,
             "ticks": ""
            },
            "colorscale": [
             [
              0,
              "#0d0887"
             ],
             [
              0.1111111111111111,
              "#46039f"
             ],
             [
              0.2222222222222222,
              "#7201a8"
             ],
             [
              0.3333333333333333,
              "#9c179e"
             ],
             [
              0.4444444444444444,
              "#bd3786"
             ],
             [
              0.5555555555555556,
              "#d8576b"
             ],
             [
              0.6666666666666666,
              "#ed7953"
             ],
             [
              0.7777777777777778,
              "#fb9f3a"
             ],
             [
              0.8888888888888888,
              "#fdca26"
             ],
             [
              1,
              "#f0f921"
             ]
            ],
            "type": "heatmapgl"
           }
          ],
          "histogram": [
           {
            "marker": {
             "pattern": {
              "fillmode": "overlay",
              "size": 10,
              "solidity": 0.2
             }
            },
            "type": "histogram"
           }
          ],
          "histogram2d": [
           {
            "colorbar": {
             "outlinewidth": 0,
             "ticks": ""
            },
            "colorscale": [
             [
              0,
              "#0d0887"
             ],
             [
              0.1111111111111111,
              "#46039f"
             ],
             [
              0.2222222222222222,
              "#7201a8"
             ],
             [
              0.3333333333333333,
              "#9c179e"
             ],
             [
              0.4444444444444444,
              "#bd3786"
             ],
             [
              0.5555555555555556,
              "#d8576b"
             ],
             [
              0.6666666666666666,
              "#ed7953"
             ],
             [
              0.7777777777777778,
              "#fb9f3a"
             ],
             [
              0.8888888888888888,
              "#fdca26"
             ],
             [
              1,
              "#f0f921"
             ]
            ],
            "type": "histogram2d"
           }
          ],
          "histogram2dcontour": [
           {
            "colorbar": {
             "outlinewidth": 0,
             "ticks": ""
            },
            "colorscale": [
             [
              0,
              "#0d0887"
             ],
             [
              0.1111111111111111,
              "#46039f"
             ],
             [
              0.2222222222222222,
              "#7201a8"
             ],
             [
              0.3333333333333333,
              "#9c179e"
             ],
             [
              0.4444444444444444,
              "#bd3786"
             ],
             [
              0.5555555555555556,
              "#d8576b"
             ],
             [
              0.6666666666666666,
              "#ed7953"
             ],
             [
              0.7777777777777778,
              "#fb9f3a"
             ],
             [
              0.8888888888888888,
              "#fdca26"
             ],
             [
              1,
              "#f0f921"
             ]
            ],
            "type": "histogram2dcontour"
           }
          ],
          "mesh3d": [
           {
            "colorbar": {
             "outlinewidth": 0,
             "ticks": ""
            },
            "type": "mesh3d"
           }
          ],
          "parcoords": [
           {
            "line": {
             "colorbar": {
              "outlinewidth": 0,
              "ticks": ""
             }
            },
            "type": "parcoords"
           }
          ],
          "pie": [
           {
            "automargin": true,
            "type": "pie"
           }
          ],
          "scatter": [
           {
            "marker": {
             "colorbar": {
              "outlinewidth": 0,
              "ticks": ""
             }
            },
            "type": "scatter"
           }
          ],
          "scatter3d": [
           {
            "line": {
             "colorbar": {
              "outlinewidth": 0,
              "ticks": ""
             }
            },
            "marker": {
             "colorbar": {
              "outlinewidth": 0,
              "ticks": ""
             }
            },
            "type": "scatter3d"
           }
          ],
          "scattercarpet": [
           {
            "marker": {
             "colorbar": {
              "outlinewidth": 0,
              "ticks": ""
             }
            },
            "type": "scattercarpet"
           }
          ],
          "scattergeo": [
           {
            "marker": {
             "colorbar": {
              "outlinewidth": 0,
              "ticks": ""
             }
            },
            "type": "scattergeo"
           }
          ],
          "scattergl": [
           {
            "marker": {
             "colorbar": {
              "outlinewidth": 0,
              "ticks": ""
             }
            },
            "type": "scattergl"
           }
          ],
          "scattermapbox": [
           {
            "marker": {
             "colorbar": {
              "outlinewidth": 0,
              "ticks": ""
             }
            },
            "type": "scattermapbox"
           }
          ],
          "scatterpolar": [
           {
            "marker": {
             "colorbar": {
              "outlinewidth": 0,
              "ticks": ""
             }
            },
            "type": "scatterpolar"
           }
          ],
          "scatterpolargl": [
           {
            "marker": {
             "colorbar": {
              "outlinewidth": 0,
              "ticks": ""
             }
            },
            "type": "scatterpolargl"
           }
          ],
          "scatterternary": [
           {
            "marker": {
             "colorbar": {
              "outlinewidth": 0,
              "ticks": ""
             }
            },
            "type": "scatterternary"
           }
          ],
          "surface": [
           {
            "colorbar": {
             "outlinewidth": 0,
             "ticks": ""
            },
            "colorscale": [
             [
              0,
              "#0d0887"
             ],
             [
              0.1111111111111111,
              "#46039f"
             ],
             [
              0.2222222222222222,
              "#7201a8"
             ],
             [
              0.3333333333333333,
              "#9c179e"
             ],
             [
              0.4444444444444444,
              "#bd3786"
             ],
             [
              0.5555555555555556,
              "#d8576b"
             ],
             [
              0.6666666666666666,
              "#ed7953"
             ],
             [
              0.7777777777777778,
              "#fb9f3a"
             ],
             [
              0.8888888888888888,
              "#fdca26"
             ],
             [
              1,
              "#f0f921"
             ]
            ],
            "type": "surface"
           }
          ],
          "table": [
           {
            "cells": {
             "fill": {
              "color": "#EBF0F8"
             },
             "line": {
              "color": "white"
             }
            },
            "header": {
             "fill": {
              "color": "#C8D4E3"
             },
             "line": {
              "color": "white"
             }
            },
            "type": "table"
           }
          ]
         },
         "layout": {
          "annotationdefaults": {
           "arrowcolor": "#2a3f5f",
           "arrowhead": 0,
           "arrowwidth": 1
          },
          "autotypenumbers": "strict",
          "coloraxis": {
           "colorbar": {
            "outlinewidth": 0,
            "ticks": ""
           }
          },
          "colorscale": {
           "diverging": [
            [
             0,
             "#8e0152"
            ],
            [
             0.1,
             "#c51b7d"
            ],
            [
             0.2,
             "#de77ae"
            ],
            [
             0.3,
             "#f1b6da"
            ],
            [
             0.4,
             "#fde0ef"
            ],
            [
             0.5,
             "#f7f7f7"
            ],
            [
             0.6,
             "#e6f5d0"
            ],
            [
             0.7,
             "#b8e186"
            ],
            [
             0.8,
             "#7fbc41"
            ],
            [
             0.9,
             "#4d9221"
            ],
            [
             1,
             "#276419"
            ]
           ],
           "sequential": [
            [
             0,
             "#0d0887"
            ],
            [
             0.1111111111111111,
             "#46039f"
            ],
            [
             0.2222222222222222,
             "#7201a8"
            ],
            [
             0.3333333333333333,
             "#9c179e"
            ],
            [
             0.4444444444444444,
             "#bd3786"
            ],
            [
             0.5555555555555556,
             "#d8576b"
            ],
            [
             0.6666666666666666,
             "#ed7953"
            ],
            [
             0.7777777777777778,
             "#fb9f3a"
            ],
            [
             0.8888888888888888,
             "#fdca26"
            ],
            [
             1,
             "#f0f921"
            ]
           ],
           "sequentialminus": [
            [
             0,
             "#0d0887"
            ],
            [
             0.1111111111111111,
             "#46039f"
            ],
            [
             0.2222222222222222,
             "#7201a8"
            ],
            [
             0.3333333333333333,
             "#9c179e"
            ],
            [
             0.4444444444444444,
             "#bd3786"
            ],
            [
             0.5555555555555556,
             "#d8576b"
            ],
            [
             0.6666666666666666,
             "#ed7953"
            ],
            [
             0.7777777777777778,
             "#fb9f3a"
            ],
            [
             0.8888888888888888,
             "#fdca26"
            ],
            [
             1,
             "#f0f921"
            ]
           ]
          },
          "colorway": [
           "#636efa",
           "#EF553B",
           "#00cc96",
           "#ab63fa",
           "#FFA15A",
           "#19d3f3",
           "#FF6692",
           "#B6E880",
           "#FF97FF",
           "#FECB52"
          ],
          "font": {
           "color": "#2a3f5f"
          },
          "geo": {
           "bgcolor": "white",
           "lakecolor": "white",
           "landcolor": "#E5ECF6",
           "showlakes": true,
           "showland": true,
           "subunitcolor": "white"
          },
          "hoverlabel": {
           "align": "left"
          },
          "hovermode": "closest",
          "mapbox": {
           "style": "light"
          },
          "paper_bgcolor": "white",
          "plot_bgcolor": "#E5ECF6",
          "polar": {
           "angularaxis": {
            "gridcolor": "white",
            "linecolor": "white",
            "ticks": ""
           },
           "bgcolor": "#E5ECF6",
           "radialaxis": {
            "gridcolor": "white",
            "linecolor": "white",
            "ticks": ""
           }
          },
          "scene": {
           "xaxis": {
            "backgroundcolor": "#E5ECF6",
            "gridcolor": "white",
            "gridwidth": 2,
            "linecolor": "white",
            "showbackground": true,
            "ticks": "",
            "zerolinecolor": "white"
           },
           "yaxis": {
            "backgroundcolor": "#E5ECF6",
            "gridcolor": "white",
            "gridwidth": 2,
            "linecolor": "white",
            "showbackground": true,
            "ticks": "",
            "zerolinecolor": "white"
           },
           "zaxis": {
            "backgroundcolor": "#E5ECF6",
            "gridcolor": "white",
            "gridwidth": 2,
            "linecolor": "white",
            "showbackground": true,
            "ticks": "",
            "zerolinecolor": "white"
           }
          },
          "shapedefaults": {
           "line": {
            "color": "#2a3f5f"
           }
          },
          "ternary": {
           "aaxis": {
            "gridcolor": "white",
            "linecolor": "white",
            "ticks": ""
           },
           "baxis": {
            "gridcolor": "white",
            "linecolor": "white",
            "ticks": ""
           },
           "bgcolor": "#E5ECF6",
           "caxis": {
            "gridcolor": "white",
            "linecolor": "white",
            "ticks": ""
           }
          },
          "title": {
           "x": 0.05
          },
          "xaxis": {
           "automargin": true,
           "gridcolor": "white",
           "linecolor": "white",
           "ticks": "",
           "title": {
            "standoff": 15
           },
           "zerolinecolor": "white",
           "zerolinewidth": 2
          },
          "yaxis": {
           "automargin": true,
           "gridcolor": "white",
           "linecolor": "white",
           "ticks": "",
           "title": {
            "standoff": 15
           },
           "zerolinecolor": "white",
           "zerolinewidth": 2
          }
         }
        },
        "xaxis": {
         "anchor": "y",
         "domain": [
          0,
          1
         ],
         "title": {
          "text": "witnesses"
         }
        },
        "yaxis": {
         "anchor": "x",
         "domain": [
          0,
          1
         ],
         "title": {
          "text": "count"
         }
        }
       }
      }
     },
     "metadata": {},
     "output_type": "display_data"
    }
   ],
   "source": [
    "fig = px.histogram(df, x=\"witnesses\", color=\"fraud_reported\")\n",
    "fig.show()"
   ]
  },
  {
   "cell_type": "code",
   "execution_count": 43,
   "metadata": {},
   "outputs": [
    {
     "data": {
      "application/vnd.plotly.v1+json": {
       "config": {
        "plotlyServerURL": "https://plot.ly"
       },
       "data": [
        {
         "alignmentgroup": "True",
         "bingroup": "x",
         "hovertemplate": "fraud_reported=Y<br>auto_year=%{x}<br>count=%{y}<extra></extra>",
         "legendgroup": "Y",
         "marker": {
          "color": "#636efa",
          "pattern": {
           "shape": ""
          }
         },
         "name": "Y",
         "offsetgroup": "Y",
         "orientation": "v",
         "showlegend": true,
         "type": "histogram",
         "x": [
          2004,
          2007,
          2014,
          2003,
          2003,
          1999,
          2000,
          2011,
          2006,
          2003,
          2006,
          1995,
          2004,
          2011,
          2001,
          2003,
          2014,
          2003,
          2006,
          1995,
          2009,
          2003,
          1995,
          2013,
          2013,
          2011,
          2004,
          2006,
          2013,
          2000,
          2000,
          2006,
          2015,
          1997,
          2011,
          2008,
          1999,
          2006,
          2000,
          1996,
          2012,
          2002,
          1996,
          2007,
          2011,
          2006,
          2013,
          1996,
          1997,
          2012,
          2007,
          2011,
          2007,
          2003,
          2001,
          1999,
          2004,
          2009,
          2006,
          1998,
          2009,
          2005,
          2015,
          1996,
          2001,
          2012,
          2010,
          2009,
          2011,
          2004,
          2002,
          2010,
          1995,
          2013,
          2013,
          2006,
          2010,
          2004,
          2011,
          2013,
          1997,
          2013,
          2014,
          2010,
          2009,
          1996,
          1998,
          2014,
          2001,
          2006,
          2000,
          2002,
          2009,
          2004,
          2014,
          2008,
          2012,
          2002,
          2007,
          2004,
          1997,
          2011,
          2011,
          2005,
          2013,
          2011,
          2002,
          2013,
          2004,
          1995,
          2011,
          2004,
          2012,
          2000,
          1996,
          2008,
          2005,
          2005,
          2001,
          1999,
          2011,
          1997,
          2013,
          2014,
          2011,
          1998,
          1996,
          2001,
          1999,
          2004,
          2005,
          2014,
          1997,
          2015,
          2013,
          1999,
          2010,
          2005,
          2007,
          1996,
          1995,
          2009,
          2014,
          2006,
          2009,
          2010,
          2013,
          2004,
          1996,
          2007,
          1999,
          1996,
          2000,
          2008,
          2007,
          2008,
          2007,
          2000,
          1997,
          2014,
          1999,
          1995,
          1997,
          1997,
          2001,
          1995,
          2013,
          2007,
          2010,
          2007,
          2006,
          1995,
          1996,
          2007,
          1998,
          2003,
          1996,
          2014,
          2015,
          1995,
          2002,
          2004,
          2007,
          2012,
          2012,
          2007,
          2004,
          2005,
          2009,
          1995,
          1999,
          2011,
          2012,
          2007,
          2008,
          2007,
          2015,
          2015,
          2005,
          2008,
          1998,
          1995,
          2004,
          2014,
          2015,
          2005,
          2009,
          1997,
          2006,
          2009,
          2001,
          2000,
          2002,
          2015,
          2004,
          2007,
          2003,
          1999,
          2000,
          2001,
          2002,
          2015,
          2000,
          1998,
          2005,
          1998,
          2002,
          2006,
          1997,
          1995,
          2005,
          2008,
          2008,
          1996,
          2005,
          2013,
          2011,
          1997,
          2008,
          2014,
          2002,
          1996,
          2007,
          2015,
          2011,
          2015,
          2012
         ],
         "xaxis": "x",
         "yaxis": "y"
        },
        {
         "alignmentgroup": "True",
         "bingroup": "x",
         "hovertemplate": "fraud_reported=N<br>auto_year=%{x}<br>count=%{y}<extra></extra>",
         "legendgroup": "N",
         "marker": {
          "color": "#EF553B",
          "pattern": {
           "shape": ""
          }
         },
         "name": "N",
         "offsetgroup": "N",
         "orientation": "v",
         "showlegend": true,
         "type": "histogram",
         "x": [
          2007,
          2009,
          2012,
          2015,
          2012,
          1996,
          2002,
          2006,
          2000,
          2010,
          2012,
          2015,
          2015,
          2014,
          2011,
          1996,
          2005,
          2005,
          2009,
          2011,
          2005,
          2008,
          2015,
          1999,
          2001,
          2007,
          2010,
          2010,
          2005,
          2014,
          2002,
          2014,
          1995,
          2000,
          1998,
          2008,
          2000,
          1999,
          2009,
          1995,
          2014,
          2014,
          2007,
          2000,
          1997,
          2011,
          1998,
          1997,
          2004,
          1999,
          2002,
          2005,
          2010,
          1998,
          2005,
          2004,
          2005,
          2005,
          2002,
          2002,
          2007,
          2007,
          2015,
          2002,
          1995,
          2007,
          2009,
          2005,
          2001,
          1999,
          2007,
          2007,
          2004,
          2013,
          2008,
          2014,
          2002,
          1997,
          2010,
          2001,
          2007,
          2001,
          2002,
          2015,
          2010,
          2000,
          1995,
          2011,
          2013,
          2001,
          1998,
          1999,
          2012,
          2013,
          2002,
          2006,
          2015,
          2010,
          1999,
          1995,
          2008,
          2001,
          2013,
          2011,
          2014,
          2014,
          2009,
          1997,
          2006,
          2013,
          2013,
          1999,
          2014,
          1997,
          2002,
          2011,
          2012,
          1999,
          2015,
          2011,
          2006,
          2001,
          2014,
          2002,
          2011,
          1998,
          2003,
          1998,
          2010,
          2006,
          1997,
          2009,
          2013,
          2009,
          2010,
          2007,
          2008,
          2001,
          2012,
          2015,
          2003,
          2006,
          2006,
          2014,
          1997,
          2011,
          2006,
          2015,
          2009,
          1995,
          2011,
          2005,
          2003,
          2002,
          2015,
          1999,
          2009,
          2008,
          2004,
          1999,
          2012,
          1995,
          1995,
          2008,
          1999,
          2010,
          2015,
          2000,
          2005,
          2005,
          2006,
          1999,
          2009,
          1999,
          2010,
          1999,
          2015,
          2001,
          2012,
          2014,
          2008,
          2009,
          2001,
          1998,
          1995,
          2004,
          2014,
          2014,
          2001,
          2010,
          1999,
          2009,
          2001,
          2007,
          2003,
          2012,
          2002,
          1997,
          2008,
          2012,
          1997,
          2012,
          2003,
          2009,
          2008,
          1999,
          1997,
          2013,
          1996,
          2010,
          1998,
          2009,
          2010,
          2003,
          2003,
          2006,
          2008,
          2001,
          2013,
          1997,
          2001,
          1999,
          2008,
          2012,
          2014,
          2009,
          1998,
          2009,
          1998,
          2006,
          2005,
          2010,
          2012,
          2015,
          2010,
          2003,
          2014,
          2005,
          2005,
          1995,
          2004,
          2002,
          2008,
          1999,
          2000,
          1996,
          2000,
          2011,
          2002,
          2002,
          2005,
          2009,
          2011,
          2011,
          2000,
          1995,
          1997,
          1995,
          2010,
          2005,
          1999,
          2015,
          1996,
          2002,
          1995,
          2015,
          2009,
          2012,
          2006,
          2013,
          2009,
          2006,
          2014,
          2012,
          2014,
          2007,
          2014,
          2003,
          1999,
          2009,
          2005,
          2013,
          2003,
          2009,
          2015,
          2012,
          2003,
          2015,
          2002,
          2012,
          2008,
          2004,
          1999,
          1999,
          2008,
          2001,
          1995,
          2006,
          2005,
          2008,
          1995,
          1997,
          1999,
          2005,
          2009,
          2005,
          2007,
          1996,
          1995,
          2012,
          2004,
          2013,
          2011,
          2014,
          2001,
          2005,
          1999,
          1995,
          1996,
          1997,
          2004,
          2010,
          2006,
          2008,
          2002,
          2014,
          2005,
          2009,
          2013,
          2007,
          2012,
          2003,
          1997,
          2003,
          2011,
          2007,
          2003,
          1997,
          1995,
          2001,
          2013,
          2006,
          1998,
          2007,
          2007,
          2015,
          1996,
          2003,
          2000,
          2001,
          2015,
          1999,
          2006,
          2013,
          2009,
          1995,
          2003,
          2012,
          2013,
          2005,
          2007,
          2007,
          2015,
          2013,
          1999,
          2002,
          2013,
          2003,
          2015,
          2005,
          1999,
          1998,
          2011,
          2005,
          2003,
          2002,
          2015,
          2003,
          1997,
          2001,
          2001,
          2004,
          2009,
          2014,
          2004,
          2003,
          2005,
          2004,
          2004,
          1997,
          2013,
          2013,
          2010,
          1995,
          2000,
          2012,
          2009,
          2006,
          2004,
          1995,
          2015,
          2011,
          2013,
          2014,
          1996,
          2003,
          2002,
          2008,
          1996,
          1999,
          2001,
          2013,
          2013,
          2011,
          2004,
          2011,
          2010,
          2008,
          1997,
          2002,
          2002,
          2010,
          2007,
          2008,
          1998,
          2010,
          2014,
          2008,
          2012,
          2003,
          2006,
          1999,
          2010,
          2009,
          2007,
          2000,
          2013,
          2002,
          2011,
          1999,
          1995,
          1996,
          2001,
          2003,
          2007,
          2003,
          1997,
          2000,
          2008,
          1997,
          2010,
          2003,
          1996,
          1995,
          2006,
          2005,
          1998,
          2003,
          2010,
          2000,
          2010,
          2006,
          2006,
          1996,
          2012,
          1996,
          1999,
          2010,
          2010,
          2008,
          2004,
          2006,
          2001,
          1999,
          1997,
          2014,
          2005,
          1998,
          1995,
          2009,
          2014,
          2004,
          2003,
          2012,
          2008,
          1995,
          2000,
          2001,
          2010,
          2013,
          2010,
          2012,
          2006,
          2009,
          1999,
          2000,
          1997,
          2010,
          2003,
          2014,
          2002,
          2000,
          2011,
          1995,
          2008,
          2006,
          2003,
          2010,
          1997,
          2001,
          2015,
          2009,
          2008,
          1998,
          1999,
          2002,
          1996,
          1999,
          2005,
          1996,
          2013,
          2006,
          2006,
          2002,
          2002,
          2000,
          1997,
          2015,
          1998,
          1998,
          2000,
          2002,
          2003,
          2004,
          2015,
          2005,
          2007,
          1997,
          2011,
          1997,
          2006,
          2007,
          1999,
          2006,
          2015,
          2001,
          2006,
          1998,
          2003,
          2007,
          2004,
          2010,
          1995,
          2010,
          2003,
          1995,
          2001,
          1997,
          2004,
          2012,
          1995,
          1996,
          1995,
          2005,
          1997,
          1997,
          2012,
          2003,
          2007,
          2001,
          2007,
          2005,
          2011,
          1995,
          2000,
          1995,
          2006,
          2002,
          2003,
          2003,
          2003,
          2005,
          2009,
          2009,
          2011,
          2003,
          2012,
          2007,
          2012,
          2011,
          2015,
          2003,
          1995,
          1999,
          2015,
          1999,
          1998,
          1999,
          2000,
          2009,
          1995,
          2013,
          2005,
          1995,
          2009,
          2012,
          2013,
          2013,
          2010,
          2008,
          2006,
          2009,
          2009,
          1999,
          2011,
          2006,
          2001,
          2002,
          2006,
          1997,
          1995,
          2009,
          2007,
          2011,
          2005,
          2015,
          2006,
          2011,
          1998,
          1999,
          2000,
          2014,
          2005,
          2010,
          2001,
          2014,
          2000,
          1996,
          2008,
          2015,
          2012,
          2005,
          2000,
          2005,
          1999,
          2006,
          2009,
          1996,
          2000,
          2014,
          2008,
          2011,
          2013,
          2007,
          1995,
          2000,
          2008,
          2002,
          2011,
          1998,
          2004,
          2002,
          2002,
          2011,
          2007,
          2012,
          2006,
          2001,
          2011,
          2000,
          2008,
          2010,
          1998,
          1998,
          2000,
          1998,
          1997,
          1996,
          2014,
          2011,
          2005,
          2010,
          2010,
          2012,
          2001,
          2011,
          1998,
          1999,
          2009,
          1998,
          2000,
          2011,
          1998,
          2007,
          2003,
          2010,
          1998,
          2000,
          1996,
          2008,
          2010,
          2003,
          1995,
          2002,
          1998,
          1998,
          2015,
          2005,
          1997,
          2015,
          2011,
          2010,
          2001,
          2000,
          2014,
          2012,
          2004,
          2013,
          2003,
          1995,
          1995,
          2008,
          2005,
          2012,
          2013,
          2006,
          1995,
          1998,
          2003,
          2012,
          2007,
          1995,
          2008,
          2002,
          1999,
          2004,
          1999,
          2008,
          2002,
          2013,
          1995,
          1997,
          2015,
          2013,
          2002,
          2010,
          2012,
          1996,
          2006,
          2015,
          1996,
          1998,
          2007
         ],
         "xaxis": "x",
         "yaxis": "y"
        }
       ],
       "layout": {
        "barmode": "relative",
        "legend": {
         "title": {
          "text": "fraud_reported"
         },
         "tracegroupgap": 0
        },
        "margin": {
         "t": 60
        },
        "template": {
         "data": {
          "bar": [
           {
            "error_x": {
             "color": "#2a3f5f"
            },
            "error_y": {
             "color": "#2a3f5f"
            },
            "marker": {
             "line": {
              "color": "#E5ECF6",
              "width": 0.5
             },
             "pattern": {
              "fillmode": "overlay",
              "size": 10,
              "solidity": 0.2
             }
            },
            "type": "bar"
           }
          ],
          "barpolar": [
           {
            "marker": {
             "line": {
              "color": "#E5ECF6",
              "width": 0.5
             },
             "pattern": {
              "fillmode": "overlay",
              "size": 10,
              "solidity": 0.2
             }
            },
            "type": "barpolar"
           }
          ],
          "carpet": [
           {
            "aaxis": {
             "endlinecolor": "#2a3f5f",
             "gridcolor": "white",
             "linecolor": "white",
             "minorgridcolor": "white",
             "startlinecolor": "#2a3f5f"
            },
            "baxis": {
             "endlinecolor": "#2a3f5f",
             "gridcolor": "white",
             "linecolor": "white",
             "minorgridcolor": "white",
             "startlinecolor": "#2a3f5f"
            },
            "type": "carpet"
           }
          ],
          "choropleth": [
           {
            "colorbar": {
             "outlinewidth": 0,
             "ticks": ""
            },
            "type": "choropleth"
           }
          ],
          "contour": [
           {
            "colorbar": {
             "outlinewidth": 0,
             "ticks": ""
            },
            "colorscale": [
             [
              0,
              "#0d0887"
             ],
             [
              0.1111111111111111,
              "#46039f"
             ],
             [
              0.2222222222222222,
              "#7201a8"
             ],
             [
              0.3333333333333333,
              "#9c179e"
             ],
             [
              0.4444444444444444,
              "#bd3786"
             ],
             [
              0.5555555555555556,
              "#d8576b"
             ],
             [
              0.6666666666666666,
              "#ed7953"
             ],
             [
              0.7777777777777778,
              "#fb9f3a"
             ],
             [
              0.8888888888888888,
              "#fdca26"
             ],
             [
              1,
              "#f0f921"
             ]
            ],
            "type": "contour"
           }
          ],
          "contourcarpet": [
           {
            "colorbar": {
             "outlinewidth": 0,
             "ticks": ""
            },
            "type": "contourcarpet"
           }
          ],
          "heatmap": [
           {
            "colorbar": {
             "outlinewidth": 0,
             "ticks": ""
            },
            "colorscale": [
             [
              0,
              "#0d0887"
             ],
             [
              0.1111111111111111,
              "#46039f"
             ],
             [
              0.2222222222222222,
              "#7201a8"
             ],
             [
              0.3333333333333333,
              "#9c179e"
             ],
             [
              0.4444444444444444,
              "#bd3786"
             ],
             [
              0.5555555555555556,
              "#d8576b"
             ],
             [
              0.6666666666666666,
              "#ed7953"
             ],
             [
              0.7777777777777778,
              "#fb9f3a"
             ],
             [
              0.8888888888888888,
              "#fdca26"
             ],
             [
              1,
              "#f0f921"
             ]
            ],
            "type": "heatmap"
           }
          ],
          "heatmapgl": [
           {
            "colorbar": {
             "outlinewidth": 0,
             "ticks": ""
            },
            "colorscale": [
             [
              0,
              "#0d0887"
             ],
             [
              0.1111111111111111,
              "#46039f"
             ],
             [
              0.2222222222222222,
              "#7201a8"
             ],
             [
              0.3333333333333333,
              "#9c179e"
             ],
             [
              0.4444444444444444,
              "#bd3786"
             ],
             [
              0.5555555555555556,
              "#d8576b"
             ],
             [
              0.6666666666666666,
              "#ed7953"
             ],
             [
              0.7777777777777778,
              "#fb9f3a"
             ],
             [
              0.8888888888888888,
              "#fdca26"
             ],
             [
              1,
              "#f0f921"
             ]
            ],
            "type": "heatmapgl"
           }
          ],
          "histogram": [
           {
            "marker": {
             "pattern": {
              "fillmode": "overlay",
              "size": 10,
              "solidity": 0.2
             }
            },
            "type": "histogram"
           }
          ],
          "histogram2d": [
           {
            "colorbar": {
             "outlinewidth": 0,
             "ticks": ""
            },
            "colorscale": [
             [
              0,
              "#0d0887"
             ],
             [
              0.1111111111111111,
              "#46039f"
             ],
             [
              0.2222222222222222,
              "#7201a8"
             ],
             [
              0.3333333333333333,
              "#9c179e"
             ],
             [
              0.4444444444444444,
              "#bd3786"
             ],
             [
              0.5555555555555556,
              "#d8576b"
             ],
             [
              0.6666666666666666,
              "#ed7953"
             ],
             [
              0.7777777777777778,
              "#fb9f3a"
             ],
             [
              0.8888888888888888,
              "#fdca26"
             ],
             [
              1,
              "#f0f921"
             ]
            ],
            "type": "histogram2d"
           }
          ],
          "histogram2dcontour": [
           {
            "colorbar": {
             "outlinewidth": 0,
             "ticks": ""
            },
            "colorscale": [
             [
              0,
              "#0d0887"
             ],
             [
              0.1111111111111111,
              "#46039f"
             ],
             [
              0.2222222222222222,
              "#7201a8"
             ],
             [
              0.3333333333333333,
              "#9c179e"
             ],
             [
              0.4444444444444444,
              "#bd3786"
             ],
             [
              0.5555555555555556,
              "#d8576b"
             ],
             [
              0.6666666666666666,
              "#ed7953"
             ],
             [
              0.7777777777777778,
              "#fb9f3a"
             ],
             [
              0.8888888888888888,
              "#fdca26"
             ],
             [
              1,
              "#f0f921"
             ]
            ],
            "type": "histogram2dcontour"
           }
          ],
          "mesh3d": [
           {
            "colorbar": {
             "outlinewidth": 0,
             "ticks": ""
            },
            "type": "mesh3d"
           }
          ],
          "parcoords": [
           {
            "line": {
             "colorbar": {
              "outlinewidth": 0,
              "ticks": ""
             }
            },
            "type": "parcoords"
           }
          ],
          "pie": [
           {
            "automargin": true,
            "type": "pie"
           }
          ],
          "scatter": [
           {
            "marker": {
             "colorbar": {
              "outlinewidth": 0,
              "ticks": ""
             }
            },
            "type": "scatter"
           }
          ],
          "scatter3d": [
           {
            "line": {
             "colorbar": {
              "outlinewidth": 0,
              "ticks": ""
             }
            },
            "marker": {
             "colorbar": {
              "outlinewidth": 0,
              "ticks": ""
             }
            },
            "type": "scatter3d"
           }
          ],
          "scattercarpet": [
           {
            "marker": {
             "colorbar": {
              "outlinewidth": 0,
              "ticks": ""
             }
            },
            "type": "scattercarpet"
           }
          ],
          "scattergeo": [
           {
            "marker": {
             "colorbar": {
              "outlinewidth": 0,
              "ticks": ""
             }
            },
            "type": "scattergeo"
           }
          ],
          "scattergl": [
           {
            "marker": {
             "colorbar": {
              "outlinewidth": 0,
              "ticks": ""
             }
            },
            "type": "scattergl"
           }
          ],
          "scattermapbox": [
           {
            "marker": {
             "colorbar": {
              "outlinewidth": 0,
              "ticks": ""
             }
            },
            "type": "scattermapbox"
           }
          ],
          "scatterpolar": [
           {
            "marker": {
             "colorbar": {
              "outlinewidth": 0,
              "ticks": ""
             }
            },
            "type": "scatterpolar"
           }
          ],
          "scatterpolargl": [
           {
            "marker": {
             "colorbar": {
              "outlinewidth": 0,
              "ticks": ""
             }
            },
            "type": "scatterpolargl"
           }
          ],
          "scatterternary": [
           {
            "marker": {
             "colorbar": {
              "outlinewidth": 0,
              "ticks": ""
             }
            },
            "type": "scatterternary"
           }
          ],
          "surface": [
           {
            "colorbar": {
             "outlinewidth": 0,
             "ticks": ""
            },
            "colorscale": [
             [
              0,
              "#0d0887"
             ],
             [
              0.1111111111111111,
              "#46039f"
             ],
             [
              0.2222222222222222,
              "#7201a8"
             ],
             [
              0.3333333333333333,
              "#9c179e"
             ],
             [
              0.4444444444444444,
              "#bd3786"
             ],
             [
              0.5555555555555556,
              "#d8576b"
             ],
             [
              0.6666666666666666,
              "#ed7953"
             ],
             [
              0.7777777777777778,
              "#fb9f3a"
             ],
             [
              0.8888888888888888,
              "#fdca26"
             ],
             [
              1,
              "#f0f921"
             ]
            ],
            "type": "surface"
           }
          ],
          "table": [
           {
            "cells": {
             "fill": {
              "color": "#EBF0F8"
             },
             "line": {
              "color": "white"
             }
            },
            "header": {
             "fill": {
              "color": "#C8D4E3"
             },
             "line": {
              "color": "white"
             }
            },
            "type": "table"
           }
          ]
         },
         "layout": {
          "annotationdefaults": {
           "arrowcolor": "#2a3f5f",
           "arrowhead": 0,
           "arrowwidth": 1
          },
          "autotypenumbers": "strict",
          "coloraxis": {
           "colorbar": {
            "outlinewidth": 0,
            "ticks": ""
           }
          },
          "colorscale": {
           "diverging": [
            [
             0,
             "#8e0152"
            ],
            [
             0.1,
             "#c51b7d"
            ],
            [
             0.2,
             "#de77ae"
            ],
            [
             0.3,
             "#f1b6da"
            ],
            [
             0.4,
             "#fde0ef"
            ],
            [
             0.5,
             "#f7f7f7"
            ],
            [
             0.6,
             "#e6f5d0"
            ],
            [
             0.7,
             "#b8e186"
            ],
            [
             0.8,
             "#7fbc41"
            ],
            [
             0.9,
             "#4d9221"
            ],
            [
             1,
             "#276419"
            ]
           ],
           "sequential": [
            [
             0,
             "#0d0887"
            ],
            [
             0.1111111111111111,
             "#46039f"
            ],
            [
             0.2222222222222222,
             "#7201a8"
            ],
            [
             0.3333333333333333,
             "#9c179e"
            ],
            [
             0.4444444444444444,
             "#bd3786"
            ],
            [
             0.5555555555555556,
             "#d8576b"
            ],
            [
             0.6666666666666666,
             "#ed7953"
            ],
            [
             0.7777777777777778,
             "#fb9f3a"
            ],
            [
             0.8888888888888888,
             "#fdca26"
            ],
            [
             1,
             "#f0f921"
            ]
           ],
           "sequentialminus": [
            [
             0,
             "#0d0887"
            ],
            [
             0.1111111111111111,
             "#46039f"
            ],
            [
             0.2222222222222222,
             "#7201a8"
            ],
            [
             0.3333333333333333,
             "#9c179e"
            ],
            [
             0.4444444444444444,
             "#bd3786"
            ],
            [
             0.5555555555555556,
             "#d8576b"
            ],
            [
             0.6666666666666666,
             "#ed7953"
            ],
            [
             0.7777777777777778,
             "#fb9f3a"
            ],
            [
             0.8888888888888888,
             "#fdca26"
            ],
            [
             1,
             "#f0f921"
            ]
           ]
          },
          "colorway": [
           "#636efa",
           "#EF553B",
           "#00cc96",
           "#ab63fa",
           "#FFA15A",
           "#19d3f3",
           "#FF6692",
           "#B6E880",
           "#FF97FF",
           "#FECB52"
          ],
          "font": {
           "color": "#2a3f5f"
          },
          "geo": {
           "bgcolor": "white",
           "lakecolor": "white",
           "landcolor": "#E5ECF6",
           "showlakes": true,
           "showland": true,
           "subunitcolor": "white"
          },
          "hoverlabel": {
           "align": "left"
          },
          "hovermode": "closest",
          "mapbox": {
           "style": "light"
          },
          "paper_bgcolor": "white",
          "plot_bgcolor": "#E5ECF6",
          "polar": {
           "angularaxis": {
            "gridcolor": "white",
            "linecolor": "white",
            "ticks": ""
           },
           "bgcolor": "#E5ECF6",
           "radialaxis": {
            "gridcolor": "white",
            "linecolor": "white",
            "ticks": ""
           }
          },
          "scene": {
           "xaxis": {
            "backgroundcolor": "#E5ECF6",
            "gridcolor": "white",
            "gridwidth": 2,
            "linecolor": "white",
            "showbackground": true,
            "ticks": "",
            "zerolinecolor": "white"
           },
           "yaxis": {
            "backgroundcolor": "#E5ECF6",
            "gridcolor": "white",
            "gridwidth": 2,
            "linecolor": "white",
            "showbackground": true,
            "ticks": "",
            "zerolinecolor": "white"
           },
           "zaxis": {
            "backgroundcolor": "#E5ECF6",
            "gridcolor": "white",
            "gridwidth": 2,
            "linecolor": "white",
            "showbackground": true,
            "ticks": "",
            "zerolinecolor": "white"
           }
          },
          "shapedefaults": {
           "line": {
            "color": "#2a3f5f"
           }
          },
          "ternary": {
           "aaxis": {
            "gridcolor": "white",
            "linecolor": "white",
            "ticks": ""
           },
           "baxis": {
            "gridcolor": "white",
            "linecolor": "white",
            "ticks": ""
           },
           "bgcolor": "#E5ECF6",
           "caxis": {
            "gridcolor": "white",
            "linecolor": "white",
            "ticks": ""
           }
          },
          "title": {
           "x": 0.05
          },
          "xaxis": {
           "automargin": true,
           "gridcolor": "white",
           "linecolor": "white",
           "ticks": "",
           "title": {
            "standoff": 15
           },
           "zerolinecolor": "white",
           "zerolinewidth": 2
          },
          "yaxis": {
           "automargin": true,
           "gridcolor": "white",
           "linecolor": "white",
           "ticks": "",
           "title": {
            "standoff": 15
           },
           "zerolinecolor": "white",
           "zerolinewidth": 2
          }
         }
        },
        "xaxis": {
         "anchor": "y",
         "domain": [
          0,
          1
         ],
         "title": {
          "text": "auto_year"
         }
        },
        "yaxis": {
         "anchor": "x",
         "domain": [
          0,
          1
         ],
         "title": {
          "text": "count"
         }
        }
       }
      }
     },
     "metadata": {},
     "output_type": "display_data"
    }
   ],
   "source": [
    "fig = px.histogram(df, x=\"auto_year\", color=\"fraud_reported\")\n",
    "fig.show()"
   ]
  },
  {
   "cell_type": "markdown",
   "metadata": {},
   "source": [
    "# Data preperation"
   ]
  },
  {
   "cell_type": "markdown",
   "metadata": {},
   "source": [
    "### Dropping categorical variables which have too many unique values (>=14)"
   ]
  },
  {
   "cell_type": "code",
   "execution_count": 72,
   "metadata": {},
   "outputs": [
    {
     "data": {
      "text/html": [
       "<div>\n",
       "<style scoped>\n",
       "    .dataframe tbody tr th:only-of-type {\n",
       "        vertical-align: middle;\n",
       "    }\n",
       "\n",
       "    .dataframe tbody tr th {\n",
       "        vertical-align: top;\n",
       "    }\n",
       "\n",
       "    .dataframe thead th {\n",
       "        text-align: right;\n",
       "    }\n",
       "</style>\n",
       "<table border=\"1\" class=\"dataframe\">\n",
       "  <thead>\n",
       "    <tr style=\"text-align: right;\">\n",
       "      <th></th>\n",
       "      <th>months_as_customer</th>\n",
       "      <th>age</th>\n",
       "      <th>policy_csl</th>\n",
       "      <th>policy_deductable</th>\n",
       "      <th>policy_annual_premium</th>\n",
       "      <th>umbrella_limit</th>\n",
       "      <th>insured_sex</th>\n",
       "      <th>insured_education_level</th>\n",
       "      <th>insured_hobbies</th>\n",
       "      <th>insured_relationship</th>\n",
       "      <th>...</th>\n",
       "      <th>property_damage</th>\n",
       "      <th>bodily_injuries</th>\n",
       "      <th>witnesses</th>\n",
       "      <th>police_report_available</th>\n",
       "      <th>total_claim_amount</th>\n",
       "      <th>injury_claim</th>\n",
       "      <th>property_claim</th>\n",
       "      <th>vehicle_claim</th>\n",
       "      <th>auto_year</th>\n",
       "      <th>fraud_reported</th>\n",
       "    </tr>\n",
       "  </thead>\n",
       "  <tbody>\n",
       "    <tr>\n",
       "      <th>0</th>\n",
       "      <td>328</td>\n",
       "      <td>48</td>\n",
       "      <td>250/500</td>\n",
       "      <td>1000</td>\n",
       "      <td>1406.91</td>\n",
       "      <td>0</td>\n",
       "      <td>MALE</td>\n",
       "      <td>MD</td>\n",
       "      <td>sleeping</td>\n",
       "      <td>husband</td>\n",
       "      <td>...</td>\n",
       "      <td>YES</td>\n",
       "      <td>1</td>\n",
       "      <td>2</td>\n",
       "      <td>YES</td>\n",
       "      <td>71610</td>\n",
       "      <td>6510</td>\n",
       "      <td>13020</td>\n",
       "      <td>52080</td>\n",
       "      <td>2004</td>\n",
       "      <td>Y</td>\n",
       "    </tr>\n",
       "    <tr>\n",
       "      <th>1</th>\n",
       "      <td>228</td>\n",
       "      <td>42</td>\n",
       "      <td>250/500</td>\n",
       "      <td>2000</td>\n",
       "      <td>1197.22</td>\n",
       "      <td>5000000</td>\n",
       "      <td>MALE</td>\n",
       "      <td>MD</td>\n",
       "      <td>reading</td>\n",
       "      <td>other-relative</td>\n",
       "      <td>...</td>\n",
       "      <td>?</td>\n",
       "      <td>0</td>\n",
       "      <td>0</td>\n",
       "      <td>?</td>\n",
       "      <td>5070</td>\n",
       "      <td>780</td>\n",
       "      <td>780</td>\n",
       "      <td>3510</td>\n",
       "      <td>2007</td>\n",
       "      <td>Y</td>\n",
       "    </tr>\n",
       "    <tr>\n",
       "      <th>2</th>\n",
       "      <td>134</td>\n",
       "      <td>29</td>\n",
       "      <td>100/300</td>\n",
       "      <td>2000</td>\n",
       "      <td>1413.14</td>\n",
       "      <td>5000000</td>\n",
       "      <td>FEMALE</td>\n",
       "      <td>PhD</td>\n",
       "      <td>board-games</td>\n",
       "      <td>own-child</td>\n",
       "      <td>...</td>\n",
       "      <td>NO</td>\n",
       "      <td>2</td>\n",
       "      <td>3</td>\n",
       "      <td>NO</td>\n",
       "      <td>34650</td>\n",
       "      <td>7700</td>\n",
       "      <td>3850</td>\n",
       "      <td>23100</td>\n",
       "      <td>2007</td>\n",
       "      <td>N</td>\n",
       "    </tr>\n",
       "    <tr>\n",
       "      <th>3</th>\n",
       "      <td>256</td>\n",
       "      <td>41</td>\n",
       "      <td>250/500</td>\n",
       "      <td>2000</td>\n",
       "      <td>1415.74</td>\n",
       "      <td>6000000</td>\n",
       "      <td>FEMALE</td>\n",
       "      <td>PhD</td>\n",
       "      <td>board-games</td>\n",
       "      <td>unmarried</td>\n",
       "      <td>...</td>\n",
       "      <td>?</td>\n",
       "      <td>1</td>\n",
       "      <td>2</td>\n",
       "      <td>NO</td>\n",
       "      <td>63400</td>\n",
       "      <td>6340</td>\n",
       "      <td>6340</td>\n",
       "      <td>50720</td>\n",
       "      <td>2014</td>\n",
       "      <td>Y</td>\n",
       "    </tr>\n",
       "    <tr>\n",
       "      <th>4</th>\n",
       "      <td>228</td>\n",
       "      <td>44</td>\n",
       "      <td>500/1000</td>\n",
       "      <td>1000</td>\n",
       "      <td>1583.91</td>\n",
       "      <td>6000000</td>\n",
       "      <td>MALE</td>\n",
       "      <td>Associate</td>\n",
       "      <td>board-games</td>\n",
       "      <td>unmarried</td>\n",
       "      <td>...</td>\n",
       "      <td>NO</td>\n",
       "      <td>0</td>\n",
       "      <td>1</td>\n",
       "      <td>NO</td>\n",
       "      <td>6500</td>\n",
       "      <td>1300</td>\n",
       "      <td>650</td>\n",
       "      <td>4550</td>\n",
       "      <td>2009</td>\n",
       "      <td>N</td>\n",
       "    </tr>\n",
       "  </tbody>\n",
       "</table>\n",
       "<p>5 rows × 30 columns</p>\n",
       "</div>"
      ],
      "text/plain": [
       "   months_as_customer  age policy_csl  policy_deductable  \\\n",
       "0                 328   48    250/500               1000   \n",
       "1                 228   42    250/500               2000   \n",
       "2                 134   29    100/300               2000   \n",
       "3                 256   41    250/500               2000   \n",
       "4                 228   44   500/1000               1000   \n",
       "\n",
       "   policy_annual_premium  umbrella_limit insured_sex insured_education_level  \\\n",
       "0                1406.91               0        MALE                      MD   \n",
       "1                1197.22         5000000        MALE                      MD   \n",
       "2                1413.14         5000000      FEMALE                     PhD   \n",
       "3                1415.74         6000000      FEMALE                     PhD   \n",
       "4                1583.91         6000000        MALE               Associate   \n",
       "\n",
       "  insured_hobbies insured_relationship  ...  property_damage  bodily_injuries  \\\n",
       "0        sleeping              husband  ...              YES                1   \n",
       "1         reading       other-relative  ...                ?                0   \n",
       "2     board-games            own-child  ...               NO                2   \n",
       "3     board-games            unmarried  ...                ?                1   \n",
       "4     board-games            unmarried  ...               NO                0   \n",
       "\n",
       "  witnesses police_report_available total_claim_amount injury_claim  \\\n",
       "0         2                     YES              71610         6510   \n",
       "1         0                       ?               5070          780   \n",
       "2         3                      NO              34650         7700   \n",
       "3         2                      NO              63400         6340   \n",
       "4         1                      NO               6500         1300   \n",
       "\n",
       "  property_claim vehicle_claim  auto_year  fraud_reported  \n",
       "0          13020         52080       2004               Y  \n",
       "1            780          3510       2007               Y  \n",
       "2           3850         23100       2007               N  \n",
       "3           6340         50720       2014               Y  \n",
       "4            650          4550       2009               N  \n",
       "\n",
       "[5 rows x 30 columns]"
      ]
     },
     "execution_count": 72,
     "metadata": {},
     "output_type": "execute_result"
    }
   ],
   "source": [
    "to_drop = ['policy_number','policy_bind_date','policy_state','insured_zip','incident_location','incident_date','auto_make','auto_model','insured_occupation']\n",
    "df.drop(to_drop, inplace = True, axis = 1)\n",
    "df.head()"
   ]
  },
  {
   "cell_type": "markdown",
   "metadata": {},
   "source": [
    "### Dropping numeric variables having high correlation"
   ]
  },
  {
   "cell_type": "code",
   "execution_count": 73,
   "metadata": {},
   "outputs": [
    {
     "data": {
      "text/html": [
       "<div>\n",
       "<style scoped>\n",
       "    .dataframe tbody tr th:only-of-type {\n",
       "        vertical-align: middle;\n",
       "    }\n",
       "\n",
       "    .dataframe tbody tr th {\n",
       "        vertical-align: top;\n",
       "    }\n",
       "\n",
       "    .dataframe thead th {\n",
       "        text-align: right;\n",
       "    }\n",
       "</style>\n",
       "<table border=\"1\" class=\"dataframe\">\n",
       "  <thead>\n",
       "    <tr style=\"text-align: right;\">\n",
       "      <th></th>\n",
       "      <th>months_as_customer</th>\n",
       "      <th>policy_csl</th>\n",
       "      <th>policy_deductable</th>\n",
       "      <th>policy_annual_premium</th>\n",
       "      <th>umbrella_limit</th>\n",
       "      <th>insured_sex</th>\n",
       "      <th>insured_education_level</th>\n",
       "      <th>insured_hobbies</th>\n",
       "      <th>insured_relationship</th>\n",
       "      <th>capital-gains</th>\n",
       "      <th>...</th>\n",
       "      <th>number_of_vehicles_involved</th>\n",
       "      <th>property_damage</th>\n",
       "      <th>bodily_injuries</th>\n",
       "      <th>witnesses</th>\n",
       "      <th>police_report_available</th>\n",
       "      <th>injury_claim</th>\n",
       "      <th>property_claim</th>\n",
       "      <th>vehicle_claim</th>\n",
       "      <th>auto_year</th>\n",
       "      <th>fraud_reported</th>\n",
       "    </tr>\n",
       "  </thead>\n",
       "  <tbody>\n",
       "    <tr>\n",
       "      <th>0</th>\n",
       "      <td>328</td>\n",
       "      <td>250/500</td>\n",
       "      <td>1000</td>\n",
       "      <td>1406.91</td>\n",
       "      <td>0</td>\n",
       "      <td>MALE</td>\n",
       "      <td>MD</td>\n",
       "      <td>sleeping</td>\n",
       "      <td>husband</td>\n",
       "      <td>53300</td>\n",
       "      <td>...</td>\n",
       "      <td>1</td>\n",
       "      <td>YES</td>\n",
       "      <td>1</td>\n",
       "      <td>2</td>\n",
       "      <td>YES</td>\n",
       "      <td>6510</td>\n",
       "      <td>13020</td>\n",
       "      <td>52080</td>\n",
       "      <td>2004</td>\n",
       "      <td>Y</td>\n",
       "    </tr>\n",
       "    <tr>\n",
       "      <th>1</th>\n",
       "      <td>228</td>\n",
       "      <td>250/500</td>\n",
       "      <td>2000</td>\n",
       "      <td>1197.22</td>\n",
       "      <td>5000000</td>\n",
       "      <td>MALE</td>\n",
       "      <td>MD</td>\n",
       "      <td>reading</td>\n",
       "      <td>other-relative</td>\n",
       "      <td>0</td>\n",
       "      <td>...</td>\n",
       "      <td>1</td>\n",
       "      <td>?</td>\n",
       "      <td>0</td>\n",
       "      <td>0</td>\n",
       "      <td>?</td>\n",
       "      <td>780</td>\n",
       "      <td>780</td>\n",
       "      <td>3510</td>\n",
       "      <td>2007</td>\n",
       "      <td>Y</td>\n",
       "    </tr>\n",
       "    <tr>\n",
       "      <th>2</th>\n",
       "      <td>134</td>\n",
       "      <td>100/300</td>\n",
       "      <td>2000</td>\n",
       "      <td>1413.14</td>\n",
       "      <td>5000000</td>\n",
       "      <td>FEMALE</td>\n",
       "      <td>PhD</td>\n",
       "      <td>board-games</td>\n",
       "      <td>own-child</td>\n",
       "      <td>35100</td>\n",
       "      <td>...</td>\n",
       "      <td>3</td>\n",
       "      <td>NO</td>\n",
       "      <td>2</td>\n",
       "      <td>3</td>\n",
       "      <td>NO</td>\n",
       "      <td>7700</td>\n",
       "      <td>3850</td>\n",
       "      <td>23100</td>\n",
       "      <td>2007</td>\n",
       "      <td>N</td>\n",
       "    </tr>\n",
       "    <tr>\n",
       "      <th>3</th>\n",
       "      <td>256</td>\n",
       "      <td>250/500</td>\n",
       "      <td>2000</td>\n",
       "      <td>1415.74</td>\n",
       "      <td>6000000</td>\n",
       "      <td>FEMALE</td>\n",
       "      <td>PhD</td>\n",
       "      <td>board-games</td>\n",
       "      <td>unmarried</td>\n",
       "      <td>48900</td>\n",
       "      <td>...</td>\n",
       "      <td>1</td>\n",
       "      <td>?</td>\n",
       "      <td>1</td>\n",
       "      <td>2</td>\n",
       "      <td>NO</td>\n",
       "      <td>6340</td>\n",
       "      <td>6340</td>\n",
       "      <td>50720</td>\n",
       "      <td>2014</td>\n",
       "      <td>Y</td>\n",
       "    </tr>\n",
       "    <tr>\n",
       "      <th>4</th>\n",
       "      <td>228</td>\n",
       "      <td>500/1000</td>\n",
       "      <td>1000</td>\n",
       "      <td>1583.91</td>\n",
       "      <td>6000000</td>\n",
       "      <td>MALE</td>\n",
       "      <td>Associate</td>\n",
       "      <td>board-games</td>\n",
       "      <td>unmarried</td>\n",
       "      <td>66000</td>\n",
       "      <td>...</td>\n",
       "      <td>1</td>\n",
       "      <td>NO</td>\n",
       "      <td>0</td>\n",
       "      <td>1</td>\n",
       "      <td>NO</td>\n",
       "      <td>1300</td>\n",
       "      <td>650</td>\n",
       "      <td>4550</td>\n",
       "      <td>2009</td>\n",
       "      <td>N</td>\n",
       "    </tr>\n",
       "  </tbody>\n",
       "</table>\n",
       "<p>5 rows × 28 columns</p>\n",
       "</div>"
      ],
      "text/plain": [
       "   months_as_customer policy_csl  policy_deductable  policy_annual_premium  \\\n",
       "0                 328    250/500               1000                1406.91   \n",
       "1                 228    250/500               2000                1197.22   \n",
       "2                 134    100/300               2000                1413.14   \n",
       "3                 256    250/500               2000                1415.74   \n",
       "4                 228   500/1000               1000                1583.91   \n",
       "\n",
       "   umbrella_limit insured_sex insured_education_level insured_hobbies  \\\n",
       "0               0        MALE                      MD        sleeping   \n",
       "1         5000000        MALE                      MD         reading   \n",
       "2         5000000      FEMALE                     PhD     board-games   \n",
       "3         6000000      FEMALE                     PhD     board-games   \n",
       "4         6000000        MALE               Associate     board-games   \n",
       "\n",
       "  insured_relationship  capital-gains  ...  number_of_vehicles_involved  \\\n",
       "0              husband          53300  ...                            1   \n",
       "1       other-relative              0  ...                            1   \n",
       "2            own-child          35100  ...                            3   \n",
       "3            unmarried          48900  ...                            1   \n",
       "4            unmarried          66000  ...                            1   \n",
       "\n",
       "  property_damage bodily_injuries witnesses police_report_available  \\\n",
       "0             YES               1         2                     YES   \n",
       "1               ?               0         0                       ?   \n",
       "2              NO               2         3                      NO   \n",
       "3               ?               1         2                      NO   \n",
       "4              NO               0         1                      NO   \n",
       "\n",
       "  injury_claim property_claim  vehicle_claim  auto_year fraud_reported  \n",
       "0         6510          13020          52080       2004              Y  \n",
       "1          780            780           3510       2007              Y  \n",
       "2         7700           3850          23100       2007              N  \n",
       "3         6340           6340          50720       2014              Y  \n",
       "4         1300            650           4550       2009              N  \n",
       "\n",
       "[5 rows x 28 columns]"
      ]
     },
     "execution_count": 73,
     "metadata": {},
     "output_type": "execute_result"
    }
   ],
   "source": [
    "df.drop(columns = ['age', 'total_claim_amount'], inplace = True, axis = 1)\n",
    "df.head()"
   ]
  },
  {
   "cell_type": "markdown",
   "metadata": {},
   "source": [
    "### 'Insured Hobbies' column has high positives for chess and crossfit. Hence these two values are kept and the other values are changed as 'others'"
   ]
  },
  {
   "cell_type": "code",
   "execution_count": 74,
   "metadata": {},
   "outputs": [],
   "source": [
    "df['insured_hobbies']=df['insured_hobbies'].apply(lambda x :'Other' if x!='chess' and x!='cross-fit' else x)"
   ]
  },
  {
   "cell_type": "code",
   "execution_count": 75,
   "metadata": {},
   "outputs": [
    {
     "data": {
      "text/html": [
       "<div>\n",
       "<style scoped>\n",
       "    .dataframe tbody tr th:only-of-type {\n",
       "        vertical-align: middle;\n",
       "    }\n",
       "\n",
       "    .dataframe tbody tr th {\n",
       "        vertical-align: top;\n",
       "    }\n",
       "\n",
       "    .dataframe thead th {\n",
       "        text-align: right;\n",
       "    }\n",
       "</style>\n",
       "<table border=\"1\" class=\"dataframe\">\n",
       "  <thead>\n",
       "    <tr style=\"text-align: right;\">\n",
       "      <th></th>\n",
       "      <th>months_as_customer</th>\n",
       "      <th>policy_csl</th>\n",
       "      <th>policy_deductable</th>\n",
       "      <th>policy_annual_premium</th>\n",
       "      <th>umbrella_limit</th>\n",
       "      <th>insured_sex</th>\n",
       "      <th>insured_education_level</th>\n",
       "      <th>insured_hobbies</th>\n",
       "      <th>insured_relationship</th>\n",
       "      <th>capital-gains</th>\n",
       "      <th>...</th>\n",
       "      <th>number_of_vehicles_involved</th>\n",
       "      <th>property_damage</th>\n",
       "      <th>bodily_injuries</th>\n",
       "      <th>witnesses</th>\n",
       "      <th>police_report_available</th>\n",
       "      <th>injury_claim</th>\n",
       "      <th>property_claim</th>\n",
       "      <th>vehicle_claim</th>\n",
       "      <th>auto_year</th>\n",
       "      <th>fraud_reported</th>\n",
       "    </tr>\n",
       "  </thead>\n",
       "  <tbody>\n",
       "    <tr>\n",
       "      <th>0</th>\n",
       "      <td>328</td>\n",
       "      <td>250/500</td>\n",
       "      <td>1000</td>\n",
       "      <td>1406.91</td>\n",
       "      <td>0</td>\n",
       "      <td>MALE</td>\n",
       "      <td>MD</td>\n",
       "      <td>Other</td>\n",
       "      <td>husband</td>\n",
       "      <td>53300</td>\n",
       "      <td>...</td>\n",
       "      <td>1</td>\n",
       "      <td>YES</td>\n",
       "      <td>1</td>\n",
       "      <td>2</td>\n",
       "      <td>YES</td>\n",
       "      <td>6510</td>\n",
       "      <td>13020</td>\n",
       "      <td>52080</td>\n",
       "      <td>2004</td>\n",
       "      <td>1</td>\n",
       "    </tr>\n",
       "    <tr>\n",
       "      <th>1</th>\n",
       "      <td>228</td>\n",
       "      <td>250/500</td>\n",
       "      <td>2000</td>\n",
       "      <td>1197.22</td>\n",
       "      <td>5000000</td>\n",
       "      <td>MALE</td>\n",
       "      <td>MD</td>\n",
       "      <td>Other</td>\n",
       "      <td>other-relative</td>\n",
       "      <td>0</td>\n",
       "      <td>...</td>\n",
       "      <td>1</td>\n",
       "      <td>?</td>\n",
       "      <td>0</td>\n",
       "      <td>0</td>\n",
       "      <td>?</td>\n",
       "      <td>780</td>\n",
       "      <td>780</td>\n",
       "      <td>3510</td>\n",
       "      <td>2007</td>\n",
       "      <td>1</td>\n",
       "    </tr>\n",
       "    <tr>\n",
       "      <th>2</th>\n",
       "      <td>134</td>\n",
       "      <td>100/300</td>\n",
       "      <td>2000</td>\n",
       "      <td>1413.14</td>\n",
       "      <td>5000000</td>\n",
       "      <td>FEMALE</td>\n",
       "      <td>PhD</td>\n",
       "      <td>Other</td>\n",
       "      <td>own-child</td>\n",
       "      <td>35100</td>\n",
       "      <td>...</td>\n",
       "      <td>3</td>\n",
       "      <td>NO</td>\n",
       "      <td>2</td>\n",
       "      <td>3</td>\n",
       "      <td>NO</td>\n",
       "      <td>7700</td>\n",
       "      <td>3850</td>\n",
       "      <td>23100</td>\n",
       "      <td>2007</td>\n",
       "      <td>0</td>\n",
       "    </tr>\n",
       "    <tr>\n",
       "      <th>3</th>\n",
       "      <td>256</td>\n",
       "      <td>250/500</td>\n",
       "      <td>2000</td>\n",
       "      <td>1415.74</td>\n",
       "      <td>6000000</td>\n",
       "      <td>FEMALE</td>\n",
       "      <td>PhD</td>\n",
       "      <td>Other</td>\n",
       "      <td>unmarried</td>\n",
       "      <td>48900</td>\n",
       "      <td>...</td>\n",
       "      <td>1</td>\n",
       "      <td>?</td>\n",
       "      <td>1</td>\n",
       "      <td>2</td>\n",
       "      <td>NO</td>\n",
       "      <td>6340</td>\n",
       "      <td>6340</td>\n",
       "      <td>50720</td>\n",
       "      <td>2014</td>\n",
       "      <td>1</td>\n",
       "    </tr>\n",
       "    <tr>\n",
       "      <th>4</th>\n",
       "      <td>228</td>\n",
       "      <td>500/1000</td>\n",
       "      <td>1000</td>\n",
       "      <td>1583.91</td>\n",
       "      <td>6000000</td>\n",
       "      <td>MALE</td>\n",
       "      <td>Associate</td>\n",
       "      <td>Other</td>\n",
       "      <td>unmarried</td>\n",
       "      <td>66000</td>\n",
       "      <td>...</td>\n",
       "      <td>1</td>\n",
       "      <td>NO</td>\n",
       "      <td>0</td>\n",
       "      <td>1</td>\n",
       "      <td>NO</td>\n",
       "      <td>1300</td>\n",
       "      <td>650</td>\n",
       "      <td>4550</td>\n",
       "      <td>2009</td>\n",
       "      <td>0</td>\n",
       "    </tr>\n",
       "  </tbody>\n",
       "</table>\n",
       "<p>5 rows × 28 columns</p>\n",
       "</div>"
      ],
      "text/plain": [
       "   months_as_customer policy_csl  policy_deductable  policy_annual_premium  \\\n",
       "0                 328    250/500               1000                1406.91   \n",
       "1                 228    250/500               2000                1197.22   \n",
       "2                 134    100/300               2000                1413.14   \n",
       "3                 256    250/500               2000                1415.74   \n",
       "4                 228   500/1000               1000                1583.91   \n",
       "\n",
       "   umbrella_limit insured_sex insured_education_level insured_hobbies  \\\n",
       "0               0        MALE                      MD           Other   \n",
       "1         5000000        MALE                      MD           Other   \n",
       "2         5000000      FEMALE                     PhD           Other   \n",
       "3         6000000      FEMALE                     PhD           Other   \n",
       "4         6000000        MALE               Associate           Other   \n",
       "\n",
       "  insured_relationship  capital-gains  ...  number_of_vehicles_involved  \\\n",
       "0              husband          53300  ...                            1   \n",
       "1       other-relative              0  ...                            1   \n",
       "2            own-child          35100  ...                            3   \n",
       "3            unmarried          48900  ...                            1   \n",
       "4            unmarried          66000  ...                            1   \n",
       "\n",
       "  property_damage bodily_injuries witnesses police_report_available  \\\n",
       "0             YES               1         2                     YES   \n",
       "1               ?               0         0                       ?   \n",
       "2              NO               2         3                      NO   \n",
       "3               ?               1         2                      NO   \n",
       "4              NO               0         1                      NO   \n",
       "\n",
       "  injury_claim property_claim  vehicle_claim  auto_year fraud_reported  \n",
       "0         6510          13020          52080       2004              1  \n",
       "1          780            780           3510       2007              1  \n",
       "2         7700           3850          23100       2007              0  \n",
       "3         6340           6340          50720       2014              1  \n",
       "4         1300            650           4550       2009              0  \n",
       "\n",
       "[5 rows x 28 columns]"
      ]
     },
     "execution_count": 75,
     "metadata": {},
     "output_type": "execute_result"
    }
   ],
   "source": [
    "df['fraud_reported'].replace(to_replace='Y', value=1, inplace=True)\n",
    "df['fraud_reported'].replace(to_replace='N',  value=0, inplace=True)\n",
    "\n",
    "df.head()"
   ]
  },
  {
   "cell_type": "code",
   "execution_count": 76,
   "metadata": {},
   "outputs": [
    {
     "data": {
      "text/plain": [
       "Index(['months_as_customer', 'policy_csl', 'policy_deductable',\n",
       "       'policy_annual_premium', 'umbrella_limit', 'insured_sex',\n",
       "       'insured_education_level', 'insured_hobbies', 'insured_relationship',\n",
       "       'capital-gains', 'capital-loss', 'incident_type', 'collision_type',\n",
       "       'incident_severity', 'authorities_contacted', 'incident_state',\n",
       "       'incident_city', 'incident_hour_of_the_day',\n",
       "       'number_of_vehicles_involved', 'property_damage', 'bodily_injuries',\n",
       "       'witnesses', 'police_report_available', 'injury_claim',\n",
       "       'property_claim', 'vehicle_claim', 'auto_year', 'fraud_reported'],\n",
       "      dtype='object')"
      ]
     },
     "execution_count": 76,
     "metadata": {},
     "output_type": "execute_result"
    }
   ],
   "source": [
    "df.columns"
   ]
  },
  {
   "cell_type": "markdown",
   "metadata": {},
   "source": [
    "### Removing rows with peculiar values"
   ]
  },
  {
   "cell_type": "code",
   "execution_count": 77,
   "metadata": {},
   "outputs": [],
   "source": [
    "df.drop(df[df['umbrella_limit'] < 0].index, inplace = True)"
   ]
  },
  {
   "cell_type": "markdown",
   "metadata": {},
   "source": [
    "### Replacing values with '?'"
   ]
  },
  {
   "cell_type": "code",
   "execution_count": 78,
   "metadata": {},
   "outputs": [],
   "source": [
    "df = df.replace('?',np.NaN)"
   ]
  },
  {
   "cell_type": "code",
   "execution_count": 79,
   "metadata": {},
   "outputs": [
    {
     "data": {
      "text/plain": [
       "months_as_customer               0\n",
       "policy_csl                       0\n",
       "policy_deductable                0\n",
       "policy_annual_premium            0\n",
       "umbrella_limit                   0\n",
       "insured_sex                      0\n",
       "insured_education_level          0\n",
       "insured_hobbies                  0\n",
       "insured_relationship             0\n",
       "capital-gains                    0\n",
       "capital-loss                     0\n",
       "incident_type                    0\n",
       "collision_type                 178\n",
       "incident_severity                0\n",
       "authorities_contacted            0\n",
       "incident_state                   0\n",
       "incident_city                    0\n",
       "incident_hour_of_the_day         0\n",
       "number_of_vehicles_involved      0\n",
       "property_damage                360\n",
       "bodily_injuries                  0\n",
       "witnesses                        0\n",
       "police_report_available        342\n",
       "injury_claim                     0\n",
       "property_claim                   0\n",
       "vehicle_claim                    0\n",
       "auto_year                        0\n",
       "fraud_reported                   0\n",
       "dtype: int64"
      ]
     },
     "execution_count": 79,
     "metadata": {},
     "output_type": "execute_result"
    }
   ],
   "source": [
    "df.isna().sum()"
   ]
  },
  {
   "cell_type": "code",
   "execution_count": 80,
   "metadata": {},
   "outputs": [
    {
     "data": {
      "text/plain": [
       "False"
      ]
     },
     "execution_count": 80,
     "metadata": {},
     "output_type": "execute_result"
    }
   ],
   "source": [
    "df['collision_type'].fillna(df['collision_type'].mode()[0], inplace = True)\n",
    "\n",
    "df['property_damage'].fillna('NO', inplace = True)\n",
    "\n",
    "df['police_report_available'].fillna('NO', inplace = True)\n",
    "\n",
    "df.isnull().any().any()"
   ]
  },
  {
   "cell_type": "markdown",
   "metadata": {},
   "source": [
    "### One hot encoding categorical variables"
   ]
  },
  {
   "cell_type": "code",
   "execution_count": 81,
   "metadata": {},
   "outputs": [
    {
     "data": {
      "text/html": [
       "<div>\n",
       "<style scoped>\n",
       "    .dataframe tbody tr th:only-of-type {\n",
       "        vertical-align: middle;\n",
       "    }\n",
       "\n",
       "    .dataframe tbody tr th {\n",
       "        vertical-align: top;\n",
       "    }\n",
       "\n",
       "    .dataframe thead th {\n",
       "        text-align: right;\n",
       "    }\n",
       "</style>\n",
       "<table border=\"1\" class=\"dataframe\">\n",
       "  <thead>\n",
       "    <tr style=\"text-align: right;\">\n",
       "      <th></th>\n",
       "      <th>policy_csl_100/300</th>\n",
       "      <th>policy_csl_250/500</th>\n",
       "      <th>policy_csl_500/1000</th>\n",
       "      <th>insured_sex_FEMALE</th>\n",
       "      <th>insured_sex_MALE</th>\n",
       "      <th>insured_education_level_Associate</th>\n",
       "      <th>insured_education_level_College</th>\n",
       "      <th>insured_education_level_High School</th>\n",
       "      <th>insured_education_level_JD</th>\n",
       "      <th>insured_education_level_MD</th>\n",
       "      <th>...</th>\n",
       "      <th>incident_city_Hillsdale</th>\n",
       "      <th>incident_city_Northbend</th>\n",
       "      <th>incident_city_Northbrook</th>\n",
       "      <th>incident_city_Riverwood</th>\n",
       "      <th>incident_city_Springfield</th>\n",
       "      <th>collision_type_Front Collision</th>\n",
       "      <th>collision_type_Rear Collision</th>\n",
       "      <th>collision_type_Side Collision</th>\n",
       "      <th>property_damage</th>\n",
       "      <th>police_report_available</th>\n",
       "    </tr>\n",
       "  </thead>\n",
       "  <tbody>\n",
       "    <tr>\n",
       "      <th>0</th>\n",
       "      <td>0</td>\n",
       "      <td>1</td>\n",
       "      <td>0</td>\n",
       "      <td>0</td>\n",
       "      <td>1</td>\n",
       "      <td>0</td>\n",
       "      <td>0</td>\n",
       "      <td>0</td>\n",
       "      <td>0</td>\n",
       "      <td>1</td>\n",
       "      <td>...</td>\n",
       "      <td>0</td>\n",
       "      <td>0</td>\n",
       "      <td>0</td>\n",
       "      <td>0</td>\n",
       "      <td>0</td>\n",
       "      <td>0</td>\n",
       "      <td>0</td>\n",
       "      <td>1</td>\n",
       "      <td>YES</td>\n",
       "      <td>YES</td>\n",
       "    </tr>\n",
       "    <tr>\n",
       "      <th>1</th>\n",
       "      <td>0</td>\n",
       "      <td>1</td>\n",
       "      <td>0</td>\n",
       "      <td>0</td>\n",
       "      <td>1</td>\n",
       "      <td>0</td>\n",
       "      <td>0</td>\n",
       "      <td>0</td>\n",
       "      <td>0</td>\n",
       "      <td>1</td>\n",
       "      <td>...</td>\n",
       "      <td>0</td>\n",
       "      <td>0</td>\n",
       "      <td>0</td>\n",
       "      <td>1</td>\n",
       "      <td>0</td>\n",
       "      <td>0</td>\n",
       "      <td>1</td>\n",
       "      <td>0</td>\n",
       "      <td>NO</td>\n",
       "      <td>NO</td>\n",
       "    </tr>\n",
       "    <tr>\n",
       "      <th>2</th>\n",
       "      <td>1</td>\n",
       "      <td>0</td>\n",
       "      <td>0</td>\n",
       "      <td>1</td>\n",
       "      <td>0</td>\n",
       "      <td>0</td>\n",
       "      <td>0</td>\n",
       "      <td>0</td>\n",
       "      <td>0</td>\n",
       "      <td>0</td>\n",
       "      <td>...</td>\n",
       "      <td>0</td>\n",
       "      <td>0</td>\n",
       "      <td>0</td>\n",
       "      <td>0</td>\n",
       "      <td>0</td>\n",
       "      <td>0</td>\n",
       "      <td>1</td>\n",
       "      <td>0</td>\n",
       "      <td>NO</td>\n",
       "      <td>NO</td>\n",
       "    </tr>\n",
       "    <tr>\n",
       "      <th>3</th>\n",
       "      <td>0</td>\n",
       "      <td>1</td>\n",
       "      <td>0</td>\n",
       "      <td>1</td>\n",
       "      <td>0</td>\n",
       "      <td>0</td>\n",
       "      <td>0</td>\n",
       "      <td>0</td>\n",
       "      <td>0</td>\n",
       "      <td>0</td>\n",
       "      <td>...</td>\n",
       "      <td>0</td>\n",
       "      <td>0</td>\n",
       "      <td>0</td>\n",
       "      <td>0</td>\n",
       "      <td>0</td>\n",
       "      <td>1</td>\n",
       "      <td>0</td>\n",
       "      <td>0</td>\n",
       "      <td>NO</td>\n",
       "      <td>NO</td>\n",
       "    </tr>\n",
       "    <tr>\n",
       "      <th>4</th>\n",
       "      <td>0</td>\n",
       "      <td>0</td>\n",
       "      <td>1</td>\n",
       "      <td>0</td>\n",
       "      <td>1</td>\n",
       "      <td>1</td>\n",
       "      <td>0</td>\n",
       "      <td>0</td>\n",
       "      <td>0</td>\n",
       "      <td>0</td>\n",
       "      <td>...</td>\n",
       "      <td>0</td>\n",
       "      <td>0</td>\n",
       "      <td>0</td>\n",
       "      <td>0</td>\n",
       "      <td>0</td>\n",
       "      <td>0</td>\n",
       "      <td>1</td>\n",
       "      <td>0</td>\n",
       "      <td>NO</td>\n",
       "      <td>NO</td>\n",
       "    </tr>\n",
       "  </tbody>\n",
       "</table>\n",
       "<p>5 rows × 53 columns</p>\n",
       "</div>"
      ],
      "text/plain": [
       "   policy_csl_100/300  policy_csl_250/500  policy_csl_500/1000  \\\n",
       "0                   0                   1                    0   \n",
       "1                   0                   1                    0   \n",
       "2                   1                   0                    0   \n",
       "3                   0                   1                    0   \n",
       "4                   0                   0                    1   \n",
       "\n",
       "   insured_sex_FEMALE  insured_sex_MALE  insured_education_level_Associate  \\\n",
       "0                   0                 1                                  0   \n",
       "1                   0                 1                                  0   \n",
       "2                   1                 0                                  0   \n",
       "3                   1                 0                                  0   \n",
       "4                   0                 1                                  1   \n",
       "\n",
       "   insured_education_level_College  insured_education_level_High School  \\\n",
       "0                                0                                    0   \n",
       "1                                0                                    0   \n",
       "2                                0                                    0   \n",
       "3                                0                                    0   \n",
       "4                                0                                    0   \n",
       "\n",
       "   insured_education_level_JD  insured_education_level_MD  ...  \\\n",
       "0                           0                           1  ...   \n",
       "1                           0                           1  ...   \n",
       "2                           0                           0  ...   \n",
       "3                           0                           0  ...   \n",
       "4                           0                           0  ...   \n",
       "\n",
       "   incident_city_Hillsdale  incident_city_Northbend  incident_city_Northbrook  \\\n",
       "0                        0                        0                         0   \n",
       "1                        0                        0                         0   \n",
       "2                        0                        0                         0   \n",
       "3                        0                        0                         0   \n",
       "4                        0                        0                         0   \n",
       "\n",
       "   incident_city_Riverwood  incident_city_Springfield  \\\n",
       "0                        0                          0   \n",
       "1                        1                          0   \n",
       "2                        0                          0   \n",
       "3                        0                          0   \n",
       "4                        0                          0   \n",
       "\n",
       "   collision_type_Front Collision  collision_type_Rear Collision  \\\n",
       "0                               0                              0   \n",
       "1                               0                              1   \n",
       "2                               0                              1   \n",
       "3                               1                              0   \n",
       "4                               0                              1   \n",
       "\n",
       "   collision_type_Side Collision  property_damage  police_report_available  \n",
       "0                              1              YES                      YES  \n",
       "1                              0               NO                       NO  \n",
       "2                              0               NO                       NO  \n",
       "3                              0               NO                       NO  \n",
       "4                              0               NO                       NO  \n",
       "\n",
       "[5 rows x 53 columns]"
      ]
     },
     "execution_count": 81,
     "metadata": {},
     "output_type": "execute_result"
    }
   ],
   "source": [
    "cat_df = pd.get_dummies(df[[\n",
    "    'policy_csl', \n",
    "    'insured_sex', \n",
    "    'insured_education_level',\n",
    "    'insured_hobbies', \n",
    "    'insured_relationship',\n",
    "    'incident_type', \n",
    "    'incident_severity',\n",
    "    'authorities_contacted', \n",
    "    'incident_state', \n",
    "    'incident_city',\n",
    "    'collision_type']])\n",
    "\n",
    "cat_df = cat_df.join(df[[\n",
    "    'property_damage', \n",
    "    'police_report_available']])\n",
    "\n",
    "cat_df.head()"
   ]
  },
  {
   "cell_type": "code",
   "execution_count": 83,
   "metadata": {},
   "outputs": [
    {
     "data": {
      "text/html": [
       "<div>\n",
       "<style scoped>\n",
       "    .dataframe tbody tr th:only-of-type {\n",
       "        vertical-align: middle;\n",
       "    }\n",
       "\n",
       "    .dataframe tbody tr th {\n",
       "        vertical-align: top;\n",
       "    }\n",
       "\n",
       "    .dataframe thead th {\n",
       "        text-align: right;\n",
       "    }\n",
       "</style>\n",
       "<table border=\"1\" class=\"dataframe\">\n",
       "  <thead>\n",
       "    <tr style=\"text-align: right;\">\n",
       "      <th></th>\n",
       "      <th>policy_csl_100/300</th>\n",
       "      <th>policy_csl_250/500</th>\n",
       "      <th>policy_csl_500/1000</th>\n",
       "      <th>insured_sex_FEMALE</th>\n",
       "      <th>insured_sex_MALE</th>\n",
       "      <th>insured_education_level_Associate</th>\n",
       "      <th>insured_education_level_College</th>\n",
       "      <th>insured_education_level_High School</th>\n",
       "      <th>insured_education_level_JD</th>\n",
       "      <th>insured_education_level_MD</th>\n",
       "      <th>...</th>\n",
       "      <th>incident_city_Hillsdale</th>\n",
       "      <th>incident_city_Northbend</th>\n",
       "      <th>incident_city_Northbrook</th>\n",
       "      <th>incident_city_Riverwood</th>\n",
       "      <th>incident_city_Springfield</th>\n",
       "      <th>collision_type_Front Collision</th>\n",
       "      <th>collision_type_Rear Collision</th>\n",
       "      <th>collision_type_Side Collision</th>\n",
       "      <th>property_damage</th>\n",
       "      <th>police_report_available</th>\n",
       "    </tr>\n",
       "  </thead>\n",
       "  <tbody>\n",
       "    <tr>\n",
       "      <th>0</th>\n",
       "      <td>0</td>\n",
       "      <td>1</td>\n",
       "      <td>0</td>\n",
       "      <td>0</td>\n",
       "      <td>1</td>\n",
       "      <td>0</td>\n",
       "      <td>0</td>\n",
       "      <td>0</td>\n",
       "      <td>0</td>\n",
       "      <td>1</td>\n",
       "      <td>...</td>\n",
       "      <td>0</td>\n",
       "      <td>0</td>\n",
       "      <td>0</td>\n",
       "      <td>0</td>\n",
       "      <td>0</td>\n",
       "      <td>0</td>\n",
       "      <td>0</td>\n",
       "      <td>1</td>\n",
       "      <td>1</td>\n",
       "      <td>1</td>\n",
       "    </tr>\n",
       "    <tr>\n",
       "      <th>1</th>\n",
       "      <td>0</td>\n",
       "      <td>1</td>\n",
       "      <td>0</td>\n",
       "      <td>0</td>\n",
       "      <td>1</td>\n",
       "      <td>0</td>\n",
       "      <td>0</td>\n",
       "      <td>0</td>\n",
       "      <td>0</td>\n",
       "      <td>1</td>\n",
       "      <td>...</td>\n",
       "      <td>0</td>\n",
       "      <td>0</td>\n",
       "      <td>0</td>\n",
       "      <td>1</td>\n",
       "      <td>0</td>\n",
       "      <td>0</td>\n",
       "      <td>1</td>\n",
       "      <td>0</td>\n",
       "      <td>0</td>\n",
       "      <td>0</td>\n",
       "    </tr>\n",
       "    <tr>\n",
       "      <th>2</th>\n",
       "      <td>1</td>\n",
       "      <td>0</td>\n",
       "      <td>0</td>\n",
       "      <td>1</td>\n",
       "      <td>0</td>\n",
       "      <td>0</td>\n",
       "      <td>0</td>\n",
       "      <td>0</td>\n",
       "      <td>0</td>\n",
       "      <td>0</td>\n",
       "      <td>...</td>\n",
       "      <td>0</td>\n",
       "      <td>0</td>\n",
       "      <td>0</td>\n",
       "      <td>0</td>\n",
       "      <td>0</td>\n",
       "      <td>0</td>\n",
       "      <td>1</td>\n",
       "      <td>0</td>\n",
       "      <td>0</td>\n",
       "      <td>0</td>\n",
       "    </tr>\n",
       "    <tr>\n",
       "      <th>3</th>\n",
       "      <td>0</td>\n",
       "      <td>1</td>\n",
       "      <td>0</td>\n",
       "      <td>1</td>\n",
       "      <td>0</td>\n",
       "      <td>0</td>\n",
       "      <td>0</td>\n",
       "      <td>0</td>\n",
       "      <td>0</td>\n",
       "      <td>0</td>\n",
       "      <td>...</td>\n",
       "      <td>0</td>\n",
       "      <td>0</td>\n",
       "      <td>0</td>\n",
       "      <td>0</td>\n",
       "      <td>0</td>\n",
       "      <td>1</td>\n",
       "      <td>0</td>\n",
       "      <td>0</td>\n",
       "      <td>0</td>\n",
       "      <td>0</td>\n",
       "    </tr>\n",
       "    <tr>\n",
       "      <th>4</th>\n",
       "      <td>0</td>\n",
       "      <td>0</td>\n",
       "      <td>1</td>\n",
       "      <td>0</td>\n",
       "      <td>1</td>\n",
       "      <td>1</td>\n",
       "      <td>0</td>\n",
       "      <td>0</td>\n",
       "      <td>0</td>\n",
       "      <td>0</td>\n",
       "      <td>...</td>\n",
       "      <td>0</td>\n",
       "      <td>0</td>\n",
       "      <td>0</td>\n",
       "      <td>0</td>\n",
       "      <td>0</td>\n",
       "      <td>0</td>\n",
       "      <td>1</td>\n",
       "      <td>0</td>\n",
       "      <td>0</td>\n",
       "      <td>0</td>\n",
       "    </tr>\n",
       "    <tr>\n",
       "      <th>5</th>\n",
       "      <td>0</td>\n",
       "      <td>1</td>\n",
       "      <td>0</td>\n",
       "      <td>1</td>\n",
       "      <td>0</td>\n",
       "      <td>0</td>\n",
       "      <td>0</td>\n",
       "      <td>0</td>\n",
       "      <td>0</td>\n",
       "      <td>0</td>\n",
       "      <td>...</td>\n",
       "      <td>0</td>\n",
       "      <td>0</td>\n",
       "      <td>0</td>\n",
       "      <td>0</td>\n",
       "      <td>0</td>\n",
       "      <td>0</td>\n",
       "      <td>1</td>\n",
       "      <td>0</td>\n",
       "      <td>0</td>\n",
       "      <td>0</td>\n",
       "    </tr>\n",
       "    <tr>\n",
       "      <th>6</th>\n",
       "      <td>0</td>\n",
       "      <td>1</td>\n",
       "      <td>0</td>\n",
       "      <td>0</td>\n",
       "      <td>1</td>\n",
       "      <td>0</td>\n",
       "      <td>0</td>\n",
       "      <td>0</td>\n",
       "      <td>0</td>\n",
       "      <td>0</td>\n",
       "      <td>...</td>\n",
       "      <td>0</td>\n",
       "      <td>0</td>\n",
       "      <td>0</td>\n",
       "      <td>0</td>\n",
       "      <td>1</td>\n",
       "      <td>1</td>\n",
       "      <td>0</td>\n",
       "      <td>0</td>\n",
       "      <td>0</td>\n",
       "      <td>0</td>\n",
       "    </tr>\n",
       "    <tr>\n",
       "      <th>7</th>\n",
       "      <td>1</td>\n",
       "      <td>0</td>\n",
       "      <td>0</td>\n",
       "      <td>0</td>\n",
       "      <td>1</td>\n",
       "      <td>1</td>\n",
       "      <td>0</td>\n",
       "      <td>0</td>\n",
       "      <td>0</td>\n",
       "      <td>0</td>\n",
       "      <td>...</td>\n",
       "      <td>0</td>\n",
       "      <td>0</td>\n",
       "      <td>0</td>\n",
       "      <td>0</td>\n",
       "      <td>0</td>\n",
       "      <td>1</td>\n",
       "      <td>0</td>\n",
       "      <td>0</td>\n",
       "      <td>0</td>\n",
       "      <td>1</td>\n",
       "    </tr>\n",
       "    <tr>\n",
       "      <th>8</th>\n",
       "      <td>1</td>\n",
       "      <td>0</td>\n",
       "      <td>0</td>\n",
       "      <td>1</td>\n",
       "      <td>0</td>\n",
       "      <td>0</td>\n",
       "      <td>0</td>\n",
       "      <td>0</td>\n",
       "      <td>0</td>\n",
       "      <td>0</td>\n",
       "      <td>...</td>\n",
       "      <td>0</td>\n",
       "      <td>0</td>\n",
       "      <td>0</td>\n",
       "      <td>0</td>\n",
       "      <td>0</td>\n",
       "      <td>1</td>\n",
       "      <td>0</td>\n",
       "      <td>0</td>\n",
       "      <td>0</td>\n",
       "      <td>1</td>\n",
       "    </tr>\n",
       "    <tr>\n",
       "      <th>9</th>\n",
       "      <td>1</td>\n",
       "      <td>0</td>\n",
       "      <td>0</td>\n",
       "      <td>0</td>\n",
       "      <td>1</td>\n",
       "      <td>0</td>\n",
       "      <td>0</td>\n",
       "      <td>0</td>\n",
       "      <td>0</td>\n",
       "      <td>0</td>\n",
       "      <td>...</td>\n",
       "      <td>1</td>\n",
       "      <td>0</td>\n",
       "      <td>0</td>\n",
       "      <td>0</td>\n",
       "      <td>0</td>\n",
       "      <td>0</td>\n",
       "      <td>1</td>\n",
       "      <td>0</td>\n",
       "      <td>0</td>\n",
       "      <td>0</td>\n",
       "    </tr>\n",
       "  </tbody>\n",
       "</table>\n",
       "<p>10 rows × 53 columns</p>\n",
       "</div>"
      ],
      "text/plain": [
       "   policy_csl_100/300  policy_csl_250/500  policy_csl_500/1000  \\\n",
       "0                   0                   1                    0   \n",
       "1                   0                   1                    0   \n",
       "2                   1                   0                    0   \n",
       "3                   0                   1                    0   \n",
       "4                   0                   0                    1   \n",
       "5                   0                   1                    0   \n",
       "6                   0                   1                    0   \n",
       "7                   1                   0                    0   \n",
       "8                   1                   0                    0   \n",
       "9                   1                   0                    0   \n",
       "\n",
       "   insured_sex_FEMALE  insured_sex_MALE  insured_education_level_Associate  \\\n",
       "0                   0                 1                                  0   \n",
       "1                   0                 1                                  0   \n",
       "2                   1                 0                                  0   \n",
       "3                   1                 0                                  0   \n",
       "4                   0                 1                                  1   \n",
       "5                   1                 0                                  0   \n",
       "6                   0                 1                                  0   \n",
       "7                   0                 1                                  1   \n",
       "8                   1                 0                                  0   \n",
       "9                   0                 1                                  0   \n",
       "\n",
       "   insured_education_level_College  insured_education_level_High School  \\\n",
       "0                                0                                    0   \n",
       "1                                0                                    0   \n",
       "2                                0                                    0   \n",
       "3                                0                                    0   \n",
       "4                                0                                    0   \n",
       "5                                0                                    0   \n",
       "6                                0                                    0   \n",
       "7                                0                                    0   \n",
       "8                                0                                    0   \n",
       "9                                0                                    0   \n",
       "\n",
       "   insured_education_level_JD  insured_education_level_MD  ...  \\\n",
       "0                           0                           1  ...   \n",
       "1                           0                           1  ...   \n",
       "2                           0                           0  ...   \n",
       "3                           0                           0  ...   \n",
       "4                           0                           0  ...   \n",
       "5                           0                           0  ...   \n",
       "6                           0                           0  ...   \n",
       "7                           0                           0  ...   \n",
       "8                           0                           0  ...   \n",
       "9                           0                           0  ...   \n",
       "\n",
       "   incident_city_Hillsdale  incident_city_Northbend  incident_city_Northbrook  \\\n",
       "0                        0                        0                         0   \n",
       "1                        0                        0                         0   \n",
       "2                        0                        0                         0   \n",
       "3                        0                        0                         0   \n",
       "4                        0                        0                         0   \n",
       "5                        0                        0                         0   \n",
       "6                        0                        0                         0   \n",
       "7                        0                        0                         0   \n",
       "8                        0                        0                         0   \n",
       "9                        1                        0                         0   \n",
       "\n",
       "   incident_city_Riverwood  incident_city_Springfield  \\\n",
       "0                        0                          0   \n",
       "1                        1                          0   \n",
       "2                        0                          0   \n",
       "3                        0                          0   \n",
       "4                        0                          0   \n",
       "5                        0                          0   \n",
       "6                        0                          1   \n",
       "7                        0                          0   \n",
       "8                        0                          0   \n",
       "9                        0                          0   \n",
       "\n",
       "   collision_type_Front Collision  collision_type_Rear Collision  \\\n",
       "0                               0                              0   \n",
       "1                               0                              1   \n",
       "2                               0                              1   \n",
       "3                               1                              0   \n",
       "4                               0                              1   \n",
       "5                               0                              1   \n",
       "6                               1                              0   \n",
       "7                               1                              0   \n",
       "8                               1                              0   \n",
       "9                               0                              1   \n",
       "\n",
       "   collision_type_Side Collision  property_damage  police_report_available  \n",
       "0                              1                1                        1  \n",
       "1                              0                0                        0  \n",
       "2                              0                0                        0  \n",
       "3                              0                0                        0  \n",
       "4                              0                0                        0  \n",
       "5                              0                0                        0  \n",
       "6                              0                0                        0  \n",
       "7                              0                0                        1  \n",
       "8                              0                0                        1  \n",
       "9                              0                0                        0  \n",
       "\n",
       "[10 rows x 53 columns]"
      ]
     },
     "execution_count": 83,
     "metadata": {},
     "output_type": "execute_result"
    }
   ],
   "source": [
    "# Converting to binary values\n",
    "\n",
    "cat_df['property_damage'].replace(to_replace='YES', value=1, inplace=True)\n",
    "cat_df['property_damage'].replace(to_replace='NO', value=0, inplace=True)\n",
    "cat_df['police_report_available'].replace(to_replace='YES', value=1, inplace=True)\n",
    "cat_df['police_report_available'].replace(to_replace='NO', value=0, inplace=True)\n",
    "\n",
    "cat_df.head(10) \n"
   ]
  },
  {
   "cell_type": "code",
   "execution_count": 84,
   "metadata": {},
   "outputs": [
    {
     "data": {
      "text/html": [
       "<div>\n",
       "<style scoped>\n",
       "    .dataframe tbody tr th:only-of-type {\n",
       "        vertical-align: middle;\n",
       "    }\n",
       "\n",
       "    .dataframe tbody tr th {\n",
       "        vertical-align: top;\n",
       "    }\n",
       "\n",
       "    .dataframe thead th {\n",
       "        text-align: right;\n",
       "    }\n",
       "</style>\n",
       "<table border=\"1\" class=\"dataframe\">\n",
       "  <thead>\n",
       "    <tr style=\"text-align: right;\">\n",
       "      <th></th>\n",
       "      <th>policy_csl_100/300</th>\n",
       "      <th>policy_csl_250/500</th>\n",
       "      <th>policy_csl_500/1000</th>\n",
       "      <th>insured_sex_FEMALE</th>\n",
       "      <th>insured_sex_MALE</th>\n",
       "      <th>insured_education_level_Associate</th>\n",
       "      <th>insured_education_level_College</th>\n",
       "      <th>insured_education_level_High School</th>\n",
       "      <th>insured_education_level_JD</th>\n",
       "      <th>insured_education_level_MD</th>\n",
       "      <th>...</th>\n",
       "      <th>capital-loss</th>\n",
       "      <th>incident_hour_of_the_day</th>\n",
       "      <th>number_of_vehicles_involved</th>\n",
       "      <th>bodily_injuries</th>\n",
       "      <th>witnesses</th>\n",
       "      <th>injury_claim</th>\n",
       "      <th>property_claim</th>\n",
       "      <th>vehicle_claim</th>\n",
       "      <th>auto_year</th>\n",
       "      <th>fraud_reported</th>\n",
       "    </tr>\n",
       "  </thead>\n",
       "  <tbody>\n",
       "    <tr>\n",
       "      <th>0</th>\n",
       "      <td>0</td>\n",
       "      <td>1</td>\n",
       "      <td>0</td>\n",
       "      <td>0</td>\n",
       "      <td>1</td>\n",
       "      <td>0</td>\n",
       "      <td>0</td>\n",
       "      <td>0</td>\n",
       "      <td>0</td>\n",
       "      <td>1</td>\n",
       "      <td>...</td>\n",
       "      <td>0</td>\n",
       "      <td>5</td>\n",
       "      <td>1</td>\n",
       "      <td>1</td>\n",
       "      <td>2</td>\n",
       "      <td>6510</td>\n",
       "      <td>13020</td>\n",
       "      <td>52080</td>\n",
       "      <td>2004</td>\n",
       "      <td>1</td>\n",
       "    </tr>\n",
       "    <tr>\n",
       "      <th>1</th>\n",
       "      <td>0</td>\n",
       "      <td>1</td>\n",
       "      <td>0</td>\n",
       "      <td>0</td>\n",
       "      <td>1</td>\n",
       "      <td>0</td>\n",
       "      <td>0</td>\n",
       "      <td>0</td>\n",
       "      <td>0</td>\n",
       "      <td>1</td>\n",
       "      <td>...</td>\n",
       "      <td>0</td>\n",
       "      <td>8</td>\n",
       "      <td>1</td>\n",
       "      <td>0</td>\n",
       "      <td>0</td>\n",
       "      <td>780</td>\n",
       "      <td>780</td>\n",
       "      <td>3510</td>\n",
       "      <td>2007</td>\n",
       "      <td>1</td>\n",
       "    </tr>\n",
       "    <tr>\n",
       "      <th>2</th>\n",
       "      <td>1</td>\n",
       "      <td>0</td>\n",
       "      <td>0</td>\n",
       "      <td>1</td>\n",
       "      <td>0</td>\n",
       "      <td>0</td>\n",
       "      <td>0</td>\n",
       "      <td>0</td>\n",
       "      <td>0</td>\n",
       "      <td>0</td>\n",
       "      <td>...</td>\n",
       "      <td>0</td>\n",
       "      <td>7</td>\n",
       "      <td>3</td>\n",
       "      <td>2</td>\n",
       "      <td>3</td>\n",
       "      <td>7700</td>\n",
       "      <td>3850</td>\n",
       "      <td>23100</td>\n",
       "      <td>2007</td>\n",
       "      <td>0</td>\n",
       "    </tr>\n",
       "    <tr>\n",
       "      <th>3</th>\n",
       "      <td>0</td>\n",
       "      <td>1</td>\n",
       "      <td>0</td>\n",
       "      <td>1</td>\n",
       "      <td>0</td>\n",
       "      <td>0</td>\n",
       "      <td>0</td>\n",
       "      <td>0</td>\n",
       "      <td>0</td>\n",
       "      <td>0</td>\n",
       "      <td>...</td>\n",
       "      <td>-62400</td>\n",
       "      <td>5</td>\n",
       "      <td>1</td>\n",
       "      <td>1</td>\n",
       "      <td>2</td>\n",
       "      <td>6340</td>\n",
       "      <td>6340</td>\n",
       "      <td>50720</td>\n",
       "      <td>2014</td>\n",
       "      <td>1</td>\n",
       "    </tr>\n",
       "    <tr>\n",
       "      <th>4</th>\n",
       "      <td>0</td>\n",
       "      <td>0</td>\n",
       "      <td>1</td>\n",
       "      <td>0</td>\n",
       "      <td>1</td>\n",
       "      <td>1</td>\n",
       "      <td>0</td>\n",
       "      <td>0</td>\n",
       "      <td>0</td>\n",
       "      <td>0</td>\n",
       "      <td>...</td>\n",
       "      <td>-46000</td>\n",
       "      <td>20</td>\n",
       "      <td>1</td>\n",
       "      <td>0</td>\n",
       "      <td>1</td>\n",
       "      <td>1300</td>\n",
       "      <td>650</td>\n",
       "      <td>4550</td>\n",
       "      <td>2009</td>\n",
       "      <td>0</td>\n",
       "    </tr>\n",
       "  </tbody>\n",
       "</table>\n",
       "<p>5 rows × 68 columns</p>\n",
       "</div>"
      ],
      "text/plain": [
       "   policy_csl_100/300  policy_csl_250/500  policy_csl_500/1000  \\\n",
       "0                   0                   1                    0   \n",
       "1                   0                   1                    0   \n",
       "2                   1                   0                    0   \n",
       "3                   0                   1                    0   \n",
       "4                   0                   0                    1   \n",
       "\n",
       "   insured_sex_FEMALE  insured_sex_MALE  insured_education_level_Associate  \\\n",
       "0                   0                 1                                  0   \n",
       "1                   0                 1                                  0   \n",
       "2                   1                 0                                  0   \n",
       "3                   1                 0                                  0   \n",
       "4                   0                 1                                  1   \n",
       "\n",
       "   insured_education_level_College  insured_education_level_High School  \\\n",
       "0                                0                                    0   \n",
       "1                                0                                    0   \n",
       "2                                0                                    0   \n",
       "3                                0                                    0   \n",
       "4                                0                                    0   \n",
       "\n",
       "   insured_education_level_JD  insured_education_level_MD  ...  capital-loss  \\\n",
       "0                           0                           1  ...             0   \n",
       "1                           0                           1  ...             0   \n",
       "2                           0                           0  ...             0   \n",
       "3                           0                           0  ...        -62400   \n",
       "4                           0                           0  ...        -46000   \n",
       "\n",
       "   incident_hour_of_the_day  number_of_vehicles_involved  bodily_injuries  \\\n",
       "0                         5                            1                1   \n",
       "1                         8                            1                0   \n",
       "2                         7                            3                2   \n",
       "3                         5                            1                1   \n",
       "4                        20                            1                0   \n",
       "\n",
       "   witnesses  injury_claim  property_claim  vehicle_claim  auto_year  \\\n",
       "0          2          6510           13020          52080       2004   \n",
       "1          0           780             780           3510       2007   \n",
       "2          3          7700            3850          23100       2007   \n",
       "3          2          6340            6340          50720       2014   \n",
       "4          1          1300             650           4550       2009   \n",
       "\n",
       "   fraud_reported  \n",
       "0               1  \n",
       "1               1  \n",
       "2               0  \n",
       "3               1  \n",
       "4               0  \n",
       "\n",
       "[5 rows x 68 columns]"
      ]
     },
     "execution_count": 84,
     "metadata": {},
     "output_type": "execute_result"
    }
   ],
   "source": [
    "df_clean = pd.concat([cat_df, df._get_numeric_data()], axis=1)  # joining numeric columns\n",
    "df_clean.head()"
   ]
  },
  {
   "cell_type": "code",
   "execution_count": 139,
   "metadata": {},
   "outputs": [],
   "source": [
    "X = df_clean[df_clean.columns.drop('fraud_reported')]\n",
    "Y = df_clean['fraud_reported']"
   ]
  },
  {
   "cell_type": "code",
   "execution_count": 169,
   "metadata": {},
   "outputs": [],
   "source": [
    "X_train_df, X_test_df, Y_train, Y_test = train_test_split(X, Y, test_size = 0.2, random_state=42)"
   ]
  },
  {
   "cell_type": "code",
   "execution_count": 170,
   "metadata": {},
   "outputs": [],
   "source": [
    "# standardization\n",
    "\n",
    "from sklearn.preprocessing import StandardScaler\n",
    "\n",
    "sc = StandardScaler()\n",
    "X_train = sc.fit_transform(X_train_df)\n",
    "X_test = sc.transform(X_test_df)"
   ]
  },
  {
   "cell_type": "markdown",
   "metadata": {},
   "source": [
    "# Modelling"
   ]
  },
  {
   "cell_type": "markdown",
   "metadata": {},
   "source": [
    "### Random Forest"
   ]
  },
  {
   "cell_type": "code",
   "execution_count": 171,
   "metadata": {},
   "outputs": [
    {
     "name": "stdout",
     "output_type": "stream",
     "text": [
      "Training Accuracy:  0.8948685857321652\n",
      "Testing Accuarcy:  0.84\n",
      "[[126  26]\n",
      " [  6  42]]\n",
      "              precision    recall  f1-score   support\n",
      "\n",
      "           0       0.95      0.83      0.89       152\n",
      "           1       0.62      0.88      0.72        48\n",
      "\n",
      "    accuracy                           0.84       200\n",
      "   macro avg       0.79      0.85      0.81       200\n",
      "weighted avg       0.87      0.84      0.85       200\n",
      "\n"
     ]
    }
   ],
   "source": [
    "model_rfc = BalancedRandomForestClassifier(n_estimators = 100, random_state = 0)\n",
    "\n",
    "model_rfc.fit(X_train, Y_train)\n",
    "Y_pred_rf = model_rfc.predict(X_test)\n",
    "\n",
    "print(\"Training Accuracy: \", model_rfc.score(X_train, Y_train))\n",
    "print('Testing Accuarcy: ', model_rfc.score(X_test, Y_test))\n",
    "\n",
    "print(confusion_matrix(Y_test, Y_pred_rf))\n",
    "print(classification_report(Y_test, Y_pred_rf))"
   ]
  },
  {
   "cell_type": "markdown",
   "metadata": {},
   "source": [
    "### XGB Classifier"
   ]
  },
  {
   "cell_type": "code",
   "execution_count": 172,
   "metadata": {},
   "outputs": [
    {
     "name": "stdout",
     "output_type": "stream",
     "text": [
      "[11:23:37] WARNING: C:/Users/Administrator/workspace/xgboost-win64_release_1.5.1/src/learner.cc:1115: Starting in XGBoost 1.3.0, the default evaluation metric used with the objective 'binary:logistic' was changed from 'error' to 'logloss'. Explicitly set eval_metric if you'd like to restore the old behavior.\n",
      "Training accuracy of XgBoost is : 1.0\n",
      "Test accuracy of XgBoost is : 0.805\n",
      "[[131  21]\n",
      " [ 18  30]]\n",
      "              precision    recall  f1-score   support\n",
      "\n",
      "           0       0.88      0.86      0.87       152\n",
      "           1       0.59      0.62      0.61        48\n",
      "\n",
      "    accuracy                           0.81       200\n",
      "   macro avg       0.73      0.74      0.74       200\n",
      "weighted avg       0.81      0.81      0.81       200\n",
      "\n"
     ]
    }
   ],
   "source": [
    "xgb = XGBClassifier(use_label_encoder=False)\n",
    "xgb.fit(X_train, Y_train)\n",
    "\n",
    "Y_pred_xgb = xgb.predict(X_test)\n",
    "\n",
    "xgb_train_acc = accuracy_score(Y_train, xgb.predict(X_train))\n",
    "xgb_test_acc = accuracy_score(Y_test, Y_pred_xgb)\n",
    "\n",
    "print(f\"Training accuracy of XgBoost is : {xgb_train_acc}\")\n",
    "print(f\"Test accuracy of XgBoost is : {xgb_test_acc}\")\n",
    "\n",
    "print(confusion_matrix(Y_test, Y_pred_xgb))\n",
    "print(classification_report(Y_test, Y_pred_xgb))"
   ]
  },
  {
   "cell_type": "markdown",
   "metadata": {},
   "source": [
    "### KNN"
   ]
  },
  {
   "cell_type": "code",
   "execution_count": 173,
   "metadata": {},
   "outputs": [
    {
     "name": "stdout",
     "output_type": "stream",
     "text": [
      "Training accuracy of KNN is : 0.8760951188986232\n",
      "Test accuracy of KNN is : 0.775\n",
      "[[140  12]\n",
      " [ 33  15]]\n",
      "              precision    recall  f1-score   support\n",
      "\n",
      "           0       0.81      0.92      0.86       152\n",
      "           1       0.56      0.31      0.40        48\n",
      "\n",
      "    accuracy                           0.78       200\n",
      "   macro avg       0.68      0.62      0.63       200\n",
      "weighted avg       0.75      0.78      0.75       200\n",
      "\n"
     ]
    }
   ],
   "source": [
    "knn = KNeighborsClassifier()\n",
    "knn.fit(X_train, Y_train)\n",
    "\n",
    "y_pred_knn = knn.predict(X_test)\n",
    "\n",
    "knn_train_acc = accuracy_score(Y_train, knn.predict(X_train))\n",
    "knn_test_acc = accuracy_score(Y_test, y_pred_knn)\n",
    "\n",
    "print(f\"Training accuracy of KNN is : {knn_train_acc}\")\n",
    "print(f\"Test accuracy of KNN is : {knn_test_acc}\")\n",
    "\n",
    "print(confusion_matrix(Y_test, y_pred_knn))\n",
    "print(classification_report(Y_test, y_pred_knn))"
   ]
  },
  {
   "cell_type": "markdown",
   "metadata": {},
   "source": [
    "### Cat Boost"
   ]
  },
  {
   "cell_type": "code",
   "execution_count": 174,
   "metadata": {},
   "outputs": [
    {
     "name": "stdout",
     "output_type": "stream",
     "text": [
      "Learning rate set to 0.009361\n",
      "0:\tlearn: 0.6835765\ttotal: 8.8ms\tremaining: 8.79s\n",
      "1:\tlearn: 0.6736842\ttotal: 11.4ms\tremaining: 5.71s\n",
      "2:\tlearn: 0.6643364\ttotal: 13.8ms\tremaining: 4.59s\n",
      "3:\tlearn: 0.6554416\ttotal: 16.3ms\tremaining: 4.06s\n",
      "4:\tlearn: 0.6465109\ttotal: 24ms\tremaining: 4.77s\n",
      "5:\tlearn: 0.6380511\ttotal: 26.7ms\tremaining: 4.43s\n",
      "6:\tlearn: 0.6293070\ttotal: 29.3ms\tremaining: 4.16s\n",
      "7:\tlearn: 0.6224801\ttotal: 32.4ms\tremaining: 4.02s\n",
      "8:\tlearn: 0.6139039\ttotal: 35.1ms\tremaining: 3.87s\n",
      "9:\tlearn: 0.6073038\ttotal: 37.7ms\tremaining: 3.73s\n",
      "10:\tlearn: 0.5997593\ttotal: 40ms\tremaining: 3.6s\n",
      "11:\tlearn: 0.5923461\ttotal: 42.4ms\tremaining: 3.49s\n",
      "12:\tlearn: 0.5853702\ttotal: 45.1ms\tremaining: 3.42s\n",
      "13:\tlearn: 0.5781245\ttotal: 48ms\tremaining: 3.38s\n",
      "14:\tlearn: 0.5713238\ttotal: 50.3ms\tremaining: 3.3s\n",
      "15:\tlearn: 0.5646392\ttotal: 52.3ms\tremaining: 3.21s\n",
      "16:\tlearn: 0.5582487\ttotal: 54.6ms\tremaining: 3.16s\n",
      "17:\tlearn: 0.5516651\ttotal: 56.6ms\tremaining: 3.09s\n",
      "18:\tlearn: 0.5453191\ttotal: 58.6ms\tremaining: 3.03s\n",
      "19:\tlearn: 0.5408939\ttotal: 60.5ms\tremaining: 2.97s\n",
      "20:\tlearn: 0.5346051\ttotal: 63.6ms\tremaining: 2.97s\n",
      "21:\tlearn: 0.5286298\ttotal: 65.9ms\tremaining: 2.93s\n",
      "22:\tlearn: 0.5224067\ttotal: 69.1ms\tremaining: 2.93s\n",
      "23:\tlearn: 0.5168208\ttotal: 71.3ms\tremaining: 2.9s\n",
      "24:\tlearn: 0.5114914\ttotal: 73.8ms\tremaining: 2.88s\n",
      "25:\tlearn: 0.5065576\ttotal: 74.8ms\tremaining: 2.8s\n",
      "26:\tlearn: 0.5003649\ttotal: 77.1ms\tremaining: 2.78s\n",
      "27:\tlearn: 0.4954611\ttotal: 79.8ms\tremaining: 2.77s\n",
      "28:\tlearn: 0.4905512\ttotal: 82.7ms\tremaining: 2.77s\n",
      "29:\tlearn: 0.4855657\ttotal: 84.7ms\tremaining: 2.74s\n",
      "30:\tlearn: 0.4810443\ttotal: 86.5ms\tremaining: 2.71s\n",
      "31:\tlearn: 0.4760924\ttotal: 88.3ms\tremaining: 2.67s\n",
      "32:\tlearn: 0.4715240\ttotal: 90.1ms\tremaining: 2.64s\n",
      "33:\tlearn: 0.4670003\ttotal: 92.5ms\tremaining: 2.63s\n",
      "34:\tlearn: 0.4626874\ttotal: 95.1ms\tremaining: 2.62s\n",
      "35:\tlearn: 0.4593238\ttotal: 97ms\tremaining: 2.6s\n",
      "36:\tlearn: 0.4562675\ttotal: 99.1ms\tremaining: 2.58s\n",
      "37:\tlearn: 0.4521863\ttotal: 101ms\tremaining: 2.56s\n",
      "38:\tlearn: 0.4492280\ttotal: 103ms\tremaining: 2.54s\n",
      "39:\tlearn: 0.4469134\ttotal: 105ms\tremaining: 2.52s\n",
      "40:\tlearn: 0.4430932\ttotal: 107ms\tremaining: 2.5s\n",
      "41:\tlearn: 0.4395109\ttotal: 109ms\tremaining: 2.49s\n",
      "42:\tlearn: 0.4356223\ttotal: 121ms\tremaining: 2.7s\n",
      "43:\tlearn: 0.4320324\ttotal: 123ms\tremaining: 2.68s\n",
      "44:\tlearn: 0.4284881\ttotal: 126ms\tremaining: 2.67s\n",
      "45:\tlearn: 0.4256364\ttotal: 127ms\tremaining: 2.64s\n",
      "46:\tlearn: 0.4226708\ttotal: 129ms\tremaining: 2.62s\n",
      "47:\tlearn: 0.4195357\ttotal: 131ms\tremaining: 2.6s\n",
      "48:\tlearn: 0.4163290\ttotal: 133ms\tremaining: 2.58s\n",
      "49:\tlearn: 0.4145764\ttotal: 135ms\tremaining: 2.57s\n",
      "50:\tlearn: 0.4121139\ttotal: 138ms\tremaining: 2.56s\n",
      "51:\tlearn: 0.4091297\ttotal: 141ms\tremaining: 2.56s\n",
      "52:\tlearn: 0.4063050\ttotal: 144ms\tremaining: 2.57s\n",
      "53:\tlearn: 0.4033977\ttotal: 147ms\tremaining: 2.58s\n",
      "54:\tlearn: 0.4005208\ttotal: 150ms\tremaining: 2.57s\n",
      "55:\tlearn: 0.3973140\ttotal: 152ms\tremaining: 2.56s\n",
      "56:\tlearn: 0.3943458\ttotal: 154ms\tremaining: 2.54s\n",
      "57:\tlearn: 0.3916265\ttotal: 156ms\tremaining: 2.53s\n",
      "58:\tlearn: 0.3888862\ttotal: 158ms\tremaining: 2.52s\n",
      "59:\tlearn: 0.3865001\ttotal: 160ms\tremaining: 2.5s\n",
      "60:\tlearn: 0.3840159\ttotal: 162ms\tremaining: 2.49s\n",
      "61:\tlearn: 0.3816170\ttotal: 163ms\tremaining: 2.47s\n",
      "62:\tlearn: 0.3791114\ttotal: 165ms\tremaining: 2.46s\n",
      "63:\tlearn: 0.3771418\ttotal: 167ms\tremaining: 2.44s\n",
      "64:\tlearn: 0.3750526\ttotal: 169ms\tremaining: 2.43s\n",
      "65:\tlearn: 0.3722312\ttotal: 171ms\tremaining: 2.42s\n",
      "66:\tlearn: 0.3701669\ttotal: 173ms\tremaining: 2.41s\n",
      "67:\tlearn: 0.3682617\ttotal: 175ms\tremaining: 2.4s\n",
      "68:\tlearn: 0.3658569\ttotal: 178ms\tremaining: 2.4s\n",
      "69:\tlearn: 0.3633312\ttotal: 180ms\tremaining: 2.39s\n",
      "70:\tlearn: 0.3612810\ttotal: 182ms\tremaining: 2.38s\n",
      "71:\tlearn: 0.3593047\ttotal: 184ms\tremaining: 2.38s\n",
      "72:\tlearn: 0.3573952\ttotal: 187ms\tremaining: 2.37s\n",
      "73:\tlearn: 0.3561461\ttotal: 189ms\tremaining: 2.36s\n",
      "74:\tlearn: 0.3543928\ttotal: 191ms\tremaining: 2.36s\n",
      "75:\tlearn: 0.3526863\ttotal: 194ms\tremaining: 2.35s\n",
      "76:\tlearn: 0.3509241\ttotal: 196ms\tremaining: 2.35s\n",
      "77:\tlearn: 0.3490882\ttotal: 198ms\tremaining: 2.34s\n",
      "78:\tlearn: 0.3474922\ttotal: 200ms\tremaining: 2.33s\n",
      "79:\tlearn: 0.3464504\ttotal: 203ms\tremaining: 2.33s\n",
      "80:\tlearn: 0.3446006\ttotal: 206ms\tremaining: 2.34s\n",
      "81:\tlearn: 0.3429598\ttotal: 208ms\tremaining: 2.33s\n",
      "82:\tlearn: 0.3415250\ttotal: 210ms\tremaining: 2.32s\n",
      "83:\tlearn: 0.3399777\ttotal: 212ms\tremaining: 2.31s\n",
      "84:\tlearn: 0.3385253\ttotal: 214ms\tremaining: 2.3s\n",
      "85:\tlearn: 0.3374762\ttotal: 216ms\tremaining: 2.29s\n",
      "86:\tlearn: 0.3358599\ttotal: 218ms\tremaining: 2.29s\n",
      "87:\tlearn: 0.3343434\ttotal: 221ms\tremaining: 2.29s\n",
      "88:\tlearn: 0.3329338\ttotal: 223ms\tremaining: 2.28s\n",
      "89:\tlearn: 0.3322628\ttotal: 225ms\tremaining: 2.28s\n",
      "90:\tlearn: 0.3309006\ttotal: 227ms\tremaining: 2.27s\n",
      "91:\tlearn: 0.3299485\ttotal: 228ms\tremaining: 2.25s\n",
      "92:\tlearn: 0.3288408\ttotal: 230ms\tremaining: 2.25s\n",
      "93:\tlearn: 0.3279152\ttotal: 233ms\tremaining: 2.24s\n",
      "94:\tlearn: 0.3266502\ttotal: 236ms\tremaining: 2.25s\n",
      "95:\tlearn: 0.3257825\ttotal: 239ms\tremaining: 2.25s\n",
      "96:\tlearn: 0.3252649\ttotal: 242ms\tremaining: 2.25s\n",
      "97:\tlearn: 0.3243183\ttotal: 244ms\tremaining: 2.25s\n",
      "98:\tlearn: 0.3228931\ttotal: 247ms\tremaining: 2.25s\n",
      "99:\tlearn: 0.3214104\ttotal: 250ms\tremaining: 2.25s\n",
      "100:\tlearn: 0.3204892\ttotal: 254ms\tremaining: 2.26s\n",
      "101:\tlearn: 0.3193824\ttotal: 257ms\tremaining: 2.26s\n",
      "102:\tlearn: 0.3184208\ttotal: 260ms\tremaining: 2.26s\n",
      "103:\tlearn: 0.3176593\ttotal: 262ms\tremaining: 2.26s\n",
      "104:\tlearn: 0.3159531\ttotal: 265ms\tremaining: 2.26s\n",
      "105:\tlearn: 0.3146073\ttotal: 267ms\tremaining: 2.25s\n",
      "106:\tlearn: 0.3136972\ttotal: 269ms\tremaining: 2.25s\n",
      "107:\tlearn: 0.3128726\ttotal: 271ms\tremaining: 2.24s\n",
      "108:\tlearn: 0.3121741\ttotal: 274ms\tremaining: 2.24s\n",
      "109:\tlearn: 0.3111552\ttotal: 294ms\tremaining: 2.38s\n",
      "110:\tlearn: 0.3101323\ttotal: 302ms\tremaining: 2.42s\n",
      "111:\tlearn: 0.3092395\ttotal: 308ms\tremaining: 2.44s\n",
      "112:\tlearn: 0.3082706\ttotal: 313ms\tremaining: 2.46s\n",
      "113:\tlearn: 0.3078339\ttotal: 317ms\tremaining: 2.46s\n",
      "114:\tlearn: 0.3069563\ttotal: 320ms\tremaining: 2.46s\n",
      "115:\tlearn: 0.3057408\ttotal: 323ms\tremaining: 2.46s\n",
      "116:\tlearn: 0.3047763\ttotal: 326ms\tremaining: 2.46s\n",
      "117:\tlearn: 0.3042276\ttotal: 328ms\tremaining: 2.46s\n",
      "118:\tlearn: 0.3036946\ttotal: 331ms\tremaining: 2.45s\n",
      "119:\tlearn: 0.3029037\ttotal: 333ms\tremaining: 2.44s\n",
      "120:\tlearn: 0.3021101\ttotal: 335ms\tremaining: 2.43s\n",
      "121:\tlearn: 0.3011979\ttotal: 336ms\tremaining: 2.42s\n",
      "122:\tlearn: 0.3005400\ttotal: 338ms\tremaining: 2.41s\n",
      "123:\tlearn: 0.2994688\ttotal: 340ms\tremaining: 2.4s\n",
      "124:\tlearn: 0.2988659\ttotal: 342ms\tremaining: 2.39s\n",
      "125:\tlearn: 0.2984650\ttotal: 344ms\tremaining: 2.38s\n",
      "126:\tlearn: 0.2974825\ttotal: 346ms\tremaining: 2.38s\n",
      "127:\tlearn: 0.2969220\ttotal: 348ms\tremaining: 2.37s\n",
      "128:\tlearn: 0.2961437\ttotal: 350ms\tremaining: 2.36s\n",
      "129:\tlearn: 0.2956331\ttotal: 352ms\tremaining: 2.35s\n",
      "130:\tlearn: 0.2948260\ttotal: 353ms\tremaining: 2.34s\n",
      "131:\tlearn: 0.2942612\ttotal: 355ms\tremaining: 2.33s\n",
      "132:\tlearn: 0.2935587\ttotal: 357ms\tremaining: 2.33s\n",
      "133:\tlearn: 0.2931793\ttotal: 359ms\tremaining: 2.32s\n",
      "134:\tlearn: 0.2928145\ttotal: 361ms\tremaining: 2.31s\n",
      "135:\tlearn: 0.2917571\ttotal: 363ms\tremaining: 2.3s\n",
      "136:\tlearn: 0.2912474\ttotal: 365ms\tremaining: 2.3s\n",
      "137:\tlearn: 0.2902796\ttotal: 367ms\tremaining: 2.29s\n",
      "138:\tlearn: 0.2896362\ttotal: 369ms\tremaining: 2.29s\n",
      "139:\tlearn: 0.2891953\ttotal: 372ms\tremaining: 2.28s\n",
      "140:\tlearn: 0.2887369\ttotal: 374ms\tremaining: 2.28s\n",
      "141:\tlearn: 0.2884546\ttotal: 377ms\tremaining: 2.28s\n",
      "142:\tlearn: 0.2878109\ttotal: 380ms\tremaining: 2.28s\n",
      "143:\tlearn: 0.2875225\ttotal: 382ms\tremaining: 2.27s\n",
      "144:\tlearn: 0.2873015\ttotal: 385ms\tremaining: 2.27s\n",
      "145:\tlearn: 0.2867343\ttotal: 387ms\tremaining: 2.26s\n",
      "146:\tlearn: 0.2861403\ttotal: 389ms\tremaining: 2.26s\n",
      "147:\tlearn: 0.2854905\ttotal: 391ms\tremaining: 2.25s\n",
      "148:\tlearn: 0.2846964\ttotal: 393ms\tremaining: 2.25s\n",
      "149:\tlearn: 0.2841887\ttotal: 395ms\tremaining: 2.24s\n",
      "150:\tlearn: 0.2835495\ttotal: 397ms\tremaining: 2.23s\n",
      "151:\tlearn: 0.2832015\ttotal: 399ms\tremaining: 2.23s\n",
      "152:\tlearn: 0.2827146\ttotal: 401ms\tremaining: 2.22s\n",
      "153:\tlearn: 0.2822960\ttotal: 403ms\tremaining: 2.21s\n",
      "154:\tlearn: 0.2817366\ttotal: 405ms\tremaining: 2.21s\n",
      "155:\tlearn: 0.2810109\ttotal: 408ms\tremaining: 2.21s\n",
      "156:\tlearn: 0.2801134\ttotal: 418ms\tremaining: 2.24s\n",
      "157:\tlearn: 0.2794928\ttotal: 420ms\tremaining: 2.24s\n",
      "158:\tlearn: 0.2789510\ttotal: 425ms\tremaining: 2.25s\n",
      "159:\tlearn: 0.2785711\ttotal: 428ms\tremaining: 2.25s\n",
      "160:\tlearn: 0.2780242\ttotal: 432ms\tremaining: 2.25s\n",
      "161:\tlearn: 0.2775386\ttotal: 434ms\tremaining: 2.25s\n",
      "162:\tlearn: 0.2770916\ttotal: 436ms\tremaining: 2.24s\n",
      "163:\tlearn: 0.2766009\ttotal: 439ms\tremaining: 2.23s\n",
      "164:\tlearn: 0.2760646\ttotal: 441ms\tremaining: 2.23s\n",
      "165:\tlearn: 0.2757069\ttotal: 443ms\tremaining: 2.23s\n",
      "166:\tlearn: 0.2752302\ttotal: 446ms\tremaining: 2.22s\n",
      "167:\tlearn: 0.2749139\ttotal: 448ms\tremaining: 2.22s\n",
      "168:\tlearn: 0.2744332\ttotal: 450ms\tremaining: 2.21s\n",
      "169:\tlearn: 0.2739648\ttotal: 453ms\tremaining: 2.21s\n",
      "170:\tlearn: 0.2734991\ttotal: 455ms\tremaining: 2.21s\n",
      "171:\tlearn: 0.2728156\ttotal: 457ms\tremaining: 2.2s\n",
      "172:\tlearn: 0.2721763\ttotal: 460ms\tremaining: 2.2s\n",
      "173:\tlearn: 0.2716494\ttotal: 462ms\tremaining: 2.19s\n",
      "174:\tlearn: 0.2713911\ttotal: 464ms\tremaining: 2.19s\n",
      "175:\tlearn: 0.2710327\ttotal: 466ms\tremaining: 2.18s\n",
      "176:\tlearn: 0.2706965\ttotal: 468ms\tremaining: 2.18s\n",
      "177:\tlearn: 0.2702472\ttotal: 470ms\tremaining: 2.17s\n",
      "178:\tlearn: 0.2697485\ttotal: 473ms\tremaining: 2.17s\n",
      "179:\tlearn: 0.2691160\ttotal: 475ms\tremaining: 2.16s\n",
      "180:\tlearn: 0.2686126\ttotal: 477ms\tremaining: 2.16s\n",
      "181:\tlearn: 0.2681502\ttotal: 479ms\tremaining: 2.15s\n",
      "182:\tlearn: 0.2676926\ttotal: 481ms\tremaining: 2.15s\n",
      "183:\tlearn: 0.2672012\ttotal: 483ms\tremaining: 2.14s\n",
      "184:\tlearn: 0.2665921\ttotal: 486ms\tremaining: 2.14s\n",
      "185:\tlearn: 0.2662959\ttotal: 488ms\tremaining: 2.13s\n",
      "186:\tlearn: 0.2659392\ttotal: 490ms\tremaining: 2.13s\n",
      "187:\tlearn: 0.2656880\ttotal: 492ms\tremaining: 2.13s\n",
      "188:\tlearn: 0.2652129\ttotal: 494ms\tremaining: 2.12s\n",
      "189:\tlearn: 0.2645236\ttotal: 496ms\tremaining: 2.11s\n",
      "190:\tlearn: 0.2641155\ttotal: 498ms\tremaining: 2.11s\n",
      "191:\tlearn: 0.2636033\ttotal: 501ms\tremaining: 2.11s\n",
      "192:\tlearn: 0.2631708\ttotal: 503ms\tremaining: 2.1s\n",
      "193:\tlearn: 0.2627928\ttotal: 505ms\tremaining: 2.1s\n",
      "194:\tlearn: 0.2621102\ttotal: 507ms\tremaining: 2.09s\n",
      "195:\tlearn: 0.2616236\ttotal: 509ms\tremaining: 2.09s\n",
      "196:\tlearn: 0.2610936\ttotal: 510ms\tremaining: 2.08s\n",
      "197:\tlearn: 0.2606571\ttotal: 512ms\tremaining: 2.07s\n",
      "198:\tlearn: 0.2603449\ttotal: 514ms\tremaining: 2.07s\n",
      "199:\tlearn: 0.2597790\ttotal: 517ms\tremaining: 2.07s\n",
      "200:\tlearn: 0.2596891\ttotal: 529ms\tremaining: 2.1s\n",
      "201:\tlearn: 0.2592525\ttotal: 531ms\tremaining: 2.1s\n",
      "202:\tlearn: 0.2589818\ttotal: 534ms\tremaining: 2.1s\n",
      "203:\tlearn: 0.2586966\ttotal: 536ms\tremaining: 2.09s\n",
      "204:\tlearn: 0.2582796\ttotal: 538ms\tremaining: 2.08s\n",
      "205:\tlearn: 0.2578395\ttotal: 540ms\tremaining: 2.08s\n",
      "206:\tlearn: 0.2573648\ttotal: 541ms\tremaining: 2.07s\n",
      "207:\tlearn: 0.2566720\ttotal: 544ms\tremaining: 2.07s\n",
      "208:\tlearn: 0.2560924\ttotal: 546ms\tremaining: 2.06s\n",
      "209:\tlearn: 0.2557221\ttotal: 548ms\tremaining: 2.06s\n",
      "210:\tlearn: 0.2553647\ttotal: 550ms\tremaining: 2.06s\n",
      "211:\tlearn: 0.2548303\ttotal: 552ms\tremaining: 2.05s\n",
      "212:\tlearn: 0.2546242\ttotal: 555ms\tremaining: 2.05s\n",
      "213:\tlearn: 0.2542949\ttotal: 557ms\tremaining: 2.05s\n",
      "214:\tlearn: 0.2537742\ttotal: 560ms\tremaining: 2.04s\n",
      "215:\tlearn: 0.2533913\ttotal: 562ms\tremaining: 2.04s\n",
      "216:\tlearn: 0.2530552\ttotal: 565ms\tremaining: 2.04s\n",
      "217:\tlearn: 0.2527219\ttotal: 567ms\tremaining: 2.03s\n",
      "218:\tlearn: 0.2521631\ttotal: 569ms\tremaining: 2.03s\n",
      "219:\tlearn: 0.2519085\ttotal: 571ms\tremaining: 2.03s\n",
      "220:\tlearn: 0.2515224\ttotal: 574ms\tremaining: 2.02s\n",
      "221:\tlearn: 0.2510941\ttotal: 576ms\tremaining: 2.02s\n",
      "222:\tlearn: 0.2507370\ttotal: 578ms\tremaining: 2.01s\n",
      "223:\tlearn: 0.2501690\ttotal: 581ms\tremaining: 2.01s\n",
      "224:\tlearn: 0.2497917\ttotal: 583ms\tremaining: 2.01s\n",
      "225:\tlearn: 0.2493094\ttotal: 586ms\tremaining: 2s\n",
      "226:\tlearn: 0.2490446\ttotal: 588ms\tremaining: 2s\n",
      "227:\tlearn: 0.2487917\ttotal: 590ms\tremaining: 2s\n",
      "228:\tlearn: 0.2485601\ttotal: 592ms\tremaining: 1.99s\n",
      "229:\tlearn: 0.2482170\ttotal: 594ms\tremaining: 1.99s\n",
      "230:\tlearn: 0.2479001\ttotal: 598ms\tremaining: 1.99s\n",
      "231:\tlearn: 0.2477231\ttotal: 601ms\tremaining: 1.99s\n",
      "232:\tlearn: 0.2472625\ttotal: 605ms\tremaining: 1.99s\n",
      "233:\tlearn: 0.2467031\ttotal: 608ms\tremaining: 1.99s\n",
      "234:\tlearn: 0.2463885\ttotal: 610ms\tremaining: 1.99s\n",
      "235:\tlearn: 0.2460909\ttotal: 629ms\tremaining: 2.04s\n",
      "236:\tlearn: 0.2455651\ttotal: 631ms\tremaining: 2.03s\n",
      "237:\tlearn: 0.2453361\ttotal: 633ms\tremaining: 2.03s\n",
      "238:\tlearn: 0.2449977\ttotal: 635ms\tremaining: 2.02s\n",
      "239:\tlearn: 0.2444516\ttotal: 637ms\tremaining: 2.02s\n",
      "240:\tlearn: 0.2438467\ttotal: 638ms\tremaining: 2.01s\n",
      "241:\tlearn: 0.2436023\ttotal: 640ms\tremaining: 2s\n",
      "242:\tlearn: 0.2430775\ttotal: 643ms\tremaining: 2s\n",
      "243:\tlearn: 0.2427020\ttotal: 645ms\tremaining: 2s\n",
      "244:\tlearn: 0.2422671\ttotal: 647ms\tremaining: 1.99s\n",
      "245:\tlearn: 0.2418744\ttotal: 648ms\tremaining: 1.99s\n",
      "246:\tlearn: 0.2411389\ttotal: 650ms\tremaining: 1.98s\n",
      "247:\tlearn: 0.2409525\ttotal: 651ms\tremaining: 1.97s\n",
      "248:\tlearn: 0.2404329\ttotal: 653ms\tremaining: 1.97s\n",
      "249:\tlearn: 0.2400625\ttotal: 655ms\tremaining: 1.96s\n",
      "250:\tlearn: 0.2396213\ttotal: 657ms\tremaining: 1.96s\n",
      "251:\tlearn: 0.2392820\ttotal: 660ms\tremaining: 1.96s\n",
      "252:\tlearn: 0.2390011\ttotal: 662ms\tremaining: 1.95s\n",
      "253:\tlearn: 0.2385102\ttotal: 664ms\tremaining: 1.95s\n",
      "254:\tlearn: 0.2381386\ttotal: 666ms\tremaining: 1.95s\n",
      "255:\tlearn: 0.2376585\ttotal: 668ms\tremaining: 1.94s\n",
      "256:\tlearn: 0.2373795\ttotal: 671ms\tremaining: 1.94s\n",
      "257:\tlearn: 0.2371710\ttotal: 673ms\tremaining: 1.94s\n",
      "258:\tlearn: 0.2368550\ttotal: 686ms\tremaining: 1.96s\n",
      "259:\tlearn: 0.2366279\ttotal: 688ms\tremaining: 1.96s\n",
      "260:\tlearn: 0.2362083\ttotal: 690ms\tremaining: 1.95s\n",
      "261:\tlearn: 0.2358604\ttotal: 692ms\tremaining: 1.95s\n",
      "262:\tlearn: 0.2354942\ttotal: 694ms\tremaining: 1.95s\n",
      "263:\tlearn: 0.2350827\ttotal: 696ms\tremaining: 1.94s\n",
      "264:\tlearn: 0.2347491\ttotal: 698ms\tremaining: 1.94s\n",
      "265:\tlearn: 0.2341701\ttotal: 701ms\tremaining: 1.93s\n",
      "266:\tlearn: 0.2338474\ttotal: 703ms\tremaining: 1.93s\n",
      "267:\tlearn: 0.2335663\ttotal: 704ms\tremaining: 1.92s\n",
      "268:\tlearn: 0.2333914\ttotal: 707ms\tremaining: 1.92s\n",
      "269:\tlearn: 0.2329821\ttotal: 709ms\tremaining: 1.92s\n",
      "270:\tlearn: 0.2327639\ttotal: 711ms\tremaining: 1.91s\n",
      "271:\tlearn: 0.2323661\ttotal: 714ms\tremaining: 1.91s\n",
      "272:\tlearn: 0.2320282\ttotal: 716ms\tremaining: 1.91s\n",
      "273:\tlearn: 0.2317691\ttotal: 718ms\tremaining: 1.9s\n",
      "274:\tlearn: 0.2314007\ttotal: 720ms\tremaining: 1.9s\n",
      "275:\tlearn: 0.2311178\ttotal: 723ms\tremaining: 1.9s\n",
      "276:\tlearn: 0.2307788\ttotal: 724ms\tremaining: 1.89s\n",
      "277:\tlearn: 0.2305165\ttotal: 726ms\tremaining: 1.89s\n",
      "278:\tlearn: 0.2301264\ttotal: 728ms\tremaining: 1.88s\n",
      "279:\tlearn: 0.2297744\ttotal: 731ms\tremaining: 1.88s\n",
      "280:\tlearn: 0.2296448\ttotal: 733ms\tremaining: 1.87s\n",
      "281:\tlearn: 0.2292897\ttotal: 735ms\tremaining: 1.87s\n",
      "282:\tlearn: 0.2290257\ttotal: 737ms\tremaining: 1.87s\n",
      "283:\tlearn: 0.2287880\ttotal: 740ms\tremaining: 1.86s\n",
      "284:\tlearn: 0.2282068\ttotal: 742ms\tremaining: 1.86s\n",
      "285:\tlearn: 0.2279141\ttotal: 744ms\tremaining: 1.86s\n",
      "286:\tlearn: 0.2276909\ttotal: 746ms\tremaining: 1.85s\n",
      "287:\tlearn: 0.2274654\ttotal: 748ms\tremaining: 1.85s\n",
      "288:\tlearn: 0.2271850\ttotal: 750ms\tremaining: 1.85s\n",
      "289:\tlearn: 0.2268179\ttotal: 753ms\tremaining: 1.84s\n",
      "290:\tlearn: 0.2264944\ttotal: 755ms\tremaining: 1.84s\n",
      "291:\tlearn: 0.2259849\ttotal: 757ms\tremaining: 1.84s\n",
      "292:\tlearn: 0.2256226\ttotal: 759ms\tremaining: 1.83s\n",
      "293:\tlearn: 0.2252145\ttotal: 762ms\tremaining: 1.83s\n",
      "294:\tlearn: 0.2249302\ttotal: 764ms\tremaining: 1.82s\n",
      "295:\tlearn: 0.2245819\ttotal: 767ms\tremaining: 1.82s\n",
      "296:\tlearn: 0.2243931\ttotal: 771ms\tremaining: 1.82s\n",
      "297:\tlearn: 0.2238664\ttotal: 790ms\tremaining: 1.86s\n",
      "298:\tlearn: 0.2234042\ttotal: 796ms\tremaining: 1.87s\n",
      "299:\tlearn: 0.2229758\ttotal: 803ms\tremaining: 1.87s\n",
      "300:\tlearn: 0.2226963\ttotal: 809ms\tremaining: 1.88s\n",
      "301:\tlearn: 0.2226180\ttotal: 812ms\tremaining: 1.88s\n",
      "302:\tlearn: 0.2223271\ttotal: 818ms\tremaining: 1.88s\n",
      "303:\tlearn: 0.2220669\ttotal: 821ms\tremaining: 1.88s\n",
      "304:\tlearn: 0.2216054\ttotal: 824ms\tremaining: 1.88s\n",
      "305:\tlearn: 0.2213415\ttotal: 827ms\tremaining: 1.87s\n",
      "306:\tlearn: 0.2210102\ttotal: 829ms\tremaining: 1.87s\n",
      "307:\tlearn: 0.2206416\ttotal: 832ms\tremaining: 1.87s\n",
      "308:\tlearn: 0.2205837\ttotal: 833ms\tremaining: 1.86s\n",
      "309:\tlearn: 0.2202150\ttotal: 857ms\tremaining: 1.91s\n",
      "310:\tlearn: 0.2199385\ttotal: 859ms\tremaining: 1.9s\n",
      "311:\tlearn: 0.2196188\ttotal: 861ms\tremaining: 1.9s\n",
      "312:\tlearn: 0.2194172\ttotal: 865ms\tremaining: 1.9s\n",
      "313:\tlearn: 0.2191479\ttotal: 867ms\tremaining: 1.89s\n",
      "314:\tlearn: 0.2188120\ttotal: 869ms\tremaining: 1.89s\n",
      "315:\tlearn: 0.2184932\ttotal: 871ms\tremaining: 1.89s\n",
      "316:\tlearn: 0.2179940\ttotal: 873ms\tremaining: 1.88s\n",
      "317:\tlearn: 0.2177197\ttotal: 875ms\tremaining: 1.88s\n",
      "318:\tlearn: 0.2174032\ttotal: 877ms\tremaining: 1.87s\n",
      "319:\tlearn: 0.2171348\ttotal: 880ms\tremaining: 1.87s\n",
      "320:\tlearn: 0.2167527\ttotal: 883ms\tremaining: 1.87s\n",
      "321:\tlearn: 0.2163992\ttotal: 885ms\tremaining: 1.86s\n",
      "322:\tlearn: 0.2161619\ttotal: 887ms\tremaining: 1.86s\n",
      "323:\tlearn: 0.2158989\ttotal: 889ms\tremaining: 1.85s\n",
      "324:\tlearn: 0.2156570\ttotal: 891ms\tremaining: 1.85s\n",
      "325:\tlearn: 0.2154223\ttotal: 893ms\tremaining: 1.84s\n",
      "326:\tlearn: 0.2151838\ttotal: 895ms\tremaining: 1.84s\n",
      "327:\tlearn: 0.2148027\ttotal: 930ms\tremaining: 1.9s\n",
      "328:\tlearn: 0.2145440\ttotal: 933ms\tremaining: 1.9s\n",
      "329:\tlearn: 0.2143076\ttotal: 935ms\tremaining: 1.9s\n",
      "330:\tlearn: 0.2139726\ttotal: 938ms\tremaining: 1.9s\n",
      "331:\tlearn: 0.2135188\ttotal: 940ms\tremaining: 1.89s\n",
      "332:\tlearn: 0.2130002\ttotal: 943ms\tremaining: 1.89s\n",
      "333:\tlearn: 0.2127196\ttotal: 945ms\tremaining: 1.89s\n",
      "334:\tlearn: 0.2122452\ttotal: 948ms\tremaining: 1.88s\n",
      "335:\tlearn: 0.2119245\ttotal: 950ms\tremaining: 1.88s\n",
      "336:\tlearn: 0.2116993\ttotal: 952ms\tremaining: 1.87s\n",
      "337:\tlearn: 0.2113510\ttotal: 953ms\tremaining: 1.87s\n",
      "338:\tlearn: 0.2111573\ttotal: 977ms\tremaining: 1.91s\n",
      "339:\tlearn: 0.2107486\ttotal: 988ms\tremaining: 1.92s\n",
      "340:\tlearn: 0.2103946\ttotal: 998ms\tremaining: 1.93s\n",
      "341:\tlearn: 0.2102064\ttotal: 1s\tremaining: 1.93s\n",
      "342:\tlearn: 0.2099147\ttotal: 1.01s\tremaining: 1.93s\n",
      "343:\tlearn: 0.2097085\ttotal: 1.01s\tremaining: 1.93s\n",
      "344:\tlearn: 0.2094015\ttotal: 1.02s\tremaining: 1.93s\n",
      "345:\tlearn: 0.2091434\ttotal: 1.02s\tremaining: 1.93s\n",
      "346:\tlearn: 0.2089135\ttotal: 1.02s\tremaining: 1.92s\n",
      "347:\tlearn: 0.2086054\ttotal: 1.02s\tremaining: 1.92s\n",
      "348:\tlearn: 0.2082318\ttotal: 1.02s\tremaining: 1.91s\n",
      "349:\tlearn: 0.2079583\ttotal: 1.03s\tremaining: 1.91s\n",
      "350:\tlearn: 0.2077053\ttotal: 1.03s\tremaining: 1.91s\n",
      "351:\tlearn: 0.2074058\ttotal: 1.03s\tremaining: 1.9s\n",
      "352:\tlearn: 0.2072862\ttotal: 1.03s\tremaining: 1.9s\n",
      "353:\tlearn: 0.2069410\ttotal: 1.04s\tremaining: 1.89s\n",
      "354:\tlearn: 0.2067402\ttotal: 1.04s\tremaining: 1.89s\n",
      "355:\tlearn: 0.2064970\ttotal: 1.04s\tremaining: 1.88s\n",
      "356:\tlearn: 0.2060610\ttotal: 1.04s\tremaining: 1.88s\n",
      "357:\tlearn: 0.2057574\ttotal: 1.04s\tremaining: 1.87s\n",
      "358:\tlearn: 0.2054278\ttotal: 1.05s\tremaining: 1.87s\n",
      "359:\tlearn: 0.2051245\ttotal: 1.05s\tremaining: 1.86s\n",
      "360:\tlearn: 0.2048134\ttotal: 1.05s\tremaining: 1.86s\n",
      "361:\tlearn: 0.2045135\ttotal: 1.05s\tremaining: 1.85s\n",
      "362:\tlearn: 0.2043132\ttotal: 1.05s\tremaining: 1.85s\n",
      "363:\tlearn: 0.2040849\ttotal: 1.06s\tremaining: 1.85s\n",
      "364:\tlearn: 0.2037945\ttotal: 1.06s\tremaining: 1.84s\n",
      "365:\tlearn: 0.2035082\ttotal: 1.06s\tremaining: 1.84s\n",
      "366:\tlearn: 0.2032582\ttotal: 1.06s\tremaining: 1.83s\n",
      "367:\tlearn: 0.2030213\ttotal: 1.06s\tremaining: 1.83s\n",
      "368:\tlearn: 0.2027873\ttotal: 1.07s\tremaining: 1.82s\n",
      "369:\tlearn: 0.2023768\ttotal: 1.07s\tremaining: 1.82s\n",
      "370:\tlearn: 0.2022420\ttotal: 1.07s\tremaining: 1.82s\n",
      "371:\tlearn: 0.2019638\ttotal: 1.07s\tremaining: 1.81s\n",
      "372:\tlearn: 0.2017676\ttotal: 1.07s\tremaining: 1.81s\n",
      "373:\tlearn: 0.2014780\ttotal: 1.08s\tremaining: 1.8s\n",
      "374:\tlearn: 0.2011533\ttotal: 1.08s\tremaining: 1.8s\n",
      "375:\tlearn: 0.2009744\ttotal: 1.08s\tremaining: 1.79s\n",
      "376:\tlearn: 0.2005698\ttotal: 1.08s\tremaining: 1.79s\n",
      "377:\tlearn: 0.2003578\ttotal: 1.08s\tremaining: 1.78s\n",
      "378:\tlearn: 0.2001429\ttotal: 1.09s\tremaining: 1.78s\n",
      "379:\tlearn: 0.2000244\ttotal: 1.09s\tremaining: 1.78s\n",
      "380:\tlearn: 0.1996553\ttotal: 1.09s\tremaining: 1.77s\n",
      "381:\tlearn: 0.1995773\ttotal: 1.09s\tremaining: 1.77s\n",
      "382:\tlearn: 0.1992946\ttotal: 1.09s\tremaining: 1.76s\n",
      "383:\tlearn: 0.1989156\ttotal: 1.1s\tremaining: 1.76s\n",
      "384:\tlearn: 0.1985141\ttotal: 1.1s\tremaining: 1.76s\n",
      "385:\tlearn: 0.1983568\ttotal: 1.1s\tremaining: 1.75s\n",
      "386:\tlearn: 0.1982226\ttotal: 1.1s\tremaining: 1.75s\n",
      "387:\tlearn: 0.1980701\ttotal: 1.11s\tremaining: 1.74s\n",
      "388:\tlearn: 0.1977557\ttotal: 1.11s\tremaining: 1.74s\n",
      "389:\tlearn: 0.1975165\ttotal: 1.11s\tremaining: 1.74s\n",
      "390:\tlearn: 0.1973436\ttotal: 1.11s\tremaining: 1.73s\n",
      "391:\tlearn: 0.1971136\ttotal: 1.11s\tremaining: 1.73s\n",
      "392:\tlearn: 0.1969605\ttotal: 1.11s\tremaining: 1.72s\n",
      "393:\tlearn: 0.1967848\ttotal: 1.12s\tremaining: 1.72s\n",
      "394:\tlearn: 0.1966056\ttotal: 1.12s\tremaining: 1.72s\n",
      "395:\tlearn: 0.1962501\ttotal: 1.12s\tremaining: 1.71s\n",
      "396:\tlearn: 0.1959978\ttotal: 1.12s\tremaining: 1.71s\n",
      "397:\tlearn: 0.1957466\ttotal: 1.13s\tremaining: 1.7s\n",
      "398:\tlearn: 0.1953345\ttotal: 1.13s\tremaining: 1.7s\n",
      "399:\tlearn: 0.1950783\ttotal: 1.13s\tremaining: 1.7s\n",
      "400:\tlearn: 0.1949605\ttotal: 1.13s\tremaining: 1.69s\n",
      "401:\tlearn: 0.1946528\ttotal: 1.14s\tremaining: 1.69s\n",
      "402:\tlearn: 0.1943008\ttotal: 1.14s\tremaining: 1.68s\n",
      "403:\tlearn: 0.1941710\ttotal: 1.14s\tremaining: 1.68s\n",
      "404:\tlearn: 0.1939726\ttotal: 1.14s\tremaining: 1.68s\n",
      "405:\tlearn: 0.1938255\ttotal: 1.14s\tremaining: 1.67s\n",
      "406:\tlearn: 0.1935112\ttotal: 1.15s\tremaining: 1.67s\n",
      "407:\tlearn: 0.1932564\ttotal: 1.15s\tremaining: 1.67s\n",
      "408:\tlearn: 0.1928989\ttotal: 1.15s\tremaining: 1.67s\n",
      "409:\tlearn: 0.1927276\ttotal: 1.16s\tremaining: 1.66s\n",
      "410:\tlearn: 0.1925323\ttotal: 1.16s\tremaining: 1.66s\n",
      "411:\tlearn: 0.1923800\ttotal: 1.16s\tremaining: 1.65s\n",
      "412:\tlearn: 0.1921319\ttotal: 1.16s\tremaining: 1.65s\n",
      "413:\tlearn: 0.1919324\ttotal: 1.16s\tremaining: 1.65s\n",
      "414:\tlearn: 0.1916893\ttotal: 1.16s\tremaining: 1.64s\n",
      "415:\tlearn: 0.1913656\ttotal: 1.17s\tremaining: 1.64s\n",
      "416:\tlearn: 0.1911267\ttotal: 1.17s\tremaining: 1.63s\n",
      "417:\tlearn: 0.1909897\ttotal: 1.17s\tremaining: 1.63s\n",
      "418:\tlearn: 0.1907327\ttotal: 1.17s\tremaining: 1.63s\n",
      "419:\tlearn: 0.1905813\ttotal: 1.17s\tremaining: 1.62s\n",
      "420:\tlearn: 0.1902445\ttotal: 1.18s\tremaining: 1.62s\n",
      "421:\tlearn: 0.1900387\ttotal: 1.18s\tremaining: 1.61s\n",
      "422:\tlearn: 0.1897468\ttotal: 1.18s\tremaining: 1.61s\n",
      "423:\tlearn: 0.1894205\ttotal: 1.18s\tremaining: 1.6s\n",
      "424:\tlearn: 0.1892035\ttotal: 1.18s\tremaining: 1.6s\n",
      "425:\tlearn: 0.1890330\ttotal: 1.19s\tremaining: 1.6s\n",
      "426:\tlearn: 0.1885953\ttotal: 1.19s\tremaining: 1.59s\n",
      "427:\tlearn: 0.1883811\ttotal: 1.19s\tremaining: 1.59s\n",
      "428:\tlearn: 0.1880159\ttotal: 1.19s\tremaining: 1.58s\n",
      "429:\tlearn: 0.1876843\ttotal: 1.19s\tremaining: 1.58s\n",
      "430:\tlearn: 0.1873590\ttotal: 1.2s\tremaining: 1.58s\n",
      "431:\tlearn: 0.1871495\ttotal: 1.2s\tremaining: 1.57s\n",
      "432:\tlearn: 0.1869287\ttotal: 1.2s\tremaining: 1.57s\n",
      "433:\tlearn: 0.1867600\ttotal: 1.2s\tremaining: 1.57s\n",
      "434:\tlearn: 0.1864417\ttotal: 1.2s\tremaining: 1.56s\n",
      "435:\tlearn: 0.1862014\ttotal: 1.2s\tremaining: 1.56s\n",
      "436:\tlearn: 0.1858641\ttotal: 1.21s\tremaining: 1.55s\n",
      "437:\tlearn: 0.1856117\ttotal: 1.21s\tremaining: 1.55s\n",
      "438:\tlearn: 0.1854338\ttotal: 1.21s\tremaining: 1.55s\n",
      "439:\tlearn: 0.1852422\ttotal: 1.21s\tremaining: 1.54s\n",
      "440:\tlearn: 0.1849736\ttotal: 1.22s\tremaining: 1.54s\n",
      "441:\tlearn: 0.1847114\ttotal: 1.22s\tremaining: 1.54s\n",
      "442:\tlearn: 0.1844662\ttotal: 1.22s\tremaining: 1.53s\n",
      "443:\tlearn: 0.1841414\ttotal: 1.22s\tremaining: 1.53s\n",
      "444:\tlearn: 0.1838094\ttotal: 1.23s\tremaining: 1.53s\n",
      "445:\tlearn: 0.1835788\ttotal: 1.23s\tremaining: 1.53s\n",
      "446:\tlearn: 0.1831995\ttotal: 1.23s\tremaining: 1.52s\n",
      "447:\tlearn: 0.1829103\ttotal: 1.23s\tremaining: 1.52s\n",
      "448:\tlearn: 0.1826937\ttotal: 1.24s\tremaining: 1.52s\n",
      "449:\tlearn: 0.1824535\ttotal: 1.24s\tremaining: 1.51s\n",
      "450:\tlearn: 0.1822965\ttotal: 1.24s\tremaining: 1.51s\n",
      "451:\tlearn: 0.1820302\ttotal: 1.27s\tremaining: 1.54s\n",
      "452:\tlearn: 0.1818334\ttotal: 1.27s\tremaining: 1.53s\n",
      "453:\tlearn: 0.1815783\ttotal: 1.27s\tremaining: 1.53s\n",
      "454:\tlearn: 0.1813467\ttotal: 1.28s\tremaining: 1.53s\n",
      "455:\tlearn: 0.1809057\ttotal: 1.28s\tremaining: 1.53s\n",
      "456:\tlearn: 0.1805918\ttotal: 1.28s\tremaining: 1.52s\n",
      "457:\tlearn: 0.1803135\ttotal: 1.28s\tremaining: 1.52s\n",
      "458:\tlearn: 0.1800444\ttotal: 1.29s\tremaining: 1.52s\n",
      "459:\tlearn: 0.1797027\ttotal: 1.3s\tremaining: 1.52s\n",
      "460:\tlearn: 0.1792741\ttotal: 1.3s\tremaining: 1.52s\n",
      "461:\tlearn: 0.1790060\ttotal: 1.3s\tremaining: 1.52s\n",
      "462:\tlearn: 0.1787192\ttotal: 1.3s\tremaining: 1.51s\n",
      "463:\tlearn: 0.1786151\ttotal: 1.31s\tremaining: 1.51s\n",
      "464:\tlearn: 0.1782900\ttotal: 1.31s\tremaining: 1.51s\n",
      "465:\tlearn: 0.1781377\ttotal: 1.31s\tremaining: 1.5s\n",
      "466:\tlearn: 0.1777889\ttotal: 1.31s\tremaining: 1.5s\n",
      "467:\tlearn: 0.1776014\ttotal: 1.32s\tremaining: 1.5s\n",
      "468:\tlearn: 0.1775020\ttotal: 1.32s\tremaining: 1.49s\n",
      "469:\tlearn: 0.1772887\ttotal: 1.32s\tremaining: 1.49s\n",
      "470:\tlearn: 0.1770166\ttotal: 1.32s\tremaining: 1.49s\n",
      "471:\tlearn: 0.1767409\ttotal: 1.33s\tremaining: 1.49s\n",
      "472:\tlearn: 0.1765303\ttotal: 1.34s\tremaining: 1.49s\n",
      "473:\tlearn: 0.1763371\ttotal: 1.34s\tremaining: 1.49s\n",
      "474:\tlearn: 0.1762149\ttotal: 1.34s\tremaining: 1.48s\n",
      "475:\tlearn: 0.1760017\ttotal: 1.34s\tremaining: 1.48s\n",
      "476:\tlearn: 0.1756779\ttotal: 1.35s\tremaining: 1.48s\n",
      "477:\tlearn: 0.1754320\ttotal: 1.35s\tremaining: 1.47s\n",
      "478:\tlearn: 0.1751212\ttotal: 1.35s\tremaining: 1.47s\n",
      "479:\tlearn: 0.1748959\ttotal: 1.35s\tremaining: 1.47s\n",
      "480:\tlearn: 0.1747209\ttotal: 1.36s\tremaining: 1.46s\n",
      "481:\tlearn: 0.1744619\ttotal: 1.36s\tremaining: 1.46s\n",
      "482:\tlearn: 0.1741964\ttotal: 1.36s\tremaining: 1.46s\n",
      "483:\tlearn: 0.1740394\ttotal: 1.36s\tremaining: 1.45s\n",
      "484:\tlearn: 0.1736780\ttotal: 1.36s\tremaining: 1.45s\n",
      "485:\tlearn: 0.1735276\ttotal: 1.37s\tremaining: 1.44s\n",
      "486:\tlearn: 0.1732642\ttotal: 1.37s\tremaining: 1.44s\n",
      "487:\tlearn: 0.1729429\ttotal: 1.37s\tremaining: 1.44s\n",
      "488:\tlearn: 0.1727234\ttotal: 1.37s\tremaining: 1.43s\n",
      "489:\tlearn: 0.1724984\ttotal: 1.37s\tremaining: 1.43s\n",
      "490:\tlearn: 0.1724177\ttotal: 1.38s\tremaining: 1.43s\n",
      "491:\tlearn: 0.1722737\ttotal: 1.38s\tremaining: 1.42s\n",
      "492:\tlearn: 0.1721217\ttotal: 1.38s\tremaining: 1.42s\n",
      "493:\tlearn: 0.1718112\ttotal: 1.38s\tremaining: 1.42s\n",
      "494:\tlearn: 0.1715424\ttotal: 1.38s\tremaining: 1.41s\n",
      "495:\tlearn: 0.1714225\ttotal: 1.39s\tremaining: 1.41s\n",
      "496:\tlearn: 0.1712500\ttotal: 1.39s\tremaining: 1.41s\n",
      "497:\tlearn: 0.1708826\ttotal: 1.39s\tremaining: 1.4s\n",
      "498:\tlearn: 0.1706454\ttotal: 1.39s\tremaining: 1.4s\n",
      "499:\tlearn: 0.1703245\ttotal: 1.39s\tremaining: 1.39s\n",
      "500:\tlearn: 0.1701581\ttotal: 1.4s\tremaining: 1.39s\n",
      "501:\tlearn: 0.1700331\ttotal: 1.4s\tremaining: 1.39s\n",
      "502:\tlearn: 0.1698892\ttotal: 1.4s\tremaining: 1.38s\n",
      "503:\tlearn: 0.1697430\ttotal: 1.4s\tremaining: 1.38s\n",
      "504:\tlearn: 0.1694918\ttotal: 1.4s\tremaining: 1.38s\n",
      "505:\tlearn: 0.1693354\ttotal: 1.41s\tremaining: 1.37s\n",
      "506:\tlearn: 0.1691379\ttotal: 1.41s\tremaining: 1.37s\n",
      "507:\tlearn: 0.1689071\ttotal: 1.41s\tremaining: 1.37s\n",
      "508:\tlearn: 0.1687432\ttotal: 1.41s\tremaining: 1.36s\n",
      "509:\tlearn: 0.1685811\ttotal: 1.42s\tremaining: 1.36s\n",
      "510:\tlearn: 0.1683678\ttotal: 1.42s\tremaining: 1.36s\n",
      "511:\tlearn: 0.1682432\ttotal: 1.42s\tremaining: 1.35s\n",
      "512:\tlearn: 0.1681436\ttotal: 1.42s\tremaining: 1.35s\n",
      "513:\tlearn: 0.1680073\ttotal: 1.43s\tremaining: 1.35s\n",
      "514:\tlearn: 0.1678252\ttotal: 1.43s\tremaining: 1.35s\n",
      "515:\tlearn: 0.1676686\ttotal: 1.43s\tremaining: 1.34s\n",
      "516:\tlearn: 0.1674335\ttotal: 1.44s\tremaining: 1.34s\n",
      "517:\tlearn: 0.1672079\ttotal: 1.44s\tremaining: 1.34s\n",
      "518:\tlearn: 0.1669746\ttotal: 1.44s\tremaining: 1.33s\n",
      "519:\tlearn: 0.1669623\ttotal: 1.44s\tremaining: 1.33s\n",
      "520:\tlearn: 0.1668518\ttotal: 1.44s\tremaining: 1.33s\n",
      "521:\tlearn: 0.1665970\ttotal: 1.45s\tremaining: 1.32s\n",
      "522:\tlearn: 0.1662548\ttotal: 1.45s\tremaining: 1.32s\n",
      "523:\tlearn: 0.1660760\ttotal: 1.45s\tremaining: 1.32s\n",
      "524:\tlearn: 0.1658995\ttotal: 1.45s\tremaining: 1.31s\n",
      "525:\tlearn: 0.1657758\ttotal: 1.46s\tremaining: 1.31s\n",
      "526:\tlearn: 0.1654615\ttotal: 1.46s\tremaining: 1.31s\n",
      "527:\tlearn: 0.1651915\ttotal: 1.46s\tremaining: 1.3s\n",
      "528:\tlearn: 0.1650059\ttotal: 1.46s\tremaining: 1.3s\n",
      "529:\tlearn: 0.1647322\ttotal: 1.46s\tremaining: 1.3s\n",
      "530:\tlearn: 0.1644947\ttotal: 1.47s\tremaining: 1.29s\n",
      "531:\tlearn: 0.1643072\ttotal: 1.47s\tremaining: 1.29s\n",
      "532:\tlearn: 0.1641475\ttotal: 1.47s\tremaining: 1.29s\n",
      "533:\tlearn: 0.1639113\ttotal: 1.47s\tremaining: 1.29s\n",
      "534:\tlearn: 0.1637290\ttotal: 1.48s\tremaining: 1.28s\n",
      "535:\tlearn: 0.1633798\ttotal: 1.48s\tremaining: 1.28s\n",
      "536:\tlearn: 0.1631277\ttotal: 1.48s\tremaining: 1.28s\n",
      "537:\tlearn: 0.1630586\ttotal: 1.48s\tremaining: 1.27s\n",
      "538:\tlearn: 0.1629467\ttotal: 1.48s\tremaining: 1.27s\n",
      "539:\tlearn: 0.1626915\ttotal: 1.49s\tremaining: 1.26s\n",
      "540:\tlearn: 0.1624484\ttotal: 1.49s\tremaining: 1.26s\n",
      "541:\tlearn: 0.1622617\ttotal: 1.49s\tremaining: 1.26s\n",
      "542:\tlearn: 0.1621727\ttotal: 1.49s\tremaining: 1.25s\n",
      "543:\tlearn: 0.1619354\ttotal: 1.49s\tremaining: 1.25s\n",
      "544:\tlearn: 0.1617038\ttotal: 1.5s\tremaining: 1.25s\n",
      "545:\tlearn: 0.1615536\ttotal: 1.5s\tremaining: 1.25s\n",
      "546:\tlearn: 0.1614029\ttotal: 1.5s\tremaining: 1.25s\n",
      "547:\tlearn: 0.1611986\ttotal: 1.51s\tremaining: 1.24s\n",
      "548:\tlearn: 0.1609955\ttotal: 1.51s\tremaining: 1.24s\n",
      "549:\tlearn: 0.1607055\ttotal: 1.51s\tremaining: 1.24s\n",
      "550:\tlearn: 0.1603899\ttotal: 1.51s\tremaining: 1.23s\n",
      "551:\tlearn: 0.1602535\ttotal: 1.52s\tremaining: 1.23s\n",
      "552:\tlearn: 0.1600842\ttotal: 1.52s\tremaining: 1.23s\n",
      "553:\tlearn: 0.1598813\ttotal: 1.52s\tremaining: 1.22s\n",
      "554:\tlearn: 0.1597087\ttotal: 1.52s\tremaining: 1.22s\n",
      "555:\tlearn: 0.1594816\ttotal: 1.52s\tremaining: 1.22s\n",
      "556:\tlearn: 0.1592522\ttotal: 1.53s\tremaining: 1.21s\n",
      "557:\tlearn: 0.1589523\ttotal: 1.53s\tremaining: 1.21s\n",
      "558:\tlearn: 0.1588465\ttotal: 1.53s\tremaining: 1.21s\n",
      "559:\tlearn: 0.1585941\ttotal: 1.53s\tremaining: 1.2s\n",
      "560:\tlearn: 0.1583674\ttotal: 1.53s\tremaining: 1.2s\n",
      "561:\tlearn: 0.1581603\ttotal: 1.53s\tremaining: 1.2s\n",
      "562:\tlearn: 0.1579949\ttotal: 1.54s\tremaining: 1.19s\n",
      "563:\tlearn: 0.1578162\ttotal: 1.54s\tremaining: 1.19s\n",
      "564:\tlearn: 0.1576018\ttotal: 1.54s\tremaining: 1.19s\n",
      "565:\tlearn: 0.1573377\ttotal: 1.54s\tremaining: 1.18s\n",
      "566:\tlearn: 0.1571301\ttotal: 1.54s\tremaining: 1.18s\n",
      "567:\tlearn: 0.1568715\ttotal: 1.55s\tremaining: 1.18s\n",
      "568:\tlearn: 0.1566061\ttotal: 1.55s\tremaining: 1.17s\n",
      "569:\tlearn: 0.1565146\ttotal: 1.55s\tremaining: 1.17s\n",
      "570:\tlearn: 0.1563266\ttotal: 1.55s\tremaining: 1.17s\n",
      "571:\tlearn: 0.1562383\ttotal: 1.55s\tremaining: 1.16s\n",
      "572:\tlearn: 0.1560293\ttotal: 1.56s\tremaining: 1.16s\n",
      "573:\tlearn: 0.1558165\ttotal: 1.56s\tremaining: 1.16s\n",
      "574:\tlearn: 0.1556323\ttotal: 1.56s\tremaining: 1.15s\n",
      "575:\tlearn: 0.1553823\ttotal: 1.56s\tremaining: 1.15s\n",
      "576:\tlearn: 0.1551178\ttotal: 1.56s\tremaining: 1.15s\n",
      "577:\tlearn: 0.1550059\ttotal: 1.57s\tremaining: 1.14s\n",
      "578:\tlearn: 0.1546890\ttotal: 1.57s\tremaining: 1.14s\n",
      "579:\tlearn: 0.1544845\ttotal: 1.57s\tremaining: 1.14s\n",
      "580:\tlearn: 0.1542536\ttotal: 1.57s\tremaining: 1.13s\n",
      "581:\tlearn: 0.1540463\ttotal: 1.57s\tremaining: 1.13s\n",
      "582:\tlearn: 0.1538359\ttotal: 1.58s\tremaining: 1.13s\n",
      "583:\tlearn: 0.1536142\ttotal: 1.58s\tremaining: 1.12s\n",
      "584:\tlearn: 0.1533903\ttotal: 1.58s\tremaining: 1.12s\n",
      "585:\tlearn: 0.1532647\ttotal: 1.58s\tremaining: 1.12s\n",
      "586:\tlearn: 0.1529589\ttotal: 1.58s\tremaining: 1.11s\n",
      "587:\tlearn: 0.1528917\ttotal: 1.58s\tremaining: 1.11s\n",
      "588:\tlearn: 0.1528392\ttotal: 1.59s\tremaining: 1.11s\n",
      "589:\tlearn: 0.1526254\ttotal: 1.59s\tremaining: 1.1s\n",
      "590:\tlearn: 0.1524101\ttotal: 1.59s\tremaining: 1.1s\n",
      "591:\tlearn: 0.1521846\ttotal: 1.59s\tremaining: 1.1s\n",
      "592:\tlearn: 0.1517947\ttotal: 1.6s\tremaining: 1.09s\n",
      "593:\tlearn: 0.1516258\ttotal: 1.6s\tremaining: 1.09s\n",
      "594:\tlearn: 0.1514605\ttotal: 1.6s\tremaining: 1.09s\n",
      "595:\tlearn: 0.1511742\ttotal: 1.6s\tremaining: 1.08s\n",
      "596:\tlearn: 0.1510467\ttotal: 1.6s\tremaining: 1.08s\n",
      "597:\tlearn: 0.1508510\ttotal: 1.61s\tremaining: 1.08s\n",
      "598:\tlearn: 0.1507111\ttotal: 1.61s\tremaining: 1.08s\n",
      "599:\tlearn: 0.1504361\ttotal: 1.61s\tremaining: 1.07s\n",
      "600:\tlearn: 0.1501639\ttotal: 1.61s\tremaining: 1.07s\n",
      "601:\tlearn: 0.1498885\ttotal: 1.61s\tremaining: 1.07s\n",
      "602:\tlearn: 0.1496502\ttotal: 1.61s\tremaining: 1.06s\n",
      "603:\tlearn: 0.1493458\ttotal: 1.62s\tremaining: 1.06s\n",
      "604:\tlearn: 0.1490796\ttotal: 1.62s\tremaining: 1.06s\n",
      "605:\tlearn: 0.1489015\ttotal: 1.62s\tremaining: 1.05s\n",
      "606:\tlearn: 0.1487213\ttotal: 1.62s\tremaining: 1.05s\n",
      "607:\tlearn: 0.1485484\ttotal: 1.63s\tremaining: 1.05s\n",
      "608:\tlearn: 0.1484923\ttotal: 1.63s\tremaining: 1.04s\n",
      "609:\tlearn: 0.1483004\ttotal: 1.63s\tremaining: 1.04s\n",
      "610:\tlearn: 0.1480332\ttotal: 1.63s\tremaining: 1.04s\n",
      "611:\tlearn: 0.1479615\ttotal: 1.63s\tremaining: 1.04s\n",
      "612:\tlearn: 0.1477238\ttotal: 1.64s\tremaining: 1.03s\n",
      "613:\tlearn: 0.1474945\ttotal: 1.64s\tremaining: 1.03s\n",
      "614:\tlearn: 0.1474400\ttotal: 1.64s\tremaining: 1.03s\n",
      "615:\tlearn: 0.1472716\ttotal: 1.64s\tremaining: 1.02s\n",
      "616:\tlearn: 0.1471185\ttotal: 1.64s\tremaining: 1.02s\n",
      "617:\tlearn: 0.1469214\ttotal: 1.65s\tremaining: 1.02s\n",
      "618:\tlearn: 0.1466386\ttotal: 1.65s\tremaining: 1.01s\n",
      "619:\tlearn: 0.1465129\ttotal: 1.65s\tremaining: 1.01s\n",
      "620:\tlearn: 0.1463619\ttotal: 1.65s\tremaining: 1.01s\n",
      "621:\tlearn: 0.1461412\ttotal: 1.66s\tremaining: 1.01s\n",
      "622:\tlearn: 0.1459098\ttotal: 1.66s\tremaining: 1s\n",
      "623:\tlearn: 0.1457375\ttotal: 1.66s\tremaining: 1000ms\n",
      "624:\tlearn: 0.1455400\ttotal: 1.66s\tremaining: 996ms\n",
      "625:\tlearn: 0.1453025\ttotal: 1.66s\tremaining: 994ms\n",
      "626:\tlearn: 0.1451284\ttotal: 1.67s\tremaining: 991ms\n",
      "627:\tlearn: 0.1449951\ttotal: 1.67s\tremaining: 989ms\n",
      "628:\tlearn: 0.1449217\ttotal: 1.67s\tremaining: 986ms\n",
      "629:\tlearn: 0.1447365\ttotal: 1.67s\tremaining: 983ms\n",
      "630:\tlearn: 0.1445342\ttotal: 1.68s\tremaining: 981ms\n",
      "631:\tlearn: 0.1443749\ttotal: 1.68s\tremaining: 977ms\n",
      "632:\tlearn: 0.1440925\ttotal: 1.68s\tremaining: 975ms\n",
      "633:\tlearn: 0.1439271\ttotal: 1.68s\tremaining: 972ms\n",
      "634:\tlearn: 0.1437018\ttotal: 1.69s\tremaining: 969ms\n",
      "635:\tlearn: 0.1434309\ttotal: 1.69s\tremaining: 965ms\n",
      "636:\tlearn: 0.1432827\ttotal: 1.69s\tremaining: 962ms\n",
      "637:\tlearn: 0.1432221\ttotal: 1.69s\tremaining: 959ms\n",
      "638:\tlearn: 0.1429012\ttotal: 1.69s\tremaining: 956ms\n",
      "639:\tlearn: 0.1427101\ttotal: 1.69s\tremaining: 953ms\n",
      "640:\tlearn: 0.1425792\ttotal: 1.7s\tremaining: 950ms\n",
      "641:\tlearn: 0.1424248\ttotal: 1.7s\tremaining: 947ms\n",
      "642:\tlearn: 0.1422512\ttotal: 1.7s\tremaining: 944ms\n",
      "643:\tlearn: 0.1420644\ttotal: 1.7s\tremaining: 941ms\n",
      "644:\tlearn: 0.1420280\ttotal: 1.7s\tremaining: 938ms\n",
      "645:\tlearn: 0.1418850\ttotal: 1.71s\tremaining: 935ms\n",
      "646:\tlearn: 0.1416882\ttotal: 1.71s\tremaining: 932ms\n",
      "647:\tlearn: 0.1414668\ttotal: 1.71s\tremaining: 928ms\n",
      "648:\tlearn: 0.1413069\ttotal: 1.71s\tremaining: 925ms\n",
      "649:\tlearn: 0.1411613\ttotal: 1.71s\tremaining: 922ms\n",
      "650:\tlearn: 0.1409763\ttotal: 1.71s\tremaining: 919ms\n",
      "651:\tlearn: 0.1407958\ttotal: 1.72s\tremaining: 916ms\n",
      "652:\tlearn: 0.1406239\ttotal: 1.72s\tremaining: 914ms\n",
      "653:\tlearn: 0.1403504\ttotal: 1.72s\tremaining: 911ms\n",
      "654:\tlearn: 0.1402271\ttotal: 1.72s\tremaining: 908ms\n",
      "655:\tlearn: 0.1399977\ttotal: 1.72s\tremaining: 905ms\n",
      "656:\tlearn: 0.1397605\ttotal: 1.73s\tremaining: 901ms\n",
      "657:\tlearn: 0.1395813\ttotal: 1.73s\tremaining: 898ms\n",
      "658:\tlearn: 0.1392729\ttotal: 1.73s\tremaining: 895ms\n",
      "659:\tlearn: 0.1390577\ttotal: 1.73s\tremaining: 892ms\n",
      "660:\tlearn: 0.1390173\ttotal: 1.73s\tremaining: 889ms\n",
      "661:\tlearn: 0.1388424\ttotal: 1.74s\tremaining: 886ms\n",
      "662:\tlearn: 0.1386502\ttotal: 1.74s\tremaining: 883ms\n",
      "663:\tlearn: 0.1384430\ttotal: 1.74s\tremaining: 880ms\n",
      "664:\tlearn: 0.1383849\ttotal: 1.74s\tremaining: 877ms\n",
      "665:\tlearn: 0.1383107\ttotal: 1.74s\tremaining: 874ms\n",
      "666:\tlearn: 0.1380472\ttotal: 1.75s\tremaining: 871ms\n",
      "667:\tlearn: 0.1379794\ttotal: 1.75s\tremaining: 869ms\n",
      "668:\tlearn: 0.1379027\ttotal: 1.75s\tremaining: 866ms\n",
      "669:\tlearn: 0.1377677\ttotal: 1.75s\tremaining: 863ms\n",
      "670:\tlearn: 0.1377181\ttotal: 1.75s\tremaining: 859ms\n",
      "671:\tlearn: 0.1375676\ttotal: 1.75s\tremaining: 856ms\n",
      "672:\tlearn: 0.1373735\ttotal: 1.76s\tremaining: 853ms\n",
      "673:\tlearn: 0.1373415\ttotal: 1.76s\tremaining: 850ms\n",
      "674:\tlearn: 0.1372249\ttotal: 1.76s\tremaining: 848ms\n",
      "675:\tlearn: 0.1370719\ttotal: 1.76s\tremaining: 845ms\n",
      "676:\tlearn: 0.1368924\ttotal: 1.76s\tremaining: 842ms\n",
      "677:\tlearn: 0.1365815\ttotal: 1.77s\tremaining: 839ms\n",
      "678:\tlearn: 0.1364015\ttotal: 1.77s\tremaining: 836ms\n",
      "679:\tlearn: 0.1362872\ttotal: 1.77s\tremaining: 833ms\n",
      "680:\tlearn: 0.1360016\ttotal: 1.77s\tremaining: 830ms\n",
      "681:\tlearn: 0.1359503\ttotal: 1.77s\tremaining: 827ms\n",
      "682:\tlearn: 0.1357666\ttotal: 1.8s\tremaining: 838ms\n",
      "683:\tlearn: 0.1357241\ttotal: 1.81s\tremaining: 836ms\n",
      "684:\tlearn: 0.1355841\ttotal: 1.81s\tremaining: 833ms\n",
      "685:\tlearn: 0.1353658\ttotal: 1.81s\tremaining: 830ms\n",
      "686:\tlearn: 0.1351739\ttotal: 1.81s\tremaining: 827ms\n",
      "687:\tlearn: 0.1350759\ttotal: 1.82s\tremaining: 824ms\n",
      "688:\tlearn: 0.1349949\ttotal: 1.82s\tremaining: 821ms\n",
      "689:\tlearn: 0.1348383\ttotal: 1.82s\tremaining: 818ms\n",
      "690:\tlearn: 0.1346471\ttotal: 1.82s\tremaining: 815ms\n",
      "691:\tlearn: 0.1345140\ttotal: 1.82s\tremaining: 812ms\n",
      "692:\tlearn: 0.1341691\ttotal: 1.83s\tremaining: 809ms\n",
      "693:\tlearn: 0.1339829\ttotal: 1.83s\tremaining: 806ms\n",
      "694:\tlearn: 0.1338057\ttotal: 1.83s\tremaining: 803ms\n",
      "695:\tlearn: 0.1337692\ttotal: 1.83s\tremaining: 800ms\n",
      "696:\tlearn: 0.1336447\ttotal: 1.83s\tremaining: 797ms\n",
      "697:\tlearn: 0.1336059\ttotal: 1.83s\tremaining: 794ms\n",
      "698:\tlearn: 0.1334005\ttotal: 1.84s\tremaining: 791ms\n",
      "699:\tlearn: 0.1333588\ttotal: 1.84s\tremaining: 788ms\n",
      "700:\tlearn: 0.1333148\ttotal: 1.84s\tremaining: 785ms\n",
      "701:\tlearn: 0.1331377\ttotal: 1.84s\tremaining: 782ms\n",
      "702:\tlearn: 0.1329866\ttotal: 1.84s\tremaining: 779ms\n",
      "703:\tlearn: 0.1328554\ttotal: 1.85s\tremaining: 777ms\n",
      "704:\tlearn: 0.1326854\ttotal: 1.85s\tremaining: 774ms\n",
      "705:\tlearn: 0.1325034\ttotal: 1.85s\tremaining: 771ms\n",
      "706:\tlearn: 0.1323725\ttotal: 1.85s\tremaining: 769ms\n",
      "707:\tlearn: 0.1321140\ttotal: 1.86s\tremaining: 767ms\n",
      "708:\tlearn: 0.1319818\ttotal: 1.86s\tremaining: 764ms\n",
      "709:\tlearn: 0.1318307\ttotal: 1.86s\tremaining: 762ms\n",
      "710:\tlearn: 0.1316624\ttotal: 1.87s\tremaining: 760ms\n",
      "711:\tlearn: 0.1315344\ttotal: 1.87s\tremaining: 757ms\n",
      "712:\tlearn: 0.1313232\ttotal: 1.87s\tremaining: 755ms\n",
      "713:\tlearn: 0.1312132\ttotal: 1.88s\tremaining: 752ms\n",
      "714:\tlearn: 0.1309806\ttotal: 1.88s\tremaining: 750ms\n",
      "715:\tlearn: 0.1308788\ttotal: 1.88s\tremaining: 747ms\n",
      "716:\tlearn: 0.1306730\ttotal: 1.89s\tremaining: 744ms\n",
      "717:\tlearn: 0.1304004\ttotal: 1.89s\tremaining: 742ms\n",
      "718:\tlearn: 0.1301602\ttotal: 1.89s\tremaining: 739ms\n",
      "719:\tlearn: 0.1300253\ttotal: 1.89s\tremaining: 736ms\n",
      "720:\tlearn: 0.1298641\ttotal: 1.9s\tremaining: 734ms\n",
      "721:\tlearn: 0.1298109\ttotal: 1.9s\tremaining: 731ms\n",
      "722:\tlearn: 0.1295557\ttotal: 1.9s\tremaining: 728ms\n",
      "723:\tlearn: 0.1293861\ttotal: 1.9s\tremaining: 726ms\n",
      "724:\tlearn: 0.1291670\ttotal: 1.91s\tremaining: 723ms\n",
      "725:\tlearn: 0.1290089\ttotal: 1.91s\tremaining: 720ms\n",
      "726:\tlearn: 0.1288788\ttotal: 1.91s\tremaining: 717ms\n",
      "727:\tlearn: 0.1287761\ttotal: 1.91s\tremaining: 714ms\n",
      "728:\tlearn: 0.1287194\ttotal: 1.91s\tremaining: 711ms\n",
      "729:\tlearn: 0.1285551\ttotal: 1.92s\tremaining: 708ms\n",
      "730:\tlearn: 0.1284224\ttotal: 1.92s\tremaining: 706ms\n",
      "731:\tlearn: 0.1283859\ttotal: 1.92s\tremaining: 703ms\n",
      "732:\tlearn: 0.1282215\ttotal: 1.92s\tremaining: 700ms\n",
      "733:\tlearn: 0.1281243\ttotal: 1.92s\tremaining: 697ms\n",
      "734:\tlearn: 0.1280001\ttotal: 1.92s\tremaining: 694ms\n",
      "735:\tlearn: 0.1278346\ttotal: 1.93s\tremaining: 691ms\n",
      "736:\tlearn: 0.1277568\ttotal: 1.93s\tremaining: 688ms\n",
      "737:\tlearn: 0.1276198\ttotal: 1.93s\tremaining: 685ms\n",
      "738:\tlearn: 0.1273695\ttotal: 1.93s\tremaining: 682ms\n",
      "739:\tlearn: 0.1272713\ttotal: 1.93s\tremaining: 680ms\n",
      "740:\tlearn: 0.1271737\ttotal: 1.94s\tremaining: 677ms\n",
      "741:\tlearn: 0.1270419\ttotal: 1.94s\tremaining: 674ms\n",
      "742:\tlearn: 0.1267389\ttotal: 1.94s\tremaining: 671ms\n",
      "743:\tlearn: 0.1265073\ttotal: 1.94s\tremaining: 668ms\n",
      "744:\tlearn: 0.1263552\ttotal: 1.94s\tremaining: 665ms\n",
      "745:\tlearn: 0.1261599\ttotal: 1.95s\tremaining: 663ms\n",
      "746:\tlearn: 0.1259155\ttotal: 1.95s\tremaining: 660ms\n",
      "747:\tlearn: 0.1257450\ttotal: 1.95s\tremaining: 657ms\n",
      "748:\tlearn: 0.1256450\ttotal: 1.95s\tremaining: 654ms\n",
      "749:\tlearn: 0.1254860\ttotal: 1.95s\tremaining: 651ms\n",
      "750:\tlearn: 0.1252630\ttotal: 1.96s\tremaining: 648ms\n",
      "751:\tlearn: 0.1251401\ttotal: 1.96s\tremaining: 645ms\n",
      "752:\tlearn: 0.1249755\ttotal: 1.96s\tremaining: 643ms\n",
      "753:\tlearn: 0.1248958\ttotal: 1.96s\tremaining: 640ms\n",
      "754:\tlearn: 0.1246100\ttotal: 1.96s\tremaining: 637ms\n",
      "755:\tlearn: 0.1245403\ttotal: 1.97s\tremaining: 634ms\n",
      "756:\tlearn: 0.1243594\ttotal: 1.97s\tremaining: 632ms\n",
      "757:\tlearn: 0.1240760\ttotal: 1.97s\tremaining: 629ms\n",
      "758:\tlearn: 0.1239565\ttotal: 1.97s\tremaining: 626ms\n",
      "759:\tlearn: 0.1237900\ttotal: 1.97s\tremaining: 623ms\n",
      "760:\tlearn: 0.1236526\ttotal: 1.98s\tremaining: 620ms\n",
      "761:\tlearn: 0.1233990\ttotal: 1.98s\tremaining: 618ms\n",
      "762:\tlearn: 0.1232994\ttotal: 1.98s\tremaining: 615ms\n",
      "763:\tlearn: 0.1232090\ttotal: 1.98s\tremaining: 612ms\n",
      "764:\tlearn: 0.1229737\ttotal: 1.98s\tremaining: 610ms\n",
      "765:\tlearn: 0.1228119\ttotal: 1.99s\tremaining: 607ms\n",
      "766:\tlearn: 0.1225489\ttotal: 1.99s\tremaining: 604ms\n",
      "767:\tlearn: 0.1224172\ttotal: 1.99s\tremaining: 602ms\n",
      "768:\tlearn: 0.1223149\ttotal: 1.99s\tremaining: 599ms\n",
      "769:\tlearn: 0.1221381\ttotal: 2s\tremaining: 596ms\n",
      "770:\tlearn: 0.1220887\ttotal: 2s\tremaining: 594ms\n",
      "771:\tlearn: 0.1219615\ttotal: 2s\tremaining: 591ms\n",
      "772:\tlearn: 0.1217902\ttotal: 2s\tremaining: 588ms\n",
      "773:\tlearn: 0.1217121\ttotal: 2s\tremaining: 585ms\n",
      "774:\tlearn: 0.1216789\ttotal: 2.01s\tremaining: 583ms\n",
      "775:\tlearn: 0.1214309\ttotal: 2.01s\tremaining: 581ms\n",
      "776:\tlearn: 0.1212630\ttotal: 2.01s\tremaining: 578ms\n",
      "777:\tlearn: 0.1209576\ttotal: 2.02s\tremaining: 576ms\n",
      "778:\tlearn: 0.1207755\ttotal: 2.02s\tremaining: 573ms\n",
      "779:\tlearn: 0.1206110\ttotal: 2.02s\tremaining: 570ms\n",
      "780:\tlearn: 0.1205151\ttotal: 2.02s\tremaining: 567ms\n",
      "781:\tlearn: 0.1204012\ttotal: 2.02s\tremaining: 564ms\n",
      "782:\tlearn: 0.1203217\ttotal: 2.03s\tremaining: 562ms\n",
      "783:\tlearn: 0.1201058\ttotal: 2.03s\tremaining: 559ms\n",
      "784:\tlearn: 0.1199916\ttotal: 2.03s\tremaining: 556ms\n",
      "785:\tlearn: 0.1199571\ttotal: 2.03s\tremaining: 553ms\n",
      "786:\tlearn: 0.1198644\ttotal: 2.03s\tremaining: 551ms\n",
      "787:\tlearn: 0.1196820\ttotal: 2.04s\tremaining: 548ms\n",
      "788:\tlearn: 0.1195497\ttotal: 2.04s\tremaining: 545ms\n",
      "789:\tlearn: 0.1194477\ttotal: 2.04s\tremaining: 542ms\n",
      "790:\tlearn: 0.1194166\ttotal: 2.04s\tremaining: 539ms\n",
      "791:\tlearn: 0.1193894\ttotal: 2.04s\tremaining: 537ms\n",
      "792:\tlearn: 0.1192877\ttotal: 2.04s\tremaining: 534ms\n",
      "793:\tlearn: 0.1192229\ttotal: 2.05s\tremaining: 531ms\n",
      "794:\tlearn: 0.1190434\ttotal: 2.05s\tremaining: 528ms\n",
      "795:\tlearn: 0.1189931\ttotal: 2.05s\tremaining: 526ms\n",
      "796:\tlearn: 0.1189537\ttotal: 2.05s\tremaining: 523ms\n",
      "797:\tlearn: 0.1188206\ttotal: 2.05s\tremaining: 520ms\n",
      "798:\tlearn: 0.1185878\ttotal: 2.06s\tremaining: 517ms\n",
      "799:\tlearn: 0.1184274\ttotal: 2.06s\tremaining: 515ms\n",
      "800:\tlearn: 0.1182612\ttotal: 2.06s\tremaining: 512ms\n",
      "801:\tlearn: 0.1181211\ttotal: 2.06s\tremaining: 509ms\n",
      "802:\tlearn: 0.1180773\ttotal: 2.06s\tremaining: 506ms\n",
      "803:\tlearn: 0.1180474\ttotal: 2.06s\tremaining: 504ms\n",
      "804:\tlearn: 0.1178586\ttotal: 2.07s\tremaining: 501ms\n",
      "805:\tlearn: 0.1178125\ttotal: 2.07s\tremaining: 498ms\n",
      "806:\tlearn: 0.1175681\ttotal: 2.07s\tremaining: 495ms\n",
      "807:\tlearn: 0.1172688\ttotal: 2.07s\tremaining: 493ms\n",
      "808:\tlearn: 0.1171193\ttotal: 2.08s\tremaining: 490ms\n",
      "809:\tlearn: 0.1169384\ttotal: 2.08s\tremaining: 487ms\n",
      "810:\tlearn: 0.1167764\ttotal: 2.08s\tremaining: 485ms\n",
      "811:\tlearn: 0.1167206\ttotal: 2.08s\tremaining: 482ms\n",
      "812:\tlearn: 0.1166568\ttotal: 2.08s\tremaining: 479ms\n",
      "813:\tlearn: 0.1166180\ttotal: 2.08s\tremaining: 476ms\n",
      "814:\tlearn: 0.1164574\ttotal: 2.09s\tremaining: 474ms\n",
      "815:\tlearn: 0.1164429\ttotal: 2.09s\tremaining: 471ms\n",
      "816:\tlearn: 0.1162906\ttotal: 2.09s\tremaining: 468ms\n",
      "817:\tlearn: 0.1162695\ttotal: 2.09s\tremaining: 466ms\n",
      "818:\tlearn: 0.1162471\ttotal: 2.09s\tremaining: 463ms\n",
      "819:\tlearn: 0.1162022\ttotal: 2.1s\tremaining: 460ms\n",
      "820:\tlearn: 0.1160362\ttotal: 2.1s\tremaining: 457ms\n",
      "821:\tlearn: 0.1159271\ttotal: 2.12s\tremaining: 458ms\n",
      "822:\tlearn: 0.1157602\ttotal: 2.12s\tremaining: 457ms\n",
      "823:\tlearn: 0.1156054\ttotal: 2.13s\tremaining: 456ms\n",
      "824:\tlearn: 0.1154416\ttotal: 2.14s\tremaining: 454ms\n",
      "825:\tlearn: 0.1152610\ttotal: 2.14s\tremaining: 452ms\n",
      "826:\tlearn: 0.1151848\ttotal: 2.15s\tremaining: 449ms\n",
      "827:\tlearn: 0.1150380\ttotal: 2.15s\tremaining: 447ms\n",
      "828:\tlearn: 0.1148884\ttotal: 2.15s\tremaining: 445ms\n",
      "829:\tlearn: 0.1146621\ttotal: 2.16s\tremaining: 442ms\n",
      "830:\tlearn: 0.1146377\ttotal: 2.16s\tremaining: 440ms\n",
      "831:\tlearn: 0.1145251\ttotal: 2.16s\tremaining: 437ms\n",
      "832:\tlearn: 0.1143447\ttotal: 2.17s\tremaining: 434ms\n",
      "833:\tlearn: 0.1141469\ttotal: 2.17s\tremaining: 432ms\n",
      "834:\tlearn: 0.1140820\ttotal: 2.17s\tremaining: 429ms\n",
      "835:\tlearn: 0.1139878\ttotal: 2.17s\tremaining: 426ms\n",
      "836:\tlearn: 0.1138184\ttotal: 2.17s\tremaining: 423ms\n",
      "837:\tlearn: 0.1136535\ttotal: 2.18s\tremaining: 421ms\n",
      "838:\tlearn: 0.1133552\ttotal: 2.18s\tremaining: 418ms\n",
      "839:\tlearn: 0.1132794\ttotal: 2.18s\tremaining: 415ms\n",
      "840:\tlearn: 0.1130758\ttotal: 2.18s\tremaining: 412ms\n",
      "841:\tlearn: 0.1128589\ttotal: 2.18s\tremaining: 410ms\n",
      "842:\tlearn: 0.1127774\ttotal: 2.19s\tremaining: 407ms\n",
      "843:\tlearn: 0.1126615\ttotal: 2.19s\tremaining: 404ms\n",
      "844:\tlearn: 0.1125053\ttotal: 2.19s\tremaining: 402ms\n",
      "845:\tlearn: 0.1123907\ttotal: 2.19s\tremaining: 399ms\n",
      "846:\tlearn: 0.1121544\ttotal: 2.19s\tremaining: 396ms\n",
      "847:\tlearn: 0.1118720\ttotal: 2.19s\tremaining: 393ms\n",
      "848:\tlearn: 0.1117901\ttotal: 2.2s\tremaining: 391ms\n",
      "849:\tlearn: 0.1116207\ttotal: 2.2s\tremaining: 388ms\n",
      "850:\tlearn: 0.1114468\ttotal: 2.2s\tremaining: 385ms\n",
      "851:\tlearn: 0.1113386\ttotal: 2.2s\tremaining: 383ms\n",
      "852:\tlearn: 0.1112997\ttotal: 2.2s\tremaining: 380ms\n",
      "853:\tlearn: 0.1112480\ttotal: 2.21s\tremaining: 377ms\n",
      "854:\tlearn: 0.1112277\ttotal: 2.21s\tremaining: 374ms\n",
      "855:\tlearn: 0.1109930\ttotal: 2.21s\tremaining: 372ms\n",
      "856:\tlearn: 0.1108060\ttotal: 2.21s\tremaining: 369ms\n",
      "857:\tlearn: 0.1106178\ttotal: 2.21s\tremaining: 366ms\n",
      "858:\tlearn: 0.1105714\ttotal: 2.21s\tremaining: 364ms\n",
      "859:\tlearn: 0.1103399\ttotal: 2.22s\tremaining: 361ms\n",
      "860:\tlearn: 0.1103198\ttotal: 2.22s\tremaining: 358ms\n",
      "861:\tlearn: 0.1102918\ttotal: 2.22s\tremaining: 356ms\n",
      "862:\tlearn: 0.1101657\ttotal: 2.22s\tremaining: 353ms\n",
      "863:\tlearn: 0.1100795\ttotal: 2.22s\tremaining: 350ms\n",
      "864:\tlearn: 0.1100396\ttotal: 2.23s\tremaining: 347ms\n",
      "865:\tlearn: 0.1099695\ttotal: 2.23s\tremaining: 345ms\n",
      "866:\tlearn: 0.1097650\ttotal: 2.23s\tremaining: 342ms\n",
      "867:\tlearn: 0.1097463\ttotal: 2.23s\tremaining: 340ms\n",
      "868:\tlearn: 0.1096930\ttotal: 2.23s\tremaining: 337ms\n",
      "869:\tlearn: 0.1095593\ttotal: 2.24s\tremaining: 335ms\n",
      "870:\tlearn: 0.1095273\ttotal: 2.24s\tremaining: 332ms\n",
      "871:\tlearn: 0.1095099\ttotal: 2.24s\tremaining: 329ms\n",
      "872:\tlearn: 0.1094899\ttotal: 2.25s\tremaining: 327ms\n",
      "873:\tlearn: 0.1094319\ttotal: 2.25s\tremaining: 324ms\n",
      "874:\tlearn: 0.1093916\ttotal: 2.25s\tremaining: 321ms\n",
      "875:\tlearn: 0.1091844\ttotal: 2.25s\tremaining: 319ms\n",
      "876:\tlearn: 0.1090007\ttotal: 2.25s\tremaining: 316ms\n",
      "877:\tlearn: 0.1088783\ttotal: 2.25s\tremaining: 313ms\n",
      "878:\tlearn: 0.1087043\ttotal: 2.26s\tremaining: 311ms\n",
      "879:\tlearn: 0.1086781\ttotal: 2.26s\tremaining: 308ms\n",
      "880:\tlearn: 0.1084542\ttotal: 2.26s\tremaining: 305ms\n",
      "881:\tlearn: 0.1084012\ttotal: 2.26s\tremaining: 303ms\n",
      "882:\tlearn: 0.1083769\ttotal: 2.27s\tremaining: 300ms\n",
      "883:\tlearn: 0.1083340\ttotal: 2.27s\tremaining: 298ms\n",
      "884:\tlearn: 0.1083065\ttotal: 2.27s\tremaining: 295ms\n",
      "885:\tlearn: 0.1081055\ttotal: 2.27s\tremaining: 292ms\n",
      "886:\tlearn: 0.1079723\ttotal: 2.27s\tremaining: 290ms\n",
      "887:\tlearn: 0.1078497\ttotal: 2.27s\tremaining: 287ms\n",
      "888:\tlearn: 0.1077296\ttotal: 2.28s\tremaining: 284ms\n",
      "889:\tlearn: 0.1077056\ttotal: 2.28s\tremaining: 282ms\n",
      "890:\tlearn: 0.1076044\ttotal: 2.28s\tremaining: 279ms\n",
      "891:\tlearn: 0.1075873\ttotal: 2.28s\tremaining: 276ms\n",
      "892:\tlearn: 0.1075070\ttotal: 2.28s\tremaining: 274ms\n",
      "893:\tlearn: 0.1073802\ttotal: 2.29s\tremaining: 271ms\n",
      "894:\tlearn: 0.1073168\ttotal: 2.29s\tremaining: 269ms\n",
      "895:\tlearn: 0.1072678\ttotal: 2.29s\tremaining: 266ms\n",
      "896:\tlearn: 0.1071873\ttotal: 2.29s\tremaining: 263ms\n",
      "897:\tlearn: 0.1070684\ttotal: 2.29s\tremaining: 261ms\n",
      "898:\tlearn: 0.1069425\ttotal: 2.3s\tremaining: 258ms\n",
      "899:\tlearn: 0.1067175\ttotal: 2.3s\tremaining: 255ms\n",
      "900:\tlearn: 0.1066419\ttotal: 2.3s\tremaining: 253ms\n",
      "901:\tlearn: 0.1064427\ttotal: 2.3s\tremaining: 250ms\n",
      "902:\tlearn: 0.1064002\ttotal: 2.31s\tremaining: 248ms\n",
      "903:\tlearn: 0.1063063\ttotal: 2.31s\tremaining: 245ms\n",
      "904:\tlearn: 0.1061254\ttotal: 2.31s\tremaining: 242ms\n",
      "905:\tlearn: 0.1059061\ttotal: 2.31s\tremaining: 240ms\n",
      "906:\tlearn: 0.1058609\ttotal: 2.31s\tremaining: 237ms\n",
      "907:\tlearn: 0.1057851\ttotal: 2.32s\tremaining: 235ms\n",
      "908:\tlearn: 0.1056455\ttotal: 2.32s\tremaining: 232ms\n",
      "909:\tlearn: 0.1055291\ttotal: 2.32s\tremaining: 230ms\n",
      "910:\tlearn: 0.1053468\ttotal: 2.32s\tremaining: 227ms\n",
      "911:\tlearn: 0.1052867\ttotal: 2.33s\tremaining: 224ms\n",
      "912:\tlearn: 0.1051054\ttotal: 2.33s\tremaining: 222ms\n",
      "913:\tlearn: 0.1049110\ttotal: 2.33s\tremaining: 219ms\n",
      "914:\tlearn: 0.1047567\ttotal: 2.33s\tremaining: 217ms\n",
      "915:\tlearn: 0.1046660\ttotal: 2.33s\tremaining: 214ms\n",
      "916:\tlearn: 0.1046281\ttotal: 2.33s\tremaining: 211ms\n",
      "917:\tlearn: 0.1045297\ttotal: 2.34s\tremaining: 209ms\n",
      "918:\tlearn: 0.1042891\ttotal: 2.34s\tremaining: 206ms\n",
      "919:\tlearn: 0.1042221\ttotal: 2.34s\tremaining: 204ms\n",
      "920:\tlearn: 0.1041183\ttotal: 2.34s\tremaining: 201ms\n",
      "921:\tlearn: 0.1039424\ttotal: 2.35s\tremaining: 198ms\n",
      "922:\tlearn: 0.1038082\ttotal: 2.35s\tremaining: 196ms\n",
      "923:\tlearn: 0.1037813\ttotal: 2.35s\tremaining: 193ms\n",
      "924:\tlearn: 0.1035752\ttotal: 2.35s\tremaining: 191ms\n",
      "925:\tlearn: 0.1034644\ttotal: 2.35s\tremaining: 188ms\n",
      "926:\tlearn: 0.1034308\ttotal: 2.35s\tremaining: 185ms\n",
      "927:\tlearn: 0.1032934\ttotal: 2.36s\tremaining: 183ms\n",
      "928:\tlearn: 0.1032674\ttotal: 2.36s\tremaining: 180ms\n",
      "929:\tlearn: 0.1031312\ttotal: 2.36s\tremaining: 178ms\n",
      "930:\tlearn: 0.1030408\ttotal: 2.37s\tremaining: 175ms\n",
      "931:\tlearn: 0.1028560\ttotal: 2.37s\tremaining: 173ms\n",
      "932:\tlearn: 0.1027965\ttotal: 2.37s\tremaining: 170ms\n",
      "933:\tlearn: 0.1027187\ttotal: 2.37s\tremaining: 168ms\n",
      "934:\tlearn: 0.1025927\ttotal: 2.37s\tremaining: 165ms\n",
      "935:\tlearn: 0.1025469\ttotal: 2.38s\tremaining: 162ms\n",
      "936:\tlearn: 0.1023636\ttotal: 2.38s\tremaining: 160ms\n",
      "937:\tlearn: 0.1022319\ttotal: 2.38s\tremaining: 157ms\n",
      "938:\tlearn: 0.1020211\ttotal: 2.38s\tremaining: 155ms\n",
      "939:\tlearn: 0.1019524\ttotal: 2.38s\tremaining: 152ms\n",
      "940:\tlearn: 0.1017995\ttotal: 2.38s\tremaining: 150ms\n",
      "941:\tlearn: 0.1016661\ttotal: 2.39s\tremaining: 147ms\n",
      "942:\tlearn: 0.1015350\ttotal: 2.39s\tremaining: 144ms\n",
      "943:\tlearn: 0.1013101\ttotal: 2.39s\tremaining: 142ms\n",
      "944:\tlearn: 0.1011870\ttotal: 2.39s\tremaining: 139ms\n",
      "945:\tlearn: 0.1011601\ttotal: 2.4s\tremaining: 137ms\n",
      "946:\tlearn: 0.1010120\ttotal: 2.4s\tremaining: 134ms\n",
      "947:\tlearn: 0.1008735\ttotal: 2.4s\tremaining: 132ms\n",
      "948:\tlearn: 0.1006473\ttotal: 2.4s\tremaining: 129ms\n",
      "949:\tlearn: 0.1004986\ttotal: 2.4s\tremaining: 127ms\n",
      "950:\tlearn: 0.1003593\ttotal: 2.41s\tremaining: 124ms\n",
      "951:\tlearn: 0.1003199\ttotal: 2.41s\tremaining: 121ms\n",
      "952:\tlearn: 0.1001648\ttotal: 2.41s\tremaining: 119ms\n",
      "953:\tlearn: 0.1000764\ttotal: 2.41s\tremaining: 116ms\n",
      "954:\tlearn: 0.0999877\ttotal: 2.42s\tremaining: 114ms\n",
      "955:\tlearn: 0.0998561\ttotal: 2.42s\tremaining: 111ms\n",
      "956:\tlearn: 0.0997636\ttotal: 2.42s\tremaining: 109ms\n",
      "957:\tlearn: 0.0996731\ttotal: 2.42s\tremaining: 106ms\n",
      "958:\tlearn: 0.0995892\ttotal: 2.42s\tremaining: 104ms\n",
      "959:\tlearn: 0.0995307\ttotal: 2.42s\tremaining: 101ms\n",
      "960:\tlearn: 0.0994259\ttotal: 2.43s\tremaining: 98.5ms\n",
      "961:\tlearn: 0.0993547\ttotal: 2.43s\tremaining: 96ms\n",
      "962:\tlearn: 0.0991913\ttotal: 2.43s\tremaining: 93.4ms\n",
      "963:\tlearn: 0.0991768\ttotal: 2.43s\tremaining: 90.9ms\n",
      "964:\tlearn: 0.0991176\ttotal: 2.44s\tremaining: 88.3ms\n",
      "965:\tlearn: 0.0988560\ttotal: 2.44s\tremaining: 85.8ms\n",
      "966:\tlearn: 0.0988411\ttotal: 2.44s\tremaining: 83.2ms\n",
      "967:\tlearn: 0.0987132\ttotal: 2.44s\tremaining: 80.7ms\n",
      "968:\tlearn: 0.0985765\ttotal: 2.44s\tremaining: 78.2ms\n",
      "969:\tlearn: 0.0984266\ttotal: 2.44s\tremaining: 75.6ms\n",
      "970:\tlearn: 0.0983182\ttotal: 2.45s\tremaining: 73.1ms\n",
      "971:\tlearn: 0.0981186\ttotal: 2.45s\tremaining: 70.5ms\n",
      "972:\tlearn: 0.0980245\ttotal: 2.45s\tremaining: 68ms\n",
      "973:\tlearn: 0.0978644\ttotal: 2.45s\tremaining: 65.5ms\n",
      "974:\tlearn: 0.0977181\ttotal: 2.45s\tremaining: 62.9ms\n",
      "975:\tlearn: 0.0975340\ttotal: 2.46s\tremaining: 60.4ms\n",
      "976:\tlearn: 0.0973427\ttotal: 2.46s\tremaining: 57.9ms\n",
      "977:\tlearn: 0.0971589\ttotal: 2.46s\tremaining: 55.3ms\n",
      "978:\tlearn: 0.0969960\ttotal: 2.46s\tremaining: 52.8ms\n",
      "979:\tlearn: 0.0968853\ttotal: 2.46s\tremaining: 50.3ms\n",
      "980:\tlearn: 0.0968698\ttotal: 2.46s\tremaining: 47.8ms\n",
      "981:\tlearn: 0.0967527\ttotal: 2.47s\tremaining: 45.2ms\n",
      "982:\tlearn: 0.0966099\ttotal: 2.47s\tremaining: 42.7ms\n",
      "983:\tlearn: 0.0965215\ttotal: 2.47s\tremaining: 40.2ms\n",
      "984:\tlearn: 0.0963570\ttotal: 2.47s\tremaining: 37.7ms\n",
      "985:\tlearn: 0.0962097\ttotal: 2.48s\tremaining: 35.2ms\n",
      "986:\tlearn: 0.0960567\ttotal: 2.48s\tremaining: 32.6ms\n",
      "987:\tlearn: 0.0959980\ttotal: 2.48s\tremaining: 30.1ms\n",
      "988:\tlearn: 0.0958088\ttotal: 2.48s\tremaining: 27.6ms\n",
      "989:\tlearn: 0.0957755\ttotal: 2.48s\tremaining: 25.1ms\n",
      "990:\tlearn: 0.0956445\ttotal: 2.49s\tremaining: 22.6ms\n",
      "991:\tlearn: 0.0955444\ttotal: 2.49s\tremaining: 20.1ms\n",
      "992:\tlearn: 0.0953603\ttotal: 2.49s\tremaining: 17.6ms\n",
      "993:\tlearn: 0.0952945\ttotal: 2.49s\tremaining: 15ms\n",
      "994:\tlearn: 0.0951890\ttotal: 2.49s\tremaining: 12.5ms\n",
      "995:\tlearn: 0.0950254\ttotal: 2.5s\tremaining: 10ms\n",
      "996:\tlearn: 0.0949510\ttotal: 2.5s\tremaining: 7.52ms\n",
      "997:\tlearn: 0.0948252\ttotal: 2.5s\tremaining: 5.01ms\n",
      "998:\tlearn: 0.0947528\ttotal: 2.5s\tremaining: 2.51ms\n",
      "999:\tlearn: 0.0945929\ttotal: 2.51s\tremaining: 0us\n"
     ]
    }
   ],
   "source": [
    "cat = CatBoostClassifier()\n",
    "cat.fit(X_train, Y_train)\n",
    "\n",
    "cat_acc = accuracy_score(Y_test, cat.predict(X_test))"
   ]
  },
  {
   "cell_type": "code",
   "execution_count": 175,
   "metadata": {},
   "outputs": [
    {
     "name": "stdout",
     "output_type": "stream",
     "text": [
      "Training Accuracy of Cat Boost Classifier is 0.9849812265331664\n",
      "Test Accuracy of Cat Boost Classifier is 0.81 \n",
      "\n",
      "Confusion Matrix :- \n",
      "[[130  22]\n",
      " [ 16  32]]\n",
      "\n",
      "Classification Report :- \n",
      "               precision    recall  f1-score   support\n",
      "\n",
      "           0       0.89      0.86      0.87       152\n",
      "           1       0.59      0.67      0.63        48\n",
      "\n",
      "    accuracy                           0.81       200\n",
      "   macro avg       0.74      0.76      0.75       200\n",
      "weighted avg       0.82      0.81      0.81       200\n",
      "\n"
     ]
    }
   ],
   "source": [
    "print(f\"Training Accuracy of Cat Boost Classifier is {accuracy_score(Y_train, cat.predict(X_train))}\")\n",
    "print(f\"Test Accuracy of Cat Boost Classifier is {cat_acc} \\n\")\n",
    "\n",
    "print(f\"Confusion Matrix :- \\n{confusion_matrix(Y_test, cat.predict(X_test))}\\n\")\n",
    "print(f\"Classification Report :- \\n {classification_report(Y_test, cat.predict(X_test))}\")"
   ]
  },
  {
   "cell_type": "markdown",
   "metadata": {},
   "source": [
    "### Feature Importance"
   ]
  },
  {
   "cell_type": "code",
   "execution_count": 176,
   "metadata": {},
   "outputs": [],
   "source": [
    "num = X.select_dtypes(include = np.number)\n",
    "cat = X.select_dtypes(exclude = np.number)\n",
    "\n",
    "feaure_list = num.join(cat)"
   ]
  },
  {
   "cell_type": "code",
   "execution_count": 177,
   "metadata": {},
   "outputs": [
    {
     "name": "stdout",
     "output_type": "stream",
     "text": [
      "                          Features  feature importance\n",
      "25  incident_severity_Major Damage            0.157438\n",
      "12           insured_hobbies_Other            0.061389\n",
      "65                   vehicle_claim            0.050360\n",
      "64                  property_claim            0.050088\n",
      "26  incident_severity_Minor Damage            0.043365\n",
      "..                             ...                 ...\n",
      "19  insured_relationship_unmarried            0.003555\n",
      "11     insured_education_level_PhD            0.003537\n",
      "37               incident_state_PA            0.003010\n",
      "22        incident_type_Parked Car            0.002363\n",
      "36               incident_state_OH            0.001319\n",
      "\n",
      "[67 rows x 2 columns]\n"
     ]
    }
   ],
   "source": [
    "# rfc = RandomForestClassifier(random_state = 42, oob_score = True)\n",
    "\n",
    "#Define function to view important features\n",
    "def feature_importance(estimator, features):\n",
    "    important_features = pd.DataFrame(list(estimator.feature_importances_), columns = ['feature importance'])\n",
    "    features = pd.DataFrame(list(features), columns = ['Features'])\n",
    "    global best_features\n",
    "    best_features = features.join(important_features)\n",
    "    best_features = best_features.sort_values(by = 'feature importance', ascending = False)\n",
    "    print(best_features)\n",
    "    \n",
    "#Apply function on rfc\n",
    "feature_importance(model_rfc, feaure_list)"
   ]
  },
  {
   "cell_type": "code",
   "execution_count": 179,
   "metadata": {},
   "outputs": [
    {
     "name": "stderr",
     "output_type": "stream",
     "text": [
      "C:\\Users\\anilm\\anaconda3\\envs\\zeiss\\lib\\site-packages\\ipykernel_launcher.py:5: FutureWarning:\n",
      "\n",
      "In a future version of pandas all arguments of DataFrame.drop except for the argument 'labels' will be keyword-only\n",
      "\n",
      "C:\\Users\\anilm\\anaconda3\\envs\\zeiss\\lib\\site-packages\\ipykernel_launcher.py:6: FutureWarning:\n",
      "\n",
      "In a future version of pandas all arguments of DataFrame.drop except for the argument 'labels' will be keyword-only\n",
      "\n",
      "C:\\Users\\anilm\\anaconda3\\envs\\zeiss\\lib\\site-packages\\ipykernel_launcher.py:7: FutureWarning:\n",
      "\n",
      "In a future version of pandas all arguments of DataFrame.drop except for the argument 'labels' will be keyword-only\n",
      "\n"
     ]
    }
   ],
   "source": [
    "#Subset best_features on unimportant_features\n",
    "\n",
    "unimportant_features = best_features[best_features['feature importance'] < 0.01]\n",
    "list_unimportant_features = unimportant_features['Features'].tolist()\n",
    "X_train_rfc = X_train_df.drop(list_unimportant_features, 1)\n",
    "X_test_rfc = X_test_df.drop(list_unimportant_features, 1)\n",
    "feaure_list_rfc = feaure_list.drop(list_unimportant_features, 1)"
   ]
  },
  {
   "cell_type": "code",
   "execution_count": null,
   "metadata": {},
   "outputs": [],
   "source": [
    "\n",
    "\n",
    "rfc.fit(X_train_rfc, y_train)"
   ]
  },
  {
   "cell_type": "markdown",
   "metadata": {},
   "source": [
    "### Decision Tree"
   ]
  },
  {
   "cell_type": "code",
   "execution_count": null,
   "metadata": {},
   "outputs": [],
   "source": []
  },
  {
   "cell_type": "code",
   "execution_count": 52,
   "metadata": {},
   "outputs": [
    {
     "name": "stdout",
     "output_type": "stream",
     "text": [
      "Fitting 5 folds for each of 512 candidates, totalling 2560 fits\n"
     ]
    },
    {
     "data": {
      "text/plain": [
       "GridSearchCV(cv=5, estimator=DecisionTreeClassifier(), n_jobs=-1,\n",
       "             param_grid={'criterion': ['gini', 'entropy'],\n",
       "                         'max_depth': [3, 5, 7, 10],\n",
       "                         'min_samples_leaf': range(2, 10),\n",
       "                         'min_samples_split': range(2, 10)},\n",
       "             verbose=1)"
      ]
     },
     "execution_count": 52,
     "metadata": {},
     "output_type": "execute_result"
    }
   ],
   "source": [
    "# hyper parameter tuning\n",
    "\n",
    "\n",
    "\n",
    "grid_params = {\n",
    "    'criterion' : ['gini', 'entropy'],\n",
    "    'max_depth' : [3, 5, 7, 10],\n",
    "    'min_samples_split' : range(2, 10, 1),\n",
    "    'min_samples_leaf' : range(2, 10, 1)\n",
    "}\n",
    "\n",
    "grid_search = GridSearchCV(dtc, grid_params, cv = 5, n_jobs = -1, verbose = 1)\n",
    "grid_search.fit(X_train, y_train)"
   ]
  },
  {
   "cell_type": "code",
   "execution_count": 53,
   "metadata": {},
   "outputs": [
    {
     "name": "stdout",
     "output_type": "stream",
     "text": [
      "{'criterion': 'gini', 'max_depth': 10, 'min_samples_leaf': 8, 'min_samples_split': 5}\n",
      "0.858365878725591\n"
     ]
    }
   ],
   "source": [
    "# best parameters and best score\n",
    "\n",
    "print(grid_search.best_params_)\n",
    "print(grid_search.best_score_)"
   ]
  },
  {
   "cell_type": "code",
   "execution_count": 54,
   "metadata": {},
   "outputs": [],
   "source": [
    "# best estimator \n",
    "\n",
    "dtc = grid_search.best_estimator_\n",
    "\n",
    "y_pred = dtc.predict(X_test)"
   ]
  },
  {
   "cell_type": "code",
   "execution_count": 56,
   "metadata": {},
   "outputs": [
    {
     "name": "stdout",
     "output_type": "stream",
     "text": [
      "Training accuracy of Decision Tree is : 0.9113018597997139\n",
      "Test accuracy of Decision Tree is : 0.7466666666666667\n",
      "[[94 18]\n",
      " [20 18]]\n",
      "              precision    recall  f1-score   support\n",
      "\n",
      "           0       0.82      0.84      0.83       112\n",
      "           1       0.50      0.47      0.49        38\n",
      "\n",
      "    accuracy                           0.75       150\n",
      "   macro avg       0.66      0.66      0.66       150\n",
      "weighted avg       0.74      0.75      0.74       150\n",
      "\n"
     ]
    }
   ],
   "source": [
    "\n",
    "\n",
    "dtc_train_acc = accuracy_score(y_train, dtc.predict(X_train))\n",
    "dtc_test_acc = accuracy_score(Y_test, y_pred)\n",
    "\n",
    "print(f\"Training accuracy of Decision Tree is : {dtc_train_acc}\")\n",
    "print(f\"Test accuracy of Decision Tree is : {dtc_test_acc}\")\n",
    "\n",
    "print(confusion_matrix(Y_test, y_pred))\n",
    "print(classification_report(Y_test, y_pred))"
   ]
  },
  {
   "cell_type": "code",
   "execution_count": 138,
   "metadata": {},
   "outputs": [
    {
     "name": "stderr",
     "output_type": "stream",
     "text": [
      "C:\\Users\\anilm\\anaconda3\\envs\\zeiss\\lib\\site-packages\\sklearn\\ensemble\\_bagging.py:719: DataConversionWarning:\n",
      "\n",
      "A column-vector y was passed when a 1d array was expected. Please change the shape of y to (n_samples, ), for example using ravel().\n",
      "\n"
     ]
    },
    {
     "name": "stdout",
     "output_type": "stream",
     "text": [
      "Training Accuracy:  0.8272841051314143\n",
      "Testing Accuarcy:  0.8\n",
      "              precision    recall  f1-score   support\n",
      "\n",
      "           0       0.95      0.78      0.86       152\n",
      "           1       0.55      0.88      0.68        48\n",
      "\n",
      "    accuracy                           0.80       200\n",
      "   macro avg       0.75      0.83      0.77       200\n",
      "weighted avg       0.86      0.80      0.81       200\n",
      "\n"
     ]
    }
   ],
   "source": [
    "# Easy Ensemble Classifier\n",
    "\n",
    "\n",
    "                 \n",
    "\n",
    "model1 = EasyEnsembleClassifier()\n",
    "\n",
    "model1.fit(X_train, Y_train)\n",
    "y_pred_ef = model1.predict(X_test)\n",
    "\n",
    "print(\"Training Accuracy: \", model1.score(X_train, Y_train))\n",
    "print('Testing Accuarcy: ', model1.score(X_test, Y_test))\n",
    "\n",
    "# making a classification report\n",
    "cr = classification_report(Y_test,  y_pred_ef)\n",
    "print(cr)"
   ]
  },
  {
   "cell_type": "code",
   "execution_count": 165,
   "metadata": {},
   "outputs": [
    {
     "data": {
      "text/plain": [
       "numpy.ndarray"
      ]
     },
     "execution_count": 165,
     "metadata": {},
     "output_type": "execute_result"
    }
   ],
   "source": [
    "type(X_train)"
   ]
  },
  {
   "cell_type": "code",
   "execution_count": 130,
   "metadata": {},
   "outputs": [
    {
     "name": "stdout",
     "output_type": "stream",
     "text": [
      "Training Accuracy of Cat Boost Classifier is 0.9474342928660826\n",
      "Test Accuracy of Cat Boost Classifier is 0.8 \n",
      "\n",
      "Confusion Matrix :- \n",
      "[[136  16]\n",
      " [ 24  24]]\n",
      "\n",
      "Classification Report :- \n",
      "               precision    recall  f1-score   support\n",
      "\n",
      "           0       0.85      0.89      0.87       152\n",
      "           1       0.60      0.50      0.55        48\n",
      "\n",
      "    accuracy                           0.80       200\n",
      "   macro avg       0.72      0.70      0.71       200\n",
      "weighted avg       0.79      0.80      0.79       200\n",
      "\n"
     ]
    }
   ],
   "source": [
    "# accuracy score, confusion matrix and classification report of cat boost\n",
    "\n"
   ]
  }
 ],
 "metadata": {
  "interpreter": {
   "hash": "411a9559551a45b396565ba67c60c5824103901d9a149aa4a1803e9672102111"
  },
  "kernelspec": {
   "display_name": "Python 3.7.12 ('zeiss')",
   "language": "python",
   "name": "python3"
  },
  "language_info": {
   "codemirror_mode": {
    "name": "ipython",
    "version": 3
   },
   "file_extension": ".py",
   "mimetype": "text/x-python",
   "name": "python",
   "nbconvert_exporter": "python",
   "pygments_lexer": "ipython3",
   "version": "3.7.12"
  },
  "orig_nbformat": 4
 },
 "nbformat": 4,
 "nbformat_minor": 2
}
