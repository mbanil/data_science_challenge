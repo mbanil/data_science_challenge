{
 "cells": [
  {
   "cell_type": "code",
   "execution_count": 20,
   "metadata": {},
   "outputs": [],
   "source": [
    "import pandas as pd\n",
    "import pandas_profiling as pp\n",
    "import plotly.express as px\n",
    "import numpy as np\n",
    "\n",
    "from sklearn.model_selection import train_test_split\n",
    "\n",
    "from sklearn.tree import DecisionTreeClassifier\n",
    "from sklearn.model_selection import GridSearchCV\n",
    "from sklearn.ensemble import RandomForestClassifier\n",
    "from imblearn.ensemble import BalancedRandomForestClassifier\n",
    "from sklearn.neighbors import KNeighborsClassifier\n",
    "from catboost import CatBoostClassifier\n",
    "from xgboost import XGBClassifier\n",
    "\n",
    "from sklearn.metrics import accuracy_score\n",
    "from sklearn.metrics import classification_report\n",
    "from sklearn.metrics import confusion_matrix\n",
    "from sklearn.ensemble import RandomForestClassifier\n",
    "\n",
    "from pyspark.sql import SparkSession"
   ]
  },
  {
   "cell_type": "code",
   "execution_count": 21,
   "metadata": {},
   "outputs": [],
   "source": [
    "import json\n",
    "import time\n",
    "import schedule\n",
    "import http.client\n",
    "import pandas as pd"
   ]
  },
  {
   "cell_type": "code",
   "execution_count": 22,
   "metadata": {},
   "outputs": [],
   "source": [
    "df = pd.read_csv(\"./src/data_repo/data/prediction_data.csv\")"
   ]
  },
  {
   "cell_type": "code",
   "execution_count": 23,
   "metadata": {},
   "outputs": [
    {
     "data": {
      "text/html": [
       "<div>\n",
       "<style scoped>\n",
       "    .dataframe tbody tr th:only-of-type {\n",
       "        vertical-align: middle;\n",
       "    }\n",
       "\n",
       "    .dataframe tbody tr th {\n",
       "        vertical-align: top;\n",
       "    }\n",
       "\n",
       "    .dataframe thead th {\n",
       "        text-align: right;\n",
       "    }\n",
       "</style>\n",
       "<table border=\"1\" class=\"dataframe\">\n",
       "  <thead>\n",
       "    <tr style=\"text-align: right;\">\n",
       "      <th></th>\n",
       "      <th>months_as_customer</th>\n",
       "      <th>age</th>\n",
       "      <th>policy_number</th>\n",
       "      <th>policy_bind_date</th>\n",
       "      <th>policy_state</th>\n",
       "      <th>policy_csl</th>\n",
       "      <th>policy_deductable</th>\n",
       "      <th>policy_annual_premium</th>\n",
       "      <th>umbrella_limit</th>\n",
       "      <th>insured_zip</th>\n",
       "      <th>...</th>\n",
       "      <th>bodily_injuries</th>\n",
       "      <th>witnesses</th>\n",
       "      <th>police_report_available</th>\n",
       "      <th>total_claim_amount</th>\n",
       "      <th>injury_claim</th>\n",
       "      <th>property_claim</th>\n",
       "      <th>vehicle_claim</th>\n",
       "      <th>auto_make</th>\n",
       "      <th>auto_model</th>\n",
       "      <th>auto_year</th>\n",
       "    </tr>\n",
       "  </thead>\n",
       "  <tbody>\n",
       "    <tr>\n",
       "      <th>0</th>\n",
       "      <td>286</td>\n",
       "      <td>43</td>\n",
       "      <td>663190</td>\n",
       "      <td>05-02-1994</td>\n",
       "      <td>IL</td>\n",
       "      <td>100/300</td>\n",
       "      <td>500</td>\n",
       "      <td>1564.43</td>\n",
       "      <td>3000000</td>\n",
       "      <td>477644</td>\n",
       "      <td>...</td>\n",
       "      <td>2</td>\n",
       "      <td>2</td>\n",
       "      <td>YES</td>\n",
       "      <td>34290</td>\n",
       "      <td>3810</td>\n",
       "      <td>3810</td>\n",
       "      <td>26670</td>\n",
       "      <td>Jeep</td>\n",
       "      <td>Grand Cherokee</td>\n",
       "      <td>2013</td>\n",
       "    </tr>\n",
       "    <tr>\n",
       "      <th>1</th>\n",
       "      <td>257</td>\n",
       "      <td>44</td>\n",
       "      <td>109392</td>\n",
       "      <td>12-07-2006</td>\n",
       "      <td>OH</td>\n",
       "      <td>100/300</td>\n",
       "      <td>1000</td>\n",
       "      <td>1280.88</td>\n",
       "      <td>0</td>\n",
       "      <td>433981</td>\n",
       "      <td>...</td>\n",
       "      <td>0</td>\n",
       "      <td>1</td>\n",
       "      <td>NO</td>\n",
       "      <td>46980</td>\n",
       "      <td>0</td>\n",
       "      <td>5220</td>\n",
       "      <td>41760</td>\n",
       "      <td>Accura</td>\n",
       "      <td>TL</td>\n",
       "      <td>2002</td>\n",
       "    </tr>\n",
       "    <tr>\n",
       "      <th>2</th>\n",
       "      <td>94</td>\n",
       "      <td>26</td>\n",
       "      <td>215278</td>\n",
       "      <td>24-10-2007</td>\n",
       "      <td>IN</td>\n",
       "      <td>100/300</td>\n",
       "      <td>500</td>\n",
       "      <td>722.66</td>\n",
       "      <td>0</td>\n",
       "      <td>433696</td>\n",
       "      <td>...</td>\n",
       "      <td>1</td>\n",
       "      <td>2</td>\n",
       "      <td>YES</td>\n",
       "      <td>36700</td>\n",
       "      <td>3670</td>\n",
       "      <td>7340</td>\n",
       "      <td>25690</td>\n",
       "      <td>Nissan</td>\n",
       "      <td>Pathfinder</td>\n",
       "      <td>2010</td>\n",
       "    </tr>\n",
       "    <tr>\n",
       "      <th>3</th>\n",
       "      <td>124</td>\n",
       "      <td>28</td>\n",
       "      <td>674570</td>\n",
       "      <td>08-12-2001</td>\n",
       "      <td>OH</td>\n",
       "      <td>250/500</td>\n",
       "      <td>1000</td>\n",
       "      <td>1235.14</td>\n",
       "      <td>0</td>\n",
       "      <td>443567</td>\n",
       "      <td>...</td>\n",
       "      <td>0</td>\n",
       "      <td>1</td>\n",
       "      <td>?</td>\n",
       "      <td>60200</td>\n",
       "      <td>6020</td>\n",
       "      <td>6020</td>\n",
       "      <td>48160</td>\n",
       "      <td>Volkswagen</td>\n",
       "      <td>Passat</td>\n",
       "      <td>2012</td>\n",
       "    </tr>\n",
       "    <tr>\n",
       "      <th>4</th>\n",
       "      <td>141</td>\n",
       "      <td>30</td>\n",
       "      <td>681486</td>\n",
       "      <td>24-03-2007</td>\n",
       "      <td>IN</td>\n",
       "      <td>500/1000</td>\n",
       "      <td>1000</td>\n",
       "      <td>1347.04</td>\n",
       "      <td>0</td>\n",
       "      <td>430665</td>\n",
       "      <td>...</td>\n",
       "      <td>1</td>\n",
       "      <td>2</td>\n",
       "      <td>YES</td>\n",
       "      <td>6480</td>\n",
       "      <td>540</td>\n",
       "      <td>1080</td>\n",
       "      <td>4860</td>\n",
       "      <td>Honda</td>\n",
       "      <td>Civic</td>\n",
       "      <td>1996</td>\n",
       "    </tr>\n",
       "  </tbody>\n",
       "</table>\n",
       "<p>5 rows × 38 columns</p>\n",
       "</div>"
      ],
      "text/plain": [
       "   months_as_customer  age  policy_number policy_bind_date policy_state  \\\n",
       "0                 286   43         663190       05-02-1994           IL   \n",
       "1                 257   44         109392       12-07-2006           OH   \n",
       "2                  94   26         215278       24-10-2007           IN   \n",
       "3                 124   28         674570       08-12-2001           OH   \n",
       "4                 141   30         681486       24-03-2007           IN   \n",
       "\n",
       "  policy_csl  policy_deductable  policy_annual_premium  umbrella_limit  \\\n",
       "0    100/300                500                1564.43         3000000   \n",
       "1    100/300               1000                1280.88               0   \n",
       "2    100/300                500                 722.66               0   \n",
       "3    250/500               1000                1235.14               0   \n",
       "4   500/1000               1000                1347.04               0   \n",
       "\n",
       "   insured_zip  ... bodily_injuries witnesses police_report_available  \\\n",
       "0       477644  ...               2         2                     YES   \n",
       "1       433981  ...               0         1                      NO   \n",
       "2       433696  ...               1         2                     YES   \n",
       "3       443567  ...               0         1                       ?   \n",
       "4       430665  ...               1         2                     YES   \n",
       "\n",
       "  total_claim_amount injury_claim  property_claim  vehicle_claim   auto_make  \\\n",
       "0              34290         3810            3810          26670        Jeep   \n",
       "1              46980            0            5220          41760      Accura   \n",
       "2              36700         3670            7340          25690      Nissan   \n",
       "3              60200         6020            6020          48160  Volkswagen   \n",
       "4               6480          540            1080           4860       Honda   \n",
       "\n",
       "       auto_model auto_year  \n",
       "0  Grand Cherokee      2013  \n",
       "1              TL      2002  \n",
       "2      Pathfinder      2010  \n",
       "3          Passat      2012  \n",
       "4           Civic      1996  \n",
       "\n",
       "[5 rows x 38 columns]"
      ]
     },
     "execution_count": 23,
     "metadata": {},
     "output_type": "execute_result"
    }
   ],
   "source": [
    "df.drop('fraud_reported', inplace = True, axis = 1)\n",
    "df.head()"
   ]
  },
  {
   "cell_type": "code",
   "execution_count": 31,
   "metadata": {},
   "outputs": [],
   "source": [
    "df_1 = df[df['policy_number'] > 918516]"
   ]
  },
  {
   "cell_type": "code",
   "execution_count": 32,
   "metadata": {},
   "outputs": [],
   "source": [
    "df_json = df_1.to_json()"
   ]
  },
  {
   "cell_type": "code",
   "execution_count": 33,
   "metadata": {},
   "outputs": [
    {
     "data": {
      "text/plain": [
       "'{\"months_as_customer\":{\"0\":286,\"3\":124,\"4\":141,\"5\":3,\"7\":130},\"age\":{\"0\":43,\"3\":28,\"4\":30,\"5\":38,\"7\":34},\"policy_number\":{\"0\":663190,\"3\":674570,\"4\":681486,\"5\":941851,\"7\":918516},\"policy_bind_date\":{\"0\":\"05-02-1994\",\"3\":\"08-12-2001\",\"4\":\"24-03-2007\",\"5\":\"16-07-1991\",\"7\":\"17-02-2003\"},\"policy_state\":{\"0\":\"IL\",\"3\":\"OH\",\"4\":\"IN\",\"5\":\"OH\",\"7\":\"OH\"},\"policy_csl\":{\"0\":\"100\\\\/300\",\"3\":\"250\\\\/500\",\"4\":\"500\\\\/1000\",\"5\":\"500\\\\/1000\",\"7\":\"250\\\\/500\"},\"policy_deductable\":{\"0\":500,\"3\":1000,\"4\":1000,\"5\":1000,\"7\":500},\"policy_annual_premium\":{\"0\":1564.43,\"3\":1235.14,\"4\":1347.04,\"5\":1310.8,\"7\":1383.49},\"umbrella_limit\":{\"0\":3000000,\"3\":0,\"4\":0,\"5\":0,\"7\":3000000},\"insured_zip\":{\"0\":477644,\"3\":443567,\"4\":430665,\"5\":431289,\"7\":442797},\"insured_sex\":{\"0\":\"FEMALE\",\"3\":\"MALE\",\"4\":\"MALE\",\"5\":\"FEMALE\",\"7\":\"FEMALE\"},\"insured_education_level\":{\"0\":\"MD\",\"3\":\"MD\",\"4\":\"High School\",\"5\":\"Masters\",\"7\":\"Masters\"},\"insured_occupation\":{\"0\":\"prof-specialty\",\"3\":\"exec-managerial\",\"4\":\"sales\",\"5\":\"craft-repair\",\"7\":\"armed-forces\"},\"insured_hobbies\":{\"0\":\"movies\",\"3\":\"camping\",\"4\":\"bungie-jumping\",\"5\":\"paintball\",\"7\":\"bungie-jumping\"},\"insured_relationship\":{\"0\":\"unmarried\",\"3\":\"husband\",\"4\":\"own-child\",\"5\":\"unmarried\",\"7\":\"other-relative\"},\"capital-gains\":{\"0\":77500,\"3\":0,\"4\":0,\"5\":0,\"7\":35100},\"capital-loss\":{\"0\":-32800,\"3\":-32100,\"4\":-82100,\"5\":0,\"7\":0},\"incident_date\":{\"0\":\"31-01-2015\",\"3\":\"17-02-2015\",\"4\":\"22-01-2015\",\"5\":\"22-02-2015\",\"7\":\"23-01-2015\"},\"incident_type\":{\"0\":\"Single Vehicle Collision\",\"3\":\"Multi-vehicle Collision\",\"4\":\"Parked Car\",\"5\":\"Single Vehicle Collision\",\"7\":\"Multi-vehicle Collision\"},\"collision_type\":{\"0\":\"Rear Collision\",\"3\":\"Side Collision\",\"4\":\"?\",\"5\":\"Front Collision\",\"7\":\"Side Collision\"},\"incident_severity\":{\"0\":\"Minor Damage\",\"3\":\"Total Loss\",\"4\":\"Minor Damage\",\"5\":\"Minor Damage\",\"7\":\"Minor Damage\"},\"authorities_contacted\":{\"0\":\"Fire\",\"3\":\"Other\",\"4\":\"None\",\"5\":\"Fire\",\"7\":\"Police\"},\"incident_state\":{\"0\":\"NY\",\"3\":\"OH\",\"4\":\"SC\",\"5\":\"NC\",\"7\":\"NC\"},\"incident_city\":{\"0\":\"Northbrook\",\"3\":\"Hillsdale\",\"4\":\"Northbend\",\"5\":\"Northbrook\",\"7\":\"Arlington\"},\"incident_location\":{\"0\":\"4755 1st St\",\"3\":\"1643 Washington Hwy\",\"4\":\"6516 Solo Drive\",\"5\":\"6045 Andromedia St\",\"7\":\"7629 5th St\"},\"incident_hour_of_the_day\":{\"0\":18,\"3\":20,\"4\":6,\"5\":20,\"7\":4},\"number_of_vehicles_involved\":{\"0\":1,\"3\":3,\"4\":1,\"5\":1,\"7\":3},\"property_damage\":{\"0\":\"?\",\"3\":\"?\",\"4\":\"?\",\"5\":\"YES\",\"7\":\"?\"},\"bodily_injuries\":{\"0\":2,\"3\":0,\"4\":1,\"5\":0,\"7\":2},\"witnesses\":{\"0\":2,\"3\":1,\"4\":2,\"5\":1,\"7\":3},\"police_report_available\":{\"0\":\"YES\",\"3\":\"?\",\"4\":\"YES\",\"5\":\"?\",\"7\":\"YES\"},\"total_claim_amount\":{\"0\":34290,\"3\":60200,\"4\":6480,\"5\":87200,\"7\":67500},\"injury_claim\":{\"0\":3810,\"3\":6020,\"4\":540,\"5\":17440,\"7\":7500},\"property_claim\":{\"0\":3810,\"3\":6020,\"4\":1080,\"5\":8720,\"7\":7500},\"vehicle_claim\":{\"0\":26670,\"3\":48160,\"4\":4860,\"5\":61040,\"7\":52500},\"auto_make\":{\"0\":\"Jeep\",\"3\":\"Volkswagen\",\"4\":\"Honda\",\"5\":\"Honda\",\"7\":\"Suburu\"},\"auto_model\":{\"0\":\"Grand Cherokee\",\"3\":\"Passat\",\"4\":\"Civic\",\"5\":\"Accord\",\"7\":\"Impreza\"},\"auto_year\":{\"0\":2013,\"3\":2012,\"4\":1996,\"5\":2006,\"7\":1996}}'"
      ]
     },
     "execution_count": 33,
     "metadata": {},
     "output_type": "execute_result"
    }
   ],
   "source": [
    "df_json"
   ]
  },
  {
   "cell_type": "code",
   "execution_count": 19,
   "metadata": {},
   "outputs": [
    {
     "data": {
      "text/plain": [
       "'{\"months_as_customer\":{\"0\":286,\"1\":257,\"2\":94,\"3\":124,\"4\":141,\"5\":3,\"6\":285,\"7\":130,\"8\":458,\"9\":456},\"age\":{\"0\":43,\"1\":44,\"2\":26,\"3\":28,\"4\":30,\"5\":38,\"6\":41,\"7\":34,\"8\":62,\"9\":60},\"policy_number\":{\"0\":663190,\"1\":109392,\"2\":215278,\"3\":674570,\"4\":681486,\"5\":941851,\"6\":186934,\"7\":918516,\"8\":533940,\"9\":556080},\"policy_bind_date\":{\"0\":\"05-02-1994\",\"1\":\"12-07-2006\",\"2\":\"24-10-2007\",\"3\":\"08-12-2001\",\"4\":\"24-03-2007\",\"5\":\"16-07-1991\",\"6\":\"05-01-2014\",\"7\":\"17-02-2003\",\"8\":\"18-11-2011\",\"9\":\"11-11-1996\"},\"policy_state\":{\"0\":\"IL\",\"1\":\"OH\",\"2\":\"IN\",\"3\":\"OH\",\"4\":\"IN\",\"5\":\"OH\",\"6\":\"IL\",\"7\":\"OH\",\"8\":\"IL\",\"9\":\"OH\"},\"policy_csl\":{\"0\":\"100\\\\/300\",\"1\":\"100\\\\/300\",\"2\":\"100\\\\/300\",\"3\":\"250\\\\/500\",\"4\":\"500\\\\/1000\",\"5\":\"500\\\\/1000\",\"6\":\"100\\\\/300\",\"7\":\"250\\\\/500\",\"8\":\"500\\\\/1000\",\"9\":\"250\\\\/500\"},\"policy_deductable\":{\"0\":500,\"1\":1000,\"2\":500,\"3\":1000,\"4\":1000,\"5\":1000,\"6\":1000,\"7\":500,\"8\":2000,\"9\":1000},\"policy_annual_premium\":{\"0\":1564.43,\"1\":1280.88,\"2\":722.66,\"3\":1235.14,\"4\":1347.04,\"5\":1310.8,\"6\":1436.79,\"7\":1383.49,\"8\":1356.92,\"9\":766.19},\"umbrella_limit\":{\"0\":3000000,\"1\":0,\"2\":0,\"3\":0,\"4\":0,\"5\":0,\"6\":0,\"7\":3000000,\"8\":5000000,\"9\":0},\"insured_zip\":{\"0\":477644,\"1\":433981,\"2\":433696,\"3\":443567,\"4\":430665,\"5\":431289,\"6\":608177,\"7\":442797,\"8\":441714,\"9\":612260},\"insured_sex\":{\"0\":\"FEMALE\",\"1\":\"MALE\",\"2\":\"MALE\",\"3\":\"MALE\",\"4\":\"MALE\",\"5\":\"FEMALE\",\"6\":\"FEMALE\",\"7\":\"FEMALE\",\"8\":\"MALE\",\"9\":\"FEMALE\"},\"insured_education_level\":{\"0\":\"MD\",\"1\":\"MD\",\"2\":\"MD\",\"3\":\"MD\",\"4\":\"High School\",\"5\":\"Masters\",\"6\":\"PhD\",\"7\":\"Masters\",\"8\":\"Associate\",\"9\":\"Associate\"},\"insured_occupation\":{\"0\":\"prof-specialty\",\"1\":\"other-service\",\"2\":\"exec-managerial\",\"3\":\"exec-managerial\",\"4\":\"sales\",\"5\":\"craft-repair\",\"6\":\"prof-specialty\",\"7\":\"armed-forces\",\"8\":\"handlers-cleaners\",\"9\":\"sales\"},\"insured_hobbies\":{\"0\":\"movies\",\"1\":\"basketball\",\"2\":\"camping\",\"3\":\"camping\",\"4\":\"bungie-jumping\",\"5\":\"paintball\",\"6\":\"sleeping\",\"7\":\"bungie-jumping\",\"8\":\"base-jumping\",\"9\":\"kayaking\"},\"insured_relationship\":{\"0\":\"unmarried\",\"1\":\"other-relative\",\"2\":\"husband\",\"3\":\"husband\",\"4\":\"own-child\",\"5\":\"unmarried\",\"6\":\"wife\",\"7\":\"other-relative\",\"8\":\"wife\",\"9\":\"husband\"},\"capital-gains\":{\"0\":77500,\"1\":59400,\"2\":50300,\"3\":0,\"4\":0,\"5\":0,\"6\":70900,\"7\":35100,\"8\":0,\"9\":0},\"capital-loss\":{\"0\":-32800,\"1\":-32200,\"2\":0,\"3\":-32100,\"4\":-82100,\"5\":0,\"6\":0,\"7\":0,\"8\":0,\"9\":0},\"incident_date\":{\"0\":\"31-01-2015\",\"1\":\"06-02-2015\",\"2\":\"23-01-2015\",\"3\":\"17-02-2015\",\"4\":\"22-01-2015\",\"5\":\"22-02-2015\",\"6\":\"24-01-2015\",\"7\":\"23-01-2015\",\"8\":\"26-02-2015\",\"9\":\"26-02-2015\"},\"incident_type\":{\"0\":\"Single Vehicle Collision\",\"1\":\"Single Vehicle Collision\",\"2\":\"Multi-vehicle Collision\",\"3\":\"Multi-vehicle Collision\",\"4\":\"Parked Car\",\"5\":\"Single Vehicle Collision\",\"6\":\"Single Vehicle Collision\",\"7\":\"Multi-vehicle Collision\",\"8\":\"Single Vehicle Collision\",\"9\":\"Parked Car\"},\"collision_type\":{\"0\":\"Rear Collision\",\"1\":\"Rear Collision\",\"2\":\"Front Collision\",\"3\":\"Side Collision\",\"4\":\"?\",\"5\":\"Front Collision\",\"6\":\"Rear Collision\",\"7\":\"Side Collision\",\"8\":\"Rear Collision\",\"9\":\"?\"},\"incident_severity\":{\"0\":\"Minor Damage\",\"1\":\"Total Loss\",\"2\":\"Major Damage\",\"3\":\"Total Loss\",\"4\":\"Minor Damage\",\"5\":\"Minor Damage\",\"6\":\"Major Damage\",\"7\":\"Minor Damage\",\"8\":\"Major Damage\",\"9\":\"Minor Damage\"},\"authorities_contacted\":{\"0\":\"Fire\",\"1\":\"Other\",\"2\":\"Fire\",\"3\":\"Other\",\"4\":\"None\",\"5\":\"Fire\",\"6\":\"Fire\",\"7\":\"Police\",\"8\":\"Other\",\"9\":\"Police\"},\"incident_state\":{\"0\":\"NY\",\"1\":\"WV\",\"2\":\"OH\",\"3\":\"OH\",\"4\":\"SC\",\"5\":\"NC\",\"6\":\"SC\",\"7\":\"NC\",\"8\":\"NY\",\"9\":\"WV\"},\"incident_city\":{\"0\":\"Northbrook\",\"1\":\"Riverwood\",\"2\":\"Springfield\",\"3\":\"Hillsdale\",\"4\":\"Northbend\",\"5\":\"Northbrook\",\"6\":\"Northbend\",\"7\":\"Arlington\",\"8\":\"Arlington\",\"9\":\"Columbus\"},\"incident_location\":{\"0\":\"4755 1st St\",\"1\":\"5312 Francis Ridge\",\"2\":\"1705 Weaver St\",\"3\":\"1643 Washington Hwy\",\"4\":\"6516 Solo Drive\",\"5\":\"6045 Andromedia St\",\"6\":\"3092 Texas Drive\",\"7\":\"7629 5th St\",\"8\":\"6128 Elm Lane\",\"9\":\"1416 Cherokee Ridge\"},\"incident_hour_of_the_day\":{\"0\":18,\"1\":21,\"2\":6,\"3\":20,\"4\":6,\"5\":20,\"6\":23,\"7\":4,\"8\":2,\"9\":6},\"number_of_vehicles_involved\":{\"0\":1,\"1\":1,\"2\":3,\"3\":3,\"4\":1,\"5\":1,\"6\":1,\"7\":3,\"8\":1,\"9\":1},\"property_damage\":{\"0\":\"?\",\"1\":\"NO\",\"2\":\"YES\",\"3\":\"?\",\"4\":\"?\",\"5\":\"YES\",\"6\":\"YES\",\"7\":\"?\",\"8\":\"?\",\"9\":\"?\"},\"bodily_injuries\":{\"0\":2,\"1\":0,\"2\":1,\"3\":0,\"4\":1,\"5\":0,\"6\":2,\"7\":2,\"8\":0,\"9\":0},\"witnesses\":{\"0\":2,\"1\":1,\"2\":2,\"3\":1,\"4\":2,\"5\":1,\"6\":3,\"7\":3,\"8\":1,\"9\":3},\"police_report_available\":{\"0\":\"YES\",\"1\":\"NO\",\"2\":\"YES\",\"3\":\"?\",\"4\":\"YES\",\"5\":\"?\",\"6\":\"?\",\"7\":\"YES\",\"8\":\"YES\",\"9\":\"?\"},\"total_claim_amount\":{\"0\":34290,\"1\":46980,\"2\":36700,\"3\":60200,\"4\":6480,\"5\":87200,\"6\":108480,\"7\":67500,\"8\":46980,\"9\":5060},\"injury_claim\":{\"0\":3810,\"1\":0,\"2\":3670,\"3\":6020,\"4\":540,\"5\":17440,\"6\":18080,\"7\":7500,\"8\":5220,\"9\":460},\"property_claim\":{\"0\":3810,\"1\":5220,\"2\":7340,\"3\":6020,\"4\":1080,\"5\":8720,\"6\":18080,\"7\":7500,\"8\":5220,\"9\":920},\"vehicle_claim\":{\"0\":26670,\"1\":41760,\"2\":25690,\"3\":48160,\"4\":4860,\"5\":61040,\"6\":72320,\"7\":52500,\"8\":36540,\"9\":3680},\"auto_make\":{\"0\":\"Jeep\",\"1\":\"Accura\",\"2\":\"Nissan\",\"3\":\"Volkswagen\",\"4\":\"Honda\",\"5\":\"Honda\",\"6\":\"Volkswagen\",\"7\":\"Suburu\",\"8\":\"Audi\",\"9\":\"Mercedes\"},\"auto_model\":{\"0\":\"Grand Cherokee\",\"1\":\"TL\",\"2\":\"Pathfinder\",\"3\":\"Passat\",\"4\":\"Civic\",\"5\":\"Accord\",\"6\":\"Passat\",\"7\":\"Impreza\",\"8\":\"A5\",\"9\":\"E400\"},\"auto_year\":{\"0\":2013,\"1\":2002,\"2\":2010,\"3\":2012,\"4\":1996,\"5\":2006,\"6\":2015,\"7\":1996,\"8\":1998,\"9\":2007}}'"
      ]
     },
     "execution_count": 19,
     "metadata": {},
     "output_type": "execute_result"
    }
   ],
   "source": [
    "df_json"
   ]
  },
  {
   "cell_type": "code",
   "execution_count": 10,
   "metadata": {},
   "outputs": [],
   "source": [
    "# Serializing json \n",
    "json_object = json.dumps(df_json, indent = 4)\n",
    "  \n",
    "# Writing to sample.json\n",
    "with open(\"sample.json\", \"w\") as outfile:\n",
    "    outfile.write(json_object)"
   ]
  },
  {
   "cell_type": "code",
   "execution_count": null,
   "metadata": {},
   "outputs": [],
   "source": [
    "c = http.client.HTTPConnection('127.0.0.1', 8000)\n",
    "data = pd.read_csv('Data_repository/Data/test.csv')\n",
    "data = data.to_json()\n",
    "c.request('POST', '/get_prediction_results', json.dumps(data))\n",
    "result = c.getresponse().read()\n",
    "prediction_result = json.loads(result)\n",
    "prediction_result_df = pd.read_json(prediction_result)\n",
    "print(prediction_result_df.head())\n",
    "return prediction_result_df\n",
    "    \n",
    "\n",
    "if __name__ == '__main__':\n",
    "    schedule.every(0).minutes.do(get_prediction_result)\n",
    "    while True:\n",
    "        schedule.run_pending()\n",
    "        time.sleep(1)"
   ]
  },
  {
   "cell_type": "code",
   "execution_count": 7,
   "metadata": {},
   "outputs": [],
   "source": [
    "data = '{\"months_as_customer\":{\"0\":328},\"age\":{\"0\":48},\"policy_number\":{\"0\":521585},\"policy_bind_date\":{\"0\":1413504000000},\"policy_state\":{\"0\":\"OH\"},\"policy_csl\":{\"0\":\"250\\\\/500\"},\"policy_deductable\":{\"0\":1000},\"policy_annual_premium\":{\"0\":1406.91},\"umbrella_limit\":{\"0\":0},\"insured_zip\":{\"0\":466132},\"insured_sex\":{\"0\":\"MALE\"},\"insured_education_level\":{\"0\":\"MD\"},\"insured_occupation\":{\"0\":\"craft-repair\"},\"insured_hobbies\":{\"0\":\"sleeping\"},\"insured_relationship\":{\"0\":\"husband\"},\"capital-gains\":{\"0\":53300},\"capital-loss\":{\"0\":0},\"incident_date\":{\"0\":1422144000000},\"incident_type\":{\"0\":\"Single Vehicle Collision\"},\"collision_type\":{\"0\":\"Side Collision\"},\"incident_severity\":{\"0\":\"Major Damage\"},\"authorities_contacted\":{\"0\":\"Police\"},\"incident_state\":{\"0\":\"SC\"},\"incident_city\":{\"0\":\"Columbus\"},\"incident_location\":{\"0\":\"9935 4th Drive\"},\"incident_hour_of_the_day\":{\"0\":5},\"number_of_vehicles_involved\":{\"0\":1},\"property_damage\":{\"0\":\"YES\"},\"bodily_injuries\":{\"0\":1},\"witnesses\":{\"0\":2},\"police_report_available\":{\"0\":\"YES\"},\"total_claim_amount\":{\"0\":71610},\"injury_claim\":{\"0\":6510},\"property_claim\":{\"0\":13020},\"vehicle_claim\":{\"0\":52080},\"auto_make\":{\"0\":\"Saab\"},\"auto_model\":{\"0\":\"92x\"},\"auto_year\":{\"0\":2004},\"fraud_reported\":{\"0\":\"Y\"}}'\n"
   ]
  },
  {
   "cell_type": "code",
   "execution_count": 8,
   "metadata": {},
   "outputs": [],
   "source": [
    "a_json = json.loads(data)\n"
   ]
  },
  {
   "cell_type": "code",
   "execution_count": 9,
   "metadata": {},
   "outputs": [],
   "source": [
    "df_pandas = pd.DataFrame.from_dict(a_json)\n",
    "df_spark = spark.createDataFrame(df_pandas)\n",
    "\n"
   ]
  },
  {
   "cell_type": "code",
   "execution_count": 10,
   "metadata": {},
   "outputs": [],
   "source": [
    "import sys\n",
    "import argparse\n",
    "\n",
    "def get_args():\n",
    "\n",
    "    parser = argparse.ArgumentParser(description='Zeiss Task')\n",
    "\n",
    "\n",
    "    parser.add_argument(\"--app_name\", type=str, default=\"Zeiss_classification_task\")\n",
    "    parser.add_argument(\"--data_filename\", type=str, default=\"./data/insurance_claims.csv\",\n",
    "                                    help=\"data file in csv format\")\n",
    "    parser.add_argument(\"--columns_to_drop\", type=list, \n",
    "                        default=['policy_number','policy_bind_date','policy_state','insured_zip','incident_location',\n",
    "                        'incident_date','auto_make','auto_model','insured_occupation','age', 'total_claim_amount'])\n",
    "    parser.add_argument(\"--store_schema\", type=bool, default=False)\n",
    "    parser.add_argument(\"--schema_path\", type=str, default=\"/src/data/feature_store/\")\n",
    "    parser.add_argument(\"--columns_to_encode\", type=list, \n",
    "                        default=['policy_csl', 'insured_sex', 'insured_education_level','insured_hobbies', 'insured_relationship',\n",
    "                        'incident_type', 'incident_severity','authorities_contacted', 'incident_state', 'incident_city','collision_type'])\n",
    "    parser.add_argument(\"--preprocess_hobbies\", type=bool, default=True)\n",
    "    parser.add_argument(\"--tune_hyper_params\", type=bool, default=False)\n",
    "    parser.add_argument(\"--best_hyper_params_filepath\", type=str, default='/src/data/best_hyper_params')\n",
    "    parser.add_argument(\"--model_path\", type=str, default='/src/model')\n",
    "    parser.add_argument(\"--hyper_params\", type=dict, \n",
    "                        default={'criterion': 'gini', \n",
    "                                    'max_depth': 5, \n",
    "                                    'min_samples_leaf': 2, \n",
    "                                    'min_samples_split': 2\n",
    "                                    })\n",
    "    parser.add_argument(\"--target\", type=str, default='fraud_reported')\n",
    "\n",
    "    return parser.parse_args()\n",
    "\n"
   ]
  },
  {
   "cell_type": "code",
   "execution_count": 11,
   "metadata": {},
   "outputs": [],
   "source": [
    "sys.argv = sys.argv[10:]"
   ]
  },
  {
   "cell_type": "code",
   "execution_count": 12,
   "metadata": {},
   "outputs": [],
   "source": [
    "args = get_args()"
   ]
  },
  {
   "cell_type": "code",
   "execution_count": 14,
   "metadata": {},
   "outputs": [
    {
     "ename": "AttributeError",
     "evalue": "'OneHotEncoder' object has no attribute 'fit'",
     "output_type": "error",
     "traceback": [
      "\u001b[1;31m---------------------------------------------------------------------------\u001b[0m",
      "\u001b[1;31mAttributeError\u001b[0m                            Traceback (most recent call last)",
      "\u001b[1;32m~\\AppData\\Local\\Temp\\ipykernel_2308\\1288120579.py\u001b[0m in \u001b[0;36m<module>\u001b[1;34m\u001b[0m\n\u001b[0;32m      1\u001b[0m \u001b[1;32mfrom\u001b[0m \u001b[0msrc\u001b[0m\u001b[1;33m.\u001b[0m\u001b[0mutils\u001b[0m\u001b[1;33m.\u001b[0m\u001b[0mutils\u001b[0m \u001b[1;32mimport\u001b[0m  \u001b[0mdata_preprocessing\u001b[0m\u001b[1;33m\u001b[0m\u001b[1;33m\u001b[0m\u001b[0m\n\u001b[0;32m      2\u001b[0m \u001b[1;33m\u001b[0m\u001b[0m\n\u001b[1;32m----> 3\u001b[1;33m \u001b[0mdf_processed\u001b[0m \u001b[1;33m=\u001b[0m \u001b[0mdata_preprocessing\u001b[0m\u001b[1;33m(\u001b[0m\u001b[0mdf_spark\u001b[0m\u001b[1;33m,\u001b[0m \u001b[0margs\u001b[0m\u001b[1;33m)\u001b[0m\u001b[1;33m\u001b[0m\u001b[1;33m\u001b[0m\u001b[0m\n\u001b[0m\u001b[0;32m      4\u001b[0m \u001b[1;33m\u001b[0m\u001b[0m\n",
      "\u001b[1;32mc:\\My Documents\\zeiss_task\\src\\utils\\utils.py\u001b[0m in \u001b[0;36mdata_preprocessing\u001b[1;34m(df, args)\u001b[0m\n\u001b[0;32m     39\u001b[0m \u001b[1;33m\u001b[0m\u001b[0m\n\u001b[0;32m     40\u001b[0m     \u001b[1;32mfor\u001b[0m \u001b[0mcol\u001b[0m \u001b[1;32min\u001b[0m \u001b[0margs\u001b[0m\u001b[1;33m.\u001b[0m\u001b[0mcolumns_to_encode\u001b[0m\u001b[1;33m:\u001b[0m\u001b[1;33m\u001b[0m\u001b[1;33m\u001b[0m\u001b[0m\n\u001b[1;32m---> 41\u001b[1;33m         \u001b[0mdf\u001b[0m \u001b[1;33m=\u001b[0m \u001b[0mencode_data\u001b[0m\u001b[1;33m(\u001b[0m\u001b[0mdf\u001b[0m\u001b[1;33m,\u001b[0m \u001b[0mcol\u001b[0m\u001b[1;33m,\u001b[0m \u001b[0margs\u001b[0m\u001b[1;33m.\u001b[0m\u001b[0mstore_schema\u001b[0m\u001b[1;33m,\u001b[0m \u001b[0margs\u001b[0m\u001b[1;33m.\u001b[0m\u001b[0mschema_path\u001b[0m\u001b[1;33m)\u001b[0m\u001b[1;33m\u001b[0m\u001b[1;33m\u001b[0m\u001b[0m\n\u001b[0m\u001b[0;32m     42\u001b[0m \u001b[1;33m\u001b[0m\u001b[0m\n\u001b[0;32m     43\u001b[0m     \u001b[1;32mreturn\u001b[0m \u001b[0mdf\u001b[0m\u001b[1;33m\u001b[0m\u001b[1;33m\u001b[0m\u001b[0m\n",
      "\u001b[1;32mc:\\My Documents\\zeiss_task\\src\\utils\\utils.py\u001b[0m in \u001b[0;36mencode_data\u001b[1;34m(df, col, storeSchema, schema_path)\u001b[0m\n\u001b[0;32m    140\u001b[0m     \u001b[1;32melse\u001b[0m\u001b[1;33m:\u001b[0m\u001b[1;33m\u001b[0m\u001b[1;33m\u001b[0m\u001b[0m\n\u001b[0;32m    141\u001b[0m         \u001b[0mindexer\u001b[0m \u001b[1;33m=\u001b[0m \u001b[0mStringIndexer\u001b[0m\u001b[1;33m.\u001b[0m\u001b[0mload\u001b[0m\u001b[1;33m(\u001b[0m\u001b[0mos\u001b[0m\u001b[1;33m.\u001b[0m\u001b[0mgetcwd\u001b[0m\u001b[1;33m(\u001b[0m\u001b[1;33m)\u001b[0m \u001b[1;33m+\u001b[0m \u001b[0mschema_path\u001b[0m \u001b[1;33m+\u001b[0m \u001b[1;34m'/schemaData/StringIndexer/'\u001b[0m \u001b[1;33m+\u001b[0m \u001b[0mcol\u001b[0m\u001b[1;33m)\u001b[0m\u001b[1;33m\u001b[0m\u001b[1;33m\u001b[0m\u001b[0m\n\u001b[1;32m--> 142\u001b[1;33m         \u001b[0mdf\u001b[0m \u001b[1;33m=\u001b[0m \u001b[0mindexer\u001b[0m\u001b[1;33m.\u001b[0m\u001b[0mfit\u001b[0m\u001b[1;33m(\u001b[0m\u001b[0mdf\u001b[0m\u001b[1;33m)\u001b[0m\u001b[1;33m.\u001b[0m\u001b[0mtransform\u001b[0m\u001b[1;33m(\u001b[0m\u001b[0mdf\u001b[0m\u001b[1;33m)\u001b[0m\u001b[1;33m\u001b[0m\u001b[1;33m\u001b[0m\u001b[0m\n\u001b[0m\u001b[0;32m    143\u001b[0m         \u001b[0monehotencoder\u001b[0m \u001b[1;33m=\u001b[0m \u001b[0mOneHotEncoder\u001b[0m\u001b[1;33m.\u001b[0m\u001b[0mload\u001b[0m\u001b[1;33m(\u001b[0m\u001b[0mos\u001b[0m\u001b[1;33m.\u001b[0m\u001b[0mgetcwd\u001b[0m\u001b[1;33m(\u001b[0m\u001b[1;33m)\u001b[0m \u001b[1;33m+\u001b[0m \u001b[0mschema_path\u001b[0m \u001b[1;33m+\u001b[0m \u001b[1;34m'/schemaData/OneHotEncoder/'\u001b[0m \u001b[1;33m+\u001b[0m \u001b[0mcol\u001b[0m\u001b[1;33m)\u001b[0m\u001b[1;33m\u001b[0m\u001b[1;33m\u001b[0m\u001b[0m\n\u001b[0;32m    144\u001b[0m         \u001b[0mdf\u001b[0m \u001b[1;33m=\u001b[0m \u001b[0monehotencoder\u001b[0m\u001b[1;33m.\u001b[0m\u001b[0mtransform\u001b[0m\u001b[1;33m(\u001b[0m\u001b[0mdf\u001b[0m\u001b[1;33m)\u001b[0m\u001b[1;33m\u001b[0m\u001b[1;33m\u001b[0m\u001b[0m\n",
      "\u001b[1;31mAttributeError\u001b[0m: 'OneHotEncoder' object has no attribute 'fit'"
     ]
    }
   ],
   "source": [
    "from src.utils.utils import  data_preprocessing\n",
    "\n",
    "df_processed = data_preprocessing(df_spark, args)\n",
    "\n"
   ]
  },
  {
   "cell_type": "code",
   "execution_count": 29,
   "metadata": {},
   "outputs": [],
   "source": [
    "from pyspark.ml.feature import StringIndexer\n",
    "\n",
    "indexer = StringIndexer.load(os.getcwd() + args.schema_path + '/schemaData/' + 'incident_city')"
   ]
  },
  {
   "cell_type": "code",
   "execution_count": 32,
   "metadata": {},
   "outputs": [
    {
     "data": {
      "text/plain": [
       "pyspark.ml.feature.StringIndexer"
      ]
     },
     "execution_count": 32,
     "metadata": {},
     "output_type": "execute_result"
    }
   ],
   "source": []
  },
  {
   "cell_type": "code",
   "execution_count": 33,
   "metadata": {},
   "outputs": [],
   "source": [
    "import pickle\n"
   ]
  },
  {
   "cell_type": "code",
   "execution_count": null,
   "metadata": {},
   "outputs": [],
   "source": []
  }
 ],
 "metadata": {
  "interpreter": {
   "hash": "411a9559551a45b396565ba67c60c5824103901d9a149aa4a1803e9672102111"
  },
  "kernelspec": {
   "display_name": "Python 3.7.12 ('zeiss')",
   "language": "python",
   "name": "python3"
  },
  "language_info": {
   "codemirror_mode": {
    "name": "ipython",
    "version": 3
   },
   "file_extension": ".py",
   "mimetype": "text/x-python",
   "name": "python",
   "nbconvert_exporter": "python",
   "pygments_lexer": "ipython3",
   "version": "3.7.12"
  },
  "orig_nbformat": 4
 },
 "nbformat": 4,
 "nbformat_minor": 2
}
